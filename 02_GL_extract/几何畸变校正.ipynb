{
 "cells": [
  {
   "cell_type": "markdown",
   "id": "40e38fe1-3a16-4668-8bfb-f6d075a9e9f3",
   "metadata": {},
   "source": [
    "# 几何畸变校正探索"
   ]
  },
  {
   "cell_type": "code",
   "execution_count": 1,
   "id": "4414d488-43e1-4ca4-a84c-a30188d52b8e",
   "metadata": {},
   "outputs": [
    {
     "data": {
      "text/plain": "<IPython.core.display.HTML object>",
      "text/html": "<p>To authorize access needed by Earth Engine, open the following\n        URL in a web browser and follow the instructions:</p>\n        <p><a href=https://code.earthengine.google.com/client-auth?scopes=https%3A//www.googleapis.com/auth/earthengine%20https%3A//www.googleapis.com/auth/devstorage.full_control&request_id=DCzgxF_n-JGGYMviuVq9b0eCy1-i6xhQGmo10Pe9YME&tc=vibBjZ7BsynwfKGRxBoaytUM6N-Rx2TB68yO833B6c4&cc=6z2euqZ_KDIzWG4xMK1oYKKT5VS6gFZbay3uxu6RbnY>https://code.earthengine.google.com/client-auth?scopes=https%3A//www.googleapis.com/auth/earthengine%20https%3A//www.googleapis.com/auth/devstorage.full_control&request_id=DCzgxF_n-JGGYMviuVq9b0eCy1-i6xhQGmo10Pe9YME&tc=vibBjZ7BsynwfKGRxBoaytUM6N-Rx2TB68yO833B6c4&cc=6z2euqZ_KDIzWG4xMK1oYKKT5VS6gFZbay3uxu6RbnY</a></p>\n        <p>The authorization workflow will generate a code, which you should paste in the box below.</p>\n        "
     },
     "metadata": {},
     "output_type": "display_data"
    },
    {
     "name": "stdout",
     "output_type": "stream",
     "text": [
      "\n",
      "Successfully saved authorization token.\n",
      "geemap version = 0.17.2\n",
      "geemap path = ['D:\\\\Code_base\\\\anaconda\\\\envs\\\\s1s2cloud_rm\\\\lib\\\\site-packages\\\\geemap']\n"
     ]
    }
   ],
   "source": [
    "import os,tarfile,sys\n",
    "import ee\n",
    "import geemap\n",
    "import numpy as np\n",
    "import pandas as pd\n",
    "import eerepr\n",
    "import folium\n",
    "import copy\n",
    "import math\n",
    "from tqdm import trange,tqdm\n",
    "from functools import partial\n",
    "import geopandas as gpd\n",
    "geemap.set_proxy(port=10809)\n",
    "ee.Authenticate()\n",
    "ee.Initialize()\n",
    "print('geemap version = {}\\ngeemap path = {}'.format(geemap.__version__,geemap.__path__))"
   ]
  },
  {
   "cell_type": "markdown",
   "source": [
    "# 预加载SHP数据"
   ],
   "metadata": {
    "collapsed": false
   }
  },
  {
   "cell_type": "code",
   "execution_count": 2,
   "id": "5291f7cb-9836-4c9f-9a97-5ccadbffcd94",
   "metadata": {},
   "outputs": [],
   "source": [
    "Glacial_lake_2015A = ee.FeatureCollection(\n",
    "    'projects/ee-mrwurenzhe/assets/Glacial_lake/Wu_Asia_Southest_GL_wgs84').filter(ee.Filter.gte('GL_Area', 0.1))\n",
    "    #projects/ee-mrwurenzhe/assets/Glacial_lake/Checkout_polygen\n",
    "\n",
    "# 计算geometry、质心点、最小包络矩形\n",
    "Geo_ext = lambda feature: feature.set({\n",
    "    'Geo': feature.geometry(),\n",
    "    'Centroid': feature.geometry().centroid(),\n",
    "    'Rectangle': feature.geometry().bounds()\n",
    "})\n",
    "\n",
    "Centrid_set = lambda feature: feature.setGeometry(feature.geometry().centroid())\n",
    "Rectangle_set = lambda feature: feature.setGeometry(feature.geometry().bounds())\n",
    "\n",
    "Glacial_lake_2015C = Glacial_lake_2015A.map(Geo_ext).map(Centrid_set)  # 添加属性,修改geometry,计算质心\n",
    "Glacial_lake_2015R = Glacial_lake_2015A.map(Rectangle_set)       # 计算最小包络矩形\n",
    "\n",
    "#抽取属性作为list\n",
    "Glacial_lake_2015A_GeoList = ee.List(Glacial_lake_2015C.reduceColumns(ee.Reducer.toList(), ['Geo']).get('list'))\n",
    "Glacial_lake_2015C_CentriodList = ee.List(Glacial_lake_2015C.reduceColumns(ee.Reducer.toList(),['Centroid']).get('list'))\n",
    "Glacial_lake_2015R_RectangleList = ee.List(Glacial_lake_2015C.reduceColumns(ee.Reducer.toList(),['Rectangle']).get('list'))\n",
    "Num_list = Glacial_lake_2015C_CentriodList.size().getInfo()"
   ]
  },
  {
   "cell_type": "markdown",
   "source": [
    "# Slop correction"
   ],
   "metadata": {
    "collapsed": false
   }
  },
  {
   "cell_type": "code",
   "execution_count": 3,
   "id": "7a07fd36-5c17-4f9e-9ac8-5f7ec8be2bd8",
   "metadata": {
    "tags": []
   },
   "outputs": [],
   "source": [
    "#-----------------------------------------------地形校正-----------------------------------------\n",
    "def slope_correction(collection, elevation, model, buffer=0):\n",
    "    '''This function applies the slope correction on a collection of Sentinel-1 data\n",
    "\n",
    "       :param collection: ee.Collection or ee.Image of Sentinel-1\n",
    "       :param elevation: ee.Image of DEM\n",
    "       :param model: model to be applied (volume/surface)\n",
    "       :param buffer: buffer in meters for layover/shadow amsk\n",
    "\n",
    "       :returns: ee.Image\n",
    "    '''\n",
    "    def _volumetric_model_SCF(theta_iRad, alpha_rRad):\n",
    "        '''Code for calculation of volumetric model SCF\n",
    "            体积模型\n",
    "        :param theta_iRad: ee.Image of incidence angle in radians\n",
    "        :param alpha_rRad: ee.Image of slope steepness in range\n",
    "\n",
    "        :returns: ee.Image\n",
    "        '''\n",
    "\n",
    "        # create a 90 degree image in radians\n",
    "        ninetyRad = ee.Image.constant(90).multiply(np.pi / 180)\n",
    "\n",
    "        # model\n",
    "        nominator = (ninetyRad.subtract(theta_iRad).add(alpha_rRad)).tan()\n",
    "        denominator = (ninetyRad.subtract(theta_iRad)).tan()\n",
    "        return nominator.divide(denominator)\n",
    "\n",
    "    def _surface_model_SCF(theta_iRad, alpha_rRad, alpha_azRad):\n",
    "        '''Code for calculation of direct model SCF\n",
    "            表面模型\n",
    "        :param theta_iRad: ee.Image of incidence angle in radians\n",
    "        :param alpha_rRad: ee.Image of slope steepness in range\n",
    "        :param alpha_azRad: ee.Image of slope steepness in azimuth\n",
    "\n",
    "        :returns: ee.Image\n",
    "        '''\n",
    "\n",
    "        # create a 90 degree image in radians\n",
    "        ninetyRad = ee.Image.constant(90).multiply(np.pi / 180)\n",
    "\n",
    "        # model\n",
    "        nominator = (ninetyRad.subtract(theta_iRad)).cos()\n",
    "        denominator = (alpha_azRad.cos().multiply(\n",
    "            (ninetyRad.subtract(theta_iRad).add(alpha_rRad)).cos()))\n",
    "\n",
    "        return nominator.divide(denominator)\n",
    "\n",
    "    def _erode(image, distance):\n",
    "        '''Buffer function for raster\n",
    "            腐蚀算法，输入的图像需要额外的缓冲\n",
    "        :param image: ee.Image that shoudl be buffered\n",
    "        :param distance: distance of buffer in meters\n",
    "\n",
    "        :returns: ee.Image\n",
    "        '''\n",
    "\n",
    "        d = (image.Not().unmask(1).fastDistanceTransform(30).sqrt().multiply(\n",
    "            ee.Image.pixelArea().sqrt()))\n",
    "\n",
    "        return image.updateMask(d.gt(distance))\n",
    "\n",
    "    def _masking(alpha_rRad, theta_iRad, buffer):\n",
    "        '''Masking of layover and shadow\n",
    "            获取几何畸变区域\n",
    "        :param alpha_rRad: ee.Image of slope steepness in range\n",
    "        :param theta_iRad: ee.Image of incidence angle in radians\n",
    "        :param buffer: buffer in meters\n",
    "\n",
    "        :returns: ee.Image\n",
    "        '''\n",
    "        # layover, where slope > radar viewing angle\n",
    "        layover = alpha_rRad.lt(theta_iRad).rename('layover')\n",
    "\n",
    "        # shadow\n",
    "        ninetyRad = ee.Image.constant(90).multiply(np.pi / 180)\n",
    "        shadow = alpha_rRad.gt(\n",
    "            ee.Image.constant(-1).multiply(\n",
    "                ninetyRad.subtract(theta_iRad))).rename('shadow')\n",
    "\n",
    "        # add buffer to layover and shadow\n",
    "        if buffer > 0:\n",
    "            layover = _erode(layover, buffer)\n",
    "            shadow = _erode(shadow, buffer)\n",
    "\n",
    "        # combine layover and shadow\n",
    "        no_data_mask = layover.And(shadow).rename('no_data_mask')\n",
    "\n",
    "        return layover.addBands(shadow).addBands(no_data_mask)\n",
    "\n",
    "    def _correct(image):\n",
    "        '''This function applies the slope correction and adds layover and shadow masks\n",
    "\n",
    "        '''\n",
    "\n",
    "        # get the image geometry and projection\n",
    "        geom = image.geometry()\n",
    "        proj = image.select(1).projection()\n",
    "\n",
    "        # calculate the look direction\n",
    "        heading = (ee.Terrain.aspect(image.select('angle')).reduceRegion(\n",
    "            ee.Reducer.mean(), geom, 1000).get('aspect'))\n",
    "\n",
    "        # Sigma0 to Power of input image，Sigma0是指雷达回波信号的强度\n",
    "        sigma0Pow = ee.Image.constant(10).pow(image.divide(10.0))\n",
    "\n",
    "        # the numbering follows the article chapters\n",
    "        # 2.1.1 Radar geometry\n",
    "        theta_iRad = image.select('angle').multiply(np.pi / 180)\n",
    "        phi_iRad = ee.Image.constant(heading).multiply(np.pi / 180)\n",
    "\n",
    "        # 2.1.2 Terrain geometry\n",
    "        alpha_sRad = ee.Terrain.slope(elevation).select('slope').multiply(\n",
    "            np.pi / 180).setDefaultProjection(proj).clip(geom)\n",
    "        phi_sRad = ee.Terrain.aspect(elevation).select('aspect').multiply(\n",
    "            np.pi / 180).setDefaultProjection(proj).clip(geom)\n",
    "\n",
    "        # we get the height, for export\n",
    "        height = elevation.setDefaultProjection(proj).clip(geom)\n",
    "\n",
    "        # 2.1.3 Model geometry\n",
    "        #reduce to 3 angle\n",
    "        phi_rRad = phi_iRad.subtract(phi_sRad)\n",
    "\n",
    "        # slope steepness in range (eq. 2)\n",
    "        alpha_rRad = (alpha_sRad.tan().multiply(phi_rRad.cos())).atan()\n",
    "\n",
    "        # slope steepness in azimuth (eq 3)\n",
    "        alpha_azRad = (alpha_sRad.tan().multiply(phi_rRad.sin())).atan()\n",
    "\n",
    "        # local incidence angle (eq. 4)\n",
    "        theta_liaRad = (alpha_azRad.cos().multiply(\n",
    "            (theta_iRad.subtract(alpha_rRad)).cos())).acos()\n",
    "        theta_liaDeg = theta_liaRad.multiply(180 / np.pi)\n",
    "\n",
    "        # 2.2\n",
    "        # Gamma_nought\n",
    "        gamma0 = sigma0Pow.divide(theta_iRad.cos())\n",
    "        gamma0dB = ee.Image.constant(10).multiply(gamma0.log10()).select(\n",
    "            ['VV', 'VH'], ['VV_gamma0', 'VH_gamma0'])\n",
    "        ratio_gamma = (gamma0dB.select('VV_gamma0').subtract(\n",
    "            gamma0dB.select('VH_gamma0')).rename('ratio_gamma0'))\n",
    "\n",
    "        if model == 'volume':\n",
    "            scf = _volumetric_model_SCF(theta_iRad, alpha_rRad)\n",
    "\n",
    "        if model == 'surface':\n",
    "            scf = _surface_model_SCF(theta_iRad, alpha_rRad, alpha_azRad)\n",
    "\n",
    "        # apply model for Gamm0_f\n",
    "        gamma0_flat = gamma0.divide(scf)\n",
    "        gamma0_flatDB = (ee.Image.constant(10).multiply(\n",
    "            gamma0_flat.log10()).select(['VV', 'VH'],\n",
    "                                        ['VV_gamma0flat', 'VH_gamma0flat']))\n",
    "\n",
    "        masks = _masking(alpha_rRad, theta_iRad, buffer)\n",
    "\n",
    "        # calculate the ratio for RGB vis\n",
    "        ratio_flat = (gamma0_flatDB.select('VV_gamma0flat').subtract(\n",
    "            gamma0_flatDB.select('VH_gamma0flat')).rename('ratio_gamma0flat'))\n",
    "\n",
    "        return (image.rename(['VV_sigma0', 'VH_sigma0','incAngle'])\n",
    "                .addBands(gamma0dB)\n",
    "                .addBands(ratio_gamma)\n",
    "                .addBands(gamma0_flatDB)\n",
    "                .addBands(ratio_flat)\n",
    "                .addBands(alpha_rRad.rename('alpha_rRad'))\n",
    "                .addBands(alpha_azRad.rename('alpha_azRad'))\n",
    "                .addBands(phi_sRad.rename('aspect'))\n",
    "                .addBands(alpha_sRad.rename('slope'))\n",
    "                .addBands(theta_iRad.rename('theta_iRad'))\n",
    "                .addBands(theta_liaRad.rename('theta_liaRad'))\n",
    "                .addBands(masks).addBands(height.rename('elevation')))\n",
    "\n",
    "    # run and return correction\n",
    "    if type(collection) == ee.imagecollection.ImageCollection:\n",
    "        return collection.map(_correct)\n",
    "    elif type(collection) == ee.image.Image:\n",
    "        return _correct(collection)\n",
    "    else:\n",
    "        print('Check input type, only image collection or image can be input')"
   ]
  },
  {
   "cell_type": "markdown",
   "source": [
    "# 定义数据"
   ],
   "metadata": {
    "collapsed": false
   }
  },
  {
   "cell_type": "code",
   "execution_count": 4,
   "id": "9bbba9ed-305c-4b04-aa28-f5650185ee6a",
   "metadata": {},
   "outputs": [],
   "source": [
    "START_DATE  = ee.Date('2019-07-01')\n",
    "END_DATE   = ee.Date('2019-08-30')\n",
    "DEM = ee.Image('USGS/SRTMGL1_003')\n",
    "models = ['volume', 'surface', None]\n",
    "Buffer = 0\n",
    "Model = models[0]\n",
    "I = 100\n",
    "\n",
    "AOI = ee.Feature.geometry(Glacial_lake_2015R_RectangleList.get(I))\n",
    "\n",
    "s1_col = (ee.ImageCollection(\"COPERNICUS/S1_GRD\")\n",
    "          .filter(ee.Filter.eq('instrumentMode', 'IW'))\n",
    "            .filterBounds(AOI)\n",
    "            .filterDate(START_DATE, END_DATE))"
   ]
  },
  {
   "cell_type": "markdown",
   "source": [
    "# 几何畸变定位与校正"
   ],
   "metadata": {
    "collapsed": false
   }
  },
  {
   "cell_type": "code",
   "execution_count": 5,
   "id": "0175e3d0-f72d-4564-a699-4e5dfb287c7b",
   "metadata": {},
   "outputs": [],
   "source": [
    "s1_col = slope_correction(s1_col, DEM, Model, buffer=Buffer)\n",
    "# 分离升降轨\n",
    "s1_descending = s1_col.filter(ee.Filter.eq('orbitProperties_pass', 'DESCENDING')).first()\n",
    "s1_ascending = s1_col.filter(ee.Filter.eq('orbitProperties_pass', 'ASCENDING')).first()"
   ]
  },
  {
   "cell_type": "markdown",
   "source": [
    "## 展示,生成左右对照Basemap与畸变检测对照"
   ],
   "metadata": {
    "collapsed": false
   }
  },
  {
   "cell_type": "code",
   "execution_count": 6,
   "id": "f9debd56-aa02-48ad-b68e-10af400e3938",
   "metadata": {},
   "outputs": [
    {
     "data": {
      "text/plain": "Map(center=[28.752624732215644, 94.00131716748263], controls=(ZoomControl(options=['position', 'zoom_in_text',…",
      "application/vnd.jupyter.widget-view+json": {
       "version_major": 2,
       "version_minor": 0,
       "model_id": "8c01a7d8c10741278fe11152956782e9"
      }
     },
     "metadata": {},
     "output_type": "display_data"
    }
   ],
   "source": [
    "Map = geemap.Map()\n",
    "Map.centerObject(AOI, zoom=12)\n",
    "left_layer = geemap.ee_tile_layer(s1_ascending.select('VV_sigma0'), {'min':-40,'max':5}, 'Origin')\n",
    "right_layer =  geemap.ee_tile_layer(s1_ascending.select('no_data_mask'), {'min':0,'max':1}, 'Correct')\n",
    "Map.split_map(left_layer,right_layer)\n",
    "Map"
   ]
  },
  {
   "cell_type": "code",
   "execution_count": 7,
   "outputs": [
    {
     "data": {
      "text/plain": "Map(center=[28.752624732215644, 94.00131716748263], controls=(ZoomControl(options=['position', 'zoom_in_text',…",
      "application/vnd.jupyter.widget-view+json": {
       "version_major": 2,
       "version_minor": 0,
       "model_id": "8c7b385a52fa4417afea7e7e6859c0c9"
      }
     },
     "metadata": {},
     "output_type": "display_data"
    }
   ],
   "source": [
    "Map = geemap.Map()\n",
    "Map.centerObject(AOI, zoom=12)\n",
    "left_layer = geemap.ee_tile_layer(s1_descending, {'min':-40,'max':5}, 'NLCD 2001')\n",
    "Map.split_map(left_layer,left_layer)\n",
    "Map"
   ],
   "metadata": {
    "collapsed": false
   }
  },
  {
   "cell_type": "code",
   "execution_count": 8,
   "outputs": [],
   "source": [
    "# 被动阴影和叠掩"
   ],
   "metadata": {
    "collapsed": false
   }
  },
  {
   "cell_type": "code",
   "execution_count": 9,
   "outputs": [],
   "source": [
    "## 沿着雷达入射角，构建近似于等高线，在登高线方向做局部最高点，且在坡两端做法线夹角"
   ],
   "metadata": {
    "collapsed": false
   }
  },
  {
   "cell_type": "code",
   "execution_count": 10,
   "outputs": [
    {
     "data": {
      "text/plain": "Map(center=[28.752624732215644, 94.00131716748263], controls=(WidgetControl(options=['position', 'transparent_…",
      "application/vnd.jupyter.widget-view+json": {
       "version_major": 2,
       "version_minor": 0,
       "model_id": "801ace5afe0e4559903da314acdaac94"
      }
     },
     "metadata": {},
     "output_type": "display_data"
    }
   ],
   "source": [
    "Map = geemap.Map()\n",
    "Map.centerObject(AOI, zoom=12)\n",
    "\n",
    "# 设置离散的颜色调色板列表（以角度为单位）\n",
    "palette = ['blue', 'green', 'yellow', 'red']\n",
    "MinMax_Angle = s1_ascending.select('incAngle').reduceRegion(\n",
    "                  reducer=ee.Reducer.minMax(),\n",
    "                  geometry=s1_ascending.geometry(),\n",
    "                  scale=10,\n",
    "                  bestEffort=True\n",
    "                                )\n",
    "min =  MinMax_Angle.get('incAngle_min')\n",
    "max = MinMax_Angle.get('incAngle_max')\n",
    "interval = 1\n",
    "\n",
    "discrete_vis = {'min':min, 'max':max ,'palette': palette}\n",
    "contours = geemap.create_contours(s1_ascending.select('incAngle'),min ,max, interval, region=None)\n",
    "\n",
    "Map.addLayer(contours, {'min': min, \"max\":max, 'color':'black'}, 'contours')\n",
    "Map.addLayer(s1_ascending.select('incAngle'), discrete_vis, 'incAngle')\n",
    "\n",
    "Map # 显示地图窗口"
   ],
   "metadata": {
    "collapsed": false
   }
  }
 ],
 "metadata": {
  "kernelspec": {
   "display_name": "Python 3 (ipykernel)",
   "language": "python",
   "name": "python3"
  },
  "language_info": {
   "codemirror_mode": {
    "name": "ipython",
    "version": 3
   },
   "file_extension": ".py",
   "mimetype": "text/x-python",
   "name": "python",
   "nbconvert_exporter": "python",
   "pygments_lexer": "ipython3",
   "version": "3.9.7"
  }
 },
 "nbformat": 4,
 "nbformat_minor": 5
}
