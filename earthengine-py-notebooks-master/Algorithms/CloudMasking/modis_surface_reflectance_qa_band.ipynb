{
  "cells": [
    {
      "cell_type": "markdown",
      "metadata": {},
      "source": [
        "<table class=\"ee-notebook-buttons\" align=\"left\">\n",
        "    <td><a target=\"_blank\"  href=\"https://github.com/giswqs/earthengine-py-notebooks/tree/master/Algorithms/CloudMasking/modis_surface_reflectance_qa_band.ipynb\"><img width=32px src=\"https://www.tensorflow.org/images/GitHub-Mark-32px.png\" /> View source on GitHub</a></td>\n",
        "    <td><a target=\"_blank\"  href=\"https://nbviewer.jupyter.org/github/giswqs/earthengine-py-notebooks/blob/master/Algorithms/CloudMasking/modis_surface_reflectance_qa_band.ipynb\"><img width=26px src=\"https://upload.wikimedia.org/wikipedia/commons/thumb/3/38/Jupyter_logo.svg/883px-Jupyter_logo.svg.png\" />Notebook Viewer</a></td>\n",
        "    <td><a target=\"_blank\"  href=\"https://colab.research.google.com/github/giswqs/earthengine-py-notebooks/blob/master/Algorithms/CloudMasking/modis_surface_reflectance_qa_band.ipynb\"><img src=\"https://www.tensorflow.org/images/colab_logo_32px.png\" /> Run in Google Colab</a></td>\n",
        "</table>"
      ]
    },
    {
      "cell_type": "markdown",
      "metadata": {},
      "source": [
        "## Install Earth Engine API and geemap\n",
        "Install the [Earth Engine Python API](https://developers.google.com/earth-engine/python_install) and [geemap](https://geemap.org). The **geemap** Python package is built upon the [ipyleaflet](https://github.com/jupyter-widgets/ipyleaflet) and [folium](https://github.com/python-visualization/folium) packages and implements several methods for interacting with Earth Engine data layers, such as `Map.addLayer()`, `Map.setCenter()`, and `Map.centerObject()`.\n",
        "The following script checks if the geemap package has been installed. If not, it will install geemap, which automatically installs its [dependencies](https://github.com/giswqs/geemap#dependencies), including earthengine-api, folium, and ipyleaflet."
      ]
    },
    {
      "cell_type": "code",
      "metadata": {},
      "source": [
        "# Installs geemap package\n",
        "import subprocess\n",
        "\n",
        "try:\n",
        "    import geemap\n",
        "except ImportError:\n",
        "    print('Installing geemap ...')\n",
        "    subprocess.check_call([\"python\", '-m', 'pip', 'install', 'geemap'])"
      ],
      "outputs": [],
      "execution_count": null
    },
    {
      "cell_type": "code",
      "metadata": {},
      "source": [
        "import ee\n",
        "import geemap"
      ],
      "outputs": [],
      "execution_count": null
    },
    {
      "cell_type": "markdown",
      "metadata": {},
      "source": [
        "## Create an interactive map \n",
        "The default basemap is `Google Maps`. [Additional basemaps](https://github.com/giswqs/geemap/blob/master/geemap/basemaps.py) can be added using the `Map.add_basemap()` function. "
      ]
    },
    {
      "cell_type": "code",
      "metadata": {},
      "source": [
        "Map = geemap.Map(center=[40,-100], zoom=4)\n",
        "Map"
      ],
      "outputs": [],
      "execution_count": null
    },
    {
      "cell_type": "markdown",
      "metadata": {},
      "source": [
        "## Add Earth Engine Python script "
      ]
    },
    {
      "cell_type": "code",
      "metadata": {},
      "source": [
        "# Add Earth Engine dataset\n",
        "# Modis Cloud Masking example.\n",
        "# Calculate how frequently a location is labeled as clear (i.e. non-cloudy)\n",
        "# according to the \"internal cloud algorithm flag\" of the MODIS \"state 1km\"\n",
        "# QA band.\n",
        "\n",
        "# A function to mask out pixels that did not have observations.\n",
        "# maskEmptyPixels = function(image) {\n",
        "def maskEmptyPixels(image):\n",
        "  # Find pixels that had observations.\n",
        "  withObs = image.select('num_observations_1km').gt(0)\n",
        "  return image.updateMask(withObs)\n",
        "# }\n",
        "\n",
        "# A function to mask out cloudy pixels.\n",
        "# maskClouds = function(image) {\n",
        "def maskClouds(image):\n",
        "  # Select the QA band.\n",
        "  QA = image.select('state_1km')\n",
        "  # Make a mask to get bit 10, the internal_cloud_algorithm_flag bit.\n",
        "  bitMask = 1 << 10\n",
        "  # Return an image masking out cloudy areas.\n",
        "  return image.updateMask(QA.bitwiseAnd(bitMask).eq(0))\n",
        "# }\n",
        "\n",
        "# Start with an image collection for a 1 month period.\n",
        "# and mask out areas that were not observed.\n",
        "collection = ee.ImageCollection('MODIS/006/MOD09GA') \\\n",
        "        .filterDate('2010-04-01', '2010-05-01') \\\n",
        "        .map(maskEmptyPixels)\n",
        "\n",
        "# Get the total number of potential observations for the time interval.\n",
        "totalObsCount = collection \\\n",
        "        .select('num_observations_1km') \\\n",
        "        .count()\n",
        "\n",
        "# Map the cloud masking function over the collection.\n",
        "collectionCloudMasked = collection.map(maskClouds)\n",
        "\n",
        "# Get the total number of observations for non-cloudy pixels for the time\n",
        "# interval.  The result is unmasked to set to unity so that all locations\n",
        "# have counts, and the ratios later computed have values everywhere.\n",
        "clearObsCount = collectionCloudMasked \\\n",
        "        .select('num_observations_1km') \\\n",
        "        .count() \\\n",
        "        .unmask(0)\n",
        "\n",
        "Map.addLayer(\n",
        "    collectionCloudMasked.median(),\n",
        "    {'bands': ['sur_refl_b01', 'sur_refl_b04', 'sur_refl_b03'],\n",
        "     'gain': 0.07,\n",
        "     'gamma': 1.4\n",
        "    },\n",
        "    'median of masked collection'\n",
        "  )\n",
        "Map.addLayer(\n",
        "    totalObsCount,\n",
        "    {'min': 84, 'max': 92},\n",
        "    'count of total observations',\n",
        "    False\n",
        "  )\n",
        "Map.addLayer(\n",
        "    clearObsCount,\n",
        "    {'min': 0, 'max': 90},\n",
        "    'count of clear observations',\n",
        "    False\n",
        "  )\n",
        "Map.addLayer(\n",
        "    clearObsCount.toFloat().divide(totalObsCount),\n",
        "    {'min': 0, 'max': 1},\n",
        "    'ratio of clear to total observations'\n",
        "  )\n",
        "\n",
        "\n"
      ],
      "outputs": [],
      "execution_count": null
    },
    {
      "cell_type": "markdown",
      "metadata": {},
      "source": [
        "## Display Earth Engine data layers "
      ]
    },
    {
      "cell_type": "code",
      "metadata": {},
      "source": [
        "Map.addLayerControl() # This line is not needed for ipyleaflet-based Map.\n",
        "Map"
      ],
      "outputs": [],
      "execution_count": null
    }
  ],
  "metadata": {
    "anaconda-cloud": {},
    "kernelspec": {
      "display_name": "Python 3",
      "language": "python",
      "name": "python3"
    },
    "language_info": {
      "codemirror_mode": {
        "name": "ipython",
        "version": 3
      },
      "file_extension": ".py",
      "mimetype": "text/x-python",
      "name": "python",
      "nbconvert_exporter": "python",
      "pygments_lexer": "ipython3",
      "version": "3.6.1"
    }
  },
  "nbformat": 4,
  "nbformat_minor": 4
}