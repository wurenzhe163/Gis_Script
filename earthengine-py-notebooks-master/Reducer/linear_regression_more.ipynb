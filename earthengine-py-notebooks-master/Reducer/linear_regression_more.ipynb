{
  "cells": [
    {
      "cell_type": "markdown",
      "metadata": {},
      "source": [
        "<table class=\"ee-notebook-buttons\" align=\"left\">\n",
        "    <td><a target=\"_blank\"  href=\"https://github.com/giswqs/earthengine-py-notebooks/tree/master/Reducer/linear_regression_more.ipynb\"><img width=32px src=\"https://www.tensorflow.org/images/GitHub-Mark-32px.png\" /> View source on GitHub</a></td>\n",
        "    <td><a target=\"_blank\"  href=\"https://nbviewer.jupyter.org/github/giswqs/earthengine-py-notebooks/blob/master/Reducer/linear_regression_more.ipynb\"><img width=26px src=\"https://upload.wikimedia.org/wikipedia/commons/thumb/3/38/Jupyter_logo.svg/883px-Jupyter_logo.svg.png\" />Notebook Viewer</a></td>\n",
        "    <td><a target=\"_blank\"  href=\"https://colab.research.google.com/github/giswqs/earthengine-py-notebooks/blob/master/Reducer/linear_regression_more.ipynb\"><img src=\"https://www.tensorflow.org/images/colab_logo_32px.png\" /> Run in Google Colab</a></td>\n",
        "</table>"
      ]
    },
    {
      "cell_type": "markdown",
      "metadata": {},
      "source": [
        "## Install Earth Engine API and geemap\n",
        "Install the [Earth Engine Python API](https://developers.google.com/earth-engine/python_install) and [geemap](https://geemap.org). The **geemap** Python package is built upon the [ipyleaflet](https://github.com/jupyter-widgets/ipyleaflet) and [folium](https://github.com/python-visualization/folium) packages and implements several methods for interacting with Earth Engine data layers, such as `Map.addLayer()`, `Map.setCenter()`, and `Map.centerObject()`.\n",
        "The following script checks if the geemap package has been installed. If not, it will install geemap, which automatically installs its [dependencies](https://github.com/giswqs/geemap#dependencies), including earthengine-api, folium, and ipyleaflet."
      ]
    },
    {
      "cell_type": "code",
      "metadata": {},
      "source": [
        "# Installs geemap package\n",
        "import subprocess\n",
        "\n",
        "try:\n",
        "    import geemap\n",
        "except ImportError:\n",
        "    print('Installing geemap ...')\n",
        "    subprocess.check_call([\"python\", '-m', 'pip', 'install', 'geemap'])"
      ],
      "outputs": [],
      "execution_count": null
    },
    {
      "cell_type": "code",
      "metadata": {},
      "source": [
        "import ee\n",
        "import geemap"
      ],
      "outputs": [],
      "execution_count": null
    },
    {
      "cell_type": "markdown",
      "metadata": {},
      "source": [
        "## Create an interactive map \n",
        "The default basemap is `Google Maps`. [Additional basemaps](https://github.com/giswqs/geemap/blob/master/geemap/basemaps.py) can be added using the `Map.add_basemap()` function. "
      ]
    },
    {
      "cell_type": "code",
      "metadata": {},
      "source": [
        "Map = geemap.Map(center=[40,-100], zoom=4)\n",
        "Map"
      ],
      "outputs": [],
      "execution_count": null
    },
    {
      "cell_type": "markdown",
      "metadata": {},
      "source": [
        "## Add Earth Engine Python script "
      ]
    },
    {
      "cell_type": "code",
      "metadata": {},
      "source": [
        "# Add Earth Engine dataset\n",
        "# This function adds a time band to the image.\n",
        "\n",
        "def createTimeBand(image):\n",
        "    return image.addBands(image.metadata('system:time_start').divide(1e18))\n",
        "\n",
        "# createTimeBand = function(image) {\n",
        "#   # Scale milliseconds by a large constant.\n",
        "#   return image.addBands(image.metadata('system:time_start').divide(1e18))\n",
        "# }\n",
        "\n",
        "# This function adds a constant band to the image.\n",
        "def createConstantBand(image):\n",
        "    return ee.Image(1).addBands(image)\n",
        "# createConstantBand = function(image) {\n",
        "#   return ee.Image(1).addBands(image)\n",
        "# }\n",
        "\n",
        "# Load the input image 'collection': projected climate data.\n",
        "collection = ee.ImageCollection('NASA/NEX-DCP30_ENSEMBLE_STATS') \\\n",
        "  .filterDate(ee.Date('2006-01-01'), ee.Date('2099-01-01')) \\\n",
        "  .filter(ee.Filter.eq('scenario', 'rcp85')) \\\n",
        "  .map(createTimeBand) \\\n",
        "  .map(createConstantBand) \\\n",
        "  .select(['constant', 'system:time_start', 'pr_mean', 'tasmax_mean'])\n",
        "\n",
        "# Compute ordinary least squares regression coefficients.\n",
        "linearRegression = collection.reduce(\n",
        "  ee.Reducer.linearRegression(**{\n",
        "    'numX': 2,\n",
        "    'numY': 2\n",
        "}))\n",
        "\n",
        "# Compute robust linear regression coefficients.\n",
        "robustLinearRegression = collection.reduce(\n",
        "  ee.Reducer.robustLinearRegression(**{\n",
        "    'numX': 2,\n",
        "    'numY': 2\n",
        "}))\n",
        "\n",
        "# The results are array images that must be flattened for display.\n",
        "# These lists label the information along each axis of the arrays.\n",
        "bandNames = [['constant', 'time'], # 0-axis variation.\n",
        "                 ['precip', 'temp']] # 1-axis variation.\n",
        "\n",
        "# Flatten the array images to get multi-band images according to the labels.\n",
        "lrImage = linearRegression.select(['coefficients']).arrayFlatten(bandNames)\n",
        "rlrImage = robustLinearRegression.select(['coefficients']).arrayFlatten(bandNames)\n",
        "\n",
        "# Display the OLS results.\n",
        "Map.setCenter(-100.11, 40.38, 5)\n",
        "Map.addLayer(lrImage,\n",
        "  {'min': 0, 'max': [-0.9, 8e-5, 1], 'bands': ['time_precip', 'constant_precip', 'time_precip']}, 'OLS')\n",
        "\n",
        "# Compare the results at a specific point:\n",
        "print('OLS estimates:', lrImage.reduceRegion(**{\n",
        "  'reducer': ee.Reducer.first(),\n",
        "  'geometry': ee.Geometry.Point([-96.0, 41.0]),\n",
        "  'scale': 1000\n",
        "}).getInfo())\n",
        "\n",
        "print('Robust estimates:', rlrImage.reduceRegion(**{\n",
        "  'reducer': ee.Reducer.first(),\n",
        "  'geometry': ee.Geometry.Point([-96.0, 41.0]),\n",
        "  'scale': 1000\n",
        "}).getInfo())\n",
        "\n"
      ],
      "outputs": [],
      "execution_count": null
    },
    {
      "cell_type": "markdown",
      "metadata": {},
      "source": [
        "## Display Earth Engine data layers "
      ]
    },
    {
      "cell_type": "code",
      "metadata": {},
      "source": [
        "Map.addLayerControl() # This line is not needed for ipyleaflet-based Map.\n",
        "Map"
      ],
      "outputs": [],
      "execution_count": null
    }
  ],
  "metadata": {
    "anaconda-cloud": {},
    "kernelspec": {
      "display_name": "Python 3",
      "language": "python",
      "name": "python3"
    },
    "language_info": {
      "codemirror_mode": {
        "name": "ipython",
        "version": 3
      },
      "file_extension": ".py",
      "mimetype": "text/x-python",
      "name": "python",
      "nbconvert_exporter": "python",
      "pygments_lexer": "ipython3",
      "version": "3.6.1"
    }
  },
  "nbformat": 4,
  "nbformat_minor": 4
}