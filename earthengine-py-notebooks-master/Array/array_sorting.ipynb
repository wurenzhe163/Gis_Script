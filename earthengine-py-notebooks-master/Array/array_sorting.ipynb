{
  "cells": [
    {
      "cell_type": "markdown",
      "metadata": {},
      "source": [
        "<table class=\"ee-notebook-buttons\" align=\"left\">\n",
        "    <td><a target=\"_blank\"  href=\"https://github.com/giswqs/earthengine-py-notebooks/tree/master/Array/array_sorting.ipynb\"><img width=32px src=\"https://www.tensorflow.org/images/GitHub-Mark-32px.png\" /> View source on GitHub</a></td>\n",
        "    <td><a target=\"_blank\"  href=\"https://nbviewer.jupyter.org/github/giswqs/earthengine-py-notebooks/blob/master/Array/array_sorting.ipynb\"><img width=26px src=\"https://upload.wikimedia.org/wikipedia/commons/thumb/3/38/Jupyter_logo.svg/883px-Jupyter_logo.svg.png\" />Notebook Viewer</a></td>\n",
        "    <td><a target=\"_blank\"  href=\"https://colab.research.google.com/github/giswqs/earthengine-py-notebooks/blob/master/Array/array_sorting.ipynb\"><img src=\"https://www.tensorflow.org/images/colab_logo_32px.png\" /> Run in Google Colab</a></td>\n",
        "</table>"
      ]
    },
    {
      "cell_type": "markdown",
      "metadata": {},
      "source": [
        "## Install Earth Engine API and geemap\n",
        "Install the [Earth Engine Python API](https://developers.google.com/earth-engine/python_install) and [geemap](https://geemap.org). The **geemap** Python package is built upon the [ipyleaflet](https://github.com/jupyter-widgets/ipyleaflet) and [folium](https://github.com/python-visualization/folium) packages and implements several methods for interacting with Earth Engine data layers, such as `Map.addLayer()`, `Map.setCenter()`, and `Map.centerObject()`.\n",
        "The following script checks if the geemap package has been installed. If not, it will install geemap, which automatically installs its [dependencies](https://github.com/giswqs/geemap#dependencies), including earthengine-api, folium, and ipyleaflet."
      ]
    },
    {
      "cell_type": "code",
      "metadata": {},
      "source": [
        "# Installs geemap package\n",
        "import subprocess\n",
        "\n",
        "try:\n",
        "    import geemap\n",
        "except ImportError:\n",
        "    print('Installing geemap ...')\n",
        "    subprocess.check_call([\"python\", '-m', 'pip', 'install', 'geemap'])"
      ],
      "outputs": [],
      "execution_count": null
    },
    {
      "cell_type": "code",
      "metadata": {},
      "source": [
        "import ee\n",
        "import geemap"
      ],
      "outputs": [],
      "execution_count": null
    },
    {
      "cell_type": "markdown",
      "metadata": {},
      "source": [
        "## Create an interactive map \n",
        "The default basemap is `Google Maps`. [Additional basemaps](https://github.com/giswqs/geemap/blob/master/geemap/basemaps.py) can be added using the `Map.add_basemap()` function. "
      ]
    },
    {
      "cell_type": "code",
      "metadata": {},
      "source": [
        "Map = geemap.Map(center=[40,-100], zoom=4)\n",
        "Map"
      ],
      "outputs": [],
      "execution_count": null
    },
    {
      "cell_type": "markdown",
      "metadata": {},
      "source": [
        "## Add Earth Engine Python script "
      ]
    },
    {
      "cell_type": "code",
      "metadata": {},
      "source": [
        "# Add Earth Engine dataset\n",
        "# Define an arbitrary region of interest as a point.\n",
        "roi = ee.Geometry.Point(-122.26032, 37.87187)\n",
        "\n",
        "# Use these bands.\n",
        "bandNames = ee.List(['B2', 'B3', 'B4', 'B5', 'B6', 'B7', 'B10', 'B11'])\n",
        "\n",
        "# Load a Landsat 8 collection.\n",
        "collection = ee.ImageCollection('LANDSAT/LC08/C01/T1_TOA') \\\n",
        "  .select(bandNames) \\\n",
        "  .filterBounds(roi) \\\n",
        "  .filterDate('2014-06-01', '2014-12-31') \\\n",
        "  .map(lambda image: ee.Algorithms.Landsat.simpleCloudScore(image))\n",
        "\n",
        "# Convert the collection to an array.\n",
        "array = collection.toArray()\n",
        "\n",
        "# Label of the axes.\n",
        "imageAxis = 0\n",
        "bandAxis = 1\n",
        "\n",
        "# Get the cloud slice and the bands of interest.\n",
        "bands = array.arraySlice(bandAxis, 0, bandNames.length())\n",
        "clouds = array.arraySlice(bandAxis, bandNames.length())\n",
        "\n",
        "# Sort by cloudiness.\n",
        "sorted = bands.arraySort(clouds)\n",
        "\n",
        "# Get the least cloudy images, 20% of the total.\n",
        "numImages = sorted.arrayLength(imageAxis).multiply(0.2).int()\n",
        "leastCloudy = sorted.arraySlice(imageAxis, 0, numImages)\n",
        "\n",
        "# Get the mean of the least cloudy images by reducing along the image axis.\n",
        "mean = leastCloudy.arrayReduce(**{\n",
        "  'reducer': ee.Reducer.mean(),\n",
        "  'axes': [imageAxis]\n",
        "})\n",
        "\n",
        "# Turn the reduced array image into a multi-band image for display.\n",
        "meanImage = mean.arrayProject([bandAxis]).arrayFlatten([bandNames])\n",
        "Map.centerObject(ee.FeatureCollection(roi), 12)\n",
        "Map.addLayer(meanImage, {'bands': ['B5', 'B4', 'B2'], 'min': 0, 'max': 0.5}, 'Mean Image')\n",
        "\n"
      ],
      "outputs": [],
      "execution_count": null
    },
    {
      "cell_type": "markdown",
      "metadata": {},
      "source": [
        "## Display Earth Engine data layers "
      ]
    },
    {
      "cell_type": "code",
      "metadata": {},
      "source": [
        "Map.addLayerControl() # This line is not needed for ipyleaflet-based Map.\n",
        "Map"
      ],
      "outputs": [],
      "execution_count": null
    }
  ],
  "metadata": {
    "anaconda-cloud": {},
    "kernelspec": {
      "display_name": "Python 3",
      "language": "python",
      "name": "python3"
    },
    "language_info": {
      "codemirror_mode": {
        "name": "ipython",
        "version": 3
      },
      "file_extension": ".py",
      "mimetype": "text/x-python",
      "name": "python",
      "nbconvert_exporter": "python",
      "pygments_lexer": "ipython3",
      "version": "3.6.1"
    }
  },
  "nbformat": 4,
  "nbformat_minor": 4
}