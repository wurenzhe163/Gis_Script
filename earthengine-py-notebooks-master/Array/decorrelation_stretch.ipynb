{
  "cells": [
    {
      "cell_type": "markdown",
      "metadata": {},
      "source": [
        "<table class=\"ee-notebook-buttons\" align=\"left\">\n",
        "    <td><a target=\"_blank\"  href=\"https://github.com/giswqs/earthengine-py-notebooks/tree/master/Array/decorrelation_stretch.ipynb\"><img width=32px src=\"https://www.tensorflow.org/images/GitHub-Mark-32px.png\" /> View source on GitHub</a></td>\n",
        "    <td><a target=\"_blank\"  href=\"https://nbviewer.jupyter.org/github/giswqs/earthengine-py-notebooks/blob/master/Array/decorrelation_stretch.ipynb\"><img width=26px src=\"https://upload.wikimedia.org/wikipedia/commons/thumb/3/38/Jupyter_logo.svg/883px-Jupyter_logo.svg.png\" />Notebook Viewer</a></td>\n",
        "    <td><a target=\"_blank\"  href=\"https://colab.research.google.com/github/giswqs/earthengine-py-notebooks/blob/master/Array/decorrelation_stretch.ipynb\"><img src=\"https://www.tensorflow.org/images/colab_logo_32px.png\" /> Run in Google Colab</a></td>\n",
        "</table>"
      ]
    },
    {
      "cell_type": "markdown",
      "metadata": {},
      "source": [
        "## Install Earth Engine API and geemap\n",
        "Install the [Earth Engine Python API](https://developers.google.com/earth-engine/python_install) and [geemap](https://geemap.org). The **geemap** Python package is built upon the [ipyleaflet](https://github.com/jupyter-widgets/ipyleaflet) and [folium](https://github.com/python-visualization/folium) packages and implements several methods for interacting with Earth Engine data layers, such as `Map.addLayer()`, `Map.setCenter()`, and `Map.centerObject()`.\n",
        "The following script checks if the geemap package has been installed. If not, it will install geemap, which automatically installs its [dependencies](https://github.com/giswqs/geemap#dependencies), including earthengine-api, folium, and ipyleaflet."
      ]
    },
    {
      "cell_type": "code",
      "metadata": {},
      "source": [
        "# Installs geemap package\n",
        "import subprocess\n",
        "\n",
        "try:\n",
        "    import geemap\n",
        "except ImportError:\n",
        "    print('Installing geemap ...')\n",
        "    subprocess.check_call([\"python\", '-m', 'pip', 'install', 'geemap'])"
      ],
      "outputs": [],
      "execution_count": null
    },
    {
      "cell_type": "code",
      "metadata": {},
      "source": [
        "import ee\n",
        "import geemap"
      ],
      "outputs": [],
      "execution_count": null
    },
    {
      "cell_type": "markdown",
      "metadata": {},
      "source": [
        "## Create an interactive map \n",
        "The default basemap is `Google Maps`. [Additional basemaps](https://github.com/giswqs/geemap/blob/master/geemap/basemaps.py) can be added using the `Map.add_basemap()` function. "
      ]
    },
    {
      "cell_type": "code",
      "metadata": {},
      "source": [
        "Map = geemap.Map(center=[40,-100], zoom=4)\n",
        "Map"
      ],
      "outputs": [],
      "execution_count": null
    },
    {
      "cell_type": "markdown",
      "metadata": {},
      "source": [
        "## Add Earth Engine Python script "
      ]
    },
    {
      "cell_type": "code",
      "metadata": {},
      "source": [
        "# Add Earth Engine dataset\n",
        "# Decorrelation Stretch\n",
        "\n",
        "def dcs(image, region, scale):\n",
        "# function dcs(image, region, scale) {\n",
        "  bandNames = image.bandNames()\n",
        "\n",
        "  # The axes are numbered, so to make the following code more\n",
        "  # readable, give the axes names.\n",
        "  imageAxis = 0\n",
        "  bandAxis = 1\n",
        "\n",
        "  # Compute the mean of each band in the region.\n",
        "  means = image.reduceRegion(ee.Reducer.mean(), region, scale)\n",
        "\n",
        "  # Create a constant array image from the mean of each band.\n",
        "  meansArray = ee.Image(means.toArray())\n",
        "\n",
        "  # Collapse the bands of the image into a 1D array per pixel,\n",
        "  # with images along the first axis and bands along the second.\n",
        "  arrays = image.toArray()\n",
        "\n",
        "  # Perform element-by-element subtraction, which centers the\n",
        "  # distribution of each band within the region.\n",
        "  centered = arrays.subtract(meansArray)\n",
        "\n",
        "  # Compute the covariance of the bands within the region.\n",
        "  covar = centered.reduceRegion(**{\n",
        "    'reducer': ee.Reducer.centeredCovariance(),\n",
        "    'geometry': region,\n",
        "    'scale': scale\n",
        "  })\n",
        "\n",
        "  # Get the 'array' result and cast to an array. Note this is a\n",
        "  # single array, not one array per pixel, and represents the\n",
        "  # band-to-band covariance within the region.\n",
        "  covarArray = ee.Array(covar.get('array'))\n",
        "\n",
        "  # Perform an eigen analysis and slice apart the values and vectors.\n",
        "  eigens = covarArray.eigen()\n",
        "  eigenValues = eigens.slice(bandAxis, 0, 1)\n",
        "  eigenVectors = eigens.slice(bandAxis, 1)\n",
        "\n",
        "  # Rotate by the eigenvectors, scale to a variance of 30, and rotate back.\n",
        "  i = ee.Array.identity(bandNames.length())\n",
        "  variance = eigenValues.sqrt().matrixToDiag()\n",
        "  scaled = i.multiply(30).divide(variance)\n",
        "  rotation = eigenVectors.transpose() \\\n",
        "    .matrixMultiply(scaled) \\\n",
        "    .matrixMultiply(eigenVectors)\n",
        "\n",
        "  # Reshape the 1-D 'normalized' array, so we can left matrix multiply\n",
        "  # with the rotation. This requires embedding it in 2-D space and\n",
        "  # transposing.\n",
        "  transposed = centered.arrayRepeat(bandAxis, 1).arrayTranspose()\n",
        "\n",
        "  # Convert rotated results to 3 RGB bands, and shift the mean to 127.\n",
        "  return transposed.matrixMultiply(ee.Image(rotation)) \\\n",
        "    .arrayProject([bandAxis]) \\\n",
        "    .arrayFlatten([bandNames]) \\\n",
        "    .add(127).byte()\n",
        "# }\n",
        "\n",
        "image = ee.Image('MODIS/006/MCD43A4/2002_07_04')\n",
        "\n",
        "Map.setCenter(-52.09717, -7.03548, 7)\n",
        "\n",
        "# View the original bland image.\n",
        "rgb = [0, 3, 2]\n",
        "Map.addLayer(image.select(rgb), {'min': -100, 'max': 2000}, 'Original Image')\n",
        "\n",
        "# Stretch the values within an interesting region.\n",
        "region = ee.Geometry.Rectangle(-57.04651, -8.91823, -47.24121, -5.13531)\n",
        "Map.addLayer(dcs(image, region, 1000).select(rgb), {}, 'DCS Image')\n",
        "\n",
        "# Display the region in which covariance stats were computed.\n",
        "Map.addLayer(ee.Image().paint(region, 0, 2), {}, 'Region')\n",
        "\n"
      ],
      "outputs": [],
      "execution_count": null
    },
    {
      "cell_type": "markdown",
      "metadata": {},
      "source": [
        "## Display Earth Engine data layers "
      ]
    },
    {
      "cell_type": "code",
      "metadata": {},
      "source": [
        "Map.addLayerControl() # This line is not needed for ipyleaflet-based Map.\n",
        "Map"
      ],
      "outputs": [],
      "execution_count": null
    }
  ],
  "metadata": {
    "anaconda-cloud": {},
    "kernelspec": {
      "display_name": "Python 3",
      "language": "python",
      "name": "python3"
    },
    "language_info": {
      "codemirror_mode": {
        "name": "ipython",
        "version": 3
      },
      "file_extension": ".py",
      "mimetype": "text/x-python",
      "name": "python",
      "nbconvert_exporter": "python",
      "pygments_lexer": "ipython3",
      "version": "3.6.1"
    }
  },
  "nbformat": 4,
  "nbformat_minor": 4
}