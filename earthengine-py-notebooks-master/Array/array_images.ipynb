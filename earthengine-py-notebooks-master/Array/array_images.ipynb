{
  "cells": [
    {
      "cell_type": "markdown",
      "metadata": {},
      "source": [
        "<table class=\"ee-notebook-buttons\" align=\"left\">\n",
        "    <td><a target=\"_blank\"  href=\"https://github.com/giswqs/earthengine-py-notebooks/tree/master/Array/array_images.ipynb\"><img width=32px src=\"https://www.tensorflow.org/images/GitHub-Mark-32px.png\" /> View source on GitHub</a></td>\n",
        "    <td><a target=\"_blank\"  href=\"https://nbviewer.jupyter.org/github/giswqs/earthengine-py-notebooks/blob/master/Array/array_images.ipynb\"><img width=26px src=\"https://upload.wikimedia.org/wikipedia/commons/thumb/3/38/Jupyter_logo.svg/883px-Jupyter_logo.svg.png\" />Notebook Viewer</a></td>\n",
        "    <td><a target=\"_blank\"  href=\"https://colab.research.google.com/github/giswqs/earthengine-py-notebooks/blob/master/Array/array_images.ipynb\"><img src=\"https://www.tensorflow.org/images/colab_logo_32px.png\" /> Run in Google Colab</a></td>\n",
        "</table>"
      ]
    },
    {
      "cell_type": "markdown",
      "metadata": {},
      "source": [
        "## Install Earth Engine API and geemap\n",
        "Install the [Earth Engine Python API](https://developers.google.com/earth-engine/python_install) and [geemap](https://geemap.org). The **geemap** Python package is built upon the [ipyleaflet](https://github.com/jupyter-widgets/ipyleaflet) and [folium](https://github.com/python-visualization/folium) packages and implements several methods for interacting with Earth Engine data layers, such as `Map.addLayer()`, `Map.setCenter()`, and `Map.centerObject()`.\n",
        "The following script checks if the geemap package has been installed. If not, it will install geemap, which automatically installs its [dependencies](https://github.com/giswqs/geemap#dependencies), including earthengine-api, folium, and ipyleaflet."
      ]
    },
    {
      "cell_type": "code",
      "metadata": {},
      "source": [
        "# Installs geemap package\n",
        "import subprocess\n",
        "\n",
        "try:\n",
        "    import geemap\n",
        "except ImportError:\n",
        "    print('Installing geemap ...')\n",
        "    subprocess.check_call([\"python\", '-m', 'pip', 'install', 'geemap'])"
      ],
      "outputs": [],
      "execution_count": null
    },
    {
      "cell_type": "code",
      "metadata": {},
      "source": [
        "import ee\n",
        "import geemap"
      ],
      "outputs": [],
      "execution_count": null
    },
    {
      "cell_type": "markdown",
      "metadata": {},
      "source": [
        "## Create an interactive map \n",
        "The default basemap is `Google Maps`. [Additional basemaps](https://github.com/giswqs/geemap/blob/master/geemap/basemaps.py) can be added using the `Map.add_basemap()` function. "
      ]
    },
    {
      "cell_type": "code",
      "metadata": {},
      "source": [
        "Map = geemap.Map(center=[40,-100], zoom=4)\n",
        "Map"
      ],
      "outputs": [],
      "execution_count": null
    },
    {
      "cell_type": "markdown",
      "metadata": {},
      "source": [
        "## Add Earth Engine Python script "
      ]
    },
    {
      "cell_type": "code",
      "metadata": {},
      "source": [
        "# Add Earth Engine dataset\n",
        "# Define an Array of Tasseled Cap coefficients.\n",
        "coefficients = ee.Array([\n",
        "  [0.3037, 0.2793, 0.4743, 0.5585, 0.5082, 0.1863],\n",
        "  [-0.2848, -0.2435, -0.5436, 0.7243, 0.0840, -0.1800],\n",
        "  [0.1509, 0.1973, 0.3279, 0.3406, -0.7112, -0.4572],\n",
        "  [-0.8242, 0.0849, 0.4392, -0.0580, 0.2012, -0.2768],\n",
        "  [-0.3280, 0.0549, 0.1075, 0.1855, -0.4357, 0.8085],\n",
        "  [0.1084, -0.9022, 0.4120, 0.0573, -0.0251, 0.0238]\n",
        "])\n",
        "\n",
        "# Load a Landsat 5 image, select the bands of interest.\n",
        "image = ee.Image('LANDSAT/LT05/C01/T1_TOA/LT05_044034_20081011') \\\n",
        "  .select(['B1', 'B2', 'B3', 'B4', 'B5', 'B7'])\n",
        "\n",
        "# Make an Array Image, with a 1-D Array per pixel.\n",
        "arrayImage1D = image.toArray()\n",
        "\n",
        "# Make an Array Image with a 2-D Array per pixel, 6x1.\n",
        "arrayImage2D = arrayImage1D.toArray(1)\n",
        "\n",
        "# Do a matrix multiplication: 6x6 times 6x1.\n",
        "componentsImage = ee.Image(coefficients) \\\n",
        "  .matrixMultiply(arrayImage2D) \\\n",
        "  .arrayProject([0]) \\\n",
        "  .arrayFlatten(\n",
        "    [['brightness', 'greenness', 'wetness', 'fourth', 'fifth', 'sixth']])\n",
        "\n",
        "# Display the first three bands of the result and the input imagery.\n",
        "vizParams = {\n",
        "  'bands': ['brightness', 'greenness', 'wetness'],\n",
        "  'min': -0.1, 'max': [0.5, 0.1, 0.1]\n",
        "}\n",
        "Map.setCenter(-122.3, 37.562, 10)\n",
        "Map.addLayer(image, {'bands': ['B4', 'B3', 'B2'], 'min': 0, 'max': 0.5}, 'image')\n",
        "Map.addLayer(componentsImage, vizParams, 'components')\n",
        "\n"
      ],
      "outputs": [],
      "execution_count": null
    },
    {
      "cell_type": "markdown",
      "metadata": {},
      "source": [
        "## Display Earth Engine data layers "
      ]
    },
    {
      "cell_type": "code",
      "metadata": {},
      "source": [
        "Map.addLayerControl() # This line is not needed for ipyleaflet-based Map.\n",
        "Map"
      ],
      "outputs": [],
      "execution_count": null
    }
  ],
  "metadata": {
    "anaconda-cloud": {},
    "kernelspec": {
      "display_name": "Python 3",
      "language": "python",
      "name": "python3"
    },
    "language_info": {
      "codemirror_mode": {
        "name": "ipython",
        "version": 3
      },
      "file_extension": ".py",
      "mimetype": "text/x-python",
      "name": "python",
      "nbconvert_exporter": "python",
      "pygments_lexer": "ipython3",
      "version": "3.6.1"
    }
  },
  "nbformat": 4,
  "nbformat_minor": 4
}