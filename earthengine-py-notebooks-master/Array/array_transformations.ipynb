{
  "cells": [
    {
      "cell_type": "markdown",
      "metadata": {},
      "source": [
        "<table class=\"ee-notebook-buttons\" align=\"left\">\n",
        "    <td><a target=\"_blank\"  href=\"https://github.com/giswqs/earthengine-py-notebooks/tree/master/Array/array_transformations.ipynb\"><img width=32px src=\"https://www.tensorflow.org/images/GitHub-Mark-32px.png\" /> View source on GitHub</a></td>\n",
        "    <td><a target=\"_blank\"  href=\"https://nbviewer.jupyter.org/github/giswqs/earthengine-py-notebooks/blob/master/Array/array_transformations.ipynb\"><img width=26px src=\"https://upload.wikimedia.org/wikipedia/commons/thumb/3/38/Jupyter_logo.svg/883px-Jupyter_logo.svg.png\" />Notebook Viewer</a></td>\n",
        "    <td><a target=\"_blank\"  href=\"https://colab.research.google.com/github/giswqs/earthengine-py-notebooks/blob/master/Array/array_transformations.ipynb\"><img src=\"https://www.tensorflow.org/images/colab_logo_32px.png\" /> Run in Google Colab</a></td>\n",
        "</table>"
      ]
    },
    {
      "cell_type": "markdown",
      "metadata": {},
      "source": [
        "## Install Earth Engine API and geemap\n",
        "Install the [Earth Engine Python API](https://developers.google.com/earth-engine/python_install) and [geemap](https://geemap.org). The **geemap** Python package is built upon the [ipyleaflet](https://github.com/jupyter-widgets/ipyleaflet) and [folium](https://github.com/python-visualization/folium) packages and implements several methods for interacting with Earth Engine data layers, such as `Map.addLayer()`, `Map.setCenter()`, and `Map.centerObject()`.\n",
        "The following script checks if the geemap package has been installed. If not, it will install geemap, which automatically installs its [dependencies](https://github.com/giswqs/geemap#dependencies), including earthengine-api, folium, and ipyleaflet."
      ]
    },
    {
      "cell_type": "code",
      "metadata": {},
      "source": [
        "# Installs geemap package\n",
        "import subprocess\n",
        "\n",
        "try:\n",
        "    import geemap\n",
        "except ImportError:\n",
        "    print('Installing geemap ...')\n",
        "    subprocess.check_call([\"python\", '-m', 'pip', 'install', 'geemap'])"
      ],
      "outputs": [],
      "execution_count": null
    },
    {
      "cell_type": "code",
      "metadata": {},
      "source": [
        "import ee\n",
        "import geemap"
      ],
      "outputs": [],
      "execution_count": null
    },
    {
      "cell_type": "markdown",
      "metadata": {},
      "source": [
        "## Create an interactive map \n",
        "The default basemap is `Google Maps`. [Additional basemaps](https://github.com/giswqs/geemap/blob/master/geemap/basemaps.py) can be added using the `Map.add_basemap()` function. "
      ]
    },
    {
      "cell_type": "code",
      "metadata": {},
      "source": [
        "Map = geemap.Map(center=[40,-100], zoom=4)\n",
        "Map"
      ],
      "outputs": [],
      "execution_count": null
    },
    {
      "cell_type": "markdown",
      "metadata": {},
      "source": [
        "## Add Earth Engine Python script "
      ]
    },
    {
      "cell_type": "code",
      "metadata": {},
      "source": [
        "# Add Earth Engine dataset\n",
        "import math\n",
        "# This function masks the input with a threshold on the simple cloud score.\n",
        "def cloudMask(img):\n",
        "  cloudscore = ee.Algorithms.Landsat.simpleCloudScore(img).select('cloud')\n",
        "  return img.updateMask(cloudscore.lt(50))\n",
        "\n",
        "# cloudMask = function(img) {\n",
        "#   cloudscore = ee.Algorithms.Landsat.simpleCloudScore(img).select('cloud')\n",
        "#   return img.updateMask(cloudscore.lt(50))\n",
        "# }\n",
        "\n",
        "# This function computes the predictors and the response from the input.\n",
        "def makeVariables(image):\n",
        "  # Compute time of the image in fractional years relative to the Epoch.\n",
        "  year = ee.Image(image.date().difference(ee.Date('1970-01-01'), 'year'))\n",
        "  # Compute the season in radians, one cycle per year.\n",
        "  season = year.multiply(2 * math.pi)\n",
        "  # Return an image of the predictors followed by the response.\n",
        "  return image.select() \\\n",
        "    .addBands(ee.Image(1)) \\\n",
        "    .addBands(year.rename('t')) \\\n",
        "    .addBands(season.sin().rename('sin')) \\\n",
        "    .addBands(season.cos().rename('cos')) \\\n",
        "    .addBands(image.normalizedDifference().rename('NDVI')) \\\n",
        "    .toFloat()\n",
        "\n",
        "# Load a Landsat 5 image collection.\n",
        "collection = ee.ImageCollection('LANDSAT/LT05/C01/T1_TOA') \\\n",
        "  .filterDate('2008-04-01', '2010-04-01')   \\\n",
        "  .filterBounds(ee.Geometry.Point(-122.2627, 37.8735)) \\\n",
        "  .map(cloudMask)  \\\n",
        "  .select(['B4', 'B3']) \\\n",
        "  .sort('system:time_start', True)\n",
        "\n",
        "# # This function computes the predictors and the response from the input.\n",
        "# makeVariables = function(image) {\n",
        "#   # Compute time of the image in fractional years relative to the Epoch.\n",
        "#   year = ee.Image(image.date().difference(ee.Date('1970-01-01'), 'year'))\n",
        "#   # Compute the season in radians, one cycle per year.\n",
        "#   season = year.multiply(2 * Math.PI)\n",
        "#   # Return an image of the predictors followed by the response.\n",
        "#   return image.select() \\\n",
        "#     .addBands(ee.Image(1))                                  # 0. constant \\\n",
        "#     .addBands(year.rename('t'))                             # 1. linear trend \\\n",
        "#     .addBands(season.sin().rename('sin'))                   # 2. seasonal \\\n",
        "#     .addBands(season.cos().rename('cos'))                   # 3. seasonal \\\n",
        "#     .addBands(image.normalizedDifference().rename('NDVI'))  # 4. response \\\n",
        "#     .toFloat()\n",
        "# }\n",
        "\n",
        "# Define the axes of variation in the collection array.\n",
        "imageAxis = 0\n",
        "bandAxis = 1\n",
        "\n",
        "# Convert the collection to an array.\n",
        "array = collection.map(makeVariables).toArray()\n",
        "\n",
        "# Check the length of the image axis (number of images).\n",
        "arrayLength = array.arrayLength(imageAxis)\n",
        "# Update the mask to ensure that the number of images is greater than or\n",
        "# equal to the number of predictors (the linear model is solveable).\n",
        "array = array.updateMask(arrayLength.gt(4))\n",
        "\n",
        "# Get slices of the array according to positions along the band axis.\n",
        "predictors = array.arraySlice(bandAxis, 0, 4)\n",
        "response = array.arraySlice(bandAxis, 4)\n",
        "\n",
        "# Compute coefficients the easiest way.\n",
        "coefficients3 = predictors.matrixSolve(response)\n",
        "\n",
        "# Turn the results into a multi-band image.\n",
        "coefficientsImage = coefficients3 \\\n",
        "  .arrayProject([0]) \\\n",
        "  .arrayFlatten([\n",
        "    ['constant', 'trend', 'sin', 'cos']\n",
        "])\n",
        "\n",
        "print(coefficientsImage.getInfo())\n",
        "Map.setCenter(-122.2627, 37.8735, 10)\n",
        "Map.addLayer(coefficientsImage, {}, 'coefficientsImage')"
      ],
      "outputs": [],
      "execution_count": null
    },
    {
      "cell_type": "markdown",
      "metadata": {},
      "source": [
        "## Display Earth Engine data layers "
      ]
    },
    {
      "cell_type": "code",
      "metadata": {},
      "source": [
        "Map.addLayerControl() # This line is not needed for ipyleaflet-based Map.\n",
        "Map"
      ],
      "outputs": [],
      "execution_count": null
    }
  ],
  "metadata": {
    "anaconda-cloud": {},
    "kernelspec": {
      "display_name": "Python 3",
      "language": "python",
      "name": "python3"
    },
    "language_info": {
      "codemirror_mode": {
        "name": "ipython",
        "version": 3
      },
      "file_extension": ".py",
      "mimetype": "text/x-python",
      "name": "python",
      "nbconvert_exporter": "python",
      "pygments_lexer": "ipython3",
      "version": "3.6.1"
    }
  },
  "nbformat": 4,
  "nbformat_minor": 4
}