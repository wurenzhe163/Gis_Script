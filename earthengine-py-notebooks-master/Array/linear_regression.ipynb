{
  "cells": [
    {
      "cell_type": "markdown",
      "metadata": {},
      "source": [
        "<table class=\"ee-notebook-buttons\" align=\"left\">\n",
        "    <td><a target=\"_blank\"  href=\"https://github.com/giswqs/earthengine-py-notebooks/tree/master/Array/linear_regression.ipynb\"><img width=32px src=\"https://www.tensorflow.org/images/GitHub-Mark-32px.png\" /> View source on GitHub</a></td>\n",
        "    <td><a target=\"_blank\"  href=\"https://nbviewer.jupyter.org/github/giswqs/earthengine-py-notebooks/blob/master/Array/linear_regression.ipynb\"><img width=26px src=\"https://upload.wikimedia.org/wikipedia/commons/thumb/3/38/Jupyter_logo.svg/883px-Jupyter_logo.svg.png\" />Notebook Viewer</a></td>\n",
        "    <td><a target=\"_blank\"  href=\"https://colab.research.google.com/github/giswqs/earthengine-py-notebooks/blob/master/Array/linear_regression.ipynb\"><img src=\"https://www.tensorflow.org/images/colab_logo_32px.png\" /> Run in Google Colab</a></td>\n",
        "</table>"
      ]
    },
    {
      "cell_type": "markdown",
      "metadata": {},
      "source": [
        "## Install Earth Engine API and geemap\n",
        "Install the [Earth Engine Python API](https://developers.google.com/earth-engine/python_install) and [geemap](https://geemap.org). The **geemap** Python package is built upon the [ipyleaflet](https://github.com/jupyter-widgets/ipyleaflet) and [folium](https://github.com/python-visualization/folium) packages and implements several methods for interacting with Earth Engine data layers, such as `Map.addLayer()`, `Map.setCenter()`, and `Map.centerObject()`.\n",
        "The following script checks if the geemap package has been installed. If not, it will install geemap, which automatically installs its [dependencies](https://github.com/giswqs/geemap#dependencies), including earthengine-api, folium, and ipyleaflet."
      ]
    },
    {
      "cell_type": "code",
      "metadata": {},
      "source": [
        "# Installs geemap package\n",
        "import subprocess\n",
        "\n",
        "try:\n",
        "    import geemap\n",
        "except ImportError:\n",
        "    print('Installing geemap ...')\n",
        "    subprocess.check_call([\"python\", '-m', 'pip', 'install', 'geemap'])"
      ],
      "outputs": [],
      "execution_count": null
    },
    {
      "cell_type": "code",
      "metadata": {},
      "source": [
        "import ee\n",
        "import geemap"
      ],
      "outputs": [],
      "execution_count": null
    },
    {
      "cell_type": "markdown",
      "metadata": {},
      "source": [
        "## Create an interactive map \n",
        "The default basemap is `Google Maps`. [Additional basemaps](https://github.com/giswqs/geemap/blob/master/geemap/basemaps.py) can be added using the `Map.add_basemap()` function. "
      ]
    },
    {
      "cell_type": "code",
      "metadata": {},
      "source": [
        "Map = geemap.Map(center=[40,-100], zoom=4)\n",
        "Map"
      ],
      "outputs": [],
      "execution_count": null
    },
    {
      "cell_type": "markdown",
      "metadata": {},
      "source": [
        "## Add Earth Engine Python script "
      ]
    },
    {
      "cell_type": "code",
      "metadata": {},
      "source": [
        "# Add Earth Engine dataset\n",
        "# Simple regression of year versus NDVI.\n",
        "\n",
        "# Define the start date and position to get images covering Montezuma Castle,\n",
        "# Arizona, from 2000-2010.\n",
        "start = '2000-01-01'\n",
        "end = '2010-01-01'\n",
        "lng = -111.83533\n",
        "lat = 34.57499\n",
        "region = ee.Geometry.Point(lng, lat)\n",
        "\n",
        "# Filter to Landsat 7 images in the given time and place, filter to a regular\n",
        "# time of year to avoid seasonal affects, and for each image create the bands\n",
        "# we will regress on:\n",
        "# 1. A 1, so the resulting array has a column of ones to capture the offset.\n",
        "# 2. Fractional year past 2000-01-01.\n",
        "# 3. NDVI.\n",
        "\n",
        "def addBand(image):\n",
        "    date = ee.Date(image.get('system:time_start'))\n",
        "    yearOffset = date.difference(ee.Date(start), 'year')\n",
        "    ndvi = image.normalizedDifference(['B4', 'B3'])\n",
        "    return ee.Image(1).addBands(yearOffset).addBands(ndvi).toDouble()\n",
        "\n",
        "\n",
        "images = ee.ImageCollection('LANDSAT/LE07/C01/T1') \\\n",
        "  .filterDate(start, end) \\\n",
        "  .filter(ee.Filter.dayOfYear(160, 240)) \\\n",
        "  .filterBounds(region) \\\n",
        "  .map(addBand) \n",
        "#     date = ee.Date(image.get('system:time_start'))\n",
        "#     yearOffset = date.difference(ee.Date(start), 'year')\n",
        "#     ndvi = image.normalizedDifference(['B4', 'B3'])\n",
        "#     return ee.Image(1).addBands(yearOffset).addBands(ndvi).toDouble()\n",
        "#   })\n",
        "\n",
        "# Convert to an array. Give the axes names for more readable code.\n",
        "array = images.toArray()\n",
        "imageAxis = 0\n",
        "bandAxis = 1\n",
        "\n",
        "# Slice off the year and ndvi, and solve for the coefficients.\n",
        "x = array.arraySlice(bandAxis, 0, 2)\n",
        "y = array.arraySlice(bandAxis, 2)\n",
        "fit = x.matrixSolve(y)\n",
        "\n",
        "# Get the coefficient for the year, effectively the slope of the long-term\n",
        "# NDVI trend.\n",
        "slope = fit.arrayGet([1, 0])\n",
        "\n",
        "Map.setCenter(lng, lat, 12)\n",
        "Map.addLayer(slope, {'min': -0.03, 'max': 0.03}, 'Slope')\n",
        "\n"
      ],
      "outputs": [],
      "execution_count": null
    },
    {
      "cell_type": "markdown",
      "metadata": {},
      "source": [
        "## Display Earth Engine data layers "
      ]
    },
    {
      "cell_type": "code",
      "metadata": {},
      "source": [
        "Map.addLayerControl() # This line is not needed for ipyleaflet-based Map.\n",
        "Map"
      ],
      "outputs": [],
      "execution_count": null
    }
  ],
  "metadata": {
    "anaconda-cloud": {},
    "kernelspec": {
      "display_name": "Python 3",
      "language": "python",
      "name": "python3"
    },
    "language_info": {
      "codemirror_mode": {
        "name": "ipython",
        "version": 3
      },
      "file_extension": ".py",
      "mimetype": "text/x-python",
      "name": "python",
      "nbconvert_exporter": "python",
      "pygments_lexer": "ipython3",
      "version": "3.6.1"
    }
  },
  "nbformat": 4,
  "nbformat_minor": 4
}