{
  "cells": [
    {
      "cell_type": "markdown",
      "metadata": {},
      "source": [
        "<table class=\"ee-notebook-buttons\" align=\"left\">\n",
        "    <td><a target=\"_blank\"  href=\"https://github.com/giswqs/earthengine-py-notebooks/tree/master/Tutorials/Keiko/glad_alert.ipynb\"><img width=32px src=\"https://www.tensorflow.org/images/GitHub-Mark-32px.png\" /> View source on GitHub</a></td>\n",
        "    <td><a target=\"_blank\"  href=\"https://nbviewer.jupyter.org/github/giswqs/earthengine-py-notebooks/blob/master/Tutorials/Keiko/glad_alert.ipynb\"><img width=26px src=\"https://upload.wikimedia.org/wikipedia/commons/thumb/3/38/Jupyter_logo.svg/883px-Jupyter_logo.svg.png\" />Notebook Viewer</a></td>\n",
        "    <td><a target=\"_blank\"  href=\"https://colab.research.google.com/github/giswqs/earthengine-py-notebooks/blob/master/Tutorials/Keiko/glad_alert.ipynb\"><img src=\"https://www.tensorflow.org/images/colab_logo_32px.png\" /> Run in Google Colab</a></td>\n",
        "</table>"
      ]
    },
    {
      "cell_type": "markdown",
      "metadata": {},
      "source": [
        "## Install Earth Engine API and geemap\n",
        "Install the [Earth Engine Python API](https://developers.google.com/earth-engine/python_install) and [geemap](https://geemap.org). The **geemap** Python package is built upon the [ipyleaflet](https://github.com/jupyter-widgets/ipyleaflet) and [folium](https://github.com/python-visualization/folium) packages and implements several methods for interacting with Earth Engine data layers, such as `Map.addLayer()`, `Map.setCenter()`, and `Map.centerObject()`.\n",
        "The following script checks if the geemap package has been installed. If not, it will install geemap, which automatically installs its [dependencies](https://github.com/giswqs/geemap#dependencies), including earthengine-api, folium, and ipyleaflet."
      ]
    },
    {
      "cell_type": "code",
      "metadata": {},
      "source": [
        "# Installs geemap package\n",
        "import subprocess\n",
        "\n",
        "try:\n",
        "    import geemap\n",
        "except ImportError:\n",
        "    print('Installing geemap ...')\n",
        "    subprocess.check_call([\"python\", '-m', 'pip', 'install', 'geemap'])"
      ],
      "outputs": [],
      "execution_count": null
    },
    {
      "cell_type": "code",
      "metadata": {},
      "source": [
        "import ee\n",
        "import geemap"
      ],
      "outputs": [],
      "execution_count": null
    },
    {
      "cell_type": "markdown",
      "metadata": {},
      "source": [
        "## Create an interactive map \n",
        "The default basemap is `Google Maps`. [Additional basemaps](https://github.com/giswqs/geemap/blob/master/geemap/basemaps.py) can be added using the `Map.add_basemap()` function. "
      ]
    },
    {
      "cell_type": "code",
      "metadata": {},
      "source": [
        "Map = geemap.Map(center=[40,-100], zoom=4)\n",
        "Map"
      ],
      "outputs": [],
      "execution_count": null
    },
    {
      "cell_type": "markdown",
      "metadata": {},
      "source": [
        "## Add Earth Engine Python script "
      ]
    },
    {
      "cell_type": "code",
      "metadata": {},
      "source": [
        "# Add Earth Engine dataset\n",
        "# Credits to: Keiko Nomura, Senior Analyst, Space Intelligence Ltd\n",
        "# Source: https://medium.com/google-earth/10-tips-for-becoming-an-earth-engine-expert-b11aad9e598b\n",
        "# GEE JS: https://code.earthengine.google.com/?scriptPath=users%2Fnkeikon%2Fmedium%3Afire_australia \n",
        "\n",
        "geometry = ee.Geometry.Polygon(\n",
        "        [[[153.11338711694282, -28.12778417421283],\n",
        "          [153.11338711694282, -28.189835226562256],\n",
        "          [153.18943310693305, -28.189835226562256],\n",
        "          [153.18943310693305, -28.12778417421283]]])\n",
        "Map.centerObject(ee.FeatureCollection(geometry), 14)\n",
        "\n",
        "imageDec = ee.Image('COPERNICUS/S2_SR/20191202T235239_20191202T235239_T56JNP')\n",
        "Map.addLayer(imageDec, {\n",
        "  'bands': ['B4', 'B3', 'B2'],\n",
        "  'min': 0,\n",
        "  'max': 1800\n",
        "}, 'True colours (Dec 2019)')\n",
        "Map.addLayer(imageDec, {\n",
        "  'bands': ['B3', 'B3', 'B3'],\n",
        "  'min': 0,\n",
        "  'max': 1800\n",
        "}, 'grey')\n",
        "\n",
        "# GLAD Alert (tree loss alert) from the University of Maryland\n",
        "UMD = ee.ImageCollection('projects/glad/alert/UpdResult')\n",
        "print(UMD)\n",
        "\n",
        "# conf19 is 2019 alert 3 means multiple alerts\n",
        "ASIAalert = ee.Image('projects/glad/alert/UpdResult/01_01_ASIA') \\\n",
        "  .select(['conf19']).eq(3)\n",
        "\n",
        "# Turn loss pixels into True colours and increase the green strength ('before' image)\n",
        "imageLoss = imageDec.multiply(ASIAalert)\n",
        "imageLoss_vis = imageLoss.selfMask().visualize(**{\n",
        "  'bands': ['B4', 'B3', 'B2'],\n",
        "  'min': 0,\n",
        "  'max': 1800\n",
        "})\n",
        "Map.addLayer(imageLoss_vis, {\n",
        "  'gamma': 0.6\n",
        "}, '2019 loss alert pixels in True colours')\n",
        "\n",
        "# It is still hard to see the loss area. You can circle them in red\n",
        "# Scale the results in nominal value based on to the dataset's projection to display on the map\n",
        "# Reprojecting with a specified scale ensures that pixel area does not change with zoom\n",
        "buffered = ASIAalert.focal_max(50, 'circle', 'meters', 1)\n",
        "bufferOnly = ASIAalert.add(buffered).eq(1)\n",
        "prj = ASIAalert.projection()\n",
        "scale = prj.nominalScale()\n",
        "bufferScaled = bufferOnly.selfMask().reproject(prj.atScale(scale))\n",
        "Map.addLayer(bufferScaled, {\n",
        "  'palette': 'red'\n",
        "}, 'highlight the loss alert pixels')\n",
        "\n",
        "# Create a grey background for mosaic\n",
        "noAlert = imageDec.multiply(ASIAalert.eq(0))\n",
        "grey = noAlert.multiply(bufferScaled.unmask().eq(0))\n",
        "\n",
        "# Export the image\n",
        "imageMosaic = ee.ImageCollection([\n",
        "  imageLoss_vis.visualize(**{\n",
        "    'gamma': 0.6\n",
        "  }),\n",
        "  bufferScaled.visualize(**{\n",
        "    'palette': 'red'\n",
        "  }),\n",
        "  grey.selfMask().visualize(**{\n",
        "    'bands': ['B3', 'B3', 'B3'],\n",
        "    'min': 0,\n",
        "    'max': 1800\n",
        "  })\n",
        "]).mosaic()\n",
        "\n",
        "#Map.addLayer(imageMosaic, {}, 'export')\n",
        "\n",
        "# Export.image.toDrive({\n",
        "#   'image': imageMosaic,\n",
        "#   description: 'Alert',\n",
        "#   'region': geometry,\n",
        "#   crs: 'EPSG:3857',\n",
        "#   'scale': 10\n",
        "# })\n"
      ],
      "outputs": [],
      "execution_count": null
    },
    {
      "cell_type": "markdown",
      "metadata": {},
      "source": [
        "## Display Earth Engine data layers "
      ]
    },
    {
      "cell_type": "code",
      "metadata": {},
      "source": [
        "Map.addLayerControl() # This line is not needed for ipyleaflet-based Map.\n",
        "Map"
      ],
      "outputs": [],
      "execution_count": null
    }
  ],
  "metadata": {
    "anaconda-cloud": {},
    "kernelspec": {
      "display_name": "Python 3",
      "language": "python",
      "name": "python3"
    },
    "language_info": {
      "codemirror_mode": {
        "name": "ipython",
        "version": 3
      },
      "file_extension": ".py",
      "mimetype": "text/x-python",
      "name": "python",
      "nbconvert_exporter": "python",
      "pygments_lexer": "ipython3",
      "version": "3.6.1"
    }
  },
  "nbformat": 4,
  "nbformat_minor": 4
}