{
  "cells": [
    {
      "cell_type": "markdown",
      "metadata": {},
      "source": [
        "<table class=\"ee-notebook-buttons\" align=\"left\">\n",
        "    <td><a target=\"_blank\"  href=\"https://github.com/giswqs/earthengine-py-notebooks/tree/master/Join/intersect.ipynb\"><img width=32px src=\"https://www.tensorflow.org/images/GitHub-Mark-32px.png\" /> View source on GitHub</a></td>\n",
        "    <td><a target=\"_blank\"  href=\"https://nbviewer.jupyter.org/github/giswqs/earthengine-py-notebooks/blob/master/Join/intersect.ipynb\"><img width=26px src=\"https://upload.wikimedia.org/wikipedia/commons/thumb/3/38/Jupyter_logo.svg/883px-Jupyter_logo.svg.png\" />Notebook Viewer</a></td>\n",
        "    <td><a target=\"_blank\"  href=\"https://colab.research.google.com/github/giswqs/earthengine-py-notebooks/blob/master/Join/intersect.ipynb\"><img src=\"https://www.tensorflow.org/images/colab_logo_32px.png\" /> Run in Google Colab</a></td>\n",
        "</table>"
      ]
    },
    {
      "cell_type": "markdown",
      "metadata": {},
      "source": [
        "## Install Earth Engine API and geemap\n",
        "Install the [Earth Engine Python API](https://developers.google.com/earth-engine/python_install) and [geemap](https://geemap.org). The **geemap** Python package is built upon the [ipyleaflet](https://github.com/jupyter-widgets/ipyleaflet) and [folium](https://github.com/python-visualization/folium) packages and implements several methods for interacting with Earth Engine data layers, such as `Map.addLayer()`, `Map.setCenter()`, and `Map.centerObject()`.\n",
        "The following script checks if the geemap package has been installed. If not, it will install geemap, which automatically installs its [dependencies](https://github.com/giswqs/geemap#dependencies), including earthengine-api, folium, and ipyleaflet."
      ]
    },
    {
      "cell_type": "code",
      "metadata": {},
      "source": [
        "# Installs geemap package\n",
        "import subprocess\n",
        "\n",
        "try:\n",
        "    import geemap\n",
        "except ImportError:\n",
        "    print('Installing geemap ...')\n",
        "    subprocess.check_call([\"python\", '-m', 'pip', 'install', 'geemap'])"
      ],
      "outputs": [],
      "execution_count": null
    },
    {
      "cell_type": "code",
      "metadata": {},
      "source": [
        "import ee\n",
        "import geemap"
      ],
      "outputs": [],
      "execution_count": null
    },
    {
      "cell_type": "markdown",
      "metadata": {},
      "source": [
        "## Create an interactive map \n",
        "The default basemap is `Google Maps`. [Additional basemaps](https://github.com/giswqs/geemap/blob/master/geemap/basemaps.py) can be added using the `Map.add_basemap()` function. "
      ]
    },
    {
      "cell_type": "code",
      "metadata": {},
      "source": [
        "Map = geemap.Map(center=[40,-100], zoom=4)\n",
        "Map"
      ],
      "outputs": [],
      "execution_count": null
    },
    {
      "cell_type": "markdown",
      "metadata": {},
      "source": [
        "## Add Earth Engine Python script "
      ]
    },
    {
      "cell_type": "code",
      "metadata": {},
      "source": [
        "# Add Earth Engine dataset\n",
        "def intersect(state):\n",
        "  nPowerPlants = ee.List(state.get('power_plants')).size()\n",
        "  # Return the state feature with a new property: power plant count.\n",
        "  return state.set('n_power_plants', nPowerPlants)\n",
        "\n",
        "# Load the primary 'collection': US state boundaries.\n",
        "states = ee.FeatureCollection('TIGER/2018/States')\n",
        "\n",
        "# Load the secondary 'collection': power plants.\n",
        "powerPlants = ee.FeatureCollection('WRI/GPPD/power_plants')\n",
        "\n",
        "# Define a spatial filter as geometries that intersect.\n",
        "spatialFilter = ee.Filter.intersects(**{\n",
        "  'leftField': '.geo',\n",
        "  'rightField': '.geo',\n",
        "  'maxError': 10\n",
        "})\n",
        "\n",
        "# Define a save all join.\n",
        "saveAllJoin = ee.Join.saveAll(**{\n",
        "  'matchesKey': 'power_plants',\n",
        "})\n",
        "\n",
        "# Apply the join.\n",
        "intersectJoined = saveAllJoin.apply(states, powerPlants, spatialFilter)\n",
        "\n",
        "# Add power plant count per state as a property.\n",
        "intersectJoined = intersectJoined.map(intersect)\n",
        "# intersectJoined = intersectJoined.map(function(state) {\n",
        "#   # Get \"power_plant\" intersection list, count how many intersected this state.\n",
        "#   nPowerPlants = ee.List(state.get('power_plants')).size()\n",
        "#   # Return the state feature with a new property: power plant count.\n",
        "#   return state.set('n_power_plants', nPowerPlants)\n",
        "# })\n",
        "\n",
        "print(intersectJoined.getInfo())\n",
        "\n",
        "# # Make a bar chart for the number of power plants per state.\n",
        "# chart = ui.Chart.feature.byFeature(intersectJoined, 'NAME', 'n_power_plants') \\\n",
        "#   .setChartType('ColumnChart') \\\n",
        "#   .setSeriesNames({n_power_plants: 'Power plants'}) \\\n",
        "#   .setOptions({\n",
        "#     title: 'Power plants per state',\n",
        "#     hAxis: {title: 'State'},\n",
        "#     vAxis: {title: 'Frequency'}})\n",
        "\n",
        "# # Print the chart to the console.\n",
        "# print(chart)\n"
      ],
      "outputs": [],
      "execution_count": null
    },
    {
      "cell_type": "markdown",
      "metadata": {},
      "source": [
        "## Display Earth Engine data layers "
      ]
    },
    {
      "cell_type": "code",
      "metadata": {},
      "source": [
        "Map.addLayerControl() # This line is not needed for ipyleaflet-based Map.\n",
        "Map"
      ],
      "outputs": [],
      "execution_count": null
    }
  ],
  "metadata": {
    "anaconda-cloud": {},
    "kernelspec": {
      "display_name": "Python 3",
      "language": "python",
      "name": "python3"
    },
    "language_info": {
      "codemirror_mode": {
        "name": "ipython",
        "version": 3
      },
      "file_extension": ".py",
      "mimetype": "text/x-python",
      "name": "python",
      "nbconvert_exporter": "python",
      "pygments_lexer": "ipython3",
      "version": "3.6.1"
    }
  },
  "nbformat": 4,
  "nbformat_minor": 4
}