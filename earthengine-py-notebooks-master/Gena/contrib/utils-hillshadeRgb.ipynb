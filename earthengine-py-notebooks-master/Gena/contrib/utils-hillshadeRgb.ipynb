{
  "cells": [
    {
      "cell_type": "markdown",
      "metadata": {},
      "source": [
        "<table class=\"ee-notebook-buttons\" align=\"left\">\n",
        "    <td><a target=\"_blank\"  href=\"https://github.com/giswqs/earthengine-py-notebooks/tree/master/Gena/contrib/utils-hillshadeRgb.ipynb\"><img width=32px src=\"https://www.tensorflow.org/images/GitHub-Mark-32px.png\" /> View source on GitHub</a></td>\n",
        "    <td><a target=\"_blank\"  href=\"https://nbviewer.jupyter.org/github/giswqs/earthengine-py-notebooks/blob/master/Gena/contrib/utils-hillshadeRgb.ipynb\"><img width=26px src=\"https://upload.wikimedia.org/wikipedia/commons/thumb/3/38/Jupyter_logo.svg/883px-Jupyter_logo.svg.png\" />Notebook Viewer</a></td>\n",
        "    <td><a target=\"_blank\"  href=\"https://colab.research.google.com/github/giswqs/earthengine-py-notebooks/blob/master/Gena/contrib/utils-hillshadeRgb.ipynb\"><img src=\"https://www.tensorflow.org/images/colab_logo_32px.png\" /> Run in Google Colab</a></td>\n",
        "</table>"
      ]
    },
    {
      "cell_type": "markdown",
      "metadata": {},
      "source": [
        "## Install Earth Engine API and geemap\n",
        "Install the [Earth Engine Python API](https://developers.google.com/earth-engine/python_install) and [geemap](https://geemap.org). The **geemap** Python package is built upon the [ipyleaflet](https://github.com/jupyter-widgets/ipyleaflet) and [folium](https://github.com/python-visualization/folium) packages and implements several methods for interacting with Earth Engine data layers, such as `Map.addLayer()`, `Map.setCenter()`, and `Map.centerObject()`.\n",
        "The following script checks if the geemap package has been installed. If not, it will install geemap, which automatically installs its [dependencies](https://github.com/giswqs/geemap#dependencies), including earthengine-api, folium, and ipyleaflet."
      ]
    },
    {
      "cell_type": "code",
      "metadata": {},
      "source": [
        "# Installs geemap package\n",
        "import subprocess\n",
        "\n",
        "try:\n",
        "    import geemap\n",
        "except ImportError:\n",
        "    print('Installing geemap ...')\n",
        "    subprocess.check_call([\"python\", '-m', 'pip', 'install', 'geemap'])"
      ],
      "outputs": [],
      "execution_count": null
    },
    {
      "cell_type": "code",
      "metadata": {},
      "source": [
        "import ee\n",
        "import geemap"
      ],
      "outputs": [],
      "execution_count": null
    },
    {
      "cell_type": "markdown",
      "metadata": {},
      "source": [
        "## Create an interactive map \n",
        "The default basemap is `Google Maps`. [Additional basemaps](https://github.com/giswqs/geemap/blob/master/geemap/basemaps.py) can be added using the `Map.add_basemap()` function. "
      ]
    },
    {
      "cell_type": "code",
      "metadata": {},
      "source": [
        "Map = geemap.Map(center=[40,-100], zoom=4)\n",
        "Map"
      ],
      "outputs": [],
      "execution_count": null
    },
    {
      "cell_type": "markdown",
      "metadata": {},
      "source": [
        "## Add Earth Engine Python script "
      ]
    },
    {
      "cell_type": "code",
      "metadata": {},
      "source": [
        "# Add Earth Engine dataset\n",
        "from ee_plugin.contrib import utils, palettes\n",
        "\n",
        "dem = ee.Image(\"AHN/AHN2_05M_RUW\") \\\n",
        "  .resample('bicubic') \\\n",
        "  .focal_max(0.5, 'circle', 'meters') \\\n",
        "  .convolve(ee.Kernel.gaussian(0.5, 0.25, 'meters'))\n",
        "\n",
        "# See https://github.com/gee-community/ee-palettes \n",
        "# for the full list of supported color palettes\n",
        "# palette = palettes.crameri['lisbon'][50]\n",
        "palette = palettes.crameri['oleron'][50]\n",
        "# palette = palettes.crameri['roma'][50][::-1] # reversed\n",
        "# palette = palettes.crameri['batlow'][50]\n",
        "\n",
        "demRGB = dem.visualize(**{ 'min': -5, 'max': 5, 'palette': palette })\n",
        "Map.addLayer(demRGB , {}, 'DEM (RGB)', False)\n",
        "\n",
        "weight = 0.5 # hillshade vs RGB intensity (0 - flat, 1 - HS)\n",
        "exaggeration = 3 # vertical exaggeration\n",
        "azimuth = 300 # Sun azimuth\n",
        "zenith = 25 # Sun elevation\n",
        "brightness = -0.05 # 0 - default\n",
        "contrast = 0.05 # 0 - default\n",
        "saturation = 0.8 # 1 - default\n",
        "castShadows = False\n",
        "\n",
        "# no shadows\n",
        "rgb = utils.hillshadeRGB(demRGB, dem, weight, exaggeration,\n",
        "    azimuth, zenith, contrast, brightness, saturation, castShadows)\n",
        "Map.addLayer(rgb, {}, 'DEM (hillshade)', False)\n",
        "\n",
        "# with shadows\n",
        "castShadows = True\n",
        "rgb = utils.hillshadeRGB(demRGB, dem, weight, exaggeration, \n",
        "    azimuth, zenith, contrast, brightness, saturation, castShadows)\n",
        "Map.addLayer(rgb, {}, 'DEM (hillshade, shadows)')\n",
        "\n",
        "\n",
        "# Map.setCenter(4.407, 52.177, 18)\n"
      ],
      "outputs": [],
      "execution_count": null
    },
    {
      "cell_type": "markdown",
      "metadata": {},
      "source": [
        "## Display Earth Engine data layers "
      ]
    },
    {
      "cell_type": "code",
      "metadata": {},
      "source": [
        "Map.addLayerControl() # This line is not needed for ipyleaflet-based Map.\n",
        "Map"
      ],
      "outputs": [],
      "execution_count": null
    }
  ],
  "metadata": {
    "anaconda-cloud": {},
    "kernelspec": {
      "display_name": "Python 3",
      "language": "python",
      "name": "python3"
    },
    "language_info": {
      "codemirror_mode": {
        "name": "ipython",
        "version": 3
      },
      "file_extension": ".py",
      "mimetype": "text/x-python",
      "name": "python",
      "nbconvert_exporter": "python",
      "pygments_lexer": "ipython3",
      "version": "3.6.1"
    }
  },
  "nbformat": 4,
  "nbformat_minor": 4
}