{
  "cells": [
    {
      "cell_type": "markdown",
      "metadata": {},
      "source": [
        "<table class=\"ee-notebook-buttons\" align=\"left\">\n",
        "    <td><a target=\"_blank\"  href=\"https://github.com/giswqs/earthengine-py-notebooks/tree/master/ImageCollection/reducing_collection.ipynb\"><img width=32px src=\"https://www.tensorflow.org/images/GitHub-Mark-32px.png\" /> View source on GitHub</a></td>\n",
        "    <td><a target=\"_blank\"  href=\"https://nbviewer.jupyter.org/github/giswqs/earthengine-py-notebooks/blob/master/ImageCollection/reducing_collection.ipynb\"><img width=26px src=\"https://upload.wikimedia.org/wikipedia/commons/thumb/3/38/Jupyter_logo.svg/883px-Jupyter_logo.svg.png\" />Notebook Viewer</a></td>\n",
        "    <td><a target=\"_blank\"  href=\"https://colab.research.google.com/github/giswqs/earthengine-py-notebooks/blob/master/ImageCollection/reducing_collection.ipynb\"><img src=\"https://www.tensorflow.org/images/colab_logo_32px.png\" /> Run in Google Colab</a></td>\n",
        "</table>"
      ]
    },
    {
      "cell_type": "markdown",
      "metadata": {},
      "source": [
        "## Install Earth Engine API and geemap\n",
        "Install the [Earth Engine Python API](https://developers.google.com/earth-engine/python_install) and [geemap](https://geemap.org). The **geemap** Python package is built upon the [ipyleaflet](https://github.com/jupyter-widgets/ipyleaflet) and [folium](https://github.com/python-visualization/folium) packages and implements several methods for interacting with Earth Engine data layers, such as `Map.addLayer()`, `Map.setCenter()`, and `Map.centerObject()`.\n",
        "The following script checks if the geemap package has been installed. If not, it will install geemap, which automatically installs its [dependencies](https://github.com/giswqs/geemap#dependencies), including earthengine-api, folium, and ipyleaflet."
      ]
    },
    {
      "cell_type": "code",
      "metadata": {},
      "source": [
        "# Installs geemap package\n",
        "import subprocess\n",
        "\n",
        "try:\n",
        "    import geemap\n",
        "except ImportError:\n",
        "    print('Installing geemap ...')\n",
        "    subprocess.check_call([\"python\", '-m', 'pip', 'install', 'geemap'])"
      ],
      "outputs": [],
      "execution_count": null
    },
    {
      "cell_type": "code",
      "metadata": {},
      "source": [
        "import ee\n",
        "import geemap"
      ],
      "outputs": [],
      "execution_count": null
    },
    {
      "cell_type": "markdown",
      "metadata": {},
      "source": [
        "## Create an interactive map \n",
        "The default basemap is `Google Maps`. [Additional basemaps](https://github.com/giswqs/geemap/blob/master/geemap/basemaps.py) can be added using the `Map.add_basemap()` function. "
      ]
    },
    {
      "cell_type": "code",
      "metadata": {},
      "source": [
        "Map = geemap.Map(center=[40,-100], zoom=4)\n",
        "Map"
      ],
      "outputs": [],
      "execution_count": null
    },
    {
      "cell_type": "markdown",
      "metadata": {},
      "source": [
        "## Add Earth Engine Python script "
      ]
    },
    {
      "cell_type": "code",
      "metadata": {},
      "source": [
        "# Add Earth Engine dataset\n",
        "def addTime(image):\n",
        "    return image.addBands(image.metadata('system:time_start').divide(1000 * 60 * 60 * 24 * 365))\n",
        "\n",
        "# Load a Landsat 8 collection for a single path-row.\n",
        "collection = ee.ImageCollection('LANDSAT/LC08/C01/T1_TOA') \\\n",
        "    .filter(ee.Filter.eq('WRS_PATH', 44)) \\\n",
        "    .filter(ee.Filter.eq('WRS_ROW', 34)) \\\n",
        "    .filterDate('2014-01-01', '2015-01-01')\n",
        "\n",
        "# Compute a median image and display.\n",
        "median = collection.median()\n",
        "Map.setCenter(-122.3578, 37.7726, 12)\n",
        "Map.addLayer(median, {'bands': ['B4', 'B3', 'B2'], 'max': 0.3}, 'median')\n",
        "\n",
        "\n",
        "# Reduce the collection with a median reducer.\n",
        "median = collection.reduce(ee.Reducer.median())\n",
        "\n",
        "# Display the median image.\n",
        "Map.addLayer(median,\n",
        "             {'bands': ['B4_median', 'B3_median', 'B2_median'], 'max': 0.3},\n",
        "             'also median')\n",
        "\n",
        "\n",
        "# # This function adds a band representing the image timestamp.\n",
        "# addTime = function(image) {\n",
        "#   return image.addBands(image.metadata('system:time_start')\n",
        "#     # Convert milliseconds from epoch to years to aid in\n",
        "#     # interpretation of the following trend calculation. \\\n",
        "#     .divide(1000 * 60 * 60 * 24 * 365))\n",
        "# }\n",
        "\n",
        "# Load a MODIS collection, filter to several years of 16 day mosaics,\n",
        "# and map the time band function over it.\n",
        "collection = ee.ImageCollection('MODIS/006/MYD13A1') \\\n",
        "  .filterDate('2004-01-01', '2010-10-31') \\\n",
        "  .map(addTime)\n",
        "\n",
        "# Select the bands to model with the independent variable first.\n",
        "trend = collection.select(['system:time_start', 'EVI']) \\\n",
        "  .reduce(ee.Reducer.linearFit())\n",
        "\n",
        "# Display the trend with increasing slopes in green, decreasing in red.\n",
        "Map.setCenter(-96.943, 39.436, 5)\n",
        "Map.addLayer(\n",
        "    trend,\n",
        "    {'min': 0, 'max': [-100, 100, 10000], 'bands': ['scale', 'scale', 'offset']},\n",
        "    'EVI trend')\n",
        "\n"
      ],
      "outputs": [],
      "execution_count": null
    },
    {
      "cell_type": "markdown",
      "metadata": {},
      "source": [
        "## Display Earth Engine data layers "
      ]
    },
    {
      "cell_type": "code",
      "metadata": {},
      "source": [
        "Map.addLayerControl() # This line is not needed for ipyleaflet-based Map.\n",
        "Map"
      ],
      "outputs": [],
      "execution_count": null
    }
  ],
  "metadata": {
    "anaconda-cloud": {},
    "kernelspec": {
      "display_name": "Python 3",
      "language": "python",
      "name": "python3"
    },
    "language_info": {
      "codemirror_mode": {
        "name": "ipython",
        "version": 3
      },
      "file_extension": ".py",
      "mimetype": "text/x-python",
      "name": "python",
      "nbconvert_exporter": "python",
      "pygments_lexer": "ipython3",
      "version": "3.6.1"
    }
  },
  "nbformat": 4,
  "nbformat_minor": 4
}