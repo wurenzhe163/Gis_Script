{
  "cells": [
    {
      "cell_type": "markdown",
      "metadata": {},
      "source": [
        "<table class=\"ee-notebook-buttons\" align=\"left\">\n",
        "    <td><a target=\"_blank\"  href=\"https://github.com/giswqs/earthengine-py-notebooks/tree/master/FeatureCollection/idw_interpolation.ipynb\"><img width=32px src=\"https://www.tensorflow.org/images/GitHub-Mark-32px.png\" /> View source on GitHub</a></td>\n",
        "    <td><a target=\"_blank\"  href=\"https://nbviewer.jupyter.org/github/giswqs/earthengine-py-notebooks/blob/master/FeatureCollection/idw_interpolation.ipynb\"><img width=26px src=\"https://upload.wikimedia.org/wikipedia/commons/thumb/3/38/Jupyter_logo.svg/883px-Jupyter_logo.svg.png\" />Notebook Viewer</a></td>\n",
        "    <td><a target=\"_blank\"  href=\"https://colab.research.google.com/github/giswqs/earthengine-py-notebooks/blob/master/FeatureCollection/idw_interpolation.ipynb\"><img src=\"https://www.tensorflow.org/images/colab_logo_32px.png\" /> Run in Google Colab</a></td>\n",
        "</table>"
      ]
    },
    {
      "cell_type": "markdown",
      "metadata": {},
      "source": [
        "## Install Earth Engine API and geemap\n",
        "Install the [Earth Engine Python API](https://developers.google.com/earth-engine/python_install) and [geemap](https://geemap.org). The **geemap** Python package is built upon the [ipyleaflet](https://github.com/jupyter-widgets/ipyleaflet) and [folium](https://github.com/python-visualization/folium) packages and implements several methods for interacting with Earth Engine data layers, such as `Map.addLayer()`, `Map.setCenter()`, and `Map.centerObject()`.\n",
        "The following script checks if the geemap package has been installed. If not, it will install geemap, which automatically installs its [dependencies](https://github.com/giswqs/geemap#dependencies), including earthengine-api, folium, and ipyleaflet."
      ]
    },
    {
      "cell_type": "code",
      "metadata": {},
      "source": [
        "# Installs geemap package\n",
        "import subprocess\n",
        "\n",
        "try:\n",
        "    import geemap\n",
        "except ImportError:\n",
        "    print('Installing geemap ...')\n",
        "    subprocess.check_call([\"python\", '-m', 'pip', 'install', 'geemap'])"
      ],
      "outputs": [],
      "execution_count": null
    },
    {
      "cell_type": "code",
      "metadata": {},
      "source": [
        "import ee\n",
        "import geemap"
      ],
      "outputs": [],
      "execution_count": null
    },
    {
      "cell_type": "markdown",
      "metadata": {},
      "source": [
        "## Create an interactive map \n",
        "The default basemap is `Google Maps`. [Additional basemaps](https://github.com/giswqs/geemap/blob/master/geemap/basemaps.py) can be added using the `Map.add_basemap()` function. "
      ]
    },
    {
      "cell_type": "code",
      "metadata": {},
      "source": [
        "Map = geemap.Map(center=[40,-100], zoom=4)\n",
        "Map"
      ],
      "outputs": [],
      "execution_count": null
    },
    {
      "cell_type": "markdown",
      "metadata": {},
      "source": [
        "## Add Earth Engine Python script "
      ]
    },
    {
      "cell_type": "code",
      "metadata": {},
      "source": [
        "# Add Earth Engine dataset\n",
        "def sampling(sample):\n",
        "    lat = sample.get('latitude')\n",
        "    lon = sample.get('longitude')\n",
        "    ch4 = sample.get('ch4')\n",
        "    return ee.Feature(ee.Geometry.Point([lon, lat]), {'ch4': ch4})\n",
        "\n",
        "# Import two weeks of S5P methane and composite by mean.\n",
        "ch4 = ee.ImageCollection('COPERNICUS/S5P/OFFL/L3_CH4') \\\n",
        "  .select('CH4_column_volume_mixing_ratio_dry_air') \\\n",
        "  .filterDate('2019-08-01', '2019-08-15') \\\n",
        "  .mean() \\\n",
        "  .rename('ch4')\n",
        "\n",
        "# Define an area to perform interpolation over.\n",
        "aoi = ee.Geometry.Polygon(\n",
        "    [[[-95.68487605978851, 43.09844605027055],\n",
        "       [-95.68487605978851, 37.39358590079781],\n",
        "       [-87.96148738791351, 37.39358590079781],\n",
        "       [-87.96148738791351, 43.09844605027055]]], {}, False)\n",
        "\n",
        "# Sample the methane composite to generate a FeatureCollection.\n",
        "samples = ch4.addBands(ee.Image.pixelLonLat()) \\\n",
        "  .sample(**{'region': aoi, 'numPixels': 1500,\n",
        "    'scale':1000, 'projection': 'EPSG:4326'}) \\\n",
        "  .map(sampling)\n",
        "\n",
        "# Combine mean and standard deviation reducers for efficiency.\n",
        "combinedReducer = ee.Reducer.mean().combine(**{\n",
        "  'reducer2': ee.Reducer.stdDev(),\n",
        "  'sharedInputs': True})\n",
        "\n",
        "# Estimate global mean and standard deviation from the points.\n",
        "stats = samples.reduceColumns(**{\n",
        "  'reducer': combinedReducer,\n",
        "  'selectors': ['ch4']})\n",
        "\n",
        "# Do the interpolation, valid to 70 kilometers.\n",
        "interpolated = samples.inverseDistance(**{\n",
        "  'range': 7e4,\n",
        "  'propertyName': 'ch4',\n",
        "  'mean': stats.get('mean'),\n",
        "  'stdDev': stats.get('stdDev'),\n",
        "  'gamma': 0.3})\n",
        "\n",
        "# Define visualization arguments.\n",
        "band_viz = {\n",
        "  'min': 1800,\n",
        "  'max': 1900,\n",
        "  'palette': ['0D0887', '5B02A3', '9A179B', 'CB4678',\n",
        "            'EB7852', 'FBB32F', 'F0F921']}\n",
        "\n",
        "# Display to map.\n",
        "# Map.centerObject(ee.FeatureCollection(aoi), 7)\n",
        "Map.addLayer(ch4, band_viz, 'CH4')\n",
        "# Map.addLayer(interpolated, band_viz, 'CH4 Interpolated')\n"
      ],
      "outputs": [],
      "execution_count": null
    },
    {
      "cell_type": "markdown",
      "metadata": {},
      "source": [
        "## Display Earth Engine data layers "
      ]
    },
    {
      "cell_type": "code",
      "metadata": {},
      "source": [
        "Map.addLayerControl() # This line is not needed for ipyleaflet-based Map.\n",
        "Map"
      ],
      "outputs": [],
      "execution_count": null
    }
  ],
  "metadata": {
    "anaconda-cloud": {},
    "kernelspec": {
      "display_name": "Python 3",
      "language": "python",
      "name": "python3"
    },
    "language_info": {
      "codemirror_mode": {
        "name": "ipython",
        "version": 3
      },
      "file_extension": ".py",
      "mimetype": "text/x-python",
      "name": "python",
      "nbconvert_exporter": "python",
      "pygments_lexer": "ipython3",
      "version": "3.6.1"
    }
  },
  "nbformat": 4,
  "nbformat_minor": 4
}