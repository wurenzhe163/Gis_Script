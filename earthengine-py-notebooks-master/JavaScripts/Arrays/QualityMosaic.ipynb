{
  "cells": [
    {
      "cell_type": "markdown",
      "metadata": {},
      "source": [
        "<table class=\"ee-notebook-buttons\" align=\"left\">\n",
        "    <td><a target=\"_blank\"  href=\"https://github.com/giswqs/earthengine-py-notebooks/tree/master/JavaScripts/Arrays/QualityMosaic.ipynb\"><img width=32px src=\"https://www.tensorflow.org/images/GitHub-Mark-32px.png\" /> View source on GitHub</a></td>\n",
        "    <td><a target=\"_blank\"  href=\"https://nbviewer.jupyter.org/github/giswqs/earthengine-py-notebooks/blob/master/JavaScripts/Arrays/QualityMosaic.ipynb\"><img width=26px src=\"https://upload.wikimedia.org/wikipedia/commons/thumb/3/38/Jupyter_logo.svg/883px-Jupyter_logo.svg.png\" />Notebook Viewer</a></td>\n",
        "    <td><a target=\"_blank\"  href=\"https://colab.research.google.com/github/giswqs/earthengine-py-notebooks/blob/master/JavaScripts/Arrays/QualityMosaic.ipynb\"><img src=\"https://www.tensorflow.org/images/colab_logo_32px.png\" /> Run in Google Colab</a></td>\n",
        "</table>"
      ]
    },
    {
      "cell_type": "markdown",
      "metadata": {},
      "source": [
        "## Install Earth Engine API and geemap\n",
        "Install the [Earth Engine Python API](https://developers.google.com/earth-engine/python_install) and [geemap](https://github.com/giswqs/geemap). The **geemap** Python package is built upon the [ipyleaflet](https://github.com/jupyter-widgets/ipyleaflet) and [folium](https://github.com/python-visualization/folium) packages and implements several methods for interacting with Earth Engine data layers, such as `Map.addLayer()`, `Map.setCenter()`, and `Map.centerObject()`.\n",
        "The following script checks if the geemap package has been installed. If not, it will install geemap, which automatically installs its [dependencies](https://github.com/giswqs/geemap#dependencies), including earthengine-api, folium, and ipyleaflet.\n",
        "\n",
        "**Important note**: A key difference between folium and ipyleaflet is that ipyleaflet is built upon ipywidgets and allows bidirectional communication between the front-end and the backend enabling the use of the map to capture user input, while folium is meant for displaying static data only ([source](https://blog.jupyter.org/interactive-gis-in-jupyter-with-ipyleaflet-52f9657fa7a)). Note that [Google Colab](https://colab.research.google.com/) currently does not support ipyleaflet ([source](https://github.com/googlecolab/colabtools/issues/60#issuecomment-596225619)). Therefore, if you are using geemap with Google Colab, you should use [`import geemap.eefolium`](https://github.com/giswqs/geemap/blob/master/geemap/eefolium.py). If you are using geemap with [binder](https://mybinder.org/) or a local Jupyter notebook server, you can use [`import geemap`](https://github.com/giswqs/geemap/blob/master/geemap/geemap.py), which provides more functionalities for capturing user input (e.g., mouse-clicking and moving)."
      ]
    },
    {
      "cell_type": "code",
      "metadata": {},
      "source": [
        "# Installs geemap package\n",
        "import subprocess\n",
        "\n",
        "try:\n",
        "    import geemap\n",
        "except ImportError:\n",
        "    print('geemap package not installed. Installing ...')\n",
        "    subprocess.check_call([\"python\", '-m', 'pip', 'install', 'geemap'])\n",
        "\n",
        "# Checks whether this notebook is running on Google Colab\n",
        "try:\n",
        "    import google.colab\n",
        "    import geemap.eefolium as geemap\n",
        "except:\n",
        "    import geemap\n",
        "\n",
        "# Authenticates and initializes Earth Engine\n",
        "import ee\n",
        "\n",
        "try:\n",
        "    ee.Initialize()\n",
        "except Exception as e:\n",
        "    ee.Authenticate()\n",
        "    ee.Initialize()  "
      ],
      "outputs": [],
      "execution_count": null
    },
    {
      "cell_type": "markdown",
      "metadata": {},
      "source": [
        "## Create an interactive map \n",
        "The default basemap is `Google MapS`. [Additional basemaps](https://github.com/giswqs/geemap/blob/master/geemap/basemaps.py) can be added using the `Map.add_basemap()` function. "
      ]
    },
    {
      "cell_type": "code",
      "metadata": {},
      "source": [
        "Map = geemap.Map(center=[40,-100], zoom=4)\n",
        "Map"
      ],
      "outputs": [],
      "execution_count": null
    },
    {
      "cell_type": "markdown",
      "metadata": {},
      "source": [
        "## Add Earth Engine Python script "
      ]
    },
    {
      "cell_type": "code",
      "metadata": {},
      "source": [
        "# Add Earth Engine dataset\n",
        "# Array-based quality mosaic.\n",
        "\n",
        "# Returns a mosaic built by sorting each stack of pixels by the first band\n",
        "# in descending order, and taking the highest quality pixel.\n",
        "def qualityMosaic(bands):\n",
        "  # Convert to an array, and declare names for the axes and indices along the\n",
        "  # band axis.\n",
        "  array = bands.toArray()\n",
        "  imageAxis = 0\n",
        "  bandAxis = 1\n",
        "  qualityIndex = 0\n",
        "  valuesIndex = 1\n",
        "\n",
        "  # Slice the quality and values off the main array, and sort the values by the\n",
        "  # quality in descending order.\n",
        "  quality = array.arraySlice(bandAxis, qualityIndex, qualityIndex + 1)\n",
        "  values = array.arraySlice(bandAxis, valuesIndex)\n",
        "  valuesByQuality = values.arraySort(quality.multiply(-1))\n",
        "\n",
        "  # Get an image where each pixel is the array of band values where the quality\n",
        "  # band is greatest. Note that while the array is 2-D, the first axis is\n",
        "  # length one.\n",
        "  best = valuesByQuality.arraySlice(imageAxis, 0, 1)\n",
        "\n",
        "  # Project the best 2D array down to a single dimension, and convert it back\n",
        "  # to a regular scalar image by naming each position along the axis. Note we\n",
        "  # provide the original band names, but slice off the first band since the\n",
        "  # quality band is not part of the result. Also note to get at the band names,\n",
        "  # we have to do some kind of reduction, but it won't really calculate pixels\n",
        "  # if we only access the band names.\n",
        "  bandNames = bands.min().bandNames().slice(1)\n",
        "  return best.arrayProject([bandAxis]).arrayFlatten([bandNames])\n",
        "\n",
        "\n",
        "# Load the l7_l1t collection for the year 2000, and make sure the first band\n",
        "# is our quality measure, in this case the normalized difference values.\n",
        "l7 = ee.ImageCollection('LANDSAT/LE07/C01/T1') \\\n",
        "    .filterDate('2000-01-01', '2001-01-01')\n",
        "\n",
        "def func_ned(image):\n",
        "  return image.normalizedDifference(['B4', 'B3']).addBands(image)\n",
        "\n",
        "withNd = l7.map(func_ned)\n",
        "\n",
        "\n",
        "\n",
        "\n",
        "# Build a mosaic using the NDVI of bands 4 and 3, essentially showing the\n",
        "# greenest pixels from the year 2000.\n",
        "greenest = qualityMosaic(withNd)\n",
        "\n",
        "# Select out the color bands to visualize. An interesting artifact of this\n",
        "# approach is that clouds are greener than water. So all the water is white.\n",
        "rgb = greenest.select(['B3', 'B2', 'B1'])\n",
        "\n",
        "Map.addLayer(rgb, {'gain': [1.4, 1.4, 1.1]}, 'Greenest')\n",
        "Map.setCenter(-90.08789, 16.38339, 11)\n",
        "\n"
      ],
      "outputs": [],
      "execution_count": null
    },
    {
      "cell_type": "markdown",
      "metadata": {},
      "source": [
        "## Display Earth Engine data layers "
      ]
    },
    {
      "cell_type": "code",
      "metadata": {},
      "source": [
        "Map.addLayerControl() # This line is not needed for ipyleaflet-based Map.\n",
        "Map"
      ],
      "outputs": [],
      "execution_count": null
    }
  ],
  "metadata": {
    "anaconda-cloud": {},
    "kernelspec": {
      "display_name": "Python 3",
      "language": "python",
      "name": "python3"
    },
    "language_info": {
      "codemirror_mode": {
        "name": "ipython",
        "version": 3
      },
      "file_extension": ".py",
      "mimetype": "text/x-python",
      "name": "python",
      "nbconvert_exporter": "python",
      "pygments_lexer": "ipython3",
      "version": "3.6.1"
    }
  },
  "nbformat": 4,
  "nbformat_minor": 1
}