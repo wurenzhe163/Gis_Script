{
  "cells": [
    {
      "cell_type": "markdown",
      "metadata": {},
      "source": [
        "<table class=\"ee-notebook-buttons\" align=\"left\">\n",
        "    <td><a target=\"_blank\"  href=\"https://github.com/giswqs/earthengine-py-notebooks/tree/master/JavaScripts/ImageCollection/SimpleCloudScore.ipynb\"><img width=32px src=\"https://www.tensorflow.org/images/GitHub-Mark-32px.png\" /> View source on GitHub</a></td>\n",
        "    <td><a target=\"_blank\"  href=\"https://nbviewer.jupyter.org/github/giswqs/earthengine-py-notebooks/blob/master/JavaScripts/ImageCollection/SimpleCloudScore.ipynb\"><img width=26px src=\"https://upload.wikimedia.org/wikipedia/commons/thumb/3/38/Jupyter_logo.svg/883px-Jupyter_logo.svg.png\" />Notebook Viewer</a></td>\n",
        "    <td><a target=\"_blank\"  href=\"https://colab.research.google.com/github/giswqs/earthengine-py-notebooks/blob/master/JavaScripts/ImageCollection/SimpleCloudScore.ipynb\"><img src=\"https://www.tensorflow.org/images/colab_logo_32px.png\" /> Run in Google Colab</a></td>\n",
        "</table>"
      ]
    },
    {
      "cell_type": "markdown",
      "metadata": {},
      "source": [
        "## Install Earth Engine API and geemap\n",
        "Install the [Earth Engine Python API](https://developers.google.com/earth-engine/python_install) and [geemap](https://github.com/giswqs/geemap). The **geemap** Python package is built upon the [ipyleaflet](https://github.com/jupyter-widgets/ipyleaflet) and [folium](https://github.com/python-visualization/folium) packages and implements several methods for interacting with Earth Engine data layers, such as `Map.addLayer()`, `Map.setCenter()`, and `Map.centerObject()`.\n",
        "The following script checks if the geemap package has been installed. If not, it will install geemap, which automatically installs its [dependencies](https://github.com/giswqs/geemap#dependencies), including earthengine-api, folium, and ipyleaflet.\n",
        "\n",
        "**Important note**: A key difference between folium and ipyleaflet is that ipyleaflet is built upon ipywidgets and allows bidirectional communication between the front-end and the backend enabling the use of the map to capture user input, while folium is meant for displaying static data only ([source](https://blog.jupyter.org/interactive-gis-in-jupyter-with-ipyleaflet-52f9657fa7a)). Note that [Google Colab](https://colab.research.google.com/) currently does not support ipyleaflet ([source](https://github.com/googlecolab/colabtools/issues/60#issuecomment-596225619)). Therefore, if you are using geemap with Google Colab, you should use [`import geemap.eefolium`](https://github.com/giswqs/geemap/blob/master/geemap/eefolium.py). If you are using geemap with [binder](https://mybinder.org/) or a local Jupyter notebook server, you can use [`import geemap`](https://github.com/giswqs/geemap/blob/master/geemap/geemap.py), which provides more functionalities for capturing user input (e.g., mouse-clicking and moving)."
      ]
    },
    {
      "cell_type": "code",
      "metadata": {},
      "source": [
        "# Installs geemap package\n",
        "import subprocess\n",
        "\n",
        "try:\n",
        "    import geemap\n",
        "except ImportError:\n",
        "    print('geemap package not installed. Installing ...')\n",
        "    subprocess.check_call([\"python\", '-m', 'pip', 'install', 'geemap'])\n",
        "\n",
        "# Checks whether this notebook is running on Google Colab\n",
        "try:\n",
        "    import google.colab\n",
        "    import geemap.eefolium as geemap\n",
        "except:\n",
        "    import geemap\n",
        "\n",
        "# Authenticates and initializes Earth Engine\n",
        "import ee\n",
        "\n",
        "try:\n",
        "    ee.Initialize()\n",
        "except Exception as e:\n",
        "    ee.Authenticate()\n",
        "    ee.Initialize()  "
      ],
      "outputs": [],
      "execution_count": null
    },
    {
      "cell_type": "markdown",
      "metadata": {},
      "source": [
        "## Create an interactive map \n",
        "The default basemap is `Google MapS`. [Additional basemaps](https://github.com/giswqs/geemap/blob/master/geemap/basemaps.py) can be added using the `Map.add_basemap()` function. "
      ]
    },
    {
      "cell_type": "code",
      "metadata": {},
      "source": [
        "Map = geemap.Map(center=[40,-100], zoom=4)\n",
        "Map"
      ],
      "outputs": [],
      "execution_count": null
    },
    {
      "cell_type": "markdown",
      "metadata": {},
      "source": [
        "## Add Earth Engine Python script "
      ]
    },
    {
      "cell_type": "code",
      "metadata": {},
      "source": [
        "# Add Earth Engine dataset\n",
        "# SimpleCloudScore, an example of computing a cloud-free composite with L8\n",
        "# by selecting the least-cloudy pixel from the collection.\n",
        "\n",
        "# A mapping from a common name to the sensor-specific bands.\n",
        "LC8_BANDS = ['B2',   'B3',    'B4',  'B5',  'B6',    'B7',    'B10']\n",
        "STD_NAMES = ['blue', 'green', 'red', 'nir', 'swir1', 'swir2', 'temp']\n",
        "\n",
        "# Compute a cloud score.  This expects the input image to have the common\n",
        "# band names: [\"red\", \"blue\", etc], so it can work across sensors.\n",
        "def cloudScore(img):\n",
        "  # A helper to apply an expression and linearly rescale the output.\n",
        "  def rescale(img, exp, thresholds):\n",
        "    return img.expression(exp, {'img': img}) \\\n",
        "        .subtract(thresholds[0]).divide(thresholds[1] - thresholds[0])\n",
        "  \n",
        "\n",
        "  # Compute several indicators of cloudyness and take the minimum of them.\n",
        "  score = ee.Image(1.0)\n",
        "  # Clouds are reasonably bright in the blue band.\n",
        "  score = score.min(rescale(img, 'img.blue', [0.1, 0.3]))\n",
        "\n",
        "  # Clouds are reasonably bright in all visible bands.\n",
        "  score = score.min(rescale(img, 'img.red + img.green + img.blue', [0.2, 0.8]))\n",
        "\n",
        "  # Clouds are reasonably bright in all infrared bands.\n",
        "  score = score.min(\n",
        "      rescale(img, 'img.nir + img.swir1 + img.swir2', [0.3, 0.8]))\n",
        "\n",
        "  # Clouds are reasonably cool in temperature.\n",
        "  score = score.min(rescale(img, 'img.temp', [300, 290]))\n",
        "\n",
        "  # However, clouds are not snow.\n",
        "  ndsi = img.normalizedDifference(['green', 'swir1'])\n",
        "  return score.min(rescale(ndsi, 'img', [0.8, 0.6]))\n",
        "\n",
        "\n",
        "# Filter the TOA collection to a time-range and add the cloudscore band.\n",
        "collection = ee.ImageCollection('LANDSAT/LC08/C01/T1_TOA') \\\n",
        "    .filterDate('2017-05-01', '2017-07-01')\n",
        "\n",
        "def func_yyl(img):\n",
        "      # Invert the cloudscore so 1 is least cloudy, and rename the band.\n",
        "      score = cloudScore(img.select(LC8_BANDS, STD_NAMES))\n",
        "      score = ee.Image(1).subtract(score).select([0], ['cloudscore'])\n",
        "      return img.addBands(score) \\\n",
        "    .map(func_yyl)\n",
        "\n",
        "\n",
        "\n",
        "\n",
        "\n",
        "\n",
        "\n",
        "# Define visualization parameters for a True color image.\n",
        "vizParams = {'bands': ['B4',  'B3',  'B2'], 'max': 0.4, 'gamma': 1.6}\n",
        "Map.setCenter(-120.24487, 37.52280, 8)\n",
        "Map.addLayer(collection.qualityMosaic('cloudscore'), vizParams)\n"
      ],
      "outputs": [],
      "execution_count": null
    },
    {
      "cell_type": "markdown",
      "metadata": {},
      "source": [
        "## Display Earth Engine data layers "
      ]
    },
    {
      "cell_type": "code",
      "metadata": {},
      "source": [
        "Map.addLayerControl() # This line is not needed for ipyleaflet-based Map.\n",
        "Map"
      ],
      "outputs": [],
      "execution_count": null
    }
  ],
  "metadata": {
    "anaconda-cloud": {},
    "kernelspec": {
      "display_name": "Python 3",
      "language": "python",
      "name": "python3"
    },
    "language_info": {
      "codemirror_mode": {
        "name": "ipython",
        "version": 3
      },
      "file_extension": ".py",
      "mimetype": "text/x-python",
      "name": "python",
      "nbconvert_exporter": "python",
      "pygments_lexer": "ipython3",
      "version": "3.6.1"
    }
  },
  "nbformat": 4,
  "nbformat_minor": 1
}