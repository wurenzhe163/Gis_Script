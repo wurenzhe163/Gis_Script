{
  "cells": [
    {
      "cell_type": "markdown",
      "metadata": {},
      "source": [
        "<table class=\"ee-notebook-buttons\" align=\"left\">\n",
        "    <td><a target=\"_blank\"  href=\"https://github.com/giswqs/earthengine-py-notebooks/tree/master/JavaScripts/Image/LandcoverCleanup.ipynb\"><img width=32px src=\"https://www.tensorflow.org/images/GitHub-Mark-32px.png\" /> View source on GitHub</a></td>\n",
        "    <td><a target=\"_blank\"  href=\"https://nbviewer.jupyter.org/github/giswqs/earthengine-py-notebooks/blob/master/JavaScripts/Image/LandcoverCleanup.ipynb\"><img width=26px src=\"https://upload.wikimedia.org/wikipedia/commons/thumb/3/38/Jupyter_logo.svg/883px-Jupyter_logo.svg.png\" />Notebook Viewer</a></td>\n",
        "    <td><a target=\"_blank\"  href=\"https://colab.research.google.com/github/giswqs/earthengine-py-notebooks/blob/master/JavaScripts/Image/LandcoverCleanup.ipynb\"><img src=\"https://www.tensorflow.org/images/colab_logo_32px.png\" /> Run in Google Colab</a></td>\n",
        "</table>"
      ]
    },
    {
      "cell_type": "markdown",
      "metadata": {},
      "source": [
        "## Install Earth Engine API and geemap\n",
        "Install the [Earth Engine Python API](https://developers.google.com/earth-engine/python_install) and [geemap](https://github.com/giswqs/geemap). The **geemap** Python package is built upon the [ipyleaflet](https://github.com/jupyter-widgets/ipyleaflet) and [folium](https://github.com/python-visualization/folium) packages and implements several methods for interacting with Earth Engine data layers, such as `Map.addLayer()`, `Map.setCenter()`, and `Map.centerObject()`.\n",
        "The following script checks if the geemap package has been installed. If not, it will install geemap, which automatically installs its [dependencies](https://github.com/giswqs/geemap#dependencies), including earthengine-api, folium, and ipyleaflet.\n",
        "\n",
        "**Important note**: A key difference between folium and ipyleaflet is that ipyleaflet is built upon ipywidgets and allows bidirectional communication between the front-end and the backend enabling the use of the map to capture user input, while folium is meant for displaying static data only ([source](https://blog.jupyter.org/interactive-gis-in-jupyter-with-ipyleaflet-52f9657fa7a)). Note that [Google Colab](https://colab.research.google.com/) currently does not support ipyleaflet ([source](https://github.com/googlecolab/colabtools/issues/60#issuecomment-596225619)). Therefore, if you are using geemap with Google Colab, you should use [`import geemap.eefolium`](https://github.com/giswqs/geemap/blob/master/geemap/eefolium.py). If you are using geemap with [binder](https://mybinder.org/) or a local Jupyter notebook server, you can use [`import geemap`](https://github.com/giswqs/geemap/blob/master/geemap/geemap.py), which provides more functionalities for capturing user input (e.g., mouse-clicking and moving)."
      ]
    },
    {
      "cell_type": "code",
      "metadata": {},
      "source": [
        "# Installs geemap package\n",
        "import subprocess\n",
        "\n",
        "try:\n",
        "    import geemap\n",
        "except ImportError:\n",
        "    print('geemap package not installed. Installing ...')\n",
        "    subprocess.check_call([\"python\", '-m', 'pip', 'install', 'geemap'])\n",
        "\n",
        "# Checks whether this notebook is running on Google Colab\n",
        "try:\n",
        "    import google.colab\n",
        "    import geemap.eefolium as geemap\n",
        "except:\n",
        "    import geemap\n",
        "\n",
        "# Authenticates and initializes Earth Engine\n",
        "import ee\n",
        "\n",
        "try:\n",
        "    ee.Initialize()\n",
        "except Exception as e:\n",
        "    ee.Authenticate()\n",
        "    ee.Initialize()  "
      ],
      "outputs": [],
      "execution_count": null
    },
    {
      "cell_type": "markdown",
      "metadata": {},
      "source": [
        "## Create an interactive map \n",
        "The default basemap is `Google MapS`. [Additional basemaps](https://github.com/giswqs/geemap/blob/master/geemap/basemaps.py) can be added using the `Map.add_basemap()` function. "
      ]
    },
    {
      "cell_type": "code",
      "metadata": {},
      "source": [
        "Map = geemap.Map(center=[40,-100], zoom=4)\n",
        "Map"
      ],
      "outputs": [],
      "execution_count": null
    },
    {
      "cell_type": "markdown",
      "metadata": {},
      "source": [
        "## Add Earth Engine Python script "
      ]
    },
    {
      "cell_type": "code",
      "metadata": {},
      "source": [
        "# Add Earth Engine dataset\n",
        "# Morphological processing of land cover.  This example\n",
        "# includes spatial smoothing (neighborhood mode) followed by\n",
        "# dilation, erosion and dilation again.  Reprojection is\n",
        "# used to force these operations to be performed at the\n",
        "# native scale of the input (rather than variable pixel\n",
        "# sizes based on zoom level).\n",
        "\n",
        "# Force projection of 500 meters/pixel, which is the native MODIS resolution.\n",
        "SCALE = 500\n",
        "\n",
        "# Load a 2001 MODIS land cover image.\n",
        "image1 = ee.Image('MODIS/051/MCD12Q1/2001_01_01')\n",
        "# Select the classification band of interest.\n",
        "image2 = image1.select(['Land_Cover_Type_1'])\n",
        "# Reproject to WGS84 to force the image to be reprojected on load.\n",
        "# This is just for display purposes, to visualize the input to\n",
        "# the following operations.  The next reproject is sufficient\n",
        "# to force the computation to occur at native scale.\n",
        "image3 = image2.reproject('EPSG:4326', {}, SCALE)\n",
        "# Smooth with a mode filter.\n",
        "image4 = image3.focal_mode()\n",
        "# Use erosion and dilation to get rid of small islands.\n",
        "image5 = image4.focal_max(3).focal_min(5).focal_max(3)\n",
        "# Reproject to force the operations to be performed at SCALE.\n",
        "image6 = image5.reproject('EPSG:4326', {}, SCALE)\n",
        "\n",
        "# Define display paramaters with appropriate colors for the MODIS\n",
        "# land cover classification image.\n",
        "PALETTE = [\n",
        "    'aec3d4', # water\n",
        "    '152106', '225129', '369b47', '30eb5b', '387242', # forest\n",
        "    '6a2325', 'c3aa69', 'b76031', 'd9903d', '91af40', # shrub, grass, savannah\n",
        "    '111149', # wetlands\n",
        "    'cdb33b', # croplands\n",
        "    'cc0013', # urban\n",
        "    '33280d', # crop mosaic\n",
        "    'd7cdcc', # snow and ice\n",
        "    'f7e084', # barren\n",
        "    '6f6f6f'  # tundra\n",
        "].join(',')\n",
        "\n",
        "vis_params = {'min': 0, 'max': 17, 'palette': PALETTE}\n",
        "\n",
        "# Display each step of the computation.\n",
        "Map.setCenter(-113.41842, 40.055489, 6)\n",
        "Map.addLayer(image2, vis_params, 'IGBP classification')\n",
        "Map.addLayer(image3, vis_params, 'Reprojected')\n",
        "Map.addLayer(image4, vis_params, 'Mode')\n",
        "Map.addLayer(image5, vis_params, 'Smooth')\n",
        "Map.addLayer(image6, vis_params, 'Smooth')\n"
      ],
      "outputs": [],
      "execution_count": null
    },
    {
      "cell_type": "markdown",
      "metadata": {},
      "source": [
        "## Display Earth Engine data layers "
      ]
    },
    {
      "cell_type": "code",
      "metadata": {},
      "source": [
        "Map.addLayerControl() # This line is not needed for ipyleaflet-based Map.\n",
        "Map"
      ],
      "outputs": [],
      "execution_count": null
    }
  ],
  "metadata": {
    "anaconda-cloud": {},
    "kernelspec": {
      "display_name": "Python 3",
      "language": "python",
      "name": "python3"
    },
    "language_info": {
      "codemirror_mode": {
        "name": "ipython",
        "version": 3
      },
      "file_extension": ".py",
      "mimetype": "text/x-python",
      "name": "python",
      "nbconvert_exporter": "python",
      "pygments_lexer": "ipython3",
      "version": "3.6.1"
    }
  },
  "nbformat": 4,
  "nbformat_minor": 1
}