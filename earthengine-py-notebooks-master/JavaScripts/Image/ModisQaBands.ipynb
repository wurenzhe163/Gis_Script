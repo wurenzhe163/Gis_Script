{
  "cells": [
    {
      "cell_type": "markdown",
      "metadata": {},
      "source": [
        "<table class=\"ee-notebook-buttons\" align=\"left\">\n",
        "    <td><a target=\"_blank\"  href=\"https://github.com/giswqs/earthengine-py-notebooks/tree/master/JavaScripts/Image/ModisQaBands.ipynb\"><img width=32px src=\"https://www.tensorflow.org/images/GitHub-Mark-32px.png\" /> View source on GitHub</a></td>\n",
        "    <td><a target=\"_blank\"  href=\"https://nbviewer.jupyter.org/github/giswqs/earthengine-py-notebooks/blob/master/JavaScripts/Image/ModisQaBands.ipynb\"><img width=26px src=\"https://upload.wikimedia.org/wikipedia/commons/thumb/3/38/Jupyter_logo.svg/883px-Jupyter_logo.svg.png\" />Notebook Viewer</a></td>\n",
        "    <td><a target=\"_blank\"  href=\"https://colab.research.google.com/github/giswqs/earthengine-py-notebooks/blob/master/JavaScripts/Image/ModisQaBands.ipynb\"><img src=\"https://www.tensorflow.org/images/colab_logo_32px.png\" /> Run in Google Colab</a></td>\n",
        "</table>"
      ]
    },
    {
      "cell_type": "markdown",
      "metadata": {},
      "source": [
        "## Install Earth Engine API and geemap\n",
        "Install the [Earth Engine Python API](https://developers.google.com/earth-engine/python_install) and [geemap](https://github.com/giswqs/geemap). The **geemap** Python package is built upon the [ipyleaflet](https://github.com/jupyter-widgets/ipyleaflet) and [folium](https://github.com/python-visualization/folium) packages and implements several methods for interacting with Earth Engine data layers, such as `Map.addLayer()`, `Map.setCenter()`, and `Map.centerObject()`.\n",
        "The following script checks if the geemap package has been installed. If not, it will install geemap, which automatically installs its [dependencies](https://github.com/giswqs/geemap#dependencies), including earthengine-api, folium, and ipyleaflet.\n",
        "\n",
        "**Important note**: A key difference between folium and ipyleaflet is that ipyleaflet is built upon ipywidgets and allows bidirectional communication between the front-end and the backend enabling the use of the map to capture user input, while folium is meant for displaying static data only ([source](https://blog.jupyter.org/interactive-gis-in-jupyter-with-ipyleaflet-52f9657fa7a)). Note that [Google Colab](https://colab.research.google.com/) currently does not support ipyleaflet ([source](https://github.com/googlecolab/colabtools/issues/60#issuecomment-596225619)). Therefore, if you are using geemap with Google Colab, you should use [`import geemap.eefolium`](https://github.com/giswqs/geemap/blob/master/geemap/eefolium.py). If you are using geemap with [binder](https://mybinder.org/) or a local Jupyter notebook server, you can use [`import geemap`](https://github.com/giswqs/geemap/blob/master/geemap/geemap.py), which provides more functionalities for capturing user input (e.g., mouse-clicking and moving)."
      ]
    },
    {
      "cell_type": "code",
      "metadata": {},
      "source": [
        "# Installs geemap package\n",
        "import subprocess\n",
        "\n",
        "try:\n",
        "    import geemap\n",
        "except ImportError:\n",
        "    print('geemap package not installed. Installing ...')\n",
        "    subprocess.check_call([\"python\", '-m', 'pip', 'install', 'geemap'])\n",
        "\n",
        "# Checks whether this notebook is running on Google Colab\n",
        "try:\n",
        "    import google.colab\n",
        "    import geemap.eefolium as geemap\n",
        "except:\n",
        "    import geemap\n",
        "\n",
        "# Authenticates and initializes Earth Engine\n",
        "import ee\n",
        "\n",
        "try:\n",
        "    ee.Initialize()\n",
        "except Exception as e:\n",
        "    ee.Authenticate()\n",
        "    ee.Initialize()  "
      ],
      "outputs": [],
      "execution_count": null
    },
    {
      "cell_type": "markdown",
      "metadata": {},
      "source": [
        "## Create an interactive map \n",
        "The default basemap is `Google MapS`. [Additional basemaps](https://github.com/giswqs/geemap/blob/master/geemap/basemaps.py) can be added using the `Map.add_basemap()` function. "
      ]
    },
    {
      "cell_type": "code",
      "metadata": {},
      "source": [
        "Map = geemap.Map(center=[40,-100], zoom=4)\n",
        "Map"
      ],
      "outputs": [],
      "execution_count": null
    },
    {
      "cell_type": "markdown",
      "metadata": {},
      "source": [
        "## Add Earth Engine Python script "
      ]
    },
    {
      "cell_type": "code",
      "metadata": {},
      "source": [
        "# Add Earth Engine dataset\n",
        "import math\n",
        "\n",
        "# Extract MODIS QA information from the \"state_1km\" QA band\n",
        "# and use it to mask out cloudy and deep ocean areas.\n",
        "#\n",
        "# QA Band information is available at:\n",
        "# https:#lpdaac.usgs.gov/products/modis_products_table/mod09ga\n",
        "# Table 1: 1-kilometer State QA Descriptions (16-bit)\n",
        "\n",
        "\n",
        "#*\n",
        " # Returns an image containing just the specified QA bits.\n",
        " #\n",
        " # Args:\n",
        " #   image - The QA Image to get bits from.\n",
        " #   start - The first bit position, 0-based.\n",
        " #   end   - The last bit position, inclusive.\n",
        " #   name  - A name for the output image.\n",
        " #\n",
        "def getQABits(image, start, end, newName):\n",
        "    # Compute the bits we need to extract.\n",
        "    pattern = 0\n",
        "    for i in range(start, end, 1):\n",
        "       pattern += math.pow(2, i)\n",
        "\n",
        "    return image.select([0], [newName]) \\\n",
        "                  .bitwiseAnd(pattern) \\\n",
        "                  .rightShift(start)\n",
        "\n",
        "\n",
        "# Reference a single MODIS MOD09GA image.\n",
        "image = ee.Image('MODIS/006/MOD09GA/2012_10_11')\n",
        "\n",
        "# Select the QA band\n",
        "QA = image.select('state_1km')\n",
        "\n",
        "# Get the cloud_state bits and find cloudy areas.\n",
        "cloud = getQABits(QA, 0, 1, 'cloud_state') \\\n",
        "                    .expression(\"b(0) == 1 || b(0) == 2\")\n",
        "\n",
        "# Get the land_water_flag bits.\n",
        "landWaterFlag = getQABits(QA, 3, 5, 'land_water_flag')\n",
        "\n",
        "# Create a mask that filters out deep ocean and cloudy areas.\n",
        "mask = landWaterFlag.neq(7).And(cloud.Not())\n",
        "\n",
        "# Add a map layer with the deep ocean and clouds areas masked out.\n",
        "Map.addLayer(image.updateMask(mask),\n",
        "  {\n",
        "    'bands': ['sur_refl_b01', 'sur_refl_b04', 'sur_refl_b03'],\n",
        "    'min': -100,\n",
        "    'max': 2000\n",
        "  }, 'MOD09GA 143'\n",
        ")\n",
        "\n",
        "# Add a semi-transparent map layer that displays the clouds.\n",
        "Map.addLayer(\n",
        "    cloud.updateMask(cloud),\n",
        "    {'palette': 'FFFFFF', 'opacity': 0.8},\n",
        "    'clouds'\n",
        ")\n"
      ],
      "outputs": [],
      "execution_count": null
    },
    {
      "cell_type": "markdown",
      "metadata": {},
      "source": [
        "## Display Earth Engine data layers "
      ]
    },
    {
      "cell_type": "code",
      "metadata": {},
      "source": [
        "Map.addLayerControl() # This line is not needed for ipyleaflet-based Map.\n",
        "Map"
      ],
      "outputs": [],
      "execution_count": null
    }
  ],
  "metadata": {
    "anaconda-cloud": {},
    "kernelspec": {
      "display_name": "Python 3",
      "language": "python",
      "name": "python3"
    },
    "language_info": {
      "codemirror_mode": {
        "name": "ipython",
        "version": 3
      },
      "file_extension": ".py",
      "mimetype": "text/x-python",
      "name": "python",
      "nbconvert_exporter": "python",
      "pygments_lexer": "ipython3",
      "version": "3.6.1"
    }
  },
  "nbformat": 4,
  "nbformat_minor": 1
}