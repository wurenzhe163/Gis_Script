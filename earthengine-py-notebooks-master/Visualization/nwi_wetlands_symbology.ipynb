{
  "cells": [
    {
      "cell_type": "markdown",
      "metadata": {},
      "source": [
        "<table class=\"ee-notebook-buttons\" align=\"left\">\n",
        "    <td><a target=\"_blank\"  href=\"https://github.com/giswqs/earthengine-py-notebooks/tree/master/Visualization/nwi_wetlands_symbology.ipynb\"><img width=32px src=\"https://www.tensorflow.org/images/GitHub-Mark-32px.png\" /> View source on GitHub</a></td>\n",
        "    <td><a target=\"_blank\"  href=\"https://nbviewer.jupyter.org/github/giswqs/earthengine-py-notebooks/blob/master/Visualization/nwi_wetlands_symbology.ipynb\"><img width=26px src=\"https://upload.wikimedia.org/wikipedia/commons/thumb/3/38/Jupyter_logo.svg/883px-Jupyter_logo.svg.png\" />Notebook Viewer</a></td>\n",
        "    <td><a target=\"_blank\"  href=\"https://colab.research.google.com/github/giswqs/earthengine-py-notebooks/blob/master/Visualization/nwi_wetlands_symbology.ipynb\"><img src=\"https://www.tensorflow.org/images/colab_logo_32px.png\" /> Run in Google Colab</a></td>\n",
        "</table>"
      ]
    },
    {
      "cell_type": "markdown",
      "metadata": {},
      "source": [
        "## Install Earth Engine API and geemap\n",
        "Install the [Earth Engine Python API](https://developers.google.com/earth-engine/python_install) and [geemap](https://geemap.org). The **geemap** Python package is built upon the [ipyleaflet](https://github.com/jupyter-widgets/ipyleaflet) and [folium](https://github.com/python-visualization/folium) packages and implements several methods for interacting with Earth Engine data layers, such as `Map.addLayer()`, `Map.setCenter()`, and `Map.centerObject()`.\n",
        "The following script checks if the geemap package has been installed. If not, it will install geemap, which automatically installs its [dependencies](https://github.com/giswqs/geemap#dependencies), including earthengine-api, folium, and ipyleaflet."
      ]
    },
    {
      "cell_type": "code",
      "metadata": {},
      "source": [
        "# Installs geemap package\n",
        "import subprocess\n",
        "\n",
        "try:\n",
        "    import geemap\n",
        "except ImportError:\n",
        "    print('Installing geemap ...')\n",
        "    subprocess.check_call([\"python\", '-m', 'pip', 'install', 'geemap'])"
      ],
      "outputs": [],
      "execution_count": null
    },
    {
      "cell_type": "code",
      "metadata": {},
      "source": [
        "import ee\n",
        "import geemap"
      ],
      "outputs": [],
      "execution_count": null
    },
    {
      "cell_type": "markdown",
      "metadata": {},
      "source": [
        "## Create an interactive map \n",
        "The default basemap is `Google Maps`. [Additional basemaps](https://github.com/giswqs/geemap/blob/master/geemap/basemaps.py) can be added using the `Map.add_basemap()` function. "
      ]
    },
    {
      "cell_type": "code",
      "metadata": {},
      "source": [
        "Map = geemap.Map(center=[40,-100], zoom=4)\n",
        "Map"
      ],
      "outputs": [],
      "execution_count": null
    },
    {
      "cell_type": "markdown",
      "metadata": {},
      "source": [
        "## Add Earth Engine Python script "
      ]
    },
    {
      "cell_type": "code",
      "metadata": {},
      "source": [
        "# Add Earth Engine dataset\n",
        "# NWI legend: https://www.fws.gov/wetlands/Data/Mapper-Wetlands-Legend.html\n",
        "def nwi_add_color(fc):\n",
        "    emergent = ee.FeatureCollection(\n",
        "        fc.filter(ee.Filter.eq('WETLAND_TY', 'Freshwater Emergent Wetland')))\n",
        "    emergent = emergent.map(lambda f: f.set(\n",
        "        'R', 127).set('G', 195).set('B', 28))\n",
        "    # print(emergent.first())\n",
        "\n",
        "    forested = fc.filter(ee.Filter.eq(\n",
        "        'WETLAND_TY', 'Freshwater Forested/Shrub Wetland'))\n",
        "    forested = forested.map(lambda f: f.set('R', 0).set('G', 136).set('B', 55))\n",
        "\n",
        "    pond = fc.filter(ee.Filter.eq('WETLAND_TY', 'Freshwater Pond'))\n",
        "    pond = pond.map(lambda f: f.set('R', 104).set('G', 140).set('B', 192))\n",
        "\n",
        "    lake = fc.filter(ee.Filter.eq('WETLAND_TY', 'Lake'))\n",
        "    lake = lake.map(lambda f: f.set('R', 19).set('G', 0).set('B', 124))\n",
        "\n",
        "    riverine = fc.filter(ee.Filter.eq('WETLAND_TY', 'Riverine'))\n",
        "    riverine = riverine.map(lambda f: f.set(\n",
        "        'R', 1).set('G', 144).set('B', 191))\n",
        "\n",
        "    fc = ee.FeatureCollection(emergent.merge(\n",
        "        forested).merge(pond).merge(lake).merge(riverine))\n",
        "\n",
        "    base = ee.Image(0).mask(0).toInt8()\n",
        "    img = base.paint(fc, 'R') \\\n",
        "        .addBands(base.paint(fc, 'G')\n",
        "                  .addBands(base.paint(fc, 'B')))\n",
        "    return img\n",
        "\n",
        "\n",
        "fromFT = ee.FeatureCollection(\"users/wqs/Pipestem/Pipestem_HUC10\")\n",
        "Map.addLayer(ee.Image().paint(fromFT, 0, 2), {}, 'Watershed')\n",
        "huc8_id = '10160002'\n",
        "nwi_asset_path = 'users/wqs/NWI-HU8/HU8_' + huc8_id + '_Wetlands'    # NWI wetlands for the clicked watershed\n",
        "clicked_nwi_huc = ee.FeatureCollection(nwi_asset_path)\n",
        "nwi_color = nwi_add_color(clicked_nwi_huc)\n",
        "Map.centerObject(clicked_nwi_huc, 10)\n",
        "Map.addLayer(nwi_color, {'gamma': 0.3, 'opacity': 0.7}, 'NWI Wetlands Color')\n"
      ],
      "outputs": [],
      "execution_count": null
    },
    {
      "cell_type": "markdown",
      "metadata": {},
      "source": [
        "## Display Earth Engine data layers "
      ]
    },
    {
      "cell_type": "code",
      "metadata": {},
      "source": [
        "Map.addLayerControl() # This line is not needed for ipyleaflet-based Map.\n",
        "Map"
      ],
      "outputs": [],
      "execution_count": null
    }
  ],
  "metadata": {
    "anaconda-cloud": {},
    "kernelspec": {
      "display_name": "Python 3",
      "language": "python",
      "name": "python3"
    },
    "language_info": {
      "codemirror_mode": {
        "name": "ipython",
        "version": 3
      },
      "file_extension": ".py",
      "mimetype": "text/x-python",
      "name": "python",
      "nbconvert_exporter": "python",
      "pygments_lexer": "ipython3",
      "version": "3.6.1"
    }
  },
  "nbformat": 4,
  "nbformat_minor": 4
}