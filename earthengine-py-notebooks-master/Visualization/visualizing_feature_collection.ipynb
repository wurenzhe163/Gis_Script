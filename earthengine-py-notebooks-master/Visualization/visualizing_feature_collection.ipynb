{
  "cells": [
    {
      "cell_type": "markdown",
      "metadata": {},
      "source": [
        "<table class=\"ee-notebook-buttons\" align=\"left\">\n",
        "    <td><a target=\"_blank\"  href=\"https://github.com/giswqs/earthengine-py-notebooks/tree/master/Visualization/visualizing_feature_collection.ipynb\"><img width=32px src=\"https://www.tensorflow.org/images/GitHub-Mark-32px.png\" /> View source on GitHub</a></td>\n",
        "    <td><a target=\"_blank\"  href=\"https://nbviewer.jupyter.org/github/giswqs/earthengine-py-notebooks/blob/master/Visualization/visualizing_feature_collection.ipynb\"><img width=26px src=\"https://upload.wikimedia.org/wikipedia/commons/thumb/3/38/Jupyter_logo.svg/883px-Jupyter_logo.svg.png\" />Notebook Viewer</a></td>\n",
        "    <td><a target=\"_blank\"  href=\"https://colab.research.google.com/github/giswqs/earthengine-py-notebooks/blob/master/Visualization/visualizing_feature_collection.ipynb\"><img src=\"https://www.tensorflow.org/images/colab_logo_32px.png\" /> Run in Google Colab</a></td>\n",
        "</table>"
      ]
    },
    {
      "cell_type": "markdown",
      "metadata": {},
      "source": [
        "## Install Earth Engine API and geemap\n",
        "Install the [Earth Engine Python API](https://developers.google.com/earth-engine/python_install) and [geemap](https://geemap.org). The **geemap** Python package is built upon the [ipyleaflet](https://github.com/jupyter-widgets/ipyleaflet) and [folium](https://github.com/python-visualization/folium) packages and implements several methods for interacting with Earth Engine data layers, such as `Map.addLayer()`, `Map.setCenter()`, and `Map.centerObject()`.\n",
        "The following script checks if the geemap package has been installed. If not, it will install geemap, which automatically installs its [dependencies](https://github.com/giswqs/geemap#dependencies), including earthengine-api, folium, and ipyleaflet."
      ]
    },
    {
      "cell_type": "code",
      "metadata": {},
      "source": [
        "# Installs geemap package\n",
        "import subprocess\n",
        "\n",
        "try:\n",
        "    import geemap\n",
        "except ImportError:\n",
        "    print('Installing geemap ...')\n",
        "    subprocess.check_call([\"python\", '-m', 'pip', 'install', 'geemap'])"
      ],
      "outputs": [],
      "execution_count": null
    },
    {
      "cell_type": "code",
      "metadata": {},
      "source": [
        "import ee\n",
        "import geemap"
      ],
      "outputs": [],
      "execution_count": null
    },
    {
      "cell_type": "markdown",
      "metadata": {},
      "source": [
        "## Create an interactive map \n",
        "The default basemap is `Google Maps`. [Additional basemaps](https://github.com/giswqs/geemap/blob/master/geemap/basemaps.py) can be added using the `Map.add_basemap()` function. "
      ]
    },
    {
      "cell_type": "code",
      "metadata": {},
      "source": [
        "Map = geemap.Map(center=[40,-100], zoom=4)\n",
        "Map"
      ],
      "outputs": [],
      "execution_count": null
    },
    {
      "cell_type": "markdown",
      "metadata": {},
      "source": [
        "## Add Earth Engine Python script "
      ]
    },
    {
      "cell_type": "code",
      "metadata": {},
      "source": [
        "# Add Earth Engine dataset\n",
        "# Load a FeatureCollection from a table dataset: 'RESOLVE' ecoregions.\n",
        "ecoregions = ee.FeatureCollection('RESOLVE/ECOREGIONS/2017')\n",
        "\n",
        "# Display as default and with a custom color.\n",
        "Map.addLayer(ecoregions, {}, 'default display')\n",
        "Map.addLayer(ecoregions, {'color': 'FF0000'}, 'colored')\n",
        "\n",
        "\n",
        "Map.addLayer(ecoregions.draw(**{'color': '006600', 'strokeWidth': 5}), {}, 'drawn')\n",
        "\n",
        "\n",
        "# Create an empty image into which to paint the features, cast to byte.\n",
        "empty = ee.Image().byte()\n",
        "\n",
        "# Paint all the polygon edges with the same number and 'width', display.\n",
        "outline = empty.paint(**{\n",
        "  'featureCollection': ecoregions,\n",
        "  'color': 1,\n",
        "  'width': 3\n",
        "})\n",
        "Map.addLayer(outline, {'palette': 'FF0000'}, 'edges')\n",
        "\n",
        "\n",
        "# Paint the edges with different colors, display.\n",
        "outlines = empty.paint(**{\n",
        "  'featureCollection': ecoregions,\n",
        "  'color': 'BIOME_NUM',\n",
        "  'width': 4\n",
        "})\n",
        "palette = ['FF0000', '00FF00', '0000FF']\n",
        "Map.addLayer(outlines, {'palette': palette, 'max': 14}, 'different color edges')\n",
        "\n",
        "\n",
        "# Paint the edges with different colors and 'width's.\n",
        "outlines = empty.paint(**{\n",
        "  'featureCollection': ecoregions,\n",
        "  'color': 'BIOME_NUM',\n",
        "  'width': 'NNH'\n",
        "})\n",
        "Map.addLayer(outlines, {'palette': palette, 'max': 14}, 'different color, width edges')\n",
        "\n",
        "\n",
        "# Paint the interior of the polygons with different colors.\n",
        "fills = empty.paint(**{\n",
        "  'featureCollection': ecoregions,\n",
        "  'color': 'BIOME_NUM',\n",
        "})\n",
        "Map.addLayer(fills, {'palette': palette, 'max': 14}, 'colored fills')\n",
        "\n",
        "\n",
        "# Paint both the fill and the edges.\n",
        "filledOutlines = empty.paint(ecoregions, 'BIOME_NUM').paint(ecoregions, 0, 2)\n",
        "Map.addLayer(filledOutlines, {'palette': ['000000'] + palette, 'max': 14}, 'edges and fills')\n",
        "\n"
      ],
      "outputs": [],
      "execution_count": null
    },
    {
      "cell_type": "markdown",
      "metadata": {},
      "source": [
        "## Display Earth Engine data layers "
      ]
    },
    {
      "cell_type": "code",
      "metadata": {},
      "source": [
        "Map.addLayerControl() # This line is not needed for ipyleaflet-based Map.\n",
        "Map"
      ],
      "outputs": [],
      "execution_count": null
    }
  ],
  "metadata": {
    "anaconda-cloud": {},
    "kernelspec": {
      "display_name": "Python 3",
      "language": "python",
      "name": "python3"
    },
    "language_info": {
      "codemirror_mode": {
        "name": "ipython",
        "version": 3
      },
      "file_extension": ".py",
      "mimetype": "text/x-python",
      "name": "python",
      "nbconvert_exporter": "python",
      "pygments_lexer": "ipython3",
      "version": "3.6.1"
    }
  },
  "nbformat": 4,
  "nbformat_minor": 4
}