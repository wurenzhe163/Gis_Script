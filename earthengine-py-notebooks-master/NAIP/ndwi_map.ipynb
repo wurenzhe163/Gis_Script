{
  "cells": [
    {
      "cell_type": "markdown",
      "metadata": {},
      "source": [
        "<table class=\"ee-notebook-buttons\" align=\"left\">\n",
        "    <td><a target=\"_blank\"  href=\"https://github.com/giswqs/earthengine-py-notebooks/tree/master/NAIP/ndwi_map.ipynb\"><img width=32px src=\"https://www.tensorflow.org/images/GitHub-Mark-32px.png\" /> View source on GitHub</a></td>\n",
        "    <td><a target=\"_blank\"  href=\"https://nbviewer.jupyter.org/github/giswqs/earthengine-py-notebooks/blob/master/NAIP/ndwi_map.ipynb\"><img width=26px src=\"https://upload.wikimedia.org/wikipedia/commons/thumb/3/38/Jupyter_logo.svg/883px-Jupyter_logo.svg.png\" />Notebook Viewer</a></td>\n",
        "    <td><a target=\"_blank\"  href=\"https://colab.research.google.com/github/giswqs/earthengine-py-notebooks/blob/master/NAIP/ndwi_map.ipynb\"><img src=\"https://www.tensorflow.org/images/colab_logo_32px.png\" /> Run in Google Colab</a></td>\n",
        "</table>"
      ]
    },
    {
      "cell_type": "markdown",
      "metadata": {},
      "source": [
        "## Install Earth Engine API and geemap\n",
        "Install the [Earth Engine Python API](https://developers.google.com/earth-engine/python_install) and [geemap](https://geemap.org). The **geemap** Python package is built upon the [ipyleaflet](https://github.com/jupyter-widgets/ipyleaflet) and [folium](https://github.com/python-visualization/folium) packages and implements several methods for interacting with Earth Engine data layers, such as `Map.addLayer()`, `Map.setCenter()`, and `Map.centerObject()`.\n",
        "The following script checks if the geemap package has been installed. If not, it will install geemap, which automatically installs its [dependencies](https://github.com/giswqs/geemap#dependencies), including earthengine-api, folium, and ipyleaflet."
      ]
    },
    {
      "cell_type": "code",
      "metadata": {},
      "source": [
        "# Installs geemap package\n",
        "import subprocess\n",
        "\n",
        "try:\n",
        "    import geemap\n",
        "except ImportError:\n",
        "    print('Installing geemap ...')\n",
        "    subprocess.check_call([\"python\", '-m', 'pip', 'install', 'geemap'])"
      ],
      "outputs": [],
      "execution_count": null
    },
    {
      "cell_type": "code",
      "metadata": {},
      "source": [
        "import ee\n",
        "import geemap"
      ],
      "outputs": [],
      "execution_count": null
    },
    {
      "cell_type": "markdown",
      "metadata": {},
      "source": [
        "## Create an interactive map \n",
        "The default basemap is `Google Maps`. [Additional basemaps](https://github.com/giswqs/geemap/blob/master/geemap/basemaps.py) can be added using the `Map.add_basemap()` function. "
      ]
    },
    {
      "cell_type": "code",
      "metadata": {},
      "source": [
        "Map = geemap.Map(center=[40,-100], zoom=4)\n",
        "Map"
      ],
      "outputs": [],
      "execution_count": null
    },
    {
      "cell_type": "markdown",
      "metadata": {},
      "source": [
        "## Add Earth Engine Python script "
      ]
    },
    {
      "cell_type": "code",
      "metadata": {},
      "source": [
        "# Add Earth Engine dataset\n",
        "collection = ee.ImageCollection('USDA/NAIP/DOQQ')\n",
        "fromFT = ee.FeatureCollection('ft:1CLldB-ULPyULBT2mxoRNv7enckVF0gCQoD2oH7XP')\n",
        "polys = fromFT.geometry()\n",
        "# polys = ee.Geometry.Polygon(\n",
        "#         [[[-99.29615020751953, 46.725459351792374],\n",
        "#           [-99.2116928100586, 46.72404725733022],\n",
        "#           [-99.21443939208984, 46.772037733479884],\n",
        "#           [-99.30267333984375, 46.77321343419932]]])\n",
        "\n",
        "centroid = polys.centroid()\n",
        "lng, lat = centroid.getInfo()['coordinates']\n",
        "print(\"lng = {}, lat = {}\".format(lng, lat))\n",
        "\n",
        "lng_lat = ee.Geometry.Point(lng, lat)\n",
        "naip = collection.filterBounds(polys)\n",
        "naip_2015 = naip.filterDate('2015-01-01', '2015-12-31')\n",
        "ppr = naip_2015.mosaic()\n",
        "\n",
        "count = naip_2015.size().getInfo()\n",
        "print(\"Count: \", count)\n",
        "\n",
        "# print(naip_2015.size().getInfo())\n",
        "vis = {'bands': ['N', 'R', 'G']}\n",
        "Map.setCenter(lng, lat, 12)\n",
        "Map.addLayer(ppr,vis)\n",
        "# Map.addLayer(polys)\n",
        "\n",
        "def NDWI(image):\n",
        "    \"\"\"A function to compute NDWI.\"\"\"\n",
        "    ndwi = image.normalizedDifference(['G', 'N'])\n",
        "    ndwiViz = {'min': 0, 'max': 1, 'palette': ['00FFFF', '0000FF']}\n",
        "    ndwiMasked = ndwi.updateMask(ndwi.gte(0.05))\n",
        "    ndwi_bin = ndwiMasked.gt(0)\n",
        "    patch_size = ndwi_bin.connectedPixelCount(500, True)\n",
        "    large_patches = patch_size.eq(500)\n",
        "    large_patches = large_patches.updateMask(large_patches)\n",
        "    opened = large_patches.focal_min(1).focal_max(1)\n",
        "    return opened\n",
        "\n",
        "ndwi_collection = naip_2015.map(NDWI)\n",
        "# Map.addLayer(ndwi_collection)\n",
        "# print(ndwi_collection.getInfo())\n",
        "\n",
        "# downConfig = {'scale': 10, \"maxPixels\": 1.0E13, 'driveFolder': 'image'}  # scale means resolution.\n",
        "# img_lst = ndwi_collection.toList(100)\n",
        "#\n",
        "# taskParams = {\n",
        "#     'driveFolder': 'image',\n",
        "#     'driveFileNamePrefix': 'ndwi',\n",
        "#     'fileFormat': 'KML'\n",
        "# }\n",
        "#\n",
        "# for i in range(0, count):\n",
        "#     image = ee.Image(img_lst.get(i))\n",
        "#     name = image.get('system:index').getInfo()\n",
        "#     print(name)\n",
        "#     # task = ee.batch.Export.image(image, \"ndwi2-\" + name, downConfig)\n",
        "#     # task.start()\n",
        "\n",
        "mosaic = ndwi_collection.mosaic().clip(polys)\n",
        "fc = mosaic.reduceToVectors(eightConnected=True, maxPixels=59568116121, crs=mosaic.projection(), scale=1)\n",
        "# Map.addLayer(fc)\n",
        "taskParams = {\n",
        "    'driveFolder': 'image',\n",
        "    'driveFileNamePrefix': 'water',\n",
        "    'fileFormat': 'KML'\n",
        "}\n",
        "\n",
        "count = fromFT.size().getInfo()\n",
        "Map.setCenter(lng, lat, 10)\n",
        "\n",
        "for i in range(2, 2 + count):\n",
        "    watershed = fromFT.filter(ee.Filter.eq('system:index', str(i)))\n",
        "    re = fc.filterBounds(watershed)\n",
        "    task = ee.batch.Export.table(re, 'watershed-' + str(i), taskParams)\n",
        "    task.start()\n",
        "    # Map.addLayer(fc)\n",
        "\n",
        "\n",
        "# lpc = fromFT.filter(ee.Filter.eq('name', 'Little Pipestem Creek'))\n"
      ],
      "outputs": [],
      "execution_count": null
    },
    {
      "cell_type": "markdown",
      "metadata": {},
      "source": [
        "## Display Earth Engine data layers "
      ]
    },
    {
      "cell_type": "code",
      "metadata": {},
      "source": [
        "Map.addLayerControl() # This line is not needed for ipyleaflet-based Map.\n",
        "Map"
      ],
      "outputs": [],
      "execution_count": null
    }
  ],
  "metadata": {
    "anaconda-cloud": {},
    "kernelspec": {
      "display_name": "Python 3",
      "language": "python",
      "name": "python3"
    },
    "language_info": {
      "codemirror_mode": {
        "name": "ipython",
        "version": 3
      },
      "file_extension": ".py",
      "mimetype": "text/x-python",
      "name": "python",
      "nbconvert_exporter": "python",
      "pygments_lexer": "ipython3",
      "version": "3.6.1"
    }
  },
  "nbformat": 4,
  "nbformat_minor": 4
}