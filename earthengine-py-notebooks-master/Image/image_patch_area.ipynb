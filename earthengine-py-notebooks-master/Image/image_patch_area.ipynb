{
  "cells": [
    {
      "cell_type": "markdown",
      "metadata": {},
      "source": [
        "<table class=\"ee-notebook-buttons\" align=\"left\">\n",
        "    <td><a target=\"_blank\"  href=\"https://github.com/giswqs/earthengine-py-notebooks/tree/master/Image/image_patch_area.ipynb\"><img width=32px src=\"https://www.tensorflow.org/images/GitHub-Mark-32px.png\" /> View source on GitHub</a></td>\n",
        "    <td><a target=\"_blank\"  href=\"https://nbviewer.jupyter.org/github/giswqs/earthengine-py-notebooks/blob/master/Image/image_patch_area.ipynb\"><img width=26px src=\"https://upload.wikimedia.org/wikipedia/commons/thumb/3/38/Jupyter_logo.svg/883px-Jupyter_logo.svg.png\" />Notebook Viewer</a></td>\n",
        "    <td><a target=\"_blank\"  href=\"https://colab.research.google.com/github/giswqs/earthengine-py-notebooks/blob/master/Image/image_patch_area.ipynb\"><img src=\"https://www.tensorflow.org/images/colab_logo_32px.png\" /> Run in Google Colab</a></td>\n",
        "</table>"
      ]
    },
    {
      "cell_type": "markdown",
      "metadata": {},
      "source": [
        "## Install Earth Engine API and geemap\n",
        "Install the [Earth Engine Python API](https://developers.google.com/earth-engine/python_install) and [geemap](https://geemap.org). The **geemap** Python package is built upon the [ipyleaflet](https://github.com/jupyter-widgets/ipyleaflet) and [folium](https://github.com/python-visualization/folium) packages and implements several methods for interacting with Earth Engine data layers, such as `Map.addLayer()`, `Map.setCenter()`, and `Map.centerObject()`.\n",
        "The following script checks if the geemap package has been installed. If not, it will install geemap, which automatically installs its [dependencies](https://github.com/giswqs/geemap#dependencies), including earthengine-api, folium, and ipyleaflet."
      ]
    },
    {
      "cell_type": "code",
      "metadata": {},
      "source": [
        "# Installs geemap package\n",
        "import subprocess\n",
        "\n",
        "try:\n",
        "    import geemap\n",
        "except ImportError:\n",
        "    print('Installing geemap ...')\n",
        "    subprocess.check_call([\"python\", '-m', 'pip', 'install', 'geemap'])"
      ],
      "outputs": [],
      "execution_count": null
    },
    {
      "cell_type": "code",
      "metadata": {},
      "source": [
        "import ee\n",
        "import geemap"
      ],
      "outputs": [],
      "execution_count": null
    },
    {
      "cell_type": "markdown",
      "metadata": {},
      "source": [
        "## Create an interactive map \n",
        "The default basemap is `Google Maps`. [Additional basemaps](https://github.com/giswqs/geemap/blob/master/geemap/basemaps.py) can be added using the `Map.add_basemap()` function. "
      ]
    },
    {
      "cell_type": "code",
      "metadata": {},
      "source": [
        "Map = geemap.Map(center=[40,-100], zoom=4)\n",
        "Map"
      ],
      "outputs": [],
      "execution_count": null
    },
    {
      "cell_type": "markdown",
      "metadata": {},
      "source": [
        "## Add Earth Engine Python script "
      ]
    },
    {
      "cell_type": "code",
      "metadata": {},
      "source": [
        "# Add Earth Engine dataset\n",
        "geometry = ee.Geometry.Polygon(\n",
        "        [[[-121.53162002563477, 37.62442917942242],\n",
        "          [-121.53822898864746, 37.61871860390886],\n",
        "          [-121.53307914733887, 37.61144378319061],\n",
        "          [-121.5281867980957, 37.60784010375065],\n",
        "          [-121.52209281921387, 37.60586820524277],\n",
        "          [-121.51840209960938, 37.606344185530936],\n",
        "          [-121.51273727416992, 37.60777210812061],\n",
        "          [-121.50175094604492, 37.6082480762255],\n",
        "          [-121.49454116821289, 37.61239566936059],\n",
        "          [-121.49127960205078, 37.62136999709244],\n",
        "          [-121.49797439575195, 37.62667249978579],\n",
        "          [-121.5252685546875, 37.62653654290317]]])\n",
        "\n",
        "# Load a Landsat 8 image and display the thermal band.\n",
        "image = ee.Image('LANDSAT/LC8_L1T_TOA/LC80440342014077LGN00').clip(geometry)\n",
        "Map.setCenter(-121.51385307312012,37.61767615130697, 14) # SF Bay\n",
        "#Map.addLayer(image, {'bands': ['B10'], 'min': 270, 'max': 310}, 'LST')\n",
        "#print(image)\n",
        "\n",
        "# Threshold the thermal band to find \"hot\" objects.\n",
        "hotspots = image.select('B10').gt(303)\n",
        "\n",
        "# Mask \"cold\" pixels.\n",
        "hotspots = hotspots.mask(hotspots)\n",
        "#Map.addLayer(hotspots, {'palette': 'FF0000'}, 'hotspots')\n",
        "\n",
        "# Compute the number of pixels in each patch.\n",
        "patchsize = hotspots.connectedPixelCount(100, False)\n",
        "Map.addLayer(patchsize, {}, 'patch size')\n",
        "largePatches = patchsize.gt(4)\n",
        "largePatches = largePatches.updateMask(largePatches)\n",
        "Map.addLayer(largePatches, {}, 'patch size>4')\n",
        "\n",
        "pixelAreaAllPatches = hotspots.multiply(ee.Image.pixelArea())\n",
        "pixelAreaLargePatch = largePatches.multiply(ee.Image.pixelArea())\n",
        "areaAllPathces = pixelAreaAllPatches.reduceRegion(**{'reducer':ee.Reducer.sum(),'geometry':geometry})\n",
        "areaLargePatch = pixelAreaLargePatch.reduceRegion(**{'reducer':ee.Reducer.sum(),'geometry':geometry})\n",
        "\n",
        "print(areaAllPathces.getInfo())\n",
        "print(areaLargePatch.getInfo())"
      ],
      "outputs": [],
      "execution_count": null
    },
    {
      "cell_type": "markdown",
      "metadata": {},
      "source": [
        "## Display Earth Engine data layers "
      ]
    },
    {
      "cell_type": "code",
      "metadata": {},
      "source": [
        "Map.addLayerControl() # This line is not needed for ipyleaflet-based Map.\n",
        "Map"
      ],
      "outputs": [],
      "execution_count": null
    }
  ],
  "metadata": {
    "anaconda-cloud": {},
    "kernelspec": {
      "display_name": "Python 3",
      "language": "python",
      "name": "python3"
    },
    "language_info": {
      "codemirror_mode": {
        "name": "ipython",
        "version": 3
      },
      "file_extension": ".py",
      "mimetype": "text/x-python",
      "name": "python",
      "nbconvert_exporter": "python",
      "pygments_lexer": "ipython3",
      "version": "3.6.1"
    }
  },
  "nbformat": 4,
  "nbformat_minor": 4
}