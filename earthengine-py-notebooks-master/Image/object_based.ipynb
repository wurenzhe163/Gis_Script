{
  "cells": [
    {
      "cell_type": "markdown",
      "metadata": {},
      "source": [
        "<table class=\"ee-notebook-buttons\" align=\"left\">\n",
        "    <td><a target=\"_blank\"  href=\"https://github.com/giswqs/earthengine-py-notebooks/tree/master/Image/object_based.ipynb\"><img width=32px src=\"https://www.tensorflow.org/images/GitHub-Mark-32px.png\" /> View source on GitHub</a></td>\n",
        "    <td><a target=\"_blank\"  href=\"https://nbviewer.jupyter.org/github/giswqs/earthengine-py-notebooks/blob/master/Image/object_based.ipynb\"><img width=26px src=\"https://upload.wikimedia.org/wikipedia/commons/thumb/3/38/Jupyter_logo.svg/883px-Jupyter_logo.svg.png\" />Notebook Viewer</a></td>\n",
        "    <td><a target=\"_blank\"  href=\"https://colab.research.google.com/github/giswqs/earthengine-py-notebooks/blob/master/Image/object_based.ipynb\"><img src=\"https://www.tensorflow.org/images/colab_logo_32px.png\" /> Run in Google Colab</a></td>\n",
        "</table>"
      ]
    },
    {
      "cell_type": "markdown",
      "metadata": {},
      "source": [
        "## Install Earth Engine API and geemap\n",
        "Install the [Earth Engine Python API](https://developers.google.com/earth-engine/python_install) and [geemap](https://geemap.org). The **geemap** Python package is built upon the [ipyleaflet](https://github.com/jupyter-widgets/ipyleaflet) and [folium](https://github.com/python-visualization/folium) packages and implements several methods for interacting with Earth Engine data layers, such as `Map.addLayer()`, `Map.setCenter()`, and `Map.centerObject()`.\n",
        "The following script checks if the geemap package has been installed. If not, it will install geemap, which automatically installs its [dependencies](https://github.com/giswqs/geemap#dependencies), including earthengine-api, folium, and ipyleaflet."
      ]
    },
    {
      "cell_type": "code",
      "metadata": {},
      "source": [
        "# Installs geemap package\n",
        "import subprocess\n",
        "\n",
        "try:\n",
        "    import geemap\n",
        "except ImportError:\n",
        "    print('Installing geemap ...')\n",
        "    subprocess.check_call([\"python\", '-m', 'pip', 'install', 'geemap'])"
      ],
      "outputs": [],
      "execution_count": null
    },
    {
      "cell_type": "code",
      "metadata": {},
      "source": [
        "import ee\n",
        "import geemap"
      ],
      "outputs": [],
      "execution_count": null
    },
    {
      "cell_type": "markdown",
      "metadata": {},
      "source": [
        "## Create an interactive map \n",
        "The default basemap is `Google Maps`. [Additional basemaps](https://github.com/giswqs/geemap/blob/master/geemap/basemaps.py) can be added using the `Map.add_basemap()` function. "
      ]
    },
    {
      "cell_type": "code",
      "metadata": {},
      "source": [
        "Map = geemap.Map(center=[40,-100], zoom=4)\n",
        "Map"
      ],
      "outputs": [],
      "execution_count": null
    },
    {
      "cell_type": "markdown",
      "metadata": {},
      "source": [
        "## Add Earth Engine Python script "
      ]
    },
    {
      "cell_type": "code",
      "metadata": {},
      "source": [
        "# Add Earth Engine dataset\n",
        "# Make an area of interest geometry centered on San Francisco.\n",
        "point = ee.Geometry.Point(-122.1899, 37.5010)\n",
        "aoi = point.buffer(10000)\n",
        "\n",
        "# Import a Landsat 8 image, subset the thermal band, and clip to the\n",
        "# area of interest.\n",
        "kelvin = ee.Image('LANDSAT/LC08/C01/T1_TOA/LC08_044034_20140318') \\\n",
        "  .select(['B10'], ['kelvin']) \\\n",
        "  .clip(aoi)\n",
        "\n",
        "# Display the thermal band.\n",
        "# Map.centerObject(point, 13)\n",
        "Map.setCenter(-122.1899, 37.5010, 13)\n",
        "Map.addLayer(kelvin, {'min': 288, 'max': 305}, 'Kelvin')\n",
        "\n",
        "\n",
        "# Threshold the thermal band to set hot pixels as value 1 and not as 0.\n",
        "hotspots = kelvin.gt(303) \\\n",
        "  .selfMask() \\\n",
        "  .rename('hotspots')\n",
        "\n",
        "# Display the thermal hotspots on the Map.\n",
        "Map.addLayer(hotspots, {'palette': 'FF0000'}, 'Hotspots')\n",
        "\n",
        "\n",
        "# Uniquely label the hotspot image objects.\n",
        "objectId = hotspots.connectedComponents(**{\n",
        "  'connectedness': ee.Kernel.plus(1),\n",
        "  'maxSize': 128\n",
        "})\n",
        "\n",
        "# Display the uniquely ID'ed objects to the Map.\n",
        "Map.addLayer(objectId.randomVisualizer(), {}, 'Objects')\n",
        "\n",
        "\n",
        "# Compute the number of pixels in each object defined by the \"labels\" band.\n",
        "objectSize = objectId.select('labels') \\\n",
        "  .connectedPixelCount(**{\n",
        "    'maxSize': 128, 'eightConnected': False\n",
        "  })\n",
        "\n",
        "# Display object pixel count to the Map.\n",
        "Map.addLayer(objectSize, {}, 'Object n pixels')\n",
        "\n",
        "\n",
        "# Get a pixel area image.\n",
        "pixelArea = ee.Image.pixelArea()\n",
        "\n",
        "# Multiply pixel area by the number of pixels in an object to calculate\n",
        "# the object area. The result is an image where each pixel\n",
        "# of an object relates the area of the object in m^2.\n",
        "objectArea = objectSize.multiply(pixelArea)\n",
        "\n",
        "# Display object area to the Map.\n",
        "Map.addLayer(objectArea, {}, 'Object area m^2')\n",
        "\n",
        "\n",
        "# Threshold the `objectArea` image to define a mask that will mask out\n",
        "# objects below a given size (1 hectare in this case).\n",
        "areaMask = objectArea.gte(10000)\n",
        "\n",
        "# Update the mask of the `objectId` layer defined previously using the\n",
        "# minimum area mask just defined.\n",
        "objectId = objectId.updateMask(areaMask)\n",
        "Map.addLayer(objectId, {}, 'Large hotspots')\n",
        "\n",
        "\n",
        "# Make a suitable image for `reduceConnectedComponents()` by adding a label\n",
        "# band to the `kelvin` temperature image.\n",
        "kelvin = kelvin.addBands(objectId.select('labels'))\n",
        "\n",
        "# Calculate the mean temperature per object defined by the previously added\n",
        "# \"labels\" band.\n",
        "patchTemp = kelvin.reduceConnectedComponents(**{\n",
        "  'reducer': ee.Reducer.mean(),\n",
        "  'labelBand': 'labels'\n",
        "})\n",
        "\n",
        "# Display object mean temperature to the Map.\n",
        "Map.addLayer(\n",
        "  patchTemp,\n",
        "  {'min': 303, 'max': 304, 'palette': ['yellow', 'red']},\n",
        "  'Mean temperature'\n",
        ")\n"
      ],
      "outputs": [],
      "execution_count": null
    },
    {
      "cell_type": "markdown",
      "metadata": {},
      "source": [
        "## Display Earth Engine data layers "
      ]
    },
    {
      "cell_type": "code",
      "metadata": {},
      "source": [
        "Map.addLayerControl() # This line is not needed for ipyleaflet-based Map.\n",
        "Map"
      ],
      "outputs": [],
      "execution_count": null
    }
  ],
  "metadata": {
    "anaconda-cloud": {},
    "kernelspec": {
      "display_name": "Python 3",
      "language": "python",
      "name": "python3"
    },
    "language_info": {
      "codemirror_mode": {
        "name": "ipython",
        "version": 3
      },
      "file_extension": ".py",
      "mimetype": "text/x-python",
      "name": "python",
      "nbconvert_exporter": "python",
      "pygments_lexer": "ipython3",
      "version": "3.6.1"
    }
  },
  "nbformat": 4,
  "nbformat_minor": 4
}