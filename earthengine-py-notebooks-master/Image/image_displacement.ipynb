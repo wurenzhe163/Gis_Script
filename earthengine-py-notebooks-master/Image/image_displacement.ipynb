{
  "cells": [
    {
      "cell_type": "markdown",
      "metadata": {},
      "source": [
        "<table class=\"ee-notebook-buttons\" align=\"left\">\n",
        "    <td><a target=\"_blank\"  href=\"https://github.com/giswqs/earthengine-py-notebooks/tree/master/Image/image_displacement.ipynb\"><img width=32px src=\"https://www.tensorflow.org/images/GitHub-Mark-32px.png\" /> View source on GitHub</a></td>\n",
        "    <td><a target=\"_blank\"  href=\"https://nbviewer.jupyter.org/github/giswqs/earthengine-py-notebooks/blob/master/Image/image_displacement.ipynb\"><img width=26px src=\"https://upload.wikimedia.org/wikipedia/commons/thumb/3/38/Jupyter_logo.svg/883px-Jupyter_logo.svg.png\" />Notebook Viewer</a></td>\n",
        "    <td><a target=\"_blank\"  href=\"https://colab.research.google.com/github/giswqs/earthengine-py-notebooks/blob/master/Image/image_displacement.ipynb\"><img src=\"https://www.tensorflow.org/images/colab_logo_32px.png\" /> Run in Google Colab</a></td>\n",
        "</table>"
      ]
    },
    {
      "cell_type": "markdown",
      "metadata": {},
      "source": [
        "## Install Earth Engine API and geemap\n",
        "Install the [Earth Engine Python API](https://developers.google.com/earth-engine/python_install) and [geemap](https://geemap.org). The **geemap** Python package is built upon the [ipyleaflet](https://github.com/jupyter-widgets/ipyleaflet) and [folium](https://github.com/python-visualization/folium) packages and implements several methods for interacting with Earth Engine data layers, such as `Map.addLayer()`, `Map.setCenter()`, and `Map.centerObject()`.\n",
        "The following script checks if the geemap package has been installed. If not, it will install geemap, which automatically installs its [dependencies](https://github.com/giswqs/geemap#dependencies), including earthengine-api, folium, and ipyleaflet."
      ]
    },
    {
      "cell_type": "code",
      "metadata": {},
      "source": [
        "# Installs geemap package\n",
        "import subprocess\n",
        "\n",
        "try:\n",
        "    import geemap\n",
        "except ImportError:\n",
        "    print('Installing geemap ...')\n",
        "    subprocess.check_call([\"python\", '-m', 'pip', 'install', 'geemap'])"
      ],
      "outputs": [],
      "execution_count": null
    },
    {
      "cell_type": "code",
      "metadata": {},
      "source": [
        "import ee\n",
        "import geemap"
      ],
      "outputs": [],
      "execution_count": null
    },
    {
      "cell_type": "markdown",
      "metadata": {},
      "source": [
        "## Create an interactive map \n",
        "The default basemap is `Google Maps`. [Additional basemaps](https://github.com/giswqs/geemap/blob/master/geemap/basemaps.py) can be added using the `Map.add_basemap()` function. "
      ]
    },
    {
      "cell_type": "code",
      "metadata": {},
      "source": [
        "Map = geemap.Map(center=[40,-100], zoom=4)\n",
        "Map"
      ],
      "outputs": [],
      "execution_count": null
    },
    {
      "cell_type": "markdown",
      "metadata": {},
      "source": [
        "## Add Earth Engine Python script "
      ]
    },
    {
      "cell_type": "code",
      "metadata": {},
      "source": [
        "# Add Earth Engine dataset\n",
        "import math\n",
        "\n",
        "# Load the two images to be registered.\n",
        "image1 = ee.Image('SKYSAT/GEN-A/PUBLIC/ORTHO/MULTISPECTRAL/s01_20150502T082736Z')\n",
        "image2 = ee.Image('SKYSAT/GEN-A/PUBLIC/ORTHO/MULTISPECTRAL/s01_20150305T081019Z')\n",
        "\n",
        "# Use bicubic resampling during registration.\n",
        "image1Orig = image1.resample('bicubic')\n",
        "image2Orig = image2.resample('bicubic')\n",
        "\n",
        "# Choose to register using only the 'R' bAnd.\n",
        "image1RedBAnd = image1Orig.select('R')\n",
        "image2RedBAnd = image2Orig.select('R')\n",
        "\n",
        "# Determine the displacement by matching only the 'R' bAnds.\n",
        "displacement = image2RedBAnd.displacement(**{\n",
        "  'referenceImage': image1RedBAnd,\n",
        "  'maxOffset': 50.0,\n",
        "  'patchWidth': 100.0\n",
        "})\n",
        "\n",
        "# Compute image offset And direction.\n",
        "offset = displacement.select('dx').hypot(displacement.select('dy'))\n",
        "angle = displacement.select('dx').atan2(displacement.select('dy'))\n",
        "\n",
        "# Display offset distance And angle.\n",
        "Map.addLayer(offset, {'min':0, 'max': 20}, 'offset')\n",
        "Map.addLayer(angle, {'min': -math.pi, 'max': math.pi}, 'angle')\n",
        "Map.setCenter(37.44,0.58, 15)\n",
        "\n",
        "\n",
        "# Use the computed displacement to register all Original bAnds.\n",
        "registered = image2Orig.displace(displacement)\n",
        "\n",
        "# Show the results of co-registering the images.\n",
        "visParams = {'bands': ['R', 'G', 'B'], 'max': 4000}\n",
        "Map.addLayer(image1Orig, visParams, 'Reference')\n",
        "Map.addLayer(image2Orig, visParams, 'BefOre Registration')\n",
        "Map.addLayer(registered, visParams, 'After Registration')\n",
        "\n",
        "\n",
        "alsoRegistered = image2Orig.register(**{\n",
        "  'referenceImage': image1Orig,\n",
        "  'maxOffset': 50.0,\n",
        "  'patchWidth': 100.0\n",
        "})\n",
        "Map.addLayer(alsoRegistered, visParams, 'Also Registered')\n",
        "\n"
      ],
      "outputs": [],
      "execution_count": null
    },
    {
      "cell_type": "markdown",
      "metadata": {},
      "source": [
        "## Display Earth Engine data layers "
      ]
    },
    {
      "cell_type": "code",
      "metadata": {},
      "source": [
        "Map.addLayerControl() # This line is not needed for ipyleaflet-based Map.\n",
        "Map"
      ],
      "outputs": [],
      "execution_count": null
    }
  ],
  "metadata": {
    "anaconda-cloud": {},
    "kernelspec": {
      "display_name": "Python 3",
      "language": "python",
      "name": "python3"
    },
    "language_info": {
      "codemirror_mode": {
        "name": "ipython",
        "version": 3
      },
      "file_extension": ".py",
      "mimetype": "text/x-python",
      "name": "python",
      "nbconvert_exporter": "python",
      "pygments_lexer": "ipython3",
      "version": "3.6.1"
    }
  },
  "nbformat": 4,
  "nbformat_minor": 4
}