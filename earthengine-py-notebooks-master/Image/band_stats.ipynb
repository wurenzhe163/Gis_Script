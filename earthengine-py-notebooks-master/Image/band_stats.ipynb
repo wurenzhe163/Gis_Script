{
  "cells": [
    {
      "cell_type": "markdown",
      "metadata": {},
      "source": [
        "<table class=\"ee-notebook-buttons\" align=\"left\">\n",
        "    <td><a target=\"_blank\"  href=\"https://github.com/giswqs/earthengine-py-notebooks/tree/master/Image/band_stats.ipynb\"><img width=32px src=\"https://www.tensorflow.org/images/GitHub-Mark-32px.png\" /> View source on GitHub</a></td>\n",
        "    <td><a target=\"_blank\"  href=\"https://nbviewer.jupyter.org/github/giswqs/earthengine-py-notebooks/blob/master/Image/band_stats.ipynb\"><img width=26px src=\"https://upload.wikimedia.org/wikipedia/commons/thumb/3/38/Jupyter_logo.svg/883px-Jupyter_logo.svg.png\" />Notebook Viewer</a></td>\n",
        "    <td><a target=\"_blank\"  href=\"https://colab.research.google.com/github/giswqs/earthengine-py-notebooks/blob/master/Image/band_stats.ipynb\"><img src=\"https://www.tensorflow.org/images/colab_logo_32px.png\" /> Run in Google Colab</a></td>\n",
        "</table>"
      ]
    },
    {
      "cell_type": "markdown",
      "metadata": {},
      "source": [
        "## Install Earth Engine API and geemap\n",
        "Install the [Earth Engine Python API](https://developers.google.com/earth-engine/python_install) and [geemap](https://geemap.org). The **geemap** Python package is built upon the [ipyleaflet](https://github.com/jupyter-widgets/ipyleaflet) and [folium](https://github.com/python-visualization/folium) packages and implements several methods for interacting with Earth Engine data layers, such as `Map.addLayer()`, `Map.setCenter()`, and `Map.centerObject()`.\n",
        "The following script checks if the geemap package has been installed. If not, it will install geemap, which automatically installs its [dependencies](https://github.com/giswqs/geemap#dependencies), including earthengine-api, folium, and ipyleaflet."
      ]
    },
    {
      "cell_type": "code",
      "metadata": {},
      "source": [
        "# Installs geemap package\n",
        "import subprocess\n",
        "\n",
        "try:\n",
        "    import geemap\n",
        "except ImportError:\n",
        "    print('Installing geemap ...')\n",
        "    subprocess.check_call([\"python\", '-m', 'pip', 'install', 'geemap'])"
      ],
      "outputs": [],
      "execution_count": null
    },
    {
      "cell_type": "code",
      "metadata": {},
      "source": [
        "import ee\n",
        "import geemap"
      ],
      "outputs": [],
      "execution_count": null
    },
    {
      "cell_type": "markdown",
      "metadata": {},
      "source": [
        "## Create an interactive map \n",
        "The default basemap is `Google Maps`. [Additional basemaps](https://github.com/giswqs/geemap/blob/master/geemap/basemaps.py) can be added using the `Map.add_basemap()` function. "
      ]
    },
    {
      "cell_type": "code",
      "metadata": {},
      "source": [
        "Map = geemap.Map(center=[40,-100], zoom=4)\n",
        "Map"
      ],
      "outputs": [],
      "execution_count": null
    },
    {
      "cell_type": "markdown",
      "metadata": {},
      "source": [
        "## Add Earth Engine Python script "
      ]
    },
    {
      "cell_type": "code",
      "metadata": {},
      "source": [
        "# Add Earth Engine dataset\n",
        "# get highest value\n",
        "def maxValue(img, scale=30):\n",
        "    max_value = img.reduceRegion(**{\n",
        "        'reducer': ee.Reducer.max(),\n",
        "        'geometry': img.geometry(),\n",
        "        'scale': scale,\n",
        "        'maxPixels': 1e9\n",
        "    })\n",
        "    return max_value\n",
        "\n",
        "\n",
        "# get lowest value\n",
        "def minValue(img, scale=30):\n",
        "    min_value = img.reduceRegion(**{\n",
        "        'reducer': ee.Reducer.min(),\n",
        "        'geometry': img.geometry(),\n",
        "        'scale': scale,\n",
        "        'maxPixels': 1e9\n",
        "    })\n",
        "    return min_value\n",
        "\n",
        "\n",
        "# get mean value\n",
        "def meanValue(img, scale=30):\n",
        "    mean_value = img.reduceRegion(**{\n",
        "        'reducer': ee.Reducer.mean(),\n",
        "        'geometry': img.geometry(),\n",
        "        'scale': scale,\n",
        "        'maxPixels': 1e9\n",
        "    })\n",
        "    return mean_value\n",
        "\n",
        "\n",
        "# get standard deviation\n",
        "def stdValue(img, scale=30):\n",
        "    std_value = img.reduceRegion(**{\n",
        "        'reducer': ee.Reducer.stdDev(),\n",
        "        'geometry': img.geometry(),\n",
        "        'scale': scale,\n",
        "        'maxPixels': 1e9\n",
        "    })\n",
        "    return std_value\n",
        "\n",
        "\n",
        "dataset = ee.Image('USGS/NED')\n",
        "dem = dataset.select('elevation')\n",
        "# dem = ee.Image('srtm90_v4')\n",
        "vis_params = {'min': 0, 'max': 3000}\n",
        "Map.addLayer(dem, vis_params, 'NED', False)\n",
        "\n",
        "roi = ee.Geometry.Polygon(\n",
        "    [[[-120.18204899532924, 38.53481618819663],\n",
        "      [-120.18204899532924, 36.54889033300136],\n",
        "      [-116.75431462032924, 36.54889033300136],\n",
        "      [-116.75431462032924, 38.53481618819663]]])\n",
        "\n",
        "image = dem.clip(roi)\n",
        "Map.centerObject(image, 9)\n",
        "Map.addLayer(image, vis_params, 'DEM')\n",
        "\n",
        "scale = image.projection().nominalScale()\n",
        "print(\"Resolution: \", scale.getInfo())\n",
        "\n",
        "scale = 30\n",
        "\n",
        "print(\"Minimum value: \", minValue(image, scale).get('elevation').getInfo())\n",
        "print(\"Maximum value: \", maxValue(image, scale).get('elevation').getInfo())\n",
        "print(\"Average value: \", meanValue(image, scale).get('elevation').getInfo())\n",
        "print(\"Standard deviation: \", stdValue(image, scale).get('elevation').getInfo())\n"
      ],
      "outputs": [],
      "execution_count": null
    },
    {
      "cell_type": "markdown",
      "metadata": {},
      "source": [
        "## Display Earth Engine data layers "
      ]
    },
    {
      "cell_type": "code",
      "metadata": {},
      "source": [
        "Map.addLayerControl() # This line is not needed for ipyleaflet-based Map.\n",
        "Map"
      ],
      "outputs": [],
      "execution_count": null
    }
  ],
  "metadata": {
    "anaconda-cloud": {},
    "kernelspec": {
      "display_name": "Python 3",
      "language": "python",
      "name": "python3"
    },
    "language_info": {
      "codemirror_mode": {
        "name": "ipython",
        "version": 3
      },
      "file_extension": ".py",
      "mimetype": "text/x-python",
      "name": "python",
      "nbconvert_exporter": "python",
      "pygments_lexer": "ipython3",
      "version": "3.6.1"
    }
  },
  "nbformat": 4,
  "nbformat_minor": 4
}