{
 "cells": [
  {
   "cell_type": "code",
   "execution_count": 3,
   "metadata": {},
   "outputs": [],
   "source": [
    "import icepyx as ipx\n",
    "import os\n",
    "from pprint import pprint\n",
    "from PackageDeepLearn.utils import file_search_wash as fsw"
   ]
  },
  {
   "cell_type": "markdown",
   "metadata": {},
   "source": [
    "# 数据索引与下载"
   ]
  },
  {
   "cell_type": "markdown",
   "metadata": {},
   "source": [
    "## 数据基本参数定义与输出"
   ]
  },
  {
   "cell_type": "code",
   "execution_count": 6,
   "metadata": {},
   "outputs": [
    {
     "data": {
      "text/plain": [
       "{'Number of available granules': 222,\n",
       " 'Average size of granules (MB)': 4312.988787169929,\n",
       " 'Total size of all granules (MB)': 957483.5107517242}"
      ]
     },
     "execution_count": 6,
     "metadata": {},
     "output_type": "execute_result"
    }
   ],
   "source": [
    "# %%\n",
    "beam_list = ['gt1l', 'gt1r', 'gt2l', 'gt2r', 'gt3l', 'gt3r']\n",
    "var_list = ['h_ph', 'lat_ph', 'lon_ph', 'quality_ph', 'signal_conf_ph']\n",
    "START_DATE = '2023-01-01'\n",
    "END_DATE = '2023-12-31'\n",
    "short_name = 'ATL03' # ATL06、ATL08\n",
    "spatial_extent = r'D:\\BaiduSyncdisk\\03_数据与总结\\边界信息\\SETP_Boundary\\SETP_Boundary.shp'\n",
    "# spatial_extent = [(-55, 68), (-55, 71), (-48, 71), (-48, 68), (-55, 68)]\n",
    "date_range = {\"start_date\": START_DATE, \"end_date\": END_DATE}\n",
    "\n",
    "# %%\n",
    "# Specify the version or use the latest version\n",
    "region_a = ipx.Query(short_name, spatial_extent, date_range, version='006')\n",
    "region_a.avail_granules()\n",
    "\n"
   ]
  },
  {
   "cell_type": "code",
   "execution_count": 7,
   "metadata": {},
   "outputs": [],
   "source": [
    "region_a.order_vars.append(var_list=['dist_ph_along'])"
   ]
  },
  {
   "cell_type": "code",
   "execution_count": 8,
   "metadata": {},
   "outputs": [
    {
     "data": {
      "text/plain": [
       "{'dist_ph_along': ['gt1l/heights/dist_ph_along',\n",
       "  'gt1r/heights/dist_ph_along',\n",
       "  'gt2l/heights/dist_ph_along',\n",
       "  'gt2r/heights/dist_ph_along',\n",
       "  'gt3l/heights/dist_ph_along',\n",
       "  'gt3r/heights/dist_ph_along']}"
      ]
     },
     "execution_count": 8,
     "metadata": {},
     "output_type": "execute_result"
    }
   ],
   "source": [
    "region_a.order_vars.wanted"
   ]
  },
  {
   "cell_type": "code",
   "execution_count": null,
   "metadata": {},
   "outputs": [],
   "source": [
    "# %%\n",
    "path = r'D:\\Dataset_and_Demo\\2023_ATL03'\n",
    "region_a.download_granules(path) "
   ]
  },
  {
   "cell_type": "code",
   "execution_count": null,
   "metadata": {},
   "outputs": [],
   "source": [
    "# 设置子集参数\n",
    "# region_a.order_vars.remove(all=True)\n",
    "# region_a.order_vars.append(beam_list=beam_list, var_list=var_list)\n",
    "# region_a.subsetparams(Coverage=region_a.order_vars.wanted)"
   ]
  },
  {
   "cell_type": "markdown",
   "metadata": {},
   "source": [
    "## 数据下载"
   ]
  },
  {
   "cell_type": "code",
   "execution_count": null,
   "metadata": {},
   "outputs": [],
   "source": [
    "path = r'D:\\Dataset_and_Demo\\2023_ATL03'\n",
    "region_a.download_granules(path) "
   ]
  },
  {
   "cell_type": "code",
   "execution_count": null,
   "metadata": {},
   "outputs": [],
   "source": []
  },
  {
   "cell_type": "markdown",
   "metadata": {},
   "source": [
    "# 数据载入与分析"
   ]
  },
  {
   "cell_type": "markdown",
   "metadata": {},
   "source": [
    "### 载入单个本地数据"
   ]
  },
  {
   "cell_type": "code",
   "execution_count": null,
   "metadata": {},
   "outputs": [],
   "source": [
    "import os\n",
    "import glob\n",
    "import h5py\n",
    "import pandas as pd\n",
    "from tqdm import tqdm\n",
    "import time"
   ]
  },
  {
   "cell_type": "code",
   "execution_count": null,
   "metadata": {},
   "outputs": [],
   "source": [
    "ATL03 = r'D:\\Dataset_and_Demo\\ATL03\\ATL03_20190102184312_00810210_006_02.h5'\n",
    "ATL06 = r'D:\\Dataset_and_Demo\\ATL06\\ATL06_20190102184312_00810210_006_02.h5'\n",
    "\n",
    "# 用于将 ICESat-2 数据读取为指定格式的数据对象\n",
    "reader = ipx.Read(ATL06)\n",
    "\n",
    "# 返回与正在读入的数据关联的变量对象\n",
    "# 弱光束:gt1l、gt2l、gt3l ; 强束光:gt1r、gt2r、gt3r\n",
    "reader.vars.append(beam_list=['gt1l', 'gt3r'], var_list=['h_li', \"latitude\", \"longitude\"])\n",
    "\n",
    "ds = reader.load()\n",
    "print(ds)\n",
    "# ds.plot.scatter(x=\"longitude\", y=\"latitude\", hue=\"h_li\", vmin=-100, vmax=2000)"
   ]
  },
  {
   "cell_type": "markdown",
   "metadata": {},
   "source": [
    "### 载入文件夹所有数据\n",
    "必须是相同类型，如ATL08"
   ]
  },
  {
   "cell_type": "code",
   "execution_count": null,
   "metadata": {},
   "outputs": [],
   "source": [
    "file_list = fsw.search_files(r'D:\\Dataset_and_Demo\\2023_ATL03','.h5')\n",
    "reader = ipx.Read(file_list, glob_kwargs={'recursive': True})"
   ]
  },
  {
   "cell_type": "code",
   "execution_count": null,
   "metadata": {},
   "outputs": [
    {
     "name": "stdout",
     "output_type": "stream",
     "text": [
      "数据类型 = ATL03\n",
      "数据条目 = ['D:\\\\Dataset_and_Demo\\\\2023_ATL03\\\\processed_ATL03_20230102073623_01951802_006_02.h5', 'D:\\\\Dataset_and_Demo\\\\2023_ATL03\\\\processed_ATL03_20230106072759_02561802_006_02.h5', 'D:\\\\Dataset_and_Demo\\\\2023_ATL03\\\\processed_ATL03_20230110071941_03171802_006_02.h5', 'D:\\\\Dataset_and_Demo\\\\2023_ATL03\\\\processed_ATL03_20230114071125_03781802_006_02.h5', 'D:\\\\Dataset_and_Demo\\\\2023_ATL03\\\\processed_ATL03_20230115064547_03931802_006_02.h5', 'D:\\\\Dataset_and_Demo\\\\2023_ATL03\\\\processed_ATL03_20230119063718_04541802_006_02.h5']\n",
      "数据变量 = ({'atlas_sdp_gps_epoch': ['ancillary_data/atlas_sdp_gps_epoch'], 'data_end_utc': ['ancillary_data/data_end_utc'], 'data_start_utc': ['ancillary_data/data_start_utc'], 'end_delta_time': ['ancillary_data/end_delta_time'], 'granule_end_utc': ['ancillary_data/granule_end_utc'], 'granule_start_utc': ['ancillary_data/granule_start_utc'], 'start_delta_time': ['ancillary_data/start_delta_time'], 'delta_time': ['gt1l/geolocation/delta_time', 'gt1l/heights/delta_time', 'gt1r/geolocation/delta_time', 'gt1r/heights/delta_time', 'gt2l/geolocation/delta_time', 'gt2l/heights/delta_time', 'gt2r/geolocation/delta_time', 'gt2r/heights/delta_time', 'gt3l/geolocation/delta_time', 'gt3l/heights/delta_time', 'gt3r/geolocation/delta_time', 'gt3r/heights/delta_time'], 'ph_index_beg': ['gt1l/geolocation/ph_index_beg', 'gt1r/geolocation/ph_index_beg', 'gt2l/geolocation/ph_index_beg', 'gt2r/geolocation/ph_index_beg', 'gt3l/geolocation/ph_index_beg', 'gt3r/geolocation/ph_index_beg'], 'podppd_flag': ['gt1l/geolocation/podppd_flag', 'gt1r/geolocation/podppd_flag', 'gt2l/geolocation/podppd_flag', 'gt2r/geolocation/podppd_flag', 'gt3l/geolocation/podppd_flag', 'gt3r/geolocation/podppd_flag'], 'reference_photon_lat': ['gt1l/geolocation/reference_photon_lat', 'gt1r/geolocation/reference_photon_lat', 'gt2l/geolocation/reference_photon_lat', 'gt2r/geolocation/reference_photon_lat', 'gt3l/geolocation/reference_photon_lat', 'gt3r/geolocation/reference_photon_lat'], 'reference_photon_lon': ['gt1l/geolocation/reference_photon_lon', 'gt1r/geolocation/reference_photon_lon', 'gt2l/geolocation/reference_photon_lon', 'gt2r/geolocation/reference_photon_lon', 'gt3l/geolocation/reference_photon_lon', 'gt3r/geolocation/reference_photon_lon'], 'segment_ph_cnt': ['gt1l/geolocation/segment_ph_cnt', 'gt1r/geolocation/segment_ph_cnt', 'gt2l/geolocation/segment_ph_cnt', 'gt2r/geolocation/segment_ph_cnt', 'gt3l/geolocation/segment_ph_cnt', 'gt3r/geolocation/segment_ph_cnt'], 'h_ph': ['gt1l/heights/h_ph', 'gt1r/heights/h_ph', 'gt2l/heights/h_ph', 'gt2r/heights/h_ph', 'gt3l/heights/h_ph', 'gt3r/heights/h_ph'], 'lat_ph': ['gt1l/heights/lat_ph', 'gt1r/heights/lat_ph', 'gt2l/heights/lat_ph', 'gt2r/heights/lat_ph', 'gt3l/heights/lat_ph', 'gt3r/heights/lat_ph'], 'lon_ph': ['gt1l/heights/lon_ph', 'gt1r/heights/lon_ph', 'gt2l/heights/lon_ph', 'gt2r/heights/lon_ph', 'gt3l/heights/lon_ph', 'gt3r/heights/lon_ph'], 'quality_ph': ['gt1l/heights/quality_ph', 'gt1r/heights/quality_ph', 'gt2l/heights/quality_ph', 'gt2r/heights/quality_ph', 'gt3l/heights/quality_ph', 'gt3r/heights/quality_ph'], 'signal_conf_ph': ['gt1l/heights/signal_conf_ph', 'gt1r/heights/signal_conf_ph', 'gt2l/heights/signal_conf_ph', 'gt2r/heights/signal_conf_ph', 'gt3l/heights/signal_conf_ph', 'gt3r/heights/signal_conf_ph'], 'crossing_time': ['orbit_info/crossing_time'], 'cycle_number': ['orbit_info/cycle_number'], 'rgt': ['orbit_info/rgt'], 'sc_orient': ['orbit_info/sc_orient'], 'sc_orient_time': ['orbit_info/sc_orient_time']}, [['ancillary_data', 'ancillary_data', 'ancillary_data', 'ancillary_data', 'ancillary_data', 'ancillary_data', 'ancillary_data', 'gt1l', 'gt1l', 'gt1l', 'gt1l', 'gt1l', 'gt1l', 'gt1l', 'gt1l', 'gt1l', 'gt1l', 'gt1l', 'gt1l', 'gt1r', 'gt1r', 'gt1r', 'gt1r', 'gt1r', 'gt1r', 'gt1r', 'gt1r', 'gt1r', 'gt1r', 'gt1r', 'gt1r', 'gt2l', 'gt2l', 'gt2l', 'gt2l', 'gt2l', 'gt2l', 'gt2l', 'gt2l', 'gt2l', 'gt2l', 'gt2l', 'gt2l', 'gt2r', 'gt2r', 'gt2r', 'gt2r', 'gt2r', 'gt2r', 'gt2r', 'gt2r', 'gt2r', 'gt2r', 'gt2r', 'gt2r', 'gt3l', 'gt3l', 'gt3l', 'gt3l', 'gt3l', 'gt3l', 'gt3l', 'gt3l', 'gt3l', 'gt3l', 'gt3l', 'gt3l', 'gt3r', 'gt3r', 'gt3r', 'gt3r', 'gt3r', 'gt3r', 'gt3r', 'gt3r', 'gt3r', 'gt3r', 'gt3r', 'gt3r', 'orbit_info', 'orbit_info', 'orbit_info', 'orbit_info', 'orbit_info'], ['none', 'none', 'none', 'none', 'none', 'none', 'none', 'geolocation', 'geolocation', 'geolocation', 'geolocation', 'geolocation', 'geolocation', 'heights', 'heights', 'heights', 'heights', 'heights', 'heights', 'geolocation', 'geolocation', 'geolocation', 'geolocation', 'geolocation', 'geolocation', 'heights', 'heights', 'heights', 'heights', 'heights', 'heights', 'geolocation', 'geolocation', 'geolocation', 'geolocation', 'geolocation', 'geolocation', 'heights', 'heights', 'heights', 'heights', 'heights', 'heights', 'geolocation', 'geolocation', 'geolocation', 'geolocation', 'geolocation', 'geolocation', 'heights', 'heights', 'heights', 'heights', 'heights', 'heights', 'geolocation', 'geolocation', 'geolocation', 'geolocation', 'geolocation', 'geolocation', 'heights', 'heights', 'heights', 'heights', 'heights', 'heights', 'geolocation', 'geolocation', 'geolocation', 'geolocation', 'geolocation', 'geolocation', 'heights', 'heights', 'heights', 'heights', 'heights', 'heights', 'none', 'none', 'none', 'none', 'none']])\n"
     ]
    }
   ],
   "source": [
    "print('数据类型 = {}'.format(reader.product))\n",
    "print('数据条目 = {}'.format(reader.filelist))\n",
    "print('数据变量 = {}'.format(reader.vars.parse_var_list(reader.vars.avail())))"
   ]
  },
  {
   "cell_type": "markdown",
   "metadata": {},
   "source": [
    "### 创建独立的变量对象"
   ]
  },
  {
   "cell_type": "code",
   "execution_count": null,
   "metadata": {},
   "outputs": [],
   "source": [
    "v = ipx.Variables(path=ATL06)\n",
    "# v.avail()\n",
    "# v = ipx.Variables(product='ATL03', version='006')\n",
    "# v.avail()\n",
    "\n",
    "v.parse_var_list(v.avail())"
   ]
  },
  {
   "cell_type": "code",
   "execution_count": null,
   "metadata": {},
   "outputs": [],
   "source": [
    "import xarray as xr\n",
    "\n",
    "xr.open_dataset(ATL06,group='gt1r/land_ice_segments',engine='h5netcdf')"
   ]
  }
 ],
 "metadata": {
  "kernelspec": {
   "display_name": "GEE",
   "language": "python",
   "name": "python3"
  },
  "language_info": {
   "codemirror_mode": {
    "name": "ipython",
    "version": 3
   },
   "file_extension": ".py",
   "mimetype": "text/x-python",
   "name": "python",
   "nbconvert_exporter": "python",
   "pygments_lexer": "ipython3",
   "version": "3.11.9"
  }
 },
 "nbformat": 4,
 "nbformat_minor": 2
}
