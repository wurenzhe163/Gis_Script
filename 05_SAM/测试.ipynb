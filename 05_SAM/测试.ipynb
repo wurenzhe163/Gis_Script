{
 "cells": [
  {
   "cell_type": "code",
   "execution_count": 25,
   "metadata": {},
   "outputs": [
    {
     "data": {
      "text/html": [
       "\n",
       "            <style>\n",
       "                .geemap-dark {\n",
       "                    --jp-widgets-color: white;\n",
       "                    --jp-widgets-label-color: white;\n",
       "                    --jp-ui-font-color1: white;\n",
       "                    --jp-layout-color2: #454545;\n",
       "                    background-color: #383838;\n",
       "                }\n",
       "\n",
       "                .geemap-dark .jupyter-button {\n",
       "                    --jp-layout-color3: #383838;\n",
       "                }\n",
       "\n",
       "                .geemap-colab {\n",
       "                    background-color: var(--colab-primary-surface-color, white);\n",
       "                }\n",
       "\n",
       "                .geemap-colab .jupyter-button {\n",
       "                    --jp-layout-color3: var(--colab-primary-surface-color, white);\n",
       "                }\n",
       "            </style>\n",
       "            "
      ],
      "text/plain": [
       "<IPython.core.display.HTML object>"
      ]
     },
     "metadata": {},
     "output_type": "display_data"
    },
    {
     "data": {
      "text/plain": [
       "True"
      ]
     },
     "execution_count": 25,
     "metadata": {},
     "output_type": "execute_result"
    }
   ],
   "source": [
    "import ee\n",
    "import geemap\n",
    "import math\n",
    "import sys, os\n",
    "import json\n",
    "from GEE_Func.S1_distor_dedicated import load_S1collection, S1_CalDistor, DEM_caculator\n",
    "from GEE_Func.GEE_DataIOTrans import DataTrans, DataIO, Vector_process\n",
    "from GEE_Func.GEE_CorreterAndFilters import ImageFilter, S1Corrector\n",
    "from GEE_Func.GEE_Tools import S1_Cheker\n",
    "from functools import partial\n",
    "import traceback\n",
    "from osgeo import gdal\n",
    "Eq_pixels = DataTrans.Eq_pixels\n",
    "import numpy as np\n",
    "from PackageDeepLearn.utils import DataIOTrans\n",
    "\n",
    "geemap.set_proxy(port=10809)\n",
    "ee.Initialize()\n",
    "ee.Authenticate()\n"
   ]
  },
  {
   "cell_type": "code",
   "execution_count": 7,
   "metadata": {},
   "outputs": [
    {
     "data": {
      "text/html": [
       "\n",
       "            <style>\n",
       "                .geemap-dark {\n",
       "                    --jp-widgets-color: white;\n",
       "                    --jp-widgets-label-color: white;\n",
       "                    --jp-ui-font-color1: white;\n",
       "                    --jp-layout-color2: #454545;\n",
       "                    background-color: #383838;\n",
       "                }\n",
       "\n",
       "                .geemap-dark .jupyter-button {\n",
       "                    --jp-layout-color3: #383838;\n",
       "                }\n",
       "\n",
       "                .geemap-colab {\n",
       "                    background-color: var(--colab-primary-surface-color, white);\n",
       "                }\n",
       "\n",
       "                .geemap-colab .jupyter-button {\n",
       "                    --jp-layout-color3: var(--colab-primary-surface-color, white);\n",
       "                }\n",
       "            </style>\n",
       "            "
      ],
      "text/plain": [
       "<IPython.core.display.HTML object>"
      ]
     },
     "metadata": {},
     "output_type": "display_data"
    }
   ],
   "source": [
    "restrict_Fuse = False  # 图像融合方式\n",
    "Filter_Angle = 38  # 数字越小越容易导入Layover图像，普遍值为32-45\n",
    "Nodata_tore = 0  # 感兴趣区域nodata像素数容忍度\n",
    "NodataTovalue = 0\n",
    "Origin_scale = 10  # 原始数据分辨率\n",
    "projScale = 30  # 投影分辨率\n",
    "box_fromGEE = True  # box是否由GEE获得\n",
    "BoundBuffer_Add = 300 # 边界缓冲区加值\n",
    "model = 'volume'  # Slop correction model\n",
    "DEM = ee.Image(\"NASA/NASADEM_HGT/001\").select('elevation')\n",
    "# SaveDir = r'D:\\Dataset_and_Demo\\SETP_GL_TimeSeries'\n",
    "SaveDir = r'D:\\Dataset_and_Demo\\SETP_GL_TS2'\n",
    "\n",
    "years = ['2015','2016','2017','2018','2019','2020','2021','2022','2023','2024']\n",
    "SETP_Season = ['-02-25', '-05-31', '-09-15', '-11-28', '-02-25']\n",
    "\n",
    "#--------------------------预加载冰湖数据,测试的时候加上Filter_bound\n",
    "# Glacial_lake = ee.FeatureCollection('projects/ee-mrwurenzhe/assets/Glacial_lake/SAR_GLs/2019Gls_SARExt').sort('fid_1')\n",
    "Glacial_lake = ee.FeatureCollection('projects/ee-mrwurenzhe/assets/Glacial_lake/SAR_GLs/GL_replenish')\n",
    "\n",
    "#--------------------------预加载几何畸变数据\n",
    "Ascending_DistorFull = ee.Image('projects/ee-mrwurenzhe/assets/SETP_Distor/SETPAscending_Distor')\n",
    "Descending_DistorFull= ee.Image('projects/ee-mrwurenzhe/assets/SETP_Distor/SETPDescending_Distor')\n",
    "Ascending_GradFull   = ee.Image('projects/ee-mrwurenzhe/assets/SETP_Distor/SETPAscending_Forshortening_Grading_30')\n",
    "Descending_GradFull  = ee.Image('projects/ee-mrwurenzhe/assets/SETP_Distor/SETPDescending_Forshortening_Grading_30')\n",
    "\n",
    "#-------------------------计算geometry、质心点、最小包络矩形\n",
    "Geo_ext = lambda feature: feature.set({\n",
    "                                    'Geo': feature.geometry(),\n",
    "                                    'Centroid': feature.geometry().centroid(),\n",
    "                                    'Rectangle': feature.geometry().bounds()})\n",
    "\n",
    "Glacial_lake_C = Glacial_lake.map(Geo_ext)\n",
    "Num_list = Glacial_lake.size().getInfo()\n",
    "Glacial_lake_A_GeoList = Glacial_lake.toList(Num_list)\n",
    "Glacial_lake_C_CentriodList = ee.List(Glacial_lake_C.reduceColumns(ee.Reducer.toList(),['Centroid']).get('list'))\n",
    "Glacial_lake_R_RectangleList = ee.List(Glacial_lake_C.reduceColumns(ee.Reducer.toList(),['Rectangle']).get('list'))"
   ]
  },
  {
   "cell_type": "code",
   "execution_count": 8,
   "metadata": {},
   "outputs": [
    {
     "data": {
      "text/html": [
       "\n",
       "            <style>\n",
       "                .geemap-dark {\n",
       "                    --jp-widgets-color: white;\n",
       "                    --jp-widgets-label-color: white;\n",
       "                    --jp-ui-font-color1: white;\n",
       "                    --jp-layout-color2: #454545;\n",
       "                    background-color: #383838;\n",
       "                }\n",
       "\n",
       "                .geemap-dark .jupyter-button {\n",
       "                    --jp-layout-color3: #383838;\n",
       "                }\n",
       "\n",
       "                .geemap-colab {\n",
       "                    background-color: var(--colab-primary-surface-color, white);\n",
       "                }\n",
       "\n",
       "                .geemap-colab .jupyter-button {\n",
       "                    --jp-layout-color3: var(--colab-primary-surface-color, white);\n",
       "                }\n",
       "            </style>\n",
       "            "
      ],
      "text/plain": [
       "<IPython.core.display.HTML object>"
      ]
     },
     "metadata": {},
     "output_type": "display_data"
    }
   ],
   "source": [
    "# --------------------------------------功能函数\n",
    "def getS1Corners(image, orbitProperties_pass):\n",
    "    # 真实方位角(根据整幅影响运算)\n",
    "    coords = ee.Array(image.geometry().coordinates().get(0)).transpose()\n",
    "    crdLons = ee.List(coords.toList().get(0))\n",
    "    crdLats = ee.List(coords.toList().get(1))\n",
    "    minLon = crdLons.sort().get(0)\n",
    "    minLat = crdLats.sort().get(0)\n",
    "    azimuth = (ee.Number(crdLons.get(crdLats.indexOf(minLat))).subtract(minLon).atan2(\n",
    "        ee.Number(crdLats.get(crdLons.indexOf(minLon))).subtract(minLat))\n",
    "                .multiply(180.0 / 3.131415926))\n",
    "\n",
    "    if orbitProperties_pass == 'ASCENDING':\n",
    "        azimuth = azimuth.add(270.0)\n",
    "    elif orbitProperties_pass == 'DESCENDING':\n",
    "        azimuth = azimuth.add(180.0)\n",
    "    else:\n",
    "        raise TypeError\n",
    "    \n",
    "    return azimuth\n",
    "\n",
    "def S1_slope_correction(image, orbitProperties_pass,DEM = DEM,scale=Origin_scale, model=model):\n",
    "    # 获取投影几何\n",
    "    geom = image.geometry()\n",
    "    proj = image.select(0).projection()\n",
    "\n",
    "    # 计算方位向、距离向以及图像的四个角点、构筑计算辅助线\n",
    "    Heading = getS1Corners(image,orbitProperties_pass) #'ASCENDING' = 348.3   'DESCENDING' = 189.2\n",
    "\n",
    "    s1_azimuth_across = ee.Number(Heading).subtract(90.0) # 距离向\n",
    "    theta_iRad = image.select('angle').multiply(3.1415926 / 180)  # 地面入射角度转为弧度\n",
    "    phi_iRad = ee.Image.constant(s1_azimuth_across).multiply(3.1415926 / 180)  # 距离向转弧度\n",
    "\n",
    "    #计算地形几何信息\n",
    "    _, _, alpha_rRad, alpha_azRad = DEM_caculator.slop_aspect(DEM, proj, geom, phi_iRad)\n",
    "\n",
    "    # 根据入射角度修订\n",
    "    sigma0Pow = ee.Image.constant(10).pow(image.divide(10.0))\n",
    "    gamma0 = sigma0Pow.divide(theta_iRad.cos())\n",
    "\n",
    "    slop_correction = S1Corrector.volumetric(model, theta_iRad, alpha_rRad, alpha_azRad,gamma0)\n",
    "    image_ = (Eq_pixels(slop_correction['gamma0_flatDB'].select('VV_gamma0flat')).rename('VV_gamma0_flatDB')\n",
    "            .addBands(Eq_pixels(slop_correction['gamma0_flatDB'].select('VH_gamma0flat')).rename('VH_gamma0_flatDB'))\n",
    "            .addBands(Eq_pixels(image.select('angle')).rename('incAngle'))).reproject(crs=proj)\n",
    "    \n",
    "     # 手动复制时间信息\n",
    "    time_start = image.get('system:time_start')\n",
    "    time_end = image.get('system:time_end')\n",
    "    image_ = image_.set('system:time_start', time_start).set('system:time_end', time_end)\n",
    "    return image_.copyProperties(image)\n",
    "\n",
    "def getMask(image, nodataValues: list = []):\n",
    "    combined_mask = image.mask()  # 获取现有的掩膜\n",
    "    if len(nodataValues) == 0:\n",
    "        return combined_mask\n",
    "    else:\n",
    "        for nodatavalue in nodataValues:\n",
    "            value_mask = image.neq(nodatavalue).unmask(0) \n",
    "            combined_mask = combined_mask.And(value_mask)  \n",
    "        return combined_mask\n",
    "\n",
    "def export_image_tiles(image, save_path, grid_list,tiles_num, scale):\n",
    "    tasks = []\n",
    "    for idx in range(tiles_num):\n",
    "        tile_path = f\"{save_path}_tile_{idx}.tif\"\n",
    "        if os.path.exists(tile_path):\n",
    "            pass\n",
    "        else:\n",
    "            geemap.ee_export_image(image, filename=tile_path, scale=scale, region=grid_list.get(idx), file_per_band=False, timeout=300)\n",
    "        tasks.append(tile_path)\n",
    "    return tasks\n",
    "\n",
    "def merge_tiles(tile_paths, output_path):\n",
    "    vrt_options = gdal.BuildVRTOptions(resampleAlg='cubic', addAlpha=True)\n",
    "    vrt = gdal.BuildVRT('/vsimem/temporary.vrt', tile_paths, options=vrt_options)\n",
    "    gdal.Translate(output_path, vrt)\n",
    "    vrt = None  # 释放内存\n"
   ]
  },
  {
   "cell_type": "code",
   "execution_count": 13,
   "metadata": {},
   "outputs": [
    {
     "data": {
      "text/html": [
       "\n",
       "            <style>\n",
       "                .geemap-dark {\n",
       "                    --jp-widgets-color: white;\n",
       "                    --jp-widgets-label-color: white;\n",
       "                    --jp-ui-font-color1: white;\n",
       "                    --jp-layout-color2: #454545;\n",
       "                    background-color: #383838;\n",
       "                }\n",
       "\n",
       "                .geemap-dark .jupyter-button {\n",
       "                    --jp-layout-color3: #383838;\n",
       "                }\n",
       "\n",
       "                .geemap-colab {\n",
       "                    background-color: var(--colab-primary-surface-color, white);\n",
       "                }\n",
       "\n",
       "                .geemap-colab .jupyter-button {\n",
       "                    --jp-layout-color3: var(--colab-primary-surface-color, white);\n",
       "                }\n",
       "            </style>\n",
       "            "
      ],
      "text/plain": [
       "<IPython.core.display.HTML object>"
      ]
     },
     "metadata": {},
     "output_type": "display_data"
    },
    {
     "name": "stdout",
     "output_type": "stream",
     "text": [
      "Processing index: 268 for time range 2015-02-25 to 2015-05-31\n"
     ]
    }
   ],
   "source": [
    "START_DATE= ee.Date('2015' + '-02-25')\n",
    "END_DATE  = ee.Date('2015' + '-05-31')\n",
    "\n",
    "i = 4890-4622\n",
    "\n",
    "\n",
    "print(f\"Processing index: {i} for time range {START_DATE.format('YYYY-MM-dd').getInfo()} to {END_DATE.format('YYYY-MM-dd').getInfo()}\")\n",
    "GLAOI = ee.Feature(Glacial_lake_A_GeoList.get(i))\n",
    "AOI = GLAOI.geometry()\n",
    "AOI_Bound = ee.Feature(Glacial_lake_R_RectangleList.get(i)).geometry()\n",
    "AOI_area = float(GLAOI.get('Area_pre').getInfo())\n",
    "AOI_bufferBounds = AOI_Bound.buffer(distance=math.log(AOI_area + 1, 5) * 1200 + BoundBuffer_Add).bounds()\n",
    "s1_col = (ee.ImageCollection(\"COPERNICUS/S1_GRD\")\n",
    "            .filter(ee.Filter.eq('instrumentMode', 'IW'))\n",
    "            .filterBounds(AOI)\n",
    "            .filterDate(START_DATE, END_DATE))\n",
    "\n",
    "s1_col = s1_col.map(partial(DataTrans.rm_nodata, AOI=AOI))\n",
    "s1_col = s1_col.map(partial(DataTrans.cal_minmax, AOI=AOI))\n",
    "s1_col = s1_col.map(lambda x: x.updateMask(x.gte(-30))) # 部分影像边缘存在黑边误差\n",
    "proj = s1_col.first().select(0).projection()\n",
    "\n",
    "s1_a_col = s1_col.filter(ee.Filter.eq('orbitProperties_pass', 'ASCENDING'))\n",
    "s1_d_col = s1_col.filter(ee.Filter.eq('orbitProperties_pass', 'DESCENDING'))\n",
    "\n",
    "if s1_a_col.size().getInfo() == 0 or s1_d_col.size().getInfo() == 0:\n",
    "    print('No s1_a_col or s1_d_col data')\n",
    "    Origin = s1_col.map(S1_Cheker.CheckDuplicateBands).map(ImageFilter.RefinedLee)\\\n",
    "                         .mean().reproject(crs=proj).clip(AOI_bufferBounds)\n",
    "    s1_unit_mean_ = Origin\n",
    "else:\n",
    "    s1_a_col_Nodata = s1_a_col.filter(ee.Filter.lte('numNodata', Nodata_tore))\n",
    "    s1_d_col_Nodata = s1_d_col.filter(ee.Filter.lte('numNodata', Nodata_tore))\n",
    "\n",
    "    if s1_a_col_Nodata.size().getInfo() == 0 :\n",
    "        s1_a_col_Nodata = s1_a_col\n",
    "        print('All s1_a_col data nodata nums > 0')\n",
    "    if s1_d_col_Nodata.size().getInfo() == 0 :\n",
    "        s1_d_col_Nodata = s1_d_col\n",
    "        print('All s1_d_col data nodata nums > 0')\n",
    "\n",
    "    s1_a_col_Angle = s1_a_col_Nodata.filter(ee.Filter.gte('min', Filter_Angle))\n",
    "    s1_d_col_Angle = s1_d_col_Nodata.filter(ee.Filter.gte('min', Filter_Angle))\n",
    "    if s1_a_col_Angle.size().getInfo() == 0:\n",
    "        s1_a_col_Angle = s1_a_col_Nodata\n",
    "        print('All s1_a_col data Angle < {}'.format(Filter_Angle))\n",
    "    if s1_d_col_Angle.size().getInfo() == 0:\n",
    "        s1_d_col_Angle = s1_d_col_Nodata\n",
    "        print('All s1_d_col data Angle < {}'.format(Filter_Angle))\n",
    "\n",
    "    s1_ascending_collection = s1_a_col_Angle.map(S1_Cheker.CheckDuplicateBands).map(ImageFilter.RefinedLee).\\\n",
    "                                map(partial(S1_slope_correction, orbitProperties_pass='ASCENDING'))\n",
    "    s1_descending_collection = s1_d_col_Angle.map(S1_Cheker.CheckDuplicateBands).map(ImageFilter.RefinedLee).\\\n",
    "                                map(partial(S1_slope_correction, orbitProperties_pass='DESCENDING'))\n",
    "                                \n",
    "\n",
    "    s1_ascending = s1_ascending_collection.mean().reproject(crs=proj).clip(AOI_bufferBounds)\n",
    "    s1_descending = s1_descending_collection.mean().reproject(crs=proj).clip(AOI_bufferBounds)\n",
    "\n",
    "    Ascending_Distor = Ascending_DistorFull\n",
    "    Descending_Distor = Descending_DistorFull\n",
    "    A_Mask = getMask(Ascending_Distor, nodataValues=[9])\n",
    "    D_Mask = getMask(Descending_Distor, nodataValues=[9])\n",
    "    Ascending_Grad = Ascending_GradFull\n",
    "    Descending_Grad = Descending_GradFull\n",
    "    A_Mask = A_Mask.Or(Ascending_Grad.gt(10).unmask(0))\n",
    "    D_Mask = D_Mask.Or(Descending_Grad.gt(10).unmask(0))\n",
    "    A_Mask = Eq_pixels(A_Mask).reproject(crs=proj).clip(AOI_bufferBounds)\n",
    "    D_Mask = Eq_pixels(D_Mask).reproject(crs=proj).clip(AOI_bufferBounds)\n",
    "    \n",
    "    if restrict_Fuse:\n",
    "        s1_ascending_ = s1_ascending.updateMask(A_Mask.Not())\n",
    "        s1_descending_ = s1_descending.updateMask(D_Mask.Not())\n",
    "        Combin_AD = ee.ImageCollection([s1_ascending_, s1_descending_])\n",
    "        s1_unit_mean_ = Combin_AD.mean().reproject(crs=proj).clip(AOI_bufferBounds)\n",
    "    else:\n",
    "        s1_ascending_ = ee.Image(s1_ascending.where(A_Mask, s1_descending))\n",
    "        s1_descending_ = ee.Image(s1_descending.where(D_Mask, s1_ascending))\n",
    "        Combin_AD = ee.ImageCollection([s1_ascending_, s1_descending_])\n",
    "        s1_unit_mean_ = Combin_AD.mean().reproject(crs=proj).clip(AOI_bufferBounds)\n",
    "\n",
    "    s1_unit_mean_ = s1_unit_mean_.unmask(NodataTovalue)"
   ]
  },
  {
   "cell_type": "code",
   "execution_count": 14,
   "metadata": {},
   "outputs": [
    {
     "data": {
      "text/html": [
       "\n",
       "            <style>\n",
       "                .geemap-dark {\n",
       "                    --jp-widgets-color: white;\n",
       "                    --jp-widgets-label-color: white;\n",
       "                    --jp-ui-font-color1: white;\n",
       "                    --jp-layout-color2: #454545;\n",
       "                    background-color: #383838;\n",
       "                }\n",
       "\n",
       "                .geemap-dark .jupyter-button {\n",
       "                    --jp-layout-color3: #383838;\n",
       "                }\n",
       "\n",
       "                .geemap-colab {\n",
       "                    background-color: var(--colab-primary-surface-color, white);\n",
       "                }\n",
       "\n",
       "                .geemap-colab .jupyter-button {\n",
       "                    --jp-layout-color3: var(--colab-primary-surface-color, white);\n",
       "                }\n",
       "            </style>\n",
       "            "
      ],
      "text/plain": [
       "<IPython.core.display.HTML object>"
      ]
     },
     "metadata": {},
     "output_type": "display_data"
    },
    {
     "data": {
      "application/vnd.jupyter.widget-view+json": {
       "model_id": "e35945b976a447beafe51c109bb8316d",
       "version_major": 2,
       "version_minor": 0
      },
      "text/plain": [
       "Map(center=[31.103471963572623, 93.1433005257501], controls=(WidgetControl(options=['position', 'transparent_b…"
      ]
     },
     "execution_count": 14,
     "metadata": {},
     "output_type": "execute_result"
    }
   ],
   "source": [
    "s1_descending_mean = s1_descending_collection.mean().reproject(crs=proj)\n",
    "s1_descending_median = s1_descending_collection.median().reproject(crs=proj)\n",
    "Map = geemap.Map() # center=(0, 0), zoom=2, height='600px', width='100%', add_google_map=True,layers='HYBRID','SATELLITE'\n",
    "Map.centerObject(AOI, zoom=15)\n",
    "Map.add_basemap('HYBRID') # 'SATELLITE'\n",
    "Map.addLayer(s1_unit_mean_.select('VV_gamma0_flatDB'), {'min':-20,'max':2}, 'unit')\n",
    "Map.addLayer(s1_descending_mean.select('VV_gamma0_flatDB'), {'min':-20,'max':2}, 'mean')\n",
    "Map.addLayer(s1_descending_median.select('VV_gamma0_flatDB'), {'min':-20,'max':2}, 'median')\n",
    "Map"
   ]
  },
  {
   "cell_type": "code",
   "execution_count": null,
   "metadata": {},
   "outputs": [],
   "source": []
  }
 ],
 "metadata": {
  "kernelspec": {
   "display_name": "GEE",
   "language": "python",
   "name": "python3"
  },
  "language_info": {
   "codemirror_mode": {
    "name": "ipython",
    "version": 3
   },
   "file_extension": ".py",
   "mimetype": "text/x-python",
   "name": "python",
   "nbconvert_exporter": "python",
   "pygments_lexer": "ipython3",
   "version": "3.12.3"
  }
 },
 "nbformat": 4,
 "nbformat_minor": 2
}
