{
 "cells": [
  {
   "cell_type": "markdown",
   "metadata": {},
   "source": [
    "# 使用GEE导入切片\n",
    "日期选择、时序影像平均、降低噪声、几何畸变校正"
   ]
  },
  {
   "cell_type": "code",
   "execution_count": null,
   "metadata": {},
   "outputs": [],
   "source": [
    "import ee\n",
    "import geemap\n",
    "import math\n",
    "import sys,os\n",
    "from GEE_Func.S1_distor_dedicated import load_S1collection,S1_CalDistor,DEM_caculator\n",
    "from GEE_Func.S2_filter import merge_s2_collection\n",
    "from GEE_Func.GEE_DataIOTrans import DataTrans\n",
    "from GEE_Func.GEE_CorreterAndFilters import ImageFilter,S1Corrector\n",
    "from GEE_Func.GEEMath import get_minmax\n",
    "from GEE_Func.GEE_Tools import Select_imageNum \n",
    "from functools import partial\n",
    "geemap.set_proxy(port=10809)\n",
    "# ee.Authenticate()\n",
    "ee.Initialize()"
   ]
  },
  {
   "cell_type": "markdown",
   "metadata": {},
   "source": [
    "## 载入GEE冰湖矢量，获取相应范围的图像切片"
   ]
  },
  {
   "cell_type": "code",
   "execution_count": null,
   "metadata": {},
   "outputs": [],
   "source": [
    "#--------------------------预加载冰湖数据,测试的时候加上Filter_bound\n",
    "Filter_bound = ee.FeatureCollection('projects/ee-mrwurenzhe/assets/Test/Domin_ForDistorTest').geometry().buffer(-300)\n",
    "Glacial_lake = ee.FeatureCollection('projects/ee-mrwurenzhe/assets/Glacial_lake/SAR_GLs/2019Gls_SARExt').sort('fid_1').filterBounds(Filter_bound)\n",
    "Glacial_lake_Shrink = ee.FeatureCollection('projects/ee-mrwurenzhe/assets/Glacial_lake/SAR_GLs/2019Gls_SARExt_inbuffer').sort('fid_1').filterBounds(Filter_bound)\n",
    "DEMNASA = ee.Image(\"NASA/NASADEM_HGT/001\").select('elevation')\n",
    "\n",
    "Ascending_DistorFull = ee.Image('projects/ee-mrwurenzhe/assets/SETP_Distor/SETPAscending_Distor')\n",
    "Descending_DistorFull= ee.Image('projects/ee-mrwurenzhe/assets/SETP_Distor/SETPDescending_Distor')\n",
    "Ascending_GradFull   = ee.Image('projects/ee-mrwurenzhe/assets/SETP_Distor/SETPAscending_Forshortening_Grading_30')\n",
    "Descending_GradFull  = ee.Image('projects/ee-mrwurenzhe/assets/SETP_Distor/SETPDescending_Forshortening_Grading_30')\n",
    "restrict_Fuse = False # 图像融合方式\n",
    "Filter_Angle  = 36    # 数字越小越容易导入Layover图像，普遍值为32-45\n",
    "Nodata_tore   = 0     # 感兴趣区域nodata像素数容忍度\n",
    "NodataTovalue = 0\n",
    "Origin_scale = 10     # 原始数据分辨率\n",
    "projScale = 30        # 投影分辨率\n",
    "box_fromGEE = True    # box是否由GEE获得\n",
    "\n",
    "# 计算geometry、质心点、最小包络矩形\n",
    "Geo_ext = lambda feature: feature.set({\n",
    "    'Geo': feature.geometry(),\n",
    "    'Centroid': feature.geometry().centroid(),\n",
    "    'Rectangle': feature.geometry().bounds()})\n",
    "Centrid_set = lambda feature: feature.setGeometry(feature.geometry().centroid())\n",
    "Rectangle_set = lambda feature: feature.setGeometry(feature.geometry().bounds())\n",
    "Glacial_lake_C = Glacial_lake.map(Geo_ext)\n",
    "Num_list = Glacial_lake.size().getInfo()\n",
    "Glacial_lake_A_GeoList = Glacial_lake.toList(Num_list)\n",
    "Glacial_lake_C_CentriodList = ee.List(Glacial_lake_C.reduceColumns(ee.Reducer.toList(),['Centroid']).get('list'))\n",
    "Glacial_lake_R_RectangleList = ee.List(Glacial_lake_C.reduceColumns(ee.Reducer.toList(),['Rectangle']).get('list'))\n",
    "Glacial_lake_Shrink_GeoList = Glacial_lake_Shrink.toList(Num_list)"
   ]
  },
  {
   "cell_type": "code",
   "execution_count": null,
   "metadata": {},
   "outputs": [],
   "source": [
    "def getS1Corners(image, orbitProperties_pass):\n",
    "    # 真实方位角(根据整幅影响运算)\n",
    "    coords = ee.Array(image.geometry().coordinates().get(0)).transpose()\n",
    "    crdLons = ee.List(coords.toList().get(0))\n",
    "    crdLats = ee.List(coords.toList().get(1))\n",
    "    minLon = crdLons.sort().get(0)\n",
    "    minLat = crdLats.sort().get(0)\n",
    "    azimuth = (ee.Number(crdLons.get(crdLats.indexOf(minLat))).subtract(minLon).atan2(\n",
    "        ee.Number(crdLats.get(crdLons.indexOf(minLon))).subtract(minLat))\n",
    "                .multiply(180.0 / 3.131415926))\n",
    "\n",
    "    if orbitProperties_pass == 'ASCENDING':\n",
    "        azimuth = azimuth.add(270.0)\n",
    "    elif orbitProperties_pass == 'DESCENDING':\n",
    "        azimuth = azimuth.add(180.0)\n",
    "    else:\n",
    "        raise TypeError\n",
    "    \n",
    "    return azimuth\n",
    "\n",
    "def S1_slope_correction(image, orbitProperties_pass,DEM = DEMNASA,scale=Origin_scale, model='volume'):\n",
    "    # 获取投影几何\n",
    "    geom = image.geometry()\n",
    "    proj = image.select(0).projection()\n",
    "\n",
    "    # 计算方位向、距离向以及图像的四个角点、构筑计算辅助线\n",
    "    Heading = getS1Corners(image,orbitProperties_pass) #'ASCENDING' = 348.3   'DESCENDING' = 189.2\n",
    "\n",
    "    s1_azimuth_across = ee.Number(Heading).subtract(90.0) # 距离向\n",
    "    theta_iRad = image.select('angle').multiply(3.1415926 / 180)  # 地面入射角度转为弧度\n",
    "    phi_iRad = ee.Image.constant(s1_azimuth_across).multiply(3.1415926 / 180)  # 距离向转弧度\n",
    "\n",
    "    #计算地形几何信息\n",
    "    _, _, alpha_rRad, alpha_azRad = DEM_caculator.slop_aspect(DEM, proj, geom, phi_iRad)\n",
    "\n",
    "    # 根据入射角度修订\n",
    "    sigma0Pow = ee.Image.constant(10).pow(image.divide(10.0))\n",
    "    gamma0 = sigma0Pow.divide(theta_iRad.cos())\n",
    "\n",
    "    slop_correction = S1Corrector.volumetric(model, theta_iRad, alpha_rRad, alpha_azRad,gamma0)\n",
    "    Eq_pixels = DataTrans.Eq_pixels\n",
    "    image_ = (Eq_pixels(slop_correction['gamma0_flatDB'].select('VV_gamma0flat')).rename('VV_gamma0_flatDB')\n",
    "            .addBands(Eq_pixels(slop_correction['gamma0_flatDB'].select('VH_gamma0flat')).rename('VH_gamma0_flatDB'))\n",
    "            .addBands(Eq_pixels(image.select('angle')).rename('incAngle'))).reproject(crs=proj)\n",
    "    \n",
    "     # 手动复制时间信息\n",
    "    time_start = image.get('system:time_start')\n",
    "    time_end = image.get('system:time_end')\n",
    "    image_ = image_.set('system:time_start', time_start).set('system:time_end', time_end)\n",
    "    return image_.copyProperties(image)\n",
    "\n",
    "def getMask(image, nodataValues: list = []):\n",
    "    combined_mask = image.mask()  # 获取现有的掩膜\n",
    "    if len(nodataValues) == 0:\n",
    "        return combined_mask\n",
    "    else:\n",
    "        for nodatavalue in nodataValues:\n",
    "            value_mask = image.neq(nodatavalue).unmask(0) \n",
    "            combined_mask = combined_mask.And(value_mask)  \n",
    "        return combined_mask"
   ]
  },
  {
   "cell_type": "code",
   "execution_count": null,
   "metadata": {},
   "outputs": [],
   "source": [
    "i = 15\n",
    "GLAOI = ee.Feature(Glacial_lake_A_GeoList.get(i))\n",
    "AOI = GLAOI.geometry()\n",
    "AOI_Bound = ee.Feature(Glacial_lake_R_RectangleList.get(i)).geometry()\n",
    "AOI_Centro = ee.Feature(Glacial_lake_C_CentriodList.get(i)).geometry()\n",
    "AOI_area = float(GLAOI.get('Area_pre').getInfo())\n",
    "AOI_bufferBounds = AOI_Bound.buffer(distance=math.log(AOI_area+1,5) * 1200 + 1200).bounds()# 边界不可过大，否则会影响局部自适应提取效果\n",
    "\n",
    "\n",
    "\n",
    "years = ['2015','2016','2017','2018','2019','2020','2021','2022','2023','2024']\n",
    "SETP_Season = ['-02-25','-05-31','-09-15','-11-28','-02-25']\n",
    "\n",
    "START_DATE  = ee.Date(years[4] + SETP_Season[1])\n",
    "END_DATE    = ee.Date(years[4] + SETP_Season[2])\n",
    "\n",
    "s1_col = (ee.ImageCollection(\"COPERNICUS/S1_GRD\")\n",
    "        .filter(ee.Filter.eq('instrumentMode', 'IW'))\n",
    "        .filterBounds(AOI)\n",
    "        .filterDate(START_DATE, END_DATE))\n",
    "\n",
    "s1_col = s1_col.map(partial(DataTrans.rm_nodata, AOI=AOI)).map(partial(DataTrans.cal_minmax,AOI=AOI))\n",
    "s1_col = s1_col.filter(ee.Filter.eq('numNodata', Nodata_tore)).filter(ee.Filter.gt('min', 36)).map(ImageFilter.RefinedLee)\n",
    "proj = s1_col.first().select(0).projection()\n",
    "\n",
    "# 斜坡校正\n",
    "s1_ascending_collection= s1_col.filter(ee.Filter.eq('orbitProperties_pass', 'ASCENDING'))\\\n",
    "                                                .map(partial(S1_slope_correction,orbitProperties_pass='ASCENDING'))\n",
    "s1_descending_collection = s1_col.filter(ee.Filter.eq('orbitProperties_pass', 'DESCENDING'))\\\n",
    "                                                .map(partial(S1_slope_correction,orbitProperties_pass='DESCENDING'))\n",
    "\n",
    "# 数据集求均值，降低噪声、滩涂、流水干扰\n",
    "s1_ascending = s1_ascending_collection.mean().reproject(crs=proj).clip(AOI_bufferBounds)\n",
    "s1_descending = s1_descending_collection.mean().reproject(crs=proj,scale=Origin_scale).clip(AOI_bufferBounds)\n",
    "\n",
    "# 计算几何畸变掩膜\n",
    "Ascending_Distor = Ascending_DistorFull.clip(AOI_bufferBounds)\n",
    "Descending_Distor = Descending_DistorFull.clip(AOI_bufferBounds) \n",
    "A_Mask = getMask(Ascending_Distor,nodataValues=[9])\n",
    "D_Mask = getMask(Descending_Distor,nodataValues=[9])\n",
    "Ascending_Grad = Ascending_GradFull.clip(AOI_bufferBounds)\n",
    "Descending_Grad = Descending_GradFull.clip(AOI_bufferBounds) \n",
    "A_Mask = A_Mask.Or(Ascending_Grad.gt(10).unmask(0))\n",
    "D_Mask = D_Mask.Or(Descending_Grad.gt(10).unmask(0))"
   ]
  },
  {
   "cell_type": "code",
   "execution_count": null,
   "metadata": {},
   "outputs": [],
   "source": [
    "# timestamp = ee.Date(Select_imageNum(s1_ascending_collection,1).get('system:time_start')).format('YYYY-MM-dd HH:mm:ss').getInfo()\n",
    "# print('Sentinel-1影像的时间:', timestamp)\n",
    "\n",
    "# os.environ[\"PLANET_API_KEY\"] = \"PLAKc3ce7baa106b47d980fd28a59c3ede5b\"\n",
    "# tile_format = \"ipyleaflet\"\n",
    "# if os.environ.get(\"USE_FOLIUM\") is not None:\n",
    "#     tile_format = \"folium\"\n",
    "\n",
    "# Map = geemap.Map()\n",
    "# Map.centerObject(AOI_Centro, zoom=15)\n",
    "# Map.add_planet_by_quarter(year=2019, quarter=1)\n",
    "# Map.add_planet_by_month(year=2019, month=3)\n",
    "\n",
    "# Map.addLayer(s1_descending.select(0),{'min':-15,'max':-1},'a')\n",
    "# Map.addLayer(Select_imageNum(s1_descending_collection,0).select(0).clip(AOI_bufferBounds),{'min':-15,'max':-1},'a_0')\n",
    "# Map.addLayer(Select_imageNum(s1_descending_collection,1).select(0).clip(AOI_bufferBounds),{'min':-15,'max':-1},'a_1')\n",
    "# Map.addLayer(Select_imageNum(s1_descending_collection,2).select(0).clip(AOI_bufferBounds),{'min':-15,'max':-1},'a_2')\n",
    "# Map.addLayer(Select_imageNum(s1_descending_collection,3).select(0).clip(AOI_bufferBounds),{'min':-15,'max':-1},'a_3')\n",
    "# Map.addLayer(Select_imageNum(s1_descending_collection,4).select(0).clip(AOI_bufferBounds),{'min':-15,'max':-1},'a_4')\n",
    "# Map.addLayer(Select_imageNum(s1_descending_collection,5).select(0).clip(AOI_bufferBounds),{'min':-15,'max':-1},'a_5')\n",
    "# Map"
   ]
  },
  {
   "cell_type": "markdown",
   "metadata": {},
   "source": [
    "# 升降轨融合"
   ]
  },
  {
   "cell_type": "code",
   "execution_count": null,
   "metadata": {},
   "outputs": [],
   "source": [
    "if restrict_Fuse:\n",
    "        # 严格。如果A、D都存在畸变，则该区域为空\n",
    "        s1_ascending_ =  s1_ascending.updateMask(A_Mask.Not())\n",
    "        s1_descending_=  s1_descending.updateMask(D_Mask.Not())                      \n",
    "        Combin_AD = ee.ImageCollection([s1_ascending_,s1_descending_])\n",
    "        s1_unit_mean_ = Combin_AD.mean().reproject(crs=proj).clip(AOI_bufferBounds)\n",
    "\n",
    "else:\n",
    "        # 宽松，如果存在畸变，则优先采用逆轨影像替换\n",
    "        s1_ascending_ = ee.Image(s1_ascending.where(A_Mask,s1_descending))\n",
    "        s1_descending_ = ee.Image(s1_descending.where(D_Mask,s1_ascending))\n",
    "        Combin_AD = ee.ImageCollection([s1_ascending_,s1_descending_])\n",
    "        s1_unit_mean_ = Combin_AD.mean().reproject(crs=proj).clip(AOI_bufferBounds)\n",
    "# 设置Nodata为-99\n",
    "s1_unit_mean_ = s1_unit_mean_.unmask(NodataTovalue)"
   ]
  },
  {
   "cell_type": "code",
   "execution_count": null,
   "metadata": {},
   "outputs": [],
   "source": [
    "# os.environ[\"PLANET_API_KEY\"] = \"PLAKc3ce7baa106b47d980fd28a59c3ede5b\"\n",
    "# tile_format = \"ipyleaflet\"\n",
    "# if os.environ.get(\"USE_FOLIUM\") is not None:\n",
    "#     tile_format = \"folium\"\n",
    "# quarterly_tiles = geemap.planet_quarterly_tiles(tile_format=tile_format)\n",
    "\n",
    "# Map = geemap.Map()\n",
    "# Map.centerObject(AOI_Centro, zoom=15)\n",
    "# Map.add_planet_by_quarter(year=2019, quarter=3)\n",
    "# Map.addLayer(A_Mask.randomVisualizer())\n",
    "# Map.addLayer(s1_ascending_.select(0),{'min':-15,'max':-1},'a')\n",
    "# Map.addLayer(D_Mask.randomVisualizer())\n",
    "# Map.addLayer(s1_descending_.select(0),{'min':-15,'max':-1},'d')\n",
    "# Map.addLayer(s1_unit_mean_.select(0),{'min':-15,'max':-1},'s1_unit_mean_')\n",
    "# Map"
   ]
  },
  {
   "cell_type": "markdown",
   "metadata": {},
   "source": [
    "## 图像切片导出，采用本地文件导入"
   ]
  },
  {
   "cell_type": "markdown",
   "metadata": {},
   "source": [
    "### 导出升降轨融合图像"
   ]
  },
  {
   "cell_type": "code",
   "execution_count": null,
   "metadata": {},
   "outputs": [],
   "source": [
    "import importlib\n",
    "import GEE_Func.GEE_DataIOTrans\n",
    "importlib.reload(GEE_Func.GEE_DataIOTrans)\n",
    "from GEE_Func.GEE_DataIOTrans import DataIO\n",
    "from PackageDeepLearn.utils import DataIOTrans\n",
    "os.chdir(r'D:\\Dataset_and_Demo\\DataFused')\n",
    "save_path = \"{}_ADMeanFused.tif\".format(f'{i:05d}')\n",
    "# 数据导出，转为0-255\n",
    "DataIO.Geemap_export(save_path, s1_unit_mean_,region=AOI_bufferBounds, scale=Origin_scale,rename_image=False)\n",
    "#---------------------！！！！！！！！！！！！！！！！修改了nodata、transFunc再测试\n",
    "imagePath = DataIOTrans.DataIO.TransImage_Values(save_path,transFunc=DataIOTrans.DataTrans.MinMaxBoundaryScaler,bandSave=[0,0,0],scale=255)"
   ]
  },
  {
   "cell_type": "markdown",
   "metadata": {},
   "source": [
    "## 采用SAM提取，形成shp文件"
   ]
  },
  {
   "cell_type": "code",
   "execution_count": null,
   "metadata": {},
   "outputs": [],
   "source": [
    "from samgeo import tms_to_geotiff , SamGeo # type: ignore\n",
    "# from samgeo.hq_sam import SamGeo,show_image,download_file,overlay_images,tms_to_geotiff\n",
    "sam = SamGeo(\n",
    "    model_type=\"vit_h\",\n",
    "    automatic=False,\n",
    "    sam_kwargs=None,\n",
    ")\n",
    "sam.set_image(imagePath)\n",
    "\n",
    "# 基于BOX\n",
    "AOI_Bound_Info = AOI_Bound.getInfo()\n",
    "if box_fromGEE == True:\n",
    "    boxes = [*AOI_Bound_Info['coordinates'][0][0],*AOI_Bound_Info['coordinates'][0][2]]\n",
    "    sam.predict(boxes=boxes, point_crs=\"EPSG:4326\", output=\"test_.tif\", dtype=\"uint8\")"
   ]
  },
  {
   "cell_type": "markdown",
   "metadata": {},
   "source": [
    "## 可视化(可选)"
   ]
  },
  {
   "cell_type": "code",
   "execution_count": null,
   "metadata": {},
   "outputs": [],
   "source": [
    "from shapely.geometry import box\n",
    "import geopandas as gpd\n",
    "import leafmap\n",
    "boxes = [*AOI_Bound_Info['coordinates'][0][0],*AOI_Bound_Info['coordinates'][0][2]]\n",
    "# Ensure that the 'box' function is called correctly to create geometries\n",
    "gdf = gpd.GeoDataFrame(geometry=[box(*boxes)], crs=\"EPSG:4326\")\n",
    "m = leafmap.Map(center=Filter_bound.centroid().getInfo()['coordinates'][::-1], zoom=18, height=\"800px\")\n",
    "m.layers[-1].visible = False\n",
    "m.add_raster(imagePath, layer_name=\"Image\")\n",
    "m.add_gdf(gdf, layer_name=\"Boxes\")\n",
    "m.add_raster(\"test_.tif\", cmap=\"viridis\", nodata=0, layer_name=\"Mask_box\")\n",
    "m"
   ]
  },
  {
   "cell_type": "code",
   "execution_count": 1,
   "metadata": {},
   "outputs": [],
   "source": [
    "i= 1\n",
    "save_path = \"{}_ADMeanFused.tif\".format(f'{i:05d}')"
   ]
  },
  {
   "cell_type": "code",
   "execution_count": 2,
   "metadata": {},
   "outputs": [
    {
     "data": {
      "text/plain": [
       "'00001_GLext.tif'"
      ]
     },
     "execution_count": 2,
     "metadata": {},
     "output_type": "execute_result"
    }
   ],
   "source": [
    "\"{}_GLext.tif\".format(f'{i:05d}')"
   ]
  }
 ],
 "metadata": {
  "kernelspec": {
   "display_name": "GEE",
   "language": "python",
   "name": "python3"
  },
  "language_info": {
   "codemirror_mode": {
    "name": "ipython",
    "version": 3
   },
   "file_extension": ".py",
   "mimetype": "text/x-python",
   "name": "python",
   "nbconvert_exporter": "python",
   "pygments_lexer": "ipython3",
   "version": "3.11.9"
  }
 },
 "nbformat": 4,
 "nbformat_minor": 2
}
