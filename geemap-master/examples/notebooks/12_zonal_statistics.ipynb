{
 "cells": [
  {
   "cell_type": "markdown",
   "metadata": {},
   "source": [
    "<a href=\"https://githubtocolab.com/giswqs/geemap/blob/master/examples/notebooks/12_zonal_statistics.ipynb\" target=\"_parent\"><img src=\"https://colab.research.google.com/assets/colab-badge.svg\" alt=\"Open in Colab\"/></a>\n",
    "\n",
    "Uncomment the following line to install [geemap](https://geemap.org) if needed."
   ]
  },
  {
   "cell_type": "code",
   "execution_count": null,
   "metadata": {},
   "outputs": [],
   "source": [
    "# !pip install geemap"
   ]
  },
  {
   "cell_type": "code",
   "execution_count": 3,
   "metadata": {},
   "outputs": [],
   "source": [
    "import ee\n",
    "import geemap\n",
    "import os"
   ]
  },
  {
   "cell_type": "code",
   "execution_count": 4,
   "metadata": {},
   "outputs": [
    {
     "data": {
      "application/vnd.jupyter.widget-view+json": {
       "model_id": "faafe3d764294ba28ff2b4c5f9b721a4",
       "version_major": 2,
       "version_minor": 0
      },
      "text/plain": [
       "Output(layout=Layout(width='815px'))"
      ]
     },
     "metadata": {},
     "output_type": "display_data"
    }
   ],
   "source": [
    "geemap.show_youtube('ou-Xm3CLitM')"
   ]
  },
  {
   "cell_type": "code",
   "execution_count": 5,
   "metadata": {},
   "outputs": [
    {
     "data": {
      "application/vnd.jupyter.widget-view+json": {
       "model_id": "1f06d333d174495c8ba6c137fa604ea1",
       "version_major": 2,
       "version_minor": 0
      },
      "text/plain": [
       "Map(center=[20, 0], controls=(WidgetControl(options=['position', 'transparent_bg'], widget=HBox(children=(Togg…"
      ]
     },
     "metadata": {},
     "output_type": "display_data"
    }
   ],
   "source": [
    "geemap.set_proxy(port=10809)\n",
    "Map = geemap.Map()\n",
    "Map"
   ]
  },
  {
   "cell_type": "code",
   "execution_count": 6,
   "metadata": {},
   "outputs": [],
   "source": [
    "# Add Earth Engine dataset\n",
    "dem = ee.Image('USGS/SRTMGL1_003')\n",
    "\n",
    "# Set visualization parameters.\n",
    "dem_vis = {\n",
    "    'min': 0,\n",
    "    'max': 4000,\n",
    "    'palette': ['006633', 'E5FFCC', '662A00', 'D8D8D8', 'F5F5F5'],\n",
    "}\n",
    "\n",
    "# Add Earth Engine DEM to map\n",
    "Map.addLayer(dem, dem_vis, 'SRTM DEM')\n",
    "\n",
    "# Add Landsat data to map\n",
    "landsat = ee.Image('LANDSAT/LE7_TOA_5YEAR/1999_2003')\n",
    "\n",
    "landsat_vis = {'bands': ['B4', 'B3', 'B2'], 'gamma': 1.4}\n",
    "Map.addLayer(landsat, landsat_vis, \"LE7_TOA_5YEAR/1999_2003\")\n",
    "\n",
    "states = ee.FeatureCollection(\"TIGER/2018/States\")\n",
    "Map.addLayer(states, {}, 'US States')"
   ]
  },
  {
   "cell_type": "code",
   "execution_count": 7,
   "metadata": {},
   "outputs": [
    {
     "name": "stdout",
     "output_type": "stream",
     "text": [
      "Computing statistics ...\n",
      "Generating URL ...\n",
      "Downloading data from https://earthengine.googleapis.com/v1alpha/projects/earthengine-legacy/tables/04e8c7b138ea4c98a9a99871c8737598-b6af64d48e152b394190d46604c613ef:getFeatures\n",
      "Please wait ...\n",
      "Data downloaded to C:\\Users\\SAR\\Downloads\\dem_stats.csv\n"
     ]
    }
   ],
   "source": [
    "out_dir = os.path.join(os.path.expanduser('~'), 'Downloads')\n",
    "out_dem_stats = os.path.join(out_dir, 'dem_stats.csv')\n",
    "\n",
    "if not os.path.exists(out_dir):\n",
    "    os.makedirs(out_dir)\n",
    "\n",
    "# Allowed output formats: csv, shp, json, kml, kmz\n",
    "# Allowed statistics type: MEAN, MAXIMUM, MINIMUM, MEDIAN, STD, MIN_MAX, VARIANCE, SUM\n",
    "geemap.zonal_statistics(dem, states, out_dem_stats, statistics_type='MEAN', scale=1000)"
   ]
  },
  {
   "cell_type": "code",
   "execution_count": 8,
   "metadata": {
    "scrolled": true
   },
   "outputs": [
    {
     "name": "stdout",
     "output_type": "stream",
     "text": [
      "Computing statistics ...\n",
      "Generating URL ...\n",
      "Downloading data from https://earthengine.googleapis.com/v1alpha/projects/earthengine-legacy/tables/35cee5f45fa0f810096e85dfb8483617-73990f6b08dad79c41543e094911f37c:getFeatures\n",
      "Please wait ...\n",
      "Data downloaded to C:\\Users\\SAR\\Downloads\\landsat_stats.csv\n"
     ]
    }
   ],
   "source": [
    "out_landsat_stats = os.path.join(out_dir, 'landsat_stats.csv')\n",
    "geemap.zonal_statistics(\n",
    "    landsat, states, out_landsat_stats, statistics_type='SUM', scale=1000\n",
    ")"
   ]
  },
  {
   "cell_type": "code",
   "execution_count": 9,
   "metadata": {},
   "outputs": [
    {
     "data": {
      "text/html": [
       "<a download=\"dem_stats.csv\" href=\"data:text/csv;base64,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\" style=\"color:#0000FF;\" target=\"_blank\">Click here to download:  dem_stats.csv</a>"
      ],
      "text/plain": [
       "<IPython.core.display.HTML object>"
      ]
     },
     "execution_count": 9,
     "metadata": {},
     "output_type": "execute_result"
    }
   ],
   "source": [
    "geemap.create_download_link(out_dem_stats)"
   ]
  },
  {
   "cell_type": "code",
   "execution_count": null,
   "metadata": {},
   "outputs": [],
   "source": [
    "geemap.create_download_link(out_landsat_stats)"
   ]
  }
 ],
 "metadata": {
  "hide_input": false,
  "kernelspec": {
   "display_name": "Python 3",
   "language": "python",
   "name": "python3"
  },
  "language_info": {
   "codemirror_mode": {
    "name": "ipython",
    "version": 3
   },
   "file_extension": ".py",
   "mimetype": "text/x-python",
   "name": "python",
   "nbconvert_exporter": "python",
   "pygments_lexer": "ipython3",
   "version": "3.8.8"
  },
  "toc": {
   "base_numbering": 1,
   "nav_menu": {},
   "number_sections": true,
   "sideBar": true,
   "skip_h1_title": true,
   "title_cell": "Table of Contents",
   "title_sidebar": "Table of Contents",
   "toc_cell": false,
   "toc_position": {},
   "toc_section_display": true,
   "toc_window_display": true
  },
  "varInspector": {
   "cols": {
    "lenName": 16,
    "lenType": 16,
    "lenVar": 40
   },
   "kernels_config": {
    "python": {
     "delete_cmd_postfix": "",
     "delete_cmd_prefix": "del ",
     "library": "var_list.py",
     "varRefreshCmd": "print(var_dic_list())"
    },
    "r": {
     "delete_cmd_postfix": ") ",
     "delete_cmd_prefix": "rm(",
     "library": "var_list.r",
     "varRefreshCmd": "cat(var_dic_list()) "
    }
   },
   "types_to_exclude": [
    "module",
    "function",
    "builtin_function_or_method",
    "instance",
    "_Feature"
   ],
   "window_display": false
  }
 },
 "nbformat": 4,
 "nbformat_minor": 4
}
