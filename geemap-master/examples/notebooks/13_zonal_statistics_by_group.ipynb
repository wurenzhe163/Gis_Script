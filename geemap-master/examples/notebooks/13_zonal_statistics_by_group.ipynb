{
 "cells": [
  {
   "cell_type": "markdown",
   "metadata": {},
   "source": [
    "<a href=\"https://githubtocolab.com/giswqs/geemap/blob/master/examples/notebooks/13_zonal_statistics_by_group.ipynb\" target=\"_parent\"><img src=\"https://colab.research.google.com/assets/colab-badge.svg\" alt=\"Open in Colab\"/></a>\n",
    "\n",
    "Uncomment the following line to install [geemap](https://geemap.org) if needed."
   ]
  },
  {
   "cell_type": "code",
   "execution_count": null,
   "metadata": {},
   "outputs": [],
   "source": [
    "# !pip install geemap"
   ]
  },
  {
   "cell_type": "code",
   "execution_count": 1,
   "metadata": {},
   "outputs": [],
   "source": [
    "import ee\n",
    "import geemap\n",
    "import os"
   ]
  },
  {
   "cell_type": "markdown",
   "metadata": {},
   "source": [
    "## Analyzing National Land Cover Database (NLCD)"
   ]
  },
  {
   "cell_type": "code",
   "execution_count": 9,
   "metadata": {},
   "outputs": [
    {
     "data": {
      "application/vnd.jupyter.widget-view+json": {
       "model_id": "57c89e0d346342eb8264aab98554524e",
       "version_major": 2,
       "version_minor": 0
      },
      "text/plain": [
       "Map(center=[20, 0], controls=(WidgetControl(options=['position', 'transparent_bg'], widget=HBox(children=(Togg…"
      ]
     },
     "metadata": {},
     "output_type": "display_data"
    }
   ],
   "source": [
    "geemap.set_proxy(port=10809)\n",
    "Map = geemap.Map()\n",
    "Map"
   ]
  },
  {
   "cell_type": "markdown",
   "metadata": {},
   "source": [
    "### Add NLCD data"
   ]
  },
  {
   "cell_type": "code",
   "execution_count": 10,
   "metadata": {},
   "outputs": [],
   "source": [
    "dataset = ee.Image('USGS/NLCD_RELEASES/2019_REL/NLCD/2019')\n",
    "landcover = ee.Image(dataset.select('landcover'))\n",
    "Map.addLayer(landcover, {}, 'NLCD 2016')\n",
    "\n",
    "states = ee.FeatureCollection(\"TIGER/2018/States\")\n",
    "Map.addLayer(states, {}, 'US States')"
   ]
  },
  {
   "cell_type": "code",
   "execution_count": 12,
   "metadata": {},
   "outputs": [],
   "source": [
    "Map.add_legend(builtin_legend='NLCD')"
   ]
  },
  {
   "cell_type": "markdown",
   "metadata": {},
   "source": [
    "### Calculate land cover compostion of each US state"
   ]
  },
  {
   "cell_type": "code",
   "execution_count": 5,
   "metadata": {},
   "outputs": [
    {
     "name": "stdout",
     "output_type": "stream",
     "text": [
      "Computing ... \n",
      "Generating URL ...\n",
      "Downloading data from https://earthengine.googleapis.com/v1alpha/projects/earthengine-legacy/tables/fe9146449509b9051e5f733bbfbf8c4c-7c8607997f52b3f29fb7acfd9907f93a:getFeatures\n",
      "Please wait ...\n",
      "Data downloaded to C:\\Users\\SAR\\Downloads\\nlcd_stats.csv\n"
     ]
    }
   ],
   "source": [
    "out_dir = os.path.join(os.path.expanduser('~'), 'Downloads')\n",
    "nlcd_stats = os.path.join(out_dir, 'nlcd_stats.csv')\n",
    "\n",
    "if not os.path.exists(out_dir):\n",
    "    os.makedirs(out_dir)\n",
    "\n",
    "# statistics_type can be either 'SUM' or 'PERCENTAGE'\n",
    "# denominator can be used to convert square meters to other areal units, such as square kilometers\n",
    "geemap.zonal_statistics_by_group(\n",
    "    landcover,\n",
    "    states,\n",
    "    nlcd_stats,\n",
    "    statistics_type='SUM',\n",
    "    denominator=1000000,\n",
    "    decimal_places=2,\n",
    ")"
   ]
  },
  {
   "cell_type": "code",
   "execution_count": 13,
   "metadata": {},
   "outputs": [
    {
     "data": {
      "text/html": [
       "<a download=\"nlcd_stats.csv\" href=\"data:text/csv;base64,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\" style=\"color:#0000FF;\" target=\"_blank\">Click here to download:  nlcd_stats.csv</a>"
      ],
      "text/plain": [
       "<IPython.core.display.HTML object>"
      ]
     },
     "execution_count": 13,
     "metadata": {},
     "output_type": "execute_result"
    }
   ],
   "source": [
    "geemap.create_download_link(nlcd_stats)"
   ]
  },
  {
   "cell_type": "markdown",
   "metadata": {},
   "source": [
    "## Analyzing Global Land Cover"
   ]
  },
  {
   "cell_type": "code",
   "execution_count": 14,
   "metadata": {},
   "outputs": [
    {
     "data": {
      "application/vnd.jupyter.widget-view+json": {
       "model_id": "faad0769d1b44d458a592bec52b5c6f6",
       "version_major": 2,
       "version_minor": 0
      },
      "text/plain": [
       "Map(center=[20, 0], controls=(WidgetControl(options=['position', 'transparent_bg'], widget=HBox(children=(Togg…"
      ]
     },
     "metadata": {},
     "output_type": "display_data"
    }
   ],
   "source": [
    "Map = geemap.Map()\n",
    "Map"
   ]
  },
  {
   "cell_type": "markdown",
   "metadata": {},
   "source": [
    "### Add MODIS global land cover data\n",
    "\n",
    "MODIS MCD12Q1.006 Land Cover Type Yearly Global 500m \n",
    "\n",
    "https://developers.google.com/earth-engine/datasets/catalog/MODIS_006_MCD12Q1"
   ]
  },
  {
   "cell_type": "code",
   "execution_count": 15,
   "metadata": {},
   "outputs": [],
   "source": [
    "landcover = ee.Image('MODIS/006/MCD12Q1/2013_01_01').select('LC_Type1')\n",
    "\n",
    "vis = {\n",
    "    'min': 1.0,\n",
    "    'max': 17.0,\n",
    "    'palette': [\n",
    "        '05450a',\n",
    "        '086a10',\n",
    "        '54a708',\n",
    "        '78d203',\n",
    "        '009900',\n",
    "        'c6b044',\n",
    "        'dcd159',\n",
    "        'dade48',\n",
    "        'fbff13',\n",
    "        'b6ff05',\n",
    "        '27ff87',\n",
    "        'c24f44',\n",
    "        'a5a5a5',\n",
    "        'ff6d4c',\n",
    "        '69fff8',\n",
    "        'f9ffa4',\n",
    "        '1c0dff',\n",
    "    ],\n",
    "}\n",
    "\n",
    "Map.setCenter(6.746, 46.529, 2)\n",
    "Map.addLayer(landcover, vis, 'MODIS Land Cover')"
   ]
  },
  {
   "cell_type": "code",
   "execution_count": 16,
   "metadata": {},
   "outputs": [],
   "source": [
    "Map.add_legend(builtin_legend='MODIS/006/MCD12Q1')"
   ]
  },
  {
   "cell_type": "code",
   "execution_count": 17,
   "metadata": {},
   "outputs": [],
   "source": [
    "countries_shp = '../data/countries.shp'\n",
    "countries = geemap.shp_to_ee(countries_shp)\n",
    "Map.addLayer(countries, {}, 'Countries')"
   ]
  },
  {
   "cell_type": "code",
   "execution_count": 18,
   "metadata": {},
   "outputs": [
    {
     "name": "stdout",
     "output_type": "stream",
     "text": [
      "Computing ... \n",
      "Generating URL ...\n",
      "Downloading data from https://earthengine.googleapis.com/v1alpha/projects/earthengine-legacy/tables/f9c71c01f4daa812605d1499e6fb00b2-a5e997c6578869ccedb9f2eb8bf133ee:getFeatures\n",
      "Please wait ...\n",
      "Data downloaded to C:\\Users\\SAR\\Downloads\\global_stats.csv\n"
     ]
    }
   ],
   "source": [
    "out_dir = os.path.join(os.path.expanduser('~'), 'Downloads')\n",
    "global_stats = os.path.join(out_dir, 'global_stats.csv')\n",
    "\n",
    "# statistics_type can be either 'SUM' or 'PERCENTAGE'\n",
    "# denominator can be used to convert square meters to other areal units, such as square kilimeters\n",
    "geemap.zonal_statistics_by_group(\n",
    "    landcover,\n",
    "    countries,\n",
    "    global_stats,\n",
    "    statistics_type='PERCENTAGE',\n",
    "    denominator=1000000,\n",
    "    decimal_places=2,\n",
    ")"
   ]
  },
  {
   "cell_type": "code",
   "execution_count": null,
   "metadata": {},
   "outputs": [],
   "source": [
    "geemap.create_download_link(global_stats)"
   ]
  }
 ],
 "metadata": {
  "hide_input": false,
  "kernelspec": {
   "display_name": "Python 3",
   "language": "python",
   "name": "python3"
  },
  "language_info": {
   "codemirror_mode": {
    "name": "ipython",
    "version": 3
   },
   "file_extension": ".py",
   "mimetype": "text/x-python",
   "name": "python",
   "nbconvert_exporter": "python",
   "pygments_lexer": "ipython3",
   "version": "3.8.8"
  },
  "toc": {
   "base_numbering": 1,
   "nav_menu": {},
   "number_sections": true,
   "sideBar": true,
   "skip_h1_title": true,
   "title_cell": "Table of Contents",
   "title_sidebar": "Table of Contents",
   "toc_cell": false,
   "toc_position": {},
   "toc_section_display": true,
   "toc_window_display": true
  },
  "varInspector": {
   "cols": {
    "lenName": 16,
    "lenType": 16,
    "lenVar": 40
   },
   "kernels_config": {
    "python": {
     "delete_cmd_postfix": "",
     "delete_cmd_prefix": "del ",
     "library": "var_list.py",
     "varRefreshCmd": "print(var_dic_list())"
    },
    "r": {
     "delete_cmd_postfix": ") ",
     "delete_cmd_prefix": "rm(",
     "library": "var_list.r",
     "varRefreshCmd": "cat(var_dic_list()) "
    }
   },
   "types_to_exclude": [
    "module",
    "function",
    "builtin_function_or_method",
    "instance",
    "_Feature"
   ],
   "window_display": false
  }
 },
 "nbformat": 4,
 "nbformat_minor": 4
}
