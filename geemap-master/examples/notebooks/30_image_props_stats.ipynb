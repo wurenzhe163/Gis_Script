{
 "cells": [
  {
   "cell_type": "markdown",
   "metadata": {
    "pycharm": {
     "name": "#%% md\n"
    }
   },
   "source": [
    "<a href=\"https://githubtocolab.com/giswqs/geemap/blob/master/examples/notebooks/30_image_props_stats.ipynb\" target=\"_parent\"><img src=\"https://colab.research.google.com/assets/colab-badge.svg\" alt=\"Open in Colab\"/></a>\n",
    "\n",
    "Uncomment the following line to install [geemap](https://geemap.org) if needed."
   ]
  },
  {
   "cell_type": "code",
   "execution_count": 4,
   "metadata": {
    "ExecuteTime": {
     "end_time": "2022-11-06T10:34:05.020766Z",
     "start_time": "2022-11-06T10:34:05.015683Z"
    },
    "pycharm": {
     "name": "#%%\n"
    }
   },
   "outputs": [],
   "source": [
    "# !pip install geemap"
   ]
  },
  {
   "cell_type": "code",
   "execution_count": 1,
   "metadata": {},
   "outputs": [
    {
     "name": "stderr",
     "output_type": "stream",
     "text": [
      "JupyterLab v3.4.4\n",
      "D:\\Code_base\\anaconda\\envs\\GEE\\share\\jupyter\\labextensions\n",
      "        bqplot v0.5.37 enabled ok (python, bqplot)\n",
      "        ipyevents v2.0.1 enabled ok\n",
      "        ipysheet v0.6.0 enabled ok (python, ipysheet)\n",
      "        ipytree v0.2.2 enabled ok\n",
      "        jupyter-leaflet v0.17.0 enabled ok\n",
      "        jupyter-matplotlib v0.11.2 enabled ok\n",
      "        jupyterlab-plotly v5.9.0 enabled ok\n",
      "        jupyterlab-snippets v0.4.1 enabled ok (python, jupyterlab-snippets)\n",
      "        keplergl-jupyter v0.3.2 enabled ok\n",
      "        @feiranzhang/jupyterlab-variableinspector v0.1.3 enabled ok (python, frz-jupyterlab-variableinspector)\n",
      "        @here/map-widget-for-jupyter v1.1.3 enabled ok\n",
      "        @jupyter-widgets/jupyterlab-manager v3.0.0 enabled ok (python, jupyterlab_widgets)\n",
      "        @krassowski/jupyterlab-lsp v3.10.2 enabled ok (python, jupyterlab-lsp)\n",
      "        @pyviz/jupyterlab_pyviz v2.0.2 enabled ok (python, pyviz_comms)\n",
      "        @ryantam626/jupyterlab_code_formatter v1.5.3 enabled ok (python, jupyterlab-code-formatter)\n",
      "        @voila-dashboards/jupyterlab-preview v2.1.4 enabled ok (python, voila)\n",
      "\n",
      "Other labextensions (built into JupyterLab)\n",
      "   app dir: D:\\Code_base\\anaconda\\envs\\GEE\\share\\jupyter\\lab\n",
      "        @aquirdturtle/collapsible_headings v3.0.0 enabled ok\n",
      "        jupyterlab-topbar v0.6.0 enabled ok\n",
      "\n"
     ]
    }
   ],
   "source": [
    "!jupyter labextension list"
   ]
  },
  {
   "cell_type": "code",
   "execution_count": 2,
   "metadata": {},
   "outputs": [
    {
     "name": "stdout",
     "output_type": "stream",
     "text": [
      "Application directory:   D:\\Code_base\\anaconda\\envs\\GEE\\share\\jupyter\\lab\n",
      "User Settings directory: C:\\Users\\11733\\.jupyter\\lab\\user-settings\n",
      "Workspaces directory: C:\\Users\\11733\\.jupyter\\lab\\workspaces\n"
     ]
    }
   ],
   "source": [
    "!jupyter lab paths"
   ]
  },
  {
   "cell_type": "markdown",
   "metadata": {
    "pycharm": {
     "name": "#%% md\n"
    }
   },
   "source": [
    "# How to get image basic properties and descriptive statistics"
   ]
  },
  {
   "cell_type": "code",
   "execution_count": 5,
   "metadata": {
    "ExecuteTime": {
     "end_time": "2022-11-06T10:34:14.939281Z",
     "start_time": "2022-11-06T10:34:05.790124Z"
    },
    "pycharm": {
     "name": "#%%\n"
    }
   },
   "outputs": [],
   "source": [
    "import ee\n",
    "\n",
    "import geemap\n",
    "\n",
    "geemap.set_proxy(port=10809)\n",
    "ee.Initialize()"
   ]
  },
  {
   "cell_type": "markdown",
   "metadata": {
    "pycharm": {
     "name": "#%% md\n"
    }
   },
   "source": [
    "## Create an interactive map"
   ]
  },
  {
   "cell_type": "code",
   "execution_count": 6,
   "metadata": {
    "ExecuteTime": {
     "end_time": "2022-11-06T10:34:30.722964Z",
     "start_time": "2022-11-06T10:34:30.291358Z"
    },
    "pycharm": {
     "name": "#%%\n"
    }
   },
   "outputs": [
    {
     "data": {
      "application/vnd.jupyter.widget-view+json": {
       "model_id": "382572bf7bcb4831af094aeedbf4d7d6",
       "version_major": 2,
       "version_minor": 0
      },
      "text/plain": [
       "Map(center=[20, 0], controls=(WidgetControl(options=['position', 'transparent_bg'], widget=HBox(children=(Togg…"
      ]
     },
     "metadata": {},
     "output_type": "display_data"
    }
   ],
   "source": [
    "Map = geemap.Map()\n",
    "Map"
   ]
  },
  {
   "cell_type": "code",
   "execution_count": 7,
   "metadata": {
    "ExecuteTime": {
     "end_time": "2022-11-06T10:34:31.825274Z",
     "start_time": "2022-11-06T10:34:30.724219Z"
    },
    "pycharm": {
     "name": "#%%\n"
    }
   },
   "outputs": [],
   "source": [
    "centroid = ee.Geometry.Point([-122.4439, 37.7538])\n",
    "landsat = ee.ImageCollection(\"LANDSAT/LC08/C01/T1_SR\").filterBounds(centroid).first()\n",
    "landsat_vis = {\"min\": 0, \"max\": 3000, \"bands\": [\"B5\", \"B4\", \"B3\"]}\n",
    "Map.centerObject(centroid, 8)\n",
    "Map.addLayer(landsat, landsat_vis, \"Landsat-8\")"
   ]
  },
  {
   "cell_type": "code",
   "execution_count": 8,
   "metadata": {
    "ExecuteTime": {
     "end_time": "2022-11-06T10:34:52.663470Z",
     "start_time": "2022-11-06T10:34:31.843657Z"
    },
    "pycharm": {
     "name": "#%%\n"
    }
   },
   "outputs": [],
   "source": [
    "naip = ee.ImageCollection(\"USDA/NAIP/DOQQ\").filterBounds(centroid).first()\n",
    "naip_vis = {\"bands\": [\"N\", \"R\", \"G\"]}\n",
    "Map.addLayer(naip, naip_vis, \"NAIP\")"
   ]
  },
  {
   "cell_type": "markdown",
   "metadata": {
    "pycharm": {
     "name": "#%% md\n"
    }
   },
   "source": [
    "## Get image property names"
   ]
  },
  {
   "cell_type": "code",
   "execution_count": 5,
   "metadata": {
    "pycharm": {
     "name": "#%%\n"
    }
   },
   "outputs": [
    {
     "data": {
      "text/plain": [
       "['IMAGE_QUALITY_TIRS',\n",
       " 'CLOUD_COVER',\n",
       " 'system:id',\n",
       " 'EARTH_SUN_DISTANCE',\n",
       " 'LANDSAT_ID',\n",
       " 'system:footprint',\n",
       " 'system:version',\n",
       " 'CLOUD_COVER_LAND',\n",
       " 'GEOMETRIC_RMSE_MODEL',\n",
       " 'SR_APP_VERSION',\n",
       " 'SATELLITE',\n",
       " 'SOLAR_AZIMUTH_ANGLE',\n",
       " 'IMAGE_QUALITY_OLI',\n",
       " 'system:time_end',\n",
       " 'WRS_PATH',\n",
       " 'system:time_start',\n",
       " 'SENSING_TIME',\n",
       " 'ESPA_VERSION',\n",
       " 'SOLAR_ZENITH_ANGLE',\n",
       " 'WRS_ROW',\n",
       " 'GEOMETRIC_RMSE_MODEL_Y',\n",
       " 'LEVEL1_PRODUCTION_DATE',\n",
       " 'GEOMETRIC_RMSE_MODEL_X',\n",
       " 'system:asset_size',\n",
       " 'PIXEL_QA_VERSION',\n",
       " 'system:index',\n",
       " 'system:bands',\n",
       " 'system:band_names']"
      ]
     },
     "execution_count": 5,
     "metadata": {},
     "output_type": "execute_result"
    }
   ],
   "source": [
    "landsat.propertyNames().getInfo()"
   ]
  },
  {
   "cell_type": "code",
   "execution_count": 6,
   "metadata": {
    "pycharm": {
     "name": "#%%\n"
    }
   },
   "outputs": [
    {
     "data": {
      "text/plain": [
       "0.05"
      ]
     },
     "execution_count": 6,
     "metadata": {},
     "output_type": "execute_result"
    }
   ],
   "source": [
    "landsat.get(\"CLOUD_COVER\").getInfo()"
   ]
  },
  {
   "cell_type": "code",
   "execution_count": 7,
   "metadata": {
    "pycharm": {
     "name": "#%%\n"
    }
   },
   "outputs": [
    {
     "data": {
      "text/plain": [
       "1365533194757"
      ]
     },
     "execution_count": 7,
     "metadata": {},
     "output_type": "execute_result"
    }
   ],
   "source": [
    "# The number of milliseconds since 1970-01-01T00:00:00Z.\n",
    "landsat.get(\"system:time_start\").getInfo()"
   ]
  },
  {
   "cell_type": "code",
   "execution_count": null,
   "metadata": {
    "pycharm": {
     "name": "#%%\n"
    }
   },
   "outputs": [],
   "source": [
    "ee.Date(landsat.get(\"system:time_start\")).format(\"YYYY-MM-dd\").getInfo()"
   ]
  },
  {
   "cell_type": "markdown",
   "metadata": {
    "pycharm": {
     "name": "#%% md\n"
    }
   },
   "source": [
    "## Get image properties all at once"
   ]
  },
  {
   "cell_type": "code",
   "execution_count": null,
   "metadata": {
    "pycharm": {
     "name": "#%%\n"
    }
   },
   "outputs": [],
   "source": [
    "landsat_props = geemap.image_props(landsat)\n",
    "landsat_props.getInfo()"
   ]
  },
  {
   "cell_type": "code",
   "execution_count": null,
   "metadata": {
    "pycharm": {
     "name": "#%%\n"
    }
   },
   "outputs": [],
   "source": [
    "landsat_props.get(\"IMAGE_DATE\").getInfo()"
   ]
  },
  {
   "cell_type": "code",
   "execution_count": null,
   "metadata": {
    "pycharm": {
     "name": "#%%\n"
    }
   },
   "outputs": [],
   "source": [
    "naip_props = geemap.image_props(naip)\n",
    "naip_props.getInfo()"
   ]
  },
  {
   "cell_type": "code",
   "execution_count": null,
   "metadata": {
    "pycharm": {
     "name": "#%%\n"
    }
   },
   "outputs": [],
   "source": [
    "naip_props.get(\"NOMINAL_SCALE\").getInfo()"
   ]
  },
  {
   "cell_type": "markdown",
   "metadata": {
    "pycharm": {
     "name": "#%% md\n"
    }
   },
   "source": [
    "## Get image descriptive statistics\n",
    "\n",
    "Including minimum, maximum, mean, standard deviation, and sum."
   ]
  },
  {
   "cell_type": "code",
   "execution_count": null,
   "metadata": {
    "pycharm": {
     "name": "#%%\n"
    }
   },
   "outputs": [],
   "source": [
    "landsat_stats = geemap.image_stats(landsat, scale=90)\n",
    "landsat_stats.getInfo()"
   ]
  },
  {
   "cell_type": "code",
   "execution_count": null,
   "metadata": {
    "pycharm": {
     "name": "#%%\n"
    }
   },
   "outputs": [],
   "source": [
    "naip_stats = geemap.image_stats(naip, scale=10)\n",
    "naip_stats.getInfo()"
   ]
  }
 ],
 "metadata": {
  "hide_input": false,
  "kernelspec": {
   "display_name": "GEE",
   "language": "python",
   "name": "gee"
  },
  "language_info": {
   "codemirror_mode": {
    "name": "ipython",
    "version": 3
   },
   "file_extension": ".py",
   "mimetype": "text/x-python",
   "name": "python",
   "nbconvert_exporter": "python",
   "pygments_lexer": "ipython3",
   "version": "3.9.13"
  },
  "toc": {
   "base_numbering": 1,
   "nav_menu": {},
   "number_sections": true,
   "sideBar": true,
   "skip_h1_title": true,
   "title_cell": "Table of Contents",
   "title_sidebar": "Table of Contents",
   "toc_cell": false,
   "toc_position": {
    "height": "calc(100% - 180px)",
    "left": "10px",
    "top": "150px",
    "width": "384px"
   },
   "toc_section_display": true,
   "toc_window_display": false
  },
  "varInspector": {
   "cols": {
    "lenName": 16,
    "lenType": 16,
    "lenVar": 40
   },
   "kernels_config": {
    "python": {
     "delete_cmd_postfix": "",
     "delete_cmd_prefix": "del ",
     "library": "var_list.py",
     "varRefreshCmd": "print(var_dic_list())"
    },
    "r": {
     "delete_cmd_postfix": ") ",
     "delete_cmd_prefix": "rm(",
     "library": "var_list.r",
     "varRefreshCmd": "cat(var_dic_list()) "
    }
   },
   "types_to_exclude": [
    "module",
    "function",
    "builtin_function_or_method",
    "instance",
    "_Feature"
   ],
   "window_display": false
  }
 },
 "nbformat": 4,
 "nbformat_minor": 4
}
