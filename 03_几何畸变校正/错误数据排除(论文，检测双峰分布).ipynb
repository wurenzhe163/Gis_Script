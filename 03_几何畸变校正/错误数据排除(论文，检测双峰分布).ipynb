{
 "cells": [
  {
   "cell_type": "markdown",
   "source": [
    "该文件用于判断\n",
    "- 原始图像是否双峰分布/统计分类结果筛选不合理数据，根据面向对象统计形态、方差等"
   ],
   "metadata": {
    "collapsed": false
   }
  },
  {
   "cell_type": "code",
   "execution_count": 8,
   "outputs": [
    {
     "name": "stdout",
     "output_type": "stream",
     "text": [
      "geemap version = 0.20.3\n",
      "geemap path = ['D:\\\\Code_base\\\\anaconda\\\\envs\\\\GEE\\\\lib\\\\site-packages\\\\geemap']\n"
     ]
    }
   ],
   "source": [
    "import ee\n",
    "import geemap\n",
    "import geemap.chart as chart\n",
    "import numpy as np\n",
    "import pandas as pd\n",
    "import copy\n",
    "import math\n",
    "import time\n",
    "import traceback\n",
    "import sys,os\n",
    "from Basic_tools import *\n",
    "from New_Correct import *\n",
    "from Correct_filter import *\n",
    "from S2_filter import *\n",
    "geemap.set_proxy(port=10809)\n",
    "# ee.Authenticate()\n",
    "ee.Initialize()\n",
    "print('geemap version = {}\\ngeemap path = {}'.format(geemap.__version__,geemap.__path__))"
   ],
   "metadata": {
    "collapsed": false
   }
  },
  {
   "cell_type": "code",
   "execution_count": 9,
   "outputs": [],
   "source": [
    "#--------------------------预加载冰湖数据\n",
    "Glacial_lake = ee.FeatureCollection('projects/ee-mrwurenzhe/assets/Glacial_lake/SAR_GLs/2019Gls_SARExt')\n",
    "\n",
    "# 计算geometry、质心点、最小包络矩形\n",
    "Geo_ext = lambda feature: feature.set({\n",
    "    'Geo': feature.geometry(),\n",
    "    'Centroid': feature.geometry().centroid(),\n",
    "    'Rectangle': feature.geometry().bounds()\n",
    "})\n",
    "\n",
    "Centrid_set = lambda feature: feature.setGeometry(feature.geometry().centroid())\n",
    "Rectangle_set = lambda feature: feature.setGeometry(feature.geometry().bounds())\n",
    "Glacial_lake_C = Glacial_lake.map(Geo_ext).map(Centrid_set)  # 添加属性,修改geometry,计算质心\n",
    "Glacial_lake_R = Glacial_lake.map(Rectangle_set)       # 计算最小包络矩形\n",
    "\n",
    "#抽取属性作为list\n",
    "# Glacial_lake_A_GeoList = ee.List(Glacial_lake_C.reduceColumns(ee.Reducer.toList(), ['Geo']).get('list'))\n",
    "Num_list = Glacial_lake.size().getInfo()\n",
    "Glacial_lake_A_GeoList = Glacial_lake.toList(Num_list)\n",
    "Glacial_lake_C_CentriodList = ee.List(Glacial_lake_C.reduceColumns(ee.Reducer.toList(),['Centroid']).get('list'))\n",
    "Glacial_lake_R_RectangleList = ee.List(Glacial_lake_C.reduceColumns(ee.Reducer.toList(),['Rectangle']).get('list'))\n",
    "#--------------------确定时间范围\n",
    "# 选择一个时间点的影像，注意SAR和光学影像的时间点已经不一样了\n",
    "# 需要放宽一些时间限制，否则可能会因为天气影响、卫星维护等问题出现数据缺失\n",
    "year = '2019'\n",
    "START_DATE  = ee.Date(year + '-06-01')\n",
    "END_DATE   = ee.Date(year + '-08-30')\n",
    "S2_START_DATE = ee.Date(year + '-06-01')\n",
    "S2_END_DATE  = ee.Date(year + '-09-30')\n",
    "TIME_LEN   = END_DATE.difference(START_DATE, 'days').abs()\n",
    "MIDDLE_DATE  = START_DATE.advance(TIME_LEN.divide(ee.Number(2)).int(),'days')\n",
    "#-------------------DEM选择\n",
    "DEMSRTM = ee.Image('USGS/SRTMGL1_003')\n",
    "DEM_prj = DEMSRTM.projection()\n",
    "DEMNASA = ee.Image(\"NASA/NASADEM_HGT/001\").select('elevation')\n",
    "DEMALOS = ee.ImageCollection(\"JAXA/ALOS/AW3D30/V3_2\").mosaic().select('DSM').rename('elevation').reproject(DEM_prj)\n",
    "DEMCOPERNICUS = ee.ImageCollection(\"COPERNICUS/DEM/GLO30\").mosaic().select('DEM').rename('elevation').int16().reproject(DEM_prj)\n",
    "#-------------------几何畸变参数\n",
    "models = ['volume', 'surface', None]     # 地形矫正模型\n",
    "Model = models[0]\n",
    "Origin_scale = 10\n",
    "projScale = 30\n",
    "#-------------------S2 clodless参数\n",
    "CLOUD_FILTER = 60         # 过滤s2 大于指定云量的数据\n",
    "CLD_PRB_THRESH = 15        # s2cloudless 概率值阈值[0-100],原实验是50\n",
    "NIR_DRK_THRESH = 0.15       # 非水暗像素判断阈值\n",
    "CLD_PRJ_DIST = 1         # 根据 CLD_PRJ_DIST 输入指定的距离从云中投射阴影\n",
    "BUFFER = 50            # Remove small cloud-shadow patches and dilate remaining pixels by BUFFER input\n",
    "# ------------------分类方法和参数确定\n",
    "from Extract_algorithm import Reprocess,save_parms\n",
    "save_dir=os.path.join(os.getcwd(),'{}补齐结果'.format(year))\n",
    "if not os.path.exists(save_dir) : os.makedirs(save_dir) ; os.chdir(save_dir)\n",
    "\n",
    "Methods = ('Kmean','SNIC_Kmean','Xmeans','CascadeKMeans','otsu','isodata')\n",
    "resultbands = (0,1)\n",
    "Imgs = ('s1_unit_mean_',) # 's1_unit_max_','s1_unit_min_'\n",
    "Bands = (['VV_gamma0_flatDB'],['VV_gamma0_flatDB','VH_gamma0_flatDB'])\n",
    "mode = 'gpd'\n",
    "savenmae = '{}SouthwestGLs'.format(year)\n",
    "# ------------------重载变量参数\n",
    "Reload = True\n",
    "dest = 'users/mrwurenzhe/test'\n",
    "metaName = 'test.csv'\n",
    "eeUser = 'mrwurenzhe@furwas.com'\n",
    "overwrite = 'yes'\n",
    "delgeeUp = False    # 删除gee远端存储"
   ],
   "metadata": {
    "collapsed": false
   }
  },
  {
   "cell_type": "code",
   "execution_count": null,
   "outputs": [],
   "source": [
    "i = 100\n",
    "start_time = time.time()\n",
    "AOI_Centriod = ee.Feature.geometry(Glacial_lake_C_CentriodList.get(i))\n",
    "AOI_GLFeature = ee.Feature(Glacial_lake_A_GeoList.get(i))\n",
    "AOI_GL = AOI_GLFeature.geometry()\n",
    "AOI_Rectangle = ee.Feature.geometry(Glacial_lake_R_RectangleList.get(i))\n",
    "AOI_area = AOI_GLFeature.get('GL_Area_km').getInfo()\n",
    "circularity = AOI_GLFeature.get('GL_Circula').getInfo()\n",
    "\n",
    "# 缩小冰湖面积\n",
    "AOI_ShrinKbuffer = AOI_GL.buffer(distance=math.log(AOI_area+1,10) * -3000 *circularity)\n",
    "AOI_ShrinKbuffer_Centroid = AOI_ShrinKbuffer.centroid()\n",
    "\n",
    "# 检测是否内缩为空，否则用AOI_area替代\n",
    "if AOI_ShrinKbuffer.coordinates().getInfo() != [] :\n",
    "    FilterBound = AOI_ShrinKbuffer_Centroid\n",
    "else:\n",
    "    FilterBound = AOI_Centriod\n",
    "\n",
    "# 边界不可过大，否则会影响局部自适应提取效果\n",
    "AOI_buffer = AOI_Rectangle.buffer(distance=math.log(AOI_area+1,5) * 1200 + 100).bounds()\n",
    "\n",
    "# 载入图像，采用滤波函数，筛选日期，AOI_buffer仅用于统计是否有空值点\n",
    "s1_ascending, s1_descending = load_image_collection(AOI_buffer,START_DATE,END_DATE,MIDDLE_DATE,Filter='RefinedLee',FilterSize=30)\n",
    "\n",
    "# 判断是否synth\n",
    "synthesis_a  = ee.Image(s1_ascending).get('synthesis').getInfo()\n",
    "synthesis_d  = ee.Image(s1_descending).get('synthesis').getInfo()\n",
    "if synthesis_a or synthesis_d:synthesis=1\n",
    "else:synthesis=0"
   ],
   "metadata": {
    "collapsed": false
   }
  },
  {
   "cell_type": "code",
   "execution_count": null,
   "outputs": [],
   "source": [
    "img = img.select(band).clip(region)\n",
    "img = minmax_norm(img,band,region,scale=Origin_scale,withbound=False)\n",
    "img = img.reproject(proj).clip(region)"
   ],
   "metadata": {
    "collapsed": false
   }
  }
 ],
 "metadata": {
  "kernelspec": {
   "display_name": "Python 3",
   "language": "python",
   "name": "python3"
  },
  "language_info": {
   "codemirror_mode": {
    "name": "ipython",
    "version": 2
   },
   "file_extension": ".py",
   "mimetype": "text/x-python",
   "name": "python",
   "nbconvert_exporter": "python",
   "pygments_lexer": "ipython2",
   "version": "2.7.6"
  }
 },
 "nbformat": 4,
 "nbformat_minor": 0
}
