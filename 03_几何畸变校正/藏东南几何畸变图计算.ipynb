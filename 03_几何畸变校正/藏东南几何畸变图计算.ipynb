{
 "cells": [
  {
   "cell_type": "code",
   "execution_count": null,
   "id": "cf3e7d22-7dbe-4451-827e-63f6c7ade609",
   "metadata": {},
   "outputs": [],
   "source": [
    "import ee\n",
    "import traceback\n",
    "import sys,os\n",
    "sys.path.append(os.path.dirname(os.path.abspath('__file__')))\n",
    "from Func.Basic_tools import *\n",
    "from Func.New_Correct import *\n",
    "from Func.Correct_filter import *\n",
    "from Func.S2_filter import *\n",
    "from functools import partial\n",
    "geemap.set_proxy(port=10809)\n",
    "# ee.Authenticate()\n",
    "ee.Initialize()\n",
    "print('geemap version = {}\\ngeemap path = {}'.format(geemap.__version__,geemap.__path__))"
   ]
  },
  {
   "cell_type": "code",
   "execution_count": null,
   "id": "65aacaa8-a5d1-4929-bfaf-05630abd0f6f",
   "metadata": {},
   "outputs": [],
   "source": [
    "def CalDitor(s1_ascending,s1_descending,Bands_ = ['VV_gamma0_flatDB','VH_gamma0_flatDB'],Origin_Method='RS',Method:str='1',\n",
    "             AOI_buffer=None,Origin_scale=10,projScale=30): \n",
    "    \n",
    "    volumetric_dict = my_slope_correction(s1_ascending,s1_descending,AOI_buffer,DEMCOPERNICUS,Model,Origin_scale,DistorMethed=Origin_Method)\n",
    "\n",
    "\n",
    "    # -----------------------基于线性关系。检测几何畸变\n",
    "    Templist_A = AuxiliaryLine2Point(volumetric_dict['ASCENDING'],volumetric_dict['ASCENDING_parms']['s1_azimuth_across'],\n",
    "                                volumetric_dict['ASCENDING_parms']['coordinates_dict'],\n",
    "                                volumetric_dict['ASCENDING_parms']['Auxiliarylines'],\n",
    "                                projScale)\n",
    "\n",
    "    Templist_D = AuxiliaryLine2Point(volumetric_dict['DESCENDING'],volumetric_dict['DESCENDING_parms']['s1_azimuth_across'],\n",
    "                                volumetric_dict['DESCENDING_parms']['coordinates_dict'],\n",
    "                                volumetric_dict['DESCENDING_parms']['Auxiliarylines'],\n",
    "                                projScale)\n",
    "    if   Method == '1':\n",
    "        LeftLayoverA,RightLayoverA,ShadowA = Line_Correct(volumetric_dict['ASCENDING'],AOI_buffer,Templist_A,'ASCENDING',\n",
    "                                                volumetric_dict['ASCENDING_parms']['proj'],projScale,Origin_scale,\n",
    "                                                filt_distance=False, save_peak=False, line_points_connect=True,Peak_Llay=True,Peak_shdow=True,Peak_Rlay=True)\n",
    "        LeftLayoverD,RightLayoverD,ShadowD =  Line_Correct(volumetric_dict['DESCENDING'],AOI_buffer,Templist_D,'DESCENDING',\n",
    "                                                volumetric_dict['DESCENDING_parms']['proj'],projScale,Origin_scale,\n",
    "                                                filt_distance=False,save_peak=False,line_points_connect=True,Peak_Llay=True,Peak_shdow=True,Peak_Rlay=True)\n",
    "    elif Method == '2':\n",
    "        LeftLayoverA,RightLayoverA,ShadowA = Line_Correct2(volumetric_dict['ASCENDING'],AOI_buffer,Templist_A,'ASCENDING',\n",
    "                                                volumetric_dict['ASCENDING_parms']['proj'],projScale,Origin_scale)\n",
    "        LeftLayoverD,RightLayoverD,ShadowD =  Line_Correct2(volumetric_dict['DESCENDING'],AOI_buffer,Templist_D,'DESCENDING',\n",
    "                                                volumetric_dict['DESCENDING_parms']['proj'],projScale,Origin_scale)\n",
    "    else:\n",
    "        print('Method = {}'.format(Method))\n",
    "        raise Exception('Method方法目前只有两种，请重新输入')\n",
    "    # 如果不加这一段，constant会判断出错\n",
    "    LeftLayoverA=LeftLayoverA.rename('LeftLayoverA');RightLayoverA=RightLayoverA.rename('RightLayoverA');ShadowA=ShadowA.rename('ShadowA')\n",
    "    LeftLayoverD=LeftLayoverD.rename('LeftLayoverD');RightLayoverD=RightLayoverD.rename('RightLayoverD');ShadowD=ShadowD.rename('ShadowD')\n",
    "    return LeftLayoverA,RightLayoverA,ShadowA,Templist_A,LeftLayoverD,RightLayoverD,ShadowD,Templist_D,volumetric_dict"
   ]
  },
  {
   "cell_type": "code",
   "execution_count": null,
   "id": "ffc3d40e-19cb-4dad-9713-7e8a95804ebe",
   "metadata": {},
   "outputs": [],
   "source": [
    "Southest_doom = ee.FeatureCollection('projects/ee-mrwurenzhe/assets/ChinaShp/SouthestRegion')\n",
    "#-------------------DEM选择\n",
    "DEMSRTM = ee.Image('USGS/SRTMGL1_003')\n",
    "DEM_prj = DEMSRTM.projection()\n",
    "DEMNASA = ee.Image(\"NASA/NASADEM_HGT/001\").select('elevation')\n",
    "DEMALOS = ee.ImageCollection(\"JAXA/ALOS/AW3D30/V3_2\").mosaic().select('DSM').rename('elevation').reproject(DEM_prj)\n",
    "DEMCOPERNICUS = ee.ImageCollection(\"COPERNICUS/DEM/GLO30\").mosaic().select('DEM').rename('elevation').int16().reproject(DEM_prj)\n",
    "models = ['volume', 'surface', None]     # 地形矫正模型\n",
    "Model = models[0]\n",
    "\n",
    "Southest_doom_fishnet = geemap.fishnet(Southest_doom.first().geometry(), rows=120, cols=180, delta=1)\n",
    "lenfish_net = Southest_doom_fishnet.size().getInfo()\n",
    "Southest_doom_fishnet = Southest_doom_fishnet.toList(lenfish_net)\n",
    "os.chdir('/root/GEE/几何畸变COPER')"
   ]
  },
  {
   "cell_type": "code",
   "execution_count": null,
   "id": "022214fb-f26d-4a38-a8d5-b0dbc07e3d8d",
   "metadata": {},
   "outputs": [],
   "source": [
    "Wrong_dataIndex = []\n",
    "for i in ([\n",
    " 836, 5582, 6606]):\n",
    "    AOI_buffer = ee.Feature(Southest_doom_fishnet.get(i)).geometry()\n",
    "    AOI_buffer_100 = AOI_buffer.buffer(100)\n",
    "    AOI_buffer_200 = AOI_buffer_100.buffer(100)\n",
    "    \n",
    "    s1_col = (ee.ImageCollection(\"COPERNICUS/S1_GRD\").filter(ee.Filter.eq('instrumentMode', 'IW')).filterBounds(AOI_buffer_200))\n",
    "    s1_col = s1_col.map(partial(rm_nodata, AOI=AOI_buffer_200))\n",
    "    s1_col = s1_col.filter(ee.Filter.eq('numNodata', 0))\n",
    "    # s1_descending = s1_col.filter(ee.Filter.eq('orbitProperties_pass', 'DESCENDING')).first()\n",
    "    # s1_ascending = s1_col.filter(ee.Filter.eq('orbitProperties_pass', 'ASCENDING')).first()\n",
    "    \n",
    "    s1_ascending = s1_col.filter(ee.Filter.eq('orbitProperties_pass', 'ASCENDING'))\n",
    "    list_images = s1_ascending.toList(s1_ascending.size())\n",
    "    s1_ascending = ee.Image(list_images.get(1))\n",
    "\n",
    "    s1_descending = s1_col.filter(ee.Filter.eq('orbitProperties_pass', 'DESCENDING'))\n",
    "    list_images = s1_descending.toList(s1_descending.size())\n",
    "    s1_descending = ee.Image(list_images.get(1))\n",
    "    \n",
    "    try:\n",
    "        LeftLayoverA,RightLayoverA,ShadowA,Templist_A,LeftLayoverD,RightLayoverD,ShadowD,Templist_D,volumetric_dict = \\\n",
    "                CalDitor(s1_ascending,s1_descending,Bands_ = ['VV_gamma0_flatDB','VH_gamma0_flatDB'],\n",
    "                         Origin_Method='RS',Method='1',AOI_buffer=AOI_buffer,Origin_scale=10,projScale=30)\n",
    "        DistorA = LeftLayoverA.rename('LeftLayoverA').addBands(RightLayoverA.rename('RightLayoverA')).addBands(ShadowA.rename('ShadowA'))\n",
    "        if DistorA.bandNames().length().getInfo() != 0:\n",
    "            Geemap_export(fileDirname=f'{i:04d}'+'_'+'DistortionA'+'.tif',image=DistorA,region=AOI_buffer,scale=10)\n",
    "        DistorD = LeftLayoverD.rename('LeftLayoverD').addBands(RightLayoverD.rename('RightLayoverD')).addBands(ShadowD.rename('ShadowD'))\n",
    "        if DistorD.bandNames().length().getInfo() != 0:\n",
    "            Geemap_export(fileDirname=f'{i:04d}'+'_'+'DistortionD'+'.tif',image=DistorD,region=AOI_buffer,scale=10) \n",
    "    except:\n",
    "        Wrong_dataIndex.append(i)\n",
    "        # 记录错误信息\n",
    "        with open('log.txt', 'a') as f: \n",
    "            f.write('Wrong index = {}\\n'.format(i))\n",
    "            f.write(traceback.format_exc())\n",
    "            f.write('\\n')\n",
    "        print('错误已记录到log.txt')"
   ]
  },
  {
   "cell_type": "markdown",
   "id": "40b1861f-40c2-4514-b010-27965698673f",
   "metadata": {},
   "source": [
    "# 绘图展示"
   ]
  },
  {
   "cell_type": "code",
   "execution_count": null,
   "id": "7ae017db-045e-409e-a560-3b3690c38fe8",
   "metadata": {},
   "outputs": [],
   "source": [
    "Map = geemap.Map()\n",
    "Map.centerObject(Southest_doom_fishnet, zoom=15)\n",
    "Map.addLayer(Southest_doom_fishnet, {}, 'Fishnet 2')\n",
    "Map.addLayer(s1_col.first(), {}, 'TEST')\n",
    "Map"
   ]
  }
 ],
 "metadata": {
  "kernelspec": {
   "display_name": "Python 3 (ipykernel)",
   "language": "python",
   "name": "python3"
  },
  "language_info": {
   "codemirror_mode": {
    "name": "ipython",
    "version": 3
   },
   "file_extension": ".py",
   "mimetype": "text/x-python",
   "name": "python",
   "nbconvert_exporter": "python",
   "pygments_lexer": "ipython3",
   "version": "3.11.5"
  }
 },
 "nbformat": 4,
 "nbformat_minor": 5
}
