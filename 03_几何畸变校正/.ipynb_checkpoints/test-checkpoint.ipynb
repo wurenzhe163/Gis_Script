{
 "cells": [
  {
   "cell_type": "code",
   "execution_count": 2,
   "metadata": {
    "ExecuteTime": {
     "end_time": "2023-08-22T02:16:01.944377Z",
     "start_time": "2023-08-22T02:15:53.625520Z"
    }
   },
   "outputs": [
    {
     "name": "stdout",
     "output_type": "stream",
     "text": [
      "geemap version = 0.20.3\n",
      "geemap path = ['D:\\\\Code_base\\\\anaconda\\\\envs\\\\GEE\\\\lib\\\\site-packages\\\\geemap']\n"
     ]
    }
   ],
   "source": [
    "import ee\n",
    "import geemap\n",
    "import numpy as np\n",
    "import pandas as pd\n",
    "import copy\n",
    "import math\n",
    "from tqdm import trange,tqdm\n",
    "from functools import partial\n",
    "import geopandas as gpd\n",
    "from scipy.signal import argrelextrema\n",
    "from tqdm import tqdm\n",
    "from Correct_filter import *\n",
    "from Basic_tools import *\n",
    "from S2_filter import *\n",
    "# geemap.set_proxy(port=10809)\n",
    "# ee.Authenticate()\n",
    "ee.Initialize()\n",
    "print('geemap version = {}\\ngeemap path = {}'.format(geemap.__version__,geemap.__path__))"
   ]
  },
  {
   "cell_type": "markdown",
   "metadata": {},
   "source": [
    "# 预加载藏东南切块与冰湖定位信息文件"
   ]
  },
  {
   "cell_type": "code",
   "execution_count": 3,
   "metadata": {
    "ExecuteTime": {
     "end_time": "2023-08-22T02:16:05.889640Z",
     "start_time": "2023-08-22T02:16:01.978242Z"
    }
   },
   "outputs": [],
   "source": [
    "Glacial_lake_2015A = ee.FeatureCollection(\n",
    "    'projects/ee-mrwurenzhe/assets/Glacial_lake/Wu_Asia_Southest_GL_wgs84').filter(ee.Filter.gte('GL_Area', 0.1))\n",
    "    #projects/ee-mrwurenzhe/assets/Glacial_lake/Checkout_polygen\n",
    "\n",
    "# 计算geometry、质心点、最小包络矩形\n",
    "Geo_ext = lambda feature: feature.set({\n",
    "    'Geo': feature.geometry(),\n",
    "    'Centroid': feature.geometry().centroid(),\n",
    "    'Rectangle': feature.geometry().bounds()\n",
    "})\n",
    "Centrid_set = lambda feature: feature.setGeometry(feature.geometry().centroid())\n",
    "Rectangle_set = lambda feature: feature.setGeometry(feature.geometry().bounds())\n",
    "\n",
    "Glacial_lake_2015C = Glacial_lake_2015A.map(Geo_ext).map(Centrid_set)  # 添加属性,修改geometry,计算质心\n",
    "Glacial_lake_2015R = Glacial_lake_2015A.map(Rectangle_set)       # 计算最小包络矩形\n",
    "\n",
    "#抽取属性作为list\n",
    "Glacial_lake_2015A_GeoList = ee.List(Glacial_lake_2015C.reduceColumns(ee.Reducer.toList(), ['Geo']).get('list'))\n",
    "Glacial_lake_2015C_CentriodList = ee.List(Glacial_lake_2015C.reduceColumns(ee.Reducer.toList(),['Centroid']).get('list'))\n",
    "Glacial_lake_2015R_RectangleList = ee.List(Glacial_lake_2015C.reduceColumns(ee.Reducer.toList(),['Rectangle']).get('list'))\n",
    "Num_list = Glacial_lake_2015C_CentriodList.size().getInfo()"
   ]
  },
  {
   "cell_type": "markdown",
   "metadata": {},
   "source": [
    "# 根据质心点引入SAR和光学，升降轨，选择缓冲区"
   ]
  },
  {
   "cell_type": "markdown",
   "metadata": {},
   "source": [
    "## 获取影像(S1\\S2)\n",
    "    获取冰湖的AOI范围，并获取相应的S1、S2图像"
   ]
  },
  {
   "cell_type": "code",
   "execution_count": 4,
   "metadata": {
    "ExecuteTime": {
     "end_time": "2023-08-22T02:16:09.340020Z",
     "start_time": "2023-08-22T02:16:05.922692Z"
    }
   },
   "outputs": [
    {
     "name": "stdout",
     "output_type": "stream",
     "text": [
      "Begin Filter ...\n",
      "Without Slop Correction\n"
     ]
    }
   ],
   "source": [
    "# 选择一个时间点的影像，注意SAR和光学影像的时间点已经不一样了\n",
    "# 需要放宽一些时间限制，否则可能会因为天气影响、卫星维护等问题出现数据缺失\n",
    "START_DATE  = ee.Date('2019-07-01')\n",
    "END_DATE   = ee.Date('2019-08-30')\n",
    "TIME_LEN   = END_DATE.difference(START_DATE, 'days').abs()\n",
    "MIDDLE_DATE  = START_DATE.advance(TIME_LEN.divide(ee.Number(2)).int(),'days')\n",
    "# dem = ee.Image('USGS/SRTMGL1_003') # paths to dem\n",
    "# dem = ee.Image(\"CGIAR/SRTM90_V4\")\n",
    "# dem = ee.Image(\"NASA/NASADEM_HGT/001\").select('elevation')\n",
    "# dem = ee.ImageCollection(\"JAXA/ALOS/AW3D30/V3_2\").mosaic().select('DSM').rename('elevation')\n",
    "dem = ee.ImageCollection(\"COPERNICUS/DEM/GLO30\").mosaic().select('DEM').rename('elevation')\n",
    "\n",
    "\n",
    "models = ['volume', 'surface', None]     # 地形矫正模型\n",
    "\n",
    "CLOUD_FILTER = 60              # 过滤s2 大于指定云量的数据\n",
    "CLD_PRB_THRESH = 15             # s2cloudless 概率值阈值[0-100],原实验是50\n",
    "NIR_DRK_THRESH = 0.15            # 非水暗像素判断阈值\n",
    "CLD_PRJ_DIST = 1              # 根据 CLD_PRJ_DIST 输入指定的距离从云中投射阴影\n",
    "BUFFER = 50                # Remove small cloud-shadow patches and dilate remaining pixels by BUFFER input\n",
    "scale = 30                 # 几何jiCLD_PRB_THRESH = 15             # s2cloudless 概率值阈值[0-100],原实验是50\n",
    "NIR_DRK_THRESH = 0.15            # 非水暗像素判断阈值\n",
    "CLD_PRJ_DIST = 1              # 根据 CLD_PRJ_DIST 输入指定的距离从云中投射阴影\n",
    "BUFFER = 50                # Remove small cloud-shadow patches and dilate remaining pixels by BUFFER input\n",
    "\n",
    "# 选择一个点做实验\n",
    "i=1143 #394(面积大) #53 #11(影像都用nodata) #149(坐标系问题)\n",
    "\n",
    "AOI_point = ee. Feature.geometry(Glacial_lake_2015C_CentriodList.get(i))\n",
    "\n",
    "# 选择一个点做实验\n",
    "i=1143 #394(面积大) #53 #11(影像都用nodata) #149(坐标系问题)\n",
    "\n",
    "AOI_point = ee.Feature.geometry(Glacial_lake_2015C_CentriodList.get(i))\n",
    "AOI_area = ee.Feature.geometry(Glacial_lake_2015A_GeoList.get(i))\n",
    "AOI = ee.Feature.geometry(Glacial_lake_2015R_RectangleList.get(i))\n",
    "\n",
    "# 计算面积\n",
    "AOI_area_area = AOI_area.area().divide(ee.Number(1000*1000)).getInfo()\n",
    "# 缩小\n",
    "if AOI_area_area < 1:\n",
    "    AOI_area_buffer = AOI_area.buffer(distance=AOI_area_area*-300)\n",
    "else:\n",
    "    AOI_area_buffer = AOI_area.buffer(distance=-400)\n",
    "\n",
    "# 扩大包络矩形AOI,保证背景像素占比最大\n",
    "if AOI_area_area < 1:\n",
    "    AOI_buffer = AOI.buffer(distance=300)\n",
    "else:\n",
    "    AOI_buffer = AOI.buffer(distance=400)\n",
    "\n",
    "AOI_buffer = AOI_buffer.buffer(distance=2000).bounds()\n",
    "\n",
    "# 在这个点采用buffer裁剪文件，展示SAR，去除了包含空值的影像\n",
    "s1_ascending, s1_descending,s1_col = load_image_collection(AOI_buffer,START_DATE,END_DATE,MIDDLE_DATE,\n",
    "                          dem=dem,model=models[2],Filter='RefinedLee',FilterSize=30)\n",
    "\n",
    "# 加入条件空值，保证在空值情况下图像能够正常相加. 交集区域两幅影像平均，不是交集则单独采用\n",
    "D_mask = s1_descending.mask()\n",
    "A_mask = s1_ascending.mask()\n",
    "Condition_Both = D_mask.And(A_mask)\n",
    "\n",
    "X1 = s1_ascending.where(Condition_Both, s1_ascending.add(s1_descending).divide(2))\n",
    "X2 = s1_descending.where(Condition_Both, s1_ascending.add(s1_descending).divide(2))\n",
    "s1_unit_mean = X1.add(X2).divide(2)\n",
    "\n",
    "X1 = s1_ascending.where(Condition_Both, s1_ascending.max(s1_descending))\n",
    "X2 = s1_descending.where(Condition_Both, s1_ascending.max(s1_descending))\n",
    "s1_unit_max = X1.add(X2).divide(2)\n",
    "\n",
    "\n",
    "s1_unit_all = s1_unit_mean.addBands(s1_unit_max)\n",
    "\n",
    "# 采用S2cloudless生产一张合成的无云图像\n",
    "s2_sr_median = merge_s2_collection(AOI_buffer,ee.Date('2019-06-01'),ee.Date('2019-09-30'),\n",
    "                      CLOUD_FILTER,BUFFER,CLD_PRJ_DIST,CLD_PRB_THRESH,NIR_DRK_THRESH)"
   ]
  },
  {
   "cell_type": "code",
   "execution_count": null,
   "metadata": {
    "ExecuteTime": {
     "start_time": "2023-08-22T02:16:59.285Z"
    }
   },
   "outputs": [],
   "source": [
    "# 在这个点采用buffer裁剪文件，展示SAR，去除了包含空值的影像\n",
    "from New_Correct import *\n",
    "cal_image_scale = 10\n",
    "scale = 30\n",
    "\n",
    "def LayoverAndShadow(s1_col,img,AOI_buffer,dem,scale,cal_image_scale):\n",
    "    Col_img = s1_col.filterMetadata('system:index', 'equals', img.get('system:index')).first()\n",
    "    orbitProperties_pass = Col_img.get('orbitProperties_pass').getInfo()\n",
    "\n",
    "    azimuthEdge, rotationFromNorth, startpoint, endpoint, coordinates_dict = getASCCorners(Col_img,AOI_buffer,orbitProperties_pass)\n",
    "    Auxiliarylines = ee.Geometry.LineString([startpoint,endpoint])\n",
    "    alpha_rRad,theta_iRad,height,proj,s1_azimuth_across = cal_LIA(Col_img,dem,AOI_buffer,orbitProperties_pass,scale)\n",
    "    cal_image = Distortion(alpha_rRad,theta_iRad,Col_img,height,proj,cal_image_scale,AOI_buffer)\n",
    "    Templist = AuxiliaryLine2Point(cal_image,s1_azimuth_across,coordinates_dict,Auxiliarylines,scale)\n",
    "    LeftLayover,RightLayover,Shadow = Line_Correct(cal_image,AOI_buffer,Templist,\n",
    "                        orbitProperties_pass,proj,scale,cal_image_scale)\n",
    "    return LeftLayover,RightLayover,Shadow\n",
    "\n",
    "LeftLayoverA,RightLayoverA,ShadowA =  LayoverAndShadow(s1_col,s1_ascending,AOI_buffer,dem,scale,cal_image_scale)\n",
    "LeftLayoverD,RightLayoverD,ShadowD =  LayoverAndShadow(s1_col,s1_descending,AOI_buffer,dem,scale,cal_image_scale)"
   ]
  },
  {
   "cell_type": "markdown",
   "metadata": {},
   "source": [
    "## 融合升降轨"
   ]
  },
  {
   "cell_type": "code",
   "execution_count": null,
   "metadata": {
    "ExecuteTime": {
     "start_time": "2023-08-22T02:17:08.713Z"
    }
   },
   "outputs": [],
   "source": [
    "A_mask = LeftLayoverA.mask().Or(RightLayoverA.mask()).Or(ShadowA.mask()).Not()\n",
    "D_mask = LeftLayoverD.mask().Or(RightLayoverD.mask()).Or(ShadowD.mask()).Not()"
   ]
  },
  {
   "cell_type": "code",
   "execution_count": null,
   "metadata": {},
   "outputs": [],
   "source": [
    "Map = geemap.Map(basemap='HYBRID') #\n",
    "Map.centerObject(AOI_point, zoom=15)\n",
    "Map.addLayer(A_mask,{},'A_mask')\n",
    "Map.addLayer(D_mask,{},'D_mask')\n",
    "Map"
   ]
  },
  {
   "cell_type": "code",
   "execution_count": null,
   "metadata": {},
   "outputs": [],
   "source": [
    "s1_ascending = s1_ascending.updateMask(A_mask)\n",
    "s1_descending = s1_descending.updateMask(D_mask)\n",
    "\n",
    "D_mask = s1_descending.mask()\n",
    "A_mask = s1_ascending.mask()\n",
    "Condition_Both = D_mask.And(A_mask)\n",
    "\n",
    "X1 = s1_ascending.where(Condition_Both, s1_ascending.add(s1_descending).divide(2))\n",
    "X2 = s1_descending.where(Condition_Both, s1_ascending.add(s1_descending).divide(2))\n",
    "s1_unit_mean_ = X1.add(X2).divide(2)\n",
    "\n",
    "X1 = s1_ascending.where(Condition_Both, s1_ascending.max(s1_descending))\n",
    "X2 = s1_descending.where(Condition_Both, s1_ascending.max(s1_descending))\n",
    "s1_unit_max_ = X1.add(X2).divide(2)"
   ]
  },
  {
   "cell_type": "code",
   "execution_count": null,
   "metadata": {},
   "outputs": [],
   "source": [
    "Map = geemap.Map(basemap='HYBRID') #\n",
    "Map.centerObject(AOI_point, zoom=15)\n",
    "Map.addLayer(s1_unit_mean.select('VV_sigma0').randomVisualizer(),{},'s1_unit_mean')\n",
    "Map.addLayer(s1_ascending.select('VV_sigma0'),{},'s1_unit_mean_')\n",
    "Map"
   ]
  }
 ],
 "metadata": {
  "hide_input": false,
  "kernelspec": {
   "display_name": "Python 3 (ipykernel)",
   "language": "python",
   "name": "python3"
  },
  "language_info": {
   "codemirror_mode": {
    "name": "ipython",
    "version": 3
   },
   "file_extension": ".py",
   "mimetype": "text/x-python",
   "name": "python",
   "nbconvert_exporter": "python",
   "pygments_lexer": "ipython3",
   "version": "3.9.16"
  },
  "nbTranslate": {
   "displayLangs": [
    "*"
   ],
   "hotkey": "alt-t",
   "langInMainMenu": true,
   "sourceLang": "en",
   "targetLang": "fr",
   "useGoogleTranslate": true
  },
  "toc": {
   "base_numbering": 1,
   "nav_menu": {},
   "number_sections": true,
   "sideBar": true,
   "skip_h1_title": false,
   "title_cell": "Table of Contents",
   "title_sidebar": "Contents",
   "toc_cell": false,
   "toc_position": {},
   "toc_section_display": true,
   "toc_window_display": false
  },
  "varInspector": {
   "cols": {
    "lenName": 16,
    "lenType": 16,
    "lenVar": 40
   },
   "kernels_config": {
    "python": {
     "delete_cmd_postfix": "",
     "delete_cmd_prefix": "del ",
     "library": "var_list.py",
     "varRefreshCmd": "print(var_dic_list())"
    },
    "r": {
     "delete_cmd_postfix": ") ",
     "delete_cmd_prefix": "rm(",
     "library": "var_list.r",
     "varRefreshCmd": "cat(var_dic_list()) "
    }
   },
   "types_to_exclude": [
    "module",
    "function",
    "builtin_function_or_method",
    "instance",
    "_Feature"
   ],
   "window_display": false
  }
 },
 "nbformat": 4,
 "nbformat_minor": 1
}
