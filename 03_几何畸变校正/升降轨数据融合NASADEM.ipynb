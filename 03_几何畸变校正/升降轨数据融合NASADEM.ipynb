{
 "cells": [
  {
   "cell_type": "markdown",
   "metadata": {},
   "source": [
    "# 数据加载、角度运算、初始化叠掩阴影、直方图匹配"
   ]
  },
  {
   "cell_type": "code",
   "execution_count": 1,
   "metadata": {
    "ExecuteTime": {
     "end_time": "2023-08-30T01:04:30.181558Z",
     "start_time": "2023-08-30T01:04:18.473894Z"
    },
    "pycharm": {
     "is_executing": true
    }
   },
   "outputs": [
    {
     "name": "stderr",
     "output_type": "stream",
     "text": [
      "D:\\Wrz\\anaconda\\envs\\GEE\\lib\\site-packages\\scipy\\__init__.py:146: UserWarning: A NumPy version >=1.16.5 and <1.23.0 is required for this version of SciPy (detected version 1.23.0\n",
      "  warnings.warn(f\"A NumPy version >={np_minversion} and <{np_maxversion}\"\n"
     ]
    },
    {
     "name": "stdout",
     "output_type": "stream",
     "text": [
      "geemap version = 0.20.0\n",
      "geemap path = ['D:\\\\Wrz\\\\anaconda\\\\envs\\\\GEE\\\\lib\\\\site-packages\\\\geemap']\n"
     ]
    }
   ],
   "source": [
    "import ee\n",
    "import geemap\n",
    "import geemap.chart as chart\n",
    "import numpy as np\n",
    "import pandas as pd\n",
    "import copy\n",
    "import math\n",
    "import sys,os\n",
    "sys.path.append(os.path.dirname(os.path.abspath('__file__')))\n",
    "from tqdm import trange,tqdm\n",
    "from Basic_tools import *\n",
    "from New_Correct import *\n",
    "from Correct_filter import *\n",
    "from functools import partial\n",
    "import geopandas as gpd\n",
    "geemap.set_proxy(port=10809)\n",
    "# ee.Authenticate()\n",
    "ee.Initialize()\n",
    "print('geemap version = {}\\ngeemap path = {}'.format(geemap.__version__,geemap.__path__))"
   ]
  },
  {
   "cell_type": "code",
   "execution_count": 2,
   "metadata": {
    "ExecuteTime": {
     "end_time": "2023-08-30T01:04:31.697762Z",
     "start_time": "2023-08-30T01:04:30.184558Z"
    }
   },
   "outputs": [],
   "source": [
    "Glacial_lake_2015A = ee.FeatureCollection(\n",
    "    'projects/ee-mrwurenzhe/assets/Glacial_lake/Wu_Asia_Southest_GL_wgs84').filter(ee.Filter.gte('GL_Area', 0.1))\n",
    "    #projects/ee-mrwurenzhe/assets/Glacial_lake/Checkout_polygen\n",
    "\n",
    "# 计算geometry、质心点、最小包络矩形\n",
    "Geo_ext = lambda feature: feature.set({\n",
    "    'Geo': feature.geometry(),\n",
    "    'Centroid': feature.geometry().centroid(),\n",
    "    'Rectangle': feature.geometry().bounds()\n",
    "})\n",
    "\n",
    "Centrid_set = lambda feature: feature.setGeometry(feature.geometry().centroid())\n",
    "Rectangle_set = lambda feature: feature.setGeometry(feature.geometry().bounds())\n",
    "Glacial_lake_2015C = Glacial_lake_2015A.map(Geo_ext).map(Centrid_set)  # 添加属性,修改geometry,计算质心\n",
    "Glacial_lake_2015R = Glacial_lake_2015A.map(Rectangle_set)       # 计算最小包络矩形\n",
    "\n",
    "#抽取属性作为list\n",
    "Glacial_lake_2015A_GeoList = ee.List(Glacial_lake_2015C.reduceColumns(ee.Reducer.toList(), ['Geo']).get('list'))\n",
    "Glacial_lake_2015C_CentriodList = ee.List(Glacial_lake_2015C.reduceColumns(ee.Reducer.toList(),['Centroid']).get('list'))\n",
    "Glacial_lake_2015R_RectangleList = ee.List(Glacial_lake_2015C.reduceColumns(ee.Reducer.toList(),['Rectangle']).get('list'))\n",
    "Num_list = Glacial_lake_2015C_CentriodList.size().getInfo()"
   ]
  },
  {
   "cell_type": "code",
   "execution_count": 81,
   "metadata": {
    "ExecuteTime": {
     "end_time": "2023-08-30T02:36:50.951737Z",
     "start_time": "2023-08-30T02:36:50.929737Z"
    }
   },
   "outputs": [],
   "source": [
    "START_DATE  = ee.Date('2019-08-01')\n",
    "END_DATE   = ee.Date('2019-08-30')\n",
    "\n",
    "DEMSRTM = ee.Image('USGS/SRTMGL1_003')\n",
    "DEM_prj = DEMSRTM.projection()\n",
    "DEMNASA = ee.Image(\"NASA/NASADEM_HGT/001\").select('elevation')\n",
    "DEMALOS = ee.ImageCollection(\"JAXA/ALOS/AW3D30/V3_2\").mosaic().select('DSM').rename('elevation').reproject(DEM_prj)\n",
    "DEMCOPERNICUS = ee.ImageCollection(\"COPERNICUS/DEM/GLO30\").mosaic().select('DEM').rename('elevation').int16().reproject(DEM_prj)\n",
    "\n",
    "models = ['volume', 'surface', None]\n",
    "Buffer = 0\n",
    "Model = models[0]\n",
    "I = 1143\n",
    "\n",
    "scale = 10\n",
    "projScale = 30\n",
    "\n",
    "AOI = ee.Feature.geometry(Glacial_lake_2015R_RectangleList.get(I))\n",
    "s1_col = (ee.ImageCollection(\"COPERNICUS/S1_GRD\")\n",
    "          .filter(ee.Filter.eq('instrumentMode', 'IW'))\n",
    "            .filterBounds(AOI)\n",
    "            .filterDate(START_DATE, END_DATE))\n",
    "AOI_buffer = AOI.buffer(distance=10000).bounds()\n",
    "volumetric_dict = {}"
   ]
  },
  {
   "cell_type": "code",
   "execution_count": 129,
   "metadata": {
    "ExecuteTime": {
     "end_time": "2023-08-30T03:23:49.191918Z",
     "start_time": "2023-08-30T03:23:45.834557Z"
    },
    "code_folding": [
     11,
     70,
     107
    ]
   },
   "outputs": [],
   "source": [
    "s1_descending = s1_col.filter(ee.Filter.eq('orbitProperties_pass', 'DESCENDING')).first()\n",
    "s1_ascending = s1_col.filter(ee.Filter.eq('orbitProperties_pass', 'ASCENDING')).first()\n",
    "model = 'volume'\n",
    "\n",
    "# image = s1_ascending\n",
    "for image in [s1_ascending,s1_descending]:\n",
    "    orbitProperties_pass = image.get('orbitProperties_pass').getInfo()\n",
    "    # get the image geometry and projection\n",
    "    geom = image.geometry()\n",
    "    proj = image.select(1).projection()\n",
    "\n",
    "    def getASCCorners(image, AOI_buffer):\n",
    "        # 真实方位角\n",
    "        coords = ee.Array(image.geometry().coordinates().get(0)).transpose()\n",
    "        crdLons = ee.List(coords.toList().get(0))\n",
    "        crdLats = ee.List(coords.toList().get(1))\n",
    "        minLon = crdLons.sort().get(0)\n",
    "        maxLon = crdLons.sort().get(-1)\n",
    "        minLat = crdLats.sort().get(0)\n",
    "        maxLat = crdLats.sort().get(-1)\n",
    "        azimuth = (ee.Number(crdLons.get(crdLats.indexOf(minLat))).subtract(minLon).atan2(ee.Number(crdLats.get(crdLons.indexOf(minLon))).subtract(minLat))\n",
    "                   .multiply(180.0 / math.pi))\n",
    "\n",
    "        if orbitProperties_pass == 'ASCENDING':\n",
    "            azimuth = azimuth.add(270.0)\n",
    "            rotationFromNorth = azimuth.subtract(360.0)\n",
    "        elif orbitProperties_pass == 'DESCENDING':\n",
    "            azimuth = azimuth.add(180.0)\n",
    "            rotationFromNorth = azimuth.subtract(180.0)\n",
    "        else:\n",
    "            raise TypeError\n",
    "        azimuthEdge = (ee.Feature(ee.Geometry.LineString([crdLons.get(crdLats.indexOf(minLat)), minLat, minLon,\n",
    "                                  crdLats.get(crdLons.indexOf(minLon))]), {'azimuth': azimuth}).copyProperties(image))\n",
    "\n",
    "        coords = ee.Array(image.clip(\n",
    "            AOI_buffer).geometry().coordinates().get(0)).transpose()\n",
    "        crdLons = ee.List(coords.toList().get(0))\n",
    "        crdLats = ee.List(coords.toList().get(1))\n",
    "        minLon = crdLons.sort().get(0)\n",
    "        maxLon = crdLons.sort().get(-1)\n",
    "        minLat = crdLats.sort().get(0)\n",
    "        maxLat = crdLats.sort().get(-1)\n",
    "        azimuth = (ee.Number(crdLons.get(crdLats.indexOf(minLat))).subtract(minLon).atan2(ee.Number(crdLats.get(crdLons.indexOf(minLon))).subtract(minLat))\n",
    "                   .multiply(180.0 / math.pi))\n",
    "        if orbitProperties_pass == 'ASCENDING':\n",
    "            # 左上角\n",
    "            startpoint = ee.List([minLon, maxLat])\n",
    "            # 右下角\n",
    "            endpoint = ee.List([maxLon, minLat])\n",
    "        elif orbitProperties_pass == 'DESCENDING':\n",
    "            # 右上角\n",
    "            startpoint = ee.List([maxLon, maxLat])\n",
    "            # 左下角\n",
    "            endpoint = ee.List([minLon, minLat])\n",
    "\n",
    "        coordinates_dict = {'crdLons': crdLons, 'crdLats': crdLats,\n",
    "                            'minLon': minLon, 'maxLon': maxLon, 'minLat': minLat, 'maxLat': maxLat}\n",
    "\n",
    "        return azimuthEdge, rotationFromNorth, startpoint, endpoint, coordinates_dict\n",
    "\n",
    "    Angle_aspect = ee.Terrain.aspect(image.select('angle'))\n",
    "    # s1_azimuth_across = Angle_aspect.reduceRegion(ee.Reducer.mean(), geom, 1000).get('aspect')\n",
    "    azimuthEdge, rotationFromNorth, startpoint, endpoint, coordinates_dict = getASCCorners(image, AOI_buffer)\n",
    "    Heading = azimuthEdge.get('azimuth')\n",
    "    Heading_Rad = ee.Image.constant(Heading).multiply(np.pi / 180)\n",
    "\n",
    "    s1_azimuth_across = ee.Number(Heading).subtract(90.0)\n",
    "    theta_iRad = image.select('angle').multiply(np.pi / 180)  # 地面入射角度转为弧度\n",
    "    phi_iRad = ee.Image.constant(s1_azimuth_across).multiply(np.pi / 180)  # 方位角转弧度\n",
    "\n",
    "    def slop_aspect(elevation,proj,geom):\n",
    "        alpha_sRad = ee.Terrain.slope(elevation).select('slope').multiply(\n",
    "            np.pi / 180).setDefaultProjection(proj).clip(geom)          # 坡度(与地面夹角)\n",
    "        phi_sRad = ee.Terrain.aspect(elevation).select('aspect').multiply(\n",
    "            np.pi / 180).setDefaultProjection(proj).clip(geom)          # 坡向角，(坡度陡峭度)坡与正北方向夹角(陡峭度)，从正北方向起算，顺时针计算角度\n",
    "        phi_rRad = phi_iRad.subtract(phi_sRad)     # (飞行方向角度-坡度陡峭度)飞行方向与坡向之间的夹角\n",
    "        # 分解坡度，在水平方向和垂直方向进行分解，为固定公式，cos对应水平分解，sin对应垂直分解\n",
    "        alpha_rRad = (alpha_sRad.tan().multiply(phi_rRad.cos())).atan()     # 距离向分解\n",
    "        alpha_azRad = (alpha_sRad.tan().multiply(phi_rRad.sin())).atan()     # 方位向分解\n",
    "        return alpha_sRad,phi_sRad,alpha_rRad,alpha_azRad\n",
    "\n",
    "    alpha_sRad,phi_sRad,alpha_rRad,alpha_azRad = slop_aspect(DEMNASA,proj,geom)\n",
    "    sigma0Pow = ee.Image.constant(10).pow(image.divide(10.0))\n",
    "    gamma0 = sigma0Pow.divide(theta_iRad.cos())                                                                # 根据角度修订入射值\n",
    "    gamma0dB = ee.Image.constant(10).multiply(gamma0.log10()).select(['VV', 'VH'], ['VV_gamma0', 'VH_gamma0']) # 根据角度修订入射值\n",
    "    ratio_gamma = (gamma0dB.select('VV_gamma0').subtract(gamma0dB.select('VH_gamma0')).rename('ratio_gamma0')) # gamma极化相减\n",
    "\n",
    "    def volumetric(model,theta_iRad, alpha_rRad,alpha_azRad):\n",
    "        '''辐射斜率校正'''\n",
    "        if model == 'volume':\n",
    "            scf = volumetric_model_SCF(theta_iRad, alpha_rRad)\n",
    "        if model == 'surface':\n",
    "            scf = surface_model_SCF(theta_iRad, alpha_rRad, alpha_azRad)\n",
    "\n",
    "        gamma0_flat = gamma0.divide(scf)\n",
    "        gamma0_flatDB = (ee.Image.constant(10).multiply(gamma0_flat.log10()).select(['VV', 'VH'],['VV_gamma0flat', 'VH_gamma0flat']))\n",
    "        ratio_flat = (gamma0_flatDB.select('VV_gamma0flat').subtract(\n",
    "            gamma0_flatDB.select('VH_gamma0flat')).rename('ratio_gamma0flat'))\n",
    "\n",
    "        return {'scf':scf,'gamma0_flat':gamma0_flat,\n",
    "                'gamma0_flatDB':gamma0_flatDB,'ratio_flat':ratio_flat}\n",
    "    \n",
    "    # ------------------------------RS几何畸变区域--------------------------------- 同戴可人：高山峡谷区滑坡灾害隐患InSAR早期识别\n",
    "    layover = alpha_rRad.gt(theta_iRad).rename('layover')\n",
    "    ninetyRad = ee.Image.constant(90).multiply(np.pi / 180)\n",
    "    shadow = alpha_rRad.lt(ee.Image.constant(-1).multiply(ninetyRad.subtract(theta_iRad))).rename('shadow')\n",
    "\n",
    "    def rgbmask(layover, shadow):\n",
    "        r = ee.Image.constant(0).select([0], ['red'])\n",
    "        g = ee.Image.constant(0).select([0], ['green'])\n",
    "        b = ee.Image.constant(0).select([0], ['blue'])\n",
    "\n",
    "        r = r.where(layover, 255)\n",
    "        g = g.where(shadow, 255)\n",
    "\n",
    "        return ee.Image.cat([r, g, b]).byte().updateMask(image.mask())\n",
    "\n",
    "    # combine layover and shadow,因为shadow和layover都是0\n",
    "    no_data_mask = layover.And(shadow).rename('no_data_mask')\n",
    "    no_data_maskrgb = rgbmask(layover, shadow)\n",
    "    slop_correction = volumetric(model,theta_iRad, alpha_rRad,alpha_azRad)\n",
    "    \n",
    "    image2 = (Eq_pixels(image.select('VV')).rename('VV_sigma0')\n",
    "              .addBands(Eq_pixels(image.select('VH')).rename('VH_sigma0'))\n",
    "              .addBands(Eq_pixels(image.select('angle')).rename('incAngle'))\n",
    "              .addBands(Eq_pixels(slop_correction['gamma0_flat'].select('VV')).rename('VV_gamma0_flat'))\n",
    "              .addBands(Eq_pixels(slop_correction['gamma0_flat'].select('VH')).rename('VH_gamma0_flat'))\n",
    "              .addBands(Eq_pixels(slop_correction['gamma0_flatDB'].select('VV_gamma0flat')).rename('VV_gamma0_flatDB'))\n",
    "              .addBands(Eq_pixels(slop_correction['gamma0_flatDB'].select('VH_gamma0flat')).rename('VH_gamma0_flatDB'))\n",
    "              .addBands(Eq_pixels(layover).rename('layover'))\n",
    "              .addBands(Eq_pixels(shadow).rename('shadow'))\n",
    "              .addBands(Eq_pixels(no_data_mask).rename('no_data_mask'))\n",
    "              .addBands(no_data_maskrgb)\n",
    "              .addBands(Eq_pixels(DEMNASA.setDefaultProjection(proj).clip(geom)).rename('height')))\n",
    "\n",
    "    cal_image = (image2.addBands(ee.Image.pixelCoordinates(proj))\n",
    "                 .addBands(ee.Image.pixelLonLat()).reproject(crs=proj, scale=scale)\n",
    "                 .updateMask(image2.select('VV_sigma0').mask()).clip(AOI_buffer))\n",
    "\n",
    "    if orbitProperties_pass == 'ASCENDING':\n",
    "        volumetric_dict['ASCENDING'] = cal_image\n",
    "    elif orbitProperties_pass == 'DESCENDING':\n",
    "        volumetric_dict['DESCENDING'] = cal_image\n",
    "\n",
    "# ----------------------Z-scor均衡化，直方图匹配\n",
    "Bands_ = ['VV_gamma0_flatDB','VH_gamma0_flatDB']\n",
    "Ascending_Img = volumetric_dict['ASCENDING'].select(Bands_)\n",
    "Descending_Img = volumetric_dict['DESCENDING'].select(Bands_)\n",
    "\n",
    "for i in range(len(Bands_)):\n",
    "    Name_ = Bands_[i]\n",
    "    if i == 0:\n",
    "        ASCENDING_meanStd = meanStd_norm(Ascending_Img.select(Name_),scale=scale)\n",
    "        DESSCENDING_meanStd = meanStd_norm(Descending_Img.select(Name_),scale=scale)\n",
    "    else:\n",
    "        ASCENDING_meanStd = ASCENDING_meanStd.addBands(meanStd_norm(\n",
    "                                        Ascending_Img.select(Name_),scale=scale))\n",
    "        DESSCENDING_meanStd = DESSCENDING_meanStd.addBands(meanStd_norm(\n",
    "                                        Descending_Img.select(Name_),scale=scale))\n",
    "# 经过z-score，无需再进行均值迁移       \n",
    "Match_Ascending = histogramMatching(ASCENDING_meanStd, DESSCENDING_meanStd\n",
    "                                    ,AOI_buffer,Bands_,Bands_\n",
    "                                    ,Histscale=projScale,maxBuckets=1024).clip(AOI_buffer)"
   ]
  },
  {
   "cell_type": "code",
   "execution_count": null,
   "metadata": {},
   "outputs": [],
   "source": []
  },
  {
   "cell_type": "code",
   "execution_count": null,
   "metadata": {
    "ExecuteTime": {
     "start_time": "2023-08-30T03:26:50.801Z"
    }
   },
   "outputs": [],
   "source": [
    "Match_Ascending"
   ]
  },
  {
   "cell_type": "markdown",
   "metadata": {},
   "source": [
    "# 计算几何畸变区域，然后采用ImageCollection进行融合，然后提取冰湖，检测效果"
   ]
  },
  {
   "cell_type": "code",
   "execution_count": null,
   "metadata": {},
   "outputs": [],
   "source": [
    "from New_Correct import *\n",
    "\n",
    "def LayoverAndShadow(s1_col,img,AOI_buffer,dem,projScale,scale):\n",
    "    Col_img = s1_col.filterMetadata('system:index', 'equals', img.get('system:index')).first()\n",
    "    orbitProperties_pass = Col_img.get('orbitProperties_pass').getInfo()\n",
    "\n",
    "    azimuthEdge, rotationFromNorth, startpoint, endpoint, coordinates_dict = getASCCorners(Col_img,AOI_buffer,orbitProperties_pass)\n",
    "    Auxiliarylines = ee.Geometry.LineString([startpoint,endpoint])\n",
    "    alpha_rRad,theta_iRad,height,s1_azimuth_across,proj = cal_LIA(Col_img,dem,AOI_buffer,orbitProperties_pass)\n",
    "    cal_image = Distortion(alpha_rRad,theta_iRad,Col_img,proj,height,AOI_buffer)\n",
    "\n",
    "    Templist = AuxiliaryLine2Point(cal_image,s1_azimuth_across,coordinates_dict,Auxiliarylines,projScale)\n",
    "    LeftLayover,RightLayover,Shadow = Line_Correct(cal_image,AOI_buffer,Templist,\n",
    "                        orbitProperties_pass,proj,projScale,scale)\n",
    "    \n",
    "LeftLayoverA,RightLayoverA,ShadowA,cal_imageA =  LayoverAndShadow(s1_col,s1_ascending,AOI_buffer,dem,projScale,scale)\n",
    "LeftLayoverD,RightLayoverD,ShadowD,cal_imageD =  LayoverAndShadow(s1_col,s1_descending,AOI_buffer,dem,projScale,scale)"
   ]
  },
  {
   "cell_type": "code",
   "execution_count": null,
   "metadata": {},
   "outputs": [],
   "source": []
  },
  {
   "cell_type": "markdown",
   "metadata": {},
   "source": [
    "# 绘图与分析"
   ]
  },
  {
   "cell_type": "markdown",
   "metadata": {},
   "source": [
    "## 不同的融合方法对应效果"
   ]
  },
  {
   "cell_type": "code",
   "execution_count": null,
   "metadata": {
    "ExecuteTime": {
     "end_time": "2023-08-30T02:12:50.354396Z",
     "start_time": "2023-08-30T02:12:50.354396Z"
    }
   },
   "outputs": [],
   "source": [
    "testCollection = ee.ImageCollection([volumetric_dict['ASCENDING'][2],volumetric_dict['DESCENDING'][2]])\n",
    "\n",
    "testImage_mean = testCollection.mean()\n",
    "testImage_std = testCollection.reduce(ee.Reducer.stdDev())\n",
    "testImage_max = testCollection.max()\n",
    "testImage_min = testCollection.min()\n",
    "\n",
    "Map = geemap.Map()\n",
    "Map.centerObject(AOI, zoom=8)\n",
    "Map.addLayer(volumetric_dict['ASCENDING'][2].select('VV_gamma0flat'),{'min':-18,'max':5},'ASCENDING')\n",
    "Map.addLayer(volumetric_dict['DESCENDING'][2].select('VV_gamma0flat'),{'min':-18,'max':5},'DESCENDING')\n",
    "Map.addLayer(testImage_mean.select('VV_gamma0flat'),{'min':-18,'max':5},'mean')\n",
    "Map.addLayer(testImage_max.select('VV_gamma0flat'),{'min':-18,'max':5},'max')\n",
    "Map.addLayer(testImage_std.select('VV_gamma0flat_stdDev'),{'min':-18,'max':5},'std')\n",
    "Map.addLayer(testImage_min.select('VV_gamma0flat'),{'min':-18,'max':5},'min')\n",
    "Map"
   ]
  },
  {
   "cell_type": "markdown",
   "metadata": {},
   "source": [
    "## 数据分布情况，并进行归一化与Z-norm"
   ]
  },
  {
   "cell_type": "code",
   "execution_count": 114,
   "metadata": {
    "ExecuteTime": {
     "end_time": "2023-08-30T03:15:36.358836Z",
     "start_time": "2023-08-30T03:15:29.561748Z"
    }
   },
   "outputs": [
    {
     "data": {
      "text/html": [
       "<div><style>:root {\n",
       "  --font-color-primary: var(--jp-content-font-color0, rgba(0, 0, 0, 1));\n",
       "  --font-color-secondary: var(--jp-content-font-color2, rgba(0, 0, 0, 0.6));\n",
       "  --font-color-accent: rgba(123, 31, 162, 1);\n",
       "  --border-color: var(--jp-border-color2, #e0e0e0);\n",
       "  --background-color: var(--jp-layout-color0, white);\n",
       "  --background-color-row-even: var(--jp-layout-color1, white);\n",
       "  --background-color-row-odd: var(--jp-layout-color2, #eeeeee);\n",
       "}\n",
       "\n",
       "html[theme=\"dark\"],\n",
       "body[data-theme=\"dark\"],\n",
       "body.vscode-dark {\n",
       "  --font-color-primary: rgba(255, 255, 255, 1);\n",
       "  --font-color-secondary: rgba(255, 255, 255, 0.6);\n",
       "  --font-color-accent: rgb(173, 132, 190);\n",
       "  --border-color: #2e2e2e;\n",
       "  --background-color: #111111;\n",
       "  --background-color-row-even: #111111;\n",
       "  --background-color-row-odd: #313131;\n",
       "}\n",
       "\n",
       ".ee {\n",
       "  padding: 1em;\n",
       "  line-height: 1.5em;\n",
       "  min-width: 300px;\n",
       "  max-width: 1200px;\n",
       "  overflow-y: scroll;\n",
       "  max-height: 600px;\n",
       "  border: 1px solid var(--border-color);\n",
       "  font-family: monospace;\n",
       "}\n",
       "\n",
       ".ee li {\n",
       "  list-style-type: none;\n",
       "}\n",
       "\n",
       ".ee ul {\n",
       "  padding-left: 1.5em !important;\n",
       "  margin: 0;\n",
       "}\n",
       "\n",
       ".ee > ul {\n",
       "  padding-left: 0 !important;\n",
       "}\n",
       "\n",
       ".ee-open,\n",
       ".ee-shut {\n",
       "  color: var(--font-color-secondary);\n",
       "  cursor: pointer;\n",
       "  margin: 0;\n",
       "}\n",
       "\n",
       ".ee-open:hover,\n",
       ".ee-shut:hover {\n",
       "  color: var(--font-color-primary);\n",
       "}\n",
       "\n",
       ".ee-k {\n",
       "  color: var(--font-color-accent);\n",
       "  margin-right: 6px;\n",
       "}\n",
       "\n",
       ".ee-v {\n",
       "  color: var(--font-color-primary);\n",
       "}\n",
       "\n",
       ".ee-toggle {\n",
       "  display: none;\n",
       "}\n",
       "\n",
       ".ee-shut + ul {\n",
       "  display: none;\n",
       "}\n",
       "\n",
       ".ee-open + ul {\n",
       "  display: block;\n",
       "}\n",
       "\n",
       ".ee-shut::before {\n",
       "  display: inline-block;\n",
       "  content: \"▼\";\n",
       "  margin-right: 6px;\n",
       "  transform: rotate(-90deg);\n",
       "  transition: transform 0.2s;\n",
       "}\n",
       "\n",
       ".ee-open::before {\n",
       "  transform: rotate(0deg);\n",
       "  display: inline-block;\n",
       "  content: \"▼\";\n",
       "  margin-right: 6px;\n",
       "  transition: transform 0.2s;\n",
       "}\n",
       "</style><div class='ee'><ul><li><label class='ee-shut'>Image (1 band)<input type='checkbox' class='ee-toggle'></label><ul><li><span class='ee-k'>type:</span><span class='ee-v'>Image</span></li><li><label class='ee-shut'>bands: List (1 element)<input type='checkbox' class='ee-toggle'></label><ul><li><label class='ee-shut'>0: \"VV_gamma0_flatDB\", double, EPSG:32646, 2064x2072 px<input type='checkbox' class='ee-toggle'></label><ul><li><span class='ee-k'>id:</span><span class='ee-v'>VV_gamma0_flatDB</span></li><li><span class='ee-k'>crs:</span><span class='ee-v'>EPSG:32646</span></li><li><label class='ee-shut'>crs_transform: List (6 elements)<input type='checkbox' class='ee-toggle'></label><ul><li><span class='ee-k'>0:</span><span class='ee-v'>10</span></li><li><span class='ee-k'>1:</span><span class='ee-v'>0</span></li><li><span class='ee-k'>2:</span><span class='ee-v'>391267.6437241199</span></li><li><span class='ee-k'>3:</span><span class='ee-v'>0</span></li><li><span class='ee-k'>4:</span><span class='ee-v'>10</span></li><li><span class='ee-k'>5:</span><span class='ee-v'>3507296.4785577445</span></li></ul></li><li><label class='ee-shut'>data_type: double<input type='checkbox' class='ee-toggle'></label><ul><li><span class='ee-k'>type:</span><span class='ee-v'>PixelType</span></li><li><span class='ee-k'>precision:</span><span class='ee-v'>double</span></li></ul></li><li><label class='ee-shut'>dimensions: [2064, 2072]<input type='checkbox' class='ee-toggle'></label><ul><li><span class='ee-k'>0:</span><span class='ee-v'>2064</span></li><li><span class='ee-k'>1:</span><span class='ee-v'>2072</span></li></ul></li><li><label class='ee-shut'>origin: [22182, -17863]<input type='checkbox' class='ee-toggle'></label><ul><li><span class='ee-k'>0:</span><span class='ee-v'>22182</span></li><li><span class='ee-k'>1:</span><span class='ee-v'>-17863</span></li></ul></li></ul></li></ul></li><li><label class='ee-shut'>properties: Object (1 property)<input type='checkbox' class='ee-toggle'></label><ul><li><label class='ee-shut'>system:footprint: Polygon (5 vertices)<input type='checkbox' class='ee-toggle'></label><ul><li><span class='ee-k'>type:</span><span class='ee-v'>Polygon</span></li><li><label class='ee-shut'>coordinates: List (1 element)<input type='checkbox' class='ee-toggle'></label><ul><li><label class='ee-shut'>0: List (5 elements)<input type='checkbox' class='ee-toggle'></label><ul><li><label class='ee-shut'>0: [94.1757949278734, 30.083994607583293]<input type='checkbox' class='ee-toggle'></label><ul><li><span class='ee-k'>0:</span><span class='ee-v'>94.1757949278734</span></li><li><span class='ee-k'>1:</span><span class='ee-v'>30.083994607583293</span></li></ul></li><li><label class='ee-shut'>1: [94.38757579338782, 30.083994607583293]<input type='checkbox' class='ee-toggle'></label><ul><li><span class='ee-k'>0:</span><span class='ee-v'>94.38757579338782</span></li><li><span class='ee-k'>1:</span><span class='ee-v'>30.083994607583293</span></li></ul></li><li><label class='ee-shut'>2: [94.38757579338782, 30.26868521328251]<input type='checkbox' class='ee-toggle'></label><ul><li><span class='ee-k'>0:</span><span class='ee-v'>94.38757579338782</span></li><li><span class='ee-k'>1:</span><span class='ee-v'>30.26868521328251</span></li></ul></li><li><label class='ee-shut'>3: [94.1757949278734, 30.26868521328251]<input type='checkbox' class='ee-toggle'></label><ul><li><span class='ee-k'>0:</span><span class='ee-v'>94.1757949278734</span></li><li><span class='ee-k'>1:</span><span class='ee-v'>30.26868521328251</span></li></ul></li><li><label class='ee-shut'>4: [94.1757949278734, 30.083994607583293]<input type='checkbox' class='ee-toggle'></label><ul><li><span class='ee-k'>0:</span><span class='ee-v'>94.1757949278734</span></li><li><span class='ee-k'>1:</span><span class='ee-v'>30.083994607583293</span></li></ul></li></ul></li></ul></li><li><span class='ee-k'>geodesic:</span><span class='ee-v'>False</span></li></ul></li></ul></li></ul></li></ul></div><script>function toggleHeader() {\n",
       "    const parent = this.parentElement;\n",
       "    parent.className = parent.className === \"ee-open\" ? \"ee-shut\" : \"ee-open\";\n",
       "}\n",
       "\n",
       "for (let c of document.getElementsByClassName(\"ee-toggle\")) {\n",
       "    c.onclick = toggleHeader;\n",
       "}</script></div>"
      ],
      "text/plain": [
       "<ee.image.Image at 0x189ae4ca0d0>"
      ]
     },
     "execution_count": 114,
     "metadata": {},
     "output_type": "execute_result"
    }
   ],
   "source": [
    "DESCENDING_VV_gamma0flat"
   ]
  },
  {
   "cell_type": "code",
   "execution_count": 116,
   "metadata": {
    "ExecuteTime": {
     "end_time": "2023-08-30T03:16:20.535767Z",
     "start_time": "2023-08-30T03:16:20.497468Z"
    }
   },
   "outputs": [],
   "source": [
    "import geemap.chart as chart\n",
    "Bands = [\"VV_gamma0_flatDB\"]\n",
    "ASCENDING_VV_gamma0flat = volumetric_dict['ASCENDING'].select(Bands)\n",
    "DESCENDING_VV_gamma0flat = volumetric_dict['DESCENDING'].select(Bands)\n",
    "\n",
    "# MinMax标准化\n",
    "ASCENDING_Minmax = minmax_norm(ASCENDING_VV_gamma0flat,scale=10)\n",
    "DESCENDING_Minmax = minmax_norm(DESCENDING_VV_gamma0flat,scale=10)\n",
    "ASCENDING_MeanStd = meanStd_norm(ASCENDING_VV_gamma0flat,scale=10)\n",
    "DESCENDING_MeanStd = meanStd_norm(DESCENDING_VV_gamma0flat,scale=10)\n",
    "\n",
    "Match_Ascending = histogramMatching(ASCENDING_VV_gamma0flat, DESCENDING_VV_gamma0flat,AOI_buffer,Bands,Bands,Histscale=30,maxBuckets=1024)"
   ]
  },
  {
   "cell_type": "code",
   "execution_count": 119,
   "metadata": {
    "ExecuteTime": {
     "end_time": "2023-08-30T03:17:05.925999Z",
     "start_time": "2023-08-30T03:17:01.991803Z"
    },
    "hide_input": false
   },
   "outputs": [
    {
     "ename": "Exception",
     "evalue": "property VV_gamma0flat not found. Available properties: VV_gamma0_flatDB, system:index",
     "output_type": "error",
     "traceback": [
      "\u001b[1;31m---------------------------------------------------------------------------\u001b[0m",
      "\u001b[1;31mException\u001b[0m                                 Traceback (most recent call last)",
      "\u001b[1;32mC:\\Users\\ADMINI~1\\AppData\\Local\\Temp/ipykernel_15364/351721807.py\u001b[0m in \u001b[0;36m<module>\u001b[1;34m\u001b[0m\n\u001b[0;32m      7\u001b[0m \u001b[0mmy_sample\u001b[0m \u001b[1;33m=\u001b[0m \u001b[0mASCENDING_VV_gamma0flat\u001b[0m\u001b[1;33m.\u001b[0m\u001b[0msample\u001b[0m\u001b[1;33m(\u001b[0m\u001b[0mAOI_buffer\u001b[0m\u001b[1;33m,\u001b[0m \u001b[0mnumPixels\u001b[0m\u001b[1;33m=\u001b[0m\u001b[1;36m10000\u001b[0m\u001b[1;33m,\u001b[0m\u001b[0mgeometries\u001b[0m\u001b[1;33m=\u001b[0m\u001b[1;32mTrue\u001b[0m\u001b[1;33m)\u001b[0m\u001b[1;33m\u001b[0m\u001b[1;33m\u001b[0m\u001b[0m\n\u001b[0;32m      8\u001b[0m \u001b[0mproperty\u001b[0m \u001b[1;33m=\u001b[0m \u001b[1;34m'VV_gamma0flat'\u001b[0m\u001b[1;33m\u001b[0m\u001b[1;33m\u001b[0m\u001b[0m\n\u001b[1;32m----> 9\u001b[1;33m \u001b[0mchart\u001b[0m\u001b[1;33m.\u001b[0m\u001b[0mfeature_histogram\u001b[0m\u001b[1;33m(\u001b[0m\u001b[0mmy_sample\u001b[0m\u001b[1;33m,\u001b[0m \u001b[0mproperty\u001b[0m\u001b[1;33m,\u001b[0m \u001b[1;33m**\u001b[0m\u001b[0moptions\u001b[0m\u001b[1;33m)\u001b[0m\u001b[1;33m\u001b[0m\u001b[1;33m\u001b[0m\u001b[0m\n\u001b[0m",
      "\u001b[1;32mD:\\Wrz\\anaconda\\envs\\GEE\\lib\\site-packages\\geemap\\chart.py\u001b[0m in \u001b[0;36mfeature_histogram\u001b[1;34m(features, property, maxBuckets, minBucketWidth, show, **kwargs)\u001b[0m\n\u001b[0;32m    309\u001b[0m     \u001b[0mprops\u001b[0m \u001b[1;33m=\u001b[0m \u001b[0mfirst\u001b[0m\u001b[1;33m.\u001b[0m\u001b[0mpropertyNames\u001b[0m\u001b[1;33m(\u001b[0m\u001b[1;33m)\u001b[0m\u001b[1;33m.\u001b[0m\u001b[0mgetInfo\u001b[0m\u001b[1;33m(\u001b[0m\u001b[1;33m)\u001b[0m\u001b[1;33m\u001b[0m\u001b[1;33m\u001b[0m\u001b[0m\n\u001b[0;32m    310\u001b[0m     \u001b[1;32mif\u001b[0m \u001b[0mproperty\u001b[0m \u001b[1;32mnot\u001b[0m \u001b[1;32min\u001b[0m \u001b[0mprops\u001b[0m\u001b[1;33m:\u001b[0m\u001b[1;33m\u001b[0m\u001b[1;33m\u001b[0m\u001b[0m\n\u001b[1;32m--> 311\u001b[1;33m         raise Exception(\n\u001b[0m\u001b[0;32m    312\u001b[0m             \u001b[1;34mf\"property {property} not found. Available properties: {', '.join(props)}\"\u001b[0m\u001b[1;33m\u001b[0m\u001b[1;33m\u001b[0m\u001b[0m\n\u001b[0;32m    313\u001b[0m         )\n",
      "\u001b[1;31mException\u001b[0m: property VV_gamma0flat not found. Available properties: VV_gamma0_flatDB, system:index"
     ]
    }
   ],
   "source": [
    "options = {\n",
    "    \"title\": 'Asending Data Distribution',\n",
    "    \"xlabel\": 'Pixel Value (mm)',\n",
    "    \"ylabel\": 'Pixel Count',\n",
    "    \"colors\": ['#1d6b99'],\n",
    "}\n",
    "my_sample = ASCENDING_VV_gamma0flat.sample(AOI_buffer, numPixels=10000,geometries=True)\n",
    "property = 'VV_gamma0flat'\n",
    "chart.feature_histogram(my_sample, property, **options)"
   ]
  },
  {
   "cell_type": "code",
   "execution_count": null,
   "metadata": {
    "ExecuteTime": {
     "end_time": "2023-08-30T01:04:33.647986Z",
     "start_time": "2023-08-30T01:04:33.647986Z"
    },
    "hide_input": false
   },
   "outputs": [],
   "source": [
    "options = {\n",
    "    \"title\": 'Descending Data Distribution',\n",
    "    \"xlabel\": 'Pixel Value (mm)',\n",
    "    \"ylabel\": 'Pixel Count',\n",
    "    \"colors\": ['#1d6b99'],\n",
    "}\n",
    "my_sample = DESCENDING_VV_gamma0flat.sample(AOI_buffer, numPixels=10000,geometries=True)\n",
    "property = 'VV_gamma0flat'\n",
    "chart.feature_histogram(my_sample, property, **options)"
   ]
  },
  {
   "cell_type": "code",
   "execution_count": null,
   "metadata": {
    "ExecuteTime": {
     "end_time": "2023-08-30T01:04:33.648987Z",
     "start_time": "2023-08-30T01:04:33.648987Z"
    },
    "hide_input": true
   },
   "outputs": [],
   "source": [
    "options = {\n",
    "    \"title\": 'Ascending MeanStd Data Distribution',\n",
    "    \"xlabel\": 'Pixel Value (mm)',\n",
    "    \"ylabel\": 'Pixel Count',\n",
    "    \"colors\": ['#1d6b99'],\n",
    "}\n",
    "my_sample = ASCENDING_MeanStd.sample(AOI_buffer, numPixels=10000,geometries=True)\n",
    "property = 'VV_gamma0flat'\n",
    "chart.feature_histogram(my_sample, property, **options)"
   ]
  },
  {
   "cell_type": "code",
   "execution_count": 121,
   "metadata": {
    "ExecuteTime": {
     "end_time": "2023-08-30T03:17:29.249316Z",
     "start_time": "2023-08-30T03:17:25.185611Z"
    },
    "hide_input": true
   },
   "outputs": [
    {
     "data": {
      "application/vnd.jupyter.widget-view+json": {
       "model_id": "b2821e08e5824f499e31cfa61a7ae244",
       "version_major": 2,
       "version_minor": 0
      },
      "text/plain": [
       "VBox(children=(Figure(axes=[Axis(label='Pixel Count', orientation='vertical', scale=LinearScale()), Axis(label…"
      ]
     },
     "metadata": {},
     "output_type": "display_data"
    }
   ],
   "source": [
    "options = {\n",
    "    \"title\": 'Descending MeanStd Data Distribution',\n",
    "    \"xlabel\": 'Pixel Value (mm)',\n",
    "    \"ylabel\": 'Pixel Count',\n",
    "    \"colors\": ['#1d6b99'],\n",
    "}\n",
    "my_sample = DESCENDING_MeanStd.sample(AOI_buffer, numPixels=10000,geometries=True)\n",
    "property = 'VV_gamma0_flatDB'\n",
    "chart.feature_histogram(my_sample, property, **options)"
   ]
  },
  {
   "cell_type": "code",
   "execution_count": 118,
   "metadata": {
    "ExecuteTime": {
     "end_time": "2023-08-30T03:16:45.707542Z",
     "start_time": "2023-08-30T03:16:40.530765Z"
    },
    "hide_input": true
   },
   "outputs": [
    {
     "data": {
      "application/vnd.jupyter.widget-view+json": {
       "model_id": "502abbf4e00841438072390b5fb9833a",
       "version_major": 2,
       "version_minor": 0
      },
      "text/plain": [
       "VBox(children=(Figure(axes=[Axis(label='Pixel Count', orientation='vertical', scale=LinearScale()), Axis(label…"
      ]
     },
     "metadata": {},
     "output_type": "display_data"
    }
   ],
   "source": [
    "# Match_Asc\n",
    "options = {\n",
    "    \"title\": 'Ascending HistMatch Data Distribution',\n",
    "    \"xlabel\": 'Pixel Value (mm)',\n",
    "    \"ylabel\": 'Pixel Count',\n",
    "    \"colors\": ['#1d6b99'],\n",
    "}\n",
    "my_sample = Match_Ascending.sample(AOI_buffer, numPixels=10000,geometries=True)\n",
    "property = 'VV_gamma0_flatDB'\n",
    "chart.feature_histogram(my_sample, property, **options)"
   ]
  }
 ],
 "metadata": {
  "hide_input": false,
  "kernelspec": {
   "display_name": "Python 3 (ipykernel)",
   "language": "python",
   "name": "python3"
  },
  "language_info": {
   "codemirror_mode": {
    "name": "ipython",
    "version": 3
   },
   "file_extension": ".py",
   "mimetype": "text/x-python",
   "name": "python",
   "nbconvert_exporter": "python",
   "pygments_lexer": "ipython3",
   "version": "3.9.7"
  },
  "nbTranslate": {
   "displayLangs": [
    "*"
   ],
   "hotkey": "alt-t",
   "langInMainMenu": true,
   "sourceLang": "en",
   "targetLang": "fr",
   "useGoogleTranslate": true
  },
  "toc": {
   "base_numbering": 1,
   "nav_menu": {},
   "number_sections": true,
   "sideBar": true,
   "skip_h1_title": false,
   "title_cell": "Table of Contents",
   "title_sidebar": "Contents",
   "toc_cell": false,
   "toc_position": {},
   "toc_section_display": true,
   "toc_window_display": false
  },
  "varInspector": {
   "cols": {
    "lenName": 16,
    "lenType": 16,
    "lenVar": 40
   },
   "kernels_config": {
    "python": {
     "delete_cmd_postfix": "",
     "delete_cmd_prefix": "del ",
     "library": "var_list.py",
     "varRefreshCmd": "print(var_dic_list())"
    },
    "r": {
     "delete_cmd_postfix": ") ",
     "delete_cmd_prefix": "rm(",
     "library": "var_list.r",
     "varRefreshCmd": "cat(var_dic_list()) "
    }
   },
   "types_to_exclude": [
    "module",
    "function",
    "builtin_function_or_method",
    "instance",
    "_Feature"
   ],
   "window_display": false
  }
 },
 "nbformat": 4,
 "nbformat_minor": 1
}
