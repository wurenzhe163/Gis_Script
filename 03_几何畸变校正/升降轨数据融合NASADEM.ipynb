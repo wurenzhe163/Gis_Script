{
 "cells": [
  {
   "cell_type": "code",
   "execution_count": 1,
   "metadata": {
    "collapsed": true
   },
   "outputs": [
    {
     "name": "stdout",
     "output_type": "stream",
     "text": [
      "geemap version = 0.20.3\n",
      "geemap path = ['D:\\\\Code_base\\\\anaconda\\\\envs\\\\GEE\\\\lib\\\\site-packages\\\\geemap']\n"
     ]
    }
   ],
   "source": [
    "import ee\n",
    "import geemap\n",
    "import numpy as np\n",
    "import pandas as pd\n",
    "import copy\n",
    "import math\n",
    "import sys,os\n",
    "sys.path.append(os.path.dirname(os.path.abspath('__file__')))\n",
    "from tqdm import trange,tqdm\n",
    "from Basic_tools import *\n",
    "from New_Correct import *\n",
    "from Correct_filter import *\n",
    "from functools import partial\n",
    "import geopandas as gpd\n",
    "geemap.set_proxy(port=10809)\n",
    "# ee.Authenticate()\n",
    "ee.Initialize()\n",
    "print('geemap version = {}\\ngeemap path = {}'.format(geemap.__version__,geemap.__path__))"
   ]
  },
  {
   "cell_type": "code",
   "execution_count": 3,
   "metadata": {},
   "outputs": [],
   "source": [
    "Glacial_lake_2015A = ee.FeatureCollection(\n",
    "    'projects/ee-mrwurenzhe/assets/Glacial_lake/Wu_Asia_Southest_GL_wgs84').filter(ee.Filter.gte('GL_Area', 0.1))\n",
    "    #projects/ee-mrwurenzhe/assets/Glacial_lake/Checkout_polygen\n",
    "\n",
    "# 计算geometry、质心点、最小包络矩形\n",
    "Geo_ext = lambda feature: feature.set({\n",
    "    'Geo': feature.geometry(),\n",
    "    'Centroid': feature.geometry().centroid(),\n",
    "    'Rectangle': feature.geometry().bounds()\n",
    "})\n",
    "\n",
    "Centrid_set = lambda feature: feature.setGeometry(feature.geometry().centroid())\n",
    "Rectangle_set = lambda feature: feature.setGeometry(feature.geometry().bounds())\n",
    "Glacial_lake_2015C = Glacial_lake_2015A.map(Geo_ext).map(Centrid_set)  # 添加属性,修改geometry,计算质心\n",
    "Glacial_lake_2015R = Glacial_lake_2015A.map(Rectangle_set)       # 计算最小包络矩形\n",
    "\n",
    "#抽取属性作为list\n",
    "Glacial_lake_2015A_GeoList = ee.List(Glacial_lake_2015C.reduceColumns(ee.Reducer.toList(), ['Geo']).get('list'))\n",
    "Glacial_lake_2015C_CentriodList = ee.List(Glacial_lake_2015C.reduceColumns(ee.Reducer.toList(),['Centroid']).get('list'))\n",
    "Glacial_lake_2015R_RectangleList = ee.List(Glacial_lake_2015C.reduceColumns(ee.Reducer.toList(),['Rectangle']).get('list'))\n",
    "Num_list = Glacial_lake_2015C_CentriodList.size().getInfo()"
   ]
  },
  {
   "cell_type": "code",
   "execution_count": 19,
   "metadata": {},
   "outputs": [],
   "source": [
    "START_DATE  = ee.Date('2019-08-01')\n",
    "END_DATE   = ee.Date('2019-08-30')\n",
    "\n",
    "DEMSRTM = ee.Image('USGS/SRTMGL1_003')\n",
    "DEM_prj = DEMSRTM.projection()\n",
    "DEMNASA = ee.Image(\"NASA/NASADEM_HGT/001\").select('elevation')\n",
    "DEMALOS = ee.ImageCollection(\"JAXA/ALOS/AW3D30/V3_2\").mosaic().select('DSM').rename('elevation').reproject(DEM_prj)\n",
    "DEMCOPERNICUS = ee.ImageCollection(\"COPERNICUS/DEM/GLO30\").mosaic().select('DEM').rename('elevation').int16().reproject(DEM_prj)\n",
    "\n",
    "models = ['volume', 'surface', None]\n",
    "Buffer = 0\n",
    "Model = models[0]\n",
    "I = 1143\n",
    "scale = 30\n",
    "\n",
    "AOI = ee.Feature.geometry(Glacial_lake_2015R_RectangleList.get(I))\n",
    "s1_col = (ee.ImageCollection(\"COPERNICUS/S1_GRD\")\n",
    "          .filter(ee.Filter.eq('instrumentMode', 'IW'))\n",
    "            .filterBounds(AOI)\n",
    "            .filterDate(START_DATE, END_DATE))\n",
    "AOI_buffer = AOI.buffer(distance=10000).bounds()\n",
    "volumetric_dict = {}"
   ]
  },
  {
   "cell_type": "code",
   "execution_count": 23,
   "metadata": {},
   "outputs": [],
   "source": [
    "s1_descending = s1_col.filter(ee.Filter.eq('orbitProperties_pass', 'DESCENDING')).first()\n",
    "s1_ascending = s1_col.filter(ee.Filter.eq('orbitProperties_pass', 'ASCENDING')).first()\n",
    "\n",
    "image = s1_descending\n",
    "orbitProperties_pass = image.get('orbitProperties_pass').getInfo()\n",
    "# get the image geometry and projection\n",
    "geom = image.geometry()\n",
    "proj = image.select(1).projection()\n",
    "\n",
    "def getASCCorners(image, AOI_buffer):\n",
    "    # 真实方位角\n",
    "    coords = ee.Array(image.geometry().coordinates().get(0)).transpose()\n",
    "    crdLons = ee.List(coords.toList().get(0))\n",
    "    crdLats = ee.List(coords.toList().get(1))\n",
    "    minLon = crdLons.sort().get(0)\n",
    "    maxLon = crdLons.sort().get(-1)\n",
    "    minLat = crdLats.sort().get(0)\n",
    "    maxLat = crdLats.sort().get(-1)\n",
    "    azimuth = (ee.Number(crdLons.get(crdLats.indexOf(minLat))).subtract(minLon).atan2(ee.Number(crdLats.get(crdLons.indexOf(minLon))).subtract(minLat))\n",
    "               .multiply(180.0 / math.pi))\n",
    "\n",
    "    if orbitProperties_pass == 'ASCENDING':\n",
    "        azimuth = azimuth.add(270.0)\n",
    "        rotationFromNorth = azimuth.subtract(360.0)\n",
    "    elif orbitProperties_pass == 'DESCENDING':\n",
    "        azimuth = azimuth.add(180.0)\n",
    "        rotationFromNorth = azimuth.subtract(180.0)\n",
    "    else:\n",
    "        raise TypeError\n",
    "    azimuthEdge = (ee.Feature(ee.Geometry.LineString([crdLons.get(crdLats.indexOf(minLat)), minLat, minLon,\n",
    "                              crdLats.get(crdLons.indexOf(minLon))]), {'azimuth': azimuth}).copyProperties(image))\n",
    "\n",
    "    coords = ee.Array(image.clip(\n",
    "        AOI_buffer).geometry().coordinates().get(0)).transpose()\n",
    "    crdLons = ee.List(coords.toList().get(0))\n",
    "    crdLats = ee.List(coords.toList().get(1))\n",
    "    minLon = crdLons.sort().get(0)\n",
    "    maxLon = crdLons.sort().get(-1)\n",
    "    minLat = crdLats.sort().get(0)\n",
    "    maxLat = crdLats.sort().get(-1)\n",
    "    azimuth = (ee.Number(crdLons.get(crdLats.indexOf(minLat))).subtract(minLon).atan2(ee.Number(crdLats.get(crdLons.indexOf(minLon))).subtract(minLat))\n",
    "               .multiply(180.0 / math.pi))\n",
    "    if orbitProperties_pass == 'ASCENDING':\n",
    "        # 左上角\n",
    "        startpoint = ee.List([minLon, maxLat])\n",
    "        # 右下角\n",
    "        endpoint = ee.List([maxLon, minLat])\n",
    "    elif orbitProperties_pass == 'DESCENDING':\n",
    "        # 右上角\n",
    "        startpoint = ee.List([maxLon, maxLat])\n",
    "        # 左下角\n",
    "        endpoint = ee.List([minLon, minLat])\n",
    "\n",
    "    coordinates_dict = {'crdLons': crdLons, 'crdLats': crdLats,\n",
    "                        'minLon': minLon, 'maxLon': maxLon, 'minLat': minLat, 'maxLat': maxLat}\n",
    "\n",
    "    return azimuthEdge, rotationFromNorth, startpoint, endpoint, coordinates_dict\n",
    "\n",
    "Angle_aspect = ee.Terrain.aspect(image.select('angle'))\n",
    "# s1_azimuth_across = Angle_aspect.reduceRegion(ee.Reducer.mean(), geom, 1000).get('aspect')\n",
    "azimuthEdge, rotationFromNorth, startpoint, endpoint, coordinates_dict = getASCCorners(image, AOI_buffer)\n",
    "Heading = azimuthEdge.get('azimuth')\n",
    "Heading_Rad = ee.Image.constant(Heading).multiply(np.pi / 180)\n",
    "\n",
    "s1_azimuth_across = ee.Number(Heading).subtract(90.0)\n",
    "theta_iRad = image.select('angle').multiply(np.pi / 180)  # 地面入射角度转为弧度\n",
    "phi_iRad = ee.Image.constant(s1_azimuth_across).multiply(np.pi / 180)  # 方位角转弧度\n",
    "\n",
    "def slop_aspect(elevation,proj,geom):\n",
    "    alpha_sRad = ee.Terrain.slope(elevation).select('slope').multiply(\n",
    "        np.pi / 180).setDefaultProjection(proj).clip(geom)          # 坡度(与地面夹角)\n",
    "    phi_sRad = ee.Terrain.aspect(elevation).select('aspect').multiply(\n",
    "        np.pi / 180).setDefaultProjection(proj).clip(geom)          # 坡向角，(坡度陡峭度)坡与正北方向夹角(陡峭度)，从正北方向起算，顺时针计算角度\n",
    "    phi_rRad = phi_iRad.subtract(phi_sRad)     # (飞行方向角度-坡度陡峭度)飞行方向与坡向之间的夹角\n",
    "    # 分解坡度，在水平方向和垂直方向进行分解，为固定公式，cos对应水平分解，sin对应垂直分解\n",
    "    alpha_rRad = (alpha_sRad.tan().multiply(phi_rRad.cos())).atan()     # 距离向分解\n",
    "    alpha_azRad = (alpha_sRad.tan().multiply(phi_rRad.sin())).atan()     # 方位向分解\n",
    "    return alpha_sRad,phi_sRad,alpha_rRad,alpha_azRad\n",
    "\n",
    "height = DEMNASA.setDefaultProjection(proj).clip(geom)\n",
    "alpha_sRad,phi_sRad,alpha_rRad,alpha_azRad = slop_aspect(DEMNASA,proj,geom)\n",
    "# ------------------------------RS几何畸变区域--------------------------------- 同戴可人：高山峡谷区滑坡灾害隐患InSAR早期识别\n",
    "layover = alpha_rRad.gt(theta_iRad).rename('layover')\n",
    "ninetyRad = ee.Image.constant(90).multiply(np.pi / 180)\n",
    "shadow = alpha_rRad.lt(ee.Image.constant(-1).multiply(ninetyRad.subtract(theta_iRad))).rename('shadow')\n",
    "\n",
    "def rgbmask(layover, shadow):\n",
    "    r = ee.Image.constant(0).select([0], ['red'])\n",
    "    g = ee.Image.constant(0).select([0], ['green'])\n",
    "    b = ee.Image.constant(0).select([0], ['blue'])\n",
    "\n",
    "    r = r.where(layover, 255)\n",
    "    g = g.where(shadow, 255)\n",
    "\n",
    "    return ee.Image.cat([r, g, b]).byte().updateMask(image.mask())\n",
    "\n",
    "# combine layover and shadow,因为shadow和layover都是0\n",
    "no_data_mask = layover.And(shadow).rename('no_data_mask')\n",
    "no_data_maskrgb = rgbmask(layover, shadow)\n",
    "\n",
    "image2 = (Eq_pixels(image.select('VV')).rename('VV_sigma0')\n",
    "          .addBands(Eq_pixels(image.select('VH')).rename('VH_sigma0'))\n",
    "          .addBands(Eq_pixels(image.select('angle')).rename('incAngle'))\n",
    "          .addBands(Eq_pixels(layover).rename('layover'))\n",
    "          .addBands(Eq_pixels(shadow).rename('shadow'))\n",
    "          .addBands(Eq_pixels(no_data_mask).rename('no_data_mask'))\n",
    "          .addBands(no_data_maskrgb)\n",
    "          .addBands(Eq_pixels(height).rename('height')))\n",
    "\n",
    "cal_image = (image2.addBands(ee.Image.pixelCoordinates(proj)).addBands(ee.Image.pixelLonLat())\n",
    "             .reproject(crs=proj, scale=scale).updateMask(image2.select('VV_sigma0').mask()).clip(AOI_buffer))"
   ]
  },
  {
   "cell_type": "code",
   "execution_count": 24,
   "metadata": {},
   "outputs": [],
   "source": [
    "model = 'volume'\n",
    "sigma0Pow = ee.Image.constant(10).pow(image.divide(10.0))\n",
    "gamma0 = sigma0Pow.divide(theta_iRad.cos())                                                                # 根据角度修订入射值\n",
    "gamma0dB = ee.Image.constant(10).multiply(gamma0.log10()).select(['VV', 'VH'], ['VV_gamma0', 'VH_gamma0']) # 根据角度修订入射值\n",
    "ratio_gamma = (gamma0dB.select('VV_gamma0').subtract(gamma0dB.select('VH_gamma0')).rename('ratio_gamma0')) # gamma极化相减\n",
    "\n",
    "def volumetric(model,theta_iRad, alpha_rRad,alpha_azRad):\n",
    "    if model == 'volume':\n",
    "        scf = volumetric_model_SCF(theta_iRad, alpha_rRad)\n",
    "    if model == 'surface':\n",
    "        scf = surface_model_SCF(theta_iRad, alpha_rRad, alpha_azRad)\n",
    "\n",
    "    gamma0_flat = gamma0.divide(scf)\n",
    "    gamma0_flatDB = (ee.Image.constant(10).multiply(gamma0_flat.log10()).select(['VV', 'VH'],['VV_gamma0flat', 'VH_gamma0flat']))\n",
    "    ratio_flat = (gamma0_flatDB.select('VV_gamma0flat').subtract(\n",
    "        gamma0_flatDB.select('VH_gamma0flat')).rename('ratio_gamma0flat'))\n",
    "    return scf,gamma0_flat,gamma0_flatDB,ratio_flat\n",
    "if orbitProperties_pass == 'ASCENDING':\n",
    "    volumetric_dict['ASCENDING'] = volumetric(model,theta_iRad, alpha_rRad,alpha_azRad)\n",
    "elif orbitProperties_pass == 'DESCENDING':\n",
    "    volumetric_dict['DESCENDING'] = volumetric(model,theta_iRad, alpha_rRad,alpha_azRad)"
   ]
  },
  {
   "cell_type": "code",
   "execution_count": 29,
   "metadata": {},
   "outputs": [],
   "source": [
    "testCollection = ee.ImageCollection([volumetric_dict['ASCENDING'][2],volumetric_dict['DESCENDING'][2]])"
   ]
  },
  {
   "cell_type": "code",
   "execution_count": 40,
   "metadata": {
    "ExecuteTime": {
     "end_time": "2023-08-27T14:58:14.071417Z",
     "start_time": "2023-08-27T14:58:14.065480Z"
    }
   },
   "outputs": [],
   "source": [
    "testImage_mean = testCollection.mean()\n",
    "testImage_std = testCollection.reduce(ee.Reducer.stdDev())\n",
    "testImage_max = testCollection.max()\n",
    "testImage_min = testCollection.min()"
   ]
  },
  {
   "cell_type": "code",
   "execution_count": 41,
   "metadata": {
    "ExecuteTime": {
     "end_time": "2023-08-27T14:59:08.224638Z",
     "start_time": "2023-08-27T14:58:14.457497Z"
    }
   },
   "outputs": [
    {
     "ename": "EEException",
     "evalue": "Image.select: Pattern 'VV_gamma0flat' did not match any bands.",
     "output_type": "error",
     "traceback": [
      "\u001B[1;31m---------------------------------------------------------------------------\u001B[0m",
      "\u001B[1;31mHttpError\u001B[0m                                 Traceback (most recent call last)",
      "\u001B[1;32mD:\\Code_base\\anaconda\\envs\\GEE\\lib\\site-packages\\ee\\data.py\u001B[0m in \u001B[0;36m_execute_cloud_call\u001B[1;34m(call, num_retries)\u001B[0m\n\u001B[0;32m    327\u001B[0m   \u001B[1;32mtry\u001B[0m\u001B[1;33m:\u001B[0m\u001B[1;33m\u001B[0m\u001B[1;33m\u001B[0m\u001B[0m\n\u001B[1;32m--> 328\u001B[1;33m     \u001B[1;32mreturn\u001B[0m \u001B[0mcall\u001B[0m\u001B[1;33m.\u001B[0m\u001B[0mexecute\u001B[0m\u001B[1;33m(\u001B[0m\u001B[0mnum_retries\u001B[0m\u001B[1;33m=\u001B[0m\u001B[0mnum_retries\u001B[0m\u001B[1;33m)\u001B[0m\u001B[1;33m\u001B[0m\u001B[1;33m\u001B[0m\u001B[0m\n\u001B[0m\u001B[0;32m    329\u001B[0m   \u001B[1;32mexcept\u001B[0m \u001B[0mgoogleapiclient\u001B[0m\u001B[1;33m.\u001B[0m\u001B[0merrors\u001B[0m\u001B[1;33m.\u001B[0m\u001B[0mHttpError\u001B[0m \u001B[1;32mas\u001B[0m \u001B[0me\u001B[0m\u001B[1;33m:\u001B[0m\u001B[1;33m\u001B[0m\u001B[1;33m\u001B[0m\u001B[0m\n",
      "\u001B[1;32mD:\\Code_base\\anaconda\\envs\\GEE\\lib\\site-packages\\googleapiclient\\_helpers.py\u001B[0m in \u001B[0;36mpositional_wrapper\u001B[1;34m(*args, **kwargs)\u001B[0m\n\u001B[0;32m    133\u001B[0m                     \u001B[0mlogger\u001B[0m\u001B[1;33m.\u001B[0m\u001B[0mwarning\u001B[0m\u001B[1;33m(\u001B[0m\u001B[0mmessage\u001B[0m\u001B[1;33m)\u001B[0m\u001B[1;33m\u001B[0m\u001B[1;33m\u001B[0m\u001B[0m\n\u001B[1;32m--> 134\u001B[1;33m             \u001B[1;32mreturn\u001B[0m \u001B[0mwrapped\u001B[0m\u001B[1;33m(\u001B[0m\u001B[1;33m*\u001B[0m\u001B[0margs\u001B[0m\u001B[1;33m,\u001B[0m \u001B[1;33m**\u001B[0m\u001B[0mkwargs\u001B[0m\u001B[1;33m)\u001B[0m\u001B[1;33m\u001B[0m\u001B[1;33m\u001B[0m\u001B[0m\n\u001B[0m\u001B[0;32m    135\u001B[0m \u001B[1;33m\u001B[0m\u001B[0m\n",
      "\u001B[1;32mD:\\Code_base\\anaconda\\envs\\GEE\\lib\\site-packages\\googleapiclient\\http.py\u001B[0m in \u001B[0;36mexecute\u001B[1;34m(self, http, num_retries)\u001B[0m\n\u001B[0;32m    914\u001B[0m         \u001B[1;32mif\u001B[0m \u001B[0mresp\u001B[0m\u001B[1;33m.\u001B[0m\u001B[0mstatus\u001B[0m \u001B[1;33m>=\u001B[0m \u001B[1;36m300\u001B[0m\u001B[1;33m:\u001B[0m\u001B[1;33m\u001B[0m\u001B[1;33m\u001B[0m\u001B[0m\n\u001B[1;32m--> 915\u001B[1;33m             \u001B[1;32mraise\u001B[0m \u001B[0mHttpError\u001B[0m\u001B[1;33m(\u001B[0m\u001B[0mresp\u001B[0m\u001B[1;33m,\u001B[0m \u001B[0mcontent\u001B[0m\u001B[1;33m,\u001B[0m \u001B[0muri\u001B[0m\u001B[1;33m=\u001B[0m\u001B[0mself\u001B[0m\u001B[1;33m.\u001B[0m\u001B[0muri\u001B[0m\u001B[1;33m)\u001B[0m\u001B[1;33m\u001B[0m\u001B[1;33m\u001B[0m\u001B[0m\n\u001B[0m\u001B[0;32m    916\u001B[0m         \u001B[1;32mreturn\u001B[0m \u001B[0mself\u001B[0m\u001B[1;33m.\u001B[0m\u001B[0mpostproc\u001B[0m\u001B[1;33m(\u001B[0m\u001B[0mresp\u001B[0m\u001B[1;33m,\u001B[0m \u001B[0mcontent\u001B[0m\u001B[1;33m)\u001B[0m\u001B[1;33m\u001B[0m\u001B[1;33m\u001B[0m\u001B[0m\n",
      "\u001B[1;31mHttpError\u001B[0m: <HttpError 400 when requesting https://earthengine.googleapis.com/v1alpha/projects/earthengine-legacy/maps?fields=name&alt=json returned \"Image.select: Pattern 'VV_gamma0flat' did not match any bands.\". Details: \"Image.select: Pattern 'VV_gamma0flat' did not match any bands.\">",
      "\nDuring handling of the above exception, another exception occurred:\n",
      "\u001B[1;31mEEException\u001B[0m                               Traceback (most recent call last)",
      "\u001B[1;32m~\\AppData\\Local\\Temp\\ipykernel_13684\\2373049722.py\u001B[0m in \u001B[0;36m<cell line: 7>\u001B[1;34m()\u001B[0m\n\u001B[0;32m      5\u001B[0m \u001B[0mMap\u001B[0m\u001B[1;33m.\u001B[0m\u001B[0maddLayer\u001B[0m\u001B[1;33m(\u001B[0m\u001B[0mtestImage_mean\u001B[0m\u001B[1;33m.\u001B[0m\u001B[0mselect\u001B[0m\u001B[1;33m(\u001B[0m\u001B[1;34m'VV_gamma0flat'\u001B[0m\u001B[1;33m)\u001B[0m\u001B[1;33m,\u001B[0m\u001B[1;33m{\u001B[0m\u001B[1;34m'min'\u001B[0m\u001B[1;33m:\u001B[0m\u001B[1;33m-\u001B[0m\u001B[1;36m18\u001B[0m\u001B[1;33m,\u001B[0m\u001B[1;34m'max'\u001B[0m\u001B[1;33m:\u001B[0m\u001B[1;36m5\u001B[0m\u001B[1;33m}\u001B[0m\u001B[1;33m,\u001B[0m\u001B[1;34m'mean'\u001B[0m\u001B[1;33m)\u001B[0m\u001B[1;33m\u001B[0m\u001B[1;33m\u001B[0m\u001B[0m\n\u001B[0;32m      6\u001B[0m \u001B[0mMap\u001B[0m\u001B[1;33m.\u001B[0m\u001B[0maddLayer\u001B[0m\u001B[1;33m(\u001B[0m\u001B[0mtestImage_max\u001B[0m\u001B[1;33m.\u001B[0m\u001B[0mselect\u001B[0m\u001B[1;33m(\u001B[0m\u001B[1;34m'VV_gamma0flat'\u001B[0m\u001B[1;33m)\u001B[0m\u001B[1;33m,\u001B[0m\u001B[1;33m{\u001B[0m\u001B[1;34m'min'\u001B[0m\u001B[1;33m:\u001B[0m\u001B[1;33m-\u001B[0m\u001B[1;36m18\u001B[0m\u001B[1;33m,\u001B[0m\u001B[1;34m'max'\u001B[0m\u001B[1;33m:\u001B[0m\u001B[1;36m5\u001B[0m\u001B[1;33m}\u001B[0m\u001B[1;33m,\u001B[0m\u001B[1;34m'max'\u001B[0m\u001B[1;33m)\u001B[0m\u001B[1;33m\u001B[0m\u001B[1;33m\u001B[0m\u001B[0m\n\u001B[1;32m----> 7\u001B[1;33m \u001B[0mMap\u001B[0m\u001B[1;33m.\u001B[0m\u001B[0maddLayer\u001B[0m\u001B[1;33m(\u001B[0m\u001B[0mtestImage_std\u001B[0m\u001B[1;33m.\u001B[0m\u001B[0mselect\u001B[0m\u001B[1;33m(\u001B[0m\u001B[1;34m'VV_gamma0flat'\u001B[0m\u001B[1;33m)\u001B[0m\u001B[1;33m,\u001B[0m\u001B[1;33m{\u001B[0m\u001B[1;34m'min'\u001B[0m\u001B[1;33m:\u001B[0m\u001B[1;33m-\u001B[0m\u001B[1;36m18\u001B[0m\u001B[1;33m,\u001B[0m\u001B[1;34m'max'\u001B[0m\u001B[1;33m:\u001B[0m\u001B[1;36m5\u001B[0m\u001B[1;33m}\u001B[0m\u001B[1;33m,\u001B[0m\u001B[1;34m'std'\u001B[0m\u001B[1;33m)\u001B[0m\u001B[1;33m\u001B[0m\u001B[1;33m\u001B[0m\u001B[0m\n\u001B[0m\u001B[0;32m      8\u001B[0m \u001B[0mMap\u001B[0m\u001B[1;33m.\u001B[0m\u001B[0maddLayer\u001B[0m\u001B[1;33m(\u001B[0m\u001B[0mtestImage_min\u001B[0m\u001B[1;33m.\u001B[0m\u001B[0mselect\u001B[0m\u001B[1;33m(\u001B[0m\u001B[1;34m'VV_gamma0flat'\u001B[0m\u001B[1;33m)\u001B[0m\u001B[1;33m,\u001B[0m\u001B[1;33m{\u001B[0m\u001B[1;34m'min'\u001B[0m\u001B[1;33m:\u001B[0m\u001B[1;33m-\u001B[0m\u001B[1;36m18\u001B[0m\u001B[1;33m,\u001B[0m\u001B[1;34m'max'\u001B[0m\u001B[1;33m:\u001B[0m\u001B[1;36m5\u001B[0m\u001B[1;33m}\u001B[0m\u001B[1;33m,\u001B[0m\u001B[1;34m'min'\u001B[0m\u001B[1;33m)\u001B[0m\u001B[1;33m\u001B[0m\u001B[1;33m\u001B[0m\u001B[0m\n\u001B[0;32m      9\u001B[0m \u001B[0mMap\u001B[0m\u001B[1;33m\u001B[0m\u001B[1;33m\u001B[0m\u001B[0m\n",
      "\u001B[1;32mD:\\Code_base\\anaconda\\envs\\GEE\\lib\\site-packages\\geemap\\geemap.py\u001B[0m in \u001B[0;36madd_ee_layer\u001B[1;34m(self, ee_object, vis_params, name, shown, opacity)\u001B[0m\n\u001B[0;32m   1487\u001B[0m                 )\n\u001B[0;32m   1488\u001B[0m \u001B[1;33m\u001B[0m\u001B[0m\n\u001B[1;32m-> 1489\u001B[1;33m         \u001B[0mmap_id_dict\u001B[0m \u001B[1;33m=\u001B[0m \u001B[0mee\u001B[0m\u001B[1;33m.\u001B[0m\u001B[0mImage\u001B[0m\u001B[1;33m(\u001B[0m\u001B[0mimage\u001B[0m\u001B[1;33m)\u001B[0m\u001B[1;33m.\u001B[0m\u001B[0mgetMapId\u001B[0m\u001B[1;33m(\u001B[0m\u001B[0mvis_params\u001B[0m\u001B[1;33m)\u001B[0m\u001B[1;33m\u001B[0m\u001B[1;33m\u001B[0m\u001B[0m\n\u001B[0m\u001B[0;32m   1490\u001B[0m         \u001B[0murl\u001B[0m \u001B[1;33m=\u001B[0m \u001B[0mmap_id_dict\u001B[0m\u001B[1;33m[\u001B[0m\u001B[1;34m\"tile_fetcher\"\u001B[0m\u001B[1;33m]\u001B[0m\u001B[1;33m.\u001B[0m\u001B[0murl_format\u001B[0m\u001B[1;33m\u001B[0m\u001B[1;33m\u001B[0m\u001B[0m\n\u001B[0;32m   1491\u001B[0m         tile_layer = ipyleaflet.TileLayer(\n",
      "\u001B[1;32mD:\\Code_base\\anaconda\\envs\\GEE\\lib\\site-packages\\ee\\image.py\u001B[0m in \u001B[0;36mgetMapId\u001B[1;34m(self, vis_params)\u001B[0m\n\u001B[0;32m    130\u001B[0m     \u001B[0mvis_image\u001B[0m\u001B[1;33m,\u001B[0m \u001B[0mrequest\u001B[0m \u001B[1;33m=\u001B[0m \u001B[0mself\u001B[0m\u001B[1;33m.\u001B[0m\u001B[0m_apply_visualization\u001B[0m\u001B[1;33m(\u001B[0m\u001B[0mvis_params\u001B[0m\u001B[1;33m)\u001B[0m\u001B[1;33m\u001B[0m\u001B[1;33m\u001B[0m\u001B[0m\n\u001B[0;32m    131\u001B[0m     \u001B[0mrequest\u001B[0m\u001B[1;33m[\u001B[0m\u001B[1;34m'image'\u001B[0m\u001B[1;33m]\u001B[0m \u001B[1;33m=\u001B[0m \u001B[0mvis_image\u001B[0m\u001B[1;33m\u001B[0m\u001B[1;33m\u001B[0m\u001B[0m\n\u001B[1;32m--> 132\u001B[1;33m     \u001B[0mresponse\u001B[0m \u001B[1;33m=\u001B[0m \u001B[0mdata\u001B[0m\u001B[1;33m.\u001B[0m\u001B[0mgetMapId\u001B[0m\u001B[1;33m(\u001B[0m\u001B[0mrequest\u001B[0m\u001B[1;33m)\u001B[0m\u001B[1;33m\u001B[0m\u001B[1;33m\u001B[0m\u001B[0m\n\u001B[0m\u001B[0;32m    133\u001B[0m     \u001B[0mresponse\u001B[0m\u001B[1;33m[\u001B[0m\u001B[1;34m'image'\u001B[0m\u001B[1;33m]\u001B[0m \u001B[1;33m=\u001B[0m \u001B[0mself\u001B[0m\u001B[1;33m\u001B[0m\u001B[1;33m\u001B[0m\u001B[0m\n\u001B[0;32m    134\u001B[0m     \u001B[1;32mreturn\u001B[0m \u001B[0mresponse\u001B[0m\u001B[1;33m\u001B[0m\u001B[1;33m\u001B[0m\u001B[0m\n",
      "\u001B[1;32mD:\\Code_base\\anaconda\\envs\\GEE\\lib\\site-packages\\ee\\data.py\u001B[0m in \u001B[0;36mgetMapId\u001B[1;34m(params)\u001B[0m\n\u001B[0;32m    584\u001B[0m   \u001B[1;31m# Make it return only the name field, as otherwise it echoes the entire\u001B[0m\u001B[1;33m\u001B[0m\u001B[1;33m\u001B[0m\u001B[0m\n\u001B[0;32m    585\u001B[0m   \u001B[1;31m# request, which might be large.\u001B[0m\u001B[1;33m\u001B[0m\u001B[1;33m\u001B[0m\u001B[0m\n\u001B[1;32m--> 586\u001B[1;33m   result = _execute_cloud_call(\n\u001B[0m\u001B[0;32m    587\u001B[0m       _get_cloud_api_resource().projects().maps().create(\n\u001B[0;32m    588\u001B[0m           parent=_get_projects_path(), fields='name', body=request))\n",
      "\u001B[1;32mD:\\Code_base\\anaconda\\envs\\GEE\\lib\\site-packages\\ee\\data.py\u001B[0m in \u001B[0;36m_execute_cloud_call\u001B[1;34m(call, num_retries)\u001B[0m\n\u001B[0;32m    328\u001B[0m     \u001B[1;32mreturn\u001B[0m \u001B[0mcall\u001B[0m\u001B[1;33m.\u001B[0m\u001B[0mexecute\u001B[0m\u001B[1;33m(\u001B[0m\u001B[0mnum_retries\u001B[0m\u001B[1;33m=\u001B[0m\u001B[0mnum_retries\u001B[0m\u001B[1;33m)\u001B[0m\u001B[1;33m\u001B[0m\u001B[1;33m\u001B[0m\u001B[0m\n\u001B[0;32m    329\u001B[0m   \u001B[1;32mexcept\u001B[0m \u001B[0mgoogleapiclient\u001B[0m\u001B[1;33m.\u001B[0m\u001B[0merrors\u001B[0m\u001B[1;33m.\u001B[0m\u001B[0mHttpError\u001B[0m \u001B[1;32mas\u001B[0m \u001B[0me\u001B[0m\u001B[1;33m:\u001B[0m\u001B[1;33m\u001B[0m\u001B[1;33m\u001B[0m\u001B[0m\n\u001B[1;32m--> 330\u001B[1;33m     \u001B[1;32mraise\u001B[0m \u001B[0m_translate_cloud_exception\u001B[0m\u001B[1;33m(\u001B[0m\u001B[0me\u001B[0m\u001B[1;33m)\u001B[0m\u001B[1;33m\u001B[0m\u001B[1;33m\u001B[0m\u001B[0m\n\u001B[0m\u001B[0;32m    331\u001B[0m \u001B[1;33m\u001B[0m\u001B[0m\n\u001B[0;32m    332\u001B[0m \u001B[1;33m\u001B[0m\u001B[0m\n",
      "\u001B[1;31mEEException\u001B[0m: Image.select: Pattern 'VV_gamma0flat' did not match any bands."
     ]
    }
   ],
   "source": [
    "Map = geemap.Map()\n",
    "Map.centerObject(AOI, zoom=8)\n",
    "Map.addLayer(volumetric_dict['ASCENDING'][2].select('VV_gamma0flat'),{'min':-18,'max':5},'ASCENDING')\n",
    "Map.addLayer(volumetric_dict['DESCENDING'][2].select('VV_gamma0flat'),{'min':-18,'max':5},'DESCENDING')\n",
    "Map.addLayer(testImage_mean.select('VV_gamma0flat'),{'min':-18,'max':5},'mean')\n",
    "Map.addLayer(testImage_max.select('VV_gamma0flat'),{'min':-18,'max':5},'max')\n",
    "Map.addLayer(testImage_std.select('VV_gamma0flat'),{'min':-18,'max':5},'std')\n",
    "Map.addLayer(testImage_min.select('VV_gamma0flat'),{'min':-18,'max':5},'min')\n",
    "Map"
   ]
  },
  {
   "cell_type": "code",
   "execution_count": null,
   "metadata": {},
   "outputs": [],
   "source": []
  }
 ],
 "metadata": {
  "hide_input": false,
  "kernelspec": {
   "display_name": "GEE",
   "language": "python",
   "name": "gee"
  },
  "language_info": {
   "codemirror_mode": {
    "name": "ipython",
    "version": 3
   },
   "file_extension": ".py",
   "mimetype": "text/x-python",
   "name": "python",
   "nbconvert_exporter": "python",
   "pygments_lexer": "ipython3",
   "version": "3.9.16"
  },
  "nbTranslate": {
   "displayLangs": [
    "*"
   ],
   "hotkey": "alt-t",
   "langInMainMenu": true,
   "sourceLang": "en",
   "targetLang": "fr",
   "useGoogleTranslate": true
  },
  "toc": {
   "base_numbering": 1,
   "nav_menu": {},
   "number_sections": true,
   "sideBar": true,
   "skip_h1_title": false,
   "title_cell": "Table of Contents",
   "title_sidebar": "Contents",
   "toc_cell": false,
   "toc_position": {},
   "toc_section_display": true,
   "toc_window_display": false
  },
  "varInspector": {
   "cols": {
    "lenName": 16,
    "lenType": 16,
    "lenVar": 40
   },
   "kernels_config": {
    "python": {
     "delete_cmd_postfix": "",
     "delete_cmd_prefix": "del ",
     "library": "var_list.py",
     "varRefreshCmd": "print(var_dic_list())"
    },
    "r": {
     "delete_cmd_postfix": ") ",
     "delete_cmd_prefix": "rm(",
     "library": "var_list.r",
     "varRefreshCmd": "cat(var_dic_list()) "
    }
   },
   "types_to_exclude": [
    "module",
    "function",
    "builtin_function_or_method",
    "instance",
    "_Feature"
   ],
   "window_display": false
  }
 },
 "nbformat": 4,
 "nbformat_minor": 1
}
