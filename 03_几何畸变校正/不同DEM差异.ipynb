{
 "cells": [
  {
   "cell_type": "code",
   "execution_count": 2,
   "id": "ca0caf71",
   "metadata": {
    "ExecuteTime": {
     "end_time": "2023-08-26T12:43:14.802577Z",
     "start_time": "2023-08-26T12:43:06.022785Z"
    }
   },
   "outputs": [
    {
     "name": "stdout",
     "output_type": "stream",
     "text": [
      "geemap version = 0.20.0\n",
      "geemap path = ['D:\\\\Wrz\\\\anaconda\\\\envs\\\\GEE\\\\lib\\\\site-packages\\\\geemap']\n"
     ]
    }
   ],
   "source": [
    "import ee\n",
    "import geemap\n",
    "import numpy as np\n",
    "import pandas as pd\n",
    "import folium\n",
    "import copy\n",
    "import math\n",
    "from tqdm import trange,tqdm\n",
    "from functools import partial\n",
    "import geopandas as gpd\n",
    "geemap.set_proxy(port=10809)\n",
    "# ee.Authenticate()\n",
    "ee.Initialize()\n",
    "print('geemap version = {}\\ngeemap path = {}'.format(geemap.__version__,geemap.__path__))"
   ]
  },
  {
   "cell_type": "code",
   "execution_count": 3,
   "id": "54a87a2b",
   "metadata": {
    "ExecuteTime": {
     "end_time": "2023-08-26T12:43:16.898396Z",
     "start_time": "2023-08-26T12:43:14.805576Z"
    }
   },
   "outputs": [],
   "source": [
    "Glacial_lake_2015A = ee.FeatureCollection(\n",
    "    'projects/ee-mrwurenzhe/assets/Glacial_lake/Wu_Asia_Southest_GL_wgs84').filter(ee.Filter.gte('GL_Area', 0.1))\n",
    "    #projects/ee-mrwurenzhe/assets/Glacial_lake/Checkout_polygen\n",
    "\n",
    "# 计算geometry、质心点、最小包络矩形\n",
    "Geo_ext = lambda feature: feature.set({\n",
    "    'Geo': feature.geometry(),\n",
    "    'Centroid': feature.geometry().centroid(),\n",
    "    'Rectangle': feature.geometry().bounds()\n",
    "})\n",
    "\n",
    "Centrid_set = lambda feature: feature.setGeometry(feature.geometry().centroid())\n",
    "Rectangle_set = lambda feature: feature.setGeometry(feature.geometry().bounds())\n",
    "Glacial_lake_2015C = Glacial_lake_2015A.map(Geo_ext).map(Centrid_set)  # 添加属性,修改geometry,计算质心\n",
    "Glacial_lake_2015R = Glacial_lake_2015A.map(Rectangle_set)       # 计算最小包络矩形\n",
    "\n",
    "#抽取属性作为list\n",
    "Glacial_lake_2015A_GeoList = ee.List(Glacial_lake_2015C.reduceColumns(ee.Reducer.toList(), ['Geo']).get('list'))\n",
    "Glacial_lake_2015C_CentriodList = ee.List(Glacial_lake_2015C.reduceColumns(ee.Reducer.toList(),['Centroid']).get('list'))\n",
    "Glacial_lake_2015R_RectangleList = ee.List(Glacial_lake_2015C.reduceColumns(ee.Reducer.toList(),['Rectangle']).get('list'))\n",
    "Num_list = Glacial_lake_2015C_CentriodList.size().getInfo()"
   ]
  },
  {
   "cell_type": "code",
   "execution_count": 74,
   "id": "41f39622",
   "metadata": {
    "ExecuteTime": {
     "end_time": "2023-08-26T13:13:24.278144Z",
     "start_time": "2023-08-26T13:13:24.269144Z"
    }
   },
   "outputs": [],
   "source": [
    "START_DATE  = ee.Date('2019-08-01')\n",
    "END_DATE   = ee.Date('2019-08-30')\n",
    "\n",
    "DEMSRTM = ee.Image('USGS/SRTMGL1_003')\n",
    "DEM_prj = DEMNASA.projection()\n",
    "DEMNASA = ee.Image(\"NASA/NASADEM_HGT/001\").select('elevation')\n",
    "DEMALOS = ee.ImageCollection(\"JAXA/ALOS/AW3D30/V3_2\").mosaic().select('DSM').rename('elevation').reproject(DEM_prj)\n",
    "DEMCOPERNICUS = ee.ImageCollection(\"COPERNICUS/DEM/GLO30\").mosaic().select('DEM').rename('elevation').int16().reproject(DEM_prj)\n",
    "\n",
    "models = ['volume', 'surface', None]\n",
    "Buffer = 0\n",
    "Model = models[0]\n",
    "I = 1143\n",
    "scale = 30\n",
    "\n",
    "AOI = ee.Feature.geometry(Glacial_lake_2015R_RectangleList.get(I))\n",
    "s1_col = (ee.ImageCollection(\"COPERNICUS/S1_GRD\")\n",
    "          .filter(ee.Filter.eq('instrumentMode', 'IW'))\n",
    "            .filterBounds(AOI)\n",
    "            .filterDate(START_DATE, END_DATE))\n",
    "AOI_buffer = AOI.buffer(distance=10000).bounds()"
   ]
  },
  {
   "cell_type": "code",
   "execution_count": 81,
   "id": "fd3c77a1",
   "metadata": {
    "ExecuteTime": {
     "end_time": "2023-08-26T13:23:42.418012Z",
     "start_time": "2023-08-26T13:23:41.399260Z"
    },
    "code_folding": [
     10
    ]
   },
   "outputs": [],
   "source": [
    "s1_descending = s1_col.filter(ee.Filter.eq('orbitProperties_pass', 'DESCENDING')).first().clip(AOI_buffer)\n",
    "s1_ascending = s1_col.filter(ee.Filter.eq('orbitProperties_pass', 'ASCENDING')).first().clip(AOI_buffer)\n",
    "\n",
    "image = s1_descending\n",
    "orbitProperties_pass = image.get('orbitProperties_pass').getInfo()\n",
    "# get the image geometry and projection\n",
    "geom = image.geometry()\n",
    "proj = image.select(1).projection()\n",
    "\n",
    "def getASCCorners(image, AOI_buffer):\n",
    "    # 真实方位角\n",
    "    coords = ee.Array(image.geometry().coordinates().get(0)).transpose()\n",
    "    crdLons = ee.List(coords.toList().get(0))\n",
    "    crdLats = ee.List(coords.toList().get(1))\n",
    "    minLon = crdLons.sort().get(0)\n",
    "    maxLon = crdLons.sort().get(-1)\n",
    "    minLat = crdLats.sort().get(0)\n",
    "    maxLat = crdLats.sort().get(-1)\n",
    "    azimuth = (ee.Number(crdLons.get(crdLats.indexOf(minLat))).subtract(minLon).atan2(ee.Number(crdLats.get(crdLons.indexOf(minLon))).subtract(minLat))\n",
    "               .multiply(180.0 / math.pi))\n",
    "\n",
    "    if orbitProperties_pass == 'ASCENDING':\n",
    "        azimuth = azimuth.add(270.0)\n",
    "        rotationFromNorth = azimuth.subtract(360.0)\n",
    "    elif orbitProperties_pass == 'DESCENDING':\n",
    "        azimuth = azimuth.add(180.0)\n",
    "        rotationFromNorth = azimuth.subtract(180.0)\n",
    "    else:\n",
    "        raise TypeError\n",
    "    azimuthEdge = (ee.Feature(ee.Geometry.LineString([crdLons.get(crdLats.indexOf(minLat)), minLat, minLon,\n",
    "                              crdLats.get(crdLons.indexOf(minLon))]), {'azimuth': azimuth}).copyProperties(image))\n",
    "\n",
    "    coords = ee.Array(image.clip(\n",
    "        AOI_buffer).geometry().coordinates().get(0)).transpose()\n",
    "    crdLons = ee.List(coords.toList().get(0))\n",
    "    crdLats = ee.List(coords.toList().get(1))\n",
    "    minLon = crdLons.sort().get(0)\n",
    "    maxLon = crdLons.sort().get(-1)\n",
    "    minLat = crdLats.sort().get(0)\n",
    "    maxLat = crdLats.sort().get(-1)\n",
    "    azimuth = (ee.Number(crdLons.get(crdLats.indexOf(minLat))).subtract(minLon).atan2(ee.Number(crdLats.get(crdLons.indexOf(minLon))).subtract(minLat))\n",
    "               .multiply(180.0 / math.pi))\n",
    "    if orbitProperties_pass == 'ASCENDING':\n",
    "        # 左上角\n",
    "        startpoint = ee.List([minLon, maxLat])\n",
    "        # 右下角\n",
    "        endpoint = ee.List([maxLon, minLat])\n",
    "    elif orbitProperties_pass == 'DESCENDING':\n",
    "        # 右上角\n",
    "        startpoint = ee.List([maxLon, maxLat])\n",
    "        # 左下角\n",
    "        endpoint = ee.List([minLon, minLat])\n",
    "\n",
    "    coordinates_dict = {'crdLons': crdLons, 'crdLats': crdLats,\n",
    "                        'minLon': minLon, 'maxLon': maxLon, 'minLat': minLat, 'maxLat': maxLat}\n",
    "\n",
    "    return azimuthEdge, rotationFromNorth, startpoint, endpoint, coordinates_dict\n",
    "\n",
    "Angle_aspect = ee.Terrain.aspect(image.select('angle'))\n",
    "# s1_azimuth_across = Angle_aspect.reduceRegion(ee.Reducer.mean(), geom, 1000).get('aspect')\n",
    "azimuthEdge, rotationFromNorth, startpoint, endpoint, coordinates_dict = getASCCorners(image, AOI_buffer)\n",
    "Heading = azimuthEdge.get('azimuth')\n",
    "Heading_Rad = ee.Image.constant(Heading).multiply(np.pi / 180)\n",
    "\n",
    "s1_azimuth_across = ee.Number(Heading).subtract(90.0)\n",
    "theta_iRad = image.select('angle').multiply(np.pi / 180)  # 地面入射角度转为弧度\n",
    "phi_iRad = ee.Image.constant(s1_azimuth_across).multiply(np.pi / 180)  # 方位角转弧度\n",
    "\n",
    "def slop_aspect(elevation,proj,geom):\n",
    "    alpha_sRad = ee.Terrain.slope(elevation).select('slope').multiply(\n",
    "        np.pi / 180).setDefaultProjection(proj).clip(geom)          # 坡度(与地面夹角)\n",
    "    phi_sRad = ee.Terrain.aspect(elevation).select('aspect').multiply(\n",
    "        np.pi / 180).setDefaultProjection(proj).clip(geom)          # 坡向角，(坡度陡峭度)坡与正北方向夹角(陡峭度)，从正北方向起算，顺时针计算角度\n",
    "    phi_rRad = phi_iRad.subtract(phi_sRad)     # (飞行方向角度-坡度陡峭度)飞行方向与坡向之间的夹角\n",
    "    # 分解坡度，在水平方向和垂直方向进行分解，为固定公式，cos对应水平分解，sin对应垂直分解\n",
    "    alpha_rRad = (alpha_sRad.tan().multiply(phi_rRad.cos())).atan()     # 距离向分解\n",
    "    alpha_azRad = (alpha_sRad.tan().multiply(phi_rRad.sin())).atan()     # 方位向分解\n",
    "    return alpha_sRad,phi_sRad,alpha_rRad,alpha_azRad\n",
    "\n",
    "alpha_sRad_SRTM,phi_sRad_SRTM,alpha_rRad_SRTM,alpha_azRad_SRTM = slop_aspect(DEMSRTM,proj,geom)\n",
    "alpha_sRad_NASA,phi_sRad_NASA,alpha_rRad_NASA,alpha_azRad_NASA = slop_aspect(DEMNASA,proj,geom)\n",
    "alpha_sRad_ALOS,phi_sRad_ALOS,alpha_rRad_ALOS,alpha_azRad_ALOS = slop_aspect(DEMALOS,proj,geom)\n",
    "alpha_sRad_COPERNICUS,phi_sRad_COPERNICUS,alpha_rRad_COPERNICUS,alpha_azRad_COPERNICUS = slop_aspect(DEMCOPERNICUS,proj,geom)"
   ]
  },
  {
   "cell_type": "markdown",
   "id": "74e84060",
   "metadata": {},
   "source": [
    "## 查看alpha_s \\ alpha_r的分布,观察在山体两侧角度值，不同DEM的差异"
   ]
  },
  {
   "cell_type": "code",
   "execution_count": 83,
   "id": "47b54daa",
   "metadata": {
    "ExecuteTime": {
     "end_time": "2023-08-26T13:24:16.616766Z",
     "start_time": "2023-08-26T13:24:09.825111Z"
    },
    "scrolled": true
   },
   "outputs": [
    {
     "data": {
      "application/vnd.jupyter.widget-view+json": {
       "model_id": "8edb7108f371458c967c2b073a52143c",
       "version_major": 2,
       "version_minor": 0
      },
      "text/plain": [
       "Map(center=[30.17633989163365, 94.28168536055013], controls=(WidgetControl(options=['position', 'transparent_b…"
      ]
     },
     "metadata": {},
     "output_type": "display_data"
    }
   ],
   "source": [
    "Map = geemap.Map(basemap='HYBRID')\n",
    "Map.centerObject(AOI, zoom=14)\n",
    "Map.addLayer(DEMSRTM.clip(geom) ,{'min':3644,'max':5970},'DEMSRTM')\n",
    "Map.addLayer(DEMNASA.clip(geom) ,{'min':3644,'max':5970},'DEMNASA')\n",
    "Map.addLayer(DEMALOS.clip(geom) ,{'min':3644,'max':5970},'DEMALOS')\n",
    "Map.addLayer(DEMCOPERNICUS.clip(geom) ,{'min':3644,'max':5970},'DEMCOPERNICUS')\n",
    "Map"
   ]
  },
  {
   "cell_type": "code",
   "execution_count": 84,
   "id": "8fd6f981",
   "metadata": {
    "ExecuteTime": {
     "end_time": "2023-08-26T13:25:50.909593Z",
     "start_time": "2023-08-26T13:25:32.108357Z"
    }
   },
   "outputs": [
    {
     "data": {
      "application/vnd.jupyter.widget-view+json": {
       "model_id": "27644a9a6cf94ccf881975194b4c3b7c",
       "version_major": 2,
       "version_minor": 0
      },
      "text/plain": [
       "Map(center=[30.17633989163365, 94.28168536055013], controls=(WidgetControl(options=['position', 'transparent_b…"
      ]
     },
     "metadata": {},
     "output_type": "display_data"
    }
   ],
   "source": [
    "Map = geemap.Map(basemap='HYBRID')\n",
    "Map.centerObject(AOI, zoom=14)\n",
    "Map.addLayer(alpha_rRad_SRTM, {'min':0,'max':1.5}, 'alpha_rRad_SRTM')\n",
    "Map.addLayer(alpha_sRad_SRTM, {'min':-1.4,'max':1.5}, 'alpha_sRad_SRTM')\n",
    "Map.addLayer(alpha_rRad_NASA, {'min':0,'max':1.5}, 'alpha_rRad_NASA')\n",
    "Map.addLayer(alpha_sRad_NASA, {'min':-1.4,'max':1.5}, 'alpha_sRad_NASA')\n",
    "Map.addLayer(alpha_rRad_ALOS, {'min':0,'max':1.5}, 'alpha_rRad_ALOS')\n",
    "Map.addLayer(alpha_sRad_ALOS, {'min':-1.4,'max':1.5}, 'alpha_sRad_ALOS')\n",
    "Map.addLayer(alpha_rRad_COPERNICUS, {'min':0,'max':1.5}, 'alpha_rRad_COPERNICUS')\n",
    "Map.addLayer(alpha_sRad_COPERNICUS, {'min':-1.4,'max':1.5}, 'alpha_sRad_COPERNICUS')\n",
    "Map"
   ]
  }
 ],
 "metadata": {
  "hide_input": false,
  "kernelspec": {
   "display_name": "Python 3 (ipykernel)",
   "language": "python",
   "name": "python3"
  },
  "language_info": {
   "codemirror_mode": {
    "name": "ipython",
    "version": 3
   },
   "file_extension": ".py",
   "mimetype": "text/x-python",
   "name": "python",
   "nbconvert_exporter": "python",
   "pygments_lexer": "ipython3",
   "version": "3.9.7"
  },
  "nbTranslate": {
   "displayLangs": [
    "*"
   ],
   "hotkey": "alt-t",
   "langInMainMenu": true,
   "sourceLang": "en",
   "targetLang": "fr",
   "useGoogleTranslate": true
  },
  "toc": {
   "base_numbering": 1,
   "nav_menu": {},
   "number_sections": true,
   "sideBar": true,
   "skip_h1_title": false,
   "title_cell": "Table of Contents",
   "title_sidebar": "Contents",
   "toc_cell": false,
   "toc_position": {},
   "toc_section_display": true,
   "toc_window_display": false
  }
 },
 "nbformat": 4,
 "nbformat_minor": 5
}
