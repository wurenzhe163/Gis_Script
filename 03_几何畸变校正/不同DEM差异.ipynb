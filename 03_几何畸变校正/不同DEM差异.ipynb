{
 "cells": [
  {
   "cell_type": "code",
   "execution_count": 10,
   "id": "ca0caf71",
   "metadata": {
    "ExecuteTime": {
     "end_time": "2023-08-27T08:09:58.709954Z",
     "start_time": "2023-08-27T08:09:51.619519Z"
    }
   },
   "outputs": [
    {
     "name": "stdout",
     "output_type": "stream",
     "text": [
      "geemap version = 0.20.3\n",
      "geemap path = ['D:\\\\Code_base\\\\anaconda\\\\envs\\\\GEE\\\\lib\\\\site-packages\\\\geemap']\n"
     ]
    }
   ],
   "source": [
    "import ee\n",
    "import geemap\n",
    "import numpy as np\n",
    "import pandas as pd\n",
    "import folium\n",
    "import copy\n",
    "import math\n",
    "from tqdm import trange,tqdm\n",
    "from Basic_tools import *\n",
    "from functools import partial\n",
    "import geopandas as gpd\n",
    "geemap.set_proxy(port=10809)\n",
    "# ee.Authenticate()\n",
    "ee.Initialize()\n",
    "print('geemap version = {}\\ngeemap path = {}'.format(geemap.__version__,geemap.__path__))"
   ]
  },
  {
   "cell_type": "code",
   "execution_count": 27,
   "id": "54a87a2b",
   "metadata": {
    "ExecuteTime": {
     "end_time": "2023-08-27T12:34:10.291112Z",
     "start_time": "2023-08-27T12:33:55.913530Z"
    }
   },
   "outputs": [],
   "source": [
    "Glacial_lake_2015A = ee.FeatureCollection(\n",
    "    'projects/ee-mrwurenzhe/assets/Glacial_lake/Wu_Asia_Southest_GL_wgs84').filter(ee.Filter.gte('GL_Area', 0.1))\n",
    "    #projects/ee-mrwurenzhe/assets/Glacial_lake/Checkout_polygen\n",
    "\n",
    "# 计算geometry、质心点、最小包络矩形\n",
    "Geo_ext = lambda feature: feature.set({\n",
    "    'Geo': feature.geometry(),\n",
    "    'Centroid': feature.geometry().centroid(),\n",
    "    'Rectangle': feature.geometry().bounds()\n",
    "})\n",
    "\n",
    "Centrid_set = lambda feature: feature.setGeometry(feature.geometry().centroid())\n",
    "Rectangle_set = lambda feature: feature.setGeometry(feature.geometry().bounds())\n",
    "Glacial_lake_2015C = Glacial_lake_2015A.map(Geo_ext).map(Centrid_set)  # 添加属性,修改geometry,计算质心\n",
    "Glacial_lake_2015R = Glacial_lake_2015A.map(Rectangle_set)       # 计算最小包络矩形\n",
    "\n",
    "#抽取属性作为list\n",
    "Glacial_lake_2015A_GeoList = ee.List(Glacial_lake_2015C.reduceColumns(ee.Reducer.toList(), ['Geo']).get('list'))\n",
    "Glacial_lake_2015C_CentriodList = ee.List(Glacial_lake_2015C.reduceColumns(ee.Reducer.toList(),['Centroid']).get('list'))\n",
    "Glacial_lake_2015R_RectangleList = ee.List(Glacial_lake_2015C.reduceColumns(ee.Reducer.toList(),['Rectangle']).get('list'))\n",
    "Num_list = Glacial_lake_2015C_CentriodList.size().getInfo()"
   ]
  },
  {
   "cell_type": "code",
   "execution_count": null,
   "id": "41f39622",
   "metadata": {
    "ExecuteTime": {
     "end_time": "2023-08-27T12:34:10.641249Z",
     "start_time": "2023-08-27T12:34:10.641249Z"
    },
    "hide_input": true
   },
   "outputs": [],
   "source": [
    "START_DATE  = ee.Date('2019-08-01')\n",
    "END_DATE   = ee.Date('2019-08-30')\n",
    "\n",
    "DEMSRTM = ee.Image('USGS/SRTMGL1_003')\n",
    "DEM_prj = DEMSRTM.projection()\n",
    "DEMNASA = ee.Image(\"NASA/NASADEM_HGT/001\").select('elevation')\n",
    "DEMALOS = ee.ImageCollection(\"JAXA/ALOS/AW3D30/V3_2\").mosaic().select('DSM').rename('elevation').reproject(DEM_prj)\n",
    "DEMCOPERNICUS = ee.ImageCollection(\"COPERNICUS/DEM/GLO30\").mosaic().select('DEM').rename('elevation').int16().reproject(DEM_prj)\n",
    "\n",
    "models = ['volume', 'surface', None]\n",
    "Buffer = 0\n",
    "Model = models[0]\n",
    "I = 1143\n",
    "scale = 30\n",
    "\n",
    "AOI = ee.Feature.geometry(Glacial_lake_2015R_RectangleList.get(I))\n",
    "s1_col = (ee.ImageCollection(\"COPERNICUS/S1_GRD\")\n",
    "          .filter(ee.Filter.eq('instrumentMode', 'IW'))\n",
    "            .filterBounds(AOI)\n",
    "            .filterDate(START_DATE, END_DATE))\n",
    "AOI_buffer = AOI.buffer(distance=10000).bounds()"
   ]
  },
  {
   "cell_type": "code",
   "execution_count": 62,
   "id": "fd3c77a1",
   "metadata": {
    "ExecuteTime": {
     "end_time": "2023-08-27T13:04:04.456166Z",
     "start_time": "2023-08-27T13:03:59.280449Z"
    },
    "code_folding": [
     9,
     68
    ],
    "hide_input": false
   },
   "outputs": [],
   "source": [
    "s1_descending = s1_col.filter(ee.Filter.eq('orbitProperties_pass', 'DESCENDING')).first()\n",
    "s1_ascending = s1_col.filter(ee.Filter.eq('orbitProperties_pass', 'ASCENDING')).first()\n",
    "\n",
    "image = s1_ascending\n",
    "orbitProperties_pass = image.get('orbitProperties_pass').getInfo()\n",
    "# get the image geometry and projection\n",
    "geom = image.geometry()\n",
    "proj = image.select(1).projection()\n",
    "\n",
    "def getASCCorners(image, AOI_buffer):\n",
    "    # 真实方位角\n",
    "    coords = ee.Array(image.geometry().coordinates().get(0)).transpose()\n",
    "    crdLons = ee.List(coords.toList().get(0))\n",
    "    crdLats = ee.List(coords.toList().get(1))\n",
    "    minLon = crdLons.sort().get(0)\n",
    "    maxLon = crdLons.sort().get(-1)\n",
    "    minLat = crdLats.sort().get(0)\n",
    "    maxLat = crdLats.sort().get(-1)\n",
    "    azimuth = (ee.Number(crdLons.get(crdLats.indexOf(minLat))).subtract(minLon).atan2(ee.Number(crdLats.get(crdLons.indexOf(minLon))).subtract(minLat))\n",
    "               .multiply(180.0 / math.pi))\n",
    "\n",
    "    if orbitProperties_pass == 'ASCENDING':\n",
    "        azimuth = azimuth.add(270.0)\n",
    "        rotationFromNorth = azimuth.subtract(360.0)\n",
    "    elif orbitProperties_pass == 'DESCENDING':\n",
    "        azimuth = azimuth.add(180.0)\n",
    "        rotationFromNorth = azimuth.subtract(180.0)\n",
    "    else:\n",
    "        raise TypeError\n",
    "    azimuthEdge = (ee.Feature(ee.Geometry.LineString([crdLons.get(crdLats.indexOf(minLat)), minLat, minLon,\n",
    "                              crdLats.get(crdLons.indexOf(minLon))]), {'azimuth': azimuth}).copyProperties(image))\n",
    "\n",
    "    coords = ee.Array(image.clip(\n",
    "        AOI_buffer).geometry().coordinates().get(0)).transpose()\n",
    "    crdLons = ee.List(coords.toList().get(0))\n",
    "    crdLats = ee.List(coords.toList().get(1))\n",
    "    minLon = crdLons.sort().get(0)\n",
    "    maxLon = crdLons.sort().get(-1)\n",
    "    minLat = crdLats.sort().get(0)\n",
    "    maxLat = crdLats.sort().get(-1)\n",
    "    azimuth = (ee.Number(crdLons.get(crdLats.indexOf(minLat))).subtract(minLon).atan2(ee.Number(crdLats.get(crdLons.indexOf(minLon))).subtract(minLat))\n",
    "               .multiply(180.0 / math.pi))\n",
    "    if orbitProperties_pass == 'ASCENDING':\n",
    "        # 左上角\n",
    "        startpoint = ee.List([minLon, maxLat])\n",
    "        # 右下角\n",
    "        endpoint = ee.List([maxLon, minLat])\n",
    "    elif orbitProperties_pass == 'DESCENDING':\n",
    "        # 右上角\n",
    "        startpoint = ee.List([maxLon, maxLat])\n",
    "        # 左下角\n",
    "        endpoint = ee.List([minLon, minLat])\n",
    "\n",
    "    coordinates_dict = {'crdLons': crdLons, 'crdLats': crdLats,\n",
    "                        'minLon': minLon, 'maxLon': maxLon, 'minLat': minLat, 'maxLat': maxLat}\n",
    "\n",
    "    return azimuthEdge, rotationFromNorth, startpoint, endpoint, coordinates_dict\n",
    "\n",
    "Angle_aspect = ee.Terrain.aspect(image.select('angle'))\n",
    "# s1_azimuth_across = Angle_aspect.reduceRegion(ee.Reducer.mean(), geom, 1000).get('aspect')\n",
    "azimuthEdge, rotationFromNorth, startpoint, endpoint, coordinates_dict = getASCCorners(image, AOI_buffer)\n",
    "Heading = azimuthEdge.get('azimuth')\n",
    "Heading_Rad = ee.Image.constant(Heading).multiply(np.pi / 180)\n",
    "\n",
    "s1_azimuth_across = ee.Number(Heading).subtract(90.0)\n",
    "theta_iRad = image.select('angle').multiply(np.pi / 180)  # 地面入射角度转为弧度\n",
    "phi_iRad = ee.Image.constant(s1_azimuth_across).multiply(np.pi / 180)  # 方位角转弧度\n",
    "\n",
    "def slop_aspect(elevation,proj,geom):\n",
    "    alpha_sRad = ee.Terrain.slope(elevation).select('slope').multiply(\n",
    "        np.pi / 180).setDefaultProjection(proj).clip(geom)          # 坡度(与地面夹角)\n",
    "    phi_sRad = ee.Terrain.aspect(elevation).select('aspect').multiply(\n",
    "        np.pi / 180).setDefaultProjection(proj).clip(geom)          # 坡向角，(坡度陡峭度)坡与正北方向夹角(陡峭度)，从正北方向起算，顺时针计算角度\n",
    "    phi_rRad = phi_iRad.subtract(phi_sRad)     # (飞行方向角度-坡度陡峭度)飞行方向与坡向之间的夹角\n",
    "    # 分解坡度，在水平方向和垂直方向进行分解，为固定公式，cos对应水平分解，sin对应垂直分解\n",
    "    alpha_rRad = (alpha_sRad.tan().multiply(phi_rRad.cos())).atan()     # 距离向分解\n",
    "    alpha_azRad = (alpha_sRad.tan().multiply(phi_rRad.sin())).atan()     # 方位向分解\n",
    "    return alpha_sRad,phi_sRad,alpha_rRad,alpha_azRad\n",
    "\n",
    "alpha_sRad_SRTM,phi_sRad_SRTM,alpha_rRad_SRTM,alpha_azRad_SRTM = slop_aspect(DEMSRTM,proj,geom)\n",
    "alpha_sRad_NASA,phi_sRad_NASA,alpha_rRad_NASA,alpha_azRad_NASA = slop_aspect(DEMNASA,proj,geom)\n",
    "alpha_sRad_ALOS,phi_sRad_ALOS,alpha_rRad_ALOS,alpha_azRad_ALOS = slop_aspect(DEMALOS,proj,geom)\n",
    "alpha_sRad_COPERNICUS,phi_sRad_COPERNICUS,alpha_rRad_COPERNICUS,alpha_azRad_COPERNICUS = slop_aspect(DEMCOPERNICUS,proj,geom)"
   ]
  },
  {
   "cell_type": "code",
   "execution_count": null,
   "id": "e5063311",
   "metadata": {
    "ExecuteTime": {
     "end_time": "2023-08-27T13:04:04.527328Z",
     "start_time": "2023-08-27T13:04:04.527328Z"
    },
    "hide_input": false
   },
   "outputs": [],
   "source": [
    "def _volumetric_model_SCF(theta_iRad, alpha_rRad):\n",
    "    '''Code for calculation of volumetric model SCF\n",
    "        体积模型\n",
    "    :param theta_iRad: ee.Image of incidence angle in radians\n",
    "    :param alpha_rRad: ee.Image of slope steepness in range\n",
    "\n",
    "    :returns: ee.Image\n",
    "    '''\n",
    "    # create a 90 degree image in radians\n",
    "    ninetyRad = ee.Image.constant(90).multiply(np.pi / 180)\n",
    "\n",
    "    # model\n",
    "    nominator = (ninetyRad.subtract(theta_iRad).add(alpha_rRad)).tan()\n",
    "    denominator = (ninetyRad.subtract(theta_iRad)).tan()\n",
    "    return nominator.divide(denominator)\n",
    "\n",
    "def _surface_model_SCF(theta_iRad, alpha_rRad, alpha_azRad):\n",
    "    '''Code for calculation of direct model SCF\n",
    "        表面模型\n",
    "    :param theta_iRad: ee.Image of incidence angle in radians\n",
    "    :param alpha_rRad: ee.Image of slope steepness in range\n",
    "    :param alpha_azRad: ee.Image of slope steepness in azimuth\n",
    "    :returns: ee.Image\n",
    "    '''\n",
    "    # create a 90 degree image in radians\n",
    "    ninetyRad = ee.Image.constant(90).multiply(np.pi / 180)\n",
    "\n",
    "    # model\n",
    "    nominator = (ninetyRad.subtract(theta_iRad)).cos()\n",
    "    denominator = (alpha_azRad.cos().multiply(\n",
    "        (ninetyRad.subtract(theta_iRad).add(alpha_rRad)).cos()))\n",
    "\n",
    "    return nominator.divide(denominator)"
   ]
  },
  {
   "cell_type": "code",
   "execution_count": 63,
   "id": "11c404be",
   "metadata": {
    "ExecuteTime": {
     "end_time": "2023-08-27T13:04:05.529377Z",
     "start_time": "2023-08-27T13:04:05.491687Z"
    }
   },
   "outputs": [],
   "source": [
    "model = 'volume'\n",
    "sigma0Pow = ee.Image.constant(10).pow(image.divide(10.0))\n",
    "gamma0 = sigma0Pow.divide(theta_iRad.cos())                                                                # 根据角度修订入射值 \n",
    "gamma0dB = ee.Image.constant(10).multiply(gamma0.log10()).select(['VV', 'VH'], ['VV_gamma0', 'VH_gamma0']) # 根据角度修订入射值\n",
    "ratio_gamma = (gamma0dB.select('VV_gamma0').subtract(gamma0dB.select('VH_gamma0')).rename('ratio_gamma0')) # gamma极化相减\n",
    "\n",
    "def volumetric(model,theta_iRad, alpha_rRad,alpha_azRad):\n",
    "    if model == 'volume':\n",
    "        scf = _volumetric_model_SCF(theta_iRad, alpha_rRad)\n",
    "    if model == 'surface':\n",
    "        scf = _surface_model_SCF(theta_iRad, alpha_rRad, alpha_azRad)\n",
    "        \n",
    "    gamma0_flat = gamma0.divide(scf)\n",
    "    gamma0_flatDB = (ee.Image.constant(10).multiply(gamma0_flat.log10()).select(['VV', 'VH'],['VV_gamma0flat', 'VH_gamma0flat']))\n",
    "    ratio_flat = (gamma0_flatDB.select('VV_gamma0flat').subtract(\n",
    "        gamma0_flatDB.select('VH_gamma0flat')).rename('ratio_gamma0flat'))\n",
    "    return scf,gamma0_flat,gamma0_flatDB,ratio_flat\n",
    "\n",
    "volumetric_dict = {}\n",
    "if orbitProperties_pass == 'ASCENDING':\n",
    "    volumetric_dict['SRTM'] = volumetric(model,theta_iRad, alpha_rRad_SRTM,alpha_azRad_SRTM)\n",
    "    volumetric_dict['NASA'] = volumetric(model,theta_iRad, alpha_rRad_NASA,alpha_azRad_NASA)\n",
    "    volumetric_dict['ALOS'] = volumetric(model,theta_iRad, alpha_rRad_ALOS,alpha_azRad_ALOS)\n",
    "    volumetric_dict['COPE'] = volumetric(model,theta_iRad, alpha_rRad_COPERNICUS,alpha_azRad_COPERNICUS)\n",
    "    ASCENDING_dict = copy.deepcopy(volumetric_dict)\n",
    "elif orbitProperties_pass == 'DESCENDING':\n",
    "    volumetric_dict['SRTM'] = volumetric(model,theta_iRad, alpha_rRad_SRTM,alpha_azRad_SRTM)\n",
    "    volumetric_dict['NASA'] = volumetric(model,theta_iRad, alpha_rRad_NASA,alpha_azRad_NASA)\n",
    "    volumetric_dict['ALOS'] = volumetric(model,theta_iRad, alpha_rRad_ALOS,alpha_azRad_ALOS)\n",
    "    volumetric_dict['COPE'] = volumetric(model,theta_iRad, alpha_rRad_COPERNICUS,alpha_azRad_COPERNICUS)\n",
    "    DESCENDING_dict = copy.deepcopy(volumetric_dict)"
   ]
  },
  {
   "cell_type": "markdown",
   "id": "8def8f81",
   "metadata": {},
   "source": [
    "- DEM的优劣性\n",
    "- alpha_sRad不存在负值，alpha_rRad存在负值，原因是什么\n",
    "- 体模型和面模型，辐射斜率校正会不会受到负值影响\n",
    "- 校正过后联合升降轨道，如果无法直接联合，考虑使用标准化或者归一化图像"
   ]
  },
  {
   "cell_type": "markdown",
   "id": "b637aa4a",
   "metadata": {},
   "source": [
    "## 采用NASADEM做测试，开展升降轨道融合"
   ]
  },
  {
   "cell_type": "code",
   "execution_count": 26,
   "id": "3c58316b",
   "metadata": {
    "ExecuteTime": {
     "end_time": "2023-08-27T10:34:34.644881Z",
     "start_time": "2023-08-27T10:34:34.621297Z"
    }
   },
   "outputs": [],
   "source": [
    "s1_descending_VV = copy.deepcopy(image.select('VV'))\n",
    "s1_descending_VV_gammaflat = copy.deepcopy(gamma0_flatDB_NASA.select('VV_gamma0flat'))"
   ]
  },
  {
   "cell_type": "markdown",
   "id": "74e84060",
   "metadata": {},
   "source": [
    "## 查看alpha_s \\ alpha_r的分布,观察在山体两侧角度值，不同DEM的差异"
   ]
  },
  {
   "cell_type": "code",
   "execution_count": 5,
   "id": "47b54daa",
   "metadata": {
    "ExecuteTime": {
     "end_time": "2023-08-27T02:58:17.858309Z",
     "start_time": "2023-08-27T02:58:00.794429Z"
    },
    "scrolled": true
   },
   "outputs": [
    {
     "data": {
      "application/vnd.jupyter.widget-view+json": {
       "model_id": "fd9856e48d734afe90566752224ee51d",
       "version_major": 2,
       "version_minor": 0
      },
      "text/plain": [
       "Map(center=[30.17633989163365, 94.28168536055013], controls=(WidgetControl(options=['position', 'transparent_b…"
      ]
     },
     "metadata": {},
     "output_type": "display_data"
    }
   ],
   "source": [
    "Map = geemap.Map(basemap='HYBRID')\n",
    "Map.centerObject(AOI, zoom=14)\n",
    "Map.addLayer(DEMSRTM.clip(geom) ,{'min':3644,'max':5970},'DEMSRTM')\n",
    "Map.addLayer(DEMNASA.clip(geom) ,{'min':3644,'max':5970},'DEMNASA')\n",
    "Map.addLayer(DEMALOS.clip(geom) ,{'min':3644,'max':5970},'DEMALOS')\n",
    "Map.addLayer(DEMCOPERNICUS.clip(geom) ,{'min':3644,'max':5970},'DEMCOPERNICUS')\n",
    "Map"
   ]
  },
  {
   "cell_type": "code",
   "execution_count": 64,
   "id": "2423ebbd",
   "metadata": {
    "ExecuteTime": {
     "end_time": "2023-08-27T13:04:35.429236Z",
     "start_time": "2023-08-27T13:04:17.080476Z"
    }
   },
   "outputs": [
    {
     "data": {
      "application/vnd.jupyter.widget-view+json": {
       "model_id": "587792a83e4043aea8b1167ecdd01c9a",
       "version_major": 2,
       "version_minor": 0
      },
      "text/plain": [
       "Map(center=[30.17633989163365, 94.28168536055013], controls=(WidgetControl(options=['position', 'transparent_b…"
      ]
     },
     "metadata": {},
     "output_type": "display_data"
    },
    {
     "ename": "TraitError",
     "evalue": "The 'east' trait of a Map instance expected a float, not the NoneType None.",
     "output_type": "error",
     "traceback": [
      "\u001B[1;31m---------------------------------------------------------------------------\u001B[0m",
      "\u001B[1;31mTraitError\u001B[0m                                Traceback (most recent call last)",
      "\u001B[1;32mD:\\Code_base\\anaconda\\envs\\GEE\\lib\\site-packages\\ipywidgets\\widgets\\widget.py\u001B[0m in \u001B[0;36m_handle_msg\u001B[1;34m(self, msg)\u001B[0m\n\u001B[0;32m    674\u001B[0m                 \u001B[1;32mif\u001B[0m \u001B[1;34m'buffer_paths'\u001B[0m \u001B[1;32min\u001B[0m \u001B[0mdata\u001B[0m\u001B[1;33m:\u001B[0m\u001B[1;33m\u001B[0m\u001B[1;33m\u001B[0m\u001B[0m\n\u001B[0;32m    675\u001B[0m                     \u001B[0m_put_buffers\u001B[0m\u001B[1;33m(\u001B[0m\u001B[0mstate\u001B[0m\u001B[1;33m,\u001B[0m \u001B[0mdata\u001B[0m\u001B[1;33m[\u001B[0m\u001B[1;34m'buffer_paths'\u001B[0m\u001B[1;33m]\u001B[0m\u001B[1;33m,\u001B[0m \u001B[0mmsg\u001B[0m\u001B[1;33m[\u001B[0m\u001B[1;34m'buffers'\u001B[0m\u001B[1;33m]\u001B[0m\u001B[1;33m)\u001B[0m\u001B[1;33m\u001B[0m\u001B[1;33m\u001B[0m\u001B[0m\n\u001B[1;32m--> 676\u001B[1;33m                 \u001B[0mself\u001B[0m\u001B[1;33m.\u001B[0m\u001B[0mset_state\u001B[0m\u001B[1;33m(\u001B[0m\u001B[0mstate\u001B[0m\u001B[1;33m)\u001B[0m\u001B[1;33m\u001B[0m\u001B[1;33m\u001B[0m\u001B[0m\n\u001B[0m\u001B[0;32m    677\u001B[0m \u001B[1;33m\u001B[0m\u001B[0m\n\u001B[0;32m    678\u001B[0m         \u001B[1;31m# Handle a state request.\u001B[0m\u001B[1;33m\u001B[0m\u001B[1;33m\u001B[0m\u001B[0m\n",
      "\u001B[1;32mD:\\Code_base\\anaconda\\envs\\GEE\\lib\\site-packages\\ipywidgets\\widgets\\widget.py\u001B[0m in \u001B[0;36mset_state\u001B[1;34m(self, sync_data)\u001B[0m\n\u001B[0;32m    543\u001B[0m                     from_json = self.trait_metadata(name, 'from_json',\n\u001B[0;32m    544\u001B[0m                                                     self._trait_from_json)\n\u001B[1;32m--> 545\u001B[1;33m                     \u001B[0mself\u001B[0m\u001B[1;33m.\u001B[0m\u001B[0mset_trait\u001B[0m\u001B[1;33m(\u001B[0m\u001B[0mname\u001B[0m\u001B[1;33m,\u001B[0m \u001B[0mfrom_json\u001B[0m\u001B[1;33m(\u001B[0m\u001B[0msync_data\u001B[0m\u001B[1;33m[\u001B[0m\u001B[0mname\u001B[0m\u001B[1;33m]\u001B[0m\u001B[1;33m,\u001B[0m \u001B[0mself\u001B[0m\u001B[1;33m)\u001B[0m\u001B[1;33m)\u001B[0m\u001B[1;33m\u001B[0m\u001B[1;33m\u001B[0m\u001B[0m\n\u001B[0m\u001B[0;32m    546\u001B[0m \u001B[1;33m\u001B[0m\u001B[0m\n\u001B[0;32m    547\u001B[0m     \u001B[1;32mdef\u001B[0m \u001B[0msend\u001B[0m\u001B[1;33m(\u001B[0m\u001B[0mself\u001B[0m\u001B[1;33m,\u001B[0m \u001B[0mcontent\u001B[0m\u001B[1;33m,\u001B[0m \u001B[0mbuffers\u001B[0m\u001B[1;33m=\u001B[0m\u001B[1;32mNone\u001B[0m\u001B[1;33m)\u001B[0m\u001B[1;33m:\u001B[0m\u001B[1;33m\u001B[0m\u001B[1;33m\u001B[0m\u001B[0m\n",
      "\u001B[1;32mD:\\Code_base\\anaconda\\envs\\GEE\\lib\\site-packages\\traitlets\\traitlets.py\u001B[0m in \u001B[0;36mset_trait\u001B[1;34m(self, name, value)\u001B[0m\n\u001B[0;32m   1436\u001B[0m                                 (cls.__name__, name))\n\u001B[0;32m   1437\u001B[0m         \u001B[1;32melse\u001B[0m\u001B[1;33m:\u001B[0m\u001B[1;33m\u001B[0m\u001B[1;33m\u001B[0m\u001B[0m\n\u001B[1;32m-> 1438\u001B[1;33m             \u001B[0mgetattr\u001B[0m\u001B[1;33m(\u001B[0m\u001B[0mcls\u001B[0m\u001B[1;33m,\u001B[0m \u001B[0mname\u001B[0m\u001B[1;33m)\u001B[0m\u001B[1;33m.\u001B[0m\u001B[0mset\u001B[0m\u001B[1;33m(\u001B[0m\u001B[0mself\u001B[0m\u001B[1;33m,\u001B[0m \u001B[0mvalue\u001B[0m\u001B[1;33m)\u001B[0m\u001B[1;33m\u001B[0m\u001B[1;33m\u001B[0m\u001B[0m\n\u001B[0m\u001B[0;32m   1439\u001B[0m \u001B[1;33m\u001B[0m\u001B[0m\n\u001B[0;32m   1440\u001B[0m     \u001B[1;33m@\u001B[0m\u001B[0mclassmethod\u001B[0m\u001B[1;33m\u001B[0m\u001B[1;33m\u001B[0m\u001B[0m\n",
      "\u001B[1;32mD:\\Code_base\\anaconda\\envs\\GEE\\lib\\site-packages\\traitlets\\traitlets.py\u001B[0m in \u001B[0;36mset\u001B[1;34m(self, obj, value)\u001B[0m\n\u001B[0;32m    578\u001B[0m \u001B[1;33m\u001B[0m\u001B[0m\n\u001B[0;32m    579\u001B[0m     \u001B[1;32mdef\u001B[0m \u001B[0mset\u001B[0m\u001B[1;33m(\u001B[0m\u001B[0mself\u001B[0m\u001B[1;33m,\u001B[0m \u001B[0mobj\u001B[0m\u001B[1;33m,\u001B[0m \u001B[0mvalue\u001B[0m\u001B[1;33m)\u001B[0m\u001B[1;33m:\u001B[0m\u001B[1;33m\u001B[0m\u001B[1;33m\u001B[0m\u001B[0m\n\u001B[1;32m--> 580\u001B[1;33m         \u001B[0mnew_value\u001B[0m \u001B[1;33m=\u001B[0m \u001B[0mself\u001B[0m\u001B[1;33m.\u001B[0m\u001B[0m_validate\u001B[0m\u001B[1;33m(\u001B[0m\u001B[0mobj\u001B[0m\u001B[1;33m,\u001B[0m \u001B[0mvalue\u001B[0m\u001B[1;33m)\u001B[0m\u001B[1;33m\u001B[0m\u001B[1;33m\u001B[0m\u001B[0m\n\u001B[0m\u001B[0;32m    581\u001B[0m         \u001B[1;32mtry\u001B[0m\u001B[1;33m:\u001B[0m\u001B[1;33m\u001B[0m\u001B[1;33m\u001B[0m\u001B[0m\n\u001B[0;32m    582\u001B[0m             \u001B[0mold_value\u001B[0m \u001B[1;33m=\u001B[0m \u001B[0mobj\u001B[0m\u001B[1;33m.\u001B[0m\u001B[0m_trait_values\u001B[0m\u001B[1;33m[\u001B[0m\u001B[0mself\u001B[0m\u001B[1;33m.\u001B[0m\u001B[0mname\u001B[0m\u001B[1;33m]\u001B[0m\u001B[1;33m\u001B[0m\u001B[1;33m\u001B[0m\u001B[0m\n",
      "\u001B[1;32mD:\\Code_base\\anaconda\\envs\\GEE\\lib\\site-packages\\traitlets\\traitlets.py\u001B[0m in \u001B[0;36m_validate\u001B[1;34m(self, obj, value)\u001B[0m\n\u001B[0;32m    610\u001B[0m             \u001B[1;32mreturn\u001B[0m \u001B[0mvalue\u001B[0m\u001B[1;33m\u001B[0m\u001B[1;33m\u001B[0m\u001B[0m\n\u001B[0;32m    611\u001B[0m         \u001B[1;32mif\u001B[0m \u001B[0mhasattr\u001B[0m\u001B[1;33m(\u001B[0m\u001B[0mself\u001B[0m\u001B[1;33m,\u001B[0m \u001B[1;34m'validate'\u001B[0m\u001B[1;33m)\u001B[0m\u001B[1;33m:\u001B[0m\u001B[1;33m\u001B[0m\u001B[1;33m\u001B[0m\u001B[0m\n\u001B[1;32m--> 612\u001B[1;33m             \u001B[0mvalue\u001B[0m \u001B[1;33m=\u001B[0m \u001B[0mself\u001B[0m\u001B[1;33m.\u001B[0m\u001B[0mvalidate\u001B[0m\u001B[1;33m(\u001B[0m\u001B[0mobj\u001B[0m\u001B[1;33m,\u001B[0m \u001B[0mvalue\u001B[0m\u001B[1;33m)\u001B[0m\u001B[1;33m\u001B[0m\u001B[1;33m\u001B[0m\u001B[0m\n\u001B[0m\u001B[0;32m    613\u001B[0m         \u001B[1;32mif\u001B[0m \u001B[0mobj\u001B[0m\u001B[1;33m.\u001B[0m\u001B[0m_cross_validation_lock\u001B[0m \u001B[1;32mis\u001B[0m \u001B[1;32mFalse\u001B[0m\u001B[1;33m:\u001B[0m\u001B[1;33m\u001B[0m\u001B[1;33m\u001B[0m\u001B[0m\n\u001B[0;32m    614\u001B[0m             \u001B[0mvalue\u001B[0m \u001B[1;33m=\u001B[0m \u001B[0mself\u001B[0m\u001B[1;33m.\u001B[0m\u001B[0m_cross_validate\u001B[0m\u001B[1;33m(\u001B[0m\u001B[0mobj\u001B[0m\u001B[1;33m,\u001B[0m \u001B[0mvalue\u001B[0m\u001B[1;33m)\u001B[0m\u001B[1;33m\u001B[0m\u001B[1;33m\u001B[0m\u001B[0m\n",
      "\u001B[1;32mD:\\Code_base\\anaconda\\envs\\GEE\\lib\\site-packages\\traitlets\\traitlets.py\u001B[0m in \u001B[0;36mvalidate\u001B[1;34m(self, obj, value)\u001B[0m\n\u001B[0;32m   2084\u001B[0m             \u001B[0mvalue\u001B[0m \u001B[1;33m=\u001B[0m \u001B[0mfloat\u001B[0m\u001B[1;33m(\u001B[0m\u001B[0mvalue\u001B[0m\u001B[1;33m)\u001B[0m\u001B[1;33m\u001B[0m\u001B[1;33m\u001B[0m\u001B[0m\n\u001B[0;32m   2085\u001B[0m         \u001B[1;32mif\u001B[0m \u001B[1;32mnot\u001B[0m \u001B[0misinstance\u001B[0m\u001B[1;33m(\u001B[0m\u001B[0mvalue\u001B[0m\u001B[1;33m,\u001B[0m \u001B[0mfloat\u001B[0m\u001B[1;33m)\u001B[0m\u001B[1;33m:\u001B[0m\u001B[1;33m\u001B[0m\u001B[1;33m\u001B[0m\u001B[0m\n\u001B[1;32m-> 2086\u001B[1;33m             \u001B[0mself\u001B[0m\u001B[1;33m.\u001B[0m\u001B[0merror\u001B[0m\u001B[1;33m(\u001B[0m\u001B[0mobj\u001B[0m\u001B[1;33m,\u001B[0m \u001B[0mvalue\u001B[0m\u001B[1;33m)\u001B[0m\u001B[1;33m\u001B[0m\u001B[1;33m\u001B[0m\u001B[0m\n\u001B[0m\u001B[0;32m   2087\u001B[0m         \u001B[1;32mreturn\u001B[0m \u001B[0m_validate_bounds\u001B[0m\u001B[1;33m(\u001B[0m\u001B[0mself\u001B[0m\u001B[1;33m,\u001B[0m \u001B[0mobj\u001B[0m\u001B[1;33m,\u001B[0m \u001B[0mvalue\u001B[0m\u001B[1;33m)\u001B[0m\u001B[1;33m\u001B[0m\u001B[1;33m\u001B[0m\u001B[0m\n\u001B[0;32m   2088\u001B[0m \u001B[1;33m\u001B[0m\u001B[0m\n",
      "\u001B[1;32mD:\\Code_base\\anaconda\\envs\\GEE\\lib\\site-packages\\traitlets\\traitlets.py\u001B[0m in \u001B[0;36merror\u001B[1;34m(self, obj, value, error, info)\u001B[0m\n\u001B[0;32m    690\u001B[0m                     e = \"The '%s' trait expected %s, not %s.\" % (\n\u001B[0;32m    691\u001B[0m                         self.name, self.info(), describe(\"the\", value))\n\u001B[1;32m--> 692\u001B[1;33m                 \u001B[1;32mraise\u001B[0m \u001B[0mTraitError\u001B[0m\u001B[1;33m(\u001B[0m\u001B[0me\u001B[0m\u001B[1;33m)\u001B[0m\u001B[1;33m\u001B[0m\u001B[1;33m\u001B[0m\u001B[0m\n\u001B[0m\u001B[0;32m    693\u001B[0m \u001B[1;33m\u001B[0m\u001B[0m\n\u001B[0;32m    694\u001B[0m     \u001B[1;32mdef\u001B[0m \u001B[0mget_metadata\u001B[0m\u001B[1;33m(\u001B[0m\u001B[0mself\u001B[0m\u001B[1;33m,\u001B[0m \u001B[0mkey\u001B[0m\u001B[1;33m,\u001B[0m \u001B[0mdefault\u001B[0m\u001B[1;33m=\u001B[0m\u001B[1;32mNone\u001B[0m\u001B[1;33m)\u001B[0m\u001B[1;33m:\u001B[0m\u001B[1;33m\u001B[0m\u001B[1;33m\u001B[0m\u001B[0m\n",
      "\u001B[1;31mTraitError\u001B[0m: The 'east' trait of a Map instance expected a float, not the NoneType None."
     ]
    },
    {
     "ename": "TraitError",
     "evalue": "The 'east' trait of a Map instance expected a float, not the NoneType None.",
     "output_type": "error",
     "traceback": [
      "\u001B[1;31m---------------------------------------------------------------------------\u001B[0m",
      "\u001B[1;31mTraitError\u001B[0m                                Traceback (most recent call last)",
      "\u001B[1;32mD:\\Code_base\\anaconda\\envs\\GEE\\lib\\site-packages\\ipywidgets\\widgets\\widget.py\u001B[0m in \u001B[0;36m_handle_msg\u001B[1;34m(self, msg)\u001B[0m\n\u001B[0;32m    674\u001B[0m                 \u001B[1;32mif\u001B[0m \u001B[1;34m'buffer_paths'\u001B[0m \u001B[1;32min\u001B[0m \u001B[0mdata\u001B[0m\u001B[1;33m:\u001B[0m\u001B[1;33m\u001B[0m\u001B[1;33m\u001B[0m\u001B[0m\n\u001B[0;32m    675\u001B[0m                     \u001B[0m_put_buffers\u001B[0m\u001B[1;33m(\u001B[0m\u001B[0mstate\u001B[0m\u001B[1;33m,\u001B[0m \u001B[0mdata\u001B[0m\u001B[1;33m[\u001B[0m\u001B[1;34m'buffer_paths'\u001B[0m\u001B[1;33m]\u001B[0m\u001B[1;33m,\u001B[0m \u001B[0mmsg\u001B[0m\u001B[1;33m[\u001B[0m\u001B[1;34m'buffers'\u001B[0m\u001B[1;33m]\u001B[0m\u001B[1;33m)\u001B[0m\u001B[1;33m\u001B[0m\u001B[1;33m\u001B[0m\u001B[0m\n\u001B[1;32m--> 676\u001B[1;33m                 \u001B[0mself\u001B[0m\u001B[1;33m.\u001B[0m\u001B[0mset_state\u001B[0m\u001B[1;33m(\u001B[0m\u001B[0mstate\u001B[0m\u001B[1;33m)\u001B[0m\u001B[1;33m\u001B[0m\u001B[1;33m\u001B[0m\u001B[0m\n\u001B[0m\u001B[0;32m    677\u001B[0m \u001B[1;33m\u001B[0m\u001B[0m\n\u001B[0;32m    678\u001B[0m         \u001B[1;31m# Handle a state request.\u001B[0m\u001B[1;33m\u001B[0m\u001B[1;33m\u001B[0m\u001B[0m\n",
      "\u001B[1;32mD:\\Code_base\\anaconda\\envs\\GEE\\lib\\site-packages\\ipywidgets\\widgets\\widget.py\u001B[0m in \u001B[0;36mset_state\u001B[1;34m(self, sync_data)\u001B[0m\n\u001B[0;32m    543\u001B[0m                     from_json = self.trait_metadata(name, 'from_json',\n\u001B[0;32m    544\u001B[0m                                                     self._trait_from_json)\n\u001B[1;32m--> 545\u001B[1;33m                     \u001B[0mself\u001B[0m\u001B[1;33m.\u001B[0m\u001B[0mset_trait\u001B[0m\u001B[1;33m(\u001B[0m\u001B[0mname\u001B[0m\u001B[1;33m,\u001B[0m \u001B[0mfrom_json\u001B[0m\u001B[1;33m(\u001B[0m\u001B[0msync_data\u001B[0m\u001B[1;33m[\u001B[0m\u001B[0mname\u001B[0m\u001B[1;33m]\u001B[0m\u001B[1;33m,\u001B[0m \u001B[0mself\u001B[0m\u001B[1;33m)\u001B[0m\u001B[1;33m)\u001B[0m\u001B[1;33m\u001B[0m\u001B[1;33m\u001B[0m\u001B[0m\n\u001B[0m\u001B[0;32m    546\u001B[0m \u001B[1;33m\u001B[0m\u001B[0m\n\u001B[0;32m    547\u001B[0m     \u001B[1;32mdef\u001B[0m \u001B[0msend\u001B[0m\u001B[1;33m(\u001B[0m\u001B[0mself\u001B[0m\u001B[1;33m,\u001B[0m \u001B[0mcontent\u001B[0m\u001B[1;33m,\u001B[0m \u001B[0mbuffers\u001B[0m\u001B[1;33m=\u001B[0m\u001B[1;32mNone\u001B[0m\u001B[1;33m)\u001B[0m\u001B[1;33m:\u001B[0m\u001B[1;33m\u001B[0m\u001B[1;33m\u001B[0m\u001B[0m\n",
      "\u001B[1;32mD:\\Code_base\\anaconda\\envs\\GEE\\lib\\site-packages\\traitlets\\traitlets.py\u001B[0m in \u001B[0;36mset_trait\u001B[1;34m(self, name, value)\u001B[0m\n\u001B[0;32m   1436\u001B[0m                                 (cls.__name__, name))\n\u001B[0;32m   1437\u001B[0m         \u001B[1;32melse\u001B[0m\u001B[1;33m:\u001B[0m\u001B[1;33m\u001B[0m\u001B[1;33m\u001B[0m\u001B[0m\n\u001B[1;32m-> 1438\u001B[1;33m             \u001B[0mgetattr\u001B[0m\u001B[1;33m(\u001B[0m\u001B[0mcls\u001B[0m\u001B[1;33m,\u001B[0m \u001B[0mname\u001B[0m\u001B[1;33m)\u001B[0m\u001B[1;33m.\u001B[0m\u001B[0mset\u001B[0m\u001B[1;33m(\u001B[0m\u001B[0mself\u001B[0m\u001B[1;33m,\u001B[0m \u001B[0mvalue\u001B[0m\u001B[1;33m)\u001B[0m\u001B[1;33m\u001B[0m\u001B[1;33m\u001B[0m\u001B[0m\n\u001B[0m\u001B[0;32m   1439\u001B[0m \u001B[1;33m\u001B[0m\u001B[0m\n\u001B[0;32m   1440\u001B[0m     \u001B[1;33m@\u001B[0m\u001B[0mclassmethod\u001B[0m\u001B[1;33m\u001B[0m\u001B[1;33m\u001B[0m\u001B[0m\n",
      "\u001B[1;32mD:\\Code_base\\anaconda\\envs\\GEE\\lib\\site-packages\\traitlets\\traitlets.py\u001B[0m in \u001B[0;36mset\u001B[1;34m(self, obj, value)\u001B[0m\n\u001B[0;32m    578\u001B[0m \u001B[1;33m\u001B[0m\u001B[0m\n\u001B[0;32m    579\u001B[0m     \u001B[1;32mdef\u001B[0m \u001B[0mset\u001B[0m\u001B[1;33m(\u001B[0m\u001B[0mself\u001B[0m\u001B[1;33m,\u001B[0m \u001B[0mobj\u001B[0m\u001B[1;33m,\u001B[0m \u001B[0mvalue\u001B[0m\u001B[1;33m)\u001B[0m\u001B[1;33m:\u001B[0m\u001B[1;33m\u001B[0m\u001B[1;33m\u001B[0m\u001B[0m\n\u001B[1;32m--> 580\u001B[1;33m         \u001B[0mnew_value\u001B[0m \u001B[1;33m=\u001B[0m \u001B[0mself\u001B[0m\u001B[1;33m.\u001B[0m\u001B[0m_validate\u001B[0m\u001B[1;33m(\u001B[0m\u001B[0mobj\u001B[0m\u001B[1;33m,\u001B[0m \u001B[0mvalue\u001B[0m\u001B[1;33m)\u001B[0m\u001B[1;33m\u001B[0m\u001B[1;33m\u001B[0m\u001B[0m\n\u001B[0m\u001B[0;32m    581\u001B[0m         \u001B[1;32mtry\u001B[0m\u001B[1;33m:\u001B[0m\u001B[1;33m\u001B[0m\u001B[1;33m\u001B[0m\u001B[0m\n\u001B[0;32m    582\u001B[0m             \u001B[0mold_value\u001B[0m \u001B[1;33m=\u001B[0m \u001B[0mobj\u001B[0m\u001B[1;33m.\u001B[0m\u001B[0m_trait_values\u001B[0m\u001B[1;33m[\u001B[0m\u001B[0mself\u001B[0m\u001B[1;33m.\u001B[0m\u001B[0mname\u001B[0m\u001B[1;33m]\u001B[0m\u001B[1;33m\u001B[0m\u001B[1;33m\u001B[0m\u001B[0m\n",
      "\u001B[1;32mD:\\Code_base\\anaconda\\envs\\GEE\\lib\\site-packages\\traitlets\\traitlets.py\u001B[0m in \u001B[0;36m_validate\u001B[1;34m(self, obj, value)\u001B[0m\n\u001B[0;32m    610\u001B[0m             \u001B[1;32mreturn\u001B[0m \u001B[0mvalue\u001B[0m\u001B[1;33m\u001B[0m\u001B[1;33m\u001B[0m\u001B[0m\n\u001B[0;32m    611\u001B[0m         \u001B[1;32mif\u001B[0m \u001B[0mhasattr\u001B[0m\u001B[1;33m(\u001B[0m\u001B[0mself\u001B[0m\u001B[1;33m,\u001B[0m \u001B[1;34m'validate'\u001B[0m\u001B[1;33m)\u001B[0m\u001B[1;33m:\u001B[0m\u001B[1;33m\u001B[0m\u001B[1;33m\u001B[0m\u001B[0m\n\u001B[1;32m--> 612\u001B[1;33m             \u001B[0mvalue\u001B[0m \u001B[1;33m=\u001B[0m \u001B[0mself\u001B[0m\u001B[1;33m.\u001B[0m\u001B[0mvalidate\u001B[0m\u001B[1;33m(\u001B[0m\u001B[0mobj\u001B[0m\u001B[1;33m,\u001B[0m \u001B[0mvalue\u001B[0m\u001B[1;33m)\u001B[0m\u001B[1;33m\u001B[0m\u001B[1;33m\u001B[0m\u001B[0m\n\u001B[0m\u001B[0;32m    613\u001B[0m         \u001B[1;32mif\u001B[0m \u001B[0mobj\u001B[0m\u001B[1;33m.\u001B[0m\u001B[0m_cross_validation_lock\u001B[0m \u001B[1;32mis\u001B[0m \u001B[1;32mFalse\u001B[0m\u001B[1;33m:\u001B[0m\u001B[1;33m\u001B[0m\u001B[1;33m\u001B[0m\u001B[0m\n\u001B[0;32m    614\u001B[0m             \u001B[0mvalue\u001B[0m \u001B[1;33m=\u001B[0m \u001B[0mself\u001B[0m\u001B[1;33m.\u001B[0m\u001B[0m_cross_validate\u001B[0m\u001B[1;33m(\u001B[0m\u001B[0mobj\u001B[0m\u001B[1;33m,\u001B[0m \u001B[0mvalue\u001B[0m\u001B[1;33m)\u001B[0m\u001B[1;33m\u001B[0m\u001B[1;33m\u001B[0m\u001B[0m\n",
      "\u001B[1;32mD:\\Code_base\\anaconda\\envs\\GEE\\lib\\site-packages\\traitlets\\traitlets.py\u001B[0m in \u001B[0;36mvalidate\u001B[1;34m(self, obj, value)\u001B[0m\n\u001B[0;32m   2084\u001B[0m             \u001B[0mvalue\u001B[0m \u001B[1;33m=\u001B[0m \u001B[0mfloat\u001B[0m\u001B[1;33m(\u001B[0m\u001B[0mvalue\u001B[0m\u001B[1;33m)\u001B[0m\u001B[1;33m\u001B[0m\u001B[1;33m\u001B[0m\u001B[0m\n\u001B[0;32m   2085\u001B[0m         \u001B[1;32mif\u001B[0m \u001B[1;32mnot\u001B[0m \u001B[0misinstance\u001B[0m\u001B[1;33m(\u001B[0m\u001B[0mvalue\u001B[0m\u001B[1;33m,\u001B[0m \u001B[0mfloat\u001B[0m\u001B[1;33m)\u001B[0m\u001B[1;33m:\u001B[0m\u001B[1;33m\u001B[0m\u001B[1;33m\u001B[0m\u001B[0m\n\u001B[1;32m-> 2086\u001B[1;33m             \u001B[0mself\u001B[0m\u001B[1;33m.\u001B[0m\u001B[0merror\u001B[0m\u001B[1;33m(\u001B[0m\u001B[0mobj\u001B[0m\u001B[1;33m,\u001B[0m \u001B[0mvalue\u001B[0m\u001B[1;33m)\u001B[0m\u001B[1;33m\u001B[0m\u001B[1;33m\u001B[0m\u001B[0m\n\u001B[0m\u001B[0;32m   2087\u001B[0m         \u001B[1;32mreturn\u001B[0m \u001B[0m_validate_bounds\u001B[0m\u001B[1;33m(\u001B[0m\u001B[0mself\u001B[0m\u001B[1;33m,\u001B[0m \u001B[0mobj\u001B[0m\u001B[1;33m,\u001B[0m \u001B[0mvalue\u001B[0m\u001B[1;33m)\u001B[0m\u001B[1;33m\u001B[0m\u001B[1;33m\u001B[0m\u001B[0m\n\u001B[0;32m   2088\u001B[0m \u001B[1;33m\u001B[0m\u001B[0m\n",
      "\u001B[1;32mD:\\Code_base\\anaconda\\envs\\GEE\\lib\\site-packages\\traitlets\\traitlets.py\u001B[0m in \u001B[0;36merror\u001B[1;34m(self, obj, value, error, info)\u001B[0m\n\u001B[0;32m    690\u001B[0m                     e = \"The '%s' trait expected %s, not %s.\" % (\n\u001B[0;32m    691\u001B[0m                         self.name, self.info(), describe(\"the\", value))\n\u001B[1;32m--> 692\u001B[1;33m                 \u001B[1;32mraise\u001B[0m \u001B[0mTraitError\u001B[0m\u001B[1;33m(\u001B[0m\u001B[0me\u001B[0m\u001B[1;33m)\u001B[0m\u001B[1;33m\u001B[0m\u001B[1;33m\u001B[0m\u001B[0m\n\u001B[0m\u001B[0;32m    693\u001B[0m \u001B[1;33m\u001B[0m\u001B[0m\n\u001B[0;32m    694\u001B[0m     \u001B[1;32mdef\u001B[0m \u001B[0mget_metadata\u001B[0m\u001B[1;33m(\u001B[0m\u001B[0mself\u001B[0m\u001B[1;33m,\u001B[0m \u001B[0mkey\u001B[0m\u001B[1;33m,\u001B[0m \u001B[0mdefault\u001B[0m\u001B[1;33m=\u001B[0m\u001B[1;32mNone\u001B[0m\u001B[1;33m)\u001B[0m\u001B[1;33m:\u001B[0m\u001B[1;33m\u001B[0m\u001B[1;33m\u001B[0m\u001B[0m\n",
      "\u001B[1;31mTraitError\u001B[0m: The 'east' trait of a Map instance expected a float, not the NoneType None."
     ]
    },
    {
     "ename": "TraitError",
     "evalue": "The 'east' trait of a Map instance expected a float, not the NoneType None.",
     "output_type": "error",
     "traceback": [
      "\u001B[1;31m---------------------------------------------------------------------------\u001B[0m",
      "\u001B[1;31mTraitError\u001B[0m                                Traceback (most recent call last)",
      "\u001B[1;32mD:\\Code_base\\anaconda\\envs\\GEE\\lib\\site-packages\\ipywidgets\\widgets\\widget.py\u001B[0m in \u001B[0;36m_handle_msg\u001B[1;34m(self, msg)\u001B[0m\n\u001B[0;32m    674\u001B[0m                 \u001B[1;32mif\u001B[0m \u001B[1;34m'buffer_paths'\u001B[0m \u001B[1;32min\u001B[0m \u001B[0mdata\u001B[0m\u001B[1;33m:\u001B[0m\u001B[1;33m\u001B[0m\u001B[1;33m\u001B[0m\u001B[0m\n\u001B[0;32m    675\u001B[0m                     \u001B[0m_put_buffers\u001B[0m\u001B[1;33m(\u001B[0m\u001B[0mstate\u001B[0m\u001B[1;33m,\u001B[0m \u001B[0mdata\u001B[0m\u001B[1;33m[\u001B[0m\u001B[1;34m'buffer_paths'\u001B[0m\u001B[1;33m]\u001B[0m\u001B[1;33m,\u001B[0m \u001B[0mmsg\u001B[0m\u001B[1;33m[\u001B[0m\u001B[1;34m'buffers'\u001B[0m\u001B[1;33m]\u001B[0m\u001B[1;33m)\u001B[0m\u001B[1;33m\u001B[0m\u001B[1;33m\u001B[0m\u001B[0m\n\u001B[1;32m--> 676\u001B[1;33m                 \u001B[0mself\u001B[0m\u001B[1;33m.\u001B[0m\u001B[0mset_state\u001B[0m\u001B[1;33m(\u001B[0m\u001B[0mstate\u001B[0m\u001B[1;33m)\u001B[0m\u001B[1;33m\u001B[0m\u001B[1;33m\u001B[0m\u001B[0m\n\u001B[0m\u001B[0;32m    677\u001B[0m \u001B[1;33m\u001B[0m\u001B[0m\n\u001B[0;32m    678\u001B[0m         \u001B[1;31m# Handle a state request.\u001B[0m\u001B[1;33m\u001B[0m\u001B[1;33m\u001B[0m\u001B[0m\n",
      "\u001B[1;32mD:\\Code_base\\anaconda\\envs\\GEE\\lib\\site-packages\\ipywidgets\\widgets\\widget.py\u001B[0m in \u001B[0;36mset_state\u001B[1;34m(self, sync_data)\u001B[0m\n\u001B[0;32m    543\u001B[0m                     from_json = self.trait_metadata(name, 'from_json',\n\u001B[0;32m    544\u001B[0m                                                     self._trait_from_json)\n\u001B[1;32m--> 545\u001B[1;33m                     \u001B[0mself\u001B[0m\u001B[1;33m.\u001B[0m\u001B[0mset_trait\u001B[0m\u001B[1;33m(\u001B[0m\u001B[0mname\u001B[0m\u001B[1;33m,\u001B[0m \u001B[0mfrom_json\u001B[0m\u001B[1;33m(\u001B[0m\u001B[0msync_data\u001B[0m\u001B[1;33m[\u001B[0m\u001B[0mname\u001B[0m\u001B[1;33m]\u001B[0m\u001B[1;33m,\u001B[0m \u001B[0mself\u001B[0m\u001B[1;33m)\u001B[0m\u001B[1;33m)\u001B[0m\u001B[1;33m\u001B[0m\u001B[1;33m\u001B[0m\u001B[0m\n\u001B[0m\u001B[0;32m    546\u001B[0m \u001B[1;33m\u001B[0m\u001B[0m\n\u001B[0;32m    547\u001B[0m     \u001B[1;32mdef\u001B[0m \u001B[0msend\u001B[0m\u001B[1;33m(\u001B[0m\u001B[0mself\u001B[0m\u001B[1;33m,\u001B[0m \u001B[0mcontent\u001B[0m\u001B[1;33m,\u001B[0m \u001B[0mbuffers\u001B[0m\u001B[1;33m=\u001B[0m\u001B[1;32mNone\u001B[0m\u001B[1;33m)\u001B[0m\u001B[1;33m:\u001B[0m\u001B[1;33m\u001B[0m\u001B[1;33m\u001B[0m\u001B[0m\n",
      "\u001B[1;32mD:\\Code_base\\anaconda\\envs\\GEE\\lib\\site-packages\\traitlets\\traitlets.py\u001B[0m in \u001B[0;36mset_trait\u001B[1;34m(self, name, value)\u001B[0m\n\u001B[0;32m   1436\u001B[0m                                 (cls.__name__, name))\n\u001B[0;32m   1437\u001B[0m         \u001B[1;32melse\u001B[0m\u001B[1;33m:\u001B[0m\u001B[1;33m\u001B[0m\u001B[1;33m\u001B[0m\u001B[0m\n\u001B[1;32m-> 1438\u001B[1;33m             \u001B[0mgetattr\u001B[0m\u001B[1;33m(\u001B[0m\u001B[0mcls\u001B[0m\u001B[1;33m,\u001B[0m \u001B[0mname\u001B[0m\u001B[1;33m)\u001B[0m\u001B[1;33m.\u001B[0m\u001B[0mset\u001B[0m\u001B[1;33m(\u001B[0m\u001B[0mself\u001B[0m\u001B[1;33m,\u001B[0m \u001B[0mvalue\u001B[0m\u001B[1;33m)\u001B[0m\u001B[1;33m\u001B[0m\u001B[1;33m\u001B[0m\u001B[0m\n\u001B[0m\u001B[0;32m   1439\u001B[0m \u001B[1;33m\u001B[0m\u001B[0m\n\u001B[0;32m   1440\u001B[0m     \u001B[1;33m@\u001B[0m\u001B[0mclassmethod\u001B[0m\u001B[1;33m\u001B[0m\u001B[1;33m\u001B[0m\u001B[0m\n",
      "\u001B[1;32mD:\\Code_base\\anaconda\\envs\\GEE\\lib\\site-packages\\traitlets\\traitlets.py\u001B[0m in \u001B[0;36mset\u001B[1;34m(self, obj, value)\u001B[0m\n\u001B[0;32m    578\u001B[0m \u001B[1;33m\u001B[0m\u001B[0m\n\u001B[0;32m    579\u001B[0m     \u001B[1;32mdef\u001B[0m \u001B[0mset\u001B[0m\u001B[1;33m(\u001B[0m\u001B[0mself\u001B[0m\u001B[1;33m,\u001B[0m \u001B[0mobj\u001B[0m\u001B[1;33m,\u001B[0m \u001B[0mvalue\u001B[0m\u001B[1;33m)\u001B[0m\u001B[1;33m:\u001B[0m\u001B[1;33m\u001B[0m\u001B[1;33m\u001B[0m\u001B[0m\n\u001B[1;32m--> 580\u001B[1;33m         \u001B[0mnew_value\u001B[0m \u001B[1;33m=\u001B[0m \u001B[0mself\u001B[0m\u001B[1;33m.\u001B[0m\u001B[0m_validate\u001B[0m\u001B[1;33m(\u001B[0m\u001B[0mobj\u001B[0m\u001B[1;33m,\u001B[0m \u001B[0mvalue\u001B[0m\u001B[1;33m)\u001B[0m\u001B[1;33m\u001B[0m\u001B[1;33m\u001B[0m\u001B[0m\n\u001B[0m\u001B[0;32m    581\u001B[0m         \u001B[1;32mtry\u001B[0m\u001B[1;33m:\u001B[0m\u001B[1;33m\u001B[0m\u001B[1;33m\u001B[0m\u001B[0m\n\u001B[0;32m    582\u001B[0m             \u001B[0mold_value\u001B[0m \u001B[1;33m=\u001B[0m \u001B[0mobj\u001B[0m\u001B[1;33m.\u001B[0m\u001B[0m_trait_values\u001B[0m\u001B[1;33m[\u001B[0m\u001B[0mself\u001B[0m\u001B[1;33m.\u001B[0m\u001B[0mname\u001B[0m\u001B[1;33m]\u001B[0m\u001B[1;33m\u001B[0m\u001B[1;33m\u001B[0m\u001B[0m\n",
      "\u001B[1;32mD:\\Code_base\\anaconda\\envs\\GEE\\lib\\site-packages\\traitlets\\traitlets.py\u001B[0m in \u001B[0;36m_validate\u001B[1;34m(self, obj, value)\u001B[0m\n\u001B[0;32m    610\u001B[0m             \u001B[1;32mreturn\u001B[0m \u001B[0mvalue\u001B[0m\u001B[1;33m\u001B[0m\u001B[1;33m\u001B[0m\u001B[0m\n\u001B[0;32m    611\u001B[0m         \u001B[1;32mif\u001B[0m \u001B[0mhasattr\u001B[0m\u001B[1;33m(\u001B[0m\u001B[0mself\u001B[0m\u001B[1;33m,\u001B[0m \u001B[1;34m'validate'\u001B[0m\u001B[1;33m)\u001B[0m\u001B[1;33m:\u001B[0m\u001B[1;33m\u001B[0m\u001B[1;33m\u001B[0m\u001B[0m\n\u001B[1;32m--> 612\u001B[1;33m             \u001B[0mvalue\u001B[0m \u001B[1;33m=\u001B[0m \u001B[0mself\u001B[0m\u001B[1;33m.\u001B[0m\u001B[0mvalidate\u001B[0m\u001B[1;33m(\u001B[0m\u001B[0mobj\u001B[0m\u001B[1;33m,\u001B[0m \u001B[0mvalue\u001B[0m\u001B[1;33m)\u001B[0m\u001B[1;33m\u001B[0m\u001B[1;33m\u001B[0m\u001B[0m\n\u001B[0m\u001B[0;32m    613\u001B[0m         \u001B[1;32mif\u001B[0m \u001B[0mobj\u001B[0m\u001B[1;33m.\u001B[0m\u001B[0m_cross_validation_lock\u001B[0m \u001B[1;32mis\u001B[0m \u001B[1;32mFalse\u001B[0m\u001B[1;33m:\u001B[0m\u001B[1;33m\u001B[0m\u001B[1;33m\u001B[0m\u001B[0m\n\u001B[0;32m    614\u001B[0m             \u001B[0mvalue\u001B[0m \u001B[1;33m=\u001B[0m \u001B[0mself\u001B[0m\u001B[1;33m.\u001B[0m\u001B[0m_cross_validate\u001B[0m\u001B[1;33m(\u001B[0m\u001B[0mobj\u001B[0m\u001B[1;33m,\u001B[0m \u001B[0mvalue\u001B[0m\u001B[1;33m)\u001B[0m\u001B[1;33m\u001B[0m\u001B[1;33m\u001B[0m\u001B[0m\n",
      "\u001B[1;32mD:\\Code_base\\anaconda\\envs\\GEE\\lib\\site-packages\\traitlets\\traitlets.py\u001B[0m in \u001B[0;36mvalidate\u001B[1;34m(self, obj, value)\u001B[0m\n\u001B[0;32m   2084\u001B[0m             \u001B[0mvalue\u001B[0m \u001B[1;33m=\u001B[0m \u001B[0mfloat\u001B[0m\u001B[1;33m(\u001B[0m\u001B[0mvalue\u001B[0m\u001B[1;33m)\u001B[0m\u001B[1;33m\u001B[0m\u001B[1;33m\u001B[0m\u001B[0m\n\u001B[0;32m   2085\u001B[0m         \u001B[1;32mif\u001B[0m \u001B[1;32mnot\u001B[0m \u001B[0misinstance\u001B[0m\u001B[1;33m(\u001B[0m\u001B[0mvalue\u001B[0m\u001B[1;33m,\u001B[0m \u001B[0mfloat\u001B[0m\u001B[1;33m)\u001B[0m\u001B[1;33m:\u001B[0m\u001B[1;33m\u001B[0m\u001B[1;33m\u001B[0m\u001B[0m\n\u001B[1;32m-> 2086\u001B[1;33m             \u001B[0mself\u001B[0m\u001B[1;33m.\u001B[0m\u001B[0merror\u001B[0m\u001B[1;33m(\u001B[0m\u001B[0mobj\u001B[0m\u001B[1;33m,\u001B[0m \u001B[0mvalue\u001B[0m\u001B[1;33m)\u001B[0m\u001B[1;33m\u001B[0m\u001B[1;33m\u001B[0m\u001B[0m\n\u001B[0m\u001B[0;32m   2087\u001B[0m         \u001B[1;32mreturn\u001B[0m \u001B[0m_validate_bounds\u001B[0m\u001B[1;33m(\u001B[0m\u001B[0mself\u001B[0m\u001B[1;33m,\u001B[0m \u001B[0mobj\u001B[0m\u001B[1;33m,\u001B[0m \u001B[0mvalue\u001B[0m\u001B[1;33m)\u001B[0m\u001B[1;33m\u001B[0m\u001B[1;33m\u001B[0m\u001B[0m\n\u001B[0;32m   2088\u001B[0m \u001B[1;33m\u001B[0m\u001B[0m\n",
      "\u001B[1;32mD:\\Code_base\\anaconda\\envs\\GEE\\lib\\site-packages\\traitlets\\traitlets.py\u001B[0m in \u001B[0;36merror\u001B[1;34m(self, obj, value, error, info)\u001B[0m\n\u001B[0;32m    690\u001B[0m                     e = \"The '%s' trait expected %s, not %s.\" % (\n\u001B[0;32m    691\u001B[0m                         self.name, self.info(), describe(\"the\", value))\n\u001B[1;32m--> 692\u001B[1;33m                 \u001B[1;32mraise\u001B[0m \u001B[0mTraitError\u001B[0m\u001B[1;33m(\u001B[0m\u001B[0me\u001B[0m\u001B[1;33m)\u001B[0m\u001B[1;33m\u001B[0m\u001B[1;33m\u001B[0m\u001B[0m\n\u001B[0m\u001B[0;32m    693\u001B[0m \u001B[1;33m\u001B[0m\u001B[0m\n\u001B[0;32m    694\u001B[0m     \u001B[1;32mdef\u001B[0m \u001B[0mget_metadata\u001B[0m\u001B[1;33m(\u001B[0m\u001B[0mself\u001B[0m\u001B[1;33m,\u001B[0m \u001B[0mkey\u001B[0m\u001B[1;33m,\u001B[0m \u001B[0mdefault\u001B[0m\u001B[1;33m=\u001B[0m\u001B[1;32mNone\u001B[0m\u001B[1;33m)\u001B[0m\u001B[1;33m:\u001B[0m\u001B[1;33m\u001B[0m\u001B[1;33m\u001B[0m\u001B[0m\n",
      "\u001B[1;31mTraitError\u001B[0m: The 'east' trait of a Map instance expected a float, not the NoneType None."
     ]
    }
   ],
   "source": [
    "# 查看辐射斜率校正前后图像变化\n",
    "Map = geemap.Map(basemap='HYBRID')\n",
    "Map.centerObject(AOI, zoom=14)\n",
    "Map.addLayer(s1_descending.select('VV'),{'min':-18,'max':5},'s1_descending')\n",
    "Map.addLayer(DESCENDING_dict['SRTM'][2].select('VV_gamma0flat') ,{'min':-18,'max':5},'DESCENDING_dict')\n",
    "Map.addLayer(s1_ascending.select('VV'),{'min':-18,'max':5},'s1_ascending')\n",
    "Map.addLayer(ASCENDING_dict['SRTM'][2].select('VV_gamma0flat') ,{'min':-18,'max':5},'ASCENDING_dict')\n",
    "Map"
   ]
  },
  {
   "cell_type": "code",
   "execution_count": 17,
   "id": "8fd6f981",
   "metadata": {
    "ExecuteTime": {
     "end_time": "2023-08-27T08:16:04.747275Z",
     "start_time": "2023-08-27T08:15:39.590705Z"
    }
   },
   "outputs": [
    {
     "data": {
      "application/vnd.jupyter.widget-view+json": {
       "model_id": "f5351556c00742cfaca08015475c3c74",
       "version_major": 2,
       "version_minor": 0
      },
      "text/plain": [
       "Map(center=[30.17633989163365, 94.28168536055013], controls=(WidgetControl(options=['position', 'transparent_b…"
      ]
     },
     "metadata": {},
     "output_type": "display_data"
    }
   ],
   "source": [
    "Map = geemap.Map(basemap='HYBRID')\n",
    "Map.centerObject(AOI, zoom=14)\n",
    "Map.addLayer(alpha_rRad_SRTM, {'min':0,'max':1.5}, 'alpha_rRad_SRTM')\n",
    "Map.addLayer(alpha_sRad_SRTM, {'min':-1.4,'max':1.5}, 'alpha_sRad_SRTM')\n",
    "Map.addLayer(alpha_rRad_NASA, {'min':0,'max':1.5}, 'alpha_rRad_NASA')\n",
    "Map.addLayer(alpha_sRad_NASA, {'min':-1.4,'max':1.5}, 'alpha_sRad_NASA')\n",
    "Map.addLayer(alpha_rRad_ALOS, {'min':0,'max':1.5}, 'alpha_rRad_ALOS')\n",
    "Map.addLayer(alpha_sRad_ALOS, {'min':-1.4,'max':1.5}, 'alpha_sRad_ALOS')\n",
    "Map.addLayer(alpha_rRad_COPERNICUS, {'min':0,'max':1.5}, 'alpha_rRad_COPERNICUS')\n",
    "Map.addLayer(alpha_sRad_COPERNICUS, {'min':-1.4,'max':1.5}, 'alpha_sRad_COPERNICUS')\n",
    "Map"
   ]
  },
  {
   "cell_type": "code",
   "execution_count": 65,
   "id": "78806aec",
   "metadata": {
    "ExecuteTime": {
     "end_time": "2023-08-27T13:04:42.141683Z",
     "start_time": "2023-08-27T13:04:37.468877Z"
    }
   },
   "outputs": [
    {
     "data": {
      "text/html": [
       "<div><style>:root {\n",
       "  --font-color-primary: var(--jp-content-font-color0, rgba(0, 0, 0, 1));\n",
       "  --font-color-secondary: var(--jp-content-font-color2, rgba(0, 0, 0, 0.6));\n",
       "  --font-color-accent: rgba(123, 31, 162, 1);\n",
       "  --border-color: var(--jp-border-color2, #e0e0e0);\n",
       "  --background-color: var(--jp-layout-color0, white);\n",
       "  --background-color-row-even: var(--jp-layout-color1, white);\n",
       "  --background-color-row-odd: var(--jp-layout-color2, #eeeeee);\n",
       "}\n",
       "\n",
       "html[theme=\"dark\"],\n",
       "body[data-theme=\"dark\"],\n",
       "body.vscode-dark {\n",
       "  --font-color-primary: rgba(255, 255, 255, 1);\n",
       "  --font-color-secondary: rgba(255, 255, 255, 0.6);\n",
       "  --font-color-accent: rgb(173, 132, 190);\n",
       "  --border-color: #2e2e2e;\n",
       "  --background-color: #111111;\n",
       "  --background-color-row-even: #111111;\n",
       "  --background-color-row-odd: #313131;\n",
       "}\n",
       "\n",
       ".ee {\n",
       "  padding: 1em;\n",
       "  line-height: 1.5em;\n",
       "  min-width: 300px;\n",
       "  max-width: 1200px;\n",
       "  overflow-y: scroll;\n",
       "  max-height: 600px;\n",
       "  border: 1px solid var(--border-color);\n",
       "  font-family: monospace;\n",
       "}\n",
       "\n",
       ".ee li {\n",
       "  list-style-type: none;\n",
       "}\n",
       "\n",
       ".ee ul {\n",
       "  padding-left: 1.5em !important;\n",
       "  margin: 0;\n",
       "}\n",
       "\n",
       ".ee > ul {\n",
       "  padding-left: 0 !important;\n",
       "}\n",
       "\n",
       ".ee-open,\n",
       ".ee-shut {\n",
       "  color: var(--font-color-secondary);\n",
       "  cursor: pointer;\n",
       "  margin: 0;\n",
       "}\n",
       "\n",
       ".ee-open:hover,\n",
       ".ee-shut:hover {\n",
       "  color: var(--font-color-primary);\n",
       "}\n",
       "\n",
       ".ee-k {\n",
       "  color: var(--font-color-accent);\n",
       "  margin-right: 6px;\n",
       "}\n",
       "\n",
       ".ee-v {\n",
       "  color: var(--font-color-primary);\n",
       "}\n",
       "\n",
       ".ee-toggle {\n",
       "  display: none;\n",
       "}\n",
       "\n",
       ".ee-shut + ul {\n",
       "  display: none;\n",
       "}\n",
       "\n",
       ".ee-open + ul {\n",
       "  display: block;\n",
       "}\n",
       "\n",
       ".ee-shut::before {\n",
       "  display: inline-block;\n",
       "  content: \"▼\";\n",
       "  margin-right: 6px;\n",
       "  transform: rotate(-90deg);\n",
       "  transition: transform 0.2s;\n",
       "}\n",
       "\n",
       ".ee-open::before {\n",
       "  transform: rotate(0deg);\n",
       "  display: inline-block;\n",
       "  content: \"▼\";\n",
       "  margin-right: 6px;\n",
       "  transition: transform 0.2s;\n",
       "}\n",
       "</style><div class='ee'><ul><li><label class='ee-shut'>Object (4 properties)<input type='checkbox' class='ee-toggle'></label><ul><li><span class='ee-k'>VH_gamma0flat_max:</span><span class='ee-v'>36.38324340046125</span></li><li><span class='ee-k'>VH_gamma0flat_min:</span><span class='ee-v'>-63.12189665170094</span></li><li><span class='ee-k'>VV_gamma0flat_max:</span><span class='ee-v'>41.18149295518104</span></li><li><span class='ee-k'>VV_gamma0flat_min:</span><span class='ee-v'>-54.207447448997726</span></li></ul></li></ul></div><script>function toggleHeader() {\n",
       "    const parent = this.parentElement;\n",
       "    parent.className = parent.className === \"ee-open\" ? \"ee-shut\" : \"ee-open\";\n",
       "}\n",
       "\n",
       "for (let c of document.getElementsByClassName(\"ee-toggle\")) {\n",
       "    c.onclick = toggleHeader;\n",
       "}</script></div>"
      ],
      "text/plain": [
       "<ee.dictionary.Dictionary at 0x183bd597640>"
      ]
     },
     "execution_count": 65,
     "metadata": {},
     "output_type": "execute_result"
    }
   ],
   "source": [
    "get_minmax(ASCENDING_dict['SRTM'][2])"
   ]
  },
  {
   "cell_type": "code",
   "execution_count": 66,
   "id": "8240cb02",
   "metadata": {
    "ExecuteTime": {
     "end_time": "2023-08-27T13:07:04.727349Z",
     "start_time": "2023-08-27T13:07:00.722443Z"
    }
   },
   "outputs": [
    {
     "data": {
      "text/html": [
       "<div><style>:root {\n",
       "  --font-color-primary: var(--jp-content-font-color0, rgba(0, 0, 0, 1));\n",
       "  --font-color-secondary: var(--jp-content-font-color2, rgba(0, 0, 0, 0.6));\n",
       "  --font-color-accent: rgba(123, 31, 162, 1);\n",
       "  --border-color: var(--jp-border-color2, #e0e0e0);\n",
       "  --background-color: var(--jp-layout-color0, white);\n",
       "  --background-color-row-even: var(--jp-layout-color1, white);\n",
       "  --background-color-row-odd: var(--jp-layout-color2, #eeeeee);\n",
       "}\n",
       "\n",
       "html[theme=\"dark\"],\n",
       "body[data-theme=\"dark\"],\n",
       "body.vscode-dark {\n",
       "  --font-color-primary: rgba(255, 255, 255, 1);\n",
       "  --font-color-secondary: rgba(255, 255, 255, 0.6);\n",
       "  --font-color-accent: rgb(173, 132, 190);\n",
       "  --border-color: #2e2e2e;\n",
       "  --background-color: #111111;\n",
       "  --background-color-row-even: #111111;\n",
       "  --background-color-row-odd: #313131;\n",
       "}\n",
       "\n",
       ".ee {\n",
       "  padding: 1em;\n",
       "  line-height: 1.5em;\n",
       "  min-width: 300px;\n",
       "  max-width: 1200px;\n",
       "  overflow-y: scroll;\n",
       "  max-height: 600px;\n",
       "  border: 1px solid var(--border-color);\n",
       "  font-family: monospace;\n",
       "}\n",
       "\n",
       ".ee li {\n",
       "  list-style-type: none;\n",
       "}\n",
       "\n",
       ".ee ul {\n",
       "  padding-left: 1.5em !important;\n",
       "  margin: 0;\n",
       "}\n",
       "\n",
       ".ee > ul {\n",
       "  padding-left: 0 !important;\n",
       "}\n",
       "\n",
       ".ee-open,\n",
       ".ee-shut {\n",
       "  color: var(--font-color-secondary);\n",
       "  cursor: pointer;\n",
       "  margin: 0;\n",
       "}\n",
       "\n",
       ".ee-open:hover,\n",
       ".ee-shut:hover {\n",
       "  color: var(--font-color-primary);\n",
       "}\n",
       "\n",
       ".ee-k {\n",
       "  color: var(--font-color-accent);\n",
       "  margin-right: 6px;\n",
       "}\n",
       "\n",
       ".ee-v {\n",
       "  color: var(--font-color-primary);\n",
       "}\n",
       "\n",
       ".ee-toggle {\n",
       "  display: none;\n",
       "}\n",
       "\n",
       ".ee-shut + ul {\n",
       "  display: none;\n",
       "}\n",
       "\n",
       ".ee-open + ul {\n",
       "  display: block;\n",
       "}\n",
       "\n",
       ".ee-shut::before {\n",
       "  display: inline-block;\n",
       "  content: \"▼\";\n",
       "  margin-right: 6px;\n",
       "  transform: rotate(-90deg);\n",
       "  transition: transform 0.2s;\n",
       "}\n",
       "\n",
       ".ee-open::before {\n",
       "  transform: rotate(0deg);\n",
       "  display: inline-block;\n",
       "  content: \"▼\";\n",
       "  margin-right: 6px;\n",
       "  transition: transform 0.2s;\n",
       "}\n",
       "</style><div class='ee'><ul><li><label class='ee-shut'>Object (4 properties)<input type='checkbox' class='ee-toggle'></label><ul><li><span class='ee-k'>VH_gamma0flat_max:</span><span class='ee-v'>21.983618964553642</span></li><li><span class='ee-k'>VH_gamma0flat_min:</span><span class='ee-v'>-68.79541106491564</span></li><li><span class='ee-k'>VV_gamma0flat_max:</span><span class='ee-v'>28.837434253513923</span></li><li><span class='ee-k'>VV_gamma0flat_min:</span><span class='ee-v'>-62.36833533876177</span></li></ul></li></ul></div><script>function toggleHeader() {\n",
       "    const parent = this.parentElement;\n",
       "    parent.className = parent.className === \"ee-open\" ? \"ee-shut\" : \"ee-open\";\n",
       "}\n",
       "\n",
       "for (let c of document.getElementsByClassName(\"ee-toggle\")) {\n",
       "    c.onclick = toggleHeader;\n",
       "}</script></div>"
      ],
      "text/plain": [
       "<ee.dictionary.Dictionary at 0x183bd7cee20>"
      ]
     },
     "execution_count": 66,
     "metadata": {},
     "output_type": "execute_result"
    }
   ],
   "source": [
    "get_minmax(DESCENDING_dict['SRTM'][2])"
   ]
  },
  {
   "cell_type": "code",
   "execution_count": 34,
   "id": "1179ae6e",
   "metadata": {
    "ExecuteTime": {
     "end_time": "2023-08-27T12:41:18.281765Z",
     "start_time": "2023-08-27T12:41:03.592437Z"
    }
   },
   "outputs": [
    {
     "data": {
      "application/vnd.jupyter.widget-view+json": {
       "model_id": "551c7836a8124319878ccf5be3720349",
       "version_major": 2,
       "version_minor": 0
      },
      "text/plain": [
       "Map(center=[30.17633989163365, 94.28168536055013], controls=(WidgetControl(options=['position', 'transparent_b…"
      ]
     },
     "metadata": {},
     "output_type": "display_data"
    },
    {
     "ename": "TraitError",
     "evalue": "The 'east' trait of a Map instance expected a float, not the NoneType None.",
     "output_type": "error",
     "traceback": [
      "\u001B[1;31m---------------------------------------------------------------------------\u001B[0m",
      "\u001B[1;31mTraitError\u001B[0m                                Traceback (most recent call last)",
      "\u001B[1;32mD:\\Code_base\\anaconda\\envs\\GEE\\lib\\site-packages\\ipywidgets\\widgets\\widget.py\u001B[0m in \u001B[0;36m_handle_msg\u001B[1;34m(self, msg)\u001B[0m\n\u001B[0;32m    674\u001B[0m                 \u001B[1;32mif\u001B[0m \u001B[1;34m'buffer_paths'\u001B[0m \u001B[1;32min\u001B[0m \u001B[0mdata\u001B[0m\u001B[1;33m:\u001B[0m\u001B[1;33m\u001B[0m\u001B[1;33m\u001B[0m\u001B[0m\n\u001B[0;32m    675\u001B[0m                     \u001B[0m_put_buffers\u001B[0m\u001B[1;33m(\u001B[0m\u001B[0mstate\u001B[0m\u001B[1;33m,\u001B[0m \u001B[0mdata\u001B[0m\u001B[1;33m[\u001B[0m\u001B[1;34m'buffer_paths'\u001B[0m\u001B[1;33m]\u001B[0m\u001B[1;33m,\u001B[0m \u001B[0mmsg\u001B[0m\u001B[1;33m[\u001B[0m\u001B[1;34m'buffers'\u001B[0m\u001B[1;33m]\u001B[0m\u001B[1;33m)\u001B[0m\u001B[1;33m\u001B[0m\u001B[1;33m\u001B[0m\u001B[0m\n\u001B[1;32m--> 676\u001B[1;33m                 \u001B[0mself\u001B[0m\u001B[1;33m.\u001B[0m\u001B[0mset_state\u001B[0m\u001B[1;33m(\u001B[0m\u001B[0mstate\u001B[0m\u001B[1;33m)\u001B[0m\u001B[1;33m\u001B[0m\u001B[1;33m\u001B[0m\u001B[0m\n\u001B[0m\u001B[0;32m    677\u001B[0m \u001B[1;33m\u001B[0m\u001B[0m\n\u001B[0;32m    678\u001B[0m         \u001B[1;31m# Handle a state request.\u001B[0m\u001B[1;33m\u001B[0m\u001B[1;33m\u001B[0m\u001B[0m\n",
      "\u001B[1;32mD:\\Code_base\\anaconda\\envs\\GEE\\lib\\site-packages\\ipywidgets\\widgets\\widget.py\u001B[0m in \u001B[0;36mset_state\u001B[1;34m(self, sync_data)\u001B[0m\n\u001B[0;32m    543\u001B[0m                     from_json = self.trait_metadata(name, 'from_json',\n\u001B[0;32m    544\u001B[0m                                                     self._trait_from_json)\n\u001B[1;32m--> 545\u001B[1;33m                     \u001B[0mself\u001B[0m\u001B[1;33m.\u001B[0m\u001B[0mset_trait\u001B[0m\u001B[1;33m(\u001B[0m\u001B[0mname\u001B[0m\u001B[1;33m,\u001B[0m \u001B[0mfrom_json\u001B[0m\u001B[1;33m(\u001B[0m\u001B[0msync_data\u001B[0m\u001B[1;33m[\u001B[0m\u001B[0mname\u001B[0m\u001B[1;33m]\u001B[0m\u001B[1;33m,\u001B[0m \u001B[0mself\u001B[0m\u001B[1;33m)\u001B[0m\u001B[1;33m)\u001B[0m\u001B[1;33m\u001B[0m\u001B[1;33m\u001B[0m\u001B[0m\n\u001B[0m\u001B[0;32m    546\u001B[0m \u001B[1;33m\u001B[0m\u001B[0m\n\u001B[0;32m    547\u001B[0m     \u001B[1;32mdef\u001B[0m \u001B[0msend\u001B[0m\u001B[1;33m(\u001B[0m\u001B[0mself\u001B[0m\u001B[1;33m,\u001B[0m \u001B[0mcontent\u001B[0m\u001B[1;33m,\u001B[0m \u001B[0mbuffers\u001B[0m\u001B[1;33m=\u001B[0m\u001B[1;32mNone\u001B[0m\u001B[1;33m)\u001B[0m\u001B[1;33m:\u001B[0m\u001B[1;33m\u001B[0m\u001B[1;33m\u001B[0m\u001B[0m\n",
      "\u001B[1;32mD:\\Code_base\\anaconda\\envs\\GEE\\lib\\site-packages\\traitlets\\traitlets.py\u001B[0m in \u001B[0;36mset_trait\u001B[1;34m(self, name, value)\u001B[0m\n\u001B[0;32m   1436\u001B[0m                                 (cls.__name__, name))\n\u001B[0;32m   1437\u001B[0m         \u001B[1;32melse\u001B[0m\u001B[1;33m:\u001B[0m\u001B[1;33m\u001B[0m\u001B[1;33m\u001B[0m\u001B[0m\n\u001B[1;32m-> 1438\u001B[1;33m             \u001B[0mgetattr\u001B[0m\u001B[1;33m(\u001B[0m\u001B[0mcls\u001B[0m\u001B[1;33m,\u001B[0m \u001B[0mname\u001B[0m\u001B[1;33m)\u001B[0m\u001B[1;33m.\u001B[0m\u001B[0mset\u001B[0m\u001B[1;33m(\u001B[0m\u001B[0mself\u001B[0m\u001B[1;33m,\u001B[0m \u001B[0mvalue\u001B[0m\u001B[1;33m)\u001B[0m\u001B[1;33m\u001B[0m\u001B[1;33m\u001B[0m\u001B[0m\n\u001B[0m\u001B[0;32m   1439\u001B[0m \u001B[1;33m\u001B[0m\u001B[0m\n\u001B[0;32m   1440\u001B[0m     \u001B[1;33m@\u001B[0m\u001B[0mclassmethod\u001B[0m\u001B[1;33m\u001B[0m\u001B[1;33m\u001B[0m\u001B[0m\n",
      "\u001B[1;32mD:\\Code_base\\anaconda\\envs\\GEE\\lib\\site-packages\\traitlets\\traitlets.py\u001B[0m in \u001B[0;36mset\u001B[1;34m(self, obj, value)\u001B[0m\n\u001B[0;32m    578\u001B[0m \u001B[1;33m\u001B[0m\u001B[0m\n\u001B[0;32m    579\u001B[0m     \u001B[1;32mdef\u001B[0m \u001B[0mset\u001B[0m\u001B[1;33m(\u001B[0m\u001B[0mself\u001B[0m\u001B[1;33m,\u001B[0m \u001B[0mobj\u001B[0m\u001B[1;33m,\u001B[0m \u001B[0mvalue\u001B[0m\u001B[1;33m)\u001B[0m\u001B[1;33m:\u001B[0m\u001B[1;33m\u001B[0m\u001B[1;33m\u001B[0m\u001B[0m\n\u001B[1;32m--> 580\u001B[1;33m         \u001B[0mnew_value\u001B[0m \u001B[1;33m=\u001B[0m \u001B[0mself\u001B[0m\u001B[1;33m.\u001B[0m\u001B[0m_validate\u001B[0m\u001B[1;33m(\u001B[0m\u001B[0mobj\u001B[0m\u001B[1;33m,\u001B[0m \u001B[0mvalue\u001B[0m\u001B[1;33m)\u001B[0m\u001B[1;33m\u001B[0m\u001B[1;33m\u001B[0m\u001B[0m\n\u001B[0m\u001B[0;32m    581\u001B[0m         \u001B[1;32mtry\u001B[0m\u001B[1;33m:\u001B[0m\u001B[1;33m\u001B[0m\u001B[1;33m\u001B[0m\u001B[0m\n\u001B[0;32m    582\u001B[0m             \u001B[0mold_value\u001B[0m \u001B[1;33m=\u001B[0m \u001B[0mobj\u001B[0m\u001B[1;33m.\u001B[0m\u001B[0m_trait_values\u001B[0m\u001B[1;33m[\u001B[0m\u001B[0mself\u001B[0m\u001B[1;33m.\u001B[0m\u001B[0mname\u001B[0m\u001B[1;33m]\u001B[0m\u001B[1;33m\u001B[0m\u001B[1;33m\u001B[0m\u001B[0m\n",
      "\u001B[1;32mD:\\Code_base\\anaconda\\envs\\GEE\\lib\\site-packages\\traitlets\\traitlets.py\u001B[0m in \u001B[0;36m_validate\u001B[1;34m(self, obj, value)\u001B[0m\n\u001B[0;32m    610\u001B[0m             \u001B[1;32mreturn\u001B[0m \u001B[0mvalue\u001B[0m\u001B[1;33m\u001B[0m\u001B[1;33m\u001B[0m\u001B[0m\n\u001B[0;32m    611\u001B[0m         \u001B[1;32mif\u001B[0m \u001B[0mhasattr\u001B[0m\u001B[1;33m(\u001B[0m\u001B[0mself\u001B[0m\u001B[1;33m,\u001B[0m \u001B[1;34m'validate'\u001B[0m\u001B[1;33m)\u001B[0m\u001B[1;33m:\u001B[0m\u001B[1;33m\u001B[0m\u001B[1;33m\u001B[0m\u001B[0m\n\u001B[1;32m--> 612\u001B[1;33m             \u001B[0mvalue\u001B[0m \u001B[1;33m=\u001B[0m \u001B[0mself\u001B[0m\u001B[1;33m.\u001B[0m\u001B[0mvalidate\u001B[0m\u001B[1;33m(\u001B[0m\u001B[0mobj\u001B[0m\u001B[1;33m,\u001B[0m \u001B[0mvalue\u001B[0m\u001B[1;33m)\u001B[0m\u001B[1;33m\u001B[0m\u001B[1;33m\u001B[0m\u001B[0m\n\u001B[0m\u001B[0;32m    613\u001B[0m         \u001B[1;32mif\u001B[0m \u001B[0mobj\u001B[0m\u001B[1;33m.\u001B[0m\u001B[0m_cross_validation_lock\u001B[0m \u001B[1;32mis\u001B[0m \u001B[1;32mFalse\u001B[0m\u001B[1;33m:\u001B[0m\u001B[1;33m\u001B[0m\u001B[1;33m\u001B[0m\u001B[0m\n\u001B[0;32m    614\u001B[0m             \u001B[0mvalue\u001B[0m \u001B[1;33m=\u001B[0m \u001B[0mself\u001B[0m\u001B[1;33m.\u001B[0m\u001B[0m_cross_validate\u001B[0m\u001B[1;33m(\u001B[0m\u001B[0mobj\u001B[0m\u001B[1;33m,\u001B[0m \u001B[0mvalue\u001B[0m\u001B[1;33m)\u001B[0m\u001B[1;33m\u001B[0m\u001B[1;33m\u001B[0m\u001B[0m\n",
      "\u001B[1;32mD:\\Code_base\\anaconda\\envs\\GEE\\lib\\site-packages\\traitlets\\traitlets.py\u001B[0m in \u001B[0;36mvalidate\u001B[1;34m(self, obj, value)\u001B[0m\n\u001B[0;32m   2084\u001B[0m             \u001B[0mvalue\u001B[0m \u001B[1;33m=\u001B[0m \u001B[0mfloat\u001B[0m\u001B[1;33m(\u001B[0m\u001B[0mvalue\u001B[0m\u001B[1;33m)\u001B[0m\u001B[1;33m\u001B[0m\u001B[1;33m\u001B[0m\u001B[0m\n\u001B[0;32m   2085\u001B[0m         \u001B[1;32mif\u001B[0m \u001B[1;32mnot\u001B[0m \u001B[0misinstance\u001B[0m\u001B[1;33m(\u001B[0m\u001B[0mvalue\u001B[0m\u001B[1;33m,\u001B[0m \u001B[0mfloat\u001B[0m\u001B[1;33m)\u001B[0m\u001B[1;33m:\u001B[0m\u001B[1;33m\u001B[0m\u001B[1;33m\u001B[0m\u001B[0m\n\u001B[1;32m-> 2086\u001B[1;33m             \u001B[0mself\u001B[0m\u001B[1;33m.\u001B[0m\u001B[0merror\u001B[0m\u001B[1;33m(\u001B[0m\u001B[0mobj\u001B[0m\u001B[1;33m,\u001B[0m \u001B[0mvalue\u001B[0m\u001B[1;33m)\u001B[0m\u001B[1;33m\u001B[0m\u001B[1;33m\u001B[0m\u001B[0m\n\u001B[0m\u001B[0;32m   2087\u001B[0m         \u001B[1;32mreturn\u001B[0m \u001B[0m_validate_bounds\u001B[0m\u001B[1;33m(\u001B[0m\u001B[0mself\u001B[0m\u001B[1;33m,\u001B[0m \u001B[0mobj\u001B[0m\u001B[1;33m,\u001B[0m \u001B[0mvalue\u001B[0m\u001B[1;33m)\u001B[0m\u001B[1;33m\u001B[0m\u001B[1;33m\u001B[0m\u001B[0m\n\u001B[0;32m   2088\u001B[0m \u001B[1;33m\u001B[0m\u001B[0m\n",
      "\u001B[1;32mD:\\Code_base\\anaconda\\envs\\GEE\\lib\\site-packages\\traitlets\\traitlets.py\u001B[0m in \u001B[0;36merror\u001B[1;34m(self, obj, value, error, info)\u001B[0m\n\u001B[0;32m    690\u001B[0m                     e = \"The '%s' trait expected %s, not %s.\" % (\n\u001B[0;32m    691\u001B[0m                         self.name, self.info(), describe(\"the\", value))\n\u001B[1;32m--> 692\u001B[1;33m                 \u001B[1;32mraise\u001B[0m \u001B[0mTraitError\u001B[0m\u001B[1;33m(\u001B[0m\u001B[0me\u001B[0m\u001B[1;33m)\u001B[0m\u001B[1;33m\u001B[0m\u001B[1;33m\u001B[0m\u001B[0m\n\u001B[0m\u001B[0;32m    693\u001B[0m \u001B[1;33m\u001B[0m\u001B[0m\n\u001B[0;32m    694\u001B[0m     \u001B[1;32mdef\u001B[0m \u001B[0mget_metadata\u001B[0m\u001B[1;33m(\u001B[0m\u001B[0mself\u001B[0m\u001B[1;33m,\u001B[0m \u001B[0mkey\u001B[0m\u001B[1;33m,\u001B[0m \u001B[0mdefault\u001B[0m\u001B[1;33m=\u001B[0m\u001B[1;32mNone\u001B[0m\u001B[1;33m)\u001B[0m\u001B[1;33m:\u001B[0m\u001B[1;33m\u001B[0m\u001B[1;33m\u001B[0m\u001B[0m\n",
      "\u001B[1;31mTraitError\u001B[0m: The 'east' trait of a Map instance expected a float, not the NoneType None."
     ]
    }
   ],
   "source": [
    "Map = geemap.Map(basemap='HYBRID')\n",
    "Map.centerObject(AOI, zoom=14)\n",
    "Map.addLayer(scf_SRTM, {}, 'scf_SRTM')\n",
    "Map.addLayer(scf_NASA, {}, 'scf_NASA')\n",
    "Map.addLayer(scf_ALOS, {}, 'scf_ALOS')\n",
    "Map.addLayer(scf_COPERNICUS, {}, 'scf_COPERNICUS')\n",
    "Map"
   ]
  }
 ],
 "metadata": {
  "hide_input": false,
  "kernelspec": {
   "display_name": "GEE",
   "language": "python",
   "name": "gee"
  },
  "language_info": {
   "codemirror_mode": {
    "name": "ipython",
    "version": 3
   },
   "file_extension": ".py",
   "mimetype": "text/x-python",
   "name": "python",
   "nbconvert_exporter": "python",
   "pygments_lexer": "ipython3",
   "version": "3.9.16"
  },
  "nbTranslate": {
   "displayLangs": [
    "*"
   ],
   "hotkey": "alt-t",
   "langInMainMenu": true,
   "sourceLang": "en",
   "targetLang": "fr",
   "useGoogleTranslate": true
  },
  "toc": {
   "base_numbering": 1,
   "nav_menu": {},
   "number_sections": true,
   "sideBar": true,
   "skip_h1_title": false,
   "title_cell": "Table of Contents",
   "title_sidebar": "Contents",
   "toc_cell": false,
   "toc_position": {},
   "toc_section_display": true,
   "toc_window_display": false
  },
  "varInspector": {
   "cols": {
    "lenName": 16,
    "lenType": 16,
    "lenVar": 40
   },
   "kernels_config": {
    "python": {
     "delete_cmd_postfix": "",
     "delete_cmd_prefix": "del ",
     "library": "var_list.py",
     "varRefreshCmd": "print(var_dic_list())"
    },
    "r": {
     "delete_cmd_postfix": ") ",
     "delete_cmd_prefix": "rm(",
     "library": "var_list.r",
     "varRefreshCmd": "cat(var_dic_list()) "
    }
   },
   "types_to_exclude": [
    "module",
    "function",
    "builtin_function_or_method",
    "instance",
    "_Feature"
   ],
   "window_display": false
  }
 },
 "nbformat": 4,
 "nbformat_minor": 5
}
