{
 "cells": [
  {
   "cell_type": "code",
   "execution_count": 1,
   "id": "1e9e8246-7d58-4653-b692-3be7e6af5d34",
   "metadata": {},
   "outputs": [],
   "source": [
    "import ee"
   ]
  },
  {
   "cell_type": "code",
   "execution_count": 2,
   "id": "633c8c3f-7aeb-477e-8da5-3cc622ec2a31",
   "metadata": {},
   "outputs": [],
   "source": [
    "import geemap"
   ]
  },
  {
   "cell_type": "code",
   "execution_count": 3,
   "id": "0d332a11-c914-4b7a-b794-0343c20b7106",
   "metadata": {},
   "outputs": [],
   "source": [
    "geemap.set_proxy(port=7890)"
   ]
  },
  {
   "cell_type": "code",
   "execution_count": 4,
   "id": "cfd8d9ec-7e0b-489d-90fc-9a5f5b3d4d91",
   "metadata": {},
   "outputs": [
    {
     "data": {
      "text/html": [
       "<p>To authorize access needed by Earth Engine, open the following\n",
       "        URL in a web browser and follow the instructions:</p>\n",
       "        <p><a href=https://code.earthengine.google.com/client-auth?scopes=https%3A//www.googleapis.com/auth/earthengine%20https%3A//www.googleapis.com/auth/devstorage.full_control&request_id=RhLYibsYv633DJmw8oX8lfjaKjC49gMZdwwZeq-rcN4&tc=wJEgfn_vHMVsuHiQoa4prUAFBIeBrV4wRJjoDCYCY1U&cc=HBP9UQeE2ieZfu_51UlCmRa9JI8jaR1fsqSEDd6NSRA>https://code.earthengine.google.com/client-auth?scopes=https%3A//www.googleapis.com/auth/earthengine%20https%3A//www.googleapis.com/auth/devstorage.full_control&request_id=RhLYibsYv633DJmw8oX8lfjaKjC49gMZdwwZeq-rcN4&tc=wJEgfn_vHMVsuHiQoa4prUAFBIeBrV4wRJjoDCYCY1U&cc=HBP9UQeE2ieZfu_51UlCmRa9JI8jaR1fsqSEDd6NSRA</a></p>\n",
       "        <p>The authorization workflow will generate a code, which you should paste in the box below.</p>\n",
       "        "
      ],
      "text/plain": [
       "<IPython.core.display.HTML object>"
      ]
     },
     "metadata": {},
     "output_type": "display_data"
    },
    {
     "name": "stdin",
     "output_type": "stream",
     "text": [
      "Enter verification code:  4/1Adeu5BXs81vubqGgmyrcSmPz-4KpYI3svTs-vyGjPdSZVe0hy9fT5QeEGss\n"
     ]
    },
    {
     "name": "stdout",
     "output_type": "stream",
     "text": [
      "\n",
      "Successfully saved authorization token.\n"
     ]
    }
   ],
   "source": [
    "ee.Authenticate()\n",
    "ee.Initialize()"
   ]
  },
  {
   "cell_type": "code",
   "execution_count": 5,
   "id": "a4eb43f3-ca5b-4989-bb80-ad4bd6bc3737",
   "metadata": {},
   "outputs": [
    {
     "name": "stdout",
     "output_type": "stream",
     "text": [
      "{'type': 'Image', 'bands': [{'id': 'elevation', 'data_type': {'type': 'PixelType', 'precision': 'int', 'min': -32768, 'max': 32767}, 'dimensions': [432000, 144000], 'crs': 'EPSG:4326', 'crs_transform': [0.000833333333333, 0, -180, 0, -0.000833333333333, 60]}], 'version': 1494271934303000.0, 'id': 'srtm90_v4', 'properties': {'system:time_start': 950227200000, 'system:time_end': 951177600000, 'system:asset_size': 18827626666}}\n"
     ]
    }
   ],
   "source": [
    "image = ee.Image('srtm90_v4')\n",
    "print(image.getInfo())"
   ]
  },
  {
   "cell_type": "code",
   "execution_count": 7,
   "id": "28e8a322-c3b9-4f4b-bd7d-24fe412c6509",
   "metadata": {},
   "outputs": [
    {
     "name": "stdout",
     "output_type": "stream",
     "text": [
      "--Call--\n",
      "> \u001b[1;32mc:\\users\\chl\\.conda\\envs\\geemap_chl\\lib\\site-packages\\ipython\\core\\displayhook.py\u001b[0m(258)\u001b[0;36m__call__\u001b[1;34m()\u001b[0m\n",
      "\u001b[1;32m    256 \u001b[1;33m        \u001b[0msys\u001b[0m\u001b[1;33m.\u001b[0m\u001b[0mstdout\u001b[0m\u001b[1;33m.\u001b[0m\u001b[0mflush\u001b[0m\u001b[1;33m(\u001b[0m\u001b[1;33m)\u001b[0m\u001b[1;33m\u001b[0m\u001b[1;33m\u001b[0m\u001b[0m\n",
      "\u001b[0m\u001b[1;32m    257 \u001b[1;33m\u001b[1;33m\u001b[0m\u001b[0m\n",
      "\u001b[0m\u001b[1;32m--> 258 \u001b[1;33m    \u001b[1;32mdef\u001b[0m \u001b[0m__call__\u001b[0m\u001b[1;33m(\u001b[0m\u001b[0mself\u001b[0m\u001b[1;33m,\u001b[0m \u001b[0mresult\u001b[0m\u001b[1;33m=\u001b[0m\u001b[1;32mNone\u001b[0m\u001b[1;33m)\u001b[0m\u001b[1;33m:\u001b[0m\u001b[1;33m\u001b[0m\u001b[1;33m\u001b[0m\u001b[0m\n",
      "\u001b[0m\u001b[1;32m    259 \u001b[1;33m        \"\"\"Printing with history cache management.\n",
      "\u001b[0m\u001b[1;32m    260 \u001b[1;33m\u001b[1;33m\u001b[0m\u001b[0m\n",
      "\u001b[0m\n"
     ]
    },
    {
     "name": "stdin",
     "output_type": "stream",
     "text": [
      "ipdb>  exit()\n"
     ]
    }
   ],
   "source": [
    "import pdb\n",
    "pdb.set_trace()"
   ]
  },
  {
   "cell_type": "code",
   "execution_count": 207,
   "id": "2074d273-26b8-4e67-8741-2db232016aad",
   "metadata": {},
   "outputs": [
    {
     "name": "stdout",
     "output_type": "stream",
     "text": [
      "Requirement already satisfied: geemap in c:\\users\\chl\\.conda\\envs\\geemap_chl\\lib\\site-packages (0.25.0)\n",
      "Requirement already satisfied: bqplot in c:\\users\\chl\\.conda\\envs\\geemap_chl\\lib\\site-packages (from geemap) (0.12.40)\n",
      "Requirement already satisfied: colour in c:\\users\\chl\\.conda\\envs\\geemap_chl\\lib\\site-packages (from geemap) (0.1.5)\n",
      "Requirement already satisfied: earthengine-api>=0.1.347 in c:\\users\\chl\\.conda\\envs\\geemap_chl\\lib\\site-packages (from geemap) (0.1.364)\n",
      "Requirement already satisfied: eerepr>=0.0.4 in c:\\users\\chl\\.conda\\envs\\geemap_chl\\lib\\site-packages (from geemap) (0.0.4)\n",
      "Requirement already satisfied: folium>=0.13.0 in c:\\users\\chl\\.conda\\envs\\geemap_chl\\lib\\site-packages (from geemap) (0.14.0)\n",
      "Requirement already satisfied: geocoder in c:\\users\\chl\\.conda\\envs\\geemap_chl\\lib\\site-packages (from geemap) (1.38.1)\n",
      "Requirement already satisfied: ipyevents in c:\\users\\chl\\.conda\\envs\\geemap_chl\\lib\\site-packages (from geemap) (2.0.2)\n",
      "Requirement already satisfied: ipyfilechooser>=0.6.0 in c:\\users\\chl\\.conda\\envs\\geemap_chl\\lib\\site-packages (from geemap) (0.6.0)\n",
      "Requirement already satisfied: ipyleaflet>=0.17.0 in c:\\users\\chl\\.conda\\envs\\geemap_chl\\lib\\site-packages (from geemap) (0.17.3)\n",
      "Requirement already satisfied: ipytree in c:\\users\\chl\\.conda\\envs\\geemap_chl\\lib\\site-packages (from geemap) (0.2.2)\n",
      "Requirement already satisfied: matplotlib in c:\\users\\chl\\.conda\\envs\\geemap_chl\\lib\\site-packages (from geemap) (3.7.1)\n",
      "Requirement already satisfied: numpy in c:\\users\\chl\\.conda\\envs\\geemap_chl\\lib\\site-packages (from geemap) (1.25.2)\n",
      "Requirement already satisfied: pandas in c:\\users\\chl\\.conda\\envs\\geemap_chl\\lib\\site-packages (from geemap) (1.5.3)\n",
      "Requirement already satisfied: plotly in c:\\users\\chl\\.conda\\envs\\geemap_chl\\lib\\site-packages (from geemap) (5.16.1)\n",
      "Requirement already satisfied: pyperclip in c:\\users\\chl\\.conda\\envs\\geemap_chl\\lib\\site-packages (from geemap) (1.8.2)\n",
      "Requirement already satisfied: pyshp>=2.1.3 in c:\\users\\chl\\.conda\\envs\\geemap_chl\\lib\\site-packages (from geemap) (2.3.1)\n",
      "Requirement already satisfied: python-box in c:\\users\\chl\\.conda\\envs\\geemap_chl\\lib\\site-packages (from geemap) (7.0.1)\n",
      "Requirement already satisfied: scooby in c:\\users\\chl\\.conda\\envs\\geemap_chl\\lib\\site-packages (from geemap) (0.7.2)\n",
      "Requirement already satisfied: google-cloud-storage in c:\\users\\chl\\.conda\\envs\\geemap_chl\\lib\\site-packages (from earthengine-api>=0.1.347->geemap) (2.10.0)\n",
      "Requirement already satisfied: google-api-python-client>=1.12.1 in c:\\users\\chl\\.conda\\envs\\geemap_chl\\lib\\site-packages (from earthengine-api>=0.1.347->geemap) (2.97.0)\n",
      "Requirement already satisfied: google-auth>=1.4.1 in c:\\users\\chl\\.conda\\envs\\geemap_chl\\lib\\site-packages (from earthengine-api>=0.1.347->geemap) (2.22.0)\n",
      "Requirement already satisfied: google-auth-httplib2>=0.0.3 in c:\\users\\chl\\.conda\\envs\\geemap_chl\\lib\\site-packages (from earthengine-api>=0.1.347->geemap) (0.1.0)\n",
      "Requirement already satisfied: httplib2<1dev,>=0.9.2 in c:\\users\\chl\\.conda\\envs\\geemap_chl\\lib\\site-packages (from earthengine-api>=0.1.347->geemap) (0.22.0)\n",
      "Requirement already satisfied: requests in c:\\users\\chl\\.conda\\envs\\geemap_chl\\lib\\site-packages (from earthengine-api>=0.1.347->geemap) (2.31.0)\n",
      "Requirement already satisfied: branca>=0.6.0 in c:\\users\\chl\\.conda\\envs\\geemap_chl\\lib\\site-packages (from folium>=0.13.0->geemap) (0.6.0)\n",
      "Requirement already satisfied: jinja2>=2.9 in c:\\users\\chl\\.conda\\envs\\geemap_chl\\lib\\site-packages (from folium>=0.13.0->geemap) (3.1.2)\n",
      "Requirement already satisfied: ipywidgets in c:\\users\\chl\\.conda\\envs\\geemap_chl\\lib\\site-packages (from ipyfilechooser>=0.6.0->geemap) (8.1.0)\n",
      "Requirement already satisfied: traittypes<3,>=0.2.1 in c:\\users\\chl\\.conda\\envs\\geemap_chl\\lib\\site-packages (from ipyleaflet>=0.17.0->geemap) (0.2.1)\n",
      "Requirement already satisfied: xyzservices>=2021.8.1 in c:\\users\\chl\\.conda\\envs\\geemap_chl\\lib\\site-packages (from ipyleaflet>=0.17.0->geemap) (2023.7.0)\n",
      "Requirement already satisfied: traitlets>=4.3.0 in c:\\users\\chl\\.conda\\envs\\geemap_chl\\lib\\site-packages (from bqplot->geemap) (5.9.0)\n",
      "Requirement already satisfied: python-dateutil>=2.8.1 in c:\\users\\chl\\.conda\\envs\\geemap_chl\\lib\\site-packages (from pandas->geemap) (2.8.2)\n",
      "Requirement already satisfied: pytz>=2020.1 in c:\\users\\chl\\.conda\\envs\\geemap_chl\\lib\\site-packages (from pandas->geemap) (2023.3)\n",
      "Requirement already satisfied: ratelim in c:\\users\\chl\\.conda\\envs\\geemap_chl\\lib\\site-packages (from geocoder->geemap) (0.1.6)\n",
      "Requirement already satisfied: click in c:\\users\\chl\\.conda\\envs\\geemap_chl\\lib\\site-packages (from geocoder->geemap) (8.1.7)\n",
      "Requirement already satisfied: six in c:\\users\\chl\\.conda\\envs\\geemap_chl\\lib\\site-packages (from geocoder->geemap) (1.16.0)\n",
      "Requirement already satisfied: future in c:\\users\\chl\\.conda\\envs\\geemap_chl\\lib\\site-packages (from geocoder->geemap) (0.18.3)\n",
      "Requirement already satisfied: contourpy>=1.0.1 in c:\\users\\chl\\.conda\\envs\\geemap_chl\\lib\\site-packages (from matplotlib->geemap) (1.1.0)\n",
      "Requirement already satisfied: cycler>=0.10 in c:\\users\\chl\\.conda\\envs\\geemap_chl\\lib\\site-packages (from matplotlib->geemap) (0.11.0)\n",
      "Requirement already satisfied: fonttools>=4.22.0 in c:\\users\\chl\\.conda\\envs\\geemap_chl\\lib\\site-packages (from matplotlib->geemap) (4.42.1)\n",
      "Requirement already satisfied: kiwisolver>=1.0.1 in c:\\users\\chl\\.conda\\envs\\geemap_chl\\lib\\site-packages (from matplotlib->geemap) (1.4.4)\n",
      "Requirement already satisfied: packaging>=20.0 in c:\\users\\chl\\.conda\\envs\\geemap_chl\\lib\\site-packages (from matplotlib->geemap) (23.1)\n",
      "Requirement already satisfied: pillow>=6.2.0 in c:\\users\\chl\\.conda\\envs\\geemap_chl\\lib\\site-packages (from matplotlib->geemap) (10.0.0)\n",
      "Requirement already satisfied: pyparsing>=2.3.1 in c:\\users\\chl\\.conda\\envs\\geemap_chl\\lib\\site-packages (from matplotlib->geemap) (3.1.1)\n",
      "Requirement already satisfied: tenacity>=6.2.0 in c:\\users\\chl\\.conda\\envs\\geemap_chl\\lib\\site-packages (from plotly->geemap) (8.2.3)\n",
      "Requirement already satisfied: google-api-core!=2.0.*,!=2.1.*,!=2.2.*,!=2.3.0,<3.0.0.dev0,>=1.31.5 in c:\\users\\chl\\.conda\\envs\\geemap_chl\\lib\\site-packages (from google-api-python-client>=1.12.1->earthengine-api>=0.1.347->geemap) (2.11.1)\n",
      "Requirement already satisfied: uritemplate<5,>=3.0.1 in c:\\users\\chl\\.conda\\envs\\geemap_chl\\lib\\site-packages (from google-api-python-client>=1.12.1->earthengine-api>=0.1.347->geemap) (4.1.1)\n",
      "Requirement already satisfied: cachetools<6.0,>=2.0.0 in c:\\users\\chl\\.conda\\envs\\geemap_chl\\lib\\site-packages (from google-auth>=1.4.1->earthengine-api>=0.1.347->geemap) (5.3.1)\n",
      "Requirement already satisfied: pyasn1-modules>=0.2.1 in c:\\users\\chl\\.conda\\envs\\geemap_chl\\lib\\site-packages (from google-auth>=1.4.1->earthengine-api>=0.1.347->geemap) (0.2.7)\n",
      "Requirement already satisfied: rsa<5,>=3.1.4 in c:\\users\\chl\\.conda\\envs\\geemap_chl\\lib\\site-packages (from google-auth>=1.4.1->earthengine-api>=0.1.347->geemap) (4.9)\n",
      "Requirement already satisfied: urllib3<2.0 in c:\\users\\chl\\.conda\\envs\\geemap_chl\\lib\\site-packages (from google-auth>=1.4.1->earthengine-api>=0.1.347->geemap) (1.26.15)\n",
      "Requirement already satisfied: comm>=0.1.3 in c:\\users\\chl\\.conda\\envs\\geemap_chl\\lib\\site-packages (from ipywidgets->ipyfilechooser>=0.6.0->geemap) (0.1.4)\n",
      "Requirement already satisfied: ipython>=6.1.0 in c:\\users\\chl\\.conda\\envs\\geemap_chl\\lib\\site-packages (from ipywidgets->ipyfilechooser>=0.6.0->geemap) (8.14.0)\n",
      "Requirement already satisfied: widgetsnbextension~=4.0.7 in c:\\users\\chl\\.conda\\envs\\geemap_chl\\lib\\site-packages (from ipywidgets->ipyfilechooser>=0.6.0->geemap) (4.0.8)\n",
      "Requirement already satisfied: jupyterlab-widgets~=3.0.7 in c:\\users\\chl\\.conda\\envs\\geemap_chl\\lib\\site-packages (from ipywidgets->ipyfilechooser>=0.6.0->geemap) (3.0.8)\n",
      "Requirement already satisfied: MarkupSafe>=2.0 in c:\\users\\chl\\.conda\\envs\\geemap_chl\\lib\\site-packages (from jinja2>=2.9->folium>=0.13.0->geemap) (2.1.3)\n",
      "Requirement already satisfied: colorama in c:\\users\\chl\\.conda\\envs\\geemap_chl\\lib\\site-packages (from click->geocoder->geemap) (0.4.6)\n",
      "Requirement already satisfied: google-cloud-core<3.0dev,>=2.3.0 in c:\\users\\chl\\.conda\\envs\\geemap_chl\\lib\\site-packages (from google-cloud-storage->earthengine-api>=0.1.347->geemap) (2.3.3)\n",
      "Requirement already satisfied: google-resumable-media>=2.3.2 in c:\\users\\chl\\.conda\\envs\\geemap_chl\\lib\\site-packages (from google-cloud-storage->earthengine-api>=0.1.347->geemap) (2.5.0)\n",
      "Requirement already satisfied: charset-normalizer<4,>=2 in c:\\users\\chl\\.conda\\envs\\geemap_chl\\lib\\site-packages (from requests->earthengine-api>=0.1.347->geemap) (3.2.0)\n",
      "Requirement already satisfied: idna<4,>=2.5 in c:\\users\\chl\\.conda\\envs\\geemap_chl\\lib\\site-packages (from requests->earthengine-api>=0.1.347->geemap) (3.4)\n",
      "Requirement already satisfied: certifi>=2017.4.17 in c:\\users\\chl\\.conda\\envs\\geemap_chl\\lib\\site-packages (from requests->earthengine-api>=0.1.347->geemap) (2023.7.22)\n",
      "Requirement already satisfied: decorator in c:\\users\\chl\\.conda\\envs\\geemap_chl\\lib\\site-packages (from ratelim->geocoder->geemap) (5.1.1)\n",
      "Requirement already satisfied: googleapis-common-protos<2.0.dev0,>=1.56.2 in c:\\users\\chl\\.conda\\envs\\geemap_chl\\lib\\site-packages (from google-api-core!=2.0.*,!=2.1.*,!=2.2.*,!=2.3.0,<3.0.0.dev0,>=1.31.5->google-api-python-client>=1.12.1->earthengine-api>=0.1.347->geemap) (1.60.0)\n",
      "Requirement already satisfied: protobuf!=3.20.0,!=3.20.1,!=4.21.0,!=4.21.1,!=4.21.2,!=4.21.3,!=4.21.4,!=4.21.5,<5.0.0.dev0,>=3.19.5 in c:\\users\\chl\\.conda\\envs\\geemap_chl\\lib\\site-packages (from google-api-core!=2.0.*,!=2.1.*,!=2.2.*,!=2.3.0,<3.0.0.dev0,>=1.31.5->google-api-python-client>=1.12.1->earthengine-api>=0.1.347->geemap) (4.21.12)\n",
      "Requirement already satisfied: google-crc32c<2.0dev,>=1.0 in c:\\users\\chl\\.conda\\envs\\geemap_chl\\lib\\site-packages (from google-resumable-media>=2.3.2->google-cloud-storage->earthengine-api>=0.1.347->geemap) (1.1.2)\n",
      "Requirement already satisfied: backcall in c:\\users\\chl\\.conda\\envs\\geemap_chl\\lib\\site-packages (from ipython>=6.1.0->ipywidgets->ipyfilechooser>=0.6.0->geemap) (0.2.0)\n",
      "Requirement already satisfied: jedi>=0.16 in c:\\users\\chl\\.conda\\envs\\geemap_chl\\lib\\site-packages (from ipython>=6.1.0->ipywidgets->ipyfilechooser>=0.6.0->geemap) (0.19.0)\n",
      "Requirement already satisfied: matplotlib-inline in c:\\users\\chl\\.conda\\envs\\geemap_chl\\lib\\site-packages (from ipython>=6.1.0->ipywidgets->ipyfilechooser>=0.6.0->geemap) (0.1.6)\n",
      "Requirement already satisfied: pickleshare in c:\\users\\chl\\.conda\\envs\\geemap_chl\\lib\\site-packages (from ipython>=6.1.0->ipywidgets->ipyfilechooser>=0.6.0->geemap) (0.7.5)\n",
      "Requirement already satisfied: prompt-toolkit!=3.0.37,<3.1.0,>=3.0.30 in c:\\users\\chl\\.conda\\envs\\geemap_chl\\lib\\site-packages (from ipython>=6.1.0->ipywidgets->ipyfilechooser>=0.6.0->geemap) (3.0.39)\n",
      "Requirement already satisfied: pygments>=2.4.0 in c:\\users\\chl\\.conda\\envs\\geemap_chl\\lib\\site-packages (from ipython>=6.1.0->ipywidgets->ipyfilechooser>=0.6.0->geemap) (2.16.1)\n",
      "Requirement already satisfied: stack-data in c:\\users\\chl\\.conda\\envs\\geemap_chl\\lib\\site-packages (from ipython>=6.1.0->ipywidgets->ipyfilechooser>=0.6.0->geemap) (0.6.2)\n",
      "Requirement already satisfied: pyasn1<0.5.0,>=0.4.6 in c:\\users\\chl\\.conda\\envs\\geemap_chl\\lib\\site-packages (from pyasn1-modules>=0.2.1->google-auth>=1.4.1->earthengine-api>=0.1.347->geemap) (0.4.8)\n",
      "Requirement already satisfied: cffi>=1.0.0 in c:\\users\\chl\\.conda\\envs\\geemap_chl\\lib\\site-packages (from google-crc32c<2.0dev,>=1.0->google-resumable-media>=2.3.2->google-cloud-storage->earthengine-api>=0.1.347->geemap) (1.15.1)\n",
      "Requirement already satisfied: parso<0.9.0,>=0.8.3 in c:\\users\\chl\\.conda\\envs\\geemap_chl\\lib\\site-packages (from jedi>=0.16->ipython>=6.1.0->ipywidgets->ipyfilechooser>=0.6.0->geemap) (0.8.3)\n",
      "Requirement already satisfied: wcwidth in c:\\users\\chl\\.conda\\envs\\geemap_chl\\lib\\site-packages (from prompt-toolkit!=3.0.37,<3.1.0,>=3.0.30->ipython>=6.1.0->ipywidgets->ipyfilechooser>=0.6.0->geemap) (0.2.6)\n",
      "Requirement already satisfied: executing>=1.2.0 in c:\\users\\chl\\.conda\\envs\\geemap_chl\\lib\\site-packages (from stack-data->ipython>=6.1.0->ipywidgets->ipyfilechooser>=0.6.0->geemap) (1.2.0)\n",
      "Requirement already satisfied: asttokens>=2.1.0 in c:\\users\\chl\\.conda\\envs\\geemap_chl\\lib\\site-packages (from stack-data->ipython>=6.1.0->ipywidgets->ipyfilechooser>=0.6.0->geemap) (2.2.1)\n",
      "Requirement already satisfied: pure-eval in c:\\users\\chl\\.conda\\envs\\geemap_chl\\lib\\site-packages (from stack-data->ipython>=6.1.0->ipywidgets->ipyfilechooser>=0.6.0->geemap) (0.2.2)\n",
      "Requirement already satisfied: pycparser in c:\\users\\chl\\.conda\\envs\\geemap_chl\\lib\\site-packages (from cffi>=1.0.0->google-crc32c<2.0dev,>=1.0->google-resumable-media>=2.3.2->google-cloud-storage->earthengine-api>=0.1.347->geemap) (2.21)\n",
      "Requirement already satisfied: geopandas in c:\\users\\chl\\.conda\\envs\\geemap_chl\\lib\\site-packages (0.13.2)\n",
      "Requirement already satisfied: fiona>=1.8.19 in c:\\users\\chl\\.conda\\envs\\geemap_chl\\lib\\site-packages (from geopandas) (1.9.4)\n",
      "Requirement already satisfied: packaging in c:\\users\\chl\\.conda\\envs\\geemap_chl\\lib\\site-packages (from geopandas) (23.1)\n",
      "Requirement already satisfied: pandas>=1.1.0 in c:\\users\\chl\\.conda\\envs\\geemap_chl\\lib\\site-packages (from geopandas) (1.5.3)\n",
      "Requirement already satisfied: pyproj>=3.0.1 in c:\\users\\chl\\.conda\\envs\\geemap_chl\\lib\\site-packages (from geopandas) (3.6.0)\n",
      "Requirement already satisfied: shapely>=1.7.1 in c:\\users\\chl\\.conda\\envs\\geemap_chl\\lib\\site-packages (from geopandas) (2.0.1)\n",
      "Requirement already satisfied: attrs>=19.2.0 in c:\\users\\chl\\.conda\\envs\\geemap_chl\\lib\\site-packages (from fiona>=1.8.19->geopandas) (23.1.0)\n",
      "Requirement already satisfied: certifi in c:\\users\\chl\\.conda\\envs\\geemap_chl\\lib\\site-packages (from fiona>=1.8.19->geopandas) (2023.7.22)\n",
      "Requirement already satisfied: click~=8.0 in c:\\users\\chl\\.conda\\envs\\geemap_chl\\lib\\site-packages (from fiona>=1.8.19->geopandas) (8.1.7)\n",
      "Requirement already satisfied: click-plugins>=1.0 in c:\\users\\chl\\.conda\\envs\\geemap_chl\\lib\\site-packages (from fiona>=1.8.19->geopandas) (1.1.1)\n",
      "Requirement already satisfied: cligj>=0.5 in c:\\users\\chl\\.conda\\envs\\geemap_chl\\lib\\site-packages (from fiona>=1.8.19->geopandas) (0.7.2)\n",
      "Requirement already satisfied: six in c:\\users\\chl\\.conda\\envs\\geemap_chl\\lib\\site-packages (from fiona>=1.8.19->geopandas) (1.16.0)\n",
      "Requirement already satisfied: python-dateutil>=2.8.1 in c:\\users\\chl\\.conda\\envs\\geemap_chl\\lib\\site-packages (from pandas>=1.1.0->geopandas) (2.8.2)\n",
      "Requirement already satisfied: pytz>=2020.1 in c:\\users\\chl\\.conda\\envs\\geemap_chl\\lib\\site-packages (from pandas>=1.1.0->geopandas) (2023.3)\n",
      "Requirement already satisfied: numpy>=1.21.0 in c:\\users\\chl\\.conda\\envs\\geemap_chl\\lib\\site-packages (from pandas>=1.1.0->geopandas) (1.25.2)\n",
      "Requirement already satisfied: colorama in c:\\users\\chl\\.conda\\envs\\geemap_chl\\lib\\site-packages (from click~=8.0->fiona>=1.8.19->geopandas) (0.4.6)\n"
     ]
    },
    {
     "data": {
      "text/html": [
       "<p>To authorize access needed by Earth Engine, open the following\n",
       "        URL in a web browser and follow the instructions:</p>\n",
       "        <p><a href=https://code.earthengine.google.com/client-auth?scopes=https%3A//www.googleapis.com/auth/earthengine%20https%3A//www.googleapis.com/auth/devstorage.full_control&request_id=4cXrtzimgq7iQXk-y7YyC2BustEuzvlf5pj9if-NPec&tc=7XT_I_Tx2i9LYay1uEnSiYfW7iiCtbbPjznEQ8znQKk&cc=UswGSBgrBhk4vRnhkGvoUP9jWQlg4dKzQ-yWC6zv2Tc>https://code.earthengine.google.com/client-auth?scopes=https%3A//www.googleapis.com/auth/earthengine%20https%3A//www.googleapis.com/auth/devstorage.full_control&request_id=4cXrtzimgq7iQXk-y7YyC2BustEuzvlf5pj9if-NPec&tc=7XT_I_Tx2i9LYay1uEnSiYfW7iiCtbbPjznEQ8znQKk&cc=UswGSBgrBhk4vRnhkGvoUP9jWQlg4dKzQ-yWC6zv2Tc</a></p>\n",
       "        <p>The authorization workflow will generate a code, which you should paste in the box below.</p>\n",
       "        "
      ],
      "text/plain": [
       "<IPython.core.display.HTML object>"
      ]
     },
     "metadata": {},
     "output_type": "display_data"
    },
    {
     "name": "stdin",
     "output_type": "stream",
     "text": [
      "Enter verification code:  4/1Adeu5BW5eI8HrEZsvn7QL-pUw_glMpwzcoSkXz-6lmnECfMOkLYlZ7EzGis\n"
     ]
    },
    {
     "name": "stdout",
     "output_type": "stream",
     "text": [
      "\n",
      "Successfully saved authorization token.\n",
      "geemap version = 0.25.0\n",
      "geemap path = ['C:\\\\Users\\\\CHL\\\\.conda\\\\envs\\\\geemap_chl\\\\Lib\\\\site-packages\\\\geemap']\n"
     ]
    }
   ],
   "source": [
    "!pip install geemap\n",
    "# !pip install eerepr\n",
    "!pip install geopandas\n",
    "import os,tarfile,sys\n",
    "# from google.colab import files,drive\n",
    "# drive.mount('/content/drive')\n",
    "# os.chdir('/content/drive/My Drive/Output')\n",
    "# sys.path.append('/content/drive/My Drive/Python_Script')\n",
    "import ee\n",
    "import geemap\n",
    "import numpy as np\n",
    "import pandas as pd\n",
    "import folium\n",
    "import copy\n",
    "import math\n",
    "from tqdm import trange,tqdm\n",
    "from functools import partial\n",
    "import geopandas as gpd\n",
    "# geemap.set_proxy(port=10809)\n",
    "ee.Authenticate()\n",
    "ee.Initialize()\n",
    "print('geemap version = {}\\ngeemap path = {}'.format(geemap.__version__,geemap.__path__))"
   ]
  },
  {
   "cell_type": "code",
   "execution_count": 208,
   "id": "3fbbaf1b-5f12-4ad8-922d-6d10977ddde8",
   "metadata": {},
   "outputs": [],
   "source": [
    "Glacial_lake_2015A = ee.FeatureCollection(\n",
    "    'projects/ee-mrwurenzhe/assets/Glacial_lake/Wu_Asia_Southest_GL_wgs84').filter(ee.Filter.gte('GL_Area', 0.1))\n",
    "    #projects/ee-mrwurenzhe/assets/Glacial_lake/Checkout_polygen\n",
    "\n",
    "# 计算geometry、质心点、最小包络矩形\n",
    "Geo_ext = lambda feature: feature.set({\n",
    "    'Geo': feature.geometry(),\n",
    "    'Centroid': feature.geometry().centroid(),\n",
    "    'Rectangle': feature.geometry().bounds()\n",
    "})\n",
    "\n",
    "Centrid_set = lambda feature: feature.setGeometry(feature.geometry().centroid())\n",
    "Rectangle_set = lambda feature: feature.setGeometry(feature.geometry().bounds())\n",
    "Glacial_lake_2015C = Glacial_lake_2015A.map(Geo_ext).map(Centrid_set)  # 添加属性,修改geometry,计算质心\n",
    "Glacial_lake_2015R = Glacial_lake_2015A.map(Rectangle_set)       # 计算最小包络矩形\n",
    "\n",
    "#抽取属性作为list\n",
    "Glacial_lake_2015A_GeoList = ee.List(Glacial_lake_2015C.reduceColumns(ee.Reducer.toList(), ['Geo']).get('list'))\n",
    "Glacial_lake_2015C_CentriodList = ee.List(Glacial_lake_2015C.reduceColumns(ee.Reducer.toList(),['Centroid']).get('list'))\n",
    "Glacial_lake_2015R_RectangleList = ee.List(Glacial_lake_2015C.reduceColumns(ee.Reducer.toList(),['Rectangle']).get('list'))\n",
    "Num_list = Glacial_lake_2015C_CentriodList.size().getInfo()"
   ]
  },
  {
   "cell_type": "code",
   "execution_count": 209,
   "id": "707e87fe-88a8-42d4-8f44-14d984e2690e",
   "metadata": {},
   "outputs": [],
   "source": [
    "START_DATE  = ee.Date('2019-08-01')\n",
    "END_DATE   = ee.Date('2019-08-30')\n",
    "DEM = ee.Image('USGS/SRTMGL1_003')\n",
    "models = ['volume', 'surface', None]\n",
    "Buffer = 0\n",
    "Model = models[0]\n",
    "I = 1143\n",
    "scale = 30\n",
    "\n",
    "AOI = ee.Feature.geometry(Glacial_lake_2015R_RectangleList.get(I))\n",
    "s1_col = (ee.ImageCollection(\"COPERNICUS/S1_GRD\")\n",
    "          .filter(ee.Filter.eq('instrumentMode', 'IW'))\n",
    "            .filterBounds(AOI)\n",
    "            .filterDate(START_DATE, END_DATE))\n",
    "AOI_buffer = AOI.buffer(distance=2000).bounds()"
   ]
  },
  {
   "cell_type": "code",
   "execution_count": 210,
   "id": "6bc55fa8-f41f-4d0d-836b-0e3431d96ec2",
   "metadata": {},
   "outputs": [],
   "source": [
    "s1_descending = s1_col.filter(ee.Filter.eq('orbitProperties_pass', 'DESCENDING')).first()\n",
    "s1_ascending = s1_col.filter(ee.Filter.eq('orbitProperties_pass', 'ASCENDING')).first()"
   ]
  },
  {
   "cell_type": "code",
   "execution_count": 211,
   "id": "e16d01be-d880-410a-98f8-fb953ddb773f",
   "metadata": {},
   "outputs": [
    {
     "name": "stdout",
     "output_type": "stream",
     "text": [
      "Corrected across-range-look direction 98.9867776867089\n"
     ]
    }
   ],
   "source": [
    "image = s1_descending\n",
    "orbitProperties_pass = image.get('orbitProperties_pass').getInfo()\n",
    "elevation = DEM\n",
    "# get the image geometry and projection\n",
    "geom = image.geometry()\n",
    "proj = image.select(1).projection()\n",
    "\n",
    "def getASCCorners(image, AOI_buffer):\n",
    "    # 真实方位角\n",
    "    coords = ee.Array(image.geometry().coordinates().get(0)).transpose()\n",
    "    crdLons = ee.List(coords.toList().get(0))\n",
    "    crdLats = ee.List(coords.toList().get(1))\n",
    "    minLon = crdLons.sort().get(0)\n",
    "    maxLon = crdLons.sort().get(-1)\n",
    "    minLat = crdLats.sort().get(0)\n",
    "    maxLat = crdLats.sort().get(-1)\n",
    "    azimuth = (ee.Number(crdLons.get(crdLats.indexOf(minLat))).subtract(minLon).atan2(ee.Number(crdLats.get(crdLons.indexOf(minLon))).subtract(minLat))\n",
    "               .multiply(180.0 / math.pi))\n",
    "\n",
    "    if orbitProperties_pass == 'ASCENDING':\n",
    "        azimuth = azimuth.add(270.0)\n",
    "        rotationFromNorth = azimuth.subtract(360.0)\n",
    "    elif orbitProperties_pass == 'DESCENDING':\n",
    "        azimuth = azimuth.add(180.0)\n",
    "        rotationFromNorth = azimuth.subtract(180.0)\n",
    "    else:\n",
    "        raise TypeError\n",
    "    azimuthEdge = (ee.Feature(ee.Geometry.LineString([crdLons.get(crdLats.indexOf(minLat)), minLat, minLon,\n",
    "                              crdLats.get(crdLons.indexOf(minLon))]), {'azimuth': azimuth}).copyProperties(image))\n",
    "\n",
    "    coords = ee.Array(image.clip(\n",
    "        AOI_buffer).geometry().coordinates().get(0)).transpose()\n",
    "    crdLons = ee.List(coords.toList().get(0))\n",
    "    crdLats = ee.List(coords.toList().get(1))\n",
    "    minLon = crdLons.sort().get(0)\n",
    "    maxLon = crdLons.sort().get(-1)\n",
    "    minLat = crdLats.sort().get(0)\n",
    "    maxLat = crdLats.sort().get(-1)\n",
    "    azimuth = (ee.Number(crdLons.get(crdLats.indexOf(minLat))).subtract(minLon).atan2(ee.Number(crdLats.get(crdLons.indexOf(minLon))).subtract(minLat))\n",
    "               .multiply(180.0 / math.pi))\n",
    "    if orbitProperties_pass == 'ASCENDING':\n",
    "        # 左上角\n",
    "        startpoint = ee.List([minLon, maxLat])\n",
    "        # 右下角\n",
    "        endpoint = ee.List([maxLon, minLat])\n",
    "    elif orbitProperties_pass == 'DESCENDING':\n",
    "        # 右上角\n",
    "        startpoint = ee.List([maxLon, maxLat])\n",
    "        # 左下角\n",
    "        endpoint = ee.List([minLon, minLat])\n",
    "\n",
    "    coordinates_dict = {'crdLons': crdLons, 'crdLats': crdLats,\n",
    "                        'minLon': minLon, 'maxLon': maxLon, 'minLat': minLat, 'maxLat': maxLat}\n",
    "\n",
    "    return azimuthEdge, rotationFromNorth, startpoint, endpoint, coordinates_dict\n",
    "Angle_aspect = ee.Terrain.aspect(image.select('angle'))\n",
    "# s1_azimuth_across = Angle_aspect.reduceRegion(ee.Reducer.mean(), geom, 1000).get('aspect')\n",
    "\n",
    "azimuthEdge, rotationFromNorth, startpoint, endpoint, coordinates_dict = getASCCorners(image, AOI_buffer)\n",
    "Heading = azimuthEdge.get('azimuth')\n",
    "Heading_Rad = ee.Image.constant(Heading).multiply(np.pi / 180)\n",
    "\n",
    "s1_azimuth_across = ee.Number(Heading).subtract(90.0)\n",
    "theta_iRad = image.select('angle').multiply(np.pi / 180)  # 地面入射角度转为弧度\n",
    "phi_iRad = ee.Image.constant(s1_azimuth_across).multiply(np.pi / 180)  # 方位角转弧度\n",
    "\n",
    "alpha_sRad = ee.Terrain.slope(elevation).select('slope').multiply(\n",
    "    np.pi / 180).setDefaultProjection(proj).clip(geom)          # 坡度(与地面夹角)\n",
    "phi_sRad = ee.Terrain.aspect(elevation).select('aspect').multiply(\n",
    "    np.pi / 180).setDefaultProjection(proj).clip(geom)          # 坡向角，(坡度陡峭度)坡与正北方向夹角(陡峭度)，从正北方向起算，顺时针计算角度\n",
    "\n",
    "height = elevation.setDefaultProjection(proj).clip(geom)\n",
    "\n",
    "phi_rRad = phi_iRad.subtract(phi_sRad)     # (飞行方向角度-坡度陡峭度)飞行方向与坡向之间的夹角\n",
    "# 分解坡度，在水平方向和垂直方向进行分解，为固定公式，cos对应水平分解，sin对应垂直分解\n",
    "alpha_rRad = (alpha_sRad.tan().multiply(phi_rRad.cos())).atan()     # 距离向分解\n",
    "alpha_azRad = (alpha_sRad.tan().multiply(phi_rRad.sin())).atan()     # 方位向分解\n",
    "\n",
    "theta_liaRad = (alpha_azRad.cos().multiply(\n",
    "    (theta_iRad.subtract(alpha_rRad)).cos())).acos()               # LIA\n",
    "theta_liaDeg = theta_liaRad.multiply(180 / np.pi)                # LIA转弧度\n",
    "\n",
    "\n",
    "\n",
    "# ------------------------------RS几何畸变区域--------------------------------- 同戴可人：高山峡谷区滑坡灾害隐患InSAR早期识别\n",
    "layover = alpha_rRad.gt(theta_iRad).rename('layover')\n",
    "ninetyRad = ee.Image.constant(90).multiply(np.pi / 180)\n",
    "shadow = alpha_rRad.lt(ee.Image.constant(-1).multiply(ninetyRad.subtract(theta_iRad))).rename('shadow')\n",
    "\n",
    "# # ------------------------------IJRS几何畸变区域-------------------------------\n",
    "# layover = alpha_rRad.gt(theta_iRad).rename('layover')\n",
    "# shadow = theta_liaDeg.gt(ee.Image.constant(85).multiply(np.pi / 180)).rename('shadow')\n",
    "\n",
    "# # ------------------------------武大学报几何畸变区域---------------------------\n",
    "# layover = theta_liaDeg.lt(ee.Image.constant(0).multiply(np.pi / 180)).rename('layover')\n",
    "# shadow = theta_liaDeg.gt(ee.Image.constant(90).multiply(np.pi / 180)).rename('shadow')\n",
    "\n",
    "# RINDEX，暂时无用\n",
    "# if orbitProperties_pass == 'ASCENDING':\n",
    "#   A = phi_sRad.subtract(Heading_Rad)\n",
    "# elif orbitProperties_pass == 'DESCENDING':\n",
    "#   A = phi_sRad.add(Heading_Rad).add(np.pi)\n",
    "# R_Index = theta_iRad.subtract(alpha_sRad.multiply(A.sin()))\n",
    "# layover =\n",
    "\n",
    "\n",
    "def rgbmask(layover, shadow):\n",
    "    r = ee.Image.constant(0).select([0], ['red'])\n",
    "    g = ee.Image.constant(0).select([0], ['green'])\n",
    "    b = ee.Image.constant(0).select([0], ['blue'])\n",
    "\n",
    "    r = r.where(layover, 255)\n",
    "    g = g.where(shadow, 255)\n",
    "\n",
    "    return ee.Image.cat([r, g, b]).byte().updateMask(image.mask())\n",
    "\n",
    "# combine layover and shadow,因为shadow和layover都是0\n",
    "no_data_mask = layover.And(shadow).rename('no_data_mask')\n",
    "no_data_maskrgb = rgbmask(layover, shadow)\n",
    "\n",
    "def Eq_pixels(x): return ee.Image.constant(0).where(x, x).updateMask(x.mask())\n",
    "\n",
    "image2 = (Eq_pixels(image.select('VV')).rename('VV_sigma0').addBands(Eq_pixels(image.select('VH')).rename('VH_sigma0'))\n",
    "          .addBands(Eq_pixels(image.select('angle')).rename('incAngle')).addBands(Eq_pixels(layover).rename('layover'))\n",
    "          .addBands(Eq_pixels(shadow).rename('shadow'))\n",
    "          .addBands(Eq_pixels(no_data_mask).rename('no_data_mask'))\n",
    "          .addBands(no_data_maskrgb).addBands(Eq_pixels(height).rename('height')))\n",
    "\n",
    "cal_image = (image2.addBands(ee.Image.pixelCoordinates(proj)).addBands(ee.Image.pixelLonLat())\n",
    "             .reproject(crs=proj, scale=scale).updateMask(image2.select('VV_sigma0').mask()).clip(AOI_buffer))\n",
    "height = cal_image.select('height')\n",
    "layover = cal_image.select('layover')\n",
    "shadow = cal_image.select('shadow')\n",
    "no_data_mask = cal_image.select('no_data_mask')\n",
    "no_data_maskrgb = cal_image.select('no_data_maskrgb')\n",
    "\n",
    "print(\"Corrected across-range-look direction\", s1_azimuth_across.getInfo())\n",
    "# print(\"True azimuth across-range-look direction\", ee.Number(Heading).subtract(90.0).getInfo())"
   ]
  },
  {
   "cell_type": "code",
   "execution_count": 212,
   "id": "d382d27a-bc26-426f-a2b4-91d9983212d3",
   "metadata": {},
   "outputs": [
    {
     "data": {
      "application/vnd.jupyter.widget-view+json": {
       "model_id": "e433029d967941febb687f47c2ad9850",
       "version_major": 2,
       "version_minor": 0
      },
      "text/plain": [
       "Map(center=[30.17633989163365, 94.28168536055013], controls=(WidgetControl(options=['position', 'transparent_b…"
      ]
     },
     "execution_count": 212,
     "metadata": {},
     "output_type": "execute_result"
    }
   ],
   "source": [
    "Map = geemap.Map(basemap='HYBRID')\n",
    "Map.centerObject(AOI, zoom=14)\n",
    "Map.addLayer(AOI, {'color': 'green'}, 'Center')\n",
    "Auxiliarylines = ee.Geometry.LineString([startpoint,endpoint])\n",
    "Map.addLayer(Auxiliarylines, {}, 'Auxiliarylines')\n",
    "Map.addLayer(cal_image.select('VV_sigma0'),{'min':-40,'max':5}, 'VV_sigma0')\n",
    "# Map.addLayer(cal_image.select('x'),{},'x')\n",
    "Map.addLayer(cal_image.select('red','green','blue'), {'min':0,'max':255}, 'no_data_maskrgb')\n",
    "Map # 显示地图窗口"
   ]
  },
  {
   "cell_type": "code",
   "execution_count": 213,
   "id": "26ecc75d-3a55-454e-a375-c7f22ef79e02",
   "metadata": {},
   "outputs": [],
   "source": [
    "# 1、选一根线，逐点计算，获取梯度方向，构建梯度向量\n",
    "# 2、根据已有的方位向量，构建y=kx+c的方程，使用该方程沿对角线像素进行遍历，计算路径上的被动几何畸变\n",
    "# 将方位角转化为斜率\n",
    "# 用于分析栅格像元\n",
    "def reduce_tolist(each): return ee.Image(each).reduceRegion(\n",
    "    reducer=ee.Reducer.toList(), geometry=image.geometry(), scale=scale, maxPixels=1e13)\n",
    "\n",
    "def angle2slope(angle):\n",
    "    if type(angle) == ee.ee_number.Number:\n",
    "        angle = angle.getInfo()\n",
    "    if 0 < angle <= 90 or 180 < angle <= 270:\n",
    "        if 180 < angle <= 270:\n",
    "            angle = 90-(angle - 180)\n",
    "        arc = angle/180*math.pi\n",
    "        slop = math.tan(arc)\n",
    "    elif 90 < angle <= 180 or 270 < angle <= 360:\n",
    "        if 90 < angle <= 180:\n",
    "            angle = angle - 90\n",
    "        elif 270 < angle <= 360:\n",
    "            angle = angle - 270\n",
    "        arc = angle/180*math.pi\n",
    "        slop = -math.tan(arc)\n",
    "    return slop\n",
    "\n",
    "# 计算斜率\n",
    "K = angle2slope(s1_azimuth_across)\n",
    "\n",
    "# 过Auxiliarylines中的点，从最小经度到最大经度\n",
    "Max_Lon = coordinates_dict['maxLon'].getInfo()\n",
    "Min_Lon = coordinates_dict['minLon'].getInfo()\n",
    "AuxiliaryPoints = reduce_tolist(cal_image.select(\n",
    "    [ 'longitude', 'latitude']).clip(Auxiliarylines)).getInfo()\n",
    "\n",
    "#获取辅助线上的所有点数据\n",
    "Aux_lon = np.array(AuxiliaryPoints['longitude'])\n",
    "Aux_lon, indices_Aux_lon = np.unique(Aux_lon, return_index=True)\n",
    "Aux_lat = np.array(AuxiliaryPoints['latitude'])[indices_Aux_lon]\n",
    "\n",
    "Templist = []\n",
    "for X, Y in zip(Aux_lon, Aux_lat):\n",
    "    C = Y - K*X\n",
    "    Min_Lon_Y = K*Min_Lon + C\n",
    "    Max_lon_Y = K*Max_Lon + C\n",
    "    Templist.append(ee.Feature(ee.Geometry.LineString(\n",
    "        [Min_Lon, Min_Lon_Y, Max_Lon, Max_lon_Y])))\n",
    "SightLines = ee.FeatureCollection(Templist)\n",
    "Map.addLayer(SightLines, {'color': 'white'}, 'test')"
   ]
  },
  {
   "cell_type": "code",
   "execution_count": 214,
   "id": "b3aeecb8-0370-44df-837b-3bd086f4c46a",
   "metadata": {},
   "outputs": [
    {
     "data": {
      "text/plain": [
       "-0.15814788698105856"
      ]
     },
     "execution_count": 214,
     "metadata": {},
     "output_type": "execute_result"
    }
   ],
   "source": [
    "K"
   ]
  },
  {
   "cell_type": "code",
   "execution_count": 218,
   "id": "bc7a0b78-98ad-4fe2-b878-defcf0cf07e8",
   "metadata": {},
   "outputs": [
    {
     "name": "stderr",
     "output_type": "stream",
     "text": [
      "100%|██████████████████████████████████████████████████████████████████████████████| 480/480 [00:00<00:00, 5199.08it/s]\n",
      "100%|███████████████████████████████████████████████████████████████████████████████| 480/480 [00:00<00:00, 657.27it/s]\n"
     ]
    }
   ],
   "source": [
    "from scipy.signal import argrelextrema\n",
    "from tqdm import tqdm\n",
    "\n",
    "line_points_list = []\n",
    "# LPassive_layover_linList = []\n",
    "# RPassive_layover_linList = []\n",
    "# Shadow_linList = []\n",
    "\n",
    "for eachLine in tqdm(Templist):\n",
    "  # 求与辅助线相交的像素值,求取极值点位置\n",
    "  LineImg = cal_image.select(\n",
    "      ['height', 'layover', 'shadow', 'incAngle', 'x', 'y', 'longitude', 'latitude']).clip(eachLine)\n",
    "  LineImg_point = LineImg.reduceRegion(\n",
    "      reducer=ee.Reducer.toList(),\n",
    "      geometry=image.geometry(),\n",
    "      scale=30,\n",
    "      maxPixels=1e13)\n",
    "  line_points_list.append(LineImg_point)\n",
    "list_of_dicts = ee.List(line_points_list).getInfo() # 需转换数据到本地，严重耗时\n",
    "# 分别为右侧被动叠掩点、左侧被动叠掩点和被动阴影点经纬度列表\n",
    "r_lon_sum=[]\n",
    "r_lat_sum=[]\n",
    "l_lon_sum=[]\n",
    "l_lat_sum=[]\n",
    "sh_lon_sum=[]\n",
    "sh_lat_sum=[]\n",
    "# 逐视线检索被动畸变\n",
    "for PointDict in tqdm(list_of_dicts):\n",
    "    if orbitProperties_pass == 'ASCENDING':\n",
    "        order = np.argsort(PointDict['x'])\n",
    "    elif orbitProperties_pass == 'DESCENDING':\n",
    "        order = np.argsort(PointDict['x'])[::-1]\n",
    "    PointDict = {k: np.array(v)[order] for k, v in PointDict.items()} #将视线上的像元按照x，从小到大排序\n",
    "    PointDict['x'], PointDict['y'] = PointDict['x'] * \\\n",
    "        10, PointDict['y'] * 10  # 像素行列10m分辨率，由proj得\n",
    "    EasyIndex = lambda Data, Index, *Keys: [Data[key][Index] for key in Keys]\n",
    "    # 被动阴影像元识别\n",
    "    if len(np.where(PointDict['shadow']==1)[0])!=0:\n",
    "        # 利用grad_fn函数识别出主动阴影起始索引和结束索引\n",
    "        shadow_grad_fn=lambda shadow_array: [shadow_array[i+1]-shadow_array[i] for i in range(len(shadow_array)-1)]\n",
    "        PointDict_shadow_padding=np.insert(PointDict['shadow'],0,0)\n",
    "        shadow_grad=np.array(shadow_grad_fn(PointDict_shadow_padding))\n",
    "        # 防止PointDict['shadow']最后是以1结尾，导致-1比1个数少一个，且1结尾没有检测被动阴影必要，所以直接去掉\n",
    "        if PointDict_shadow_padding[-1]==1:\n",
    "            shadow_start_index=np.where(shadow_grad==1)[0][:-1]\n",
    "        else:\n",
    "            shadow_start_index=np.where(shadow_grad==1)[0]\n",
    "        shadow_range_index=np.where(shadow_grad==-1)[0]\n",
    "        # 以主动阴影的起始像元位置为参考点\n",
    "        sh_h, sh_x,s_y, sh_lon, sh_lat, sh_angle = EasyIndex(\n",
    "            PointDict, shadow_start_index, 'height', 'x', 'y', 'longitude', 'latitude', 'incAngle')\n",
    "        # 在某一视线中，逐段主动阴影进行分析\n",
    "        if len(shadow_start_index)!=0:\n",
    "            for i in range(shadow_start_index.size):\n",
    "                start_sh_index=shadow_start_index[i]\n",
    "                range_sh_index=shadow_range_index[i]\n",
    "                index_Shadow=[]\n",
    "                # 确定检索像元范围\n",
    "                if range_sh_index+50<len(PointDict['shadow']):\n",
    "                    rangeIndex_shadow=range(range_sh_index,range_sh_index+50)\n",
    "                else:\n",
    "                    rangeIndex_shadow=range(range_sh_index,len(PointDict['shadow']))\n",
    "                if len(rangeIndex_shadow)!=0:\n",
    "                    sh_Range_h, sh_Range_x, sh_Range_y, sh_Range_lon, sh_Range_lat = EasyIndex(\n",
    "                        PointDict, rangeIndex_shadow, 'height', 'x', 'y', 'longitude', 'latitude')\n",
    "                    shadow_angle_iRad = np.arctan((sh_h[i]-sh_Range_h)/np.sqrt(np.square(sh_Range_x - sh_x[i]) + np.square(sh_Range_y-s_y[i])))\n",
    "                    shadow_angle=shadow_angle_iRad* 180 / math.pi\n",
    "                    index_Shadow=np.where(shadow_angle > (90-sh_angle[i]))[0]\n",
    "\n",
    "                if len(index_Shadow)!=0:\n",
    "                    tlon_shadow = sh_Range_lon[index_Shadow]\n",
    "                    tlat_shadow= sh_Range_lat[index_Shadow]\n",
    "                    for j in range(len(tlon_shadow)):\n",
    "                        sh_lon_sum.append(tlon_shadow[j])\n",
    "                        sh_lat_sum.append(tlat_shadow[j])\n",
    "\n",
    "    # 左右侧被动叠掩\n",
    "    if len(np.where(PointDict['layover']==1)[0])!=0:\n",
    "        layover_grad_fn=lambda lay_array: [lay_array[i+1]-lay_array[i] for i in range(len(lay_array)-1)]\n",
    "        PointDict_lay_padding=np.insert(PointDict['layover'],0,0)\n",
    "        # PointDict_lay_padding=np.append(PointDict_lay_padding,0)\n",
    "        layover_grad=np.array(layover_grad_fn(PointDict_lay_padding))\n",
    "        if PointDict_lay_padding[-1]==1:\n",
    "            rlayover_start_index=np.where(layover_grad==1)[0][:-1]\n",
    "        else:\n",
    "            rlayover_start_index=np.where(layover_grad==1)[0]\n",
    "        rlayover_range_index=np.where(layover_grad==-1)[0]\n",
    "        #右侧叠掩以rlayover_start_index为参考点，rlayover_range_index为像元检索起点，左侧叠掩相反\n",
    "        s_h, s_x,s_y, s_lon, s_lat, s_angle = EasyIndex(\n",
    "            PointDict, rlayover_start_index, 'height', 'x', 'y', 'longitude', 'latitude', 'incAngle')\n",
    "        d_h, d_x,d_y, d_lon, d_lat, d_angle = EasyIndex(\n",
    "            PointDict, rlayover_range_index, 'height', 'x', 'y', 'longitude', 'latitude', 'incAngle')\n",
    "        # 同时进行左右俩侧像元叠掩检测\n",
    "        for i in range(rlayover_start_index.size):\n",
    "            start_index=rlayover_start_index[i]\n",
    "            range_index=rlayover_range_index[i]\n",
    "            index_Rlayover=[]\n",
    "            index_Llayover=[]\n",
    "            if range_index+50<len(PointDict['layover']):\n",
    "                rangeIndex=range(range_index,range_index+50)\n",
    "            else:\n",
    "                rangeIndex=range(range_index,len(PointDict['layover']))\n",
    "\n",
    "            if start_index-50>0:\n",
    "                rangeIndex_l=range(start_index-50,start_index)\n",
    "            else:\n",
    "                rangeIndex_l=range(start_index)\n",
    "            # 为检测出完整的被动叠掩位置，像元应同时满足其与主动叠掩起始位置和终止位置的几何关系\n",
    "            if len(rangeIndex)!=0:\n",
    "                r_Range_h, r_Range_x, r_Range_y, r_Range_lon, r_Range_lat = EasyIndex(\n",
    "                    PointDict, rangeIndex, 'height', 'x', 'y', 'longitude', 'latitude')\n",
    "                Rlay_start_iRad = np.arctan(\n",
    "                    (r_Range_h-s_h[i])/np.sqrt(np.square(r_Range_x - s_x[i]) + np.square(r_Range_y-s_y[i])))\n",
    "                Rlay_end_iRad = np.arctan(\n",
    "                    (r_Range_h-d_h[i])/np.sqrt(np.square(r_Range_x - d_x[i]) + np.square(r_Range_y-d_y[i])))\n",
    "                Rlay_start = Rlay_start_iRad * 180 / math.pi\n",
    "                Rlay_end=Rlay_end_iRad * 180 / math.pi\n",
    "                index_Rlayover=np.where(np.logical_and(Rlay_start>s_angle[i],Rlay_end<d_angle[i]))[0]\n",
    "\n",
    "            if len(rangeIndex_l)!=0:\n",
    "                l_Range_h, l_Range_x, l_Range_y, l_Range_lon, l_Range_lat = EasyIndex(\n",
    "                    PointDict, rangeIndex_l, 'height', 'x', 'y', 'longitude', 'latitude')\n",
    "                Llay_start_iRad = np.arctan(\n",
    "                    (s_h[i]-l_Range_h)/np.sqrt(np.square(s_x[i]-l_Range_x) + np.square(s_y[i]-l_Range_y)))\n",
    "                Llay_end_iRad = np.arctan(\n",
    "                    (d_h[i]-l_Range_h)/np.sqrt(np.square(d_x[i]-l_Range_x) + np.square(d_y[i]-l_Range_y)))\n",
    "                Llay_start=Llay_start_iRad*180/math.pi\n",
    "                Llay_end=Llay_end_iRad*180/math.pi\n",
    "                index_Llayover=np.where(np.logical_and(Llay_start<s_angle[i],Llay_end>d_angle[i]))[0]\n",
    "\n",
    "            if len(index_Rlayover)!=0:\n",
    "                tlon_RLay = r_Range_lon[index_Rlayover]\n",
    "                tlat_RLay = r_Range_lat[index_Rlayover]\n",
    "                for j in range(len(tlat_RLay)):\n",
    "                    r_lon_sum.append(tlon_RLay[j])\n",
    "                    r_lat_sum.append(tlat_RLay[j])\n",
    "            if len(index_Llayover)!=0:\n",
    "                tlon_LLay = l_Range_lon[index_Llayover]\n",
    "                tlat_LLay = l_Range_lat[index_Llayover]\n",
    "                for j in range(len(tlat_LLay)):\n",
    "                    l_lon_sum.append(tlon_LLay[j])\n",
    "                    l_lat_sum.append(tlat_LLay[j])\n",
    "\n",
    "\n",
    "rlay_featurecollection=ee.FeatureCollection([ee.Feature(ee.Geometry.Point(x, y), {'values': 5}) for x, y in zip(r_lon_sum, r_lat_sum)])\n",
    "shadow_featurecollection=ee.FeatureCollection([ee.Feature(ee.Geometry.Point(x, y), {'values': 3}) for x, y in zip(sh_lon_sum, sh_lat_sum)])\n",
    "llay_featurecollection=ee.FeatureCollection([ee.Feature(ee.Geometry.Point(x, y), {'values': 4}) for x, y in zip(l_lon_sum, l_lat_sum)])"
   ]
  },
  {
   "cell_type": "code",
   "execution_count": 140,
   "id": "06c0d898-aaac-4c7e-a9c7-6154f72e3f12",
   "metadata": {},
   "outputs": [],
   "source": [
    "rlay_featurecollection2=ee.FeatureCollection([ee.Feature(ee.Geometry.Point(x, y), {'values': 5}) for x, y in zip(lon_sum[:4], lat_sum[:4])])\n",
    "rlay_image2=rlay_featurecollection2.reduceToImage(['values'], ee.Reducer.mean())"
   ]
  },
  {
   "cell_type": "code",
   "execution_count": 216,
   "id": "9657e7da-4824-4da5-bdd8-b45829a14f72",
   "metadata": {},
   "outputs": [
    {
     "name": "stderr",
     "output_type": "stream",
     "text": [
      "100%|██████████████████████████████████████████████████████████████████████████████| 480/480 [00:00<00:00, 4973.66it/s]\n",
      "100%|███████████████████████████████████████████████████████████████████████████████| 480/480 [00:00<00:00, 713.91it/s]\n"
     ]
    }
   ],
   "source": [
    "def Line_Correct_test(cal_image,AOI_buffer,Templist, orbitProperties_pass, proj, scale:int):\n",
    "    line_points_list = []\n",
    "    # LPassive_layover_linList = []\n",
    "    # RPassive_layover_linList = []\n",
    "    # Shadow_linList = []\n",
    "\n",
    "    for eachLine in tqdm(Templist):\n",
    "        # 求与辅助线相交的像素值,求取极值点位置\n",
    "        LineImg = cal_image.select(\n",
    "            ['height', 'layover', 'shadow', 'incAngle', 'x', 'y', 'longitude', 'latitude']).clip(eachLine)\n",
    "        LineImg_point = LineImg.reduceRegion(\n",
    "            reducer=ee.Reducer.toList(),\n",
    "            geometry=cal_image.geometry(),\n",
    "            scale=30,\n",
    "            maxPixels=1e13)\n",
    "        line_points_list.append(LineImg_point)\n",
    "    list_of_dicts = ee.List(line_points_list).getInfo()  # 需转换数据到本地，严重耗时\n",
    "    # 分别为右侧被动叠掩点、左侧被动叠掩点和被动阴影点经纬度列表\n",
    "    r_lon_sum = []\n",
    "    r_lat_sum = []\n",
    "    l_lon_sum = []\n",
    "    l_lat_sum = []\n",
    "    sh_lon_sum = []\n",
    "    sh_lat_sum = []\n",
    "    # 逐视线检索被动畸变\n",
    "    for PointDict in tqdm(list_of_dicts):\n",
    "        if orbitProperties_pass == 'ASCENDING':\n",
    "            order = np.argsort(PointDict['x'])\n",
    "        elif orbitProperties_pass == 'DESCENDING':\n",
    "            order = np.argsort(PointDict['x'])[::-1]\n",
    "        PointDict = {k: np.array(v)[order] for k, v in PointDict.items()}  # 将视线上的像元按照x，从小到大排序\n",
    "        PointDict['x'], PointDict['y'] = PointDict['x'] * \\\n",
    "                                         10, PointDict['y'] * 10  # 像素行列10m分辨率，由proj得\n",
    "        EasyIndex = lambda Data, Index, *Keys: [Data[key][Index] for key in Keys]\n",
    "        # 被动阴影像元识别\n",
    "        if len(np.where(PointDict['shadow'] == 1)[0]) != 0:\n",
    "            # 利用grad_fn函数识别出主动阴影起始索引和结束索引\n",
    "            shadow_grad_fn = lambda shadow_array: [shadow_array[i + 1] - shadow_array[i] for i in\n",
    "                                                   range(len(shadow_array) - 1)]\n",
    "            PointDict_shadow_padding = np.insert(PointDict['shadow'], 0, 0)\n",
    "            shadow_grad = np.array(shadow_grad_fn(PointDict_shadow_padding))\n",
    "            # 防止PointDict['shadow']最后是以1结尾，导致-1比1个数少一个，且1结尾没有检测被动阴影必要，所以直接去掉\n",
    "            if PointDict_shadow_padding[-1] == 1:\n",
    "                shadow_start_index = np.where(shadow_grad == 1)[0][:-1]\n",
    "            else:\n",
    "                shadow_start_index = np.where(shadow_grad == 1)[0]\n",
    "            shadow_range_index = np.where(shadow_grad == -1)[0]\n",
    "            # 以主动阴影的起始像元位置为参考点\n",
    "            sh_h, sh_x, s_y, sh_lon, sh_lat, sh_angle = EasyIndex(\n",
    "                PointDict, shadow_start_index, 'height', 'x', 'y', 'longitude', 'latitude', 'incAngle')\n",
    "            # 在某一视线中，逐段主动阴影进行分析\n",
    "            if len(shadow_start_index) != 0:\n",
    "                for i in range(shadow_start_index.size):\n",
    "                    start_sh_index = shadow_start_index[i]\n",
    "                    range_sh_index = shadow_range_index[i]\n",
    "                    index_Shadow = []\n",
    "                    # 确定检索像元范围\n",
    "                    if range_sh_index + 50 < len(PointDict['shadow']):\n",
    "                        rangeIndex_shadow = range(range_sh_index, range_sh_index + 50)\n",
    "                    else:\n",
    "                        rangeIndex_shadow = range(range_sh_index, len(PointDict['shadow']))\n",
    "                    if len(rangeIndex_shadow) != 0:\n",
    "                        sh_Range_h, sh_Range_x, sh_Range_y, sh_Range_lon, sh_Range_lat = EasyIndex(\n",
    "                            PointDict, rangeIndex_shadow, 'height', 'x', 'y', 'longitude', 'latitude')\n",
    "                        shadow_angle_iRad = np.arctan((sh_h[i] - sh_Range_h) / np.sqrt(\n",
    "                            np.square(sh_Range_x - sh_x[i]) + np.square(sh_Range_y - s_y[i])))\n",
    "                        shadow_angle = shadow_angle_iRad * 180 / math.pi\n",
    "                        index_Shadow = np.where(shadow_angle > (90 - sh_angle[i]))[0]\n",
    "\n",
    "                    if len(index_Shadow) != 0:\n",
    "                        tlon_shadow = sh_Range_lon[index_Shadow]\n",
    "                        tlat_shadow = sh_Range_lat[index_Shadow]\n",
    "                        for j in range(len(tlon_shadow)):\n",
    "                            sh_lon_sum.append(tlon_shadow[j])\n",
    "                            sh_lat_sum.append(tlat_shadow[j])\n",
    "\n",
    "        # 左右侧被动叠掩\n",
    "        if len(np.where(PointDict['layover'] == 1)[0]) != 0:\n",
    "            layover_grad_fn = lambda lay_array: [lay_array[i + 1] - lay_array[i] for i in range(len(lay_array) - 1)]\n",
    "            PointDict_lay_padding = np.insert(PointDict['layover'], 0, 0)\n",
    "            # PointDict_lay_padding=np.append(PointDict_lay_padding,0)\n",
    "            layover_grad = np.array(layover_grad_fn(PointDict_lay_padding))\n",
    "            if PointDict_lay_padding[-1] == 1:\n",
    "                rlayover_start_index = np.where(layover_grad == 1)[0][:-1]\n",
    "            else:\n",
    "                rlayover_start_index = np.where(layover_grad == 1)[0]\n",
    "            rlayover_range_index = np.where(layover_grad == -1)[0]\n",
    "            # 右侧叠掩以rlayover_start_index为参考点，rlayover_range_index为像元检索起点，左侧叠掩相反\n",
    "            s_h, s_x, s_y, s_lon, s_lat, s_angle = EasyIndex(\n",
    "                PointDict, rlayover_start_index, 'height', 'x', 'y', 'longitude', 'latitude', 'incAngle')\n",
    "            d_h, d_x, d_y, d_lon, d_lat, d_angle = EasyIndex(\n",
    "                PointDict, rlayover_range_index, 'height', 'x', 'y', 'longitude', 'latitude', 'incAngle')\n",
    "            # 同时进行左右俩侧像元叠掩检测\n",
    "            for i in range(rlayover_start_index.size):\n",
    "                start_index = rlayover_start_index[i]\n",
    "                range_index = rlayover_range_index[i]\n",
    "                index_Rlayover = []\n",
    "                index_Llayover = []\n",
    "                if range_index + 50 < len(PointDict['layover']):\n",
    "                    rangeIndex = range(range_index, range_index + 50)\n",
    "                else:\n",
    "                    rangeIndex = range(range_index, len(PointDict['layover']))\n",
    "\n",
    "                if start_index - 50 > 0:\n",
    "                    rangeIndex_l = range(start_index - 50, start_index)\n",
    "                else:\n",
    "                    rangeIndex_l = range(start_index)\n",
    "                # 为检测出完整的被动叠掩位置，像元应同时满足其与主动叠掩起始位置和终止位置的几何关系\n",
    "                if len(rangeIndex) != 0:\n",
    "                    r_Range_h, r_Range_x, r_Range_y, r_Range_lon, r_Range_lat = EasyIndex(\n",
    "                        PointDict, rangeIndex, 'height', 'x', 'y', 'longitude', 'latitude')\n",
    "                    Rlay_start_iRad = np.arctan(\n",
    "                        (r_Range_h - s_h[i]) / np.sqrt(np.square(r_Range_x - s_x[i]) + np.square(r_Range_y - s_y[i])))\n",
    "                    Rlay_end_iRad = np.arctan(\n",
    "                        (r_Range_h - d_h[i]) / np.sqrt(np.square(r_Range_x - d_x[i]) + np.square(r_Range_y - d_y[i])))\n",
    "                    Rlay_start = Rlay_start_iRad * 180 / math.pi\n",
    "                    Rlay_end = Rlay_end_iRad * 180 / math.pi\n",
    "                    index_Rlayover = np.where(np.logical_and(Rlay_start > s_angle[i], Rlay_end < d_angle[i]))[0]\n",
    "\n",
    "                if len(rangeIndex_l) != 0:\n",
    "                    l_Range_h, l_Range_x, l_Range_y, l_Range_lon, l_Range_lat = EasyIndex(\n",
    "                        PointDict, rangeIndex_l, 'height', 'x', 'y', 'longitude', 'latitude')\n",
    "                    Llay_start_iRad = np.arctan(\n",
    "                        (s_h[i] - l_Range_h) / np.sqrt(np.square(s_x[i] - l_Range_x) + np.square(s_y[i] - l_Range_y)))\n",
    "                    Llay_end_iRad = np.arctan(\n",
    "                        (d_h[i] - l_Range_h) / np.sqrt(np.square(d_x[i] - l_Range_x) + np.square(d_y[i] - l_Range_y)))\n",
    "                    Llay_start = Llay_start_iRad * 180 / math.pi\n",
    "                    Llay_end = Llay_end_iRad * 180 / math.pi\n",
    "                    index_Llayover = np.where(np.logical_and(Llay_start < s_angle[i], Llay_end > d_angle[i]))[0]\n",
    "\n",
    "                if len(index_Rlayover) != 0:\n",
    "                    tlon_RLay = r_Range_lon[index_Rlayover]\n",
    "                    tlat_RLay = r_Range_lat[index_Rlayover]\n",
    "                    for j in range(len(tlat_RLay)):\n",
    "                        r_lon_sum.append(tlon_RLay[j])\n",
    "                        r_lat_sum.append(tlat_RLay[j])\n",
    "                if len(index_Llayover) != 0:\n",
    "                    tlon_LLay = l_Range_lon[index_Llayover]\n",
    "                    tlat_LLay = l_Range_lat[index_Llayover]\n",
    "                    for j in range(len(tlat_LLay)):\n",
    "                        l_lon_sum.append(tlon_LLay[j])\n",
    "                        l_lat_sum.append(tlat_LLay[j])\n",
    "\n",
    "    rlay_featurecollection = ee.FeatureCollection(\n",
    "        [ee.Feature(ee.Geometry.Point(x, y), {'values': 5}) for x, y in zip(r_lon_sum, r_lat_sum)])\n",
    "    shadow_featurecollection = ee.FeatureCollection(\n",
    "        [ee.Feature(ee.Geometry.Point(x, y), {'values': 3}) for x, y in zip(sh_lon_sum, sh_lat_sum)])\n",
    "    llay_featurecollection = ee.FeatureCollection(\n",
    "        [ee.Feature(ee.Geometry.Point(x, y), {'values': 4}) for x, y in zip(l_lon_sum, l_lat_sum)])\n",
    "    image_rlayover = ee.Image().paint(rlay_featurecollection, 'values')\n",
    "    image_llayover = ee.Image().paint(llay_featurecollection, 'values')\n",
    "    image_shadow = ee.Image().paint(shadow_featurecollection, 'values')\n",
    "    img_rlayover = image_rlayover.clip(AOI_buffer).reproject(crs=proj, scale=scale)\n",
    "    img_llayover = image_llayover.clip(AOI_buffer).reproject(crs=proj, scale=scale)\n",
    "    img_shadow = image_shadow.clip(AOI_buffer).reproject(crs=proj, scale=scale)\n",
    "    passive_img = ee.ImageCollection([img_rlayover, img_llayover, img_shadow]).mosaic()\n",
    "    return passive_img\n",
    "pass_img_out=Line_Correct_test(cal_image,AOI_buffer,Templist, orbitProperties_pass, proj, scale)"
   ]
  },
  {
   "cell_type": "code",
   "execution_count": 217,
   "id": "dca66b2f-980b-458c-98cc-7d2db42fd31e",
   "metadata": {},
   "outputs": [
    {
     "data": {
      "application/vnd.jupyter.widget-view+json": {
       "model_id": "e433029d967941febb687f47c2ad9850",
       "version_major": 2,
       "version_minor": 0
      },
      "text/plain": [
       "Map(bottom=1728391.0, center=[30.17633989163365, 94.28168536055013], controls=(WidgetControl(options=['positio…"
      ]
     },
     "execution_count": 217,
     "metadata": {},
     "output_type": "execute_result"
    }
   ],
   "source": [
    "Map.addLayer(pass_img_out,{'min':3,'max':5,'palette':['00ff00','0000ff','ff0000']},'passive_dis')\n",
    "Map"
   ]
  },
  {
   "cell_type": "code",
   "execution_count": 206,
   "id": "912da99c-5fe2-45cb-aac8-faa12bfdc742",
   "metadata": {},
   "outputs": [
    {
     "data": {
      "application/vnd.jupyter.widget-view+json": {
       "model_id": "cd892343b9f04c0d81b753b42d479561",
       "version_major": 2,
       "version_minor": 0
      },
      "text/plain": [
       "Map(bottom=3456861.0, center=[30.16230822258351, 94.26756620407104], controls=(WidgetControl(options=['positio…"
      ]
     },
     "execution_count": 206,
     "metadata": {},
     "output_type": "execute_result"
    }
   ],
   "source": [
    "# Map2=geemap.Map(basemap='HYBRID')\n",
    "# Map2.setCenter(94.26, 30.156, 18)\n",
    "Map.addLayer(llay_featurecollection, {}, 'llay')\n",
    "Map"
   ]
  },
  {
   "cell_type": "code",
   "execution_count": null,
   "id": "5ec02fc4-402c-4a1d-96a3-2a189402d56a",
   "metadata": {},
   "outputs": [],
   "source": []
  },
  {
   "cell_type": "code",
   "execution_count": 219,
   "id": "24a92b85-f30b-40e3-95f7-6b81c997afe6",
   "metadata": {},
   "outputs": [
    {
     "data": {
      "application/vnd.jupyter.widget-view+json": {
       "model_id": "e433029d967941febb687f47c2ad9850",
       "version_major": 2,
       "version_minor": 0
      },
      "text/plain": [
       "Map(bottom=1728391.0, center=[30.17633989163365, 94.28168536055013], controls=(WidgetControl(options=['positio…"
      ]
     },
     "execution_count": 219,
     "metadata": {},
     "output_type": "execute_result"
    }
   ],
   "source": [
    "\n",
    "image_geometry=ee.Geometry.Rectangle([94.25907322317103, 30.155985535186257,94.3042974980902, 30.196694285644316])\n",
    "image_rlayover=ee.Image().paint(rlay_featurecollection,'values')\n",
    "image_llayover=ee.Image().paint(llay_featurecollection,'values')\n",
    "image_shadow=ee.Image().paint(shadow_featurecollection,'values')\n",
    "img_rlayover=image_rlayover.clip(image_geometry).reproject(crs=proj, scale=scale)\n",
    "img_llayover=image_llayover.clip(image_geometry).reproject(crs=proj, scale=scale)\n",
    "img_shadow=image_shadow.clip(image_geometry).reproject(crs=proj, scale=scale)\n",
    "passive_img=ee.ImageCollection([img_rlayover,img_llayover,img_shadow]).mosaic()\n",
    "Map.addLayer(passive_img,{'min':3,'max':5,'palette':['00ff00','0000ff','ff0000']},'passive_dis')\n",
    "Map"
   ]
  },
  {
   "cell_type": "code",
   "execution_count": 132,
   "id": "f7789b27-b039-4fa3-8b2b-67dd7891620b",
   "metadata": {},
   "outputs": [
    {
     "data": {
      "text/plain": [
       "{'geodesic': False,\n",
       " 'type': 'Polygon',\n",
       " 'coordinates': [[[94.25907322317103, 30.155985535186257],\n",
       "   [94.3042974980902, 30.155985535186257],\n",
       "   [94.3042974980902, 30.196694285644316],\n",
       "   [94.25907322317103, 30.196694285644316],\n",
       "   [94.25907322317103, 30.155985535186257]]]}"
      ]
     },
     "execution_count": 132,
     "metadata": {},
     "output_type": "execute_result"
    }
   ],
   "source": [
    "cal_image.geometry().getInfo()"
   ]
  },
  {
   "cell_type": "code",
   "execution_count": 56,
   "id": "cf0b5c86-2d37-420c-baac-dba3daf07595",
   "metadata": {},
   "outputs": [
    {
     "data": {
      "text/plain": [
       "{'type': 'Image',\n",
       " 'bands': [{'id': 'mean',\n",
       "   'data_type': {'type': 'PixelType', 'precision': 'float'},\n",
       "   'crs': 'EPSG:4326',\n",
       "   'crs_transform': [1, 0, 0, 0, 1, 0]}]}"
      ]
     },
     "execution_count": 56,
     "metadata": {},
     "output_type": "execute_result"
    }
   ],
   "source": [
    "float_rl=RightLayover.toFloat()\n",
    "float_rl.getInfo()"
   ]
  },
  {
   "cell_type": "code",
   "execution_count": 113,
   "id": "bc82855a-5f79-4433-ae57-13c99280b152",
   "metadata": {},
   "outputs": [
    {
     "data": {
      "application/vnd.jupyter.widget-view+json": {
       "model_id": "132f32eb17684864ac72c74c4798f5a8",
       "version_major": 2,
       "version_minor": 0
      },
      "text/plain": [
       "Map(center=[30.156, 94.26], controls=(WidgetControl(options=['position', 'transparent_bg'], widget=HBox(childr…"
      ]
     },
     "execution_count": 113,
     "metadata": {},
     "output_type": "execute_result"
    }
   ],
   "source": [
    "\n",
    "Map2=geemap.Map(basemap='HYBRID')\n",
    "Map2.setCenter(94.26, 30.156, 18)\n",
    "# Map2.centerObject(RightLayover, 10)\n",
    "Map2.addLayer(RightLayover, {}, 'RightLayover')\n",
    "# Map.addLayer(LeftLayover.randomVisualizer(), {}, 'LeftLayover')\n",
    "# Map.addLayer(Shadow.randomVisualizer(), {}, 'Shadow')\n",
    "Map2"
   ]
  },
  {
   "cell_type": "code",
   "execution_count": 59,
   "id": "dd7aa8d8-f402-4b86-9579-20576b48b21e",
   "metadata": {},
   "outputs": [
    {
     "name": "stdout",
     "output_type": "stream",
     "text": [
      "Generating URL ...\n",
      "Downloading data from https://earthengine.googleapis.com/v1/projects/earthengine-legacy/thumbnails/3dd896f3b7682edd5a41aafcc41ba954-43f228d0d57b8a705ac1358ca335c1c2:getPixels\n",
      "Please wait ...\n",
      "An error occurred while downloading.\n"
     ]
    }
   ],
   "source": [
    "geemap.ee_export_image(RightLayover,\n",
    "                    filename='rl_image.tif',\n",
    "                    scale=10, region=AOI_buffer, file_per_band=False,timeout=1500)"
   ]
  },
  {
   "cell_type": "code",
   "execution_count": 26,
   "id": "71a40244-582a-4181-bb73-7322a2286c4e",
   "metadata": {},
   "outputs": [
    {
     "data": {
      "text/plain": [
       "{'type': 'Image',\n",
       " 'bands': [{'id': 'mean',\n",
       "   'data_type': {'type': 'PixelType', 'precision': 'double'},\n",
       "   'crs': 'EPSG:4326',\n",
       "   'crs_transform': [1, 0, 0, 0, 1, 0]}]}"
      ]
     },
     "execution_count": 26,
     "metadata": {},
     "output_type": "execute_result"
    }
   ],
   "source": [
    "RightLayover.getInfo()"
   ]
  },
  {
   "cell_type": "code",
   "execution_count": null,
   "id": "a7aa26b6-93b0-4900-8f01-4a22563cf728",
   "metadata": {},
   "outputs": [],
   "source": []
  }
 ],
 "metadata": {
  "kernelspec": {
   "display_name": "Python 3 (ipykernel)",
   "language": "python",
   "name": "python3"
  },
  "language_info": {
   "codemirror_mode": {
    "name": "ipython",
    "version": 3
   },
   "file_extension": ".py",
   "mimetype": "text/x-python",
   "name": "python",
   "nbconvert_exporter": "python",
   "pygments_lexer": "ipython3",
   "version": "3.11.4"
  }
 },
 "nbformat": 4,
 "nbformat_minor": 5
}
