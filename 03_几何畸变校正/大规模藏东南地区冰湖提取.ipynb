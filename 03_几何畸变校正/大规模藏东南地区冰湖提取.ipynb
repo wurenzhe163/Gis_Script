{
 "cells": [
  {
   "cell_type": "markdown",
   "id": "0d7a1116-cada-484e-acab-a41c44606ced",
   "metadata": {
    "tags": []
   },
   "source": [
    "# 导入基础数据包"
   ]
  },
  {
   "cell_type": "code",
   "execution_count": null,
   "id": "c7e82e62-ea68-4442-8575-c13a52492d1b",
   "metadata": {
    "pycharm": {
     "is_executing": true
    },
    "tags": []
   },
   "outputs": [],
   "source": [
    "import ee\n",
    "import geemap\n",
    "import geemap.chart as chart\n",
    "import numpy as np\n",
    "import pandas as pd\n",
    "import copy\n",
    "import math\n",
    "import time \n",
    "import traceback\n",
    "import sys,os\n",
    "os.chdir('/root/GEE')\n",
    "# sys.path.append(os.path.dirname(os.path.abspath('__file__')))\n",
    "from tqdm import trange,tqdm\n",
    "from Basic_tools import *\n",
    "from New_Correct import *\n",
    "from Correct_filter import *\n",
    "from S2_filter import *\n",
    "from functools import partial\n",
    "import geopandas as gpd\n",
    "# from osgeo import gdal\n",
    "# geemap.set_proxy(port=10809)\n",
    "# ee.Authenticate()\n",
    "ee.Initialize()\n",
    "print('geemap version = {}\\ngeemap path = {}'.format(geemap.__version__,geemap.__path__))"
   ]
  },
  {
   "cell_type": "markdown",
   "id": "1c04bd86-0891-47ec-83bd-93685dac3367",
   "metadata": {
    "tags": []
   },
   "source": [
    "# 函数汇总"
   ]
  },
  {
   "cell_type": "markdown",
   "id": "b28954e6-a343-4da5-850d-45e0bcfa12f9",
   "metadata": {},
   "source": [
    "## 函数：计算几何畸变区域，然后采用ImageCollection进行融合"
   ]
  },
  {
   "cell_type": "code",
   "execution_count": 28,
   "id": "2495e1f6-17e9-46cd-9960-5ea762426e1a",
   "metadata": {
    "tags": []
   },
   "outputs": [],
   "source": [
    "def CalDitor(s1_ascending,s1_descending,Bands_ = ['VV_gamma0_flatDB','VH_gamma0_flatDB'],Origin_Method='RS',Method:str='1',\n",
    "             AOI_buffer=None,Origin_scale=10,projScale=30): \n",
    "    \n",
    "    volumetric_dict = my_slope_correction(s1_ascending,s1_descending,AOI_buffer,DEMNASA,Model,Origin_scale,DistorMethed=Origin_Method)\n",
    "\n",
    "    # ----------------------Z-scor均衡化，直方图匹配，在局部进行直方图匹配\n",
    "    Ascending_Img = volumetric_dict['ASCENDING'].select(Bands_)\n",
    "    Descending_Img = volumetric_dict['DESCENDING'].select(Bands_)\n",
    "    A_median = Ascending_Img.reduceRegion(**{\n",
    "                          'reducer': ee.Reducer.median(),\n",
    "                          'geometry':AOI_buffer\n",
    "                        }).toArray()\n",
    "    D_median = Descending_Img.reduceRegion(**{\n",
    "                          'reducer': ee.Reducer.median(),\n",
    "                          'geometry':AOI_buffer\n",
    "                        }).toArray()\n",
    "    Ascending_Img = Ascending_Img.subtract(A_median.subtract(D_median).getInfo())\n",
    "    volumetric_dict['ASCENDING'] = replaceBands(volumetric_dict['ASCENDING'],Ascending_Img)\n",
    "\n",
    "\n",
    "    # -----------------------基于线性关系。检测几何畸变\n",
    "    Templist_A = AuxiliaryLine2Point(volumetric_dict['ASCENDING'],volumetric_dict['ASCENDING_parms']['s1_azimuth_across'],\n",
    "                                volumetric_dict['ASCENDING_parms']['coordinates_dict'],\n",
    "                                volumetric_dict['ASCENDING_parms']['Auxiliarylines'],\n",
    "                                projScale)\n",
    "\n",
    "    Templist_D = AuxiliaryLine2Point(volumetric_dict['DESCENDING'],volumetric_dict['DESCENDING_parms']['s1_azimuth_across'],\n",
    "                                volumetric_dict['DESCENDING_parms']['coordinates_dict'],\n",
    "                                volumetric_dict['DESCENDING_parms']['Auxiliarylines'],\n",
    "                                projScale)\n",
    "    if   Method == '1':\n",
    "        LeftLayoverA,RightLayoverA,ShadowA = Line_Correct(volumetric_dict['ASCENDING'],AOI_buffer,Templist_A,'ASCENDING',\n",
    "                                                volumetric_dict['ASCENDING_parms']['proj'],projScale,Origin_scale,\n",
    "                                                filt_distance=False, save_peak=False, line_points_connect=True,Peak_Llay=True,Peak_shdow=True,Peak_Rlay=True)\n",
    "        LeftLayoverD,RightLayoverD,ShadowD =  Line_Correct(volumetric_dict['DESCENDING'],AOI_buffer,Templist_D,'DESCENDING',\n",
    "                                                volumetric_dict['DESCENDING_parms']['proj'],projScale,Origin_scale,\n",
    "                                                filt_distance=False,save_peak=False,line_points_connect=True,Peak_Llay=True,Peak_shdow=True,Peak_Rlay=True)\n",
    "    elif Method == '2':\n",
    "        LeftLayoverA,RightLayoverA,ShadowA = Line_Correct2(volumetric_dict['ASCENDING'],AOI_buffer,Templist_A,'ASCENDING',\n",
    "                                                volumetric_dict['ASCENDING_parms']['proj'],projScale,Origin_scale)\n",
    "        LeftLayoverD,RightLayoverD,ShadowD =  Line_Correct2(volumetric_dict['DESCENDING'],AOI_buffer,Templist_D,'DESCENDING',\n",
    "                                                volumetric_dict['DESCENDING_parms']['proj'],projScale,Origin_scale)\n",
    "    else:\n",
    "        print('Method = {}'.format(Method))\n",
    "        raise Exception('Method方法目前只有两种，请重新输入')\n",
    "    # 如果不加这一段，constant会判断出错\n",
    "    LeftLayoverA=LeftLayoverA.rename('LeftLayoverA');RightLayoverA=RightLayoverA.rename('RightLayoverA');ShadowA=ShadowA.rename('ShadowA')\n",
    "    LeftLayoverD=LeftLayoverD.rename('LeftLayoverD');RightLayoverD=RightLayoverD.rename('RightLayoverD');ShadowD=ShadowD.rename('ShadowD')\n",
    "    return LeftLayoverA,RightLayoverA,ShadowA,Templist_A,LeftLayoverD,RightLayoverD,ShadowD,Templist_D,volumetric_dict,synthesis\n",
    "\n",
    "def Combin_AB(LeftLayoverA,RightLayoverA,ShadowA,LeftLayoverD,RightLayoverD,ShadowD,\n",
    "              volumetric_dict,AOI_buffer=None,restrict=False):   \n",
    "    \n",
    "    def Cal_mask(LeftLayover,RightLayover,Shadow,AOI_buffer):\n",
    "        # 判断是否为空\n",
    "        left_empty = LeftLayover.bandNames().length().eq(0)\n",
    "        right_empty = RightLayover.bandNames().length().eq(0)\n",
    "        shadow_empty = Shadow.bandNames().length().eq(0)\n",
    "\n",
    "        # 只合并非空图像\n",
    "        result = ee.Image(ee.Algorithms.If(left_empty, ee.Image(), LeftLayover))\n",
    "        result = ee.Image(ee.Algorithms.If(right_empty,result,result.Or(RightLayover)))\n",
    "        result = ee.Image(ee.Algorithms.If(shadow_empty,result,result.Or(Shadow)))\n",
    "        return result.clip(AOI_buffer)\n",
    "\n",
    "    LeftLayoverA_,RightLayoverA_,ShadowA_ = LeftLayoverA.mask().clip(AOI_buffer),RightLayoverA.mask().clip(AOI_buffer),ShadowA.mask().clip(AOI_buffer)\n",
    "    LeftLayoverD_,RightLayoverD_,ShadowD_ = LeftLayoverD.mask().clip(AOI_buffer),RightLayoverD.mask().clip(AOI_buffer),ShadowD.mask().clip(AOI_buffer)\n",
    "\n",
    "    A_mask_ = Cal_mask(LeftLayoverA_,RightLayoverA_,ShadowA_,AOI_buffer)\n",
    "    D_mask_ = Cal_mask(LeftLayoverD_,RightLayoverD_,ShadowD_,AOI_buffer)\n",
    "    All_distor = A_mask_.And(D_mask_)\n",
    "\n",
    "    DistorDict = {'LeftLayoverA':LeftLayoverA,'RightLayoverA':RightLayoverA,'ShadowA':ShadowA, 'A_mask_':A_mask_,\n",
    "                  'LeftLayoverD':LeftLayoverD,'RightLayoverD':RightLayoverD,'ShadowD':ShadowD,'D_mask_':D_mask_,\n",
    "                  'All_distor'  :All_distor}\n",
    "    \n",
    "    # 判断是否存在畸变\n",
    "    A_empty = A_mask_.bandNames().contains('constant')\n",
    "    A_empty = ee.Number(ee.Algorithms.If(A_empty, 1, 0))\n",
    "    D_empty = D_mask_.bandNames().contains('constant')\n",
    "    D_empty = ee.Number(ee.Algorithms.If(D_empty, 1, 0))\n",
    "\n",
    "    s1_ascending_flat  = volumetric_dict['ASCENDING'].select([\"VV_gamma0_flatDB\",\"VH_gamma0_flatDB\"])\n",
    "    s1_descending_flat = volumetric_dict['DESCENDING'].select([\"VV_gamma0_flatDB\",\"VH_gamma0_flatDB\"])\n",
    "    \n",
    "    if restrict:\n",
    "        # 严格。如果A、D都存在畸变，则该区域为空\n",
    "        s1_ascending_ =  ee.Image(ee.Algorithms.If(A_empty, s1_ascending_flat,s1_ascending_flat.updateMask(A_mask_.Not())))\n",
    "        s1_descending_=  ee.Image(ee.Algorithms.If(D_empty,s1_descending_flat,s1_descending_flat.updateMask(D_mask_.Not())))                            \n",
    "        Combin_AD = ee.ImageCollection([s1_ascending_,s1_descending_])\n",
    "        s1_unit_mean_ = Combin_AD.mean().reproject(volumetric_dict['ASCENDING_parms']['proj']).clip(AOI_buffer)\n",
    "        s1_unit_max_ = Combin_AD.max().reproject(volumetric_dict['ASCENDING_parms']['proj']).clip(AOI_buffer)\n",
    "        s1_unit_min_ = Combin_AD.min().reproject(volumetric_dict['ASCENDING_parms']['proj']).clip(AOI_buffer)\n",
    "    else:\n",
    "        # 宽松，如果存在畸变，则优先采用逆轨影像替换\n",
    "        s1_ascending_ = ee.Image(ee.Algorithms.If(A_empty, ee.Image(), s1_ascending_flat.where(A_mask_,s1_descending_flat)))\n",
    "        s1_descending_ = ee.Image(ee.Algorithms.If(D_empty, ee.Image(), s1_descending_flat.where(D_mask_,s1_ascending_flat)))\n",
    "        Combin_AD = ee.ImageCollection([s1_ascending_,s1_descending_])\n",
    "        s1_unit_mean_ = ee.Image(ee.Algorithms.If(A_empty.Or(D_empty),s1_ascending_flat.add(s1_descending_flat).divide(2),Combin_AD.mean())).reproject(volumetric_dict['ASCENDING_parms']['proj'])\n",
    "\n",
    "        s1_unit_max_ = ee.Image(ee.Algorithms.If(A_empty.Or(D_empty),\n",
    "                    s1_ascending_flat.max(s1_descending_flat),\n",
    "                    Combin_AD.max())).reproject(volumetric_dict['ASCENDING_parms']['proj'])\n",
    "\n",
    "        s1_unit_min_ = ee.Image(ee.Algorithms.If(A_empty.Or(D_empty),\n",
    "                    s1_ascending_flat.min(s1_descending_flat),\n",
    "                    Combin_AD.min())).reproject(volumetric_dict['ASCENDING_parms']['proj'])\n",
    "    \n",
    "    return s1_unit_mean_,s1_unit_max_,s1_unit_min_,DistorDict"
   ]
  },
  {
   "cell_type": "markdown",
   "id": "673f2fb5-cdc3-400c-a818-be6af95ca4fe",
   "metadata": {
    "tags": []
   },
   "source": [
    "## 函数：提取冰湖，检测效果"
   ]
  },
  {
   "cell_type": "markdown",
   "id": "d304668c-8746-4a90-95b7-e4898e1d1139",
   "metadata": {},
   "source": [
    "### 聚类方法"
   ]
  },
  {
   "cell_type": "code",
   "execution_count": null,
   "id": "6c2aed33-ecc0-4425-ba5a-3ee95619e2a3",
   "metadata": {
    "pycharm": {
     "is_executing": true
    },
    "tags": []
   },
   "outputs": [],
   "source": [
    "from Extract_algorithm import Cluster_extract as Cluster\n",
    "\n",
    "def Cluster_math(method: str, img, bands: list, index: str, visual: bool, save: bool, region=None,proj=None):\n",
    "    '''method ('Kmean','SNIC','SNIC_Kmean','LVQ','Xmeans','Cobweb','CascadeKMeans')'''\n",
    "    img = img.select(bands).clip(region)\n",
    "    img = minmax_norm(img,bands,region,scale=Origin_scale,withbound=False)\n",
    "\n",
    "    if proj:\n",
    "        img = img.reproject(proj)\n",
    "    if method == 'Kmean':\n",
    "        result = Cluster.afn_Kmeans(img, region)\n",
    "    elif method == 'Cobweb':\n",
    "        result = Cluster.afn_Cobweb(img, region)\n",
    "    elif method == 'Xmeans':\n",
    "        result = Cluster.afn_Xmeans(img, region)\n",
    "    elif method == 'LVQ':\n",
    "        result = Cluster.afn_LVQ(img, region)\n",
    "    elif method == 'CascadeKMeans':\n",
    "        result = Cluster.afn_CascadeKMeans(img, region)\n",
    "    elif method == 'SNIC':\n",
    "        result = Cluster.afn_SNIC(img)\n",
    "        result = result.select(result.bandNames().removeAll(['clusters', 'seeds']))\n",
    "        result = result.reproject(proj)\n",
    "    elif method == 'SNIC_Kmean':\n",
    "        result = Cluster.afn_SNIC(img)\n",
    "        # 默认舍弃cluster和seed\n",
    "        result = result.select(result.bandNames().removeAll(['clusters', 'seeds']))\n",
    "        result = result.reproject(proj)\n",
    "        result0 = Cluster.afn_Kmeans(result, region)  # 原始图像不参与\n",
    "        result1 = Cluster.afn_Kmeans(result.addBands(img), region)  # 原始图像参与    .unmask(10)\n",
    "\n",
    "    if visual:\n",
    "        Map = geemap.Map(basemap='HYBRID')  #\n",
    "        Map.centerObject(region, zoom=15)\n",
    "        Map.addLayer(img.select(0), {'min': 0, 'max': 1}, 'Origin')\n",
    "        if method in ['Kmean', 'Cobweb', 'Xmeans', 'LVQ', 'CascadeKMeans']:\n",
    "            Map.addLayer(result.randomVisualizer(), {}, method)\n",
    "        elif method == 'SNIC':\n",
    "            Map.addLayer(result.randomVisualizer(), {}, method)\n",
    "        elif method == 'SNIC_Kmean':\n",
    "            Map.addLayer(result0.randomVisualizer(), {}, 'SNIC_Kmean_NoOrigin')\n",
    "            Map.addLayer(result1.randomVisualizer(), {}, 'SNIC_Kmean_YesOrigin')\n",
    "        else:\n",
    "            print('Please check your method str')\n",
    "    else:\n",
    "        Map = None\n",
    "    if save:\n",
    "        if method == 'SNIC_Kmean':\n",
    "            Geemap_export(filename=index + 'NoOrigin' + method + '.tif', collection=False, image=result0,\n",
    "                          region=region, scale=10)\n",
    "            Geemap_export(filename=index + 'YesOrigin' + method + '.tif', collection=False, image=result1,\n",
    "                          region=region, scale=10)\n",
    "        else:\n",
    "            Geemap_export(filename=index + method + '.tif', collection=False, image=result, region=region, scale=10)\n",
    "        pass\n",
    "    if method == 'SNIC_Kmean':\n",
    "        return Map, result0.addBands(result1)\n",
    "    else:\n",
    "        return Map, result"
   ]
  },
  {
   "cell_type": "markdown",
   "id": "c55e01d5-b880-4414-84b4-133395ec1f65",
   "metadata": {},
   "source": [
    "### 自适应阈值"
   ]
  },
  {
   "cell_type": "code",
   "execution_count": null,
   "id": "9609bccb-af5a-4659-a267-277838295341",
   "metadata": {
    "pycharm": {
     "is_executing": true
    },
    "tags": []
   },
   "outputs": [],
   "source": [
    "from Extract_algorithm import Adaptive_threshold as Adap\n",
    "\n",
    "def Bandmath(method:str,img,band,index:str,visual:bool,save:bool,region=None,proj=None):\n",
    "    '''\n",
    "    method = ['otsu','minimum','yen','isodata']\n",
    "    img: 仅单波段图像\n",
    "    '''\n",
    "    img = img.select(band).clip(region)\n",
    "    img = minmax_norm(img,band,region,scale=Origin_scale,withbound=False)\n",
    "    img = img.reproject(proj).clip(region)\n",
    "\n",
    "    if method == 'otsu':\n",
    "        histogram = get_histogram(img,region=region,scale=Origin_scale)\n",
    "        Threshould_value = Adap.afn_otsu(histogram)\n",
    "        result = img.select(0).gt(Threshould_value).clip(region)  #\n",
    "        print('Threshould value is {}'.format(Threshould_value.getInfo()))\n",
    "\n",
    "    elif method == 'minimum':\n",
    "        bin_centers, counts,_  = GetHistAndBoundary(img,region,Origin_scale,histNum=1000,y=300)\n",
    "        Threshould_value = Adap.my_threshold_minimum(bin_centers, counts,max_num_iter = 10000)\n",
    "        result = img.gt(Threshould_value).clip(region)\n",
    "        print('Threshould value is {}'.format(Threshould_value))\n",
    "        \n",
    "    elif method == 'yen':\n",
    "        bin_centers, counts,_ = GetHistAndBoundary(img,region,Origin_scale,histNum=1000,y=300)\n",
    "        Threshould_value = Adap.my_threshold_yen(bin_centers, counts)\n",
    "        result = img.gt(Threshould_value).clip(region)\n",
    "        print('Threshould value is {}'.format(Threshould_value))\n",
    "    \n",
    "    elif method == 'isodata':\n",
    "        bin_centers, counts, bucketWidth = GetHistAndBoundary(img,region,Origin_scale,histNum=1000,y=300)\n",
    "        Threshould_value = Adap.my_threshold_isodata(bin_centers, counts,bucketWidth)\n",
    "        result = img.gt(Threshould_value).clip(region)\n",
    "        print('Threshould value is {}'.format(Threshould_value))\n",
    "\n",
    "    if visual:\n",
    "        Map = geemap.Map(basemap='HYBRID') #\n",
    "        Map.centerObject(region, zoom=15)\n",
    "        Map.addLayer(img.select(0), {'min': 0, 'max': 1}, 'Origin')\n",
    "        if method in ['otsu','minimum','yen','isodata']:\n",
    "            Map.addLayer(result.randomVisualizer(), {}, method)\n",
    "        else:\n",
    "            print('Wrong visual! Please check your method str')\n",
    "    else:\n",
    "        Map = None\n",
    "\n",
    "    if save:\n",
    "        if method in ['otsu','minimum','yen','isodata']:\n",
    "            Geemap_export(filename=index+method+'.tif',collection=False,\n",
    "                          image=result,region=region,scale=10)\n",
    "        else:\n",
    "            print('Wrong save! Please check your method str')\n",
    "\n",
    "    return Map,result"
   ]
  },
  {
   "cell_type": "markdown",
   "id": "9cac8902-ae34-4c91-bcf2-c889659e67e8",
   "metadata": {
    "tags": []
   },
   "source": [
    "# 数据加载,与参数设置"
   ]
  },
  {
   "cell_type": "code",
   "execution_count": null,
   "id": "0bc14263-a509-43b2-bd1f-572d8fcb3a64",
   "metadata": {
    "pycharm": {
     "is_executing": true
    },
    "tags": []
   },
   "outputs": [],
   "source": [
    "#--------------------------预加载冰湖数据\n",
    "Glacial_lake = ee.FeatureCollection('projects/ee-mrwurenzhe/assets/Glacial_lake/SAR_GLs/2019Gls_SARExt')\n",
    "\n",
    "# 计算geometry、质心点、最小包络矩形\n",
    "Geo_ext = lambda feature: feature.set({\n",
    "    'Geo': feature.geometry(),\n",
    "    'Centroid': feature.geometry().centroid(),\n",
    "    'Rectangle': feature.geometry().bounds()\n",
    "})\n",
    "\n",
    "Centrid_set = lambda feature: feature.setGeometry(feature.geometry().centroid())\n",
    "Rectangle_set = lambda feature: feature.setGeometry(feature.geometry().bounds())\n",
    "Glacial_lake_C = Glacial_lake.map(Geo_ext).map(Centrid_set)  # 添加属性,修改geometry,计算质心\n",
    "Glacial_lake_R = Glacial_lake.map(Rectangle_set)             # 计算最小包络矩形\n",
    "\n",
    "#抽取属性作为list\n",
    "# Glacial_lake_A_GeoList = ee.List(Glacial_lake_C.reduceColumns(ee.Reducer.toList(), ['Geo']).get('list'))\n",
    "Num_list = Glacial_lake.size().getInfo()\n",
    "Glacial_lake_A_GeoList = Glacial_lake.toList(Num_list)\n",
    "Glacial_lake_C_CentriodList = ee.List(Glacial_lake_C.reduceColumns(ee.Reducer.toList(),['Centroid']).get('list'))\n",
    "Glacial_lake_R_RectangleList = ee.List(Glacial_lake_C.reduceColumns(ee.Reducer.toList(),['Rectangle']).get('list'))\n",
    "\n",
    "\n",
    "#--------------------确定时间范围\n",
    "# 选择一个时间点的影像，注意SAR和光学影像的时间点已经不一样了\n",
    "# 需要放宽一些时间限制，否则可能会因为天气影响、卫星维护等问题出现数据缺失\n",
    "year = '2019'\n",
    "\n",
    "START_DATE  = ee.Date(year + '-06-01')\n",
    "END_DATE   = ee.Date(year + '-08-30')\n",
    "S2_START_DATE = ee.Date(year + '-06-01')\n",
    "S2_END_DATE  = ee.Date(year + '-09-30')\n",
    "TIME_LEN   = END_DATE.difference(START_DATE, 'days').abs()\n",
    "MIDDLE_DATE  = START_DATE.advance(TIME_LEN.divide(ee.Number(2)).int(),'days')\n",
    "\n",
    "#-------------------DEM选择\n",
    "DEMSRTM = ee.Image('USGS/SRTMGL1_003')\n",
    "DEM_prj = DEMSRTM.projection()\n",
    "DEMNASA = ee.Image(\"NASA/NASADEM_HGT/001\").select('elevation')\n",
    "DEMALOS = ee.ImageCollection(\"JAXA/ALOS/AW3D30/V3_2\").mosaic().select('DSM').rename('elevation').reproject(DEM_prj)\n",
    "DEMCOPERNICUS = ee.ImageCollection(\"COPERNICUS/DEM/GLO30\").mosaic().select('DEM').rename('elevation').int16().reproject(DEM_prj)\n",
    "\n",
    "#-------------------几何畸变参数\n",
    "models = ['volume', 'surface', None]     # 地形矫正模型\n",
    "Model = models[0]\n",
    "Origin_scale = 10\n",
    "projScale = 30\n",
    "\n",
    "#-------------------S2 clodless参数\n",
    "CLOUD_FILTER = 60         # 过滤s2 大于指定云量的数据\n",
    "CLD_PRB_THRESH = 15        # s2cloudless 概率值阈值[0-100],原实验是50\n",
    "NIR_DRK_THRESH = 0.15       # 非水暗像素判断阈值\n",
    "CLD_PRJ_DIST = 1         # 根据 CLD_PRJ_DIST 输入指定的距离从云中投射阴影\n",
    "BUFFER = 50            # Remove small cloud-shadow patches and dilate remaining pixels by BUFFER input\n",
    "\n",
    "# ------------------分类方法和参数确定\n",
    "from Extract_algorithm import Reprocess,save_parms\n",
    "save_dir='/root/GEE/{}补齐结果'.format(year)\n",
    "os.chdir(save_dir)\n",
    "Methods = ('Kmean','SNIC_Kmean','Xmeans','CascadeKMeans','otsu','isodata')\n",
    "resultbands = (0,1)\n",
    "Imgs = ('s1_unit_mean_',) # 's1_unit_max_','s1_unit_min_'\n",
    "Bands = (['VV_gamma0_flatDB'],['VV_gamma0_flatDB','VH_gamma0_flatDB'])\n",
    "mode = 'gpd'\n",
    "savenmae = '{}SouthwestGLs'.format(year)\n",
    "\n",
    "# ------------------重载变量参数\n",
    "Reload = True\n",
    "dest = 'users/mrwurenzhe/test'\n",
    "metaName = 'test.csv'\n",
    "eeUser = 'mrwurenzhe@furwas.com'\n",
    "overwrite = 'yes'\n",
    "delgeeUp = False    # 删除gee远端存储"
   ]
  },
  {
   "cell_type": "markdown",
   "id": "919555bb-0163-4056-bd7c-74badb310122",
   "metadata": {
    "tags": []
   },
   "source": [
    "# 输出图像"
   ]
  },
  {
   "cell_type": "markdown",
   "id": "2b0d32f7-75fe-4cdf-aa74-0726bbc844e4",
   "metadata": {
    "tags": []
   },
   "source": [
    "## 输出"
   ]
  },
  {
   "cell_type": "code",
   "execution_count": null,
   "id": "7c9c01ae-24be-47db-8915-1876f0457e8a",
   "metadata": {},
   "outputs": [
    {
     "name": "stderr",
     "output_type": "stream",
     "text": [
      "  0%|          | 0/244 [00:00<?, ?it/s]"
     ]
    },
    {
     "name": "stdout",
     "output_type": "stream",
     "text": [
      "Begin Filter ...\n"
     ]
    },
    {
     "name": "stderr",
     "output_type": "stream",
     "text": [
      "\n",
      "100%|##########| 15/15 [00:00<00:00, 1819.08it/s]\n",
      "\n",
      "100%|##########| 15/15 [00:00<00:00, 361.34it/s]\n",
      "\n",
      "100%|##########| 15/15 [00:00<00:00, 1375.99it/s]\n",
      "\n",
      "100%|##########| 15/15 [00:00<00:00, 754.97it/s]\n"
     ]
    },
    {
     "name": "stdout",
     "output_type": "stream",
     "text": [
      "Method 1 Kmean Band=['VV_gamma0_flatDB'],continue\n",
      "Write csv and shp, Method=Kmean  Img=s1_unit_mean_  Band=['VV_gamma0_flatDB', 'VH_gamma0_flatDB']\n",
      "Method 1 SNIC_Kmean Band=['VV_gamma0_flatDB'],continue\n",
      "Write csv and shp, Method=SNIC_Kmean  Img=s1_unit_mean_  Band=['VV_gamma0_flatDB', 'VH_gamma0_flatDB']\n",
      "Write csv and shp, Method=SNIC_Kmean  Img=s1_unit_mean_  Band=['VV_gamma0_flatDB', 'VH_gamma0_flatDB']\n",
      "Method 1 Xmeans Band=['VV_gamma0_flatDB'],continue\n",
      "Write csv and shp, Method=Xmeans  Img=s1_unit_mean_  Band=['VV_gamma0_flatDB', 'VH_gamma0_flatDB']\n",
      "Method 1 CascadeKMeans Band=['VV_gamma0_flatDB'],continue\n",
      "Write csv and shp, Method=CascadeKMeans  Img=s1_unit_mean_  Band=['VV_gamma0_flatDB', 'VH_gamma0_flatDB']\n",
      "Threshould value is 0.4754641512130742\n",
      "Write csv and shp, Method=otsu  Img=s1_unit_mean_  Band=['VV_gamma0_flatDB']\n",
      "Method 2 otsu Band=['VV_gamma0_flatDB', 'VH_gamma0_flatDB'],continue\n"
     ]
    },
    {
     "name": "stderr",
     "output_type": "stream",
     "text": [
      "/root/GEE/Extract_algorithm.py:229: RuntimeWarning: invalid value encountered in divide\n",
      "  higher = (csum_intensity[-1] - csum_intensity[:-1]) / (csumh[:-1]+sys.float_info.min)\n"
     ]
    },
    {
     "name": "stdout",
     "output_type": "stream",
     "text": [
      "Threshould value is 0.4754641512130742\n",
      "Write csv and shp, Method=isodata  Img=s1_unit_mean_  Band=['VV_gamma0_flatDB']\n",
      "Method 2 isodata Band=['VV_gamma0_flatDB', 'VH_gamma0_flatDB'],continue\n",
      "Generating URL ...\n",
      "Downloading data from https://earthengine.googleapis.com/v1/projects/earthengine-legacy/thumbnails/5c0ee6146d6a6c66219041459966e65c-c95fe02f5c744dddf0510db432eaaf93:getPixels\n",
      "Please wait ...\n",
      "Data downloaded to /root/GEE/2019补齐结果/4700_Ascending_S1A_IW_GRDH_1SDV_20190721T114936_20190721T115001_028215_032FF3_E394.tif\n",
      "image save right\n",
      "change image bandNames\n",
      "Generating URL ...\n",
      "Downloading data from https://earthengine.googleapis.com/v1/projects/earthengine-legacy/thumbnails/c86ab4c6bfebdd6813766479d5b930ac-2aad51b810bd9d7ef0fe5b29353bdccb:getPixels\n",
      "Please wait ...\n",
      "Data downloaded to /root/GEE/2019补齐结果/4700_Descending_S1A_IW_GRDH_1SDV_20190809T234613_20190809T234638_028499_0338B5_13E6.tif\n",
      "image save right\n",
      "change image bandNames\n",
      "Generating URL ...\n",
      "Downloading data from https://earthengine.googleapis.com/v1/projects/earthengine-legacy/thumbnails/753e95bcf315631cc23092ce993c68ee-96f27c113001f9eceb39590894c1a224:getPixels\n",
      "Please wait ...\n",
      "Data downloaded to /root/GEE/2019补齐结果/4700_s2a_sr_median.tif\n",
      "image save right\n",
      "change image bandNames\n",
      "Generating URL ...\n",
      "Downloading data from https://earthengine.googleapis.com/v1/projects/earthengine-legacy/thumbnails/495e4f35125fe88c20d14b1707b7410a-f6238278caaaf6ae877226a2b7751e3c:getPixels\n",
      "Please wait ...\n",
      "Data downloaded to /root/GEE/2019补齐结果/4700_s1_unit_mean_.tif\n",
      "image save right\n",
      "change image bandNames\n",
      "Generating URL ...\n",
      "Downloading data from https://earthengine.googleapis.com/v1/projects/earthengine-legacy/thumbnails/863756a6037818e6d0c42d75aefa8191-39675ea737390fc411c36dfdd522e5f4:getPixels\n",
      "Please wait ...\n",
      "Data downloaded to /root/GEE/2019补齐结果/4700_s1_unit_max_.tif\n",
      "image save right\n",
      "change image bandNames\n",
      "Generating URL ...\n",
      "Downloading data from https://earthengine.googleapis.com/v1/projects/earthengine-legacy/thumbnails/0b03f185f2094356131b9da0e012bfc7-2bf3c6eedc802bd918ff49ed2378ddd0:getPixels\n",
      "Please wait ...\n",
      "Data downloaded to /root/GEE/2019补齐结果/4700_s1_unit_min_.tif\n",
      "image save right\n",
      "change image bandNames\n",
      "Generating URL ...\n",
      "Downloading data from https://earthengine.googleapis.com/v1/projects/earthengine-legacy/thumbnails/ff1246e4a937f6018107f81a638b9665-d17fb39dca74658985db9b6e4f2cd9c5:getPixels\n",
      "Please wait ...\n",
      "Data downloaded to /root/GEE/2019补齐结果/4700_DistortionAS1A_IW_GRDH_1SDV_20190721T114936_20190721T115001_028215_032FF3_E394.tif\n",
      "image save right\n",
      "change image bandNames\n",
      "Generating URL ...\n",
      "Downloading data from https://earthengine.googleapis.com/v1/projects/earthengine-legacy/thumbnails/99058f500fdb668cdda3cd19274ac0d8-863453cdbd33f05b95e0c39d696e7d68:getPixels\n",
      "Please wait ...\n",
      "Data downloaded to /root/GEE/2019补齐结果/4700_DistortionDS1A_IW_GRDH_1SDV_20190809T234613_20190809T234638_028499_0338B5_13E6.tif\n",
      "image save right\n",
      "change image bandNames\n",
      "该函数运行了 197.43006 秒\n"
     ]
    },
    {
     "name": "stderr",
     "output_type": "stream",
     "text": [
      "  0%|          | 1/244 [03:17<13:19:36, 197.43s/it]"
     ]
    },
    {
     "name": "stdout",
     "output_type": "stream",
     "text": [
      "Begin Filter ...\n"
     ]
    },
    {
     "name": "stderr",
     "output_type": "stream",
     "text": [
      "\n",
      "100%|##########| 12/12 [00:00<00:00, 1532.49it/s]\n",
      "\n",
      "100%|##########| 12/12 [00:00<00:00, 1020.33it/s]\n",
      "\n",
      "100%|##########| 12/12 [00:00<00:00, 1906.65it/s]\n",
      "\n",
      "100%|##########| 12/12 [00:00<00:00, 755.41it/s]\n"
     ]
    },
    {
     "name": "stdout",
     "output_type": "stream",
     "text": [
      "Method 1 Kmean Band=['VV_gamma0_flatDB'],continue\n",
      "Write csv and shp, Method=Kmean  Img=s1_unit_mean_  Band=['VV_gamma0_flatDB', 'VH_gamma0_flatDB']\n",
      "Method 1 SNIC_Kmean Band=['VV_gamma0_flatDB'],continue\n",
      "Write csv and shp, Method=SNIC_Kmean  Img=s1_unit_mean_  Band=['VV_gamma0_flatDB', 'VH_gamma0_flatDB']\n",
      "Write csv and shp, Method=SNIC_Kmean  Img=s1_unit_mean_  Band=['VV_gamma0_flatDB', 'VH_gamma0_flatDB']\n",
      "Method 1 Xmeans Band=['VV_gamma0_flatDB'],continue\n",
      "Write csv and shp, Method=Xmeans  Img=s1_unit_mean_  Band=['VV_gamma0_flatDB', 'VH_gamma0_flatDB']\n",
      "Method 1 CascadeKMeans Band=['VV_gamma0_flatDB'],continue\n",
      "Write csv and shp, Method=CascadeKMeans  Img=s1_unit_mean_  Band=['VV_gamma0_flatDB', 'VH_gamma0_flatDB']\n",
      "Threshould value is 0.520787107133295\n",
      "Write csv and shp, Method=otsu  Img=s1_unit_mean_  Band=['VV_gamma0_flatDB']\n",
      "Method 2 otsu Band=['VV_gamma0_flatDB', 'VH_gamma0_flatDB'],continue\n"
     ]
    },
    {
     "name": "stderr",
     "output_type": "stream",
     "text": [
      "/root/GEE/Extract_algorithm.py:229: RuntimeWarning: invalid value encountered in divide\n",
      "  higher = (csum_intensity[-1] - csum_intensity[:-1]) / (csumh[:-1]+sys.float_info.min)\n"
     ]
    },
    {
     "name": "stdout",
     "output_type": "stream",
     "text": [
      "Threshould value is 0.5148643997250077\n",
      "Write csv and shp, Method=isodata  Img=s1_unit_mean_  Band=['VV_gamma0_flatDB']\n",
      "Method 2 isodata Band=['VV_gamma0_flatDB', 'VH_gamma0_flatDB'],continue\n",
      "Generating URL ...\n",
      "Downloading data from https://earthengine.googleapis.com/v1/projects/earthengine-legacy/thumbnails/e253f88aab6d93415cef52198b5d7aba-be2915fc92c1420ed5ab2474da8913e1:getPixels\n",
      "Please wait ...\n",
      "Data downloaded to /root/GEE/2019补齐结果/4701_Ascending_S1A_IW_GRDH_1SDV_20190721T114936_20190721T115001_028215_032FF3_E394.tif\n",
      "image save right\n",
      "change image bandNames\n",
      "Generating URL ...\n",
      "Downloading data from https://earthengine.googleapis.com/v1/projects/earthengine-legacy/thumbnails/7d4987acff3cb5641a8fc3365189d78b-4b6b02f7b83c9be5d53968b5a2d80ef3:getPixels\n",
      "Please wait ...\n",
      "Data downloaded to /root/GEE/2019补齐结果/4701_Descending_S1A_IW_GRDH_1SDV_20190809T234613_20190809T234638_028499_0338B5_13E6.tif\n",
      "image save right\n",
      "change image bandNames\n",
      "Generating URL ...\n",
      "Downloading data from https://earthengine.googleapis.com/v1/projects/earthengine-legacy/thumbnails/b0a87ea4c9622f8f588f0c5fd00f466a-b9ec410d2831de982cac8eb3ec0fb9a2:getPixels\n",
      "Please wait ...\n",
      "Data downloaded to /root/GEE/2019补齐结果/4701_s2a_sr_median.tif\n",
      "image save right\n",
      "change image bandNames\n",
      "Generating URL ...\n",
      "Downloading data from https://earthengine.googleapis.com/v1/projects/earthengine-legacy/thumbnails/c0fbf4092915ba8eb631d23be4623d0a-44970acde9123c0b484945622c6b74e8:getPixels\n",
      "Please wait ...\n",
      "Data downloaded to /root/GEE/2019补齐结果/4701_s1_unit_mean_.tif\n",
      "image save right\n",
      "change image bandNames\n",
      "Generating URL ...\n",
      "Downloading data from https://earthengine.googleapis.com/v1/projects/earthengine-legacy/thumbnails/e69275c116b387a66a19c98992a0be98-a787e4cede3d5699e5e3381886f12eea:getPixels\n",
      "Please wait ...\n",
      "Data downloaded to /root/GEE/2019补齐结果/4701_s1_unit_max_.tif\n",
      "image save right\n",
      "change image bandNames\n",
      "Generating URL ...\n",
      "Downloading data from https://earthengine.googleapis.com/v1/projects/earthengine-legacy/thumbnails/fac2c89ed853e4ffc2d967cb952df928-b8c4366b2e97ba70d955288f95ea3a40:getPixels\n",
      "Please wait ...\n",
      "Data downloaded to /root/GEE/2019补齐结果/4701_s1_unit_min_.tif\n",
      "image save right\n",
      "change image bandNames\n",
      "Generating URL ...\n",
      "Downloading data from https://earthengine.googleapis.com/v1/projects/earthengine-legacy/thumbnails/00c4d42d19472e9ac5d5bad122ca0926-e68c06a74e1024046a1ac84f0272d617:getPixels\n",
      "Please wait ...\n",
      "Data downloaded to /root/GEE/2019补齐结果/4701_DistortionAS1A_IW_GRDH_1SDV_20190721T114936_20190721T115001_028215_032FF3_E394.tif\n",
      "image save right\n",
      "change image bandNames\n",
      "Generating URL ...\n",
      "Downloading data from https://earthengine.googleapis.com/v1/projects/earthengine-legacy/thumbnails/c61f8c28c422bb25f4de1e9e0628c238-86165520f072df3233a0dfe68419bb66:getPixels\n",
      "Please wait ...\n",
      "Data downloaded to /root/GEE/2019补齐结果/4701_DistortionDS1A_IW_GRDH_1SDV_20190809T234613_20190809T234638_028499_0338B5_13E6.tif\n",
      "image save right\n",
      "change image bandNames\n",
      "该函数运行了 187.23755 秒\n"
     ]
    },
    {
     "name": "stderr",
     "output_type": "stream",
     "text": [
      "  1%|          | 2/244 [06:24<12:52:08, 191.44s/it]"
     ]
    },
    {
     "name": "stdout",
     "output_type": "stream",
     "text": [
      "Begin Filter ...\n"
     ]
    },
    {
     "name": "stderr",
     "output_type": "stream",
     "text": [
      "\n",
      "100%|##########| 13/13 [00:00<00:00, 1693.51it/s]\n",
      "\n",
      "100%|##########| 13/13 [00:00<00:00, 542.81it/s]\n",
      "\n",
      "100%|##########| 13/13 [00:00<00:00, 1537.94it/s]\n",
      "\n",
      "100%|##########| 13/13 [00:00<00:00, 649.66it/s]\n"
     ]
    },
    {
     "name": "stdout",
     "output_type": "stream",
     "text": [
      "Method 1 Kmean Band=['VV_gamma0_flatDB'],continue\n",
      "Write csv and shp, Method=Kmean  Img=s1_unit_mean_  Band=['VV_gamma0_flatDB', 'VH_gamma0_flatDB']\n",
      "Method 1 SNIC_Kmean Band=['VV_gamma0_flatDB'],continue\n",
      "Write csv and shp, Method=SNIC_Kmean  Img=s1_unit_mean_  Band=['VV_gamma0_flatDB', 'VH_gamma0_flatDB']\n",
      "Write csv and shp, Method=SNIC_Kmean  Img=s1_unit_mean_  Band=['VV_gamma0_flatDB', 'VH_gamma0_flatDB']\n",
      "Method 1 Xmeans Band=['VV_gamma0_flatDB'],continue\n",
      "Write csv and shp, Method=Xmeans  Img=s1_unit_mean_  Band=['VV_gamma0_flatDB', 'VH_gamma0_flatDB']\n",
      "Method 1 CascadeKMeans Band=['VV_gamma0_flatDB'],continue\n",
      "Write csv and shp, Method=CascadeKMeans  Img=s1_unit_mean_  Band=['VV_gamma0_flatDB', 'VH_gamma0_flatDB']\n",
      "Threshould value is 0.5752300936823365\n",
      "Write csv and shp, Method=otsu  Img=s1_unit_mean_  Band=['VV_gamma0_flatDB']\n",
      "Method 2 otsu Band=['VV_gamma0_flatDB', 'VH_gamma0_flatDB'],continue\n",
      "Threshould value is 0.5445468320927424\n",
      "Write csv and shp, Method=isodata  Img=s1_unit_mean_  Band=['VV_gamma0_flatDB']\n",
      "Method 2 isodata Band=['VV_gamma0_flatDB', 'VH_gamma0_flatDB'],continue\n",
      "Generating URL ...\n",
      "Downloading data from https://earthengine.googleapis.com/v1/projects/earthengine-legacy/thumbnails/96107f45764af950ef91362c4c6e99ab-9f9ba02ac9f147fb5ebbdc8e8fc26483:getPixels\n",
      "Please wait ...\n",
      "Data downloaded to /root/GEE/2019补齐结果/4702_Ascending_S1A_IW_GRDH_1SDV_20190721T114936_20190721T115001_028215_032FF3_E394.tif\n",
      "image save right\n",
      "change image bandNames\n",
      "Generating URL ...\n",
      "Downloading data from https://earthengine.googleapis.com/v1/projects/earthengine-legacy/thumbnails/1611e65814463eea30ed9ddac1066483-fa3b287539748fa5c63a297ad73d8e21:getPixels\n",
      "Please wait ...\n",
      "Data downloaded to /root/GEE/2019补齐结果/4702_Descending_S1A_IW_GRDH_1SDV_20190809T234613_20190809T234638_028499_0338B5_13E6.tif\n",
      "image save right\n",
      "change image bandNames\n",
      "Generating URL ...\n",
      "Downloading data from https://earthengine.googleapis.com/v1/projects/earthengine-legacy/thumbnails/868353e7cf97d1ddb2c12ec427f4aa05-1cf369f72d1ed00d68f8c2f4e3c364ed:getPixels\n",
      "Please wait ...\n",
      "Data downloaded to /root/GEE/2019补齐结果/4702_s2a_sr_median.tif\n",
      "image save right\n",
      "change image bandNames\n",
      "Generating URL ...\n",
      "Downloading data from https://earthengine.googleapis.com/v1/projects/earthengine-legacy/thumbnails/4c923ebb745bbc4c1c6e943416286933-6642b67b41a510cc3efd363b9d68a0d1:getPixels\n",
      "Please wait ...\n",
      "Data downloaded to /root/GEE/2019补齐结果/4702_s1_unit_mean_.tif\n",
      "image save right\n",
      "change image bandNames\n",
      "Generating URL ...\n",
      "Downloading data from https://earthengine.googleapis.com/v1/projects/earthengine-legacy/thumbnails/6d487eaf31982f9b78ffc7ee62c053da-3846980d90d3f2896bef56f08e2e88e4:getPixels\n",
      "Please wait ...\n",
      "Data downloaded to /root/GEE/2019补齐结果/4702_s1_unit_max_.tif\n",
      "image save right\n",
      "change image bandNames\n",
      "Generating URL ...\n",
      "Downloading data from https://earthengine.googleapis.com/v1/projects/earthengine-legacy/thumbnails/aa199aa72fa1653e014fb94e6e036ba4-83858468c48e9e1ce9ddf38bab0fc2a3:getPixels\n",
      "Please wait ...\n",
      "Data downloaded to /root/GEE/2019补齐结果/4702_s1_unit_min_.tif\n",
      "image save right\n",
      "change image bandNames\n",
      "Generating URL ...\n",
      "Downloading data from https://earthengine.googleapis.com/v1/projects/earthengine-legacy/thumbnails/37e08e7fb788a3ecb1c00d006c0fdbe2-ebf4caa7e85231e9f5f4021e04b0aa7e:getPixels\n",
      "Please wait ...\n",
      "Data downloaded to /root/GEE/2019补齐结果/4702_DistortionAS1A_IW_GRDH_1SDV_20190721T114936_20190721T115001_028215_032FF3_E394.tif\n",
      "image save right\n",
      "change image bandNames\n",
      "Generating URL ...\n",
      "Downloading data from https://earthengine.googleapis.com/v1/projects/earthengine-legacy/thumbnails/0a483ba5bb6794dbfdd635dee87e6357-b8bfa0a1a164d713e2b694c22bad83ba:getPixels\n",
      "Please wait ...\n",
      "Data downloaded to /root/GEE/2019补齐结果/4702_DistortionDS1A_IW_GRDH_1SDV_20190809T234613_20190809T234638_028499_0338B5_13E6.tif\n",
      "image save right\n",
      "change image bandNames\n",
      "该函数运行了 194.12830 秒\n"
     ]
    },
    {
     "name": "stderr",
     "output_type": "stream",
     "text": [
      "  1%|1         | 3/244 [09:38<12:53:53, 192.67s/it]"
     ]
    },
    {
     "name": "stdout",
     "output_type": "stream",
     "text": [
      "Begin Filter ...\n"
     ]
    },
    {
     "name": "stderr",
     "output_type": "stream",
     "text": [
      "\n",
      "100%|##########| 12/12 [00:00<00:00, 1552.87it/s]\n",
      "\n",
      "100%|##########| 12/12 [00:00<00:00, 536.16it/s]\n",
      "\n",
      "100%|##########| 12/12 [00:00<00:00, 1645.95it/s]\n",
      "\n",
      "100%|##########| 12/12 [00:00<00:00, 491.63it/s]\n"
     ]
    },
    {
     "name": "stdout",
     "output_type": "stream",
     "text": [
      "Method 1 Kmean Band=['VV_gamma0_flatDB'],continue\n",
      "Write csv and shp, Method=Kmean  Img=s1_unit_mean_  Band=['VV_gamma0_flatDB', 'VH_gamma0_flatDB']\n",
      "Method 1 SNIC_Kmean Band=['VV_gamma0_flatDB'],continue\n",
      "Write csv and shp, Method=SNIC_Kmean  Img=s1_unit_mean_  Band=['VV_gamma0_flatDB', 'VH_gamma0_flatDB']\n",
      "Write csv and shp, Method=SNIC_Kmean  Img=s1_unit_mean_  Band=['VV_gamma0_flatDB', 'VH_gamma0_flatDB']\n",
      "Method 1 Xmeans Band=['VV_gamma0_flatDB'],continue\n",
      "Write csv and shp, Method=Xmeans  Img=s1_unit_mean_  Band=['VV_gamma0_flatDB', 'VH_gamma0_flatDB']\n",
      "Method 1 CascadeKMeans Band=['VV_gamma0_flatDB'],continue\n",
      "Write csv and shp, Method=CascadeKMeans  Img=s1_unit_mean_  Band=['VV_gamma0_flatDB', 'VH_gamma0_flatDB']\n",
      "Threshould value is 0.5944840699121413\n",
      "Write csv and shp, Method=otsu  Img=s1_unit_mean_  Band=['VV_gamma0_flatDB']\n",
      "Method 2 otsu Band=['VV_gamma0_flatDB', 'VH_gamma0_flatDB'],continue\n",
      "Threshould value is 0.5344934631724654\n",
      "Write csv and shp, Method=isodata  Img=s1_unit_mean_  Band=['VV_gamma0_flatDB']\n",
      "Method 2 isodata Band=['VV_gamma0_flatDB', 'VH_gamma0_flatDB'],continue\n",
      "Generating URL ...\n",
      "Downloading data from https://earthengine.googleapis.com/v1/projects/earthengine-legacy/thumbnails/251222bafa70e7ee133cb5e448e6a5b4-4b56242d01fcf33eb8225656b2c47975:getPixels\n",
      "Please wait ...\n",
      "Data downloaded to /root/GEE/2019补齐结果/4703_Ascending_S1A_IW_GRDH_1SDV_20190721T114936_20190721T115001_028215_032FF3_E394.tif\n",
      "image save right\n",
      "change image bandNames\n",
      "Generating URL ...\n",
      "Downloading data from https://earthengine.googleapis.com/v1/projects/earthengine-legacy/thumbnails/c5e1f90b6454f8c1c8d93615bf700fdc-7301d08977c535284157e7e90252eacf:getPixels\n",
      "Please wait ...\n",
      "Data downloaded to /root/GEE/2019补齐结果/4703_Descending_S1A_IW_GRDH_1SDV_20190809T234613_20190809T234638_028499_0338B5_13E6.tif\n",
      "image save right\n",
      "change image bandNames\n",
      "Generating URL ...\n",
      "Downloading data from https://earthengine.googleapis.com/v1/projects/earthengine-legacy/thumbnails/ff9fc063cb4dac235dbc3793085111de-ea5563faa5325e60864712d9cf4b70fa:getPixels\n",
      "Please wait ...\n",
      "Data downloaded to /root/GEE/2019补齐结果/4703_s2a_sr_median.tif\n",
      "image save right\n",
      "change image bandNames\n",
      "Generating URL ...\n",
      "Downloading data from https://earthengine.googleapis.com/v1/projects/earthengine-legacy/thumbnails/2b65df2bced522af20d4f1fcbda03752-a4d85132740bfddc22313f0705bbc3f7:getPixels\n",
      "Please wait ...\n",
      "Data downloaded to /root/GEE/2019补齐结果/4703_s1_unit_mean_.tif\n",
      "image save right\n",
      "change image bandNames\n",
      "Generating URL ...\n",
      "Downloading data from https://earthengine.googleapis.com/v1/projects/earthengine-legacy/thumbnails/58e2177e88c80e009a713e6f50567b3c-9937fbaa182d697eca55aa59cac8bb3e:getPixels\n",
      "Please wait ...\n",
      "Data downloaded to /root/GEE/2019补齐结果/4703_s1_unit_max_.tif\n",
      "image save right\n",
      "change image bandNames\n",
      "Generating URL ...\n",
      "Downloading data from https://earthengine.googleapis.com/v1/projects/earthengine-legacy/thumbnails/f0bb44aa44f8fd8b13e46a961fb3cd2e-1533a3214b4b45434b0bfb51eb208610:getPixels\n",
      "Please wait ...\n",
      "Data downloaded to /root/GEE/2019补齐结果/4703_s1_unit_min_.tif\n",
      "image save right\n",
      "change image bandNames\n",
      "Generating URL ...\n",
      "Downloading data from https://earthengine.googleapis.com/v1/projects/earthengine-legacy/thumbnails/07c74e1582cd71eb931ab849e95935b1-e56ef2d16f721863813bcb7c16b545f2:getPixels\n",
      "Please wait ...\n",
      "Data downloaded to /root/GEE/2019补齐结果/4703_DistortionAS1A_IW_GRDH_1SDV_20190721T114936_20190721T115001_028215_032FF3_E394.tif\n",
      "image save right\n",
      "change image bandNames\n",
      "Generating URL ...\n",
      "Downloading data from https://earthengine.googleapis.com/v1/projects/earthengine-legacy/thumbnails/c4105372557cb102b7475b51d9f88137-129233cc301ed21e5fee2f588184e379:getPixels\n",
      "Please wait ...\n",
      "Data downloaded to /root/GEE/2019补齐结果/4703_DistortionDS1A_IW_GRDH_1SDV_20190809T234613_20190809T234638_028499_0338B5_13E6.tif\n",
      "image save right\n",
      "change image bandNames\n",
      "该函数运行了 188.48485 秒\n"
     ]
    },
    {
     "name": "stderr",
     "output_type": "stream",
     "text": [
      "  2%|1         | 4/244 [12:47<12:44:04, 191.02s/it]"
     ]
    },
    {
     "name": "stdout",
     "output_type": "stream",
     "text": [
      "Begin Filter ...\n"
     ]
    },
    {
     "name": "stderr",
     "output_type": "stream",
     "text": [
      "\n",
      "100%|##########| 11/11 [00:00<00:00, 1522.99it/s]\n",
      "\n",
      "100%|##########| 11/11 [00:00<00:00, 508.50it/s]\n",
      "\n",
      "100%|##########| 11/11 [00:00<00:00, 1877.03it/s]\n",
      "\n",
      "100%|##########| 11/11 [00:00<00:00, 538.17it/s]\n"
     ]
    },
    {
     "name": "stdout",
     "output_type": "stream",
     "text": [
      "Method 1 Kmean Band=['VV_gamma0_flatDB'],continue\n",
      "Write csv and shp, Method=Kmean  Img=s1_unit_mean_  Band=['VV_gamma0_flatDB', 'VH_gamma0_flatDB']\n",
      "Method 1 SNIC_Kmean Band=['VV_gamma0_flatDB'],continue\n",
      "Write csv and shp, Method=SNIC_Kmean  Img=s1_unit_mean_  Band=['VV_gamma0_flatDB', 'VH_gamma0_flatDB']\n",
      "Write csv and shp, Method=SNIC_Kmean  Img=s1_unit_mean_  Band=['VV_gamma0_flatDB', 'VH_gamma0_flatDB']\n",
      "Method 1 Xmeans Band=['VV_gamma0_flatDB'],continue\n",
      "Write csv and shp, Method=Xmeans  Img=s1_unit_mean_  Band=['VV_gamma0_flatDB', 'VH_gamma0_flatDB']\n",
      "Method 1 CascadeKMeans Band=['VV_gamma0_flatDB'],continue\n",
      "Write csv and shp, Method=CascadeKMeans  Img=s1_unit_mean_  Band=['VV_gamma0_flatDB', 'VH_gamma0_flatDB']\n",
      "Threshould value is 0.6491483824126196\n",
      "Write csv and shp, Method=otsu  Img=s1_unit_mean_  Band=['VV_gamma0_flatDB']\n",
      "Method 2 otsu Band=['VV_gamma0_flatDB', 'VH_gamma0_flatDB'],continue\n",
      "Threshould value is 0.6318359375\n",
      "Write csv and shp, Method=isodata  Img=s1_unit_mean_  Band=['VV_gamma0_flatDB']\n",
      "Method 2 isodata Band=['VV_gamma0_flatDB', 'VH_gamma0_flatDB'],continue\n",
      "Generating URL ...\n",
      "Downloading data from https://earthengine.googleapis.com/v1/projects/earthengine-legacy/thumbnails/a319ee738599a812934ac2f220f23c6c-e6275ac9ef8b571d588d2ac9f039ec3a:getPixels\n",
      "Please wait ...\n",
      "Data downloaded to /root/GEE/2019补齐结果/4704_Ascending_S1A_IW_GRDH_1SDV_20190721T114936_20190721T115001_028215_032FF3_E394.tif\n",
      "image save right\n",
      "change image bandNames\n",
      "Generating URL ...\n",
      "Downloading data from https://earthengine.googleapis.com/v1/projects/earthengine-legacy/thumbnails/5b1dae9c0eab4cce3f1a77c62e45b162-d1067b04f961c757d0a9c975a73fe5c6:getPixels\n",
      "Please wait ...\n",
      "Data downloaded to /root/GEE/2019补齐结果/4704_Descending_S1A_IW_GRDH_1SDV_20190809T234613_20190809T234638_028499_0338B5_13E6.tif\n",
      "image save right\n",
      "change image bandNames\n",
      "Generating URL ...\n",
      "Downloading data from https://earthengine.googleapis.com/v1/projects/earthengine-legacy/thumbnails/8cebc5ba313504b80ad1077c5a56946f-b7e390ecefe568a8f5844dea857db15c:getPixels\n",
      "Please wait ...\n",
      "Data downloaded to /root/GEE/2019补齐结果/4704_s2a_sr_median.tif\n",
      "image save right\n",
      "change image bandNames\n",
      "Generating URL ...\n",
      "Downloading data from https://earthengine.googleapis.com/v1/projects/earthengine-legacy/thumbnails/05b319e18b8a78434b4a399b8837508e-a8ce92d74933bd7d1921557692a9bbdd:getPixels\n",
      "Please wait ...\n",
      "Data downloaded to /root/GEE/2019补齐结果/4704_s1_unit_mean_.tif\n",
      "image save right\n",
      "change image bandNames\n",
      "Generating URL ...\n",
      "Downloading data from https://earthengine.googleapis.com/v1/projects/earthengine-legacy/thumbnails/ce36e5c83f7aca96eff91b97904b9961-0077c3e2be3368e0b9decd7680ffb064:getPixels\n",
      "Please wait ...\n",
      "Data downloaded to /root/GEE/2019补齐结果/4704_s1_unit_max_.tif\n",
      "image save right\n",
      "change image bandNames\n",
      "Generating URL ...\n",
      "Downloading data from https://earthengine.googleapis.com/v1/projects/earthengine-legacy/thumbnails/d9d7d452c625567510d75f98d838c2d8-0adcec3cf5a6d0bbc9b957cdcdbaa824:getPixels\n",
      "Please wait ...\n",
      "Data downloaded to /root/GEE/2019补齐结果/4704_s1_unit_min_.tif\n",
      "image save right\n",
      "change image bandNames\n",
      "Generating URL ...\n",
      "Downloading data from https://earthengine.googleapis.com/v1/projects/earthengine-legacy/thumbnails/29b77cfb14be952d71e87e086048ee7c-5b5346aacb5e34edff6f5e21478b0f71:getPixels\n",
      "Please wait ...\n",
      "Data downloaded to /root/GEE/2019补齐结果/4704_DistortionAS1A_IW_GRDH_1SDV_20190721T114936_20190721T115001_028215_032FF3_E394.tif\n",
      "image save right\n",
      "change image bandNames\n",
      "Generating URL ...\n",
      "Downloading data from https://earthengine.googleapis.com/v1/projects/earthengine-legacy/thumbnails/39e4ce1bed568c69fa6260c2e11d1a43-da095a73e3aabed8db43a22f44963994:getPixels\n",
      "Please wait ...\n",
      "Data downloaded to /root/GEE/2019补齐结果/4704_DistortionDS1A_IW_GRDH_1SDV_20190809T234613_20190809T234638_028499_0338B5_13E6.tif\n",
      "image save right\n",
      "change image bandNames\n",
      "该函数运行了 195.79934 秒\n"
     ]
    },
    {
     "name": "stderr",
     "output_type": "stream",
     "text": [
      "  2%|2         | 5/244 [16:03<12:47:46, 192.75s/it]"
     ]
    },
    {
     "name": "stdout",
     "output_type": "stream",
     "text": [
      "Begin Filter ...\n"
     ]
    },
    {
     "name": "stderr",
     "output_type": "stream",
     "text": [
      "\n",
      "100%|##########| 14/14 [00:00<00:00, 1524.45it/s]\n",
      "\n",
      "100%|##########| 14/14 [00:00<00:00, 718.46it/s]\n",
      "\n",
      "100%|##########| 14/14 [00:00<00:00, 1643.81it/s]\n",
      "\n",
      "100%|##########| 14/14 [00:00<00:00, 473.36it/s]\n"
     ]
    },
    {
     "name": "stdout",
     "output_type": "stream",
     "text": [
      "Method 1 Kmean Band=['VV_gamma0_flatDB'],continue\n",
      "Write csv and shp, Method=Kmean  Img=s1_unit_mean_  Band=['VV_gamma0_flatDB', 'VH_gamma0_flatDB']\n",
      "Method 1 SNIC_Kmean Band=['VV_gamma0_flatDB'],continue\n",
      "Write csv and shp, Method=SNIC_Kmean  Img=s1_unit_mean_  Band=['VV_gamma0_flatDB', 'VH_gamma0_flatDB']\n",
      "Write csv and shp, Method=SNIC_Kmean  Img=s1_unit_mean_  Band=['VV_gamma0_flatDB', 'VH_gamma0_flatDB']\n",
      "Method 1 Xmeans Band=['VV_gamma0_flatDB'],continue\n",
      "Write csv and shp, Method=Xmeans  Img=s1_unit_mean_  Band=['VV_gamma0_flatDB', 'VH_gamma0_flatDB']\n",
      "Method 1 CascadeKMeans Band=['VV_gamma0_flatDB'],continue\n",
      "Write csv and shp, Method=CascadeKMeans  Img=s1_unit_mean_  Band=['VV_gamma0_flatDB', 'VH_gamma0_flatDB']\n",
      "Threshould value is 0.48356743771769345\n",
      "Write csv and shp, Method=otsu  Img=s1_unit_mean_  Band=['VV_gamma0_flatDB']\n",
      "Method 2 otsu Band=['VV_gamma0_flatDB', 'VH_gamma0_flatDB'],continue\n"
     ]
    },
    {
     "name": "stderr",
     "output_type": "stream",
     "text": [
      "/root/GEE/Extract_algorithm.py:229: RuntimeWarning: invalid value encountered in divide\n",
      "  higher = (csum_intensity[-1] - csum_intensity[:-1]) / (csumh[:-1]+sys.float_info.min)\n"
     ]
    },
    {
     "name": "stdout",
     "output_type": "stream",
     "text": [
      "Threshould value is 0.4853515625\n",
      "Write csv and shp, Method=isodata  Img=s1_unit_mean_  Band=['VV_gamma0_flatDB']\n",
      "Method 2 isodata Band=['VV_gamma0_flatDB', 'VH_gamma0_flatDB'],continue\n",
      "Generating URL ...\n",
      "Downloading data from https://earthengine.googleapis.com/v1/projects/earthengine-legacy/thumbnails/a1208eec094f749aef3ec8169c19ed79-2434d5d611e6a6b123a2f9a5d296c3a7:getPixels\n",
      "Please wait ...\n",
      "Data downloaded to /root/GEE/2019补齐结果/4705_Ascending_S1A_IW_GRDH_1SDV_20190721T114936_20190721T115001_028215_032FF3_E394.tif\n",
      "image save right\n",
      "change image bandNames\n",
      "Generating URL ...\n",
      "Downloading data from https://earthengine.googleapis.com/v1/projects/earthengine-legacy/thumbnails/7c23f0b5fd663072cdf55644b321c05c-3255b0cea772a0be27f5bf37595e1395:getPixels\n",
      "Please wait ...\n",
      "Data downloaded to /root/GEE/2019补齐结果/4705_Descending_S1A_IW_GRDH_1SDV_20190809T234613_20190809T234638_028499_0338B5_13E6.tif\n",
      "image save right\n",
      "change image bandNames\n",
      "Generating URL ...\n",
      "Downloading data from https://earthengine.googleapis.com/v1/projects/earthengine-legacy/thumbnails/f21ed1915ac6ba5b83777a9f9085670c-79c3223df9c0846e667f0630d8da8ccb:getPixels\n",
      "Please wait ...\n",
      "Data downloaded to /root/GEE/2019补齐结果/4705_s2a_sr_median.tif\n",
      "image save right\n",
      "change image bandNames\n",
      "Generating URL ...\n",
      "Downloading data from https://earthengine.googleapis.com/v1/projects/earthengine-legacy/thumbnails/2ea25e23d3f5fa3e6e8038fd232a3f02-cdd68a7c1655d1198dbb22156766ab1f:getPixels\n",
      "Please wait ...\n",
      "Data downloaded to /root/GEE/2019补齐结果/4705_s1_unit_mean_.tif\n",
      "image save right\n",
      "change image bandNames\n",
      "Generating URL ...\n",
      "Downloading data from https://earthengine.googleapis.com/v1/projects/earthengine-legacy/thumbnails/c900dce2837c02b1d6e069dca7f852f1-f67b817d4d61bdd4774a166ac169afea:getPixels\n",
      "Please wait ...\n",
      "Data downloaded to /root/GEE/2019补齐结果/4705_s1_unit_max_.tif\n",
      "image save right\n",
      "change image bandNames\n",
      "Generating URL ...\n",
      "Downloading data from https://earthengine.googleapis.com/v1/projects/earthengine-legacy/thumbnails/79cf28c8a10235ec9650ac5802911c1f-5422066e9221ea3b201c62d3d967102f:getPixels\n",
      "Please wait ...\n",
      "Data downloaded to /root/GEE/2019补齐结果/4705_s1_unit_min_.tif\n",
      "image save right\n",
      "change image bandNames\n",
      "Generating URL ...\n",
      "Downloading data from https://earthengine.googleapis.com/v1/projects/earthengine-legacy/thumbnails/6b3cb846159e955ebfe129be8984605f-7d96922fbe86f3674685294ae61b5a49:getPixels\n",
      "Please wait ...\n",
      "Data downloaded to /root/GEE/2019补齐结果/4705_DistortionAS1A_IW_GRDH_1SDV_20190721T114936_20190721T115001_028215_032FF3_E394.tif\n",
      "image save right\n",
      "change image bandNames\n",
      "Generating URL ...\n",
      "Downloading data from https://earthengine.googleapis.com/v1/projects/earthengine-legacy/thumbnails/57b85aaad914d564876234aef2e3c2fd-1f2f97ab002d678becc8593f6b8ffe17:getPixels\n",
      "Please wait ...\n",
      "Data downloaded to /root/GEE/2019补齐结果/4705_DistortionDS1A_IW_GRDH_1SDV_20190809T234613_20190809T234638_028499_0338B5_13E6.tif\n",
      "image save right\n",
      "change image bandNames\n",
      "该函数运行了 191.52975 秒\n"
     ]
    },
    {
     "name": "stderr",
     "output_type": "stream",
     "text": [
      "  2%|2         | 6/244 [19:14<12:42:55, 192.33s/it]"
     ]
    },
    {
     "name": "stdout",
     "output_type": "stream",
     "text": [
      "Begin Filter ...\n"
     ]
    },
    {
     "name": "stderr",
     "output_type": "stream",
     "text": [
      "\n",
      "100%|##########| 14/14 [00:00<00:00, 1243.44it/s]\n",
      "\n",
      "100%|##########| 14/14 [00:00<00:00, 549.59it/s]\n",
      "\n",
      "100%|##########| 14/14 [00:00<00:00, 1769.22it/s]\n",
      "\n",
      "100%|##########| 14/14 [00:00<00:00, 515.72it/s]\n"
     ]
    },
    {
     "name": "stdout",
     "output_type": "stream",
     "text": [
      "Method 1 Kmean Band=['VV_gamma0_flatDB'],continue\n",
      "Write csv and shp, Method=Kmean  Img=s1_unit_mean_  Band=['VV_gamma0_flatDB', 'VH_gamma0_flatDB']\n",
      "Method 1 SNIC_Kmean Band=['VV_gamma0_flatDB'],continue\n",
      "Write csv and shp, Method=SNIC_Kmean  Img=s1_unit_mean_  Band=['VV_gamma0_flatDB', 'VH_gamma0_flatDB']\n",
      "Write csv and shp, Method=SNIC_Kmean  Img=s1_unit_mean_  Band=['VV_gamma0_flatDB', 'VH_gamma0_flatDB']\n",
      "Method 1 Xmeans Band=['VV_gamma0_flatDB'],continue\n",
      "Write csv and shp, Method=Xmeans  Img=s1_unit_mean_  Band=['VV_gamma0_flatDB', 'VH_gamma0_flatDB']\n",
      "Method 1 CascadeKMeans Band=['VV_gamma0_flatDB'],continue\n",
      "Write csv and shp, Method=CascadeKMeans  Img=s1_unit_mean_  Band=['VV_gamma0_flatDB', 'VH_gamma0_flatDB']\n",
      "Threshould value is 0.5203693079778743\n",
      "Write csv and shp, Method=otsu  Img=s1_unit_mean_  Band=['VV_gamma0_flatDB']\n",
      "Method 2 otsu Band=['VV_gamma0_flatDB', 'VH_gamma0_flatDB'],continue\n"
     ]
    },
    {
     "name": "stderr",
     "output_type": "stream",
     "text": [
      "/root/GEE/Extract_algorithm.py:229: RuntimeWarning: invalid value encountered in divide\n",
      "  higher = (csum_intensity[-1] - csum_intensity[:-1]) / (csumh[:-1]+sys.float_info.min)\n"
     ]
    },
    {
     "name": "stdout",
     "output_type": "stream",
     "text": [
      "Threshould value is 0.5203693079778743\n",
      "Write csv and shp, Method=isodata  Img=s1_unit_mean_  Band=['VV_gamma0_flatDB']\n",
      "Method 2 isodata Band=['VV_gamma0_flatDB', 'VH_gamma0_flatDB'],continue\n",
      "Generating URL ...\n",
      "Downloading data from https://earthengine.googleapis.com/v1/projects/earthengine-legacy/thumbnails/c5cd76db693afc8cc7c604fd8cf5e15e-1fb534b26d417797f6c36a08f6ab6be2:getPixels\n",
      "Please wait ...\n",
      "Data downloaded to /root/GEE/2019补齐结果/4706_Ascending_S1A_IW_GRDH_1SDV_20190721T114936_20190721T115001_028215_032FF3_E394.tif\n",
      "image save right\n",
      "change image bandNames\n",
      "Generating URL ...\n",
      "Downloading data from https://earthengine.googleapis.com/v1/projects/earthengine-legacy/thumbnails/45526e8b9fef49a90fbca0da5d3f59dd-3a2a24dc70b52bf429a08cff1a75f014:getPixels\n",
      "Please wait ...\n",
      "Data downloaded to /root/GEE/2019补齐结果/4706_Descending_S1A_IW_GRDH_1SDV_20190809T234613_20190809T234638_028499_0338B5_13E6.tif\n",
      "image save right\n",
      "change image bandNames\n",
      "Generating URL ...\n",
      "Downloading data from https://earthengine.googleapis.com/v1/projects/earthengine-legacy/thumbnails/0ee7d2df2e5451b8a46c80d49ef4ec6a-60b142146cebf01a97da6d38bbaf7b14:getPixels\n",
      "Please wait ...\n",
      "Data downloaded to /root/GEE/2019补齐结果/4706_s2a_sr_median.tif\n",
      "image save right\n",
      "change image bandNames\n",
      "Generating URL ...\n",
      "Downloading data from https://earthengine.googleapis.com/v1/projects/earthengine-legacy/thumbnails/5f5c074590e6f5056b27bc7719a0e713-0f7ab31047e9ce2a681e2f16030b2e13:getPixels\n",
      "Please wait ...\n",
      "Data downloaded to /root/GEE/2019补齐结果/4706_s1_unit_mean_.tif\n",
      "image save right\n",
      "change image bandNames\n",
      "Generating URL ...\n",
      "Downloading data from https://earthengine.googleapis.com/v1/projects/earthengine-legacy/thumbnails/7a63741692572e527a3156a9467723d2-17c8ef67033c174cd65d8fc3ac3c8032:getPixels\n",
      "Please wait ...\n",
      "Data downloaded to /root/GEE/2019补齐结果/4706_s1_unit_max_.tif\n",
      "image save right\n",
      "change image bandNames\n",
      "Generating URL ...\n",
      "Downloading data from https://earthengine.googleapis.com/v1/projects/earthengine-legacy/thumbnails/ea61e90ebf36e59f034d4206b002016f-c2097f8bf4c58830a68d428b50b998bb:getPixels\n",
      "Please wait ...\n",
      "Data downloaded to /root/GEE/2019补齐结果/4706_s1_unit_min_.tif\n",
      "image save right\n",
      "change image bandNames\n",
      "Generating URL ...\n",
      "Downloading data from https://earthengine.googleapis.com/v1/projects/earthengine-legacy/thumbnails/96fa19542b7288e9f129ab7f6e4e84fb-9c6f7bf9b496255376f102d703aa34b1:getPixels\n",
      "Please wait ...\n",
      "Data downloaded to /root/GEE/2019补齐结果/4706_DistortionAS1A_IW_GRDH_1SDV_20190721T114936_20190721T115001_028215_032FF3_E394.tif\n",
      "image save right\n",
      "change image bandNames\n",
      "Generating URL ...\n",
      "Downloading data from https://earthengine.googleapis.com/v1/projects/earthengine-legacy/thumbnails/1a1a0dfd505ab33d4bb3216efd832978-ad052e29ebe49dc0d663a626211e7d66:getPixels\n",
      "Please wait ...\n",
      "Data downloaded to /root/GEE/2019补齐结果/4706_DistortionDS1A_IW_GRDH_1SDV_20190809T234613_20190809T234638_028499_0338B5_13E6.tif\n",
      "image save right\n",
      "change image bandNames\n",
      "该函数运行了 187.07353 秒\n"
     ]
    },
    {
     "name": "stderr",
     "output_type": "stream",
     "text": [
      "  3%|2         | 7/244 [22:21<12:32:56, 190.62s/it]"
     ]
    },
    {
     "name": "stdout",
     "output_type": "stream",
     "text": [
      "Begin Filter ...\n"
     ]
    },
    {
     "name": "stderr",
     "output_type": "stream",
     "text": [
      "\n",
      "100%|##########| 13/13 [00:00<00:00, 1247.68it/s]\n",
      "\n",
      "100%|##########| 13/13 [00:00<00:00, 529.56it/s]\n",
      "\n",
      "100%|##########| 13/13 [00:00<00:00, 1638.55it/s]\n",
      "\n",
      "100%|##########| 13/13 [00:00<00:00, 479.80it/s]\n"
     ]
    },
    {
     "name": "stdout",
     "output_type": "stream",
     "text": [
      "Method 1 Kmean Band=['VV_gamma0_flatDB'],continue\n",
      "Write csv and shp, Method=Kmean  Img=s1_unit_mean_  Band=['VV_gamma0_flatDB', 'VH_gamma0_flatDB']\n",
      "Method 1 SNIC_Kmean Band=['VV_gamma0_flatDB'],continue\n",
      "Write csv and shp, Method=SNIC_Kmean  Img=s1_unit_mean_  Band=['VV_gamma0_flatDB', 'VH_gamma0_flatDB']\n",
      "Write csv and shp, Method=SNIC_Kmean  Img=s1_unit_mean_  Band=['VV_gamma0_flatDB', 'VH_gamma0_flatDB']\n",
      "Method 1 Xmeans Band=['VV_gamma0_flatDB'],continue\n",
      "Write csv and shp, Method=Xmeans  Img=s1_unit_mean_  Band=['VV_gamma0_flatDB', 'VH_gamma0_flatDB']\n",
      "Method 1 CascadeKMeans Band=['VV_gamma0_flatDB'],continue\n",
      "Write csv and shp, Method=CascadeKMeans  Img=s1_unit_mean_  Band=['VV_gamma0_flatDB', 'VH_gamma0_flatDB']\n",
      "Threshould value is 0.45414946714242316\n",
      "Write csv and shp, Method=otsu  Img=s1_unit_mean_  Band=['VV_gamma0_flatDB']\n",
      "Method 2 otsu Band=['VV_gamma0_flatDB', 'VH_gamma0_flatDB'],continue\n"
     ]
    },
    {
     "name": "stderr",
     "output_type": "stream",
     "text": [
      "/root/GEE/Extract_algorithm.py:229: RuntimeWarning: invalid value encountered in divide\n",
      "  higher = (csum_intensity[-1] - csum_intensity[:-1]) / (csumh[:-1]+sys.float_info.min)\n"
     ]
    },
    {
     "name": "stdout",
     "output_type": "stream",
     "text": [
      "Threshould value is 0.44632692011210595\n",
      "Write csv and shp, Method=isodata  Img=s1_unit_mean_  Band=['VV_gamma0_flatDB']\n",
      "Method 2 isodata Band=['VV_gamma0_flatDB', 'VH_gamma0_flatDB'],continue\n",
      "Generating URL ...\n",
      "Downloading data from https://earthengine.googleapis.com/v1/projects/earthengine-legacy/thumbnails/51b40e6ef2a88d6fec6acf7f6a32b286-4fb367517448248b84d8d570da1796e8:getPixels\n",
      "Please wait ...\n",
      "Data downloaded to /root/GEE/2019补齐结果/4707_Ascending_S1A_IW_GRDH_1SDV_20190721T114936_20190721T115001_028215_032FF3_E394.tif\n",
      "image save right\n",
      "change image bandNames\n",
      "Generating URL ...\n",
      "Downloading data from https://earthengine.googleapis.com/v1/projects/earthengine-legacy/thumbnails/790d47d41e7a69264a97508712b9a92b-d6942911592956537c2ae762a6a08be7:getPixels\n",
      "Please wait ...\n",
      "Data downloaded to /root/GEE/2019补齐结果/4707_Descending_S1A_IW_GRDH_1SDV_20190809T234613_20190809T234638_028499_0338B5_13E6.tif\n",
      "image save right\n",
      "change image bandNames\n",
      "Generating URL ...\n",
      "Downloading data from https://earthengine.googleapis.com/v1/projects/earthengine-legacy/thumbnails/71b89f383fc725a951ad70d109c0eff8-6e9c8813f8371336a5d574752b4f8eea:getPixels\n",
      "Please wait ...\n",
      "Data downloaded to /root/GEE/2019补齐结果/4707_s2a_sr_median.tif\n",
      "image save right\n",
      "change image bandNames\n",
      "Generating URL ...\n",
      "Downloading data from https://earthengine.googleapis.com/v1/projects/earthengine-legacy/thumbnails/fa584ae241ad2c643a86aef7d378c3e4-81ade39120608862f890f6672eb8fca0:getPixels\n",
      "Please wait ...\n",
      "Data downloaded to /root/GEE/2019补齐结果/4707_s1_unit_mean_.tif\n",
      "image save right\n",
      "change image bandNames\n",
      "Generating URL ...\n",
      "Downloading data from https://earthengine.googleapis.com/v1/projects/earthengine-legacy/thumbnails/456819b77f39b1164ef9774566d9912f-b2fa634a5bee08e80b99079f69f82b8e:getPixels\n",
      "Please wait ...\n",
      "Data downloaded to /root/GEE/2019补齐结果/4707_s1_unit_max_.tif\n",
      "image save right\n",
      "change image bandNames\n",
      "Generating URL ...\n",
      "Downloading data from https://earthengine.googleapis.com/v1/projects/earthengine-legacy/thumbnails/7ec8484b5b6f948427c7f1f5a0ec1836-61b3a2c8606d537884b565cb08295de8:getPixels\n",
      "Please wait ...\n",
      "Data downloaded to /root/GEE/2019补齐结果/4707_s1_unit_min_.tif\n",
      "image save right\n",
      "change image bandNames\n",
      "Generating URL ...\n",
      "Downloading data from https://earthengine.googleapis.com/v1/projects/earthengine-legacy/thumbnails/6f58ee15ac8c2600899c84ec6cbfa4a7-9a375c6f3034cbc08ab3a0a74167bee9:getPixels\n",
      "Please wait ...\n",
      "Data downloaded to /root/GEE/2019补齐结果/4707_DistortionAS1A_IW_GRDH_1SDV_20190721T114936_20190721T115001_028215_032FF3_E394.tif\n",
      "image save right\n",
      "change image bandNames\n",
      "Generating URL ...\n",
      "Downloading data from https://earthengine.googleapis.com/v1/projects/earthengine-legacy/thumbnails/f418c1c91be0861f9b7f56f10de7a4f8-e92b907171c8865ca87dbf55c65e5178:getPixels\n",
      "Please wait ...\n",
      "Data downloaded to /root/GEE/2019补齐结果/4707_DistortionDS1A_IW_GRDH_1SDV_20190809T234613_20190809T234638_028499_0338B5_13E6.tif\n",
      "image save right\n",
      "change image bandNames\n",
      "该函数运行了 188.67940 秒\n"
     ]
    },
    {
     "name": "stderr",
     "output_type": "stream",
     "text": [
      "  3%|3         | 8/244 [25:30<12:27:20, 190.00s/it]"
     ]
    },
    {
     "name": "stdout",
     "output_type": "stream",
     "text": [
      "Begin Filter ...\n"
     ]
    },
    {
     "name": "stderr",
     "output_type": "stream",
     "text": [
      "\n",
      "100%|##########| 19/19 [00:00<00:00, 1627.39it/s]\n",
      "\n",
      "100%|##########| 19/19 [00:00<00:00, 318.34it/s]\n",
      "\n",
      "100%|##########| 19/19 [00:00<00:00, 1965.95it/s]\n",
      "\n",
      "100%|##########| 19/19 [00:00<00:00, 392.41it/s]\n"
     ]
    },
    {
     "name": "stdout",
     "output_type": "stream",
     "text": [
      "Method 1 Kmean Band=['VV_gamma0_flatDB'],continue\n",
      "Write csv and shp, Method=Kmean  Img=s1_unit_mean_  Band=['VV_gamma0_flatDB', 'VH_gamma0_flatDB']\n",
      "Method 1 SNIC_Kmean Band=['VV_gamma0_flatDB'],continue\n",
      "Write csv and shp, Method=SNIC_Kmean  Img=s1_unit_mean_  Band=['VV_gamma0_flatDB', 'VH_gamma0_flatDB']\n",
      "Write csv and shp, Method=SNIC_Kmean  Img=s1_unit_mean_  Band=['VV_gamma0_flatDB', 'VH_gamma0_flatDB']\n",
      "Method 1 Xmeans Band=['VV_gamma0_flatDB'],continue\n",
      "Write csv and shp, Method=Xmeans  Img=s1_unit_mean_  Band=['VV_gamma0_flatDB', 'VH_gamma0_flatDB']\n",
      "Method 1 CascadeKMeans Band=['VV_gamma0_flatDB'],continue\n",
      "Write csv and shp, Method=CascadeKMeans  Img=s1_unit_mean_  Band=['VV_gamma0_flatDB', 'VH_gamma0_flatDB']\n",
      "Threshould value is 0.5109310823880127\n",
      "Write csv and shp, Method=otsu  Img=s1_unit_mean_  Band=['VV_gamma0_flatDB']\n",
      "Method 2 otsu Band=['VV_gamma0_flatDB', 'VH_gamma0_flatDB'],continue\n"
     ]
    },
    {
     "name": "stderr",
     "output_type": "stream",
     "text": [
      "/root/GEE/Extract_algorithm.py:229: RuntimeWarning: invalid value encountered in divide\n",
      "  higher = (csum_intensity[-1] - csum_intensity[:-1]) / (csumh[:-1]+sys.float_info.min)\n"
     ]
    },
    {
     "name": "stdout",
     "output_type": "stream",
     "text": [
      "Threshould value is 0.5068881192994611\n",
      "Write csv and shp, Method=isodata  Img=s1_unit_mean_  Band=['VV_gamma0_flatDB']\n",
      "Method 2 isodata Band=['VV_gamma0_flatDB', 'VH_gamma0_flatDB'],continue\n",
      "Generating URL ...\n",
      "Downloading data from https://earthengine.googleapis.com/v1/projects/earthengine-legacy/thumbnails/413ae9b197347704336264ddd6cd5f22-c05f9b40752c37683bbb3c19ab8c1292:getPixels\n",
      "Please wait ...\n",
      "Data downloaded to /root/GEE/2019补齐结果/4708_Ascending_S1A_IW_GRDH_1SDV_20190721T114936_20190721T115001_028215_032FF3_E394.tif\n",
      "image save right\n",
      "change image bandNames\n",
      "Generating URL ...\n",
      "Downloading data from https://earthengine.googleapis.com/v1/projects/earthengine-legacy/thumbnails/6d6da8f772fe63c59d31392dd716ec5c-b0d0b422e921ea1ad738641671c7ac6c:getPixels\n",
      "Please wait ...\n",
      "Data downloaded to /root/GEE/2019补齐结果/4708_Descending_S1A_IW_GRDH_1SDV_20190809T234613_20190809T234638_028499_0338B5_13E6.tif\n",
      "image save right\n",
      "change image bandNames\n",
      "Generating URL ...\n",
      "Downloading data from https://earthengine.googleapis.com/v1/projects/earthengine-legacy/thumbnails/85b9dfa006129ca05961e57d3645f396-7825b4c7fd6bda98a1dd18291fd8449d:getPixels\n",
      "Please wait ...\n",
      "Data downloaded to /root/GEE/2019补齐结果/4708_s2a_sr_median.tif\n",
      "image save right\n",
      "change image bandNames\n",
      "Generating URL ...\n",
      "Downloading data from https://earthengine.googleapis.com/v1/projects/earthengine-legacy/thumbnails/f160a4b39760306fd3bd151a338c2d55-6cb1a4f74f4e6f7a4445ef4d92911908:getPixels\n",
      "Please wait ...\n",
      "Data downloaded to /root/GEE/2019补齐结果/4708_s1_unit_mean_.tif\n",
      "image save right\n",
      "change image bandNames\n",
      "Generating URL ...\n",
      "Downloading data from https://earthengine.googleapis.com/v1/projects/earthengine-legacy/thumbnails/cbdc72f6ffbacf3b65f4e64f4a5b663b-732c9b2b440b01fa174cb33cae6cf4e9:getPixels\n",
      "Please wait ...\n",
      "Data downloaded to /root/GEE/2019补齐结果/4708_s1_unit_max_.tif\n",
      "image save right\n",
      "change image bandNames\n",
      "Generating URL ...\n",
      "Downloading data from https://earthengine.googleapis.com/v1/projects/earthengine-legacy/thumbnails/6a5d70b0417fde0c5daf5c2f990b026c-16805cc0ab04f88e7ca65da0209f7150:getPixels\n",
      "Please wait ...\n",
      "Data downloaded to /root/GEE/2019补齐结果/4708_s1_unit_min_.tif\n",
      "image save right\n",
      "change image bandNames\n",
      "Generating URL ...\n",
      "Downloading data from https://earthengine.googleapis.com/v1/projects/earthengine-legacy/thumbnails/b1f0220b63c3247a23dc6a4c3899057d-a2ff201c411060a7ad5b2ca7e456e485:getPixels\n",
      "Please wait ...\n",
      "Data downloaded to /root/GEE/2019补齐结果/4708_DistortionAS1A_IW_GRDH_1SDV_20190721T114936_20190721T115001_028215_032FF3_E394.tif\n",
      "image save right\n",
      "change image bandNames\n",
      "Generating URL ...\n",
      "Downloading data from https://earthengine.googleapis.com/v1/projects/earthengine-legacy/thumbnails/c327bff87b67ba015d4736f5a63ce009-0ab9e9755058fd163d77f3403f304244:getPixels\n",
      "Please wait ...\n",
      "Data downloaded to /root/GEE/2019补齐结果/4708_DistortionDS1A_IW_GRDH_1SDV_20190809T234613_20190809T234638_028499_0338B5_13E6.tif\n",
      "image save right\n",
      "change image bandNames\n",
      "该函数运行了 192.61153 秒\n"
     ]
    },
    {
     "name": "stderr",
     "output_type": "stream",
     "text": [
      "  4%|3         | 9/244 [28:43<12:27:22, 190.82s/it]"
     ]
    },
    {
     "name": "stdout",
     "output_type": "stream",
     "text": [
      "Begin Filter ...\n"
     ]
    },
    {
     "name": "stderr",
     "output_type": "stream",
     "text": [
      "\n",
      "100%|##########| 11/11 [00:00<00:00, 1594.96it/s]\n",
      "\n",
      "100%|##########| 11/11 [00:00<00:00, 734.44it/s]\n",
      "\n",
      "100%|##########| 12/12 [00:00<00:00, 1885.43it/s]\n",
      "\n",
      "100%|##########| 12/12 [00:00<00:00, 620.41it/s]\n"
     ]
    },
    {
     "name": "stdout",
     "output_type": "stream",
     "text": [
      "Method 1 Kmean Band=['VV_gamma0_flatDB'],continue\n",
      "Write csv and shp, Method=Kmean  Img=s1_unit_mean_  Band=['VV_gamma0_flatDB', 'VH_gamma0_flatDB']\n",
      "Method 1 SNIC_Kmean Band=['VV_gamma0_flatDB'],continue\n",
      "Write csv and shp, Method=SNIC_Kmean  Img=s1_unit_mean_  Band=['VV_gamma0_flatDB', 'VH_gamma0_flatDB']\n",
      "Write csv and shp, Method=SNIC_Kmean  Img=s1_unit_mean_  Band=['VV_gamma0_flatDB', 'VH_gamma0_flatDB']\n",
      "Method 1 Xmeans Band=['VV_gamma0_flatDB'],continue\n",
      "Write csv and shp, Method=Xmeans  Img=s1_unit_mean_  Band=['VV_gamma0_flatDB', 'VH_gamma0_flatDB']\n",
      "Method 1 CascadeKMeans Band=['VV_gamma0_flatDB'],continue\n",
      "Write csv and shp, Method=CascadeKMeans  Img=s1_unit_mean_  Band=['VV_gamma0_flatDB', 'VH_gamma0_flatDB']\n",
      "Threshould value is 0.5323720769705166\n",
      "Write csv and shp, Method=otsu  Img=s1_unit_mean_  Band=['VV_gamma0_flatDB']\n",
      "Method 2 otsu Band=['VV_gamma0_flatDB', 'VH_gamma0_flatDB'],continue\n",
      "Threshould value is 0.5323720769705166\n",
      "Write csv and shp, Method=isodata  Img=s1_unit_mean_  Band=['VV_gamma0_flatDB']\n",
      "Method 2 isodata Band=['VV_gamma0_flatDB', 'VH_gamma0_flatDB'],continue\n",
      "Generating URL ...\n",
      "Downloading data from https://earthengine.googleapis.com/v1/projects/earthengine-legacy/thumbnails/e1439571a27c24542a798b3a6c5a181d-b5d34fb87171f3d88e36c4e8db274488:getPixels\n",
      "Please wait ...\n",
      "Data downloaded to /root/GEE/2019补齐结果/4709_Ascending_S1A_IW_GRDH_1SDV_20190721T114936_20190721T115001_028215_032FF3_E394.tif\n",
      "image save right\n",
      "change image bandNames\n",
      "Generating URL ...\n",
      "Downloading data from https://earthengine.googleapis.com/v1/projects/earthengine-legacy/thumbnails/6e8e700026064db6916979c5abc2db08-af714861936aefdb66c63cb39b23e6d6:getPixels\n",
      "Please wait ...\n",
      "Data downloaded to /root/GEE/2019补齐结果/4709_Descending_S1A_IW_GRDH_1SDV_20190809T234613_20190809T234638_028499_0338B5_13E6.tif\n",
      "image save right\n",
      "change image bandNames\n",
      "Generating URL ...\n",
      "Downloading data from https://earthengine.googleapis.com/v1/projects/earthengine-legacy/thumbnails/e46f22e39f7078c40dbdf58104d09bdd-cea38269f0bc6f073a000b55794c1da2:getPixels\n",
      "Please wait ...\n",
      "Data downloaded to /root/GEE/2019补齐结果/4709_s2a_sr_median.tif\n",
      "image save right\n",
      "change image bandNames\n",
      "Generating URL ...\n",
      "Downloading data from https://earthengine.googleapis.com/v1/projects/earthengine-legacy/thumbnails/bb3a787f19823983c9d0d8cfacfd50c0-3d38bdf846f8fdf49e1b289b2802ec58:getPixels\n",
      "Please wait ...\n",
      "Data downloaded to /root/GEE/2019补齐结果/4709_s1_unit_mean_.tif\n",
      "image save right\n",
      "change image bandNames\n",
      "Generating URL ...\n",
      "Downloading data from https://earthengine.googleapis.com/v1/projects/earthengine-legacy/thumbnails/5927db8cf8855d74f01081a778a56ddf-310b2ae7e60b1e2d7aae8abdbe62465e:getPixels\n",
      "Please wait ...\n",
      "Data downloaded to /root/GEE/2019补齐结果/4709_s1_unit_max_.tif\n",
      "image save right\n",
      "change image bandNames\n",
      "Generating URL ...\n",
      "Downloading data from https://earthengine.googleapis.com/v1/projects/earthengine-legacy/thumbnails/b4b3048743c6eedffd1b02e86c3d1d64-a67f0d96d57b60480c6bbcf8e6bf0f50:getPixels\n",
      "Please wait ...\n",
      "Data downloaded to /root/GEE/2019补齐结果/4709_s1_unit_min_.tif\n",
      "image save right\n",
      "change image bandNames\n",
      "Generating URL ...\n",
      "Downloading data from https://earthengine.googleapis.com/v1/projects/earthengine-legacy/thumbnails/00cfac3a8ab0de610ec4371c00aa7a26-57ae91143c682e8d0cbd850a8f79098e:getPixels\n",
      "Please wait ...\n",
      "Data downloaded to /root/GEE/2019补齐结果/4709_DistortionAS1A_IW_GRDH_1SDV_20190721T114936_20190721T115001_028215_032FF3_E394.tif\n",
      "image save right\n",
      "change image bandNames\n",
      "Generating URL ...\n",
      "Downloading data from https://earthengine.googleapis.com/v1/projects/earthengine-legacy/thumbnails/01fe30a308a6ef8d52f933af8333e88f-e3165f646e4ee18c61e4fd6b0565892f:getPixels\n",
      "Please wait ...\n",
      "Data downloaded to /root/GEE/2019补齐结果/4709_DistortionDS1A_IW_GRDH_1SDV_20190809T234613_20190809T234638_028499_0338B5_13E6.tif\n",
      "image save right\n",
      "change image bandNames\n",
      "该函数运行了 183.36788 秒\n"
     ]
    },
    {
     "name": "stderr",
     "output_type": "stream",
     "text": [
      "  4%|4         | 10/244 [31:46<12:15:13, 188.52s/it]"
     ]
    },
    {
     "name": "stdout",
     "output_type": "stream",
     "text": [
      "Begin Filter ...\n"
     ]
    },
    {
     "name": "stderr",
     "output_type": "stream",
     "text": [
      "\n",
      "100%|##########| 20/20 [00:00<00:00, 1548.54it/s]\n",
      "\n",
      "100%|##########| 20/20 [00:00<00:00, 702.68it/s]\n",
      "\n",
      "100%|##########| 21/21 [00:00<00:00, 2043.53it/s]\n",
      "\n",
      "100%|##########| 21/21 [00:00<00:00, 904.50it/s]\n"
     ]
    },
    {
     "name": "stdout",
     "output_type": "stream",
     "text": [
      "Method 1 Kmean Band=['VV_gamma0_flatDB'],continue\n",
      "Write csv and shp, Method=Kmean  Img=s1_unit_mean_  Band=['VV_gamma0_flatDB', 'VH_gamma0_flatDB']\n",
      "Method 1 SNIC_Kmean Band=['VV_gamma0_flatDB'],continue\n",
      "Write csv and shp, Method=SNIC_Kmean  Img=s1_unit_mean_  Band=['VV_gamma0_flatDB', 'VH_gamma0_flatDB']\n",
      "Write csv and shp, Method=SNIC_Kmean  Img=s1_unit_mean_  Band=['VV_gamma0_flatDB', 'VH_gamma0_flatDB']\n",
      "Method 1 Xmeans Band=['VV_gamma0_flatDB'],continue\n",
      "Write csv and shp, Method=Xmeans  Img=s1_unit_mean_  Band=['VV_gamma0_flatDB', 'VH_gamma0_flatDB']\n",
      "Method 1 CascadeKMeans Band=['VV_gamma0_flatDB'],continue\n",
      "Write csv and shp, Method=CascadeKMeans  Img=s1_unit_mean_  Band=['VV_gamma0_flatDB', 'VH_gamma0_flatDB']\n",
      "Threshould value is 0.5558324920382625\n",
      "Write csv and shp, Method=otsu  Img=s1_unit_mean_  Band=['VV_gamma0_flatDB']\n",
      "Method 2 otsu Band=['VV_gamma0_flatDB', 'VH_gamma0_flatDB'],continue\n",
      "Threshould value is 0.5517689715402014\n",
      "Write csv and shp, Method=isodata  Img=s1_unit_mean_  Band=['VV_gamma0_flatDB']\n",
      "Method 2 isodata Band=['VV_gamma0_flatDB', 'VH_gamma0_flatDB'],continue\n",
      "Generating URL ...\n",
      "Downloading data from https://earthengine.googleapis.com/v1/projects/earthengine-legacy/thumbnails/f3369c509dc4af00d5c147194b783fb9-35ef609662a69880695b451aa4971f25:getPixels\n",
      "Please wait ...\n",
      "Data downloaded to /root/GEE/2019补齐结果/4710_Ascending_S1A_IW_GRDH_1SDV_20190721T114936_20190721T115001_028215_032FF3_E394.tif\n",
      "image save right\n",
      "change image bandNames\n",
      "Generating URL ...\n",
      "Downloading data from https://earthengine.googleapis.com/v1/projects/earthengine-legacy/thumbnails/5d61dbd698d14c7b7de1314c50ac0307-9671345e6695c001ba6cce53c9ac2dc9:getPixels\n",
      "Please wait ...\n",
      "Data downloaded to /root/GEE/2019补齐结果/4710_Descending_S1A_IW_GRDH_1SDV_20190809T234613_20190809T234638_028499_0338B5_13E6.tif\n",
      "image save right\n",
      "change image bandNames\n",
      "Generating URL ...\n",
      "Downloading data from https://earthengine.googleapis.com/v1/projects/earthengine-legacy/thumbnails/fe750156d806b3fbd687f879116b230b-af9d6516cc7644c4608ddbe30c409977:getPixels\n",
      "Please wait ...\n",
      "Data downloaded to /root/GEE/2019补齐结果/4710_s2a_sr_median.tif\n",
      "image save right\n",
      "change image bandNames\n",
      "Generating URL ...\n",
      "Downloading data from https://earthengine.googleapis.com/v1/projects/earthengine-legacy/thumbnails/aac67fcde3b13b52ec1929259f36fe26-e0c946e290bad681437ecdeceed3e2ed:getPixels\n",
      "Please wait ...\n",
      "Data downloaded to /root/GEE/2019补齐结果/4710_s1_unit_mean_.tif\n",
      "image save right\n",
      "change image bandNames\n",
      "Generating URL ...\n",
      "Downloading data from https://earthengine.googleapis.com/v1/projects/earthengine-legacy/thumbnails/2b2c6fd2f1ff8862d4d59eb0c39c2362-ed789d200fe224ff084af78c2eaa1684:getPixels\n",
      "Please wait ...\n",
      "Data downloaded to /root/GEE/2019补齐结果/4710_s1_unit_max_.tif\n",
      "image save right\n",
      "change image bandNames\n",
      "Generating URL ...\n",
      "Downloading data from https://earthengine.googleapis.com/v1/projects/earthengine-legacy/thumbnails/4a69eb3f91354938de962b73aff93919-c95de469665e4e9616fb66e6e82aebe4:getPixels\n",
      "Please wait ...\n",
      "Data downloaded to /root/GEE/2019补齐结果/4710_s1_unit_min_.tif\n",
      "image save right\n",
      "change image bandNames\n",
      "Generating URL ...\n",
      "Downloading data from https://earthengine.googleapis.com/v1/projects/earthengine-legacy/thumbnails/5e2562541bd2ffe16a8eda2bee43c4fb-13793c4714c726e8a3d729ac04e04dd1:getPixels\n",
      "Please wait ...\n",
      "Data downloaded to /root/GEE/2019补齐结果/4710_DistortionAS1A_IW_GRDH_1SDV_20190721T114936_20190721T115001_028215_032FF3_E394.tif\n",
      "image save right\n",
      "change image bandNames\n",
      "Generating URL ...\n",
      "Downloading data from https://earthengine.googleapis.com/v1/projects/earthengine-legacy/thumbnails/8bb2522c027e193bf3923fcb4c998240-9b6c8effaf675105e5b574bedc9c6d71:getPixels\n",
      "Please wait ...\n",
      "Data downloaded to /root/GEE/2019补齐结果/4710_DistortionDS1A_IW_GRDH_1SDV_20190809T234613_20190809T234638_028499_0338B5_13E6.tif\n",
      "image save right\n",
      "change image bandNames\n",
      "该函数运行了 183.54362 秒\n"
     ]
    },
    {
     "name": "stderr",
     "output_type": "stream",
     "text": [
      "  5%|4         | 11/244 [34:49<12:06:10, 187.00s/it]"
     ]
    },
    {
     "name": "stdout",
     "output_type": "stream",
     "text": [
      "Begin Filter ...\n"
     ]
    },
    {
     "name": "stderr",
     "output_type": "stream",
     "text": [
      "\n",
      "100%|##########| 12/12 [00:00<00:00, 1752.13it/s]\n",
      "\n",
      "100%|##########| 12/12 [00:00<00:00, 646.14it/s]\n",
      "\n",
      "100%|##########| 12/12 [00:00<00:00, 1722.98it/s]\n",
      "\n",
      "100%|##########| 12/12 [00:00<00:00, 552.27it/s]\n"
     ]
    },
    {
     "name": "stdout",
     "output_type": "stream",
     "text": [
      "Method 1 Kmean Band=['VV_gamma0_flatDB'],continue\n",
      "Write csv and shp, Method=Kmean  Img=s1_unit_mean_  Band=['VV_gamma0_flatDB', 'VH_gamma0_flatDB']\n",
      "Method 1 SNIC_Kmean Band=['VV_gamma0_flatDB'],continue\n",
      "Write csv and shp, Method=SNIC_Kmean  Img=s1_unit_mean_  Band=['VV_gamma0_flatDB', 'VH_gamma0_flatDB']\n",
      "Write csv and shp, Method=SNIC_Kmean  Img=s1_unit_mean_  Band=['VV_gamma0_flatDB', 'VH_gamma0_flatDB']\n",
      "Method 1 Xmeans Band=['VV_gamma0_flatDB'],continue\n",
      "Write csv and shp, Method=Xmeans  Img=s1_unit_mean_  Band=['VV_gamma0_flatDB', 'VH_gamma0_flatDB']\n",
      "Method 1 CascadeKMeans Band=['VV_gamma0_flatDB'],continue\n",
      "Write csv and shp, Method=CascadeKMeans  Img=s1_unit_mean_  Band=['VV_gamma0_flatDB', 'VH_gamma0_flatDB']\n",
      "Threshould value is 0.3815782409285852\n",
      "Write csv and shp, Method=otsu  Img=s1_unit_mean_  Band=['VV_gamma0_flatDB']\n",
      "Method 2 otsu Band=['VV_gamma0_flatDB', 'VH_gamma0_flatDB'],continue\n"
     ]
    },
    {
     "name": "stderr",
     "output_type": "stream",
     "text": [
      "/root/GEE/Extract_algorithm.py:229: RuntimeWarning: invalid value encountered in divide\n",
      "  higher = (csum_intensity[-1] - csum_intensity[:-1]) / (csumh[:-1]+sys.float_info.min)\n"
     ]
    },
    {
     "name": "stdout",
     "output_type": "stream",
     "text": [
      "Threshould value is 0.3741886117194282\n",
      "Write csv and shp, Method=isodata  Img=s1_unit_mean_  Band=['VV_gamma0_flatDB']\n",
      "Method 2 isodata Band=['VV_gamma0_flatDB', 'VH_gamma0_flatDB'],continue\n",
      "Generating URL ...\n",
      "Downloading data from https://earthengine.googleapis.com/v1/projects/earthengine-legacy/thumbnails/3ffa83d633cc029386d28fd40abd409c-d359a3e6dd33867bd183a96a69ad671e:getPixels\n",
      "Please wait ...\n",
      "Data downloaded to /root/GEE/2019补齐结果/4711_Ascending_S1A_IW_GRDH_1SDV_20190721T114936_20190721T115001_028215_032FF3_E394.tif\n",
      "image save right\n",
      "change image bandNames\n",
      "Generating URL ...\n",
      "Downloading data from https://earthengine.googleapis.com/v1/projects/earthengine-legacy/thumbnails/d0a60fb48b410bdfd31d29ea8b926184-315d19a5bb99ed852bf9356bbb2d6336:getPixels\n",
      "Please wait ...\n",
      "Data downloaded to /root/GEE/2019补齐结果/4711_Descending_S1A_IW_GRDH_1SDV_20190809T234613_20190809T234638_028499_0338B5_13E6.tif\n",
      "image save right\n",
      "change image bandNames\n",
      "Generating URL ...\n",
      "Downloading data from https://earthengine.googleapis.com/v1/projects/earthengine-legacy/thumbnails/b5b499044f7f25b2e2dccffe3ab19014-bc14d40dec1d05fa72d0d48749e2a007:getPixels\n",
      "Please wait ...\n",
      "Data downloaded to /root/GEE/2019补齐结果/4711_s2a_sr_median.tif\n",
      "image save right\n",
      "change image bandNames\n",
      "Generating URL ...\n",
      "Downloading data from https://earthengine.googleapis.com/v1/projects/earthengine-legacy/thumbnails/3fc6a3f6abcb5017f6a5310c361e6778-6e0947a797cd96a062fadce12f9bc9c0:getPixels\n",
      "Please wait ...\n",
      "Data downloaded to /root/GEE/2019补齐结果/4711_s1_unit_mean_.tif\n",
      "image save right\n",
      "change image bandNames\n",
      "Generating URL ...\n",
      "Downloading data from https://earthengine.googleapis.com/v1/projects/earthengine-legacy/thumbnails/9e4253704fa87c4e7d8e9f552b6f37e0-1d323b5663962cd1781070a443e98537:getPixels\n",
      "Please wait ...\n",
      "Data downloaded to /root/GEE/2019补齐结果/4711_s1_unit_max_.tif\n",
      "image save right\n",
      "change image bandNames\n",
      "Generating URL ...\n",
      "Downloading data from https://earthengine.googleapis.com/v1/projects/earthengine-legacy/thumbnails/baedfc7f133636635f180f6fe9305da3-1132bc6c5ac607878d54619ccdbf490d:getPixels\n",
      "Please wait ...\n",
      "Data downloaded to /root/GEE/2019补齐结果/4711_s1_unit_min_.tif\n",
      "image save right\n",
      "change image bandNames\n",
      "Generating URL ...\n",
      "Downloading data from https://earthengine.googleapis.com/v1/projects/earthengine-legacy/thumbnails/c60629372a7fe7e40412c6246c8314ca-dbaa845908c88bb927b6fe324c05e6e4:getPixels\n",
      "Please wait ...\n",
      "Data downloaded to /root/GEE/2019补齐结果/4711_DistortionAS1A_IW_GRDH_1SDV_20190721T114936_20190721T115001_028215_032FF3_E394.tif\n",
      "image save right\n",
      "change image bandNames\n",
      "Generating URL ...\n",
      "Downloading data from https://earthengine.googleapis.com/v1/projects/earthengine-legacy/thumbnails/eceffc26df29b10bcedc293555f305cd-3d8badd148348aa81f0ece7de5dc56d2:getPixels\n",
      "Please wait ...\n",
      "Data downloaded to /root/GEE/2019补齐结果/4711_DistortionDS1A_IW_GRDH_1SDV_20190809T234613_20190809T234638_028499_0338B5_13E6.tif\n",
      "image save right\n",
      "change image bandNames\n",
      "该函数运行了 182.36253 秒\n"
     ]
    },
    {
     "name": "stderr",
     "output_type": "stream",
     "text": [
      "  5%|4         | 12/244 [37:52<11:57:36, 185.59s/it]"
     ]
    },
    {
     "name": "stdout",
     "output_type": "stream",
     "text": [
      "Begin Filter ...\n"
     ]
    },
    {
     "name": "stderr",
     "output_type": "stream",
     "text": [
      "\n",
      "100%|##########| 19/19 [00:00<00:00, 2002.66it/s]\n",
      "\n",
      "100%|##########| 19/19 [00:00<00:00, 580.68it/s]\n",
      "\n",
      "100%|##########| 18/18 [00:00<00:00, 1760.22it/s]\n",
      "\n",
      "100%|##########| 18/18 [00:00<00:00, 527.42it/s]\n"
     ]
    },
    {
     "name": "stdout",
     "output_type": "stream",
     "text": [
      "Method 1 Kmean Band=['VV_gamma0_flatDB'],continue\n",
      "Write csv and shp, Method=Kmean  Img=s1_unit_mean_  Band=['VV_gamma0_flatDB', 'VH_gamma0_flatDB']\n",
      "Method 1 SNIC_Kmean Band=['VV_gamma0_flatDB'],continue\n",
      "Write csv and shp, Method=SNIC_Kmean  Img=s1_unit_mean_  Band=['VV_gamma0_flatDB', 'VH_gamma0_flatDB']\n",
      "Write csv and shp, Method=SNIC_Kmean  Img=s1_unit_mean_  Band=['VV_gamma0_flatDB', 'VH_gamma0_flatDB']\n",
      "Method 1 Xmeans Band=['VV_gamma0_flatDB'],continue\n",
      "Write csv and shp, Method=Xmeans  Img=s1_unit_mean_  Band=['VV_gamma0_flatDB', 'VH_gamma0_flatDB']\n",
      "Method 1 CascadeKMeans Band=['VV_gamma0_flatDB'],continue\n",
      "Write csv and shp, Method=CascadeKMeans  Img=s1_unit_mean_  Band=['VV_gamma0_flatDB', 'VH_gamma0_flatDB']\n",
      "Threshould value is 0.5676104524811999\n",
      "Write csv and shp, Method=otsu  Img=s1_unit_mean_  Band=['VV_gamma0_flatDB']\n",
      "Method 2 otsu Band=['VV_gamma0_flatDB', 'VH_gamma0_flatDB'],continue\n",
      "Threshould value is 0.5598995708889064\n",
      "Write csv and shp, Method=isodata  Img=s1_unit_mean_  Band=['VV_gamma0_flatDB']\n",
      "Method 2 isodata Band=['VV_gamma0_flatDB', 'VH_gamma0_flatDB'],continue\n",
      "Generating URL ...\n",
      "Downloading data from https://earthengine.googleapis.com/v1/projects/earthengine-legacy/thumbnails/d905bbdc014de9ba57f3ce494651649c-e4d83ed38522d4ce8c7608144630943d:getPixels\n",
      "Please wait ...\n",
      "Data downloaded to /root/GEE/2019补齐结果/4712_Ascending_S1A_IW_GRDH_1SDV_20190721T114936_20190721T115001_028215_032FF3_E394.tif\n",
      "image save right\n",
      "change image bandNames\n",
      "Generating URL ...\n",
      "Downloading data from https://earthengine.googleapis.com/v1/projects/earthengine-legacy/thumbnails/717175901b2db19600798a777464b981-8a0fbc4352d7dc0413fdfc53818e09a6:getPixels\n",
      "Please wait ...\n",
      "Data downloaded to /root/GEE/2019补齐结果/4712_Descending_S1A_IW_GRDH_1SDV_20190809T234613_20190809T234638_028499_0338B5_13E6.tif\n",
      "image save right\n",
      "change image bandNames\n",
      "Generating URL ...\n",
      "Downloading data from https://earthengine.googleapis.com/v1/projects/earthengine-legacy/thumbnails/72e36f7eab15b931292db71355222396-1b31a3f934099225fbf59ff4aabfd0f8:getPixels\n",
      "Please wait ...\n",
      "Data downloaded to /root/GEE/2019补齐结果/4712_s2a_sr_median.tif\n",
      "image save right\n",
      "change image bandNames\n",
      "Generating URL ...\n",
      "Downloading data from https://earthengine.googleapis.com/v1/projects/earthengine-legacy/thumbnails/55c250d355710b3c68fa148f8e59eec8-77b7598cbd8472a8f6fc0586d4e502cf:getPixels\n",
      "Please wait ...\n",
      "Data downloaded to /root/GEE/2019补齐结果/4712_s1_unit_mean_.tif\n",
      "image save right\n",
      "change image bandNames\n",
      "Generating URL ...\n",
      "Downloading data from https://earthengine.googleapis.com/v1/projects/earthengine-legacy/thumbnails/26a8059a6f92353754dd1c6e99fc7656-35f5d76918ac1856b0ee241261123f62:getPixels\n",
      "Please wait ...\n",
      "Data downloaded to /root/GEE/2019补齐结果/4712_s1_unit_max_.tif\n",
      "image save right\n",
      "change image bandNames\n",
      "Generating URL ...\n",
      "Downloading data from https://earthengine.googleapis.com/v1/projects/earthengine-legacy/thumbnails/7e91959b418534668e219c55ea208304-70d888528c64be0d5b5a8a08147c9d3d:getPixels\n",
      "Please wait ...\n",
      "Data downloaded to /root/GEE/2019补齐结果/4712_s1_unit_min_.tif\n",
      "image save right\n",
      "change image bandNames\n",
      "Generating URL ...\n",
      "Downloading data from https://earthengine.googleapis.com/v1/projects/earthengine-legacy/thumbnails/caee59c59929e7226e1fb5fabb768b15-c7a196e027cb49fda3572fbba5536632:getPixels\n",
      "Please wait ...\n",
      "Data downloaded to /root/GEE/2019补齐结果/4712_DistortionAS1A_IW_GRDH_1SDV_20190721T114936_20190721T115001_028215_032FF3_E394.tif\n",
      "image save right\n",
      "change image bandNames\n",
      "Generating URL ...\n",
      "Downloading data from https://earthengine.googleapis.com/v1/projects/earthengine-legacy/thumbnails/28d4a242962b46c95b5ab9f90d6d652b-7da60e1c55c05524790e216d3ae10e97:getPixels\n",
      "Please wait ...\n",
      "Data downloaded to /root/GEE/2019补齐结果/4712_DistortionDS1A_IW_GRDH_1SDV_20190809T234613_20190809T234638_028499_0338B5_13E6.tif\n",
      "image save right\n",
      "change image bandNames\n",
      "该函数运行了 186.81707 秒\n"
     ]
    },
    {
     "name": "stderr",
     "output_type": "stream",
     "text": [
      "  5%|5         | 13/244 [40:59<11:55:57, 185.96s/it]"
     ]
    },
    {
     "name": "stdout",
     "output_type": "stream",
     "text": [
      "Begin Filter ...\n"
     ]
    },
    {
     "name": "stderr",
     "output_type": "stream",
     "text": [
      "\n",
      "100%|##########| 11/11 [00:00<00:00, 755.25it/s]\n",
      "\n",
      "100%|##########| 11/11 [00:00<00:00, 569.91it/s]\n",
      "\n",
      "100%|##########| 12/12 [00:00<00:00, 1591.72it/s]\n",
      "\n",
      "100%|##########| 12/12 [00:00<00:00, 690.38it/s]\n"
     ]
    },
    {
     "name": "stdout",
     "output_type": "stream",
     "text": [
      "Method 1 Kmean Band=['VV_gamma0_flatDB'],continue\n",
      "Write csv and shp, Method=Kmean  Img=s1_unit_mean_  Band=['VV_gamma0_flatDB', 'VH_gamma0_flatDB']\n",
      "Method 1 SNIC_Kmean Band=['VV_gamma0_flatDB'],continue\n",
      "Write csv and shp, Method=SNIC_Kmean  Img=s1_unit_mean_  Band=['VV_gamma0_flatDB', 'VH_gamma0_flatDB']\n",
      "Write csv and shp, Method=SNIC_Kmean  Img=s1_unit_mean_  Band=['VV_gamma0_flatDB', 'VH_gamma0_flatDB']\n",
      "Method 1 Xmeans Band=['VV_gamma0_flatDB'],continue\n",
      "Write csv and shp, Method=Xmeans  Img=s1_unit_mean_  Band=['VV_gamma0_flatDB', 'VH_gamma0_flatDB']\n",
      "Method 1 CascadeKMeans Band=['VV_gamma0_flatDB'],continue\n",
      "Write csv and shp, Method=CascadeKMeans  Img=s1_unit_mean_  Band=['VV_gamma0_flatDB', 'VH_gamma0_flatDB']\n",
      "Threshould value is 0.5711927387157635\n",
      "Write csv and shp, Method=otsu  Img=s1_unit_mean_  Band=['VV_gamma0_flatDB']\n",
      "Method 2 otsu Band=['VV_gamma0_flatDB', 'VH_gamma0_flatDB'],continue\n"
     ]
    },
    {
     "name": "stderr",
     "output_type": "stream",
     "text": [
      "/root/GEE/Extract_algorithm.py:229: RuntimeWarning: invalid value encountered in divide\n",
      "  higher = (csum_intensity[-1] - csum_intensity[:-1]) / (csumh[:-1]+sys.float_info.min)\n"
     ]
    },
    {
     "name": "stdout",
     "output_type": "stream",
     "text": [
      "Threshould value is 0.5692746330285942\n",
      "Write csv and shp, Method=isodata  Img=s1_unit_mean_  Band=['VV_gamma0_flatDB']\n",
      "Method 2 isodata Band=['VV_gamma0_flatDB', 'VH_gamma0_flatDB'],continue\n",
      "Generating URL ...\n",
      "Downloading data from https://earthengine.googleapis.com/v1/projects/earthengine-legacy/thumbnails/939c631aa7880d7612f7053810380ba2-2d6ffd08b50446f4756c1dcc1fad9e05:getPixels\n",
      "Please wait ...\n",
      "Data downloaded to /root/GEE/2019补齐结果/4713_Ascending_S1A_IW_GRDH_1SDV_20190721T114936_20190721T115001_028215_032FF3_E394.tif\n",
      "image save right\n",
      "change image bandNames\n",
      "Generating URL ...\n",
      "Downloading data from https://earthengine.googleapis.com/v1/projects/earthengine-legacy/thumbnails/06339dbf0f3ff26b2063a52205149b54-0c109f0fd73717f0bd2f5959c48fb38a:getPixels\n",
      "Please wait ...\n",
      "Data downloaded to /root/GEE/2019补齐结果/4713_Descending_S1A_IW_GRDH_1SDV_20190809T234613_20190809T234638_028499_0338B5_13E6.tif\n",
      "image save right\n",
      "change image bandNames\n",
      "Generating URL ...\n",
      "Downloading data from https://earthengine.googleapis.com/v1/projects/earthengine-legacy/thumbnails/fb7ed6210afe3028aa881e7ea70371e3-bb5ce193a70c0adaf13d027f2609d5bf:getPixels\n",
      "Please wait ...\n",
      "Data downloaded to /root/GEE/2019补齐结果/4713_s2a_sr_median.tif\n",
      "image save right\n",
      "change image bandNames\n",
      "Generating URL ...\n",
      "Downloading data from https://earthengine.googleapis.com/v1/projects/earthengine-legacy/thumbnails/b63d231c4aceccc18c9f88510f2f647d-15b3cefbfef4af930b70c0c658b80594:getPixels\n",
      "Please wait ...\n",
      "Data downloaded to /root/GEE/2019补齐结果/4713_s1_unit_mean_.tif\n",
      "image save right\n",
      "change image bandNames\n",
      "Generating URL ...\n",
      "Downloading data from https://earthengine.googleapis.com/v1/projects/earthengine-legacy/thumbnails/c361815dcf2c412aedaf002162cf84a0-47121c88c8129c2c6a03b83567d58721:getPixels\n",
      "Please wait ...\n",
      "Data downloaded to /root/GEE/2019补齐结果/4713_s1_unit_max_.tif\n",
      "image save right\n",
      "change image bandNames\n",
      "Generating URL ...\n",
      "Downloading data from https://earthengine.googleapis.com/v1/projects/earthengine-legacy/thumbnails/8a4d7e032c3fb223598536753f8c4d16-15045f43f4e754264cde8bd36fea4533:getPixels\n",
      "Please wait ...\n",
      "Data downloaded to /root/GEE/2019补齐结果/4713_s1_unit_min_.tif\n",
      "image save right\n",
      "change image bandNames\n",
      "Generating URL ...\n",
      "Downloading data from https://earthengine.googleapis.com/v1/projects/earthengine-legacy/thumbnails/f859cbc450e6dbd42543471de8724ad8-edc23b8db5b7acf75f31d7e1f8909ba5:getPixels\n",
      "Please wait ...\n",
      "Data downloaded to /root/GEE/2019补齐结果/4713_DistortionAS1A_IW_GRDH_1SDV_20190721T114936_20190721T115001_028215_032FF3_E394.tif\n",
      "image save right\n",
      "change image bandNames\n",
      "Generating URL ...\n",
      "Downloading data from https://earthengine.googleapis.com/v1/projects/earthengine-legacy/thumbnails/0ca091ecfdaff0be33223abc414adf09-99f224600e45980554d1eae0103747e2:getPixels\n",
      "Please wait ...\n",
      "Data downloaded to /root/GEE/2019补齐结果/4713_DistortionDS1A_IW_GRDH_1SDV_20190809T234613_20190809T234638_028499_0338B5_13E6.tif\n",
      "image save right\n",
      "change image bandNames\n",
      "该函数运行了 187.56099 秒\n"
     ]
    },
    {
     "name": "stderr",
     "output_type": "stream",
     "text": [
      "  6%|5         | 14/244 [44:06<11:54:43, 186.45s/it]"
     ]
    },
    {
     "name": "stdout",
     "output_type": "stream",
     "text": [
      "Begin Filter ...\n"
     ]
    },
    {
     "name": "stderr",
     "output_type": "stream",
     "text": [
      "\n",
      "100%|##########| 15/15 [00:00<00:00, 1634.36it/s]\n",
      "\n",
      "100%|##########| 15/15 [00:00<00:00, 1061.92it/s]\n",
      "\n",
      "100%|##########| 14/14 [00:00<00:00, 1743.73it/s]\n",
      "\n",
      "100%|##########| 14/14 [00:00<00:00, 1284.88it/s]\n"
     ]
    },
    {
     "name": "stdout",
     "output_type": "stream",
     "text": [
      "Method 1 Kmean Band=['VV_gamma0_flatDB'],continue\n",
      "Write csv and shp, Method=Kmean  Img=s1_unit_mean_  Band=['VV_gamma0_flatDB', 'VH_gamma0_flatDB']\n",
      "Method 1 SNIC_Kmean Band=['VV_gamma0_flatDB'],continue\n",
      "Write csv and shp, Method=SNIC_Kmean  Img=s1_unit_mean_  Band=['VV_gamma0_flatDB', 'VH_gamma0_flatDB']\n",
      "Write csv and shp, Method=SNIC_Kmean  Img=s1_unit_mean_  Band=['VV_gamma0_flatDB', 'VH_gamma0_flatDB']\n",
      "Method 1 Xmeans Band=['VV_gamma0_flatDB'],continue\n",
      "Write csv and shp, Method=Xmeans  Img=s1_unit_mean_  Band=['VV_gamma0_flatDB', 'VH_gamma0_flatDB']\n",
      "Method 1 CascadeKMeans Band=['VV_gamma0_flatDB'],continue\n",
      "Write csv and shp, Method=CascadeKMeans  Img=s1_unit_mean_  Band=['VV_gamma0_flatDB', 'VH_gamma0_flatDB']\n",
      "Threshould value is 0.5516115870698876\n",
      "Write csv and shp, Method=otsu  Img=s1_unit_mean_  Band=['VV_gamma0_flatDB']\n",
      "Method 2 otsu Band=['VV_gamma0_flatDB', 'VH_gamma0_flatDB'],continue\n",
      "Threshould value is 0.5497942575573186\n",
      "Write csv and shp, Method=isodata  Img=s1_unit_mean_  Band=['VV_gamma0_flatDB']\n",
      "Method 2 isodata Band=['VV_gamma0_flatDB', 'VH_gamma0_flatDB'],continue\n",
      "Generating URL ...\n",
      "Downloading data from https://earthengine.googleapis.com/v1/projects/earthengine-legacy/thumbnails/80bfa2acaae7bd30eec5e18303c0b25d-6b2aad8ef47d6be1c8be176eae377c68:getPixels\n",
      "Please wait ...\n",
      "Data downloaded to /root/GEE/2019补齐结果/4714_Ascending_S1A_IW_GRDH_1SDV_20190721T114936_20190721T115001_028215_032FF3_E394.tif\n",
      "image save right\n",
      "change image bandNames\n",
      "Generating URL ...\n",
      "Downloading data from https://earthengine.googleapis.com/v1/projects/earthengine-legacy/thumbnails/d175b05540682009076499fcdfaa2efc-2c715ea0fe615c171c043cde3d10abf0:getPixels\n",
      "Please wait ...\n",
      "Data downloaded to /root/GEE/2019补齐结果/4714_Descending_S1A_IW_GRDH_1SDV_20190809T234613_20190809T234638_028499_0338B5_13E6.tif\n",
      "image save right\n",
      "change image bandNames\n",
      "Generating URL ...\n",
      "Downloading data from https://earthengine.googleapis.com/v1/projects/earthengine-legacy/thumbnails/33f6c6ca5d6e6242398aa21fb20f1366-c281ffef9413f5a31af503bde34acda3:getPixels\n",
      "Please wait ...\n",
      "Data downloaded to /root/GEE/2019补齐结果/4714_s2a_sr_median.tif\n",
      "image save right\n",
      "change image bandNames\n",
      "Generating URL ...\n",
      "Downloading data from https://earthengine.googleapis.com/v1/projects/earthengine-legacy/thumbnails/47c8fc36fdaf87b6de4c1ed40c3fdf8e-ba8e4ad38bfd33e3b8fe29ef092528e6:getPixels\n",
      "Please wait ...\n",
      "Data downloaded to /root/GEE/2019补齐结果/4714_s1_unit_mean_.tif\n",
      "image save right\n",
      "change image bandNames\n",
      "Generating URL ...\n",
      "Downloading data from https://earthengine.googleapis.com/v1/projects/earthengine-legacy/thumbnails/f3dfeb66c3235aa9a06d0736f8a8cf23-8d65866970bd8292680e7b18026a4877:getPixels\n",
      "Please wait ...\n",
      "Data downloaded to /root/GEE/2019补齐结果/4714_s1_unit_max_.tif\n",
      "image save right\n",
      "change image bandNames\n",
      "Generating URL ...\n",
      "Downloading data from https://earthengine.googleapis.com/v1/projects/earthengine-legacy/thumbnails/5d34cd8878394b9d71c8c87aa716b9f5-0200cf65309cde64b1eb4dca06d46826:getPixels\n",
      "Please wait ...\n",
      "Data downloaded to /root/GEE/2019补齐结果/4714_s1_unit_min_.tif\n",
      "image save right\n",
      "change image bandNames\n",
      "Generating URL ...\n",
      "Downloading data from https://earthengine.googleapis.com/v1/projects/earthengine-legacy/thumbnails/50bbef7b51e17f9df4a53c346efb259e-eca8fca044fa1f06aa97462124080258:getPixels\n",
      "Please wait ...\n",
      "Data downloaded to /root/GEE/2019补齐结果/4714_DistortionAS1A_IW_GRDH_1SDV_20190721T114936_20190721T115001_028215_032FF3_E394.tif\n",
      "image save right\n",
      "change image bandNames\n",
      "Generating URL ...\n",
      "Downloading data from https://earthengine.googleapis.com/v1/projects/earthengine-legacy/thumbnails/ed504fcc7fcc654347b68953c9cb3bda-3a93b3cea81ce2950f8ac198c3c5390a:getPixels\n",
      "Please wait ...\n",
      "Data downloaded to /root/GEE/2019补齐结果/4714_DistortionDS1A_IW_GRDH_1SDV_20190809T234613_20190809T234638_028499_0338B5_13E6.tif\n",
      "image save right\n",
      "change image bandNames\n",
      "该函数运行了 192.34234 秒\n"
     ]
    },
    {
     "name": "stderr",
     "output_type": "stream",
     "text": [
      "  6%|6         | 15/244 [47:19<11:58:23, 188.23s/it]"
     ]
    },
    {
     "name": "stdout",
     "output_type": "stream",
     "text": [
      "Begin Filter ...\n"
     ]
    },
    {
     "name": "stderr",
     "output_type": "stream",
     "text": [
      "\n",
      "100%|##########| 14/14 [00:00<00:00, 1700.21it/s]\n",
      "\n",
      "100%|##########| 14/14 [00:00<00:00, 534.59it/s]\n",
      "\n",
      "100%|##########| 14/14 [00:00<00:00, 1776.28it/s]\n",
      "\n",
      "100%|##########| 14/14 [00:00<00:00, 441.50it/s]\n"
     ]
    },
    {
     "name": "stdout",
     "output_type": "stream",
     "text": [
      "Method 1 Kmean Band=['VV_gamma0_flatDB'],continue\n",
      "Write csv and shp, Method=Kmean  Img=s1_unit_mean_  Band=['VV_gamma0_flatDB', 'VH_gamma0_flatDB']\n",
      "Method 1 SNIC_Kmean Band=['VV_gamma0_flatDB'],continue\n",
      "Write csv and shp, Method=SNIC_Kmean  Img=s1_unit_mean_  Band=['VV_gamma0_flatDB', 'VH_gamma0_flatDB']\n",
      "Write csv and shp, Method=SNIC_Kmean  Img=s1_unit_mean_  Band=['VV_gamma0_flatDB', 'VH_gamma0_flatDB']\n",
      "Method 1 Xmeans Band=['VV_gamma0_flatDB'],continue\n",
      "Write csv and shp, Method=Xmeans  Img=s1_unit_mean_  Band=['VV_gamma0_flatDB', 'VH_gamma0_flatDB']\n",
      "Method 1 CascadeKMeans Band=['VV_gamma0_flatDB'],continue\n",
      "Write csv and shp, Method=CascadeKMeans  Img=s1_unit_mean_  Band=['VV_gamma0_flatDB', 'VH_gamma0_flatDB']\n",
      "Threshould value is 0.4853515625\n",
      "Write csv and shp, Method=otsu  Img=s1_unit_mean_  Band=['VV_gamma0_flatDB']\n",
      "Method 2 otsu Band=['VV_gamma0_flatDB', 'VH_gamma0_flatDB'],continue\n",
      "Threshould value is 0.4833984375\n",
      "Write csv and shp, Method=isodata  Img=s1_unit_mean_  Band=['VV_gamma0_flatDB']\n",
      "Method 2 isodata Band=['VV_gamma0_flatDB', 'VH_gamma0_flatDB'],continue\n",
      "该函数运行了 125.48276 秒\n"
     ]
    },
    {
     "name": "stderr",
     "output_type": "stream",
     "text": [
      "  7%|6         | 16/244 [49:24<10:43:29, 169.34s/it]"
     ]
    },
    {
     "name": "stdout",
     "output_type": "stream",
     "text": [
      "Begin Filter ...\n"
     ]
    },
    {
     "name": "stderr",
     "output_type": "stream",
     "text": [
      "\n",
      "100%|##########| 13/13 [00:00<00:00, 1723.98it/s]\n",
      "\n",
      "100%|##########| 13/13 [00:00<00:00, 593.58it/s]\n",
      "\n",
      "100%|##########| 13/13 [00:00<00:00, 1680.36it/s]\n",
      "\n",
      "100%|##########| 13/13 [00:00<00:00, 557.87it/s]\n"
     ]
    },
    {
     "name": "stdout",
     "output_type": "stream",
     "text": [
      "Method 1 Kmean Band=['VV_gamma0_flatDB'],continue\n",
      "Write csv and shp, Method=Kmean  Img=s1_unit_mean_  Band=['VV_gamma0_flatDB', 'VH_gamma0_flatDB']\n",
      "Method 1 SNIC_Kmean Band=['VV_gamma0_flatDB'],continue\n",
      "Write csv and shp, Method=SNIC_Kmean  Img=s1_unit_mean_  Band=['VV_gamma0_flatDB', 'VH_gamma0_flatDB']\n",
      "Write csv and shp, Method=SNIC_Kmean  Img=s1_unit_mean_  Band=['VV_gamma0_flatDB', 'VH_gamma0_flatDB']\n",
      "Method 1 Xmeans Band=['VV_gamma0_flatDB'],continue\n",
      "Write csv and shp, Method=Xmeans  Img=s1_unit_mean_  Band=['VV_gamma0_flatDB', 'VH_gamma0_flatDB']\n",
      "Method 1 CascadeKMeans Band=['VV_gamma0_flatDB'],continue\n",
      "Write csv and shp, Method=CascadeKMeans  Img=s1_unit_mean_  Band=['VV_gamma0_flatDB', 'VH_gamma0_flatDB']\n",
      "Threshould value is 0.5239989718941352\n",
      "Write csv and shp, Method=otsu  Img=s1_unit_mean_  Band=['VV_gamma0_flatDB']\n",
      "Method 2 otsu Band=['VV_gamma0_flatDB', 'VH_gamma0_flatDB'],continue\n",
      "Threshould value is 0.5128093281566338\n",
      "Write csv and shp, Method=isodata  Img=s1_unit_mean_  Band=['VV_gamma0_flatDB']\n",
      "Method 2 isodata Band=['VV_gamma0_flatDB', 'VH_gamma0_flatDB'],continue\n",
      "Generating URL ...\n",
      "Downloading data from https://earthengine.googleapis.com/v1/projects/earthengine-legacy/thumbnails/dbed95c870328f536e5123919423ff28-bb1ef5757dd556da2a00ee7f0ad3700a:getPixels\n",
      "Please wait ...\n",
      "Data downloaded to /root/GEE/2019补齐结果/4716_Ascending_S1A_IW_GRDH_1SDV_20190721T114936_20190721T115001_028215_032FF3_E394.tif\n",
      "image save right\n",
      "change image bandNames\n",
      "Generating URL ...\n",
      "Downloading data from https://earthengine.googleapis.com/v1/projects/earthengine-legacy/thumbnails/cbffe67a956abd1af7fc9da9008f8048-658fa171c6af0a38d112da4bc010c224:getPixels\n",
      "Please wait ...\n",
      "Data downloaded to /root/GEE/2019补齐结果/4716_Descending_S1A_IW_GRDH_1SDV_20190809T234613_20190809T234638_028499_0338B5_13E6.tif\n",
      "image save right\n",
      "change image bandNames\n",
      "Generating URL ...\n",
      "Downloading data from https://earthengine.googleapis.com/v1/projects/earthengine-legacy/thumbnails/b8aa6f333064438b59e41242daebf2c9-65829ca2434c6d4993e706aecc276422:getPixels\n",
      "Please wait ...\n",
      "Data downloaded to /root/GEE/2019补齐结果/4716_s2a_sr_median.tif\n",
      "image save right\n",
      "change image bandNames\n",
      "Generating URL ...\n",
      "Downloading data from https://earthengine.googleapis.com/v1/projects/earthengine-legacy/thumbnails/de41d086dbc956cd842496dd5a74543b-1481c31128d26f65bf843907467c9fae:getPixels\n",
      "Please wait ...\n",
      "Data downloaded to /root/GEE/2019补齐结果/4716_s1_unit_mean_.tif\n",
      "image save right\n",
      "change image bandNames\n",
      "Generating URL ...\n",
      "Downloading data from https://earthengine.googleapis.com/v1/projects/earthengine-legacy/thumbnails/382fe5aa346190c6154110d378e8b33a-5ad229e955958a2f0f883891aaac0c8c:getPixels\n",
      "Please wait ...\n",
      "Data downloaded to /root/GEE/2019补齐结果/4716_s1_unit_max_.tif\n",
      "image save right\n",
      "change image bandNames\n",
      "Generating URL ...\n",
      "Downloading data from https://earthengine.googleapis.com/v1/projects/earthengine-legacy/thumbnails/4b7e5ba819e9bf9814f5a60e04e7bea9-25be983fb4d29135f08a2459f9b3b6ac:getPixels\n",
      "Please wait ...\n",
      "Data downloaded to /root/GEE/2019补齐结果/4716_s1_unit_min_.tif\n",
      "image save right\n",
      "change image bandNames\n",
      "Generating URL ...\n",
      "Downloading data from https://earthengine.googleapis.com/v1/projects/earthengine-legacy/thumbnails/5b54fd21b2670842ba0ebd2898bff819-17bef8859c2085a354166da3ddefff82:getPixels\n",
      "Please wait ...\n",
      "Data downloaded to /root/GEE/2019补齐结果/4716_DistortionAS1A_IW_GRDH_1SDV_20190721T114936_20190721T115001_028215_032FF3_E394.tif\n",
      "image save right\n",
      "change image bandNames\n",
      "Generating URL ...\n",
      "Downloading data from https://earthengine.googleapis.com/v1/projects/earthengine-legacy/thumbnails/84a3f44ec58cd8fe6a58784b9113d5d9-68bb95a6cda932d137a8fcad171b3ac6:getPixels\n",
      "Please wait ...\n",
      "Data downloaded to /root/GEE/2019补齐结果/4716_DistortionDS1A_IW_GRDH_1SDV_20190809T234613_20190809T234638_028499_0338B5_13E6.tif\n",
      "image save right\n",
      "change image bandNames\n",
      "该函数运行了 189.09738 秒\n"
     ]
    },
    {
     "name": "stderr",
     "output_type": "stream",
     "text": [
      "  7%|6         | 17/244 [52:33<11:03:09, 175.28s/it]"
     ]
    },
    {
     "name": "stdout",
     "output_type": "stream",
     "text": [
      "Begin Filter ...\n"
     ]
    },
    {
     "name": "stderr",
     "output_type": "stream",
     "text": [
      "\n",
      "100%|##########| 13/13 [00:00<00:00, 1665.27it/s]\n",
      "\n",
      "100%|##########| 13/13 [00:00<00:00, 693.59it/s]\n",
      "\n",
      "100%|##########| 13/13 [00:00<00:00, 1714.65it/s]\n",
      "\n",
      "100%|##########| 13/13 [00:00<00:00, 877.54it/s]\n"
     ]
    },
    {
     "name": "stdout",
     "output_type": "stream",
     "text": [
      "Method 1 Kmean Band=['VV_gamma0_flatDB'],continue\n",
      "Write csv and shp, Method=Kmean  Img=s1_unit_mean_  Band=['VV_gamma0_flatDB', 'VH_gamma0_flatDB']\n",
      "Method 1 SNIC_Kmean Band=['VV_gamma0_flatDB'],continue\n",
      "Write csv and shp, Method=SNIC_Kmean  Img=s1_unit_mean_  Band=['VV_gamma0_flatDB', 'VH_gamma0_flatDB']\n",
      "Write csv and shp, Method=SNIC_Kmean  Img=s1_unit_mean_  Band=['VV_gamma0_flatDB', 'VH_gamma0_flatDB']\n",
      "Method 1 Xmeans Band=['VV_gamma0_flatDB'],continue\n",
      "Write csv and shp, Method=Xmeans  Img=s1_unit_mean_  Band=['VV_gamma0_flatDB', 'VH_gamma0_flatDB']\n",
      "Method 1 CascadeKMeans Band=['VV_gamma0_flatDB'],continue\n",
      "Write csv and shp, Method=CascadeKMeans  Img=s1_unit_mean_  Band=['VV_gamma0_flatDB', 'VH_gamma0_flatDB']\n",
      "Threshould value is 0.5184689097760175\n",
      "Write csv and shp, Method=otsu  Img=s1_unit_mean_  Band=['VV_gamma0_flatDB']\n",
      "Method 2 otsu Band=['VV_gamma0_flatDB', 'VH_gamma0_flatDB'],continue\n"
     ]
    },
    {
     "name": "stderr",
     "output_type": "stream",
     "text": [
      "/root/GEE/Extract_algorithm.py:229: RuntimeWarning: invalid value encountered in divide\n",
      "  higher = (csum_intensity[-1] - csum_intensity[:-1]) / (csumh[:-1]+sys.float_info.min)\n"
     ]
    },
    {
     "name": "stdout",
     "output_type": "stream",
     "text": [
      "Threshould value is 0.4367780884195045\n",
      "Write csv and shp, Method=isodata  Img=s1_unit_mean_  Band=['VV_gamma0_flatDB']\n",
      "Method 2 isodata Band=['VV_gamma0_flatDB', 'VH_gamma0_flatDB'],continue\n",
      "该函数运行了 120.62252 秒\n"
     ]
    },
    {
     "name": "stderr",
     "output_type": "stream",
     "text": [
      "  7%|7         | 18/244 [54:34<9:58:22, 158.86s/it] "
     ]
    },
    {
     "name": "stdout",
     "output_type": "stream",
     "text": [
      "Begin Filter ...\n"
     ]
    },
    {
     "name": "stderr",
     "output_type": "stream",
     "text": [
      "\n",
      "100%|##########| 14/14 [00:00<00:00, 1756.25it/s]\n",
      "\n",
      "100%|##########| 14/14 [00:00<00:00, 452.39it/s]\n",
      "\n",
      "100%|##########| 14/14 [00:00<00:00, 1654.37it/s]\n",
      "\n",
      "100%|##########| 14/14 [00:00<00:00, 563.18it/s]\n"
     ]
    },
    {
     "name": "stdout",
     "output_type": "stream",
     "text": [
      "Method 1 Kmean Band=['VV_gamma0_flatDB'],continue\n",
      "Write csv and shp, Method=Kmean  Img=s1_unit_mean_  Band=['VV_gamma0_flatDB', 'VH_gamma0_flatDB']\n",
      "Method 1 SNIC_Kmean Band=['VV_gamma0_flatDB'],continue\n",
      "Write csv and shp, Method=SNIC_Kmean  Img=s1_unit_mean_  Band=['VV_gamma0_flatDB', 'VH_gamma0_flatDB']\n",
      "Write csv and shp, Method=SNIC_Kmean  Img=s1_unit_mean_  Band=['VV_gamma0_flatDB', 'VH_gamma0_flatDB']\n",
      "Method 1 Xmeans Band=['VV_gamma0_flatDB'],continue\n",
      "Write csv and shp, Method=Xmeans  Img=s1_unit_mean_  Band=['VV_gamma0_flatDB', 'VH_gamma0_flatDB']\n",
      "Method 1 CascadeKMeans Band=['VV_gamma0_flatDB'],continue\n",
      "Write csv and shp, Method=CascadeKMeans  Img=s1_unit_mean_  Band=['VV_gamma0_flatDB', 'VH_gamma0_flatDB']\n",
      "Threshould value is 0.5654296875\n",
      "Write csv and shp, Method=otsu  Img=s1_unit_mean_  Band=['VV_gamma0_flatDB']\n",
      "Method 2 otsu Band=['VV_gamma0_flatDB', 'VH_gamma0_flatDB'],continue\n",
      "Threshould value is 0.5576171875\n",
      "Write csv and shp, Method=isodata  Img=s1_unit_mean_  Band=['VV_gamma0_flatDB']\n",
      "Method 2 isodata Band=['VV_gamma0_flatDB', 'VH_gamma0_flatDB'],continue\n",
      "该函数运行了 128.83842 秒\n"
     ]
    },
    {
     "name": "stderr",
     "output_type": "stream",
     "text": [
      "  8%|7         | 19/244 [56:43<9:21:54, 149.84s/it]"
     ]
    },
    {
     "name": "stdout",
     "output_type": "stream",
     "text": [
      "Begin Filter ...\n"
     ]
    },
    {
     "name": "stderr",
     "output_type": "stream",
     "text": [
      "2023-11-13 10:20:59 WARNING Sleeping 1.72 seconds before retry 1 of 5 for request: POST https://earthengine.googleapis.com/v1/projects/earthengine-legacy/value:compute?prettyPrint=false&alt=json, after 500\n",
      "\n",
      "100%|##########| 12/12 [00:00<00:00, 1686.15it/s]\n",
      "\n",
      "100%|##########| 12/12 [00:00<00:00, 518.02it/s]\n",
      "\n",
      "100%|##########| 12/12 [00:00<00:00, 1959.19it/s]\n",
      "\n",
      "100%|##########| 12/12 [00:00<00:00, 606.93it/s]\n"
     ]
    },
    {
     "name": "stdout",
     "output_type": "stream",
     "text": [
      "Method 1 Kmean Band=['VV_gamma0_flatDB'],continue\n",
      "Write csv and shp, Method=Kmean  Img=s1_unit_mean_  Band=['VV_gamma0_flatDB', 'VH_gamma0_flatDB']\n",
      "Method 1 SNIC_Kmean Band=['VV_gamma0_flatDB'],continue\n",
      "Write csv and shp, Method=SNIC_Kmean  Img=s1_unit_mean_  Band=['VV_gamma0_flatDB', 'VH_gamma0_flatDB']\n",
      "Write csv and shp, Method=SNIC_Kmean  Img=s1_unit_mean_  Band=['VV_gamma0_flatDB', 'VH_gamma0_flatDB']\n",
      "Method 1 Xmeans Band=['VV_gamma0_flatDB'],continue\n",
      "Write csv and shp, Method=Xmeans  Img=s1_unit_mean_  Band=['VV_gamma0_flatDB', 'VH_gamma0_flatDB']\n",
      "Method 1 CascadeKMeans Band=['VV_gamma0_flatDB'],continue\n",
      "Write csv and shp, Method=CascadeKMeans  Img=s1_unit_mean_  Band=['VV_gamma0_flatDB', 'VH_gamma0_flatDB']\n",
      "Threshould value is 0.4869156508716617\n",
      "Write csv and shp, Method=otsu  Img=s1_unit_mean_  Band=['VV_gamma0_flatDB']\n",
      "Method 2 otsu Band=['VV_gamma0_flatDB', 'VH_gamma0_flatDB'],continue\n"
     ]
    },
    {
     "name": "stderr",
     "output_type": "stream",
     "text": [
      "/root/GEE/Extract_algorithm.py:229: RuntimeWarning: invalid value encountered in divide\n",
      "  higher = (csum_intensity[-1] - csum_intensity[:-1]) / (csumh[:-1]+sys.float_info.min)\n"
     ]
    },
    {
     "name": "stdout",
     "output_type": "stream",
     "text": [
      "Threshould value is 0.4896398665859556\n",
      "Write csv and shp, Method=isodata  Img=s1_unit_mean_  Band=['VV_gamma0_flatDB']\n",
      "Method 2 isodata Band=['VV_gamma0_flatDB', 'VH_gamma0_flatDB'],continue\n",
      "该函数运行了 126.84882 秒\n"
     ]
    },
    {
     "name": "stderr",
     "output_type": "stream",
     "text": [
      "  8%|8         | 20/244 [58:49<8:53:38, 142.94s/it]"
     ]
    },
    {
     "name": "stdout",
     "output_type": "stream",
     "text": [
      "Begin Filter ...\n"
     ]
    },
    {
     "name": "stderr",
     "output_type": "stream",
     "text": [
      "\n",
      "100%|##########| 14/14 [00:00<00:00, 1791.18it/s]\n",
      "\n",
      "100%|##########| 14/14 [00:00<00:00, 518.22it/s]\n",
      "\n",
      "100%|##########| 14/14 [00:00<00:00, 1653.67it/s]\n",
      "\n",
      "100%|##########| 14/14 [00:00<00:00, 482.49it/s]\n"
     ]
    },
    {
     "name": "stdout",
     "output_type": "stream",
     "text": [
      "Method 1 Kmean Band=['VV_gamma0_flatDB'],continue\n",
      "Write csv and shp, Method=Kmean  Img=s1_unit_mean_  Band=['VV_gamma0_flatDB', 'VH_gamma0_flatDB']\n",
      "Method 1 SNIC_Kmean Band=['VV_gamma0_flatDB'],continue\n",
      "Write csv and shp, Method=SNIC_Kmean  Img=s1_unit_mean_  Band=['VV_gamma0_flatDB', 'VH_gamma0_flatDB']\n",
      "Write csv and shp, Method=SNIC_Kmean  Img=s1_unit_mean_  Band=['VV_gamma0_flatDB', 'VH_gamma0_flatDB']\n",
      "Method 1 Xmeans Band=['VV_gamma0_flatDB'],continue\n",
      "Write csv and shp, Method=Xmeans  Img=s1_unit_mean_  Band=['VV_gamma0_flatDB', 'VH_gamma0_flatDB']\n",
      "Method 1 CascadeKMeans Band=['VV_gamma0_flatDB'],continue\n",
      "Write csv and shp, Method=CascadeKMeans  Img=s1_unit_mean_  Band=['VV_gamma0_flatDB', 'VH_gamma0_flatDB']\n",
      "Threshould value is 0.536451155220436\n",
      "Write csv and shp, Method=otsu  Img=s1_unit_mean_  Band=['VV_gamma0_flatDB']\n",
      "Method 2 otsu Band=['VV_gamma0_flatDB', 'VH_gamma0_flatDB'],continue\n",
      "Threshould value is 0.5244140625\n",
      "Write csv and shp, Method=isodata  Img=s1_unit_mean_  Band=['VV_gamma0_flatDB']\n",
      "Method 2 isodata Band=['VV_gamma0_flatDB', 'VH_gamma0_flatDB'],continue\n",
      "该函数运行了 130.81531 秒\n"
     ]
    },
    {
     "name": "stderr",
     "output_type": "stream",
     "text": [
      "  9%|8         | 21/244 [1:01:00<8:37:44, 139.30s/it]"
     ]
    },
    {
     "name": "stdout",
     "output_type": "stream",
     "text": [
      "Begin Filter ...\n"
     ]
    },
    {
     "name": "stderr",
     "output_type": "stream",
     "text": [
      "\n",
      "100%|##########| 12/12 [00:00<00:00, 1821.83it/s]\n",
      "\n",
      "100%|##########| 12/12 [00:00<00:00, 562.38it/s]\n",
      "\n",
      "100%|##########| 11/11 [00:00<00:00, 1541.92it/s]\n",
      "\n",
      "100%|##########| 11/11 [00:00<00:00, 460.59it/s]\n"
     ]
    },
    {
     "name": "stdout",
     "output_type": "stream",
     "text": [
      "Method 1 Kmean Band=['VV_gamma0_flatDB'],continue\n",
      "Write csv and shp, Method=Kmean  Img=s1_unit_mean_  Band=['VV_gamma0_flatDB', 'VH_gamma0_flatDB']\n",
      "Method 1 SNIC_Kmean Band=['VV_gamma0_flatDB'],continue\n",
      "Write csv and shp, Method=SNIC_Kmean  Img=s1_unit_mean_  Band=['VV_gamma0_flatDB', 'VH_gamma0_flatDB']\n",
      "Write csv and shp, Method=SNIC_Kmean  Img=s1_unit_mean_  Band=['VV_gamma0_flatDB', 'VH_gamma0_flatDB']\n",
      "Method 1 Xmeans Band=['VV_gamma0_flatDB'],continue\n",
      "Write csv and shp, Method=Xmeans  Img=s1_unit_mean_  Band=['VV_gamma0_flatDB', 'VH_gamma0_flatDB']\n",
      "Method 1 CascadeKMeans Band=['VV_gamma0_flatDB'],continue\n",
      "Write csv and shp, Method=CascadeKMeans  Img=s1_unit_mean_  Band=['VV_gamma0_flatDB', 'VH_gamma0_flatDB']\n",
      "Threshould value is 0.4577980373276383\n",
      "Write csv and shp, Method=otsu  Img=s1_unit_mean_  Band=['VV_gamma0_flatDB']\n",
      "Method 2 otsu Band=['VV_gamma0_flatDB', 'VH_gamma0_flatDB'],continue\n"
     ]
    },
    {
     "name": "stderr",
     "output_type": "stream",
     "text": [
      "/root/GEE/Extract_algorithm.py:229: RuntimeWarning: invalid value encountered in divide\n",
      "  higher = (csum_intensity[-1] - csum_intensity[:-1]) / (csumh[:-1]+sys.float_info.min)\n"
     ]
    },
    {
     "name": "stdout",
     "output_type": "stream",
     "text": [
      "Threshould value is 0.4619140625\n",
      "Write csv and shp, Method=isodata  Img=s1_unit_mean_  Band=['VV_gamma0_flatDB']\n",
      "Method 2 isodata Band=['VV_gamma0_flatDB', 'VH_gamma0_flatDB'],continue\n",
      "该函数运行了 131.49863 秒\n"
     ]
    },
    {
     "name": "stderr",
     "output_type": "stream",
     "text": [
      "  9%|9         | 22/244 [1:03:12<8:26:45, 136.96s/it]"
     ]
    },
    {
     "name": "stdout",
     "output_type": "stream",
     "text": [
      "Begin Filter ...\n"
     ]
    },
    {
     "name": "stderr",
     "output_type": "stream",
     "text": [
      "\n",
      "100%|##########| 15/15 [00:00<00:00, 1773.39it/s]\n",
      "\n",
      "100%|##########| 15/15 [00:00<00:00, 519.82it/s]\n",
      "\n",
      "100%|##########| 16/16 [00:00<00:00, 1749.95it/s]\n",
      "\n",
      "100%|##########| 16/16 [00:00<00:00, 544.67it/s]\n"
     ]
    },
    {
     "name": "stdout",
     "output_type": "stream",
     "text": [
      "Method 1 Kmean Band=['VV_gamma0_flatDB'],continue\n",
      "Write csv and shp, Method=Kmean  Img=s1_unit_mean_  Band=['VV_gamma0_flatDB', 'VH_gamma0_flatDB']\n",
      "Method 1 SNIC_Kmean Band=['VV_gamma0_flatDB'],continue\n",
      "Write csv and shp, Method=SNIC_Kmean  Img=s1_unit_mean_  Band=['VV_gamma0_flatDB', 'VH_gamma0_flatDB']\n",
      "Write csv and shp, Method=SNIC_Kmean  Img=s1_unit_mean_  Band=['VV_gamma0_flatDB', 'VH_gamma0_flatDB']\n",
      "Method 1 Xmeans Band=['VV_gamma0_flatDB'],continue\n",
      "Write csv and shp, Method=Xmeans  Img=s1_unit_mean_  Band=['VV_gamma0_flatDB', 'VH_gamma0_flatDB']\n",
      "Method 1 CascadeKMeans Band=['VV_gamma0_flatDB'],continue\n",
      "Write csv and shp, Method=CascadeKMeans  Img=s1_unit_mean_  Band=['VV_gamma0_flatDB', 'VH_gamma0_flatDB']\n",
      "Threshould value is 0.5537109375\n",
      "Write csv and shp, Method=otsu  Img=s1_unit_mean_  Band=['VV_gamma0_flatDB']\n",
      "Method 2 otsu Band=['VV_gamma0_flatDB', 'VH_gamma0_flatDB'],continue\n",
      "Threshould value is 0.5419921875\n",
      "Write csv and shp, Method=isodata  Img=s1_unit_mean_  Band=['VV_gamma0_flatDB']\n",
      "Method 2 isodata Band=['VV_gamma0_flatDB', 'VH_gamma0_flatDB'],continue\n",
      "该函数运行了 130.79923 秒\n"
     ]
    },
    {
     "name": "stderr",
     "output_type": "stream",
     "text": [
      "  9%|9         | 23/244 [1:05:23<8:17:40, 135.11s/it]"
     ]
    },
    {
     "name": "stdout",
     "output_type": "stream",
     "text": [
      "Begin Filter ...\n"
     ]
    },
    {
     "name": "stderr",
     "output_type": "stream",
     "text": [
      "\n",
      "100%|##########| 15/15 [00:00<00:00, 1765.38it/s]\n",
      "\n",
      "100%|##########| 15/15 [00:00<00:00, 380.14it/s]\n",
      "\n",
      "100%|##########| 14/14 [00:00<00:00, 1560.92it/s]\n",
      "\n",
      "100%|##########| 14/14 [00:00<00:00, 295.61it/s]\n"
     ]
    },
    {
     "name": "stdout",
     "output_type": "stream",
     "text": [
      "Method 1 Kmean Band=['VV_gamma0_flatDB'],continue\n",
      "Write csv and shp, Method=Kmean  Img=s1_unit_mean_  Band=['VV_gamma0_flatDB', 'VH_gamma0_flatDB']\n",
      "Method 1 SNIC_Kmean Band=['VV_gamma0_flatDB'],continue\n",
      "Write csv and shp, Method=SNIC_Kmean  Img=s1_unit_mean_  Band=['VV_gamma0_flatDB', 'VH_gamma0_flatDB']\n",
      "Write csv and shp, Method=SNIC_Kmean  Img=s1_unit_mean_  Band=['VV_gamma0_flatDB', 'VH_gamma0_flatDB']\n",
      "Method 1 Xmeans Band=['VV_gamma0_flatDB'],continue\n",
      "Write csv and shp, Method=Xmeans  Img=s1_unit_mean_  Band=['VV_gamma0_flatDB', 'VH_gamma0_flatDB']\n",
      "Method 1 CascadeKMeans Band=['VV_gamma0_flatDB'],continue\n",
      "Write csv and shp, Method=CascadeKMeans  Img=s1_unit_mean_  Band=['VV_gamma0_flatDB', 'VH_gamma0_flatDB']\n",
      "Threshould value is 0.4224381252562092\n",
      "Write csv and shp, Method=otsu  Img=s1_unit_mean_  Band=['VV_gamma0_flatDB']\n",
      "Method 2 otsu Band=['VV_gamma0_flatDB', 'VH_gamma0_flatDB'],continue\n"
     ]
    },
    {
     "name": "stderr",
     "output_type": "stream",
     "text": [
      "/root/GEE/Extract_algorithm.py:229: RuntimeWarning: invalid value encountered in divide\n",
      "  higher = (csum_intensity[-1] - csum_intensity[:-1]) / (csumh[:-1]+sys.float_info.min)\n"
     ]
    },
    {
     "name": "stdout",
     "output_type": "stream",
     "text": [
      "Threshould value is 0.42410837519766265\n",
      "Write csv and shp, Method=isodata  Img=s1_unit_mean_  Band=['VV_gamma0_flatDB']\n",
      "Method 2 isodata Band=['VV_gamma0_flatDB', 'VH_gamma0_flatDB'],continue\n",
      "该函数运行了 125.89964 秒\n"
     ]
    },
    {
     "name": "stderr",
     "output_type": "stream",
     "text": [
      " 10%|9         | 24/244 [1:07:28<8:05:16, 132.35s/it]"
     ]
    },
    {
     "name": "stdout",
     "output_type": "stream",
     "text": [
      "Begin Filter ...\n"
     ]
    },
    {
     "name": "stderr",
     "output_type": "stream",
     "text": [
      "\n",
      "100%|##########| 16/16 [00:00<00:00, 1792.53it/s]\n",
      "\n",
      "100%|##########| 16/16 [00:00<00:00, 417.70it/s]\n",
      "\n",
      "100%|##########| 16/16 [00:00<00:00, 1917.56it/s]\n",
      "\n",
      "100%|##########| 16/16 [00:00<00:00, 511.77it/s]\n"
     ]
    },
    {
     "name": "stdout",
     "output_type": "stream",
     "text": [
      "Method 1 Kmean Band=['VV_gamma0_flatDB'],continue\n",
      "Write csv and shp, Method=Kmean  Img=s1_unit_mean_  Band=['VV_gamma0_flatDB', 'VH_gamma0_flatDB']\n",
      "Method 1 SNIC_Kmean Band=['VV_gamma0_flatDB'],continue\n",
      "Write csv and shp, Method=SNIC_Kmean  Img=s1_unit_mean_  Band=['VV_gamma0_flatDB', 'VH_gamma0_flatDB']\n",
      "Write csv and shp, Method=SNIC_Kmean  Img=s1_unit_mean_  Band=['VV_gamma0_flatDB', 'VH_gamma0_flatDB']\n",
      "Method 1 Xmeans Band=['VV_gamma0_flatDB'],continue\n",
      "Write csv and shp, Method=Xmeans  Img=s1_unit_mean_  Band=['VV_gamma0_flatDB', 'VH_gamma0_flatDB']\n",
      "Method 1 CascadeKMeans Band=['VV_gamma0_flatDB'],continue\n",
      "Write csv and shp, Method=CascadeKMeans  Img=s1_unit_mean_  Band=['VV_gamma0_flatDB', 'VH_gamma0_flatDB']\n",
      "Threshould value is 0.4912109375\n",
      "Write csv and shp, Method=otsu  Img=s1_unit_mean_  Band=['VV_gamma0_flatDB']\n",
      "Method 2 otsu Band=['VV_gamma0_flatDB', 'VH_gamma0_flatDB'],continue\n"
     ]
    },
    {
     "name": "stderr",
     "output_type": "stream",
     "text": [
      "/root/GEE/Extract_algorithm.py:229: RuntimeWarning: invalid value encountered in divide\n",
      "  higher = (csum_intensity[-1] - csum_intensity[:-1]) / (csumh[:-1]+sys.float_info.min)\n"
     ]
    },
    {
     "name": "stdout",
     "output_type": "stream",
     "text": [
      "Threshould value is 0.4940056022629987\n",
      "Write csv and shp, Method=isodata  Img=s1_unit_mean_  Band=['VV_gamma0_flatDB']\n",
      "Method 2 isodata Band=['VV_gamma0_flatDB', 'VH_gamma0_flatDB'],continue\n",
      "该函数运行了 129.43688 秒\n"
     ]
    },
    {
     "name": "stderr",
     "output_type": "stream",
     "text": [
      " 10%|#         | 25/244 [1:09:38<7:59:53, 131.48s/it]"
     ]
    },
    {
     "name": "stdout",
     "output_type": "stream",
     "text": [
      "Begin Filter ...\n"
     ]
    },
    {
     "name": "stderr",
     "output_type": "stream",
     "text": [
      "\n",
      "100%|##########| 13/13 [00:00<00:00, 1800.67it/s]\n",
      "\n",
      "100%|##########| 13/13 [00:00<00:00, 782.09it/s]\n",
      "\n",
      "100%|##########| 12/12 [00:00<00:00, 1735.27it/s]\n",
      "\n",
      "100%|##########| 12/12 [00:00<00:00, 817.90it/s]\n"
     ]
    },
    {
     "name": "stdout",
     "output_type": "stream",
     "text": [
      "Method 1 Kmean Band=['VV_gamma0_flatDB'],continue\n",
      "Write csv and shp, Method=Kmean  Img=s1_unit_mean_  Band=['VV_gamma0_flatDB', 'VH_gamma0_flatDB']\n",
      "Method 1 SNIC_Kmean Band=['VV_gamma0_flatDB'],continue\n",
      "Write csv and shp, Method=SNIC_Kmean  Img=s1_unit_mean_  Band=['VV_gamma0_flatDB', 'VH_gamma0_flatDB']\n",
      "Write csv and shp, Method=SNIC_Kmean  Img=s1_unit_mean_  Band=['VV_gamma0_flatDB', 'VH_gamma0_flatDB']\n",
      "Method 1 Xmeans Band=['VV_gamma0_flatDB'],continue\n",
      "Write csv and shp, Method=Xmeans  Img=s1_unit_mean_  Band=['VV_gamma0_flatDB', 'VH_gamma0_flatDB']\n",
      "Method 1 CascadeKMeans Band=['VV_gamma0_flatDB'],continue\n",
      "Write csv and shp, Method=CascadeKMeans  Img=s1_unit_mean_  Band=['VV_gamma0_flatDB', 'VH_gamma0_flatDB']\n",
      "Threshould value is 0.5166015625\n",
      "Write csv and shp, Method=otsu  Img=s1_unit_mean_  Band=['VV_gamma0_flatDB']\n",
      "Method 2 otsu Band=['VV_gamma0_flatDB', 'VH_gamma0_flatDB'],continue\n",
      "Threshould value is 0.5205078125\n",
      "Write csv and shp, Method=isodata  Img=s1_unit_mean_  Band=['VV_gamma0_flatDB']\n",
      "Method 2 isodata Band=['VV_gamma0_flatDB', 'VH_gamma0_flatDB'],continue\n",
      "该函数运行了 139.12085 秒\n"
     ]
    },
    {
     "name": "stderr",
     "output_type": "stream",
     "text": [
      " 11%|#         | 26/244 [1:11:57<8:06:02, 133.77s/it]"
     ]
    },
    {
     "name": "stdout",
     "output_type": "stream",
     "text": [
      "Begin Filter ...\n"
     ]
    },
    {
     "name": "stderr",
     "output_type": "stream",
     "text": [
      "\n",
      "100%|##########| 14/14 [00:00<00:00, 1801.46it/s]\n",
      "\n",
      "100%|##########| 14/14 [00:00<00:00, 465.71it/s]\n",
      "\n",
      "100%|##########| 14/14 [00:00<00:00, 1565.21it/s]\n",
      "\n",
      "100%|##########| 14/14 [00:00<00:00, 458.02it/s]\n"
     ]
    },
    {
     "name": "stdout",
     "output_type": "stream",
     "text": [
      "Method 1 Kmean Band=['VV_gamma0_flatDB'],continue\n",
      "Write csv and shp, Method=Kmean  Img=s1_unit_mean_  Band=['VV_gamma0_flatDB', 'VH_gamma0_flatDB']\n",
      "Method 1 SNIC_Kmean Band=['VV_gamma0_flatDB'],continue\n",
      "Write csv and shp, Method=SNIC_Kmean  Img=s1_unit_mean_  Band=['VV_gamma0_flatDB', 'VH_gamma0_flatDB']\n",
      "Write csv and shp, Method=SNIC_Kmean  Img=s1_unit_mean_  Band=['VV_gamma0_flatDB', 'VH_gamma0_flatDB']\n",
      "Method 1 Xmeans Band=['VV_gamma0_flatDB'],continue\n",
      "Write csv and shp, Method=Xmeans  Img=s1_unit_mean_  Band=['VV_gamma0_flatDB', 'VH_gamma0_flatDB']\n",
      "Method 1 CascadeKMeans Band=['VV_gamma0_flatDB'],continue\n",
      "Write csv and shp, Method=CascadeKMeans  Img=s1_unit_mean_  Band=['VV_gamma0_flatDB', 'VH_gamma0_flatDB']\n",
      "Threshould value is 0.5091205916080657\n",
      "Write csv and shp, Method=otsu  Img=s1_unit_mean_  Band=['VV_gamma0_flatDB']\n",
      "Method 2 otsu Band=['VV_gamma0_flatDB', 'VH_gamma0_flatDB'],continue\n"
     ]
    },
    {
     "name": "stderr",
     "output_type": "stream",
     "text": [
      "/root/GEE/Extract_algorithm.py:229: RuntimeWarning: invalid value encountered in divide\n",
      "  higher = (csum_intensity[-1] - csum_intensity[:-1]) / (csumh[:-1]+sys.float_info.min)\n"
     ]
    },
    {
     "name": "stdout",
     "output_type": "stream",
     "text": [
      "Threshould value is 0.5107421875\n",
      "Write csv and shp, Method=isodata  Img=s1_unit_mean_  Band=['VV_gamma0_flatDB']\n",
      "Method 2 isodata Band=['VV_gamma0_flatDB', 'VH_gamma0_flatDB'],continue\n",
      "该函数运行了 156.48975 秒\n"
     ]
    },
    {
     "name": "stderr",
     "output_type": "stream",
     "text": [
      " 11%|#1        | 27/244 [1:14:34<8:28:27, 140.59s/it]"
     ]
    },
    {
     "name": "stdout",
     "output_type": "stream",
     "text": [
      "Begin Filter ...\n"
     ]
    },
    {
     "name": "stderr",
     "output_type": "stream",
     "text": [
      "\n",
      "100%|##########| 14/14 [00:00<00:00, 1764.91it/s]\n",
      "\n",
      "100%|##########| 14/14 [00:00<00:00, 429.57it/s]\n",
      "\n",
      "100%|##########| 14/14 [00:00<00:00, 1520.62it/s]\n",
      "\n",
      "100%|##########| 14/14 [00:00<00:00, 464.07it/s]\n"
     ]
    },
    {
     "name": "stdout",
     "output_type": "stream",
     "text": [
      "Method 1 Kmean Band=['VV_gamma0_flatDB'],continue\n",
      "Write csv and shp, Method=Kmean  Img=s1_unit_mean_  Band=['VV_gamma0_flatDB', 'VH_gamma0_flatDB']\n",
      "Method 1 SNIC_Kmean Band=['VV_gamma0_flatDB'],continue\n",
      "Write csv and shp, Method=SNIC_Kmean  Img=s1_unit_mean_  Band=['VV_gamma0_flatDB', 'VH_gamma0_flatDB']\n",
      "Write csv and shp, Method=SNIC_Kmean  Img=s1_unit_mean_  Band=['VV_gamma0_flatDB', 'VH_gamma0_flatDB']\n",
      "Method 1 Xmeans Band=['VV_gamma0_flatDB'],continue\n",
      "Write csv and shp, Method=Xmeans  Img=s1_unit_mean_  Band=['VV_gamma0_flatDB', 'VH_gamma0_flatDB']\n",
      "Method 1 CascadeKMeans Band=['VV_gamma0_flatDB'],continue\n",
      "Write csv and shp, Method=CascadeKMeans  Img=s1_unit_mean_  Band=['VV_gamma0_flatDB', 'VH_gamma0_flatDB']\n",
      "Threshould value is 0.49487130298369186\n",
      "Write csv and shp, Method=otsu  Img=s1_unit_mean_  Band=['VV_gamma0_flatDB']\n",
      "Method 2 otsu Band=['VV_gamma0_flatDB', 'VH_gamma0_flatDB'],continue\n"
     ]
    },
    {
     "name": "stderr",
     "output_type": "stream",
     "text": [
      "/root/GEE/Extract_algorithm.py:229: RuntimeWarning: invalid value encountered in divide\n",
      "  higher = (csum_intensity[-1] - csum_intensity[:-1]) / (csumh[:-1]+sys.float_info.min)\n"
     ]
    },
    {
     "name": "stdout",
     "output_type": "stream",
     "text": [
      "Threshould value is 0.5029296875\n",
      "Write csv and shp, Method=isodata  Img=s1_unit_mean_  Band=['VV_gamma0_flatDB']\n",
      "Method 2 isodata Band=['VV_gamma0_flatDB', 'VH_gamma0_flatDB'],continue\n",
      "该函数运行了 154.27272 秒\n"
     ]
    },
    {
     "name": "stderr",
     "output_type": "stream",
     "text": [
      " 11%|#1        | 28/244 [1:17:08<8:40:54, 144.69s/it]"
     ]
    },
    {
     "name": "stdout",
     "output_type": "stream",
     "text": [
      "Begin Filter ...\n"
     ]
    },
    {
     "name": "stderr",
     "output_type": "stream",
     "text": [
      "\n",
      "100%|##########| 11/11 [00:00<00:00, 1732.47it/s]\n",
      "\n",
      "100%|##########| 11/11 [00:00<00:00, 529.53it/s]\n",
      "\n",
      "100%|##########| 11/11 [00:00<00:00, 1700.48it/s]\n",
      "\n",
      "100%|##########| 11/11 [00:00<00:00, 617.11it/s]\n"
     ]
    },
    {
     "name": "stdout",
     "output_type": "stream",
     "text": [
      "Method 1 Kmean Band=['VV_gamma0_flatDB'],continue\n",
      "Write csv and shp, Method=Kmean  Img=s1_unit_mean_  Band=['VV_gamma0_flatDB', 'VH_gamma0_flatDB']\n",
      "Method 1 SNIC_Kmean Band=['VV_gamma0_flatDB'],continue\n",
      "Write csv and shp, Method=SNIC_Kmean  Img=s1_unit_mean_  Band=['VV_gamma0_flatDB', 'VH_gamma0_flatDB']\n",
      "Write csv and shp, Method=SNIC_Kmean  Img=s1_unit_mean_  Band=['VV_gamma0_flatDB', 'VH_gamma0_flatDB']\n",
      "Method 1 Xmeans Band=['VV_gamma0_flatDB'],continue\n",
      "Write csv and shp, Method=Xmeans  Img=s1_unit_mean_  Band=['VV_gamma0_flatDB', 'VH_gamma0_flatDB']\n",
      "Method 1 CascadeKMeans Band=['VV_gamma0_flatDB'],continue\n",
      "Write csv and shp, Method=CascadeKMeans  Img=s1_unit_mean_  Band=['VV_gamma0_flatDB', 'VH_gamma0_flatDB']\n",
      "Threshould value is 0.5166015625\n",
      "Write csv and shp, Method=otsu  Img=s1_unit_mean_  Band=['VV_gamma0_flatDB']\n",
      "Method 2 otsu Band=['VV_gamma0_flatDB', 'VH_gamma0_flatDB'],continue\n"
     ]
    },
    {
     "name": "stderr",
     "output_type": "stream",
     "text": [
      "/root/GEE/Extract_algorithm.py:229: RuntimeWarning: invalid value encountered in divide\n",
      "  higher = (csum_intensity[-1] - csum_intensity[:-1]) / (csumh[:-1]+sys.float_info.min)\n"
     ]
    },
    {
     "name": "stdout",
     "output_type": "stream",
     "text": [
      "Threshould value is 0.5224609375\n",
      "Write csv and shp, Method=isodata  Img=s1_unit_mean_  Band=['VV_gamma0_flatDB']\n",
      "Method 2 isodata Band=['VV_gamma0_flatDB', 'VH_gamma0_flatDB'],continue\n",
      "Generating URL ...\n",
      "Downloading data from https://earthengine.googleapis.com/v1/projects/earthengine-legacy/thumbnails/6c161c9d95b48788285b3807d2ae8d92-a5079372e705f58b756bafbfaaf45bd5:getPixels\n",
      "Please wait ...\n",
      "Data downloaded to /root/GEE/2019补齐结果/4728_Ascending_S1A_IW_GRDH_1SDV_20190721T115001_20190721T115026_028215_032FF3_B8E9.tif\n",
      "image save right\n",
      "change image bandNames\n",
      "Generating URL ...\n",
      "Downloading data from https://earthengine.googleapis.com/v1/projects/earthengine-legacy/thumbnails/e40a5764c957ec495a046fb0d1e1731a-61764a40f181349dc0e44d26f58279cf:getPixels\n",
      "Please wait ...\n",
      "Data downloaded to /root/GEE/2019补齐结果/4728_Descending_S1A_IW_GRDH_1SDV_20190716T234546_20190716T234605_028149_032DF1_6699.tif\n",
      "image save right\n",
      "change image bandNames\n",
      "Generating URL ...\n",
      "Downloading data from https://earthengine.googleapis.com/v1/projects/earthengine-legacy/thumbnails/36e7432bf412cdb15ed1d40fbb9b2140-7bc34f60563d0cdbbc72869715198c20:getPixels\n",
      "Please wait ...\n",
      "Data downloaded to /root/GEE/2019补齐结果/4728_s2a_sr_median.tif\n",
      "image save right\n",
      "change image bandNames\n",
      "Generating URL ...\n",
      "Downloading data from https://earthengine.googleapis.com/v1/projects/earthengine-legacy/thumbnails/38c27d20f82924013c1301f5ab9fa434-42ddfdd3ed2a34de857e4c4aec12a8cb:getPixels\n",
      "Please wait ...\n",
      "Data downloaded to /root/GEE/2019补齐结果/4728_s1_unit_mean_.tif\n",
      "image save right\n",
      "change image bandNames\n",
      "Generating URL ...\n",
      "Downloading data from https://earthengine.googleapis.com/v1/projects/earthengine-legacy/thumbnails/b393c37b777cb5567bc138a229c9d9d1-b46e8b947af2e10dff8d36e265388a57:getPixels\n",
      "Please wait ...\n",
      "Data downloaded to /root/GEE/2019补齐结果/4728_s1_unit_max_.tif\n",
      "image save right\n",
      "change image bandNames\n",
      "Generating URL ...\n",
      "Downloading data from https://earthengine.googleapis.com/v1/projects/earthengine-legacy/thumbnails/3c63afedb1f15c85efe966db5cc55c83-892b4d05567120c206581de9b42675a8:getPixels\n",
      "Please wait ...\n",
      "Data downloaded to /root/GEE/2019补齐结果/4728_s1_unit_min_.tif\n",
      "image save right\n",
      "change image bandNames\n",
      "Generating URL ...\n",
      "Downloading data from https://earthengine.googleapis.com/v1/projects/earthengine-legacy/thumbnails/4fe8d2c278c9b1bdb5a0b821e4683474-9dd4d754e6d79d541f57ca35390771ba:getPixels\n",
      "Please wait ...\n",
      "Data downloaded to /root/GEE/2019补齐结果/4728_DistortionAS1A_IW_GRDH_1SDV_20190721T115001_20190721T115026_028215_032FF3_B8E9.tif\n",
      "image save right\n",
      "change image bandNames\n",
      "Generating URL ...\n",
      "Downloading data from https://earthengine.googleapis.com/v1/projects/earthengine-legacy/thumbnails/98c800fe23df49f4d8bbb3657343a4b4-1d568fe38a20eed06371126d95af0db2:getPixels\n",
      "Please wait ...\n",
      "Data downloaded to /root/GEE/2019补齐结果/4728_DistortionDS1A_IW_GRDH_1SDV_20190716T234546_20190716T234605_028149_032DF1_6699.tif\n",
      "image save right\n",
      "change image bandNames\n",
      "该函数运行了 225.08005 秒\n"
     ]
    },
    {
     "name": "stderr",
     "output_type": "stream",
     "text": [
      " 12%|#1        | 29/244 [1:20:53<10:04:55, 168.81s/it]"
     ]
    },
    {
     "name": "stdout",
     "output_type": "stream",
     "text": [
      "Begin Filter ...\n"
     ]
    },
    {
     "name": "stderr",
     "output_type": "stream",
     "text": [
      "\n",
      "100%|##########| 13/13 [00:00<00:00, 1325.09it/s]\n",
      "\n",
      "100%|##########| 13/13 [00:00<00:00, 507.25it/s]\n",
      "\n",
      "100%|##########| 13/13 [00:00<00:00, 1861.97it/s]\n",
      "\n",
      "100%|##########| 13/13 [00:00<00:00, 602.58it/s]\n"
     ]
    },
    {
     "name": "stdout",
     "output_type": "stream",
     "text": [
      "Method 1 Kmean Band=['VV_gamma0_flatDB'],continue\n",
      "Write csv and shp, Method=Kmean  Img=s1_unit_mean_  Band=['VV_gamma0_flatDB', 'VH_gamma0_flatDB']\n",
      "Method 1 SNIC_Kmean Band=['VV_gamma0_flatDB'],continue\n",
      "Write csv and shp, Method=SNIC_Kmean  Img=s1_unit_mean_  Band=['VV_gamma0_flatDB', 'VH_gamma0_flatDB']\n",
      "Write csv and shp, Method=SNIC_Kmean  Img=s1_unit_mean_  Band=['VV_gamma0_flatDB', 'VH_gamma0_flatDB']\n",
      "Method 1 Xmeans Band=['VV_gamma0_flatDB'],continue\n",
      "Write csv and shp, Method=Xmeans  Img=s1_unit_mean_  Band=['VV_gamma0_flatDB', 'VH_gamma0_flatDB']\n",
      "Method 1 CascadeKMeans Band=['VV_gamma0_flatDB'],continue\n",
      "Write csv and shp, Method=CascadeKMeans  Img=s1_unit_mean_  Band=['VV_gamma0_flatDB', 'VH_gamma0_flatDB']\n",
      "Threshould value is 0.5554596580508727\n",
      "Write csv and shp, Method=otsu  Img=s1_unit_mean_  Band=['VV_gamma0_flatDB']\n",
      "Method 2 otsu Band=['VV_gamma0_flatDB', 'VH_gamma0_flatDB'],continue\n",
      "Threshould value is 0.5576171875\n",
      "Write csv and shp, Method=isodata  Img=s1_unit_mean_  Band=['VV_gamma0_flatDB']\n",
      "Method 2 isodata Band=['VV_gamma0_flatDB', 'VH_gamma0_flatDB'],continue\n",
      "该函数运行了 147.37941 秒\n"
     ]
    },
    {
     "name": "stderr",
     "output_type": "stream",
     "text": [
      " 12%|#2        | 30/244 [1:23:20<9:39:10, 162.39s/it] "
     ]
    },
    {
     "name": "stdout",
     "output_type": "stream",
     "text": [
      "Begin Filter ...\n"
     ]
    },
    {
     "name": "stderr",
     "output_type": "stream",
     "text": [
      "\n",
      "100%|##########| 20/20 [00:00<00:00, 1943.61it/s]\n",
      "\n",
      "100%|##########| 20/20 [00:00<00:00, 389.35it/s]\n",
      "\n",
      "100%|##########| 20/20 [00:00<00:00, 1961.01it/s]\n",
      "\n",
      "100%|##########| 20/20 [00:00<00:00, 366.57it/s]\n"
     ]
    },
    {
     "name": "stdout",
     "output_type": "stream",
     "text": [
      "Method 1 Kmean Band=['VV_gamma0_flatDB'],continue\n",
      "Write csv and shp, Method=Kmean  Img=s1_unit_mean_  Band=['VV_gamma0_flatDB', 'VH_gamma0_flatDB']\n",
      "Method 1 SNIC_Kmean Band=['VV_gamma0_flatDB'],continue\n",
      "Write csv and shp, Method=SNIC_Kmean  Img=s1_unit_mean_  Band=['VV_gamma0_flatDB', 'VH_gamma0_flatDB']\n",
      "Write csv and shp, Method=SNIC_Kmean  Img=s1_unit_mean_  Band=['VV_gamma0_flatDB', 'VH_gamma0_flatDB']\n",
      "Method 1 Xmeans Band=['VV_gamma0_flatDB'],continue\n",
      "Write csv and shp, Method=Xmeans  Img=s1_unit_mean_  Band=['VV_gamma0_flatDB', 'VH_gamma0_flatDB']\n",
      "Method 1 CascadeKMeans Band=['VV_gamma0_flatDB'],continue\n",
      "Write csv and shp, Method=CascadeKMeans  Img=s1_unit_mean_  Band=['VV_gamma0_flatDB', 'VH_gamma0_flatDB']\n",
      "Threshould value is 0.5205078125\n",
      "Write csv and shp, Method=otsu  Img=s1_unit_mean_  Band=['VV_gamma0_flatDB']\n",
      "Method 2 otsu Band=['VV_gamma0_flatDB', 'VH_gamma0_flatDB'],continue\n",
      "Threshould value is 0.5182463829200687\n",
      "Write csv and shp, Method=isodata  Img=s1_unit_mean_  Band=['VV_gamma0_flatDB']\n",
      "Method 2 isodata Band=['VV_gamma0_flatDB', 'VH_gamma0_flatDB'],continue\n",
      "该函数运行了 152.10133 秒\n"
     ]
    },
    {
     "name": "stderr",
     "output_type": "stream",
     "text": [
      " 13%|#2        | 31/244 [1:25:52<9:25:31, 159.30s/it]"
     ]
    },
    {
     "name": "stdout",
     "output_type": "stream",
     "text": [
      "Begin Filter ...\n"
     ]
    },
    {
     "name": "stderr",
     "output_type": "stream",
     "text": [
      "\n",
      "100%|##########| 17/17 [00:00<00:00, 1842.22it/s]\n",
      "\n",
      "100%|##########| 17/17 [00:00<00:00, 471.38it/s]\n",
      "\n",
      "100%|##########| 17/17 [00:00<00:00, 1872.16it/s]\n",
      "\n",
      "100%|##########| 17/17 [00:00<00:00, 489.26it/s]\n"
     ]
    },
    {
     "name": "stdout",
     "output_type": "stream",
     "text": [
      "Method 1 Kmean Band=['VV_gamma0_flatDB'],continue\n",
      "Write csv and shp, Method=Kmean  Img=s1_unit_mean_  Band=['VV_gamma0_flatDB', 'VH_gamma0_flatDB']\n",
      "Method 1 SNIC_Kmean Band=['VV_gamma0_flatDB'],continue\n",
      "Write csv and shp, Method=SNIC_Kmean  Img=s1_unit_mean_  Band=['VV_gamma0_flatDB', 'VH_gamma0_flatDB']\n",
      "Write csv and shp, Method=SNIC_Kmean  Img=s1_unit_mean_  Band=['VV_gamma0_flatDB', 'VH_gamma0_flatDB']\n",
      "Method 1 Xmeans Band=['VV_gamma0_flatDB'],continue\n",
      "Write csv and shp, Method=Xmeans  Img=s1_unit_mean_  Band=['VV_gamma0_flatDB', 'VH_gamma0_flatDB']\n",
      "Method 1 CascadeKMeans Band=['VV_gamma0_flatDB'],continue\n",
      "Write csv and shp, Method=CascadeKMeans  Img=s1_unit_mean_  Band=['VV_gamma0_flatDB', 'VH_gamma0_flatDB']\n",
      "Threshould value is 0.5498046875\n",
      "Write csv and shp, Method=otsu  Img=s1_unit_mean_  Band=['VV_gamma0_flatDB']\n",
      "Method 2 otsu Band=['VV_gamma0_flatDB', 'VH_gamma0_flatDB'],continue\n",
      "Threshould value is 0.5380859375\n",
      "Write csv and shp, Method=isodata  Img=s1_unit_mean_  Band=['VV_gamma0_flatDB']\n",
      "Method 2 isodata Band=['VV_gamma0_flatDB', 'VH_gamma0_flatDB'],continue\n",
      "Generating URL ...\n",
      "Downloading data from https://earthengine.googleapis.com/v1/projects/earthengine-legacy/thumbnails/f52b7d1e88c4c98aa172bfef13ec2316-c467b7cd66b4cb183a39776e403d3854:getPixels\n",
      "Please wait ...\n",
      "Data downloaded to /root/GEE/2019补齐结果/4731_Ascending_S1A_IW_GRDH_1SDV_20190721T115001_20190721T115026_028215_032FF3_B8E9.tif\n",
      "image save right\n",
      "change image bandNames\n",
      "Generating URL ...\n",
      "Downloading data from https://earthengine.googleapis.com/v1/projects/earthengine-legacy/thumbnails/214ac230ca16dda309093b0fbb97214b-3c8cb52a3e12e2c747da3fb876edbc2d:getPixels\n",
      "Please wait ...\n",
      "Data downloaded to /root/GEE/2019补齐结果/4731_Descending_S1A_IW_GRDH_1SDV_20190716T234546_20190716T234605_028149_032DF1_6699.tif\n",
      "image save right\n",
      "change image bandNames\n",
      "Generating URL ...\n",
      "Downloading data from https://earthengine.googleapis.com/v1/projects/earthengine-legacy/thumbnails/6011510c189de78d75ec4da2fba811a9-718d03d2f09c7e64cd691966464a8a61:getPixels\n",
      "Please wait ...\n",
      "Data downloaded to /root/GEE/2019补齐结果/4731_s2a_sr_median.tif\n",
      "image save right\n",
      "change image bandNames\n",
      "Generating URL ...\n",
      "Downloading data from https://earthengine.googleapis.com/v1/projects/earthengine-legacy/thumbnails/bb5d1ed44e31091a7845e05e4689563e-e3c96ba2af967945c2094f288b59b5c8:getPixels\n",
      "Please wait ...\n",
      "Data downloaded to /root/GEE/2019补齐结果/4731_s1_unit_mean_.tif\n",
      "image save right\n",
      "change image bandNames\n",
      "Generating URL ...\n",
      "Downloading data from https://earthengine.googleapis.com/v1/projects/earthengine-legacy/thumbnails/5aa280822aecd4a9a5b502f0ac24dce8-2c145c2f1aa98bafc2677d2a7d59e77b:getPixels\n",
      "Please wait ...\n",
      "Data downloaded to /root/GEE/2019补齐结果/4731_s1_unit_max_.tif\n",
      "image save right\n",
      "change image bandNames\n",
      "Generating URL ...\n",
      "Downloading data from https://earthengine.googleapis.com/v1/projects/earthengine-legacy/thumbnails/37186d76db144e4278f31a2e7f6181b7-034d37cab90a7c950c61f6fe9b584aec:getPixels\n",
      "Please wait ...\n",
      "Data downloaded to /root/GEE/2019补齐结果/4731_s1_unit_min_.tif\n",
      "image save right\n",
      "change image bandNames\n",
      "Generating URL ...\n",
      "Downloading data from https://earthengine.googleapis.com/v1/projects/earthengine-legacy/thumbnails/111194836f5cbeaaedcbb3694e66369f-40bef64d95a8e735c8f6aba2896af440:getPixels\n",
      "Please wait ...\n",
      "Data downloaded to /root/GEE/2019补齐结果/4731_DistortionAS1A_IW_GRDH_1SDV_20190721T115001_20190721T115026_028215_032FF3_B8E9.tif\n",
      "image save right\n",
      "change image bandNames\n",
      "Generating URL ...\n",
      "Downloading data from https://earthengine.googleapis.com/v1/projects/earthengine-legacy/thumbnails/5f9b521404ebd0a70aef98d7688fbd10-5571497cf414e173fab2dc0fe5549587:getPixels\n",
      "Please wait ...\n",
      "Data downloaded to /root/GEE/2019补齐结果/4731_DistortionDS1A_IW_GRDH_1SDV_20190716T234546_20190716T234605_028149_032DF1_6699.tif\n",
      "image save right\n",
      "change image bandNames\n",
      "该函数运行了 215.82033 秒\n"
     ]
    },
    {
     "name": "stderr",
     "output_type": "stream",
     "text": [
      " 13%|#3        | 32/244 [1:29:28<10:22:47, 176.26s/it]"
     ]
    },
    {
     "name": "stdout",
     "output_type": "stream",
     "text": [
      "Begin Filter ...\n"
     ]
    },
    {
     "name": "stderr",
     "output_type": "stream",
     "text": [
      "\n",
      "100%|##########| 12/12 [00:00<00:00, 1729.13it/s]\n",
      "\n",
      "100%|##########| 12/12 [00:00<00:00, 535.57it/s]\n",
      "\n",
      "100%|##########| 13/13 [00:00<00:00, 1605.88it/s]\n",
      "\n",
      "100%|##########| 13/13 [00:00<00:00, 610.85it/s]\n"
     ]
    },
    {
     "name": "stdout",
     "output_type": "stream",
     "text": [
      "Method 1 Kmean Band=['VV_gamma0_flatDB'],continue\n",
      "Write csv and shp, Method=Kmean  Img=s1_unit_mean_  Band=['VV_gamma0_flatDB', 'VH_gamma0_flatDB']\n",
      "Method 1 SNIC_Kmean Band=['VV_gamma0_flatDB'],continue\n",
      "Write csv and shp, Method=SNIC_Kmean  Img=s1_unit_mean_  Band=['VV_gamma0_flatDB', 'VH_gamma0_flatDB']\n",
      "Write csv and shp, Method=SNIC_Kmean  Img=s1_unit_mean_  Band=['VV_gamma0_flatDB', 'VH_gamma0_flatDB']\n",
      "Method 1 Xmeans Band=['VV_gamma0_flatDB'],continue\n",
      "Write csv and shp, Method=Xmeans  Img=s1_unit_mean_  Band=['VV_gamma0_flatDB', 'VH_gamma0_flatDB']\n",
      "Method 1 CascadeKMeans Band=['VV_gamma0_flatDB'],continue\n",
      "Write csv and shp, Method=CascadeKMeans  Img=s1_unit_mean_  Band=['VV_gamma0_flatDB', 'VH_gamma0_flatDB']\n",
      "Threshould value is 0.5302734375\n",
      "Write csv and shp, Method=otsu  Img=s1_unit_mean_  Band=['VV_gamma0_flatDB']\n",
      "Method 2 otsu Band=['VV_gamma0_flatDB', 'VH_gamma0_flatDB'],continue\n"
     ]
    },
    {
     "name": "stderr",
     "output_type": "stream",
     "text": [
      "/root/GEE/Extract_algorithm.py:229: RuntimeWarning: invalid value encountered in divide\n",
      "  higher = (csum_intensity[-1] - csum_intensity[:-1]) / (csumh[:-1]+sys.float_info.min)\n"
     ]
    },
    {
     "name": "stdout",
     "output_type": "stream",
     "text": [
      "Threshould value is 0.5283203125\n",
      "Write csv and shp, Method=isodata  Img=s1_unit_mean_  Band=['VV_gamma0_flatDB']\n",
      "Method 2 isodata Band=['VV_gamma0_flatDB', 'VH_gamma0_flatDB'],continue\n",
      "该函数运行了 150.18886 秒\n"
     ]
    },
    {
     "name": "stderr",
     "output_type": "stream",
     "text": [
      " 14%|#3        | 33/244 [1:31:58<9:52:20, 168.44s/it] "
     ]
    },
    {
     "name": "stdout",
     "output_type": "stream",
     "text": [
      "Begin Filter ...\n"
     ]
    },
    {
     "name": "stderr",
     "output_type": "stream",
     "text": [
      "\n",
      "100%|##########| 10/10 [00:00<00:00, 1697.07it/s]\n",
      "\n",
      "100%|##########| 10/10 [00:00<00:00, 519.12it/s]\n",
      "\n",
      "100%|##########| 12/12 [00:00<00:00, 1655.59it/s]\n",
      "\n",
      "100%|##########| 12/12 [00:00<00:00, 666.56it/s]\n"
     ]
    },
    {
     "name": "stdout",
     "output_type": "stream",
     "text": [
      "Method 1 Kmean Band=['VV_gamma0_flatDB'],continue\n",
      "Write csv and shp, Method=Kmean  Img=s1_unit_mean_  Band=['VV_gamma0_flatDB', 'VH_gamma0_flatDB']\n",
      "Method 1 SNIC_Kmean Band=['VV_gamma0_flatDB'],continue\n",
      "Write csv and shp, Method=SNIC_Kmean  Img=s1_unit_mean_  Band=['VV_gamma0_flatDB', 'VH_gamma0_flatDB']\n",
      "Write csv and shp, Method=SNIC_Kmean  Img=s1_unit_mean_  Band=['VV_gamma0_flatDB', 'VH_gamma0_flatDB']\n",
      "Method 1 Xmeans Band=['VV_gamma0_flatDB'],continue\n",
      "Write csv and shp, Method=Xmeans  Img=s1_unit_mean_  Band=['VV_gamma0_flatDB', 'VH_gamma0_flatDB']\n",
      "Method 1 CascadeKMeans Band=['VV_gamma0_flatDB'],continue\n",
      "Write csv and shp, Method=CascadeKMeans  Img=s1_unit_mean_  Band=['VV_gamma0_flatDB', 'VH_gamma0_flatDB']\n",
      "Threshould value is 0.6239240284318264\n",
      "Write csv and shp, Method=otsu  Img=s1_unit_mean_  Band=['VV_gamma0_flatDB']\n",
      "Method 2 otsu Band=['VV_gamma0_flatDB', 'VH_gamma0_flatDB'],continue\n"
     ]
    },
    {
     "name": "stderr",
     "output_type": "stream",
     "text": [
      "/root/GEE/Extract_algorithm.py:229: RuntimeWarning: invalid value encountered in divide\n",
      "  higher = (csum_intensity[-1] - csum_intensity[:-1]) / (csumh[:-1]+sys.float_info.min)\n"
     ]
    },
    {
     "name": "stdout",
     "output_type": "stream",
     "text": [
      "Threshould value is 0.6259845341105528\n",
      "Write csv and shp, Method=isodata  Img=s1_unit_mean_  Band=['VV_gamma0_flatDB']\n",
      "Method 2 isodata Band=['VV_gamma0_flatDB', 'VH_gamma0_flatDB'],continue\n",
      "Generating URL ...\n",
      "Downloading data from https://earthengine.googleapis.com/v1/projects/earthengine-legacy/thumbnails/d63f94d2821fa22504c6acfb34836fbf-adc4d31e3172d5d16fa144273a374726:getPixels\n",
      "Please wait ...\n",
      "Data downloaded to /root/GEE/2019补齐结果/4733_Ascending_S1A_IW_GRDH_1SDV_20190721T115001_20190721T115026_028215_032FF3_B8E9.tif\n",
      "image save right\n",
      "change image bandNames\n",
      "Generating URL ...\n",
      "Downloading data from https://earthengine.googleapis.com/v1/projects/earthengine-legacy/thumbnails/9ffe8148987f6d9e4b3cb14e9b73e58d-c72acdd307e38b7647ec983a264635d2:getPixels\n",
      "Please wait ...\n",
      "Data downloaded to /root/GEE/2019补齐结果/4733_Descending_S1A_IW_GRDH_1SDV_20190716T234546_20190716T234605_028149_032DF1_6699.tif\n",
      "image save right\n",
      "change image bandNames\n",
      "Generating URL ...\n",
      "Downloading data from https://earthengine.googleapis.com/v1/projects/earthengine-legacy/thumbnails/4e28af81bd1d840e97a9bd478e66ab8b-e03e1716290188742e4aca9a0e6bfb83:getPixels\n",
      "Please wait ...\n",
      "Data downloaded to /root/GEE/2019补齐结果/4733_s2a_sr_median.tif\n",
      "image save right\n",
      "change image bandNames\n",
      "Generating URL ...\n",
      "Downloading data from https://earthengine.googleapis.com/v1/projects/earthengine-legacy/thumbnails/f9e285ed70e910a453952a9dee045165-53ece51836caaee9bace09bd1dd57f0e:getPixels\n",
      "Please wait ...\n",
      "Data downloaded to /root/GEE/2019补齐结果/4733_s1_unit_mean_.tif\n",
      "image save right\n",
      "change image bandNames\n",
      "Generating URL ...\n",
      "Downloading data from https://earthengine.googleapis.com/v1/projects/earthengine-legacy/thumbnails/5d6c2ef15f3924f0252f4d858669ac46-d73f534d42c3df0a4b0ead0e83f9f8dc:getPixels\n",
      "Please wait ...\n",
      "Data downloaded to /root/GEE/2019补齐结果/4733_s1_unit_max_.tif\n",
      "image save right\n",
      "change image bandNames\n",
      "Generating URL ...\n",
      "Downloading data from https://earthengine.googleapis.com/v1/projects/earthengine-legacy/thumbnails/4aae3988020c52566f15d65263ea3ca9-018e665a5556485fa1dee3bd2e269573:getPixels\n",
      "Please wait ...\n",
      "Data downloaded to /root/GEE/2019补齐结果/4733_s1_unit_min_.tif\n",
      "image save right\n",
      "change image bandNames\n",
      "Generating URL ...\n",
      "Downloading data from https://earthengine.googleapis.com/v1/projects/earthengine-legacy/thumbnails/d67cee8b07751f9096fd13ed576c49f4-5e11d96bf2caef131331d4c87230ba09:getPixels\n",
      "Please wait ...\n",
      "Data downloaded to /root/GEE/2019补齐结果/4733_DistortionAS1A_IW_GRDH_1SDV_20190721T115001_20190721T115026_028215_032FF3_B8E9.tif\n",
      "image save right\n",
      "change image bandNames\n",
      "Generating URL ...\n",
      "Downloading data from https://earthengine.googleapis.com/v1/projects/earthengine-legacy/thumbnails/0395ebd75cb7afb5c4eaa7848fe85b1f-fd71d6f43fe4da5be4dc33f8b28a89d0:getPixels\n",
      "Please wait ...\n",
      "Data downloaded to /root/GEE/2019补齐结果/4733_DistortionDS1A_IW_GRDH_1SDV_20190716T234546_20190716T234605_028149_032DF1_6699.tif\n",
      "image save right\n",
      "change image bandNames\n",
      "该函数运行了 232.93665 秒\n"
     ]
    },
    {
     "name": "stderr",
     "output_type": "stream",
     "text": [
      " 14%|#3        | 34/244 [1:35:51<10:57:16, 187.79s/it]"
     ]
    },
    {
     "name": "stdout",
     "output_type": "stream",
     "text": [
      "Begin Filter ...\n"
     ]
    },
    {
     "name": "stderr",
     "output_type": "stream",
     "text": [
      "\n",
      "100%|##########| 14/14 [00:00<00:00, 1847.25it/s]\n",
      "\n",
      "100%|##########| 14/14 [00:00<00:00, 503.24it/s]\n",
      "\n",
      "100%|##########| 13/13 [00:00<00:00, 1807.65it/s]\n",
      "\n",
      "100%|##########| 13/13 [00:00<00:00, 426.31it/s]\n"
     ]
    },
    {
     "name": "stdout",
     "output_type": "stream",
     "text": [
      "Method 1 Kmean Band=['VV_gamma0_flatDB'],continue\n",
      "Write csv and shp, Method=Kmean  Img=s1_unit_mean_  Band=['VV_gamma0_flatDB', 'VH_gamma0_flatDB']\n",
      "Method 1 SNIC_Kmean Band=['VV_gamma0_flatDB'],continue\n",
      "Write csv and shp, Method=SNIC_Kmean  Img=s1_unit_mean_  Band=['VV_gamma0_flatDB', 'VH_gamma0_flatDB']\n",
      "Write csv and shp, Method=SNIC_Kmean  Img=s1_unit_mean_  Band=['VV_gamma0_flatDB', 'VH_gamma0_flatDB']\n",
      "Method 1 Xmeans Band=['VV_gamma0_flatDB'],continue\n",
      "Write csv and shp, Method=Xmeans  Img=s1_unit_mean_  Band=['VV_gamma0_flatDB', 'VH_gamma0_flatDB']\n",
      "Method 1 CascadeKMeans Band=['VV_gamma0_flatDB'],continue\n",
      "Write csv and shp, Method=CascadeKMeans  Img=s1_unit_mean_  Band=['VV_gamma0_flatDB', 'VH_gamma0_flatDB']\n",
      "Threshould value is 0.46754030053900153\n",
      "Write csv and shp, Method=otsu  Img=s1_unit_mean_  Band=['VV_gamma0_flatDB']\n",
      "Method 2 otsu Band=['VV_gamma0_flatDB', 'VH_gamma0_flatDB'],continue\n"
     ]
    },
    {
     "name": "stderr",
     "output_type": "stream",
     "text": [
      "/root/GEE/Extract_algorithm.py:229: RuntimeWarning: invalid value encountered in divide\n",
      "  higher = (csum_intensity[-1] - csum_intensity[:-1]) / (csumh[:-1]+sys.float_info.min)\n"
     ]
    },
    {
     "name": "stdout",
     "output_type": "stream",
     "text": [
      "Threshould value is 0.47058796039039036\n",
      "Write csv and shp, Method=isodata  Img=s1_unit_mean_  Band=['VV_gamma0_flatDB']\n",
      "Method 2 isodata Band=['VV_gamma0_flatDB', 'VH_gamma0_flatDB'],continue\n",
      "该函数运行了 150.21865 秒\n"
     ]
    },
    {
     "name": "stderr",
     "output_type": "stream",
     "text": [
      " 14%|#4        | 35/244 [1:38:22<10:14:52, 176.52s/it]"
     ]
    },
    {
     "name": "stdout",
     "output_type": "stream",
     "text": [
      "Begin Filter ...\n"
     ]
    },
    {
     "name": "stderr",
     "output_type": "stream",
     "text": [
      "\n",
      "100%|##########| 11/11 [00:00<00:00, 1730.06it/s]\n",
      "\n",
      "100%|##########| 11/11 [00:00<00:00, 527.27it/s]\n",
      "\n",
      "100%|##########| 12/12 [00:00<00:00, 1742.60it/s]\n",
      "\n",
      "100%|##########| 12/12 [00:00<00:00, 507.84it/s]\n"
     ]
    },
    {
     "name": "stdout",
     "output_type": "stream",
     "text": [
      "Method 1 Kmean Band=['VV_gamma0_flatDB'],continue\n",
      "Write csv and shp, Method=Kmean  Img=s1_unit_mean_  Band=['VV_gamma0_flatDB', 'VH_gamma0_flatDB']\n",
      "Method 1 SNIC_Kmean Band=['VV_gamma0_flatDB'],continue\n",
      "Write csv and shp, Method=SNIC_Kmean  Img=s1_unit_mean_  Band=['VV_gamma0_flatDB', 'VH_gamma0_flatDB']\n",
      "Write csv and shp, Method=SNIC_Kmean  Img=s1_unit_mean_  Band=['VV_gamma0_flatDB', 'VH_gamma0_flatDB']\n",
      "Method 1 Xmeans Band=['VV_gamma0_flatDB'],continue\n",
      "Write csv and shp, Method=Xmeans  Img=s1_unit_mean_  Band=['VV_gamma0_flatDB', 'VH_gamma0_flatDB']\n",
      "Method 1 CascadeKMeans Band=['VV_gamma0_flatDB'],continue\n",
      "Write csv and shp, Method=CascadeKMeans  Img=s1_unit_mean_  Band=['VV_gamma0_flatDB', 'VH_gamma0_flatDB']\n",
      "Threshould value is 0.5570242090255795\n",
      "Write csv and shp, Method=otsu  Img=s1_unit_mean_  Band=['VV_gamma0_flatDB']\n",
      "Method 2 otsu Band=['VV_gamma0_flatDB', 'VH_gamma0_flatDB'],continue\n",
      "Threshould value is 0.5564607983908467\n",
      "Write csv and shp, Method=isodata  Img=s1_unit_mean_  Band=['VV_gamma0_flatDB']\n",
      "Method 2 isodata Band=['VV_gamma0_flatDB', 'VH_gamma0_flatDB'],continue\n",
      "该函数运行了 167.84500 秒\n"
     ]
    },
    {
     "name": "stderr",
     "output_type": "stream",
     "text": [
      " 15%|#4        | 36/244 [1:41:09<10:02:55, 173.92s/it]"
     ]
    },
    {
     "name": "stdout",
     "output_type": "stream",
     "text": [
      "Begin Filter ...\n"
     ]
    },
    {
     "name": "stderr",
     "output_type": "stream",
     "text": [
      "\n",
      "100%|##########| 13/13 [00:00<00:00, 1350.76it/s]\n",
      "\n",
      "100%|##########| 13/13 [00:00<00:00, 447.03it/s]\n",
      "\n",
      "100%|##########| 13/13 [00:00<00:00, 1566.52it/s]\n",
      "\n",
      "100%|##########| 13/13 [00:00<00:00, 647.50it/s]\n"
     ]
    },
    {
     "name": "stdout",
     "output_type": "stream",
     "text": [
      "Method 1 Kmean Band=['VV_gamma0_flatDB'],continue\n",
      "Write csv and shp, Method=Kmean  Img=s1_unit_mean_  Band=['VV_gamma0_flatDB', 'VH_gamma0_flatDB']\n",
      "Method 1 SNIC_Kmean Band=['VV_gamma0_flatDB'],continue\n",
      "Write csv and shp, Method=SNIC_Kmean  Img=s1_unit_mean_  Band=['VV_gamma0_flatDB', 'VH_gamma0_flatDB']\n",
      "Write csv and shp, Method=SNIC_Kmean  Img=s1_unit_mean_  Band=['VV_gamma0_flatDB', 'VH_gamma0_flatDB']\n",
      "Method 1 Xmeans Band=['VV_gamma0_flatDB'],continue\n",
      "Write csv and shp, Method=Xmeans  Img=s1_unit_mean_  Band=['VV_gamma0_flatDB', 'VH_gamma0_flatDB']\n",
      "Method 1 CascadeKMeans Band=['VV_gamma0_flatDB'],continue\n",
      "Write csv and shp, Method=CascadeKMeans  Img=s1_unit_mean_  Band=['VV_gamma0_flatDB', 'VH_gamma0_flatDB']\n",
      "Threshould value is 0.5556640625\n",
      "Write csv and shp, Method=otsu  Img=s1_unit_mean_  Band=['VV_gamma0_flatDB']\n",
      "Method 2 otsu Band=['VV_gamma0_flatDB', 'VH_gamma0_flatDB'],continue\n"
     ]
    },
    {
     "name": "stderr",
     "output_type": "stream",
     "text": [
      "/root/GEE/Extract_algorithm.py:229: RuntimeWarning: invalid value encountered in divide\n",
      "  higher = (csum_intensity[-1] - csum_intensity[:-1]) / (csumh[:-1]+sys.float_info.min)\n"
     ]
    },
    {
     "name": "stdout",
     "output_type": "stream",
     "text": [
      "Threshould value is 0.5517578125\n",
      "Write csv and shp, Method=isodata  Img=s1_unit_mean_  Band=['VV_gamma0_flatDB']\n",
      "Method 2 isodata Band=['VV_gamma0_flatDB', 'VH_gamma0_flatDB'],continue\n",
      "Generating URL ...\n",
      "Downloading data from https://earthengine.googleapis.com/v1/projects/earthengine-legacy/thumbnails/5185964d2bda1f91fad2bbf5b2d9458a-193337b95c4e1052267101904af9bfb1:getPixels\n",
      "Please wait ...\n",
      "Data downloaded to /root/GEE/2019补齐结果/4736_Ascending_S1A_IW_GRDH_1SDV_20190721T115001_20190721T115026_028215_032FF3_B8E9.tif\n",
      "image save right\n",
      "change image bandNames\n",
      "Generating URL ...\n",
      "Downloading data from https://earthengine.googleapis.com/v1/projects/earthengine-legacy/thumbnails/02d0d643c3109954fffb2248cf126047-3231193aff6d2c27941b15a8a1241439:getPixels\n",
      "Please wait ...\n",
      "Data downloaded to /root/GEE/2019补齐结果/4736_Descending_S1A_IW_GRDH_1SDV_20190716T234546_20190716T234605_028149_032DF1_6699.tif\n",
      "image save right\n",
      "change image bandNames\n",
      "Generating URL ...\n",
      "Downloading data from https://earthengine.googleapis.com/v1/projects/earthengine-legacy/thumbnails/635e8c6e2b882b7d48d26bb4f27e1ca9-dbf724ae88793c0a5fb8fa879922c39c:getPixels\n",
      "Please wait ...\n",
      "Data downloaded to /root/GEE/2019补齐结果/4736_s2a_sr_median.tif\n",
      "image save right\n",
      "change image bandNames\n",
      "Generating URL ...\n",
      "Downloading data from https://earthengine.googleapis.com/v1/projects/earthengine-legacy/thumbnails/f8372a68c755fc4b767a48481e1c42df-83c55a1646ecd09b9e0bd8eb320384e6:getPixels\n",
      "Please wait ...\n",
      "Data downloaded to /root/GEE/2019补齐结果/4736_s1_unit_mean_.tif\n",
      "image save right\n",
      "change image bandNames\n",
      "Generating URL ...\n",
      "Downloading data from https://earthengine.googleapis.com/v1/projects/earthengine-legacy/thumbnails/15dc9555f0efb3bb4504937e075fa763-1c3a0c256e62217af3f14532120ceae8:getPixels\n",
      "Please wait ...\n",
      "Data downloaded to /root/GEE/2019补齐结果/4736_s1_unit_max_.tif\n",
      "image save right\n",
      "change image bandNames\n",
      "Generating URL ...\n",
      "Downloading data from https://earthengine.googleapis.com/v1/projects/earthengine-legacy/thumbnails/e352029a34c2287c0dd6a1f1eb56fb84-db1cf4068e7f7759d82b942ecbb4db96:getPixels\n",
      "Please wait ...\n",
      "Data downloaded to /root/GEE/2019补齐结果/4736_s1_unit_min_.tif\n",
      "image save right\n",
      "change image bandNames\n",
      "Generating URL ...\n",
      "Downloading data from https://earthengine.googleapis.com/v1/projects/earthengine-legacy/thumbnails/db038599f706992260dbd4c9adfe4385-0c0d067f63beecd9b26aa77e37aa8b24:getPixels\n",
      "Please wait ...\n",
      "Data downloaded to /root/GEE/2019补齐结果/4736_DistortionAS1A_IW_GRDH_1SDV_20190721T115001_20190721T115026_028215_032FF3_B8E9.tif\n",
      "image save right\n",
      "change image bandNames\n",
      "Generating URL ...\n",
      "Downloading data from https://earthengine.googleapis.com/v1/projects/earthengine-legacy/thumbnails/6c8fc23f307d6a4e4dcda6227ff7cabf-cbaa6281ff476269cebd69c6939e5cf3:getPixels\n",
      "Please wait ...\n",
      "Data downloaded to /root/GEE/2019补齐结果/4736_DistortionDS1A_IW_GRDH_1SDV_20190716T234546_20190716T234605_028149_032DF1_6699.tif\n",
      "image save right\n",
      "change image bandNames\n",
      "该函数运行了 223.55850 秒\n"
     ]
    },
    {
     "name": "stderr",
     "output_type": "stream",
     "text": [
      " 15%|#5        | 37/244 [1:44:53<10:51:24, 188.81s/it]"
     ]
    },
    {
     "name": "stdout",
     "output_type": "stream",
     "text": [
      "Begin Filter ...\n"
     ]
    },
    {
     "name": "stderr",
     "output_type": "stream",
     "text": [
      "\n",
      "100%|##########| 17/17 [00:00<00:00, 1715.09it/s]\n",
      "\n",
      "100%|##########| 17/17 [00:00<00:00, 395.99it/s]\n",
      "\n",
      "100%|##########| 17/17 [00:00<00:00, 1777.11it/s]\n",
      "\n",
      "100%|##########| 17/17 [00:00<00:00, 409.78it/s]\n"
     ]
    },
    {
     "name": "stdout",
     "output_type": "stream",
     "text": [
      "Method 1 Kmean Band=['VV_gamma0_flatDB'],continue\n",
      "Write csv and shp, Method=Kmean  Img=s1_unit_mean_  Band=['VV_gamma0_flatDB', 'VH_gamma0_flatDB']\n",
      "Method 1 SNIC_Kmean Band=['VV_gamma0_flatDB'],continue\n",
      "Write csv and shp, Method=SNIC_Kmean  Img=s1_unit_mean_  Band=['VV_gamma0_flatDB', 'VH_gamma0_flatDB']\n",
      "Write csv and shp, Method=SNIC_Kmean  Img=s1_unit_mean_  Band=['VV_gamma0_flatDB', 'VH_gamma0_flatDB']\n",
      "Method 1 Xmeans Band=['VV_gamma0_flatDB'],continue\n",
      "Write csv and shp, Method=Xmeans  Img=s1_unit_mean_  Band=['VV_gamma0_flatDB', 'VH_gamma0_flatDB']\n",
      "Method 1 CascadeKMeans Band=['VV_gamma0_flatDB'],continue\n",
      "Write csv and shp, Method=CascadeKMeans  Img=s1_unit_mean_  Band=['VV_gamma0_flatDB', 'VH_gamma0_flatDB']\n",
      "Threshould value is 0.5243940617351713\n",
      "Write csv and shp, Method=otsu  Img=s1_unit_mean_  Band=['VV_gamma0_flatDB']\n",
      "Method 2 otsu Band=['VV_gamma0_flatDB', 'VH_gamma0_flatDB'],continue\n",
      "Threshould value is 0.5263671875\n",
      "Write csv and shp, Method=isodata  Img=s1_unit_mean_  Band=['VV_gamma0_flatDB']\n",
      "Method 2 isodata Band=['VV_gamma0_flatDB', 'VH_gamma0_flatDB'],continue\n",
      "该函数运行了 130.60530 秒\n"
     ]
    },
    {
     "name": "stderr",
     "output_type": "stream",
     "text": [
      " 16%|#5        | 38/244 [1:47:04<9:48:18, 171.35s/it] "
     ]
    },
    {
     "name": "stdout",
     "output_type": "stream",
     "text": [
      "Begin Filter ...\n"
     ]
    },
    {
     "name": "stderr",
     "output_type": "stream",
     "text": [
      "\n",
      "100%|##########| 14/14 [00:00<00:00, 2091.77it/s]\n",
      "\n",
      "100%|##########| 14/14 [00:00<00:00, 430.34it/s]\n",
      "\n",
      "100%|##########| 13/13 [00:00<00:00, 1626.14it/s]\n",
      "\n",
      "100%|##########| 13/13 [00:00<00:00, 463.05it/s]\n"
     ]
    },
    {
     "name": "stdout",
     "output_type": "stream",
     "text": [
      "Method 1 Kmean Band=['VV_gamma0_flatDB'],continue\n",
      "Write csv and shp, Method=Kmean  Img=s1_unit_mean_  Band=['VV_gamma0_flatDB', 'VH_gamma0_flatDB']\n",
      "Method 1 SNIC_Kmean Band=['VV_gamma0_flatDB'],continue\n",
      "Write csv and shp, Method=SNIC_Kmean  Img=s1_unit_mean_  Band=['VV_gamma0_flatDB', 'VH_gamma0_flatDB']\n",
      "Write csv and shp, Method=SNIC_Kmean  Img=s1_unit_mean_  Band=['VV_gamma0_flatDB', 'VH_gamma0_flatDB']\n",
      "Method 1 Xmeans Band=['VV_gamma0_flatDB'],continue\n",
      "Write csv and shp, Method=Xmeans  Img=s1_unit_mean_  Band=['VV_gamma0_flatDB', 'VH_gamma0_flatDB']\n",
      "Method 1 CascadeKMeans Band=['VV_gamma0_flatDB'],continue\n",
      "Write csv and shp, Method=CascadeKMeans  Img=s1_unit_mean_  Band=['VV_gamma0_flatDB', 'VH_gamma0_flatDB']\n",
      "Threshould value is 0.5227059183034701\n",
      "Write csv and shp, Method=otsu  Img=s1_unit_mean_  Band=['VV_gamma0_flatDB']\n",
      "Method 2 otsu Band=['VV_gamma0_flatDB', 'VH_gamma0_flatDB'],continue\n"
     ]
    },
    {
     "name": "stderr",
     "output_type": "stream",
     "text": [
      "/root/GEE/Extract_algorithm.py:229: RuntimeWarning: invalid value encountered in divide\n",
      "  higher = (csum_intensity[-1] - csum_intensity[:-1]) / (csumh[:-1]+sys.float_info.min)\n"
     ]
    },
    {
     "name": "stdout",
     "output_type": "stream",
     "text": [
      "Threshould value is 0.526412774376063\n",
      "Write csv and shp, Method=isodata  Img=s1_unit_mean_  Band=['VV_gamma0_flatDB']\n",
      "Method 2 isodata Band=['VV_gamma0_flatDB', 'VH_gamma0_flatDB'],continue\n",
      "该函数运行了 128.13636 秒\n"
     ]
    },
    {
     "name": "stderr",
     "output_type": "stream",
     "text": [
      " 16%|#5        | 39/244 [1:49:12<9:01:09, 158.39s/it]"
     ]
    },
    {
     "name": "stdout",
     "output_type": "stream",
     "text": [
      "Begin Filter ...\n"
     ]
    },
    {
     "name": "stderr",
     "output_type": "stream",
     "text": [
      "\n",
      "100%|##########| 13/13 [00:00<00:00, 1468.28it/s]\n",
      "\n",
      "100%|##########| 13/13 [00:00<00:00, 422.96it/s]\n",
      "\n",
      "100%|##########| 13/13 [00:00<00:00, 1646.56it/s]\n",
      "\n",
      "100%|##########| 13/13 [00:00<00:00, 459.15it/s]\n"
     ]
    },
    {
     "name": "stdout",
     "output_type": "stream",
     "text": [
      "Method 1 Kmean Band=['VV_gamma0_flatDB'],continue\n",
      "Write csv and shp, Method=Kmean  Img=s1_unit_mean_  Band=['VV_gamma0_flatDB', 'VH_gamma0_flatDB']\n",
      "Method 1 SNIC_Kmean Band=['VV_gamma0_flatDB'],continue\n",
      "Write csv and shp, Method=SNIC_Kmean  Img=s1_unit_mean_  Band=['VV_gamma0_flatDB', 'VH_gamma0_flatDB']\n",
      "Write csv and shp, Method=SNIC_Kmean  Img=s1_unit_mean_  Band=['VV_gamma0_flatDB', 'VH_gamma0_flatDB']\n",
      "Method 1 Xmeans Band=['VV_gamma0_flatDB'],continue\n",
      "Write csv and shp, Method=Xmeans  Img=s1_unit_mean_  Band=['VV_gamma0_flatDB', 'VH_gamma0_flatDB']\n",
      "Method 1 CascadeKMeans Band=['VV_gamma0_flatDB'],continue\n",
      "Write csv and shp, Method=CascadeKMeans  Img=s1_unit_mean_  Band=['VV_gamma0_flatDB', 'VH_gamma0_flatDB']\n",
      "Threshould value is 0.5628935609231751\n",
      "Write csv and shp, Method=otsu  Img=s1_unit_mean_  Band=['VV_gamma0_flatDB']\n",
      "Method 2 otsu Band=['VV_gamma0_flatDB', 'VH_gamma0_flatDB'],continue\n",
      "Threshould value is 0.54367924424819\n",
      "Write csv and shp, Method=isodata  Img=s1_unit_mean_  Band=['VV_gamma0_flatDB']\n",
      "Method 2 isodata Band=['VV_gamma0_flatDB', 'VH_gamma0_flatDB'],continue\n",
      "Generating URL ...\n",
      "Downloading data from https://earthengine.googleapis.com/v1/projects/earthengine-legacy/thumbnails/96991bd8ce0f45d74a604e4914bfa207-7bfef3a377aa188685d6e8fca9ffb91d:getPixels\n",
      "Please wait ...\n",
      "Data downloaded to /root/GEE/2019补齐结果/4739_Ascending_S1A_IW_GRDH_1SDV_20190721T115001_20190721T115026_028215_032FF3_B8E9.tif\n",
      "image save right\n",
      "change image bandNames\n",
      "Generating URL ...\n",
      "Downloading data from https://earthengine.googleapis.com/v1/projects/earthengine-legacy/thumbnails/383554c94d599cc8ae5b0559a2f3a222-925ad30494517204695ce3b2d214a7ac:getPixels\n",
      "Please wait ...\n",
      "Data downloaded to /root/GEE/2019补齐结果/4739_Descending_S1A_IW_GRDH_1SDV_20190716T234546_20190716T234605_028149_032DF1_6699.tif\n",
      "image save right\n",
      "change image bandNames\n",
      "Generating URL ...\n",
      "Downloading data from https://earthengine.googleapis.com/v1/projects/earthengine-legacy/thumbnails/bf20485d82d6b32e017cb88eeae306da-e66beb2e2f732d4b4f287ebf705c3a81:getPixels\n",
      "Please wait ...\n",
      "Data downloaded to /root/GEE/2019补齐结果/4739_s2a_sr_median.tif\n",
      "image save right\n",
      "change image bandNames\n",
      "Generating URL ...\n",
      "Downloading data from https://earthengine.googleapis.com/v1/projects/earthengine-legacy/thumbnails/75e8ba8f747c7520a5de666f395cf871-aadd1f32a4e0c4b0a2a6e69f7609aa2a:getPixels\n",
      "Please wait ...\n",
      "Data downloaded to /root/GEE/2019补齐结果/4739_s1_unit_mean_.tif\n",
      "image save right\n",
      "change image bandNames\n",
      "Generating URL ...\n",
      "Downloading data from https://earthengine.googleapis.com/v1/projects/earthengine-legacy/thumbnails/80d259e593e708a45db4da23cd6355b6-665c06d789c754edeaf34babb08f4f3c:getPixels\n",
      "Please wait ...\n",
      "Data downloaded to /root/GEE/2019补齐结果/4739_s1_unit_max_.tif\n",
      "image save right\n",
      "change image bandNames\n",
      "Generating URL ...\n",
      "Downloading data from https://earthengine.googleapis.com/v1/projects/earthengine-legacy/thumbnails/f0f8485ece4ab22bd9c249176669c94d-b818871fe69f920e77d74902e424bcf8:getPixels\n",
      "Please wait ...\n",
      "Data downloaded to /root/GEE/2019补齐结果/4739_s1_unit_min_.tif\n",
      "image save right\n",
      "change image bandNames\n",
      "Generating URL ...\n",
      "Downloading data from https://earthengine.googleapis.com/v1/projects/earthengine-legacy/thumbnails/e4eca5af6439f4821122e49c80d5591a-47adfb7c1fd03f10e621ee081d42b534:getPixels\n",
      "Please wait ...\n",
      "Data downloaded to /root/GEE/2019补齐结果/4739_DistortionAS1A_IW_GRDH_1SDV_20190721T115001_20190721T115026_028215_032FF3_B8E9.tif\n",
      "image save right\n",
      "change image bandNames\n",
      "Generating URL ...\n",
      "Downloading data from https://earthengine.googleapis.com/v1/projects/earthengine-legacy/thumbnails/31f7d842b43571d439c711b2471b8be5-7f12700987aab31d1c88edc861b210b3:getPixels\n",
      "Please wait ...\n",
      "Data downloaded to /root/GEE/2019补齐结果/4739_DistortionDS1A_IW_GRDH_1SDV_20190716T234546_20190716T234605_028149_032DF1_6699.tif\n",
      "image save right\n",
      "change image bandNames\n",
      "该函数运行了 202.82195 秒\n"
     ]
    },
    {
     "name": "stderr",
     "output_type": "stream",
     "text": [
      " 16%|#6        | 40/244 [1:52:35<9:43:50, 171.72s/it]"
     ]
    },
    {
     "name": "stdout",
     "output_type": "stream",
     "text": [
      "Begin Filter ...\n"
     ]
    },
    {
     "name": "stderr",
     "output_type": "stream",
     "text": [
      "\n",
      "100%|##########| 13/13 [00:00<00:00, 1672.68it/s]\n",
      "\n",
      "100%|##########| 13/13 [00:00<00:00, 686.47it/s]\n",
      "\n",
      "100%|##########| 14/14 [00:00<00:00, 1598.09it/s]\n",
      "\n",
      "100%|##########| 14/14 [00:00<00:00, 875.69it/s]\n"
     ]
    },
    {
     "name": "stdout",
     "output_type": "stream",
     "text": [
      "Method 1 Kmean Band=['VV_gamma0_flatDB'],continue\n",
      "Write csv and shp, Method=Kmean  Img=s1_unit_mean_  Band=['VV_gamma0_flatDB', 'VH_gamma0_flatDB']\n",
      "Method 1 SNIC_Kmean Band=['VV_gamma0_flatDB'],continue\n",
      "Write csv and shp, Method=SNIC_Kmean  Img=s1_unit_mean_  Band=['VV_gamma0_flatDB', 'VH_gamma0_flatDB']\n",
      "Write csv and shp, Method=SNIC_Kmean  Img=s1_unit_mean_  Band=['VV_gamma0_flatDB', 'VH_gamma0_flatDB']\n",
      "Method 1 Xmeans Band=['VV_gamma0_flatDB'],continue\n",
      "Write csv and shp, Method=Xmeans  Img=s1_unit_mean_  Band=['VV_gamma0_flatDB', 'VH_gamma0_flatDB']\n",
      "Method 1 CascadeKMeans Band=['VV_gamma0_flatDB'],continue\n",
      "Write csv and shp, Method=CascadeKMeans  Img=s1_unit_mean_  Band=['VV_gamma0_flatDB', 'VH_gamma0_flatDB']\n",
      "Threshould value is 0.4892578125\n",
      "Write csv and shp, Method=otsu  Img=s1_unit_mean_  Band=['VV_gamma0_flatDB']\n",
      "Method 2 otsu Band=['VV_gamma0_flatDB', 'VH_gamma0_flatDB'],continue\n"
     ]
    },
    {
     "name": "stderr",
     "output_type": "stream",
     "text": [
      "/root/GEE/Extract_algorithm.py:229: RuntimeWarning: invalid value encountered in divide\n",
      "  higher = (csum_intensity[-1] - csum_intensity[:-1]) / (csumh[:-1]+sys.float_info.min)\n"
     ]
    },
    {
     "name": "stdout",
     "output_type": "stream",
     "text": [
      "Threshould value is 0.4892578125\n",
      "Write csv and shp, Method=isodata  Img=s1_unit_mean_  Band=['VV_gamma0_flatDB']\n",
      "Method 2 isodata Band=['VV_gamma0_flatDB', 'VH_gamma0_flatDB'],continue\n",
      "该函数运行了 141.68332 秒\n"
     ]
    },
    {
     "name": "stderr",
     "output_type": "stream",
     "text": [
      " 17%|#6        | 41/244 [1:54:56<9:10:30, 162.71s/it]"
     ]
    },
    {
     "name": "stdout",
     "output_type": "stream",
     "text": [
      "Begin Filter ...\n"
     ]
    },
    {
     "name": "stderr",
     "output_type": "stream",
     "text": [
      "\n",
      "100%|##########| 15/15 [00:00<00:00, 1491.15it/s]\n",
      "\n",
      "100%|##########| 15/15 [00:00<00:00, 332.53it/s]\n",
      "\n",
      "100%|##########| 15/15 [00:00<00:00, 1390.07it/s]\n",
      "\n",
      "100%|##########| 15/15 [00:00<00:00, 405.20it/s]\n"
     ]
    },
    {
     "name": "stdout",
     "output_type": "stream",
     "text": [
      "Method 1 Kmean Band=['VV_gamma0_flatDB'],continue\n",
      "Write csv and shp, Method=Kmean  Img=s1_unit_mean_  Band=['VV_gamma0_flatDB', 'VH_gamma0_flatDB']\n",
      "Method 1 SNIC_Kmean Band=['VV_gamma0_flatDB'],continue\n",
      "Write csv and shp, Method=SNIC_Kmean  Img=s1_unit_mean_  Band=['VV_gamma0_flatDB', 'VH_gamma0_flatDB']\n",
      "Write csv and shp, Method=SNIC_Kmean  Img=s1_unit_mean_  Band=['VV_gamma0_flatDB', 'VH_gamma0_flatDB']\n",
      "Method 1 Xmeans Band=['VV_gamma0_flatDB'],continue\n",
      "Write csv and shp, Method=Xmeans  Img=s1_unit_mean_  Band=['VV_gamma0_flatDB', 'VH_gamma0_flatDB']\n",
      "Method 1 CascadeKMeans Band=['VV_gamma0_flatDB'],continue\n",
      "Write csv and shp, Method=CascadeKMeans  Img=s1_unit_mean_  Band=['VV_gamma0_flatDB', 'VH_gamma0_flatDB']\n",
      "Threshould value is 0.5497236047990169\n",
      "Write csv and shp, Method=otsu  Img=s1_unit_mean_  Band=['VV_gamma0_flatDB']\n",
      "Method 2 otsu Band=['VV_gamma0_flatDB', 'VH_gamma0_flatDB'],continue\n",
      "Threshould value is 0.5217966142955166\n",
      "Write csv and shp, Method=isodata  Img=s1_unit_mean_  Band=['VV_gamma0_flatDB']\n",
      "Method 2 isodata Band=['VV_gamma0_flatDB', 'VH_gamma0_flatDB'],continue\n",
      "该函数运行了 150.34728 秒\n"
     ]
    },
    {
     "name": "stderr",
     "output_type": "stream",
     "text": [
      " 17%|#7        | 42/244 [1:57:27<8:55:18, 159.00s/it]"
     ]
    },
    {
     "name": "stdout",
     "output_type": "stream",
     "text": [
      "Begin Filter ...\n"
     ]
    },
    {
     "name": "stderr",
     "output_type": "stream",
     "text": [
      "\n",
      "100%|##########| 16/16 [00:00<00:00, 1551.43it/s]\n",
      "\n",
      "100%|##########| 16/16 [00:00<00:00, 520.07it/s]\n",
      "\n",
      "100%|##########| 15/15 [00:00<00:00, 1788.72it/s]\n",
      "\n",
      "100%|##########| 15/15 [00:00<00:00, 456.63it/s]\n"
     ]
    },
    {
     "name": "stdout",
     "output_type": "stream",
     "text": [
      "Method 1 Kmean Band=['VV_gamma0_flatDB'],continue\n",
      "Write csv and shp, Method=Kmean  Img=s1_unit_mean_  Band=['VV_gamma0_flatDB', 'VH_gamma0_flatDB']\n",
      "Method 1 SNIC_Kmean Band=['VV_gamma0_flatDB'],continue\n",
      "Write csv and shp, Method=SNIC_Kmean  Img=s1_unit_mean_  Band=['VV_gamma0_flatDB', 'VH_gamma0_flatDB']\n",
      "Write csv and shp, Method=SNIC_Kmean  Img=s1_unit_mean_  Band=['VV_gamma0_flatDB', 'VH_gamma0_flatDB']\n",
      "Method 1 Xmeans Band=['VV_gamma0_flatDB'],continue\n",
      "Write csv and shp, Method=Xmeans  Img=s1_unit_mean_  Band=['VV_gamma0_flatDB', 'VH_gamma0_flatDB']\n",
      "Method 1 CascadeKMeans Band=['VV_gamma0_flatDB'],continue\n",
      "Write csv and shp, Method=CascadeKMeans  Img=s1_unit_mean_  Band=['VV_gamma0_flatDB', 'VH_gamma0_flatDB']\n",
      "Threshould value is 0.5107421875\n",
      "Write csv and shp, Method=otsu  Img=s1_unit_mean_  Band=['VV_gamma0_flatDB']\n",
      "Method 2 otsu Band=['VV_gamma0_flatDB', 'VH_gamma0_flatDB'],continue\n",
      "Threshould value is 0.5107421875\n",
      "Write csv and shp, Method=isodata  Img=s1_unit_mean_  Band=['VV_gamma0_flatDB']\n",
      "Method 2 isodata Band=['VV_gamma0_flatDB', 'VH_gamma0_flatDB'],continue\n",
      "Generating URL ...\n",
      "Downloading data from https://earthengine.googleapis.com/v1/projects/earthengine-legacy/thumbnails/28f5b0e95dcd5de41b7e8a4428767b99-60aec4d6d2fbe40c88f9b68d70824393:getPixels\n",
      "Please wait ...\n",
      "Data downloaded to /root/GEE/2019补齐结果/4742_Ascending_S1A_IW_GRDH_1SDV_20190714T115808_20190714T115833_028113_032CCD_1F8C.tif\n",
      "image save right\n",
      "change image bandNames\n",
      "Generating URL ...\n",
      "Downloading data from https://earthengine.googleapis.com/v1/projects/earthengine-legacy/thumbnails/02d0e12bce1261b37b4c1cc4007e479a-9a790171c0eb00201e320d72db8c51ec:getPixels\n",
      "Please wait ...\n",
      "Data downloaded to /root/GEE/2019补齐结果/4742_Descending_S1A_IW_GRDH_1SDV_20190721T235404_20190721T235429_028222_033027_8116.tif\n",
      "image save right\n",
      "change image bandNames\n",
      "Generating URL ...\n",
      "Downloading data from https://earthengine.googleapis.com/v1/projects/earthengine-legacy/thumbnails/389691ab6ef29ebb3b91dc47438acbce-e18733e61f6f6c3a9fb785c42b0a6a09:getPixels\n",
      "Please wait ...\n",
      "Data downloaded to /root/GEE/2019补齐结果/4742_s2a_sr_median.tif\n",
      "image save right\n",
      "change image bandNames\n",
      "Generating URL ...\n",
      "Downloading data from https://earthengine.googleapis.com/v1/projects/earthengine-legacy/thumbnails/6064a7836a62eac2c3c0e460d47bb968-1a67b320316297c3a66aaf5249404a72:getPixels\n",
      "Please wait ...\n",
      "Data downloaded to /root/GEE/2019补齐结果/4742_s1_unit_mean_.tif\n",
      "image save right\n",
      "change image bandNames\n",
      "Generating URL ...\n",
      "Downloading data from https://earthengine.googleapis.com/v1/projects/earthengine-legacy/thumbnails/bf294428bfc886b3019a09f5ad8627e1-ecde5cc217c829ed65e39030ca5cb3cf:getPixels\n",
      "Please wait ...\n",
      "Data downloaded to /root/GEE/2019补齐结果/4742_s1_unit_max_.tif\n",
      "image save right\n",
      "change image bandNames\n",
      "Generating URL ...\n",
      "Downloading data from https://earthengine.googleapis.com/v1/projects/earthengine-legacy/thumbnails/1d4c4ac49bc178243180141d38ae467c-2f48e6c9664ef39a2c556fce0ab22fcb:getPixels\n",
      "Please wait ...\n",
      "Data downloaded to /root/GEE/2019补齐结果/4742_s1_unit_min_.tif\n",
      "image save right\n",
      "change image bandNames\n",
      "Generating URL ...\n",
      "Downloading data from https://earthengine.googleapis.com/v1/projects/earthengine-legacy/thumbnails/efa3ecf409686499a06fd2a0eb45d4ee-0bfb78437f0122143f17bb8fa767ef53:getPixels\n",
      "Please wait ...\n",
      "Data downloaded to /root/GEE/2019补齐结果/4742_DistortionAS1A_IW_GRDH_1SDV_20190714T115808_20190714T115833_028113_032CCD_1F8C.tif\n",
      "image save right\n",
      "change image bandNames\n",
      "Generating URL ...\n",
      "Downloading data from https://earthengine.googleapis.com/v1/projects/earthengine-legacy/thumbnails/9edc86c92790ab18790556557d09e359-3ba382348a1f3da85c1651f08d59c03b:getPixels\n",
      "Please wait ...\n",
      "Data downloaded to /root/GEE/2019补齐结果/4742_DistortionDS1A_IW_GRDH_1SDV_20190721T235404_20190721T235429_028222_033027_8116.tif\n",
      "image save right\n",
      "change image bandNames\n",
      "该函数运行了 231.81098 秒\n"
     ]
    },
    {
     "name": "stderr",
     "output_type": "stream",
     "text": [
      " 18%|#7        | 43/244 [2:01:18<10:05:50, 180.85s/it]"
     ]
    },
    {
     "name": "stdout",
     "output_type": "stream",
     "text": [
      "Begin Filter ...\n"
     ]
    },
    {
     "name": "stderr",
     "output_type": "stream",
     "text": [
      "\n",
      "100%|##########| 22/22 [00:00<00:00, 2068.66it/s]\n",
      "\n",
      "100%|##########| 22/22 [00:00<00:00, 491.88it/s]\n",
      "\n",
      "100%|##########| 22/22 [00:00<00:00, 1979.00it/s]\n",
      "\n",
      "100%|##########| 22/22 [00:00<00:00, 449.34it/s]\n"
     ]
    },
    {
     "name": "stdout",
     "output_type": "stream",
     "text": [
      "Method 1 Kmean Band=['VV_gamma0_flatDB'],continue\n",
      "Write csv and shp, Method=Kmean  Img=s1_unit_mean_  Band=['VV_gamma0_flatDB', 'VH_gamma0_flatDB']\n",
      "Method 1 SNIC_Kmean Band=['VV_gamma0_flatDB'],continue\n",
      "Write csv and shp, Method=SNIC_Kmean  Img=s1_unit_mean_  Band=['VV_gamma0_flatDB', 'VH_gamma0_flatDB']\n",
      "Write csv and shp, Method=SNIC_Kmean  Img=s1_unit_mean_  Band=['VV_gamma0_flatDB', 'VH_gamma0_flatDB']\n",
      "Method 1 Xmeans Band=['VV_gamma0_flatDB'],continue\n",
      "Write csv and shp, Method=Xmeans  Img=s1_unit_mean_  Band=['VV_gamma0_flatDB', 'VH_gamma0_flatDB']\n",
      "Method 1 CascadeKMeans Band=['VV_gamma0_flatDB'],continue\n",
      "Write csv and shp, Method=CascadeKMeans  Img=s1_unit_mean_  Band=['VV_gamma0_flatDB', 'VH_gamma0_flatDB']\n",
      "Threshould value is 0.35250909136586256\n",
      "Write csv and shp, Method=otsu  Img=s1_unit_mean_  Band=['VV_gamma0_flatDB']\n",
      "Method 2 otsu Band=['VV_gamma0_flatDB', 'VH_gamma0_flatDB'],continue\n"
     ]
    },
    {
     "name": "stderr",
     "output_type": "stream",
     "text": [
      "/root/GEE/Extract_algorithm.py:229: RuntimeWarning: invalid value encountered in divide\n",
      "  higher = (csum_intensity[-1] - csum_intensity[:-1]) / (csumh[:-1]+sys.float_info.min)\n"
     ]
    },
    {
     "name": "stdout",
     "output_type": "stream",
     "text": [
      "Threshould value is 0.3549672497776859\n",
      "Write csv and shp, Method=isodata  Img=s1_unit_mean_  Band=['VV_gamma0_flatDB']\n",
      "Method 2 isodata Band=['VV_gamma0_flatDB', 'VH_gamma0_flatDB'],continue\n",
      "该函数运行了 137.53318 秒\n"
     ]
    },
    {
     "name": "stderr",
     "output_type": "stream",
     "text": [
      " 18%|#8        | 44/244 [2:03:36<9:19:30, 167.85s/it] "
     ]
    },
    {
     "name": "stdout",
     "output_type": "stream",
     "text": [
      "Begin Filter ...\n"
     ]
    },
    {
     "name": "stderr",
     "output_type": "stream",
     "text": [
      "\n",
      "100%|##########| 16/16 [00:00<00:00, 1821.53it/s]\n",
      "\n",
      "100%|##########| 16/16 [00:00<00:00, 422.99it/s]\n",
      "\n",
      "100%|##########| 16/16 [00:00<00:00, 1869.64it/s]\n",
      "\n",
      "100%|##########| 16/16 [00:00<00:00, 337.77it/s]\n"
     ]
    },
    {
     "name": "stdout",
     "output_type": "stream",
     "text": [
      "Method 1 Kmean Band=['VV_gamma0_flatDB'],continue\n",
      "Write csv and shp, Method=Kmean  Img=s1_unit_mean_  Band=['VV_gamma0_flatDB', 'VH_gamma0_flatDB']\n",
      "Method 1 SNIC_Kmean Band=['VV_gamma0_flatDB'],continue\n",
      "Write csv and shp, Method=SNIC_Kmean  Img=s1_unit_mean_  Band=['VV_gamma0_flatDB', 'VH_gamma0_flatDB']\n",
      "Write csv and shp, Method=SNIC_Kmean  Img=s1_unit_mean_  Band=['VV_gamma0_flatDB', 'VH_gamma0_flatDB']\n",
      "Method 1 Xmeans Band=['VV_gamma0_flatDB'],continue\n",
      "Write csv and shp, Method=Xmeans  Img=s1_unit_mean_  Band=['VV_gamma0_flatDB', 'VH_gamma0_flatDB']\n",
      "Method 1 CascadeKMeans Band=['VV_gamma0_flatDB'],continue\n",
      "Write csv and shp, Method=CascadeKMeans  Img=s1_unit_mean_  Band=['VV_gamma0_flatDB', 'VH_gamma0_flatDB']\n",
      "Threshould value is 0.4912109375\n",
      "Write csv and shp, Method=otsu  Img=s1_unit_mean_  Band=['VV_gamma0_flatDB']\n",
      "Method 2 otsu Band=['VV_gamma0_flatDB', 'VH_gamma0_flatDB'],continue\n",
      "Threshould value is 0.4890459092575285\n",
      "Write csv and shp, Method=isodata  Img=s1_unit_mean_  Band=['VV_gamma0_flatDB']\n",
      "Method 2 isodata Band=['VV_gamma0_flatDB', 'VH_gamma0_flatDB'],continue\n",
      "该函数运行了 122.22096 秒\n"
     ]
    },
    {
     "name": "stderr",
     "output_type": "stream",
     "text": [
      " 18%|#8        | 45/244 [2:05:38<8:31:18, 154.16s/it]"
     ]
    },
    {
     "name": "stdout",
     "output_type": "stream",
     "text": [
      "Begin Filter ...\n"
     ]
    },
    {
     "name": "stderr",
     "output_type": "stream",
     "text": [
      "\n",
      "100%|##########| 17/17 [00:00<00:00, 1934.38it/s]\n",
      "\n",
      "100%|##########| 17/17 [00:00<00:00, 465.34it/s]\n",
      "\n",
      "100%|##########| 16/16 [00:00<00:00, 1567.78it/s]\n",
      "\n",
      "100%|##########| 16/16 [00:00<00:00, 426.55it/s]\n"
     ]
    },
    {
     "name": "stdout",
     "output_type": "stream",
     "text": [
      "Method 1 Kmean Band=['VV_gamma0_flatDB'],continue\n",
      "Write csv and shp, Method=Kmean  Img=s1_unit_mean_  Band=['VV_gamma0_flatDB', 'VH_gamma0_flatDB']\n",
      "Method 1 SNIC_Kmean Band=['VV_gamma0_flatDB'],continue\n",
      "Write csv and shp, Method=SNIC_Kmean  Img=s1_unit_mean_  Band=['VV_gamma0_flatDB', 'VH_gamma0_flatDB']\n",
      "Write csv and shp, Method=SNIC_Kmean  Img=s1_unit_mean_  Band=['VV_gamma0_flatDB', 'VH_gamma0_flatDB']\n",
      "Method 1 Xmeans Band=['VV_gamma0_flatDB'],continue\n",
      "Write csv and shp, Method=Xmeans  Img=s1_unit_mean_  Band=['VV_gamma0_flatDB', 'VH_gamma0_flatDB']\n",
      "Method 1 CascadeKMeans Band=['VV_gamma0_flatDB'],continue\n",
      "Write csv and shp, Method=CascadeKMeans  Img=s1_unit_mean_  Band=['VV_gamma0_flatDB', 'VH_gamma0_flatDB']\n",
      "Threshould value is 0.4385622463530776\n",
      "Write csv and shp, Method=otsu  Img=s1_unit_mean_  Band=['VV_gamma0_flatDB']\n",
      "Method 2 otsu Band=['VV_gamma0_flatDB', 'VH_gamma0_flatDB'],continue\n"
     ]
    },
    {
     "name": "stderr",
     "output_type": "stream",
     "text": [
      "/root/GEE/Extract_algorithm.py:229: RuntimeWarning: invalid value encountered in divide\n",
      "  higher = (csum_intensity[-1] - csum_intensity[:-1]) / (csumh[:-1]+sys.float_info.min)\n"
     ]
    },
    {
     "name": "stdout",
     "output_type": "stream",
     "text": [
      "Threshould value is 0.4423828125\n",
      "Write csv and shp, Method=isodata  Img=s1_unit_mean_  Band=['VV_gamma0_flatDB']\n",
      "Method 2 isodata Band=['VV_gamma0_flatDB', 'VH_gamma0_flatDB'],continue\n",
      "该函数运行了 126.07957 秒\n"
     ]
    },
    {
     "name": "stderr",
     "output_type": "stream",
     "text": [
      " 19%|#8        | 46/244 [2:07:44<8:00:56, 145.74s/it]"
     ]
    },
    {
     "name": "stdout",
     "output_type": "stream",
     "text": [
      "Begin Filter ...\n"
     ]
    },
    {
     "name": "stderr",
     "output_type": "stream",
     "text": [
      "\n",
      "100%|##########| 11/11 [00:00<00:00, 1804.92it/s]\n",
      "\n",
      "100%|##########| 11/11 [00:00<00:00, 616.06it/s]\n",
      "\n",
      "100%|##########| 11/11 [00:00<00:00, 1823.83it/s]\n",
      "\n",
      "100%|##########| 11/11 [00:00<00:00, 577.20it/s]\n"
     ]
    },
    {
     "name": "stdout",
     "output_type": "stream",
     "text": [
      "Method 1 Kmean Band=['VV_gamma0_flatDB'],continue\n",
      "Write csv and shp, Method=Kmean  Img=s1_unit_mean_  Band=['VV_gamma0_flatDB', 'VH_gamma0_flatDB']\n",
      "Method 1 SNIC_Kmean Band=['VV_gamma0_flatDB'],continue\n",
      "Write csv and shp, Method=SNIC_Kmean  Img=s1_unit_mean_  Band=['VV_gamma0_flatDB', 'VH_gamma0_flatDB']\n",
      "Write csv and shp, Method=SNIC_Kmean  Img=s1_unit_mean_  Band=['VV_gamma0_flatDB', 'VH_gamma0_flatDB']\n",
      "Method 1 Xmeans Band=['VV_gamma0_flatDB'],continue\n",
      "Write csv and shp, Method=Xmeans  Img=s1_unit_mean_  Band=['VV_gamma0_flatDB', 'VH_gamma0_flatDB']\n",
      "Method 1 CascadeKMeans Band=['VV_gamma0_flatDB'],continue\n",
      "Write csv and shp, Method=CascadeKMeans  Img=s1_unit_mean_  Band=['VV_gamma0_flatDB', 'VH_gamma0_flatDB']\n",
      "Threshould value is 0.48736764640433217\n",
      "Write csv and shp, Method=otsu  Img=s1_unit_mean_  Band=['VV_gamma0_flatDB']\n",
      "Method 2 otsu Band=['VV_gamma0_flatDB', 'VH_gamma0_flatDB'],continue\n",
      "Threshould value is 0.48368077091434797\n",
      "Write csv and shp, Method=isodata  Img=s1_unit_mean_  Band=['VV_gamma0_flatDB']\n",
      "Method 2 isodata Band=['VV_gamma0_flatDB', 'VH_gamma0_flatDB'],continue\n",
      "Generating URL ...\n",
      "Downloading data from https://earthengine.googleapis.com/v1/projects/earthengine-legacy/thumbnails/df80ce78fc192e6cf814a22dcfe326fe-f0c3b90566189a30bd091e3551ff4603:getPixels\n",
      "Please wait ...\n",
      "Data downloaded to /root/GEE/2019补齐结果/4746_Ascending_S1A_IW_GRDH_1SDV_20190721T115001_20190721T115026_028215_032FF3_B8E9.tif\n",
      "image save right\n",
      "change image bandNames\n",
      "Generating URL ...\n",
      "Downloading data from https://earthengine.googleapis.com/v1/projects/earthengine-legacy/thumbnails/84c1febcbfa79dcd5171713e0d0921f1-9cd70c81c286d6951392143aac31bd59:getPixels\n",
      "Please wait ...\n",
      "Data downloaded to /root/GEE/2019补齐结果/4746_Descending_S1A_IW_GRDH_1SDV_20190809T234548_20190809T234613_028499_0338B5_5AC1.tif\n",
      "image save right\n",
      "change image bandNames\n",
      "Generating URL ...\n",
      "Downloading data from https://earthengine.googleapis.com/v1/projects/earthengine-legacy/thumbnails/1f8685cc78ac91ad185777e0a52b69da-5eb6236f6552281221dfdbfb72ab09ce:getPixels\n",
      "Please wait ...\n",
      "Data downloaded to /root/GEE/2019补齐结果/4746_s2a_sr_median.tif\n",
      "image save right\n",
      "change image bandNames\n",
      "Generating URL ...\n",
      "Downloading data from https://earthengine.googleapis.com/v1/projects/earthengine-legacy/thumbnails/8324fb4d20222f31be70a451d3199e56-7bc1615af5552c4f535bd1dd08970b29:getPixels\n",
      "Please wait ...\n",
      "Data downloaded to /root/GEE/2019补齐结果/4746_s1_unit_mean_.tif\n",
      "image save right\n",
      "change image bandNames\n",
      "Generating URL ...\n",
      "Downloading data from https://earthengine.googleapis.com/v1/projects/earthengine-legacy/thumbnails/723402e9158d47f7717fce78edad40ad-94456249a4cc0764aaaf23b8b0f61b92:getPixels\n",
      "Please wait ...\n",
      "Data downloaded to /root/GEE/2019补齐结果/4746_s1_unit_max_.tif\n",
      "image save right\n",
      "change image bandNames\n",
      "Generating URL ...\n",
      "Downloading data from https://earthengine.googleapis.com/v1/projects/earthengine-legacy/thumbnails/b30b1dbc895a0807106168906b393798-c5d70e98406677db151f003e1ba4cbaf:getPixels\n",
      "Please wait ...\n",
      "Data downloaded to /root/GEE/2019补齐结果/4746_s1_unit_min_.tif\n",
      "image save right\n",
      "change image bandNames\n",
      "Generating URL ...\n",
      "Downloading data from https://earthengine.googleapis.com/v1/projects/earthengine-legacy/thumbnails/0b6c5df32a413080f5776bc3565b2b47-8a0232ad191e3e5ba5a902f3792a61d5:getPixels\n",
      "Please wait ...\n",
      "Data downloaded to /root/GEE/2019补齐结果/4746_DistortionAS1A_IW_GRDH_1SDV_20190721T115001_20190721T115026_028215_032FF3_B8E9.tif\n",
      "image save right\n",
      "change image bandNames\n",
      "Generating URL ...\n",
      "Downloading data from https://earthengine.googleapis.com/v1/projects/earthengine-legacy/thumbnails/612b9d0aa3a99f90d13af68fcb83ad50-c7d5f36b3cacf0b3b3913fe11235458b:getPixels\n",
      "Please wait ...\n",
      "Data downloaded to /root/GEE/2019补齐结果/4746_DistortionDS1A_IW_GRDH_1SDV_20190809T234548_20190809T234613_028499_0338B5_5AC1.tif\n",
      "image save right\n",
      "change image bandNames\n",
      "该函数运行了 194.23198 秒\n"
     ]
    },
    {
     "name": "stderr",
     "output_type": "stream",
     "text": [
      " 19%|#9        | 47/244 [2:10:59<8:46:17, 160.29s/it]"
     ]
    },
    {
     "name": "stdout",
     "output_type": "stream",
     "text": [
      "Begin Filter ...\n"
     ]
    },
    {
     "name": "stderr",
     "output_type": "stream",
     "text": [
      "\n",
      "100%|##########| 15/15 [00:00<00:00, 1788.62it/s]\n",
      "\n",
      "100%|##########| 15/15 [00:00<00:00, 412.29it/s]\n",
      "\n",
      "100%|##########| 14/14 [00:00<00:00, 1735.80it/s]\n",
      "\n",
      "100%|##########| 14/14 [00:00<00:00, 317.69it/s]\n"
     ]
    },
    {
     "name": "stdout",
     "output_type": "stream",
     "text": [
      "Method 1 Kmean Band=['VV_gamma0_flatDB'],continue\n",
      "Write csv and shp, Method=Kmean  Img=s1_unit_mean_  Band=['VV_gamma0_flatDB', 'VH_gamma0_flatDB']\n",
      "Method 1 SNIC_Kmean Band=['VV_gamma0_flatDB'],continue\n",
      "Write csv and shp, Method=SNIC_Kmean  Img=s1_unit_mean_  Band=['VV_gamma0_flatDB', 'VH_gamma0_flatDB']\n",
      "Write csv and shp, Method=SNIC_Kmean  Img=s1_unit_mean_  Band=['VV_gamma0_flatDB', 'VH_gamma0_flatDB']\n",
      "Method 1 Xmeans Band=['VV_gamma0_flatDB'],continue\n",
      "Write csv and shp, Method=Xmeans  Img=s1_unit_mean_  Band=['VV_gamma0_flatDB', 'VH_gamma0_flatDB']\n",
      "Method 1 CascadeKMeans Band=['VV_gamma0_flatDB'],continue\n",
      "Write csv and shp, Method=CascadeKMeans  Img=s1_unit_mean_  Band=['VV_gamma0_flatDB', 'VH_gamma0_flatDB']\n",
      "Threshould value is 0.5283203125\n",
      "Write csv and shp, Method=otsu  Img=s1_unit_mean_  Band=['VV_gamma0_flatDB']\n",
      "Method 2 otsu Band=['VV_gamma0_flatDB', 'VH_gamma0_flatDB'],continue\n",
      "Threshould value is 0.524541898968886\n",
      "Write csv and shp, Method=isodata  Img=s1_unit_mean_  Band=['VV_gamma0_flatDB']\n",
      "Method 2 isodata Band=['VV_gamma0_flatDB', 'VH_gamma0_flatDB'],continue\n",
      "该函数运行了 128.97969 秒\n"
     ]
    },
    {
     "name": "stderr",
     "output_type": "stream",
     "text": [
      " 20%|#9        | 48/244 [2:13:08<8:12:55, 150.90s/it]"
     ]
    },
    {
     "name": "stdout",
     "output_type": "stream",
     "text": [
      "Begin Filter ...\n"
     ]
    },
    {
     "name": "stderr",
     "output_type": "stream",
     "text": [
      "\n",
      "100%|##########| 12/12 [00:00<00:00, 1678.73it/s]\n",
      "\n",
      "100%|##########| 12/12 [00:00<00:00, 559.36it/s]\n",
      "\n",
      "100%|##########| 12/12 [00:00<00:00, 1626.54it/s]\n",
      "\n",
      "100%|##########| 12/12 [00:00<00:00, 569.41it/s]\n"
     ]
    },
    {
     "name": "stdout",
     "output_type": "stream",
     "text": [
      "Method 1 Kmean Band=['VV_gamma0_flatDB'],continue\n",
      "Write csv and shp, Method=Kmean  Img=s1_unit_mean_  Band=['VV_gamma0_flatDB', 'VH_gamma0_flatDB']\n",
      "Method 1 SNIC_Kmean Band=['VV_gamma0_flatDB'],continue\n",
      "Write csv and shp, Method=SNIC_Kmean  Img=s1_unit_mean_  Band=['VV_gamma0_flatDB', 'VH_gamma0_flatDB']\n",
      "Write csv and shp, Method=SNIC_Kmean  Img=s1_unit_mean_  Band=['VV_gamma0_flatDB', 'VH_gamma0_flatDB']\n",
      "Method 1 Xmeans Band=['VV_gamma0_flatDB'],continue\n",
      "Write csv and shp, Method=Xmeans  Img=s1_unit_mean_  Band=['VV_gamma0_flatDB', 'VH_gamma0_flatDB']\n",
      "Method 1 CascadeKMeans Band=['VV_gamma0_flatDB'],continue\n",
      "Write csv and shp, Method=CascadeKMeans  Img=s1_unit_mean_  Band=['VV_gamma0_flatDB', 'VH_gamma0_flatDB']\n",
      "Threshould value is 0.3719088091012334\n",
      "Write csv and shp, Method=otsu  Img=s1_unit_mean_  Band=['VV_gamma0_flatDB']\n",
      "Method 2 otsu Band=['VV_gamma0_flatDB', 'VH_gamma0_flatDB'],continue\n"
     ]
    },
    {
     "name": "stderr",
     "output_type": "stream",
     "text": [
      "/root/GEE/Extract_algorithm.py:229: RuntimeWarning: invalid value encountered in divide\n",
      "  higher = (csum_intensity[-1] - csum_intensity[:-1]) / (csumh[:-1]+sys.float_info.min)\n"
     ]
    },
    {
     "name": "stdout",
     "output_type": "stream",
     "text": [
      "Threshould value is 0.37465627537375384\n",
      "Write csv and shp, Method=isodata  Img=s1_unit_mean_  Band=['VV_gamma0_flatDB']\n",
      "Method 2 isodata Band=['VV_gamma0_flatDB', 'VH_gamma0_flatDB'],continue\n",
      "该函数运行了 132.36264 秒\n"
     ]
    },
    {
     "name": "stderr",
     "output_type": "stream",
     "text": [
      " 20%|##        | 49/244 [2:15:20<7:52:20, 145.34s/it]"
     ]
    },
    {
     "name": "stdout",
     "output_type": "stream",
     "text": [
      "Begin Filter ...\n"
     ]
    },
    {
     "name": "stderr",
     "output_type": "stream",
     "text": [
      "\n",
      "100%|##########| 11/11 [00:00<00:00, 1603.10it/s]\n",
      "\n",
      "100%|##########| 11/11 [00:00<00:00, 517.74it/s]\n",
      "\n",
      "100%|##########| 11/11 [00:00<00:00, 1459.67it/s]\n",
      "\n",
      "100%|##########| 11/11 [00:00<00:00, 611.87it/s]\n"
     ]
    },
    {
     "name": "stdout",
     "output_type": "stream",
     "text": [
      "Method 1 Kmean Band=['VV_gamma0_flatDB'],continue\n",
      "Write csv and shp, Method=Kmean  Img=s1_unit_mean_  Band=['VV_gamma0_flatDB', 'VH_gamma0_flatDB']\n",
      "Method 1 SNIC_Kmean Band=['VV_gamma0_flatDB'],continue\n",
      "Write csv and shp, Method=SNIC_Kmean  Img=s1_unit_mean_  Band=['VV_gamma0_flatDB', 'VH_gamma0_flatDB']\n",
      "Write csv and shp, Method=SNIC_Kmean  Img=s1_unit_mean_  Band=['VV_gamma0_flatDB', 'VH_gamma0_flatDB']\n",
      "Method 1 Xmeans Band=['VV_gamma0_flatDB'],continue\n",
      "Write csv and shp, Method=Xmeans  Img=s1_unit_mean_  Band=['VV_gamma0_flatDB', 'VH_gamma0_flatDB']\n",
      "Method 1 CascadeKMeans Band=['VV_gamma0_flatDB'],continue\n",
      "Write csv and shp, Method=CascadeKMeans  Img=s1_unit_mean_  Band=['VV_gamma0_flatDB', 'VH_gamma0_flatDB']\n",
      "Threshould value is 0.5478515625\n",
      "Write csv and shp, Method=otsu  Img=s1_unit_mean_  Band=['VV_gamma0_flatDB']\n",
      "Method 2 otsu Band=['VV_gamma0_flatDB', 'VH_gamma0_flatDB'],continue\n"
     ]
    },
    {
     "name": "stderr",
     "output_type": "stream",
     "text": [
      "/root/GEE/Extract_algorithm.py:229: RuntimeWarning: invalid value encountered in divide\n",
      "  higher = (csum_intensity[-1] - csum_intensity[:-1]) / (csumh[:-1]+sys.float_info.min)\n"
     ]
    },
    {
     "name": "stdout",
     "output_type": "stream",
     "text": [
      "Threshould value is 0.5458984375\n",
      "Write csv and shp, Method=isodata  Img=s1_unit_mean_  Band=['VV_gamma0_flatDB']\n",
      "Method 2 isodata Band=['VV_gamma0_flatDB', 'VH_gamma0_flatDB'],continue\n",
      "Generating URL ...\n",
      "Downloading data from https://earthengine.googleapis.com/v1/projects/earthengine-legacy/thumbnails/8e16d6ae222f34a8a666c2b4fe4ea152-37f5eb96f9ff8162afc522f4bb9f64e0:getPixels\n",
      "Please wait ...\n",
      "Data downloaded to /root/GEE/2019补齐结果/4749_Ascending_S1A_IW_GRDH_1SDV_20190721T115001_20190721T115026_028215_032FF3_B8E9.tif\n",
      "image save right\n",
      "change image bandNames\n",
      "Generating URL ...\n",
      "Downloading data from https://earthengine.googleapis.com/v1/projects/earthengine-legacy/thumbnails/4c2d44d0dc5b079388dc379d84498702-bba783b74efb538753b6ff6d7bf90bf8:getPixels\n",
      "Please wait ...\n",
      "Data downloaded to /root/GEE/2019补齐结果/4749_Descending_S1A_IW_GRDH_1SDV_20190716T234546_20190716T234605_028149_032DF1_6699.tif\n",
      "image save right\n",
      "change image bandNames\n",
      "Generating URL ...\n",
      "Downloading data from https://earthengine.googleapis.com/v1/projects/earthengine-legacy/thumbnails/678bf8572e53f3ef95b55b5fb485acdb-93871f71d2ea90aa2ff6cb4e6141a083:getPixels\n",
      "Please wait ...\n",
      "Data downloaded to /root/GEE/2019补齐结果/4749_s2a_sr_median.tif\n",
      "image save right\n",
      "change image bandNames\n",
      "Generating URL ...\n",
      "Downloading data from https://earthengine.googleapis.com/v1/projects/earthengine-legacy/thumbnails/60dcbaacf6c3d84936554202039ebdd6-4163eb2619d3b691ed76a17263e544d5:getPixels\n",
      "Please wait ...\n",
      "Data downloaded to /root/GEE/2019补齐结果/4749_s1_unit_mean_.tif\n",
      "image save right\n",
      "change image bandNames\n",
      "Generating URL ...\n",
      "Downloading data from https://earthengine.googleapis.com/v1/projects/earthengine-legacy/thumbnails/cff008d279ea244b522ffd03ff39ee27-55937bc9260c6e9b0a7aa03e713a062c:getPixels\n",
      "Please wait ...\n",
      "Data downloaded to /root/GEE/2019补齐结果/4749_s1_unit_max_.tif\n",
      "image save right\n",
      "change image bandNames\n",
      "Generating URL ...\n",
      "Downloading data from https://earthengine.googleapis.com/v1/projects/earthengine-legacy/thumbnails/32cd5f01bc8302aa32cf39fbb2733931-5c07851becb8d0d9815a3c0e7d7a4902:getPixels\n",
      "Please wait ...\n",
      "Data downloaded to /root/GEE/2019补齐结果/4749_s1_unit_min_.tif\n",
      "image save right\n",
      "change image bandNames\n",
      "Generating URL ...\n",
      "Downloading data from https://earthengine.googleapis.com/v1/projects/earthengine-legacy/thumbnails/de5f0b1d5da2df9b4f302e93b79d0871-2138af5e57d178eb48c9cb6004e4ac96:getPixels\n",
      "Please wait ...\n",
      "Data downloaded to /root/GEE/2019补齐结果/4749_DistortionAS1A_IW_GRDH_1SDV_20190721T115001_20190721T115026_028215_032FF3_B8E9.tif\n",
      "image save right\n",
      "change image bandNames\n",
      "Generating URL ...\n",
      "Downloading data from https://earthengine.googleapis.com/v1/projects/earthengine-legacy/thumbnails/54f33ec4e311a810bd7ed7eb0be8f2a2-18db8c1397ad90933ed46288b84700fb:getPixels\n",
      "Please wait ...\n",
      "Data downloaded to /root/GEE/2019补齐结果/4749_DistortionDS1A_IW_GRDH_1SDV_20190716T234546_20190716T234605_028149_032DF1_6699.tif\n",
      "image save right\n",
      "change image bandNames\n",
      "该函数运行了 215.00208 秒\n"
     ]
    },
    {
     "name": "stderr",
     "output_type": "stream",
     "text": [
      " 20%|##        | 50/244 [2:18:55<8:57:30, 166.24s/it]"
     ]
    },
    {
     "name": "stdout",
     "output_type": "stream",
     "text": [
      "Begin Filter ...\n"
     ]
    },
    {
     "name": "stderr",
     "output_type": "stream",
     "text": [
      "\n",
      "100%|##########| 19/19 [00:00<00:00, 1531.24it/s]\n",
      "\n",
      "100%|##########| 19/19 [00:00<00:00, 357.13it/s]\n",
      "\n",
      "100%|##########| 18/18 [00:00<00:00, 2039.31it/s]\n",
      "\n",
      "100%|##########| 18/18 [00:00<00:00, 304.50it/s]\n"
     ]
    },
    {
     "name": "stdout",
     "output_type": "stream",
     "text": [
      "Method 1 Kmean Band=['VV_gamma0_flatDB'],continue\n",
      "Write csv and shp, Method=Kmean  Img=s1_unit_mean_  Band=['VV_gamma0_flatDB', 'VH_gamma0_flatDB']\n",
      "Method 1 SNIC_Kmean Band=['VV_gamma0_flatDB'],continue\n",
      "Write csv and shp, Method=SNIC_Kmean  Img=s1_unit_mean_  Band=['VV_gamma0_flatDB', 'VH_gamma0_flatDB']\n",
      "Write csv and shp, Method=SNIC_Kmean  Img=s1_unit_mean_  Band=['VV_gamma0_flatDB', 'VH_gamma0_flatDB']\n",
      "Method 1 Xmeans Band=['VV_gamma0_flatDB'],continue\n",
      "Write csv and shp, Method=Xmeans  Img=s1_unit_mean_  Band=['VV_gamma0_flatDB', 'VH_gamma0_flatDB']\n",
      "Method 1 CascadeKMeans Band=['VV_gamma0_flatDB'],continue\n",
      "Write csv and shp, Method=CascadeKMeans  Img=s1_unit_mean_  Band=['VV_gamma0_flatDB', 'VH_gamma0_flatDB']\n",
      "Threshould value is 0.479379320928013\n",
      "Write csv and shp, Method=otsu  Img=s1_unit_mean_  Band=['VV_gamma0_flatDB']\n",
      "Method 2 otsu Band=['VV_gamma0_flatDB', 'VH_gamma0_flatDB'],continue\n"
     ]
    },
    {
     "name": "stderr",
     "output_type": "stream",
     "text": [
      "/root/GEE/Extract_algorithm.py:229: RuntimeWarning: invalid value encountered in divide\n",
      "  higher = (csum_intensity[-1] - csum_intensity[:-1]) / (csumh[:-1]+sys.float_info.min)\n"
     ]
    },
    {
     "name": "stdout",
     "output_type": "stream",
     "text": [
      "Threshould value is 0.48492188165486544\n",
      "Write csv and shp, Method=isodata  Img=s1_unit_mean_  Band=['VV_gamma0_flatDB']\n",
      "Method 2 isodata Band=['VV_gamma0_flatDB', 'VH_gamma0_flatDB'],continue\n",
      "该函数运行了 127.92215 秒\n"
     ]
    },
    {
     "name": "stderr",
     "output_type": "stream",
     "text": [
      " 21%|##        | 51/244 [2:21:03<8:17:45, 154.74s/it]"
     ]
    },
    {
     "name": "stdout",
     "output_type": "stream",
     "text": [
      "Begin Filter ...\n"
     ]
    },
    {
     "name": "stderr",
     "output_type": "stream",
     "text": [
      "\n",
      "100%|##########| 16/16 [00:00<00:00, 1766.86it/s]\n",
      "\n",
      "100%|##########| 16/16 [00:00<00:00, 501.62it/s]\n",
      "\n",
      "100%|##########| 17/17 [00:00<00:00, 1895.96it/s]\n",
      "\n",
      "100%|##########| 17/17 [00:00<00:00, 530.42it/s]\n"
     ]
    },
    {
     "name": "stdout",
     "output_type": "stream",
     "text": [
      "Method 1 Kmean Band=['VV_gamma0_flatDB'],continue\n",
      "Write csv and shp, Method=Kmean  Img=s1_unit_mean_  Band=['VV_gamma0_flatDB', 'VH_gamma0_flatDB']\n",
      "Method 1 SNIC_Kmean Band=['VV_gamma0_flatDB'],continue\n",
      "Write csv and shp, Method=SNIC_Kmean  Img=s1_unit_mean_  Band=['VV_gamma0_flatDB', 'VH_gamma0_flatDB']\n",
      "Write csv and shp, Method=SNIC_Kmean  Img=s1_unit_mean_  Band=['VV_gamma0_flatDB', 'VH_gamma0_flatDB']\n",
      "Method 1 Xmeans Band=['VV_gamma0_flatDB'],continue\n",
      "Write csv and shp, Method=Xmeans  Img=s1_unit_mean_  Band=['VV_gamma0_flatDB', 'VH_gamma0_flatDB']\n",
      "Method 1 CascadeKMeans Band=['VV_gamma0_flatDB'],continue\n",
      "Write csv and shp, Method=CascadeKMeans  Img=s1_unit_mean_  Band=['VV_gamma0_flatDB', 'VH_gamma0_flatDB']\n",
      "Threshould value is 0.4856674622193211\n",
      "Write csv and shp, Method=otsu  Img=s1_unit_mean_  Band=['VV_gamma0_flatDB']\n",
      "Method 2 otsu Band=['VV_gamma0_flatDB', 'VH_gamma0_flatDB'],continue\n"
     ]
    },
    {
     "name": "stderr",
     "output_type": "stream",
     "text": [
      "/root/GEE/Extract_algorithm.py:229: RuntimeWarning: invalid value encountered in divide\n",
      "  higher = (csum_intensity[-1] - csum_intensity[:-1]) / (csumh[:-1]+sys.float_info.min)\n"
     ]
    },
    {
     "name": "stdout",
     "output_type": "stream",
     "text": [
      "Threshould value is 0.48823215147778554\n",
      "Write csv and shp, Method=isodata  Img=s1_unit_mean_  Band=['VV_gamma0_flatDB']\n",
      "Method 2 isodata Band=['VV_gamma0_flatDB', 'VH_gamma0_flatDB'],continue\n",
      "该函数运行了 129.95509 秒\n"
     ]
    },
    {
     "name": "stderr",
     "output_type": "stream",
     "text": [
      " 21%|##1       | 52/244 [2:23:13<7:51:23, 147.31s/it]"
     ]
    },
    {
     "name": "stdout",
     "output_type": "stream",
     "text": [
      "Begin Filter ...\n"
     ]
    },
    {
     "name": "stderr",
     "output_type": "stream",
     "text": [
      "\n",
      "100%|##########| 13/13 [00:00<00:00, 1706.34it/s]\n",
      "\n",
      "100%|##########| 13/13 [00:00<00:00, 387.24it/s]\n",
      "\n",
      "100%|##########| 13/13 [00:00<00:00, 1282.69it/s]\n",
      "\n",
      "100%|##########| 13/13 [00:00<00:00, 562.15it/s]\n"
     ]
    },
    {
     "name": "stdout",
     "output_type": "stream",
     "text": [
      "Method 1 Kmean Band=['VV_gamma0_flatDB'],continue\n",
      "Write csv and shp, Method=Kmean  Img=s1_unit_mean_  Band=['VV_gamma0_flatDB', 'VH_gamma0_flatDB']\n",
      "Method 1 SNIC_Kmean Band=['VV_gamma0_flatDB'],continue\n",
      "Write csv and shp, Method=SNIC_Kmean  Img=s1_unit_mean_  Band=['VV_gamma0_flatDB', 'VH_gamma0_flatDB']\n",
      "Write csv and shp, Method=SNIC_Kmean  Img=s1_unit_mean_  Band=['VV_gamma0_flatDB', 'VH_gamma0_flatDB']\n",
      "Method 1 Xmeans Band=['VV_gamma0_flatDB'],continue\n",
      "Write csv and shp, Method=Xmeans  Img=s1_unit_mean_  Band=['VV_gamma0_flatDB', 'VH_gamma0_flatDB']\n",
      "Method 1 CascadeKMeans Band=['VV_gamma0_flatDB'],continue\n",
      "Write csv and shp, Method=CascadeKMeans  Img=s1_unit_mean_  Band=['VV_gamma0_flatDB', 'VH_gamma0_flatDB']\n",
      "Threshould value is 0.5737645927626228\n",
      "Write csv and shp, Method=otsu  Img=s1_unit_mean_  Band=['VV_gamma0_flatDB']\n",
      "Method 2 otsu Band=['VV_gamma0_flatDB', 'VH_gamma0_flatDB'],continue\n",
      "Threshould value is 0.5737645927626228\n",
      "Write csv and shp, Method=isodata  Img=s1_unit_mean_  Band=['VV_gamma0_flatDB']\n",
      "Method 2 isodata Band=['VV_gamma0_flatDB', 'VH_gamma0_flatDB'],continue\n",
      "该函数运行了 129.36676 秒\n"
     ]
    },
    {
     "name": "stderr",
     "output_type": "stream",
     "text": [
      " 22%|##1       | 53/244 [2:25:22<7:31:48, 141.93s/it]"
     ]
    },
    {
     "name": "stdout",
     "output_type": "stream",
     "text": [
      "Begin Filter ...\n"
     ]
    },
    {
     "name": "stderr",
     "output_type": "stream",
     "text": [
      "\n",
      "100%|##########| 14/14 [00:00<00:00, 1677.96it/s]\n",
      "\n",
      "100%|##########| 14/14 [00:00<00:00, 569.09it/s]\n",
      "\n",
      "100%|##########| 14/14 [00:00<00:00, 1845.56it/s]\n",
      "\n",
      "100%|##########| 14/14 [00:00<00:00, 532.72it/s]\n"
     ]
    },
    {
     "name": "stdout",
     "output_type": "stream",
     "text": [
      "Method 1 Kmean Band=['VV_gamma0_flatDB'],continue\n",
      "Write csv and shp, Method=Kmean  Img=s1_unit_mean_  Band=['VV_gamma0_flatDB', 'VH_gamma0_flatDB']\n",
      "Method 1 SNIC_Kmean Band=['VV_gamma0_flatDB'],continue\n",
      "Write csv and shp, Method=SNIC_Kmean  Img=s1_unit_mean_  Band=['VV_gamma0_flatDB', 'VH_gamma0_flatDB']\n",
      "Write csv and shp, Method=SNIC_Kmean  Img=s1_unit_mean_  Band=['VV_gamma0_flatDB', 'VH_gamma0_flatDB']\n",
      "Method 1 Xmeans Band=['VV_gamma0_flatDB'],continue\n",
      "Write csv and shp, Method=Xmeans  Img=s1_unit_mean_  Band=['VV_gamma0_flatDB', 'VH_gamma0_flatDB']\n",
      "Method 1 CascadeKMeans Band=['VV_gamma0_flatDB'],continue\n",
      "Write csv and shp, Method=CascadeKMeans  Img=s1_unit_mean_  Band=['VV_gamma0_flatDB', 'VH_gamma0_flatDB']\n",
      "Threshould value is 0.4424694943110511\n",
      "Write csv and shp, Method=otsu  Img=s1_unit_mean_  Band=['VV_gamma0_flatDB']\n",
      "Method 2 otsu Band=['VV_gamma0_flatDB', 'VH_gamma0_flatDB'],continue\n"
     ]
    },
    {
     "name": "stderr",
     "output_type": "stream",
     "text": [
      "/root/GEE/Extract_algorithm.py:229: RuntimeWarning: invalid value encountered in divide\n",
      "  higher = (csum_intensity[-1] - csum_intensity[:-1]) / (csumh[:-1]+sys.float_info.min)\n"
     ]
    },
    {
     "name": "stdout",
     "output_type": "stream",
     "text": [
      "Threshould value is 0.44636590189661945\n",
      "Write csv and shp, Method=isodata  Img=s1_unit_mean_  Band=['VV_gamma0_flatDB']\n",
      "Method 2 isodata Band=['VV_gamma0_flatDB', 'VH_gamma0_flatDB'],continue\n",
      "该函数运行了 131.41885 秒\n"
     ]
    },
    {
     "name": "stderr",
     "output_type": "stream",
     "text": [
      " 22%|##2       | 54/244 [2:27:34<7:19:27, 138.78s/it]"
     ]
    },
    {
     "name": "stdout",
     "output_type": "stream",
     "text": [
      "Begin Filter ...\n"
     ]
    },
    {
     "name": "stderr",
     "output_type": "stream",
     "text": [
      "\n",
      "100%|##########| 13/13 [00:00<00:00, 1830.65it/s]\n",
      "\n",
      "100%|##########| 13/13 [00:00<00:00, 662.75it/s]\n",
      "\n",
      "100%|##########| 13/13 [00:00<00:00, 1612.05it/s]\n",
      "\n",
      "100%|##########| 13/13 [00:00<00:00, 728.30it/s]\n"
     ]
    },
    {
     "name": "stdout",
     "output_type": "stream",
     "text": [
      "Method 1 Kmean Band=['VV_gamma0_flatDB'],continue\n",
      "Write csv and shp, Method=Kmean  Img=s1_unit_mean_  Band=['VV_gamma0_flatDB', 'VH_gamma0_flatDB']\n",
      "Method 1 SNIC_Kmean Band=['VV_gamma0_flatDB'],continue\n",
      "Write csv and shp, Method=SNIC_Kmean  Img=s1_unit_mean_  Band=['VV_gamma0_flatDB', 'VH_gamma0_flatDB']\n",
      "Write csv and shp, Method=SNIC_Kmean  Img=s1_unit_mean_  Band=['VV_gamma0_flatDB', 'VH_gamma0_flatDB']\n",
      "Method 1 Xmeans Band=['VV_gamma0_flatDB'],continue\n",
      "Write csv and shp, Method=Xmeans  Img=s1_unit_mean_  Band=['VV_gamma0_flatDB', 'VH_gamma0_flatDB']\n",
      "Method 1 CascadeKMeans Band=['VV_gamma0_flatDB'],continue\n",
      "Write csv and shp, Method=CascadeKMeans  Img=s1_unit_mean_  Band=['VV_gamma0_flatDB', 'VH_gamma0_flatDB']\n",
      "Threshould value is 0.49492191558237836\n",
      "Write csv and shp, Method=otsu  Img=s1_unit_mean_  Band=['VV_gamma0_flatDB']\n",
      "Method 2 otsu Band=['VV_gamma0_flatDB', 'VH_gamma0_flatDB'],continue\n",
      "Threshould value is 0.5010624443563806\n",
      "Write csv and shp, Method=isodata  Img=s1_unit_mean_  Band=['VV_gamma0_flatDB']\n",
      "Method 2 isodata Band=['VV_gamma0_flatDB', 'VH_gamma0_flatDB'],continue\n",
      "该函数运行了 131.44851 秒\n"
     ]
    },
    {
     "name": "stderr",
     "output_type": "stream",
     "text": [
      " 23%|##2       | 55/244 [2:29:45<7:10:13, 136.58s/it]"
     ]
    },
    {
     "name": "stdout",
     "output_type": "stream",
     "text": [
      "Begin Filter ...\n"
     ]
    },
    {
     "name": "stderr",
     "output_type": "stream",
     "text": [
      "\n",
      "100%|##########| 15/15 [00:00<00:00, 1079.26it/s]\n",
      "\n",
      "100%|##########| 15/15 [00:00<00:00, 397.79it/s]\n",
      "\n",
      "100%|##########| 15/15 [00:00<00:00, 1858.96it/s]\n",
      "\n",
      "100%|##########| 15/15 [00:00<00:00, 377.77it/s]\n"
     ]
    },
    {
     "name": "stdout",
     "output_type": "stream",
     "text": [
      "Method 1 Kmean Band=['VV_gamma0_flatDB'],continue\n",
      "Write csv and shp, Method=Kmean  Img=s1_unit_mean_  Band=['VV_gamma0_flatDB', 'VH_gamma0_flatDB']\n",
      "Method 1 SNIC_Kmean Band=['VV_gamma0_flatDB'],continue\n",
      "Write csv and shp, Method=SNIC_Kmean  Img=s1_unit_mean_  Band=['VV_gamma0_flatDB', 'VH_gamma0_flatDB']\n",
      "Write csv and shp, Method=SNIC_Kmean  Img=s1_unit_mean_  Band=['VV_gamma0_flatDB', 'VH_gamma0_flatDB']\n",
      "Method 1 Xmeans Band=['VV_gamma0_flatDB'],continue\n",
      "Write csv and shp, Method=Xmeans  Img=s1_unit_mean_  Band=['VV_gamma0_flatDB', 'VH_gamma0_flatDB']\n",
      "Method 1 CascadeKMeans Band=['VV_gamma0_flatDB'],continue\n",
      "Write csv and shp, Method=CascadeKMeans  Img=s1_unit_mean_  Band=['VV_gamma0_flatDB', 'VH_gamma0_flatDB']\n",
      "Threshould value is 0.3857421875\n",
      "Write csv and shp, Method=otsu  Img=s1_unit_mean_  Band=['VV_gamma0_flatDB']\n",
      "Method 2 otsu Band=['VV_gamma0_flatDB', 'VH_gamma0_flatDB'],continue\n"
     ]
    },
    {
     "name": "stderr",
     "output_type": "stream",
     "text": [
      "/root/GEE/Extract_algorithm.py:229: RuntimeWarning: invalid value encountered in divide\n",
      "  higher = (csum_intensity[-1] - csum_intensity[:-1]) / (csumh[:-1]+sys.float_info.min)\n"
     ]
    },
    {
     "name": "stdout",
     "output_type": "stream",
     "text": [
      "Threshould value is 0.38783828985174007\n",
      "Write csv and shp, Method=isodata  Img=s1_unit_mean_  Band=['VV_gamma0_flatDB']\n",
      "Method 2 isodata Band=['VV_gamma0_flatDB', 'VH_gamma0_flatDB'],continue\n",
      "该函数运行了 175.41939 秒\n"
     ]
    },
    {
     "name": "stderr",
     "output_type": "stream",
     "text": [
      " 23%|##2       | 56/244 [2:32:40<7:44:27, 148.23s/it]"
     ]
    },
    {
     "name": "stdout",
     "output_type": "stream",
     "text": [
      "Begin Filter ...\n"
     ]
    },
    {
     "name": "stderr",
     "output_type": "stream",
     "text": [
      "\n",
      "100%|##########| 15/15 [00:00<00:00, 1924.40it/s]\n",
      "\n",
      "100%|##########| 15/15 [00:00<00:00, 643.71it/s]\n",
      "\n",
      "100%|##########| 14/14 [00:00<00:00, 1939.11it/s]\n",
      "\n",
      "100%|##########| 14/14 [00:00<00:00, 638.90it/s]\n"
     ]
    },
    {
     "name": "stdout",
     "output_type": "stream",
     "text": [
      "Method 1 Kmean Band=['VV_gamma0_flatDB'],continue\n",
      "Write csv and shp, Method=Kmean  Img=s1_unit_mean_  Band=['VV_gamma0_flatDB', 'VH_gamma0_flatDB']\n",
      "Method 1 SNIC_Kmean Band=['VV_gamma0_flatDB'],continue\n",
      "Write csv and shp, Method=SNIC_Kmean  Img=s1_unit_mean_  Band=['VV_gamma0_flatDB', 'VH_gamma0_flatDB']\n",
      "Write csv and shp, Method=SNIC_Kmean  Img=s1_unit_mean_  Band=['VV_gamma0_flatDB', 'VH_gamma0_flatDB']\n",
      "Method 1 Xmeans Band=['VV_gamma0_flatDB'],continue\n",
      "Write csv and shp, Method=Xmeans  Img=s1_unit_mean_  Band=['VV_gamma0_flatDB', 'VH_gamma0_flatDB']\n",
      "Method 1 CascadeKMeans Band=['VV_gamma0_flatDB'],continue\n",
      "Write csv and shp, Method=CascadeKMeans  Img=s1_unit_mean_  Band=['VV_gamma0_flatDB', 'VH_gamma0_flatDB']\n",
      "Threshould value is 0.5674409655119493\n",
      "Write csv and shp, Method=otsu  Img=s1_unit_mean_  Band=['VV_gamma0_flatDB']\n",
      "Method 2 otsu Band=['VV_gamma0_flatDB', 'VH_gamma0_flatDB'],continue\n",
      "Threshould value is 0.5674409655119493\n",
      "Write csv and shp, Method=isodata  Img=s1_unit_mean_  Band=['VV_gamma0_flatDB']\n",
      "Method 2 isodata Band=['VV_gamma0_flatDB', 'VH_gamma0_flatDB'],continue\n",
      "Generating URL ...\n",
      "Downloading data from https://earthengine.googleapis.com/v1/projects/earthengine-legacy/thumbnails/b1c92f7b7c97d235661bf1e38416ff57-3b165932f4e2f1479709102486f4012b:getPixels\n",
      "Please wait ...\n",
      "Data downloaded to /root/GEE/2019补齐结果/4756_Ascending_S1A_IW_GRDH_1SDV_20190714T115808_20190714T115833_028113_032CCD_1F8C.tif\n",
      "image save right\n",
      "change image bandNames\n",
      "Generating URL ...\n",
      "Downloading data from https://earthengine.googleapis.com/v1/projects/earthengine-legacy/thumbnails/fe11456784ad252b3ab25099633cde39-24d08030b123ef034a1a5c471c8e279e:getPixels\n",
      "Please wait ...\n",
      "Data downloaded to /root/GEE/2019补齐结果/4756_Descending_S1A_IW_GRDH_1SDV_20190721T235404_20190721T235429_028222_033027_8116.tif\n",
      "image save right\n",
      "change image bandNames\n",
      "Generating URL ...\n",
      "Downloading data from https://earthengine.googleapis.com/v1/projects/earthengine-legacy/thumbnails/b965e0efe297fd4af23001732b2b423d-e4873e5f9fcbc6edfa44e6bf4a2a26bf:getPixels\n",
      "Please wait ...\n",
      "Data downloaded to /root/GEE/2019补齐结果/4756_s2a_sr_median.tif\n",
      "image save right\n",
      "change image bandNames\n",
      "Generating URL ...\n",
      "Downloading data from https://earthengine.googleapis.com/v1/projects/earthengine-legacy/thumbnails/6e2be5f2450953027dcb6e067dc48503-0ee2eca3a0a5be0bec25069400abbe63:getPixels\n",
      "Please wait ...\n",
      "Data downloaded to /root/GEE/2019补齐结果/4756_s1_unit_mean_.tif\n",
      "image save right\n",
      "change image bandNames\n",
      "Generating URL ...\n",
      "Downloading data from https://earthengine.googleapis.com/v1/projects/earthengine-legacy/thumbnails/7c78dd2959908ce97f1fcad129ed2682-8efaf752c81090585aa73d59ff7c0bd9:getPixels\n",
      "Please wait ...\n",
      "Data downloaded to /root/GEE/2019补齐结果/4756_s1_unit_max_.tif\n",
      "image save right\n",
      "change image bandNames\n",
      "Generating URL ...\n",
      "Downloading data from https://earthengine.googleapis.com/v1/projects/earthengine-legacy/thumbnails/b2bf2ec710826fcaa9f96d2a2e41317f-776a5de5c5375b05d788cfe66375ea83:getPixels\n",
      "Please wait ...\n",
      "Data downloaded to /root/GEE/2019补齐结果/4756_s1_unit_min_.tif\n",
      "image save right\n",
      "change image bandNames\n",
      "Generating URL ...\n",
      "Downloading data from https://earthengine.googleapis.com/v1/projects/earthengine-legacy/thumbnails/4e939dce559439e8fb73ad0106201d54-771ba5a6d06bec267213b55738159e54:getPixels\n",
      "Please wait ...\n",
      "Data downloaded to /root/GEE/2019补齐结果/4756_DistortionAS1A_IW_GRDH_1SDV_20190714T115808_20190714T115833_028113_032CCD_1F8C.tif\n",
      "image save right\n",
      "change image bandNames\n",
      "Generating URL ...\n",
      "Downloading data from https://earthengine.googleapis.com/v1/projects/earthengine-legacy/thumbnails/ff3bd7ef9bcb273ea7c232e09fb175c4-4e307801c177100b7193f82da2ec9627:getPixels\n",
      "Please wait ...\n",
      "Data downloaded to /root/GEE/2019补齐结果/4756_DistortionDS1A_IW_GRDH_1SDV_20190721T235404_20190721T235429_028222_033027_8116.tif\n",
      "image save right\n",
      "change image bandNames\n",
      "该函数运行了 224.18923 秒\n"
     ]
    },
    {
     "name": "stderr",
     "output_type": "stream",
     "text": [
      " 23%|##3       | 57/244 [2:36:25<8:53:00, 171.02s/it]"
     ]
    },
    {
     "name": "stdout",
     "output_type": "stream",
     "text": [
      "Begin Filter ...\n"
     ]
    },
    {
     "name": "stderr",
     "output_type": "stream",
     "text": [
      "\n",
      "100%|##########| 14/14 [00:00<00:00, 1793.75it/s]\n",
      "\n",
      "100%|##########| 14/14 [00:00<00:00, 623.50it/s]\n",
      "\n",
      "100%|##########| 13/13 [00:00<00:00, 1751.05it/s]\n",
      "\n",
      "100%|##########| 13/13 [00:00<00:00, 452.69it/s]\n"
     ]
    },
    {
     "name": "stdout",
     "output_type": "stream",
     "text": [
      "Method 1 Kmean Band=['VV_gamma0_flatDB'],continue\n",
      "Write csv and shp, Method=Kmean  Img=s1_unit_mean_  Band=['VV_gamma0_flatDB', 'VH_gamma0_flatDB']\n",
      "Method 1 SNIC_Kmean Band=['VV_gamma0_flatDB'],continue\n",
      "Write csv and shp, Method=SNIC_Kmean  Img=s1_unit_mean_  Band=['VV_gamma0_flatDB', 'VH_gamma0_flatDB']\n",
      "Write csv and shp, Method=SNIC_Kmean  Img=s1_unit_mean_  Band=['VV_gamma0_flatDB', 'VH_gamma0_flatDB']\n",
      "Method 1 Xmeans Band=['VV_gamma0_flatDB'],continue\n",
      "Write csv and shp, Method=Xmeans  Img=s1_unit_mean_  Band=['VV_gamma0_flatDB', 'VH_gamma0_flatDB']\n",
      "Method 1 CascadeKMeans Band=['VV_gamma0_flatDB'],continue\n",
      "Write csv and shp, Method=CascadeKMeans  Img=s1_unit_mean_  Band=['VV_gamma0_flatDB', 'VH_gamma0_flatDB']\n",
      "Threshould value is 0.47332868922469473\n",
      "Write csv and shp, Method=otsu  Img=s1_unit_mean_  Band=['VV_gamma0_flatDB']\n",
      "Method 2 otsu Band=['VV_gamma0_flatDB', 'VH_gamma0_flatDB'],continue\n"
     ]
    },
    {
     "name": "stderr",
     "output_type": "stream",
     "text": [
      "/root/GEE/Extract_algorithm.py:229: RuntimeWarning: invalid value encountered in divide\n",
      "  higher = (csum_intensity[-1] - csum_intensity[:-1]) / (csumh[:-1]+sys.float_info.min)\n"
     ]
    },
    {
     "name": "stdout",
     "output_type": "stream",
     "text": [
      "Threshould value is 0.47586105022164044\n",
      "Write csv and shp, Method=isodata  Img=s1_unit_mean_  Band=['VV_gamma0_flatDB']\n",
      "Method 2 isodata Band=['VV_gamma0_flatDB', 'VH_gamma0_flatDB'],continue\n",
      "该函数运行了 155.97046 秒\n"
     ]
    },
    {
     "name": "stderr",
     "output_type": "stream",
     "text": [
      " 24%|##3       | 58/244 [2:39:01<8:36:10, 166.51s/it]"
     ]
    },
    {
     "name": "stdout",
     "output_type": "stream",
     "text": [
      "Begin Filter ...\n"
     ]
    },
    {
     "name": "stderr",
     "output_type": "stream",
     "text": [
      "\n",
      "100%|##########| 17/17 [00:00<00:00, 1163.68it/s]\n",
      "\n",
      "100%|##########| 17/17 [00:00<00:00, 474.64it/s]\n",
      "\n",
      "100%|##########| 16/16 [00:00<00:00, 1742.14it/s]\n",
      "\n",
      "100%|##########| 16/16 [00:00<00:00, 467.97it/s]\n"
     ]
    },
    {
     "name": "stdout",
     "output_type": "stream",
     "text": [
      "Method 1 Kmean Band=['VV_gamma0_flatDB'],continue\n",
      "Write csv and shp, Method=Kmean  Img=s1_unit_mean_  Band=['VV_gamma0_flatDB', 'VH_gamma0_flatDB']\n",
      "Method 1 SNIC_Kmean Band=['VV_gamma0_flatDB'],continue\n",
      "Write csv and shp, Method=SNIC_Kmean  Img=s1_unit_mean_  Band=['VV_gamma0_flatDB', 'VH_gamma0_flatDB']\n",
      "Write csv and shp, Method=SNIC_Kmean  Img=s1_unit_mean_  Band=['VV_gamma0_flatDB', 'VH_gamma0_flatDB']\n",
      "Method 1 Xmeans Band=['VV_gamma0_flatDB'],continue\n",
      "Write csv and shp, Method=Xmeans  Img=s1_unit_mean_  Band=['VV_gamma0_flatDB', 'VH_gamma0_flatDB']\n",
      "Method 1 CascadeKMeans Band=['VV_gamma0_flatDB'],continue\n",
      "Write csv and shp, Method=CascadeKMeans  Img=s1_unit_mean_  Band=['VV_gamma0_flatDB', 'VH_gamma0_flatDB']\n",
      "Threshould value is 0.5200390944972068\n",
      "Write csv and shp, Method=otsu  Img=s1_unit_mean_  Band=['VV_gamma0_flatDB']\n",
      "Method 2 otsu Band=['VV_gamma0_flatDB', 'VH_gamma0_flatDB'],continue\n"
     ]
    },
    {
     "name": "stderr",
     "output_type": "stream",
     "text": [
      "/root/GEE/Extract_algorithm.py:229: RuntimeWarning: invalid value encountered in divide\n",
      "  higher = (csum_intensity[-1] - csum_intensity[:-1]) / (csumh[:-1]+sys.float_info.min)\n"
     ]
    },
    {
     "name": "stdout",
     "output_type": "stream",
     "text": [
      "Threshould value is 0.5285565937407039\n",
      "Write csv and shp, Method=isodata  Img=s1_unit_mean_  Band=['VV_gamma0_flatDB']\n",
      "Method 2 isodata Band=['VV_gamma0_flatDB', 'VH_gamma0_flatDB'],continue\n",
      "该函数运行了 154.64259 秒\n"
     ]
    },
    {
     "name": "stderr",
     "output_type": "stream",
     "text": [
      " 24%|##4       | 59/244 [2:41:35<8:22:25, 162.95s/it]"
     ]
    },
    {
     "name": "stdout",
     "output_type": "stream",
     "text": [
      "Begin Filter ...\n"
     ]
    },
    {
     "name": "stderr",
     "output_type": "stream",
     "text": [
      "\n",
      "100%|##########| 12/12 [00:00<00:00, 1904.19it/s]\n",
      "\n",
      "100%|##########| 12/12 [00:00<00:00, 595.87it/s]\n",
      "\n",
      "100%|##########| 12/12 [00:00<00:00, 1847.85it/s]\n",
      "\n",
      "100%|##########| 12/12 [00:00<00:00, 638.30it/s]\n"
     ]
    },
    {
     "name": "stdout",
     "output_type": "stream",
     "text": [
      "Method 1 Kmean Band=['VV_gamma0_flatDB'],continue\n",
      "Write csv and shp, Method=Kmean  Img=s1_unit_mean_  Band=['VV_gamma0_flatDB', 'VH_gamma0_flatDB']\n",
      "Method 1 SNIC_Kmean Band=['VV_gamma0_flatDB'],continue\n",
      "Write csv and shp, Method=SNIC_Kmean  Img=s1_unit_mean_  Band=['VV_gamma0_flatDB', 'VH_gamma0_flatDB']\n",
      "Write csv and shp, Method=SNIC_Kmean  Img=s1_unit_mean_  Band=['VV_gamma0_flatDB', 'VH_gamma0_flatDB']\n",
      "Method 1 Xmeans Band=['VV_gamma0_flatDB'],continue\n",
      "Write csv and shp, Method=Xmeans  Img=s1_unit_mean_  Band=['VV_gamma0_flatDB', 'VH_gamma0_flatDB']\n",
      "Method 1 CascadeKMeans Band=['VV_gamma0_flatDB'],continue\n",
      "Write csv and shp, Method=CascadeKMeans  Img=s1_unit_mean_  Band=['VV_gamma0_flatDB', 'VH_gamma0_flatDB']\n",
      "Threshould value is 0.5440476358053544\n",
      "Write csv and shp, Method=otsu  Img=s1_unit_mean_  Band=['VV_gamma0_flatDB']\n",
      "Method 2 otsu Band=['VV_gamma0_flatDB', 'VH_gamma0_flatDB'],continue\n"
     ]
    },
    {
     "name": "stderr",
     "output_type": "stream",
     "text": [
      "/root/GEE/Extract_algorithm.py:229: RuntimeWarning: invalid value encountered in divide\n",
      "  higher = (csum_intensity[-1] - csum_intensity[:-1]) / (csumh[:-1]+sys.float_info.min)\n"
     ]
    },
    {
     "name": "stdout",
     "output_type": "stream",
     "text": [
      "Threshould value is 0.5455331156395747\n",
      "Write csv and shp, Method=isodata  Img=s1_unit_mean_  Band=['VV_gamma0_flatDB']\n",
      "Method 2 isodata Band=['VV_gamma0_flatDB', 'VH_gamma0_flatDB'],continue\n",
      "该函数运行了 157.58824 秒\n"
     ]
    },
    {
     "name": "stderr",
     "output_type": "stream",
     "text": [
      " 25%|##4       | 60/244 [2:44:13<8:14:46, 161.34s/it]"
     ]
    },
    {
     "name": "stdout",
     "output_type": "stream",
     "text": [
      "Begin Filter ...\n"
     ]
    },
    {
     "name": "stderr",
     "output_type": "stream",
     "text": [
      "\n",
      "100%|##########| 14/14 [00:00<00:00, 1925.70it/s]\n",
      "\n",
      "100%|##########| 14/14 [00:00<00:00, 486.25it/s]\n",
      "\n",
      "100%|##########| 15/15 [00:00<00:00, 1814.25it/s]\n",
      "\n",
      "100%|##########| 15/15 [00:00<00:00, 449.95it/s]\n"
     ]
    },
    {
     "name": "stdout",
     "output_type": "stream",
     "text": [
      "Method 1 Kmean Band=['VV_gamma0_flatDB'],continue\n",
      "Write csv and shp, Method=Kmean  Img=s1_unit_mean_  Band=['VV_gamma0_flatDB', 'VH_gamma0_flatDB']\n",
      "Method 1 SNIC_Kmean Band=['VV_gamma0_flatDB'],continue\n",
      "Write csv and shp, Method=SNIC_Kmean  Img=s1_unit_mean_  Band=['VV_gamma0_flatDB', 'VH_gamma0_flatDB']\n",
      "Write csv and shp, Method=SNIC_Kmean  Img=s1_unit_mean_  Band=['VV_gamma0_flatDB', 'VH_gamma0_flatDB']\n",
      "Method 1 Xmeans Band=['VV_gamma0_flatDB'],continue\n",
      "Write csv and shp, Method=Xmeans  Img=s1_unit_mean_  Band=['VV_gamma0_flatDB', 'VH_gamma0_flatDB']\n",
      "Method 1 CascadeKMeans Band=['VV_gamma0_flatDB'],continue\n",
      "Write csv and shp, Method=CascadeKMeans  Img=s1_unit_mean_  Band=['VV_gamma0_flatDB', 'VH_gamma0_flatDB']\n",
      "Threshould value is 0.5126953125\n",
      "Write csv and shp, Method=otsu  Img=s1_unit_mean_  Band=['VV_gamma0_flatDB']\n",
      "Method 2 otsu Band=['VV_gamma0_flatDB', 'VH_gamma0_flatDB'],continue\n",
      "Threshould value is 0.5126953125\n",
      "Write csv and shp, Method=isodata  Img=s1_unit_mean_  Band=['VV_gamma0_flatDB']\n",
      "Method 2 isodata Band=['VV_gamma0_flatDB', 'VH_gamma0_flatDB'],continue\n",
      "该函数运行了 159.30228 秒\n"
     ]
    },
    {
     "name": "stderr",
     "output_type": "stream",
     "text": [
      " 25%|##5       | 61/244 [2:46:52<8:10:13, 160.73s/it]"
     ]
    },
    {
     "name": "stdout",
     "output_type": "stream",
     "text": [
      "Begin Filter ...\n"
     ]
    },
    {
     "name": "stderr",
     "output_type": "stream",
     "text": [
      "\n",
      "100%|##########| 16/16 [00:00<00:00, 1692.70it/s]\n",
      "\n",
      "100%|##########| 16/16 [00:00<00:00, 531.33it/s]\n",
      "\n",
      "100%|##########| 15/15 [00:00<00:00, 1567.30it/s]\n",
      "\n",
      "100%|##########| 15/15 [00:00<00:00, 451.07it/s]\n"
     ]
    },
    {
     "name": "stdout",
     "output_type": "stream",
     "text": [
      "Method 1 Kmean Band=['VV_gamma0_flatDB'],continue\n",
      "Write csv and shp, Method=Kmean  Img=s1_unit_mean_  Band=['VV_gamma0_flatDB', 'VH_gamma0_flatDB']\n",
      "Method 1 SNIC_Kmean Band=['VV_gamma0_flatDB'],continue\n",
      "Write csv and shp, Method=SNIC_Kmean  Img=s1_unit_mean_  Band=['VV_gamma0_flatDB', 'VH_gamma0_flatDB']\n",
      "Write csv and shp, Method=SNIC_Kmean  Img=s1_unit_mean_  Band=['VV_gamma0_flatDB', 'VH_gamma0_flatDB']\n",
      "Method 1 Xmeans Band=['VV_gamma0_flatDB'],continue\n",
      "Write csv and shp, Method=Xmeans  Img=s1_unit_mean_  Band=['VV_gamma0_flatDB', 'VH_gamma0_flatDB']\n",
      "Method 1 CascadeKMeans Band=['VV_gamma0_flatDB'],continue\n",
      "Write csv and shp, Method=CascadeKMeans  Img=s1_unit_mean_  Band=['VV_gamma0_flatDB', 'VH_gamma0_flatDB']\n",
      "Threshould value is 0.5573030502565005\n",
      "Write csv and shp, Method=otsu  Img=s1_unit_mean_  Band=['VV_gamma0_flatDB']\n",
      "Method 2 otsu Band=['VV_gamma0_flatDB', 'VH_gamma0_flatDB'],continue\n",
      "Threshould value is 0.5556640625\n",
      "Write csv and shp, Method=isodata  Img=s1_unit_mean_  Band=['VV_gamma0_flatDB']\n",
      "Method 2 isodata Band=['VV_gamma0_flatDB', 'VH_gamma0_flatDB'],continue\n",
      "Generating URL ...\n",
      "Downloading data from https://earthengine.googleapis.com/v1/projects/earthengine-legacy/thumbnails/36bcab9d60c127c5684087d86e3208eb-e3e2f9086072fb9f4d0fd552ef07b1d9:getPixels\n",
      "Please wait ...\n",
      "Data downloaded to /root/GEE/2019补齐结果/4761_Ascending_S1A_IW_GRDH_1SDV_20190714T115743_20190714T115808_028113_032CCD_07AC.tif\n",
      "image save right\n",
      "change image bandNames\n",
      "Generating URL ...\n",
      "Downloading data from https://earthengine.googleapis.com/v1/projects/earthengine-legacy/thumbnails/01c3275707ac1ab291c89079fc2b62ca-24ac47334ae945f6a5ec7c7730318d86:getPixels\n",
      "Please wait ...\n",
      "Data downloaded to /root/GEE/2019补齐结果/4761_Descending_S1A_IW_GRDH_1SDV_20190721T235404_20190721T235429_028222_033027_8116.tif\n",
      "image save right\n",
      "change image bandNames\n",
      "Generating URL ...\n",
      "Downloading data from https://earthengine.googleapis.com/v1/projects/earthengine-legacy/thumbnails/682f559b887691c9791817cd72197690-3748f0d1b72789a01adc2ca4f33d1541:getPixels\n",
      "Please wait ...\n",
      "Data downloaded to /root/GEE/2019补齐结果/4761_s2a_sr_median.tif\n",
      "image save right\n",
      "change image bandNames\n",
      "Generating URL ...\n",
      "Downloading data from https://earthengine.googleapis.com/v1/projects/earthengine-legacy/thumbnails/9d56b455cfe03f97a138c7aad1cc2b84-9edf2466ed8a36a61a933be81137fa27:getPixels\n",
      "Please wait ...\n",
      "Data downloaded to /root/GEE/2019补齐结果/4761_s1_unit_mean_.tif\n",
      "image save right\n",
      "change image bandNames\n",
      "Generating URL ...\n",
      "Downloading data from https://earthengine.googleapis.com/v1/projects/earthengine-legacy/thumbnails/bb870150ee5bf11cb357c2281ed5cd72-f40f94f407584745f1c7a1b7c4a2092a:getPixels\n",
      "Please wait ...\n",
      "Data downloaded to /root/GEE/2019补齐结果/4761_s1_unit_max_.tif\n",
      "image save right\n",
      "change image bandNames\n",
      "Generating URL ...\n",
      "Downloading data from https://earthengine.googleapis.com/v1/projects/earthengine-legacy/thumbnails/dc2504c5f713cc58732f5e10615404fc-4e31355dccee60a83962187b580fd7d2:getPixels\n",
      "Please wait ...\n",
      "Data downloaded to /root/GEE/2019补齐结果/4761_s1_unit_min_.tif\n",
      "image save right\n",
      "change image bandNames\n",
      "Generating URL ...\n",
      "Downloading data from https://earthengine.googleapis.com/v1/projects/earthengine-legacy/thumbnails/845589c3ce98fe25d337dce0e2e45abb-c8adc63deb41f7ae54e7e2db77f2fdf0:getPixels\n",
      "Please wait ...\n",
      "Data downloaded to /root/GEE/2019补齐结果/4761_DistortionAS1A_IW_GRDH_1SDV_20190714T115743_20190714T115808_028113_032CCD_07AC.tif\n",
      "image save right\n",
      "change image bandNames\n",
      "Generating URL ...\n",
      "Downloading data from https://earthengine.googleapis.com/v1/projects/earthengine-legacy/thumbnails/c5c3db92d09307917af83a2016f05431-6a9648ba493971f8ccaddaa7dc7bb6b0:getPixels\n",
      "Please wait ...\n",
      "Data downloaded to /root/GEE/2019补齐结果/4761_DistortionDS1A_IW_GRDH_1SDV_20190721T235404_20190721T235429_028222_033027_8116.tif\n",
      "image save right\n",
      "change image bandNames\n",
      "该函数运行了 233.11187 秒\n"
     ]
    },
    {
     "name": "stderr",
     "output_type": "stream",
     "text": [
      " 25%|##5       | 62/244 [2:50:45<9:13:25, 182.45s/it]"
     ]
    },
    {
     "name": "stdout",
     "output_type": "stream",
     "text": [
      "Begin Filter ...\n"
     ]
    },
    {
     "name": "stderr",
     "output_type": "stream",
     "text": [
      "\n",
      "100%|##########| 12/12 [00:00<00:00, 1710.04it/s]\n",
      "\n",
      "100%|##########| 12/12 [00:00<00:00, 535.66it/s]\n",
      "\n",
      "100%|##########| 12/12 [00:00<00:00, 1906.00it/s]\n",
      "\n",
      "100%|##########| 12/12 [00:00<00:00, 461.92it/s]\n"
     ]
    },
    {
     "name": "stdout",
     "output_type": "stream",
     "text": [
      "Method 1 Kmean Band=['VV_gamma0_flatDB'],continue\n",
      "Write csv and shp, Method=Kmean  Img=s1_unit_mean_  Band=['VV_gamma0_flatDB', 'VH_gamma0_flatDB']\n",
      "Method 1 SNIC_Kmean Band=['VV_gamma0_flatDB'],continue\n",
      "Write csv and shp, Method=SNIC_Kmean  Img=s1_unit_mean_  Band=['VV_gamma0_flatDB', 'VH_gamma0_flatDB']\n",
      "Write csv and shp, Method=SNIC_Kmean  Img=s1_unit_mean_  Band=['VV_gamma0_flatDB', 'VH_gamma0_flatDB']\n",
      "Method 1 Xmeans Band=['VV_gamma0_flatDB'],continue\n",
      "Write csv and shp, Method=Xmeans  Img=s1_unit_mean_  Band=['VV_gamma0_flatDB', 'VH_gamma0_flatDB']\n",
      "Method 1 CascadeKMeans Band=['VV_gamma0_flatDB'],continue\n",
      "Write csv and shp, Method=CascadeKMeans  Img=s1_unit_mean_  Band=['VV_gamma0_flatDB', 'VH_gamma0_flatDB']\n",
      "Threshould value is 0.5616093970190469\n",
      "Write csv and shp, Method=otsu  Img=s1_unit_mean_  Band=['VV_gamma0_flatDB']\n",
      "Method 2 otsu Band=['VV_gamma0_flatDB', 'VH_gamma0_flatDB'],continue\n"
     ]
    },
    {
     "name": "stderr",
     "output_type": "stream",
     "text": [
      "/root/GEE/Extract_algorithm.py:229: RuntimeWarning: invalid value encountered in divide\n",
      "  higher = (csum_intensity[-1] - csum_intensity[:-1]) / (csumh[:-1]+sys.float_info.min)\n"
     ]
    },
    {
     "name": "stdout",
     "output_type": "stream",
     "text": [
      "Threshould value is 0.5616093970190469\n",
      "Write csv and shp, Method=isodata  Img=s1_unit_mean_  Band=['VV_gamma0_flatDB']\n",
      "Method 2 isodata Band=['VV_gamma0_flatDB', 'VH_gamma0_flatDB'],continue\n",
      "Generating URL ...\n",
      "Downloading data from https://earthengine.googleapis.com/v1/projects/earthengine-legacy/thumbnails/97c0a8a60359439cb3e82bb2a5e8d419-9d018d44a096f7f4a4622a6de2fc9b0a:getPixels\n",
      "Please wait ...\n",
      "Data downloaded to /root/GEE/2019补齐结果/4762_Ascending_S1A_IW_GRDH_1SDV_20190714T115743_20190714T115808_028113_032CCD_07AC.tif\n",
      "image save right\n",
      "change image bandNames\n",
      "Generating URL ...\n",
      "Downloading data from https://earthengine.googleapis.com/v1/projects/earthengine-legacy/thumbnails/922c30a362927824a68132b7d8a4b874-0cbf176f4dfece038ac22774e0107d4e:getPixels\n",
      "Please wait ...\n",
      "Data downloaded to /root/GEE/2019补齐结果/4762_Descending_S1A_IW_GRDH_1SDV_20190721T235404_20190721T235429_028222_033027_8116.tif\n",
      "image save right\n",
      "change image bandNames\n",
      "Generating URL ...\n",
      "Downloading data from https://earthengine.googleapis.com/v1/projects/earthengine-legacy/thumbnails/c7524cf8dacfd79165e76d8227de4151-2fb1a0590d53d3843f236f14fd4388e1:getPixels\n",
      "Please wait ...\n",
      "Data downloaded to /root/GEE/2019补齐结果/4762_s2a_sr_median.tif\n",
      "image save right\n",
      "change image bandNames\n",
      "Generating URL ...\n",
      "Downloading data from https://earthengine.googleapis.com/v1/projects/earthengine-legacy/thumbnails/d94de66d3f2ebdeec5aac0b80c951163-61e27c5b98f7cf06ef8b0625d0861d32:getPixels\n",
      "Please wait ...\n",
      "Data downloaded to /root/GEE/2019补齐结果/4762_s1_unit_mean_.tif\n",
      "image save right\n",
      "change image bandNames\n",
      "Generating URL ...\n",
      "Downloading data from https://earthengine.googleapis.com/v1/projects/earthengine-legacy/thumbnails/96fec5e21912b184ef7264897f72761d-f1d65883313eebc52f9e5cd7d9541dd4:getPixels\n",
      "Please wait ...\n",
      "Data downloaded to /root/GEE/2019补齐结果/4762_s1_unit_max_.tif\n",
      "image save right\n",
      "change image bandNames\n",
      "Generating URL ...\n",
      "Downloading data from https://earthengine.googleapis.com/v1/projects/earthengine-legacy/thumbnails/d9495efa9e4649be651614fd5c8754a6-710555c2218803283ff3175f285a8bb3:getPixels\n",
      "Please wait ...\n",
      "Data downloaded to /root/GEE/2019补齐结果/4762_s1_unit_min_.tif\n",
      "image save right\n",
      "change image bandNames\n",
      "Generating URL ...\n",
      "Downloading data from https://earthengine.googleapis.com/v1/projects/earthengine-legacy/thumbnails/b8a6bc6b82480f3e760dfd97dd7c96ac-404e4f5d7e44679a9be7d852d5a0e90b:getPixels\n",
      "Please wait ...\n",
      "Data downloaded to /root/GEE/2019补齐结果/4762_DistortionAS1A_IW_GRDH_1SDV_20190714T115743_20190714T115808_028113_032CCD_07AC.tif\n",
      "image save right\n",
      "change image bandNames\n",
      "Generating URL ...\n",
      "Downloading data from https://earthengine.googleapis.com/v1/projects/earthengine-legacy/thumbnails/3148a922f020f2534fb309e23e7715b3-1fb45f8c4960c3b50fa53107d86d786a:getPixels\n",
      "Please wait ...\n",
      "Data downloaded to /root/GEE/2019补齐结果/4762_DistortionDS1A_IW_GRDH_1SDV_20190721T235404_20190721T235429_028222_033027_8116.tif\n",
      "image save right\n",
      "change image bandNames\n",
      "该函数运行了 236.12057 秒\n"
     ]
    },
    {
     "name": "stderr",
     "output_type": "stream",
     "text": [
      " 26%|##5       | 63/244 [2:54:41<9:58:57, 198.55s/it]"
     ]
    },
    {
     "name": "stdout",
     "output_type": "stream",
     "text": [
      "Begin Filter ...\n"
     ]
    },
    {
     "name": "stderr",
     "output_type": "stream",
     "text": [
      "\n",
      "100%|##########| 14/14 [00:00<00:00, 1812.58it/s]\n",
      "\n",
      "100%|##########| 14/14 [00:00<00:00, 523.33it/s]\n",
      "\n",
      "100%|##########| 14/14 [00:00<00:00, 1947.67it/s]\n",
      "\n",
      "100%|##########| 14/14 [00:00<00:00, 421.80it/s]\n"
     ]
    },
    {
     "name": "stdout",
     "output_type": "stream",
     "text": [
      "Method 1 Kmean Band=['VV_gamma0_flatDB'],continue\n",
      "Write csv and shp, Method=Kmean  Img=s1_unit_mean_  Band=['VV_gamma0_flatDB', 'VH_gamma0_flatDB']\n",
      "Method 1 SNIC_Kmean Band=['VV_gamma0_flatDB'],continue\n",
      "Write csv and shp, Method=SNIC_Kmean  Img=s1_unit_mean_  Band=['VV_gamma0_flatDB', 'VH_gamma0_flatDB']\n",
      "Write csv and shp, Method=SNIC_Kmean  Img=s1_unit_mean_  Band=['VV_gamma0_flatDB', 'VH_gamma0_flatDB']\n",
      "Method 1 Xmeans Band=['VV_gamma0_flatDB'],continue\n",
      "Write csv and shp, Method=Xmeans  Img=s1_unit_mean_  Band=['VV_gamma0_flatDB', 'VH_gamma0_flatDB']\n",
      "Method 1 CascadeKMeans Band=['VV_gamma0_flatDB'],continue\n",
      "Write csv and shp, Method=CascadeKMeans  Img=s1_unit_mean_  Band=['VV_gamma0_flatDB', 'VH_gamma0_flatDB']\n",
      "Threshould value is 0.5185546875\n",
      "Write csv and shp, Method=otsu  Img=s1_unit_mean_  Band=['VV_gamma0_flatDB']\n",
      "Method 2 otsu Band=['VV_gamma0_flatDB', 'VH_gamma0_flatDB'],continue\n",
      "Threshould value is 0.5127347064926471\n",
      "Write csv and shp, Method=isodata  Img=s1_unit_mean_  Band=['VV_gamma0_flatDB']\n",
      "Method 2 isodata Band=['VV_gamma0_flatDB', 'VH_gamma0_flatDB'],continue\n",
      "该函数运行了 153.66496 秒\n"
     ]
    },
    {
     "name": "stderr",
     "output_type": "stream",
     "text": [
      " 26%|##6       | 64/244 [2:57:15<9:15:15, 185.09s/it]"
     ]
    },
    {
     "name": "stdout",
     "output_type": "stream",
     "text": [
      "Begin Filter ...\n"
     ]
    },
    {
     "name": "stderr",
     "output_type": "stream",
     "text": [
      "\n",
      "100%|##########| 23/23 [00:00<00:00, 1967.51it/s]\n",
      "\n",
      "100%|##########| 23/23 [00:00<00:00, 243.29it/s]\n",
      "\n",
      "100%|##########| 23/23 [00:00<00:00, 1910.73it/s]\n",
      "\n",
      "  0%|          | 0/23 [00:00<?, ?it/s]\u001b[A\n",
      "100%|##########| 23/23 [00:00<00:00, 215.01it/s]\u001b[A\n"
     ]
    },
    {
     "name": "stdout",
     "output_type": "stream",
     "text": [
      "Method 1 Kmean Band=['VV_gamma0_flatDB'],continue\n",
      "Write csv and shp, Method=Kmean  Img=s1_unit_mean_  Band=['VV_gamma0_flatDB', 'VH_gamma0_flatDB']\n",
      "Method 1 SNIC_Kmean Band=['VV_gamma0_flatDB'],continue\n",
      "Write csv and shp, Method=SNIC_Kmean  Img=s1_unit_mean_  Band=['VV_gamma0_flatDB', 'VH_gamma0_flatDB']\n",
      "Write csv and shp, Method=SNIC_Kmean  Img=s1_unit_mean_  Band=['VV_gamma0_flatDB', 'VH_gamma0_flatDB']\n",
      "Method 1 Xmeans Band=['VV_gamma0_flatDB'],continue\n",
      "Write csv and shp, Method=Xmeans  Img=s1_unit_mean_  Band=['VV_gamma0_flatDB', 'VH_gamma0_flatDB']\n",
      "Method 1 CascadeKMeans Band=['VV_gamma0_flatDB'],continue\n",
      "Write csv and shp, Method=CascadeKMeans  Img=s1_unit_mean_  Band=['VV_gamma0_flatDB', 'VH_gamma0_flatDB']\n",
      "Threshould value is 0.5122539823408087\n",
      "Write csv and shp, Method=otsu  Img=s1_unit_mean_  Band=['VV_gamma0_flatDB']\n",
      "Method 2 otsu Band=['VV_gamma0_flatDB', 'VH_gamma0_flatDB'],continue\n"
     ]
    },
    {
     "name": "stderr",
     "output_type": "stream",
     "text": [
      "/root/GEE/Extract_algorithm.py:229: RuntimeWarning: invalid value encountered in divide\n",
      "  higher = (csum_intensity[-1] - csum_intensity[:-1]) / (csumh[:-1]+sys.float_info.min)\n"
     ]
    },
    {
     "name": "stdout",
     "output_type": "stream",
     "text": [
      "Threshould value is 0.5122539823408087\n",
      "Write csv and shp, Method=isodata  Img=s1_unit_mean_  Band=['VV_gamma0_flatDB']\n",
      "Method 2 isodata Band=['VV_gamma0_flatDB', 'VH_gamma0_flatDB'],continue\n",
      "该函数运行了 151.19445 秒\n"
     ]
    },
    {
     "name": "stderr",
     "output_type": "stream",
     "text": [
      " 27%|##6       | 65/244 [2:59:46<8:41:50, 174.92s/it]"
     ]
    },
    {
     "name": "stdout",
     "output_type": "stream",
     "text": [
      "Begin Filter ...\n"
     ]
    },
    {
     "name": "stderr",
     "output_type": "stream",
     "text": [
      "\n",
      "100%|##########| 22/22 [00:00<00:00, 1887.97it/s]\n",
      "\n",
      "100%|##########| 22/22 [00:00<00:00, 369.75it/s]\n",
      "\n",
      "100%|##########| 22/22 [00:00<00:00, 1947.50it/s]\n",
      "\n",
      "100%|##########| 22/22 [00:00<00:00, 346.52it/s]\n"
     ]
    },
    {
     "name": "stdout",
     "output_type": "stream",
     "text": [
      "Method 1 Kmean Band=['VV_gamma0_flatDB'],continue\n",
      "Write csv and shp, Method=Kmean  Img=s1_unit_mean_  Band=['VV_gamma0_flatDB', 'VH_gamma0_flatDB']\n",
      "Method 1 SNIC_Kmean Band=['VV_gamma0_flatDB'],continue\n",
      "Write csv and shp, Method=SNIC_Kmean  Img=s1_unit_mean_  Band=['VV_gamma0_flatDB', 'VH_gamma0_flatDB']\n",
      "Write csv and shp, Method=SNIC_Kmean  Img=s1_unit_mean_  Band=['VV_gamma0_flatDB', 'VH_gamma0_flatDB']\n",
      "Method 1 Xmeans Band=['VV_gamma0_flatDB'],continue\n",
      "Write csv and shp, Method=Xmeans  Img=s1_unit_mean_  Band=['VV_gamma0_flatDB', 'VH_gamma0_flatDB']\n",
      "Method 1 CascadeKMeans Band=['VV_gamma0_flatDB'],continue\n",
      "Write csv and shp, Method=CascadeKMeans  Img=s1_unit_mean_  Band=['VV_gamma0_flatDB', 'VH_gamma0_flatDB']\n",
      "Threshould value is 0.46925229010947234\n",
      "Write csv and shp, Method=otsu  Img=s1_unit_mean_  Band=['VV_gamma0_flatDB']\n",
      "Method 2 otsu Band=['VV_gamma0_flatDB', 'VH_gamma0_flatDB'],continue\n"
     ]
    },
    {
     "name": "stderr",
     "output_type": "stream",
     "text": [
      "/root/GEE/Extract_algorithm.py:229: RuntimeWarning: invalid value encountered in divide\n",
      "  higher = (csum_intensity[-1] - csum_intensity[:-1]) / (csumh[:-1]+sys.float_info.min)\n"
     ]
    },
    {
     "name": "stdout",
     "output_type": "stream",
     "text": [
      "Threshould value is 0.47157187938260287\n",
      "Write csv and shp, Method=isodata  Img=s1_unit_mean_  Band=['VV_gamma0_flatDB']\n",
      "Method 2 isodata Band=['VV_gamma0_flatDB', 'VH_gamma0_flatDB'],continue\n",
      "该函数运行了 151.56114 秒\n"
     ]
    },
    {
     "name": "stderr",
     "output_type": "stream",
     "text": [
      " 27%|##7       | 66/244 [3:02:18<8:18:08, 167.91s/it]"
     ]
    },
    {
     "name": "stdout",
     "output_type": "stream",
     "text": [
      "Begin Filter ...\n"
     ]
    },
    {
     "name": "stderr",
     "output_type": "stream",
     "text": [
      "\n",
      "100%|##########| 26/26 [00:00<00:00, 1607.51it/s]\n",
      "\n",
      "100%|##########| 26/26 [00:00<00:00, 267.39it/s]\n",
      "\n",
      "100%|##########| 27/27 [00:00<00:00, 1971.28it/s]\n",
      "\n",
      "100%|##########| 27/27 [00:00<00:00, 289.65it/s]\n"
     ]
    },
    {
     "name": "stdout",
     "output_type": "stream",
     "text": [
      "Method 1 Kmean Band=['VV_gamma0_flatDB'],continue\n",
      "Write csv and shp, Method=Kmean  Img=s1_unit_mean_  Band=['VV_gamma0_flatDB', 'VH_gamma0_flatDB']\n",
      "Method 1 SNIC_Kmean Band=['VV_gamma0_flatDB'],continue\n",
      "Write csv and shp, Method=SNIC_Kmean  Img=s1_unit_mean_  Band=['VV_gamma0_flatDB', 'VH_gamma0_flatDB']\n",
      "Write csv and shp, Method=SNIC_Kmean  Img=s1_unit_mean_  Band=['VV_gamma0_flatDB', 'VH_gamma0_flatDB']\n",
      "Method 1 Xmeans Band=['VV_gamma0_flatDB'],continue\n",
      "Write csv and shp, Method=Xmeans  Img=s1_unit_mean_  Band=['VV_gamma0_flatDB', 'VH_gamma0_flatDB']\n",
      "Method 1 CascadeKMeans Band=['VV_gamma0_flatDB'],continue\n",
      "Write csv and shp, Method=CascadeKMeans  Img=s1_unit_mean_  Band=['VV_gamma0_flatDB', 'VH_gamma0_flatDB']\n",
      "Threshould value is 0.5019443648791037\n",
      "Write csv and shp, Method=otsu  Img=s1_unit_mean_  Band=['VV_gamma0_flatDB']\n",
      "Method 2 otsu Band=['VV_gamma0_flatDB', 'VH_gamma0_flatDB'],continue\n",
      "Threshould value is 0.5019443648791037\n",
      "Write csv and shp, Method=isodata  Img=s1_unit_mean_  Band=['VV_gamma0_flatDB']\n",
      "Method 2 isodata Band=['VV_gamma0_flatDB', 'VH_gamma0_flatDB'],continue\n",
      "该函数运行了 148.80945 秒\n"
     ]
    },
    {
     "name": "stderr",
     "output_type": "stream",
     "text": [
      " 27%|##7       | 67/244 [3:04:47<7:58:26, 162.18s/it]"
     ]
    },
    {
     "name": "stdout",
     "output_type": "stream",
     "text": [
      "Begin Filter ...\n"
     ]
    },
    {
     "name": "stderr",
     "output_type": "stream",
     "text": [
      "\n",
      "100%|##########| 63/63 [00:00<00:00, 2697.91it/s]\n",
      "\n",
      "  0%|          | 0/63 [00:00<?, ?it/s]\u001b[A\n",
      " 24%|##3       | 15/63 [00:00<00:00, 139.94it/s]\u001b[A\n",
      " 46%|####6     | 29/63 [00:00<00:00, 115.53it/s]\u001b[A\n",
      " 65%|######5   | 41/63 [00:00<00:00, 109.22it/s]\u001b[A\n",
      "100%|##########| 63/63 [00:00<00:00, 102.33it/s]\u001b[A\n",
      "\n",
      "100%|##########| 62/62 [00:00<00:00, 2265.81it/s]\n",
      "\n",
      "  0%|          | 0/62 [00:00<?, ?it/s]\u001b[A\n",
      " 18%|#7        | 11/62 [00:00<00:00, 101.12it/s]\u001b[A\n",
      " 35%|###5      | 22/62 [00:00<00:00, 79.69it/s] \u001b[A\n",
      " 50%|#####     | 31/62 [00:00<00:00, 80.00it/s]\u001b[A\n",
      " 66%|######6   | 41/62 [00:00<00:00, 84.74it/s]\u001b[A\n",
      " 82%|########2 | 51/62 [00:00<00:00, 89.05it/s]\u001b[A\n",
      "100%|##########| 62/62 [00:00<00:00, 88.77it/s]\u001b[A\n"
     ]
    },
    {
     "name": "stdout",
     "output_type": "stream",
     "text": [
      "Method 1 Kmean Band=['VV_gamma0_flatDB'],continue\n",
      "Write csv and shp, Method=Kmean  Img=s1_unit_mean_  Band=['VV_gamma0_flatDB', 'VH_gamma0_flatDB']\n",
      "Method 1 SNIC_Kmean Band=['VV_gamma0_flatDB'],continue\n",
      "Write csv and shp, Method=SNIC_Kmean  Img=s1_unit_mean_  Band=['VV_gamma0_flatDB', 'VH_gamma0_flatDB']\n",
      "Write csv and shp, Method=SNIC_Kmean  Img=s1_unit_mean_  Band=['VV_gamma0_flatDB', 'VH_gamma0_flatDB']\n",
      "Method 1 Xmeans Band=['VV_gamma0_flatDB'],continue\n",
      "Write csv and shp, Method=Xmeans  Img=s1_unit_mean_  Band=['VV_gamma0_flatDB', 'VH_gamma0_flatDB']\n",
      "Method 1 CascadeKMeans Band=['VV_gamma0_flatDB'],continue\n",
      "Write csv and shp, Method=CascadeKMeans  Img=s1_unit_mean_  Band=['VV_gamma0_flatDB', 'VH_gamma0_flatDB']\n",
      "Threshould value is 0.4052441379097529\n",
      "Write csv and shp, Method=otsu  Img=s1_unit_mean_  Band=['VV_gamma0_flatDB']\n",
      "Method 2 otsu Band=['VV_gamma0_flatDB', 'VH_gamma0_flatDB'],continue\n"
     ]
    },
    {
     "name": "stderr",
     "output_type": "stream",
     "text": [
      "/root/GEE/Extract_algorithm.py:229: RuntimeWarning: invalid value encountered in divide\n",
      "  higher = (csum_intensity[-1] - csum_intensity[:-1]) / (csumh[:-1]+sys.float_info.min)\n"
     ]
    },
    {
     "name": "stdout",
     "output_type": "stream",
     "text": [
      "Threshould value is 0.4070869701638674\n",
      "Write csv and shp, Method=isodata  Img=s1_unit_mean_  Band=['VV_gamma0_flatDB']\n",
      "Method 2 isodata Band=['VV_gamma0_flatDB', 'VH_gamma0_flatDB'],continue\n",
      "该函数运行了 192.24685 秒\n"
     ]
    },
    {
     "name": "stderr",
     "output_type": "stream",
     "text": [
      " 28%|##7       | 68/244 [3:07:59<8:22:11, 171.20s/it]"
     ]
    },
    {
     "name": "stdout",
     "output_type": "stream",
     "text": [
      "Begin Filter ...\n"
     ]
    },
    {
     "name": "stderr",
     "output_type": "stream",
     "text": [
      "\n",
      "100%|##########| 64/64 [00:00<00:00, 2120.73it/s]\n",
      "\n",
      "  0%|          | 0/64 [00:00<?, ?it/s]\u001b[A\n",
      " 23%|##3       | 15/64 [00:00<00:00, 140.85it/s]\u001b[A\n",
      " 47%|####6     | 30/64 [00:00<00:00, 95.78it/s] \u001b[A\n",
      " 64%|######4   | 41/64 [00:00<00:00, 96.01it/s]\u001b[A\n",
      "100%|##########| 64/64 [00:00<00:00, 95.62it/s]\u001b[A\n",
      "\n",
      "100%|##########| 64/64 [00:00<00:00, 1980.55it/s]\n",
      "\n",
      "  0%|          | 0/64 [00:00<?, ?it/s]\u001b[A\n",
      " 20%|##        | 13/64 [00:00<00:00, 127.62it/s]\u001b[A\n",
      " 41%|####      | 26/64 [00:00<00:00, 97.72it/s] \u001b[A\n",
      " 61%|######    | 39/64 [00:00<00:00, 109.33it/s]\u001b[A\n",
      "100%|##########| 64/64 [00:00<00:00, 98.68it/s] \u001b[A\n"
     ]
    },
    {
     "name": "stdout",
     "output_type": "stream",
     "text": [
      "Method 1 Kmean Band=['VV_gamma0_flatDB'],continue\n",
      "Write csv and shp, Method=Kmean  Img=s1_unit_mean_  Band=['VV_gamma0_flatDB', 'VH_gamma0_flatDB']\n",
      "Method 1 SNIC_Kmean Band=['VV_gamma0_flatDB'],continue\n",
      "Write csv and shp, Method=SNIC_Kmean  Img=s1_unit_mean_  Band=['VV_gamma0_flatDB', 'VH_gamma0_flatDB']\n",
      "Write csv and shp, Method=SNIC_Kmean  Img=s1_unit_mean_  Band=['VV_gamma0_flatDB', 'VH_gamma0_flatDB']\n",
      "Method 1 Xmeans Band=['VV_gamma0_flatDB'],continue\n",
      "Write csv and shp, Method=Xmeans  Img=s1_unit_mean_  Band=['VV_gamma0_flatDB', 'VH_gamma0_flatDB']\n",
      "Method 1 CascadeKMeans Band=['VV_gamma0_flatDB'],continue\n",
      "Write csv and shp, Method=CascadeKMeans  Img=s1_unit_mean_  Band=['VV_gamma0_flatDB', 'VH_gamma0_flatDB']\n",
      "Threshould value is 0.6122379700604824\n",
      "Write csv and shp, Method=otsu  Img=s1_unit_mean_  Band=['VV_gamma0_flatDB']\n",
      "Method 2 otsu Band=['VV_gamma0_flatDB', 'VH_gamma0_flatDB'],continue\n",
      "Threshould value is 0.512804802895543\n",
      "Write csv and shp, Method=isodata  Img=s1_unit_mean_  Band=['VV_gamma0_flatDB']\n",
      "Method 2 isodata Band=['VV_gamma0_flatDB', 'VH_gamma0_flatDB'],continue\n",
      "该函数运行了 167.39238 秒\n"
     ]
    },
    {
     "name": "stderr",
     "output_type": "stream",
     "text": [
      " 28%|##8       | 69/244 [3:10:46<8:16:00, 170.06s/it]"
     ]
    },
    {
     "name": "stdout",
     "output_type": "stream",
     "text": [
      "Begin Filter ...\n"
     ]
    },
    {
     "name": "stderr",
     "output_type": "stream",
     "text": [
      "\n",
      "100%|##########| 27/27 [00:00<00:00, 1990.02it/s]\n",
      "\n",
      "100%|##########| 27/27 [00:00<00:00, 319.00it/s]\n",
      "\n",
      "100%|##########| 26/26 [00:00<00:00, 1855.79it/s]\n",
      "\n",
      "  0%|          | 0/26 [00:00<?, ?it/s]\u001b[A\n",
      "100%|##########| 26/26 [00:00<00:00, 227.92it/s]\u001b[A\n"
     ]
    },
    {
     "name": "stdout",
     "output_type": "stream",
     "text": [
      "Method 1 Kmean Band=['VV_gamma0_flatDB'],continue\n",
      "Write csv and shp, Method=Kmean  Img=s1_unit_mean_  Band=['VV_gamma0_flatDB', 'VH_gamma0_flatDB']\n",
      "Method 1 SNIC_Kmean Band=['VV_gamma0_flatDB'],continue\n",
      "Write csv and shp, Method=SNIC_Kmean  Img=s1_unit_mean_  Band=['VV_gamma0_flatDB', 'VH_gamma0_flatDB']\n",
      "Write csv and shp, Method=SNIC_Kmean  Img=s1_unit_mean_  Band=['VV_gamma0_flatDB', 'VH_gamma0_flatDB']\n",
      "Method 1 Xmeans Band=['VV_gamma0_flatDB'],continue\n",
      "Write csv and shp, Method=Xmeans  Img=s1_unit_mean_  Band=['VV_gamma0_flatDB', 'VH_gamma0_flatDB']\n",
      "Method 1 CascadeKMeans Band=['VV_gamma0_flatDB'],continue\n",
      "Write csv and shp, Method=CascadeKMeans  Img=s1_unit_mean_  Band=['VV_gamma0_flatDB', 'VH_gamma0_flatDB']\n",
      "Threshould value is 0.5848491270848722\n",
      "Write csv and shp, Method=otsu  Img=s1_unit_mean_  Band=['VV_gamma0_flatDB']\n",
      "Method 2 otsu Band=['VV_gamma0_flatDB', 'VH_gamma0_flatDB'],continue\n",
      "Threshould value is 0.5713201194119499\n",
      "Write csv and shp, Method=isodata  Img=s1_unit_mean_  Band=['VV_gamma0_flatDB']\n",
      "Method 2 isodata Band=['VV_gamma0_flatDB', 'VH_gamma0_flatDB'],continue\n",
      "该函数运行了 157.82002 秒\n"
     ]
    },
    {
     "name": "stderr",
     "output_type": "stream",
     "text": [
      " 29%|##8       | 70/244 [3:13:24<8:02:31, 166.39s/it]"
     ]
    },
    {
     "name": "stdout",
     "output_type": "stream",
     "text": [
      "Begin Filter ...\n"
     ]
    },
    {
     "name": "stderr",
     "output_type": "stream",
     "text": [
      "\n",
      "100%|##########| 20/20 [00:00<00:00, 1878.75it/s]\n",
      "\n",
      "100%|##########| 20/20 [00:00<00:00, 310.67it/s]\n",
      "\n",
      "100%|##########| 21/21 [00:00<00:00, 1951.96it/s]\n",
      "\n",
      "100%|##########| 21/21 [00:00<00:00, 311.58it/s]\n"
     ]
    },
    {
     "name": "stdout",
     "output_type": "stream",
     "text": [
      "Method 1 Kmean Band=['VV_gamma0_flatDB'],continue\n",
      "Write csv and shp, Method=Kmean  Img=s1_unit_mean_  Band=['VV_gamma0_flatDB', 'VH_gamma0_flatDB']\n",
      "Method 1 SNIC_Kmean Band=['VV_gamma0_flatDB'],continue\n",
      "Write csv and shp, Method=SNIC_Kmean  Img=s1_unit_mean_  Band=['VV_gamma0_flatDB', 'VH_gamma0_flatDB']\n",
      "Write csv and shp, Method=SNIC_Kmean  Img=s1_unit_mean_  Band=['VV_gamma0_flatDB', 'VH_gamma0_flatDB']\n",
      "Method 1 Xmeans Band=['VV_gamma0_flatDB'],continue\n",
      "Write csv and shp, Method=Xmeans  Img=s1_unit_mean_  Band=['VV_gamma0_flatDB', 'VH_gamma0_flatDB']\n",
      "Method 1 CascadeKMeans Band=['VV_gamma0_flatDB'],continue\n",
      "Write csv and shp, Method=CascadeKMeans  Img=s1_unit_mean_  Band=['VV_gamma0_flatDB', 'VH_gamma0_flatDB']\n",
      "Threshould value is 0.4833984375\n",
      "Write csv and shp, Method=otsu  Img=s1_unit_mean_  Band=['VV_gamma0_flatDB']\n",
      "Method 2 otsu Band=['VV_gamma0_flatDB', 'VH_gamma0_flatDB'],continue\n"
     ]
    },
    {
     "name": "stderr",
     "output_type": "stream",
     "text": [
      "/root/GEE/Extract_algorithm.py:229: RuntimeWarning: invalid value encountered in divide\n",
      "  higher = (csum_intensity[-1] - csum_intensity[:-1]) / (csumh[:-1]+sys.float_info.min)\n"
     ]
    },
    {
     "name": "stdout",
     "output_type": "stream",
     "text": [
      "Threshould value is 0.4833984375\n",
      "Write csv and shp, Method=isodata  Img=s1_unit_mean_  Band=['VV_gamma0_flatDB']\n",
      "Method 2 isodata Band=['VV_gamma0_flatDB', 'VH_gamma0_flatDB'],continue\n",
      "该函数运行了 155.00235 秒\n"
     ]
    },
    {
     "name": "stderr",
     "output_type": "stream",
     "text": [
      " 29%|##9       | 71/244 [3:15:59<7:49:54, 162.97s/it]"
     ]
    },
    {
     "name": "stdout",
     "output_type": "stream",
     "text": [
      "Begin Filter ...\n"
     ]
    },
    {
     "name": "stderr",
     "output_type": "stream",
     "text": [
      "\n",
      "100%|##########| 32/32 [00:00<00:00, 2064.98it/s]\n",
      "\n",
      "  0%|          | 0/32 [00:00<?, ?it/s]\u001b[A\n",
      "100%|##########| 32/32 [00:00<00:00, 262.22it/s]\u001b[A\n",
      "\n",
      "100%|##########| 32/32 [00:00<00:00, 2036.44it/s]\n",
      "\n",
      "  0%|          | 0/32 [00:00<?, ?it/s]\u001b[A\n",
      "100%|##########| 32/32 [00:00<00:00, 280.85it/s]\u001b[A\n"
     ]
    },
    {
     "name": "stdout",
     "output_type": "stream",
     "text": [
      "Method 1 Kmean Band=['VV_gamma0_flatDB'],continue\n",
      "Write csv and shp, Method=Kmean  Img=s1_unit_mean_  Band=['VV_gamma0_flatDB', 'VH_gamma0_flatDB']\n",
      "Method 1 SNIC_Kmean Band=['VV_gamma0_flatDB'],continue\n",
      "Write csv and shp, Method=SNIC_Kmean  Img=s1_unit_mean_  Band=['VV_gamma0_flatDB', 'VH_gamma0_flatDB']\n",
      "Write csv and shp, Method=SNIC_Kmean  Img=s1_unit_mean_  Band=['VV_gamma0_flatDB', 'VH_gamma0_flatDB']\n",
      "Method 1 Xmeans Band=['VV_gamma0_flatDB'],continue\n",
      "Write csv and shp, Method=Xmeans  Img=s1_unit_mean_  Band=['VV_gamma0_flatDB', 'VH_gamma0_flatDB']\n",
      "Method 1 CascadeKMeans Band=['VV_gamma0_flatDB'],continue\n",
      "Write csv and shp, Method=CascadeKMeans  Img=s1_unit_mean_  Band=['VV_gamma0_flatDB', 'VH_gamma0_flatDB']\n",
      "Threshould value is 0.37402696244231254\n",
      "Write csv and shp, Method=otsu  Img=s1_unit_mean_  Band=['VV_gamma0_flatDB']\n",
      "Method 2 otsu Band=['VV_gamma0_flatDB', 'VH_gamma0_flatDB'],continue\n",
      "Threshould value is 0.37585815375275866\n",
      "Write csv and shp, Method=isodata  Img=s1_unit_mean_  Band=['VV_gamma0_flatDB']\n",
      "Method 2 isodata Band=['VV_gamma0_flatDB', 'VH_gamma0_flatDB'],continue\n",
      "该函数运行了 159.10197 秒\n"
     ]
    },
    {
     "name": "stderr",
     "output_type": "stream",
     "text": [
      " 30%|##9       | 72/244 [3:18:38<7:43:52, 161.81s/it]"
     ]
    },
    {
     "name": "stdout",
     "output_type": "stream",
     "text": [
      "Begin Filter ...\n"
     ]
    },
    {
     "name": "stderr",
     "output_type": "stream",
     "text": [
      "\n",
      "100%|##########| 15/15 [00:00<00:00, 1707.04it/s]\n",
      "\n",
      "100%|##########| 15/15 [00:00<00:00, 499.36it/s]\n",
      "\n",
      "100%|##########| 15/15 [00:00<00:00, 1941.03it/s]\n",
      "\n",
      "100%|##########| 15/15 [00:00<00:00, 508.48it/s]\n"
     ]
    },
    {
     "name": "stdout",
     "output_type": "stream",
     "text": [
      "Method 1 Kmean Band=['VV_gamma0_flatDB'],continue\n",
      "Write csv and shp, Method=Kmean  Img=s1_unit_mean_  Band=['VV_gamma0_flatDB', 'VH_gamma0_flatDB']\n",
      "Method 1 SNIC_Kmean Band=['VV_gamma0_flatDB'],continue\n",
      "Write csv and shp, Method=SNIC_Kmean  Img=s1_unit_mean_  Band=['VV_gamma0_flatDB', 'VH_gamma0_flatDB']\n",
      "Write csv and shp, Method=SNIC_Kmean  Img=s1_unit_mean_  Band=['VV_gamma0_flatDB', 'VH_gamma0_flatDB']\n",
      "Method 1 Xmeans Band=['VV_gamma0_flatDB'],continue\n",
      "Write csv and shp, Method=Xmeans  Img=s1_unit_mean_  Band=['VV_gamma0_flatDB', 'VH_gamma0_flatDB']\n",
      "Method 1 CascadeKMeans Band=['VV_gamma0_flatDB'],continue\n",
      "Write csv and shp, Method=CascadeKMeans  Img=s1_unit_mean_  Band=['VV_gamma0_flatDB', 'VH_gamma0_flatDB']\n",
      "Threshould value is 0.6064453125\n",
      "Write csv and shp, Method=otsu  Img=s1_unit_mean_  Band=['VV_gamma0_flatDB']\n",
      "Method 2 otsu Band=['VV_gamma0_flatDB', 'VH_gamma0_flatDB'],continue\n",
      "Threshould value is 0.5605946994974874\n",
      "Write csv and shp, Method=isodata  Img=s1_unit_mean_  Band=['VV_gamma0_flatDB']\n",
      "Method 2 isodata Band=['VV_gamma0_flatDB', 'VH_gamma0_flatDB'],continue\n",
      "该函数运行了 149.35756 秒\n"
     ]
    },
    {
     "name": "stderr",
     "output_type": "stream",
     "text": [
      " 30%|##9       | 73/244 [3:21:08<7:30:31, 158.08s/it]"
     ]
    },
    {
     "name": "stdout",
     "output_type": "stream",
     "text": [
      "Begin Filter ...\n"
     ]
    },
    {
     "name": "stderr",
     "output_type": "stream",
     "text": [
      "\n",
      "100%|##########| 12/12 [00:00<00:00, 1513.37it/s]\n",
      "\n",
      "100%|##########| 12/12 [00:00<00:00, 626.76it/s]\n",
      "\n",
      "100%|##########| 11/11 [00:00<00:00, 1661.23it/s]\n",
      "\n",
      "100%|##########| 11/11 [00:00<00:00, 527.38it/s]\n"
     ]
    },
    {
     "name": "stdout",
     "output_type": "stream",
     "text": [
      "Method 1 Kmean Band=['VV_gamma0_flatDB'],continue\n",
      "Write csv and shp, Method=Kmean  Img=s1_unit_mean_  Band=['VV_gamma0_flatDB', 'VH_gamma0_flatDB']\n",
      "Method 1 SNIC_Kmean Band=['VV_gamma0_flatDB'],continue\n",
      "Write csv and shp, Method=SNIC_Kmean  Img=s1_unit_mean_  Band=['VV_gamma0_flatDB', 'VH_gamma0_flatDB']\n",
      "Write csv and shp, Method=SNIC_Kmean  Img=s1_unit_mean_  Band=['VV_gamma0_flatDB', 'VH_gamma0_flatDB']\n",
      "Method 1 Xmeans Band=['VV_gamma0_flatDB'],continue\n",
      "Write csv and shp, Method=Xmeans  Img=s1_unit_mean_  Band=['VV_gamma0_flatDB', 'VH_gamma0_flatDB']\n",
      "Method 1 CascadeKMeans Band=['VV_gamma0_flatDB'],continue\n",
      "Write csv and shp, Method=CascadeKMeans  Img=s1_unit_mean_  Band=['VV_gamma0_flatDB', 'VH_gamma0_flatDB']\n",
      "Threshould value is 0.48387162500539693\n",
      "Write csv and shp, Method=otsu  Img=s1_unit_mean_  Band=['VV_gamma0_flatDB']\n",
      "Method 2 otsu Band=['VV_gamma0_flatDB', 'VH_gamma0_flatDB'],continue\n"
     ]
    },
    {
     "name": "stderr",
     "output_type": "stream",
     "text": [
      "/root/GEE/Extract_algorithm.py:229: RuntimeWarning: invalid value encountered in divide\n",
      "  higher = (csum_intensity[-1] - csum_intensity[:-1]) / (csumh[:-1]+sys.float_info.min)\n"
     ]
    },
    {
     "name": "stdout",
     "output_type": "stream",
     "text": [
      "Threshould value is 0.4873046875\n",
      "Write csv and shp, Method=isodata  Img=s1_unit_mean_  Band=['VV_gamma0_flatDB']\n",
      "Method 2 isodata Band=['VV_gamma0_flatDB', 'VH_gamma0_flatDB'],continue\n",
      "Generating URL ...\n",
      "Downloading data from https://earthengine.googleapis.com/v1/projects/earthengine-legacy/thumbnails/0d50a286d63944522dcca8b878b25286-b040d983fe5fde5fd741a4907cb9a811:getPixels\n",
      "Please wait ...\n",
      "Data downloaded to /root/GEE/2019补齐结果/4773_Ascending_S1A_IW_GRDH_1SDV_20190714T115743_20190714T115808_028113_032CCD_07AC.tif\n",
      "image save right\n",
      "change image bandNames\n",
      "Generating URL ...\n",
      "Downloading data from https://earthengine.googleapis.com/v1/projects/earthengine-legacy/thumbnails/461166d9aa565d292d7fcc0bc657e77e-758ac7d38efddf9f3d1a53e815f4dd0e:getPixels\n",
      "Please wait ...\n",
      "Data downloaded to /root/GEE/2019补齐结果/4773_Descending_S1A_IW_GRDH_1SDV_20190721T235404_20190721T235429_028222_033027_8116.tif\n",
      "image save right\n",
      "change image bandNames\n",
      "Generating URL ...\n",
      "Downloading data from https://earthengine.googleapis.com/v1/projects/earthengine-legacy/thumbnails/db67243edbff4952a90ca54dc37bad13-8e0bd528bc94cba752515487add9c04f:getPixels\n",
      "Please wait ...\n",
      "Data downloaded to /root/GEE/2019补齐结果/4773_s2a_sr_median.tif\n",
      "image save right\n",
      "change image bandNames\n",
      "Generating URL ...\n",
      "Downloading data from https://earthengine.googleapis.com/v1/projects/earthengine-legacy/thumbnails/c03488e28403d58f3f3c15abf66b11b5-a1cd1253da361072c5d782b355961409:getPixels\n",
      "Please wait ...\n",
      "Data downloaded to /root/GEE/2019补齐结果/4773_s1_unit_mean_.tif\n",
      "image save right\n",
      "change image bandNames\n",
      "Generating URL ...\n",
      "Downloading data from https://earthengine.googleapis.com/v1/projects/earthengine-legacy/thumbnails/e1dfa2bd8f27eca1f7f364c90ae4c03c-8c2a1920ef89ae9477f51f59be6cf48b:getPixels\n",
      "Please wait ...\n",
      "Data downloaded to /root/GEE/2019补齐结果/4773_s1_unit_max_.tif\n",
      "image save right\n",
      "change image bandNames\n",
      "Generating URL ...\n",
      "Downloading data from https://earthengine.googleapis.com/v1/projects/earthengine-legacy/thumbnails/36f77def909749cd86288aacf215768b-7e99ac103744b05ab7112af33e043803:getPixels\n",
      "Please wait ...\n",
      "Data downloaded to /root/GEE/2019补齐结果/4773_s1_unit_min_.tif\n",
      "image save right\n",
      "change image bandNames\n",
      "Generating URL ...\n",
      "Downloading data from https://earthengine.googleapis.com/v1/projects/earthengine-legacy/thumbnails/cb5ee8ead257cb5c702180fd14a0ddf4-bb222d6cfeec420f03a86748015a027d:getPixels\n",
      "Please wait ...\n",
      "Data downloaded to /root/GEE/2019补齐结果/4773_DistortionAS1A_IW_GRDH_1SDV_20190714T115743_20190714T115808_028113_032CCD_07AC.tif\n",
      "image save right\n",
      "change image bandNames\n",
      "Generating URL ...\n",
      "Downloading data from https://earthengine.googleapis.com/v1/projects/earthengine-legacy/thumbnails/2102bb61c09f9f6b5be3e68ea0b4c15f-b494bf59c07db748e4569a856c00e06e:getPixels\n",
      "Please wait ...\n",
      "Data downloaded to /root/GEE/2019补齐结果/4773_DistortionDS1A_IW_GRDH_1SDV_20190721T235404_20190721T235429_028222_033027_8116.tif\n",
      "image save right\n",
      "change image bandNames\n",
      "该函数运行了 229.49776 秒\n"
     ]
    },
    {
     "name": "stderr",
     "output_type": "stream",
     "text": [
      " 30%|###       | 74/244 [3:24:57<8:28:35, 179.51s/it]"
     ]
    },
    {
     "name": "stdout",
     "output_type": "stream",
     "text": [
      "Begin Filter ...\n"
     ]
    },
    {
     "name": "stderr",
     "output_type": "stream",
     "text": [
      "\n",
      "100%|##########| 29/29 [00:00<00:00, 1453.21it/s]\n",
      "\n",
      "  0%|          | 0/29 [00:00<?, ?it/s]\u001b[A\n",
      "100%|##########| 29/29 [00:00<00:00, 176.75it/s]\u001b[A\n",
      "\n",
      "100%|##########| 30/30 [00:00<00:00, 1598.22it/s]\n",
      "\n",
      "  0%|          | 0/30 [00:00<?, ?it/s]\u001b[A\n",
      "100%|##########| 30/30 [00:00<00:00, 193.31it/s]\u001b[A\n"
     ]
    },
    {
     "name": "stdout",
     "output_type": "stream",
     "text": [
      "Method 1 Kmean Band=['VV_gamma0_flatDB'],continue\n",
      "Write csv and shp, Method=Kmean  Img=s1_unit_mean_  Band=['VV_gamma0_flatDB', 'VH_gamma0_flatDB']\n",
      "Method 1 SNIC_Kmean Band=['VV_gamma0_flatDB'],continue\n",
      "Write csv and shp, Method=SNIC_Kmean  Img=s1_unit_mean_  Band=['VV_gamma0_flatDB', 'VH_gamma0_flatDB']\n",
      "Write csv and shp, Method=SNIC_Kmean  Img=s1_unit_mean_  Band=['VV_gamma0_flatDB', 'VH_gamma0_flatDB']\n",
      "Method 1 Xmeans Band=['VV_gamma0_flatDB'],continue\n",
      "Write csv and shp, Method=Xmeans  Img=s1_unit_mean_  Band=['VV_gamma0_flatDB', 'VH_gamma0_flatDB']\n",
      "Method 1 CascadeKMeans Band=['VV_gamma0_flatDB'],continue\n",
      "Write csv and shp, Method=CascadeKMeans  Img=s1_unit_mean_  Band=['VV_gamma0_flatDB', 'VH_gamma0_flatDB']\n",
      "Threshould value is 0.467242051078696\n",
      "Write csv and shp, Method=otsu  Img=s1_unit_mean_  Band=['VV_gamma0_flatDB']\n",
      "Method 2 otsu Band=['VV_gamma0_flatDB', 'VH_gamma0_flatDB'],continue\n"
     ]
    },
    {
     "name": "stderr",
     "output_type": "stream",
     "text": [
      "/root/GEE/Extract_algorithm.py:229: RuntimeWarning: invalid value encountered in divide\n",
      "  higher = (csum_intensity[-1] - csum_intensity[:-1]) / (csumh[:-1]+sys.float_info.min)\n"
     ]
    },
    {
     "name": "stdout",
     "output_type": "stream",
     "text": [
      "Threshould value is 0.4704147956905061\n",
      "Write csv and shp, Method=isodata  Img=s1_unit_mean_  Band=['VV_gamma0_flatDB']\n",
      "Method 2 isodata Band=['VV_gamma0_flatDB', 'VH_gamma0_flatDB'],continue\n",
      "该函数运行了 155.57895 秒\n"
     ]
    },
    {
     "name": "stderr",
     "output_type": "stream",
     "text": [
      " 31%|###       | 75/244 [3:27:33<8:05:23, 172.33s/it]"
     ]
    },
    {
     "name": "stdout",
     "output_type": "stream",
     "text": [
      "Begin Filter ...\n"
     ]
    },
    {
     "name": "stderr",
     "output_type": "stream",
     "text": [
      "\n",
      "100%|##########| 31/31 [00:00<00:00, 2026.36it/s]\n",
      "\n",
      "100%|##########| 31/31 [00:00<00:00, 307.02it/s]\n",
      "\n",
      "100%|##########| 30/30 [00:00<00:00, 1923.02it/s]\n",
      "\n",
      "100%|##########| 30/30 [00:00<00:00, 329.60it/s]\n"
     ]
    },
    {
     "name": "stdout",
     "output_type": "stream",
     "text": [
      "Method 1 Kmean Band=['VV_gamma0_flatDB'],continue\n",
      "Write csv and shp, Method=Kmean  Img=s1_unit_mean_  Band=['VV_gamma0_flatDB', 'VH_gamma0_flatDB']\n",
      "Method 1 SNIC_Kmean Band=['VV_gamma0_flatDB'],continue\n",
      "Write csv and shp, Method=SNIC_Kmean  Img=s1_unit_mean_  Band=['VV_gamma0_flatDB', 'VH_gamma0_flatDB']\n",
      "Write csv and shp, Method=SNIC_Kmean  Img=s1_unit_mean_  Band=['VV_gamma0_flatDB', 'VH_gamma0_flatDB']\n",
      "Method 1 Xmeans Band=['VV_gamma0_flatDB'],continue\n",
      "Write csv and shp, Method=Xmeans  Img=s1_unit_mean_  Band=['VV_gamma0_flatDB', 'VH_gamma0_flatDB']\n",
      "Method 1 CascadeKMeans Band=['VV_gamma0_flatDB'],continue\n",
      "Write csv and shp, Method=CascadeKMeans  Img=s1_unit_mean_  Band=['VV_gamma0_flatDB', 'VH_gamma0_flatDB']\n",
      "Threshould value is 0.5824578983606592\n",
      "Write csv and shp, Method=otsu  Img=s1_unit_mean_  Band=['VV_gamma0_flatDB']\n",
      "Method 2 otsu Band=['VV_gamma0_flatDB', 'VH_gamma0_flatDB'],continue\n",
      "Threshould value is 0.549519667468324\n",
      "Write csv and shp, Method=isodata  Img=s1_unit_mean_  Band=['VV_gamma0_flatDB']\n",
      "Method 2 isodata Band=['VV_gamma0_flatDB', 'VH_gamma0_flatDB'],continue\n",
      "该函数运行了 155.84965 秒\n"
     ]
    },
    {
     "name": "stderr",
     "output_type": "stream",
     "text": [
      " 31%|###1      | 76/244 [3:30:09<7:48:40, 167.39s/it]"
     ]
    },
    {
     "name": "stdout",
     "output_type": "stream",
     "text": [
      "Begin Filter ...\n"
     ]
    },
    {
     "name": "stderr",
     "output_type": "stream",
     "text": [
      "\n",
      "100%|##########| 37/37 [00:00<00:00, 2019.12it/s]\n",
      "\n",
      "  0%|          | 0/37 [00:00<?, ?it/s]\u001b[A\n",
      " 41%|####      | 15/37 [00:00<00:00, 146.08it/s]\u001b[A\n",
      "100%|##########| 37/37 [00:00<00:00, 138.35it/s]\u001b[A\n",
      "\n",
      "100%|##########| 37/37 [00:00<00:00, 2019.67it/s]\n",
      "\n",
      "  0%|          | 0/37 [00:00<?, ?it/s]\u001b[A\n",
      " 35%|###5      | 13/37 [00:00<00:00, 129.11it/s]\u001b[A\n",
      "100%|##########| 37/37 [00:00<00:00, 134.75it/s]\u001b[A\n"
     ]
    },
    {
     "name": "stdout",
     "output_type": "stream",
     "text": [
      "Method 1 Kmean Band=['VV_gamma0_flatDB'],continue\n",
      "Write csv and shp, Method=Kmean  Img=s1_unit_mean_  Band=['VV_gamma0_flatDB', 'VH_gamma0_flatDB']\n",
      "Method 1 SNIC_Kmean Band=['VV_gamma0_flatDB'],continue\n",
      "Write csv and shp, Method=SNIC_Kmean  Img=s1_unit_mean_  Band=['VV_gamma0_flatDB', 'VH_gamma0_flatDB']\n",
      "Write csv and shp, Method=SNIC_Kmean  Img=s1_unit_mean_  Band=['VV_gamma0_flatDB', 'VH_gamma0_flatDB']\n",
      "Method 1 Xmeans Band=['VV_gamma0_flatDB'],continue\n",
      "Write csv and shp, Method=Xmeans  Img=s1_unit_mean_  Band=['VV_gamma0_flatDB', 'VH_gamma0_flatDB']\n",
      "Method 1 CascadeKMeans Band=['VV_gamma0_flatDB'],continue\n",
      "Write csv and shp, Method=CascadeKMeans  Img=s1_unit_mean_  Band=['VV_gamma0_flatDB', 'VH_gamma0_flatDB']\n",
      "Threshould value is 0.5090285906286867\n",
      "Write csv and shp, Method=otsu  Img=s1_unit_mean_  Band=['VV_gamma0_flatDB']\n",
      "Method 2 otsu Band=['VV_gamma0_flatDB', 'VH_gamma0_flatDB'],continue\n",
      "Threshould value is 0.5067170049722887\n",
      "Write csv and shp, Method=isodata  Img=s1_unit_mean_  Band=['VV_gamma0_flatDB']\n",
      "Method 2 isodata Band=['VV_gamma0_flatDB', 'VH_gamma0_flatDB'],continue\n",
      "该函数运行了 154.36907 秒\n"
     ]
    },
    {
     "name": "stderr",
     "output_type": "stream",
     "text": [
      " 32%|###1      | 77/244 [3:32:43<7:35:01, 163.48s/it]"
     ]
    },
    {
     "name": "stdout",
     "output_type": "stream",
     "text": [
      "Begin Filter ...\n"
     ]
    },
    {
     "name": "stderr",
     "output_type": "stream",
     "text": [
      "\n",
      "100%|##########| 15/15 [00:00<00:00, 1791.21it/s]\n",
      "\n",
      "100%|##########| 15/15 [00:00<00:00, 403.07it/s]\n",
      "\n",
      "100%|##########| 16/16 [00:00<00:00, 1766.49it/s]\n",
      "\n",
      "100%|##########| 16/16 [00:00<00:00, 489.04it/s]\n"
     ]
    },
    {
     "name": "stdout",
     "output_type": "stream",
     "text": [
      "Method 1 Kmean Band=['VV_gamma0_flatDB'],continue\n",
      "Write csv and shp, Method=Kmean  Img=s1_unit_mean_  Band=['VV_gamma0_flatDB', 'VH_gamma0_flatDB']\n",
      "Method 1 SNIC_Kmean Band=['VV_gamma0_flatDB'],continue\n",
      "Write csv and shp, Method=SNIC_Kmean  Img=s1_unit_mean_  Band=['VV_gamma0_flatDB', 'VH_gamma0_flatDB']\n",
      "Write csv and shp, Method=SNIC_Kmean  Img=s1_unit_mean_  Band=['VV_gamma0_flatDB', 'VH_gamma0_flatDB']\n",
      "Method 1 Xmeans Band=['VV_gamma0_flatDB'],continue\n",
      "Write csv and shp, Method=Xmeans  Img=s1_unit_mean_  Band=['VV_gamma0_flatDB', 'VH_gamma0_flatDB']\n",
      "Method 1 CascadeKMeans Band=['VV_gamma0_flatDB'],continue\n",
      "Write csv and shp, Method=CascadeKMeans  Img=s1_unit_mean_  Band=['VV_gamma0_flatDB', 'VH_gamma0_flatDB']\n",
      "Threshould value is 0.5048828125\n",
      "Write csv and shp, Method=otsu  Img=s1_unit_mean_  Band=['VV_gamma0_flatDB']\n",
      "Method 2 otsu Band=['VV_gamma0_flatDB', 'VH_gamma0_flatDB'],continue\n",
      "Threshould value is 0.5019770927143349\n",
      "Write csv and shp, Method=isodata  Img=s1_unit_mean_  Band=['VV_gamma0_flatDB']\n",
      "Method 2 isodata Band=['VV_gamma0_flatDB', 'VH_gamma0_flatDB'],continue\n",
      "该函数运行了 146.68512 秒\n"
     ]
    },
    {
     "name": "stderr",
     "output_type": "stream",
     "text": [
      " 32%|###1      | 78/244 [3:35:10<7:18:21, 158.44s/it]"
     ]
    },
    {
     "name": "stdout",
     "output_type": "stream",
     "text": [
      "Begin Filter ...\n"
     ]
    },
    {
     "name": "stderr",
     "output_type": "stream",
     "text": [
      "\n",
      "100%|##########| 18/18 [00:00<00:00, 1423.27it/s]\n",
      "\n",
      "100%|##########| 18/18 [00:00<00:00, 365.37it/s]\n",
      "\n",
      "100%|##########| 18/18 [00:00<00:00, 1809.15it/s]\n",
      "\n",
      "100%|##########| 18/18 [00:00<00:00, 377.49it/s]\n"
     ]
    },
    {
     "name": "stdout",
     "output_type": "stream",
     "text": [
      "Method 1 Kmean Band=['VV_gamma0_flatDB'],continue\n",
      "Write csv and shp, Method=Kmean  Img=s1_unit_mean_  Band=['VV_gamma0_flatDB', 'VH_gamma0_flatDB']\n",
      "Method 1 SNIC_Kmean Band=['VV_gamma0_flatDB'],continue\n",
      "Write csv and shp, Method=SNIC_Kmean  Img=s1_unit_mean_  Band=['VV_gamma0_flatDB', 'VH_gamma0_flatDB']\n",
      "Write csv and shp, Method=SNIC_Kmean  Img=s1_unit_mean_  Band=['VV_gamma0_flatDB', 'VH_gamma0_flatDB']\n",
      "Method 1 Xmeans Band=['VV_gamma0_flatDB'],continue\n",
      "Write csv and shp, Method=Xmeans  Img=s1_unit_mean_  Band=['VV_gamma0_flatDB', 'VH_gamma0_flatDB']\n",
      "Method 1 CascadeKMeans Band=['VV_gamma0_flatDB'],continue\n",
      "Write csv and shp, Method=CascadeKMeans  Img=s1_unit_mean_  Band=['VV_gamma0_flatDB', 'VH_gamma0_flatDB']\n",
      "Threshould value is 0.5341796875\n",
      "Write csv and shp, Method=otsu  Img=s1_unit_mean_  Band=['VV_gamma0_flatDB']\n",
      "Method 2 otsu Band=['VV_gamma0_flatDB', 'VH_gamma0_flatDB'],continue\n",
      "Threshould value is 0.5301611931554167\n",
      "Write csv and shp, Method=isodata  Img=s1_unit_mean_  Band=['VV_gamma0_flatDB']\n",
      "Method 2 isodata Band=['VV_gamma0_flatDB', 'VH_gamma0_flatDB'],continue\n",
      "该函数运行了 160.18531 秒\n"
     ]
    },
    {
     "name": "stderr",
     "output_type": "stream",
     "text": [
      " 32%|###2      | 79/244 [3:37:50<7:17:09, 158.97s/it]"
     ]
    },
    {
     "name": "stdout",
     "output_type": "stream",
     "text": [
      "Begin Filter ...\n"
     ]
    },
    {
     "name": "stderr",
     "output_type": "stream",
     "text": [
      "\n",
      "100%|##########| 12/12 [00:00<00:00, 1747.32it/s]\n",
      "\n",
      "100%|##########| 12/12 [00:00<00:00, 593.60it/s]\n",
      "\n",
      "100%|##########| 11/11 [00:00<00:00, 1835.95it/s]\n",
      "\n",
      "100%|##########| 11/11 [00:00<00:00, 436.86it/s]\n"
     ]
    },
    {
     "name": "stdout",
     "output_type": "stream",
     "text": [
      "Method 1 Kmean Band=['VV_gamma0_flatDB'],continue\n",
      "Write csv and shp, Method=Kmean  Img=s1_unit_mean_  Band=['VV_gamma0_flatDB', 'VH_gamma0_flatDB']\n",
      "Method 1 SNIC_Kmean Band=['VV_gamma0_flatDB'],continue\n",
      "Write csv and shp, Method=SNIC_Kmean  Img=s1_unit_mean_  Band=['VV_gamma0_flatDB', 'VH_gamma0_flatDB']\n",
      "Write csv and shp, Method=SNIC_Kmean  Img=s1_unit_mean_  Band=['VV_gamma0_flatDB', 'VH_gamma0_flatDB']\n",
      "Method 1 Xmeans Band=['VV_gamma0_flatDB'],continue\n",
      "Write csv and shp, Method=Xmeans  Img=s1_unit_mean_  Band=['VV_gamma0_flatDB', 'VH_gamma0_flatDB']\n",
      "Method 1 CascadeKMeans Band=['VV_gamma0_flatDB'],continue\n",
      "Write csv and shp, Method=CascadeKMeans  Img=s1_unit_mean_  Band=['VV_gamma0_flatDB', 'VH_gamma0_flatDB']\n",
      "Threshould value is 0.5869074484064483\n",
      "Write csv and shp, Method=otsu  Img=s1_unit_mean_  Band=['VV_gamma0_flatDB']\n",
      "Method 2 otsu Band=['VV_gamma0_flatDB', 'VH_gamma0_flatDB'],continue\n",
      "Threshould value is 0.5869074484064483\n",
      "Write csv and shp, Method=isodata  Img=s1_unit_mean_  Band=['VV_gamma0_flatDB']\n",
      "Method 2 isodata Band=['VV_gamma0_flatDB', 'VH_gamma0_flatDB'],continue\n",
      "Generating URL ...\n",
      "Downloading data from https://earthengine.googleapis.com/v1/projects/earthengine-legacy/thumbnails/0f9e0076f77f5d6b70bc4292a88e670c-3d064700e7292d2baea7b4894ea27ac6:getPixels\n",
      "Please wait ...\n",
      "Data downloaded to /root/GEE/2019补齐结果/4779_Ascending_S1A_IW_GRDH_1SDV_20190714T115808_20190714T115833_028113_032CCD_1F8C.tif\n",
      "image save right\n",
      "change image bandNames\n",
      "Generating URL ...\n",
      "Downloading data from https://earthengine.googleapis.com/v1/projects/earthengine-legacy/thumbnails/f32e36b73086e6a290d365506dd7380b-7e01b42660467a24702cb4b5d912b2bf:getPixels\n",
      "Please wait ...\n",
      "Data downloaded to /root/GEE/2019补齐结果/4779_Descending_S1A_IW_GRDH_1SDV_20190721T235404_20190721T235429_028222_033027_8116.tif\n",
      "image save right\n",
      "change image bandNames\n",
      "Generating URL ...\n",
      "Downloading data from https://earthengine.googleapis.com/v1/projects/earthengine-legacy/thumbnails/b8ebc54d4899ac3794de584d3578e474-925c188ff65975d7d0b4d9626c1bbf4b:getPixels\n",
      "Please wait ...\n",
      "Data downloaded to /root/GEE/2019补齐结果/4779_s2a_sr_median.tif\n",
      "image save right\n",
      "change image bandNames\n",
      "Generating URL ...\n",
      "Downloading data from https://earthengine.googleapis.com/v1/projects/earthengine-legacy/thumbnails/e210866bd0e3076221da358e8c68b049-6a1f11b2c594fd841e1b34e1bc823486:getPixels\n",
      "Please wait ...\n",
      "Data downloaded to /root/GEE/2019补齐结果/4779_s1_unit_mean_.tif\n",
      "image save right\n",
      "change image bandNames\n",
      "Generating URL ...\n",
      "Downloading data from https://earthengine.googleapis.com/v1/projects/earthengine-legacy/thumbnails/68269399df672a861256660e9b8d808e-85857687cd31bcc76cadc76bf5659f35:getPixels\n",
      "Please wait ...\n",
      "Data downloaded to /root/GEE/2019补齐结果/4779_s1_unit_max_.tif\n",
      "image save right\n",
      "change image bandNames\n",
      "Generating URL ...\n",
      "Downloading data from https://earthengine.googleapis.com/v1/projects/earthengine-legacy/thumbnails/e8264be514b0170e0f34275e7d89426d-88fb217d5c807ef3e157470df9958cc4:getPixels\n",
      "Please wait ...\n",
      "Data downloaded to /root/GEE/2019补齐结果/4779_s1_unit_min_.tif\n",
      "image save right\n",
      "change image bandNames\n",
      "Generating URL ...\n",
      "Downloading data from https://earthengine.googleapis.com/v1/projects/earthengine-legacy/thumbnails/112ba767d32746a2a7734578957d46f0-38231c659661672ed514da8a6f72db28:getPixels\n",
      "Please wait ...\n",
      "Data downloaded to /root/GEE/2019补齐结果/4779_DistortionAS1A_IW_GRDH_1SDV_20190714T115808_20190714T115833_028113_032CCD_1F8C.tif\n",
      "image save right\n",
      "change image bandNames\n",
      "Generating URL ...\n",
      "Downloading data from https://earthengine.googleapis.com/v1/projects/earthengine-legacy/thumbnails/e84d36ff2444b81e0e11437f357fbb80-deab5d6d4b09b55196ac9bc0c113bb2c:getPixels\n",
      "Please wait ...\n",
      "Data downloaded to /root/GEE/2019补齐结果/4779_DistortionDS1A_IW_GRDH_1SDV_20190721T235404_20190721T235429_028222_033027_8116.tif\n",
      "image save right\n",
      "change image bandNames\n",
      "该函数运行了 228.86425 秒\n"
     ]
    },
    {
     "name": "stderr",
     "output_type": "stream",
     "text": [
      " 33%|###2      | 80/244 [3:41:39<8:11:49, 179.94s/it]"
     ]
    },
    {
     "name": "stdout",
     "output_type": "stream",
     "text": [
      "Begin Filter ...\n"
     ]
    },
    {
     "name": "stderr",
     "output_type": "stream",
     "text": [
      "\n",
      "100%|##########| 19/19 [00:00<00:00, 1425.23it/s]\n",
      "\n",
      "100%|##########| 19/19 [00:00<00:00, 310.47it/s]\n",
      "\n",
      "100%|##########| 20/20 [00:00<00:00, 1888.09it/s]\n",
      "\n",
      "100%|##########| 20/20 [00:00<00:00, 367.56it/s]\n"
     ]
    },
    {
     "name": "stdout",
     "output_type": "stream",
     "text": [
      "Method 1 Kmean Band=['VV_gamma0_flatDB'],continue\n",
      "Write csv and shp, Method=Kmean  Img=s1_unit_mean_  Band=['VV_gamma0_flatDB', 'VH_gamma0_flatDB']\n",
      "Method 1 SNIC_Kmean Band=['VV_gamma0_flatDB'],continue\n",
      "Write csv and shp, Method=SNIC_Kmean  Img=s1_unit_mean_  Band=['VV_gamma0_flatDB', 'VH_gamma0_flatDB']\n",
      "Write csv and shp, Method=SNIC_Kmean  Img=s1_unit_mean_  Band=['VV_gamma0_flatDB', 'VH_gamma0_flatDB']\n",
      "Method 1 Xmeans Band=['VV_gamma0_flatDB'],continue\n",
      "Write csv and shp, Method=Xmeans  Img=s1_unit_mean_  Band=['VV_gamma0_flatDB', 'VH_gamma0_flatDB']\n",
      "Method 1 CascadeKMeans Band=['VV_gamma0_flatDB'],continue\n",
      "Write csv and shp, Method=CascadeKMeans  Img=s1_unit_mean_  Band=['VV_gamma0_flatDB', 'VH_gamma0_flatDB']\n",
      "Threshould value is 0.4736328125\n",
      "Write csv and shp, Method=otsu  Img=s1_unit_mean_  Band=['VV_gamma0_flatDB']\n",
      "Method 2 otsu Band=['VV_gamma0_flatDB', 'VH_gamma0_flatDB'],continue\n"
     ]
    },
    {
     "name": "stderr",
     "output_type": "stream",
     "text": [
      "/root/GEE/Extract_algorithm.py:229: RuntimeWarning: invalid value encountered in divide\n",
      "  higher = (csum_intensity[-1] - csum_intensity[:-1]) / (csumh[:-1]+sys.float_info.min)\n"
     ]
    },
    {
     "name": "stdout",
     "output_type": "stream",
     "text": [
      "Threshould value is 0.4736328125\n",
      "Write csv and shp, Method=isodata  Img=s1_unit_mean_  Band=['VV_gamma0_flatDB']\n",
      "Method 2 isodata Band=['VV_gamma0_flatDB', 'VH_gamma0_flatDB'],continue\n",
      "该函数运行了 161.85750 秒\n"
     ]
    },
    {
     "name": "stderr",
     "output_type": "stream",
     "text": [
      " 33%|###3      | 81/244 [3:44:20<7:54:05, 174.52s/it]"
     ]
    },
    {
     "name": "stdout",
     "output_type": "stream",
     "text": [
      "Begin Filter ...\n"
     ]
    },
    {
     "name": "stderr",
     "output_type": "stream",
     "text": [
      "\n",
      "100%|##########| 17/17 [00:00<00:00, 1669.79it/s]\n",
      "\n",
      "100%|##########| 17/17 [00:00<00:00, 340.29it/s]\n",
      "\n",
      "100%|##########| 17/17 [00:00<00:00, 2034.50it/s]\n",
      "\n",
      "100%|##########| 17/17 [00:00<00:00, 512.15it/s]\n"
     ]
    },
    {
     "name": "stdout",
     "output_type": "stream",
     "text": [
      "Method 1 Kmean Band=['VV_gamma0_flatDB'],continue\n",
      "Write csv and shp, Method=Kmean  Img=s1_unit_mean_  Band=['VV_gamma0_flatDB', 'VH_gamma0_flatDB']\n",
      "Method 1 SNIC_Kmean Band=['VV_gamma0_flatDB'],continue\n",
      "Write csv and shp, Method=SNIC_Kmean  Img=s1_unit_mean_  Band=['VV_gamma0_flatDB', 'VH_gamma0_flatDB']\n",
      "Write csv and shp, Method=SNIC_Kmean  Img=s1_unit_mean_  Band=['VV_gamma0_flatDB', 'VH_gamma0_flatDB']\n",
      "Method 1 Xmeans Band=['VV_gamma0_flatDB'],continue\n",
      "Write csv and shp, Method=Xmeans  Img=s1_unit_mean_  Band=['VV_gamma0_flatDB', 'VH_gamma0_flatDB']\n",
      "Method 1 CascadeKMeans Band=['VV_gamma0_flatDB'],continue\n",
      "Write csv and shp, Method=CascadeKMeans  Img=s1_unit_mean_  Band=['VV_gamma0_flatDB', 'VH_gamma0_flatDB']\n",
      "Threshould value is 0.4893889730121151\n",
      "Write csv and shp, Method=otsu  Img=s1_unit_mean_  Band=['VV_gamma0_flatDB']\n",
      "Method 2 otsu Band=['VV_gamma0_flatDB', 'VH_gamma0_flatDB'],continue\n",
      "Threshould value is 0.48330471006096265\n",
      "Write csv and shp, Method=isodata  Img=s1_unit_mean_  Band=['VV_gamma0_flatDB']\n",
      "Method 2 isodata Band=['VV_gamma0_flatDB', 'VH_gamma0_flatDB'],continue\n",
      "该函数运行了 159.89359 秒\n"
     ]
    },
    {
     "name": "stderr",
     "output_type": "stream",
     "text": [
      " 34%|###3      | 82/244 [3:47:00<7:39:20, 170.13s/it]"
     ]
    },
    {
     "name": "stdout",
     "output_type": "stream",
     "text": [
      "Begin Filter ...\n"
     ]
    },
    {
     "name": "stderr",
     "output_type": "stream",
     "text": [
      "\n",
      "100%|##########| 11/11 [00:00<00:00, 1618.74it/s]\n",
      "\n",
      "100%|##########| 11/11 [00:00<00:00, 544.70it/s]\n",
      "\n",
      "100%|##########| 12/12 [00:00<00:00, 1512.28it/s]\n",
      "\n",
      "100%|##########| 12/12 [00:00<00:00, 469.92it/s]\n"
     ]
    },
    {
     "name": "stdout",
     "output_type": "stream",
     "text": [
      "Method 1 Kmean Band=['VV_gamma0_flatDB'],continue\n",
      "Write csv and shp, Method=Kmean  Img=s1_unit_mean_  Band=['VV_gamma0_flatDB', 'VH_gamma0_flatDB']\n",
      "Method 1 SNIC_Kmean Band=['VV_gamma0_flatDB'],continue\n",
      "Write csv and shp, Method=SNIC_Kmean  Img=s1_unit_mean_  Band=['VV_gamma0_flatDB', 'VH_gamma0_flatDB']\n",
      "Write csv and shp, Method=SNIC_Kmean  Img=s1_unit_mean_  Band=['VV_gamma0_flatDB', 'VH_gamma0_flatDB']\n",
      "Method 1 Xmeans Band=['VV_gamma0_flatDB'],continue\n",
      "Write csv and shp, Method=Xmeans  Img=s1_unit_mean_  Band=['VV_gamma0_flatDB', 'VH_gamma0_flatDB']\n",
      "Method 1 CascadeKMeans Band=['VV_gamma0_flatDB'],continue\n",
      "Write csv and shp, Method=CascadeKMeans  Img=s1_unit_mean_  Band=['VV_gamma0_flatDB', 'VH_gamma0_flatDB']\n",
      "Threshould value is 0.5902432643371873\n",
      "Write csv and shp, Method=otsu  Img=s1_unit_mean_  Band=['VV_gamma0_flatDB']\n",
      "Method 2 otsu Band=['VV_gamma0_flatDB', 'VH_gamma0_flatDB'],continue\n"
     ]
    },
    {
     "name": "stderr",
     "output_type": "stream",
     "text": [
      "/root/GEE/Extract_algorithm.py:229: RuntimeWarning: invalid value encountered in divide\n",
      "  higher = (csum_intensity[-1] - csum_intensity[:-1]) / (csumh[:-1]+sys.float_info.min)\n"
     ]
    },
    {
     "name": "stdout",
     "output_type": "stream",
     "text": [
      "Threshould value is 0.593366505741481\n",
      "Write csv and shp, Method=isodata  Img=s1_unit_mean_  Band=['VV_gamma0_flatDB']\n",
      "Method 2 isodata Band=['VV_gamma0_flatDB', 'VH_gamma0_flatDB'],continue\n",
      "Generating URL ...\n",
      "Downloading data from https://earthengine.googleapis.com/v1/projects/earthengine-legacy/thumbnails/3d8dd2b1ca2e973b7e157118b32a32a1-7947ea0ce96afc2133bb6dc876b594f2:getPixels\n",
      "Please wait ...\n",
      "Data downloaded to /root/GEE/2019补齐结果/4782_Ascending_S1A_IW_GRDH_1SDV_20190714T115808_20190714T115833_028113_032CCD_1F8C.tif\n",
      "image save right\n",
      "change image bandNames\n",
      "Generating URL ...\n",
      "Downloading data from https://earthengine.googleapis.com/v1/projects/earthengine-legacy/thumbnails/7a6c13228174ac069636f4494848bce6-d8b27c1b67938d91b25fa703473f54aa:getPixels\n",
      "Please wait ...\n",
      "Data downloaded to /root/GEE/2019补齐结果/4782_Descending_S1A_IW_GRDH_1SDV_20190721T235404_20190721T235429_028222_033027_8116.tif\n",
      "image save right\n",
      "change image bandNames\n",
      "Generating URL ...\n",
      "Downloading data from https://earthengine.googleapis.com/v1/projects/earthengine-legacy/thumbnails/e80854df10932f741673cd40e26766dd-8eddb3efa3f5b16a18e7c522ba28f838:getPixels\n",
      "Please wait ...\n",
      "Data downloaded to /root/GEE/2019补齐结果/4782_s2a_sr_median.tif\n",
      "image save right\n",
      "change image bandNames\n",
      "Generating URL ...\n",
      "Downloading data from https://earthengine.googleapis.com/v1/projects/earthengine-legacy/thumbnails/7b2eeefa6b2f2fc3abcf636dd503878e-929963e5a64539d50f3ae06179c982e8:getPixels\n",
      "Please wait ...\n",
      "Data downloaded to /root/GEE/2019补齐结果/4782_s1_unit_mean_.tif\n",
      "image save right\n",
      "change image bandNames\n",
      "Generating URL ...\n",
      "Downloading data from https://earthengine.googleapis.com/v1/projects/earthengine-legacy/thumbnails/f6a595743ad0f62d6c8be83f63288ddf-4c0d110c99198d7626e0f71ff22d6c14:getPixels\n",
      "Please wait ...\n",
      "Data downloaded to /root/GEE/2019补齐结果/4782_s1_unit_max_.tif\n",
      "image save right\n",
      "change image bandNames\n",
      "Generating URL ...\n",
      "Downloading data from https://earthengine.googleapis.com/v1/projects/earthengine-legacy/thumbnails/b2faae2b2b67f6b49e91a1b85a6675cc-002bc2d9e691cd05b2842c2fa34c7c50:getPixels\n",
      "Please wait ...\n",
      "Data downloaded to /root/GEE/2019补齐结果/4782_s1_unit_min_.tif\n",
      "image save right\n",
      "change image bandNames\n",
      "Generating URL ...\n",
      "Downloading data from https://earthengine.googleapis.com/v1/projects/earthengine-legacy/thumbnails/cb12890a54944d8f881059e2ff60aee2-c6ca8b9a406386bc4d3d51e270afc862:getPixels\n",
      "Please wait ...\n",
      "Data downloaded to /root/GEE/2019补齐结果/4782_DistortionAS1A_IW_GRDH_1SDV_20190714T115808_20190714T115833_028113_032CCD_1F8C.tif\n",
      "image save right\n",
      "change image bandNames\n",
      "Generating URL ...\n",
      "Downloading data from https://earthengine.googleapis.com/v1/projects/earthengine-legacy/thumbnails/f2f1aeccb54e65fb688e03185d3a1a5f-23ad5a74f4dc51d5c798aa91a86d933b:getPixels\n",
      "Please wait ...\n",
      "Data downloaded to /root/GEE/2019补齐结果/4782_DistortionDS1A_IW_GRDH_1SDV_20190721T235404_20190721T235429_028222_033027_8116.tif\n",
      "image save right\n",
      "change image bandNames\n",
      "该函数运行了 243.69710 秒\n"
     ]
    },
    {
     "name": "stderr",
     "output_type": "stream",
     "text": [
      " 34%|###4      | 83/244 [3:51:04<8:35:44, 192.20s/it]"
     ]
    },
    {
     "name": "stdout",
     "output_type": "stream",
     "text": [
      "Begin Filter ...\n"
     ]
    },
    {
     "name": "stderr",
     "output_type": "stream",
     "text": [
      "\n",
      "100%|##########| 17/17 [00:00<00:00, 1789.38it/s]\n",
      "\n",
      "100%|##########| 17/17 [00:00<00:00, 471.78it/s]\n",
      "\n",
      "100%|##########| 17/17 [00:00<00:00, 1634.76it/s]\n",
      "\n",
      "100%|##########| 17/17 [00:00<00:00, 394.37it/s]\n"
     ]
    },
    {
     "name": "stdout",
     "output_type": "stream",
     "text": [
      "Method 1 Kmean Band=['VV_gamma0_flatDB'],continue\n",
      "Write csv and shp, Method=Kmean  Img=s1_unit_mean_  Band=['VV_gamma0_flatDB', 'VH_gamma0_flatDB']\n",
      "Method 1 SNIC_Kmean Band=['VV_gamma0_flatDB'],continue\n",
      "Write csv and shp, Method=SNIC_Kmean  Img=s1_unit_mean_  Band=['VV_gamma0_flatDB', 'VH_gamma0_flatDB']\n",
      "Write csv and shp, Method=SNIC_Kmean  Img=s1_unit_mean_  Band=['VV_gamma0_flatDB', 'VH_gamma0_flatDB']\n",
      "Method 1 Xmeans Band=['VV_gamma0_flatDB'],continue\n",
      "Write csv and shp, Method=Xmeans  Img=s1_unit_mean_  Band=['VV_gamma0_flatDB', 'VH_gamma0_flatDB']\n",
      "Method 1 CascadeKMeans Band=['VV_gamma0_flatDB'],continue\n",
      "Write csv and shp, Method=CascadeKMeans  Img=s1_unit_mean_  Band=['VV_gamma0_flatDB', 'VH_gamma0_flatDB']\n",
      "Threshould value is 0.4826206787815748\n",
      "Write csv and shp, Method=otsu  Img=s1_unit_mean_  Band=['VV_gamma0_flatDB']\n",
      "Method 2 otsu Band=['VV_gamma0_flatDB', 'VH_gamma0_flatDB'],continue\n"
     ]
    },
    {
     "name": "stderr",
     "output_type": "stream",
     "text": [
      "/root/GEE/Extract_algorithm.py:229: RuntimeWarning: invalid value encountered in divide\n",
      "  higher = (csum_intensity[-1] - csum_intensity[:-1]) / (csumh[:-1]+sys.float_info.min)\n"
     ]
    },
    {
     "name": "stdout",
     "output_type": "stream",
     "text": [
      "Threshould value is 0.4847526264179625\n",
      "Write csv and shp, Method=isodata  Img=s1_unit_mean_  Band=['VV_gamma0_flatDB']\n",
      "Method 2 isodata Band=['VV_gamma0_flatDB', 'VH_gamma0_flatDB'],continue\n",
      "该函数运行了 158.14421 秒\n"
     ]
    },
    {
     "name": "stderr",
     "output_type": "stream",
     "text": [
      " 34%|###4      | 84/244 [3:53:42<8:05:17, 181.99s/it]"
     ]
    },
    {
     "name": "stdout",
     "output_type": "stream",
     "text": [
      "Begin Filter ...\n"
     ]
    },
    {
     "name": "stderr",
     "output_type": "stream",
     "text": [
      "\n",
      "100%|##########| 21/21 [00:00<00:00, 1990.34it/s]\n",
      "\n",
      "100%|##########| 21/21 [00:00<00:00, 278.69it/s]\n",
      "\n",
      "100%|##########| 21/21 [00:00<00:00, 1966.26it/s]\n",
      "\n",
      "100%|##########| 21/21 [00:00<00:00, 299.56it/s]\n"
     ]
    },
    {
     "name": "stdout",
     "output_type": "stream",
     "text": [
      "Method 1 Kmean Band=['VV_gamma0_flatDB'],continue\n",
      "Write csv and shp, Method=Kmean  Img=s1_unit_mean_  Band=['VV_gamma0_flatDB', 'VH_gamma0_flatDB']\n",
      "Method 1 SNIC_Kmean Band=['VV_gamma0_flatDB'],continue\n",
      "Write csv and shp, Method=SNIC_Kmean  Img=s1_unit_mean_  Band=['VV_gamma0_flatDB', 'VH_gamma0_flatDB']\n",
      "Write csv and shp, Method=SNIC_Kmean  Img=s1_unit_mean_  Band=['VV_gamma0_flatDB', 'VH_gamma0_flatDB']\n",
      "Method 1 Xmeans Band=['VV_gamma0_flatDB'],continue\n",
      "Write csv and shp, Method=Xmeans  Img=s1_unit_mean_  Band=['VV_gamma0_flatDB', 'VH_gamma0_flatDB']\n",
      "Method 1 CascadeKMeans Band=['VV_gamma0_flatDB'],continue\n",
      "Write csv and shp, Method=CascadeKMeans  Img=s1_unit_mean_  Band=['VV_gamma0_flatDB', 'VH_gamma0_flatDB']\n",
      "Threshould value is 0.5087890625\n",
      "Write csv and shp, Method=otsu  Img=s1_unit_mean_  Band=['VV_gamma0_flatDB']\n",
      "Method 2 otsu Band=['VV_gamma0_flatDB', 'VH_gamma0_flatDB'],continue\n",
      "Threshould value is 0.5105496020773728\n",
      "Write csv and shp, Method=isodata  Img=s1_unit_mean_  Band=['VV_gamma0_flatDB']\n",
      "Method 2 isodata Band=['VV_gamma0_flatDB', 'VH_gamma0_flatDB'],continue\n",
      "该函数运行了 189.78574 秒\n"
     ]
    },
    {
     "name": "stderr",
     "output_type": "stream",
     "text": [
      " 35%|###4      | 85/244 [3:56:52<8:08:27, 184.33s/it]"
     ]
    },
    {
     "name": "stdout",
     "output_type": "stream",
     "text": [
      "Begin Filter ...\n"
     ]
    },
    {
     "name": "stderr",
     "output_type": "stream",
     "text": [
      "\n",
      "100%|##########| 13/13 [00:00<00:00, 1794.09it/s]\n",
      "\n",
      "100%|##########| 13/13 [00:00<00:00, 664.39it/s]\n",
      "\n",
      "100%|##########| 13/13 [00:00<00:00, 1634.86it/s]\n",
      "\n",
      "100%|##########| 13/13 [00:00<00:00, 749.73it/s]\n"
     ]
    },
    {
     "name": "stdout",
     "output_type": "stream",
     "text": [
      "Method 1 Kmean Band=['VV_gamma0_flatDB'],continue\n",
      "Write csv and shp, Method=Kmean  Img=s1_unit_mean_  Band=['VV_gamma0_flatDB', 'VH_gamma0_flatDB']\n",
      "Method 1 SNIC_Kmean Band=['VV_gamma0_flatDB'],continue\n",
      "Write csv and shp, Method=SNIC_Kmean  Img=s1_unit_mean_  Band=['VV_gamma0_flatDB', 'VH_gamma0_flatDB']\n",
      "Write csv and shp, Method=SNIC_Kmean  Img=s1_unit_mean_  Band=['VV_gamma0_flatDB', 'VH_gamma0_flatDB']\n",
      "Method 1 Xmeans Band=['VV_gamma0_flatDB'],continue\n",
      "Write csv and shp, Method=Xmeans  Img=s1_unit_mean_  Band=['VV_gamma0_flatDB', 'VH_gamma0_flatDB']\n",
      "Method 1 CascadeKMeans Band=['VV_gamma0_flatDB'],continue\n",
      "Write csv and shp, Method=CascadeKMeans  Img=s1_unit_mean_  Band=['VV_gamma0_flatDB', 'VH_gamma0_flatDB']\n",
      "Threshould value is 0.6453198904969225\n",
      "Write csv and shp, Method=otsu  Img=s1_unit_mean_  Band=['VV_gamma0_flatDB']\n",
      "Method 2 otsu Band=['VV_gamma0_flatDB', 'VH_gamma0_flatDB'],continue\n",
      "Threshould value is 0.5341592513537172\n",
      "Write csv and shp, Method=isodata  Img=s1_unit_mean_  Band=['VV_gamma0_flatDB']\n",
      "Method 2 isodata Band=['VV_gamma0_flatDB', 'VH_gamma0_flatDB'],continue\n",
      "Generating URL ...\n",
      "Downloading data from https://earthengine.googleapis.com/v1/projects/earthengine-legacy/thumbnails/9146f77c9f61e7e7069a0d8c4f032d2f-cb2ff2d953a05aab0fb227cbd61e6f01:getPixels\n",
      "Please wait ...\n",
      "Data downloaded to /root/GEE/2019补齐结果/4785_Ascending_S1A_IW_GRDH_1SDV_20190714T115743_20190714T115808_028113_032CCD_07AC.tif\n",
      "image save right\n",
      "change image bandNames\n",
      "Generating URL ...\n",
      "Downloading data from https://earthengine.googleapis.com/v1/projects/earthengine-legacy/thumbnails/3e06828fe64bbab079c0b0eb8b700557-27ec78edc3c91ce709b176cd3ae771c8:getPixels\n",
      "Please wait ...\n",
      "Data downloaded to /root/GEE/2019补齐结果/4785_Descending_S1A_IW_GRDH_1SDV_20190721T235404_20190721T235429_028222_033027_8116.tif\n",
      "image save right\n",
      "change image bandNames\n",
      "Generating URL ...\n",
      "Downloading data from https://earthengine.googleapis.com/v1/projects/earthengine-legacy/thumbnails/1cad5f5a584a3f3f997d411badb3d0ff-74a6ee5753b2711cc68e6ee558c376a0:getPixels\n",
      "Please wait ...\n",
      "Data downloaded to /root/GEE/2019补齐结果/4785_s2a_sr_median.tif\n",
      "image save right\n",
      "change image bandNames\n",
      "Generating URL ...\n",
      "Downloading data from https://earthengine.googleapis.com/v1/projects/earthengine-legacy/thumbnails/b94b61eb5b8b96b801c4c2dc53d1f81d-7ee95ef0a2df999d748e027431709eb0:getPixels\n",
      "Please wait ...\n",
      "Data downloaded to /root/GEE/2019补齐结果/4785_s1_unit_mean_.tif\n",
      "image save right\n",
      "change image bandNames\n",
      "Generating URL ...\n",
      "Downloading data from https://earthengine.googleapis.com/v1/projects/earthengine-legacy/thumbnails/ee3e7a2b51f7cb66fa33bcf2dd09297f-a9dc3246991e446af6bd13ed5e42bd8a:getPixels\n",
      "Please wait ...\n",
      "Data downloaded to /root/GEE/2019补齐结果/4785_s1_unit_max_.tif\n",
      "image save right\n",
      "change image bandNames\n",
      "Generating URL ...\n",
      "Downloading data from https://earthengine.googleapis.com/v1/projects/earthengine-legacy/thumbnails/3f0428cc7ebe963ba21e1aa40cae863e-1143ff36d84dde6cc76cbc73403b29f0:getPixels\n",
      "Please wait ...\n",
      "Data downloaded to /root/GEE/2019补齐结果/4785_s1_unit_min_.tif\n",
      "image save right\n",
      "change image bandNames\n",
      "Generating URL ...\n",
      "Downloading data from https://earthengine.googleapis.com/v1/projects/earthengine-legacy/thumbnails/2d6236e7eb4798afc46306dc507cebf6-8a7fdcfd1b65a28b199a13c6a7843ef9:getPixels\n",
      "Please wait ...\n",
      "Data downloaded to /root/GEE/2019补齐结果/4785_DistortionAS1A_IW_GRDH_1SDV_20190714T115743_20190714T115808_028113_032CCD_07AC.tif\n",
      "image save right\n",
      "change image bandNames\n",
      "Generating URL ...\n",
      "Downloading data from https://earthengine.googleapis.com/v1/projects/earthengine-legacy/thumbnails/45e8b66bc110b0b14e4ce81b90c86f2f-63deb83a30703a51bdea989885548974:getPixels\n",
      "Please wait ...\n",
      "Data downloaded to /root/GEE/2019补齐结果/4785_DistortionDS1A_IW_GRDH_1SDV_20190721T235404_20190721T235429_028222_033027_8116.tif\n",
      "image save right\n",
      "change image bandNames\n",
      "该函数运行了 226.40715 秒\n"
     ]
    },
    {
     "name": "stderr",
     "output_type": "stream",
     "text": [
      " 35%|###5      | 86/244 [4:00:38<8:38:38, 196.95s/it]"
     ]
    },
    {
     "name": "stdout",
     "output_type": "stream",
     "text": [
      "Begin Filter ...\n"
     ]
    },
    {
     "name": "stderr",
     "output_type": "stream",
     "text": [
      "\n",
      "100%|##########| 13/13 [00:00<00:00, 1813.24it/s]\n",
      "\n",
      "100%|##########| 13/13 [00:00<00:00, 453.26it/s]\n",
      "\n",
      "100%|##########| 13/13 [00:00<00:00, 1764.31it/s]\n",
      "\n",
      "100%|##########| 13/13 [00:00<00:00, 416.29it/s]\n"
     ]
    },
    {
     "name": "stdout",
     "output_type": "stream",
     "text": [
      "Method 1 Kmean Band=['VV_gamma0_flatDB'],continue\n",
      "Write csv and shp, Method=Kmean  Img=s1_unit_mean_  Band=['VV_gamma0_flatDB', 'VH_gamma0_flatDB']\n",
      "Method 1 SNIC_Kmean Band=['VV_gamma0_flatDB'],continue\n",
      "Write csv and shp, Method=SNIC_Kmean  Img=s1_unit_mean_  Band=['VV_gamma0_flatDB', 'VH_gamma0_flatDB']\n",
      "Write csv and shp, Method=SNIC_Kmean  Img=s1_unit_mean_  Band=['VV_gamma0_flatDB', 'VH_gamma0_flatDB']\n",
      "Method 1 Xmeans Band=['VV_gamma0_flatDB'],continue\n",
      "Write csv and shp, Method=Xmeans  Img=s1_unit_mean_  Band=['VV_gamma0_flatDB', 'VH_gamma0_flatDB']\n",
      "Method 1 CascadeKMeans Band=['VV_gamma0_flatDB'],continue\n",
      "Write csv and shp, Method=CascadeKMeans  Img=s1_unit_mean_  Band=['VV_gamma0_flatDB', 'VH_gamma0_flatDB']\n",
      "Threshould value is 0.4970703125\n",
      "Write csv and shp, Method=otsu  Img=s1_unit_mean_  Band=['VV_gamma0_flatDB']\n",
      "Method 2 otsu Band=['VV_gamma0_flatDB', 'VH_gamma0_flatDB'],continue\n"
     ]
    },
    {
     "name": "stderr",
     "output_type": "stream",
     "text": [
      "/root/GEE/Extract_algorithm.py:229: RuntimeWarning: invalid value encountered in divide\n",
      "  higher = (csum_intensity[-1] - csum_intensity[:-1]) / (csumh[:-1]+sys.float_info.min)\n"
     ]
    },
    {
     "name": "stdout",
     "output_type": "stream",
     "text": [
      "Threshould value is 0.4970703125\n",
      "Write csv and shp, Method=isodata  Img=s1_unit_mean_  Band=['VV_gamma0_flatDB']\n",
      "Method 2 isodata Band=['VV_gamma0_flatDB', 'VH_gamma0_flatDB'],continue\n",
      "该函数运行了 160.24363 秒\n"
     ]
    },
    {
     "name": "stderr",
     "output_type": "stream",
     "text": [
      " 36%|###5      | 87/244 [4:03:19<8:06:32, 185.94s/it]"
     ]
    },
    {
     "name": "stdout",
     "output_type": "stream",
     "text": [
      "Begin Filter ...\n"
     ]
    },
    {
     "name": "stderr",
     "output_type": "stream",
     "text": [
      "\n",
      "100%|##########| 14/14 [00:00<00:00, 1767.78it/s]\n",
      "\n",
      "100%|##########| 14/14 [00:00<00:00, 728.14it/s]\n",
      "\n",
      "100%|##########| 14/14 [00:00<00:00, 1852.78it/s]\n",
      "\n",
      "100%|##########| 14/14 [00:00<00:00, 686.06it/s]\n"
     ]
    },
    {
     "name": "stdout",
     "output_type": "stream",
     "text": [
      "Method 1 Kmean Band=['VV_gamma0_flatDB'],continue\n",
      "Write csv and shp, Method=Kmean  Img=s1_unit_mean_  Band=['VV_gamma0_flatDB', 'VH_gamma0_flatDB']\n",
      "Method 1 SNIC_Kmean Band=['VV_gamma0_flatDB'],continue\n",
      "Write csv and shp, Method=SNIC_Kmean  Img=s1_unit_mean_  Band=['VV_gamma0_flatDB', 'VH_gamma0_flatDB']\n",
      "Write csv and shp, Method=SNIC_Kmean  Img=s1_unit_mean_  Band=['VV_gamma0_flatDB', 'VH_gamma0_flatDB']\n",
      "Method 1 Xmeans Band=['VV_gamma0_flatDB'],continue\n",
      "Write csv and shp, Method=Xmeans  Img=s1_unit_mean_  Band=['VV_gamma0_flatDB', 'VH_gamma0_flatDB']\n",
      "Method 1 CascadeKMeans Band=['VV_gamma0_flatDB'],continue\n",
      "Write csv and shp, Method=CascadeKMeans  Img=s1_unit_mean_  Band=['VV_gamma0_flatDB', 'VH_gamma0_flatDB']\n",
      "Threshould value is 0.4819021004562077\n",
      "Write csv and shp, Method=otsu  Img=s1_unit_mean_  Band=['VV_gamma0_flatDB']\n",
      "Method 2 otsu Band=['VV_gamma0_flatDB', 'VH_gamma0_flatDB'],continue\n"
     ]
    },
    {
     "name": "stderr",
     "output_type": "stream",
     "text": [
      "/root/GEE/Extract_algorithm.py:229: RuntimeWarning: invalid value encountered in divide\n",
      "  higher = (csum_intensity[-1] - csum_intensity[:-1]) / (csumh[:-1]+sys.float_info.min)\n"
     ]
    },
    {
     "name": "stdout",
     "output_type": "stream",
     "text": [
      "Threshould value is 0.4833984375\n",
      "Write csv and shp, Method=isodata  Img=s1_unit_mean_  Band=['VV_gamma0_flatDB']\n",
      "Method 2 isodata Band=['VV_gamma0_flatDB', 'VH_gamma0_flatDB'],continue\n",
      "Generating URL ...\n",
      "Downloading data from https://earthengine.googleapis.com/v1/projects/earthengine-legacy/thumbnails/9c86f5609842786f5218b8be8b02d482-444ae9fb53afaef6a42886b143005c3a:getPixels\n",
      "Please wait ...\n",
      "Data downloaded to /root/GEE/2019补齐结果/4787_Ascending_S1A_IW_GRDH_1SDV_20190721T114936_20190721T115001_028215_032FF3_E394.tif\n",
      "image save right\n",
      "change image bandNames\n",
      "Generating URL ...\n",
      "Downloading data from https://earthengine.googleapis.com/v1/projects/earthengine-legacy/thumbnails/d4feecd3b5676430460c532e4da00099-a7c59c8f25924946c1224f01602a070c:getPixels\n",
      "Please wait ...\n",
      "Data downloaded to /root/GEE/2019补齐结果/4787_Descending_S1A_IW_GRDH_1SDV_20190809T234613_20190809T234638_028499_0338B5_13E6.tif\n",
      "image save right\n",
      "change image bandNames\n",
      "Generating URL ...\n",
      "Downloading data from https://earthengine.googleapis.com/v1/projects/earthengine-legacy/thumbnails/3d899b34ce1bb44cbdd737a9dac03ccc-0783cbf910c1cda322d95833f9bc9b81:getPixels\n",
      "Please wait ...\n",
      "Data downloaded to /root/GEE/2019补齐结果/4787_s2a_sr_median.tif\n",
      "image save right\n",
      "change image bandNames\n",
      "Generating URL ...\n",
      "Downloading data from https://earthengine.googleapis.com/v1/projects/earthengine-legacy/thumbnails/7c612fe126a1c91f6532cc167993cbec-355c138712363a53a97f2547bfb06d85:getPixels\n",
      "Please wait ...\n",
      "Data downloaded to /root/GEE/2019补齐结果/4787_s1_unit_mean_.tif\n",
      "image save right\n",
      "change image bandNames\n",
      "Generating URL ...\n",
      "Downloading data from https://earthengine.googleapis.com/v1/projects/earthengine-legacy/thumbnails/690979f3e01fe679f7db82b52f0664d8-6ef13b5f1178d410e18dc3f7b530ca51:getPixels\n",
      "Please wait ...\n",
      "Data downloaded to /root/GEE/2019补齐结果/4787_s1_unit_max_.tif\n",
      "image save right\n",
      "change image bandNames\n",
      "Generating URL ...\n",
      "Downloading data from https://earthengine.googleapis.com/v1/projects/earthengine-legacy/thumbnails/4c1272bfae68f2b15d2ec2481e2a0498-f0ecd9a3f2eba4c790838927972cfa9a:getPixels\n",
      "Please wait ...\n",
      "Data downloaded to /root/GEE/2019补齐结果/4787_s1_unit_min_.tif\n",
      "image save right\n",
      "change image bandNames\n",
      "Generating URL ...\n",
      "Downloading data from https://earthengine.googleapis.com/v1/projects/earthengine-legacy/thumbnails/81cd44790871a4445d072d0e2bd9718d-efe44e42a66932749ece10a8a89f2120:getPixels\n",
      "Please wait ...\n",
      "Data downloaded to /root/GEE/2019补齐结果/4787_DistortionAS1A_IW_GRDH_1SDV_20190721T114936_20190721T115001_028215_032FF3_E394.tif\n",
      "image save right\n",
      "change image bandNames\n",
      "Generating URL ...\n",
      "Downloading data from https://earthengine.googleapis.com/v1/projects/earthengine-legacy/thumbnails/2c0278b862d4aa20581c109fbb5c4711-65aff44eab5f8108766df4fed96da6c5:getPixels\n",
      "Please wait ...\n",
      "Data downloaded to /root/GEE/2019补齐结果/4787_DistortionDS1A_IW_GRDH_1SDV_20190809T234613_20190809T234638_028499_0338B5_13E6.tif\n",
      "image save right\n",
      "change image bandNames\n",
      "该函数运行了 205.76170 秒\n"
     ]
    },
    {
     "name": "stderr",
     "output_type": "stream",
     "text": [
      " 36%|###6      | 88/244 [4:06:44<8:18:54, 191.89s/it]"
     ]
    },
    {
     "name": "stdout",
     "output_type": "stream",
     "text": [
      "Begin Filter ...\n"
     ]
    },
    {
     "name": "stderr",
     "output_type": "stream",
     "text": [
      "\n",
      "100%|##########| 12/12 [00:00<00:00, 1931.15it/s]\n",
      "\n",
      "100%|##########| 12/12 [00:00<00:00, 518.71it/s]\n",
      "\n",
      "100%|##########| 12/12 [00:00<00:00, 1195.92it/s]\n",
      "\n",
      "100%|##########| 12/12 [00:00<00:00, 472.89it/s]\n"
     ]
    },
    {
     "name": "stdout",
     "output_type": "stream",
     "text": [
      "Method 1 Kmean Band=['VV_gamma0_flatDB'],continue\n",
      "Write csv and shp, Method=Kmean  Img=s1_unit_mean_  Band=['VV_gamma0_flatDB', 'VH_gamma0_flatDB']\n",
      "Method 1 SNIC_Kmean Band=['VV_gamma0_flatDB'],continue\n",
      "Write csv and shp, Method=SNIC_Kmean  Img=s1_unit_mean_  Band=['VV_gamma0_flatDB', 'VH_gamma0_flatDB']\n",
      "Write csv and shp, Method=SNIC_Kmean  Img=s1_unit_mean_  Band=['VV_gamma0_flatDB', 'VH_gamma0_flatDB']\n",
      "Method 1 Xmeans Band=['VV_gamma0_flatDB'],continue\n",
      "Write csv and shp, Method=Xmeans  Img=s1_unit_mean_  Band=['VV_gamma0_flatDB', 'VH_gamma0_flatDB']\n",
      "Method 1 CascadeKMeans Band=['VV_gamma0_flatDB'],continue\n",
      "Write csv and shp, Method=CascadeKMeans  Img=s1_unit_mean_  Band=['VV_gamma0_flatDB', 'VH_gamma0_flatDB']\n",
      "Threshould value is 0.6392030351258182\n",
      "Write csv and shp, Method=otsu  Img=s1_unit_mean_  Band=['VV_gamma0_flatDB']\n",
      "Method 2 otsu Band=['VV_gamma0_flatDB', 'VH_gamma0_flatDB'],continue\n",
      "Threshould value is 0.5361328125\n",
      "Write csv and shp, Method=isodata  Img=s1_unit_mean_  Band=['VV_gamma0_flatDB']\n",
      "Method 2 isodata Band=['VV_gamma0_flatDB', 'VH_gamma0_flatDB'],continue\n",
      "该函数运行了 131.50893 秒\n"
     ]
    },
    {
     "name": "stderr",
     "output_type": "stream",
     "text": [
      " 36%|###6      | 89/244 [4:08:56<7:28:55, 173.78s/it]"
     ]
    },
    {
     "name": "stdout",
     "output_type": "stream",
     "text": [
      "Begin Filter ...\n"
     ]
    },
    {
     "name": "stderr",
     "output_type": "stream",
     "text": [
      "\n",
      "100%|##########| 13/13 [00:00<00:00, 1684.36it/s]\n",
      "\n",
      "100%|##########| 13/13 [00:00<00:00, 603.68it/s]\n",
      "\n",
      "100%|##########| 13/13 [00:00<00:00, 1813.72it/s]\n",
      "\n",
      "100%|##########| 13/13 [00:00<00:00, 835.98it/s]\n"
     ]
    },
    {
     "name": "stdout",
     "output_type": "stream",
     "text": [
      "Method 1 Kmean Band=['VV_gamma0_flatDB'],continue\n",
      "Write csv and shp, Method=Kmean  Img=s1_unit_mean_  Band=['VV_gamma0_flatDB', 'VH_gamma0_flatDB']\n",
      "Method 1 SNIC_Kmean Band=['VV_gamma0_flatDB'],continue\n",
      "Write csv and shp, Method=SNIC_Kmean  Img=s1_unit_mean_  Band=['VV_gamma0_flatDB', 'VH_gamma0_flatDB']\n",
      "Write csv and shp, Method=SNIC_Kmean  Img=s1_unit_mean_  Band=['VV_gamma0_flatDB', 'VH_gamma0_flatDB']\n",
      "Method 1 Xmeans Band=['VV_gamma0_flatDB'],continue\n",
      "Write csv and shp, Method=Xmeans  Img=s1_unit_mean_  Band=['VV_gamma0_flatDB', 'VH_gamma0_flatDB']\n",
      "Method 1 CascadeKMeans Band=['VV_gamma0_flatDB'],continue\n",
      "Write csv and shp, Method=CascadeKMeans  Img=s1_unit_mean_  Band=['VV_gamma0_flatDB', 'VH_gamma0_flatDB']\n",
      "Threshould value is 0.4755859375\n",
      "Write csv and shp, Method=otsu  Img=s1_unit_mean_  Band=['VV_gamma0_flatDB']\n",
      "Method 2 otsu Band=['VV_gamma0_flatDB', 'VH_gamma0_flatDB'],continue\n"
     ]
    },
    {
     "name": "stderr",
     "output_type": "stream",
     "text": [
      "/root/GEE/Extract_algorithm.py:229: RuntimeWarning: invalid value encountered in divide\n",
      "  higher = (csum_intensity[-1] - csum_intensity[:-1]) / (csumh[:-1]+sys.float_info.min)\n"
     ]
    },
    {
     "name": "stdout",
     "output_type": "stream",
     "text": [
      "Threshould value is 0.4736328125\n",
      "Write csv and shp, Method=isodata  Img=s1_unit_mean_  Band=['VV_gamma0_flatDB']\n",
      "Method 2 isodata Band=['VV_gamma0_flatDB', 'VH_gamma0_flatDB'],continue\n",
      "该函数运行了 126.14682 秒\n"
     ]
    },
    {
     "name": "stderr",
     "output_type": "stream",
     "text": [
      " 37%|###6      | 90/244 [4:11:02<6:49:21, 159.49s/it]"
     ]
    },
    {
     "name": "stdout",
     "output_type": "stream",
     "text": [
      "Begin Filter ...\n"
     ]
    },
    {
     "name": "stderr",
     "output_type": "stream",
     "text": [
      "\n",
      "100%|##########| 14/14 [00:00<00:00, 1675.23it/s]\n",
      "\n",
      "100%|##########| 14/14 [00:00<00:00, 488.24it/s]\n",
      "\n",
      "100%|##########| 14/14 [00:00<00:00, 1873.83it/s]\n",
      "\n",
      "100%|##########| 14/14 [00:00<00:00, 508.49it/s]\n"
     ]
    },
    {
     "name": "stdout",
     "output_type": "stream",
     "text": [
      "Method 1 Kmean Band=['VV_gamma0_flatDB'],continue\n",
      "Write csv and shp, Method=Kmean  Img=s1_unit_mean_  Band=['VV_gamma0_flatDB', 'VH_gamma0_flatDB']\n",
      "Method 1 SNIC_Kmean Band=['VV_gamma0_flatDB'],continue\n",
      "Write csv and shp, Method=SNIC_Kmean  Img=s1_unit_mean_  Band=['VV_gamma0_flatDB', 'VH_gamma0_flatDB']\n",
      "Write csv and shp, Method=SNIC_Kmean  Img=s1_unit_mean_  Band=['VV_gamma0_flatDB', 'VH_gamma0_flatDB']\n",
      "Method 1 Xmeans Band=['VV_gamma0_flatDB'],continue\n",
      "Write csv and shp, Method=Xmeans  Img=s1_unit_mean_  Band=['VV_gamma0_flatDB', 'VH_gamma0_flatDB']\n",
      "Method 1 CascadeKMeans Band=['VV_gamma0_flatDB'],continue\n",
      "Write csv and shp, Method=CascadeKMeans  Img=s1_unit_mean_  Band=['VV_gamma0_flatDB', 'VH_gamma0_flatDB']\n",
      "Threshould value is 0.5301913971310487\n",
      "Write csv and shp, Method=otsu  Img=s1_unit_mean_  Band=['VV_gamma0_flatDB']\n",
      "Method 2 otsu Band=['VV_gamma0_flatDB', 'VH_gamma0_flatDB'],continue\n"
     ]
    },
    {
     "name": "stderr",
     "output_type": "stream",
     "text": [
      "/root/GEE/Extract_algorithm.py:229: RuntimeWarning: invalid value encountered in divide\n",
      "  higher = (csum_intensity[-1] - csum_intensity[:-1]) / (csumh[:-1]+sys.float_info.min)\n"
     ]
    },
    {
     "name": "stdout",
     "output_type": "stream",
     "text": [
      "Threshould value is 0.5359883094701497\n",
      "Write csv and shp, Method=isodata  Img=s1_unit_mean_  Band=['VV_gamma0_flatDB']\n",
      "Method 2 isodata Band=['VV_gamma0_flatDB', 'VH_gamma0_flatDB'],continue\n",
      "该函数运行了 146.34971 秒\n"
     ]
    },
    {
     "name": "stderr",
     "output_type": "stream",
     "text": [
      " 37%|###7      | 91/244 [4:13:28<6:36:38, 155.55s/it]"
     ]
    },
    {
     "name": "stdout",
     "output_type": "stream",
     "text": [
      "Begin Filter ...\n"
     ]
    },
    {
     "name": "stderr",
     "output_type": "stream",
     "text": [
      "\n",
      "100%|##########| 14/14 [00:00<00:00, 1705.99it/s]\n",
      "\n",
      "100%|##########| 14/14 [00:00<00:00, 659.46it/s]\n",
      "\n",
      "100%|##########| 14/14 [00:00<00:00, 1744.51it/s]\n",
      "\n",
      "100%|##########| 14/14 [00:00<00:00, 575.53it/s]\n"
     ]
    },
    {
     "name": "stdout",
     "output_type": "stream",
     "text": [
      "Method 1 Kmean Band=['VV_gamma0_flatDB'],continue\n",
      "Write csv and shp, Method=Kmean  Img=s1_unit_mean_  Band=['VV_gamma0_flatDB', 'VH_gamma0_flatDB']\n",
      "Method 1 SNIC_Kmean Band=['VV_gamma0_flatDB'],continue\n",
      "Write csv and shp, Method=SNIC_Kmean  Img=s1_unit_mean_  Band=['VV_gamma0_flatDB', 'VH_gamma0_flatDB']\n",
      "Write csv and shp, Method=SNIC_Kmean  Img=s1_unit_mean_  Band=['VV_gamma0_flatDB', 'VH_gamma0_flatDB']\n",
      "Method 1 Xmeans Band=['VV_gamma0_flatDB'],continue\n",
      "Write csv and shp, Method=Xmeans  Img=s1_unit_mean_  Band=['VV_gamma0_flatDB', 'VH_gamma0_flatDB']\n",
      "Method 1 CascadeKMeans Band=['VV_gamma0_flatDB'],continue\n",
      "Write csv and shp, Method=CascadeKMeans  Img=s1_unit_mean_  Band=['VV_gamma0_flatDB', 'VH_gamma0_flatDB']\n",
      "Threshould value is 0.48801096900634705\n",
      "Write csv and shp, Method=otsu  Img=s1_unit_mean_  Band=['VV_gamma0_flatDB']\n",
      "Method 2 otsu Band=['VV_gamma0_flatDB', 'VH_gamma0_flatDB'],continue\n"
     ]
    },
    {
     "name": "stderr",
     "output_type": "stream",
     "text": [
      "/root/GEE/Extract_algorithm.py:229: RuntimeWarning: invalid value encountered in divide\n",
      "  higher = (csum_intensity[-1] - csum_intensity[:-1]) / (csumh[:-1]+sys.float_info.min)\n"
     ]
    },
    {
     "name": "stdout",
     "output_type": "stream",
     "text": [
      "Threshould value is 0.48801096900634705\n",
      "Write csv and shp, Method=isodata  Img=s1_unit_mean_  Band=['VV_gamma0_flatDB']\n",
      "Method 2 isodata Band=['VV_gamma0_flatDB', 'VH_gamma0_flatDB'],continue\n",
      "该函数运行了 137.71857 秒\n"
     ]
    },
    {
     "name": "stderr",
     "output_type": "stream",
     "text": [
      " 38%|###7      | 92/244 [4:15:46<6:20:30, 150.20s/it]"
     ]
    },
    {
     "name": "stdout",
     "output_type": "stream",
     "text": [
      "Begin Filter ...\n"
     ]
    },
    {
     "name": "stderr",
     "output_type": "stream",
     "text": [
      "\n",
      "100%|##########| 15/15 [00:00<00:00, 1877.93it/s]\n",
      "\n",
      "100%|##########| 15/15 [00:00<00:00, 324.68it/s]\n",
      "\n",
      "100%|##########| 15/15 [00:00<00:00, 1846.95it/s]\n",
      "\n",
      "100%|##########| 15/15 [00:00<00:00, 435.60it/s]\n"
     ]
    },
    {
     "name": "stdout",
     "output_type": "stream",
     "text": [
      "Method 1 Kmean Band=['VV_gamma0_flatDB'],continue\n",
      "Write csv and shp, Method=Kmean  Img=s1_unit_mean_  Band=['VV_gamma0_flatDB', 'VH_gamma0_flatDB']\n",
      "Method 1 SNIC_Kmean Band=['VV_gamma0_flatDB'],continue\n",
      "Write csv and shp, Method=SNIC_Kmean  Img=s1_unit_mean_  Band=['VV_gamma0_flatDB', 'VH_gamma0_flatDB']\n",
      "Write csv and shp, Method=SNIC_Kmean  Img=s1_unit_mean_  Band=['VV_gamma0_flatDB', 'VH_gamma0_flatDB']\n",
      "Method 1 Xmeans Band=['VV_gamma0_flatDB'],continue\n",
      "Write csv and shp, Method=Xmeans  Img=s1_unit_mean_  Band=['VV_gamma0_flatDB', 'VH_gamma0_flatDB']\n",
      "Method 1 CascadeKMeans Band=['VV_gamma0_flatDB'],continue\n",
      "Write csv and shp, Method=CascadeKMeans  Img=s1_unit_mean_  Band=['VV_gamma0_flatDB', 'VH_gamma0_flatDB']\n",
      "Threshould value is 0.6244524712360664\n",
      "Write csv and shp, Method=otsu  Img=s1_unit_mean_  Band=['VV_gamma0_flatDB']\n",
      "Method 2 otsu Band=['VV_gamma0_flatDB', 'VH_gamma0_flatDB'],continue\n",
      "Threshould value is 0.5341397003089658\n",
      "Write csv and shp, Method=isodata  Img=s1_unit_mean_  Band=['VV_gamma0_flatDB']\n",
      "Method 2 isodata Band=['VV_gamma0_flatDB', 'VH_gamma0_flatDB'],continue\n",
      "该函数运行了 138.67725 秒\n"
     ]
    },
    {
     "name": "stderr",
     "output_type": "stream",
     "text": [
      " 38%|###8      | 93/244 [4:18:05<6:09:18, 146.74s/it]"
     ]
    },
    {
     "name": "stdout",
     "output_type": "stream",
     "text": [
      "Begin Filter ...\n"
     ]
    },
    {
     "name": "stderr",
     "output_type": "stream",
     "text": [
      "\n",
      "100%|##########| 12/12 [00:00<00:00, 1704.60it/s]\n",
      "\n",
      "100%|##########| 12/12 [00:00<00:00, 634.82it/s]\n",
      "\n",
      "100%|##########| 11/11 [00:00<00:00, 1828.96it/s]\n",
      "\n",
      "100%|##########| 11/11 [00:00<00:00, 628.48it/s]\n"
     ]
    },
    {
     "name": "stdout",
     "output_type": "stream",
     "text": [
      "Method 1 Kmean Band=['VV_gamma0_flatDB'],continue\n",
      "Write csv and shp, Method=Kmean  Img=s1_unit_mean_  Band=['VV_gamma0_flatDB', 'VH_gamma0_flatDB']\n",
      "Method 1 SNIC_Kmean Band=['VV_gamma0_flatDB'],continue\n",
      "Write csv and shp, Method=SNIC_Kmean  Img=s1_unit_mean_  Band=['VV_gamma0_flatDB', 'VH_gamma0_flatDB']\n",
      "Write csv and shp, Method=SNIC_Kmean  Img=s1_unit_mean_  Band=['VV_gamma0_flatDB', 'VH_gamma0_flatDB']\n",
      "Method 1 Xmeans Band=['VV_gamma0_flatDB'],continue\n",
      "Write csv and shp, Method=Xmeans  Img=s1_unit_mean_  Band=['VV_gamma0_flatDB', 'VH_gamma0_flatDB']\n",
      "Method 1 CascadeKMeans Band=['VV_gamma0_flatDB'],continue\n",
      "Write csv and shp, Method=CascadeKMeans  Img=s1_unit_mean_  Band=['VV_gamma0_flatDB', 'VH_gamma0_flatDB']\n",
      "Threshould value is 0.4970703125\n",
      "Write csv and shp, Method=otsu  Img=s1_unit_mean_  Band=['VV_gamma0_flatDB']\n",
      "Method 2 otsu Band=['VV_gamma0_flatDB', 'VH_gamma0_flatDB'],continue\n"
     ]
    },
    {
     "name": "stderr",
     "output_type": "stream",
     "text": [
      "/root/GEE/Extract_algorithm.py:229: RuntimeWarning: invalid value encountered in divide\n",
      "  higher = (csum_intensity[-1] - csum_intensity[:-1]) / (csumh[:-1]+sys.float_info.min)\n"
     ]
    },
    {
     "name": "stdout",
     "output_type": "stream",
     "text": [
      "Threshould value is 0.4970703125\n",
      "Write csv and shp, Method=isodata  Img=s1_unit_mean_  Band=['VV_gamma0_flatDB']\n",
      "Method 2 isodata Band=['VV_gamma0_flatDB', 'VH_gamma0_flatDB'],continue\n",
      "该函数运行了 135.52565 秒\n"
     ]
    },
    {
     "name": "stderr",
     "output_type": "stream",
     "text": [
      " 39%|###8      | 94/244 [4:20:20<5:58:26, 143.38s/it]"
     ]
    },
    {
     "name": "stdout",
     "output_type": "stream",
     "text": [
      "Begin Filter ...\n"
     ]
    },
    {
     "name": "stderr",
     "output_type": "stream",
     "text": [
      "\n",
      "100%|##########| 17/17 [00:00<00:00, 1825.01it/s]\n",
      "\n",
      "100%|##########| 17/17 [00:00<00:00, 434.31it/s]\n",
      "\n",
      "100%|##########| 16/16 [00:00<00:00, 1811.06it/s]\n",
      "\n",
      "100%|##########| 16/16 [00:00<00:00, 463.71it/s]\n"
     ]
    },
    {
     "name": "stdout",
     "output_type": "stream",
     "text": [
      "Method 1 Kmean Band=['VV_gamma0_flatDB'],continue\n",
      "Write csv and shp, Method=Kmean  Img=s1_unit_mean_  Band=['VV_gamma0_flatDB', 'VH_gamma0_flatDB']\n",
      "Method 1 SNIC_Kmean Band=['VV_gamma0_flatDB'],continue\n",
      "Write csv and shp, Method=SNIC_Kmean  Img=s1_unit_mean_  Band=['VV_gamma0_flatDB', 'VH_gamma0_flatDB']\n",
      "Write csv and shp, Method=SNIC_Kmean  Img=s1_unit_mean_  Band=['VV_gamma0_flatDB', 'VH_gamma0_flatDB']\n",
      "Method 1 Xmeans Band=['VV_gamma0_flatDB'],continue\n",
      "Write csv and shp, Method=Xmeans  Img=s1_unit_mean_  Band=['VV_gamma0_flatDB', 'VH_gamma0_flatDB']\n",
      "Method 1 CascadeKMeans Band=['VV_gamma0_flatDB'],continue\n",
      "Write csv and shp, Method=CascadeKMeans  Img=s1_unit_mean_  Band=['VV_gamma0_flatDB', 'VH_gamma0_flatDB']\n",
      "Threshould value is 0.5593334204615455\n",
      "Write csv and shp, Method=otsu  Img=s1_unit_mean_  Band=['VV_gamma0_flatDB']\n",
      "Method 2 otsu Band=['VV_gamma0_flatDB', 'VH_gamma0_flatDB'],continue\n",
      "Threshould value is 0.5535433649002401\n",
      "Write csv and shp, Method=isodata  Img=s1_unit_mean_  Band=['VV_gamma0_flatDB']\n",
      "Method 2 isodata Band=['VV_gamma0_flatDB', 'VH_gamma0_flatDB'],continue\n",
      "该函数运行了 139.14178 秒\n"
     ]
    },
    {
     "name": "stderr",
     "output_type": "stream",
     "text": [
      " 39%|###8      | 95/244 [4:22:40<5:52:54, 142.11s/it]"
     ]
    },
    {
     "name": "stdout",
     "output_type": "stream",
     "text": [
      "Begin Filter ...\n"
     ]
    },
    {
     "name": "stderr",
     "output_type": "stream",
     "text": [
      "\n",
      "100%|##########| 17/17 [00:00<00:00, 1703.45it/s]\n",
      "\n",
      "100%|##########| 17/17 [00:00<00:00, 343.14it/s]\n",
      "\n",
      "100%|##########| 17/17 [00:00<00:00, 1856.47it/s]\n",
      "\n",
      "100%|##########| 17/17 [00:00<00:00, 371.52it/s]\n"
     ]
    },
    {
     "name": "stdout",
     "output_type": "stream",
     "text": [
      "Method 1 Kmean Band=['VV_gamma0_flatDB'],continue\n",
      "Write csv and shp, Method=Kmean  Img=s1_unit_mean_  Band=['VV_gamma0_flatDB', 'VH_gamma0_flatDB']\n",
      "Method 1 SNIC_Kmean Band=['VV_gamma0_flatDB'],continue\n",
      "Write csv and shp, Method=SNIC_Kmean  Img=s1_unit_mean_  Band=['VV_gamma0_flatDB', 'VH_gamma0_flatDB']\n",
      "Write csv and shp, Method=SNIC_Kmean  Img=s1_unit_mean_  Band=['VV_gamma0_flatDB', 'VH_gamma0_flatDB']\n",
      "Method 1 Xmeans Band=['VV_gamma0_flatDB'],continue\n",
      "Write csv and shp, Method=Xmeans  Img=s1_unit_mean_  Band=['VV_gamma0_flatDB', 'VH_gamma0_flatDB']\n",
      "Method 1 CascadeKMeans Band=['VV_gamma0_flatDB'],continue\n",
      "Write csv and shp, Method=CascadeKMeans  Img=s1_unit_mean_  Band=['VV_gamma0_flatDB', 'VH_gamma0_flatDB']\n",
      "Threshould value is 0.4833984375\n",
      "Write csv and shp, Method=otsu  Img=s1_unit_mean_  Band=['VV_gamma0_flatDB']\n",
      "Method 2 otsu Band=['VV_gamma0_flatDB', 'VH_gamma0_flatDB'],continue\n",
      "Threshould value is 0.4814453125\n",
      "Write csv and shp, Method=isodata  Img=s1_unit_mean_  Band=['VV_gamma0_flatDB']\n",
      "Method 2 isodata Band=['VV_gamma0_flatDB', 'VH_gamma0_flatDB'],continue\n",
      "该函数运行了 135.18878 秒\n"
     ]
    },
    {
     "name": "stderr",
     "output_type": "stream",
     "text": [
      " 39%|###9      | 96/244 [4:24:55<5:45:25, 140.03s/it]"
     ]
    },
    {
     "name": "stdout",
     "output_type": "stream",
     "text": [
      "Begin Filter ...\n"
     ]
    },
    {
     "name": "stderr",
     "output_type": "stream",
     "text": [
      "\n",
      "100%|##########| 13/13 [00:00<00:00, 1867.65it/s]\n",
      "\n",
      "100%|##########| 13/13 [00:00<00:00, 186.40it/s]\n",
      "\n",
      "100%|##########| 12/12 [00:00<00:00, 372.54it/s]\n",
      "\n",
      "100%|##########| 12/12 [00:00<00:00, 478.65it/s]\n"
     ]
    },
    {
     "name": "stdout",
     "output_type": "stream",
     "text": [
      "Method 1 Kmean Band=['VV_gamma0_flatDB'],continue\n",
      "Write csv and shp, Method=Kmean  Img=s1_unit_mean_  Band=['VV_gamma0_flatDB', 'VH_gamma0_flatDB']\n",
      "Method 1 SNIC_Kmean Band=['VV_gamma0_flatDB'],continue\n",
      "Write csv and shp, Method=SNIC_Kmean  Img=s1_unit_mean_  Band=['VV_gamma0_flatDB', 'VH_gamma0_flatDB']\n",
      "Write csv and shp, Method=SNIC_Kmean  Img=s1_unit_mean_  Band=['VV_gamma0_flatDB', 'VH_gamma0_flatDB']\n",
      "Method 1 Xmeans Band=['VV_gamma0_flatDB'],continue\n",
      "Write csv and shp, Method=Xmeans  Img=s1_unit_mean_  Band=['VV_gamma0_flatDB', 'VH_gamma0_flatDB']\n",
      "Method 1 CascadeKMeans Band=['VV_gamma0_flatDB'],continue\n",
      "Write csv and shp, Method=CascadeKMeans  Img=s1_unit_mean_  Band=['VV_gamma0_flatDB', 'VH_gamma0_flatDB']\n",
      "Threshould value is 0.5400390625\n",
      "Write csv and shp, Method=otsu  Img=s1_unit_mean_  Band=['VV_gamma0_flatDB']\n",
      "Method 2 otsu Band=['VV_gamma0_flatDB', 'VH_gamma0_flatDB'],continue\n"
     ]
    },
    {
     "name": "stderr",
     "output_type": "stream",
     "text": [
      "/root/GEE/Extract_algorithm.py:229: RuntimeWarning: invalid value encountered in divide\n",
      "  higher = (csum_intensity[-1] - csum_intensity[:-1]) / (csumh[:-1]+sys.float_info.min)\n"
     ]
    },
    {
     "name": "stdout",
     "output_type": "stream",
     "text": [
      "Threshould value is 0.5381494226385464\n",
      "Write csv and shp, Method=isodata  Img=s1_unit_mean_  Band=['VV_gamma0_flatDB']\n",
      "Method 2 isodata Band=['VV_gamma0_flatDB', 'VH_gamma0_flatDB'],continue\n",
      "Generating URL ...\n",
      "Downloading data from https://earthengine.googleapis.com/v1/projects/earthengine-legacy/thumbnails/06d07910420fe4b6c8306b712e44d689-e3d8dd8e3e1e1d212badd5eae5c14510:getPixels\n",
      "Please wait ...\n",
      "Data downloaded to /root/GEE/2019补齐结果/4796_Ascending_S1A_IW_GRDH_1SDV_20190714T115743_20190714T115808_028113_032CCD_07AC.tif\n",
      "image save right\n",
      "change image bandNames\n",
      "Generating URL ...\n",
      "Downloading data from https://earthengine.googleapis.com/v1/projects/earthengine-legacy/thumbnails/4667dee129d672fc72b7c58da96bd5e1-0761760bef9c84446fa4fb6ed13f4e0b:getPixels\n",
      "Please wait ...\n",
      "Data downloaded to /root/GEE/2019补齐结果/4796_Descending_S1A_IW_GRDH_1SDV_20190809T234613_20190809T234638_028499_0338B5_13E6.tif\n",
      "image save right\n",
      "change image bandNames\n",
      "Generating URL ...\n",
      "Downloading data from https://earthengine.googleapis.com/v1/projects/earthengine-legacy/thumbnails/94b6f9b6bdcbae117f94104949c9d541-13284b93dfa0bc7e72c9dda9891d3ba9:getPixels\n",
      "Please wait ...\n",
      "Data downloaded to /root/GEE/2019补齐结果/4796_s2a_sr_median.tif\n",
      "image save right\n",
      "change image bandNames\n",
      "Generating URL ...\n",
      "Downloading data from https://earthengine.googleapis.com/v1/projects/earthengine-legacy/thumbnails/9c636997e3b0c9991541c546ce96368c-0da2d644c0999250f08e302c84a825d0:getPixels\n",
      "Please wait ...\n",
      "Data downloaded to /root/GEE/2019补齐结果/4796_s1_unit_mean_.tif\n",
      "image save right\n",
      "change image bandNames\n",
      "Generating URL ...\n",
      "Downloading data from https://earthengine.googleapis.com/v1/projects/earthengine-legacy/thumbnails/9648d1ae6dbad86f7a171d114ccbcc99-20395c25d6cdeae3ed883ab31ac22e2c:getPixels\n",
      "Please wait ...\n",
      "Data downloaded to /root/GEE/2019补齐结果/4796_s1_unit_max_.tif\n",
      "image save right\n",
      "change image bandNames\n",
      "Generating URL ...\n",
      "Downloading data from https://earthengine.googleapis.com/v1/projects/earthengine-legacy/thumbnails/31bedc582ad01d27cdae32babf175fb5-8ff6613dbc14f765418245c7e5a0b525:getPixels\n",
      "Please wait ...\n",
      "Data downloaded to /root/GEE/2019补齐结果/4796_s1_unit_min_.tif\n",
      "image save right\n",
      "change image bandNames\n",
      "Generating URL ...\n",
      "Downloading data from https://earthengine.googleapis.com/v1/projects/earthengine-legacy/thumbnails/c4ca9484bce21634cf0b6023e4c43024-ec9d3974c5aafde0d44996803ed00637:getPixels\n",
      "Please wait ...\n",
      "Data downloaded to /root/GEE/2019补齐结果/4796_DistortionAS1A_IW_GRDH_1SDV_20190714T115743_20190714T115808_028113_032CCD_07AC.tif\n",
      "image save right\n",
      "change image bandNames\n",
      "Generating URL ...\n",
      "Downloading data from https://earthengine.googleapis.com/v1/projects/earthengine-legacy/thumbnails/265f0e2109efd2c173d7132372e9db9c-07d5300329b38b961a71a48af4aa9f6d:getPixels\n",
      "Please wait ...\n",
      "Data downloaded to /root/GEE/2019补齐结果/4796_DistortionDS1A_IW_GRDH_1SDV_20190809T234613_20190809T234638_028499_0338B5_13E6.tif\n",
      "image save right\n",
      "change image bandNames\n",
      "该函数运行了 208.35640 秒\n"
     ]
    },
    {
     "name": "stderr",
     "output_type": "stream",
     "text": [
      " 40%|###9      | 97/244 [4:28:23<6:33:18, 160.53s/it]"
     ]
    },
    {
     "name": "stdout",
     "output_type": "stream",
     "text": [
      "Begin Filter ...\n"
     ]
    },
    {
     "name": "stderr",
     "output_type": "stream",
     "text": [
      "\n",
      "100%|##########| 25/25 [00:00<00:00, 2038.48it/s]\n",
      "\n",
      "100%|##########| 25/25 [00:00<00:00, 269.37it/s]\n",
      "\n",
      "100%|##########| 25/25 [00:00<00:00, 2207.71it/s]\n",
      "\n",
      "  0%|          | 0/25 [00:00<?, ?it/s]\u001b[A\n",
      "100%|##########| 25/25 [00:00<00:00, 231.00it/s]\u001b[A\n"
     ]
    },
    {
     "name": "stdout",
     "output_type": "stream",
     "text": [
      "Method 1 Kmean Band=['VV_gamma0_flatDB'],continue\n",
      "Write csv and shp, Method=Kmean  Img=s1_unit_mean_  Band=['VV_gamma0_flatDB', 'VH_gamma0_flatDB']\n",
      "Method 1 SNIC_Kmean Band=['VV_gamma0_flatDB'],continue\n",
      "Write csv and shp, Method=SNIC_Kmean  Img=s1_unit_mean_  Band=['VV_gamma0_flatDB', 'VH_gamma0_flatDB']\n",
      "Write csv and shp, Method=SNIC_Kmean  Img=s1_unit_mean_  Band=['VV_gamma0_flatDB', 'VH_gamma0_flatDB']\n",
      "Method 1 Xmeans Band=['VV_gamma0_flatDB'],continue\n",
      "Write csv and shp, Method=Xmeans  Img=s1_unit_mean_  Band=['VV_gamma0_flatDB', 'VH_gamma0_flatDB']\n",
      "Method 1 CascadeKMeans Band=['VV_gamma0_flatDB'],continue\n",
      "Write csv and shp, Method=CascadeKMeans  Img=s1_unit_mean_  Band=['VV_gamma0_flatDB', 'VH_gamma0_flatDB']\n",
      "Threshould value is 0.5828688870774095\n",
      "Write csv and shp, Method=otsu  Img=s1_unit_mean_  Band=['VV_gamma0_flatDB']\n",
      "Method 2 otsu Band=['VV_gamma0_flatDB', 'VH_gamma0_flatDB'],continue\n",
      "Threshould value is 0.5474587325776828\n",
      "Write csv and shp, Method=isodata  Img=s1_unit_mean_  Band=['VV_gamma0_flatDB']\n",
      "Method 2 isodata Band=['VV_gamma0_flatDB', 'VH_gamma0_flatDB'],continue\n",
      "该函数运行了 143.77648 秒\n"
     ]
    },
    {
     "name": "stderr",
     "output_type": "stream",
     "text": [
      " 40%|####      | 98/244 [4:30:47<6:18:23, 155.51s/it]"
     ]
    },
    {
     "name": "stdout",
     "output_type": "stream",
     "text": [
      "Begin Filter ...\n"
     ]
    },
    {
     "name": "stderr",
     "output_type": "stream",
     "text": [
      "\n",
      "100%|##########| 13/13 [00:00<00:00, 1522.56it/s]\n",
      "\n",
      "100%|##########| 13/13 [00:00<00:00, 715.61it/s]\n",
      "\n",
      "100%|##########| 12/12 [00:00<00:00, 1527.38it/s]\n",
      "\n",
      "100%|##########| 12/12 [00:00<00:00, 597.25it/s]\n"
     ]
    },
    {
     "name": "stdout",
     "output_type": "stream",
     "text": [
      "Method 1 Kmean Band=['VV_gamma0_flatDB'],continue\n",
      "Write csv and shp, Method=Kmean  Img=s1_unit_mean_  Band=['VV_gamma0_flatDB', 'VH_gamma0_flatDB']\n",
      "Method 1 SNIC_Kmean Band=['VV_gamma0_flatDB'],continue\n",
      "Write csv and shp, Method=SNIC_Kmean  Img=s1_unit_mean_  Band=['VV_gamma0_flatDB', 'VH_gamma0_flatDB']\n",
      "Write csv and shp, Method=SNIC_Kmean  Img=s1_unit_mean_  Band=['VV_gamma0_flatDB', 'VH_gamma0_flatDB']\n",
      "Method 1 Xmeans Band=['VV_gamma0_flatDB'],continue\n",
      "Write csv and shp, Method=Xmeans  Img=s1_unit_mean_  Band=['VV_gamma0_flatDB', 'VH_gamma0_flatDB']\n",
      "Method 1 CascadeKMeans Band=['VV_gamma0_flatDB'],continue\n",
      "Write csv and shp, Method=CascadeKMeans  Img=s1_unit_mean_  Band=['VV_gamma0_flatDB', 'VH_gamma0_flatDB']\n",
      "Threshould value is 0.5793366662986823\n",
      "Write csv and shp, Method=otsu  Img=s1_unit_mean_  Band=['VV_gamma0_flatDB']\n",
      "Method 2 otsu Band=['VV_gamma0_flatDB', 'VH_gamma0_flatDB'],continue\n"
     ]
    },
    {
     "name": "stderr",
     "output_type": "stream",
     "text": [
      "/root/GEE/Extract_algorithm.py:229: RuntimeWarning: invalid value encountered in divide\n",
      "  higher = (csum_intensity[-1] - csum_intensity[:-1]) / (csumh[:-1]+sys.float_info.min)\n"
     ]
    },
    {
     "name": "stdout",
     "output_type": "stream",
     "text": [
      "Threshould value is 0.5793366662986823\n",
      "Write csv and shp, Method=isodata  Img=s1_unit_mean_  Band=['VV_gamma0_flatDB']\n",
      "Method 2 isodata Band=['VV_gamma0_flatDB', 'VH_gamma0_flatDB'],continue\n",
      "Generating URL ...\n",
      "Downloading data from https://earthengine.googleapis.com/v1/projects/earthengine-legacy/thumbnails/cf7fc80d02bbf43eccdbc297f196b581-723b34eeffb0a7ca4b32a569c9a81857:getPixels\n",
      "Please wait ...\n",
      "Data downloaded to /root/GEE/2019补齐结果/4798_Ascending_S1A_IW_GRDH_1SDV_20190714T115808_20190714T115833_028113_032CCD_1F8C.tif\n",
      "image save right\n",
      "change image bandNames\n",
      "Generating URL ...\n",
      "Downloading data from https://earthengine.googleapis.com/v1/projects/earthengine-legacy/thumbnails/17327f20eccf60f2433ca27d69584be4-f78406c18badcc25eb63c11ef1fff868:getPixels\n",
      "Please wait ...\n",
      "Data downloaded to /root/GEE/2019补齐结果/4798_Descending_S1A_IW_GRDH_1SDV_20190721T235404_20190721T235429_028222_033027_8116.tif\n",
      "image save right\n",
      "change image bandNames\n",
      "Generating URL ...\n",
      "Downloading data from https://earthengine.googleapis.com/v1/projects/earthengine-legacy/thumbnails/607d053a40454ef9737606613961657c-0d568d8f9c4070572307f20dd8823725:getPixels\n",
      "Please wait ...\n",
      "Data downloaded to /root/GEE/2019补齐结果/4798_s2a_sr_median.tif\n",
      "image save right\n",
      "change image bandNames\n",
      "Generating URL ...\n",
      "Downloading data from https://earthengine.googleapis.com/v1/projects/earthengine-legacy/thumbnails/98cb2e18f522c5bfb4d83bf7db96408d-b750811ce2ab11d6a71ed63693563e08:getPixels\n",
      "Please wait ...\n",
      "Data downloaded to /root/GEE/2019补齐结果/4798_s1_unit_mean_.tif\n",
      "image save right\n",
      "change image bandNames\n",
      "Generating URL ...\n",
      "Downloading data from https://earthengine.googleapis.com/v1/projects/earthengine-legacy/thumbnails/e1fb3a32dcf8764b1330f0da7a389c44-a5de911a0ccf662608b5f8647e620252:getPixels\n",
      "Please wait ...\n",
      "Data downloaded to /root/GEE/2019补齐结果/4798_s1_unit_max_.tif\n",
      "image save right\n",
      "change image bandNames\n",
      "Generating URL ...\n",
      "Downloading data from https://earthengine.googleapis.com/v1/projects/earthengine-legacy/thumbnails/2de38fb34190669c21e3dd93bee6881d-effd2befccaaf6885597e87e80246c8b:getPixels\n",
      "Please wait ...\n",
      "Data downloaded to /root/GEE/2019补齐结果/4798_s1_unit_min_.tif\n",
      "image save right\n",
      "change image bandNames\n",
      "Generating URL ...\n",
      "Downloading data from https://earthengine.googleapis.com/v1/projects/earthengine-legacy/thumbnails/e32583109a47d9498a46911ae914cc4d-6d324d946d8420d5d335a73966e76a53:getPixels\n",
      "Please wait ...\n",
      "Data downloaded to /root/GEE/2019补齐结果/4798_DistortionAS1A_IW_GRDH_1SDV_20190714T115808_20190714T115833_028113_032CCD_1F8C.tif\n",
      "image save right\n",
      "change image bandNames\n",
      "Generating URL ...\n",
      "Downloading data from https://earthengine.googleapis.com/v1/projects/earthengine-legacy/thumbnails/9cdf053b18d0b11c42ee4245ce72f689-1cee2e3938f3feff287f2a88163632bc:getPixels\n",
      "Please wait ...\n",
      "Data downloaded to /root/GEE/2019补齐结果/4798_DistortionDS1A_IW_GRDH_1SDV_20190721T235404_20190721T235429_028222_033027_8116.tif\n",
      "image save right\n",
      "change image bandNames\n",
      "该函数运行了 222.65904 秒\n"
     ]
    },
    {
     "name": "stderr",
     "output_type": "stream",
     "text": [
      " 41%|####      | 99/244 [4:34:30<7:04:29, 175.65s/it]"
     ]
    },
    {
     "name": "stdout",
     "output_type": "stream",
     "text": [
      "Begin Filter ...\n"
     ]
    },
    {
     "name": "stderr",
     "output_type": "stream",
     "text": [
      "\n",
      "100%|##########| 13/13 [00:00<00:00, 1697.83it/s]\n",
      "\n",
      "100%|##########| 13/13 [00:00<00:00, 639.56it/s]\n",
      "\n",
      "100%|##########| 13/13 [00:00<00:00, 1712.39it/s]\n",
      "\n",
      "100%|##########| 13/13 [00:00<00:00, 738.97it/s]\n"
     ]
    },
    {
     "name": "stdout",
     "output_type": "stream",
     "text": [
      "Method 1 Kmean Band=['VV_gamma0_flatDB'],continue\n",
      "Write csv and shp, Method=Kmean  Img=s1_unit_mean_  Band=['VV_gamma0_flatDB', 'VH_gamma0_flatDB']\n",
      "Method 1 SNIC_Kmean Band=['VV_gamma0_flatDB'],continue\n",
      "Write csv and shp, Method=SNIC_Kmean  Img=s1_unit_mean_  Band=['VV_gamma0_flatDB', 'VH_gamma0_flatDB']\n",
      "Write csv and shp, Method=SNIC_Kmean  Img=s1_unit_mean_  Band=['VV_gamma0_flatDB', 'VH_gamma0_flatDB']\n",
      "Method 1 Xmeans Band=['VV_gamma0_flatDB'],continue\n",
      "Write csv and shp, Method=Xmeans  Img=s1_unit_mean_  Band=['VV_gamma0_flatDB', 'VH_gamma0_flatDB']\n",
      "Method 1 CascadeKMeans Band=['VV_gamma0_flatDB'],continue\n",
      "Write csv and shp, Method=CascadeKMeans  Img=s1_unit_mean_  Band=['VV_gamma0_flatDB', 'VH_gamma0_flatDB']\n",
      "Threshould value is 0.5692029846241535\n",
      "Write csv and shp, Method=otsu  Img=s1_unit_mean_  Band=['VV_gamma0_flatDB']\n",
      "Method 2 otsu Band=['VV_gamma0_flatDB', 'VH_gamma0_flatDB'],continue\n",
      "Threshould value is 0.5537109375\n",
      "Write csv and shp, Method=isodata  Img=s1_unit_mean_  Band=['VV_gamma0_flatDB']\n",
      "Method 2 isodata Band=['VV_gamma0_flatDB', 'VH_gamma0_flatDB'],continue\n",
      "Generating URL ...\n",
      "Downloading data from https://earthengine.googleapis.com/v1/projects/earthengine-legacy/thumbnails/1d1edfe9de8552623201895c9e5c4a1b-2920257a00fb3868945f86d41e9f0878:getPixels\n",
      "Please wait ...\n",
      "Data downloaded to /root/GEE/2019补齐结果/4799_Ascending_S1A_IW_GRDH_1SDV_20190714T115808_20190714T115833_028113_032CCD_1F8C.tif\n",
      "image save right\n",
      "change image bandNames\n",
      "Generating URL ...\n",
      "Downloading data from https://earthengine.googleapis.com/v1/projects/earthengine-legacy/thumbnails/b17ce2103b135c79c4508b16ea0ca5a9-7e1d47453cd886c374453e4aec17144e:getPixels\n",
      "Please wait ...\n",
      "Data downloaded to /root/GEE/2019补齐结果/4799_Descending_S1A_IW_GRDH_1SDV_20190721T235404_20190721T235429_028222_033027_8116.tif\n",
      "image save right\n",
      "change image bandNames\n",
      "Generating URL ...\n",
      "Downloading data from https://earthengine.googleapis.com/v1/projects/earthengine-legacy/thumbnails/51ff2f620b4c258f56e40cd97d8bafdd-91fe408983c2acd2bd499e760aab180f:getPixels\n",
      "Please wait ...\n",
      "Data downloaded to /root/GEE/2019补齐结果/4799_s2a_sr_median.tif\n",
      "image save right\n",
      "change image bandNames\n",
      "Generating URL ...\n",
      "Downloading data from https://earthengine.googleapis.com/v1/projects/earthengine-legacy/thumbnails/c094c8d748f66017693dadc440afc090-e1f8a6274e6f613cfab63b6e836be1e4:getPixels\n",
      "Please wait ...\n",
      "Data downloaded to /root/GEE/2019补齐结果/4799_s1_unit_mean_.tif\n",
      "image save right\n",
      "change image bandNames\n",
      "Generating URL ...\n",
      "Downloading data from https://earthengine.googleapis.com/v1/projects/earthengine-legacy/thumbnails/53825820dd6f0352251521f2f45a2fc9-74cb5e570b7f9fc7f49396b3ae92a517:getPixels\n",
      "Please wait ...\n",
      "Data downloaded to /root/GEE/2019补齐结果/4799_s1_unit_max_.tif\n",
      "image save right\n",
      "change image bandNames\n",
      "Generating URL ...\n",
      "Downloading data from https://earthengine.googleapis.com/v1/projects/earthengine-legacy/thumbnails/d12e9fe12bc0118e772975e3f19dc73e-fc909edc7472e7819d0531106a52e11d:getPixels\n",
      "Please wait ...\n",
      "Data downloaded to /root/GEE/2019补齐结果/4799_s1_unit_min_.tif\n",
      "image save right\n",
      "change image bandNames\n",
      "Generating URL ...\n",
      "Downloading data from https://earthengine.googleapis.com/v1/projects/earthengine-legacy/thumbnails/5433620d91d05a0dedc5480389cebad2-a8027b28c1993ed0ce13720416e49322:getPixels\n",
      "Please wait ...\n",
      "Data downloaded to /root/GEE/2019补齐结果/4799_DistortionAS1A_IW_GRDH_1SDV_20190714T115808_20190714T115833_028113_032CCD_1F8C.tif\n",
      "image save right\n",
      "change image bandNames\n",
      "Generating URL ...\n",
      "Downloading data from https://earthengine.googleapis.com/v1/projects/earthengine-legacy/thumbnails/8337f14eaa809f4322b0b45e76456264-40f9ed73d27b390dbe4eac6f9b15ff52:getPixels\n",
      "Please wait ...\n",
      "Data downloaded to /root/GEE/2019补齐结果/4799_DistortionDS1A_IW_GRDH_1SDV_20190721T235404_20190721T235429_028222_033027_8116.tif\n",
      "image save right\n",
      "change image bandNames\n",
      "该函数运行了 220.11552 秒\n"
     ]
    },
    {
     "name": "stderr",
     "output_type": "stream",
     "text": [
      " 41%|####      | 100/244 [4:38:10<7:33:35, 188.99s/it]"
     ]
    },
    {
     "name": "stdout",
     "output_type": "stream",
     "text": [
      "Begin Filter ...\n"
     ]
    },
    {
     "name": "stderr",
     "output_type": "stream",
     "text": [
      "\n",
      "100%|##########| 11/11 [00:00<00:00, 1645.06it/s]\n",
      "\n",
      "100%|##########| 11/11 [00:00<00:00, 507.32it/s]\n",
      "\n",
      "100%|##########| 11/11 [00:00<00:00, 1608.36it/s]\n",
      "\n",
      "100%|##########| 11/11 [00:00<00:00, 626.87it/s]\n"
     ]
    },
    {
     "name": "stdout",
     "output_type": "stream",
     "text": [
      "Method 1 Kmean Band=['VV_gamma0_flatDB'],continue\n",
      "Write csv and shp, Method=Kmean  Img=s1_unit_mean_  Band=['VV_gamma0_flatDB', 'VH_gamma0_flatDB']\n",
      "Method 1 SNIC_Kmean Band=['VV_gamma0_flatDB'],continue\n",
      "Write csv and shp, Method=SNIC_Kmean  Img=s1_unit_mean_  Band=['VV_gamma0_flatDB', 'VH_gamma0_flatDB']\n",
      "Write csv and shp, Method=SNIC_Kmean  Img=s1_unit_mean_  Band=['VV_gamma0_flatDB', 'VH_gamma0_flatDB']\n",
      "Method 1 Xmeans Band=['VV_gamma0_flatDB'],continue\n",
      "Write csv and shp, Method=Xmeans  Img=s1_unit_mean_  Band=['VV_gamma0_flatDB', 'VH_gamma0_flatDB']\n",
      "Method 1 CascadeKMeans Band=['VV_gamma0_flatDB'],continue\n",
      "Write csv and shp, Method=CascadeKMeans  Img=s1_unit_mean_  Band=['VV_gamma0_flatDB', 'VH_gamma0_flatDB']\n",
      "Threshould value is 0.6689154298504887\n",
      "Write csv and shp, Method=otsu  Img=s1_unit_mean_  Band=['VV_gamma0_flatDB']\n",
      "Method 2 otsu Band=['VV_gamma0_flatDB', 'VH_gamma0_flatDB'],continue\n",
      "Threshould value is 0.6553323912509341\n",
      "Write csv and shp, Method=isodata  Img=s1_unit_mean_  Band=['VV_gamma0_flatDB']\n",
      "Method 2 isodata Band=['VV_gamma0_flatDB', 'VH_gamma0_flatDB'],continue\n",
      "Generating URL ...\n",
      "Downloading data from https://earthengine.googleapis.com/v1/projects/earthengine-legacy/thumbnails/69186193d381930d2a74dcbef9083309-e07f0b3cca0b9ef68b97169a4a4f7bea:getPixels\n",
      "Please wait ...\n",
      "Data downloaded to /root/GEE/2019补齐结果/4800_Ascending_S1A_IW_GRDH_1SDV_20190714T115808_20190714T115833_028113_032CCD_1F8C.tif\n",
      "image save right\n",
      "change image bandNames\n",
      "Generating URL ...\n",
      "Downloading data from https://earthengine.googleapis.com/v1/projects/earthengine-legacy/thumbnails/1ea67dad2d6996c878c54ecc685b2d67-89e5390c40707ec9a66924982cd51eeb:getPixels\n",
      "Please wait ...\n",
      "Data downloaded to /root/GEE/2019补齐结果/4800_Descending_S1A_IW_GRDH_1SDV_20190721T235404_20190721T235429_028222_033027_8116.tif\n",
      "image save right\n",
      "change image bandNames\n",
      "Generating URL ...\n",
      "Downloading data from https://earthengine.googleapis.com/v1/projects/earthengine-legacy/thumbnails/43f4f60ba7a1c73b744ff8d14e3e6cf5-00bad9846b9c61d1d65a86934ac29366:getPixels\n",
      "Please wait ...\n",
      "Data downloaded to /root/GEE/2019补齐结果/4800_s2a_sr_median.tif\n",
      "image save right\n",
      "change image bandNames\n",
      "Generating URL ...\n",
      "Downloading data from https://earthengine.googleapis.com/v1/projects/earthengine-legacy/thumbnails/0d7cbb05d05473b3f269f9b826bd29e8-77ce8a5fc30a965d8e399946534d39a5:getPixels\n",
      "Please wait ...\n",
      "Data downloaded to /root/GEE/2019补齐结果/4800_s1_unit_mean_.tif\n",
      "image save right\n",
      "change image bandNames\n",
      "Generating URL ...\n",
      "Downloading data from https://earthengine.googleapis.com/v1/projects/earthengine-legacy/thumbnails/9c853fb64c5343275762b94b99b6ee12-ca79aba687cf587b5199045c3f3cb531:getPixels\n",
      "Please wait ...\n",
      "Data downloaded to /root/GEE/2019补齐结果/4800_s1_unit_max_.tif\n",
      "image save right\n",
      "change image bandNames\n",
      "Generating URL ...\n",
      "Downloading data from https://earthengine.googleapis.com/v1/projects/earthengine-legacy/thumbnails/35ef596a4d843078a35759b60f072f60-34aff95955ebf655afd08bd95b59bca8:getPixels\n",
      "Please wait ...\n",
      "Data downloaded to /root/GEE/2019补齐结果/4800_s1_unit_min_.tif\n",
      "image save right\n",
      "change image bandNames\n",
      "Generating URL ...\n",
      "Downloading data from https://earthengine.googleapis.com/v1/projects/earthengine-legacy/thumbnails/dba8cfe4fe821032e0f01c30dec21a77-4c24dab2fedbd2720e8d66675de72779:getPixels\n",
      "Please wait ...\n",
      "Data downloaded to /root/GEE/2019补齐结果/4800_DistortionAS1A_IW_GRDH_1SDV_20190714T115808_20190714T115833_028113_032CCD_1F8C.tif\n",
      "image save right\n",
      "change image bandNames\n",
      "Generating URL ...\n",
      "Downloading data from https://earthengine.googleapis.com/v1/projects/earthengine-legacy/thumbnails/50a3269a8b152523b0ffde3b4433f3ab-41f476f17f9135e5b7b42a0e5f1a8c19:getPixels\n",
      "Please wait ...\n",
      "Data downloaded to /root/GEE/2019补齐结果/4800_DistortionDS1A_IW_GRDH_1SDV_20190721T235404_20190721T235429_028222_033027_8116.tif\n",
      "image save right\n",
      "change image bandNames\n",
      "该函数运行了 223.20796 秒\n"
     ]
    },
    {
     "name": "stderr",
     "output_type": "stream",
     "text": [
      " 41%|####1     | 101/244 [4:41:53<7:54:54, 199.26s/it]"
     ]
    },
    {
     "name": "stdout",
     "output_type": "stream",
     "text": [
      "Begin Filter ...\n"
     ]
    },
    {
     "name": "stderr",
     "output_type": "stream",
     "text": [
      "\n",
      "100%|##########| 20/20 [00:00<00:00, 1820.56it/s]\n",
      "\n",
      "100%|##########| 20/20 [00:00<00:00, 433.19it/s]\n",
      "\n",
      "100%|##########| 20/20 [00:00<00:00, 1754.79it/s]\n",
      "\n",
      "100%|##########| 20/20 [00:00<00:00, 388.33it/s]\n"
     ]
    },
    {
     "name": "stdout",
     "output_type": "stream",
     "text": [
      "Method 1 Kmean Band=['VV_gamma0_flatDB'],continue\n",
      "Write csv and shp, Method=Kmean  Img=s1_unit_mean_  Band=['VV_gamma0_flatDB', 'VH_gamma0_flatDB']\n",
      "Method 1 SNIC_Kmean Band=['VV_gamma0_flatDB'],continue\n",
      "Write csv and shp, Method=SNIC_Kmean  Img=s1_unit_mean_  Band=['VV_gamma0_flatDB', 'VH_gamma0_flatDB']\n",
      "Write csv and shp, Method=SNIC_Kmean  Img=s1_unit_mean_  Band=['VV_gamma0_flatDB', 'VH_gamma0_flatDB']\n",
      "Method 1 Xmeans Band=['VV_gamma0_flatDB'],continue\n",
      "Write csv and shp, Method=Xmeans  Img=s1_unit_mean_  Band=['VV_gamma0_flatDB', 'VH_gamma0_flatDB']\n",
      "Method 1 CascadeKMeans Band=['VV_gamma0_flatDB'],continue\n",
      "Write csv and shp, Method=CascadeKMeans  Img=s1_unit_mean_  Band=['VV_gamma0_flatDB', 'VH_gamma0_flatDB']\n",
      "Threshould value is 0.5426719122135475\n",
      "Write csv and shp, Method=otsu  Img=s1_unit_mean_  Band=['VV_gamma0_flatDB']\n",
      "Method 2 otsu Band=['VV_gamma0_flatDB', 'VH_gamma0_flatDB'],continue\n",
      "Threshould value is 0.5461974574762352\n",
      "Write csv and shp, Method=isodata  Img=s1_unit_mean_  Band=['VV_gamma0_flatDB']\n",
      "Method 2 isodata Band=['VV_gamma0_flatDB', 'VH_gamma0_flatDB'],continue\n",
      "该函数运行了 154.15058 秒\n"
     ]
    },
    {
     "name": "stderr",
     "output_type": "stream",
     "text": [
      " 42%|####1     | 102/244 [4:44:27<7:19:33, 185.73s/it]"
     ]
    },
    {
     "name": "stdout",
     "output_type": "stream",
     "text": [
      "Begin Filter ...\n"
     ]
    },
    {
     "name": "stderr",
     "output_type": "stream",
     "text": [
      "\n",
      "100%|##########| 38/38 [00:00<00:00, 2041.31it/s]\n",
      "\n",
      "  0%|          | 0/38 [00:00<?, ?it/s]\u001b[A\n",
      "100%|##########| 38/38 [00:00<00:00, 207.96it/s]\u001b[A\n",
      "\n",
      "100%|##########| 38/38 [00:00<00:00, 1754.59it/s]\n",
      "\n",
      "  0%|          | 0/38 [00:00<?, ?it/s]\u001b[A\n",
      "100%|##########| 38/38 [00:00<00:00, 286.56it/s]\u001b[A\n"
     ]
    },
    {
     "name": "stdout",
     "output_type": "stream",
     "text": [
      "Method 1 Kmean Band=['VV_gamma0_flatDB'],continue\n",
      "Write csv and shp, Method=Kmean  Img=s1_unit_mean_  Band=['VV_gamma0_flatDB', 'VH_gamma0_flatDB']\n",
      "Method 1 SNIC_Kmean Band=['VV_gamma0_flatDB'],continue\n",
      "Write csv and shp, Method=SNIC_Kmean  Img=s1_unit_mean_  Band=['VV_gamma0_flatDB', 'VH_gamma0_flatDB']\n",
      "Write csv and shp, Method=SNIC_Kmean  Img=s1_unit_mean_  Band=['VV_gamma0_flatDB', 'VH_gamma0_flatDB']\n",
      "Method 1 Xmeans Band=['VV_gamma0_flatDB'],continue\n",
      "Write csv and shp, Method=Xmeans  Img=s1_unit_mean_  Band=['VV_gamma0_flatDB', 'VH_gamma0_flatDB']\n",
      "Method 1 CascadeKMeans Band=['VV_gamma0_flatDB'],continue\n",
      "Write csv and shp, Method=CascadeKMeans  Img=s1_unit_mean_  Band=['VV_gamma0_flatDB', 'VH_gamma0_flatDB']\n",
      "Threshould value is 0.6025848611278629\n",
      "Write csv and shp, Method=otsu  Img=s1_unit_mean_  Band=['VV_gamma0_flatDB']\n",
      "Method 2 otsu Band=['VV_gamma0_flatDB', 'VH_gamma0_flatDB'],continue\n",
      "Threshould value is 0.5290356084093215\n",
      "Write csv and shp, Method=isodata  Img=s1_unit_mean_  Band=['VV_gamma0_flatDB']\n",
      "Method 2 isodata Band=['VV_gamma0_flatDB', 'VH_gamma0_flatDB'],continue\n",
      "该函数运行了 150.32173 秒\n"
     ]
    },
    {
     "name": "stderr",
     "output_type": "stream",
     "text": [
      " 42%|####2     | 103/244 [4:46:57<6:51:30, 175.11s/it]"
     ]
    },
    {
     "name": "stdout",
     "output_type": "stream",
     "text": [
      "Begin Filter ...\n"
     ]
    },
    {
     "name": "stderr",
     "output_type": "stream",
     "text": [
      "\n",
      "100%|##########| 22/22 [00:00<00:00, 1912.11it/s]\n",
      "\n",
      "100%|##########| 22/22 [00:00<00:00, 298.23it/s]\n",
      "\n",
      "100%|##########| 23/23 [00:00<00:00, 2053.71it/s]\n",
      "\n",
      "100%|##########| 23/23 [00:00<00:00, 318.66it/s]\n"
     ]
    },
    {
     "name": "stdout",
     "output_type": "stream",
     "text": [
      "Method 1 Kmean Band=['VV_gamma0_flatDB'],continue\n",
      "Write csv and shp, Method=Kmean  Img=s1_unit_mean_  Band=['VV_gamma0_flatDB', 'VH_gamma0_flatDB']\n",
      "Method 1 SNIC_Kmean Band=['VV_gamma0_flatDB'],continue\n",
      "Write csv and shp, Method=SNIC_Kmean  Img=s1_unit_mean_  Band=['VV_gamma0_flatDB', 'VH_gamma0_flatDB']\n",
      "Write csv and shp, Method=SNIC_Kmean  Img=s1_unit_mean_  Band=['VV_gamma0_flatDB', 'VH_gamma0_flatDB']\n",
      "Method 1 Xmeans Band=['VV_gamma0_flatDB'],continue\n",
      "Write csv and shp, Method=Xmeans  Img=s1_unit_mean_  Band=['VV_gamma0_flatDB', 'VH_gamma0_flatDB']\n",
      "Method 1 CascadeKMeans Band=['VV_gamma0_flatDB'],continue\n",
      "Write csv and shp, Method=CascadeKMeans  Img=s1_unit_mean_  Band=['VV_gamma0_flatDB', 'VH_gamma0_flatDB']\n",
      "Threshould value is 0.4736481281497006\n",
      "Write csv and shp, Method=otsu  Img=s1_unit_mean_  Band=['VV_gamma0_flatDB']\n",
      "Method 2 otsu Band=['VV_gamma0_flatDB', 'VH_gamma0_flatDB'],continue\n",
      "Threshould value is 0.47634804645849843\n",
      "Write csv and shp, Method=isodata  Img=s1_unit_mean_  Band=['VV_gamma0_flatDB']\n",
      "Method 2 isodata Band=['VV_gamma0_flatDB', 'VH_gamma0_flatDB'],continue\n",
      "该函数运行了 137.11293 秒\n"
     ]
    },
    {
     "name": "stderr",
     "output_type": "stream",
     "text": [
      " 43%|####2     | 104/244 [4:49:14<6:21:59, 163.71s/it]"
     ]
    },
    {
     "name": "stdout",
     "output_type": "stream",
     "text": [
      "Begin Filter ...\n"
     ]
    },
    {
     "name": "stderr",
     "output_type": "stream",
     "text": [
      "\n",
      "100%|##########| 16/16 [00:00<00:00, 1811.16it/s]\n",
      "\n",
      "100%|##########| 16/16 [00:00<00:00, 504.10it/s]\n",
      "\n",
      "100%|##########| 16/16 [00:00<00:00, 1881.75it/s]\n",
      "\n",
      "100%|##########| 16/16 [00:00<00:00, 543.66it/s]\n"
     ]
    },
    {
     "name": "stdout",
     "output_type": "stream",
     "text": [
      "Method 1 Kmean Band=['VV_gamma0_flatDB'],continue\n",
      "Write csv and shp, Method=Kmean  Img=s1_unit_mean_  Band=['VV_gamma0_flatDB', 'VH_gamma0_flatDB']\n",
      "Method 1 SNIC_Kmean Band=['VV_gamma0_flatDB'],continue\n",
      "Write csv and shp, Method=SNIC_Kmean  Img=s1_unit_mean_  Band=['VV_gamma0_flatDB', 'VH_gamma0_flatDB']\n",
      "Write csv and shp, Method=SNIC_Kmean  Img=s1_unit_mean_  Band=['VV_gamma0_flatDB', 'VH_gamma0_flatDB']\n",
      "Method 1 Xmeans Band=['VV_gamma0_flatDB'],continue\n",
      "Write csv and shp, Method=Xmeans  Img=s1_unit_mean_  Band=['VV_gamma0_flatDB', 'VH_gamma0_flatDB']\n",
      "Method 1 CascadeKMeans Band=['VV_gamma0_flatDB'],continue\n",
      "Write csv and shp, Method=CascadeKMeans  Img=s1_unit_mean_  Band=['VV_gamma0_flatDB', 'VH_gamma0_flatDB']\n",
      "Threshould value is 0.5066146838229005\n",
      "Write csv and shp, Method=otsu  Img=s1_unit_mean_  Band=['VV_gamma0_flatDB']\n",
      "Method 2 otsu Band=['VV_gamma0_flatDB', 'VH_gamma0_flatDB'],continue\n"
     ]
    },
    {
     "name": "stderr",
     "output_type": "stream",
     "text": [
      "/root/GEE/Extract_algorithm.py:229: RuntimeWarning: invalid value encountered in divide\n",
      "  higher = (csum_intensity[-1] - csum_intensity[:-1]) / (csumh[:-1]+sys.float_info.min)\n"
     ]
    },
    {
     "name": "stdout",
     "output_type": "stream",
     "text": [
      "Threshould value is 0.5089903232907307\n",
      "Write csv and shp, Method=isodata  Img=s1_unit_mean_  Band=['VV_gamma0_flatDB']\n",
      "Method 2 isodata Band=['VV_gamma0_flatDB', 'VH_gamma0_flatDB'],continue\n",
      "该函数运行了 158.39903 秒\n"
     ]
    },
    {
     "name": "stderr",
     "output_type": "stream",
     "text": [
      " 43%|####3     | 105/244 [4:51:53<6:15:34, 162.12s/it]"
     ]
    },
    {
     "name": "stdout",
     "output_type": "stream",
     "text": [
      "Begin Filter ...\n"
     ]
    },
    {
     "name": "stderr",
     "output_type": "stream",
     "text": [
      "\n",
      "100%|##########| 13/13 [00:00<00:00, 1632.02it/s]\n",
      "\n",
      "100%|##########| 13/13 [00:00<00:00, 466.16it/s]\n",
      "\n",
      "100%|##########| 14/14 [00:00<00:00, 1657.27it/s]\n",
      "\n",
      "100%|##########| 14/14 [00:00<00:00, 481.38it/s]\n"
     ]
    },
    {
     "name": "stdout",
     "output_type": "stream",
     "text": [
      "Method 1 Kmean Band=['VV_gamma0_flatDB'],continue\n",
      "Write csv and shp, Method=Kmean  Img=s1_unit_mean_  Band=['VV_gamma0_flatDB', 'VH_gamma0_flatDB']\n",
      "Method 1 SNIC_Kmean Band=['VV_gamma0_flatDB'],continue\n",
      "Write csv and shp, Method=SNIC_Kmean  Img=s1_unit_mean_  Band=['VV_gamma0_flatDB', 'VH_gamma0_flatDB']\n",
      "Write csv and shp, Method=SNIC_Kmean  Img=s1_unit_mean_  Band=['VV_gamma0_flatDB', 'VH_gamma0_flatDB']\n",
      "Method 1 Xmeans Band=['VV_gamma0_flatDB'],continue\n",
      "Write csv and shp, Method=Xmeans  Img=s1_unit_mean_  Band=['VV_gamma0_flatDB', 'VH_gamma0_flatDB']\n",
      "Method 1 CascadeKMeans Band=['VV_gamma0_flatDB'],continue\n",
      "Write csv and shp, Method=CascadeKMeans  Img=s1_unit_mean_  Band=['VV_gamma0_flatDB', 'VH_gamma0_flatDB']\n",
      "Threshould value is 0.5578383350131921\n",
      "Write csv and shp, Method=otsu  Img=s1_unit_mean_  Band=['VV_gamma0_flatDB']\n",
      "Method 2 otsu Band=['VV_gamma0_flatDB', 'VH_gamma0_flatDB'],continue\n",
      "Threshould value is 0.5517578125\n",
      "Write csv and shp, Method=isodata  Img=s1_unit_mean_  Band=['VV_gamma0_flatDB']\n",
      "Method 2 isodata Band=['VV_gamma0_flatDB', 'VH_gamma0_flatDB'],continue\n",
      "该函数运行了 153.60134 秒\n"
     ]
    },
    {
     "name": "stderr",
     "output_type": "stream",
     "text": [
      " 43%|####3     | 106/244 [4:54:26<6:06:59, 159.56s/it]"
     ]
    },
    {
     "name": "stdout",
     "output_type": "stream",
     "text": [
      "Begin Filter ...\n"
     ]
    },
    {
     "name": "stderr",
     "output_type": "stream",
     "text": [
      "\n",
      "100%|##########| 18/18 [00:00<00:00, 1707.97it/s]\n",
      "\n",
      "100%|##########| 18/18 [00:00<00:00, 278.69it/s]\n",
      "\n",
      "100%|##########| 19/19 [00:00<00:00, 2004.02it/s]\n",
      "\n",
      "100%|##########| 19/19 [00:00<00:00, 357.83it/s]\n"
     ]
    },
    {
     "name": "stdout",
     "output_type": "stream",
     "text": [
      "Method 1 Kmean Band=['VV_gamma0_flatDB'],continue\n",
      "Write csv and shp, Method=Kmean  Img=s1_unit_mean_  Band=['VV_gamma0_flatDB', 'VH_gamma0_flatDB']\n",
      "Method 1 SNIC_Kmean Band=['VV_gamma0_flatDB'],continue\n",
      "Write csv and shp, Method=SNIC_Kmean  Img=s1_unit_mean_  Band=['VV_gamma0_flatDB', 'VH_gamma0_flatDB']\n",
      "Write csv and shp, Method=SNIC_Kmean  Img=s1_unit_mean_  Band=['VV_gamma0_flatDB', 'VH_gamma0_flatDB']\n",
      "Method 1 Xmeans Band=['VV_gamma0_flatDB'],continue\n",
      "Write csv and shp, Method=Xmeans  Img=s1_unit_mean_  Band=['VV_gamma0_flatDB', 'VH_gamma0_flatDB']\n",
      "Method 1 CascadeKMeans Band=['VV_gamma0_flatDB'],continue\n",
      "Write csv and shp, Method=CascadeKMeans  Img=s1_unit_mean_  Band=['VV_gamma0_flatDB', 'VH_gamma0_flatDB']\n",
      "Threshould value is 0.47311997458751553\n",
      "Write csv and shp, Method=otsu  Img=s1_unit_mean_  Band=['VV_gamma0_flatDB']\n",
      "Method 2 otsu Band=['VV_gamma0_flatDB', 'VH_gamma0_flatDB'],continue\n",
      "Threshould value is 0.4753978800347114\n",
      "Write csv and shp, Method=isodata  Img=s1_unit_mean_  Band=['VV_gamma0_flatDB']\n",
      "Method 2 isodata Band=['VV_gamma0_flatDB', 'VH_gamma0_flatDB'],continue\n",
      "该函数运行了 135.05445 秒\n"
     ]
    },
    {
     "name": "stderr",
     "output_type": "stream",
     "text": [
      " 44%|####3     | 107/244 [4:56:42<5:47:33, 152.21s/it]"
     ]
    },
    {
     "name": "stdout",
     "output_type": "stream",
     "text": [
      "Begin Filter ...\n"
     ]
    },
    {
     "name": "stderr",
     "output_type": "stream",
     "text": [
      "\n",
      "100%|##########| 30/30 [00:00<00:00, 2145.42it/s]\n",
      "\n",
      "  0%|          | 0/30 [00:00<?, ?it/s]\u001b[A\n",
      "100%|##########| 30/30 [00:00<00:00, 220.78it/s]\u001b[A\n",
      "\n",
      "100%|##########| 31/31 [00:00<00:00, 2166.62it/s]\n",
      "\n",
      "  0%|          | 0/31 [00:00<?, ?it/s]\u001b[A\n",
      "100%|##########| 31/31 [00:00<00:00, 202.35it/s]\u001b[A\n"
     ]
    },
    {
     "name": "stdout",
     "output_type": "stream",
     "text": [
      "Method 1 Kmean Band=['VV_gamma0_flatDB'],continue\n",
      "Write csv and shp, Method=Kmean  Img=s1_unit_mean_  Band=['VV_gamma0_flatDB', 'VH_gamma0_flatDB']\n",
      "Method 1 SNIC_Kmean Band=['VV_gamma0_flatDB'],continue\n",
      "Write csv and shp, Method=SNIC_Kmean  Img=s1_unit_mean_  Band=['VV_gamma0_flatDB', 'VH_gamma0_flatDB']\n",
      "Write csv and shp, Method=SNIC_Kmean  Img=s1_unit_mean_  Band=['VV_gamma0_flatDB', 'VH_gamma0_flatDB']\n",
      "Method 1 Xmeans Band=['VV_gamma0_flatDB'],continue\n",
      "Write csv and shp, Method=Xmeans  Img=s1_unit_mean_  Band=['VV_gamma0_flatDB', 'VH_gamma0_flatDB']\n",
      "Method 1 CascadeKMeans Band=['VV_gamma0_flatDB'],continue\n",
      "Write csv and shp, Method=CascadeKMeans  Img=s1_unit_mean_  Band=['VV_gamma0_flatDB', 'VH_gamma0_flatDB']\n",
      "Threshould value is 0.42672392493455485\n",
      "Write csv and shp, Method=otsu  Img=s1_unit_mean_  Band=['VV_gamma0_flatDB']\n",
      "Method 2 otsu Band=['VV_gamma0_flatDB', 'VH_gamma0_flatDB'],continue\n",
      "Threshould value is 0.42672392493455485\n",
      "Write csv and shp, Method=isodata  Img=s1_unit_mean_  Band=['VV_gamma0_flatDB']\n",
      "Method 2 isodata Band=['VV_gamma0_flatDB', 'VH_gamma0_flatDB'],continue\n",
      "该函数运行了 154.88193 秒\n"
     ]
    },
    {
     "name": "stderr",
     "output_type": "stream",
     "text": [
      " 44%|####4     | 108/244 [4:59:16<5:46:49, 153.01s/it]"
     ]
    },
    {
     "name": "stdout",
     "output_type": "stream",
     "text": [
      "Begin Filter ...\n"
     ]
    },
    {
     "name": "stderr",
     "output_type": "stream",
     "text": [
      "\n",
      "100%|##########| 30/30 [00:00<00:00, 2019.47it/s]\n",
      "\n",
      "  0%|          | 0/30 [00:00<?, ?it/s]\u001b[A\n",
      "100%|##########| 30/30 [00:00<00:00, 200.95it/s]\u001b[A\n",
      "\n",
      "100%|##########| 30/30 [00:00<00:00, 2014.88it/s]\n",
      "\n",
      "  0%|          | 0/30 [00:00<?, ?it/s]\u001b[A\n",
      "100%|##########| 30/30 [00:00<00:00, 182.35it/s]\u001b[A\n"
     ]
    },
    {
     "name": "stdout",
     "output_type": "stream",
     "text": [
      "Method 1 Kmean Band=['VV_gamma0_flatDB'],continue\n",
      "Write csv and shp, Method=Kmean  Img=s1_unit_mean_  Band=['VV_gamma0_flatDB', 'VH_gamma0_flatDB']\n",
      "Method 1 SNIC_Kmean Band=['VV_gamma0_flatDB'],continue\n",
      "Write csv and shp, Method=SNIC_Kmean  Img=s1_unit_mean_  Band=['VV_gamma0_flatDB', 'VH_gamma0_flatDB']\n",
      "Write csv and shp, Method=SNIC_Kmean  Img=s1_unit_mean_  Band=['VV_gamma0_flatDB', 'VH_gamma0_flatDB']\n",
      "Method 1 Xmeans Band=['VV_gamma0_flatDB'],continue\n",
      "Write csv and shp, Method=Xmeans  Img=s1_unit_mean_  Band=['VV_gamma0_flatDB', 'VH_gamma0_flatDB']\n",
      "Method 1 CascadeKMeans Band=['VV_gamma0_flatDB'],continue\n",
      "Write csv and shp, Method=CascadeKMeans  Img=s1_unit_mean_  Band=['VV_gamma0_flatDB', 'VH_gamma0_flatDB']\n",
      "Threshould value is 0.3250265321024977\n",
      "Write csv and shp, Method=otsu  Img=s1_unit_mean_  Band=['VV_gamma0_flatDB']\n",
      "Method 2 otsu Band=['VV_gamma0_flatDB', 'VH_gamma0_flatDB'],continue\n"
     ]
    },
    {
     "name": "stderr",
     "output_type": "stream",
     "text": [
      "/root/GEE/Extract_algorithm.py:229: RuntimeWarning: invalid value encountered in divide\n",
      "  higher = (csum_intensity[-1] - csum_intensity[:-1]) / (csumh[:-1]+sys.float_info.min)\n"
     ]
    },
    {
     "name": "stdout",
     "output_type": "stream",
     "text": [
      "Threshould value is 0.3250265321024977\n",
      "Write csv and shp, Method=isodata  Img=s1_unit_mean_  Band=['VV_gamma0_flatDB']\n",
      "Method 2 isodata Band=['VV_gamma0_flatDB', 'VH_gamma0_flatDB'],continue\n",
      "该函数运行了 158.32535 秒\n"
     ]
    },
    {
     "name": "stderr",
     "output_type": "stream",
     "text": [
      " 45%|####4     | 109/244 [5:01:55<5:47:52, 154.61s/it]"
     ]
    },
    {
     "name": "stdout",
     "output_type": "stream",
     "text": [
      "Begin Filter ...\n"
     ]
    },
    {
     "name": "stderr",
     "output_type": "stream",
     "text": [
      "\n",
      "100%|##########| 47/47 [00:00<00:00, 2028.46it/s]\n",
      "\n",
      "  0%|          | 0/47 [00:00<?, ?it/s]\u001b[A\n",
      " 30%|##9       | 14/47 [00:00<00:00, 124.57it/s]\u001b[A\n",
      " 57%|#####7    | 27/47 [00:00<00:00, 102.14it/s]\u001b[A\n",
      "100%|##########| 47/47 [00:00<00:00, 110.66it/s]\u001b[A\n",
      "\n",
      "100%|##########| 48/48 [00:00<00:00, 2103.66it/s]\n",
      "\n",
      "  0%|          | 0/48 [00:00<?, ?it/s]\u001b[A\n",
      " 31%|###1      | 15/48 [00:00<00:00, 147.22it/s]\u001b[A\n",
      " 62%|######2   | 30/48 [00:00<00:00, 105.90it/s]\u001b[A\n",
      "100%|##########| 48/48 [00:00<00:00, 105.63it/s]\u001b[A\n"
     ]
    },
    {
     "name": "stdout",
     "output_type": "stream",
     "text": [
      "Method 1 Kmean Band=['VV_gamma0_flatDB'],continue\n",
      "Write csv and shp, Method=Kmean  Img=s1_unit_mean_  Band=['VV_gamma0_flatDB', 'VH_gamma0_flatDB']\n",
      "Method 1 SNIC_Kmean Band=['VV_gamma0_flatDB'],continue\n",
      "Write csv and shp, Method=SNIC_Kmean  Img=s1_unit_mean_  Band=['VV_gamma0_flatDB', 'VH_gamma0_flatDB']\n",
      "Write csv and shp, Method=SNIC_Kmean  Img=s1_unit_mean_  Band=['VV_gamma0_flatDB', 'VH_gamma0_flatDB']\n",
      "Method 1 Xmeans Band=['VV_gamma0_flatDB'],continue\n",
      "Write csv and shp, Method=Xmeans  Img=s1_unit_mean_  Band=['VV_gamma0_flatDB', 'VH_gamma0_flatDB']\n",
      "Method 1 CascadeKMeans Band=['VV_gamma0_flatDB'],continue\n",
      "Write csv and shp, Method=CascadeKMeans  Img=s1_unit_mean_  Band=['VV_gamma0_flatDB', 'VH_gamma0_flatDB']\n",
      "Threshould value is 0.479530185528289\n",
      "Write csv and shp, Method=otsu  Img=s1_unit_mean_  Band=['VV_gamma0_flatDB']\n",
      "Method 2 otsu Band=['VV_gamma0_flatDB', 'VH_gamma0_flatDB'],continue\n",
      "Threshould value is 0.479530185528289\n",
      "Write csv and shp, Method=isodata  Img=s1_unit_mean_  Band=['VV_gamma0_flatDB']\n",
      "Method 2 isodata Band=['VV_gamma0_flatDB', 'VH_gamma0_flatDB'],continue\n",
      "该函数运行了 164.24484 秒\n"
     ]
    },
    {
     "name": "stderr",
     "output_type": "stream",
     "text": [
      " 45%|####5     | 110/244 [5:04:39<5:51:45, 157.50s/it]"
     ]
    },
    {
     "name": "stdout",
     "output_type": "stream",
     "text": [
      "Begin Filter ...\n"
     ]
    },
    {
     "name": "stderr",
     "output_type": "stream",
     "text": [
      "\n",
      "100%|##########| 20/20 [00:00<00:00, 1697.17it/s]\n",
      "\n",
      "100%|##########| 20/20 [00:00<00:00, 429.14it/s]\n",
      "\n",
      "100%|##########| 19/19 [00:00<00:00, 1910.52it/s]\n",
      "\n",
      "100%|##########| 19/19 [00:00<00:00, 485.64it/s]\n"
     ]
    },
    {
     "name": "stdout",
     "output_type": "stream",
     "text": [
      "Method 1 Kmean Band=['VV_gamma0_flatDB'],continue\n",
      "Write csv and shp, Method=Kmean  Img=s1_unit_mean_  Band=['VV_gamma0_flatDB', 'VH_gamma0_flatDB']\n",
      "Method 1 SNIC_Kmean Band=['VV_gamma0_flatDB'],continue\n",
      "Write csv and shp, Method=SNIC_Kmean  Img=s1_unit_mean_  Band=['VV_gamma0_flatDB', 'VH_gamma0_flatDB']\n",
      "Write csv and shp, Method=SNIC_Kmean  Img=s1_unit_mean_  Band=['VV_gamma0_flatDB', 'VH_gamma0_flatDB']\n",
      "Method 1 Xmeans Band=['VV_gamma0_flatDB'],continue\n",
      "Write csv and shp, Method=Xmeans  Img=s1_unit_mean_  Band=['VV_gamma0_flatDB', 'VH_gamma0_flatDB']\n",
      "Method 1 CascadeKMeans Band=['VV_gamma0_flatDB'],continue\n",
      "Write csv and shp, Method=CascadeKMeans  Img=s1_unit_mean_  Band=['VV_gamma0_flatDB', 'VH_gamma0_flatDB']\n",
      "Threshould value is 0.3017796526398213\n",
      "Write csv and shp, Method=otsu  Img=s1_unit_mean_  Band=['VV_gamma0_flatDB']\n",
      "Method 2 otsu Band=['VV_gamma0_flatDB', 'VH_gamma0_flatDB'],continue\n"
     ]
    },
    {
     "name": "stderr",
     "output_type": "stream",
     "text": [
      "/root/GEE/Extract_algorithm.py:229: RuntimeWarning: invalid value encountered in divide\n",
      "  higher = (csum_intensity[-1] - csum_intensity[:-1]) / (csumh[:-1]+sys.float_info.min)\n"
     ]
    },
    {
     "name": "stdout",
     "output_type": "stream",
     "text": [
      "Threshould value is 0.30393113838413705\n",
      "Write csv and shp, Method=isodata  Img=s1_unit_mean_  Band=['VV_gamma0_flatDB']\n",
      "Method 2 isodata Band=['VV_gamma0_flatDB', 'VH_gamma0_flatDB'],continue\n",
      "该函数运行了 152.67549 秒\n"
     ]
    },
    {
     "name": "stderr",
     "output_type": "stream",
     "text": [
      " 45%|####5     | 111/244 [5:07:12<5:45:55, 156.05s/it]"
     ]
    },
    {
     "name": "stdout",
     "output_type": "stream",
     "text": [
      "Begin Filter ...\n"
     ]
    },
    {
     "name": "stderr",
     "output_type": "stream",
     "text": [
      "\n",
      "100%|##########| 12/12 [00:00<00:00, 1442.66it/s]\n",
      "\n",
      "100%|##########| 12/12 [00:00<00:00, 512.42it/s]\n",
      "\n",
      "100%|##########| 12/12 [00:00<00:00, 1764.41it/s]\n",
      "\n",
      "100%|##########| 12/12 [00:00<00:00, 576.89it/s]\n"
     ]
    },
    {
     "name": "stdout",
     "output_type": "stream",
     "text": [
      "Method 1 Kmean Band=['VV_gamma0_flatDB'],continue\n",
      "Write csv and shp, Method=Kmean  Img=s1_unit_mean_  Band=['VV_gamma0_flatDB', 'VH_gamma0_flatDB']\n",
      "Method 1 SNIC_Kmean Band=['VV_gamma0_flatDB'],continue\n",
      "Write csv and shp, Method=SNIC_Kmean  Img=s1_unit_mean_  Band=['VV_gamma0_flatDB', 'VH_gamma0_flatDB']\n",
      "Write csv and shp, Method=SNIC_Kmean  Img=s1_unit_mean_  Band=['VV_gamma0_flatDB', 'VH_gamma0_flatDB']\n",
      "Method 1 Xmeans Band=['VV_gamma0_flatDB'],continue\n",
      "Write csv and shp, Method=Xmeans  Img=s1_unit_mean_  Band=['VV_gamma0_flatDB', 'VH_gamma0_flatDB']\n",
      "Method 1 CascadeKMeans Band=['VV_gamma0_flatDB'],continue\n",
      "Write csv and shp, Method=CascadeKMeans  Img=s1_unit_mean_  Band=['VV_gamma0_flatDB', 'VH_gamma0_flatDB']\n",
      "Threshould value is 0.5810546875\n",
      "Write csv and shp, Method=otsu  Img=s1_unit_mean_  Band=['VV_gamma0_flatDB']\n",
      "Method 2 otsu Band=['VV_gamma0_flatDB', 'VH_gamma0_flatDB'],continue\n",
      "Threshould value is 0.5772898798305015\n",
      "Write csv and shp, Method=isodata  Img=s1_unit_mean_  Band=['VV_gamma0_flatDB']\n",
      "Method 2 isodata Band=['VV_gamma0_flatDB', 'VH_gamma0_flatDB'],continue\n",
      "该函数运行了 160.04256 秒\n"
     ]
    },
    {
     "name": "stderr",
     "output_type": "stream",
     "text": [
      " 46%|####5     | 112/244 [5:09:52<5:45:57, 157.25s/it]"
     ]
    },
    {
     "name": "stdout",
     "output_type": "stream",
     "text": [
      "Begin Filter ...\n"
     ]
    },
    {
     "name": "stderr",
     "output_type": "stream",
     "text": [
      "\n",
      "100%|##########| 12/12 [00:00<00:00, 1697.64it/s]\n",
      "\n",
      "100%|##########| 12/12 [00:00<00:00, 590.92it/s]\n",
      "\n",
      "100%|##########| 12/12 [00:00<00:00, 1737.85it/s]\n",
      "\n",
      "100%|##########| 12/12 [00:00<00:00, 201.78it/s]\n"
     ]
    },
    {
     "name": "stdout",
     "output_type": "stream",
     "text": [
      "Method 1 Kmean Band=['VV_gamma0_flatDB'],continue\n",
      "Write csv and shp, Method=Kmean  Img=s1_unit_mean_  Band=['VV_gamma0_flatDB', 'VH_gamma0_flatDB']\n",
      "Method 1 SNIC_Kmean Band=['VV_gamma0_flatDB'],continue\n",
      "Write csv and shp, Method=SNIC_Kmean  Img=s1_unit_mean_  Band=['VV_gamma0_flatDB', 'VH_gamma0_flatDB']\n",
      "Write csv and shp, Method=SNIC_Kmean  Img=s1_unit_mean_  Band=['VV_gamma0_flatDB', 'VH_gamma0_flatDB']\n",
      "Method 1 Xmeans Band=['VV_gamma0_flatDB'],continue\n",
      "Write csv and shp, Method=Xmeans  Img=s1_unit_mean_  Band=['VV_gamma0_flatDB', 'VH_gamma0_flatDB']\n",
      "Method 1 CascadeKMeans Band=['VV_gamma0_flatDB'],continue\n",
      "Write csv and shp, Method=CascadeKMeans  Img=s1_unit_mean_  Band=['VV_gamma0_flatDB', 'VH_gamma0_flatDB']\n",
      "Threshould value is 0.6687298392629195\n",
      "Write csv and shp, Method=otsu  Img=s1_unit_mean_  Band=['VV_gamma0_flatDB']\n",
      "Method 2 otsu Band=['VV_gamma0_flatDB', 'VH_gamma0_flatDB'],continue\n",
      "Threshould value is 0.6479464543073066\n",
      "Write csv and shp, Method=isodata  Img=s1_unit_mean_  Band=['VV_gamma0_flatDB']\n",
      "Method 2 isodata Band=['VV_gamma0_flatDB', 'VH_gamma0_flatDB'],continue\n",
      "Generating URL ...\n",
      "Downloading data from https://earthengine.googleapis.com/v1/projects/earthengine-legacy/thumbnails/03bc66ccfd2bd4f26199ab79a41b64fe-8b756f01b51e3c306186b3e7a6b2591c:getPixels\n",
      "Please wait ...\n",
      "Data downloaded to /root/GEE/2019补齐结果/4812_Ascending_S1A_IW_GRDH_1SDV_20190714T115808_20190714T115833_028113_032CCD_1F8C.tif\n",
      "image save right\n",
      "change image bandNames\n",
      "Generating URL ...\n",
      "Downloading data from https://earthengine.googleapis.com/v1/projects/earthengine-legacy/thumbnails/cdb2dc4c11da696f40d7e1f53539509c-a6f717e26db77b889473509ee37aa2dc:getPixels\n",
      "Please wait ...\n",
      "Data downloaded to /root/GEE/2019补齐结果/4812_Descending_S1A_IW_GRDH_1SDV_20190721T235404_20190721T235429_028222_033027_8116.tif\n",
      "image save right\n",
      "change image bandNames\n",
      "Generating URL ...\n",
      "Downloading data from https://earthengine.googleapis.com/v1/projects/earthengine-legacy/thumbnails/41026caec88159ac49cf06febdc0b8f1-4bf6650983013a9b082324958c2a8892:getPixels\n",
      "Please wait ...\n",
      "Data downloaded to /root/GEE/2019补齐结果/4812_s2a_sr_median.tif\n",
      "image save right\n",
      "change image bandNames\n",
      "Generating URL ...\n",
      "Downloading data from https://earthengine.googleapis.com/v1/projects/earthengine-legacy/thumbnails/76a5d7c3563e31b1543c3b01a0ef1351-1cd8032ca2cb1571e053c05be6f096b0:getPixels\n",
      "Please wait ...\n",
      "Data downloaded to /root/GEE/2019补齐结果/4812_s1_unit_mean_.tif\n",
      "image save right\n",
      "change image bandNames\n",
      "Generating URL ...\n",
      "Downloading data from https://earthengine.googleapis.com/v1/projects/earthengine-legacy/thumbnails/78ea87c16a5ea9ae17b474a4a6f41988-0aad4e71cf99339f673d94fa16da0468:getPixels\n",
      "Please wait ...\n",
      "Data downloaded to /root/GEE/2019补齐结果/4812_s1_unit_max_.tif\n",
      "image save right\n",
      "change image bandNames\n",
      "Generating URL ...\n",
      "Downloading data from https://earthengine.googleapis.com/v1/projects/earthengine-legacy/thumbnails/e88614122c5be196e3902ce72e3721e5-180650127688a96451709b7119b257f1:getPixels\n",
      "Please wait ...\n",
      "Data downloaded to /root/GEE/2019补齐结果/4812_s1_unit_min_.tif\n",
      "image save right\n",
      "change image bandNames\n",
      "Generating URL ...\n",
      "Downloading data from https://earthengine.googleapis.com/v1/projects/earthengine-legacy/thumbnails/e59329cc53a39e072db90ec331a8be09-9e1b8b7e4bc2facb6617b7660b5a8735:getPixels\n",
      "Please wait ...\n",
      "Data downloaded to /root/GEE/2019补齐结果/4812_DistortionAS1A_IW_GRDH_1SDV_20190714T115808_20190714T115833_028113_032CCD_1F8C.tif\n",
      "image save right\n",
      "change image bandNames\n",
      "Generating URL ...\n",
      "Downloading data from https://earthengine.googleapis.com/v1/projects/earthengine-legacy/thumbnails/edfbc6aa65bc95875afff75319daa1fe-a07928c354c9cff4d51a3fb8a1e24334:getPixels\n",
      "Please wait ...\n",
      "Data downloaded to /root/GEE/2019补齐结果/4812_DistortionDS1A_IW_GRDH_1SDV_20190721T235404_20190721T235429_028222_033027_8116.tif\n",
      "image save right\n",
      "change image bandNames\n",
      "该函数运行了 222.73429 秒\n"
     ]
    },
    {
     "name": "stderr",
     "output_type": "stream",
     "text": [
      " 46%|####6     | 113/244 [5:13:34<6:26:13, 176.90s/it]"
     ]
    },
    {
     "name": "stdout",
     "output_type": "stream",
     "text": [
      "Begin Filter ...\n"
     ]
    },
    {
     "name": "stderr",
     "output_type": "stream",
     "text": [
      "\n",
      "100%|##########| 13/13 [00:00<00:00, 1867.52it/s]\n",
      "\n",
      "100%|##########| 13/13 [00:00<00:00, 548.81it/s]\n",
      "\n",
      "100%|##########| 13/13 [00:00<00:00, 1884.49it/s]\n",
      "2023-11-13 14:38:42 WARNING Sleeping 1.71 seconds before retry 1 of 5 for request: POST https://earthengine.googleapis.com/v1/projects/earthengine-legacy/value:compute?prettyPrint=false&alt=json, after 503\n",
      "\n",
      "100%|##########| 13/13 [00:00<00:00, 532.00it/s]\n"
     ]
    },
    {
     "name": "stdout",
     "output_type": "stream",
     "text": [
      "Method 1 Kmean Band=['VV_gamma0_flatDB'],continue\n",
      "Write csv and shp, Method=Kmean  Img=s1_unit_mean_  Band=['VV_gamma0_flatDB', 'VH_gamma0_flatDB']\n",
      "Method 1 SNIC_Kmean Band=['VV_gamma0_flatDB'],continue\n",
      "Write csv and shp, Method=SNIC_Kmean  Img=s1_unit_mean_  Band=['VV_gamma0_flatDB', 'VH_gamma0_flatDB']\n",
      "Write csv and shp, Method=SNIC_Kmean  Img=s1_unit_mean_  Band=['VV_gamma0_flatDB', 'VH_gamma0_flatDB']\n",
      "Method 1 Xmeans Band=['VV_gamma0_flatDB'],continue\n",
      "Write csv and shp, Method=Xmeans  Img=s1_unit_mean_  Band=['VV_gamma0_flatDB', 'VH_gamma0_flatDB']\n",
      "Method 1 CascadeKMeans Band=['VV_gamma0_flatDB'],continue\n",
      "Write csv and shp, Method=CascadeKMeans  Img=s1_unit_mean_  Band=['VV_gamma0_flatDB', 'VH_gamma0_flatDB']\n",
      "Threshould value is 0.5212795068637139\n",
      "Write csv and shp, Method=otsu  Img=s1_unit_mean_  Band=['VV_gamma0_flatDB']\n",
      "Method 2 otsu Band=['VV_gamma0_flatDB', 'VH_gamma0_flatDB'],continue\n",
      "Threshould value is 0.5224609375\n",
      "Write csv and shp, Method=isodata  Img=s1_unit_mean_  Band=['VV_gamma0_flatDB']\n",
      "Method 2 isodata Band=['VV_gamma0_flatDB', 'VH_gamma0_flatDB'],continue\n",
      "该函数运行了 153.86896 秒\n"
     ]
    },
    {
     "name": "stderr",
     "output_type": "stream",
     "text": [
      " 47%|####6     | 114/244 [5:16:08<6:08:18, 169.99s/it]"
     ]
    },
    {
     "name": "stdout",
     "output_type": "stream",
     "text": [
      "Begin Filter ...\n"
     ]
    },
    {
     "name": "stderr",
     "output_type": "stream",
     "text": [
      "\n",
      "100%|##########| 12/12 [00:00<00:00, 1516.61it/s]\n",
      "\n",
      "100%|##########| 12/12 [00:00<00:00, 607.88it/s]\n",
      "\n",
      "100%|##########| 11/11 [00:00<00:00, 1634.11it/s]\n",
      "\n",
      "100%|##########| 11/11 [00:00<00:00, 455.10it/s]\n"
     ]
    },
    {
     "name": "stdout",
     "output_type": "stream",
     "text": [
      "Method 1 Kmean Band=['VV_gamma0_flatDB'],continue\n",
      "Write csv and shp, Method=Kmean  Img=s1_unit_mean_  Band=['VV_gamma0_flatDB', 'VH_gamma0_flatDB']\n",
      "Method 1 SNIC_Kmean Band=['VV_gamma0_flatDB'],continue\n",
      "Write csv and shp, Method=SNIC_Kmean  Img=s1_unit_mean_  Band=['VV_gamma0_flatDB', 'VH_gamma0_flatDB']\n",
      "Write csv and shp, Method=SNIC_Kmean  Img=s1_unit_mean_  Band=['VV_gamma0_flatDB', 'VH_gamma0_flatDB']\n",
      "Method 1 Xmeans Band=['VV_gamma0_flatDB'],continue\n",
      "Write csv and shp, Method=Xmeans  Img=s1_unit_mean_  Band=['VV_gamma0_flatDB', 'VH_gamma0_flatDB']\n",
      "Method 1 CascadeKMeans Band=['VV_gamma0_flatDB'],continue\n",
      "Write csv and shp, Method=CascadeKMeans  Img=s1_unit_mean_  Band=['VV_gamma0_flatDB', 'VH_gamma0_flatDB']\n",
      "Threshould value is 0.48489055116779106\n",
      "Write csv and shp, Method=otsu  Img=s1_unit_mean_  Band=['VV_gamma0_flatDB']\n",
      "Method 2 otsu Band=['VV_gamma0_flatDB', 'VH_gamma0_flatDB'],continue\n",
      "Threshould value is 0.48814248110759906\n",
      "Write csv and shp, Method=isodata  Img=s1_unit_mean_  Band=['VV_gamma0_flatDB']\n",
      "Method 2 isodata Band=['VV_gamma0_flatDB', 'VH_gamma0_flatDB'],continue\n",
      "该函数运行了 155.17750 秒\n"
     ]
    },
    {
     "name": "stderr",
     "output_type": "stream",
     "text": [
      " 47%|####7     | 115/244 [5:18:44<5:55:55, 165.55s/it]"
     ]
    },
    {
     "name": "stdout",
     "output_type": "stream",
     "text": [
      "Begin Filter ...\n"
     ]
    },
    {
     "name": "stderr",
     "output_type": "stream",
     "text": [
      "\n",
      "100%|##########| 13/13 [00:00<00:00, 1693.51it/s]\n",
      "\n",
      "100%|##########| 13/13 [00:00<00:00, 667.26it/s]\n",
      "\n",
      "100%|##########| 13/13 [00:00<00:00, 1684.46it/s]\n",
      "\n",
      "100%|##########| 13/13 [00:00<00:00, 380.81it/s]\n"
     ]
    },
    {
     "name": "stdout",
     "output_type": "stream",
     "text": [
      "Method 1 Kmean Band=['VV_gamma0_flatDB'],continue\n",
      "Write csv and shp, Method=Kmean  Img=s1_unit_mean_  Band=['VV_gamma0_flatDB', 'VH_gamma0_flatDB']\n",
      "Method 1 SNIC_Kmean Band=['VV_gamma0_flatDB'],continue\n",
      "Write csv and shp, Method=SNIC_Kmean  Img=s1_unit_mean_  Band=['VV_gamma0_flatDB', 'VH_gamma0_flatDB']\n",
      "Write csv and shp, Method=SNIC_Kmean  Img=s1_unit_mean_  Band=['VV_gamma0_flatDB', 'VH_gamma0_flatDB']\n",
      "Method 1 Xmeans Band=['VV_gamma0_flatDB'],continue\n",
      "Write csv and shp, Method=Xmeans  Img=s1_unit_mean_  Band=['VV_gamma0_flatDB', 'VH_gamma0_flatDB']\n",
      "Method 1 CascadeKMeans Band=['VV_gamma0_flatDB'],continue\n",
      "Write csv and shp, Method=CascadeKMeans  Img=s1_unit_mean_  Band=['VV_gamma0_flatDB', 'VH_gamma0_flatDB']\n",
      "Threshould value is 0.514062586611505\n",
      "Write csv and shp, Method=otsu  Img=s1_unit_mean_  Band=['VV_gamma0_flatDB']\n",
      "Method 2 otsu Band=['VV_gamma0_flatDB', 'VH_gamma0_flatDB'],continue\n"
     ]
    },
    {
     "name": "stderr",
     "output_type": "stream",
     "text": [
      "/root/GEE/Extract_algorithm.py:229: RuntimeWarning: invalid value encountered in divide\n",
      "  higher = (csum_intensity[-1] - csum_intensity[:-1]) / (csumh[:-1]+sys.float_info.min)\n"
     ]
    },
    {
     "name": "stdout",
     "output_type": "stream",
     "text": [
      "Threshould value is 0.5167024296626186\n",
      "Write csv and shp, Method=isodata  Img=s1_unit_mean_  Band=['VV_gamma0_flatDB']\n",
      "Method 2 isodata Band=['VV_gamma0_flatDB', 'VH_gamma0_flatDB'],continue\n",
      "该函数运行了 149.93448 秒\n"
     ]
    },
    {
     "name": "stderr",
     "output_type": "stream",
     "text": [
      " 48%|####7     | 116/244 [5:21:13<5:43:10, 160.86s/it]"
     ]
    },
    {
     "name": "stdout",
     "output_type": "stream",
     "text": [
      "Begin Filter ...\n"
     ]
    },
    {
     "name": "stderr",
     "output_type": "stream",
     "text": [
      "\n",
      "100%|##########| 15/15 [00:00<00:00, 1897.13it/s]\n",
      "\n",
      "100%|##########| 15/15 [00:00<00:00, 609.91it/s]\n",
      "\n",
      "100%|##########| 16/16 [00:00<00:00, 1800.76it/s]\n",
      "\n",
      "100%|##########| 16/16 [00:00<00:00, 676.88it/s]\n"
     ]
    },
    {
     "name": "stdout",
     "output_type": "stream",
     "text": [
      "Method 1 Kmean Band=['VV_gamma0_flatDB'],continue\n",
      "Write csv and shp, Method=Kmean  Img=s1_unit_mean_  Band=['VV_gamma0_flatDB', 'VH_gamma0_flatDB']\n",
      "Method 1 SNIC_Kmean Band=['VV_gamma0_flatDB'],continue\n",
      "Write csv and shp, Method=SNIC_Kmean  Img=s1_unit_mean_  Band=['VV_gamma0_flatDB', 'VH_gamma0_flatDB']\n",
      "Write csv and shp, Method=SNIC_Kmean  Img=s1_unit_mean_  Band=['VV_gamma0_flatDB', 'VH_gamma0_flatDB']\n",
      "Method 1 Xmeans Band=['VV_gamma0_flatDB'],continue\n",
      "Write csv and shp, Method=Xmeans  Img=s1_unit_mean_  Band=['VV_gamma0_flatDB', 'VH_gamma0_flatDB']\n",
      "Method 1 CascadeKMeans Band=['VV_gamma0_flatDB'],continue\n",
      "Write csv and shp, Method=CascadeKMeans  Img=s1_unit_mean_  Band=['VV_gamma0_flatDB', 'VH_gamma0_flatDB']\n",
      "Threshould value is 0.5709819360377347\n",
      "Write csv and shp, Method=otsu  Img=s1_unit_mean_  Band=['VV_gamma0_flatDB']\n",
      "Method 2 otsu Band=['VV_gamma0_flatDB', 'VH_gamma0_flatDB'],continue\n",
      "Threshould value is 0.5656921098633134\n",
      "Write csv and shp, Method=isodata  Img=s1_unit_mean_  Band=['VV_gamma0_flatDB']\n",
      "Method 2 isodata Band=['VV_gamma0_flatDB', 'VH_gamma0_flatDB'],continue\n",
      "Generating URL ...\n",
      "Downloading data from https://earthengine.googleapis.com/v1/projects/earthengine-legacy/thumbnails/05f531656f5759c67a0ca9fbe2180c93-eea141cb539452323c10d75467302a1e:getPixels\n",
      "Please wait ...\n",
      "Data downloaded to /root/GEE/2019补齐结果/4816_Ascending_S1A_IW_GRDH_1SDV_20190721T115001_20190721T115026_028215_032FF3_B8E9.tif\n",
      "image save right\n",
      "change image bandNames\n",
      "Generating URL ...\n",
      "Downloading data from https://earthengine.googleapis.com/v1/projects/earthengine-legacy/thumbnails/1364c1175a0bd5fcffdd1d4a2de68a7e-a2aad5993e573314cda302acb84b36d4:getPixels\n",
      "Please wait ...\n",
      "Data downloaded to /root/GEE/2019补齐结果/4816_Descending_S1A_IW_GRDH_1SDV_20190721T235404_20190721T235429_028222_033027_8116.tif\n",
      "image save right\n",
      "change image bandNames\n",
      "Generating URL ...\n",
      "Downloading data from https://earthengine.googleapis.com/v1/projects/earthengine-legacy/thumbnails/a7e6650eed06298cf6f69ef00fa1639c-fa6fefc59d32ca078aedb1bbee794630:getPixels\n",
      "Please wait ...\n",
      "Data downloaded to /root/GEE/2019补齐结果/4816_s2a_sr_median.tif\n",
      "image save right\n",
      "change image bandNames\n",
      "Generating URL ...\n",
      "Downloading data from https://earthengine.googleapis.com/v1/projects/earthengine-legacy/thumbnails/3bcc189fa7c1ce651342f954995de68c-36c487135eec8e002f7d8e8d89c16a15:getPixels\n",
      "Please wait ...\n",
      "Data downloaded to /root/GEE/2019补齐结果/4816_s1_unit_mean_.tif\n",
      "image save right\n",
      "change image bandNames\n",
      "Generating URL ...\n",
      "Downloading data from https://earthengine.googleapis.com/v1/projects/earthengine-legacy/thumbnails/ac75d475038fc232285e50a32bc49b75-a7fc8f890fd4170a13b0dfa58de5bba0:getPixels\n",
      "Please wait ...\n",
      "Data downloaded to /root/GEE/2019补齐结果/4816_s1_unit_max_.tif\n",
      "image save right\n",
      "change image bandNames\n",
      "Generating URL ...\n",
      "Downloading data from https://earthengine.googleapis.com/v1/projects/earthengine-legacy/thumbnails/0f2066ec06c771af4db933328fce5636-d852c8ea036b285fd39d11457e5ec8d2:getPixels\n",
      "Please wait ...\n",
      "Data downloaded to /root/GEE/2019补齐结果/4816_s1_unit_min_.tif\n",
      "image save right\n",
      "change image bandNames\n",
      "Generating URL ...\n",
      "Downloading data from https://earthengine.googleapis.com/v1/projects/earthengine-legacy/thumbnails/376640cca62ddecbe1882b26ea3fbb77-2637666c11ca72b9dce29c981b2a4def:getPixels\n",
      "Please wait ...\n",
      "Data downloaded to /root/GEE/2019补齐结果/4816_DistortionAS1A_IW_GRDH_1SDV_20190721T115001_20190721T115026_028215_032FF3_B8E9.tif\n",
      "image save right\n",
      "change image bandNames\n",
      "Generating URL ...\n",
      "Downloading data from https://earthengine.googleapis.com/v1/projects/earthengine-legacy/thumbnails/0b9460670c403115df482246ee121a5f-16512afeced85d0b5cdbb8398eb4e072:getPixels\n",
      "Please wait ...\n",
      "Data downloaded to /root/GEE/2019补齐结果/4816_DistortionDS1A_IW_GRDH_1SDV_20190721T235404_20190721T235429_028222_033027_8116.tif\n",
      "image save right\n",
      "change image bandNames\n",
      "该函数运行了 214.79134 秒\n"
     ]
    },
    {
     "name": "stderr",
     "output_type": "stream",
     "text": [
      " 48%|####7     | 117/244 [5:24:48<6:14:44, 177.04s/it]"
     ]
    },
    {
     "name": "stdout",
     "output_type": "stream",
     "text": [
      "Begin Filter ...\n"
     ]
    },
    {
     "name": "stderr",
     "output_type": "stream",
     "text": [
      "\n",
      "100%|##########| 15/15 [00:00<00:00, 1626.33it/s]\n",
      "\n",
      "100%|##########| 15/15 [00:00<00:00, 515.48it/s]\n",
      "\n",
      "100%|##########| 15/15 [00:00<00:00, 1529.84it/s]\n",
      "\n",
      "100%|##########| 15/15 [00:00<00:00, 555.21it/s]\n"
     ]
    },
    {
     "name": "stdout",
     "output_type": "stream",
     "text": [
      "Method 1 Kmean Band=['VV_gamma0_flatDB'],continue\n",
      "Write csv and shp, Method=Kmean  Img=s1_unit_mean_  Band=['VV_gamma0_flatDB', 'VH_gamma0_flatDB']\n",
      "Method 1 SNIC_Kmean Band=['VV_gamma0_flatDB'],continue\n",
      "Write csv and shp, Method=SNIC_Kmean  Img=s1_unit_mean_  Band=['VV_gamma0_flatDB', 'VH_gamma0_flatDB']\n",
      "Write csv and shp, Method=SNIC_Kmean  Img=s1_unit_mean_  Band=['VV_gamma0_flatDB', 'VH_gamma0_flatDB']\n",
      "Method 1 Xmeans Band=['VV_gamma0_flatDB'],continue\n",
      "Write csv and shp, Method=Xmeans  Img=s1_unit_mean_  Band=['VV_gamma0_flatDB', 'VH_gamma0_flatDB']\n",
      "Method 1 CascadeKMeans Band=['VV_gamma0_flatDB'],continue\n",
      "Write csv and shp, Method=CascadeKMeans  Img=s1_unit_mean_  Band=['VV_gamma0_flatDB', 'VH_gamma0_flatDB']\n",
      "Threshould value is 0.5008677957705833\n",
      "Write csv and shp, Method=otsu  Img=s1_unit_mean_  Band=['VV_gamma0_flatDB']\n",
      "Method 2 otsu Band=['VV_gamma0_flatDB', 'VH_gamma0_flatDB'],continue\n",
      "Threshould value is 0.5047679019287968\n",
      "Write csv and shp, Method=isodata  Img=s1_unit_mean_  Band=['VV_gamma0_flatDB']\n",
      "Method 2 isodata Band=['VV_gamma0_flatDB', 'VH_gamma0_flatDB'],continue\n",
      "该函数运行了 129.85912 秒\n"
     ]
    },
    {
     "name": "stderr",
     "output_type": "stream",
     "text": [
      " 48%|####8     | 118/244 [5:26:58<5:42:04, 162.89s/it]"
     ]
    },
    {
     "name": "stdout",
     "output_type": "stream",
     "text": [
      "Begin Filter ...\n"
     ]
    },
    {
     "name": "stderr",
     "output_type": "stream",
     "text": [
      "\n",
      "100%|##########| 14/14 [00:00<00:00, 1815.04it/s]\n",
      "\n",
      "100%|##########| 14/14 [00:00<00:00, 408.23it/s]\n",
      "\n",
      "100%|##########| 14/14 [00:00<00:00, 1771.08it/s]\n",
      "\n",
      "100%|##########| 14/14 [00:00<00:00, 383.72it/s]\n"
     ]
    },
    {
     "name": "stdout",
     "output_type": "stream",
     "text": [
      "Method 1 Kmean Band=['VV_gamma0_flatDB'],continue\n",
      "Write csv and shp, Method=Kmean  Img=s1_unit_mean_  Band=['VV_gamma0_flatDB', 'VH_gamma0_flatDB']\n",
      "Method 1 SNIC_Kmean Band=['VV_gamma0_flatDB'],continue\n",
      "Write csv and shp, Method=SNIC_Kmean  Img=s1_unit_mean_  Band=['VV_gamma0_flatDB', 'VH_gamma0_flatDB']\n",
      "Write csv and shp, Method=SNIC_Kmean  Img=s1_unit_mean_  Band=['VV_gamma0_flatDB', 'VH_gamma0_flatDB']\n",
      "Method 1 Xmeans Band=['VV_gamma0_flatDB'],continue\n",
      "Write csv and shp, Method=Xmeans  Img=s1_unit_mean_  Band=['VV_gamma0_flatDB', 'VH_gamma0_flatDB']\n",
      "Method 1 CascadeKMeans Band=['VV_gamma0_flatDB'],continue\n",
      "Write csv and shp, Method=CascadeKMeans  Img=s1_unit_mean_  Band=['VV_gamma0_flatDB', 'VH_gamma0_flatDB']\n",
      "Threshould value is 0.4786150012271929\n",
      "Write csv and shp, Method=otsu  Img=s1_unit_mean_  Band=['VV_gamma0_flatDB']\n",
      "Method 2 otsu Band=['VV_gamma0_flatDB', 'VH_gamma0_flatDB'],continue\n",
      "Threshould value is 0.4876897498994025\n",
      "Write csv and shp, Method=isodata  Img=s1_unit_mean_  Band=['VV_gamma0_flatDB']\n",
      "Method 2 isodata Band=['VV_gamma0_flatDB', 'VH_gamma0_flatDB'],continue\n",
      "该函数运行了 136.47433 秒\n"
     ]
    },
    {
     "name": "stderr",
     "output_type": "stream",
     "text": [
      " 49%|####8     | 119/244 [5:29:15<5:22:50, 154.97s/it]"
     ]
    },
    {
     "name": "stdout",
     "output_type": "stream",
     "text": [
      "Begin Filter ...\n"
     ]
    },
    {
     "name": "stderr",
     "output_type": "stream",
     "text": [
      "\n",
      "100%|##########| 16/16 [00:00<00:00, 1731.71it/s]\n",
      "\n",
      "100%|##########| 16/16 [00:00<00:00, 359.62it/s]\n",
      "\n",
      "100%|##########| 16/16 [00:00<00:00, 1804.92it/s]\n",
      "\n",
      "100%|##########| 16/16 [00:00<00:00, 384.66it/s]\n"
     ]
    },
    {
     "name": "stdout",
     "output_type": "stream",
     "text": [
      "Method 1 Kmean Band=['VV_gamma0_flatDB'],continue\n",
      "Write csv and shp, Method=Kmean  Img=s1_unit_mean_  Band=['VV_gamma0_flatDB', 'VH_gamma0_flatDB']\n",
      "Method 1 SNIC_Kmean Band=['VV_gamma0_flatDB'],continue\n",
      "Write csv and shp, Method=SNIC_Kmean  Img=s1_unit_mean_  Band=['VV_gamma0_flatDB', 'VH_gamma0_flatDB']\n",
      "Write csv and shp, Method=SNIC_Kmean  Img=s1_unit_mean_  Band=['VV_gamma0_flatDB', 'VH_gamma0_flatDB']\n",
      "Method 1 Xmeans Band=['VV_gamma0_flatDB'],continue\n",
      "Write csv and shp, Method=Xmeans  Img=s1_unit_mean_  Band=['VV_gamma0_flatDB', 'VH_gamma0_flatDB']\n",
      "Method 1 CascadeKMeans Band=['VV_gamma0_flatDB'],continue\n",
      "Write csv and shp, Method=CascadeKMeans  Img=s1_unit_mean_  Band=['VV_gamma0_flatDB', 'VH_gamma0_flatDB']\n",
      "Threshould value is 0.5612693362326641\n",
      "Write csv and shp, Method=otsu  Img=s1_unit_mean_  Band=['VV_gamma0_flatDB']\n",
      "Method 2 otsu Band=['VV_gamma0_flatDB', 'VH_gamma0_flatDB'],continue\n",
      "Threshould value is 0.3471951131747001\n",
      "Write csv and shp, Method=isodata  Img=s1_unit_mean_  Band=['VV_gamma0_flatDB']\n",
      "Method 2 isodata Band=['VV_gamma0_flatDB', 'VH_gamma0_flatDB'],continue\n",
      "该函数运行了 129.03464 秒\n"
     ]
    },
    {
     "name": "stderr",
     "output_type": "stream",
     "text": [
      " 49%|####9     | 120/244 [5:31:24<5:04:11, 147.19s/it]"
     ]
    },
    {
     "name": "stdout",
     "output_type": "stream",
     "text": [
      "Begin Filter ...\n"
     ]
    },
    {
     "name": "stderr",
     "output_type": "stream",
     "text": [
      "\n",
      "100%|##########| 11/11 [00:00<00:00, 1616.93it/s]\n",
      "\n",
      "100%|##########| 11/11 [00:00<00:00, 565.78it/s]\n",
      "\n",
      "100%|##########| 11/11 [00:00<00:00, 1531.89it/s]\n",
      "\n",
      "100%|##########| 11/11 [00:00<00:00, 533.78it/s]\n"
     ]
    },
    {
     "name": "stdout",
     "output_type": "stream",
     "text": [
      "Method 1 Kmean Band=['VV_gamma0_flatDB'],continue\n",
      "Write csv and shp, Method=Kmean  Img=s1_unit_mean_  Band=['VV_gamma0_flatDB', 'VH_gamma0_flatDB']\n",
      "Method 1 SNIC_Kmean Band=['VV_gamma0_flatDB'],continue\n",
      "Write csv and shp, Method=SNIC_Kmean  Img=s1_unit_mean_  Band=['VV_gamma0_flatDB', 'VH_gamma0_flatDB']\n",
      "Write csv and shp, Method=SNIC_Kmean  Img=s1_unit_mean_  Band=['VV_gamma0_flatDB', 'VH_gamma0_flatDB']\n",
      "Method 1 Xmeans Band=['VV_gamma0_flatDB'],continue\n",
      "Write csv and shp, Method=Xmeans  Img=s1_unit_mean_  Band=['VV_gamma0_flatDB', 'VH_gamma0_flatDB']\n",
      "Method 1 CascadeKMeans Band=['VV_gamma0_flatDB'],continue\n",
      "Write csv and shp, Method=CascadeKMeans  Img=s1_unit_mean_  Band=['VV_gamma0_flatDB', 'VH_gamma0_flatDB']\n",
      "Threshould value is 0.5322901213749694\n",
      "Write csv and shp, Method=otsu  Img=s1_unit_mean_  Band=['VV_gamma0_flatDB']\n",
      "Method 2 otsu Band=['VV_gamma0_flatDB', 'VH_gamma0_flatDB'],continue\n"
     ]
    },
    {
     "name": "stderr",
     "output_type": "stream",
     "text": [
      "/root/GEE/Extract_algorithm.py:229: RuntimeWarning: invalid value encountered in divide\n",
      "  higher = (csum_intensity[-1] - csum_intensity[:-1]) / (csumh[:-1]+sys.float_info.min)\n"
     ]
    },
    {
     "name": "stdout",
     "output_type": "stream",
     "text": [
      "Threshould value is 0.5400390625\n",
      "Write csv and shp, Method=isodata  Img=s1_unit_mean_  Band=['VV_gamma0_flatDB']\n",
      "Method 2 isodata Band=['VV_gamma0_flatDB', 'VH_gamma0_flatDB'],continue\n",
      "该函数运行了 132.24590 秒\n"
     ]
    },
    {
     "name": "stderr",
     "output_type": "stream",
     "text": [
      " 50%|####9     | 121/244 [5:33:36<4:52:32, 142.71s/it]"
     ]
    },
    {
     "name": "stdout",
     "output_type": "stream",
     "text": [
      "Begin Filter ...\n"
     ]
    },
    {
     "name": "stderr",
     "output_type": "stream",
     "text": [
      "\n",
      "100%|##########| 13/13 [00:00<00:00, 1769.69it/s]\n",
      "\n",
      "100%|##########| 13/13 [00:00<00:00, 626.46it/s]\n",
      "\n",
      "100%|##########| 13/13 [00:00<00:00, 1691.41it/s]\n",
      "\n",
      "100%|##########| 13/13 [00:00<00:00, 454.95it/s]\n"
     ]
    },
    {
     "name": "stdout",
     "output_type": "stream",
     "text": [
      "Method 1 Kmean Band=['VV_gamma0_flatDB'],continue\n",
      "Write csv and shp, Method=Kmean  Img=s1_unit_mean_  Band=['VV_gamma0_flatDB', 'VH_gamma0_flatDB']\n",
      "Method 1 SNIC_Kmean Band=['VV_gamma0_flatDB'],continue\n",
      "Write csv and shp, Method=SNIC_Kmean  Img=s1_unit_mean_  Band=['VV_gamma0_flatDB', 'VH_gamma0_flatDB']\n",
      "Write csv and shp, Method=SNIC_Kmean  Img=s1_unit_mean_  Band=['VV_gamma0_flatDB', 'VH_gamma0_flatDB']\n",
      "Method 1 Xmeans Band=['VV_gamma0_flatDB'],continue\n",
      "Write csv and shp, Method=Xmeans  Img=s1_unit_mean_  Band=['VV_gamma0_flatDB', 'VH_gamma0_flatDB']\n",
      "Method 1 CascadeKMeans Band=['VV_gamma0_flatDB'],continue\n",
      "Write csv and shp, Method=CascadeKMeans  Img=s1_unit_mean_  Band=['VV_gamma0_flatDB', 'VH_gamma0_flatDB']\n",
      "Threshould value is 0.5322255376336863\n",
      "Write csv and shp, Method=otsu  Img=s1_unit_mean_  Band=['VV_gamma0_flatDB']\n",
      "Method 2 otsu Band=['VV_gamma0_flatDB', 'VH_gamma0_flatDB'],continue\n",
      "Threshould value is 0.5380859375\n",
      "Write csv and shp, Method=isodata  Img=s1_unit_mean_  Band=['VV_gamma0_flatDB']\n",
      "Method 2 isodata Band=['VV_gamma0_flatDB', 'VH_gamma0_flatDB'],continue\n",
      "该函数运行了 132.67232 秒\n"
     ]
    },
    {
     "name": "stderr",
     "output_type": "stream",
     "text": [
      " 50%|#####     | 122/244 [5:35:49<4:44:03, 139.70s/it]"
     ]
    },
    {
     "name": "stdout",
     "output_type": "stream",
     "text": [
      "Begin Filter ...\n"
     ]
    },
    {
     "name": "stderr",
     "output_type": "stream",
     "text": [
      "\n",
      "100%|##########| 13/13 [00:00<00:00, 1681.29it/s]\n",
      "\n",
      "100%|##########| 13/13 [00:00<00:00, 416.69it/s]\n",
      "\n",
      "100%|##########| 13/13 [00:00<00:00, 1892.67it/s]\n",
      "\n",
      "100%|##########| 13/13 [00:00<00:00, 505.25it/s]\n"
     ]
    },
    {
     "name": "stdout",
     "output_type": "stream",
     "text": [
      "Method 1 Kmean Band=['VV_gamma0_flatDB'],continue\n",
      "Write csv and shp, Method=Kmean  Img=s1_unit_mean_  Band=['VV_gamma0_flatDB', 'VH_gamma0_flatDB']\n",
      "Method 1 SNIC_Kmean Band=['VV_gamma0_flatDB'],continue\n",
      "Write csv and shp, Method=SNIC_Kmean  Img=s1_unit_mean_  Band=['VV_gamma0_flatDB', 'VH_gamma0_flatDB']\n",
      "Write csv and shp, Method=SNIC_Kmean  Img=s1_unit_mean_  Band=['VV_gamma0_flatDB', 'VH_gamma0_flatDB']\n",
      "Method 1 Xmeans Band=['VV_gamma0_flatDB'],continue\n",
      "Write csv and shp, Method=Xmeans  Img=s1_unit_mean_  Band=['VV_gamma0_flatDB', 'VH_gamma0_flatDB']\n",
      "Method 1 CascadeKMeans Band=['VV_gamma0_flatDB'],continue\n",
      "Write csv and shp, Method=CascadeKMeans  Img=s1_unit_mean_  Band=['VV_gamma0_flatDB', 'VH_gamma0_flatDB']\n",
      "Threshould value is 0.5986328125\n",
      "Write csv and shp, Method=otsu  Img=s1_unit_mean_  Band=['VV_gamma0_flatDB']\n",
      "Method 2 otsu Band=['VV_gamma0_flatDB', 'VH_gamma0_flatDB'],continue\n",
      "Threshould value is 0.5856587156375691\n",
      "Write csv and shp, Method=isodata  Img=s1_unit_mean_  Band=['VV_gamma0_flatDB']\n",
      "Method 2 isodata Band=['VV_gamma0_flatDB', 'VH_gamma0_flatDB'],continue\n",
      "Generating URL ...\n",
      "Downloading data from https://earthengine.googleapis.com/v1/projects/earthengine-legacy/thumbnails/b03692fbcd2684417d6bf6c12ee8641c-f8b2107f386a68e9bf097bfad798462e:getPixels\n",
      "Please wait ...\n",
      "Data downloaded to /root/GEE/2019补齐结果/4822_Ascending_S1A_IW_GRDH_1SDV_20190721T115001_20190721T115026_028215_032FF3_B8E9.tif\n",
      "image save right\n",
      "change image bandNames\n",
      "Generating URL ...\n",
      "Downloading data from https://earthengine.googleapis.com/v1/projects/earthengine-legacy/thumbnails/1004cb3a098bd0289b0bb55a148d7c63-f11940c41aad99ad9cff985aada12488:getPixels\n",
      "Please wait ...\n",
      "Data downloaded to /root/GEE/2019补齐结果/4822_Descending_S1A_IW_GRDH_1SDV_20190809T234548_20190809T234613_028499_0338B5_5AC1.tif\n",
      "image save right\n",
      "change image bandNames\n",
      "Generating URL ...\n",
      "Downloading data from https://earthengine.googleapis.com/v1/projects/earthengine-legacy/thumbnails/1272ab61d16bfc2595aa2fd80c089447-022a7cd6817ffe170db00aa2ef49c64f:getPixels\n",
      "Please wait ...\n",
      "Data downloaded to /root/GEE/2019补齐结果/4822_s2a_sr_median.tif\n",
      "image save right\n",
      "change image bandNames\n",
      "Generating URL ...\n",
      "Downloading data from https://earthengine.googleapis.com/v1/projects/earthengine-legacy/thumbnails/31e356e5a4992ed22665ed13a55ad864-37027d339e174180a3b1939acce198b1:getPixels\n",
      "Please wait ...\n",
      "Data downloaded to /root/GEE/2019补齐结果/4822_s1_unit_mean_.tif\n",
      "image save right\n",
      "change image bandNames\n",
      "Generating URL ...\n",
      "Downloading data from https://earthengine.googleapis.com/v1/projects/earthengine-legacy/thumbnails/fe56bba9769654c418764b1a7314e66b-0be799704204fb4d1243c1d9d51509a4:getPixels\n",
      "Please wait ...\n",
      "Data downloaded to /root/GEE/2019补齐结果/4822_s1_unit_max_.tif\n",
      "image save right\n",
      "change image bandNames\n",
      "Generating URL ...\n",
      "Downloading data from https://earthengine.googleapis.com/v1/projects/earthengine-legacy/thumbnails/c57499bf6d2e716f39f9b91de0f0ecaf-fe022d1c2ad2ba5d017237e3142462b3:getPixels\n",
      "Please wait ...\n",
      "Data downloaded to /root/GEE/2019补齐结果/4822_s1_unit_min_.tif\n",
      "image save right\n",
      "change image bandNames\n",
      "Generating URL ...\n",
      "Downloading data from https://earthengine.googleapis.com/v1/projects/earthengine-legacy/thumbnails/6433c07513a67f9c78f56ee1bdd95e78-d0bf96dbf5338d85501a141db8672a10:getPixels\n",
      "Please wait ...\n",
      "Data downloaded to /root/GEE/2019补齐结果/4822_DistortionAS1A_IW_GRDH_1SDV_20190721T115001_20190721T115026_028215_032FF3_B8E9.tif\n",
      "image save right\n",
      "change image bandNames\n",
      "Generating URL ...\n",
      "Downloading data from https://earthengine.googleapis.com/v1/projects/earthengine-legacy/thumbnails/aab8f92d9b086721429777796a4bf3b9-a88a9dfc3120829c66ef79cd675acfd1:getPixels\n",
      "Please wait ...\n",
      "Data downloaded to /root/GEE/2019补齐结果/4822_DistortionDS1A_IW_GRDH_1SDV_20190809T234548_20190809T234613_028499_0338B5_5AC1.tif\n",
      "image save right\n",
      "change image bandNames\n",
      "该函数运行了 196.86815 秒\n"
     ]
    },
    {
     "name": "stderr",
     "output_type": "stream",
     "text": [
      " 50%|#####     | 123/244 [5:39:05<5:16:18, 156.85s/it]"
     ]
    },
    {
     "name": "stdout",
     "output_type": "stream",
     "text": [
      "Begin Filter ...\n"
     ]
    },
    {
     "name": "stderr",
     "output_type": "stream",
     "text": [
      "\n",
      "100%|##########| 12/12 [00:00<00:00, 1745.14it/s]\n",
      "\n",
      "100%|##########| 12/12 [00:00<00:00, 613.42it/s]\n",
      "\n",
      "100%|##########| 11/11 [00:00<00:00, 1685.32it/s]\n",
      "\n",
      "100%|##########| 11/11 [00:00<00:00, 575.72it/s]\n"
     ]
    },
    {
     "name": "stdout",
     "output_type": "stream",
     "text": [
      "Method 1 Kmean Band=['VV_gamma0_flatDB'],continue\n",
      "Write csv and shp, Method=Kmean  Img=s1_unit_mean_  Band=['VV_gamma0_flatDB', 'VH_gamma0_flatDB']\n",
      "Method 1 SNIC_Kmean Band=['VV_gamma0_flatDB'],continue\n",
      "Write csv and shp, Method=SNIC_Kmean  Img=s1_unit_mean_  Band=['VV_gamma0_flatDB', 'VH_gamma0_flatDB']\n",
      "Write csv and shp, Method=SNIC_Kmean  Img=s1_unit_mean_  Band=['VV_gamma0_flatDB', 'VH_gamma0_flatDB']\n",
      "Method 1 Xmeans Band=['VV_gamma0_flatDB'],continue\n",
      "Write csv and shp, Method=Xmeans  Img=s1_unit_mean_  Band=['VV_gamma0_flatDB', 'VH_gamma0_flatDB']\n",
      "Method 1 CascadeKMeans Band=['VV_gamma0_flatDB'],continue\n",
      "Write csv and shp, Method=CascadeKMeans  Img=s1_unit_mean_  Band=['VV_gamma0_flatDB', 'VH_gamma0_flatDB']\n",
      "Threshould value is 0.56420130200078\n",
      "Write csv and shp, Method=otsu  Img=s1_unit_mean_  Band=['VV_gamma0_flatDB']\n",
      "Method 2 otsu Band=['VV_gamma0_flatDB', 'VH_gamma0_flatDB'],continue\n"
     ]
    },
    {
     "name": "stderr",
     "output_type": "stream",
     "text": [
      "/root/GEE/Extract_algorithm.py:229: RuntimeWarning: invalid value encountered in divide\n",
      "  higher = (csum_intensity[-1] - csum_intensity[:-1]) / (csumh[:-1]+sys.float_info.min)\n"
     ]
    },
    {
     "name": "stdout",
     "output_type": "stream",
     "text": [
      "Threshould value is 0.56420130200078\n",
      "Write csv and shp, Method=isodata  Img=s1_unit_mean_  Band=['VV_gamma0_flatDB']\n",
      "Method 2 isodata Band=['VV_gamma0_flatDB', 'VH_gamma0_flatDB'],continue\n",
      "Generating URL ...\n",
      "Downloading data from https://earthengine.googleapis.com/v1/projects/earthengine-legacy/thumbnails/0804ac5aeb155aca5e6a80cfbabf4914-b4ed88cca18361625bde7e20bcb44a65:getPixels\n",
      "Please wait ...\n",
      "Data downloaded to /root/GEE/2019补齐结果/4823_Ascending_S1A_IW_GRDH_1SDV_20190721T115001_20190721T115026_028215_032FF3_B8E9.tif\n",
      "image save right\n",
      "change image bandNames\n",
      "Generating URL ...\n",
      "Downloading data from https://earthengine.googleapis.com/v1/projects/earthengine-legacy/thumbnails/50c90a2d1cfd61cc00150e6a87855288-4c9253a409bb74f6b00e1453f049af1f:getPixels\n",
      "Please wait ...\n",
      "Data downloaded to /root/GEE/2019补齐结果/4823_Descending_S1A_IW_GRDH_1SDV_20190716T234546_20190716T234605_028149_032DF1_6699.tif\n",
      "image save right\n",
      "change image bandNames\n",
      "Generating URL ...\n",
      "Downloading data from https://earthengine.googleapis.com/v1/projects/earthengine-legacy/thumbnails/3e46187db018d38e15adcb9447b1c0a4-73ccb379804dab9de5df60f7479162d0:getPixels\n",
      "Please wait ...\n",
      "Data downloaded to /root/GEE/2019补齐结果/4823_s2a_sr_median.tif\n",
      "image save right\n",
      "change image bandNames\n",
      "Generating URL ...\n",
      "Downloading data from https://earthengine.googleapis.com/v1/projects/earthengine-legacy/thumbnails/147cdb45c4e9dc55a76c7bec2847faa5-daabd709fdd086d43ec976700dc01b7f:getPixels\n",
      "Please wait ...\n",
      "Data downloaded to /root/GEE/2019补齐结果/4823_s1_unit_mean_.tif\n",
      "image save right\n",
      "change image bandNames\n",
      "Generating URL ...\n",
      "Downloading data from https://earthengine.googleapis.com/v1/projects/earthengine-legacy/thumbnails/f6f357b84802ec0c155a0d7b83337fe9-c398086a79fc8f64544b95679c38a3d5:getPixels\n",
      "Please wait ...\n",
      "Data downloaded to /root/GEE/2019补齐结果/4823_s1_unit_max_.tif\n",
      "image save right\n",
      "change image bandNames\n",
      "Generating URL ...\n",
      "Downloading data from https://earthengine.googleapis.com/v1/projects/earthengine-legacy/thumbnails/96af5f13829489cf88508b5c0a8e717b-9df500638d22dbf9bf4de55e7204f69d:getPixels\n",
      "Please wait ...\n",
      "Data downloaded to /root/GEE/2019补齐结果/4823_s1_unit_min_.tif\n",
      "image save right\n",
      "change image bandNames\n",
      "Generating URL ...\n",
      "Downloading data from https://earthengine.googleapis.com/v1/projects/earthengine-legacy/thumbnails/18a8c3189bfc5bbfc6651af833583988-5e1fbfcbae1be4d09c6704ba4d64d22d:getPixels\n",
      "Please wait ...\n",
      "Data downloaded to /root/GEE/2019补齐结果/4823_DistortionAS1A_IW_GRDH_1SDV_20190721T115001_20190721T115026_028215_032FF3_B8E9.tif\n",
      "image save right\n",
      "change image bandNames\n",
      "Generating URL ...\n",
      "Downloading data from https://earthengine.googleapis.com/v1/projects/earthengine-legacy/thumbnails/f55f2651c547744eb95aa9742578d055-222242978edb80716e536c8faf4b73e3:getPixels\n",
      "Please wait ...\n",
      "Data downloaded to /root/GEE/2019补齐结果/4823_DistortionDS1A_IW_GRDH_1SDV_20190716T234546_20190716T234605_028149_032DF1_6699.tif\n",
      "image save right\n",
      "change image bandNames\n",
      "该函数运行了 203.44632 秒\n"
     ]
    },
    {
     "name": "stderr",
     "output_type": "stream",
     "text": [
      " 51%|#####     | 124/244 [5:42:29<5:41:39, 170.83s/it]"
     ]
    },
    {
     "name": "stdout",
     "output_type": "stream",
     "text": [
      "Begin Filter ...\n"
     ]
    },
    {
     "name": "stderr",
     "output_type": "stream",
     "text": [
      "\n",
      "100%|##########| 16/16 [00:00<00:00, 1719.20it/s]\n",
      "\n",
      "100%|##########| 16/16 [00:00<00:00, 1024.58it/s]\n",
      "\n",
      "100%|##########| 16/16 [00:00<00:00, 1861.03it/s]\n",
      "\n",
      "100%|##########| 16/16 [00:00<00:00, 842.72it/s]\n"
     ]
    },
    {
     "name": "stdout",
     "output_type": "stream",
     "text": [
      "Method 1 Kmean Band=['VV_gamma0_flatDB'],continue\n",
      "Write csv and shp, Method=Kmean  Img=s1_unit_mean_  Band=['VV_gamma0_flatDB', 'VH_gamma0_flatDB']\n",
      "Method 1 SNIC_Kmean Band=['VV_gamma0_flatDB'],continue\n",
      "Write csv and shp, Method=SNIC_Kmean  Img=s1_unit_mean_  Band=['VV_gamma0_flatDB', 'VH_gamma0_flatDB']\n",
      "Write csv and shp, Method=SNIC_Kmean  Img=s1_unit_mean_  Band=['VV_gamma0_flatDB', 'VH_gamma0_flatDB']\n",
      "Method 1 Xmeans Band=['VV_gamma0_flatDB'],continue\n",
      "Write csv and shp, Method=Xmeans  Img=s1_unit_mean_  Band=['VV_gamma0_flatDB', 'VH_gamma0_flatDB']\n",
      "Method 1 CascadeKMeans Band=['VV_gamma0_flatDB'],continue\n",
      "Write csv and shp, Method=CascadeKMeans  Img=s1_unit_mean_  Band=['VV_gamma0_flatDB', 'VH_gamma0_flatDB']\n",
      "Threshould value is 0.5037081575541148\n",
      "Write csv and shp, Method=otsu  Img=s1_unit_mean_  Band=['VV_gamma0_flatDB']\n",
      "Method 2 otsu Band=['VV_gamma0_flatDB', 'VH_gamma0_flatDB'],continue\n"
     ]
    },
    {
     "name": "stderr",
     "output_type": "stream",
     "text": [
      "/root/GEE/Extract_algorithm.py:229: RuntimeWarning: invalid value encountered in divide\n",
      "  higher = (csum_intensity[-1] - csum_intensity[:-1]) / (csumh[:-1]+sys.float_info.min)\n"
     ]
    },
    {
     "name": "stdout",
     "output_type": "stream",
     "text": [
      "Threshould value is 0.5075855478459483\n",
      "Write csv and shp, Method=isodata  Img=s1_unit_mean_  Band=['VV_gamma0_flatDB']\n",
      "Method 2 isodata Band=['VV_gamma0_flatDB', 'VH_gamma0_flatDB'],continue\n",
      "该函数运行了 130.79661 秒\n"
     ]
    },
    {
     "name": "stderr",
     "output_type": "stream",
     "text": [
      " 51%|#####1    | 125/244 [5:44:40<5:14:59, 158.82s/it]"
     ]
    },
    {
     "name": "stdout",
     "output_type": "stream",
     "text": [
      "Begin Filter ...\n"
     ]
    },
    {
     "name": "stderr",
     "output_type": "stream",
     "text": [
      "\n",
      "100%|##########| 11/11 [00:00<00:00, 1765.82it/s]\n",
      "\n",
      "100%|##########| 11/11 [00:00<00:00, 636.95it/s]\n",
      "\n",
      "100%|##########| 11/11 [00:00<00:00, 1741.43it/s]\n",
      "\n",
      "100%|##########| 11/11 [00:00<00:00, 555.16it/s]\n"
     ]
    },
    {
     "name": "stdout",
     "output_type": "stream",
     "text": [
      "Method 1 Kmean Band=['VV_gamma0_flatDB'],continue\n",
      "Write csv and shp, Method=Kmean  Img=s1_unit_mean_  Band=['VV_gamma0_flatDB', 'VH_gamma0_flatDB']\n",
      "Method 1 SNIC_Kmean Band=['VV_gamma0_flatDB'],continue\n",
      "Write csv and shp, Method=SNIC_Kmean  Img=s1_unit_mean_  Band=['VV_gamma0_flatDB', 'VH_gamma0_flatDB']\n",
      "Write csv and shp, Method=SNIC_Kmean  Img=s1_unit_mean_  Band=['VV_gamma0_flatDB', 'VH_gamma0_flatDB']\n",
      "Method 1 Xmeans Band=['VV_gamma0_flatDB'],continue\n",
      "Write csv and shp, Method=Xmeans  Img=s1_unit_mean_  Band=['VV_gamma0_flatDB', 'VH_gamma0_flatDB']\n",
      "Method 1 CascadeKMeans Band=['VV_gamma0_flatDB'],continue\n",
      "Write csv and shp, Method=CascadeKMeans  Img=s1_unit_mean_  Band=['VV_gamma0_flatDB', 'VH_gamma0_flatDB']\n",
      "Threshould value is 0.5789690179861438\n",
      "Write csv and shp, Method=otsu  Img=s1_unit_mean_  Band=['VV_gamma0_flatDB']\n",
      "Method 2 otsu Band=['VV_gamma0_flatDB', 'VH_gamma0_flatDB'],continue\n"
     ]
    },
    {
     "name": "stderr",
     "output_type": "stream",
     "text": [
      "/root/GEE/Extract_algorithm.py:229: RuntimeWarning: invalid value encountered in divide\n",
      "  higher = (csum_intensity[-1] - csum_intensity[:-1]) / (csumh[:-1]+sys.float_info.min)\n"
     ]
    },
    {
     "name": "stdout",
     "output_type": "stream",
     "text": [
      "Threshould value is 0.5755192768874146\n",
      "Write csv and shp, Method=isodata  Img=s1_unit_mean_  Band=['VV_gamma0_flatDB']\n",
      "Method 2 isodata Band=['VV_gamma0_flatDB', 'VH_gamma0_flatDB'],continue\n",
      "Generating URL ...\n",
      "Downloading data from https://earthengine.googleapis.com/v1/projects/earthengine-legacy/thumbnails/043cee901986d607113fc3c23e0455d8-a5dab7898f3618befdad045401a8f41e:getPixels\n",
      "Please wait ...\n",
      "Data downloaded to /root/GEE/2019补齐结果/4825_Ascending_S1A_IW_GRDH_1SDV_20190721T114936_20190721T115001_028215_032FF3_E394.tif\n",
      "image save right\n",
      "change image bandNames\n",
      "Generating URL ...\n",
      "Downloading data from https://earthengine.googleapis.com/v1/projects/earthengine-legacy/thumbnails/9250731210d25025a8dfd103055095bf-b7928fbaf4f06c0b468b77cf77463df5:getPixels\n",
      "Please wait ...\n",
      "Data downloaded to /root/GEE/2019补齐结果/4825_Descending_S1A_IW_GRDH_1SDV_20190809T234613_20190809T234638_028499_0338B5_13E6.tif\n",
      "image save right\n",
      "change image bandNames\n",
      "Generating URL ...\n",
      "Downloading data from https://earthengine.googleapis.com/v1/projects/earthengine-legacy/thumbnails/72456c57ec59ca95176d6ead9fe0eeb1-21ada2dd65aa4b46d158e5128ebb0847:getPixels\n",
      "Please wait ...\n",
      "Data downloaded to /root/GEE/2019补齐结果/4825_s2a_sr_median.tif\n",
      "image save right\n",
      "change image bandNames\n",
      "Generating URL ...\n",
      "Downloading data from https://earthengine.googleapis.com/v1/projects/earthengine-legacy/thumbnails/a68e61e19d49127b32ebe94261b1c304-61c34f5cd08e758842b072140f0df638:getPixels\n",
      "Please wait ...\n",
      "Data downloaded to /root/GEE/2019补齐结果/4825_s1_unit_mean_.tif\n",
      "image save right\n",
      "change image bandNames\n",
      "Generating URL ...\n",
      "Downloading data from https://earthengine.googleapis.com/v1/projects/earthengine-legacy/thumbnails/cb3702789eababeee4b281a85a39876b-ce60a03c715b6671899ebab4f7cde8f7:getPixels\n",
      "Please wait ...\n",
      "Data downloaded to /root/GEE/2019补齐结果/4825_s1_unit_max_.tif\n",
      "image save right\n",
      "change image bandNames\n",
      "Generating URL ...\n",
      "Downloading data from https://earthengine.googleapis.com/v1/projects/earthengine-legacy/thumbnails/8ccecfba9654e1aa2c47bab048d3f928-1aed0b5d49e01a4296bc630730e61f42:getPixels\n",
      "Please wait ...\n",
      "Data downloaded to /root/GEE/2019补齐结果/4825_s1_unit_min_.tif\n",
      "image save right\n",
      "change image bandNames\n",
      "Generating URL ...\n",
      "Downloading data from https://earthengine.googleapis.com/v1/projects/earthengine-legacy/thumbnails/c07515f8731013abffb398f52d2790c3-4fe410c82b901e56fa53571846495b19:getPixels\n",
      "Please wait ...\n",
      "Data downloaded to /root/GEE/2019补齐结果/4825_DistortionAS1A_IW_GRDH_1SDV_20190721T114936_20190721T115001_028215_032FF3_E394.tif\n",
      "image save right\n",
      "change image bandNames\n",
      "Generating URL ...\n",
      "Downloading data from https://earthengine.googleapis.com/v1/projects/earthengine-legacy/thumbnails/253ff8aa9388920e5ef8bc1ecf75878b-ee9a372f0dfbee108dec0952362db598:getPixels\n",
      "Please wait ...\n",
      "Data downloaded to /root/GEE/2019补齐结果/4825_DistortionDS1A_IW_GRDH_1SDV_20190809T234613_20190809T234638_028499_0338B5_13E6.tif\n",
      "image save right\n",
      "change image bandNames\n",
      "该函数运行了 193.28518 秒\n"
     ]
    },
    {
     "name": "stderr",
     "output_type": "stream",
     "text": [
      " 52%|#####1    | 126/244 [5:47:53<5:32:41, 169.16s/it]"
     ]
    },
    {
     "name": "stdout",
     "output_type": "stream",
     "text": [
      "Begin Filter ...\n"
     ]
    },
    {
     "name": "stderr",
     "output_type": "stream",
     "text": [
      "\n",
      "100%|##########| 13/13 [00:00<00:00, 1732.91it/s]\n",
      "\n",
      "100%|##########| 13/13 [00:00<00:00, 684.53it/s]\n",
      "\n",
      "100%|##########| 13/13 [00:00<00:00, 1839.92it/s]\n",
      "\n",
      "100%|##########| 13/13 [00:00<00:00, 732.11it/s]\n"
     ]
    },
    {
     "name": "stdout",
     "output_type": "stream",
     "text": [
      "Method 1 Kmean Band=['VV_gamma0_flatDB'],continue\n",
      "Write csv and shp, Method=Kmean  Img=s1_unit_mean_  Band=['VV_gamma0_flatDB', 'VH_gamma0_flatDB']\n",
      "Method 1 SNIC_Kmean Band=['VV_gamma0_flatDB'],continue\n",
      "Write csv and shp, Method=SNIC_Kmean  Img=s1_unit_mean_  Band=['VV_gamma0_flatDB', 'VH_gamma0_flatDB']\n",
      "Write csv and shp, Method=SNIC_Kmean  Img=s1_unit_mean_  Band=['VV_gamma0_flatDB', 'VH_gamma0_flatDB']\n",
      "Method 1 Xmeans Band=['VV_gamma0_flatDB'],continue\n",
      "Write csv and shp, Method=Xmeans  Img=s1_unit_mean_  Band=['VV_gamma0_flatDB', 'VH_gamma0_flatDB']\n",
      "Method 1 CascadeKMeans Band=['VV_gamma0_flatDB'],continue\n",
      "Write csv and shp, Method=CascadeKMeans  Img=s1_unit_mean_  Band=['VV_gamma0_flatDB', 'VH_gamma0_flatDB']\n",
      "Threshould value is 0.5086810715211312\n",
      "Write csv and shp, Method=otsu  Img=s1_unit_mean_  Band=['VV_gamma0_flatDB']\n",
      "Method 2 otsu Band=['VV_gamma0_flatDB', 'VH_gamma0_flatDB'],continue\n"
     ]
    },
    {
     "name": "stderr",
     "output_type": "stream",
     "text": [
      "/root/GEE/Extract_algorithm.py:229: RuntimeWarning: invalid value encountered in divide\n",
      "  higher = (csum_intensity[-1] - csum_intensity[:-1]) / (csumh[:-1]+sys.float_info.min)\n"
     ]
    },
    {
     "name": "stdout",
     "output_type": "stream",
     "text": [
      "Threshould value is 0.5064933171324307\n",
      "Write csv and shp, Method=isodata  Img=s1_unit_mean_  Band=['VV_gamma0_flatDB']\n",
      "Method 2 isodata Band=['VV_gamma0_flatDB', 'VH_gamma0_flatDB'],continue\n",
      "Generating URL ...\n",
      "Downloading data from https://earthengine.googleapis.com/v1/projects/earthengine-legacy/thumbnails/76f4d1ec9eababc821c6c579228dc01c-64fe62ba807898489f5ae895b0bd4f4b:getPixels\n",
      "Please wait ...\n",
      "Data downloaded to /root/GEE/2019补齐结果/4826_Ascending_S1A_IW_GRDH_1SDV_20190721T115001_20190721T115026_028215_032FF3_B8E9.tif\n",
      "image save right\n",
      "change image bandNames\n",
      "Generating URL ...\n",
      "Downloading data from https://earthengine.googleapis.com/v1/projects/earthengine-legacy/thumbnails/fd9c528696f6850916bd419b8fa55607-0f22b70a8c6f42f5279e9a13e471bbe5:getPixels\n",
      "Please wait ...\n",
      "Data downloaded to /root/GEE/2019补齐结果/4826_Descending_S1A_IW_GRDH_1SDV_20190809T234548_20190809T234613_028499_0338B5_5AC1.tif\n",
      "image save right\n",
      "change image bandNames\n",
      "Generating URL ...\n",
      "Downloading data from https://earthengine.googleapis.com/v1/projects/earthengine-legacy/thumbnails/f2527ab47ca3fed04ed71ef81558cf4b-d1a476fbe3c1d6ff88b14382122361ad:getPixels\n",
      "Please wait ...\n",
      "Data downloaded to /root/GEE/2019补齐结果/4826_s2a_sr_median.tif\n",
      "image save right\n",
      "change image bandNames\n",
      "Generating URL ...\n",
      "Downloading data from https://earthengine.googleapis.com/v1/projects/earthengine-legacy/thumbnails/17e3b1a9d1fb3c8f777152bff9102059-e534d59e016117e9e124eed016597ed5:getPixels\n",
      "Please wait ...\n",
      "Data downloaded to /root/GEE/2019补齐结果/4826_s1_unit_mean_.tif\n",
      "image save right\n",
      "change image bandNames\n",
      "Generating URL ...\n",
      "Downloading data from https://earthengine.googleapis.com/v1/projects/earthengine-legacy/thumbnails/7967521cceec21b1f57c3ae06d78a10f-b6110448ebdea38fc2d72478b334e082:getPixels\n",
      "Please wait ...\n",
      "Data downloaded to /root/GEE/2019补齐结果/4826_s1_unit_max_.tif\n",
      "image save right\n",
      "change image bandNames\n",
      "Generating URL ...\n",
      "Downloading data from https://earthengine.googleapis.com/v1/projects/earthengine-legacy/thumbnails/2a735f0ccc38bea2c2ca2851eba1a8e0-e541621e09e2859da2541a942feb080e:getPixels\n",
      "Please wait ...\n",
      "Data downloaded to /root/GEE/2019补齐结果/4826_s1_unit_min_.tif\n",
      "image save right\n",
      "change image bandNames\n",
      "Generating URL ...\n",
      "Downloading data from https://earthengine.googleapis.com/v1/projects/earthengine-legacy/thumbnails/9db8daae85080e4d7aed681aba3f5a51-40fbacc74c9fd7dc4179792a5b13a0b7:getPixels\n",
      "Please wait ...\n",
      "Data downloaded to /root/GEE/2019补齐结果/4826_DistortionAS1A_IW_GRDH_1SDV_20190721T115001_20190721T115026_028215_032FF3_B8E9.tif\n",
      "image save right\n",
      "change image bandNames\n",
      "Generating URL ...\n",
      "Downloading data from https://earthengine.googleapis.com/v1/projects/earthengine-legacy/thumbnails/a957e0c60a27f2e87dfd3c704d977ba7-39a407d06001e456e86805f6608bc6c7:getPixels\n",
      "Please wait ...\n",
      "Data downloaded to /root/GEE/2019补齐结果/4826_DistortionDS1A_IW_GRDH_1SDV_20190809T234548_20190809T234613_028499_0338B5_5AC1.tif\n",
      "image save right\n",
      "change image bandNames\n",
      "该函数运行了 192.26224 秒\n"
     ]
    },
    {
     "name": "stderr",
     "output_type": "stream",
     "text": [
      " 52%|#####2    | 127/244 [5:51:05<5:43:22, 176.09s/it]"
     ]
    },
    {
     "name": "stdout",
     "output_type": "stream",
     "text": [
      "Begin Filter ...\n"
     ]
    },
    {
     "name": "stderr",
     "output_type": "stream",
     "text": [
      "\n",
      "100%|##########| 23/23 [00:00<00:00, 1909.48it/s]\n",
      "\n",
      "100%|##########| 23/23 [00:00<00:00, 251.96it/s]\n",
      "\n",
      "100%|##########| 23/23 [00:00<00:00, 1944.98it/s]\n",
      "\n",
      "100%|##########| 23/23 [00:00<00:00, 249.46it/s]\n"
     ]
    },
    {
     "name": "stdout",
     "output_type": "stream",
     "text": [
      "Method 1 Kmean Band=['VV_gamma0_flatDB'],continue\n",
      "Write csv and shp, Method=Kmean  Img=s1_unit_mean_  Band=['VV_gamma0_flatDB', 'VH_gamma0_flatDB']\n",
      "Method 1 SNIC_Kmean Band=['VV_gamma0_flatDB'],continue\n",
      "Write csv and shp, Method=SNIC_Kmean  Img=s1_unit_mean_  Band=['VV_gamma0_flatDB', 'VH_gamma0_flatDB']\n",
      "Write csv and shp, Method=SNIC_Kmean  Img=s1_unit_mean_  Band=['VV_gamma0_flatDB', 'VH_gamma0_flatDB']\n",
      "Method 1 Xmeans Band=['VV_gamma0_flatDB'],continue\n",
      "Write csv and shp, Method=Xmeans  Img=s1_unit_mean_  Band=['VV_gamma0_flatDB', 'VH_gamma0_flatDB']\n",
      "Method 1 CascadeKMeans Band=['VV_gamma0_flatDB'],continue\n",
      "Write csv and shp, Method=CascadeKMeans  Img=s1_unit_mean_  Band=['VV_gamma0_flatDB', 'VH_gamma0_flatDB']\n",
      "Threshould value is 0.5223855984651149\n",
      "Write csv and shp, Method=otsu  Img=s1_unit_mean_  Band=['VV_gamma0_flatDB']\n",
      "Method 2 otsu Band=['VV_gamma0_flatDB', 'VH_gamma0_flatDB'],continue\n"
     ]
    },
    {
     "name": "stderr",
     "output_type": "stream",
     "text": [
      "/root/GEE/Extract_algorithm.py:229: RuntimeWarning: invalid value encountered in divide\n",
      "  higher = (csum_intensity[-1] - csum_intensity[:-1]) / (csumh[:-1]+sys.float_info.min)\n"
     ]
    },
    {
     "name": "stdout",
     "output_type": "stream",
     "text": [
      "Threshould value is 0.5261383563806908\n",
      "Write csv and shp, Method=isodata  Img=s1_unit_mean_  Band=['VV_gamma0_flatDB']\n",
      "Method 2 isodata Band=['VV_gamma0_flatDB', 'VH_gamma0_flatDB'],continue\n",
      "该函数运行了 126.22632 秒\n"
     ]
    },
    {
     "name": "stderr",
     "output_type": "stream",
     "text": [
      " 52%|#####2    | 128/244 [5:53:11<5:11:31, 161.13s/it]"
     ]
    },
    {
     "name": "stdout",
     "output_type": "stream",
     "text": [
      "Begin Filter ...\n"
     ]
    },
    {
     "name": "stderr",
     "output_type": "stream",
     "text": [
      "\n",
      "100%|##########| 11/11 [00:00<00:00, 1633.76it/s]\n",
      "\n",
      "100%|##########| 11/11 [00:00<00:00, 669.46it/s]\n",
      "\n",
      "100%|##########| 11/11 [00:00<00:00, 1672.55it/s]\n",
      "\n",
      "100%|##########| 11/11 [00:00<00:00, 912.83it/s]\n"
     ]
    },
    {
     "name": "stdout",
     "output_type": "stream",
     "text": [
      "Method 1 Kmean Band=['VV_gamma0_flatDB'],continue\n",
      "Write csv and shp, Method=Kmean  Img=s1_unit_mean_  Band=['VV_gamma0_flatDB', 'VH_gamma0_flatDB']\n",
      "Method 1 SNIC_Kmean Band=['VV_gamma0_flatDB'],continue\n",
      "Write csv and shp, Method=SNIC_Kmean  Img=s1_unit_mean_  Band=['VV_gamma0_flatDB', 'VH_gamma0_flatDB']\n",
      "Write csv and shp, Method=SNIC_Kmean  Img=s1_unit_mean_  Band=['VV_gamma0_flatDB', 'VH_gamma0_flatDB']\n",
      "Method 1 Xmeans Band=['VV_gamma0_flatDB'],continue\n",
      "Write csv and shp, Method=Xmeans  Img=s1_unit_mean_  Band=['VV_gamma0_flatDB', 'VH_gamma0_flatDB']\n",
      "Method 1 CascadeKMeans Band=['VV_gamma0_flatDB'],continue\n",
      "Write csv and shp, Method=CascadeKMeans  Img=s1_unit_mean_  Band=['VV_gamma0_flatDB', 'VH_gamma0_flatDB']\n",
      "Threshould value is 0.5802529676669713\n",
      "Write csv and shp, Method=otsu  Img=s1_unit_mean_  Band=['VV_gamma0_flatDB']\n",
      "Method 2 otsu Band=['VV_gamma0_flatDB', 'VH_gamma0_flatDB'],continue\n"
     ]
    },
    {
     "name": "stderr",
     "output_type": "stream",
     "text": [
      "/root/GEE/Extract_algorithm.py:229: RuntimeWarning: invalid value encountered in divide\n",
      "  higher = (csum_intensity[-1] - csum_intensity[:-1]) / (csumh[:-1]+sys.float_info.min)\n"
     ]
    },
    {
     "name": "stdout",
     "output_type": "stream",
     "text": [
      "Threshould value is 0.5734166145017128\n",
      "Write csv and shp, Method=isodata  Img=s1_unit_mean_  Band=['VV_gamma0_flatDB']\n",
      "Method 2 isodata Band=['VV_gamma0_flatDB', 'VH_gamma0_flatDB'],continue\n",
      "Generating URL ...\n",
      "Downloading data from https://earthengine.googleapis.com/v1/projects/earthengine-legacy/thumbnails/54e4c8d5f9cd89a7b40926bd8f409783-b0e5822349b9c105becaa207943aa331:getPixels\n",
      "Please wait ...\n",
      "Data downloaded to /root/GEE/2019补齐结果/4828_Ascending_S1A_IW_GRDH_1SDV_20190714T115743_20190714T115808_028113_032CCD_07AC.tif\n",
      "image save right\n",
      "change image bandNames\n",
      "Generating URL ...\n",
      "Downloading data from https://earthengine.googleapis.com/v1/projects/earthengine-legacy/thumbnails/1c0fafea04d1bae1e019aada3fa6f54f-1782464e3c95d7d93df63436904aa3f7:getPixels\n",
      "Please wait ...\n",
      "Data downloaded to /root/GEE/2019补齐结果/4828_Descending_S1A_IW_GRDH_1SDV_20190809T234613_20190809T234638_028499_0338B5_13E6.tif\n",
      "image save right\n",
      "change image bandNames\n",
      "Generating URL ...\n",
      "Downloading data from https://earthengine.googleapis.com/v1/projects/earthengine-legacy/thumbnails/41faf7f880f6193417a2716ec0cd5439-b3679a060eacb657d86e34b9aaf8f2d6:getPixels\n",
      "Please wait ...\n",
      "Data downloaded to /root/GEE/2019补齐结果/4828_s2a_sr_median.tif\n",
      "image save right\n",
      "change image bandNames\n",
      "Generating URL ...\n",
      "Downloading data from https://earthengine.googleapis.com/v1/projects/earthengine-legacy/thumbnails/c2a5844fd53c3f80abc832666a99bc2a-b9c5ae14f7769087eb1795a1edb027b0:getPixels\n",
      "Please wait ...\n",
      "Data downloaded to /root/GEE/2019补齐结果/4828_s1_unit_mean_.tif\n",
      "image save right\n",
      "change image bandNames\n",
      "Generating URL ...\n",
      "Downloading data from https://earthengine.googleapis.com/v1/projects/earthengine-legacy/thumbnails/c98c2d1a6a7f58ac57116fef91f7d131-67cccd0e7b20a1610f4ba0baeb43fe81:getPixels\n",
      "Please wait ...\n",
      "Data downloaded to /root/GEE/2019补齐结果/4828_s1_unit_max_.tif\n",
      "image save right\n",
      "change image bandNames\n",
      "Generating URL ...\n",
      "Downloading data from https://earthengine.googleapis.com/v1/projects/earthengine-legacy/thumbnails/e09b05b436883bd6854ae6b8fd2854d7-59e6c183f47039e60cbd2a46f3cb3037:getPixels\n",
      "Please wait ...\n",
      "Data downloaded to /root/GEE/2019补齐结果/4828_s1_unit_min_.tif\n",
      "image save right\n",
      "change image bandNames\n",
      "Generating URL ...\n",
      "Downloading data from https://earthengine.googleapis.com/v1/projects/earthengine-legacy/thumbnails/67cd3d1ee9f11dad8c19da854cacefcb-b7bfda89ec4ed30e457fef2e79630869:getPixels\n",
      "Please wait ...\n",
      "Data downloaded to /root/GEE/2019补齐结果/4828_DistortionAS1A_IW_GRDH_1SDV_20190714T115743_20190714T115808_028113_032CCD_07AC.tif\n",
      "image save right\n",
      "change image bandNames\n",
      "Generating URL ...\n",
      "Downloading data from https://earthengine.googleapis.com/v1/projects/earthengine-legacy/thumbnails/846e6581dc47ed8f85a6e0648aa088c0-ae4d1c701aa9011acb3d6388ecf7ebb0:getPixels\n",
      "Please wait ...\n",
      "Data downloaded to /root/GEE/2019补齐结果/4828_DistortionDS1A_IW_GRDH_1SDV_20190809T234613_20190809T234638_028499_0338B5_13E6.tif\n",
      "image save right\n",
      "change image bandNames\n",
      "该函数运行了 209.23942 秒\n"
     ]
    },
    {
     "name": "stderr",
     "output_type": "stream",
     "text": [
      " 53%|#####2    | 129/244 [5:56:41<5:36:30, 175.57s/it]"
     ]
    },
    {
     "name": "stdout",
     "output_type": "stream",
     "text": [
      "Begin Filter ...\n"
     ]
    },
    {
     "name": "stderr",
     "output_type": "stream",
     "text": [
      "\n",
      "100%|##########| 22/22 [00:00<00:00, 1523.49it/s]\n",
      "\n",
      "100%|##########| 22/22 [00:00<00:00, 594.01it/s]\n",
      "\n",
      "100%|##########| 21/21 [00:00<00:00, 1884.88it/s]\n",
      "\n",
      "100%|##########| 21/21 [00:00<00:00, 511.86it/s]\n"
     ]
    },
    {
     "name": "stdout",
     "output_type": "stream",
     "text": [
      "Method 1 Kmean Band=['VV_gamma0_flatDB'],continue\n",
      "Write csv and shp, Method=Kmean  Img=s1_unit_mean_  Band=['VV_gamma0_flatDB', 'VH_gamma0_flatDB']\n",
      "Method 1 SNIC_Kmean Band=['VV_gamma0_flatDB'],continue\n",
      "Write csv and shp, Method=SNIC_Kmean  Img=s1_unit_mean_  Band=['VV_gamma0_flatDB', 'VH_gamma0_flatDB']\n",
      "Write csv and shp, Method=SNIC_Kmean  Img=s1_unit_mean_  Band=['VV_gamma0_flatDB', 'VH_gamma0_flatDB']\n",
      "Method 1 Xmeans Band=['VV_gamma0_flatDB'],continue\n",
      "Write csv and shp, Method=Xmeans  Img=s1_unit_mean_  Band=['VV_gamma0_flatDB', 'VH_gamma0_flatDB']\n",
      "Method 1 CascadeKMeans Band=['VV_gamma0_flatDB'],continue\n",
      "Write csv and shp, Method=CascadeKMeans  Img=s1_unit_mean_  Band=['VV_gamma0_flatDB', 'VH_gamma0_flatDB']\n",
      "Threshould value is 0.4928865684196287\n",
      "Write csv and shp, Method=otsu  Img=s1_unit_mean_  Band=['VV_gamma0_flatDB']\n",
      "Method 2 otsu Band=['VV_gamma0_flatDB', 'VH_gamma0_flatDB'],continue\n"
     ]
    },
    {
     "name": "stderr",
     "output_type": "stream",
     "text": [
      "/root/GEE/Extract_algorithm.py:229: RuntimeWarning: invalid value encountered in divide\n",
      "  higher = (csum_intensity[-1] - csum_intensity[:-1]) / (csumh[:-1]+sys.float_info.min)\n"
     ]
    },
    {
     "name": "stdout",
     "output_type": "stream",
     "text": [
      "Threshould value is 0.4912147151949111\n",
      "Write csv and shp, Method=isodata  Img=s1_unit_mean_  Band=['VV_gamma0_flatDB']\n",
      "Method 2 isodata Band=['VV_gamma0_flatDB', 'VH_gamma0_flatDB'],continue\n",
      "Generating URL ...\n",
      "Downloading data from https://earthengine.googleapis.com/v1/projects/earthengine-legacy/thumbnails/c2931f7ce9b087c4d151f5fbcbe24d42-31b7f3db229ee61c3022548cb65c386c:getPixels\n",
      "Please wait ...\n",
      "Data downloaded to /root/GEE/2019补齐结果/4829_Ascending_S1A_IW_GRDH_1SDV_20190714T115743_20190714T115808_028113_032CCD_07AC.tif\n",
      "image save right\n",
      "change image bandNames\n",
      "Generating URL ...\n",
      "Downloading data from https://earthengine.googleapis.com/v1/projects/earthengine-legacy/thumbnails/598b72c0ed925bd013e62a118e35265b-9006da093c22958268564b1612030162:getPixels\n",
      "Please wait ...\n",
      "Data downloaded to /root/GEE/2019补齐结果/4829_Descending_S1A_IW_GRDH_1SDV_20190809T234613_20190809T234638_028499_0338B5_13E6.tif\n",
      "image save right\n",
      "change image bandNames\n",
      "Generating URL ...\n",
      "Downloading data from https://earthengine.googleapis.com/v1/projects/earthengine-legacy/thumbnails/d41e6c5893825983f1f74b9b6753f71b-a2859114993983bf388b7d2e21d89355:getPixels\n",
      "Please wait ...\n",
      "Data downloaded to /root/GEE/2019补齐结果/4829_s2a_sr_median.tif\n",
      "image save right\n",
      "change image bandNames\n",
      "Generating URL ...\n",
      "Downloading data from https://earthengine.googleapis.com/v1/projects/earthengine-legacy/thumbnails/23e21a75e6fac84a54ccd749dc32ba18-eab44d2d560806eaf50f303d3cb6e53f:getPixels\n",
      "Please wait ...\n",
      "Data downloaded to /root/GEE/2019补齐结果/4829_s1_unit_mean_.tif\n",
      "image save right\n",
      "change image bandNames\n",
      "Generating URL ...\n",
      "Downloading data from https://earthengine.googleapis.com/v1/projects/earthengine-legacy/thumbnails/af1103167b848e4dab04046382101160-1ba1e205719cdf8debbcfe3f296463fc:getPixels\n",
      "Please wait ...\n",
      "Data downloaded to /root/GEE/2019补齐结果/4829_s1_unit_max_.tif\n",
      "image save right\n",
      "change image bandNames\n",
      "Generating URL ...\n",
      "Downloading data from https://earthengine.googleapis.com/v1/projects/earthengine-legacy/thumbnails/f88ea3bd54600bb80c6bad1daf326722-d0dbf6edb5998c45890263b3676b267f:getPixels\n",
      "Please wait ...\n",
      "Data downloaded to /root/GEE/2019补齐结果/4829_s1_unit_min_.tif\n",
      "image save right\n",
      "change image bandNames\n",
      "Generating URL ...\n",
      "Downloading data from https://earthengine.googleapis.com/v1/projects/earthengine-legacy/thumbnails/cfadde996193e16d3e0ff76505eb1f46-5279efccd1ca3d175385fd50355e2be0:getPixels\n",
      "Please wait ...\n",
      "Data downloaded to /root/GEE/2019补齐结果/4829_DistortionAS1A_IW_GRDH_1SDV_20190714T115743_20190714T115808_028113_032CCD_07AC.tif\n",
      "image save right\n",
      "change image bandNames\n",
      "Generating URL ...\n",
      "Downloading data from https://earthengine.googleapis.com/v1/projects/earthengine-legacy/thumbnails/e0e0a08c48a0e2993c4d08c08dba3956-863dfba1df93f7747c408201625c7973:getPixels\n",
      "Please wait ...\n",
      "Data downloaded to /root/GEE/2019补齐结果/4829_DistortionDS1A_IW_GRDH_1SDV_20190809T234613_20190809T234638_028499_0338B5_13E6.tif\n",
      "image save right\n",
      "change image bandNames\n",
      "该函数运行了 212.55635 秒\n"
     ]
    },
    {
     "name": "stderr",
     "output_type": "stream",
     "text": [
      " 53%|#####3    | 130/244 [6:00:13<5:54:40, 186.67s/it]"
     ]
    },
    {
     "name": "stdout",
     "output_type": "stream",
     "text": [
      "Begin Filter ...\n"
     ]
    },
    {
     "name": "stderr",
     "output_type": "stream",
     "text": [
      "\n",
      "100%|##########| 12/12 [00:00<00:00, 1783.67it/s]\n",
      "\n",
      "100%|##########| 12/12 [00:00<00:00, 587.65it/s]\n",
      "\n",
      "100%|##########| 10/10 [00:00<00:00, 1534.86it/s]\n",
      "\n",
      "100%|##########| 10/10 [00:00<00:00, 707.15it/s]\n"
     ]
    },
    {
     "name": "stdout",
     "output_type": "stream",
     "text": [
      "Method 1 Kmean Band=['VV_gamma0_flatDB'],continue\n",
      "Write csv and shp, Method=Kmean  Img=s1_unit_mean_  Band=['VV_gamma0_flatDB', 'VH_gamma0_flatDB']\n",
      "Method 1 SNIC_Kmean Band=['VV_gamma0_flatDB'],continue\n",
      "Write csv and shp, Method=SNIC_Kmean  Img=s1_unit_mean_  Band=['VV_gamma0_flatDB', 'VH_gamma0_flatDB']\n",
      "Write csv and shp, Method=SNIC_Kmean  Img=s1_unit_mean_  Band=['VV_gamma0_flatDB', 'VH_gamma0_flatDB']\n",
      "Method 1 Xmeans Band=['VV_gamma0_flatDB'],continue\n",
      "Write csv and shp, Method=Xmeans  Img=s1_unit_mean_  Band=['VV_gamma0_flatDB', 'VH_gamma0_flatDB']\n",
      "Method 1 CascadeKMeans Band=['VV_gamma0_flatDB'],continue\n",
      "Write csv and shp, Method=CascadeKMeans  Img=s1_unit_mean_  Band=['VV_gamma0_flatDB', 'VH_gamma0_flatDB']\n",
      "Threshould value is 0.568472440693552\n",
      "Write csv and shp, Method=otsu  Img=s1_unit_mean_  Band=['VV_gamma0_flatDB']\n",
      "Method 2 otsu Band=['VV_gamma0_flatDB', 'VH_gamma0_flatDB'],continue\n"
     ]
    },
    {
     "name": "stderr",
     "output_type": "stream",
     "text": [
      "/root/GEE/Extract_algorithm.py:229: RuntimeWarning: invalid value encountered in divide\n",
      "  higher = (csum_intensity[-1] - csum_intensity[:-1]) / (csumh[:-1]+sys.float_info.min)\n"
     ]
    },
    {
     "name": "stdout",
     "output_type": "stream",
     "text": [
      "Threshould value is 0.5526168674975682\n",
      "Write csv and shp, Method=isodata  Img=s1_unit_mean_  Band=['VV_gamma0_flatDB']\n",
      "Method 2 isodata Band=['VV_gamma0_flatDB', 'VH_gamma0_flatDB'],continue\n",
      "Generating URL ...\n",
      "Downloading data from https://earthengine.googleapis.com/v1/projects/earthengine-legacy/thumbnails/e3c640aee3ffa9a0f82078044deaeb2b-a24ffd435eb2f7527747572dde38bef7:getPixels\n",
      "Please wait ...\n",
      "Data downloaded to /root/GEE/2019补齐结果/4830_Ascending_S1A_IW_GRDH_1SDV_20190714T115743_20190714T115808_028113_032CCD_07AC.tif\n",
      "image save right\n",
      "change image bandNames\n",
      "Generating URL ...\n",
      "Downloading data from https://earthengine.googleapis.com/v1/projects/earthengine-legacy/thumbnails/bcebad0a3a250a41816a80ae78d7c80f-93ddbf25bd5f6487d5deaabe3713d837:getPixels\n",
      "Please wait ...\n",
      "Data downloaded to /root/GEE/2019补齐结果/4830_Descending_S1A_IW_GRDH_1SDV_20190809T234613_20190809T234638_028499_0338B5_13E6.tif\n",
      "image save right\n",
      "change image bandNames\n",
      "Generating URL ...\n",
      "Downloading data from https://earthengine.googleapis.com/v1/projects/earthengine-legacy/thumbnails/270fd1407a7a7d465095bab5186033e7-842f5ad1618aa20a794b237516543c40:getPixels\n",
      "Please wait ...\n",
      "Data downloaded to /root/GEE/2019补齐结果/4830_s2a_sr_median.tif\n",
      "image save right\n",
      "change image bandNames\n",
      "Generating URL ...\n",
      "Downloading data from https://earthengine.googleapis.com/v1/projects/earthengine-legacy/thumbnails/6077a9399b1eb4b9a25a3802cfd8e943-6df999e27974b72225c5d2582ee42cb2:getPixels\n",
      "Please wait ...\n",
      "Data downloaded to /root/GEE/2019补齐结果/4830_s1_unit_mean_.tif\n",
      "image save right\n",
      "change image bandNames\n",
      "Generating URL ...\n",
      "Downloading data from https://earthengine.googleapis.com/v1/projects/earthengine-legacy/thumbnails/2e9418cbbdc59b63e2cc2bc4b71f5317-26bb94bc9a5f5358f907302db934fc52:getPixels\n",
      "Please wait ...\n",
      "Data downloaded to /root/GEE/2019补齐结果/4830_s1_unit_max_.tif\n",
      "image save right\n",
      "change image bandNames\n",
      "Generating URL ...\n",
      "Downloading data from https://earthengine.googleapis.com/v1/projects/earthengine-legacy/thumbnails/42a9cafcb7675f2c460b2f48653f2a09-cf4c00a752abe2c912b033311393d1f2:getPixels\n",
      "Please wait ...\n",
      "Data downloaded to /root/GEE/2019补齐结果/4830_s1_unit_min_.tif\n",
      "image save right\n",
      "change image bandNames\n",
      "Generating URL ...\n",
      "Downloading data from https://earthengine.googleapis.com/v1/projects/earthengine-legacy/thumbnails/254ad552a173b8e2d359baf1ff089c09-36b63d861581bea9c26fb483660c309c:getPixels\n",
      "Please wait ...\n",
      "Data downloaded to /root/GEE/2019补齐结果/4830_DistortionAS1A_IW_GRDH_1SDV_20190714T115743_20190714T115808_028113_032CCD_07AC.tif\n",
      "image save right\n",
      "change image bandNames\n",
      "Generating URL ...\n",
      "Downloading data from https://earthengine.googleapis.com/v1/projects/earthengine-legacy/thumbnails/43531c85177ca1419721b30d2857aeba-6be71c9ebedf7e1702c1f186d28db232:getPixels\n",
      "Please wait ...\n",
      "Data downloaded to /root/GEE/2019补齐结果/4830_DistortionDS1A_IW_GRDH_1SDV_20190809T234613_20190809T234638_028499_0338B5_13E6.tif\n",
      "image save right\n",
      "change image bandNames\n",
      "该函数运行了 207.51370 秒\n"
     ]
    },
    {
     "name": "stderr",
     "output_type": "stream",
     "text": [
      " 54%|#####3    | 131/244 [6:03:41<6:03:20, 192.92s/it]"
     ]
    },
    {
     "name": "stdout",
     "output_type": "stream",
     "text": [
      "Begin Filter ...\n"
     ]
    },
    {
     "name": "stderr",
     "output_type": "stream",
     "text": [
      "\n",
      "100%|##########| 11/11 [00:00<00:00, 1491.14it/s]\n",
      "\n",
      "100%|##########| 11/11 [00:00<00:00, 661.69it/s]\n",
      "\n",
      "100%|##########| 12/12 [00:00<00:00, 1815.91it/s]\n",
      "\n",
      "100%|##########| 12/12 [00:00<00:00, 769.94it/s]\n"
     ]
    },
    {
     "name": "stdout",
     "output_type": "stream",
     "text": [
      "Method 1 Kmean Band=['VV_gamma0_flatDB'],continue\n",
      "Write csv and shp, Method=Kmean  Img=s1_unit_mean_  Band=['VV_gamma0_flatDB', 'VH_gamma0_flatDB']\n",
      "Method 1 SNIC_Kmean Band=['VV_gamma0_flatDB'],continue\n",
      "Write csv and shp, Method=SNIC_Kmean  Img=s1_unit_mean_  Band=['VV_gamma0_flatDB', 'VH_gamma0_flatDB']\n",
      "Write csv and shp, Method=SNIC_Kmean  Img=s1_unit_mean_  Band=['VV_gamma0_flatDB', 'VH_gamma0_flatDB']\n",
      "Method 1 Xmeans Band=['VV_gamma0_flatDB'],continue\n",
      "Write csv and shp, Method=Xmeans  Img=s1_unit_mean_  Band=['VV_gamma0_flatDB', 'VH_gamma0_flatDB']\n",
      "Method 1 CascadeKMeans Band=['VV_gamma0_flatDB'],continue\n",
      "Write csv and shp, Method=CascadeKMeans  Img=s1_unit_mean_  Band=['VV_gamma0_flatDB', 'VH_gamma0_flatDB']\n",
      "Threshould value is 0.4755313689877654\n",
      "Write csv and shp, Method=otsu  Img=s1_unit_mean_  Band=['VV_gamma0_flatDB']\n",
      "Method 2 otsu Band=['VV_gamma0_flatDB', 'VH_gamma0_flatDB'],continue\n"
     ]
    },
    {
     "name": "stderr",
     "output_type": "stream",
     "text": [
      "/root/GEE/Extract_algorithm.py:229: RuntimeWarning: invalid value encountered in divide\n",
      "  higher = (csum_intensity[-1] - csum_intensity[:-1]) / (csumh[:-1]+sys.float_info.min)\n"
     ]
    },
    {
     "name": "stdout",
     "output_type": "stream",
     "text": [
      "Threshould value is 0.46198558686645685\n",
      "Write csv and shp, Method=isodata  Img=s1_unit_mean_  Band=['VV_gamma0_flatDB']\n",
      "Method 2 isodata Band=['VV_gamma0_flatDB', 'VH_gamma0_flatDB'],continue\n",
      "Generating URL ...\n",
      "Downloading data from https://earthengine.googleapis.com/v1/projects/earthengine-legacy/thumbnails/d5c704bf8a8f9ea1a4c03d9150cbcfca-21215a52778080a3c714557658aaa664:getPixels\n",
      "Please wait ...\n",
      "Data downloaded to /root/GEE/2019补齐结果/4831_Ascending_S1A_IW_GRDH_1SDV_20190721T114936_20190721T115001_028215_032FF3_E394.tif\n",
      "image save right\n",
      "change image bandNames\n",
      "Generating URL ...\n",
      "Downloading data from https://earthengine.googleapis.com/v1/projects/earthengine-legacy/thumbnails/1e722fbbd29c8ec12ed2be87a6e9db25-c5b9fbaa1889e9487515c7e3508a19d2:getPixels\n",
      "Please wait ...\n",
      "Data downloaded to /root/GEE/2019补齐结果/4831_Descending_S1A_IW_GRDH_1SDV_20190809T234613_20190809T234638_028499_0338B5_13E6.tif\n",
      "image save right\n",
      "change image bandNames\n",
      "Generating URL ...\n",
      "Downloading data from https://earthengine.googleapis.com/v1/projects/earthengine-legacy/thumbnails/8255bfc74abf92a21d60115f6272e0c6-26a311baf1eb5db56844d74dc3d25326:getPixels\n",
      "Please wait ...\n",
      "Data downloaded to /root/GEE/2019补齐结果/4831_s2a_sr_median.tif\n",
      "image save right\n",
      "change image bandNames\n",
      "Generating URL ...\n",
      "Downloading data from https://earthengine.googleapis.com/v1/projects/earthengine-legacy/thumbnails/ea5799c7a77395480c2a3e3047f4c355-624bcc187fe81995dd295b9dbad7e46f:getPixels\n",
      "Please wait ...\n",
      "Data downloaded to /root/GEE/2019补齐结果/4831_s1_unit_mean_.tif\n",
      "image save right\n",
      "change image bandNames\n",
      "Generating URL ...\n",
      "Downloading data from https://earthengine.googleapis.com/v1/projects/earthengine-legacy/thumbnails/f3fd88461b737c815fb749911a9cd7f8-0b7bed016a80302f77081901a1c3738e:getPixels\n",
      "Please wait ...\n",
      "Data downloaded to /root/GEE/2019补齐结果/4831_s1_unit_max_.tif\n",
      "image save right\n",
      "change image bandNames\n",
      "Generating URL ...\n",
      "Downloading data from https://earthengine.googleapis.com/v1/projects/earthengine-legacy/thumbnails/12bf19ad8b9f87cf6443755655e3b578-93986a87d5fdd156a595fa79ba35858c:getPixels\n",
      "Please wait ...\n",
      "Data downloaded to /root/GEE/2019补齐结果/4831_s1_unit_min_.tif\n",
      "image save right\n",
      "change image bandNames\n",
      "Generating URL ...\n",
      "Downloading data from https://earthengine.googleapis.com/v1/projects/earthengine-legacy/thumbnails/b652719435a4adb7741bcc8875eaa16f-bb240316c88f006d0708f74dedd94e68:getPixels\n",
      "Please wait ...\n",
      "Data downloaded to /root/GEE/2019补齐结果/4831_DistortionAS1A_IW_GRDH_1SDV_20190721T114936_20190721T115001_028215_032FF3_E394.tif\n",
      "image save right\n",
      "change image bandNames\n",
      "Generating URL ...\n",
      "Downloading data from https://earthengine.googleapis.com/v1/projects/earthengine-legacy/thumbnails/1ed3b6f7f107fd2db5db0585b5c71110-fe448063410d5b1a89d1a907e8a12349:getPixels\n",
      "Please wait ...\n",
      "Data downloaded to /root/GEE/2019补齐结果/4831_DistortionDS1A_IW_GRDH_1SDV_20190809T234613_20190809T234638_028499_0338B5_13E6.tif\n",
      "image save right\n",
      "change image bandNames\n",
      "该函数运行了 185.31814 秒\n"
     ]
    },
    {
     "name": "stderr",
     "output_type": "stream",
     "text": [
      " 54%|#####4    | 132/244 [6:06:46<5:55:52, 190.64s/it]"
     ]
    },
    {
     "name": "stdout",
     "output_type": "stream",
     "text": [
      "Begin Filter ...\n"
     ]
    },
    {
     "name": "stderr",
     "output_type": "stream",
     "text": [
      "\n",
      "100%|##########| 13/13 [00:00<00:00, 1716.97it/s]\n",
      "\n",
      "100%|##########| 13/13 [00:00<00:00, 463.78it/s]\n",
      "\n",
      "100%|##########| 13/13 [00:00<00:00, 1928.14it/s]\n",
      "\n",
      "100%|##########| 13/13 [00:00<00:00, 625.81it/s]\n"
     ]
    },
    {
     "name": "stdout",
     "output_type": "stream",
     "text": [
      "Method 1 Kmean Band=['VV_gamma0_flatDB'],continue\n",
      "Write csv and shp, Method=Kmean  Img=s1_unit_mean_  Band=['VV_gamma0_flatDB', 'VH_gamma0_flatDB']\n",
      "Method 1 SNIC_Kmean Band=['VV_gamma0_flatDB'],continue\n",
      "Write csv and shp, Method=SNIC_Kmean  Img=s1_unit_mean_  Band=['VV_gamma0_flatDB', 'VH_gamma0_flatDB']\n",
      "Write csv and shp, Method=SNIC_Kmean  Img=s1_unit_mean_  Band=['VV_gamma0_flatDB', 'VH_gamma0_flatDB']\n",
      "Method 1 Xmeans Band=['VV_gamma0_flatDB'],continue\n",
      "Write csv and shp, Method=Xmeans  Img=s1_unit_mean_  Band=['VV_gamma0_flatDB', 'VH_gamma0_flatDB']\n",
      "Method 1 CascadeKMeans Band=['VV_gamma0_flatDB'],continue\n",
      "Write csv and shp, Method=CascadeKMeans  Img=s1_unit_mean_  Band=['VV_gamma0_flatDB', 'VH_gamma0_flatDB']\n",
      "Threshould value is 0.5709253737148945\n",
      "Write csv and shp, Method=otsu  Img=s1_unit_mean_  Band=['VV_gamma0_flatDB']\n",
      "Method 2 otsu Band=['VV_gamma0_flatDB', 'VH_gamma0_flatDB'],continue\n",
      "Threshould value is 0.5654877646043829\n",
      "Write csv and shp, Method=isodata  Img=s1_unit_mean_  Band=['VV_gamma0_flatDB']\n",
      "Method 2 isodata Band=['VV_gamma0_flatDB', 'VH_gamma0_flatDB'],continue\n",
      "Generating URL ...\n",
      "Downloading data from https://earthengine.googleapis.com/v1/projects/earthengine-legacy/thumbnails/ba8356017cfc26311e83cbe3480521af-04aa20275bf038a61cd73a212a0e1fd3:getPixels\n",
      "Please wait ...\n",
      "Data downloaded to /root/GEE/2019补齐结果/4832_Ascending_S1A_IW_GRDH_1SDV_20190714T115743_20190714T115808_028113_032CCD_07AC.tif\n",
      "image save right\n",
      "change image bandNames\n",
      "Generating URL ...\n",
      "Downloading data from https://earthengine.googleapis.com/v1/projects/earthengine-legacy/thumbnails/044d9186288cf0831ec8a9586f0afaf8-49dd107d8c74f89d3def5a7db2535ed6:getPixels\n",
      "Please wait ...\n",
      "Data downloaded to /root/GEE/2019补齐结果/4832_Descending_S1A_IW_GRDH_1SDV_20190721T235404_20190721T235429_028222_033027_8116.tif\n",
      "image save right\n",
      "change image bandNames\n",
      "Generating URL ...\n",
      "Downloading data from https://earthengine.googleapis.com/v1/projects/earthengine-legacy/thumbnails/cfa4c90b087afb0b0b5a6c5b904a2705-63976f7411b73a222bc22db042ccc762:getPixels\n",
      "Please wait ...\n",
      "Data downloaded to /root/GEE/2019补齐结果/4832_s2a_sr_median.tif\n",
      "image save right\n",
      "change image bandNames\n",
      "Generating URL ...\n",
      "Downloading data from https://earthengine.googleapis.com/v1/projects/earthengine-legacy/thumbnails/59900acdff61e38a46163a2eb1865f88-2a172d4f472678ce2e5fd240ddc4e367:getPixels\n",
      "Please wait ...\n",
      "Data downloaded to /root/GEE/2019补齐结果/4832_s1_unit_mean_.tif\n",
      "image save right\n",
      "change image bandNames\n",
      "Generating URL ...\n",
      "Downloading data from https://earthengine.googleapis.com/v1/projects/earthengine-legacy/thumbnails/4cc5503484b940684ca76bffd2affd2c-363daa4874f3e819b3234002c005d72a:getPixels\n",
      "Please wait ...\n",
      "Data downloaded to /root/GEE/2019补齐结果/4832_s1_unit_max_.tif\n",
      "image save right\n",
      "change image bandNames\n",
      "Generating URL ...\n",
      "Downloading data from https://earthengine.googleapis.com/v1/projects/earthengine-legacy/thumbnails/fe71d12f8b87ffadd8fbf59836a19c88-260759d045e1aba0a17910c9f2d42beb:getPixels\n",
      "Please wait ...\n",
      "Data downloaded to /root/GEE/2019补齐结果/4832_s1_unit_min_.tif\n",
      "image save right\n",
      "change image bandNames\n",
      "Generating URL ...\n",
      "Downloading data from https://earthengine.googleapis.com/v1/projects/earthengine-legacy/thumbnails/b450fb357596e4aac15905a863ac9e2a-24c3b3e828a0d217ac1f59e920f10741:getPixels\n",
      "Please wait ...\n",
      "Data downloaded to /root/GEE/2019补齐结果/4832_DistortionAS1A_IW_GRDH_1SDV_20190714T115743_20190714T115808_028113_032CCD_07AC.tif\n",
      "image save right\n",
      "change image bandNames\n",
      "Generating URL ...\n",
      "Downloading data from https://earthengine.googleapis.com/v1/projects/earthengine-legacy/thumbnails/dc02ed343527237ec825430cb20ada53-c17ca4e588f7c6803a8398fa1951801d:getPixels\n",
      "Please wait ...\n",
      "Data downloaded to /root/GEE/2019补齐结果/4832_DistortionDS1A_IW_GRDH_1SDV_20190721T235404_20190721T235429_028222_033027_8116.tif\n",
      "image save right\n",
      "change image bandNames\n",
      "该函数运行了 222.51915 秒\n"
     ]
    },
    {
     "name": "stderr",
     "output_type": "stream",
     "text": [
      " 55%|#####4    | 133/244 [6:10:29<6:10:23, 200.21s/it]"
     ]
    },
    {
     "name": "stdout",
     "output_type": "stream",
     "text": [
      "Begin Filter ...\n"
     ]
    },
    {
     "name": "stderr",
     "output_type": "stream",
     "text": [
      "\n",
      "100%|##########| 18/18 [00:00<00:00, 2215.11it/s]\n",
      "\n",
      "100%|##########| 18/18 [00:00<00:00, 662.30it/s]\n",
      "\n",
      "100%|##########| 17/17 [00:00<00:00, 1793.11it/s]\n",
      "\n",
      "100%|##########| 17/17 [00:00<00:00, 583.78it/s]\n"
     ]
    },
    {
     "name": "stdout",
     "output_type": "stream",
     "text": [
      "Method 1 Kmean Band=['VV_gamma0_flatDB'],continue\n",
      "Write csv and shp, Method=Kmean  Img=s1_unit_mean_  Band=['VV_gamma0_flatDB', 'VH_gamma0_flatDB']\n",
      "Method 1 SNIC_Kmean Band=['VV_gamma0_flatDB'],continue\n",
      "Write csv and shp, Method=SNIC_Kmean  Img=s1_unit_mean_  Band=['VV_gamma0_flatDB', 'VH_gamma0_flatDB']\n",
      "Write csv and shp, Method=SNIC_Kmean  Img=s1_unit_mean_  Band=['VV_gamma0_flatDB', 'VH_gamma0_flatDB']\n",
      "Method 1 Xmeans Band=['VV_gamma0_flatDB'],continue\n",
      "Write csv and shp, Method=Xmeans  Img=s1_unit_mean_  Band=['VV_gamma0_flatDB', 'VH_gamma0_flatDB']\n",
      "Method 1 CascadeKMeans Band=['VV_gamma0_flatDB'],continue\n",
      "Write csv and shp, Method=CascadeKMeans  Img=s1_unit_mean_  Band=['VV_gamma0_flatDB', 'VH_gamma0_flatDB']\n",
      "Threshould value is 0.46987188112966866\n",
      "Write csv and shp, Method=otsu  Img=s1_unit_mean_  Band=['VV_gamma0_flatDB']\n",
      "Method 2 otsu Band=['VV_gamma0_flatDB', 'VH_gamma0_flatDB'],continue\n"
     ]
    },
    {
     "name": "stderr",
     "output_type": "stream",
     "text": [
      "/root/GEE/Extract_algorithm.py:229: RuntimeWarning: invalid value encountered in divide\n",
      "  higher = (csum_intensity[-1] - csum_intensity[:-1]) / (csumh[:-1]+sys.float_info.min)\n"
     ]
    },
    {
     "name": "stdout",
     "output_type": "stream",
     "text": [
      "Threshould value is 0.46987188112966866\n",
      "Write csv and shp, Method=isodata  Img=s1_unit_mean_  Band=['VV_gamma0_flatDB']\n",
      "Method 2 isodata Band=['VV_gamma0_flatDB', 'VH_gamma0_flatDB'],continue\n",
      "该函数运行了 152.46232 秒\n"
     ]
    },
    {
     "name": "stderr",
     "output_type": "stream",
     "text": [
      " 55%|#####4    | 134/244 [6:13:01<5:40:47, 185.88s/it]"
     ]
    },
    {
     "name": "stdout",
     "output_type": "stream",
     "text": [
      "Begin Filter ...\n"
     ]
    },
    {
     "name": "stderr",
     "output_type": "stream",
     "text": [
      "\n",
      "100%|##########| 10/10 [00:00<00:00, 1646.63it/s]\n",
      "\n",
      "100%|##########| 10/10 [00:00<00:00, 649.17it/s]\n",
      "\n",
      "100%|##########| 12/12 [00:00<00:00, 1734.08it/s]\n",
      "\n",
      "100%|##########| 12/12 [00:00<00:00, 626.13it/s]\n"
     ]
    },
    {
     "name": "stdout",
     "output_type": "stream",
     "text": [
      "Method 1 Kmean Band=['VV_gamma0_flatDB'],continue\n",
      "Write csv and shp, Method=Kmean  Img=s1_unit_mean_  Band=['VV_gamma0_flatDB', 'VH_gamma0_flatDB']\n",
      "Method 1 SNIC_Kmean Band=['VV_gamma0_flatDB'],continue\n",
      "Write csv and shp, Method=SNIC_Kmean  Img=s1_unit_mean_  Band=['VV_gamma0_flatDB', 'VH_gamma0_flatDB']\n",
      "Write csv and shp, Method=SNIC_Kmean  Img=s1_unit_mean_  Band=['VV_gamma0_flatDB', 'VH_gamma0_flatDB']\n",
      "Method 1 Xmeans Band=['VV_gamma0_flatDB'],continue\n",
      "Write csv and shp, Method=Xmeans  Img=s1_unit_mean_  Band=['VV_gamma0_flatDB', 'VH_gamma0_flatDB']\n",
      "Method 1 CascadeKMeans Band=['VV_gamma0_flatDB'],continue\n",
      "Write csv and shp, Method=CascadeKMeans  Img=s1_unit_mean_  Band=['VV_gamma0_flatDB', 'VH_gamma0_flatDB']\n",
      "Threshould value is 0.5048828125\n",
      "Write csv and shp, Method=otsu  Img=s1_unit_mean_  Band=['VV_gamma0_flatDB']\n",
      "Method 2 otsu Band=['VV_gamma0_flatDB', 'VH_gamma0_flatDB'],continue\n"
     ]
    },
    {
     "name": "stderr",
     "output_type": "stream",
     "text": [
      "/root/GEE/Extract_algorithm.py:229: RuntimeWarning: invalid value encountered in divide\n",
      "  higher = (csum_intensity[-1] - csum_intensity[:-1]) / (csumh[:-1]+sys.float_info.min)\n"
     ]
    },
    {
     "name": "stdout",
     "output_type": "stream",
     "text": [
      "Threshould value is 0.4990234375\n",
      "Write csv and shp, Method=isodata  Img=s1_unit_mean_  Band=['VV_gamma0_flatDB']\n",
      "Method 2 isodata Band=['VV_gamma0_flatDB', 'VH_gamma0_flatDB'],continue\n",
      "该函数运行了 147.30762 秒\n"
     ]
    },
    {
     "name": "stderr",
     "output_type": "stream",
     "text": [
      " 55%|#####5    | 135/244 [6:15:28<5:16:40, 174.31s/it]"
     ]
    },
    {
     "name": "stdout",
     "output_type": "stream",
     "text": [
      "Begin Filter ...\n"
     ]
    },
    {
     "name": "stderr",
     "output_type": "stream",
     "text": [
      "\n",
      "100%|##########| 18/18 [00:00<00:00, 1977.93it/s]\n",
      "\n",
      "100%|##########| 18/18 [00:00<00:00, 399.38it/s]\n",
      "\n",
      "100%|##########| 17/17 [00:00<00:00, 1973.19it/s]\n",
      "\n",
      "100%|##########| 17/17 [00:00<00:00, 479.53it/s]\n"
     ]
    },
    {
     "name": "stdout",
     "output_type": "stream",
     "text": [
      "Method 1 Kmean Band=['VV_gamma0_flatDB'],continue\n",
      "Write csv and shp, Method=Kmean  Img=s1_unit_mean_  Band=['VV_gamma0_flatDB', 'VH_gamma0_flatDB']\n",
      "Method 1 SNIC_Kmean Band=['VV_gamma0_flatDB'],continue\n",
      "Write csv and shp, Method=SNIC_Kmean  Img=s1_unit_mean_  Band=['VV_gamma0_flatDB', 'VH_gamma0_flatDB']\n",
      "Write csv and shp, Method=SNIC_Kmean  Img=s1_unit_mean_  Band=['VV_gamma0_flatDB', 'VH_gamma0_flatDB']\n",
      "Method 1 Xmeans Band=['VV_gamma0_flatDB'],continue\n",
      "Write csv and shp, Method=Xmeans  Img=s1_unit_mean_  Band=['VV_gamma0_flatDB', 'VH_gamma0_flatDB']\n",
      "Method 1 CascadeKMeans Band=['VV_gamma0_flatDB'],continue\n",
      "Write csv and shp, Method=CascadeKMeans  Img=s1_unit_mean_  Band=['VV_gamma0_flatDB', 'VH_gamma0_flatDB']\n",
      "Threshould value is 0.40725568708885895\n",
      "Write csv and shp, Method=otsu  Img=s1_unit_mean_  Band=['VV_gamma0_flatDB']\n",
      "Method 2 otsu Band=['VV_gamma0_flatDB', 'VH_gamma0_flatDB'],continue\n"
     ]
    },
    {
     "name": "stderr",
     "output_type": "stream",
     "text": [
      "/root/GEE/Extract_algorithm.py:229: RuntimeWarning: invalid value encountered in divide\n",
      "  higher = (csum_intensity[-1] - csum_intensity[:-1]) / (csumh[:-1]+sys.float_info.min)\n"
     ]
    },
    {
     "name": "stdout",
     "output_type": "stream",
     "text": [
      "Threshould value is 0.4096759202791833\n",
      "Write csv and shp, Method=isodata  Img=s1_unit_mean_  Band=['VV_gamma0_flatDB']\n",
      "Method 2 isodata Band=['VV_gamma0_flatDB', 'VH_gamma0_flatDB'],continue\n",
      "该函数运行了 134.82588 秒\n"
     ]
    },
    {
     "name": "stderr",
     "output_type": "stream",
     "text": [
      " 56%|#####5    | 136/244 [6:17:43<4:52:26, 162.47s/it]"
     ]
    },
    {
     "name": "stdout",
     "output_type": "stream",
     "text": [
      "Begin Filter ...\n"
     ]
    },
    {
     "name": "stderr",
     "output_type": "stream",
     "text": [
      "\n",
      "100%|##########| 18/18 [00:00<00:00, 1819.57it/s]\n",
      "\n",
      "100%|##########| 18/18 [00:00<00:00, 923.45it/s]\n",
      "\n",
      "100%|##########| 18/18 [00:00<00:00, 1850.56it/s]\n",
      "\n",
      "100%|##########| 18/18 [00:00<00:00, 1012.98it/s]\n"
     ]
    },
    {
     "name": "stdout",
     "output_type": "stream",
     "text": [
      "Method 1 Kmean Band=['VV_gamma0_flatDB'],continue\n",
      "Write csv and shp, Method=Kmean  Img=s1_unit_mean_  Band=['VV_gamma0_flatDB', 'VH_gamma0_flatDB']\n",
      "Method 1 SNIC_Kmean Band=['VV_gamma0_flatDB'],continue\n",
      "Write csv and shp, Method=SNIC_Kmean  Img=s1_unit_mean_  Band=['VV_gamma0_flatDB', 'VH_gamma0_flatDB']\n",
      "Write csv and shp, Method=SNIC_Kmean  Img=s1_unit_mean_  Band=['VV_gamma0_flatDB', 'VH_gamma0_flatDB']\n",
      "Method 1 Xmeans Band=['VV_gamma0_flatDB'],continue\n",
      "Write csv and shp, Method=Xmeans  Img=s1_unit_mean_  Band=['VV_gamma0_flatDB', 'VH_gamma0_flatDB']\n",
      "Method 1 CascadeKMeans Band=['VV_gamma0_flatDB'],continue\n",
      "Write csv and shp, Method=CascadeKMeans  Img=s1_unit_mean_  Band=['VV_gamma0_flatDB', 'VH_gamma0_flatDB']\n",
      "Threshould value is 0.4761298214525501\n",
      "Write csv and shp, Method=otsu  Img=s1_unit_mean_  Band=['VV_gamma0_flatDB']\n",
      "Method 2 otsu Band=['VV_gamma0_flatDB', 'VH_gamma0_flatDB'],continue\n"
     ]
    },
    {
     "name": "stderr",
     "output_type": "stream",
     "text": [
      "/root/GEE/Extract_algorithm.py:229: RuntimeWarning: invalid value encountered in divide\n",
      "  higher = (csum_intensity[-1] - csum_intensity[:-1]) / (csumh[:-1]+sys.float_info.min)\n"
     ]
    },
    {
     "name": "stdout",
     "output_type": "stream",
     "text": [
      "Threshould value is 0.4795030294805063\n",
      "Write csv and shp, Method=isodata  Img=s1_unit_mean_  Band=['VV_gamma0_flatDB']\n",
      "Method 2 isodata Band=['VV_gamma0_flatDB', 'VH_gamma0_flatDB'],continue\n",
      "该函数运行了 133.50312 秒\n"
     ]
    },
    {
     "name": "stderr",
     "output_type": "stream",
     "text": [
      " 56%|#####6    | 137/244 [6:19:57<4:34:14, 153.78s/it]"
     ]
    },
    {
     "name": "stdout",
     "output_type": "stream",
     "text": [
      "Begin Filter ...\n"
     ]
    },
    {
     "name": "stderr",
     "output_type": "stream",
     "text": [
      "\n",
      "100%|##########| 13/13 [00:00<00:00, 1701.28it/s]\n",
      "\n",
      "100%|##########| 13/13 [00:00<00:00, 500.69it/s]\n",
      "\n",
      "100%|##########| 13/13 [00:00<00:00, 1823.49it/s]\n",
      "\n",
      "100%|##########| 13/13 [00:00<00:00, 591.86it/s]\n"
     ]
    },
    {
     "name": "stdout",
     "output_type": "stream",
     "text": [
      "Method 1 Kmean Band=['VV_gamma0_flatDB'],continue\n",
      "Write csv and shp, Method=Kmean  Img=s1_unit_mean_  Band=['VV_gamma0_flatDB', 'VH_gamma0_flatDB']\n",
      "Method 1 SNIC_Kmean Band=['VV_gamma0_flatDB'],continue\n",
      "Write csv and shp, Method=SNIC_Kmean  Img=s1_unit_mean_  Band=['VV_gamma0_flatDB', 'VH_gamma0_flatDB']\n",
      "Write csv and shp, Method=SNIC_Kmean  Img=s1_unit_mean_  Band=['VV_gamma0_flatDB', 'VH_gamma0_flatDB']\n",
      "Method 1 Xmeans Band=['VV_gamma0_flatDB'],continue\n",
      "Write csv and shp, Method=Xmeans  Img=s1_unit_mean_  Band=['VV_gamma0_flatDB', 'VH_gamma0_flatDB']\n",
      "Method 1 CascadeKMeans Band=['VV_gamma0_flatDB'],continue\n",
      "Write csv and shp, Method=CascadeKMeans  Img=s1_unit_mean_  Band=['VV_gamma0_flatDB', 'VH_gamma0_flatDB']\n",
      "Threshould value is 0.4189453125\n",
      "Write csv and shp, Method=otsu  Img=s1_unit_mean_  Band=['VV_gamma0_flatDB']\n",
      "Method 2 otsu Band=['VV_gamma0_flatDB', 'VH_gamma0_flatDB'],continue\n",
      "Threshould value is 0.4189453125\n",
      "Write csv and shp, Method=isodata  Img=s1_unit_mean_  Band=['VV_gamma0_flatDB']\n",
      "Method 2 isodata Band=['VV_gamma0_flatDB', 'VH_gamma0_flatDB'],continue\n",
      "该函数运行了 123.58472 秒\n"
     ]
    },
    {
     "name": "stderr",
     "output_type": "stream",
     "text": [
      " 57%|#####6    | 138/244 [6:22:00<4:15:40, 144.72s/it]"
     ]
    },
    {
     "name": "stdout",
     "output_type": "stream",
     "text": [
      "Begin Filter ...\n"
     ]
    },
    {
     "name": "stderr",
     "output_type": "stream",
     "text": [
      "\n",
      "100%|##########| 13/13 [00:00<00:00, 1696.30it/s]\n",
      "\n",
      "100%|##########| 13/13 [00:00<00:00, 550.43it/s]\n",
      "\n",
      "100%|##########| 13/13 [00:00<00:00, 1473.48it/s]\n",
      "\n",
      "100%|##########| 13/13 [00:00<00:00, 451.56it/s]\n"
     ]
    },
    {
     "name": "stdout",
     "output_type": "stream",
     "text": [
      "Method 1 Kmean Band=['VV_gamma0_flatDB'],continue\n",
      "Write csv and shp, Method=Kmean  Img=s1_unit_mean_  Band=['VV_gamma0_flatDB', 'VH_gamma0_flatDB']\n",
      "Method 1 SNIC_Kmean Band=['VV_gamma0_flatDB'],continue\n",
      "Write csv and shp, Method=SNIC_Kmean  Img=s1_unit_mean_  Band=['VV_gamma0_flatDB', 'VH_gamma0_flatDB']\n",
      "Write csv and shp, Method=SNIC_Kmean  Img=s1_unit_mean_  Band=['VV_gamma0_flatDB', 'VH_gamma0_flatDB']\n",
      "Method 1 Xmeans Band=['VV_gamma0_flatDB'],continue\n",
      "Write csv and shp, Method=Xmeans  Img=s1_unit_mean_  Band=['VV_gamma0_flatDB', 'VH_gamma0_flatDB']\n",
      "Method 1 CascadeKMeans Band=['VV_gamma0_flatDB'],continue\n",
      "Write csv and shp, Method=CascadeKMeans  Img=s1_unit_mean_  Band=['VV_gamma0_flatDB', 'VH_gamma0_flatDB']\n",
      "Threshould value is 0.5871398124561279\n",
      "Write csv and shp, Method=otsu  Img=s1_unit_mean_  Band=['VV_gamma0_flatDB']\n",
      "Method 2 otsu Band=['VV_gamma0_flatDB', 'VH_gamma0_flatDB'],continue\n",
      "Threshould value is 0.5793371912971084\n",
      "Write csv and shp, Method=isodata  Img=s1_unit_mean_  Band=['VV_gamma0_flatDB']\n",
      "Method 2 isodata Band=['VV_gamma0_flatDB', 'VH_gamma0_flatDB'],continue\n",
      "Generating URL ...\n",
      "Downloading data from https://earthengine.googleapis.com/v1/projects/earthengine-legacy/thumbnails/135c5ee6151446c2209a8da8d3de3c5b-9c761983a6b8d7ca46922b97c52733af:getPixels\n",
      "Please wait ...\n",
      "Data downloaded to /root/GEE/2019补齐结果/4838_Ascending_S1A_IW_GRDH_1SDV_20190721T115001_20190721T115026_028215_032FF3_B8E9.tif\n",
      "image save right\n",
      "change image bandNames\n",
      "Generating URL ...\n",
      "Downloading data from https://earthengine.googleapis.com/v1/projects/earthengine-legacy/thumbnails/c5d8e6da827e2d7762b2fb0eb269c1e2-b816c20d4d6e7a2697056754391ddc32:getPixels\n",
      "Please wait ...\n",
      "Data downloaded to /root/GEE/2019补齐结果/4838_Descending_S1A_IW_GRDH_1SDV_20190809T234548_20190809T234613_028499_0338B5_5AC1.tif\n",
      "image save right\n",
      "change image bandNames\n",
      "Generating URL ...\n",
      "Downloading data from https://earthengine.googleapis.com/v1/projects/earthengine-legacy/thumbnails/4b2735d2057a61d8ec7fe7d0a4e8fe72-8af7153423556c0ff88b26e3b5a97e90:getPixels\n",
      "Please wait ...\n",
      "Data downloaded to /root/GEE/2019补齐结果/4838_s2a_sr_median.tif\n",
      "image save right\n",
      "change image bandNames\n",
      "Generating URL ...\n",
      "Downloading data from https://earthengine.googleapis.com/v1/projects/earthengine-legacy/thumbnails/a659e198dc72d18f4755f0fc25b8310e-23408de0d7bf009f560a4d1e3811db2f:getPixels\n",
      "Please wait ...\n",
      "Data downloaded to /root/GEE/2019补齐结果/4838_s1_unit_mean_.tif\n",
      "image save right\n",
      "change image bandNames\n",
      "Generating URL ...\n",
      "Downloading data from https://earthengine.googleapis.com/v1/projects/earthengine-legacy/thumbnails/8807209d160cff837c5522368a6a8a66-db97cce167eb320abdaa93181b767507:getPixels\n",
      "Please wait ...\n",
      "Data downloaded to /root/GEE/2019补齐结果/4838_s1_unit_max_.tif\n",
      "image save right\n",
      "change image bandNames\n",
      "Generating URL ...\n",
      "Downloading data from https://earthengine.googleapis.com/v1/projects/earthengine-legacy/thumbnails/f814d5b06812d2df613aa1f72718e75c-21c93afae2191d72613cfefb5e289881:getPixels\n",
      "Please wait ...\n",
      "Data downloaded to /root/GEE/2019补齐结果/4838_s1_unit_min_.tif\n",
      "image save right\n",
      "change image bandNames\n",
      "Generating URL ...\n",
      "Downloading data from https://earthengine.googleapis.com/v1/projects/earthengine-legacy/thumbnails/a4db3dcbb298bb95b815cb6da078e003-b7e6abe3b41592d2d6cca0e6974d1ac8:getPixels\n",
      "Please wait ...\n",
      "Data downloaded to /root/GEE/2019补齐结果/4838_DistortionAS1A_IW_GRDH_1SDV_20190721T115001_20190721T115026_028215_032FF3_B8E9.tif\n",
      "image save right\n",
      "change image bandNames\n",
      "Generating URL ...\n",
      "Downloading data from https://earthengine.googleapis.com/v1/projects/earthengine-legacy/thumbnails/72b124dbfffa4dc8c749636f67253663-1bafe74be943acd08984fb754dcb9b6a:getPixels\n",
      "Please wait ...\n",
      "Data downloaded to /root/GEE/2019补齐结果/4838_DistortionDS1A_IW_GRDH_1SDV_20190809T234548_20190809T234613_028499_0338B5_5AC1.tif\n",
      "image save right\n",
      "change image bandNames\n",
      "该函数运行了 194.13298 秒\n"
     ]
    },
    {
     "name": "stderr",
     "output_type": "stream",
     "text": [
      " 57%|#####6    | 139/244 [6:25:14<4:39:12, 159.55s/it]"
     ]
    },
    {
     "name": "stdout",
     "output_type": "stream",
     "text": [
      "Begin Filter ...\n"
     ]
    },
    {
     "name": "stderr",
     "output_type": "stream",
     "text": [
      "\n",
      "100%|##########| 14/14 [00:00<00:00, 1776.12it/s]\n",
      "\n",
      "100%|##########| 14/14 [00:00<00:00, 348.50it/s]\n",
      "\n",
      "100%|##########| 15/15 [00:00<00:00, 1949.03it/s]\n",
      "\n",
      "100%|##########| 15/15 [00:00<00:00, 389.16it/s]\n"
     ]
    },
    {
     "name": "stdout",
     "output_type": "stream",
     "text": [
      "Method 1 Kmean Band=['VV_gamma0_flatDB'],continue\n",
      "Write csv and shp, Method=Kmean  Img=s1_unit_mean_  Band=['VV_gamma0_flatDB', 'VH_gamma0_flatDB']\n",
      "Method 1 SNIC_Kmean Band=['VV_gamma0_flatDB'],continue\n",
      "Write csv and shp, Method=SNIC_Kmean  Img=s1_unit_mean_  Band=['VV_gamma0_flatDB', 'VH_gamma0_flatDB']\n",
      "Write csv and shp, Method=SNIC_Kmean  Img=s1_unit_mean_  Band=['VV_gamma0_flatDB', 'VH_gamma0_flatDB']\n",
      "Method 1 Xmeans Band=['VV_gamma0_flatDB'],continue\n",
      "Write csv and shp, Method=Xmeans  Img=s1_unit_mean_  Band=['VV_gamma0_flatDB', 'VH_gamma0_flatDB']\n",
      "Method 1 CascadeKMeans Band=['VV_gamma0_flatDB'],continue\n",
      "Write csv and shp, Method=CascadeKMeans  Img=s1_unit_mean_  Band=['VV_gamma0_flatDB', 'VH_gamma0_flatDB']\n",
      "Threshould value is 0.6294713497799396\n",
      "Write csv and shp, Method=otsu  Img=s1_unit_mean_  Band=['VV_gamma0_flatDB']\n",
      "Method 2 otsu Band=['VV_gamma0_flatDB', 'VH_gamma0_flatDB'],continue\n",
      "Threshould value is 0.6247376833097404\n",
      "Write csv and shp, Method=isodata  Img=s1_unit_mean_  Band=['VV_gamma0_flatDB']\n",
      "Method 2 isodata Band=['VV_gamma0_flatDB', 'VH_gamma0_flatDB'],continue\n",
      "Generating URL ...\n",
      "Downloading data from https://earthengine.googleapis.com/v1/projects/earthengine-legacy/thumbnails/34198e6ff59a6fe006243ee145e7dde5-88a3d99b80eea77c61847cfbf4b67388:getPixels\n",
      "Please wait ...\n",
      "Data downloaded to /root/GEE/2019补齐结果/4839_Ascending_S1A_IW_GRDH_1SDV_20190714T115808_20190714T115833_028113_032CCD_1F8C.tif\n",
      "image save right\n",
      "change image bandNames\n",
      "Generating URL ...\n",
      "Downloading data from https://earthengine.googleapis.com/v1/projects/earthengine-legacy/thumbnails/ea73865b3c9ae4146016d1ee36647118-1639abde4eeed117ec4a4e97f013163d:getPixels\n",
      "Please wait ...\n",
      "Data downloaded to /root/GEE/2019补齐结果/4839_Descending_S1A_IW_GRDH_1SDV_20190721T235404_20190721T235429_028222_033027_8116.tif\n",
      "image save right\n",
      "change image bandNames\n",
      "Generating URL ...\n",
      "Downloading data from https://earthengine.googleapis.com/v1/projects/earthengine-legacy/thumbnails/98bf77f30daa3e2eb2e84390b2010f05-67639c338e3e38aaa76cd50c678ef74e:getPixels\n",
      "Please wait ...\n",
      "Data downloaded to /root/GEE/2019补齐结果/4839_s2a_sr_median.tif\n",
      "image save right\n",
      "change image bandNames\n",
      "Generating URL ...\n",
      "Downloading data from https://earthengine.googleapis.com/v1/projects/earthengine-legacy/thumbnails/d45d8a8be4de2cc3645647ce7a522986-5f48c8056969fea11b1faae2a03b65c8:getPixels\n",
      "Please wait ...\n",
      "Data downloaded to /root/GEE/2019补齐结果/4839_s1_unit_mean_.tif\n",
      "image save right\n",
      "change image bandNames\n",
      "Generating URL ...\n",
      "Downloading data from https://earthengine.googleapis.com/v1/projects/earthengine-legacy/thumbnails/1aa6610467ae683d1f36d9c94184c773-559c79aebfe269546494143cab98acfa:getPixels\n",
      "Please wait ...\n",
      "Data downloaded to /root/GEE/2019补齐结果/4839_s1_unit_max_.tif\n",
      "image save right\n",
      "change image bandNames\n",
      "Generating URL ...\n",
      "Downloading data from https://earthengine.googleapis.com/v1/projects/earthengine-legacy/thumbnails/cecc9a6a928405b27f3d84b873a088a8-9b7cbe88f719fe3922be6a6aa1a615fb:getPixels\n",
      "Please wait ...\n",
      "Data downloaded to /root/GEE/2019补齐结果/4839_s1_unit_min_.tif\n",
      "image save right\n",
      "change image bandNames\n",
      "Generating URL ...\n",
      "Downloading data from https://earthengine.googleapis.com/v1/projects/earthengine-legacy/thumbnails/7840403a1a7c1b8b3ed75672bbe7dbf9-875a4ce9d68dc045602438cc111670da:getPixels\n",
      "Please wait ...\n",
      "Data downloaded to /root/GEE/2019补齐结果/4839_DistortionAS1A_IW_GRDH_1SDV_20190714T115808_20190714T115833_028113_032CCD_1F8C.tif\n",
      "image save right\n",
      "change image bandNames\n",
      "Generating URL ...\n",
      "Downloading data from https://earthengine.googleapis.com/v1/projects/earthengine-legacy/thumbnails/51258776a721d31f54aa6329ab04232d-88ea830fcfd7adf93632081b4cc0c4f0:getPixels\n",
      "Please wait ...\n",
      "Data downloaded to /root/GEE/2019补齐结果/4839_DistortionDS1A_IW_GRDH_1SDV_20190721T235404_20190721T235429_028222_033027_8116.tif\n",
      "image save right\n",
      "change image bandNames\n",
      "该函数运行了 226.33616 秒\n"
     ]
    },
    {
     "name": "stderr",
     "output_type": "stream",
     "text": [
      " 57%|#####7    | 140/244 [6:29:01<5:11:16, 179.59s/it]"
     ]
    },
    {
     "name": "stdout",
     "output_type": "stream",
     "text": [
      "Begin Filter ...\n"
     ]
    },
    {
     "name": "stderr",
     "output_type": "stream",
     "text": [
      "\n",
      "100%|##########| 16/16 [00:00<00:00, 1810.72it/s]\n",
      "\n",
      "100%|##########| 16/16 [00:00<00:00, 448.59it/s]\n",
      "\n",
      "100%|##########| 17/17 [00:00<00:00, 1762.23it/s]\n",
      "\n",
      "100%|##########| 17/17 [00:00<00:00, 438.54it/s]\n"
     ]
    },
    {
     "name": "stdout",
     "output_type": "stream",
     "text": [
      "Method 1 Kmean Band=['VV_gamma0_flatDB'],continue\n",
      "Write csv and shp, Method=Kmean  Img=s1_unit_mean_  Band=['VV_gamma0_flatDB', 'VH_gamma0_flatDB']\n",
      "Method 1 SNIC_Kmean Band=['VV_gamma0_flatDB'],continue\n",
      "Write csv and shp, Method=SNIC_Kmean  Img=s1_unit_mean_  Band=['VV_gamma0_flatDB', 'VH_gamma0_flatDB']\n",
      "Write csv and shp, Method=SNIC_Kmean  Img=s1_unit_mean_  Band=['VV_gamma0_flatDB', 'VH_gamma0_flatDB']\n",
      "Method 1 Xmeans Band=['VV_gamma0_flatDB'],continue\n",
      "Write csv and shp, Method=Xmeans  Img=s1_unit_mean_  Band=['VV_gamma0_flatDB', 'VH_gamma0_flatDB']\n",
      "Method 1 CascadeKMeans Band=['VV_gamma0_flatDB'],continue\n",
      "Write csv and shp, Method=CascadeKMeans  Img=s1_unit_mean_  Band=['VV_gamma0_flatDB', 'VH_gamma0_flatDB']\n",
      "Threshould value is 0.5107421875\n",
      "Write csv and shp, Method=otsu  Img=s1_unit_mean_  Band=['VV_gamma0_flatDB']\n",
      "Method 2 otsu Band=['VV_gamma0_flatDB', 'VH_gamma0_flatDB'],continue\n"
     ]
    },
    {
     "name": "stderr",
     "output_type": "stream",
     "text": [
      "/root/GEE/Extract_algorithm.py:229: RuntimeWarning: invalid value encountered in divide\n",
      "  higher = (csum_intensity[-1] - csum_intensity[:-1]) / (csumh[:-1]+sys.float_info.min)\n"
     ]
    },
    {
     "name": "stdout",
     "output_type": "stream",
     "text": [
      "Threshould value is 0.5146484375\n",
      "Write csv and shp, Method=isodata  Img=s1_unit_mean_  Band=['VV_gamma0_flatDB']\n",
      "Method 2 isodata Band=['VV_gamma0_flatDB', 'VH_gamma0_flatDB'],continue\n",
      "该函数运行了 154.12124 秒\n"
     ]
    },
    {
     "name": "stderr",
     "output_type": "stream",
     "text": [
      " 58%|#####7    | 141/244 [6:31:35<4:55:10, 171.95s/it]"
     ]
    },
    {
     "name": "stdout",
     "output_type": "stream",
     "text": [
      "Begin Filter ...\n"
     ]
    },
    {
     "name": "stderr",
     "output_type": "stream",
     "text": [
      "\n",
      "100%|##########| 11/11 [00:00<00:00, 1717.44it/s]\n",
      "\n",
      "100%|##########| 11/11 [00:00<00:00, 670.92it/s]\n",
      "\n",
      "100%|##########| 10/10 [00:00<00:00, 1303.35it/s]\n",
      "\n",
      "100%|##########| 10/10 [00:00<00:00, 709.76it/s]\n"
     ]
    },
    {
     "name": "stdout",
     "output_type": "stream",
     "text": [
      "Method 1 Kmean Band=['VV_gamma0_flatDB'],continue\n",
      "Write csv and shp, Method=Kmean  Img=s1_unit_mean_  Band=['VV_gamma0_flatDB', 'VH_gamma0_flatDB']\n",
      "Method 1 SNIC_Kmean Band=['VV_gamma0_flatDB'],continue\n",
      "Write csv and shp, Method=SNIC_Kmean  Img=s1_unit_mean_  Band=['VV_gamma0_flatDB', 'VH_gamma0_flatDB']\n",
      "Write csv and shp, Method=SNIC_Kmean  Img=s1_unit_mean_  Band=['VV_gamma0_flatDB', 'VH_gamma0_flatDB']\n",
      "Method 1 Xmeans Band=['VV_gamma0_flatDB'],continue\n",
      "Write csv and shp, Method=Xmeans  Img=s1_unit_mean_  Band=['VV_gamma0_flatDB', 'VH_gamma0_flatDB']\n",
      "Method 1 CascadeKMeans Band=['VV_gamma0_flatDB'],continue\n",
      "Write csv and shp, Method=CascadeKMeans  Img=s1_unit_mean_  Band=['VV_gamma0_flatDB', 'VH_gamma0_flatDB']\n",
      "Threshould value is 0.5830078125\n",
      "Write csv and shp, Method=otsu  Img=s1_unit_mean_  Band=['VV_gamma0_flatDB']\n",
      "Method 2 otsu Band=['VV_gamma0_flatDB', 'VH_gamma0_flatDB'],continue\n"
     ]
    },
    {
     "name": "stderr",
     "output_type": "stream",
     "text": [
      "/root/GEE/Extract_algorithm.py:229: RuntimeWarning: invalid value encountered in divide\n",
      "  higher = (csum_intensity[-1] - csum_intensity[:-1]) / (csumh[:-1]+sys.float_info.min)\n"
     ]
    },
    {
     "name": "stdout",
     "output_type": "stream",
     "text": [
      "Threshould value is 0.5791015625\n",
      "Write csv and shp, Method=isodata  Img=s1_unit_mean_  Band=['VV_gamma0_flatDB']\n",
      "Method 2 isodata Band=['VV_gamma0_flatDB', 'VH_gamma0_flatDB'],continue\n",
      "该函数运行了 150.60947 秒\n"
     ]
    },
    {
     "name": "stderr",
     "output_type": "stream",
     "text": [
      " 58%|#####8    | 142/244 [6:34:06<4:41:25, 165.55s/it]"
     ]
    },
    {
     "name": "stdout",
     "output_type": "stream",
     "text": [
      "Begin Filter ...\n"
     ]
    },
    {
     "name": "stderr",
     "output_type": "stream",
     "text": [
      "\n",
      "100%|##########| 17/17 [00:00<00:00, 1846.28it/s]\n",
      "\n",
      "100%|##########| 17/17 [00:00<00:00, 488.37it/s]\n",
      "\n",
      "100%|##########| 16/16 [00:00<00:00, 1838.20it/s]\n",
      "\n",
      "100%|##########| 16/16 [00:00<00:00, 544.24it/s]\n"
     ]
    },
    {
     "name": "stdout",
     "output_type": "stream",
     "text": [
      "Method 1 Kmean Band=['VV_gamma0_flatDB'],continue\n",
      "Write csv and shp, Method=Kmean  Img=s1_unit_mean_  Band=['VV_gamma0_flatDB', 'VH_gamma0_flatDB']\n",
      "Method 1 SNIC_Kmean Band=['VV_gamma0_flatDB'],continue\n",
      "Write csv and shp, Method=SNIC_Kmean  Img=s1_unit_mean_  Band=['VV_gamma0_flatDB', 'VH_gamma0_flatDB']\n",
      "Write csv and shp, Method=SNIC_Kmean  Img=s1_unit_mean_  Band=['VV_gamma0_flatDB', 'VH_gamma0_flatDB']\n",
      "Method 1 Xmeans Band=['VV_gamma0_flatDB'],continue\n",
      "Write csv and shp, Method=Xmeans  Img=s1_unit_mean_  Band=['VV_gamma0_flatDB', 'VH_gamma0_flatDB']\n",
      "Method 1 CascadeKMeans Band=['VV_gamma0_flatDB'],continue\n",
      "Write csv and shp, Method=CascadeKMeans  Img=s1_unit_mean_  Band=['VV_gamma0_flatDB', 'VH_gamma0_flatDB']\n",
      "Threshould value is 0.49487602251015905\n",
      "Write csv and shp, Method=otsu  Img=s1_unit_mean_  Band=['VV_gamma0_flatDB']\n",
      "Method 2 otsu Band=['VV_gamma0_flatDB', 'VH_gamma0_flatDB'],continue\n",
      "Threshould value is 0.4915804231572827\n",
      "Write csv and shp, Method=isodata  Img=s1_unit_mean_  Band=['VV_gamma0_flatDB']\n",
      "Method 2 isodata Band=['VV_gamma0_flatDB', 'VH_gamma0_flatDB'],continue\n",
      "Generating URL ...\n",
      "Downloading data from https://earthengine.googleapis.com/v1/projects/earthengine-legacy/thumbnails/a18822c0f6283f29810bd4bd786cb810-8486e10fa0f18986bfe37d457f8a6b83:getPixels\n",
      "Please wait ...\n",
      "Data downloaded to /root/GEE/2019补齐结果/4842_Ascending_S1A_IW_GRDH_1SDV_20190714T115743_20190714T115808_028113_032CCD_07AC.tif\n",
      "image save right\n",
      "change image bandNames\n",
      "Generating URL ...\n",
      "Downloading data from https://earthengine.googleapis.com/v1/projects/earthengine-legacy/thumbnails/fbaf1c91fb6238a06858cb2fc30d9f8f-9e0c50662fde2ce8c4d027e68a2309c4:getPixels\n",
      "Please wait ...\n",
      "Data downloaded to /root/GEE/2019补齐结果/4842_Descending_S1A_IW_GRDH_1SDV_20190721T235404_20190721T235429_028222_033027_8116.tif\n",
      "image save right\n",
      "change image bandNames\n",
      "Generating URL ...\n",
      "Downloading data from https://earthengine.googleapis.com/v1/projects/earthengine-legacy/thumbnails/6936e9c7f0905cf08fd5d40f7303d198-23a3a748d3b5ec6ab375c5a43919c50a:getPixels\n",
      "Please wait ...\n",
      "Data downloaded to /root/GEE/2019补齐结果/4842_s2a_sr_median.tif\n",
      "image save right\n",
      "change image bandNames\n",
      "Generating URL ...\n",
      "Downloading data from https://earthengine.googleapis.com/v1/projects/earthengine-legacy/thumbnails/b4c7f3c75c2054be41dddd0b53ffc054-f2cc44325246249e630de8f8b636fc84:getPixels\n",
      "Please wait ...\n",
      "Data downloaded to /root/GEE/2019补齐结果/4842_s1_unit_mean_.tif\n",
      "image save right\n",
      "change image bandNames\n",
      "Generating URL ...\n",
      "Downloading data from https://earthengine.googleapis.com/v1/projects/earthengine-legacy/thumbnails/1495daeb45b970842b867315be2d5799-08b88943f6a573111e2280eadbc2f6b0:getPixels\n",
      "Please wait ...\n",
      "Data downloaded to /root/GEE/2019补齐结果/4842_s1_unit_max_.tif\n",
      "image save right\n",
      "change image bandNames\n",
      "Generating URL ...\n",
      "Downloading data from https://earthengine.googleapis.com/v1/projects/earthengine-legacy/thumbnails/4068ff43d38e907423a3bbfc398f9f4d-3e41d78fcf78c7b140fc66a6c1b11edd:getPixels\n",
      "Please wait ...\n",
      "Data downloaded to /root/GEE/2019补齐结果/4842_s1_unit_min_.tif\n",
      "image save right\n",
      "change image bandNames\n",
      "Generating URL ...\n",
      "Downloading data from https://earthengine.googleapis.com/v1/projects/earthengine-legacy/thumbnails/45351219b041cfb19f2549465c84c547-0a8b5c05f52f34086bdb9f1d6b5d970e:getPixels\n",
      "Please wait ...\n",
      "Data downloaded to /root/GEE/2019补齐结果/4842_DistortionAS1A_IW_GRDH_1SDV_20190714T115743_20190714T115808_028113_032CCD_07AC.tif\n",
      "image save right\n",
      "change image bandNames\n",
      "Generating URL ...\n",
      "Downloading data from https://earthengine.googleapis.com/v1/projects/earthengine-legacy/thumbnails/3425b37b4622a9dcddbda472f8922cf4-d0e9afecd3e9b45e33d8845700d38b82:getPixels\n",
      "Please wait ...\n",
      "Data downloaded to /root/GEE/2019补齐结果/4842_DistortionDS1A_IW_GRDH_1SDV_20190721T235404_20190721T235429_028222_033027_8116.tif\n",
      "image save right\n",
      "change image bandNames\n",
      "该函数运行了 232.62315 秒\n"
     ]
    },
    {
     "name": "stderr",
     "output_type": "stream",
     "text": [
      " 59%|#####8    | 143/244 [6:37:58<5:12:32, 185.67s/it]"
     ]
    },
    {
     "name": "stdout",
     "output_type": "stream",
     "text": [
      "Begin Filter ...\n"
     ]
    },
    {
     "name": "stderr",
     "output_type": "stream",
     "text": [
      "\n",
      "100%|##########| 28/28 [00:00<00:00, 2011.35it/s]\n",
      "\n",
      "  0%|          | 0/28 [00:00<?, ?it/s]\u001b[A\n",
      "100%|##########| 28/28 [00:00<00:00, 202.09it/s]\u001b[A\n",
      "\n",
      "100%|##########| 30/30 [00:00<00:00, 1823.53it/s]\n",
      "\n",
      "  0%|          | 0/30 [00:00<?, ?it/s]\u001b[A\n",
      "100%|##########| 30/30 [00:00<00:00, 236.32it/s]\u001b[A\n"
     ]
    },
    {
     "name": "stdout",
     "output_type": "stream",
     "text": [
      "Method 1 Kmean Band=['VV_gamma0_flatDB'],continue\n",
      "Write csv and shp, Method=Kmean  Img=s1_unit_mean_  Band=['VV_gamma0_flatDB', 'VH_gamma0_flatDB']\n",
      "Method 1 SNIC_Kmean Band=['VV_gamma0_flatDB'],continue\n",
      "Write csv and shp, Method=SNIC_Kmean  Img=s1_unit_mean_  Band=['VV_gamma0_flatDB', 'VH_gamma0_flatDB']\n",
      "Write csv and shp, Method=SNIC_Kmean  Img=s1_unit_mean_  Band=['VV_gamma0_flatDB', 'VH_gamma0_flatDB']\n",
      "Method 1 Xmeans Band=['VV_gamma0_flatDB'],continue\n",
      "Write csv and shp, Method=Xmeans  Img=s1_unit_mean_  Band=['VV_gamma0_flatDB', 'VH_gamma0_flatDB']\n",
      "Method 1 CascadeKMeans Band=['VV_gamma0_flatDB'],continue\n",
      "Write csv and shp, Method=CascadeKMeans  Img=s1_unit_mean_  Band=['VV_gamma0_flatDB', 'VH_gamma0_flatDB']\n",
      "Threshould value is 0.387488533204807\n",
      "Write csv and shp, Method=otsu  Img=s1_unit_mean_  Band=['VV_gamma0_flatDB']\n",
      "Method 2 otsu Band=['VV_gamma0_flatDB', 'VH_gamma0_flatDB'],continue\n"
     ]
    },
    {
     "name": "stderr",
     "output_type": "stream",
     "text": [
      "/root/GEE/Extract_algorithm.py:229: RuntimeWarning: invalid value encountered in divide\n",
      "  higher = (csum_intensity[-1] - csum_intensity[:-1]) / (csumh[:-1]+sys.float_info.min)\n"
     ]
    },
    {
     "name": "stdout",
     "output_type": "stream",
     "text": [
      "Threshould value is 0.38956667700309133\n",
      "Write csv and shp, Method=isodata  Img=s1_unit_mean_  Band=['VV_gamma0_flatDB']\n",
      "Method 2 isodata Band=['VV_gamma0_flatDB', 'VH_gamma0_flatDB'],continue\n",
      "该函数运行了 160.56613 秒\n"
     ]
    },
    {
     "name": "stderr",
     "output_type": "stream",
     "text": [
      " 59%|#####9    | 144/244 [6:40:39<4:56:54, 178.14s/it]"
     ]
    },
    {
     "name": "stdout",
     "output_type": "stream",
     "text": [
      "Begin Filter ...\n"
     ]
    },
    {
     "name": "stderr",
     "output_type": "stream",
     "text": [
      "\n",
      "100%|##########| 12/12 [00:00<00:00, 1783.29it/s]\n",
      "\n",
      "100%|##########| 12/12 [00:00<00:00, 683.21it/s]\n",
      "\n",
      "100%|##########| 12/12 [00:00<00:00, 1364.89it/s]\n",
      "\n",
      "100%|##########| 12/12 [00:00<00:00, 497.16it/s]\n"
     ]
    },
    {
     "name": "stdout",
     "output_type": "stream",
     "text": [
      "Method 1 Kmean Band=['VV_gamma0_flatDB'],continue\n",
      "Write csv and shp, Method=Kmean  Img=s1_unit_mean_  Band=['VV_gamma0_flatDB', 'VH_gamma0_flatDB']\n",
      "Method 1 SNIC_Kmean Band=['VV_gamma0_flatDB'],continue\n",
      "Write csv and shp, Method=SNIC_Kmean  Img=s1_unit_mean_  Band=['VV_gamma0_flatDB', 'VH_gamma0_flatDB']\n",
      "Write csv and shp, Method=SNIC_Kmean  Img=s1_unit_mean_  Band=['VV_gamma0_flatDB', 'VH_gamma0_flatDB']\n",
      "Method 1 Xmeans Band=['VV_gamma0_flatDB'],continue\n",
      "Write csv and shp, Method=Xmeans  Img=s1_unit_mean_  Band=['VV_gamma0_flatDB', 'VH_gamma0_flatDB']\n",
      "Method 1 CascadeKMeans Band=['VV_gamma0_flatDB'],continue\n",
      "Write csv and shp, Method=CascadeKMeans  Img=s1_unit_mean_  Band=['VV_gamma0_flatDB', 'VH_gamma0_flatDB']\n",
      "Threshould value is 0.6806536742830909\n",
      "Write csv and shp, Method=otsu  Img=s1_unit_mean_  Band=['VV_gamma0_flatDB']\n",
      "Method 2 otsu Band=['VV_gamma0_flatDB', 'VH_gamma0_flatDB'],continue\n",
      "Threshould value is 0.6655418091821048\n",
      "Write csv and shp, Method=isodata  Img=s1_unit_mean_  Band=['VV_gamma0_flatDB']\n",
      "Method 2 isodata Band=['VV_gamma0_flatDB', 'VH_gamma0_flatDB'],continue\n",
      "Generating URL ...\n",
      "Downloading data from https://earthengine.googleapis.com/v1/projects/earthengine-legacy/thumbnails/0188e508d6f957a6c9baaf1c22ee9863-226135d406d604973ef8074f1e3ffd03:getPixels\n",
      "Please wait ...\n",
      "Data downloaded to /root/GEE/2019补齐结果/4844_Ascending_S1A_IW_GRDH_1SDV_20190714T115743_20190714T115808_028113_032CCD_07AC.tif\n",
      "image save right\n",
      "change image bandNames\n",
      "Generating URL ...\n",
      "Downloading data from https://earthengine.googleapis.com/v1/projects/earthengine-legacy/thumbnails/4a78cbd3cf79a664e8eeeffc82004067-6561d69452cbc071b30df0bd5156ba87:getPixels\n",
      "Please wait ...\n",
      "Data downloaded to /root/GEE/2019补齐结果/4844_Descending_S1A_IW_GRDH_1SDV_20190721T235404_20190721T235429_028222_033027_8116.tif\n",
      "image save right\n",
      "change image bandNames\n",
      "Generating URL ...\n",
      "Downloading data from https://earthengine.googleapis.com/v1/projects/earthengine-legacy/thumbnails/3787f45254db06b76ec5ae546eab5924-c53d9beaa9aadaf9dd7aa8453a14af73:getPixels\n",
      "Please wait ...\n",
      "Data downloaded to /root/GEE/2019补齐结果/4844_s2a_sr_median.tif\n",
      "image save right\n",
      "change image bandNames\n",
      "Generating URL ...\n",
      "Downloading data from https://earthengine.googleapis.com/v1/projects/earthengine-legacy/thumbnails/b88a9c7c7e70d861650f68932320cbe6-5202227b4edda087e8f82f9aa6001d73:getPixels\n",
      "Please wait ...\n",
      "Data downloaded to /root/GEE/2019补齐结果/4844_s1_unit_mean_.tif\n",
      "image save right\n",
      "change image bandNames\n",
      "Generating URL ...\n",
      "Downloading data from https://earthengine.googleapis.com/v1/projects/earthengine-legacy/thumbnails/6484ad2d0936f24cf6e9b27e4aacd0b5-5627075b4c076e6260bcd956da101d0b:getPixels\n",
      "Please wait ...\n",
      "Data downloaded to /root/GEE/2019补齐结果/4844_s1_unit_max_.tif\n",
      "image save right\n",
      "change image bandNames\n",
      "Generating URL ...\n",
      "Downloading data from https://earthengine.googleapis.com/v1/projects/earthengine-legacy/thumbnails/154b66e33b2042d2d38178a30abd4008-ce1d0f06a9fe302108dbdae55ae886b5:getPixels\n",
      "Please wait ...\n",
      "Data downloaded to /root/GEE/2019补齐结果/4844_s1_unit_min_.tif\n",
      "image save right\n",
      "change image bandNames\n",
      "Generating URL ...\n",
      "Downloading data from https://earthengine.googleapis.com/v1/projects/earthengine-legacy/thumbnails/3ae7866a1f663b5908395271623a30c7-26ddd38625ecdd7c758ff24d4301d661:getPixels\n",
      "Please wait ...\n",
      "Data downloaded to /root/GEE/2019补齐结果/4844_DistortionAS1A_IW_GRDH_1SDV_20190714T115743_20190714T115808_028113_032CCD_07AC.tif\n",
      "image save right\n",
      "change image bandNames\n",
      "Generating URL ...\n",
      "Downloading data from https://earthengine.googleapis.com/v1/projects/earthengine-legacy/thumbnails/8dbc2a64abeff04e3815c63731ca0730-7f07409db999de215ba3abaf24f49a79:getPixels\n",
      "Please wait ...\n",
      "Data downloaded to /root/GEE/2019补齐结果/4844_DistortionDS1A_IW_GRDH_1SDV_20190721T235404_20190721T235429_028222_033027_8116.tif\n",
      "image save right\n",
      "change image bandNames\n",
      "该函数运行了 235.41510 秒\n"
     ]
    },
    {
     "name": "stderr",
     "output_type": "stream",
     "text": [
      " 59%|#####9    | 145/244 [6:44:34<5:22:17, 195.32s/it]"
     ]
    },
    {
     "name": "stdout",
     "output_type": "stream",
     "text": [
      "Begin Filter ...\n"
     ]
    },
    {
     "name": "stderr",
     "output_type": "stream",
     "text": [
      "\n",
      "100%|##########| 12/12 [00:00<00:00, 1788.04it/s]\n",
      "\n",
      "100%|##########| 12/12 [00:00<00:00, 609.32it/s]\n",
      "\n",
      "100%|##########| 12/12 [00:00<00:00, 1635.90it/s]\n",
      "\n",
      "100%|##########| 12/12 [00:00<00:00, 595.88it/s]\n"
     ]
    },
    {
     "name": "stdout",
     "output_type": "stream",
     "text": [
      "Method 1 Kmean Band=['VV_gamma0_flatDB'],continue\n",
      "Write csv and shp, Method=Kmean  Img=s1_unit_mean_  Band=['VV_gamma0_flatDB', 'VH_gamma0_flatDB']\n",
      "Method 1 SNIC_Kmean Band=['VV_gamma0_flatDB'],continue\n",
      "Write csv and shp, Method=SNIC_Kmean  Img=s1_unit_mean_  Band=['VV_gamma0_flatDB', 'VH_gamma0_flatDB']\n",
      "Write csv and shp, Method=SNIC_Kmean  Img=s1_unit_mean_  Band=['VV_gamma0_flatDB', 'VH_gamma0_flatDB']\n",
      "Method 1 Xmeans Band=['VV_gamma0_flatDB'],continue\n",
      "Write csv and shp, Method=Xmeans  Img=s1_unit_mean_  Band=['VV_gamma0_flatDB', 'VH_gamma0_flatDB']\n",
      "Method 1 CascadeKMeans Band=['VV_gamma0_flatDB'],continue\n",
      "Write csv and shp, Method=CascadeKMeans  Img=s1_unit_mean_  Band=['VV_gamma0_flatDB', 'VH_gamma0_flatDB']\n",
      "Threshould value is 0.6964386994746101\n",
      "Write csv and shp, Method=otsu  Img=s1_unit_mean_  Band=['VV_gamma0_flatDB']\n",
      "Method 2 otsu Band=['VV_gamma0_flatDB', 'VH_gamma0_flatDB'],continue\n",
      "Threshould value is 0.5576171875\n",
      "Write csv and shp, Method=isodata  Img=s1_unit_mean_  Band=['VV_gamma0_flatDB']\n",
      "Method 2 isodata Band=['VV_gamma0_flatDB', 'VH_gamma0_flatDB'],continue\n",
      "Generating URL ...\n",
      "Downloading data from https://earthengine.googleapis.com/v1/projects/earthengine-legacy/thumbnails/9edd07921e52cb20b2265a7f60ebe6f7-7cdf5c16905f577b65a8e2eaf644f545:getPixels\n",
      "Please wait ...\n",
      "Data downloaded to /root/GEE/2019补齐结果/4845_Ascending_S1A_IW_GRDH_1SDV_20190714T115743_20190714T115808_028113_032CCD_07AC.tif\n",
      "image save right\n",
      "change image bandNames\n",
      "Generating URL ...\n",
      "Downloading data from https://earthengine.googleapis.com/v1/projects/earthengine-legacy/thumbnails/a1bd15830812b0b46ff43789a711304b-dddb0292ad2b124787fcf1ec20636b71:getPixels\n",
      "Please wait ...\n",
      "Data downloaded to /root/GEE/2019补齐结果/4845_Descending_S1A_IW_GRDH_1SDV_20190809T234613_20190809T234638_028499_0338B5_13E6.tif\n",
      "image save right\n",
      "change image bandNames\n",
      "Generating URL ...\n",
      "Downloading data from https://earthengine.googleapis.com/v1/projects/earthengine-legacy/thumbnails/6c158ffeffb1e0193aba7fc4eef5375a-7bd88b462920840ce582061793790005:getPixels\n",
      "Please wait ...\n",
      "Data downloaded to /root/GEE/2019补齐结果/4845_s2a_sr_median.tif\n",
      "image save right\n",
      "change image bandNames\n",
      "Generating URL ...\n",
      "Downloading data from https://earthengine.googleapis.com/v1/projects/earthengine-legacy/thumbnails/c1467764b35c9425a65b228910df6972-e9aaa1f3b274744c8b0508e60b3b8cc9:getPixels\n",
      "Please wait ...\n",
      "Data downloaded to /root/GEE/2019补齐结果/4845_s1_unit_mean_.tif\n",
      "image save right\n",
      "change image bandNames\n",
      "Generating URL ...\n",
      "Downloading data from https://earthengine.googleapis.com/v1/projects/earthengine-legacy/thumbnails/efed7c999d2999e16f1a15c1caab8045-8dc32430af64d880d849ec4e26a85413:getPixels\n",
      "Please wait ...\n",
      "Data downloaded to /root/GEE/2019补齐结果/4845_s1_unit_max_.tif\n",
      "image save right\n",
      "change image bandNames\n",
      "Generating URL ...\n",
      "Downloading data from https://earthengine.googleapis.com/v1/projects/earthengine-legacy/thumbnails/2571acc3191ab77031a36982e898e86a-83c9429e48a6a75abb1c8d377a7aef4a:getPixels\n",
      "Please wait ...\n",
      "Data downloaded to /root/GEE/2019补齐结果/4845_s1_unit_min_.tif\n",
      "image save right\n",
      "change image bandNames\n",
      "Generating URL ...\n",
      "Downloading data from https://earthengine.googleapis.com/v1/projects/earthengine-legacy/thumbnails/23419d532350ab688d3a378d87545de8-d82b88a3fa4264b676d515915d3e3553:getPixels\n",
      "Please wait ...\n",
      "Data downloaded to /root/GEE/2019补齐结果/4845_DistortionAS1A_IW_GRDH_1SDV_20190714T115743_20190714T115808_028113_032CCD_07AC.tif\n",
      "image save right\n",
      "change image bandNames\n",
      "Generating URL ...\n",
      "Downloading data from https://earthengine.googleapis.com/v1/projects/earthengine-legacy/thumbnails/25f5551d44b69b5abeb9256ea3928d73-f1beb5c560b10aa72af62e15eb317817:getPixels\n",
      "Please wait ...\n",
      "Data downloaded to /root/GEE/2019补齐结果/4845_DistortionDS1A_IW_GRDH_1SDV_20190809T234613_20190809T234638_028499_0338B5_13E6.tif\n",
      "image save right\n",
      "change image bandNames\n",
      "该函数运行了 218.65760 秒\n"
     ]
    },
    {
     "name": "stderr",
     "output_type": "stream",
     "text": [
      " 60%|#####9    | 146/244 [6:48:13<5:30:27, 202.33s/it]"
     ]
    },
    {
     "name": "stdout",
     "output_type": "stream",
     "text": [
      "Begin Filter ...\n"
     ]
    },
    {
     "name": "stderr",
     "output_type": "stream",
     "text": [
      "\n",
      "100%|##########| 14/14 [00:00<00:00, 1881.52it/s]\n",
      "\n",
      "100%|##########| 14/14 [00:00<00:00, 601.49it/s]\n",
      "\n",
      "100%|##########| 14/14 [00:00<00:00, 1864.25it/s]\n",
      "\n",
      "100%|##########| 14/14 [00:00<00:00, 675.75it/s]\n"
     ]
    },
    {
     "name": "stdout",
     "output_type": "stream",
     "text": [
      "Method 1 Kmean Band=['VV_gamma0_flatDB'],continue\n",
      "Write csv and shp, Method=Kmean  Img=s1_unit_mean_  Band=['VV_gamma0_flatDB', 'VH_gamma0_flatDB']\n",
      "Method 1 SNIC_Kmean Band=['VV_gamma0_flatDB'],continue\n",
      "Write csv and shp, Method=SNIC_Kmean  Img=s1_unit_mean_  Band=['VV_gamma0_flatDB', 'VH_gamma0_flatDB']\n",
      "Write csv and shp, Method=SNIC_Kmean  Img=s1_unit_mean_  Band=['VV_gamma0_flatDB', 'VH_gamma0_flatDB']\n",
      "Method 1 Xmeans Band=['VV_gamma0_flatDB'],continue\n",
      "Write csv and shp, Method=Xmeans  Img=s1_unit_mean_  Band=['VV_gamma0_flatDB', 'VH_gamma0_flatDB']\n",
      "Method 1 CascadeKMeans Band=['VV_gamma0_flatDB'],continue\n",
      "Write csv and shp, Method=CascadeKMeans  Img=s1_unit_mean_  Band=['VV_gamma0_flatDB', 'VH_gamma0_flatDB']\n",
      "Threshould value is 0.49519453266795427\n",
      "Write csv and shp, Method=otsu  Img=s1_unit_mean_  Band=['VV_gamma0_flatDB']\n",
      "Method 2 otsu Band=['VV_gamma0_flatDB', 'VH_gamma0_flatDB'],continue\n",
      "Threshould value is 0.49519453266795427\n",
      "Write csv and shp, Method=isodata  Img=s1_unit_mean_  Band=['VV_gamma0_flatDB']\n",
      "Method 2 isodata Band=['VV_gamma0_flatDB', 'VH_gamma0_flatDB'],continue\n",
      "该函数运行了 136.27928 秒\n"
     ]
    },
    {
     "name": "stderr",
     "output_type": "stream",
     "text": [
      " 60%|######    | 147/244 [6:50:29<4:55:03, 182.51s/it]"
     ]
    },
    {
     "name": "stdout",
     "output_type": "stream",
     "text": [
      "Begin Filter ...\n"
     ]
    },
    {
     "name": "stderr",
     "output_type": "stream",
     "text": [
      "\n",
      "100%|##########| 17/17 [00:00<00:00, 1928.15it/s]\n",
      "\n",
      "100%|##########| 17/17 [00:00<00:00, 556.98it/s]\n",
      "\n",
      "100%|##########| 17/17 [00:00<00:00, 1797.05it/s]\n",
      "\n",
      "100%|##########| 17/17 [00:00<00:00, 451.31it/s]\n"
     ]
    },
    {
     "name": "stdout",
     "output_type": "stream",
     "text": [
      "Method 1 Kmean Band=['VV_gamma0_flatDB'],continue\n",
      "Write csv and shp, Method=Kmean  Img=s1_unit_mean_  Band=['VV_gamma0_flatDB', 'VH_gamma0_flatDB']\n",
      "Method 1 SNIC_Kmean Band=['VV_gamma0_flatDB'],continue\n",
      "Write csv and shp, Method=SNIC_Kmean  Img=s1_unit_mean_  Band=['VV_gamma0_flatDB', 'VH_gamma0_flatDB']\n",
      "Write csv and shp, Method=SNIC_Kmean  Img=s1_unit_mean_  Band=['VV_gamma0_flatDB', 'VH_gamma0_flatDB']\n",
      "Method 1 Xmeans Band=['VV_gamma0_flatDB'],continue\n",
      "Write csv and shp, Method=Xmeans  Img=s1_unit_mean_  Band=['VV_gamma0_flatDB', 'VH_gamma0_flatDB']\n",
      "Method 1 CascadeKMeans Band=['VV_gamma0_flatDB'],continue\n",
      "Write csv and shp, Method=CascadeKMeans  Img=s1_unit_mean_  Band=['VV_gamma0_flatDB', 'VH_gamma0_flatDB']\n",
      "Threshould value is 0.5612572634058313\n",
      "Write csv and shp, Method=otsu  Img=s1_unit_mean_  Band=['VV_gamma0_flatDB']\n",
      "Method 2 otsu Band=['VV_gamma0_flatDB', 'VH_gamma0_flatDB'],continue\n",
      "Threshould value is 0.5596788188949641\n",
      "Write csv and shp, Method=isodata  Img=s1_unit_mean_  Band=['VV_gamma0_flatDB']\n",
      "Method 2 isodata Band=['VV_gamma0_flatDB', 'VH_gamma0_flatDB'],continue\n",
      "该函数运行了 158.59430 秒\n"
     ]
    },
    {
     "name": "stderr",
     "output_type": "stream",
     "text": [
      " 61%|######    | 148/244 [6:53:08<4:40:32, 175.34s/it]"
     ]
    },
    {
     "name": "stdout",
     "output_type": "stream",
     "text": [
      "Begin Filter ...\n"
     ]
    },
    {
     "name": "stderr",
     "output_type": "stream",
     "text": [
      "\n",
      "100%|##########| 11/11 [00:00<00:00, 1723.67it/s]\n",
      "\n",
      "100%|##########| 11/11 [00:00<00:00, 579.52it/s]\n",
      "\n",
      "100%|##########| 11/11 [00:00<00:00, 1630.18it/s]\n",
      "\n",
      "100%|##########| 11/11 [00:00<00:00, 768.79it/s]\n"
     ]
    },
    {
     "name": "stdout",
     "output_type": "stream",
     "text": [
      "Method 1 Kmean Band=['VV_gamma0_flatDB'],continue\n",
      "Write csv and shp, Method=Kmean  Img=s1_unit_mean_  Band=['VV_gamma0_flatDB', 'VH_gamma0_flatDB']\n",
      "Method 1 SNIC_Kmean Band=['VV_gamma0_flatDB'],continue\n",
      "Write csv and shp, Method=SNIC_Kmean  Img=s1_unit_mean_  Band=['VV_gamma0_flatDB', 'VH_gamma0_flatDB']\n",
      "Write csv and shp, Method=SNIC_Kmean  Img=s1_unit_mean_  Band=['VV_gamma0_flatDB', 'VH_gamma0_flatDB']\n",
      "Method 1 Xmeans Band=['VV_gamma0_flatDB'],continue\n",
      "Write csv and shp, Method=Xmeans  Img=s1_unit_mean_  Band=['VV_gamma0_flatDB', 'VH_gamma0_flatDB']\n",
      "Method 1 CascadeKMeans Band=['VV_gamma0_flatDB'],continue\n",
      "Write csv and shp, Method=CascadeKMeans  Img=s1_unit_mean_  Band=['VV_gamma0_flatDB', 'VH_gamma0_flatDB']\n",
      "Threshould value is 0.4482878193855101\n",
      "Write csv and shp, Method=otsu  Img=s1_unit_mean_  Band=['VV_gamma0_flatDB']\n",
      "Method 2 otsu Band=['VV_gamma0_flatDB', 'VH_gamma0_flatDB'],continue\n"
     ]
    },
    {
     "name": "stderr",
     "output_type": "stream",
     "text": [
      "/root/GEE/Extract_algorithm.py:229: RuntimeWarning: invalid value encountered in divide\n",
      "  higher = (csum_intensity[-1] - csum_intensity[:-1]) / (csumh[:-1]+sys.float_info.min)\n"
     ]
    },
    {
     "name": "stdout",
     "output_type": "stream",
     "text": [
      "Threshould value is 0.4482878193855101\n",
      "Write csv and shp, Method=isodata  Img=s1_unit_mean_  Band=['VV_gamma0_flatDB']\n",
      "Method 2 isodata Band=['VV_gamma0_flatDB', 'VH_gamma0_flatDB'],continue\n",
      "Generating URL ...\n",
      "Downloading data from https://earthengine.googleapis.com/v1/projects/earthengine-legacy/thumbnails/87ac8f784eb2275e3de6a9baf8573dde-64e71d1ecb0aeb0dee474a1a3b1a4e16:getPixels\n",
      "Please wait ...\n",
      "Data downloaded to /root/GEE/2019补齐结果/4848_Ascending_S1A_IW_GRDH_1SDV_20190714T115743_20190714T115808_028113_032CCD_07AC.tif\n",
      "image save right\n",
      "change image bandNames\n",
      "Generating URL ...\n",
      "Downloading data from https://earthengine.googleapis.com/v1/projects/earthengine-legacy/thumbnails/87b448e70701fd139d7bde44cffbc38a-d0fb0d54ea768693d1c8fdeb9dada2c3:getPixels\n",
      "Please wait ...\n",
      "Data downloaded to /root/GEE/2019补齐结果/4848_Descending_S1A_IW_GRDH_1SDV_20190809T234613_20190809T234638_028499_0338B5_13E6.tif\n",
      "image save right\n",
      "change image bandNames\n",
      "Generating URL ...\n",
      "Downloading data from https://earthengine.googleapis.com/v1/projects/earthengine-legacy/thumbnails/c474d3f0d42819fc7e860029ade604d7-0c1ad57da59fd47d89e1bd8ba96bfc02:getPixels\n",
      "Please wait ...\n",
      "Data downloaded to /root/GEE/2019补齐结果/4848_s2a_sr_median.tif\n",
      "image save right\n",
      "change image bandNames\n",
      "Generating URL ...\n",
      "Downloading data from https://earthengine.googleapis.com/v1/projects/earthengine-legacy/thumbnails/f7b139ba37e9ea3b0278eb97addd49df-e3540b1ec408152695f526efe256d4d5:getPixels\n",
      "Please wait ...\n",
      "Data downloaded to /root/GEE/2019补齐结果/4848_s1_unit_mean_.tif\n",
      "image save right\n",
      "change image bandNames\n",
      "Generating URL ...\n",
      "Downloading data from https://earthengine.googleapis.com/v1/projects/earthengine-legacy/thumbnails/7cc3786b72f72121eec815425de1341d-cb1e37f373a777d85f37fe40123e497e:getPixels\n",
      "Please wait ...\n",
      "Data downloaded to /root/GEE/2019补齐结果/4848_s1_unit_max_.tif\n",
      "image save right\n",
      "change image bandNames\n",
      "Generating URL ...\n",
      "Downloading data from https://earthengine.googleapis.com/v1/projects/earthengine-legacy/thumbnails/bebd81f0b5e0952037c867e6a59d1892-eb05eb0797bc5b54a9841320bf2bd9e5:getPixels\n",
      "Please wait ...\n",
      "Data downloaded to /root/GEE/2019补齐结果/4848_s1_unit_min_.tif\n",
      "image save right\n",
      "change image bandNames\n",
      "Generating URL ...\n",
      "Downloading data from https://earthengine.googleapis.com/v1/projects/earthengine-legacy/thumbnails/1194c3bfe203aec9c8536575aa459eca-519a0270ba6f88cd9f1f2eff6859a8de:getPixels\n",
      "Please wait ...\n",
      "Data downloaded to /root/GEE/2019补齐结果/4848_DistortionAS1A_IW_GRDH_1SDV_20190714T115743_20190714T115808_028113_032CCD_07AC.tif\n",
      "image save right\n",
      "change image bandNames\n",
      "Generating URL ...\n",
      "Downloading data from https://earthengine.googleapis.com/v1/projects/earthengine-legacy/thumbnails/5ba89e62c9301cad7635e7cf5b2a22b8-b9378b43bd7e03552d498c481c12effb:getPixels\n",
      "Please wait ...\n",
      "Data downloaded to /root/GEE/2019补齐结果/4848_DistortionDS1A_IW_GRDH_1SDV_20190809T234613_20190809T234638_028499_0338B5_13E6.tif\n",
      "image save right\n",
      "change image bandNames\n",
      "该函数运行了 211.60869 秒\n"
     ]
    },
    {
     "name": "stderr",
     "output_type": "stream",
     "text": [
      " 61%|######1   | 149/244 [6:56:39<4:54:51, 186.22s/it]"
     ]
    },
    {
     "name": "stdout",
     "output_type": "stream",
     "text": [
      "Begin Filter ...\n"
     ]
    },
    {
     "name": "stderr",
     "output_type": "stream",
     "text": [
      "\n",
      "100%|##########| 16/16 [00:00<00:00, 1541.67it/s]\n",
      "\n",
      "100%|##########| 16/16 [00:00<00:00, 459.94it/s]\n",
      "\n",
      "100%|##########| 15/15 [00:00<00:00, 1910.26it/s]\n",
      "\n",
      "100%|##########| 15/15 [00:00<00:00, 1099.71it/s]\n"
     ]
    },
    {
     "name": "stdout",
     "output_type": "stream",
     "text": [
      "Method 1 Kmean Band=['VV_gamma0_flatDB'],continue\n",
      "Write csv and shp, Method=Kmean  Img=s1_unit_mean_  Band=['VV_gamma0_flatDB', 'VH_gamma0_flatDB']\n",
      "Method 1 SNIC_Kmean Band=['VV_gamma0_flatDB'],continue\n",
      "Write csv and shp, Method=SNIC_Kmean  Img=s1_unit_mean_  Band=['VV_gamma0_flatDB', 'VH_gamma0_flatDB']\n",
      "Write csv and shp, Method=SNIC_Kmean  Img=s1_unit_mean_  Band=['VV_gamma0_flatDB', 'VH_gamma0_flatDB']\n",
      "Method 1 Xmeans Band=['VV_gamma0_flatDB'],continue\n",
      "Write csv and shp, Method=Xmeans  Img=s1_unit_mean_  Band=['VV_gamma0_flatDB', 'VH_gamma0_flatDB']\n",
      "Method 1 CascadeKMeans Band=['VV_gamma0_flatDB'],continue\n",
      "Write csv and shp, Method=CascadeKMeans  Img=s1_unit_mean_  Band=['VV_gamma0_flatDB', 'VH_gamma0_flatDB']\n",
      "Threshould value is 0.5694294148240477\n",
      "Write csv and shp, Method=otsu  Img=s1_unit_mean_  Band=['VV_gamma0_flatDB']\n",
      "Method 2 otsu Band=['VV_gamma0_flatDB', 'VH_gamma0_flatDB'],continue\n"
     ]
    },
    {
     "name": "stderr",
     "output_type": "stream",
     "text": [
      "/root/GEE/Extract_algorithm.py:229: RuntimeWarning: invalid value encountered in divide\n",
      "  higher = (csum_intensity[-1] - csum_intensity[:-1]) / (csumh[:-1]+sys.float_info.min)\n"
     ]
    },
    {
     "name": "stdout",
     "output_type": "stream",
     "text": [
      "Threshould value is 0.5360616316455429\n",
      "Write csv and shp, Method=isodata  Img=s1_unit_mean_  Band=['VV_gamma0_flatDB']\n",
      "Method 2 isodata Band=['VV_gamma0_flatDB', 'VH_gamma0_flatDB'],continue\n",
      "Generating URL ...\n",
      "Downloading data from https://earthengine.googleapis.com/v1/projects/earthengine-legacy/thumbnails/0ad2958d84c021febca3c7e75269ad34-9f794d3883127f4a3e8cd761f799ba59:getPixels\n",
      "Please wait ...\n",
      "Data downloaded to /root/GEE/2019补齐结果/4849_Ascending_S1A_IW_GRDH_1SDV_20190721T115001_20190721T115026_028215_032FF3_B8E9.tif\n",
      "image save right\n",
      "change image bandNames\n",
      "Generating URL ...\n",
      "Downloading data from https://earthengine.googleapis.com/v1/projects/earthengine-legacy/thumbnails/85ee04da440bafeb43828882a5abdd77-59ae881e017fff0ad7fe27459f458e2a:getPixels\n",
      "Please wait ...\n",
      "Data downloaded to /root/GEE/2019补齐结果/4849_Descending_S1A_IW_GRDH_1SDV_20190809T234548_20190809T234613_028499_0338B5_5AC1.tif\n",
      "image save right\n",
      "change image bandNames\n",
      "Generating URL ...\n",
      "Downloading data from https://earthengine.googleapis.com/v1/projects/earthengine-legacy/thumbnails/74848a0f875c386ba77c8c8502bd2b1f-b03d7d37039d0af83d8c1a4ff1ab12e1:getPixels\n",
      "Please wait ...\n",
      "Data downloaded to /root/GEE/2019补齐结果/4849_s2a_sr_median.tif\n",
      "image save right\n",
      "change image bandNames\n",
      "Generating URL ...\n",
      "Downloading data from https://earthengine.googleapis.com/v1/projects/earthengine-legacy/thumbnails/2394d230c2e2361d538b1c7129345b1a-9937db0ffe3dbe1dc01e59563937ae96:getPixels\n",
      "Please wait ...\n",
      "Data downloaded to /root/GEE/2019补齐结果/4849_s1_unit_mean_.tif\n",
      "image save right\n",
      "change image bandNames\n",
      "Generating URL ...\n",
      "Downloading data from https://earthengine.googleapis.com/v1/projects/earthengine-legacy/thumbnails/327c82b4d3bdf10a46a58148f9a56bbb-379909f6f854aabe9f09940484c396ec:getPixels\n",
      "Please wait ...\n",
      "Data downloaded to /root/GEE/2019补齐结果/4849_s1_unit_max_.tif\n",
      "image save right\n",
      "change image bandNames\n",
      "Generating URL ...\n",
      "Downloading data from https://earthengine.googleapis.com/v1/projects/earthengine-legacy/thumbnails/81dc187da89c993554610ba4a17c05f8-615242e3ed5da4ce53501f504c5958cd:getPixels\n",
      "Please wait ...\n",
      "Data downloaded to /root/GEE/2019补齐结果/4849_s1_unit_min_.tif\n",
      "image save right\n",
      "change image bandNames\n",
      "Generating URL ...\n",
      "Downloading data from https://earthengine.googleapis.com/v1/projects/earthengine-legacy/thumbnails/5b2835fa1949433c1fd935e4d951a8c7-3518763daed96d5ecd3c41040d0ade03:getPixels\n",
      "Please wait ...\n",
      "Data downloaded to /root/GEE/2019补齐结果/4849_DistortionAS1A_IW_GRDH_1SDV_20190721T115001_20190721T115026_028215_032FF3_B8E9.tif\n",
      "image save right\n",
      "change image bandNames\n",
      "Generating URL ...\n",
      "Downloading data from https://earthengine.googleapis.com/v1/projects/earthengine-legacy/thumbnails/bd1dee1aa5e21b2f5a539f167327cbe1-59e54f0a993ab26bbc0920c891ec7570:getPixels\n",
      "Please wait ...\n",
      "Data downloaded to /root/GEE/2019补齐结果/4849_DistortionDS1A_IW_GRDH_1SDV_20190809T234548_20190809T234613_028499_0338B5_5AC1.tif\n",
      "image save right\n",
      "change image bandNames\n",
      "该函数运行了 202.27665 秒\n"
     ]
    },
    {
     "name": "stderr",
     "output_type": "stream",
     "text": [
      " 61%|######1   | 150/244 [7:00:02<4:59:17, 191.04s/it]"
     ]
    },
    {
     "name": "stdout",
     "output_type": "stream",
     "text": [
      "Begin Filter ...\n"
     ]
    },
    {
     "name": "stderr",
     "output_type": "stream",
     "text": [
      "\n",
      "100%|##########| 15/15 [00:00<00:00, 464.89it/s]\n",
      "\n",
      "100%|##########| 15/15 [00:00<00:00, 669.08it/s]\n",
      "\n",
      "100%|##########| 15/15 [00:00<00:00, 1520.41it/s]\n",
      "\n",
      "100%|##########| 15/15 [00:00<00:00, 979.06it/s]\n"
     ]
    },
    {
     "name": "stdout",
     "output_type": "stream",
     "text": [
      "Method 1 Kmean Band=['VV_gamma0_flatDB'],continue\n",
      "Write csv and shp, Method=Kmean  Img=s1_unit_mean_  Band=['VV_gamma0_flatDB', 'VH_gamma0_flatDB']\n",
      "Method 1 SNIC_Kmean Band=['VV_gamma0_flatDB'],continue\n",
      "Write csv and shp, Method=SNIC_Kmean  Img=s1_unit_mean_  Band=['VV_gamma0_flatDB', 'VH_gamma0_flatDB']\n",
      "Write csv and shp, Method=SNIC_Kmean  Img=s1_unit_mean_  Band=['VV_gamma0_flatDB', 'VH_gamma0_flatDB']\n",
      "Method 1 Xmeans Band=['VV_gamma0_flatDB'],continue\n",
      "Write csv and shp, Method=Xmeans  Img=s1_unit_mean_  Band=['VV_gamma0_flatDB', 'VH_gamma0_flatDB']\n",
      "Method 1 CascadeKMeans Band=['VV_gamma0_flatDB'],continue\n",
      "Write csv and shp, Method=CascadeKMeans  Img=s1_unit_mean_  Band=['VV_gamma0_flatDB', 'VH_gamma0_flatDB']\n",
      "Threshould value is 0.5162113457171955\n",
      "Write csv and shp, Method=otsu  Img=s1_unit_mean_  Band=['VV_gamma0_flatDB']\n",
      "Method 2 otsu Band=['VV_gamma0_flatDB', 'VH_gamma0_flatDB'],continue\n"
     ]
    },
    {
     "name": "stderr",
     "output_type": "stream",
     "text": [
      "/root/GEE/Extract_algorithm.py:229: RuntimeWarning: invalid value encountered in divide\n",
      "  higher = (csum_intensity[-1] - csum_intensity[:-1]) / (csumh[:-1]+sys.float_info.min)\n"
     ]
    },
    {
     "name": "stdout",
     "output_type": "stream",
     "text": [
      "Threshould value is 0.5188103683463066\n",
      "Write csv and shp, Method=isodata  Img=s1_unit_mean_  Band=['VV_gamma0_flatDB']\n",
      "Method 2 isodata Band=['VV_gamma0_flatDB', 'VH_gamma0_flatDB'],continue\n",
      "该函数运行了 144.89190 秒\n"
     ]
    },
    {
     "name": "stderr",
     "output_type": "stream",
     "text": [
      " 62%|######1   | 151/244 [7:02:27<4:34:39, 177.20s/it]"
     ]
    },
    {
     "name": "stdout",
     "output_type": "stream",
     "text": [
      "Begin Filter ...\n"
     ]
    },
    {
     "name": "stderr",
     "output_type": "stream",
     "text": [
      "\n",
      "100%|##########| 13/13 [00:00<00:00, 1382.47it/s]\n",
      "\n",
      "100%|##########| 13/13 [00:00<00:00, 627.19it/s]\n",
      "\n",
      "100%|##########| 12/12 [00:00<00:00, 1788.81it/s]\n",
      "\n",
      "100%|##########| 12/12 [00:00<00:00, 721.24it/s]\n"
     ]
    },
    {
     "name": "stdout",
     "output_type": "stream",
     "text": [
      "Method 1 Kmean Band=['VV_gamma0_flatDB'],continue\n",
      "Write csv and shp, Method=Kmean  Img=s1_unit_mean_  Band=['VV_gamma0_flatDB', 'VH_gamma0_flatDB']\n",
      "Method 1 SNIC_Kmean Band=['VV_gamma0_flatDB'],continue\n",
      "Write csv and shp, Method=SNIC_Kmean  Img=s1_unit_mean_  Band=['VV_gamma0_flatDB', 'VH_gamma0_flatDB']\n",
      "Write csv and shp, Method=SNIC_Kmean  Img=s1_unit_mean_  Band=['VV_gamma0_flatDB', 'VH_gamma0_flatDB']\n",
      "Method 1 Xmeans Band=['VV_gamma0_flatDB'],continue\n",
      "Write csv and shp, Method=Xmeans  Img=s1_unit_mean_  Band=['VV_gamma0_flatDB', 'VH_gamma0_flatDB']\n",
      "Method 1 CascadeKMeans Band=['VV_gamma0_flatDB'],continue\n",
      "Write csv and shp, Method=CascadeKMeans  Img=s1_unit_mean_  Band=['VV_gamma0_flatDB', 'VH_gamma0_flatDB']\n",
      "Threshould value is 0.5114155620285726\n",
      "Write csv and shp, Method=otsu  Img=s1_unit_mean_  Band=['VV_gamma0_flatDB']\n",
      "Method 2 otsu Band=['VV_gamma0_flatDB', 'VH_gamma0_flatDB'],continue\n"
     ]
    },
    {
     "name": "stderr",
     "output_type": "stream",
     "text": [
      "/root/GEE/Extract_algorithm.py:229: RuntimeWarning: invalid value encountered in divide\n",
      "  higher = (csum_intensity[-1] - csum_intensity[:-1]) / (csumh[:-1]+sys.float_info.min)\n"
     ]
    },
    {
     "name": "stdout",
     "output_type": "stream",
     "text": [
      "Threshould value is 0.5167716563684721\n",
      "Write csv and shp, Method=isodata  Img=s1_unit_mean_  Band=['VV_gamma0_flatDB']\n",
      "Method 2 isodata Band=['VV_gamma0_flatDB', 'VH_gamma0_flatDB'],continue\n",
      "该函数运行了 155.66607 秒\n"
     ]
    },
    {
     "name": "stderr",
     "output_type": "stream",
     "text": [
      " 62%|######2   | 152/244 [7:05:02<4:21:47, 170.74s/it]"
     ]
    },
    {
     "name": "stdout",
     "output_type": "stream",
     "text": [
      "Begin Filter ...\n"
     ]
    },
    {
     "name": "stderr",
     "output_type": "stream",
     "text": [
      "\n",
      "100%|##########| 14/14 [00:00<00:00, 1166.20it/s]\n",
      "\n",
      "100%|##########| 14/14 [00:00<00:00, 382.98it/s]\n",
      "\n",
      "100%|##########| 15/15 [00:00<00:00, 1698.47it/s]\n",
      "\n",
      "100%|##########| 15/15 [00:00<00:00, 438.49it/s]\n"
     ]
    },
    {
     "name": "stdout",
     "output_type": "stream",
     "text": [
      "Method 1 Kmean Band=['VV_gamma0_flatDB'],continue\n",
      "Write csv and shp, Method=Kmean  Img=s1_unit_mean_  Band=['VV_gamma0_flatDB', 'VH_gamma0_flatDB']\n",
      "Method 1 SNIC_Kmean Band=['VV_gamma0_flatDB'],continue\n",
      "Write csv and shp, Method=SNIC_Kmean  Img=s1_unit_mean_  Band=['VV_gamma0_flatDB', 'VH_gamma0_flatDB']\n",
      "Write csv and shp, Method=SNIC_Kmean  Img=s1_unit_mean_  Band=['VV_gamma0_flatDB', 'VH_gamma0_flatDB']\n",
      "Method 1 Xmeans Band=['VV_gamma0_flatDB'],continue\n",
      "Write csv and shp, Method=Xmeans  Img=s1_unit_mean_  Band=['VV_gamma0_flatDB', 'VH_gamma0_flatDB']\n",
      "Method 1 CascadeKMeans Band=['VV_gamma0_flatDB'],continue\n",
      "Write csv and shp, Method=CascadeKMeans  Img=s1_unit_mean_  Band=['VV_gamma0_flatDB', 'VH_gamma0_flatDB']\n",
      "Threshould value is 0.5479319004731102\n",
      "Write csv and shp, Method=otsu  Img=s1_unit_mean_  Band=['VV_gamma0_flatDB']\n",
      "Method 2 otsu Band=['VV_gamma0_flatDB', 'VH_gamma0_flatDB'],continue\n"
     ]
    },
    {
     "name": "stderr",
     "output_type": "stream",
     "text": [
      "/root/GEE/Extract_algorithm.py:229: RuntimeWarning: invalid value encountered in divide\n",
      "  higher = (csum_intensity[-1] - csum_intensity[:-1]) / (csumh[:-1]+sys.float_info.min)\n"
     ]
    },
    {
     "name": "stdout",
     "output_type": "stream",
     "text": [
      "Threshould value is 0.5539050969250117\n",
      "Write csv and shp, Method=isodata  Img=s1_unit_mean_  Band=['VV_gamma0_flatDB']\n",
      "Method 2 isodata Band=['VV_gamma0_flatDB', 'VH_gamma0_flatDB'],continue\n",
      "该函数运行了 152.76074 秒\n"
     ]
    },
    {
     "name": "stderr",
     "output_type": "stream",
     "text": [
      " 63%|######2   | 153/244 [7:07:35<4:10:46, 165.35s/it]"
     ]
    },
    {
     "name": "stdout",
     "output_type": "stream",
     "text": [
      "Begin Filter ...\n"
     ]
    },
    {
     "name": "stderr",
     "output_type": "stream",
     "text": [
      "\n",
      "100%|##########| 13/13 [00:00<00:00, 1724.90it/s]\n",
      "\n",
      "100%|##########| 13/13 [00:00<00:00, 467.96it/s]\n",
      "\n",
      "100%|##########| 13/13 [00:00<00:00, 1796.10it/s]\n",
      "\n",
      "100%|##########| 13/13 [00:00<00:00, 510.29it/s]\n"
     ]
    },
    {
     "name": "stdout",
     "output_type": "stream",
     "text": [
      "Method 1 Kmean Band=['VV_gamma0_flatDB'],continue\n",
      "Write csv and shp, Method=Kmean  Img=s1_unit_mean_  Band=['VV_gamma0_flatDB', 'VH_gamma0_flatDB']\n",
      "Method 1 SNIC_Kmean Band=['VV_gamma0_flatDB'],continue\n",
      "Write csv and shp, Method=SNIC_Kmean  Img=s1_unit_mean_  Band=['VV_gamma0_flatDB', 'VH_gamma0_flatDB']\n",
      "Write csv and shp, Method=SNIC_Kmean  Img=s1_unit_mean_  Band=['VV_gamma0_flatDB', 'VH_gamma0_flatDB']\n",
      "Method 1 Xmeans Band=['VV_gamma0_flatDB'],continue\n",
      "Write csv and shp, Method=Xmeans  Img=s1_unit_mean_  Band=['VV_gamma0_flatDB', 'VH_gamma0_flatDB']\n",
      "Method 1 CascadeKMeans Band=['VV_gamma0_flatDB'],continue\n",
      "Write csv and shp, Method=CascadeKMeans  Img=s1_unit_mean_  Band=['VV_gamma0_flatDB', 'VH_gamma0_flatDB']\n",
      "Threshould value is 0.49271254091898775\n",
      "Write csv and shp, Method=otsu  Img=s1_unit_mean_  Band=['VV_gamma0_flatDB']\n",
      "Method 2 otsu Band=['VV_gamma0_flatDB', 'VH_gamma0_flatDB'],continue\n",
      "Threshould value is 0.4912109375\n",
      "Write csv and shp, Method=isodata  Img=s1_unit_mean_  Band=['VV_gamma0_flatDB']\n",
      "Method 2 isodata Band=['VV_gamma0_flatDB', 'VH_gamma0_flatDB'],continue\n",
      "Generating URL ...\n",
      "Downloading data from https://earthengine.googleapis.com/v1/projects/earthengine-legacy/thumbnails/991f7f25f543c892fdabe58760a0ea11-869855122821d1587b648bfedd037920:getPixels\n",
      "Please wait ...\n",
      "Data downloaded to /root/GEE/2019补齐结果/4853_Ascending_S1A_IW_GRDH_1SDV_20190714T115743_20190714T115808_028113_032CCD_07AC.tif\n",
      "image save right\n",
      "change image bandNames\n",
      "Generating URL ...\n",
      "Downloading data from https://earthengine.googleapis.com/v1/projects/earthengine-legacy/thumbnails/3722a8cfa2698b2971704b2c4bbcd3b8-1d65b5bd6111169ade33bbe3c82e7d4e:getPixels\n",
      "Please wait ...\n",
      "Data downloaded to /root/GEE/2019补齐结果/4853_Descending_S1A_IW_GRDH_1SDV_20190809T234613_20190809T234638_028499_0338B5_13E6.tif\n",
      "image save right\n",
      "change image bandNames\n",
      "Generating URL ...\n",
      "Downloading data from https://earthengine.googleapis.com/v1/projects/earthengine-legacy/thumbnails/be1e26902859866c76616eba8a6fcf8d-df8e1bf72dc76be8aa833c3b6addc20f:getPixels\n",
      "Please wait ...\n",
      "Data downloaded to /root/GEE/2019补齐结果/4853_s2a_sr_median.tif\n",
      "image save right\n",
      "change image bandNames\n",
      "Generating URL ...\n",
      "Downloading data from https://earthengine.googleapis.com/v1/projects/earthengine-legacy/thumbnails/89e1f838b7c318bf82562323c5432658-bdb2658662bce68e216dac5ab607c07c:getPixels\n",
      "Please wait ...\n",
      "Data downloaded to /root/GEE/2019补齐结果/4853_s1_unit_mean_.tif\n",
      "image save right\n",
      "change image bandNames\n",
      "Generating URL ...\n",
      "Downloading data from https://earthengine.googleapis.com/v1/projects/earthengine-legacy/thumbnails/20b607d017cd9b705ae7545781413eaf-c6568d1e907e80e182696b02ed777005:getPixels\n",
      "Please wait ...\n",
      "Data downloaded to /root/GEE/2019补齐结果/4853_s1_unit_max_.tif\n",
      "image save right\n",
      "change image bandNames\n",
      "Generating URL ...\n",
      "Downloading data from https://earthengine.googleapis.com/v1/projects/earthengine-legacy/thumbnails/ad60b0ec80804110691bcd8a18f564df-787289ac8084db01ef45d8ea8813cfc8:getPixels\n",
      "Please wait ...\n",
      "Data downloaded to /root/GEE/2019补齐结果/4853_s1_unit_min_.tif\n",
      "image save right\n",
      "change image bandNames\n",
      "Generating URL ...\n",
      "Downloading data from https://earthengine.googleapis.com/v1/projects/earthengine-legacy/thumbnails/94bcd32417acfdb24812b881984ab6b7-649a7e05f5645b050132f82c1870a8f9:getPixels\n",
      "Please wait ...\n",
      "Data downloaded to /root/GEE/2019补齐结果/4853_DistortionAS1A_IW_GRDH_1SDV_20190714T115743_20190714T115808_028113_032CCD_07AC.tif\n",
      "image save right\n",
      "change image bandNames\n",
      "Generating URL ...\n",
      "Downloading data from https://earthengine.googleapis.com/v1/projects/earthengine-legacy/thumbnails/2a8c3aed7a55e5cc567925b81d4bffd5-f87fb417e78b2d63c5cc55d1d55cef39:getPixels\n",
      "Please wait ...\n",
      "Data downloaded to /root/GEE/2019补齐结果/4853_DistortionDS1A_IW_GRDH_1SDV_20190809T234613_20190809T234638_028499_0338B5_13E6.tif\n",
      "image save right\n",
      "change image bandNames\n",
      "该函数运行了 211.35516 秒\n"
     ]
    },
    {
     "name": "stderr",
     "output_type": "stream",
     "text": [
      " 63%|######3   | 154/244 [7:11:06<4:28:43, 179.15s/it]"
     ]
    },
    {
     "name": "stdout",
     "output_type": "stream",
     "text": [
      "Begin Filter ...\n"
     ]
    },
    {
     "name": "stderr",
     "output_type": "stream",
     "text": [
      "\n",
      "100%|##########| 12/12 [00:00<00:00, 1184.16it/s]\n",
      "\n",
      "100%|##########| 12/12 [00:00<00:00, 576.23it/s]\n",
      "\n",
      "100%|##########| 13/13 [00:00<00:00, 1604.18it/s]\n",
      "\n",
      "100%|##########| 13/13 [00:00<00:00, 473.22it/s]\n"
     ]
    },
    {
     "name": "stdout",
     "output_type": "stream",
     "text": [
      "Method 1 Kmean Band=['VV_gamma0_flatDB'],continue\n",
      "Write csv and shp, Method=Kmean  Img=s1_unit_mean_  Band=['VV_gamma0_flatDB', 'VH_gamma0_flatDB']\n",
      "Method 1 SNIC_Kmean Band=['VV_gamma0_flatDB'],continue\n",
      "Write csv and shp, Method=SNIC_Kmean  Img=s1_unit_mean_  Band=['VV_gamma0_flatDB', 'VH_gamma0_flatDB']\n",
      "Write csv and shp, Method=SNIC_Kmean  Img=s1_unit_mean_  Band=['VV_gamma0_flatDB', 'VH_gamma0_flatDB']\n",
      "Method 1 Xmeans Band=['VV_gamma0_flatDB'],continue\n",
      "Write csv and shp, Method=Xmeans  Img=s1_unit_mean_  Band=['VV_gamma0_flatDB', 'VH_gamma0_flatDB']\n",
      "Method 1 CascadeKMeans Band=['VV_gamma0_flatDB'],continue\n",
      "Write csv and shp, Method=CascadeKMeans  Img=s1_unit_mean_  Band=['VV_gamma0_flatDB', 'VH_gamma0_flatDB']\n",
      "Threshould value is 0.5146484375\n",
      "Write csv and shp, Method=otsu  Img=s1_unit_mean_  Band=['VV_gamma0_flatDB']\n",
      "Method 2 otsu Band=['VV_gamma0_flatDB', 'VH_gamma0_flatDB'],continue\n"
     ]
    },
    {
     "name": "stderr",
     "output_type": "stream",
     "text": [
      "/root/GEE/Extract_algorithm.py:229: RuntimeWarning: invalid value encountered in divide\n",
      "  higher = (csum_intensity[-1] - csum_intensity[:-1]) / (csumh[:-1]+sys.float_info.min)\n"
     ]
    },
    {
     "name": "stdout",
     "output_type": "stream",
     "text": [
      "Threshould value is 0.5166015625\n",
      "Write csv and shp, Method=isodata  Img=s1_unit_mean_  Band=['VV_gamma0_flatDB']\n",
      "Method 2 isodata Band=['VV_gamma0_flatDB', 'VH_gamma0_flatDB'],continue\n",
      "该函数运行了 140.48819 秒\n"
     ]
    },
    {
     "name": "stderr",
     "output_type": "stream",
     "text": [
      " 64%|######3   | 155/244 [7:13:27<4:08:32, 167.55s/it]"
     ]
    },
    {
     "name": "stdout",
     "output_type": "stream",
     "text": [
      "Begin Filter ...\n"
     ]
    },
    {
     "name": "stderr",
     "output_type": "stream",
     "text": [
      "\n",
      "100%|##########| 12/12 [00:00<00:00, 1545.24it/s]\n",
      "\n",
      "100%|##########| 12/12 [00:00<00:00, 751.49it/s]\n",
      "\n",
      "100%|##########| 12/12 [00:00<00:00, 1769.56it/s]\n",
      "\n",
      "100%|##########| 12/12 [00:00<00:00, 599.07it/s]\n"
     ]
    },
    {
     "name": "stdout",
     "output_type": "stream",
     "text": [
      "Method 1 Kmean Band=['VV_gamma0_flatDB'],continue\n",
      "Write csv and shp, Method=Kmean  Img=s1_unit_mean_  Band=['VV_gamma0_flatDB', 'VH_gamma0_flatDB']\n",
      "Method 1 SNIC_Kmean Band=['VV_gamma0_flatDB'],continue\n",
      "Write csv and shp, Method=SNIC_Kmean  Img=s1_unit_mean_  Band=['VV_gamma0_flatDB', 'VH_gamma0_flatDB']\n",
      "Write csv and shp, Method=SNIC_Kmean  Img=s1_unit_mean_  Band=['VV_gamma0_flatDB', 'VH_gamma0_flatDB']\n",
      "Method 1 Xmeans Band=['VV_gamma0_flatDB'],continue\n",
      "Write csv and shp, Method=Xmeans  Img=s1_unit_mean_  Band=['VV_gamma0_flatDB', 'VH_gamma0_flatDB']\n",
      "Method 1 CascadeKMeans Band=['VV_gamma0_flatDB'],continue\n",
      "Write csv and shp, Method=CascadeKMeans  Img=s1_unit_mean_  Band=['VV_gamma0_flatDB', 'VH_gamma0_flatDB']\n",
      "Threshould value is 0.48366214399325225\n",
      "Write csv and shp, Method=otsu  Img=s1_unit_mean_  Band=['VV_gamma0_flatDB']\n",
      "Method 2 otsu Band=['VV_gamma0_flatDB', 'VH_gamma0_flatDB'],continue\n"
     ]
    },
    {
     "name": "stderr",
     "output_type": "stream",
     "text": [
      "/root/GEE/Extract_algorithm.py:229: RuntimeWarning: invalid value encountered in divide\n",
      "  higher = (csum_intensity[-1] - csum_intensity[:-1]) / (csumh[:-1]+sys.float_info.min)\n"
     ]
    },
    {
     "name": "stdout",
     "output_type": "stream",
     "text": [
      "Threshould value is 0.4876397892459221\n",
      "Write csv and shp, Method=isodata  Img=s1_unit_mean_  Band=['VV_gamma0_flatDB']\n",
      "Method 2 isodata Band=['VV_gamma0_flatDB', 'VH_gamma0_flatDB'],continue\n",
      "该函数运行了 139.41056 秒\n"
     ]
    },
    {
     "name": "stderr",
     "output_type": "stream",
     "text": [
      " 64%|######3   | 156/244 [7:15:46<3:53:21, 159.11s/it]"
     ]
    },
    {
     "name": "stdout",
     "output_type": "stream",
     "text": [
      "Begin Filter ...\n"
     ]
    },
    {
     "name": "stderr",
     "output_type": "stream",
     "text": [
      "\n",
      "100%|##########| 15/15 [00:00<00:00, 1929.24it/s]\n",
      "\n",
      "100%|##########| 15/15 [00:00<00:00, 457.38it/s]\n",
      "\n",
      "100%|##########| 15/15 [00:00<00:00, 1818.50it/s]\n",
      "\n",
      "100%|##########| 15/15 [00:00<00:00, 391.02it/s]\n"
     ]
    },
    {
     "name": "stdout",
     "output_type": "stream",
     "text": [
      "Method 1 Kmean Band=['VV_gamma0_flatDB'],continue\n",
      "Write csv and shp, Method=Kmean  Img=s1_unit_mean_  Band=['VV_gamma0_flatDB', 'VH_gamma0_flatDB']\n",
      "Method 1 SNIC_Kmean Band=['VV_gamma0_flatDB'],continue\n",
      "Write csv and shp, Method=SNIC_Kmean  Img=s1_unit_mean_  Band=['VV_gamma0_flatDB', 'VH_gamma0_flatDB']\n",
      "Write csv and shp, Method=SNIC_Kmean  Img=s1_unit_mean_  Band=['VV_gamma0_flatDB', 'VH_gamma0_flatDB']\n",
      "Method 1 Xmeans Band=['VV_gamma0_flatDB'],continue\n",
      "Write csv and shp, Method=Xmeans  Img=s1_unit_mean_  Band=['VV_gamma0_flatDB', 'VH_gamma0_flatDB']\n",
      "Method 1 CascadeKMeans Band=['VV_gamma0_flatDB'],continue\n",
      "Write csv and shp, Method=CascadeKMeans  Img=s1_unit_mean_  Band=['VV_gamma0_flatDB', 'VH_gamma0_flatDB']\n",
      "Threshould value is 0.5792016897714513\n",
      "Write csv and shp, Method=otsu  Img=s1_unit_mean_  Band=['VV_gamma0_flatDB']\n",
      "Method 2 otsu Band=['VV_gamma0_flatDB', 'VH_gamma0_flatDB'],continue\n"
     ]
    },
    {
     "name": "stderr",
     "output_type": "stream",
     "text": [
      "/root/GEE/Extract_algorithm.py:229: RuntimeWarning: invalid value encountered in divide\n",
      "  higher = (csum_intensity[-1] - csum_intensity[:-1]) / (csumh[:-1]+sys.float_info.min)\n"
     ]
    },
    {
     "name": "stdout",
     "output_type": "stream",
     "text": [
      "Threshould value is 0.567478603237226\n",
      "Write csv and shp, Method=isodata  Img=s1_unit_mean_  Band=['VV_gamma0_flatDB']\n",
      "Method 2 isodata Band=['VV_gamma0_flatDB', 'VH_gamma0_flatDB'],continue\n",
      "Generating URL ...\n",
      "Downloading data from https://earthengine.googleapis.com/v1/projects/earthengine-legacy/thumbnails/61e7263fb5f64cda2ccd82d1baa91faf-b5292e1b7ad585d733f8280ef983cb34:getPixels\n",
      "Please wait ...\n",
      "Data downloaded to /root/GEE/2019补齐结果/4856_Ascending_S1A_IW_GRDH_1SDV_20190714T115808_20190714T115833_028113_032CCD_1F8C.tif\n",
      "image save right\n",
      "change image bandNames\n",
      "Generating URL ...\n",
      "Downloading data from https://earthengine.googleapis.com/v1/projects/earthengine-legacy/thumbnails/cf1d0dd082363d14edd07257179f7b62-d3ad89c2d4bc53153aa63f85658ff7d5:getPixels\n",
      "Please wait ...\n",
      "Data downloaded to /root/GEE/2019补齐结果/4856_Descending_S1A_IW_GRDH_1SDV_20190721T235404_20190721T235429_028222_033027_8116.tif\n",
      "image save right\n",
      "change image bandNames\n",
      "Generating URL ...\n",
      "Downloading data from https://earthengine.googleapis.com/v1/projects/earthengine-legacy/thumbnails/d0f23e8b3f16c9fd1a5e292433d71017-29b78b56c1f81445d285a16f238d0e95:getPixels\n",
      "Please wait ...\n",
      "Data downloaded to /root/GEE/2019补齐结果/4856_s2a_sr_median.tif\n",
      "image save right\n",
      "change image bandNames\n",
      "Generating URL ...\n",
      "Downloading data from https://earthengine.googleapis.com/v1/projects/earthengine-legacy/thumbnails/22912bcfd9c8bd73930c701ac885b9a6-cdc7236c8d0579b6f77f9b4414168f36:getPixels\n",
      "Please wait ...\n",
      "Data downloaded to /root/GEE/2019补齐结果/4856_s1_unit_mean_.tif\n",
      "image save right\n",
      "change image bandNames\n",
      "Generating URL ...\n",
      "Downloading data from https://earthengine.googleapis.com/v1/projects/earthengine-legacy/thumbnails/99aad6e389b2da027b2421ba7d873027-033ea43ba8da849d2868137db295dc75:getPixels\n",
      "Please wait ...\n",
      "Data downloaded to /root/GEE/2019补齐结果/4856_s1_unit_max_.tif\n",
      "image save right\n",
      "change image bandNames\n",
      "Generating URL ...\n",
      "Downloading data from https://earthengine.googleapis.com/v1/projects/earthengine-legacy/thumbnails/7fec9af665cad0674276c63801d9de1b-b594ee46f067f53590b6b671bba154ac:getPixels\n",
      "Please wait ...\n",
      "Data downloaded to /root/GEE/2019补齐结果/4856_s1_unit_min_.tif\n",
      "image save right\n",
      "change image bandNames\n",
      "Generating URL ...\n",
      "Downloading data from https://earthengine.googleapis.com/v1/projects/earthengine-legacy/thumbnails/c2df70e7aa04d78a7ff999b87c5ad704-cb15191dc723372a3d0fed5640ea2633:getPixels\n",
      "Please wait ...\n",
      "Data downloaded to /root/GEE/2019补齐结果/4856_DistortionAS1A_IW_GRDH_1SDV_20190714T115808_20190714T115833_028113_032CCD_1F8C.tif\n",
      "image save right\n",
      "change image bandNames\n",
      "Generating URL ...\n",
      "Downloading data from https://earthengine.googleapis.com/v1/projects/earthengine-legacy/thumbnails/17b4f28f7acfe7e8d938a2869e188bad-2520c2fde56e23e86958529aa9a497aa:getPixels\n",
      "Please wait ...\n",
      "Data downloaded to /root/GEE/2019补齐结果/4856_DistortionDS1A_IW_GRDH_1SDV_20190721T235404_20190721T235429_028222_033027_8116.tif\n",
      "image save right\n",
      "change image bandNames\n",
      "该函数运行了 236.26297 秒\n"
     ]
    },
    {
     "name": "stderr",
     "output_type": "stream",
     "text": [
      " 64%|######4   | 157/244 [7:19:42<4:24:16, 182.26s/it]"
     ]
    },
    {
     "name": "stdout",
     "output_type": "stream",
     "text": [
      "Begin Filter ...\n"
     ]
    },
    {
     "name": "stderr",
     "output_type": "stream",
     "text": [
      "\n",
      "100%|##########| 14/14 [00:00<00:00, 1573.38it/s]\n",
      "\n",
      "100%|##########| 14/14 [00:00<00:00, 451.40it/s]\n",
      "\n",
      "100%|##########| 14/14 [00:00<00:00, 1825.08it/s]\n",
      "\n",
      "100%|##########| 14/14 [00:00<00:00, 435.49it/s]\n"
     ]
    },
    {
     "name": "stdout",
     "output_type": "stream",
     "text": [
      "Method 1 Kmean Band=['VV_gamma0_flatDB'],continue\n",
      "Write csv and shp, Method=Kmean  Img=s1_unit_mean_  Band=['VV_gamma0_flatDB', 'VH_gamma0_flatDB']\n",
      "Method 1 SNIC_Kmean Band=['VV_gamma0_flatDB'],continue\n",
      "Write csv and shp, Method=SNIC_Kmean  Img=s1_unit_mean_  Band=['VV_gamma0_flatDB', 'VH_gamma0_flatDB']\n",
      "Write csv and shp, Method=SNIC_Kmean  Img=s1_unit_mean_  Band=['VV_gamma0_flatDB', 'VH_gamma0_flatDB']\n",
      "Method 1 Xmeans Band=['VV_gamma0_flatDB'],continue\n",
      "Write csv and shp, Method=Xmeans  Img=s1_unit_mean_  Band=['VV_gamma0_flatDB', 'VH_gamma0_flatDB']\n",
      "Method 1 CascadeKMeans Band=['VV_gamma0_flatDB'],continue\n",
      "Write csv and shp, Method=CascadeKMeans  Img=s1_unit_mean_  Band=['VV_gamma0_flatDB', 'VH_gamma0_flatDB']\n",
      "Threshould value is 0.5171601748268158\n",
      "Write csv and shp, Method=otsu  Img=s1_unit_mean_  Band=['VV_gamma0_flatDB']\n",
      "Method 2 otsu Band=['VV_gamma0_flatDB', 'VH_gamma0_flatDB'],continue\n",
      "Threshould value is 0.5107421875\n",
      "Write csv and shp, Method=isodata  Img=s1_unit_mean_  Band=['VV_gamma0_flatDB']\n",
      "Method 2 isodata Band=['VV_gamma0_flatDB', 'VH_gamma0_flatDB'],continue\n",
      "该函数运行了 159.92642 秒\n"
     ]
    },
    {
     "name": "stderr",
     "output_type": "stream",
     "text": [
      " 65%|######4   | 158/244 [7:22:22<4:11:38, 175.56s/it]"
     ]
    },
    {
     "name": "stdout",
     "output_type": "stream",
     "text": [
      "Begin Filter ...\n"
     ]
    },
    {
     "name": "stderr",
     "output_type": "stream",
     "text": [
      "\n",
      "100%|##########| 13/13 [00:00<00:00, 1795.80it/s]\n",
      "\n",
      "100%|##########| 13/13 [00:00<00:00, 657.60it/s]\n",
      "\n",
      "100%|##########| 12/12 [00:00<00:00, 1906.65it/s]\n",
      "\n",
      "100%|##########| 12/12 [00:00<00:00, 640.39it/s]\n"
     ]
    },
    {
     "name": "stdout",
     "output_type": "stream",
     "text": [
      "Method 1 Kmean Band=['VV_gamma0_flatDB'],continue\n",
      "Write csv and shp, Method=Kmean  Img=s1_unit_mean_  Band=['VV_gamma0_flatDB', 'VH_gamma0_flatDB']\n",
      "Method 1 SNIC_Kmean Band=['VV_gamma0_flatDB'],continue\n",
      "Write csv and shp, Method=SNIC_Kmean  Img=s1_unit_mean_  Band=['VV_gamma0_flatDB', 'VH_gamma0_flatDB']\n",
      "Write csv and shp, Method=SNIC_Kmean  Img=s1_unit_mean_  Band=['VV_gamma0_flatDB', 'VH_gamma0_flatDB']\n",
      "Method 1 Xmeans Band=['VV_gamma0_flatDB'],continue\n",
      "Write csv and shp, Method=Xmeans  Img=s1_unit_mean_  Band=['VV_gamma0_flatDB', 'VH_gamma0_flatDB']\n",
      "Method 1 CascadeKMeans Band=['VV_gamma0_flatDB'],continue\n",
      "Write csv and shp, Method=CascadeKMeans  Img=s1_unit_mean_  Band=['VV_gamma0_flatDB', 'VH_gamma0_flatDB']\n",
      "Threshould value is 0.506081116715601\n",
      "Write csv and shp, Method=otsu  Img=s1_unit_mean_  Band=['VV_gamma0_flatDB']\n",
      "Method 2 otsu Band=['VV_gamma0_flatDB', 'VH_gamma0_flatDB'],continue\n"
     ]
    },
    {
     "name": "stderr",
     "output_type": "stream",
     "text": [
      "/root/GEE/Extract_algorithm.py:229: RuntimeWarning: invalid value encountered in divide\n",
      "  higher = (csum_intensity[-1] - csum_intensity[:-1]) / (csumh[:-1]+sys.float_info.min)\n"
     ]
    },
    {
     "name": "stdout",
     "output_type": "stream",
     "text": [
      "Threshould value is 0.4988173752673073\n",
      "Write csv and shp, Method=isodata  Img=s1_unit_mean_  Band=['VV_gamma0_flatDB']\n",
      "Method 2 isodata Band=['VV_gamma0_flatDB', 'VH_gamma0_flatDB'],continue\n",
      "该函数运行了 147.40080 秒\n"
     ]
    },
    {
     "name": "stderr",
     "output_type": "stream",
     "text": [
      " 65%|######5   | 159/244 [7:24:50<3:56:44, 167.11s/it]"
     ]
    },
    {
     "name": "stdout",
     "output_type": "stream",
     "text": [
      "Begin Filter ...\n"
     ]
    },
    {
     "name": "stderr",
     "output_type": "stream",
     "text": [
      "\n",
      "100%|##########| 21/21 [00:00<00:00, 1816.13it/s]\n",
      "\n",
      "100%|##########| 21/21 [00:00<00:00, 684.76it/s]\n",
      "\n",
      "100%|##########| 21/21 [00:00<00:00, 1901.44it/s]\n",
      "\n",
      "100%|##########| 21/21 [00:00<00:00, 1002.02it/s]\n"
     ]
    },
    {
     "name": "stdout",
     "output_type": "stream",
     "text": [
      "Method 1 Kmean Band=['VV_gamma0_flatDB'],continue\n",
      "Write csv and shp, Method=Kmean  Img=s1_unit_mean_  Band=['VV_gamma0_flatDB', 'VH_gamma0_flatDB']\n",
      "Method 1 SNIC_Kmean Band=['VV_gamma0_flatDB'],continue\n",
      "Write csv and shp, Method=SNIC_Kmean  Img=s1_unit_mean_  Band=['VV_gamma0_flatDB', 'VH_gamma0_flatDB']\n",
      "Write csv and shp, Method=SNIC_Kmean  Img=s1_unit_mean_  Band=['VV_gamma0_flatDB', 'VH_gamma0_flatDB']\n",
      "Method 1 Xmeans Band=['VV_gamma0_flatDB'],continue\n",
      "Write csv and shp, Method=Xmeans  Img=s1_unit_mean_  Band=['VV_gamma0_flatDB', 'VH_gamma0_flatDB']\n",
      "Method 1 CascadeKMeans Band=['VV_gamma0_flatDB'],continue\n",
      "Write csv and shp, Method=CascadeKMeans  Img=s1_unit_mean_  Band=['VV_gamma0_flatDB', 'VH_gamma0_flatDB']\n",
      "Threshould value is 0.36618451306039945\n",
      "Write csv and shp, Method=otsu  Img=s1_unit_mean_  Band=['VV_gamma0_flatDB']\n",
      "Method 2 otsu Band=['VV_gamma0_flatDB', 'VH_gamma0_flatDB'],continue\n",
      "Threshould value is 0.30362666080281553\n",
      "Write csv and shp, Method=isodata  Img=s1_unit_mean_  Band=['VV_gamma0_flatDB']\n",
      "Method 2 isodata Band=['VV_gamma0_flatDB', 'VH_gamma0_flatDB'],continue\n",
      "该函数运行了 133.76708 秒\n"
     ]
    },
    {
     "name": "stderr",
     "output_type": "stream",
     "text": [
      " 66%|######5   | 160/244 [7:27:04<3:39:57, 157.11s/it]"
     ]
    },
    {
     "name": "stdout",
     "output_type": "stream",
     "text": [
      "Begin Filter ...\n"
     ]
    },
    {
     "name": "stderr",
     "output_type": "stream",
     "text": [
      "\n",
      "100%|##########| 14/14 [00:00<00:00, 1795.84it/s]\n",
      "\n",
      "100%|##########| 14/14 [00:00<00:00, 547.09it/s]\n",
      "\n",
      "100%|##########| 15/15 [00:00<00:00, 1781.63it/s]\n",
      "\n",
      "100%|##########| 15/15 [00:00<00:00, 812.61it/s]\n"
     ]
    },
    {
     "name": "stdout",
     "output_type": "stream",
     "text": [
      "Method 1 Kmean Band=['VV_gamma0_flatDB'],continue\n",
      "Write csv and shp, Method=Kmean  Img=s1_unit_mean_  Band=['VV_gamma0_flatDB', 'VH_gamma0_flatDB']\n",
      "Method 1 SNIC_Kmean Band=['VV_gamma0_flatDB'],continue\n",
      "Write csv and shp, Method=SNIC_Kmean  Img=s1_unit_mean_  Band=['VV_gamma0_flatDB', 'VH_gamma0_flatDB']\n",
      "Write csv and shp, Method=SNIC_Kmean  Img=s1_unit_mean_  Band=['VV_gamma0_flatDB', 'VH_gamma0_flatDB']\n",
      "Method 1 Xmeans Band=['VV_gamma0_flatDB'],continue\n",
      "Write csv and shp, Method=Xmeans  Img=s1_unit_mean_  Band=['VV_gamma0_flatDB', 'VH_gamma0_flatDB']\n",
      "Method 1 CascadeKMeans Band=['VV_gamma0_flatDB'],continue\n",
      "Write csv and shp, Method=CascadeKMeans  Img=s1_unit_mean_  Band=['VV_gamma0_flatDB', 'VH_gamma0_flatDB']\n",
      "Threshould value is 0.5126953125\n",
      "Write csv and shp, Method=otsu  Img=s1_unit_mean_  Band=['VV_gamma0_flatDB']\n",
      "Method 2 otsu Band=['VV_gamma0_flatDB', 'VH_gamma0_flatDB'],continue\n",
      "Threshould value is 0.5087890625\n",
      "Write csv and shp, Method=isodata  Img=s1_unit_mean_  Band=['VV_gamma0_flatDB']\n",
      "Method 2 isodata Band=['VV_gamma0_flatDB', 'VH_gamma0_flatDB'],continue\n",
      "该函数运行了 131.15070 秒\n"
     ]
    },
    {
     "name": "stderr",
     "output_type": "stream",
     "text": [
      " 66%|######5   | 161/244 [7:29:15<3:26:33, 149.32s/it]"
     ]
    },
    {
     "name": "stdout",
     "output_type": "stream",
     "text": [
      "Begin Filter ...\n"
     ]
    },
    {
     "name": "stderr",
     "output_type": "stream",
     "text": [
      "\n",
      "100%|##########| 12/12 [00:00<00:00, 1415.56it/s]\n",
      "\n",
      "100%|##########| 12/12 [00:00<00:00, 588.98it/s]\n",
      "\n",
      "100%|##########| 10/10 [00:00<00:00, 1620.67it/s]\n",
      "\n",
      "100%|##########| 10/10 [00:00<00:00, 398.12it/s]\n"
     ]
    },
    {
     "name": "stdout",
     "output_type": "stream",
     "text": [
      "Method 1 Kmean Band=['VV_gamma0_flatDB'],continue\n",
      "Write csv and shp, Method=Kmean  Img=s1_unit_mean_  Band=['VV_gamma0_flatDB', 'VH_gamma0_flatDB']\n",
      "Method 1 SNIC_Kmean Band=['VV_gamma0_flatDB'],continue\n",
      "Write csv and shp, Method=SNIC_Kmean  Img=s1_unit_mean_  Band=['VV_gamma0_flatDB', 'VH_gamma0_flatDB']\n",
      "Write csv and shp, Method=SNIC_Kmean  Img=s1_unit_mean_  Band=['VV_gamma0_flatDB', 'VH_gamma0_flatDB']\n",
      "Method 1 Xmeans Band=['VV_gamma0_flatDB'],continue\n",
      "Write csv and shp, Method=Xmeans  Img=s1_unit_mean_  Band=['VV_gamma0_flatDB', 'VH_gamma0_flatDB']\n",
      "Method 1 CascadeKMeans Band=['VV_gamma0_flatDB'],continue\n",
      "Write csv and shp, Method=CascadeKMeans  Img=s1_unit_mean_  Band=['VV_gamma0_flatDB', 'VH_gamma0_flatDB']\n",
      "Threshould value is 0.5341796875\n",
      "Write csv and shp, Method=otsu  Img=s1_unit_mean_  Band=['VV_gamma0_flatDB']\n",
      "Method 2 otsu Band=['VV_gamma0_flatDB', 'VH_gamma0_flatDB'],continue\n"
     ]
    },
    {
     "name": "stderr",
     "output_type": "stream",
     "text": [
      "/root/GEE/Extract_algorithm.py:229: RuntimeWarning: invalid value encountered in divide\n",
      "  higher = (csum_intensity[-1] - csum_intensity[:-1]) / (csumh[:-1]+sys.float_info.min)\n"
     ]
    },
    {
     "name": "stdout",
     "output_type": "stream",
     "text": [
      "Threshould value is 0.5366899754346616\n",
      "Write csv and shp, Method=isodata  Img=s1_unit_mean_  Band=['VV_gamma0_flatDB']\n",
      "Method 2 isodata Band=['VV_gamma0_flatDB', 'VH_gamma0_flatDB'],continue\n",
      "Generating URL ...\n",
      "Downloading data from https://earthengine.googleapis.com/v1/projects/earthengine-legacy/thumbnails/9e2c82e8f9860937e6fcba48e95a7de4-b383ee865d1213183ce4cad580f83a31:getPixels\n",
      "Please wait ...\n",
      "Data downloaded to /root/GEE/2019补齐结果/4861_Ascending_S1A_IW_GRDH_1SDV_20190714T115743_20190714T115808_028113_032CCD_07AC.tif\n",
      "image save right\n",
      "change image bandNames\n",
      "Generating URL ...\n",
      "Downloading data from https://earthengine.googleapis.com/v1/projects/earthengine-legacy/thumbnails/90f19d659aecfdc09452347887091dad-542193cf22e36e03a0fab9da8edfc656:getPixels\n",
      "Please wait ...\n",
      "Data downloaded to /root/GEE/2019补齐结果/4861_Descending_S1A_IW_GRDH_1SDV_20190721T235404_20190721T235429_028222_033027_8116.tif\n",
      "image save right\n",
      "change image bandNames\n",
      "Generating URL ...\n",
      "Downloading data from https://earthengine.googleapis.com/v1/projects/earthengine-legacy/thumbnails/d419388478c14b80867be3ad2ccc4529-1a0f9699021890e581c1dbc6fe0eae63:getPixels\n",
      "Please wait ...\n",
      "Data downloaded to /root/GEE/2019补齐结果/4861_s2a_sr_median.tif\n",
      "image save right\n",
      "change image bandNames\n",
      "Generating URL ...\n",
      "Downloading data from https://earthengine.googleapis.com/v1/projects/earthengine-legacy/thumbnails/b8236e1495e80406fb085c1002fc6305-14124d64c79ed1a5db9ca49a2cfc5692:getPixels\n",
      "Please wait ...\n",
      "Data downloaded to /root/GEE/2019补齐结果/4861_s1_unit_mean_.tif\n",
      "image save right\n",
      "change image bandNames\n",
      "Generating URL ...\n",
      "Downloading data from https://earthengine.googleapis.com/v1/projects/earthengine-legacy/thumbnails/d7a0b316e303ce636ae00c4b68e65f25-70538af09dbe4987d2d10eca34623b43:getPixels\n",
      "Please wait ...\n",
      "Data downloaded to /root/GEE/2019补齐结果/4861_s1_unit_max_.tif\n",
      "image save right\n",
      "change image bandNames\n",
      "Generating URL ...\n",
      "Downloading data from https://earthengine.googleapis.com/v1/projects/earthengine-legacy/thumbnails/975b1bd66d5d3f26c92d679efce9b63e-285c953bf5218b4391c6f01ed4bc06c1:getPixels\n",
      "Please wait ...\n",
      "Data downloaded to /root/GEE/2019补齐结果/4861_s1_unit_min_.tif\n",
      "image save right\n",
      "change image bandNames\n",
      "Generating URL ...\n",
      "Downloading data from https://earthengine.googleapis.com/v1/projects/earthengine-legacy/thumbnails/ca8d9e79429311605148d812de0318cf-4e5cb0ec8a252e40e2fef4e51877d889:getPixels\n",
      "Please wait ...\n",
      "Data downloaded to /root/GEE/2019补齐结果/4861_DistortionAS1A_IW_GRDH_1SDV_20190714T115743_20190714T115808_028113_032CCD_07AC.tif\n",
      "image save right\n",
      "change image bandNames\n",
      "Generating URL ...\n",
      "Downloading data from https://earthengine.googleapis.com/v1/projects/earthengine-legacy/thumbnails/b0a3ee45e54de37b369679c6dd8e4817-f346c96124de8ead6c45101bf897b080:getPixels\n",
      "Please wait ...\n",
      "Data downloaded to /root/GEE/2019补齐结果/4861_DistortionDS1A_IW_GRDH_1SDV_20190721T235404_20190721T235429_028222_033027_8116.tif\n",
      "image save right\n",
      "change image bandNames\n",
      "该函数运行了 221.61167 秒\n"
     ]
    },
    {
     "name": "stderr",
     "output_type": "stream",
     "text": [
      " 66%|######6   | 162/244 [7:32:56<3:53:42, 171.01s/it]"
     ]
    },
    {
     "name": "stdout",
     "output_type": "stream",
     "text": [
      "Begin Filter ...\n"
     ]
    },
    {
     "name": "stderr",
     "output_type": "stream",
     "text": [
      "\n",
      "100%|##########| 12/12 [00:00<00:00, 1658.70it/s]\n",
      "\n",
      "100%|##########| 12/12 [00:00<00:00, 564.45it/s]\n",
      "\n",
      "100%|##########| 12/12 [00:00<00:00, 1714.59it/s]\n",
      "\n",
      "100%|##########| 12/12 [00:00<00:00, 680.83it/s]\n"
     ]
    },
    {
     "name": "stdout",
     "output_type": "stream",
     "text": [
      "Method 1 Kmean Band=['VV_gamma0_flatDB'],continue\n",
      "Write csv and shp, Method=Kmean  Img=s1_unit_mean_  Band=['VV_gamma0_flatDB', 'VH_gamma0_flatDB']\n",
      "Method 1 SNIC_Kmean Band=['VV_gamma0_flatDB'],continue\n",
      "Write csv and shp, Method=SNIC_Kmean  Img=s1_unit_mean_  Band=['VV_gamma0_flatDB', 'VH_gamma0_flatDB']\n",
      "Write csv and shp, Method=SNIC_Kmean  Img=s1_unit_mean_  Band=['VV_gamma0_flatDB', 'VH_gamma0_flatDB']\n",
      "Method 1 Xmeans Band=['VV_gamma0_flatDB'],continue\n",
      "Write csv and shp, Method=Xmeans  Img=s1_unit_mean_  Band=['VV_gamma0_flatDB', 'VH_gamma0_flatDB']\n",
      "Method 1 CascadeKMeans Band=['VV_gamma0_flatDB'],continue\n",
      "Write csv and shp, Method=CascadeKMeans  Img=s1_unit_mean_  Band=['VV_gamma0_flatDB', 'VH_gamma0_flatDB']\n",
      "Threshould value is 0.4275513162829656\n",
      "Write csv and shp, Method=otsu  Img=s1_unit_mean_  Band=['VV_gamma0_flatDB']\n",
      "Method 2 otsu Band=['VV_gamma0_flatDB', 'VH_gamma0_flatDB'],continue\n"
     ]
    },
    {
     "name": "stderr",
     "output_type": "stream",
     "text": [
      "/root/GEE/Extract_algorithm.py:229: RuntimeWarning: invalid value encountered in divide\n",
      "  higher = (csum_intensity[-1] - csum_intensity[:-1]) / (csumh[:-1]+sys.float_info.min)\n"
     ]
    },
    {
     "name": "stdout",
     "output_type": "stream",
     "text": [
      "Threshould value is 0.43093356566926566\n",
      "Write csv and shp, Method=isodata  Img=s1_unit_mean_  Band=['VV_gamma0_flatDB']\n",
      "Method 2 isodata Band=['VV_gamma0_flatDB', 'VH_gamma0_flatDB'],continue\n",
      "该函数运行了 126.15774 秒\n"
     ]
    },
    {
     "name": "stderr",
     "output_type": "stream",
     "text": [
      " 67%|######6   | 163/244 [7:35:03<3:32:42, 157.56s/it]"
     ]
    },
    {
     "name": "stdout",
     "output_type": "stream",
     "text": [
      "Begin Filter ...\n"
     ]
    },
    {
     "name": "stderr",
     "output_type": "stream",
     "text": [
      "\n",
      "100%|##########| 17/17 [00:00<00:00, 908.97it/s]\n",
      "\n",
      "100%|##########| 17/17 [00:00<00:00, 197.02it/s]\n",
      "\n",
      "100%|##########| 17/17 [00:00<00:00, 1246.17it/s]\n",
      "\n",
      "100%|##########| 17/17 [00:00<00:00, 315.87it/s]\n"
     ]
    },
    {
     "name": "stdout",
     "output_type": "stream",
     "text": [
      "Method 1 Kmean Band=['VV_gamma0_flatDB'],continue\n",
      "Write csv and shp, Method=Kmean  Img=s1_unit_mean_  Band=['VV_gamma0_flatDB', 'VH_gamma0_flatDB']\n",
      "Method 1 SNIC_Kmean Band=['VV_gamma0_flatDB'],continue\n",
      "Write csv and shp, Method=SNIC_Kmean  Img=s1_unit_mean_  Band=['VV_gamma0_flatDB', 'VH_gamma0_flatDB']\n",
      "Write csv and shp, Method=SNIC_Kmean  Img=s1_unit_mean_  Band=['VV_gamma0_flatDB', 'VH_gamma0_flatDB']\n",
      "Method 1 Xmeans Band=['VV_gamma0_flatDB'],continue\n",
      "Write csv and shp, Method=Xmeans  Img=s1_unit_mean_  Band=['VV_gamma0_flatDB', 'VH_gamma0_flatDB']\n",
      "Method 1 CascadeKMeans Band=['VV_gamma0_flatDB'],continue\n",
      "Write csv and shp, Method=CascadeKMeans  Img=s1_unit_mean_  Band=['VV_gamma0_flatDB', 'VH_gamma0_flatDB']\n",
      "Threshould value is 0.5842787989835645\n",
      "Write csv and shp, Method=otsu  Img=s1_unit_mean_  Band=['VV_gamma0_flatDB']\n",
      "Method 2 otsu Band=['VV_gamma0_flatDB', 'VH_gamma0_flatDB'],continue\n",
      "Threshould value is 0.5734070310170615\n",
      "Write csv and shp, Method=isodata  Img=s1_unit_mean_  Band=['VV_gamma0_flatDB']\n",
      "Method 2 isodata Band=['VV_gamma0_flatDB', 'VH_gamma0_flatDB'],continue\n",
      "该函数运行了 145.46463 秒\n"
     ]
    },
    {
     "name": "stderr",
     "output_type": "stream",
     "text": [
      " 67%|######7   | 164/244 [7:37:28<3:25:14, 153.93s/it]"
     ]
    },
    {
     "name": "stdout",
     "output_type": "stream",
     "text": [
      "Begin Filter ...\n"
     ]
    },
    {
     "name": "stderr",
     "output_type": "stream",
     "text": [
      "\n",
      "100%|##########| 12/12 [00:00<00:00, 1915.35it/s]\n",
      "\n",
      "100%|##########| 12/12 [00:00<00:00, 722.74it/s]\n",
      "\n",
      "100%|##########| 11/11 [00:00<00:00, 1738.01it/s]\n",
      "\n",
      "100%|##########| 11/11 [00:00<00:00, 636.34it/s]\n"
     ]
    },
    {
     "name": "stdout",
     "output_type": "stream",
     "text": [
      "Method 1 Kmean Band=['VV_gamma0_flatDB'],continue\n",
      "Write csv and shp, Method=Kmean  Img=s1_unit_mean_  Band=['VV_gamma0_flatDB', 'VH_gamma0_flatDB']\n",
      "Method 1 SNIC_Kmean Band=['VV_gamma0_flatDB'],continue\n",
      "Write csv and shp, Method=SNIC_Kmean  Img=s1_unit_mean_  Band=['VV_gamma0_flatDB', 'VH_gamma0_flatDB']\n",
      "Write csv and shp, Method=SNIC_Kmean  Img=s1_unit_mean_  Band=['VV_gamma0_flatDB', 'VH_gamma0_flatDB']\n",
      "Method 1 Xmeans Band=['VV_gamma0_flatDB'],continue\n",
      "Write csv and shp, Method=Xmeans  Img=s1_unit_mean_  Band=['VV_gamma0_flatDB', 'VH_gamma0_flatDB']\n",
      "Method 1 CascadeKMeans Band=['VV_gamma0_flatDB'],continue\n",
      "Write csv and shp, Method=CascadeKMeans  Img=s1_unit_mean_  Band=['VV_gamma0_flatDB', 'VH_gamma0_flatDB']\n",
      "Threshould value is 0.46779486497054157\n",
      "Write csv and shp, Method=otsu  Img=s1_unit_mean_  Band=['VV_gamma0_flatDB']\n",
      "Method 2 otsu Band=['VV_gamma0_flatDB', 'VH_gamma0_flatDB'],continue\n"
     ]
    },
    {
     "name": "stderr",
     "output_type": "stream",
     "text": [
      "/root/GEE/Extract_algorithm.py:229: RuntimeWarning: invalid value encountered in divide\n",
      "  higher = (csum_intensity[-1] - csum_intensity[:-1]) / (csumh[:-1]+sys.float_info.min)\n"
     ]
    },
    {
     "name": "stdout",
     "output_type": "stream",
     "text": [
      "Threshould value is 0.46004246136749444\n",
      "Write csv and shp, Method=isodata  Img=s1_unit_mean_  Band=['VV_gamma0_flatDB']\n",
      "Method 2 isodata Band=['VV_gamma0_flatDB', 'VH_gamma0_flatDB'],continue\n",
      "Generating URL ...\n",
      "Downloading data from https://earthengine.googleapis.com/v1/projects/earthengine-legacy/thumbnails/a944c3909d5d287c9a668d03d437159a-8d6fec3a452a12cc10d035efed9d43dd:getPixels\n",
      "Please wait ...\n",
      "Data downloaded to /root/GEE/2019补齐结果/4864_Ascending_S1A_IW_GRDH_1SDV_20190714T115743_20190714T115808_028113_032CCD_07AC.tif\n",
      "image save right\n",
      "change image bandNames\n",
      "Generating URL ...\n",
      "Downloading data from https://earthengine.googleapis.com/v1/projects/earthengine-legacy/thumbnails/a32e9b154b3bdf395214dea3b09aff27-d48c6f5a7d70af05e7041bd0613638eb:getPixels\n",
      "Please wait ...\n",
      "Data downloaded to /root/GEE/2019补齐结果/4864_Descending_S1A_IW_GRDH_1SDV_20190721T235404_20190721T235429_028222_033027_8116.tif\n",
      "image save right\n",
      "change image bandNames\n",
      "Generating URL ...\n",
      "Downloading data from https://earthengine.googleapis.com/v1/projects/earthengine-legacy/thumbnails/c32dcbdcc7e5f65664aa2ab9323ba8b7-e8d0b132a367aa7c4f85c684763bec84:getPixels\n",
      "Please wait ...\n",
      "Data downloaded to /root/GEE/2019补齐结果/4864_s2a_sr_median.tif\n",
      "image save right\n",
      "change image bandNames\n",
      "Generating URL ...\n",
      "Downloading data from https://earthengine.googleapis.com/v1/projects/earthengine-legacy/thumbnails/b2390343b94e3e309ba072f017252de7-adc29b38eb98228bebe2a9272ed8c63b:getPixels\n",
      "Please wait ...\n",
      "Data downloaded to /root/GEE/2019补齐结果/4864_s1_unit_mean_.tif\n",
      "image save right\n",
      "change image bandNames\n",
      "Generating URL ...\n",
      "Downloading data from https://earthengine.googleapis.com/v1/projects/earthengine-legacy/thumbnails/f336b7c6a66e447633e3e9de6c734915-a6ea56d8f5cf288e845631c83d668603:getPixels\n",
      "Please wait ...\n",
      "Data downloaded to /root/GEE/2019补齐结果/4864_s1_unit_max_.tif\n",
      "image save right\n",
      "change image bandNames\n",
      "Generating URL ...\n",
      "Downloading data from https://earthengine.googleapis.com/v1/projects/earthengine-legacy/thumbnails/f73a8e4ea08f69d70cd758c6bd3aa2dd-becd8b043bb73433cd07dba0764ee217:getPixels\n",
      "Please wait ...\n",
      "Data downloaded to /root/GEE/2019补齐结果/4864_s1_unit_min_.tif\n",
      "image save right\n",
      "change image bandNames\n",
      "Generating URL ...\n",
      "Downloading data from https://earthengine.googleapis.com/v1/projects/earthengine-legacy/thumbnails/1ed0ac0c98865024946ca895581a7a09-df0afaf207886db1aedbc29c87a5d5d3:getPixels\n",
      "Please wait ...\n",
      "Data downloaded to /root/GEE/2019补齐结果/4864_DistortionAS1A_IW_GRDH_1SDV_20190714T115743_20190714T115808_028113_032CCD_07AC.tif\n",
      "image save right\n",
      "change image bandNames\n",
      "Generating URL ...\n",
      "Downloading data from https://earthengine.googleapis.com/v1/projects/earthengine-legacy/thumbnails/7a132ad3077e4264324a249059eac271-97152d157794a4bc3d9d00e6363ee26e:getPixels\n",
      "Please wait ...\n",
      "Data downloaded to /root/GEE/2019补齐结果/4864_DistortionDS1A_IW_GRDH_1SDV_20190721T235404_20190721T235429_028222_033027_8116.tif\n",
      "image save right\n",
      "change image bandNames\n",
      "该函数运行了 226.58039 秒\n"
     ]
    },
    {
     "name": "stderr",
     "output_type": "stream",
     "text": [
      " 68%|######7   | 165/244 [7:41:15<3:51:22, 175.73s/it]"
     ]
    },
    {
     "name": "stdout",
     "output_type": "stream",
     "text": [
      "Begin Filter ...\n"
     ]
    },
    {
     "name": "stderr",
     "output_type": "stream",
     "text": [
      "\n",
      "100%|##########| 11/11 [00:00<00:00, 1578.48it/s]\n",
      "\n",
      "100%|##########| 11/11 [00:00<00:00, 503.33it/s]\n",
      "\n",
      "100%|##########| 12/12 [00:00<00:00, 1731.45it/s]\n",
      "\n",
      "100%|##########| 12/12 [00:00<00:00, 503.01it/s]\n"
     ]
    },
    {
     "name": "stdout",
     "output_type": "stream",
     "text": [
      "Method 1 Kmean Band=['VV_gamma0_flatDB'],continue\n",
      "Write csv and shp, Method=Kmean  Img=s1_unit_mean_  Band=['VV_gamma0_flatDB', 'VH_gamma0_flatDB']\n",
      "Method 1 SNIC_Kmean Band=['VV_gamma0_flatDB'],continue\n",
      "Write csv and shp, Method=SNIC_Kmean  Img=s1_unit_mean_  Band=['VV_gamma0_flatDB', 'VH_gamma0_flatDB']\n",
      "Write csv and shp, Method=SNIC_Kmean  Img=s1_unit_mean_  Band=['VV_gamma0_flatDB', 'VH_gamma0_flatDB']\n",
      "Method 1 Xmeans Band=['VV_gamma0_flatDB'],continue\n",
      "Write csv and shp, Method=Xmeans  Img=s1_unit_mean_  Band=['VV_gamma0_flatDB', 'VH_gamma0_flatDB']\n",
      "Method 1 CascadeKMeans Band=['VV_gamma0_flatDB'],continue\n",
      "Write csv and shp, Method=CascadeKMeans  Img=s1_unit_mean_  Band=['VV_gamma0_flatDB', 'VH_gamma0_flatDB']\n",
      "Threshould value is 0.5629930241853859\n",
      "Write csv and shp, Method=otsu  Img=s1_unit_mean_  Band=['VV_gamma0_flatDB']\n",
      "Method 2 otsu Band=['VV_gamma0_flatDB', 'VH_gamma0_flatDB'],continue\n"
     ]
    },
    {
     "name": "stderr",
     "output_type": "stream",
     "text": [
      "/root/GEE/Extract_algorithm.py:229: RuntimeWarning: invalid value encountered in divide\n",
      "  higher = (csum_intensity[-1] - csum_intensity[:-1]) / (csumh[:-1]+sys.float_info.min)\n"
     ]
    },
    {
     "name": "stdout",
     "output_type": "stream",
     "text": [
      "Threshould value is 0.5672483537605563\n",
      "Write csv and shp, Method=isodata  Img=s1_unit_mean_  Band=['VV_gamma0_flatDB']\n",
      "Method 2 isodata Band=['VV_gamma0_flatDB', 'VH_gamma0_flatDB'],continue\n",
      "该函数运行了 169.56872 秒\n"
     ]
    },
    {
     "name": "stderr",
     "output_type": "stream",
     "text": [
      " 68%|######8   | 166/244 [7:44:04<3:46:02, 173.88s/it]"
     ]
    },
    {
     "name": "stdout",
     "output_type": "stream",
     "text": [
      "Begin Filter ...\n"
     ]
    },
    {
     "name": "stderr",
     "output_type": "stream",
     "text": [
      "\n",
      "100%|##########| 12/12 [00:00<00:00, 1828.91it/s]\n",
      "\n",
      "100%|##########| 12/12 [00:00<00:00, 553.14it/s]\n",
      "\n",
      "100%|##########| 12/12 [00:00<00:00, 1712.89it/s]\n",
      "\n",
      "100%|##########| 12/12 [00:00<00:00, 666.04it/s]\n"
     ]
    },
    {
     "name": "stdout",
     "output_type": "stream",
     "text": [
      "Method 1 Kmean Band=['VV_gamma0_flatDB'],continue\n",
      "Write csv and shp, Method=Kmean  Img=s1_unit_mean_  Band=['VV_gamma0_flatDB', 'VH_gamma0_flatDB']\n",
      "Method 1 SNIC_Kmean Band=['VV_gamma0_flatDB'],continue\n",
      "Write csv and shp, Method=SNIC_Kmean  Img=s1_unit_mean_  Band=['VV_gamma0_flatDB', 'VH_gamma0_flatDB']\n",
      "Write csv and shp, Method=SNIC_Kmean  Img=s1_unit_mean_  Band=['VV_gamma0_flatDB', 'VH_gamma0_flatDB']\n",
      "Method 1 Xmeans Band=['VV_gamma0_flatDB'],continue\n",
      "Write csv and shp, Method=Xmeans  Img=s1_unit_mean_  Band=['VV_gamma0_flatDB', 'VH_gamma0_flatDB']\n",
      "Method 1 CascadeKMeans Band=['VV_gamma0_flatDB'],continue\n",
      "Write csv and shp, Method=CascadeKMeans  Img=s1_unit_mean_  Band=['VV_gamma0_flatDB', 'VH_gamma0_flatDB']\n",
      "Threshould value is 0.3859482281527565\n",
      "Write csv and shp, Method=otsu  Img=s1_unit_mean_  Band=['VV_gamma0_flatDB']\n",
      "Method 2 otsu Band=['VV_gamma0_flatDB', 'VH_gamma0_flatDB'],continue\n"
     ]
    },
    {
     "name": "stderr",
     "output_type": "stream",
     "text": [
      "/root/GEE/Extract_algorithm.py:229: RuntimeWarning: invalid value encountered in divide\n",
      "  higher = (csum_intensity[-1] - csum_intensity[:-1]) / (csumh[:-1]+sys.float_info.min)\n"
     ]
    },
    {
     "name": "stdout",
     "output_type": "stream",
     "text": [
      "Threshould value is 0.3859482281527565\n",
      "Write csv and shp, Method=isodata  Img=s1_unit_mean_  Band=['VV_gamma0_flatDB']\n",
      "Method 2 isodata Band=['VV_gamma0_flatDB', 'VH_gamma0_flatDB'],continue\n",
      "该函数运行了 151.60367 秒\n"
     ]
    },
    {
     "name": "stderr",
     "output_type": "stream",
     "text": [
      " 68%|######8   | 167/244 [7:46:36<3:34:34, 167.20s/it]"
     ]
    },
    {
     "name": "stdout",
     "output_type": "stream",
     "text": [
      "Begin Filter ...\n"
     ]
    },
    {
     "name": "stderr",
     "output_type": "stream",
     "text": [
      "\n",
      "100%|##########| 12/12 [00:00<00:00, 1567.33it/s]\n",
      "\n",
      "100%|##########| 12/12 [00:00<00:00, 532.41it/s]\n",
      "\n",
      "100%|##########| 12/12 [00:00<00:00, 1720.98it/s]\n",
      "\n",
      "100%|##########| 12/12 [00:00<00:00, 666.17it/s]\n"
     ]
    },
    {
     "name": "stdout",
     "output_type": "stream",
     "text": [
      "Method 1 Kmean Band=['VV_gamma0_flatDB'],continue\n",
      "Write csv and shp, Method=Kmean  Img=s1_unit_mean_  Band=['VV_gamma0_flatDB', 'VH_gamma0_flatDB']\n",
      "Method 1 SNIC_Kmean Band=['VV_gamma0_flatDB'],continue\n",
      "Write csv and shp, Method=SNIC_Kmean  Img=s1_unit_mean_  Band=['VV_gamma0_flatDB', 'VH_gamma0_flatDB']\n",
      "Write csv and shp, Method=SNIC_Kmean  Img=s1_unit_mean_  Band=['VV_gamma0_flatDB', 'VH_gamma0_flatDB']\n",
      "Method 1 Xmeans Band=['VV_gamma0_flatDB'],continue\n",
      "Write csv and shp, Method=Xmeans  Img=s1_unit_mean_  Band=['VV_gamma0_flatDB', 'VH_gamma0_flatDB']\n",
      "Method 1 CascadeKMeans Band=['VV_gamma0_flatDB'],continue\n",
      "Write csv and shp, Method=CascadeKMeans  Img=s1_unit_mean_  Band=['VV_gamma0_flatDB', 'VH_gamma0_flatDB']\n",
      "Threshould value is 0.5477423165613434\n",
      "Write csv and shp, Method=otsu  Img=s1_unit_mean_  Band=['VV_gamma0_flatDB']\n",
      "Method 2 otsu Band=['VV_gamma0_flatDB', 'VH_gamma0_flatDB'],continue\n"
     ]
    },
    {
     "name": "stderr",
     "output_type": "stream",
     "text": [
      "/root/GEE/Extract_algorithm.py:229: RuntimeWarning: invalid value encountered in divide\n",
      "  higher = (csum_intensity[-1] - csum_intensity[:-1]) / (csumh[:-1]+sys.float_info.min)\n"
     ]
    },
    {
     "name": "stdout",
     "output_type": "stream",
     "text": [
      "Threshould value is 0.5505564891440823\n",
      "Write csv and shp, Method=isodata  Img=s1_unit_mean_  Band=['VV_gamma0_flatDB']\n",
      "Method 2 isodata Band=['VV_gamma0_flatDB', 'VH_gamma0_flatDB'],continue\n",
      "该函数运行了 141.67813 秒\n"
     ]
    },
    {
     "name": "stderr",
     "output_type": "stream",
     "text": [
      " 69%|######8   | 168/244 [7:48:57<3:22:05, 159.54s/it]"
     ]
    },
    {
     "name": "stdout",
     "output_type": "stream",
     "text": [
      "Begin Filter ...\n"
     ]
    },
    {
     "name": "stderr",
     "output_type": "stream",
     "text": [
      "\n",
      "100%|##########| 20/20 [00:00<00:00, 2017.56it/s]\n",
      "\n",
      "100%|##########| 20/20 [00:00<00:00, 320.67it/s]\n",
      "\n",
      "100%|##########| 21/21 [00:00<00:00, 1883.71it/s]\n",
      "\n",
      "100%|##########| 21/21 [00:00<00:00, 359.88it/s]\n"
     ]
    },
    {
     "name": "stdout",
     "output_type": "stream",
     "text": [
      "Method 1 Kmean Band=['VV_gamma0_flatDB'],continue\n",
      "Write csv and shp, Method=Kmean  Img=s1_unit_mean_  Band=['VV_gamma0_flatDB', 'VH_gamma0_flatDB']\n",
      "Method 1 SNIC_Kmean Band=['VV_gamma0_flatDB'],continue\n",
      "Write csv and shp, Method=SNIC_Kmean  Img=s1_unit_mean_  Band=['VV_gamma0_flatDB', 'VH_gamma0_flatDB']\n",
      "Write csv and shp, Method=SNIC_Kmean  Img=s1_unit_mean_  Band=['VV_gamma0_flatDB', 'VH_gamma0_flatDB']\n",
      "Method 1 Xmeans Band=['VV_gamma0_flatDB'],continue\n",
      "Write csv and shp, Method=Xmeans  Img=s1_unit_mean_  Band=['VV_gamma0_flatDB', 'VH_gamma0_flatDB']\n",
      "Method 1 CascadeKMeans Band=['VV_gamma0_flatDB'],continue\n",
      "Write csv and shp, Method=CascadeKMeans  Img=s1_unit_mean_  Band=['VV_gamma0_flatDB', 'VH_gamma0_flatDB']\n",
      "Threshould value is 0.47369521635175005\n",
      "Write csv and shp, Method=otsu  Img=s1_unit_mean_  Band=['VV_gamma0_flatDB']\n",
      "Method 2 otsu Band=['VV_gamma0_flatDB', 'VH_gamma0_flatDB'],continue\n"
     ]
    },
    {
     "name": "stderr",
     "output_type": "stream",
     "text": [
      "/root/GEE/Extract_algorithm.py:229: RuntimeWarning: invalid value encountered in divide\n",
      "  higher = (csum_intensity[-1] - csum_intensity[:-1]) / (csumh[:-1]+sys.float_info.min)\n"
     ]
    },
    {
     "name": "stdout",
     "output_type": "stream",
     "text": [
      "Threshould value is 0.47600077041874\n",
      "Write csv and shp, Method=isodata  Img=s1_unit_mean_  Band=['VV_gamma0_flatDB']\n",
      "Method 2 isodata Band=['VV_gamma0_flatDB', 'VH_gamma0_flatDB'],continue\n",
      "该函数运行了 158.41490 秒\n"
     ]
    },
    {
     "name": "stderr",
     "output_type": "stream",
     "text": [
      " 69%|######9   | 169/244 [7:51:36<3:19:00, 159.21s/it]"
     ]
    },
    {
     "name": "stdout",
     "output_type": "stream",
     "text": [
      "Begin Filter ...\n"
     ]
    },
    {
     "name": "stderr",
     "output_type": "stream",
     "text": [
      "\n",
      "100%|##########| 14/14 [00:00<00:00, 1442.86it/s]\n",
      "\n",
      "100%|##########| 14/14 [00:00<00:00, 485.95it/s]\n",
      "\n",
      "100%|##########| 14/14 [00:00<00:00, 1877.49it/s]\n",
      "\n",
      "100%|##########| 14/14 [00:00<00:00, 517.00it/s]\n"
     ]
    },
    {
     "name": "stdout",
     "output_type": "stream",
     "text": [
      "Method 1 Kmean Band=['VV_gamma0_flatDB'],continue\n",
      "Write csv and shp, Method=Kmean  Img=s1_unit_mean_  Band=['VV_gamma0_flatDB', 'VH_gamma0_flatDB']\n",
      "Method 1 SNIC_Kmean Band=['VV_gamma0_flatDB'],continue\n",
      "Write csv and shp, Method=SNIC_Kmean  Img=s1_unit_mean_  Band=['VV_gamma0_flatDB', 'VH_gamma0_flatDB']\n",
      "Write csv and shp, Method=SNIC_Kmean  Img=s1_unit_mean_  Band=['VV_gamma0_flatDB', 'VH_gamma0_flatDB']\n",
      "Method 1 Xmeans Band=['VV_gamma0_flatDB'],continue\n",
      "Write csv and shp, Method=Xmeans  Img=s1_unit_mean_  Band=['VV_gamma0_flatDB', 'VH_gamma0_flatDB']\n",
      "Method 1 CascadeKMeans Band=['VV_gamma0_flatDB'],continue\n",
      "Write csv and shp, Method=CascadeKMeans  Img=s1_unit_mean_  Band=['VV_gamma0_flatDB', 'VH_gamma0_flatDB']\n",
      "Threshould value is 0.4423828125\n",
      "Write csv and shp, Method=otsu  Img=s1_unit_mean_  Band=['VV_gamma0_flatDB']\n",
      "Method 2 otsu Band=['VV_gamma0_flatDB', 'VH_gamma0_flatDB'],continue\n"
     ]
    },
    {
     "name": "stderr",
     "output_type": "stream",
     "text": [
      "/root/GEE/Extract_algorithm.py:229: RuntimeWarning: invalid value encountered in divide\n",
      "  higher = (csum_intensity[-1] - csum_intensity[:-1]) / (csumh[:-1]+sys.float_info.min)\n"
     ]
    },
    {
     "name": "stdout",
     "output_type": "stream",
     "text": [
      "Threshould value is 0.4365234375\n",
      "Write csv and shp, Method=isodata  Img=s1_unit_mean_  Band=['VV_gamma0_flatDB']\n",
      "Method 2 isodata Band=['VV_gamma0_flatDB', 'VH_gamma0_flatDB'],continue\n",
      "该函数运行了 154.40102 秒\n"
     ]
    },
    {
     "name": "stderr",
     "output_type": "stream",
     "text": [
      " 70%|######9   | 170/244 [7:54:10<3:14:34, 157.77s/it]"
     ]
    },
    {
     "name": "stdout",
     "output_type": "stream",
     "text": [
      "Begin Filter ...\n"
     ]
    },
    {
     "name": "stderr",
     "output_type": "stream",
     "text": [
      "\n",
      "100%|##########| 12/12 [00:00<00:00, 1736.35it/s]\n",
      "\n",
      "100%|##########| 12/12 [00:00<00:00, 405.79it/s]\n",
      "\n",
      "100%|##########| 13/13 [00:00<00:00, 1682.28it/s]\n",
      "\n",
      "100%|##########| 13/13 [00:00<00:00, 453.04it/s]\n"
     ]
    },
    {
     "name": "stdout",
     "output_type": "stream",
     "text": [
      "Method 1 Kmean Band=['VV_gamma0_flatDB'],continue\n",
      "Write csv and shp, Method=Kmean  Img=s1_unit_mean_  Band=['VV_gamma0_flatDB', 'VH_gamma0_flatDB']\n",
      "Method 1 SNIC_Kmean Band=['VV_gamma0_flatDB'],continue\n",
      "Write csv and shp, Method=SNIC_Kmean  Img=s1_unit_mean_  Band=['VV_gamma0_flatDB', 'VH_gamma0_flatDB']\n",
      "Write csv and shp, Method=SNIC_Kmean  Img=s1_unit_mean_  Band=['VV_gamma0_flatDB', 'VH_gamma0_flatDB']\n",
      "Method 1 Xmeans Band=['VV_gamma0_flatDB'],continue\n",
      "Write csv and shp, Method=Xmeans  Img=s1_unit_mean_  Band=['VV_gamma0_flatDB', 'VH_gamma0_flatDB']\n",
      "Method 1 CascadeKMeans Band=['VV_gamma0_flatDB'],continue\n",
      "Write csv and shp, Method=CascadeKMeans  Img=s1_unit_mean_  Band=['VV_gamma0_flatDB', 'VH_gamma0_flatDB']\n",
      "Threshould value is 0.5417062570425347\n",
      "Write csv and shp, Method=otsu  Img=s1_unit_mean_  Band=['VV_gamma0_flatDB']\n",
      "Method 2 otsu Band=['VV_gamma0_flatDB', 'VH_gamma0_flatDB'],continue\n"
     ]
    },
    {
     "name": "stderr",
     "output_type": "stream",
     "text": [
      "/root/GEE/Extract_algorithm.py:229: RuntimeWarning: invalid value encountered in divide\n",
      "  higher = (csum_intensity[-1] - csum_intensity[:-1]) / (csumh[:-1]+sys.float_info.min)\n"
     ]
    },
    {
     "name": "stdout",
     "output_type": "stream",
     "text": [
      "Threshould value is 0.5439453125\n",
      "Write csv and shp, Method=isodata  Img=s1_unit_mean_  Band=['VV_gamma0_flatDB']\n",
      "Method 2 isodata Band=['VV_gamma0_flatDB', 'VH_gamma0_flatDB'],continue\n",
      "Generating URL ...\n",
      "Downloading data from https://earthengine.googleapis.com/v1/projects/earthengine-legacy/thumbnails/5243e9e96eaa8d429553d86d61c2b75a-73ba91f3a7d3185210e7521ac83a9385:getPixels\n",
      "Please wait ...\n",
      "Data downloaded to /root/GEE/2019补齐结果/4870_Ascending_S1A_IW_GRDH_1SDV_20190714T115808_20190714T115833_028113_032CCD_1F8C.tif\n",
      "image save right\n",
      "change image bandNames\n",
      "Generating URL ...\n",
      "Downloading data from https://earthengine.googleapis.com/v1/projects/earthengine-legacy/thumbnails/cf244679ec91c2c69a88798855301347-6c673dc6a95b927d8211a1544156e8f0:getPixels\n",
      "Please wait ...\n",
      "Data downloaded to /root/GEE/2019补齐结果/4870_Descending_S1A_IW_GRDH_1SDV_20190721T235404_20190721T235429_028222_033027_8116.tif\n",
      "image save right\n",
      "change image bandNames\n",
      "Generating URL ...\n",
      "Downloading data from https://earthengine.googleapis.com/v1/projects/earthengine-legacy/thumbnails/435eb48d963e7da79e966ffae5f3210c-a327381e7f86c4dc9aceca5bfb37d0bf:getPixels\n",
      "Please wait ...\n",
      "Data downloaded to /root/GEE/2019补齐结果/4870_s2a_sr_median.tif\n",
      "image save right\n",
      "change image bandNames\n",
      "Generating URL ...\n",
      "Downloading data from https://earthengine.googleapis.com/v1/projects/earthengine-legacy/thumbnails/86201067d84227e5353fc1b2c24ca2e2-9f782f06136b80b7e01acc27efbf4504:getPixels\n",
      "Please wait ...\n",
      "Data downloaded to /root/GEE/2019补齐结果/4870_s1_unit_mean_.tif\n",
      "image save right\n",
      "change image bandNames\n",
      "Generating URL ...\n",
      "Downloading data from https://earthengine.googleapis.com/v1/projects/earthengine-legacy/thumbnails/cf47bbfe46e00b470469d83f9a7b7e32-094d383d68a81843ecb8461c2308b321:getPixels\n",
      "Please wait ...\n",
      "Data downloaded to /root/GEE/2019补齐结果/4870_s1_unit_max_.tif\n",
      "image save right\n",
      "change image bandNames\n",
      "Generating URL ...\n",
      "Downloading data from https://earthengine.googleapis.com/v1/projects/earthengine-legacy/thumbnails/ef9976cacbf7d8aa92cba03c6dfe7ae3-8b00e03bcc9fa82b76e6d8dc9acd21a4:getPixels\n",
      "Please wait ...\n",
      "Data downloaded to /root/GEE/2019补齐结果/4870_s1_unit_min_.tif\n",
      "image save right\n",
      "change image bandNames\n",
      "Generating URL ...\n",
      "Downloading data from https://earthengine.googleapis.com/v1/projects/earthengine-legacy/thumbnails/f0d5af42e9aaacd729ccfcf46f5604f3-236232f72e2e63acb791ccca6cdee587:getPixels\n",
      "Please wait ...\n",
      "Data downloaded to /root/GEE/2019补齐结果/4870_DistortionAS1A_IW_GRDH_1SDV_20190714T115808_20190714T115833_028113_032CCD_1F8C.tif\n",
      "image save right\n",
      "change image bandNames\n",
      "Generating URL ...\n",
      "Downloading data from https://earthengine.googleapis.com/v1/projects/earthengine-legacy/thumbnails/32ae430d961baf2c7e0b491486109757-e841c020d6973fdbbcc715f7d29663ce:getPixels\n",
      "Please wait ...\n",
      "Data downloaded to /root/GEE/2019补齐结果/4870_DistortionDS1A_IW_GRDH_1SDV_20190721T235404_20190721T235429_028222_033027_8116.tif\n",
      "image save right\n",
      "change image bandNames\n",
      "该函数运行了 223.57047 秒\n"
     ]
    },
    {
     "name": "stderr",
     "output_type": "stream",
     "text": [
      " 70%|#######   | 171/244 [7:57:54<3:35:58, 177.51s/it]"
     ]
    },
    {
     "name": "stdout",
     "output_type": "stream",
     "text": [
      "Begin Filter ...\n"
     ]
    },
    {
     "name": "stderr",
     "output_type": "stream",
     "text": [
      "\n",
      "100%|##########| 21/21 [00:00<00:00, 1825.39it/s]\n",
      "\n",
      "100%|##########| 21/21 [00:00<00:00, 266.02it/s]\n",
      "\n",
      "100%|##########| 21/21 [00:00<00:00, 1945.45it/s]\n",
      "\n",
      "100%|##########| 21/21 [00:00<00:00, 294.62it/s]\n"
     ]
    },
    {
     "name": "stdout",
     "output_type": "stream",
     "text": [
      "Method 1 Kmean Band=['VV_gamma0_flatDB'],continue\n",
      "Write csv and shp, Method=Kmean  Img=s1_unit_mean_  Band=['VV_gamma0_flatDB', 'VH_gamma0_flatDB']\n",
      "Method 1 SNIC_Kmean Band=['VV_gamma0_flatDB'],continue\n",
      "Write csv and shp, Method=SNIC_Kmean  Img=s1_unit_mean_  Band=['VV_gamma0_flatDB', 'VH_gamma0_flatDB']\n",
      "Write csv and shp, Method=SNIC_Kmean  Img=s1_unit_mean_  Band=['VV_gamma0_flatDB', 'VH_gamma0_flatDB']\n",
      "Method 1 Xmeans Band=['VV_gamma0_flatDB'],continue\n",
      "Write csv and shp, Method=Xmeans  Img=s1_unit_mean_  Band=['VV_gamma0_flatDB', 'VH_gamma0_flatDB']\n",
      "Method 1 CascadeKMeans Band=['VV_gamma0_flatDB'],continue\n",
      "Write csv and shp, Method=CascadeKMeans  Img=s1_unit_mean_  Band=['VV_gamma0_flatDB', 'VH_gamma0_flatDB']\n",
      "Threshould value is 0.4267578125\n",
      "Write csv and shp, Method=otsu  Img=s1_unit_mean_  Band=['VV_gamma0_flatDB']\n",
      "Method 2 otsu Band=['VV_gamma0_flatDB', 'VH_gamma0_flatDB'],continue\n"
     ]
    },
    {
     "name": "stderr",
     "output_type": "stream",
     "text": [
      "/root/GEE/Extract_algorithm.py:229: RuntimeWarning: invalid value encountered in divide\n",
      "  higher = (csum_intensity[-1] - csum_intensity[:-1]) / (csumh[:-1]+sys.float_info.min)\n"
     ]
    },
    {
     "name": "stdout",
     "output_type": "stream",
     "text": [
      "Threshould value is 0.43586572931584044\n",
      "Write csv and shp, Method=isodata  Img=s1_unit_mean_  Band=['VV_gamma0_flatDB']\n",
      "Method 2 isodata Band=['VV_gamma0_flatDB', 'VH_gamma0_flatDB'],continue\n",
      "Generating URL ...\n",
      "Downloading data from https://earthengine.googleapis.com/v1/projects/earthengine-legacy/thumbnails/523bc6f666a91e4cd80c4459d736a684-b42233a1a677940eac3d2fa506ff706c:getPixels\n",
      "Please wait ...\n",
      "Data downloaded to /root/GEE/2019补齐结果/4871_Ascending_S1A_IW_GRDH_1SDV_20190714T115808_20190714T115833_028113_032CCD_1F8C.tif\n",
      "image save right\n",
      "change image bandNames\n",
      "Generating URL ...\n",
      "Downloading data from https://earthengine.googleapis.com/v1/projects/earthengine-legacy/thumbnails/ab2ec2b8f1f456d1fb0dd68ed957df15-c4fdb35187cb0e0f09066814c3fe3fcf:getPixels\n",
      "Please wait ...\n",
      "Data downloaded to /root/GEE/2019补齐结果/4871_Descending_S1A_IW_GRDH_1SDV_20190721T235404_20190721T235429_028222_033027_8116.tif\n",
      "image save right\n",
      "change image bandNames\n",
      "Generating URL ...\n",
      "Downloading data from https://earthengine.googleapis.com/v1/projects/earthengine-legacy/thumbnails/064d88bf9bfd80117250c23207b1e0c3-3968d3ec328d9c8596bbb9f3f38eff03:getPixels\n",
      "Please wait ...\n",
      "Data downloaded to /root/GEE/2019补齐结果/4871_s2a_sr_median.tif\n",
      "image save right\n",
      "change image bandNames\n",
      "Generating URL ...\n",
      "Downloading data from https://earthengine.googleapis.com/v1/projects/earthengine-legacy/thumbnails/e05e91aa63e3d21c84c3b4b2b4e05e09-6a9437a0f11034b310c31261ebba20f7:getPixels\n",
      "Please wait ...\n",
      "Data downloaded to /root/GEE/2019补齐结果/4871_s1_unit_mean_.tif\n",
      "image save right\n",
      "change image bandNames\n",
      "Generating URL ...\n",
      "Downloading data from https://earthengine.googleapis.com/v1/projects/earthengine-legacy/thumbnails/9309102b56dbaf03e878c1482955c323-0844d075a30c77ba1324b9ebef0c1055:getPixels\n",
      "Please wait ...\n",
      "Data downloaded to /root/GEE/2019补齐结果/4871_s1_unit_max_.tif\n",
      "image save right\n",
      "change image bandNames\n",
      "Generating URL ...\n",
      "Downloading data from https://earthengine.googleapis.com/v1/projects/earthengine-legacy/thumbnails/d93dc70337fca617e33cb16ab95de0ad-9e9c60e65b5e92f387cbfd6780a99f40:getPixels\n",
      "Please wait ...\n",
      "Data downloaded to /root/GEE/2019补齐结果/4871_s1_unit_min_.tif\n",
      "image save right\n",
      "change image bandNames\n",
      "Generating URL ...\n",
      "Downloading data from https://earthengine.googleapis.com/v1/projects/earthengine-legacy/thumbnails/f7cacbc4c9736c99c5668cf54803efd8-0d85c14c25bb9347f33ae1ece0885cd7:getPixels\n",
      "Please wait ...\n",
      "Data downloaded to /root/GEE/2019补齐结果/4871_DistortionAS1A_IW_GRDH_1SDV_20190714T115808_20190714T115833_028113_032CCD_1F8C.tif\n",
      "image save right\n",
      "change image bandNames\n",
      "Generating URL ...\n",
      "Downloading data from https://earthengine.googleapis.com/v1/projects/earthengine-legacy/thumbnails/69898ef2b46c34407a73f152a0d881b4-afae327ed52023a9b2c9de8165f5f7ab:getPixels\n",
      "Please wait ...\n",
      "Data downloaded to /root/GEE/2019补齐结果/4871_DistortionDS1A_IW_GRDH_1SDV_20190721T235404_20190721T235429_028222_033027_8116.tif\n",
      "image save right\n",
      "change image bandNames\n",
      "该函数运行了 226.24153 秒\n"
     ]
    },
    {
     "name": "stderr",
     "output_type": "stream",
     "text": [
      " 70%|#######   | 172/244 [8:01:40<3:50:33, 192.13s/it]"
     ]
    },
    {
     "name": "stdout",
     "output_type": "stream",
     "text": [
      "Begin Filter ...\n"
     ]
    },
    {
     "name": "stderr",
     "output_type": "stream",
     "text": [
      "\n",
      "100%|##########| 12/12 [00:00<00:00, 1459.69it/s]\n",
      "\n",
      "100%|##########| 12/12 [00:00<00:00, 550.96it/s]\n",
      "\n",
      "100%|##########| 12/12 [00:00<00:00, 1471.60it/s]\n",
      "\n",
      "100%|##########| 12/12 [00:00<00:00, 394.04it/s]\n"
     ]
    },
    {
     "name": "stdout",
     "output_type": "stream",
     "text": [
      "Method 1 Kmean Band=['VV_gamma0_flatDB'],continue\n",
      "Write csv and shp, Method=Kmean  Img=s1_unit_mean_  Band=['VV_gamma0_flatDB', 'VH_gamma0_flatDB']\n",
      "Method 1 SNIC_Kmean Band=['VV_gamma0_flatDB'],continue\n",
      "Write csv and shp, Method=SNIC_Kmean  Img=s1_unit_mean_  Band=['VV_gamma0_flatDB', 'VH_gamma0_flatDB']\n",
      "Write csv and shp, Method=SNIC_Kmean  Img=s1_unit_mean_  Band=['VV_gamma0_flatDB', 'VH_gamma0_flatDB']\n",
      "Method 1 Xmeans Band=['VV_gamma0_flatDB'],continue\n",
      "Write csv and shp, Method=Xmeans  Img=s1_unit_mean_  Band=['VV_gamma0_flatDB', 'VH_gamma0_flatDB']\n",
      "Method 1 CascadeKMeans Band=['VV_gamma0_flatDB'],continue\n",
      "Write csv and shp, Method=CascadeKMeans  Img=s1_unit_mean_  Band=['VV_gamma0_flatDB', 'VH_gamma0_flatDB']\n",
      "Threshould value is 0.5063927673931562\n",
      "Write csv and shp, Method=otsu  Img=s1_unit_mean_  Band=['VV_gamma0_flatDB']\n",
      "Method 2 otsu Band=['VV_gamma0_flatDB', 'VH_gamma0_flatDB'],continue\n"
     ]
    },
    {
     "name": "stderr",
     "output_type": "stream",
     "text": [
      "/root/GEE/Extract_algorithm.py:229: RuntimeWarning: invalid value encountered in divide\n",
      "  higher = (csum_intensity[-1] - csum_intensity[:-1]) / (csumh[:-1]+sys.float_info.min)\n"
     ]
    },
    {
     "name": "stdout",
     "output_type": "stream",
     "text": [
      "Threshould value is 0.5090623745662481\n",
      "Write csv and shp, Method=isodata  Img=s1_unit_mean_  Band=['VV_gamma0_flatDB']\n",
      "Method 2 isodata Band=['VV_gamma0_flatDB', 'VH_gamma0_flatDB'],continue\n",
      "该函数运行了 148.57863 秒\n"
     ]
    },
    {
     "name": "stderr",
     "output_type": "stream",
     "text": [
      " 71%|#######   | 173/244 [8:04:09<3:31:53, 179.07s/it]"
     ]
    },
    {
     "name": "stdout",
     "output_type": "stream",
     "text": [
      "Begin Filter ...\n"
     ]
    },
    {
     "name": "stderr",
     "output_type": "stream",
     "text": [
      "\n",
      "100%|##########| 16/16 [00:00<00:00, 1800.57it/s]\n",
      "\n",
      "100%|##########| 16/16 [00:00<00:00, 314.46it/s]\n",
      "\n",
      "100%|##########| 16/16 [00:00<00:00, 1704.35it/s]\n",
      "\n",
      "100%|##########| 16/16 [00:00<00:00, 409.07it/s]\n"
     ]
    },
    {
     "name": "stdout",
     "output_type": "stream",
     "text": [
      "Method 1 Kmean Band=['VV_gamma0_flatDB'],continue\n",
      "Write csv and shp, Method=Kmean  Img=s1_unit_mean_  Band=['VV_gamma0_flatDB', 'VH_gamma0_flatDB']\n",
      "Method 1 SNIC_Kmean Band=['VV_gamma0_flatDB'],continue\n",
      "Write csv and shp, Method=SNIC_Kmean  Img=s1_unit_mean_  Band=['VV_gamma0_flatDB', 'VH_gamma0_flatDB']\n",
      "Write csv and shp, Method=SNIC_Kmean  Img=s1_unit_mean_  Band=['VV_gamma0_flatDB', 'VH_gamma0_flatDB']\n",
      "Method 1 Xmeans Band=['VV_gamma0_flatDB'],continue\n",
      "Write csv and shp, Method=Xmeans  Img=s1_unit_mean_  Band=['VV_gamma0_flatDB', 'VH_gamma0_flatDB']\n",
      "Method 1 CascadeKMeans Band=['VV_gamma0_flatDB'],continue\n",
      "Write csv and shp, Method=CascadeKMeans  Img=s1_unit_mean_  Band=['VV_gamma0_flatDB', 'VH_gamma0_flatDB']\n",
      "Threshould value is 0.4654635857941181\n",
      "Write csv and shp, Method=otsu  Img=s1_unit_mean_  Band=['VV_gamma0_flatDB']\n",
      "Method 2 otsu Band=['VV_gamma0_flatDB', 'VH_gamma0_flatDB'],continue\n"
     ]
    },
    {
     "name": "stderr",
     "output_type": "stream",
     "text": [
      "/root/GEE/Extract_algorithm.py:229: RuntimeWarning: invalid value encountered in divide\n",
      "  higher = (csum_intensity[-1] - csum_intensity[:-1]) / (csumh[:-1]+sys.float_info.min)\n"
     ]
    },
    {
     "name": "stdout",
     "output_type": "stream",
     "text": [
      "Threshould value is 0.4671063137853991\n",
      "Write csv and shp, Method=isodata  Img=s1_unit_mean_  Band=['VV_gamma0_flatDB']\n",
      "Method 2 isodata Band=['VV_gamma0_flatDB', 'VH_gamma0_flatDB'],continue\n",
      "该函数运行了 152.03423 秒\n"
     ]
    },
    {
     "name": "stderr",
     "output_type": "stream",
     "text": [
      " 71%|#######1  | 174/244 [8:06:41<3:19:27, 170.96s/it]"
     ]
    },
    {
     "name": "stdout",
     "output_type": "stream",
     "text": [
      "Begin Filter ...\n"
     ]
    },
    {
     "name": "stderr",
     "output_type": "stream",
     "text": [
      "\n",
      "100%|##########| 14/14 [00:00<00:00, 1692.47it/s]\n",
      "\n",
      "100%|##########| 14/14 [00:00<00:00, 540.32it/s]\n",
      "\n",
      "100%|##########| 14/14 [00:00<00:00, 1887.69it/s]\n",
      "\n",
      "100%|##########| 14/14 [00:00<00:00, 518.24it/s]\n"
     ]
    },
    {
     "name": "stdout",
     "output_type": "stream",
     "text": [
      "Method 1 Kmean Band=['VV_gamma0_flatDB'],continue\n",
      "Write csv and shp, Method=Kmean  Img=s1_unit_mean_  Band=['VV_gamma0_flatDB', 'VH_gamma0_flatDB']\n",
      "Method 1 SNIC_Kmean Band=['VV_gamma0_flatDB'],continue\n",
      "Write csv and shp, Method=SNIC_Kmean  Img=s1_unit_mean_  Band=['VV_gamma0_flatDB', 'VH_gamma0_flatDB']\n",
      "Write csv and shp, Method=SNIC_Kmean  Img=s1_unit_mean_  Band=['VV_gamma0_flatDB', 'VH_gamma0_flatDB']\n",
      "Method 1 Xmeans Band=['VV_gamma0_flatDB'],continue\n",
      "Write csv and shp, Method=Xmeans  Img=s1_unit_mean_  Band=['VV_gamma0_flatDB', 'VH_gamma0_flatDB']\n",
      "Method 1 CascadeKMeans Band=['VV_gamma0_flatDB'],continue\n",
      "Write csv and shp, Method=CascadeKMeans  Img=s1_unit_mean_  Band=['VV_gamma0_flatDB', 'VH_gamma0_flatDB']\n",
      "Threshould value is 0.48889478892942356\n",
      "Write csv and shp, Method=otsu  Img=s1_unit_mean_  Band=['VV_gamma0_flatDB']\n",
      "Method 2 otsu Band=['VV_gamma0_flatDB', 'VH_gamma0_flatDB'],continue\n"
     ]
    },
    {
     "name": "stderr",
     "output_type": "stream",
     "text": [
      "/root/GEE/Extract_algorithm.py:229: RuntimeWarning: invalid value encountered in divide\n",
      "  higher = (csum_intensity[-1] - csum_intensity[:-1]) / (csumh[:-1]+sys.float_info.min)\n"
     ]
    },
    {
     "name": "stdout",
     "output_type": "stream",
     "text": [
      "Threshould value is 0.4912109375\n",
      "Write csv and shp, Method=isodata  Img=s1_unit_mean_  Band=['VV_gamma0_flatDB']\n",
      "Method 2 isodata Band=['VV_gamma0_flatDB', 'VH_gamma0_flatDB'],continue\n",
      "该函数运行了 151.22780 秒\n"
     ]
    },
    {
     "name": "stderr",
     "output_type": "stream",
     "text": [
      " 72%|#######1  | 175/244 [8:09:12<3:09:47, 165.04s/it]"
     ]
    },
    {
     "name": "stdout",
     "output_type": "stream",
     "text": [
      "Begin Filter ...\n"
     ]
    },
    {
     "name": "stderr",
     "output_type": "stream",
     "text": [
      "\n",
      "100%|##########| 14/14 [00:00<00:00, 1379.67it/s]\n",
      "\n",
      "100%|##########| 14/14 [00:00<00:00, 479.31it/s]\n",
      "\n",
      "100%|##########| 14/14 [00:00<00:00, 1934.96it/s]\n",
      "\n",
      "100%|##########| 14/14 [00:00<00:00, 335.57it/s]\n"
     ]
    },
    {
     "name": "stdout",
     "output_type": "stream",
     "text": [
      "Method 1 Kmean Band=['VV_gamma0_flatDB'],continue\n",
      "Write csv and shp, Method=Kmean  Img=s1_unit_mean_  Band=['VV_gamma0_flatDB', 'VH_gamma0_flatDB']\n",
      "Method 1 SNIC_Kmean Band=['VV_gamma0_flatDB'],continue\n",
      "Write csv and shp, Method=SNIC_Kmean  Img=s1_unit_mean_  Band=['VV_gamma0_flatDB', 'VH_gamma0_flatDB']\n",
      "Write csv and shp, Method=SNIC_Kmean  Img=s1_unit_mean_  Band=['VV_gamma0_flatDB', 'VH_gamma0_flatDB']\n",
      "Method 1 Xmeans Band=['VV_gamma0_flatDB'],continue\n",
      "Write csv and shp, Method=Xmeans  Img=s1_unit_mean_  Band=['VV_gamma0_flatDB', 'VH_gamma0_flatDB']\n",
      "Method 1 CascadeKMeans Band=['VV_gamma0_flatDB'],continue\n",
      "Write csv and shp, Method=CascadeKMeans  Img=s1_unit_mean_  Band=['VV_gamma0_flatDB', 'VH_gamma0_flatDB']\n",
      "Threshould value is 0.46321108271888844\n",
      "Write csv and shp, Method=otsu  Img=s1_unit_mean_  Band=['VV_gamma0_flatDB']\n",
      "Method 2 otsu Band=['VV_gamma0_flatDB', 'VH_gamma0_flatDB'],continue\n"
     ]
    },
    {
     "name": "stderr",
     "output_type": "stream",
     "text": [
      "/root/GEE/Extract_algorithm.py:229: RuntimeWarning: invalid value encountered in divide\n",
      "  higher = (csum_intensity[-1] - csum_intensity[:-1]) / (csumh[:-1]+sys.float_info.min)\n"
     ]
    },
    {
     "name": "stdout",
     "output_type": "stream",
     "text": [
      "Threshould value is 0.4677734375\n",
      "Write csv and shp, Method=isodata  Img=s1_unit_mean_  Band=['VV_gamma0_flatDB']\n",
      "Method 2 isodata Band=['VV_gamma0_flatDB', 'VH_gamma0_flatDB'],continue\n",
      "该函数运行了 149.13744 秒\n"
     ]
    },
    {
     "name": "stderr",
     "output_type": "stream",
     "text": [
      " 72%|#######2  | 176/244 [8:11:41<3:01:38, 160.27s/it]"
     ]
    },
    {
     "name": "stdout",
     "output_type": "stream",
     "text": [
      "Begin Filter ...\n"
     ]
    },
    {
     "name": "stderr",
     "output_type": "stream",
     "text": [
      "\n",
      "100%|##########| 16/16 [00:00<00:00, 1792.05it/s]\n",
      "\n",
      "100%|##########| 16/16 [00:00<00:00, 397.05it/s]\n",
      "\n",
      "100%|##########| 16/16 [00:00<00:00, 1794.21it/s]\n",
      "\n",
      "100%|##########| 16/16 [00:00<00:00, 388.98it/s]\n"
     ]
    },
    {
     "name": "stdout",
     "output_type": "stream",
     "text": [
      "Method 1 Kmean Band=['VV_gamma0_flatDB'],continue\n",
      "Write csv and shp, Method=Kmean  Img=s1_unit_mean_  Band=['VV_gamma0_flatDB', 'VH_gamma0_flatDB']\n",
      "Method 1 SNIC_Kmean Band=['VV_gamma0_flatDB'],continue\n",
      "Write csv and shp, Method=SNIC_Kmean  Img=s1_unit_mean_  Band=['VV_gamma0_flatDB', 'VH_gamma0_flatDB']\n",
      "Write csv and shp, Method=SNIC_Kmean  Img=s1_unit_mean_  Band=['VV_gamma0_flatDB', 'VH_gamma0_flatDB']\n",
      "Method 1 Xmeans Band=['VV_gamma0_flatDB'],continue\n",
      "Write csv and shp, Method=Xmeans  Img=s1_unit_mean_  Band=['VV_gamma0_flatDB', 'VH_gamma0_flatDB']\n",
      "Method 1 CascadeKMeans Band=['VV_gamma0_flatDB'],continue\n",
      "Write csv and shp, Method=CascadeKMeans  Img=s1_unit_mean_  Band=['VV_gamma0_flatDB', 'VH_gamma0_flatDB']\n",
      "Threshould value is 0.43372847326961783\n",
      "Write csv and shp, Method=otsu  Img=s1_unit_mean_  Band=['VV_gamma0_flatDB']\n",
      "Method 2 otsu Band=['VV_gamma0_flatDB', 'VH_gamma0_flatDB'],continue\n"
     ]
    },
    {
     "name": "stderr",
     "output_type": "stream",
     "text": [
      "/root/GEE/Extract_algorithm.py:229: RuntimeWarning: invalid value encountered in divide\n",
      "  higher = (csum_intensity[-1] - csum_intensity[:-1]) / (csumh[:-1]+sys.float_info.min)\n"
     ]
    },
    {
     "name": "stdout",
     "output_type": "stream",
     "text": [
      "Threshould value is 0.4367822909606052\n",
      "Write csv and shp, Method=isodata  Img=s1_unit_mean_  Band=['VV_gamma0_flatDB']\n",
      "Method 2 isodata Band=['VV_gamma0_flatDB', 'VH_gamma0_flatDB'],continue\n",
      "该函数运行了 154.06762 秒\n"
     ]
    },
    {
     "name": "stderr",
     "output_type": "stream",
     "text": [
      " 73%|#######2  | 177/244 [8:14:15<2:56:53, 158.41s/it]"
     ]
    },
    {
     "name": "stdout",
     "output_type": "stream",
     "text": [
      "Begin Filter ...\n"
     ]
    },
    {
     "name": "stderr",
     "output_type": "stream",
     "text": [
      "\n",
      "100%|##########| 14/14 [00:00<00:00, 1796.17it/s]\n",
      "\n",
      "100%|##########| 14/14 [00:00<00:00, 494.39it/s]\n",
      "\n",
      "100%|##########| 15/15 [00:00<00:00, 1928.77it/s]\n",
      "\n",
      "100%|##########| 15/15 [00:00<00:00, 465.30it/s]\n"
     ]
    },
    {
     "name": "stdout",
     "output_type": "stream",
     "text": [
      "Method 1 Kmean Band=['VV_gamma0_flatDB'],continue\n",
      "Write csv and shp, Method=Kmean  Img=s1_unit_mean_  Band=['VV_gamma0_flatDB', 'VH_gamma0_flatDB']\n",
      "Method 1 SNIC_Kmean Band=['VV_gamma0_flatDB'],continue\n",
      "Write csv and shp, Method=SNIC_Kmean  Img=s1_unit_mean_  Band=['VV_gamma0_flatDB', 'VH_gamma0_flatDB']\n",
      "Write csv and shp, Method=SNIC_Kmean  Img=s1_unit_mean_  Band=['VV_gamma0_flatDB', 'VH_gamma0_flatDB']\n",
      "Method 1 Xmeans Band=['VV_gamma0_flatDB'],continue\n",
      "Write csv and shp, Method=Xmeans  Img=s1_unit_mean_  Band=['VV_gamma0_flatDB', 'VH_gamma0_flatDB']\n",
      "Method 1 CascadeKMeans Band=['VV_gamma0_flatDB'],continue\n",
      "Write csv and shp, Method=CascadeKMeans  Img=s1_unit_mean_  Band=['VV_gamma0_flatDB', 'VH_gamma0_flatDB']\n",
      "Threshould value is 0.5597548185698814\n",
      "Write csv and shp, Method=otsu  Img=s1_unit_mean_  Band=['VV_gamma0_flatDB']\n",
      "Method 2 otsu Band=['VV_gamma0_flatDB', 'VH_gamma0_flatDB'],continue\n",
      "Threshould value is 0.5468066580493348\n",
      "Write csv and shp, Method=isodata  Img=s1_unit_mean_  Band=['VV_gamma0_flatDB']\n",
      "Method 2 isodata Band=['VV_gamma0_flatDB', 'VH_gamma0_flatDB'],continue\n",
      "该函数运行了 150.56184 秒\n"
     ]
    },
    {
     "name": "stderr",
     "output_type": "stream",
     "text": [
      " 73%|#######2  | 178/244 [8:16:46<2:51:39, 156.06s/it]"
     ]
    },
    {
     "name": "stdout",
     "output_type": "stream",
     "text": [
      "Begin Filter ...\n"
     ]
    },
    {
     "name": "stderr",
     "output_type": "stream",
     "text": [
      "\n",
      "100%|##########| 12/12 [00:00<00:00, 1812.06it/s]\n",
      "\n",
      "100%|##########| 12/12 [00:00<00:00, 559.92it/s]\n",
      "\n",
      "100%|##########| 13/13 [00:00<00:00, 1376.92it/s]\n",
      "\n",
      "100%|##########| 13/13 [00:00<00:00, 615.92it/s]\n"
     ]
    },
    {
     "name": "stdout",
     "output_type": "stream",
     "text": [
      "Method 1 Kmean Band=['VV_gamma0_flatDB'],continue\n",
      "Write csv and shp, Method=Kmean  Img=s1_unit_mean_  Band=['VV_gamma0_flatDB', 'VH_gamma0_flatDB']\n",
      "Method 1 SNIC_Kmean Band=['VV_gamma0_flatDB'],continue\n",
      "Write csv and shp, Method=SNIC_Kmean  Img=s1_unit_mean_  Band=['VV_gamma0_flatDB', 'VH_gamma0_flatDB']\n",
      "Write csv and shp, Method=SNIC_Kmean  Img=s1_unit_mean_  Band=['VV_gamma0_flatDB', 'VH_gamma0_flatDB']\n",
      "Method 1 Xmeans Band=['VV_gamma0_flatDB'],continue\n",
      "Write csv and shp, Method=Xmeans  Img=s1_unit_mean_  Band=['VV_gamma0_flatDB', 'VH_gamma0_flatDB']\n",
      "Method 1 CascadeKMeans Band=['VV_gamma0_flatDB'],continue\n",
      "Write csv and shp, Method=CascadeKMeans  Img=s1_unit_mean_  Band=['VV_gamma0_flatDB', 'VH_gamma0_flatDB']\n",
      "Threshould value is 0.596738726954763\n",
      "Write csv and shp, Method=otsu  Img=s1_unit_mean_  Band=['VV_gamma0_flatDB']\n",
      "Method 2 otsu Band=['VV_gamma0_flatDB', 'VH_gamma0_flatDB'],continue\n"
     ]
    },
    {
     "name": "stderr",
     "output_type": "stream",
     "text": [
      "/root/GEE/Extract_algorithm.py:229: RuntimeWarning: invalid value encountered in divide\n",
      "  higher = (csum_intensity[-1] - csum_intensity[:-1]) / (csumh[:-1]+sys.float_info.min)\n"
     ]
    },
    {
     "name": "stdout",
     "output_type": "stream",
     "text": [
      "Threshould value is 0.5989981314894205\n",
      "Write csv and shp, Method=isodata  Img=s1_unit_mean_  Band=['VV_gamma0_flatDB']\n",
      "Method 2 isodata Band=['VV_gamma0_flatDB', 'VH_gamma0_flatDB'],continue\n",
      "Generating URL ...\n",
      "Downloading data from https://earthengine.googleapis.com/v1/projects/earthengine-legacy/thumbnails/68cbdb7db1cc233d0f43a25efc598cd5-57bc013d3d504429bc00f003fdce05e4:getPixels\n",
      "Please wait ...\n",
      "Data downloaded to /root/GEE/2019补齐结果/4878_Ascending_S1A_IW_GRDH_1SDV_20190714T115808_20190714T115833_028113_032CCD_1F8C.tif\n",
      "image save right\n",
      "change image bandNames\n",
      "Generating URL ...\n",
      "Downloading data from https://earthengine.googleapis.com/v1/projects/earthengine-legacy/thumbnails/0e4937b1bb2c1c25e1da93fa265f2a20-ba50d862e6ea6ea79f04216d5e40dc3a:getPixels\n",
      "Please wait ...\n",
      "Data downloaded to /root/GEE/2019补齐结果/4878_Descending_S1A_IW_GRDH_1SDV_20190721T235404_20190721T235429_028222_033027_8116.tif\n",
      "image save right\n",
      "change image bandNames\n",
      "Generating URL ...\n",
      "Downloading data from https://earthengine.googleapis.com/v1/projects/earthengine-legacy/thumbnails/1dbc2609fe639b3e5a132e0671fe81bf-7cbea22f9d97935c3d251ca13eaafc0d:getPixels\n",
      "Please wait ...\n",
      "Data downloaded to /root/GEE/2019补齐结果/4878_s2a_sr_median.tif\n",
      "image save right\n",
      "change image bandNames\n",
      "Generating URL ...\n",
      "Downloading data from https://earthengine.googleapis.com/v1/projects/earthengine-legacy/thumbnails/0cecbc8fab8855b616cd95b9a44a8658-d5bb85917a715fd4d273bab086be290b:getPixels\n",
      "Please wait ...\n",
      "Data downloaded to /root/GEE/2019补齐结果/4878_s1_unit_mean_.tif\n",
      "image save right\n",
      "change image bandNames\n",
      "Generating URL ...\n",
      "Downloading data from https://earthengine.googleapis.com/v1/projects/earthengine-legacy/thumbnails/ab1ac8026e8e01e0579869b8c8b7ed75-db76da0e9a227ed3fd3ea0b95ab3a224:getPixels\n",
      "Please wait ...\n",
      "Data downloaded to /root/GEE/2019补齐结果/4878_s1_unit_max_.tif\n",
      "image save right\n",
      "change image bandNames\n",
      "Generating URL ...\n",
      "Downloading data from https://earthengine.googleapis.com/v1/projects/earthengine-legacy/thumbnails/c96ebc2f782b873cd696b983bdaaf12a-5e4bf77ea622282b33399a80718a0388:getPixels\n",
      "Please wait ...\n",
      "Data downloaded to /root/GEE/2019补齐结果/4878_s1_unit_min_.tif\n",
      "image save right\n",
      "change image bandNames\n",
      "Generating URL ...\n",
      "Downloading data from https://earthengine.googleapis.com/v1/projects/earthengine-legacy/thumbnails/fcc4059938f94bb0dc69ffd9209a1d01-1e8ee7559ba71da66d05c0767b58e863:getPixels\n",
      "Please wait ...\n",
      "Data downloaded to /root/GEE/2019补齐结果/4878_DistortionAS1A_IW_GRDH_1SDV_20190714T115808_20190714T115833_028113_032CCD_1F8C.tif\n",
      "image save right\n",
      "change image bandNames\n",
      "Generating URL ...\n",
      "Downloading data from https://earthengine.googleapis.com/v1/projects/earthengine-legacy/thumbnails/3c1411873131ab6f2ef7976be772f88b-d695e1bbccd3a75f281f70d8d09d9e30:getPixels\n",
      "Please wait ...\n",
      "Data downloaded to /root/GEE/2019补齐结果/4878_DistortionDS1A_IW_GRDH_1SDV_20190721T235404_20190721T235429_028222_033027_8116.tif\n",
      "image save right\n",
      "change image bandNames\n",
      "该函数运行了 214.13925 秒\n"
     ]
    },
    {
     "name": "stderr",
     "output_type": "stream",
     "text": [
      " 73%|#######3  | 179/244 [8:20:20<3:07:56, 173.48s/it]"
     ]
    },
    {
     "name": "stdout",
     "output_type": "stream",
     "text": [
      "Begin Filter ...\n"
     ]
    },
    {
     "name": "stderr",
     "output_type": "stream",
     "text": [
      "\n",
      "100%|##########| 14/14 [00:00<00:00, 1766.93it/s]\n",
      "\n",
      "100%|##########| 14/14 [00:00<00:00, 919.40it/s]\n",
      "\n",
      "100%|##########| 14/14 [00:00<00:00, 1618.62it/s]\n",
      "\n",
      "100%|##########| 14/14 [00:00<00:00, 893.30it/s]\n"
     ]
    },
    {
     "name": "stdout",
     "output_type": "stream",
     "text": [
      "Method 1 Kmean Band=['VV_gamma0_flatDB'],continue\n",
      "Write csv and shp, Method=Kmean  Img=s1_unit_mean_  Band=['VV_gamma0_flatDB', 'VH_gamma0_flatDB']\n",
      "Method 1 SNIC_Kmean Band=['VV_gamma0_flatDB'],continue\n",
      "Write csv and shp, Method=SNIC_Kmean  Img=s1_unit_mean_  Band=['VV_gamma0_flatDB', 'VH_gamma0_flatDB']\n",
      "Write csv and shp, Method=SNIC_Kmean  Img=s1_unit_mean_  Band=['VV_gamma0_flatDB', 'VH_gamma0_flatDB']\n",
      "Method 1 Xmeans Band=['VV_gamma0_flatDB'],continue\n",
      "Write csv and shp, Method=Xmeans  Img=s1_unit_mean_  Band=['VV_gamma0_flatDB', 'VH_gamma0_flatDB']\n",
      "Method 1 CascadeKMeans Band=['VV_gamma0_flatDB'],continue\n",
      "Write csv and shp, Method=CascadeKMeans  Img=s1_unit_mean_  Band=['VV_gamma0_flatDB', 'VH_gamma0_flatDB']\n",
      "Threshould value is 0.5357158811047578\n",
      "Write csv and shp, Method=otsu  Img=s1_unit_mean_  Band=['VV_gamma0_flatDB']\n",
      "Method 2 otsu Band=['VV_gamma0_flatDB', 'VH_gamma0_flatDB'],continue\n",
      "Threshould value is 0.5302734375\n",
      "Write csv and shp, Method=isodata  Img=s1_unit_mean_  Band=['VV_gamma0_flatDB']\n",
      "Method 2 isodata Band=['VV_gamma0_flatDB', 'VH_gamma0_flatDB'],continue\n",
      "该函数运行了 155.32577 秒\n"
     ]
    },
    {
     "name": "stderr",
     "output_type": "stream",
     "text": [
      " 74%|#######3  | 180/244 [8:22:55<2:59:14, 168.04s/it]"
     ]
    },
    {
     "name": "stdout",
     "output_type": "stream",
     "text": [
      "Begin Filter ...\n"
     ]
    },
    {
     "name": "stderr",
     "output_type": "stream",
     "text": [
      "\n",
      "100%|##########| 17/17 [00:00<00:00, 1783.65it/s]\n",
      "\n",
      "100%|##########| 17/17 [00:00<00:00, 663.82it/s]\n",
      "\n",
      "100%|##########| 17/17 [00:00<00:00, 1825.01it/s]\n",
      "\n",
      "100%|##########| 17/17 [00:00<00:00, 753.96it/s]\n"
     ]
    },
    {
     "name": "stdout",
     "output_type": "stream",
     "text": [
      "Method 1 Kmean Band=['VV_gamma0_flatDB'],continue\n",
      "Write csv and shp, Method=Kmean  Img=s1_unit_mean_  Band=['VV_gamma0_flatDB', 'VH_gamma0_flatDB']\n",
      "Method 1 SNIC_Kmean Band=['VV_gamma0_flatDB'],continue\n",
      "Write csv and shp, Method=SNIC_Kmean  Img=s1_unit_mean_  Band=['VV_gamma0_flatDB', 'VH_gamma0_flatDB']\n",
      "Write csv and shp, Method=SNIC_Kmean  Img=s1_unit_mean_  Band=['VV_gamma0_flatDB', 'VH_gamma0_flatDB']\n",
      "Method 1 Xmeans Band=['VV_gamma0_flatDB'],continue\n",
      "Write csv and shp, Method=Xmeans  Img=s1_unit_mean_  Band=['VV_gamma0_flatDB', 'VH_gamma0_flatDB']\n",
      "Method 1 CascadeKMeans Band=['VV_gamma0_flatDB'],continue\n",
      "Write csv and shp, Method=CascadeKMeans  Img=s1_unit_mean_  Band=['VV_gamma0_flatDB', 'VH_gamma0_flatDB']\n",
      "Threshould value is 0.5239945157435988\n",
      "Write csv and shp, Method=otsu  Img=s1_unit_mean_  Band=['VV_gamma0_flatDB']\n",
      "Method 2 otsu Band=['VV_gamma0_flatDB', 'VH_gamma0_flatDB'],continue\n",
      "Threshould value is 0.5265023833602098\n",
      "Write csv and shp, Method=isodata  Img=s1_unit_mean_  Band=['VV_gamma0_flatDB']\n",
      "Method 2 isodata Band=['VV_gamma0_flatDB', 'VH_gamma0_flatDB'],continue\n",
      "该函数运行了 156.70359 秒\n"
     ]
    },
    {
     "name": "stderr",
     "output_type": "stream",
     "text": [
      " 74%|#######4  | 181/244 [8:25:32<2:52:52, 164.64s/it]"
     ]
    },
    {
     "name": "stdout",
     "output_type": "stream",
     "text": [
      "Begin Filter ...\n"
     ]
    },
    {
     "name": "stderr",
     "output_type": "stream",
     "text": [
      "\n",
      "100%|##########| 13/13 [00:00<00:00, 1693.19it/s]\n",
      "\n",
      "100%|##########| 13/13 [00:00<00:00, 428.48it/s]\n",
      "\n",
      "100%|##########| 13/13 [00:00<00:00, 1697.15it/s]\n",
      "\n",
      "100%|##########| 13/13 [00:00<00:00, 449.50it/s]\n"
     ]
    },
    {
     "name": "stdout",
     "output_type": "stream",
     "text": [
      "Method 1 Kmean Band=['VV_gamma0_flatDB'],continue\n",
      "Write csv and shp, Method=Kmean  Img=s1_unit_mean_  Band=['VV_gamma0_flatDB', 'VH_gamma0_flatDB']\n",
      "Method 1 SNIC_Kmean Band=['VV_gamma0_flatDB'],continue\n",
      "Write csv and shp, Method=SNIC_Kmean  Img=s1_unit_mean_  Band=['VV_gamma0_flatDB', 'VH_gamma0_flatDB']\n",
      "Write csv and shp, Method=SNIC_Kmean  Img=s1_unit_mean_  Band=['VV_gamma0_flatDB', 'VH_gamma0_flatDB']\n",
      "Method 1 Xmeans Band=['VV_gamma0_flatDB'],continue\n",
      "Write csv and shp, Method=Xmeans  Img=s1_unit_mean_  Band=['VV_gamma0_flatDB', 'VH_gamma0_flatDB']\n",
      "Method 1 CascadeKMeans Band=['VV_gamma0_flatDB'],continue\n",
      "Write csv and shp, Method=CascadeKMeans  Img=s1_unit_mean_  Band=['VV_gamma0_flatDB', 'VH_gamma0_flatDB']\n",
      "Threshould value is 0.3701171875\n",
      "Write csv and shp, Method=otsu  Img=s1_unit_mean_  Band=['VV_gamma0_flatDB']\n",
      "Method 2 otsu Band=['VV_gamma0_flatDB', 'VH_gamma0_flatDB'],continue\n"
     ]
    },
    {
     "name": "stderr",
     "output_type": "stream",
     "text": [
      "/root/GEE/Extract_algorithm.py:229: RuntimeWarning: invalid value encountered in divide\n",
      "  higher = (csum_intensity[-1] - csum_intensity[:-1]) / (csumh[:-1]+sys.float_info.min)\n"
     ]
    },
    {
     "name": "stdout",
     "output_type": "stream",
     "text": [
      "Threshould value is 0.3681640625\n",
      "Write csv and shp, Method=isodata  Img=s1_unit_mean_  Band=['VV_gamma0_flatDB']\n",
      "Method 2 isodata Band=['VV_gamma0_flatDB', 'VH_gamma0_flatDB'],continue\n",
      "该函数运行了 160.10311 秒\n"
     ]
    },
    {
     "name": "stderr",
     "output_type": "stream",
     "text": [
      " 75%|#######4  | 182/244 [8:28:12<2:48:43, 163.28s/it]"
     ]
    },
    {
     "name": "stdout",
     "output_type": "stream",
     "text": [
      "Begin Filter ...\n"
     ]
    },
    {
     "name": "stderr",
     "output_type": "stream",
     "text": [
      "\n",
      "100%|##########| 19/19 [00:00<00:00, 1815.47it/s]\n",
      "\n",
      "100%|##########| 19/19 [00:00<00:00, 387.18it/s]\n",
      "\n",
      "100%|##########| 19/19 [00:00<00:00, 1971.74it/s]\n",
      "\n",
      "100%|##########| 19/19 [00:00<00:00, 385.36it/s]\n"
     ]
    },
    {
     "name": "stdout",
     "output_type": "stream",
     "text": [
      "Method 1 Kmean Band=['VV_gamma0_flatDB'],continue\n",
      "Write csv and shp, Method=Kmean  Img=s1_unit_mean_  Band=['VV_gamma0_flatDB', 'VH_gamma0_flatDB']\n",
      "Method 1 SNIC_Kmean Band=['VV_gamma0_flatDB'],continue\n",
      "Write csv and shp, Method=SNIC_Kmean  Img=s1_unit_mean_  Band=['VV_gamma0_flatDB', 'VH_gamma0_flatDB']\n",
      "Write csv and shp, Method=SNIC_Kmean  Img=s1_unit_mean_  Band=['VV_gamma0_flatDB', 'VH_gamma0_flatDB']\n",
      "Method 1 Xmeans Band=['VV_gamma0_flatDB'],continue\n",
      "Write csv and shp, Method=Xmeans  Img=s1_unit_mean_  Band=['VV_gamma0_flatDB', 'VH_gamma0_flatDB']\n",
      "Method 1 CascadeKMeans Band=['VV_gamma0_flatDB'],continue\n",
      "Write csv and shp, Method=CascadeKMeans  Img=s1_unit_mean_  Band=['VV_gamma0_flatDB', 'VH_gamma0_flatDB']\n",
      "Threshould value is 0.5360419401614774\n",
      "Write csv and shp, Method=otsu  Img=s1_unit_mean_  Band=['VV_gamma0_flatDB']\n",
      "Method 2 otsu Band=['VV_gamma0_flatDB', 'VH_gamma0_flatDB'],continue\n",
      "Threshould value is 0.5305316203478326\n",
      "Write csv and shp, Method=isodata  Img=s1_unit_mean_  Band=['VV_gamma0_flatDB']\n",
      "Method 2 isodata Band=['VV_gamma0_flatDB', 'VH_gamma0_flatDB'],continue\n",
      "该函数运行了 158.36862 秒\n"
     ]
    },
    {
     "name": "stderr",
     "output_type": "stream",
     "text": [
      " 75%|#######5  | 183/244 [8:30:50<2:44:30, 161.81s/it]"
     ]
    },
    {
     "name": "stdout",
     "output_type": "stream",
     "text": [
      "Begin Filter ...\n"
     ]
    },
    {
     "name": "stderr",
     "output_type": "stream",
     "text": [
      "\n",
      "100%|##########| 12/12 [00:00<00:00, 1675.65it/s]\n",
      "\n",
      "100%|##########| 12/12 [00:00<00:00, 576.45it/s]\n",
      "\n",
      "100%|##########| 12/12 [00:00<00:00, 1778.88it/s]\n",
      "\n",
      "100%|##########| 12/12 [00:00<00:00, 581.28it/s]\n"
     ]
    },
    {
     "name": "stdout",
     "output_type": "stream",
     "text": [
      "Method 1 Kmean Band=['VV_gamma0_flatDB'],continue\n",
      "Write csv and shp, Method=Kmean  Img=s1_unit_mean_  Band=['VV_gamma0_flatDB', 'VH_gamma0_flatDB']\n",
      "Method 1 SNIC_Kmean Band=['VV_gamma0_flatDB'],continue\n",
      "Write csv and shp, Method=SNIC_Kmean  Img=s1_unit_mean_  Band=['VV_gamma0_flatDB', 'VH_gamma0_flatDB']\n",
      "Write csv and shp, Method=SNIC_Kmean  Img=s1_unit_mean_  Band=['VV_gamma0_flatDB', 'VH_gamma0_flatDB']\n",
      "Method 1 Xmeans Band=['VV_gamma0_flatDB'],continue\n",
      "Write csv and shp, Method=Xmeans  Img=s1_unit_mean_  Band=['VV_gamma0_flatDB', 'VH_gamma0_flatDB']\n",
      "Method 1 CascadeKMeans Band=['VV_gamma0_flatDB'],continue\n",
      "Write csv and shp, Method=CascadeKMeans  Img=s1_unit_mean_  Band=['VV_gamma0_flatDB', 'VH_gamma0_flatDB']\n",
      "Threshould value is 0.5708627047056\n",
      "Write csv and shp, Method=otsu  Img=s1_unit_mean_  Band=['VV_gamma0_flatDB']\n",
      "Method 2 otsu Band=['VV_gamma0_flatDB', 'VH_gamma0_flatDB'],continue\n"
     ]
    },
    {
     "name": "stderr",
     "output_type": "stream",
     "text": [
      "/root/GEE/Extract_algorithm.py:229: RuntimeWarning: invalid value encountered in divide\n",
      "  higher = (csum_intensity[-1] - csum_intensity[:-1]) / (csumh[:-1]+sys.float_info.min)\n"
     ]
    },
    {
     "name": "stdout",
     "output_type": "stream",
     "text": [
      "Threshould value is 0.5673828125\n",
      "Write csv and shp, Method=isodata  Img=s1_unit_mean_  Band=['VV_gamma0_flatDB']\n",
      "Method 2 isodata Band=['VV_gamma0_flatDB', 'VH_gamma0_flatDB'],continue\n",
      "Generating URL ...\n",
      "Downloading data from https://earthengine.googleapis.com/v1/projects/earthengine-legacy/thumbnails/2b648fa603265ddbaf004b303d29d8dd-81cf79c2012a9d2f48e6997f9310d655:getPixels\n",
      "Please wait ...\n",
      "Data downloaded to /root/GEE/2019补齐结果/4883_Ascending_S1A_IW_GRDH_1SDV_20190714T115808_20190714T115833_028113_032CCD_1F8C.tif\n",
      "image save right\n",
      "change image bandNames\n",
      "Generating URL ...\n",
      "Downloading data from https://earthengine.googleapis.com/v1/projects/earthengine-legacy/thumbnails/8163f6948a989e61d5333cf3115a2f26-e62d5d49c8afa9d0f858926b0191de0f:getPixels\n",
      "Please wait ...\n",
      "Data downloaded to /root/GEE/2019补齐结果/4883_Descending_S1A_IW_GRDH_1SDV_20190721T235404_20190721T235429_028222_033027_8116.tif\n",
      "image save right\n",
      "change image bandNames\n",
      "Generating URL ...\n",
      "Downloading data from https://earthengine.googleapis.com/v1/projects/earthengine-legacy/thumbnails/f400af8c7ceb7045dcd0988a5cae2831-07dd6d034366f412fd10521338418421:getPixels\n",
      "Please wait ...\n",
      "Data downloaded to /root/GEE/2019补齐结果/4883_s2a_sr_median.tif\n",
      "image save right\n",
      "change image bandNames\n",
      "Generating URL ...\n",
      "Downloading data from https://earthengine.googleapis.com/v1/projects/earthengine-legacy/thumbnails/b7c1dd4aa375f3d1dd5e960c706e7c4a-946bf744527db2d836f01b82875c7c1e:getPixels\n",
      "Please wait ...\n",
      "Data downloaded to /root/GEE/2019补齐结果/4883_s1_unit_mean_.tif\n",
      "image save right\n",
      "change image bandNames\n",
      "Generating URL ...\n",
      "Downloading data from https://earthengine.googleapis.com/v1/projects/earthengine-legacy/thumbnails/d160bcb4b0ea318d08013f8c3826047b-f4f838b1b12974a9b791bfec27d4e1a7:getPixels\n",
      "Please wait ...\n",
      "Data downloaded to /root/GEE/2019补齐结果/4883_s1_unit_max_.tif\n",
      "image save right\n",
      "change image bandNames\n",
      "Generating URL ...\n",
      "Downloading data from https://earthengine.googleapis.com/v1/projects/earthengine-legacy/thumbnails/d2526da3060c545d75ffceafcf7092aa-54dd45e114949e286104c22dfd41236b:getPixels\n",
      "Please wait ...\n",
      "Data downloaded to /root/GEE/2019补齐结果/4883_s1_unit_min_.tif\n",
      "image save right\n",
      "change image bandNames\n",
      "Generating URL ...\n",
      "Downloading data from https://earthengine.googleapis.com/v1/projects/earthengine-legacy/thumbnails/8d01239aa0855d117ce33b1237dee520-cb68ed4a7d5285a6745d1a9bd80ba8e4:getPixels\n",
      "Please wait ...\n",
      "Data downloaded to /root/GEE/2019补齐结果/4883_DistortionAS1A_IW_GRDH_1SDV_20190714T115808_20190714T115833_028113_032CCD_1F8C.tif\n",
      "image save right\n",
      "change image bandNames\n",
      "Generating URL ...\n",
      "Downloading data from https://earthengine.googleapis.com/v1/projects/earthengine-legacy/thumbnails/c356cebf135fd1de71b6083231ae9ce4-220dcfa63f52be8c6f0d338af69cedbd:getPixels\n",
      "Please wait ...\n",
      "Data downloaded to /root/GEE/2019补齐结果/4883_DistortionDS1A_IW_GRDH_1SDV_20190721T235404_20190721T235429_028222_033027_8116.tif\n",
      "image save right\n",
      "change image bandNames\n",
      "该函数运行了 218.93428 秒\n"
     ]
    },
    {
     "name": "stderr",
     "output_type": "stream",
     "text": [
      " 75%|#######5  | 184/244 [8:34:29<2:58:56, 178.95s/it]"
     ]
    },
    {
     "name": "stdout",
     "output_type": "stream",
     "text": [
      "Begin Filter ...\n"
     ]
    },
    {
     "name": "stderr",
     "output_type": "stream",
     "text": [
      "\n",
      "100%|##########| 18/18 [00:00<00:00, 1677.27it/s]\n",
      "\n",
      "100%|##########| 18/18 [00:00<00:00, 379.04it/s]\n",
      "\n",
      "100%|##########| 17/17 [00:00<00:00, 1454.28it/s]\n",
      "\n",
      "100%|##########| 17/17 [00:00<00:00, 500.64it/s]\n"
     ]
    },
    {
     "name": "stdout",
     "output_type": "stream",
     "text": [
      "Method 1 Kmean Band=['VV_gamma0_flatDB'],continue\n",
      "Write csv and shp, Method=Kmean  Img=s1_unit_mean_  Band=['VV_gamma0_flatDB', 'VH_gamma0_flatDB']\n",
      "Method 1 SNIC_Kmean Band=['VV_gamma0_flatDB'],continue\n",
      "Write csv and shp, Method=SNIC_Kmean  Img=s1_unit_mean_  Band=['VV_gamma0_flatDB', 'VH_gamma0_flatDB']\n",
      "Write csv and shp, Method=SNIC_Kmean  Img=s1_unit_mean_  Band=['VV_gamma0_flatDB', 'VH_gamma0_flatDB']\n",
      "Method 1 Xmeans Band=['VV_gamma0_flatDB'],continue\n",
      "Write csv and shp, Method=Xmeans  Img=s1_unit_mean_  Band=['VV_gamma0_flatDB', 'VH_gamma0_flatDB']\n",
      "Method 1 CascadeKMeans Band=['VV_gamma0_flatDB'],continue\n",
      "Write csv and shp, Method=CascadeKMeans  Img=s1_unit_mean_  Band=['VV_gamma0_flatDB', 'VH_gamma0_flatDB']\n",
      "Threshould value is 0.5006205908233221\n",
      "Write csv and shp, Method=otsu  Img=s1_unit_mean_  Band=['VV_gamma0_flatDB']\n",
      "Method 2 otsu Band=['VV_gamma0_flatDB', 'VH_gamma0_flatDB'],continue\n"
     ]
    },
    {
     "name": "stderr",
     "output_type": "stream",
     "text": [
      "/root/GEE/Extract_algorithm.py:229: RuntimeWarning: invalid value encountered in divide\n",
      "  higher = (csum_intensity[-1] - csum_intensity[:-1]) / (csumh[:-1]+sys.float_info.min)\n"
     ]
    },
    {
     "name": "stdout",
     "output_type": "stream",
     "text": [
      "Threshould value is 0.5030605183117152\n",
      "Write csv and shp, Method=isodata  Img=s1_unit_mean_  Band=['VV_gamma0_flatDB']\n",
      "Method 2 isodata Band=['VV_gamma0_flatDB', 'VH_gamma0_flatDB'],continue\n",
      "Generating URL ...\n",
      "Downloading data from https://earthengine.googleapis.com/v1/projects/earthengine-legacy/thumbnails/bd89a237b073f3c79ccf055706916c12-d7c9cdaef6ac8cc9bb381e96427b7635:getPixels\n",
      "Please wait ...\n",
      "Data downloaded to /root/GEE/2019补齐结果/4884_Ascending_S1A_IW_GRDH_1SDV_20190714T115808_20190714T115833_028113_032CCD_1F8C.tif\n",
      "image save right\n",
      "change image bandNames\n",
      "Generating URL ...\n",
      "Downloading data from https://earthengine.googleapis.com/v1/projects/earthengine-legacy/thumbnails/562fdff361da5603e7fdba7c4c202a43-4eee7f49c7e5cfff257c626787dd8d31:getPixels\n",
      "Please wait ...\n",
      "Data downloaded to /root/GEE/2019补齐结果/4884_Descending_S1A_IW_GRDH_1SDV_20190721T235404_20190721T235429_028222_033027_8116.tif\n",
      "image save right\n",
      "change image bandNames\n",
      "Generating URL ...\n",
      "Downloading data from https://earthengine.googleapis.com/v1/projects/earthengine-legacy/thumbnails/0876a0a0abddea66eeb2af561c281f13-e21accb5d04a8c02e18b0c12a1b381d8:getPixels\n",
      "Please wait ...\n",
      "Data downloaded to /root/GEE/2019补齐结果/4884_s2a_sr_median.tif\n",
      "image save right\n",
      "change image bandNames\n",
      "Generating URL ...\n",
      "Downloading data from https://earthengine.googleapis.com/v1/projects/earthengine-legacy/thumbnails/23406e7febbd9f12da6c474a578ee9ec-e37662a8a412dc4acba2c120a015d9a7:getPixels\n",
      "Please wait ...\n",
      "Data downloaded to /root/GEE/2019补齐结果/4884_s1_unit_mean_.tif\n",
      "image save right\n",
      "change image bandNames\n",
      "Generating URL ...\n",
      "Downloading data from https://earthengine.googleapis.com/v1/projects/earthengine-legacy/thumbnails/b7199f6387ba36f33a83fb48a1b24cf6-9131bd3b01240efce5c3a64fe1e2930b:getPixels\n",
      "Please wait ...\n",
      "Data downloaded to /root/GEE/2019补齐结果/4884_s1_unit_max_.tif\n",
      "image save right\n",
      "change image bandNames\n",
      "Generating URL ...\n",
      "Downloading data from https://earthengine.googleapis.com/v1/projects/earthengine-legacy/thumbnails/fc93b8d99d74c9c5c29085875ae3847e-82698501c6f5e9de065cd4b183a5b1ed:getPixels\n",
      "Please wait ...\n",
      "Data downloaded to /root/GEE/2019补齐结果/4884_s1_unit_min_.tif\n",
      "image save right\n",
      "change image bandNames\n",
      "Generating URL ...\n",
      "Downloading data from https://earthengine.googleapis.com/v1/projects/earthengine-legacy/thumbnails/b9fb811762be4ca0ec2776f86be234c1-4e273322e77a7da46b42853a99a54e87:getPixels\n",
      "Please wait ...\n",
      "Data downloaded to /root/GEE/2019补齐结果/4884_DistortionAS1A_IW_GRDH_1SDV_20190714T115808_20190714T115833_028113_032CCD_1F8C.tif\n",
      "image save right\n",
      "change image bandNames\n",
      "Generating URL ...\n",
      "Downloading data from https://earthengine.googleapis.com/v1/projects/earthengine-legacy/thumbnails/614d3e4ce306e86f52fc59b48d0e2c58-0dcec6cf3a97378440ad33f8df2de1a9:getPixels\n",
      "Please wait ...\n",
      "Data downloaded to /root/GEE/2019补齐结果/4884_DistortionDS1A_IW_GRDH_1SDV_20190721T235404_20190721T235429_028222_033027_8116.tif\n",
      "image save right\n",
      "change image bandNames\n",
      "该函数运行了 218.57955 秒\n"
     ]
    },
    {
     "name": "stderr",
     "output_type": "stream",
     "text": [
      " 76%|#######5  | 185/244 [8:38:08<3:07:39, 190.84s/it]"
     ]
    },
    {
     "name": "stdout",
     "output_type": "stream",
     "text": [
      "Begin Filter ...\n"
     ]
    },
    {
     "name": "stderr",
     "output_type": "stream",
     "text": [
      "\n",
      "100%|##########| 13/13 [00:00<00:00, 1709.49it/s]\n",
      "\n",
      "100%|##########| 13/13 [00:00<00:00, 514.66it/s]\n",
      "\n",
      "100%|##########| 13/13 [00:00<00:00, 1748.02it/s]\n",
      "\n",
      "100%|##########| 13/13 [00:00<00:00, 461.00it/s]\n"
     ]
    },
    {
     "name": "stdout",
     "output_type": "stream",
     "text": [
      "Method 1 Kmean Band=['VV_gamma0_flatDB'],continue\n",
      "Write csv and shp, Method=Kmean  Img=s1_unit_mean_  Band=['VV_gamma0_flatDB', 'VH_gamma0_flatDB']\n",
      "Method 1 SNIC_Kmean Band=['VV_gamma0_flatDB'],continue\n",
      "Write csv and shp, Method=SNIC_Kmean  Img=s1_unit_mean_  Band=['VV_gamma0_flatDB', 'VH_gamma0_flatDB']\n",
      "Write csv and shp, Method=SNIC_Kmean  Img=s1_unit_mean_  Band=['VV_gamma0_flatDB', 'VH_gamma0_flatDB']\n",
      "Method 1 Xmeans Band=['VV_gamma0_flatDB'],continue\n",
      "Write csv and shp, Method=Xmeans  Img=s1_unit_mean_  Band=['VV_gamma0_flatDB', 'VH_gamma0_flatDB']\n",
      "Method 1 CascadeKMeans Band=['VV_gamma0_flatDB'],continue\n",
      "Write csv and shp, Method=CascadeKMeans  Img=s1_unit_mean_  Band=['VV_gamma0_flatDB', 'VH_gamma0_flatDB']\n",
      "Threshould value is 0.5768451723286834\n",
      "Write csv and shp, Method=otsu  Img=s1_unit_mean_  Band=['VV_gamma0_flatDB']\n",
      "Method 2 otsu Band=['VV_gamma0_flatDB', 'VH_gamma0_flatDB'],continue\n"
     ]
    },
    {
     "name": "stderr",
     "output_type": "stream",
     "text": [
      "/root/GEE/Extract_algorithm.py:229: RuntimeWarning: invalid value encountered in divide\n",
      "  higher = (csum_intensity[-1] - csum_intensity[:-1]) / (csumh[:-1]+sys.float_info.min)\n"
     ]
    },
    {
     "name": "stdout",
     "output_type": "stream",
     "text": [
      "Threshould value is 0.573632287159923\n",
      "Write csv and shp, Method=isodata  Img=s1_unit_mean_  Band=['VV_gamma0_flatDB']\n",
      "Method 2 isodata Band=['VV_gamma0_flatDB', 'VH_gamma0_flatDB'],continue\n",
      "Generating URL ...\n",
      "Downloading data from https://earthengine.googleapis.com/v1/projects/earthengine-legacy/thumbnails/d8d276f604871697e842d962e66c919d-b430df451c53bf1f0d3bcc11f5d2a4b6:getPixels\n",
      "Please wait ...\n",
      "Data downloaded to /root/GEE/2019补齐结果/4885_Ascending_S1A_IW_GRDH_1SDV_20190721T115001_20190721T115026_028215_032FF3_B8E9.tif\n",
      "image save right\n",
      "change image bandNames\n",
      "Generating URL ...\n",
      "Downloading data from https://earthengine.googleapis.com/v1/projects/earthengine-legacy/thumbnails/ca2c2c5d8502b975a828d6017af1c60b-9feec042e4c7de59f652f4b08e4034b0:getPixels\n",
      "Please wait ...\n",
      "Data downloaded to /root/GEE/2019补齐结果/4885_Descending_S1A_IW_GRDH_1SDV_20190809T234548_20190809T234613_028499_0338B5_5AC1.tif\n",
      "image save right\n",
      "change image bandNames\n",
      "Generating URL ...\n",
      "Downloading data from https://earthengine.googleapis.com/v1/projects/earthengine-legacy/thumbnails/73190dc81405ef13041a083bd06f55fa-530f7922262f7478b0e79dd95c4b1eec:getPixels\n",
      "Please wait ...\n",
      "Data downloaded to /root/GEE/2019补齐结果/4885_s2a_sr_median.tif\n",
      "image save right\n",
      "change image bandNames\n",
      "Generating URL ...\n",
      "Downloading data from https://earthengine.googleapis.com/v1/projects/earthengine-legacy/thumbnails/4a432c481fb2e064272916bfecbc760a-099e9a55cdd8795dcd8e2101dcb49124:getPixels\n",
      "Please wait ...\n",
      "Data downloaded to /root/GEE/2019补齐结果/4885_s1_unit_mean_.tif\n",
      "image save right\n",
      "change image bandNames\n",
      "Generating URL ...\n",
      "Downloading data from https://earthengine.googleapis.com/v1/projects/earthengine-legacy/thumbnails/a604f2c3aef7f254f364b738c7a50b83-b22f35dc77310e557e148db290d9adb8:getPixels\n",
      "Please wait ...\n",
      "Data downloaded to /root/GEE/2019补齐结果/4885_s1_unit_max_.tif\n",
      "image save right\n",
      "change image bandNames\n",
      "Generating URL ...\n",
      "Downloading data from https://earthengine.googleapis.com/v1/projects/earthengine-legacy/thumbnails/764b70ac556e9843db784d93c63eff8d-fdc32b3e8379dcc0f6f9dee0cd74f5c9:getPixels\n",
      "Please wait ...\n",
      "Data downloaded to /root/GEE/2019补齐结果/4885_s1_unit_min_.tif\n",
      "image save right\n",
      "change image bandNames\n",
      "Generating URL ...\n",
      "Downloading data from https://earthengine.googleapis.com/v1/projects/earthengine-legacy/thumbnails/52347464d0bb7d774e33c8213742bebd-aff088b7c3c5c5d2e7d5b7b8751b36ab:getPixels\n",
      "Please wait ...\n",
      "Data downloaded to /root/GEE/2019补齐结果/4885_DistortionAS1A_IW_GRDH_1SDV_20190721T115001_20190721T115026_028215_032FF3_B8E9.tif\n",
      "image save right\n",
      "change image bandNames\n",
      "Generating URL ...\n",
      "Downloading data from https://earthengine.googleapis.com/v1/projects/earthengine-legacy/thumbnails/6dace7c2a84150e2dcb43b537e525fda-37d4a26e301157602bd395ef12162065:getPixels\n",
      "Please wait ...\n",
      "Data downloaded to /root/GEE/2019补齐结果/4885_DistortionDS1A_IW_GRDH_1SDV_20190809T234548_20190809T234613_028499_0338B5_5AC1.tif\n",
      "image save right\n",
      "change image bandNames\n",
      "该函数运行了 194.08659 秒\n"
     ]
    },
    {
     "name": "stderr",
     "output_type": "stream",
     "text": [
      " 76%|#######6  | 186/244 [8:41:22<3:05:25, 191.81s/it]"
     ]
    },
    {
     "name": "stdout",
     "output_type": "stream",
     "text": [
      "Begin Filter ...\n"
     ]
    },
    {
     "name": "stderr",
     "output_type": "stream",
     "text": [
      "\n",
      "100%|##########| 13/13 [00:00<00:00, 1796.39it/s]\n",
      "\n",
      "100%|##########| 13/13 [00:00<00:00, 417.94it/s]\n",
      "\n",
      "100%|##########| 12/12 [00:00<00:00, 1811.34it/s]\n",
      "\n",
      "100%|##########| 12/12 [00:00<00:00, 427.43it/s]\n"
     ]
    },
    {
     "name": "stdout",
     "output_type": "stream",
     "text": [
      "Method 1 Kmean Band=['VV_gamma0_flatDB'],continue\n",
      "Write csv and shp, Method=Kmean  Img=s1_unit_mean_  Band=['VV_gamma0_flatDB', 'VH_gamma0_flatDB']\n",
      "Method 1 SNIC_Kmean Band=['VV_gamma0_flatDB'],continue\n",
      "Write csv and shp, Method=SNIC_Kmean  Img=s1_unit_mean_  Band=['VV_gamma0_flatDB', 'VH_gamma0_flatDB']\n",
      "Write csv and shp, Method=SNIC_Kmean  Img=s1_unit_mean_  Band=['VV_gamma0_flatDB', 'VH_gamma0_flatDB']\n",
      "Method 1 Xmeans Band=['VV_gamma0_flatDB'],continue\n",
      "Write csv and shp, Method=Xmeans  Img=s1_unit_mean_  Band=['VV_gamma0_flatDB', 'VH_gamma0_flatDB']\n",
      "Method 1 CascadeKMeans Band=['VV_gamma0_flatDB'],continue\n",
      "Write csv and shp, Method=CascadeKMeans  Img=s1_unit_mean_  Band=['VV_gamma0_flatDB', 'VH_gamma0_flatDB']\n",
      "Threshould value is 0.6477521605355615\n",
      "Write csv and shp, Method=otsu  Img=s1_unit_mean_  Band=['VV_gamma0_flatDB']\n",
      "Method 2 otsu Band=['VV_gamma0_flatDB', 'VH_gamma0_flatDB'],continue\n",
      "Threshould value is 0.6242500600747053\n",
      "Write csv and shp, Method=isodata  Img=s1_unit_mean_  Band=['VV_gamma0_flatDB']\n",
      "Method 2 isodata Band=['VV_gamma0_flatDB', 'VH_gamma0_flatDB'],continue\n",
      "Generating URL ...\n",
      "Downloading data from https://earthengine.googleapis.com/v1/projects/earthengine-legacy/thumbnails/76797cfa63f59b706f48e95af2f74c7d-4e67b0e9b85012b299a5732fa327fb78:getPixels\n",
      "Please wait ...\n",
      "Data downloaded to /root/GEE/2019补齐结果/4886_Ascending_S1A_IW_GRDH_1SDV_20190721T115001_20190721T115026_028215_032FF3_B8E9.tif\n",
      "image save right\n",
      "change image bandNames\n",
      "Generating URL ...\n",
      "Downloading data from https://earthengine.googleapis.com/v1/projects/earthengine-legacy/thumbnails/b74ba56b50ea6e3767e371c726746668-8e450b39525c27ac334d572bc44fa823:getPixels\n",
      "Please wait ...\n",
      "Data downloaded to /root/GEE/2019补齐结果/4886_Descending_S1A_IW_GRDH_1SDV_20190809T234548_20190809T234613_028499_0338B5_5AC1.tif\n",
      "image save right\n",
      "change image bandNames\n",
      "Generating URL ...\n",
      "Downloading data from https://earthengine.googleapis.com/v1/projects/earthengine-legacy/thumbnails/1271a0e219bd36d06f6a618f04d6c26f-802eb61c87facbb0ab8229c6513e03bd:getPixels\n",
      "Please wait ...\n",
      "Data downloaded to /root/GEE/2019补齐结果/4886_s2a_sr_median.tif\n",
      "image save right\n",
      "change image bandNames\n",
      "Generating URL ...\n",
      "Downloading data from https://earthengine.googleapis.com/v1/projects/earthengine-legacy/thumbnails/66d286af4fea3ead4c9f4c62a7cef8a2-068a222f64ac4daf5e61294a0e84b7df:getPixels\n",
      "Please wait ...\n",
      "Data downloaded to /root/GEE/2019补齐结果/4886_s1_unit_mean_.tif\n",
      "image save right\n",
      "change image bandNames\n",
      "Generating URL ...\n",
      "Downloading data from https://earthengine.googleapis.com/v1/projects/earthengine-legacy/thumbnails/cc0805e68ba10b5faca1b12982203a24-08c24739e1b890b96c87828145ee1a32:getPixels\n",
      "Please wait ...\n",
      "Data downloaded to /root/GEE/2019补齐结果/4886_s1_unit_max_.tif\n",
      "image save right\n",
      "change image bandNames\n",
      "Generating URL ...\n",
      "Downloading data from https://earthengine.googleapis.com/v1/projects/earthengine-legacy/thumbnails/70aafce07319eb4823ecf105321f6b89-f75fc2ca89211aff573988fcd4478b1c:getPixels\n",
      "Please wait ...\n",
      "Data downloaded to /root/GEE/2019补齐结果/4886_s1_unit_min_.tif\n",
      "image save right\n",
      "change image bandNames\n",
      "Generating URL ...\n",
      "Downloading data from https://earthengine.googleapis.com/v1/projects/earthengine-legacy/thumbnails/d49979f182e066fdef0448b8c96edc19-f10b2d50058943d240374b30ebfd4976:getPixels\n",
      "Please wait ...\n",
      "Data downloaded to /root/GEE/2019补齐结果/4886_DistortionAS1A_IW_GRDH_1SDV_20190721T115001_20190721T115026_028215_032FF3_B8E9.tif\n",
      "image save right\n",
      "change image bandNames\n",
      "Generating URL ...\n",
      "Downloading data from https://earthengine.googleapis.com/v1/projects/earthengine-legacy/thumbnails/e5f6b52503e3ffacbb09a530b907a8cd-caeb1ab2791db492813248c0967a185c:getPixels\n",
      "Please wait ...\n",
      "Data downloaded to /root/GEE/2019补齐结果/4886_DistortionDS1A_IW_GRDH_1SDV_20190809T234548_20190809T234613_028499_0338B5_5AC1.tif\n",
      "image save right\n",
      "change image bandNames\n",
      "该函数运行了 196.68135 秒\n"
     ]
    },
    {
     "name": "stderr",
     "output_type": "stream",
     "text": [
      " 77%|#######6  | 187/244 [8:44:39<3:03:36, 193.28s/it]"
     ]
    },
    {
     "name": "stdout",
     "output_type": "stream",
     "text": [
      "Begin Filter ...\n"
     ]
    },
    {
     "name": "stderr",
     "output_type": "stream",
     "text": [
      "\n",
      "100%|##########| 18/18 [00:00<00:00, 1870.42it/s]\n",
      "\n",
      "100%|##########| 18/18 [00:00<00:00, 307.03it/s]\n",
      "\n",
      "100%|##########| 17/17 [00:00<00:00, 2054.37it/s]\n",
      "\n",
      "100%|##########| 17/17 [00:00<00:00, 295.30it/s]\n"
     ]
    },
    {
     "name": "stdout",
     "output_type": "stream",
     "text": [
      "Method 1 Kmean Band=['VV_gamma0_flatDB'],continue\n",
      "Write csv and shp, Method=Kmean  Img=s1_unit_mean_  Band=['VV_gamma0_flatDB', 'VH_gamma0_flatDB']\n",
      "Method 1 SNIC_Kmean Band=['VV_gamma0_flatDB'],continue\n",
      "Write csv and shp, Method=SNIC_Kmean  Img=s1_unit_mean_  Band=['VV_gamma0_flatDB', 'VH_gamma0_flatDB']\n",
      "Write csv and shp, Method=SNIC_Kmean  Img=s1_unit_mean_  Band=['VV_gamma0_flatDB', 'VH_gamma0_flatDB']\n",
      "Method 1 Xmeans Band=['VV_gamma0_flatDB'],continue\n",
      "Write csv and shp, Method=Xmeans  Img=s1_unit_mean_  Band=['VV_gamma0_flatDB', 'VH_gamma0_flatDB']\n",
      "Method 1 CascadeKMeans Band=['VV_gamma0_flatDB'],continue\n",
      "Write csv and shp, Method=CascadeKMeans  Img=s1_unit_mean_  Band=['VV_gamma0_flatDB', 'VH_gamma0_flatDB']\n",
      "Threshould value is 0.5873136684105078\n",
      "Write csv and shp, Method=otsu  Img=s1_unit_mean_  Band=['VV_gamma0_flatDB']\n",
      "Method 2 otsu Band=['VV_gamma0_flatDB', 'VH_gamma0_flatDB'],continue\n"
     ]
    },
    {
     "name": "stderr",
     "output_type": "stream",
     "text": [
      "/root/GEE/Extract_algorithm.py:229: RuntimeWarning: invalid value encountered in divide\n",
      "  higher = (csum_intensity[-1] - csum_intensity[:-1]) / (csumh[:-1]+sys.float_info.min)\n"
     ]
    },
    {
     "name": "stdout",
     "output_type": "stream",
     "text": [
      "Threshould value is 0.5795800067432423\n",
      "Write csv and shp, Method=isodata  Img=s1_unit_mean_  Band=['VV_gamma0_flatDB']\n",
      "Method 2 isodata Band=['VV_gamma0_flatDB', 'VH_gamma0_flatDB'],continue\n",
      "Generating URL ...\n",
      "Downloading data from https://earthengine.googleapis.com/v1/projects/earthengine-legacy/thumbnails/0b928067e04107d0338c16207892dc21-472ec6b860dc3a61cc2de79a7936fd89:getPixels\n",
      "Please wait ...\n",
      "Data downloaded to /root/GEE/2019补齐结果/4887_Ascending_S1A_IW_GRDH_1SDV_20190721T115001_20190721T115026_028215_032FF3_B8E9.tif\n",
      "image save right\n",
      "change image bandNames\n",
      "Generating URL ...\n",
      "Downloading data from https://earthengine.googleapis.com/v1/projects/earthengine-legacy/thumbnails/c3533b950e6f77c94000f5e1e6eff21d-fb7bc551dbfb3c5d15308b6130247522:getPixels\n",
      "Please wait ...\n",
      "Data downloaded to /root/GEE/2019补齐结果/4887_Descending_S1A_IW_GRDH_1SDV_20190809T234548_20190809T234613_028499_0338B5_5AC1.tif\n",
      "image save right\n",
      "change image bandNames\n",
      "Generating URL ...\n",
      "Downloading data from https://earthengine.googleapis.com/v1/projects/earthengine-legacy/thumbnails/d610da4dbe8cd03d5ef43518b3d2bafa-96d500601443e6e2168bfd79ef0b5ef4:getPixels\n",
      "Please wait ...\n",
      "Data downloaded to /root/GEE/2019补齐结果/4887_s2a_sr_median.tif\n",
      "image save right\n",
      "change image bandNames\n",
      "Generating URL ...\n",
      "Downloading data from https://earthengine.googleapis.com/v1/projects/earthengine-legacy/thumbnails/b9f8b3f00d8eb570d15a520428ea266c-4c6a4db02bc45a273f9d4d94373f13a0:getPixels\n",
      "Please wait ...\n",
      "Data downloaded to /root/GEE/2019补齐结果/4887_s1_unit_mean_.tif\n",
      "image save right\n",
      "change image bandNames\n",
      "Generating URL ...\n",
      "Downloading data from https://earthengine.googleapis.com/v1/projects/earthengine-legacy/thumbnails/5b1d1f6ebbe753ff7b63697919320c28-7bbae7a2d2adcbc7eaa9f6dd4d372366:getPixels\n",
      "Please wait ...\n",
      "Data downloaded to /root/GEE/2019补齐结果/4887_s1_unit_max_.tif\n",
      "image save right\n",
      "change image bandNames\n",
      "Generating URL ...\n",
      "Downloading data from https://earthengine.googleapis.com/v1/projects/earthengine-legacy/thumbnails/258bf0dfffcfd0d0a9e1288a9ded1805-0c6c8e1b6f3100f600c661a23300dd68:getPixels\n",
      "Please wait ...\n",
      "Data downloaded to /root/GEE/2019补齐结果/4887_s1_unit_min_.tif\n",
      "image save right\n",
      "change image bandNames\n",
      "Generating URL ...\n",
      "Downloading data from https://earthengine.googleapis.com/v1/projects/earthengine-legacy/thumbnails/def236ef7f776bdd7e24fcead04cb3c6-584ef573a82479398d27d8d747d07fc7:getPixels\n",
      "Please wait ...\n",
      "Data downloaded to /root/GEE/2019补齐结果/4887_DistortionAS1A_IW_GRDH_1SDV_20190721T115001_20190721T115026_028215_032FF3_B8E9.tif\n",
      "image save right\n",
      "change image bandNames\n",
      "Generating URL ...\n",
      "Downloading data from https://earthengine.googleapis.com/v1/projects/earthengine-legacy/thumbnails/3cd1f70fb9ce2058b7786d526664f803-2bd6ed1bbc34213820a204c325b40103:getPixels\n",
      "Please wait ...\n",
      "Data downloaded to /root/GEE/2019补齐结果/4887_DistortionDS1A_IW_GRDH_1SDV_20190809T234548_20190809T234613_028499_0338B5_5AC1.tif\n",
      "image save right\n",
      "change image bandNames\n",
      "该函数运行了 193.86771 秒\n"
     ]
    },
    {
     "name": "stderr",
     "output_type": "stream",
     "text": [
      " 77%|#######7  | 188/244 [8:47:53<3:00:33, 193.46s/it]"
     ]
    },
    {
     "name": "stdout",
     "output_type": "stream",
     "text": [
      "Begin Filter ...\n"
     ]
    },
    {
     "name": "stderr",
     "output_type": "stream",
     "text": [
      "\n",
      "100%|##########| 15/15 [00:00<00:00, 1774.84it/s]\n",
      "\n",
      "100%|##########| 15/15 [00:00<00:00, 564.94it/s]\n",
      "\n",
      "100%|##########| 15/15 [00:00<00:00, 1959.53it/s]\n",
      "\n",
      "100%|##########| 15/15 [00:00<00:00, 596.10it/s]\n"
     ]
    },
    {
     "name": "stdout",
     "output_type": "stream",
     "text": [
      "Method 1 Kmean Band=['VV_gamma0_flatDB'],continue\n",
      "Write csv and shp, Method=Kmean  Img=s1_unit_mean_  Band=['VV_gamma0_flatDB', 'VH_gamma0_flatDB']\n",
      "Method 1 SNIC_Kmean Band=['VV_gamma0_flatDB'],continue\n",
      "Write csv and shp, Method=SNIC_Kmean  Img=s1_unit_mean_  Band=['VV_gamma0_flatDB', 'VH_gamma0_flatDB']\n",
      "Write csv and shp, Method=SNIC_Kmean  Img=s1_unit_mean_  Band=['VV_gamma0_flatDB', 'VH_gamma0_flatDB']\n",
      "Method 1 Xmeans Band=['VV_gamma0_flatDB'],continue\n",
      "Write csv and shp, Method=Xmeans  Img=s1_unit_mean_  Band=['VV_gamma0_flatDB', 'VH_gamma0_flatDB']\n",
      "Method 1 CascadeKMeans Band=['VV_gamma0_flatDB'],continue\n",
      "Write csv and shp, Method=CascadeKMeans  Img=s1_unit_mean_  Band=['VV_gamma0_flatDB', 'VH_gamma0_flatDB']\n",
      "Threshould value is 0.36395597876213676\n",
      "Write csv and shp, Method=otsu  Img=s1_unit_mean_  Band=['VV_gamma0_flatDB']\n",
      "Method 2 otsu Band=['VV_gamma0_flatDB', 'VH_gamma0_flatDB'],continue\n"
     ]
    },
    {
     "name": "stderr",
     "output_type": "stream",
     "text": [
      "/root/GEE/Extract_algorithm.py:229: RuntimeWarning: invalid value encountered in divide\n",
      "  higher = (csum_intensity[-1] - csum_intensity[:-1]) / (csumh[:-1]+sys.float_info.min)\n"
     ]
    },
    {
     "name": "stdout",
     "output_type": "stream",
     "text": [
      "Threshould value is 0.3664924951138844\n",
      "Write csv and shp, Method=isodata  Img=s1_unit_mean_  Band=['VV_gamma0_flatDB']\n",
      "Method 2 isodata Band=['VV_gamma0_flatDB', 'VH_gamma0_flatDB'],continue\n",
      "该函数运行了 127.10133 秒\n"
     ]
    },
    {
     "name": "stderr",
     "output_type": "stream",
     "text": [
      " 77%|#######7  | 189/244 [8:50:00<2:39:05, 173.55s/it]"
     ]
    },
    {
     "name": "stdout",
     "output_type": "stream",
     "text": [
      "Begin Filter ...\n"
     ]
    },
    {
     "name": "stderr",
     "output_type": "stream",
     "text": [
      "\n",
      "100%|##########| 14/14 [00:00<00:00, 1839.03it/s]\n",
      "\n",
      "100%|##########| 14/14 [00:00<00:00, 533.99it/s]\n",
      "\n",
      "100%|##########| 13/13 [00:00<00:00, 1781.54it/s]\n",
      "\n",
      "  0%|          | 0/13 [00:00<?, ?it/s]\u001b[A\n",
      "100%|##########| 13/13 [00:00<00:00, 94.60it/s] \u001b[A\n"
     ]
    },
    {
     "name": "stdout",
     "output_type": "stream",
     "text": [
      "Method 1 Kmean Band=['VV_gamma0_flatDB'],continue\n",
      "Write csv and shp, Method=Kmean  Img=s1_unit_mean_  Band=['VV_gamma0_flatDB', 'VH_gamma0_flatDB']\n",
      "Method 1 SNIC_Kmean Band=['VV_gamma0_flatDB'],continue\n",
      "Write csv and shp, Method=SNIC_Kmean  Img=s1_unit_mean_  Band=['VV_gamma0_flatDB', 'VH_gamma0_flatDB']\n",
      "Write csv and shp, Method=SNIC_Kmean  Img=s1_unit_mean_  Band=['VV_gamma0_flatDB', 'VH_gamma0_flatDB']\n",
      "Method 1 Xmeans Band=['VV_gamma0_flatDB'],continue\n",
      "Write csv and shp, Method=Xmeans  Img=s1_unit_mean_  Band=['VV_gamma0_flatDB', 'VH_gamma0_flatDB']\n",
      "Method 1 CascadeKMeans Band=['VV_gamma0_flatDB'],continue\n",
      "Write csv and shp, Method=CascadeKMeans  Img=s1_unit_mean_  Band=['VV_gamma0_flatDB', 'VH_gamma0_flatDB']\n",
      "Threshould value is 0.5262417028225851\n",
      "Write csv and shp, Method=otsu  Img=s1_unit_mean_  Band=['VV_gamma0_flatDB']\n",
      "Method 2 otsu Band=['VV_gamma0_flatDB', 'VH_gamma0_flatDB'],continue\n"
     ]
    },
    {
     "name": "stderr",
     "output_type": "stream",
     "text": [
      "/root/GEE/Extract_algorithm.py:229: RuntimeWarning: invalid value encountered in divide\n",
      "  higher = (csum_intensity[-1] - csum_intensity[:-1]) / (csumh[:-1]+sys.float_info.min)\n"
     ]
    },
    {
     "name": "stdout",
     "output_type": "stream",
     "text": [
      "Threshould value is 0.5283203125\n",
      "Write csv and shp, Method=isodata  Img=s1_unit_mean_  Band=['VV_gamma0_flatDB']\n",
      "Method 2 isodata Band=['VV_gamma0_flatDB', 'VH_gamma0_flatDB'],continue\n",
      "该函数运行了 127.12419 秒\n"
     ]
    },
    {
     "name": "stderr",
     "output_type": "stream",
     "text": [
      " 78%|#######7  | 190/244 [8:52:07<2:23:39, 159.62s/it]"
     ]
    },
    {
     "name": "stdout",
     "output_type": "stream",
     "text": [
      "Begin Filter ...\n"
     ]
    },
    {
     "name": "stderr",
     "output_type": "stream",
     "text": [
      "\n",
      "100%|##########| 14/14 [00:00<00:00, 1443.25it/s]\n",
      "\n",
      "100%|##########| 14/14 [00:00<00:00, 514.49it/s]\n",
      "\n",
      "100%|##########| 14/14 [00:00<00:00, 1708.62it/s]\n",
      "\n",
      "100%|##########| 14/14 [00:00<00:00, 553.82it/s]\n"
     ]
    },
    {
     "name": "stdout",
     "output_type": "stream",
     "text": [
      "Method 1 Kmean Band=['VV_gamma0_flatDB'],continue\n",
      "Write csv and shp, Method=Kmean  Img=s1_unit_mean_  Band=['VV_gamma0_flatDB', 'VH_gamma0_flatDB']\n",
      "Method 1 SNIC_Kmean Band=['VV_gamma0_flatDB'],continue\n",
      "Write csv and shp, Method=SNIC_Kmean  Img=s1_unit_mean_  Band=['VV_gamma0_flatDB', 'VH_gamma0_flatDB']\n",
      "Write csv and shp, Method=SNIC_Kmean  Img=s1_unit_mean_  Band=['VV_gamma0_flatDB', 'VH_gamma0_flatDB']\n",
      "Method 1 Xmeans Band=['VV_gamma0_flatDB'],continue\n",
      "Write csv and shp, Method=Xmeans  Img=s1_unit_mean_  Band=['VV_gamma0_flatDB', 'VH_gamma0_flatDB']\n",
      "Method 1 CascadeKMeans Band=['VV_gamma0_flatDB'],continue\n",
      "Write csv and shp, Method=CascadeKMeans  Img=s1_unit_mean_  Band=['VV_gamma0_flatDB', 'VH_gamma0_flatDB']\n",
      "Threshould value is 0.5051120829568283\n",
      "Write csv and shp, Method=otsu  Img=s1_unit_mean_  Band=['VV_gamma0_flatDB']\n",
      "Method 2 otsu Band=['VV_gamma0_flatDB', 'VH_gamma0_flatDB'],continue\n",
      "Threshould value is 0.5087890625\n",
      "Write csv and shp, Method=isodata  Img=s1_unit_mean_  Band=['VV_gamma0_flatDB']\n",
      "Method 2 isodata Band=['VV_gamma0_flatDB', 'VH_gamma0_flatDB'],continue\n",
      "该函数运行了 126.33860 秒\n"
     ]
    },
    {
     "name": "stderr",
     "output_type": "stream",
     "text": [
      " 78%|#######8  | 191/244 [8:54:13<2:12:10, 149.64s/it]"
     ]
    },
    {
     "name": "stdout",
     "output_type": "stream",
     "text": [
      "Begin Filter ...\n"
     ]
    },
    {
     "name": "stderr",
     "output_type": "stream",
     "text": [
      "\n",
      "100%|##########| 19/19 [00:00<00:00, 1765.71it/s]\n",
      "\n",
      "100%|##########| 19/19 [00:00<00:00, 370.47it/s]\n",
      "\n",
      "100%|##########| 20/20 [00:00<00:00, 1886.86it/s]\n",
      "\n",
      "100%|##########| 20/20 [00:00<00:00, 386.68it/s]\n"
     ]
    },
    {
     "name": "stdout",
     "output_type": "stream",
     "text": [
      "Method 1 Kmean Band=['VV_gamma0_flatDB'],continue\n",
      "Write csv and shp, Method=Kmean  Img=s1_unit_mean_  Band=['VV_gamma0_flatDB', 'VH_gamma0_flatDB']\n",
      "Method 1 SNIC_Kmean Band=['VV_gamma0_flatDB'],continue\n",
      "Write csv and shp, Method=SNIC_Kmean  Img=s1_unit_mean_  Band=['VV_gamma0_flatDB', 'VH_gamma0_flatDB']\n",
      "Write csv and shp, Method=SNIC_Kmean  Img=s1_unit_mean_  Band=['VV_gamma0_flatDB', 'VH_gamma0_flatDB']\n",
      "Method 1 Xmeans Band=['VV_gamma0_flatDB'],continue\n",
      "Write csv and shp, Method=Xmeans  Img=s1_unit_mean_  Band=['VV_gamma0_flatDB', 'VH_gamma0_flatDB']\n",
      "Method 1 CascadeKMeans Band=['VV_gamma0_flatDB'],continue\n",
      "Write csv and shp, Method=CascadeKMeans  Img=s1_unit_mean_  Band=['VV_gamma0_flatDB', 'VH_gamma0_flatDB']\n",
      "Threshould value is 0.6237274714211714\n",
      "Write csv and shp, Method=otsu  Img=s1_unit_mean_  Band=['VV_gamma0_flatDB']\n",
      "Method 2 otsu Band=['VV_gamma0_flatDB', 'VH_gamma0_flatDB'],continue\n",
      "Threshould value is 0.5441367486637253\n",
      "Write csv and shp, Method=isodata  Img=s1_unit_mean_  Band=['VV_gamma0_flatDB']\n",
      "Method 2 isodata Band=['VV_gamma0_flatDB', 'VH_gamma0_flatDB'],continue\n",
      "该函数运行了 129.30814 秒\n"
     ]
    },
    {
     "name": "stderr",
     "output_type": "stream",
     "text": [
      " 79%|#######8  | 192/244 [8:56:22<2:04:24, 143.54s/it]"
     ]
    },
    {
     "name": "stdout",
     "output_type": "stream",
     "text": [
      "Begin Filter ...\n"
     ]
    },
    {
     "name": "stderr",
     "output_type": "stream",
     "text": [
      "\n",
      "100%|##########| 13/13 [00:00<00:00, 1789.50it/s]\n",
      "\n",
      "100%|##########| 13/13 [00:00<00:00, 544.46it/s]\n",
      "\n",
      "100%|##########| 11/11 [00:00<00:00, 1815.36it/s]\n",
      "\n",
      "100%|##########| 11/11 [00:00<00:00, 664.17it/s]\n"
     ]
    },
    {
     "name": "stdout",
     "output_type": "stream",
     "text": [
      "Method 1 Kmean Band=['VV_gamma0_flatDB'],continue\n",
      "Write csv and shp, Method=Kmean  Img=s1_unit_mean_  Band=['VV_gamma0_flatDB', 'VH_gamma0_flatDB']\n",
      "Method 1 SNIC_Kmean Band=['VV_gamma0_flatDB'],continue\n",
      "Write csv and shp, Method=SNIC_Kmean  Img=s1_unit_mean_  Band=['VV_gamma0_flatDB', 'VH_gamma0_flatDB']\n",
      "Write csv and shp, Method=SNIC_Kmean  Img=s1_unit_mean_  Band=['VV_gamma0_flatDB', 'VH_gamma0_flatDB']\n",
      "Method 1 Xmeans Band=['VV_gamma0_flatDB'],continue\n",
      "Write csv and shp, Method=Xmeans  Img=s1_unit_mean_  Band=['VV_gamma0_flatDB', 'VH_gamma0_flatDB']\n",
      "Method 1 CascadeKMeans Band=['VV_gamma0_flatDB'],continue\n",
      "Write csv and shp, Method=CascadeKMeans  Img=s1_unit_mean_  Band=['VV_gamma0_flatDB', 'VH_gamma0_flatDB']\n",
      "Threshould value is 0.4931640625\n",
      "Write csv and shp, Method=otsu  Img=s1_unit_mean_  Band=['VV_gamma0_flatDB']\n",
      "Method 2 otsu Band=['VV_gamma0_flatDB', 'VH_gamma0_flatDB'],continue\n"
     ]
    },
    {
     "name": "stderr",
     "output_type": "stream",
     "text": [
      "/root/GEE/Extract_algorithm.py:229: RuntimeWarning: invalid value encountered in divide\n",
      "  higher = (csum_intensity[-1] - csum_intensity[:-1]) / (csumh[:-1]+sys.float_info.min)\n"
     ]
    },
    {
     "name": "stdout",
     "output_type": "stream",
     "text": [
      "Threshould value is 0.4931640625\n",
      "Write csv and shp, Method=isodata  Img=s1_unit_mean_  Band=['VV_gamma0_flatDB']\n",
      "Method 2 isodata Band=['VV_gamma0_flatDB', 'VH_gamma0_flatDB'],continue\n",
      "该函数运行了 137.94219 秒\n"
     ]
    },
    {
     "name": "stderr",
     "output_type": "stream",
     "text": [
      " 79%|#######9  | 193/244 [8:58:40<2:00:34, 141.86s/it]"
     ]
    },
    {
     "name": "stdout",
     "output_type": "stream",
     "text": [
      "Begin Filter ...\n"
     ]
    },
    {
     "name": "stderr",
     "output_type": "stream",
     "text": [
      "\n",
      "100%|##########| 12/12 [00:00<00:00, 1618.33it/s]\n",
      "\n",
      "100%|##########| 12/12 [00:00<00:00, 437.20it/s]\n",
      "\n",
      "100%|##########| 13/13 [00:00<00:00, 1747.18it/s]\n",
      "\n",
      "100%|##########| 13/13 [00:00<00:00, 445.90it/s]\n"
     ]
    },
    {
     "name": "stdout",
     "output_type": "stream",
     "text": [
      "Method 1 Kmean Band=['VV_gamma0_flatDB'],continue\n",
      "Write csv and shp, Method=Kmean  Img=s1_unit_mean_  Band=['VV_gamma0_flatDB', 'VH_gamma0_flatDB']\n",
      "Method 1 SNIC_Kmean Band=['VV_gamma0_flatDB'],continue\n",
      "Write csv and shp, Method=SNIC_Kmean  Img=s1_unit_mean_  Band=['VV_gamma0_flatDB', 'VH_gamma0_flatDB']\n",
      "Write csv and shp, Method=SNIC_Kmean  Img=s1_unit_mean_  Band=['VV_gamma0_flatDB', 'VH_gamma0_flatDB']\n",
      "Method 1 Xmeans Band=['VV_gamma0_flatDB'],continue\n",
      "Write csv and shp, Method=Xmeans  Img=s1_unit_mean_  Band=['VV_gamma0_flatDB', 'VH_gamma0_flatDB']\n",
      "Method 1 CascadeKMeans Band=['VV_gamma0_flatDB'],continue\n",
      "Write csv and shp, Method=CascadeKMeans  Img=s1_unit_mean_  Band=['VV_gamma0_flatDB', 'VH_gamma0_flatDB']\n",
      "Threshould value is 0.5205078125\n",
      "Write csv and shp, Method=otsu  Img=s1_unit_mean_  Band=['VV_gamma0_flatDB']\n",
      "Method 2 otsu Band=['VV_gamma0_flatDB', 'VH_gamma0_flatDB'],continue\n",
      "Threshould value is 0.5244140625\n",
      "Write csv and shp, Method=isodata  Img=s1_unit_mean_  Band=['VV_gamma0_flatDB']\n",
      "Method 2 isodata Band=['VV_gamma0_flatDB', 'VH_gamma0_flatDB'],continue\n",
      "该函数运行了 123.45820 秒\n"
     ]
    },
    {
     "name": "stderr",
     "output_type": "stream",
     "text": [
      " 80%|#######9  | 194/244 [9:00:44<1:53:37, 136.34s/it]"
     ]
    },
    {
     "name": "stdout",
     "output_type": "stream",
     "text": [
      "Begin Filter ...\n"
     ]
    },
    {
     "name": "stderr",
     "output_type": "stream",
     "text": [
      "\n",
      "100%|##########| 13/13 [00:00<00:00, 1724.52it/s]\n",
      "\n",
      "100%|##########| 13/13 [00:00<00:00, 663.00it/s]\n",
      "\n",
      "100%|##########| 12/12 [00:00<00:00, 1567.04it/s]\n",
      "\n",
      "100%|##########| 12/12 [00:00<00:00, 729.86it/s]\n"
     ]
    },
    {
     "name": "stdout",
     "output_type": "stream",
     "text": [
      "Method 1 Kmean Band=['VV_gamma0_flatDB'],continue\n",
      "Write csv and shp, Method=Kmean  Img=s1_unit_mean_  Band=['VV_gamma0_flatDB', 'VH_gamma0_flatDB']\n",
      "Method 1 SNIC_Kmean Band=['VV_gamma0_flatDB'],continue\n",
      "Write csv and shp, Method=SNIC_Kmean  Img=s1_unit_mean_  Band=['VV_gamma0_flatDB', 'VH_gamma0_flatDB']\n",
      "Write csv and shp, Method=SNIC_Kmean  Img=s1_unit_mean_  Band=['VV_gamma0_flatDB', 'VH_gamma0_flatDB']\n",
      "Method 1 Xmeans Band=['VV_gamma0_flatDB'],continue\n",
      "Write csv and shp, Method=Xmeans  Img=s1_unit_mean_  Band=['VV_gamma0_flatDB', 'VH_gamma0_flatDB']\n",
      "Method 1 CascadeKMeans Band=['VV_gamma0_flatDB'],continue\n",
      "Write csv and shp, Method=CascadeKMeans  Img=s1_unit_mean_  Band=['VV_gamma0_flatDB', 'VH_gamma0_flatDB']\n",
      "Threshould value is 0.5263671875\n",
      "Write csv and shp, Method=otsu  Img=s1_unit_mean_  Band=['VV_gamma0_flatDB']\n",
      "Method 2 otsu Band=['VV_gamma0_flatDB', 'VH_gamma0_flatDB'],continue\n"
     ]
    },
    {
     "name": "stderr",
     "output_type": "stream",
     "text": [
      "/root/GEE/Extract_algorithm.py:229: RuntimeWarning: invalid value encountered in divide\n",
      "  higher = (csum_intensity[-1] - csum_intensity[:-1]) / (csumh[:-1]+sys.float_info.min)\n"
     ]
    },
    {
     "name": "stdout",
     "output_type": "stream",
     "text": [
      "Threshould value is 0.5322265625\n",
      "Write csv and shp, Method=isodata  Img=s1_unit_mean_  Band=['VV_gamma0_flatDB']\n",
      "Method 2 isodata Band=['VV_gamma0_flatDB', 'VH_gamma0_flatDB'],continue\n",
      "该函数运行了 135.46808 秒\n"
     ]
    },
    {
     "name": "stderr",
     "output_type": "stream",
     "text": [
      " 80%|#######9  | 195/244 [9:02:59<1:51:07, 136.08s/it]"
     ]
    },
    {
     "name": "stdout",
     "output_type": "stream",
     "text": [
      "Begin Filter ...\n"
     ]
    },
    {
     "name": "stderr",
     "output_type": "stream",
     "text": [
      "\n",
      "100%|##########| 10/10 [00:00<00:00, 1723.50it/s]\n",
      "\n",
      "100%|##########| 10/10 [00:00<00:00, 525.63it/s]\n",
      "\n",
      "100%|##########| 12/12 [00:00<00:00, 1626.86it/s]\n",
      "\n",
      "100%|##########| 12/12 [00:00<00:00, 678.98it/s]\n"
     ]
    },
    {
     "name": "stdout",
     "output_type": "stream",
     "text": [
      "Method 1 Kmean Band=['VV_gamma0_flatDB'],continue\n",
      "Write csv and shp, Method=Kmean  Img=s1_unit_mean_  Band=['VV_gamma0_flatDB', 'VH_gamma0_flatDB']\n",
      "Method 1 SNIC_Kmean Band=['VV_gamma0_flatDB'],continue\n",
      "Write csv and shp, Method=SNIC_Kmean  Img=s1_unit_mean_  Band=['VV_gamma0_flatDB', 'VH_gamma0_flatDB']\n",
      "Write csv and shp, Method=SNIC_Kmean  Img=s1_unit_mean_  Band=['VV_gamma0_flatDB', 'VH_gamma0_flatDB']\n",
      "Method 1 Xmeans Band=['VV_gamma0_flatDB'],continue\n",
      "Write csv and shp, Method=Xmeans  Img=s1_unit_mean_  Band=['VV_gamma0_flatDB', 'VH_gamma0_flatDB']\n",
      "Method 1 CascadeKMeans Band=['VV_gamma0_flatDB'],continue\n",
      "Write csv and shp, Method=CascadeKMeans  Img=s1_unit_mean_  Band=['VV_gamma0_flatDB', 'VH_gamma0_flatDB']\n",
      "Threshould value is 0.5890008427047897\n",
      "Write csv and shp, Method=otsu  Img=s1_unit_mean_  Band=['VV_gamma0_flatDB']\n",
      "Method 2 otsu Band=['VV_gamma0_flatDB', 'VH_gamma0_flatDB'],continue\n",
      "Threshould value is 0.5791015625\n",
      "Write csv and shp, Method=isodata  Img=s1_unit_mean_  Band=['VV_gamma0_flatDB']\n",
      "Method 2 isodata Band=['VV_gamma0_flatDB', 'VH_gamma0_flatDB'],continue\n",
      "Generating URL ...\n",
      "Downloading data from https://earthengine.googleapis.com/v1/projects/earthengine-legacy/thumbnails/860115f3b2cb104c749068c646ec5976-f0d3601ae44adcbb39b79350392d806b:getPixels\n",
      "Please wait ...\n",
      "Data downloaded to /root/GEE/2019补齐结果/4895_Ascending_S1A_IW_GRDH_1SDV_20190714T115743_20190714T115808_028113_032CCD_07AC.tif\n",
      "image save right\n",
      "change image bandNames\n",
      "Generating URL ...\n",
      "Downloading data from https://earthengine.googleapis.com/v1/projects/earthengine-legacy/thumbnails/1417153c7dfae1ff654e8cd3c9e34d64-bd1be67fac0e0a3fa82b3cdc005c16b5:getPixels\n",
      "Please wait ...\n",
      "Data downloaded to /root/GEE/2019补齐结果/4895_Descending_S1A_IW_GRDH_1SDV_20190809T234613_20190809T234638_028499_0338B5_13E6.tif\n",
      "image save right\n",
      "change image bandNames\n",
      "Generating URL ...\n",
      "Downloading data from https://earthengine.googleapis.com/v1/projects/earthengine-legacy/thumbnails/88f8366d4b36d88a6d2683e00b2cd8e7-cea920add0f452bc2751539db11fccda:getPixels\n",
      "Please wait ...\n",
      "Data downloaded to /root/GEE/2019补齐结果/4895_s2a_sr_median.tif\n",
      "image save right\n",
      "change image bandNames\n",
      "Generating URL ...\n",
      "Downloading data from https://earthengine.googleapis.com/v1/projects/earthengine-legacy/thumbnails/660bafdae142ebfb07fa558616439fe9-1f512a992218b955698b9973ff39c7c8:getPixels\n",
      "Please wait ...\n",
      "Data downloaded to /root/GEE/2019补齐结果/4895_s1_unit_mean_.tif\n",
      "image save right\n",
      "change image bandNames\n",
      "Generating URL ...\n",
      "Downloading data from https://earthengine.googleapis.com/v1/projects/earthengine-legacy/thumbnails/261c3a01f50b8e0458894d59c6d49938-436c1d084aa7410d64ecaa7749d5d0a7:getPixels\n",
      "Please wait ...\n",
      "Data downloaded to /root/GEE/2019补齐结果/4895_s1_unit_max_.tif\n",
      "image save right\n",
      "change image bandNames\n",
      "Generating URL ...\n",
      "Downloading data from https://earthengine.googleapis.com/v1/projects/earthengine-legacy/thumbnails/61cae9c7f1c309ecddd8a5ed38ea5991-c70f568787e1c1745507f41e48075289:getPixels\n",
      "Please wait ...\n",
      "Data downloaded to /root/GEE/2019补齐结果/4895_s1_unit_min_.tif\n",
      "image save right\n",
      "change image bandNames\n",
      "Generating URL ...\n",
      "Downloading data from https://earthengine.googleapis.com/v1/projects/earthengine-legacy/thumbnails/630473efbcc69f8c9e3229539a397130-ebfa493797caa2afbcbe7c7fb0550f7e:getPixels\n",
      "Please wait ...\n",
      "Data downloaded to /root/GEE/2019补齐结果/4895_DistortionAS1A_IW_GRDH_1SDV_20190714T115743_20190714T115808_028113_032CCD_07AC.tif\n",
      "image save right\n",
      "change image bandNames\n",
      "Generating URL ...\n",
      "Downloading data from https://earthengine.googleapis.com/v1/projects/earthengine-legacy/thumbnails/8f40d844d3355fbfa4a787f9069df43a-3e0ea80bd48e56c93264150a6cb452c0:getPixels\n",
      "Please wait ...\n",
      "Data downloaded to /root/GEE/2019补齐结果/4895_DistortionDS1A_IW_GRDH_1SDV_20190809T234613_20190809T234638_028499_0338B5_13E6.tif\n",
      "image save right\n",
      "change image bandNames\n",
      "该函数运行了 195.45663 秒\n"
     ]
    },
    {
     "name": "stderr",
     "output_type": "stream",
     "text": [
      " 80%|########  | 196/244 [9:06:15<2:03:06, 153.90s/it]"
     ]
    },
    {
     "name": "stdout",
     "output_type": "stream",
     "text": [
      "Begin Filter ...\n"
     ]
    },
    {
     "name": "stderr",
     "output_type": "stream",
     "text": [
      "\n",
      "100%|##########| 12/12 [00:00<00:00, 1750.67it/s]\n",
      "\n",
      "100%|##########| 12/12 [00:00<00:00, 514.00it/s]\n",
      "\n",
      "100%|##########| 11/11 [00:00<00:00, 1716.93it/s]\n",
      "\n",
      "100%|##########| 11/11 [00:00<00:00, 527.33it/s]\n"
     ]
    },
    {
     "name": "stdout",
     "output_type": "stream",
     "text": [
      "Method 1 Kmean Band=['VV_gamma0_flatDB'],continue\n",
      "Write csv and shp, Method=Kmean  Img=s1_unit_mean_  Band=['VV_gamma0_flatDB', 'VH_gamma0_flatDB']\n",
      "Method 1 SNIC_Kmean Band=['VV_gamma0_flatDB'],continue\n",
      "Write csv and shp, Method=SNIC_Kmean  Img=s1_unit_mean_  Band=['VV_gamma0_flatDB', 'VH_gamma0_flatDB']\n",
      "Write csv and shp, Method=SNIC_Kmean  Img=s1_unit_mean_  Band=['VV_gamma0_flatDB', 'VH_gamma0_flatDB']\n",
      "Method 1 Xmeans Band=['VV_gamma0_flatDB'],continue\n",
      "Write csv and shp, Method=Xmeans  Img=s1_unit_mean_  Band=['VV_gamma0_flatDB', 'VH_gamma0_flatDB']\n",
      "Method 1 CascadeKMeans Band=['VV_gamma0_flatDB'],continue\n",
      "Write csv and shp, Method=CascadeKMeans  Img=s1_unit_mean_  Band=['VV_gamma0_flatDB', 'VH_gamma0_flatDB']\n",
      "Threshould value is 0.5851828470750291\n",
      "Write csv and shp, Method=otsu  Img=s1_unit_mean_  Band=['VV_gamma0_flatDB']\n",
      "Method 2 otsu Band=['VV_gamma0_flatDB', 'VH_gamma0_flatDB'],continue\n"
     ]
    },
    {
     "name": "stderr",
     "output_type": "stream",
     "text": [
      "/root/GEE/Extract_algorithm.py:229: RuntimeWarning: invalid value encountered in divide\n",
      "  higher = (csum_intensity[-1] - csum_intensity[:-1]) / (csumh[:-1]+sys.float_info.min)\n"
     ]
    },
    {
     "name": "stdout",
     "output_type": "stream",
     "text": [
      "Threshould value is 0.5883678032086728\n",
      "Write csv and shp, Method=isodata  Img=s1_unit_mean_  Band=['VV_gamma0_flatDB']\n",
      "Method 2 isodata Band=['VV_gamma0_flatDB', 'VH_gamma0_flatDB'],continue\n",
      "Generating URL ...\n",
      "Downloading data from https://earthengine.googleapis.com/v1/projects/earthengine-legacy/thumbnails/4788ef3d348a1e084e8f3e61300dd694-6b36d49a15987b101116c66b539f1e1d:getPixels\n",
      "Please wait ...\n",
      "Data downloaded to /root/GEE/2019补齐结果/4896_Ascending_S1A_IW_GRDH_1SDV_20190714T115743_20190714T115808_028113_032CCD_07AC.tif\n",
      "image save right\n",
      "change image bandNames\n",
      "Generating URL ...\n",
      "Downloading data from https://earthengine.googleapis.com/v1/projects/earthengine-legacy/thumbnails/5b69fe4786164b0df41a1388542fbdf9-11117acf8f82409374b4b9ed13cb737e:getPixels\n",
      "Please wait ...\n",
      "Data downloaded to /root/GEE/2019补齐结果/4896_Descending_S1A_IW_GRDH_1SDV_20190809T234613_20190809T234638_028499_0338B5_13E6.tif\n",
      "image save right\n",
      "change image bandNames\n",
      "Generating URL ...\n",
      "Downloading data from https://earthengine.googleapis.com/v1/projects/earthengine-legacy/thumbnails/a290c763a7d9355c261f21500822ba77-77386f4c2a40815c34cd7434c040b4c7:getPixels\n",
      "Please wait ...\n",
      "Data downloaded to /root/GEE/2019补齐结果/4896_s2a_sr_median.tif\n",
      "image save right\n",
      "change image bandNames\n",
      "Generating URL ...\n",
      "Downloading data from https://earthengine.googleapis.com/v1/projects/earthengine-legacy/thumbnails/00ca4b943d23ac7efbbc7cedc41ba9f8-7aab82ea4e4c9a0659a76958669bdc5d:getPixels\n",
      "Please wait ...\n",
      "Data downloaded to /root/GEE/2019补齐结果/4896_s1_unit_mean_.tif\n",
      "image save right\n",
      "change image bandNames\n",
      "Generating URL ...\n",
      "Downloading data from https://earthengine.googleapis.com/v1/projects/earthengine-legacy/thumbnails/7d8c03711edb9eac61bccd34fad167db-1a94be576b7ed1a213e25106ac97ae0b:getPixels\n",
      "Please wait ...\n",
      "Data downloaded to /root/GEE/2019补齐结果/4896_s1_unit_max_.tif\n",
      "image save right\n",
      "change image bandNames\n",
      "Generating URL ...\n",
      "Downloading data from https://earthengine.googleapis.com/v1/projects/earthengine-legacy/thumbnails/1691805562f11dc9b646a7268bd99e6a-54cf96858d84db3366989e481dea91fd:getPixels\n",
      "Please wait ...\n",
      "Data downloaded to /root/GEE/2019补齐结果/4896_s1_unit_min_.tif\n",
      "image save right\n",
      "change image bandNames\n",
      "Generating URL ...\n",
      "Downloading data from https://earthengine.googleapis.com/v1/projects/earthengine-legacy/thumbnails/9ff7347a8be905c9abf2835420b822a8-9c10fad0a0934c9c1f7cbd5f2456b1f4:getPixels\n",
      "Please wait ...\n",
      "Data downloaded to /root/GEE/2019补齐结果/4896_DistortionAS1A_IW_GRDH_1SDV_20190714T115743_20190714T115808_028113_032CCD_07AC.tif\n",
      "image save right\n",
      "change image bandNames\n",
      "Generating URL ...\n",
      "Downloading data from https://earthengine.googleapis.com/v1/projects/earthengine-legacy/thumbnails/5177e32f6353598d76b8729b9d5140fe-11d0a644255263fc585795ad1d9609e6:getPixels\n",
      "Please wait ...\n",
      "Data downloaded to /root/GEE/2019补齐结果/4896_DistortionDS1A_IW_GRDH_1SDV_20190809T234613_20190809T234638_028499_0338B5_13E6.tif\n",
      "image save right\n",
      "change image bandNames\n",
      "该函数运行了 204.61405 秒\n"
     ]
    },
    {
     "name": "stderr",
     "output_type": "stream",
     "text": [
      " 81%|########  | 197/244 [9:09:39<2:12:28, 169.11s/it]"
     ]
    },
    {
     "name": "stdout",
     "output_type": "stream",
     "text": [
      "Begin Filter ...\n"
     ]
    },
    {
     "name": "stderr",
     "output_type": "stream",
     "text": [
      "\n",
      "100%|##########| 14/14 [00:00<00:00, 1705.89it/s]\n",
      "\n",
      "100%|##########| 14/14 [00:00<00:00, 443.50it/s]\n",
      "\n",
      "100%|##########| 14/14 [00:00<00:00, 1584.64it/s]\n",
      "\n",
      "100%|##########| 14/14 [00:00<00:00, 517.19it/s]\n"
     ]
    },
    {
     "name": "stdout",
     "output_type": "stream",
     "text": [
      "Method 1 Kmean Band=['VV_gamma0_flatDB'],continue\n",
      "Write csv and shp, Method=Kmean  Img=s1_unit_mean_  Band=['VV_gamma0_flatDB', 'VH_gamma0_flatDB']\n",
      "Method 1 SNIC_Kmean Band=['VV_gamma0_flatDB'],continue\n",
      "Write csv and shp, Method=SNIC_Kmean  Img=s1_unit_mean_  Band=['VV_gamma0_flatDB', 'VH_gamma0_flatDB']\n",
      "Write csv and shp, Method=SNIC_Kmean  Img=s1_unit_mean_  Band=['VV_gamma0_flatDB', 'VH_gamma0_flatDB']\n",
      "Method 1 Xmeans Band=['VV_gamma0_flatDB'],continue\n",
      "Write csv and shp, Method=Xmeans  Img=s1_unit_mean_  Band=['VV_gamma0_flatDB', 'VH_gamma0_flatDB']\n",
      "Method 1 CascadeKMeans Band=['VV_gamma0_flatDB'],continue\n",
      "Write csv and shp, Method=CascadeKMeans  Img=s1_unit_mean_  Band=['VV_gamma0_flatDB', 'VH_gamma0_flatDB']\n",
      "Threshould value is 0.5673419815823867\n",
      "Write csv and shp, Method=otsu  Img=s1_unit_mean_  Band=['VV_gamma0_flatDB']\n",
      "Method 2 otsu Band=['VV_gamma0_flatDB', 'VH_gamma0_flatDB'],continue\n",
      "Threshould value is 0.5424238900813023\n",
      "Write csv and shp, Method=isodata  Img=s1_unit_mean_  Band=['VV_gamma0_flatDB']\n",
      "Method 2 isodata Band=['VV_gamma0_flatDB', 'VH_gamma0_flatDB'],continue\n",
      "Generating URL ...\n",
      "Downloading data from https://earthengine.googleapis.com/v1/projects/earthengine-legacy/thumbnails/265edb8d88b5abf0b0e87f1f8adb00be-f69b6c89300de07c68c71dcdc247e4e3:getPixels\n",
      "Please wait ...\n",
      "Data downloaded to /root/GEE/2019补齐结果/4897_Ascending_S1A_IW_GRDH_1SDV_20190714T115743_20190714T115808_028113_032CCD_07AC.tif\n",
      "image save right\n",
      "change image bandNames\n",
      "Generating URL ...\n",
      "Downloading data from https://earthengine.googleapis.com/v1/projects/earthengine-legacy/thumbnails/2f81af80a5d6991373024448b9a34ab4-47a87f70e00bda4b956174700d6be503:getPixels\n",
      "Please wait ...\n",
      "Data downloaded to /root/GEE/2019补齐结果/4897_Descending_S1A_IW_GRDH_1SDV_20190809T234613_20190809T234638_028499_0338B5_13E6.tif\n",
      "image save right\n",
      "change image bandNames\n",
      "Generating URL ...\n",
      "Downloading data from https://earthengine.googleapis.com/v1/projects/earthengine-legacy/thumbnails/512b082fc62c3dc8fcb4e84294cf019c-c6e78d48096040c4c4b335df0fba5698:getPixels\n",
      "Please wait ...\n",
      "Data downloaded to /root/GEE/2019补齐结果/4897_s2a_sr_median.tif\n",
      "image save right\n",
      "change image bandNames\n",
      "Generating URL ...\n",
      "Downloading data from https://earthengine.googleapis.com/v1/projects/earthengine-legacy/thumbnails/d00094dd84f6c3c3e8225f1c77281d63-1fac98fc585a6fdb4ff054eb319bdb6b:getPixels\n",
      "Please wait ...\n",
      "Data downloaded to /root/GEE/2019补齐结果/4897_s1_unit_mean_.tif\n",
      "image save right\n",
      "change image bandNames\n",
      "Generating URL ...\n",
      "Downloading data from https://earthengine.googleapis.com/v1/projects/earthengine-legacy/thumbnails/79ac27e7b8e62b0b3947ca602d987ea6-49c156ac42de6870f2b04a0a39b75f2e:getPixels\n",
      "Please wait ...\n",
      "Data downloaded to /root/GEE/2019补齐结果/4897_s1_unit_max_.tif\n",
      "image save right\n",
      "change image bandNames\n",
      "Generating URL ...\n",
      "Downloading data from https://earthengine.googleapis.com/v1/projects/earthengine-legacy/thumbnails/68c83d6a9275d8c4b36e2541387201f2-4a7813f630cdcb3d9d167350e0d8c1da:getPixels\n",
      "Please wait ...\n",
      "Data downloaded to /root/GEE/2019补齐结果/4897_s1_unit_min_.tif\n",
      "image save right\n",
      "change image bandNames\n",
      "Generating URL ...\n",
      "Downloading data from https://earthengine.googleapis.com/v1/projects/earthengine-legacy/thumbnails/d6ccdbf29661b16af86e4afb3158df55-eb3a30710d9c531d4b79844eb5c42d07:getPixels\n",
      "Please wait ...\n",
      "Data downloaded to /root/GEE/2019补齐结果/4897_DistortionAS1A_IW_GRDH_1SDV_20190714T115743_20190714T115808_028113_032CCD_07AC.tif\n",
      "image save right\n",
      "change image bandNames\n",
      "Generating URL ...\n",
      "Downloading data from https://earthengine.googleapis.com/v1/projects/earthengine-legacy/thumbnails/2635ab8e6037158e1c4ccd067363e343-100be2428e145ca2a0d6e658377c723b:getPixels\n",
      "Please wait ...\n",
      "Data downloaded to /root/GEE/2019补齐结果/4897_DistortionDS1A_IW_GRDH_1SDV_20190809T234613_20190809T234638_028499_0338B5_13E6.tif\n",
      "image save right\n",
      "change image bandNames\n",
      "该函数运行了 211.01112 秒\n"
     ]
    },
    {
     "name": "stderr",
     "output_type": "stream",
     "text": [
      " 81%|########1 | 198/244 [9:13:10<2:19:17, 181.68s/it]"
     ]
    },
    {
     "name": "stdout",
     "output_type": "stream",
     "text": [
      "Begin Filter ...\n"
     ]
    },
    {
     "name": "stderr",
     "output_type": "stream",
     "text": [
      "\n",
      "100%|##########| 19/19 [00:00<00:00, 1805.72it/s]\n",
      "\n",
      "100%|##########| 19/19 [00:00<00:00, 286.84it/s]\n",
      "\n",
      "100%|##########| 20/20 [00:00<00:00, 1825.95it/s]\n",
      "\n",
      "100%|##########| 20/20 [00:00<00:00, 259.83it/s]\n"
     ]
    },
    {
     "name": "stdout",
     "output_type": "stream",
     "text": [
      "Method 1 Kmean Band=['VV_gamma0_flatDB'],continue\n",
      "Write csv and shp, Method=Kmean  Img=s1_unit_mean_  Band=['VV_gamma0_flatDB', 'VH_gamma0_flatDB']\n",
      "Method 1 SNIC_Kmean Band=['VV_gamma0_flatDB'],continue\n",
      "Write csv and shp, Method=SNIC_Kmean  Img=s1_unit_mean_  Band=['VV_gamma0_flatDB', 'VH_gamma0_flatDB']\n",
      "Write csv and shp, Method=SNIC_Kmean  Img=s1_unit_mean_  Band=['VV_gamma0_flatDB', 'VH_gamma0_flatDB']\n",
      "Method 1 Xmeans Band=['VV_gamma0_flatDB'],continue\n",
      "Write csv and shp, Method=Xmeans  Img=s1_unit_mean_  Band=['VV_gamma0_flatDB', 'VH_gamma0_flatDB']\n",
      "Method 1 CascadeKMeans Band=['VV_gamma0_flatDB'],continue\n",
      "Write csv and shp, Method=CascadeKMeans  Img=s1_unit_mean_  Band=['VV_gamma0_flatDB', 'VH_gamma0_flatDB']\n",
      "Threshould value is 0.4736098587497328\n",
      "Write csv and shp, Method=otsu  Img=s1_unit_mean_  Band=['VV_gamma0_flatDB']\n",
      "Method 2 otsu Band=['VV_gamma0_flatDB', 'VH_gamma0_flatDB'],continue\n"
     ]
    },
    {
     "name": "stderr",
     "output_type": "stream",
     "text": [
      "/root/GEE/Extract_algorithm.py:229: RuntimeWarning: invalid value encountered in divide\n",
      "  higher = (csum_intensity[-1] - csum_intensity[:-1]) / (csumh[:-1]+sys.float_info.min)\n"
     ]
    },
    {
     "name": "stdout",
     "output_type": "stream",
     "text": [
      "Threshould value is 0.47601217517955785\n",
      "Write csv and shp, Method=isodata  Img=s1_unit_mean_  Band=['VV_gamma0_flatDB']\n",
      "Method 2 isodata Band=['VV_gamma0_flatDB', 'VH_gamma0_flatDB'],continue\n",
      "该函数运行了 137.77393 秒\n"
     ]
    },
    {
     "name": "stderr",
     "output_type": "stream",
     "text": [
      " 82%|########1 | 199/244 [9:15:28<2:06:23, 168.51s/it]"
     ]
    },
    {
     "name": "stdout",
     "output_type": "stream",
     "text": [
      "Begin Filter ...\n"
     ]
    },
    {
     "name": "stderr",
     "output_type": "stream",
     "text": [
      "\n",
      "100%|##########| 17/17 [00:00<00:00, 1752.44it/s]\n",
      "\n",
      "100%|##########| 17/17 [00:00<00:00, 377.89it/s]\n",
      "\n",
      "100%|##########| 16/16 [00:00<00:00, 1909.92it/s]\n",
      "\n",
      "100%|##########| 16/16 [00:00<00:00, 363.71it/s]\n"
     ]
    },
    {
     "name": "stdout",
     "output_type": "stream",
     "text": [
      "Method 1 Kmean Band=['VV_gamma0_flatDB'],continue\n",
      "Write csv and shp, Method=Kmean  Img=s1_unit_mean_  Band=['VV_gamma0_flatDB', 'VH_gamma0_flatDB']\n",
      "Method 1 SNIC_Kmean Band=['VV_gamma0_flatDB'],continue\n",
      "Write csv and shp, Method=SNIC_Kmean  Img=s1_unit_mean_  Band=['VV_gamma0_flatDB', 'VH_gamma0_flatDB']\n",
      "Write csv and shp, Method=SNIC_Kmean  Img=s1_unit_mean_  Band=['VV_gamma0_flatDB', 'VH_gamma0_flatDB']\n",
      "Method 1 Xmeans Band=['VV_gamma0_flatDB'],continue\n",
      "Write csv and shp, Method=Xmeans  Img=s1_unit_mean_  Band=['VV_gamma0_flatDB', 'VH_gamma0_flatDB']\n",
      "Method 1 CascadeKMeans Band=['VV_gamma0_flatDB'],continue\n",
      "Write csv and shp, Method=CascadeKMeans  Img=s1_unit_mean_  Band=['VV_gamma0_flatDB', 'VH_gamma0_flatDB']\n",
      "Threshould value is 0.6317016196593965\n",
      "Write csv and shp, Method=otsu  Img=s1_unit_mean_  Band=['VV_gamma0_flatDB']\n",
      "Method 2 otsu Band=['VV_gamma0_flatDB', 'VH_gamma0_flatDB'],continue\n",
      "Threshould value is 0.5696278454712292\n",
      "Write csv and shp, Method=isodata  Img=s1_unit_mean_  Band=['VV_gamma0_flatDB']\n",
      "Method 2 isodata Band=['VV_gamma0_flatDB', 'VH_gamma0_flatDB'],continue\n",
      "Generating URL ...\n",
      "Downloading data from https://earthengine.googleapis.com/v1/projects/earthengine-legacy/thumbnails/d668232ca10c07d5ed556a92d1b75d5c-119d4b42a5b7e888cf3cb183110f7abc:getPixels\n",
      "Please wait ...\n",
      "Data downloaded to /root/GEE/2019补齐结果/4899_Ascending_S1A_IW_GRDH_1SDV_20190714T115743_20190714T115808_028113_032CCD_07AC.tif\n",
      "image save right\n",
      "change image bandNames\n",
      "Generating URL ...\n",
      "Downloading data from https://earthengine.googleapis.com/v1/projects/earthengine-legacy/thumbnails/36d5ea90cd1e02c6eb06772cb0410243-779536b7a40ee0a7bc3dd0775d8cd4a0:getPixels\n",
      "Please wait ...\n",
      "Data downloaded to /root/GEE/2019补齐结果/4899_Descending_S1A_IW_GRDH_1SDV_20190809T234613_20190809T234638_028499_0338B5_13E6.tif\n",
      "image save right\n",
      "change image bandNames\n",
      "Generating URL ...\n",
      "Downloading data from https://earthengine.googleapis.com/v1/projects/earthengine-legacy/thumbnails/24a9235f6631e5c1d6d54766d3e9a823-50f6092c3cee4f321df1c1d5fe943852:getPixels\n",
      "Please wait ...\n",
      "Data downloaded to /root/GEE/2019补齐结果/4899_s2a_sr_median.tif\n",
      "image save right\n",
      "change image bandNames\n",
      "Generating URL ...\n",
      "Downloading data from https://earthengine.googleapis.com/v1/projects/earthengine-legacy/thumbnails/94f3ea7fa350fb1acb701797e319ca72-3e40baebf636e2afe9e399b9a91f1835:getPixels\n",
      "Please wait ...\n",
      "Data downloaded to /root/GEE/2019补齐结果/4899_s1_unit_mean_.tif\n",
      "image save right\n",
      "change image bandNames\n",
      "Generating URL ...\n",
      "Downloading data from https://earthengine.googleapis.com/v1/projects/earthengine-legacy/thumbnails/53351040ddb44a258cbaaab6a9da37af-d874deaf43cd0cd7ae00ec4773ecc6b9:getPixels\n",
      "Please wait ...\n",
      "Data downloaded to /root/GEE/2019补齐结果/4899_s1_unit_max_.tif\n",
      "image save right\n",
      "change image bandNames\n",
      "Generating URL ...\n",
      "Downloading data from https://earthengine.googleapis.com/v1/projects/earthengine-legacy/thumbnails/88fcaf3162054e2e5cfad6b72023cb41-25a2bab42432607018a35b54cbd3d640:getPixels\n",
      "Please wait ...\n",
      "Data downloaded to /root/GEE/2019补齐结果/4899_s1_unit_min_.tif\n",
      "image save right\n",
      "change image bandNames\n",
      "Generating URL ...\n",
      "Downloading data from https://earthengine.googleapis.com/v1/projects/earthengine-legacy/thumbnails/2e92b3d21aa02fd942738a0be49a335b-3db9ff0a0655ede9cf16b540f612e500:getPixels\n",
      "Please wait ...\n",
      "Data downloaded to /root/GEE/2019补齐结果/4899_DistortionAS1A_IW_GRDH_1SDV_20190714T115743_20190714T115808_028113_032CCD_07AC.tif\n",
      "image save right\n",
      "change image bandNames\n",
      "Generating URL ...\n",
      "Downloading data from https://earthengine.googleapis.com/v1/projects/earthengine-legacy/thumbnails/fe193e44b4d457e21736d605a413d3b0-e416720b635fb80978f68d3b593beecb:getPixels\n",
      "Please wait ...\n",
      "Data downloaded to /root/GEE/2019补齐结果/4899_DistortionDS1A_IW_GRDH_1SDV_20190809T234613_20190809T234638_028499_0338B5_13E6.tif\n",
      "image save right\n",
      "change image bandNames\n",
      "该函数运行了 210.71187 秒\n"
     ]
    },
    {
     "name": "stderr",
     "output_type": "stream",
     "text": [
      " 82%|########1 | 200/244 [9:18:59<2:12:51, 181.17s/it]"
     ]
    },
    {
     "name": "stdout",
     "output_type": "stream",
     "text": [
      "Begin Filter ...\n"
     ]
    },
    {
     "name": "stderr",
     "output_type": "stream",
     "text": [
      "\n",
      "100%|##########| 12/12 [00:00<00:00, 1511.14it/s]\n",
      "\n",
      "100%|##########| 12/12 [00:00<00:00, 571.22it/s]\n",
      "\n",
      "100%|##########| 12/12 [00:00<00:00, 1606.96it/s]\n",
      "\n",
      "100%|##########| 12/12 [00:00<00:00, 644.00it/s]\n"
     ]
    },
    {
     "name": "stdout",
     "output_type": "stream",
     "text": [
      "Method 1 Kmean Band=['VV_gamma0_flatDB'],continue\n",
      "Write csv and shp, Method=Kmean  Img=s1_unit_mean_  Band=['VV_gamma0_flatDB', 'VH_gamma0_flatDB']\n",
      "Method 1 SNIC_Kmean Band=['VV_gamma0_flatDB'],continue\n",
      "Write csv and shp, Method=SNIC_Kmean  Img=s1_unit_mean_  Band=['VV_gamma0_flatDB', 'VH_gamma0_flatDB']\n",
      "Write csv and shp, Method=SNIC_Kmean  Img=s1_unit_mean_  Band=['VV_gamma0_flatDB', 'VH_gamma0_flatDB']\n",
      "Method 1 Xmeans Band=['VV_gamma0_flatDB'],continue\n",
      "Write csv and shp, Method=Xmeans  Img=s1_unit_mean_  Band=['VV_gamma0_flatDB', 'VH_gamma0_flatDB']\n",
      "Method 1 CascadeKMeans Band=['VV_gamma0_flatDB'],continue\n",
      "Write csv and shp, Method=CascadeKMeans  Img=s1_unit_mean_  Band=['VV_gamma0_flatDB', 'VH_gamma0_flatDB']\n",
      "Threshould value is 0.6379687858312337\n",
      "Write csv and shp, Method=otsu  Img=s1_unit_mean_  Band=['VV_gamma0_flatDB']\n",
      "Method 2 otsu Band=['VV_gamma0_flatDB', 'VH_gamma0_flatDB'],continue\n",
      "Threshould value is 0.6379687858312337\n",
      "Write csv and shp, Method=isodata  Img=s1_unit_mean_  Band=['VV_gamma0_flatDB']\n",
      "Method 2 isodata Band=['VV_gamma0_flatDB', 'VH_gamma0_flatDB'],continue\n",
      "Generating URL ...\n",
      "Downloading data from https://earthengine.googleapis.com/v1/projects/earthengine-legacy/thumbnails/e47e47b76bcc8cf7e16fbbf3d9fc5759-1dba3b3bde4a09fea0eeae3fd0131e5e:getPixels\n",
      "Please wait ...\n",
      "Data downloaded to /root/GEE/2019补齐结果/4900_Ascending_S1A_IW_GRDH_1SDV_20190714T115743_20190714T115808_028113_032CCD_07AC.tif\n",
      "image save right\n",
      "change image bandNames\n",
      "Generating URL ...\n",
      "Downloading data from https://earthengine.googleapis.com/v1/projects/earthengine-legacy/thumbnails/8bdd031a1e71909a927878c72ac59ec0-e24f00cce9eb1bfae3b824ec928ab8f9:getPixels\n",
      "Please wait ...\n",
      "Data downloaded to /root/GEE/2019补齐结果/4900_Descending_S1A_IW_GRDH_1SDV_20190809T234613_20190809T234638_028499_0338B5_13E6.tif\n",
      "image save right\n",
      "change image bandNames\n",
      "Generating URL ...\n",
      "Downloading data from https://earthengine.googleapis.com/v1/projects/earthengine-legacy/thumbnails/600cd8f6b9f8097eb9842d5643741747-73ac819a36ee5221c0853d2b7a8d013e:getPixels\n",
      "Please wait ...\n",
      "Data downloaded to /root/GEE/2019补齐结果/4900_s2a_sr_median.tif\n",
      "image save right\n",
      "change image bandNames\n",
      "Generating URL ...\n",
      "Downloading data from https://earthengine.googleapis.com/v1/projects/earthengine-legacy/thumbnails/e891f3c23eb21393e0e86238c5f8f69a-246f6a72036192d55912aa3da4ac2e8b:getPixels\n",
      "Please wait ...\n",
      "Data downloaded to /root/GEE/2019补齐结果/4900_s1_unit_mean_.tif\n",
      "image save right\n",
      "change image bandNames\n",
      "Generating URL ...\n",
      "Downloading data from https://earthengine.googleapis.com/v1/projects/earthengine-legacy/thumbnails/3ad32a157ed51a62df401deeb42bde30-35edad3089b30ceb34779c94f5121714:getPixels\n",
      "Please wait ...\n",
      "Data downloaded to /root/GEE/2019补齐结果/4900_s1_unit_max_.tif\n",
      "image save right\n",
      "change image bandNames\n",
      "Generating URL ...\n",
      "Downloading data from https://earthengine.googleapis.com/v1/projects/earthengine-legacy/thumbnails/3b44cddb541757a23d8a4d4e26b5bb27-9375fe4f214c08f99c6c78c6a1c6c2f8:getPixels\n",
      "Please wait ...\n",
      "Data downloaded to /root/GEE/2019补齐结果/4900_s1_unit_min_.tif\n",
      "image save right\n",
      "change image bandNames\n",
      "Generating URL ...\n",
      "Downloading data from https://earthengine.googleapis.com/v1/projects/earthengine-legacy/thumbnails/256bf45db01238dc2aaee838296a81ac-c8b8a17cef4275641096bcedb14c53da:getPixels\n",
      "Please wait ...\n",
      "Data downloaded to /root/GEE/2019补齐结果/4900_DistortionAS1A_IW_GRDH_1SDV_20190714T115743_20190714T115808_028113_032CCD_07AC.tif\n",
      "image save right\n",
      "change image bandNames\n",
      "Generating URL ...\n",
      "Downloading data from https://earthengine.googleapis.com/v1/projects/earthengine-legacy/thumbnails/7b1653453ddfc7b8bd7fc022942b446b-19e17acbad215c3563d159ca481f1ed0:getPixels\n",
      "Please wait ...\n",
      "Data downloaded to /root/GEE/2019补齐结果/4900_DistortionDS1A_IW_GRDH_1SDV_20190809T234613_20190809T234638_028499_0338B5_13E6.tif\n",
      "image save right\n",
      "change image bandNames\n",
      "该函数运行了 201.62849 秒\n"
     ]
    },
    {
     "name": "stderr",
     "output_type": "stream",
     "text": [
      " 82%|########2 | 201/244 [9:22:21<2:14:14, 187.31s/it]"
     ]
    },
    {
     "name": "stdout",
     "output_type": "stream",
     "text": [
      "Begin Filter ...\n"
     ]
    },
    {
     "name": "stderr",
     "output_type": "stream",
     "text": [
      "\n",
      "100%|##########| 15/15 [00:00<00:00, 1729.37it/s]\n",
      "\n",
      "100%|##########| 15/15 [00:00<00:00, 531.53it/s]\n",
      "\n",
      "100%|##########| 15/15 [00:00<00:00, 1756.07it/s]\n",
      "\n",
      "100%|##########| 15/15 [00:00<00:00, 618.66it/s]\n"
     ]
    },
    {
     "name": "stdout",
     "output_type": "stream",
     "text": [
      "Method 1 Kmean Band=['VV_gamma0_flatDB'],continue\n",
      "Write csv and shp, Method=Kmean  Img=s1_unit_mean_  Band=['VV_gamma0_flatDB', 'VH_gamma0_flatDB']\n",
      "Method 1 SNIC_Kmean Band=['VV_gamma0_flatDB'],continue\n",
      "Write csv and shp, Method=SNIC_Kmean  Img=s1_unit_mean_  Band=['VV_gamma0_flatDB', 'VH_gamma0_flatDB']\n",
      "Write csv and shp, Method=SNIC_Kmean  Img=s1_unit_mean_  Band=['VV_gamma0_flatDB', 'VH_gamma0_flatDB']\n",
      "Method 1 Xmeans Band=['VV_gamma0_flatDB'],continue\n",
      "Write csv and shp, Method=Xmeans  Img=s1_unit_mean_  Band=['VV_gamma0_flatDB', 'VH_gamma0_flatDB']\n",
      "Method 1 CascadeKMeans Band=['VV_gamma0_flatDB'],continue\n",
      "Write csv and shp, Method=CascadeKMeans  Img=s1_unit_mean_  Band=['VV_gamma0_flatDB', 'VH_gamma0_flatDB']\n",
      "Threshould value is 0.4873046875\n",
      "Write csv and shp, Method=otsu  Img=s1_unit_mean_  Band=['VV_gamma0_flatDB']\n",
      "Method 2 otsu Band=['VV_gamma0_flatDB', 'VH_gamma0_flatDB'],continue\n",
      "Threshould value is 0.4892578125\n",
      "Write csv and shp, Method=isodata  Img=s1_unit_mean_  Band=['VV_gamma0_flatDB']\n",
      "Method 2 isodata Band=['VV_gamma0_flatDB', 'VH_gamma0_flatDB'],continue\n",
      "该函数运行了 126.64572 秒\n"
     ]
    },
    {
     "name": "stderr",
     "output_type": "stream",
     "text": [
      " 83%|########2 | 202/244 [9:24:27<1:58:22, 169.11s/it]"
     ]
    },
    {
     "name": "stdout",
     "output_type": "stream",
     "text": [
      "Begin Filter ...\n"
     ]
    },
    {
     "name": "stderr",
     "output_type": "stream",
     "text": [
      "\n",
      "100%|##########| 13/13 [00:00<00:00, 1600.41it/s]\n",
      "\n",
      "100%|##########| 13/13 [00:00<00:00, 420.07it/s]\n",
      "\n",
      "100%|##########| 14/14 [00:00<00:00, 1759.78it/s]\n",
      "\n",
      "100%|##########| 14/14 [00:00<00:00, 383.28it/s]\n"
     ]
    },
    {
     "name": "stdout",
     "output_type": "stream",
     "text": [
      "Method 1 Kmean Band=['VV_gamma0_flatDB'],continue\n",
      "Write csv and shp, Method=Kmean  Img=s1_unit_mean_  Band=['VV_gamma0_flatDB', 'VH_gamma0_flatDB']\n",
      "Method 1 SNIC_Kmean Band=['VV_gamma0_flatDB'],continue\n",
      "Write csv and shp, Method=SNIC_Kmean  Img=s1_unit_mean_  Band=['VV_gamma0_flatDB', 'VH_gamma0_flatDB']\n",
      "Write csv and shp, Method=SNIC_Kmean  Img=s1_unit_mean_  Band=['VV_gamma0_flatDB', 'VH_gamma0_flatDB']\n",
      "Method 1 Xmeans Band=['VV_gamma0_flatDB'],continue\n",
      "Write csv and shp, Method=Xmeans  Img=s1_unit_mean_  Band=['VV_gamma0_flatDB', 'VH_gamma0_flatDB']\n",
      "Method 1 CascadeKMeans Band=['VV_gamma0_flatDB'],continue\n",
      "Write csv and shp, Method=CascadeKMeans  Img=s1_unit_mean_  Band=['VV_gamma0_flatDB', 'VH_gamma0_flatDB']\n",
      "Threshould value is 0.47171498444462545\n",
      "Write csv and shp, Method=otsu  Img=s1_unit_mean_  Band=['VV_gamma0_flatDB']\n",
      "Method 2 otsu Band=['VV_gamma0_flatDB', 'VH_gamma0_flatDB'],continue\n"
     ]
    },
    {
     "name": "stderr",
     "output_type": "stream",
     "text": [
      "/root/GEE/Extract_algorithm.py:229: RuntimeWarning: invalid value encountered in divide\n",
      "  higher = (csum_intensity[-1] - csum_intensity[:-1]) / (csumh[:-1]+sys.float_info.min)\n"
     ]
    },
    {
     "name": "stdout",
     "output_type": "stream",
     "text": [
      "Threshould value is 0.47390266092176203\n",
      "Write csv and shp, Method=isodata  Img=s1_unit_mean_  Band=['VV_gamma0_flatDB']\n",
      "Method 2 isodata Band=['VV_gamma0_flatDB', 'VH_gamma0_flatDB'],continue\n",
      "该函数运行了 140.06029 秒\n"
     ]
    },
    {
     "name": "stderr",
     "output_type": "stream",
     "text": [
      " 83%|########3 | 203/244 [9:26:47<1:49:36, 160.40s/it]"
     ]
    },
    {
     "name": "stdout",
     "output_type": "stream",
     "text": [
      "Begin Filter ...\n"
     ]
    },
    {
     "name": "stderr",
     "output_type": "stream",
     "text": [
      "\n",
      "100%|##########| 15/15 [00:00<00:00, 1712.94it/s]\n",
      "\n",
      "100%|##########| 15/15 [00:00<00:00, 538.18it/s]\n",
      "\n",
      "100%|##########| 15/15 [00:00<00:00, 1725.86it/s]\n",
      "\n",
      "100%|##########| 15/15 [00:00<00:00, 633.24it/s]\n"
     ]
    },
    {
     "name": "stdout",
     "output_type": "stream",
     "text": [
      "Method 1 Kmean Band=['VV_gamma0_flatDB'],continue\n",
      "Write csv and shp, Method=Kmean  Img=s1_unit_mean_  Band=['VV_gamma0_flatDB', 'VH_gamma0_flatDB']\n",
      "Method 1 SNIC_Kmean Band=['VV_gamma0_flatDB'],continue\n",
      "Write csv and shp, Method=SNIC_Kmean  Img=s1_unit_mean_  Band=['VV_gamma0_flatDB', 'VH_gamma0_flatDB']\n",
      "Write csv and shp, Method=SNIC_Kmean  Img=s1_unit_mean_  Band=['VV_gamma0_flatDB', 'VH_gamma0_flatDB']\n",
      "Method 1 Xmeans Band=['VV_gamma0_flatDB'],continue\n",
      "Write csv and shp, Method=Xmeans  Img=s1_unit_mean_  Band=['VV_gamma0_flatDB', 'VH_gamma0_flatDB']\n",
      "Method 1 CascadeKMeans Band=['VV_gamma0_flatDB'],continue\n",
      "Write csv and shp, Method=CascadeKMeans  Img=s1_unit_mean_  Band=['VV_gamma0_flatDB', 'VH_gamma0_flatDB']\n",
      "Threshould value is 0.43236471073327654\n",
      "Write csv and shp, Method=otsu  Img=s1_unit_mean_  Band=['VV_gamma0_flatDB']\n",
      "Method 2 otsu Band=['VV_gamma0_flatDB', 'VH_gamma0_flatDB'],continue\n"
     ]
    },
    {
     "name": "stderr",
     "output_type": "stream",
     "text": [
      "/root/GEE/Extract_algorithm.py:229: RuntimeWarning: invalid value encountered in divide\n",
      "  higher = (csum_intensity[-1] - csum_intensity[:-1]) / (csumh[:-1]+sys.float_info.min)\n"
     ]
    },
    {
     "name": "stdout",
     "output_type": "stream",
     "text": [
      "Threshould value is 0.4313909981775554\n",
      "Write csv and shp, Method=isodata  Img=s1_unit_mean_  Band=['VV_gamma0_flatDB']\n",
      "Method 2 isodata Band=['VV_gamma0_flatDB', 'VH_gamma0_flatDB'],continue\n",
      "该函数运行了 131.17584 秒\n"
     ]
    },
    {
     "name": "stderr",
     "output_type": "stream",
     "text": [
      " 84%|########3 | 204/244 [9:28:58<1:41:05, 151.63s/it]"
     ]
    },
    {
     "name": "stdout",
     "output_type": "stream",
     "text": [
      "Begin Filter ...\n"
     ]
    },
    {
     "name": "stderr",
     "output_type": "stream",
     "text": [
      "\n",
      "100%|##########| 13/13 [00:00<00:00, 1833.54it/s]\n",
      "\n",
      "100%|##########| 13/13 [00:00<00:00, 573.21it/s]\n",
      "\n",
      "100%|##########| 13/13 [00:00<00:00, 1767.63it/s]\n",
      "\n",
      "100%|##########| 13/13 [00:00<00:00, 560.60it/s]\n"
     ]
    },
    {
     "name": "stdout",
     "output_type": "stream",
     "text": [
      "Method 1 Kmean Band=['VV_gamma0_flatDB'],continue\n",
      "Write csv and shp, Method=Kmean  Img=s1_unit_mean_  Band=['VV_gamma0_flatDB', 'VH_gamma0_flatDB']\n",
      "Method 1 SNIC_Kmean Band=['VV_gamma0_flatDB'],continue\n",
      "Write csv and shp, Method=SNIC_Kmean  Img=s1_unit_mean_  Band=['VV_gamma0_flatDB', 'VH_gamma0_flatDB']\n",
      "Write csv and shp, Method=SNIC_Kmean  Img=s1_unit_mean_  Band=['VV_gamma0_flatDB', 'VH_gamma0_flatDB']\n",
      "Method 1 Xmeans Band=['VV_gamma0_flatDB'],continue\n",
      "Write csv and shp, Method=Xmeans  Img=s1_unit_mean_  Band=['VV_gamma0_flatDB', 'VH_gamma0_flatDB']\n",
      "Method 1 CascadeKMeans Band=['VV_gamma0_flatDB'],continue\n",
      "Write csv and shp, Method=CascadeKMeans  Img=s1_unit_mean_  Band=['VV_gamma0_flatDB', 'VH_gamma0_flatDB']\n",
      "Threshould value is 0.4443359375\n",
      "Write csv and shp, Method=otsu  Img=s1_unit_mean_  Band=['VV_gamma0_flatDB']\n",
      "Method 2 otsu Band=['VV_gamma0_flatDB', 'VH_gamma0_flatDB'],continue\n"
     ]
    },
    {
     "name": "stderr",
     "output_type": "stream",
     "text": [
      "/root/GEE/Extract_algorithm.py:229: RuntimeWarning: invalid value encountered in divide\n",
      "  higher = (csum_intensity[-1] - csum_intensity[:-1]) / (csumh[:-1]+sys.float_info.min)\n"
     ]
    },
    {
     "name": "stdout",
     "output_type": "stream",
     "text": [
      "Threshould value is 0.4399265760067347\n",
      "Write csv and shp, Method=isodata  Img=s1_unit_mean_  Band=['VV_gamma0_flatDB']\n",
      "Method 2 isodata Band=['VV_gamma0_flatDB', 'VH_gamma0_flatDB'],continue\n",
      "该函数运行了 129.52261 秒\n"
     ]
    },
    {
     "name": "stderr",
     "output_type": "stream",
     "text": [
      " 84%|########4 | 205/244 [9:31:08<1:34:15, 145.00s/it]"
     ]
    },
    {
     "name": "stdout",
     "output_type": "stream",
     "text": [
      "Begin Filter ...\n"
     ]
    },
    {
     "name": "stderr",
     "output_type": "stream",
     "text": [
      "\n",
      "100%|##########| 12/12 [00:00<00:00, 1544.44it/s]\n",
      "\n",
      "100%|##########| 12/12 [00:00<00:00, 448.44it/s]\n",
      "\n",
      "100%|##########| 13/13 [00:00<00:00, 1443.86it/s]\n",
      "\n",
      "100%|##########| 13/13 [00:00<00:00, 513.06it/s]\n"
     ]
    },
    {
     "name": "stdout",
     "output_type": "stream",
     "text": [
      "Method 1 Kmean Band=['VV_gamma0_flatDB'],continue\n",
      "Write csv and shp, Method=Kmean  Img=s1_unit_mean_  Band=['VV_gamma0_flatDB', 'VH_gamma0_flatDB']\n",
      "Method 1 SNIC_Kmean Band=['VV_gamma0_flatDB'],continue\n",
      "Write csv and shp, Method=SNIC_Kmean  Img=s1_unit_mean_  Band=['VV_gamma0_flatDB', 'VH_gamma0_flatDB']\n",
      "Write csv and shp, Method=SNIC_Kmean  Img=s1_unit_mean_  Band=['VV_gamma0_flatDB', 'VH_gamma0_flatDB']\n",
      "Method 1 Xmeans Band=['VV_gamma0_flatDB'],continue\n",
      "Write csv and shp, Method=Xmeans  Img=s1_unit_mean_  Band=['VV_gamma0_flatDB', 'VH_gamma0_flatDB']\n",
      "Method 1 CascadeKMeans Band=['VV_gamma0_flatDB'],continue\n",
      "Write csv and shp, Method=CascadeKMeans  Img=s1_unit_mean_  Band=['VV_gamma0_flatDB', 'VH_gamma0_flatDB']\n",
      "Threshould value is 0.5300424079696963\n",
      "Write csv and shp, Method=otsu  Img=s1_unit_mean_  Band=['VV_gamma0_flatDB']\n",
      "Method 2 otsu Band=['VV_gamma0_flatDB', 'VH_gamma0_flatDB'],continue\n"
     ]
    },
    {
     "name": "stderr",
     "output_type": "stream",
     "text": [
      "/root/GEE/Extract_algorithm.py:229: RuntimeWarning: invalid value encountered in divide\n",
      "  higher = (csum_intensity[-1] - csum_intensity[:-1]) / (csumh[:-1]+sys.float_info.min)\n"
     ]
    },
    {
     "name": "stdout",
     "output_type": "stream",
     "text": [
      "Threshould value is 0.526783943395567\n",
      "Write csv and shp, Method=isodata  Img=s1_unit_mean_  Band=['VV_gamma0_flatDB']\n",
      "Method 2 isodata Band=['VV_gamma0_flatDB', 'VH_gamma0_flatDB'],continue\n",
      "Generating URL ...\n",
      "Downloading data from https://earthengine.googleapis.com/v1/projects/earthengine-legacy/thumbnails/3d4541fcda68a6a07413f07cfc81fa1d-0f39eb6dac7359415e705b552e05ae95:getPixels\n",
      "Please wait ...\n",
      "Data downloaded to /root/GEE/2019补齐结果/4905_Ascending_S1A_IW_GRDH_1SDV_20190714T115743_20190714T115808_028113_032CCD_07AC.tif\n",
      "image save right\n",
      "change image bandNames\n",
      "Generating URL ...\n",
      "Downloading data from https://earthengine.googleapis.com/v1/projects/earthengine-legacy/thumbnails/851d14c8bfe53b42f8575ae16ebc5d59-d27daeb5d5b21186d142d28a5538bf40:getPixels\n",
      "Please wait ...\n",
      "Data downloaded to /root/GEE/2019补齐结果/4905_Descending_S1A_IW_GRDH_1SDV_20190809T234613_20190809T234638_028499_0338B5_13E6.tif\n",
      "image save right\n",
      "change image bandNames\n",
      "Generating URL ...\n",
      "Downloading data from https://earthengine.googleapis.com/v1/projects/earthengine-legacy/thumbnails/9a2b12f34d6436972b2bc49f0be05269-b0a735b2b427ca47d31be53a2ec9bf2c:getPixels\n",
      "Please wait ...\n",
      "Data downloaded to /root/GEE/2019补齐结果/4905_s2a_sr_median.tif\n",
      "image save right\n",
      "change image bandNames\n",
      "Generating URL ...\n",
      "Downloading data from https://earthengine.googleapis.com/v1/projects/earthengine-legacy/thumbnails/a556ef0bf10551a82b764dab246e45e7-80ac3e4670867799e5cd4026035305bd:getPixels\n",
      "Please wait ...\n",
      "Data downloaded to /root/GEE/2019补齐结果/4905_s1_unit_mean_.tif\n",
      "image save right\n",
      "change image bandNames\n",
      "Generating URL ...\n",
      "Downloading data from https://earthengine.googleapis.com/v1/projects/earthengine-legacy/thumbnails/3f917bc20d3c2f5698dbb5066770ea47-58320ce3bbeb91d1aa49f5ec58047508:getPixels\n",
      "Please wait ...\n",
      "Data downloaded to /root/GEE/2019补齐结果/4905_s1_unit_max_.tif\n",
      "image save right\n",
      "change image bandNames\n",
      "Generating URL ...\n",
      "Downloading data from https://earthengine.googleapis.com/v1/projects/earthengine-legacy/thumbnails/79a9f2f7879c96af4e82fcc92c85a559-b355cab3b1d8d78d16c718b523e1f629:getPixels\n",
      "Please wait ...\n",
      "Data downloaded to /root/GEE/2019补齐结果/4905_s1_unit_min_.tif\n",
      "image save right\n",
      "change image bandNames\n",
      "Generating URL ...\n",
      "Downloading data from https://earthengine.googleapis.com/v1/projects/earthengine-legacy/thumbnails/3539a72758a87c70d56ae38e30697e30-f50fd402ee05c7c34d6a239ed515eea6:getPixels\n",
      "Please wait ...\n",
      "Data downloaded to /root/GEE/2019补齐结果/4905_DistortionAS1A_IW_GRDH_1SDV_20190714T115743_20190714T115808_028113_032CCD_07AC.tif\n",
      "image save right\n",
      "change image bandNames\n",
      "Generating URL ...\n",
      "Downloading data from https://earthengine.googleapis.com/v1/projects/earthengine-legacy/thumbnails/7e0e929ee06703fda2a12a09a0c928c7-f6f4eb1ab044865e2a94204d00337640:getPixels\n",
      "Please wait ...\n",
      "Data downloaded to /root/GEE/2019补齐结果/4905_DistortionDS1A_IW_GRDH_1SDV_20190809T234613_20190809T234638_028499_0338B5_13E6.tif\n",
      "image save right\n",
      "change image bandNames\n",
      "该函数运行了 204.00260 秒\n"
     ]
    },
    {
     "name": "stderr",
     "output_type": "stream",
     "text": [
      " 84%|########4 | 206/244 [9:34:32<1:43:02, 162.70s/it]"
     ]
    },
    {
     "name": "stdout",
     "output_type": "stream",
     "text": [
      "Begin Filter ...\n"
     ]
    },
    {
     "name": "stderr",
     "output_type": "stream",
     "text": [
      "\n",
      "100%|##########| 14/14 [00:00<00:00, 1889.39it/s]\n",
      "\n",
      "100%|##########| 14/14 [00:00<00:00, 621.85it/s]\n",
      "\n",
      "100%|##########| 14/14 [00:00<00:00, 1849.11it/s]\n",
      "\n",
      "100%|##########| 14/14 [00:00<00:00, 681.11it/s]\n"
     ]
    },
    {
     "name": "stdout",
     "output_type": "stream",
     "text": [
      "Method 1 Kmean Band=['VV_gamma0_flatDB'],continue\n",
      "Write csv and shp, Method=Kmean  Img=s1_unit_mean_  Band=['VV_gamma0_flatDB', 'VH_gamma0_flatDB']\n",
      "Method 1 SNIC_Kmean Band=['VV_gamma0_flatDB'],continue\n",
      "Write csv and shp, Method=SNIC_Kmean  Img=s1_unit_mean_  Band=['VV_gamma0_flatDB', 'VH_gamma0_flatDB']\n",
      "Write csv and shp, Method=SNIC_Kmean  Img=s1_unit_mean_  Band=['VV_gamma0_flatDB', 'VH_gamma0_flatDB']\n",
      "Method 1 Xmeans Band=['VV_gamma0_flatDB'],continue\n",
      "Write csv and shp, Method=Xmeans  Img=s1_unit_mean_  Band=['VV_gamma0_flatDB', 'VH_gamma0_flatDB']\n",
      "Method 1 CascadeKMeans Band=['VV_gamma0_flatDB'],continue\n",
      "Write csv and shp, Method=CascadeKMeans  Img=s1_unit_mean_  Band=['VV_gamma0_flatDB', 'VH_gamma0_flatDB']\n",
      "Threshould value is 0.4660707399998214\n",
      "Write csv and shp, Method=otsu  Img=s1_unit_mean_  Band=['VV_gamma0_flatDB']\n",
      "Method 2 otsu Band=['VV_gamma0_flatDB', 'VH_gamma0_flatDB'],continue\n",
      "Threshould value is 0.4677734375\n",
      "Write csv and shp, Method=isodata  Img=s1_unit_mean_  Band=['VV_gamma0_flatDB']\n",
      "Method 2 isodata Band=['VV_gamma0_flatDB', 'VH_gamma0_flatDB'],continue\n",
      "该函数运行了 130.25222 秒\n"
     ]
    },
    {
     "name": "stderr",
     "output_type": "stream",
     "text": [
      " 85%|########4 | 207/244 [9:36:42<1:34:19, 152.97s/it]"
     ]
    },
    {
     "name": "stdout",
     "output_type": "stream",
     "text": [
      "Begin Filter ...\n"
     ]
    },
    {
     "name": "stderr",
     "output_type": "stream",
     "text": [
      "\n",
      "100%|##########| 16/16 [00:00<00:00, 1886.51it/s]\n",
      "\n",
      "100%|##########| 16/16 [00:00<00:00, 300.52it/s]\n",
      "\n",
      "100%|##########| 18/18 [00:00<00:00, 1723.88it/s]\n",
      "\n",
      "100%|##########| 18/18 [00:00<00:00, 366.14it/s]\n"
     ]
    },
    {
     "name": "stdout",
     "output_type": "stream",
     "text": [
      "Method 1 Kmean Band=['VV_gamma0_flatDB'],continue\n",
      "Write csv and shp, Method=Kmean  Img=s1_unit_mean_  Band=['VV_gamma0_flatDB', 'VH_gamma0_flatDB']\n",
      "Method 1 SNIC_Kmean Band=['VV_gamma0_flatDB'],continue\n",
      "Write csv and shp, Method=SNIC_Kmean  Img=s1_unit_mean_  Band=['VV_gamma0_flatDB', 'VH_gamma0_flatDB']\n",
      "Write csv and shp, Method=SNIC_Kmean  Img=s1_unit_mean_  Band=['VV_gamma0_flatDB', 'VH_gamma0_flatDB']\n",
      "Method 1 Xmeans Band=['VV_gamma0_flatDB'],continue\n",
      "Write csv and shp, Method=Xmeans  Img=s1_unit_mean_  Band=['VV_gamma0_flatDB', 'VH_gamma0_flatDB']\n",
      "Method 1 CascadeKMeans Band=['VV_gamma0_flatDB'],continue\n",
      "Write csv and shp, Method=CascadeKMeans  Img=s1_unit_mean_  Band=['VV_gamma0_flatDB', 'VH_gamma0_flatDB']\n",
      "Threshould value is 0.5339752053316318\n",
      "Write csv and shp, Method=otsu  Img=s1_unit_mean_  Band=['VV_gamma0_flatDB']\n",
      "Method 2 otsu Band=['VV_gamma0_flatDB', 'VH_gamma0_flatDB'],continue\n",
      "Threshould value is 0.5166684520560687\n",
      "Write csv and shp, Method=isodata  Img=s1_unit_mean_  Band=['VV_gamma0_flatDB']\n",
      "Method 2 isodata Band=['VV_gamma0_flatDB', 'VH_gamma0_flatDB'],continue\n",
      "Generating URL ...\n",
      "Downloading data from https://earthengine.googleapis.com/v1/projects/earthengine-legacy/thumbnails/0b56b10acaacf65aaa3a438ac19fb7d6-4fac036f5527e43e013fc551ee8fa9ac:getPixels\n",
      "Please wait ...\n",
      "Data downloaded to /root/GEE/2019补齐结果/4907_Ascending_S1A_IW_GRDH_1SDV_20190714T115743_20190714T115808_028113_032CCD_07AC.tif\n",
      "image save right\n",
      "change image bandNames\n",
      "Generating URL ...\n",
      "Downloading data from https://earthengine.googleapis.com/v1/projects/earthengine-legacy/thumbnails/78f774f467f13b3b28faab32aa913dbc-cca683829b53eed712fd23b33a0d3854:getPixels\n",
      "Please wait ...\n",
      "Data downloaded to /root/GEE/2019补齐结果/4907_Descending_S1A_IW_GRDH_1SDV_20190809T234613_20190809T234638_028499_0338B5_13E6.tif\n",
      "image save right\n",
      "change image bandNames\n",
      "Generating URL ...\n",
      "Downloading data from https://earthengine.googleapis.com/v1/projects/earthengine-legacy/thumbnails/b53d610a4a7f64fd9f14da3aba685b2d-713a8d95e5eff0fce755957855d35a6e:getPixels\n",
      "Please wait ...\n",
      "Data downloaded to /root/GEE/2019补齐结果/4907_s2a_sr_median.tif\n",
      "image save right\n",
      "change image bandNames\n",
      "Generating URL ...\n",
      "Downloading data from https://earthengine.googleapis.com/v1/projects/earthengine-legacy/thumbnails/54225cb794c00a2602e231c7e383a5e9-bdbe2a5547c98b875e3028fbbcfc647d:getPixels\n",
      "Please wait ...\n",
      "Data downloaded to /root/GEE/2019补齐结果/4907_s1_unit_mean_.tif\n",
      "image save right\n",
      "change image bandNames\n"
     ]
    }
   ],
   "source": [
    "for i in trange(4700,Num_list):\n",
    "    IoU_All = [] ; Wrong_dataIndex = []\n",
    "    try:\n",
    "        start_time = time.time()\n",
    "        AOI_Centriod = ee.Feature.geometry(Glacial_lake_C_CentriodList.get(i))\n",
    "        AOI_GLFeature = ee.Feature(Glacial_lake_A_GeoList.get(i))\n",
    "        AOI_GL = AOI_GLFeature.geometry()\n",
    "        AOI_Rectangle = ee.Feature.geometry(Glacial_lake_R_RectangleList.get(i))\n",
    "\n",
    "        # 计算面积\n",
    "        # AOI_area = AOI_GL.area().divide(ee.Number(1000*1000)).getInfo()\n",
    "        # AOI_perometer = AOI_GL.perimeter().divide(1000).getInfo()\n",
    "        # circularity = AOI_area*3.1415926*4/AOI_perometer**2\n",
    "        AOI_area = AOI_GLFeature.get('GL_Area_km').getInfo()\n",
    "        circularity = AOI_GLFeature.get('GL_Circula').getInfo()\n",
    "\n",
    "        # 缩小冰湖面积\n",
    "        AOI_ShrinKbuffer = AOI_GL.buffer(distance=math.log(AOI_area+1,10) * -3000 *circularity)\n",
    "        AOI_ShrinKbuffer_Centroid = AOI_ShrinKbuffer.centroid()\n",
    "\n",
    "        # 检测是否内缩为空，否则用AOI_area替代\n",
    "        if AOI_ShrinKbuffer.coordinates().getInfo() != [] :\n",
    "            FilterBound = AOI_ShrinKbuffer_Centroid\n",
    "        else:\n",
    "            FilterBound = AOI_Centriod\n",
    "\n",
    "        # 边界不可过大，否则会影响局部自适应提取效果\n",
    "        AOI_buffer = AOI_Rectangle.buffer(distance=math.log(AOI_area+1,5) * 1200 + 100).bounds()\n",
    "\n",
    "        # 载入图像，采用滤波函数，筛选日期，AOI_buffer仅用于统计是否有空值点\n",
    "        s1_ascending, s1_descending = load_image_collection(AOI_buffer,START_DATE,END_DATE,MIDDLE_DATE,Filter='RefinedLee',FilterSize=30)\n",
    "\n",
    "        # 采用S2cloudless生产一张合成的无云图像\n",
    "        s2_sr_median = merge_s2_collection(AOI_buffer,START_DATE,END_DATE,CLOUD_FILTER,BUFFER,CLD_PRJ_DIST,CLD_PRB_THRESH,NIR_DRK_THRESH)\n",
    "        \n",
    "        # 判断是否synth\n",
    "        synthesis_a  = ee.Image(s1_ascending).get('synthesis').getInfo()\n",
    "        synthesis_d  = ee.Image(s1_descending).get('synthesis').getInfo()\n",
    "        if synthesis_a or synthesis_d:synthesis=1        \n",
    "        else:synthesis=0\n",
    "\n",
    "        if synthesis:\n",
    "            print('Image with synthesis')\n",
    "            s1_ascending = s1_ascending.rename(['VV_gamma0_flatDB','VH_gamma0_flatDB','incAngle'])\n",
    "            s1_descending = s1_descending.rename(['VV_gamma0_flatDB','VH_gamma0_flatDB','incAngle'])\n",
    "            default_prj = s1_ascending.select(0).projection()\n",
    "            Combin_ad = ee.ImageCollection([s1_ascending,s1_descending])\n",
    "            s1_unit_mean_ = Combin_ad.mean().reproject(default_prj).clip(AOI_buffer)\n",
    "            s1_unit_max_  = Combin_ad.max().reproject(default_prj).clip(AOI_buffer)\n",
    "            s1_unit_min_  = Combin_ad.min().reproject(default_prj).clip(AOI_buffer)\n",
    "            volumetric_dict = {} \n",
    "            volumetric_dict['ASCENDING'] = s1_ascending.clip(AOI_buffer)\n",
    "            volumetric_dict['ASCENDING_parms'] = {'proj':default_prj}\n",
    "            volumetric_dict['DESCENDING'] = s1_descending.clip(AOI_buffer)\n",
    "            volumetric_dict['DESCENDING_parms'] = {'proj':s1_descending.select(0).projection()}\n",
    "        else:\n",
    "            # 几何畸变检测与升降轨图像融合\n",
    "            LeftLayoverA,RightLayoverA,ShadowA,Templist_A,LeftLayoverD,RightLayoverD,ShadowD,Templist_D,volumetric_dict,synthesis = \\\n",
    "                    CalDitor(s1_ascending,s1_descending,Bands_ = ['VV_gamma0_flatDB','VH_gamma0_flatDB'],Origin_Method='RS',Method='1',\n",
    "                            AOI_buffer=AOI_buffer,Origin_scale=Origin_scale,projScale=projScale)\n",
    "            \n",
    "            s1_unit_mean_,s1_unit_max_,s1_unit_min_,DistorDict = \\\n",
    "                    Combin_AB(LeftLayoverA,RightLayoverA,ShadowA,LeftLayoverD,RightLayoverD,ShadowD,volumetric_dict,AOI_buffer=AOI_buffer)\n",
    "       \n",
    "        if synthesis_a == 0:\n",
    "            a_name,a_date,a_nodata = ee.List([s1_ascending.get('system:index'),s1_ascending.date().format('YYYY-MM-dd'),s1_ascending.get('numNodata')]).getInfo()\n",
    "        else:\n",
    "            a_name = 'None'; a_date = 'None' ; a_nodata='All_have'\n",
    "\n",
    "        if synthesis_d == 0:\n",
    "            d_name,d_date,d_nodata = ee.List([s1_descending.get('system:index'),s1_descending.date().format('YYYY-MM-dd'),s1_descending.get('numNodata')]).getInfo()\n",
    "        else:\n",
    "            d_name = 'None'; d_date = 'None' ; d_nodata='All_have'\n",
    "\n",
    "        pd_dict = {'a_name':a_name,'d_name':d_name,'a_date':a_date,\n",
    "                   'd_date':d_date,'a_nodata':a_nodata,'d_nodata':d_nodata}\n",
    "\n",
    "        K = [1 if Method == 'SNIC_Kmean' else 0 for Method in Methods ]\n",
    "\n",
    "\n",
    "        for k,Method in zip(K,Methods):\n",
    "            for img in Imgs:\n",
    "                for Band in Bands:\n",
    "                    Bands = (['VV_gamma0_flatDB'],['VV_gamma0_flatDB','VH_gamma0_flatDB'])\n",
    "\n",
    "                    if Method in ['Kmean','SNIC_Kmean','LVQ','Xmeans','CascadeKMeans']:\n",
    "                        if len(Band)==2:\n",
    "                            Map,result = Cluster_math(method=Method,img=eval(img),bands=Band,index='',\n",
    "                                                        visual=False,save=False,region=AOI_buffer,\n",
    "                                                        proj=volumetric_dict['ASCENDING_parms']['proj'])\n",
    "                        else:\n",
    "                            print('Method 1 {} Band={},continue'.format(Method,Band))\n",
    "                            continue\n",
    "\n",
    "                    elif Method in ['otsu','minimum','yen','isodata']:\n",
    "                        if len(Band)==1:\n",
    "                            Map,result = Bandmath(method=Method,img=eval(img),band=Band,index='',\n",
    "                                    visual=False,save=False,region=AOI_buffer,\n",
    "                                    proj=volumetric_dict['ASCENDING_parms']['proj'])\n",
    "                        else:\n",
    "                            print('Method 2 {} Band={},continue'.format(Method,Band))\n",
    "                            continue\n",
    "                    else:\n",
    "                        print('Wrong method input!')\n",
    "\n",
    "                    for resultband in range(k+1):\n",
    "\n",
    "                        # 分类图转矢量,FilterBound可以选择AOI_point或者FilterBuffer\n",
    "                        Union_ex = Reprocess.image2vector(result,resultband=resultband,GLarea=AOI_area,FilterBound=FilterBound,del_maxcount=False)\n",
    "                        logname = savenmae+f'{i//100 * 100}_{i//100*100+100}.csv'\n",
    "                        shpname = savenmae+f'{i//100 * 100}_{i//100*100+100}.shp'\n",
    "                        # 导出csv和shp\n",
    "                        Result_dict = save_parms.write_pd(Union_ex,i,AOI_GL,img,mode=mode,Method=Method,Band=Band,WithOrigin=resultband,pd_dict=pd_dict,\n",
    "                                              Area_real=AOI_area,logname=logname,shapname=shpname,calIoU=True,cal_resultArea=False,returnParms=True)\n",
    "                        IoU_All.append(Result_dict['IoU'])\n",
    "                        print('Write csv and shp, Method={}  Img={}  Band={}'.format(Method,img,Band))\n",
    "\n",
    "        # 当IoU比较小的时候，IoU<0.6下载图像\n",
    "        if np.sum(np.array(IoU_All)>0.6) == 0:\n",
    "                Geemap_export(fileDirname=f'{i:04d}'+'_'+'Ascending_'+a_name+'.tif',collection=False,image=volumetric_dict['ASCENDING'],region=AOI_buffer,scale=10)\n",
    "                Geemap_export(fileDirname=f'{i:04d}'+'_'+'Descending_'+d_name+'.tif',collection=False,image=volumetric_dict['DESCENDING'],region=AOI_buffer,scale=10)\n",
    "                Geemap_export(fileDirname=f'{i:04d}'+'_'+'s2a_sr_median'+'.tif',collection=False,image=s2_sr_median,region=AOI_buffer,scale=10)   \n",
    "            \n",
    "                # 导出融合后的结果图像\n",
    "                Geemap_export(fileDirname=f'{i:04d}'+'_'+'s1_unit_mean_'+'.tif',collection=False,image=s1_unit_mean_,region=AOI_buffer,scale=10)\n",
    "                Geemap_export(fileDirname=f'{i:04d}'+'_'+'s1_unit_max_'+'.tif',collection=False,image=s1_unit_max_,region=AOI_buffer,scale=10)\n",
    "                Geemap_export(fileDirname=f'{i:04d}'+'_'+'s1_unit_min_'+'.tif',collection=False,image=s1_unit_min_,region=AOI_buffer,scale=10)\n",
    "                \n",
    "                \n",
    "                if synthesis!=1:\n",
    "                    # 导出几何畸变图像\n",
    "                    DistorA = LeftLayoverA.rename('LeftLayoverA').addBands(RightLayoverA.rename('RightLayoverA')).addBands(ShadowA.rename('ShadowA'))\n",
    "                    if DistorA.bandNames().length().getInfo() != 0:\n",
    "                        Geemap_export(fileDirname=f'{i:04d}'+'_'+'DistortionA'+a_name+'.tif',image=DistorA,region=AOI_buffer,scale=10)\n",
    "\n",
    "                    DistorD = LeftLayoverD.rename('LeftLayoverD').addBands(RightLayoverD.rename('RightLayoverD')).addBands(ShadowD.rename('ShadowD'))\n",
    "                    if DistorD.bandNames().length().getInfo() != 0:\n",
    "                        Geemap_export(fileDirname=f'{i:04d}'+'_'+'DistortionD'+d_name+'.tif',image=DistorD,region=AOI_buffer,scale=10) \n",
    "\n",
    "        end_time = time.time() \n",
    "        print('该函数运行了 %.5f 秒' % (end_time - start_time))\n",
    "    except:\n",
    "        # 记录错误信息\n",
    "        Wrong_dataIndex.append(i)\n",
    "        with open('log.txt', 'a') as f: \n",
    "            f.write('Wrong index = {}\\n'.format(1))\n",
    "            f.write(traceback.format_exc())\n",
    "            f.write('\\n')\n",
    "        print('错误已记录到log.txt')"
   ]
  },
  {
   "cell_type": "code",
   "execution_count": null,
   "id": "96282f22-e83c-4c77-8803-01e8851d88fc",
   "metadata": {},
   "outputs": [],
   "source": []
  }
 ],
 "metadata": {
  "kernelspec": {
   "display_name": "Python 3.11 (XPython)",
   "language": "python",
   "name": "xpython"
  },
  "language_info": {
   "file_extension": ".py",
   "mimetype": "text/x-python",
   "name": "python",
   "version": "3.11.1"
  }
 },
 "nbformat": 4,
 "nbformat_minor": 5
}
