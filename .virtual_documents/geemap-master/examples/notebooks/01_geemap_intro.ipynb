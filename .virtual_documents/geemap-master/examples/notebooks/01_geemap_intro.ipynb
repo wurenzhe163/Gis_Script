# !pip install geemap


import geemap


geemap.show_youtube('h0pz3S6Tvx0')


Map = geemap.Map(center=(40, -100), zoom=4)
Map


Map.add_basemap('HYBRID')


basemaps = geemap.basemaps
for basemap in basemaps:
    print(basemap)


Map.add_basemap('OpenTopoMap')
