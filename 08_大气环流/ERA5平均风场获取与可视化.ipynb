{
 "cells": [
  {
   "cell_type": "code",
   "execution_count": null,
   "id": "bc09160f",
   "metadata": {},
   "outputs": [
    {
     "data": {
      "text/html": [
       "\n",
       "            <style>\n",
       "                .geemap-dark {\n",
       "                    --jp-widgets-color: white;\n",
       "                    --jp-widgets-label-color: white;\n",
       "                    --jp-ui-font-color1: white;\n",
       "                    --jp-layout-color2: #454545;\n",
       "                    background-color: #383838;\n",
       "                }\n",
       "\n",
       "                .geemap-dark .jupyter-button {\n",
       "                    --jp-layout-color3: #383838;\n",
       "                }\n",
       "\n",
       "                .geemap-colab {\n",
       "                    background-color: var(--colab-primary-surface-color, white);\n",
       "                }\n",
       "\n",
       "                .geemap-colab .jupyter-button {\n",
       "                    --jp-layout-color3: var(--colab-primary-surface-color, white);\n",
       "                }\n",
       "            </style>\n",
       "            "
      ],
      "text/plain": [
       "<IPython.core.display.HTML object>"
      ]
     },
     "metadata": {},
     "output_type": "display_data"
    }
   ],
   "source": [
    "import geemap\n",
    "import ee\n",
    "import math\n",
    "\n",
    "# 设置代理（根据你的网络环境）\n",
    "geemap.set_proxy(port=10809)\n",
    "\n",
    "# 认证和初始化\n",
    "ee.Authenticate()\n",
    "ee.Initialize(project='ee-mrwurenzhe')\n",
    "\n",
    "# 定义时空范围\n",
    "start_date = '2024-06-01'\n",
    "end_date = '2024-09-30'\n",
    "region = ee.Geometry.Rectangle([70, 10, 140, 60])  # 东亚范围（min_lon, min_lat, max_lon, max_lat）\n",
    "\n",
    "# 获取 ERA5 月平均数据\n",
    "era5_monthly = ee.ImageCollection(\"ECMWF/ERA5_LAND/MONTHLY_AGGR\") \\\n",
    "    .filterDate(start_date, end_date) \\\n",
    "    .select(['u_component_of_wind_10m', 'v_component_of_wind_10m'])\n",
    "\n",
    "# 计算时间平均（所有月份的平均）\n",
    "u_mean = era5_monthly.select('u_component_of_wind_10m').mean()\n",
    "v_mean = era5_monthly.select('v_component_of_wind_10m').mean()\n",
    "\n",
    "# 计算风速和风向\n",
    "def calculate_wind_properties(image_u, image_v):\n",
    "    # 风速 = sqrt(u^2 + v^2)\n",
    "    wind_speed = image_u.pow(2).add(image_v.pow(2)).sqrt().rename('wind_speed')\n",
    "    \n",
    "    # 风向（弧度）= atan2(v, u)，转换为气象风向（单位：度）\n",
    "    wind_direction = image_v.atan2(image_u) \\\n",
    "        .multiply(180 / math.pi) \\\n",
    "        .add(180) \\\n",
    "        .rename('wind_direction')  # 转换为 0-360 度，风的来源方向\n",
    "    \n",
    "    return wind_speed, wind_direction\n",
    "\n",
    "# 计算风速和风向\n",
    "wind_speed, wind_direction = calculate_wind_properties(u_mean, v_mean)"
   ]
  },
  {
   "cell_type": "code",
   "execution_count": 10,
   "id": "ce50def2",
   "metadata": {},
   "outputs": [
    {
     "data": {
      "text/html": [
       "\n",
       "            <style>\n",
       "                .geemap-dark {\n",
       "                    --jp-widgets-color: white;\n",
       "                    --jp-widgets-label-color: white;\n",
       "                    --jp-ui-font-color1: white;\n",
       "                    --jp-layout-color2: #454545;\n",
       "                    background-color: #383838;\n",
       "                }\n",
       "\n",
       "                .geemap-dark .jupyter-button {\n",
       "                    --jp-layout-color3: #383838;\n",
       "                }\n",
       "\n",
       "                .geemap-colab {\n",
       "                    background-color: var(--colab-primary-surface-color, white);\n",
       "                }\n",
       "\n",
       "                .geemap-colab .jupyter-button {\n",
       "                    --jp-layout-color3: var(--colab-primary-surface-color, white);\n",
       "                }\n",
       "            </style>\n",
       "            "
      ],
      "text/plain": [
       "<IPython.core.display.HTML object>"
      ]
     },
     "metadata": {},
     "output_type": "display_data"
    },
    {
     "data": {
      "application/vnd.jupyter.widget-view+json": {
       "model_id": "6df8e001181a48a5b70e684cfbca2a76",
       "version_major": 2,
       "version_minor": 0
      },
      "text/plain": [
       "Map(center=[35.972644113075546, 105], controls=(WidgetControl(options=['position', 'transparent_bg'], widget=S…"
      ]
     },
     "metadata": {},
     "output_type": "display_data"
    }
   ],
   "source": [
    "# 可视化参数\n",
    "wind_speed_vis_params = {\n",
    "    'min': 0,\n",
    "    'max': 15,\n",
    "    'palette': ['blue', 'green', 'yellow', 'red']\n",
    "}\n",
    "\n",
    "wind_direction_vis_params = {\n",
    "    'min': 0,\n",
    "    'max': 360,\n",
    "    'palette': ['purple', 'blue', 'green', 'yellow', 'red']\n",
    "}\n",
    "\n",
    "u_vis_params = {\n",
    "    'min': -10,\n",
    "    'max': 10,\n",
    "    'palette': ['blue', 'white', 'red']\n",
    "}\n",
    "\n",
    "v_vis_params = {\n",
    "    'min': -10,\n",
    "    'max': 10,\n",
    "    'palette': ['blue', 'white', 'red']\n",
    "}\n",
    "\n",
    "\n",
    "# 创建地图\n",
    "Map = geemap.Map()\n",
    "Map.centerObject(region, 4)\n",
    "\n",
    "# 添加风速和风向图层\n",
    "Map.addLayer(wind_speed, wind_speed_vis_params, 'ERA5 Mean Wind Speed (2015-2024)')\n",
    "Map.addLayer(wind_direction, wind_direction_vis_params, 'ERA5 Mean Wind Direction (2015-2024)')\n",
    "Map.addLayer(region, {'color': 'yellow'}, 'ROI')\n",
    "\n",
    "# 显示地图\n",
    "Map"
   ]
  },
  {
   "cell_type": "code",
   "execution_count": 11,
   "id": "28da6bea",
   "metadata": {},
   "outputs": [
    {
     "data": {
      "text/html": [
       "\n",
       "            <style>\n",
       "                .geemap-dark {\n",
       "                    --jp-widgets-color: white;\n",
       "                    --jp-widgets-label-color: white;\n",
       "                    --jp-ui-font-color1: white;\n",
       "                    --jp-layout-color2: #454545;\n",
       "                    background-color: #383838;\n",
       "                }\n",
       "\n",
       "                .geemap-dark .jupyter-button {\n",
       "                    --jp-layout-color3: #383838;\n",
       "                }\n",
       "\n",
       "                .geemap-colab {\n",
       "                    background-color: var(--colab-primary-surface-color, white);\n",
       "                }\n",
       "\n",
       "                .geemap-colab .jupyter-button {\n",
       "                    --jp-layout-color3: var(--colab-primary-surface-color, white);\n",
       "                }\n",
       "            </style>\n",
       "            "
      ],
      "text/plain": [
       "<IPython.core.display.HTML object>"
      ]
     },
     "metadata": {},
     "output_type": "display_data"
    },
    {
     "data": {
      "application/vnd.jupyter.widget-view+json": {
       "model_id": "f7561db82c894084b72d9a14bcf758dd",
       "version_major": 2,
       "version_minor": 0
      },
      "text/plain": [
       "ERA5_Mean_Wind_Direction_Speed_2015-2024.tif: |          | 0.00/6.15M (raw) [  0.0%] in 00:00 (eta:     ?)"
      ]
     },
     "metadata": {},
     "output_type": "display_data"
    },
    {
     "data": {
      "application/vnd.jupyter.widget-view+json": {
       "model_id": "db496b90d47f4d9bbc9cbd0cf649cfa9",
       "version_major": 2,
       "version_minor": 0
      },
      "text/plain": [
       "ERA5_Mean_Wind_uv_mean_2015-2024.tif: |          | 0.00/6.15M (raw) [  0.0%] in 00:00 (eta:     ?)"
      ]
     },
     "metadata": {},
     "output_type": "display_data"
    }
   ],
   "source": [
    "import geemap\n",
    "\n",
    "# Define output path\n",
    "output_file = \"ERA5_Mean_Wind_Direction_Speed_q3.tif\"\n",
    "geemap.download_ee_image(\n",
    "    image=wind_direction.addBands(wind_speed),\n",
    "    filename=output_file,\n",
    "    region=region,\n",
    "    scale=11132,  # ERA5-Land resolution\n",
    "    crs='EPSG:4326'\n",
    ")\n",
    "\n",
    "\n",
    "output_file = \"ERA5_Mean_Wind_uv_mean_q3.tif\"\n",
    "geemap.download_ee_image(\n",
    "    image=u_mean.addBands(v_mean),  \n",
    "    filename=output_file,\n",
    "    region=region,\n",
    "    scale=11132,  # ERA5-Land resolution\n",
    "    crs='EPSG:4326'\n",
    ")"
   ]
  },
  {
   "cell_type": "code",
   "execution_count": null,
   "id": "fecc2655",
   "metadata": {},
   "outputs": [],
   "source": []
  }
 ],
 "metadata": {
  "kernelspec": {
   "display_name": "GEE",
   "language": "python",
   "name": "python3"
  },
  "language_info": {
   "codemirror_mode": {
    "name": "ipython",
    "version": 3
   },
   "file_extension": ".py",
   "mimetype": "text/x-python",
   "name": "python",
   "nbconvert_exporter": "python",
   "pygments_lexer": "ipython3",
   "version": "3.11.7"
  }
 },
 "nbformat": 4,
 "nbformat_minor": 5
}
