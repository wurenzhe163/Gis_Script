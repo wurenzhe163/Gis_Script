{
 "cells": [
  {
   "cell_type": "code",
   "execution_count": 1,
   "id": "c65effdd",
   "metadata": {},
   "outputs": [],
   "source": [
    "import geemap\n",
    "import ee\n",
    "geemap.set_proxy(port=10809)\n",
    "ee.Authenticate()\n",
    "ee.Initialize(project='ee-mrwurenzhe')"
   ]
  },
  {
   "cell_type": "code",
   "execution_count": null,
   "id": "63f9b856",
   "metadata": {},
   "outputs": [],
   "source": [
    "# 定义时空范围\n",
    "start_date = '2023-01-01'\n",
    "end_date = '2023-12-31'\n",
    "region = ee.Geometry.Rectangle([70, 10, 140, 60])  # 东亚范围（min_lon, min_lat, max_lon, max_lat）\n",
    "\n",
    "# 加载ERA5月均数据集\n",
    "era5_monthly = ee.ImageCollection('ECMWF/ERA5/MONTHLY') \\\n",
    "    .filterDate(start_date, end_date) \\\n",
    "    .select(['u_component_of_wind_10m', 'v_component_of_wind_10m'])\n",
    "\n",
    "# 计算时间平均（所有月份的平均）\n",
    "u_mean = era5_monthly.select('u_component_of_wind_10m').mean()\n",
    "v_mean = era5_monthly.select('v_component_of_wind_10m').mean()\n",
    "\n",
    "# 将u/v合并为单张图像（方便导出）\n",
    "mean_wind = u_mean.addBands(v_mean)\n",
    "\n",
    "# 可视化参数\n",
    "vis_params = {\n",
    "    'bands': ['u_component_of_wind_10m', 'v_component_of_wind_10m'],\n",
    "    'min': -10,  # 风速范围（m/s）\n",
    "    'max': 10,\n",
    "    'palette': ['blue', 'white', 'red']  # u/v分量的颜色\n",
    "}\n",
    "\n",
    "# 在地图中显示\n",
    "Map = geemap.Map()\n",
    "Map.centerObject(region, 4)\n",
    "Map.addLayer(mean_wind, vis_params, 'ERA5 Mean Wind (2023)')\n",
    "Map.addLayer(region, {'color': 'yellow'}, 'ROI')\n",
    "Map"
   ]
  }
 ],
 "metadata": {
  "kernelspec": {
   "display_name": "Python 3",
   "language": "python",
   "name": "python3"
  },
  "language_info": {
   "codemirror_mode": {
    "name": "ipython",
    "version": 3
   },
   "file_extension": ".py",
   "mimetype": "text/x-python",
   "name": "python",
   "nbconvert_exporter": "python",
   "pygments_lexer": "ipython3",
   "version": "3.11.7"
  }
 },
 "nbformat": 4,
 "nbformat_minor": 5
}
