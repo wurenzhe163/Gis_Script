{
 "cells": [
  {
   "cell_type": "markdown",
   "id": "d2fe7579",
   "metadata": {},
   "source": [
    "# 引入仓库"
   ]
  },
  {
   "cell_type": "code",
   "execution_count": 1,
   "id": "f8bdafe4",
   "metadata": {
    "ExecuteTime": {
     "end_time": "2022-11-25T09:35:20.992825Z",
     "start_time": "2022-11-25T09:35:12.929911Z"
    }
   },
   "outputs": [],
   "source": [
    "import geemap\n",
    "import subprocess\n",
    "import ee\n",
    "import os\n",
    "import ipywidgets as widgets\n",
    "from bqplot import pyplot as plt\n",
    "from ipyleaflet import WidgetControl\n",
    "# geemap.set_proxy(port=10809)\n",
    "ee.Authenticate()\n",
    "ee.Initialize(project='ee-mrwurenzhe')"
   ]
  },
  {
   "cell_type": "markdown",
   "id": "ab534868",
   "metadata": {
    "ExecuteTime": {
     "end_time": "2022-11-20T01:59:28.672231Z",
     "start_time": "2022-11-20T01:59:28.665430Z"
    }
   },
   "source": [
    "# 添加Basemap"
   ]
  },
  {
   "cell_type": "code",
   "execution_count": 2,
   "id": "9b55ecc4",
   "metadata": {
    "ExecuteTime": {
     "end_time": "2022-11-25T09:35:22.782962Z",
     "start_time": "2022-11-25T09:35:20.993722Z"
    }
   },
   "outputs": [
    {
     "data": {
      "application/vnd.jupyter.widget-view+json": {
       "model_id": "859500f8a56b4b92967a4650e76e02ea",
       "version_major": 2,
       "version_minor": 0
      },
      "text/plain": [
       "Map(center=[40, -100], controls=(WidgetControl(options=['position', 'transparent_bg'], widget=HBox(children=(T…"
      ]
     },
     "metadata": {},
     "output_type": "display_data"
    }
   ],
   "source": [
    "# Basemap\n",
    "Map = geemap.Map(center=[40, -100], zoom=4, add_google_map=False)\n",
    "Map.add_basemap('HYBRID')\n",
    "Map.add_basemap('ROADMAP')\n",
    "# Add Earth Engine data\n",
    "fc = ee.FeatureCollection('TIGER/2018/Counties')\n",
    "Map.addLayer(fc, {}, 'US Counties')\n",
    "states = ee.FeatureCollection('TIGER/2018/States')\n",
    "Map"
   ]
  },
  {
   "cell_type": "markdown",
   "id": "13b32d0a",
   "metadata": {
    "ExecuteTime": {
     "end_time": "2022-11-20T01:52:32.726043Z",
     "start_time": "2022-11-20T01:52:32.714785Z"
    }
   },
   "source": [
    "# 设计交互式 widgets UI按钮"
   ]
  },
  {
   "cell_type": "markdown",
   "id": "fb18b9f7",
   "metadata": {},
   "source": [
    "## 初始Style构建"
   ]
  },
  {
   "cell_type": "code",
   "execution_count": 3,
   "id": "b845c5f9",
   "metadata": {
    "ExecuteTime": {
     "end_time": "2022-11-25T09:35:22.798329Z",
     "start_time": "2022-11-25T09:35:22.785219Z"
    }
   },
   "outputs": [],
   "source": [
    "# Designe interactive widgets\n",
    "\n",
    "style = {'description_width': 'initial'}\n",
    "\n",
    "output_widget = widgets.Output(layout={'border': '1px solid black'})\n",
    "output_control = WidgetControl(widget=output_widget, position='bottomright')\n",
    "Map.add_control(output_control)"
   ]
  },
  {
   "cell_type": "markdown",
   "id": "ce2d6a17",
   "metadata": {},
   "source": [
    "## 设置UI按钮以及初始化值"
   ]
  },
  {
   "cell_type": "markdown",
   "id": "3771f08b",
   "metadata": {},
   "source": [
    "### Shp输入以及Chart输出定义"
   ]
  },
  {
   "cell_type": "code",
   "execution_count": 4,
   "id": "a7bdba3e",
   "metadata": {
    "ExecuteTime": {
     "end_time": "2022-11-25T09:35:22.829233Z",
     "start_time": "2022-11-25T09:35:22.799399Z"
    }
   },
   "outputs": [],
   "source": [
    "\n",
    "# 指定第一个shp，感觉仅为了提供省份的名称\n",
    "admin1_widget = widgets.Text(\n",
    "    description='State:', value='Tennessee', width=200, style=style\n",
    ")\n",
    "# 指定第二个shp，用于计算方位\n",
    "admin2_widget = widgets.Text(\n",
    "    description='County:', value='Knox', width=300, style=style\n",
    ")\n",
    "# 使用用户交互式绘图\n",
    "aoi_widget = widgets.Checkbox(\n",
    "    value=False, description='Use user-drawn AOI', style=style\n",
    ")\n",
    "# 下载chart\n",
    "download_widget = widgets.Checkbox(\n",
    "    value=False, description='Download chart data', style=style\n",
    ")\n",
    "\n",
    "# 展示button\n",
    "# widgets.HBox([admin1_widget, admin2_widget, aoi_widget, download_widget])"
   ]
  },
  {
   "cell_type": "markdown",
   "id": "43c992f7",
   "metadata": {},
   "source": [
    "### 图像按照日期导入/展示/fmask去云和阴影、雪"
   ]
  },
  {
   "cell_type": "code",
   "execution_count": 5,
   "id": "98a19427",
   "metadata": {
    "ExecuteTime": {
     "end_time": "2022-11-25T09:35:22.844360Z",
     "start_time": "2022-11-25T09:35:22.830304Z"
    }
   },
   "outputs": [],
   "source": [
    "band_combo = widgets.Dropdown(\n",
    "    description='Band combo:',\n",
    "    options=[\n",
    "        'Red/Green/Blue',\n",
    "        'NIR/Red/Green',\n",
    "        'SWIR2/SWIR1/NIR',\n",
    "        'NIR/SWIR1/Red',\n",
    "        'SWIR2/NIR/Red',\n",
    "        'SWIR2/SWIR1/Red',\n",
    "        'SWIR1/NIR/Blue',\n",
    "        'NIR/SWIR1/Blue',\n",
    "        'SWIR2/NIR/Green',\n",
    "        'SWIR1/NIR/Red',\n",
    "    ],\n",
    "    value='NIR/Red/Green',\n",
    "    style=style,\n",
    ")\n",
    "\n",
    "year_widget = widgets.IntSlider(\n",
    "    min=1984, max=2022, value=2010, description='Selected year:', width=400, style=style\n",
    ")\n",
    "\n",
    "fmask_widget = widgets.Checkbox(\n",
    "    value=True, description='Apply fmask(remove cloud, shadow, snow)', style=style\n",
    ")\n",
    "# widgets.HBox([band_combo, year_widget, fmask_widget])"
   ]
  },
  {
   "cell_type": "markdown",
   "id": "d3020a74",
   "metadata": {},
   "source": [
    "### 波段比值运算选择\n",
    " Normalized Satellite Indices: https://www.usna.edu/Users/oceano/pguth/md_help/html/norm_sat.htm"
   ]
  },
  {
   "cell_type": "code",
   "execution_count": 6,
   "id": "12dcccd1",
   "metadata": {
    "ExecuteTime": {
     "end_time": "2022-11-25T09:35:22.876108Z",
     "start_time": "2022-11-25T09:35:22.845368Z"
    }
   },
   "outputs": [],
   "source": [
    "nd_options = [\n",
    "    'Vegetation Index (NDVI)',\n",
    "    'Water Index (NDWI)',\n",
    "    'Modified Water Index (MNDWI)',\n",
    "    'Snow Index (NDSI)',\n",
    "    'Soil Index (NDSI)',\n",
    "    'Burn Ratio (NBR)',\n",
    "    'Customized',\n",
    "]\n",
    "nd_indices = widgets.Dropdown(\n",
    "    options=nd_options,\n",
    "    value='Modified Water Index (MNDWI)',\n",
    "    description='Normalized Difference Index:',\n",
    "    style=style,\n",
    ")\n",
    "\n",
    "first_band = widgets.Dropdown(\n",
    "    description='1st band:',\n",
    "    options=['Blue', 'Green', 'Red', 'NIR', 'SWIR1', 'SWIR2'],\n",
    "    value='Green',\n",
    "    style=style,\n",
    ")\n",
    "\n",
    "second_band = widgets.Dropdown(\n",
    "    description='2nd band:',\n",
    "    options=['Blue', 'Green', 'Red', 'NIR', 'SWIR1', 'SWIR2'],\n",
    "    value='SWIR1',\n",
    "    style=style,\n",
    ")\n",
    "\n",
    "nd_threshold = widgets.FloatSlider(\n",
    "    value=0,\n",
    "    min=-1,\n",
    "    max=1,\n",
    "    step=0.01,\n",
    "    description='Threshold:',\n",
    "    orientation='horizontal',\n",
    "    style=style,\n",
    ")\n",
    "# 选择颜色\n",
    "nd_color = widgets.ColorPicker(\n",
    "    concise=False, description='Color:', value='blue', style=style\n",
    ")\n",
    "# widgets.HBox([nd_indices, first_band, second_band, nd_threshold, nd_color])"
   ]
  },
  {
   "cell_type": "markdown",
   "id": "56e6e2e7",
   "metadata": {},
   "source": [
    "### 设置Handel"
   ]
  },
  {
   "cell_type": "code",
   "execution_count": 7,
   "id": "ac879f8e",
   "metadata": {
    "ExecuteTime": {
     "end_time": "2022-11-25T09:35:22.891321Z",
     "start_time": "2022-11-25T09:35:22.877181Z"
    }
   },
   "outputs": [],
   "source": [
    "submit = widgets.Button(\n",
    "    description='Submit', button_style='primary', tooltip='Click me', style=style\n",
    ")\n",
    "# widgets.HBox([submit])"
   ]
  },
  {
   "cell_type": "markdown",
   "id": "251bc982",
   "metadata": {},
   "source": [
    "### 展示所有的Button"
   ]
  },
  {
   "cell_type": "code",
   "execution_count": 8,
   "id": "891ad8f2",
   "metadata": {
    "ExecuteTime": {
     "end_time": "2022-11-25T09:35:22.922531Z",
     "start_time": "2022-11-25T09:35:22.892379Z"
    },
    "scrolled": true
   },
   "outputs": [
    {
     "data": {
      "application/vnd.jupyter.widget-view+json": {
       "model_id": "0a3f80cfe8a9407a8183e8436d59852e",
       "version_major": 2,
       "version_minor": 0
      },
      "text/plain": [
       "VBox(children=(HBox(children=(Text(value='Tennessee', description='State:', style=DescriptionStyle(description…"
      ]
     },
     "metadata": {},
     "output_type": "display_data"
    }
   ],
   "source": [
    "full_widget = widgets.VBox(\n",
    "    [\n",
    "        widgets.HBox([admin1_widget, admin2_widget, aoi_widget, download_widget]),\n",
    "        widgets.HBox([band_combo, year_widget, fmask_widget]),\n",
    "        widgets.HBox([nd_indices, first_band, second_band, nd_threshold, nd_color]),\n",
    "        submit,\n",
    "    ]\n",
    ")\n",
    "\n",
    "full_widget"
   ]
  },
  {
   "cell_type": "markdown",
   "id": "33ac8363",
   "metadata": {},
   "source": [
    "## 计算用户的交互式选择"
   ]
  },
  {
   "cell_type": "markdown",
   "id": "0f4c015b",
   "metadata": {},
   "source": [
    "### 是否采用用户绘制的AOI"
   ]
  },
  {
   "cell_type": "code",
   "execution_count": 9,
   "id": "eb87bef4",
   "metadata": {
    "ExecuteTime": {
     "end_time": "2022-11-25T09:35:22.938572Z",
     "start_time": "2022-11-25T09:35:22.924479Z"
    }
   },
   "outputs": [],
   "source": [
    "# 如果用户选择交互，删除\n",
    "def aoi_change(change):\n",
    "    Map.layers = Map.layers[:4]\n",
    "    Map.user_roi = None\n",
    "    Map.user_rois = None\n",
    "    Map.draw_count = 0\n",
    "    admin1_widget.value = ''\n",
    "    admin2_widget.value = ''\n",
    "    output_widget.clear_output()\n",
    "# 用法类似map\n",
    "aoi_widget.observe(aoi_change, names='value')"
   ]
  },
  {
   "cell_type": "markdown",
   "id": "4883554e",
   "metadata": {},
   "source": [
    "### 波段比值运算\n",
    "根据选择的Index不同自动更换first_band与second_band的推荐值，并非计算"
   ]
  },
  {
   "cell_type": "code",
   "execution_count": 10,
   "id": "f6db3dcd",
   "metadata": {
    "ExecuteTime": {
     "end_time": "2022-11-25T09:35:22.954581Z",
     "start_time": "2022-11-25T09:35:22.939582Z"
    },
    "code_folding": []
   },
   "outputs": [],
   "source": [
    "def nd_index_change(change):\n",
    "    if nd_indices.value == 'Vegetation Index (NDVI)':\n",
    "        first_band.value = 'NIR'\n",
    "        second_band.value = 'Red'\n",
    "    elif nd_indices.value == 'Water Index (NDWI)':\n",
    "        first_band.value = 'NIR'\n",
    "        second_band.value = 'SWIR1'\n",
    "    elif nd_indices.value == 'Modified Water Index (MNDWI)':\n",
    "        first_band.value = 'Green'\n",
    "        second_band.value = 'SWIR1'\n",
    "    elif nd_indices.value == 'Snow Index (NDSI)':\n",
    "        first_band.value = 'Green'\n",
    "        second_band.value = 'SWIR1'\n",
    "    elif nd_indices.value == 'Soil Index (NDSI)':\n",
    "        first_band.value = 'SWIR1'\n",
    "        second_band.value = 'NIR'\n",
    "    elif nd_indices.value == 'Burn Ratio (NBR)':\n",
    "        first_band.value = 'NIR'\n",
    "        second_band.value = 'SWIR2'\n",
    "    elif nd_indices.value == 'Customized':\n",
    "        first_band.value = None\n",
    "        second_band.value = None\n",
    "nd_indices.observe(nd_index_change, names='value')"
   ]
  },
  {
   "cell_type": "raw",
   "id": "53f7bfd4",
   "metadata": {},
   "source": [
    "# 测试用\n",
    "s= fc.first()\n",
    "# 查看表头\n",
    "fc.getInfo()['columns']\n",
    "# 查看info中包含的keys，也可以直接用getInfo()查看\n",
    "fc.getInfo().keys()\n",
    "fc.limit(10)\n",
    "s.get('STATEFP')\n",
    "s.geometry()\n",
    "len(Map.layers)"
   ]
  },
  {
   "cell_type": "markdown",
   "id": "c1d85b03",
   "metadata": {
    "ExecuteTime": {
     "end_time": "2022-11-20T03:07:56.135066Z",
     "start_time": "2022-11-20T03:07:56.116115Z"
    }
   },
   "source": [
    "### 设置Handel的交互\n",
    "主要针对采用预制的两个shp进行运算进行参数配置"
   ]
  },
  {
   "cell_type": "code",
   "execution_count": 11,
   "id": "1caf1b59",
   "metadata": {
    "ExecuteTime": {
     "end_time": "2022-11-25T09:35:22.970656Z",
     "start_time": "2022-11-25T09:35:22.956580Z"
    },
    "code_folding": []
   },
   "outputs": [],
   "source": [
    "def handle_interaction(**kwargs):\n",
    "    latlon = kwargs.get('coordinates')\n",
    "    if kwargs.get('type') == 'click' and not aoi_widget.value:  # button被点击，并且非用户自定义AOI\n",
    "        Map.default_style = {'cursor': 'wait'}\n",
    "        xy = ee.Geometry.Point(latlon[::-1])\n",
    "        selected_fc = fc.filterBounds(xy)   # fc = ee.FeatureCollection('TIGER/2018/Counties')\n",
    "\n",
    "        with output_widget:\n",
    "            output_widget.clear_output()\n",
    "\n",
    "            try:\n",
    "                feature = selected_fc.first() # 可能会有多个重叠区域，选择第一个？\n",
    "                admin2_id = feature.get('NAME').getInfo()\n",
    "                statefp = feature.get('STATEFP')\n",
    "                admin1_fc = ee.Feature(\n",
    "                    states.filter(ee.Filter.eq('STATEFP', statefp)).first()\n",
    "                )\n",
    "                admin1_id = admin1_fc.get('NAME').getInfo()\n",
    "                admin1_widget.value = admin1_id   # 第一个Button，States\n",
    "                admin2_widget.value = admin2_id   # 第二个Button，citys\n",
    "                Map.layers = Map.layers[:4]       # Map已经添加了4个layer\n",
    "                geom = selected_fc.geometry()     # 获取选取的shp切片的地理信息\n",
    "                layer_name = admin1_id + '-' + admin2_id\n",
    "                #  # 采用paint调整shp的显示方式geom\n",
    "                Map.addLayer(\n",
    "                    ee.Image().paint(geom, 0, 2), {'palette': 'red'}, layer_name\n",
    "                )\n",
    "                print(layer_name)\n",
    "            except:\n",
    "                print('No feature could be found')\n",
    "                Map.layers = Map.layers[:4]\n",
    "\n",
    "        Map.default_style = {'cursor': 'pointer'}\n",
    "    else:\n",
    "        Map.draw_count = 0\n",
    "\n",
    "\n",
    "Map.on_interaction(handle_interaction)\n"
   ]
  },
  {
   "cell_type": "markdown",
   "id": "6fa77b68",
   "metadata": {},
   "source": [
    "## 根据用户选择计算并展示"
   ]
  },
  {
   "cell_type": "code",
   "execution_count": 12,
   "id": "8af6a9db",
   "metadata": {
    "ExecuteTime": {
     "end_time": "2022-11-25T09:35:23.000833Z",
     "start_time": "2022-11-25T09:35:22.975201Z"
    },
    "code_folding": [
     33
    ]
   },
   "outputs": [],
   "source": [
    "# Click event handler\n",
    "def submit_clicked(b):\n",
    "\n",
    "    with output_widget:\n",
    "        output_widget.clear_output()\n",
    "        print('Computing...')\n",
    "        Map.default_style = {'cursor': 'wait'}\n",
    "\n",
    "        try:\n",
    "            # 两个shp同一个区域的切片导入\n",
    "            admin1_id = admin1_widget.value\n",
    "            admin2_id = admin2_widget.value\n",
    "            # band math采用的波段导入\n",
    "            band1 = first_band.value\n",
    "            band2 = second_band.value\n",
    "            selected_year = year_widget.value    # 年份\n",
    "            threshold = nd_threshold.value       # 阈值，默认0\n",
    "            bands = band_combo.value.split('/')  # 波段组合方式\n",
    "            apply_fmask = fmask_widget.value     # 是否采用fmask\n",
    "            palette = nd_color.value             # 波段计算颜色选择\n",
    "            use_aoi = aoi_widget.value           # 人工设置兴趣区域\n",
    "            download = download_widget.value     # 是否下载\n",
    "            # 采用人工设置的aoi\n",
    "            if use_aoi:\n",
    "                if Map.user_roi is not None:\n",
    "                    roi = Map.user_roi\n",
    "                    layer_name = 'User drawn AOI'\n",
    "                    geom = roi\n",
    "                else:\n",
    "                    output_widget.clear_output()\n",
    "                    print('No user AOI could be found.')\n",
    "                    return\n",
    "            # 采用给定shp\n",
    "            else:\n",
    "                statefp = ee.Feature(\n",
    "                    states.filter(ee.Filter.eq('NAME', admin1_id)).first()\n",
    "                ).get('STATEFP')\n",
    "                roi = fc.filter(\n",
    "                    ee.Filter.And(\n",
    "                        ee.Filter.eq('NAME', admin2_id),\n",
    "                        ee.Filter.eq('STATEFP', statefp),\n",
    "                    )\n",
    "                )\n",
    "                layer_name = admin1_id + '-' + admin2_id\n",
    "                geom = roi.geometry()\n",
    "\n",
    "            Map.layers = Map.layers[:4]          # 导入所有的layers这里总共4个\n",
    "            Map.addLayer(ee.Image().paint(geom, 0, 2), {'palette': 'red'}, layer_name)\n",
    "            # 导入图像这里是landsat_timeseries\n",
    "            images = geemap.landsat_timeseries(\n",
    "                roi=roi,\n",
    "                start_year=year_widget.min,\n",
    "                end_year=year_widget.max,\n",
    "                start_date='01-01',\n",
    "                end_date='12-31',\n",
    "                apply_fmask=apply_fmask,\n",
    "            )\n",
    "            # 采用指数进行运算\n",
    "            nd_images = images.map(lambda img: img.normalizedDifference([band1, band2]))\n",
    "            result_images = nd_images.map(lambda img: img.gt(threshold))\n",
    "            # \n",
    "            selected_image = ee.Image(\n",
    "                images.toList(images.size()).get(selected_year - 1984)\n",
    "            )\n",
    "            # 指数运算图像,其余区域做掩膜\n",
    "            selected_result_image = ee.Image(\n",
    "                result_images.toList(result_images.size()).get(selected_year - 1984)\n",
    "            ).selfMask()\n",
    "\n",
    "            vis_params = {'bands': bands, 'min': 0, 'max': 3000}\n",
    "            # 添加图像和运算后的图层\n",
    "            Map.addLayer(selected_image, vis_params, 'Landsat ' + str(selected_year))\n",
    "            Map.addLayer(\n",
    "                selected_result_image,\n",
    "                {'palette': palette},\n",
    "                'Result ' + str(selected_year),\n",
    "            )\n",
    "            \n",
    "            #-----------------------绘制Chart------------------------#\n",
    "            def cal_area(img):\n",
    "                pixel_area = img.multiply(ee.Image.pixelArea()).divide(1e4)\n",
    "                # 在指定区域对geom使用指定的reducer进行运算\n",
    "                img_area = pixel_area.reduceRegion(\n",
    "                    **{\n",
    "                        'geometry': geom,\n",
    "                        'reducer': ee.Reducer.sum(),\n",
    "                        'scale': 1000,\n",
    "                        'maxPixels': 1e12,\n",
    "                        'bestEffort': True,\n",
    "                    }\n",
    "                )\n",
    "                return img.set({'area': img_area})\n",
    "\n",
    "            areas = result_images.map(cal_area)\n",
    "            stats = areas.aggregate_array('area').getInfo()\n",
    "            x = list(range(1984, 2021))\n",
    "            y = [item.get('nd') for item in stats]\n",
    "\n",
    "            fig = plt.figure(1)\n",
    "            fig.layout.height = '270px'\n",
    "            plt.clear()\n",
    "            plt.plot(x, y)\n",
    "            plt.title('Temporal trend (1984-2020)')\n",
    "            plt.xlabel('Year')\n",
    "            plt.ylabel('Area (ha)')\n",
    "\n",
    "            output_widget.clear_output()\n",
    "\n",
    "            plt.show()\n",
    "\n",
    "            if download:\n",
    "                out_dir = os.path.join(os.path.expanduser('~'), 'Downloads')\n",
    "                out_name = 'chart_' + geemap.random_string() + '.csv'\n",
    "                out_csv = os.path.join(out_dir, out_name)\n",
    "                if not os.path.exists(out_dir):\n",
    "                    os.makedirs(out_dir)\n",
    "                with open(out_csv, 'w') as f:\n",
    "                    f.write('year, area (ha)\\n')\n",
    "                    for index, item in enumerate(x):\n",
    "                        line = '{},{:.2f}\\n'.format(item, y[index])\n",
    "                        f.write(line)\n",
    "                link = geemap.create_download_link(\n",
    "                    out_csv, title=\"Click here to download the chart data: \"\n",
    "                )\n",
    "                display(link)\n",
    "\n",
    "        except Exception as e:\n",
    "            print(e)\n",
    "            print('An error occurred during computation.')\n",
    "\n",
    "        Map.default_style = {'cursor': 'default'}\n",
    "\n",
    "\n",
    "submit.on_click(submit_clicked)"
   ]
  },
  {
   "cell_type": "code",
   "execution_count": 13,
   "id": "44dfa7a5",
   "metadata": {
    "ExecuteTime": {
     "end_time": "2022-11-25T09:35:23.016007Z",
     "start_time": "2022-11-25T09:35:23.002996Z"
    }
   },
   "outputs": [
    {
     "data": {
      "text/plain": [
       "['__class__',\n",
       " '__del__',\n",
       " '__delattr__',\n",
       " '__dict__',\n",
       " '__dir__',\n",
       " '__doc__',\n",
       " '__eq__',\n",
       " '__format__',\n",
       " '__ge__',\n",
       " '__getattribute__',\n",
       " '__getstate__',\n",
       " '__gt__',\n",
       " '__hash__',\n",
       " '__init__',\n",
       " '__init_subclass__',\n",
       " '__le__',\n",
       " '__lt__',\n",
       " '__module__',\n",
       " '__ne__',\n",
       " '__new__',\n",
       " '__reduce__',\n",
       " '__reduce_ex__',\n",
       " '__repr__',\n",
       " '__setattr__',\n",
       " '__setstate__',\n",
       " '__sizeof__',\n",
       " '__str__',\n",
       " '__subclasshook__',\n",
       " '__weakref__',\n",
       " '_add_notifiers',\n",
       " '_call_widget_constructed',\n",
       " '_click_handlers',\n",
       " '_comm_changed',\n",
       " '_compare',\n",
       " '_cross_validation_lock',\n",
       " '_default_keys',\n",
       " '_display_callbacks',\n",
       " '_dom_classes',\n",
       " '_gen_repr_from_keys',\n",
       " '_get_embed_state',\n",
       " '_get_trait_default_generator',\n",
       " '_handle_button_msg',\n",
       " '_handle_custom_msg',\n",
       " '_handle_displayed',\n",
       " '_handle_msg',\n",
       " '_holding_sync',\n",
       " '_ipython_display_',\n",
       " '_is_numpy',\n",
       " '_lock_property',\n",
       " '_log_default',\n",
       " '_model_id',\n",
       " '_model_module',\n",
       " '_model_module_version',\n",
       " '_model_name',\n",
       " '_msg_callbacks',\n",
       " '_notify_observers',\n",
       " '_notify_trait',\n",
       " '_property_lock',\n",
       " '_register_validator',\n",
       " '_remove_notifiers',\n",
       " '_repr_keys',\n",
       " '_send',\n",
       " '_should_send_property',\n",
       " '_states_to_send',\n",
       " '_trait_default_generators',\n",
       " '_trait_from_json',\n",
       " '_trait_notifiers',\n",
       " '_trait_to_json',\n",
       " '_trait_validators',\n",
       " '_trait_values',\n",
       " '_validate_icon',\n",
       " '_view_count',\n",
       " '_view_module',\n",
       " '_view_module_version',\n",
       " '_view_name',\n",
       " '_widget_construction_callback',\n",
       " 'add_class',\n",
       " 'add_traits',\n",
       " 'button_style',\n",
       " 'class_own_trait_events',\n",
       " 'class_own_traits',\n",
       " 'class_trait_names',\n",
       " 'class_traits',\n",
       " 'click',\n",
       " 'close',\n",
       " 'close_all',\n",
       " 'comm',\n",
       " 'cross_validation_lock',\n",
       " 'description',\n",
       " 'disabled',\n",
       " 'get_manager_state',\n",
       " 'get_state',\n",
       " 'get_view_spec',\n",
       " 'handle_comm_opened',\n",
       " 'has_trait',\n",
       " 'hold_sync',\n",
       " 'hold_trait_notifications',\n",
       " 'icon',\n",
       " 'keys',\n",
       " 'layout',\n",
       " 'log',\n",
       " 'model_id',\n",
       " 'notify_change',\n",
       " 'observe',\n",
       " 'on_click',\n",
       " 'on_displayed',\n",
       " 'on_msg',\n",
       " 'on_trait_change',\n",
       " 'on_widget_constructed',\n",
       " 'open',\n",
       " 'remove_class',\n",
       " 'send',\n",
       " 'send_state',\n",
       " 'set_state',\n",
       " 'set_trait',\n",
       " 'setup_instance',\n",
       " 'style',\n",
       " 'tooltip',\n",
       " 'trait_defaults',\n",
       " 'trait_events',\n",
       " 'trait_has_value',\n",
       " 'trait_metadata',\n",
       " 'trait_names',\n",
       " 'trait_values',\n",
       " 'traits',\n",
       " 'unobserve',\n",
       " 'unobserve_all',\n",
       " 'widget_types',\n",
       " 'widgets']"
      ]
     },
     "execution_count": 13,
     "metadata": {},
     "output_type": "execute_result"
    }
   ],
   "source": [
    "dir(submit)"
   ]
  },
  {
   "cell_type": "code",
   "execution_count": null,
   "id": "1b64fbb5",
   "metadata": {
    "ExecuteTime": {
     "end_time": "2022-11-24T08:09:24.974761Z",
     "start_time": "2022-11-24T08:09:24.955071Z"
    }
   },
   "outputs": [],
   "source": []
  }
 ],
 "metadata": {
  "hide_input": true,
  "kernelspec": {
   "display_name": "Python 3",
   "language": "python",
   "name": "python3"
  },
  "language_info": {
   "codemirror_mode": {
    "name": "ipython",
    "version": 3
   },
   "file_extension": ".py",
   "mimetype": "text/x-python",
   "name": "python",
   "nbconvert_exporter": "python",
   "pygments_lexer": "ipython3",
   "version": "3.11.7"
  },
  "toc": {
   "base_numbering": 1,
   "nav_menu": {},
   "number_sections": true,
   "sideBar": true,
   "skip_h1_title": false,
   "title_cell": "Table of Contents",
   "title_sidebar": "Contents",
   "toc_cell": false,
   "toc_position": {
    "height": "calc(100% - 180px)",
    "left": "10px",
    "top": "150px",
    "width": "271.43px"
   },
   "toc_section_display": true,
   "toc_window_display": true
  },
  "varInspector": {
   "cols": {
    "lenName": 16,
    "lenType": 16,
    "lenVar": 40
   },
   "kernels_config": {
    "python": {
     "delete_cmd_postfix": "",
     "delete_cmd_prefix": "del ",
     "library": "var_list.py",
     "varRefreshCmd": "print(var_dic_list())"
    },
    "r": {
     "delete_cmd_postfix": ") ",
     "delete_cmd_prefix": "rm(",
     "library": "var_list.r",
     "varRefreshCmd": "cat(var_dic_list()) "
    }
   },
   "types_to_exclude": [
    "module",
    "function",
    "builtin_function_or_method",
    "instance",
    "_Feature"
   ],
   "window_display": false
  }
 },
 "nbformat": 4,
 "nbformat_minor": 5
}
