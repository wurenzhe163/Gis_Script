{
 "cells": [
  {
   "cell_type": "markdown",
   "id": "cb5471b9",
   "metadata": {
    "pycharm": {
     "name": "#%% md\n"
    }
   },
   "source": [
    "# 使用S2cloudless制作数据集"
   ]
  },
  {
   "cell_type": "code",
   "execution_count": 1,
   "id": "96d6280b",
   "metadata": {
    "ExecuteTime": {
     "end_time": "2023-02-27T14:17:55.446033Z",
     "start_time": "2023-02-27T14:17:21.208463Z"
    },
    "pycharm": {
     "name": "#%%\n"
    }
   },
   "outputs": [
    {
     "name": "stderr",
     "output_type": "stream",
     "text": [
      "D:\\Wrz\\anaconda\\envs\\GEE\\lib\\site-packages\\scipy\\__init__.py:146: UserWarning: A NumPy version >=1.16.5 and <1.23.0 is required for this version of SciPy (detected version 1.23.0\n",
      "  warnings.warn(f\"A NumPy version >={np_minversion} and <{np_maxversion}\"\n"
     ]
    }
   ],
   "source": [
    "import ee \n",
    "import geemap\n",
    "import numpy as np\n",
    "# import eerepr\n",
    "import folium\n",
    "import os\n",
    "from functools import partial\n",
    "geemap.set_proxy(port=10809)\n",
    "ee.Initialize()"
   ]
  },
  {
   "cell_type": "code",
   "execution_count": 2,
   "id": "5609353d",
   "metadata": {
    "ExecuteTime": {
     "end_time": "2023-02-27T14:17:55.461974Z",
     "start_time": "2023-02-27T14:17:55.448978Z"
    }
   },
   "outputs": [
    {
     "data": {
      "text/plain": [
       "'0.20.0'"
      ]
     },
     "execution_count": 2,
     "metadata": {},
     "output_type": "execute_result"
    }
   ],
   "source": [
    "geemap.__version__"
   ]
  },
  {
   "cell_type": "code",
   "execution_count": 3,
   "id": "861a153f",
   "metadata": {
    "ExecuteTime": {
     "end_time": "2023-02-27T14:17:55.477971Z",
     "start_time": "2023-02-27T14:17:55.464975Z"
    },
    "pycharm": {
     "name": "#%%\n"
    }
   },
   "outputs": [
    {
     "data": {
      "text/plain": [
       "['D:\\\\Wrz\\\\anaconda\\\\envs\\\\GEE\\\\lib\\\\site-packages\\\\geemap']"
      ]
     },
     "execution_count": 3,
     "metadata": {},
     "output_type": "execute_result"
    }
   ],
   "source": [
    "geemap.__path__"
   ]
  },
  {
   "cell_type": "markdown",
   "id": "e8648ba9",
   "metadata": {
    "pycharm": {
     "name": "#%% md\n"
    }
   },
   "source": [
    "## 载入原始数据，并定义过滤器"
   ]
  },
  {
   "cell_type": "code",
   "execution_count": 4,
   "id": "39f98c30",
   "metadata": {
    "ExecuteTime": {
     "end_time": "2023-02-27T14:17:57.778618Z",
     "start_time": "2023-02-27T14:17:55.481970Z"
    },
    "pycharm": {
     "name": "#%%\n"
    }
   },
   "outputs": [
    {
     "data": {
      "application/vnd.jupyter.widget-view+json": {
       "model_id": "6b16c0a1641f4cc0b9fd299726661cab",
       "version_major": 2,
       "version_minor": 0
      },
      "text/plain": [
       "Map(center=[34, 99], controls=(WidgetControl(options=['position', 'transparent_bg'], widget=HBox(children=(Tog…"
      ]
     },
     "metadata": {},
     "output_type": "display_data"
    }
   ],
   "source": [
    "Map = geemap.Map(center=[34, 99], zoom=4, add_google_map=True)\n",
    "Southest_Tibetan_01 = ee.FeatureCollection('projects/ee-mrwurenzhe/assets/Southest')\n",
    "Southest_Tibetan_02 = ee.FeatureCollection('projects/ee-mrwurenzhe/assets/Southest2')\n",
    "Map.addLayer(Southest_Tibetan_01, {}, 'Southest_Tibetan')\n",
    "Map"
   ]
  },
  {
   "cell_type": "code",
   "execution_count": 5,
   "id": "fb99e646",
   "metadata": {
    "ExecuteTime": {
     "end_time": "2023-02-27T14:18:00.124114Z",
     "start_time": "2023-02-27T14:17:57.781670Z"
    },
    "pycharm": {
     "name": "#%%\n"
    }
   },
   "outputs": [],
   "source": [
    "Southest_Tibetan_Geo = Southest_Tibetan_02.map(lambda feature:feature.set({'Geo':feature.geometry()}))\n",
    "Southest_Tibetan_GeoList = ee.List(Southest_Tibetan_Geo.reduceColumns(ee.Reducer.toList(),['Geo']).get('list'))\n",
    "Num_list = Southest_Tibetan_GeoList.size().getInfo()"
   ]
  },
  {
   "cell_type": "code",
   "execution_count": 6,
   "id": "b91e5697",
   "metadata": {
    "ExecuteTime": {
     "end_time": "2023-02-27T14:18:00.140063Z",
     "start_time": "2023-02-27T14:18:00.128063Z"
    },
    "pycharm": {
     "name": "#%%\n"
    }
   },
   "outputs": [],
   "source": [
    "START_DATE = '2020-06-01'          #\n",
    "END_DATE = '2020-09-30'            #\n",
    "Tolerance = 0.9                    # 样本筛选宽容度\n",
    "Tolerance_cloudPix = 500          # 合成样本空洞容忍量\n",
    "CLOUD_FILTER = 60                  # 过滤s2 大于指定云量的数据\n",
    "CLD_PRB_THRESH = 15                # s2cloudless 概率值阈值[0-100],原实验是50\n",
    "NIR_DRK_THRESH = 0.15              # 非水暗像素判断阈值\n",
    "CLD_PRJ_DIST = 1                   # 根据 CLD_PRJ_DIST 输入指定的距离从云中投射阴影\n",
    "BUFFER = 50                        # Remove small cloud-shadow patches and dilate remaining pixels by BUFFER input"
   ]
  },
  {
   "cell_type": "markdown",
   "id": "172adcee",
   "metadata": {
    "pycharm": {
     "name": "#%% md\n"
    }
   },
   "source": [
    "## 定义函数：连接图像与云图，添加云和云阴影(计算)波段，采用folium进行可视化"
   ]
  },
  {
   "cell_type": "code",
   "execution_count": 7,
   "id": "6549e150",
   "metadata": {
    "ExecuteTime": {
     "end_time": "2023-02-27T14:18:00.218259Z",
     "start_time": "2023-02-27T14:18:00.144058Z"
    },
    "pycharm": {
     "name": "#%%\n"
    }
   },
   "outputs": [],
   "source": [
    "def make_dir(path):\n",
    "    isExists = os.path.exists(path)\n",
    "    # 判断结果\n",
    "    if not isExists:\n",
    "        os.makedirs(path)\n",
    "        print(path + ' 创建成功')\n",
    "    return path\n",
    "##--------------------------------------- 云检测以及云阴影检测------------------------------------------------\n",
    "def get_s2_sr_cld_col(aoi, start_date, end_date):\n",
    "    \"\"\"筛选S2图像以及S2_cloud图像，并将两个collection连接\"\"\"\n",
    "    # Import and filter S2 SR.\n",
    "    s2_sr_col = (ee.ImageCollection(\"COPERNICUS/S2_SR_HARMONIZED\")\n",
    "        .filterBounds(aoi)\n",
    "        .filterDate(start_date, end_date)\n",
    "        .filter(ee.Filter.lte('CLOUDY_PIXEL_PERCENTAGE', CLOUD_FILTER)).map(partial(clip_AOI,AOI=aoi)))\n",
    "\n",
    "    # Import and filter s2cloudless.\n",
    "    s2_cloudless_col = (ee.ImageCollection('COPERNICUS/S2_CLOUD_PROBABILITY')\n",
    "        .filterBounds(aoi)\n",
    "        .filterDate(start_date, end_date).map(partial(clip_AOI,AOI=aoi)))\n",
    "\n",
    "    # Join the filtered s2cloudless collection to the SR collection by the 'system:index' property.\n",
    "    # 固定用法，将两个collection通过属性值连接起来，s2cloudless整体作为一个属性写入\n",
    "    return ee.ImageCollection(ee.Join.saveFirst('s2cloudless').apply(**{\n",
    "        'primary': s2_sr_col,\n",
    "        'secondary': s2_cloudless_col,\n",
    "        'condition': ee.Filter.equals(**{\n",
    "            'leftField': 'system:index',\n",
    "            'rightField': 'system:index'\n",
    "        })\n",
    "    }))\n",
    "\n",
    "def add_cloud_bands(img):\n",
    "    \"\"\"Define a function to add the s2cloudless probability layer\n",
    "    and derived cloud mask as bands to an S2 SR image input.\"\"\"\n",
    "    # Get s2cloudless image, subset the probability band.\n",
    "    cld_prb = ee.Image(img.get('s2cloudless')).select('probability')\n",
    "\n",
    "    # Condition s2cloudless by the probability threshold value.\n",
    "    is_cloud = cld_prb.gt(CLD_PRB_THRESH).rename('clouds')\n",
    "\n",
    "    # Add the cloud probability layer and cloud mask as image bands.\n",
    "    return img.addBands(ee.Image([cld_prb, is_cloud]))\n",
    "\n",
    "def add_shadow_bands(img):\n",
    "    \"\"\"Define a function to add dark pixels, \n",
    "    cloud projection, and identified shadows as bands to an S2 SR image input.\n",
    "    Note that the image input needs to be the result of the above add_cloud_bands function\n",
    "    because it relies on knowing which pixels are considered cloudy ('clouds' band).\"\"\"\n",
    "    # 从 SCL 波段识别水像素, 仅适用于L2A，采用L1C计算MNDWI\n",
    "    not_water = img.select('SCL').neq(6)\n",
    "\n",
    "    # 识别非水的暗 NIR 像素(潜在的云阴影像素)。.\n",
    "    SR_BAND_SCALE = 1e4\n",
    "    dark_pixels = img.select('B8').lt(NIR_DRK_THRESH*SR_BAND_SCALE).multiply(not_water).rename('dark_pixels')\n",
    "\n",
    "    # 确定云投射云影的方向(假设是 UTM 投影)。\n",
    "    shadow_azimuth = ee.Number(90).subtract(ee.Number(img.get('MEAN_SOLAR_AZIMUTH_ANGLE')));\n",
    "\n",
    "    # 根据 CLD_PRJ_DIST 输入指定的距离从云中投射阴影\n",
    "    cld_proj = (img.select('clouds').directionalDistanceTransform(shadow_azimuth, CLD_PRJ_DIST*10)\n",
    "        .reproject(**{'crs': img.select(0).projection(), 'scale': 100})\n",
    "        .select('distance')\n",
    "        .mask()\n",
    "        .rename('cloud_transform'))\n",
    "\n",
    "    # Identify the intersection of dark pixels with cloud shadow projection.\n",
    "    shadows = cld_proj.multiply(dark_pixels).rename('shadows')\n",
    "    # Add dark pixels, cloud projection, and identified shadows as image bands.\n",
    "    return img.addBands(ee.Image([dark_pixels, cld_proj, shadows]))\n",
    "\n",
    "def add_cld_shdw_mask(img):\n",
    "    \"\"\"Define a function to assemble all of the cloud and cloud shadow components and produce the final mask.\"\"\"\n",
    "    # Add cloud component bands.\n",
    "    img_cloud = add_cloud_bands(img)\n",
    "\n",
    "    # Add cloud shadow component bands.\n",
    "    img_cloud_shadow = add_shadow_bands(img_cloud)\n",
    "\n",
    "    # Combine cloud and shadow mask, set cloud and shadow as value 1, else 0.\n",
    "    is_cld_shdw = img_cloud_shadow.select('clouds').add(img_cloud_shadow.select('shadows')).gt(0)\n",
    "\n",
    "    # Remove small cloud-shadow patches and dilate remaining pixels by BUFFER input.\n",
    "    # 20 m scale is for speed, and assumes clouds don't require 10 m precision.\n",
    "    is_cld_shdw = (is_cld_shdw.focalMin(2).focalMax(BUFFER*2/20)\n",
    "        .reproject(**{'crs': img.select([0]).projection(), 'scale': 20})\n",
    "        .rename('cloudmask'))\n",
    "\n",
    "    # Add the final cloud-shadow mask to the image.\n",
    "    return img_cloud_shadow.addBands(is_cld_shdw)\n",
    "#     return img.addBands(is_cld_shdw)\n",
    "\n",
    "##--------------------------------------- 使用云图层更新-------------------------------------------------\n",
    "def apply_cld_shdw_mask(img):\n",
    "    # Subset the cloudmask band and invert it so clouds/shadow are 0, else 1.\n",
    "    not_cld_shdw = img.select('cloudmask').Not()\n",
    "    # Subset reflectance bands and update their masks, return the result.\n",
    "    return img.select(['B.*','clouds','dark_pixels','shadows','cloudmask']).updateMask(not_cld_shdw)\n",
    "\n",
    "##---------------------------------------- folium可视化-------------------------------------------------\n",
    "# Define a method for displaying Earth Engine image tiles to a folium map.\n",
    "def add_ee_layer(self, ee_image_object, vis_params, name, show=True, opacity=1, min_zoom=0):\n",
    "    map_id_dict = ee.Image(ee_image_object).getMapId(vis_params)\n",
    "    folium.raster_layers.TileLayer(\n",
    "        tiles=map_id_dict['tile_fetcher'].url_format,\n",
    "        attr='Map Data &copy; <a href=\"https://earthengine.google.com/\">Google Earth Engine</a>',\n",
    "        name=name,\n",
    "        show=show,\n",
    "        opacity=opacity,\n",
    "        min_zoom=min_zoom,\n",
    "        overlay=True,\n",
    "        control=True\n",
    "        ).add_to(self)\n",
    "folium.Map.add_ee_layer = add_ee_layer\n",
    "\n",
    "\n",
    "def display_cloud_layers(col,AOI):\n",
    "    # Mosaic the image collection.使用掩码合成集合中的所有图像。普通的mosaic，镶嵌过程中是取最新的影像值\n",
    "    img = col.mosaic().clip(AOI)\n",
    "\n",
    "    # Subset layers and prepare them for display.\n",
    "    clouds = img.select('clouds').selfMask()\n",
    "    shadows = img.select('shadows').selfMask()\n",
    "    dark_pixels = img.select('dark_pixels').selfMask()\n",
    "    probability = img.select('probability')\n",
    "    cloudmask = img.select('cloudmask').selfMask()\n",
    "    cloud_transform = img.select('cloud_transform')\n",
    "\n",
    "    # Create a folium map object.centroid求中心点\n",
    "    center = AOI.centroid(10).coordinates().reverse().getInfo()\n",
    "    m = folium.Map(location=center, zoom_start=12)\n",
    "\n",
    "    # Add layers to the folium map.\n",
    "    m.add_ee_layer(img,\n",
    "                   {'bands': ['B4', 'B3', 'B2'], 'min': 0, 'max': 2500, 'gamma': 1.1},\n",
    "                   'S2 image', True, 1, 9)\n",
    "    m.add_ee_layer(probability,\n",
    "                   {'min': 0, 'max': 100},\n",
    "                   'probability (cloud)', False, 1, 9)\n",
    "    m.add_ee_layer(clouds,\n",
    "                   {'palette': 'e056fd'},\n",
    "                   'clouds', False, 1, 9)\n",
    "#     m.add_ee_layer(cloud_transform,\n",
    "#                    {'min': 0, 'max': 1, 'palette': ['white', 'black']},\n",
    "#                    'cloud_transform', False, 1, 9)\n",
    "    m.add_ee_layer(dark_pixels,\n",
    "                   {'palette': 'orange'},\n",
    "                   'dark_pixels', False, 1, 9)\n",
    "    m.add_ee_layer(shadows, {'palette': 'yellow'},\n",
    "                   'shadows', False, 1, 9)\n",
    "    m.add_ee_layer(cloudmask, {'palette': 'orange'},\n",
    "                   'cloudmask', True, 0.5, 9)\n",
    "\n",
    "    # Add a layer control panel to the map.\n",
    "    m.add_child(folium.LayerControl())\n",
    "\n",
    "    # Display the map.\n",
    "    display(m)\n",
    "\n",
    "    \n",
    "def display_cloudfree_layers(s2_sr_median,AOI):\n",
    "    # Create a folium map object.\n",
    "    center = AOI.centroid(10).coordinates().reverse().getInfo()\n",
    "    m = folium.Map(location=center, zoom_start=12)\n",
    "\n",
    "    # Add layers to the folium map.\n",
    "    m.add_ee_layer(s2_sr_median.clip(AOI),\n",
    "                    {'bands': ['B4', 'B3', 'B2'], 'min': 0, 'max': 2500, 'gamma': 1.1},\n",
    "                    'S2 cloud-free mosaic', True, 1, 9)\n",
    "\n",
    "    # Add a layer control panel to the map.\n",
    "    m.add_child(folium.LayerControl())\n",
    "\n",
    "    # Display the map.\n",
    "    display(m)\n",
    "\n",
    "def clip_AOI(col,AOI):\n",
    "    return col.clip(AOI)\n",
    "\n",
    "# 提取dimensions等波段的参数\n",
    "# Image = ee.Image(s2_sr_cld_col.toList(5).get(1))\n",
    "# bandList = ee.Dictionary(ee.List(ee.Dictionary(ee.Algorithms.Describe(Image)).get('bands')).get(0)).get('dimensions')\n",
    "def write_dimensions(col,AOI):\n",
    "    dimensions = ee.Dictionary(ee.List(ee.Dictionary(ee.Algorithms.Describe(col)).get('bands')).get(0)).get('dimensions')\n",
    "    allNoneZeros = col.select('B1').unmask(0).reduceRegion( **{\n",
    "                        'reducer': ee.Reducer.allNonZero(),\n",
    "                        'scale': 10,\n",
    "                        'maxPixels': 1e12,\n",
    "                        'bestEffort': True,\n",
    "                    }).get('B1')\n",
    "    \n",
    "    all_NotNone = col.select('B1').unmask(0).reduceRegion(\n",
    "                        **{\n",
    "                            'geometry': AOI,\n",
    "                            'reducer': ee.Reducer.count(),\n",
    "                            'scale': 10,\n",
    "                            'maxPixels': 1e12,\n",
    "                            'bestEffort': True,\n",
    "                        }).get('B1')\n",
    "    \n",
    "    return col.set({'dimensions':ee.List(dimensions).reduce(ee.Reducer.sum()),\n",
    "                   'all_NotNone':all_NotNone})\n",
    "    \n",
    "def cloud_sum(col,AOI):\n",
    "\n",
    "    cloud_count = col.select('clouds').reduceRegion(\n",
    "                    **{\n",
    "                        'geometry': AOI,\n",
    "                        'reducer': ee.Reducer.sum(),\n",
    "                        'scale': 10,\n",
    "                        'maxPixels': 1e12,\n",
    "                        'bestEffort': True,\n",
    "                    }\n",
    "                )\n",
    "    return col.set({'cloud_count': cloud_count})"
   ]
  },
  {
   "cell_type": "code",
   "execution_count": 8,
   "id": "2f7fdac7",
   "metadata": {
    "ExecuteTime": {
     "end_time": "2023-02-27T14:18:00.234338Z",
     "start_time": "2023-02-27T14:18:00.220263Z"
    },
    "pycharm": {
     "name": "#%%\n"
    }
   },
   "outputs": [],
   "source": [
    "# Diplay_test = s2_sr_cld_col_eval_disp.first()\n",
    "# Map.addLayer(Diplay_test.select('clouds'),{ 'min': 0, 'max': 1},'clouds')\n",
    "# Map.addLayer(Diplay_test.select(\"dark_pixels\"),{ 'mi.n': 0, 'max': 1},\"dark_pixels\")\n",
    "# Map.addLayer(Diplay_test.select(\"shadows\"),{ 'min': 0, 'max': 1},\"shadows\")\n",
    "# Map.addLayer(Diplay_test.select(\"cloudmask\"),{'min': 0, 'max': 1},\"cloudmask\")\n",
    "# Map.addLayer(Diplay_test,{ 'bands':[\"B4\",\"B3\",\"B2\"],'min': 0, 'max': 10000},'S2_image')\n",
    "# Map.addLayer(s2_sr_median,{ 'bands':[\"B4\",\"B3\",\"B2\"],'min': 0, 'max': 2500,'gamma': 1.1},'S2 cloud-free mosaic')\n",
    "# Map.addLayer(s2_sr_median,{ 'bands':[\"cloudmask\"],'min': 0, 'max': 1,'gamma': 1.1},'S2 cloud mosaic')"
   ]
  },
  {
   "cell_type": "markdown",
   "id": "cf2db11d",
   "metadata": {
    "pycharm": {
     "name": "#%% md\n"
    }
   },
   "source": [
    "## 生成无云的遥感影像，并采用folium进行可视化"
   ]
  },
  {
   "cell_type": "raw",
   "id": "7f6896a3",
   "metadata": {
    "pycharm": {
     "name": "#%% raw\n"
    }
   },
   "source": [
    "AOI = ee.Feature.geometry(ee.List(testList).get(0))\n",
    "# AOI = Map.draw_features[1].geometry()         # \n",
    "# AOI = ee.Geometry.Point(-122.269, 45.701)\n",
    "\n",
    "s2_sr_cld_col_eval = get_s2_sr_cld_col(AOI, START_DATE, END_DATE)\n",
    "s2_sr_cld_col = get_s2_sr_cld_col(AOI, START_DATE, END_DATE)\n",
    "s2_sr_cld_col_eval_disp = s2_sr_cld_col_eval.map(add_cld_shdw_mask)\n",
    "s2_sr_median = s2_sr_cld_col_eval_disp.map(apply_cld_shdw_mask).median()#.clip(AOI)\n",
    "# 可视化基础mosaic影像,最后一个影像\n",
    "display_cloud_layers(s2_sr_cld_col_eval_disp,AOI)\n",
    "# 可视化去云影像\n",
    "display_cloudfree_layers(s2_sr_median,AOI)\n",
    "# ifleaflet可视化\n",
    "Map.addLayer(s2_sr_col.mosaic().clip(AOI),{ 'bands':[\"B4\",\"B3\",\"B2\"],'min': 0, 'max': 10000},'S2_image')\n",
    "Map.addLayer(s2_sr_median,{ 'bands':[\"B4\",\"B3\",\"B2\"],'min': 0, 'max': 2500,'gamma': 1.1},'S2 cloud-free mosaic')"
   ]
  },
  {
   "cell_type": "markdown",
   "id": "9fc1853e",
   "metadata": {
    "pycharm": {
     "name": "#%% md\n"
    }
   },
   "source": [
    "## 判断采用的无云遥感影像，并导出数据"
   ]
  },
  {
   "cell_type": "code",
   "execution_count": 9,
   "id": "194e0e79",
   "metadata": {
    "ExecuteTime": {
     "end_time": "2023-02-27T14:18:00.250299Z",
     "start_time": "2023-02-27T14:18:00.235870Z"
    },
    "pycharm": {
     "name": "#%%\n"
    }
   },
   "outputs": [],
   "source": [
    "out_dir = r'H:\\GEE_S2Cloud_Dataset_02'\n",
    "\n",
    "def Geemap_export(out_dir,collection=False,image=False,region=None,scale=10):\n",
    "    if collection:\n",
    "        # 这里导出时候使用region设置AOI，否则可能因为坐标系问题(未确定)，出现黑边问题\n",
    "        geemap.ee_export_image_collection(collection,\n",
    "                                  out_dir=out_dir,\n",
    "                                  format = \"ZIPPED_GEO_TIFF\",region=region,scale=scale)\n",
    "        print('collection save right')\n",
    "    elif image:\n",
    "        try:\n",
    "            filename=os.path.join(out_dir,'Clear'+image.id().getInfo()+'.tif')\n",
    "        except:\n",
    "            filename=os.path.join(out_dir,'Cloud.tif')\n",
    "            \n",
    "        geemap.ee_export_image(image,\n",
    "                       filename=filename,\n",
    "                       scale=scale, region=region, file_per_band=True,timeout=1500)\n",
    "        print('image save right')\n",
    "    else:\n",
    "        print('Erro:collection && image must have one False')"
   ]
  },
  {
   "cell_type": "code",
   "execution_count": null,
   "id": "138b1742",
   "metadata": {},
   "outputs": [],
   "source": [
    "# 导入需要的库\n",
    "import IPython.core.magic as ipymagics\n",
    "\n",
    "# 定义一个 magic 命令来重启 cell\n",
    "@ipymagics.magics_class\n",
    "class RestartOnErrorMagics(ipymagics.Magics):\n",
    "    # 在 cell 执行之前调用此方法\n",
    "    def pre_run_cell(self, info):\n",
    "        # 执行 cell 的代码\n",
    "        self.shell.run_cell(info.raw_cell)\n",
    "        # 如果代码运行时遇到错误，则重启 cell\n",
    "        if info.execution_count and info.execution_count != self.execution_count:\n",
    "            self.execution_count = info.execution_count\n",
    "            self.shell.run_cell(f\"%rerun {info.execution_count - 1}\")\n",
    "            raise KeyboardInterrupt\n",
    "\n",
    "# 将 magic 命令注册到 IPython 中\n",
    "ipymagics.register_magics(RestartOnErrorMagics)"
   ]
  },
  {
   "cell_type": "code",
   "execution_count": null,
   "id": "77b746a5",
   "metadata": {
    "ExecuteTime": {
     "start_time": "2023-02-28T03:01:27.698Z"
    },
    "scrolled": true
   },
   "outputs": [
    {
     "name": "stdout",
     "output_type": "stream",
     "text": [
      "第05702个切块已存在，跳过执行\n",
      "第05703个切块已存在，跳过执行\n",
      "第05704个切块已存在，跳过执行\n",
      "第05705个切块已存在，跳过执行\n",
      "第05706个切块已存在，跳过执行\n",
      "第05707个切块已存在，跳过执行\n",
      "第05708个切块已存在，跳过执行\n",
      "第05709个切块已存在，跳过执行\n",
      "第05710个切块已存在，跳过执行\n",
      "第05711个切块已存在，跳过执行\n",
      "第05712个切块已存在，跳过执行\n",
      "第05713个切块已存在，跳过执行\n",
      "第05714个切块已存在，跳过执行\n",
      "第05715个切块已存在，跳过执行\n",
      "第05716个切块已存在，跳过执行\n",
      "第05717个切块已存在，跳过执行\n",
      "第05718个切块已存在，跳过执行\n",
      "第05719个切块已存在，跳过执行\n",
      "第05720个切块已存在，跳过执行\n",
      "第05721个切块已存在，跳过执行\n",
      "第05722个切块已存在，跳过执行\n",
      "第05723个切块已存在，跳过执行\n",
      "第05724个切块已存在，跳过执行\n",
      "第05725个切块已存在，跳过执行\n",
      "第05726个切块已存在，跳过执行\n",
      "第05727个切块已存在，跳过执行\n",
      "第05728个切块已存在，跳过执行\n",
      "第05729个切块已存在，跳过执行\n",
      "第05730个切块已存在，跳过执行\n",
      "第05731个切块已存在，跳过执行\n",
      "H:\\GEE_S2Cloud_Dataset_02\\2020-06-01_2020-09-30\\Synth\\05732 创建成功\n",
      "star\n",
      "Generating URL ...\n",
      "Downloading data from https://earthengine.googleapis.com/v1alpha/projects/earthengine-legacy/thumbnails/53c07bd9edbb14a9f845dd0d43ec3c16-95169207cd10ab0107268d5201fb96df:getPixels\n",
      "Please wait ...\n",
      "Data downloaded to H:\\GEE_S2Cloud_Dataset_02\\2020-06-01_2020-09-30\\Synth\\05732\n",
      "image save right\n",
      "Total number of images: 10\n",
      "\n",
      "Exporting 1/10: 20200612T041601_20200612T042815_T46RGV.tif\n",
      "Generating URL ...\n",
      "Downloading data from https://earthengine.googleapis.com/v1alpha/projects/earthengine-legacy/thumbnails/9b41843d31bcf9c67dd01d077b76fa58-62e4b0c4566415b69b515b3e6ae4b98c:getPixels\n",
      "Please wait ...\n",
      "Data downloaded to H:\\GEE_S2Cloud_Dataset_02\\2020-06-01_2020-09-30\\Synth\\05732\\20200612T041601_20200612T042815_T46RGV.tif\n",
      "\n",
      "\n",
      "Exporting 2/10: 20200622T041601_20200622T041555_T46RGV.tif\n",
      "Generating URL ...\n",
      "Downloading data from https://earthengine.googleapis.com/v1alpha/projects/earthengine-legacy/thumbnails/dc489a2672695ec7131f6652c1680eed-e1139f200f86cd6243700593c1522bd6:getPixels\n",
      "Please wait ...\n",
      "Data downloaded to H:\\GEE_S2Cloud_Dataset_02\\2020-06-01_2020-09-30\\Synth\\05732\\20200622T041601_20200622T041555_T46RGV.tif\n",
      "\n",
      "\n",
      "Exporting 3/10: 20200702T041551_20200702T041554_T46RGV.tif\n",
      "Generating URL ...\n",
      "Downloading data from https://earthengine.googleapis.com/v1alpha/projects/earthengine-legacy/thumbnails/1480bae8ecac9ce4d81d5b9b6aea3d6b-3841f4382c9ca1ce95a2900bc5cde699:getPixels\n",
      "Please wait ...\n",
      "Data downloaded to H:\\GEE_S2Cloud_Dataset_02\\2020-06-01_2020-09-30\\Synth\\05732\\20200702T041551_20200702T041554_T46RGV.tif\n",
      "\n",
      "\n",
      "Exporting 4/10: 20200727T041549_20200727T042908_T46RGV.tif\n",
      "Generating URL ...\n",
      "Downloading data from https://earthengine.googleapis.com/v1alpha/projects/earthengine-legacy/thumbnails/175f666be4e2d55ac69642b24d516a94-3826926b7468afc42f5199ffd85be5b0:getPixels\n",
      "Please wait ...\n",
      "Data downloaded to H:\\GEE_S2Cloud_Dataset_02\\2020-06-01_2020-09-30\\Synth\\05732\\20200727T041549_20200727T042908_T46RGV.tif\n",
      "\n",
      "\n",
      "Exporting 5/10: 20200806T041549_20200806T041910_T46RGV.tif\n",
      "Generating URL ...\n",
      "Downloading data from https://earthengine.googleapis.com/v1alpha/projects/earthengine-legacy/thumbnails/77ad35c24be42c0274aafb0a446af572-b0ce6eb5736ebcd332b52ea095db6f66:getPixels\n",
      "Please wait ...\n",
      "Data downloaded to H:\\GEE_S2Cloud_Dataset_02\\2020-06-01_2020-09-30\\Synth\\05732\\20200806T041549_20200806T041910_T46RGV.tif\n",
      "\n",
      "\n",
      "Exporting 6/10: 20200821T041601_20200821T042626_T46RGV.tif\n",
      "Generating URL ...\n",
      "Downloading data from https://earthengine.googleapis.com/v1alpha/projects/earthengine-legacy/thumbnails/afed0750ef4e0bb86d723645bb25fce4-ccc5740b2d484b93c632210785d3d25d:getPixels\n",
      "Please wait ...\n",
      "Data downloaded to H:\\GEE_S2Cloud_Dataset_02\\2020-06-01_2020-09-30\\Synth\\05732\\20200821T041601_20200821T042626_T46RGV.tif\n",
      "\n",
      "\n"
     ]
    }
   ],
   "source": [
    "from IPython.core.interactiveshell import InteractiveShell\n",
    "\n",
    "def run_cell(cell):\n",
    "    shell = InteractiveShell.instance()\n",
    "    try:\n",
    "        shell.run_cell(cell)\n",
    "    except Exception as e:\n",
    "        print(\"Exception occurred:\", e)\n",
    "        shell.run_cell(cell)\n",
    "\n",
    "# 要运行的 cell 内容\n",
    "cell_content = \"\"\"\n",
    "\n",
    "\n",
    "for i in range(5702,Num_list):\n",
    "    path_real = os.path.join(out_dir,START_DATE+'_'+END_DATE,'Real',f'{i:05d}')\n",
    "    path_synth = os.path.join(out_dir,START_DATE+'_'+END_DATE,'Synth',f'{i:05d}')\n",
    "    if os.path.exists(path_synth) or os.path.exists(path_real):\n",
    "        print('第{}个切块已存在，跳过执行'.format(f'{i:05d}'))\n",
    "        continue\n",
    "    \n",
    "    AOI = ee.Feature.geometry(Southest_Tibetan_GeoList.get(i))\n",
    "    AOI_buffer = AOI.buffer(distance=300)  #用于图像clip，到处时候采用AOI不会出现黑边现象\n",
    "    \n",
    "    # 取数据\n",
    "    s2_sr_cld_col = get_s2_sr_cld_col(AOI_buffer, START_DATE, END_DATE).map(partial(write_dimensions,AOI=AOI))\n",
    "\n",
    "    # 根据Dimension大小删除不完整的数据\n",
    "\n",
    "    Max_all_NotNone = s2_sr_cld_col.aggregate_array('all_NotNone').reduce(ee.Reducer.max())\n",
    "    s2_sr_cld_col = s2_sr_cld_col.filter(ee.Filter.gte('all_NotNone', ee.Array(Max_all_NotNone).multiply(Tolerance).getInfo()))\n",
    "\n",
    "    # 将shadow和cloud图层加入波段\n",
    "    s2_sr_cld_col_disp = s2_sr_cld_col.map(add_cld_shdw_mask).select(['B.*','clouds','dark_pixels','shadows','cloudmask'])\n",
    "    s2_sr_cld_col_list = s2_sr_cld_col_disp.toList(s2_sr_cld_col_disp.size())\n",
    "    # 计算AOI区段的云量\n",
    "    cloud_count_dict = s2_sr_cld_col_disp.map(partial(cloud_sum,AOI=AOI)).aggregate_array('cloud_count').getInfo()\n",
    "    cloud_count_list = np.array([1 if item.get('clouds')>Tolerance_cloudPix else 0 for item in cloud_count_dict])\n",
    "    \n",
    "    # 存在有无云影像的时候\n",
    "    if np.min(cloud_count_list) == 0:\n",
    "        #    save_dir置前，先检查本地文件夹是否存在\n",
    "\n",
    "        '''执行方案一，直接获取对照组'''\n",
    "        Real_dir = make_dir(path_real)\n",
    "        Negtive_Indice = list(range(len(cloud_count_list)))\n",
    "        Positive_Indice = Negtive_Indice.pop(cloud_count_list.argmin())\n",
    "\n",
    "        # 选择正例\n",
    "        Positive_Exm = ee.Image(s2_sr_cld_col_list.get(Positive_Indice))\n",
    "        # 选择负例\n",
    "        Negtive_Exm =  ee.ImageCollection(s2_sr_cld_col_list.remove(Positive_Exm))\n",
    "        \n",
    "        # save\n",
    "        Geemap_export(Real_dir,collection=False,image=Positive_Exm,region=AOI,scale=10)\n",
    "        Geemap_export(Real_dir,collection=Negtive_Exm,image=False,region=AOI,scale=10)\n",
    "\n",
    "        print('第{}切块执行方案一，保存至{}'.format(f'{i:05d}',Real_dir))\n",
    "        \n",
    "    # 不存在无云影像的时候\n",
    "    else:\n",
    "        Synth_dir = make_dir(path_synth)\n",
    "        s2_sr_median = s2_sr_cld_col_disp.map(apply_cld_shdw_mask).median().select('B.*').int16()\n",
    "     \n",
    "        # 合成影像中的云量\n",
    "        cloudNUM = s2_sr_median.select('B1').unmask(0).lt(0.1).reduceRegion(\n",
    "                        **{\n",
    "                            'geometry': AOI,\n",
    "                            'reducer': ee.Reducer.sum(),\n",
    "                            'scale': 10,\n",
    "                            'maxPixels': 1e12,\n",
    "                            'bestEffort': True,\n",
    "                        }\n",
    "                    ).getInfo()['B1']\n",
    "\n",
    "        if cloudNUM<=Tolerance_cloudPix:\n",
    "            print('star')\n",
    "            Geemap_export(Synth_dir,collection=False,image=s2_sr_median,region=AOI,scale=10)\n",
    "            Geemap_export(Synth_dir,collection=s2_sr_cld_col_disp,image=False,region=AOI,scale=10)\n",
    "\n",
    "            print('第{}切块采用方案二,保存至{}'.format(f'{i:05d}',Synth_dir))\n",
    "            \n",
    "        else:\n",
    "            print('第{}切块采用方案二,结果cloudNUM={}不满足云去除要求'.format(f'{i:05d}',cloudNUM))\n",
    "            continue\n",
    "\"\"\"\n",
    "\n",
    "try:\n",
    "    run_cell(cell_content)\n",
    "except (ProxyError,UnboundLocalError):\n",
    "    print('Rerun')\n",
    "    run_cell(cell_content)"
   ]
  },
  {
   "cell_type": "code",
   "execution_count": 11,
   "id": "f1077a78",
   "metadata": {
    "ExecuteTime": {
     "end_time": "2023-02-27T14:53:49.237732Z",
     "start_time": "2023-02-27T14:39:24.446488Z"
    }
   },
   "outputs": [
    {
     "name": "stdout",
     "output_type": "stream",
     "text": [
      "第05702个切块已存在，跳过执行\n",
      "第05703个切块已存在，跳过执行\n",
      "第05704个切块已存在，跳过执行\n",
      "第05705个切块已存在，跳过执行\n",
      "第05706个切块已存在，跳过执行\n",
      "第05707个切块已存在，跳过执行\n",
      "第05708个切块已存在，跳过执行\n",
      "第05709个切块已存在，跳过执行\n",
      "第05710个切块已存在，跳过执行\n",
      "第05711个切块已存在，跳过执行\n",
      "第05712个切块已存在，跳过执行\n",
      "第05713个切块已存在，跳过执行\n",
      "第05714个切块已存在，跳过执行\n",
      "第05715个切块已存在，跳过执行\n",
      "第05716个切块已存在，跳过执行\n",
      "第05717个切块已存在，跳过执行\n",
      "第05718个切块已存在，跳过执行\n",
      "第05719个切块已存在，跳过执行\n",
      "第05720个切块已存在，跳过执行\n",
      "第05721个切块已存在，跳过执行\n",
      "第05722个切块已存在，跳过执行\n",
      "第05723个切块已存在，跳过执行\n",
      "第05724个切块已存在，跳过执行\n",
      "第05725个切块已存在，跳过执行\n",
      "第05726个切块已存在，跳过执行\n",
      "第05727个切块已存在，跳过执行\n",
      "H:\\GEE_S2Cloud_Dataset_02\\2020-06-01_2020-09-30\\Synth\\05728 创建成功\n",
      "star\n",
      "Generating URL ...\n",
      "Downloading data from https://earthengine.googleapis.com/v1alpha/projects/earthengine-legacy/thumbnails/33c7dbb873a331a519fcb3e9a95ada25-70e4942eebb0eedec4bda068a8d0dfd2:getPixels\n",
      "Please wait ...\n",
      "Data downloaded to H:\\GEE_S2Cloud_Dataset_02\\2020-06-01_2020-09-30\\Synth\\05728\n",
      "image save right\n",
      "Total number of images: 9\n",
      "\n",
      "Exporting 1/9: 20200612T041601_20200612T042815_T46RFV.tif\n",
      "Generating URL ...\n",
      "Downloading data from https://earthengine.googleapis.com/v1alpha/projects/earthengine-legacy/thumbnails/fbf8725f621ad5c5f5b63ffb6156715a-5f4b629c4a62b3275a0380f3183f74bb:getPixels\n",
      "Please wait ...\n",
      "Data downloaded to H:\\GEE_S2Cloud_Dataset_02\\2020-06-01_2020-09-30\\Synth\\05728\\20200612T041601_20200612T042815_T46RFV.tif\n",
      "\n",
      "\n",
      "Exporting 2/9: 20200727T041549_20200727T042908_T46RFV.tif\n",
      "Generating URL ...\n",
      "Downloading data from https://earthengine.googleapis.com/v1alpha/projects/earthengine-legacy/thumbnails/b752c8b742e35d616b176f8dc0591f11-64c0ce9d3f5b9aca2b9113c8db9de231:getPixels\n",
      "Please wait ...\n",
      "Data downloaded to H:\\GEE_S2Cloud_Dataset_02\\2020-06-01_2020-09-30\\Synth\\05728\\20200727T041549_20200727T042908_T46RFV.tif\n",
      "\n",
      "\n",
      "Exporting 3/9: 20200806T041549_20200806T041910_T46RFV.tif\n",
      "Generating URL ...\n",
      "Downloading data from https://earthengine.googleapis.com/v1alpha/projects/earthengine-legacy/thumbnails/65872c3b7d0d2e24cd975cb15a8b30e1-d9549d948dc9aadab6c719fd8d82ef09:getPixels\n",
      "Please wait ...\n",
      "Data downloaded to H:\\GEE_S2Cloud_Dataset_02\\2020-06-01_2020-09-30\\Synth\\05728\\20200806T041549_20200806T041910_T46RFV.tif\n",
      "\n",
      "\n",
      "Exporting 4/9: 20200821T041601_20200821T042626_T46RFV.tif\n",
      "Generating URL ...\n",
      "Downloading data from https://earthengine.googleapis.com/v1alpha/projects/earthengine-legacy/thumbnails/fec91d680e70d1a3797142eef28d1730-9c1594aacdb9f3db119879217b7c2671:getPixels\n",
      "Please wait ...\n",
      "Data downloaded to H:\\GEE_S2Cloud_Dataset_02\\2020-06-01_2020-09-30\\Synth\\05728\\20200821T041601_20200821T042626_T46RFV.tif\n",
      "\n",
      "\n",
      "Exporting 5/9: 20200826T041549_20200826T042222_T46RFV.tif\n",
      "Generating URL ...\n",
      "Downloading data from https://earthengine.googleapis.com/v1alpha/projects/earthengine-legacy/thumbnails/c61a8c373989afab1fff1bb766fafe30-c3fbde55be808730c39a89dd361fd57d:getPixels\n",
      "Please wait ...\n",
      "An error occurred while downloading.\n",
      "local variable 'r' referenced before assignment\n",
      "collection save right\n",
      "第05728切块采用方案二,保存至H:\\GEE_S2Cloud_Dataset_02\\2020-06-01_2020-09-30\\Synth\\05728\n",
      "H:\\GEE_S2Cloud_Dataset_02\\2020-06-01_2020-09-30\\Real\\05729 创建成功\n",
      "Generating URL ...\n",
      "Downloading data from https://earthengine.googleapis.com/v1alpha/projects/earthengine-legacy/thumbnails/148767ca44c49c564b634bb06739b5a5-f6603f25a915172bc3055f4b82115679:getPixels\n",
      "Please wait ...\n",
      "Data downloaded to H:\\GEE_S2Cloud_Dataset_02\\2020-06-01_2020-09-30\\Real\\05729\n",
      "image save right\n",
      "Total number of images: 18\n",
      "\n",
      "Exporting 1/18: 20200612T041601_20200612T042815_T46RFV.tif\n",
      "Generating URL ...\n",
      "Downloading data from https://earthengine.googleapis.com/v1alpha/projects/earthengine-legacy/thumbnails/659242c88f528f297d47ea9a15028a03-22f66f8ba2ccbcae2abd709ea9d68d83:getPixels\n",
      "Please wait ...\n",
      "Data downloaded to H:\\GEE_S2Cloud_Dataset_02\\2020-06-01_2020-09-30\\Real\\05729\\20200612T041601_20200612T042815_T46RFV.tif\n",
      "\n",
      "\n",
      "Exporting 2/18: 20200612T041601_20200612T042815_T46RGV.tif\n",
      "Generating URL ...\n",
      "Downloading data from https://earthengine.googleapis.com/v1alpha/projects/earthengine-legacy/thumbnails/cbea13a8b5304d43bb48fb0add5364d9-b136936f722364687e8e121ea7e8710e:getPixels\n",
      "Please wait ...\n",
      "Data downloaded to H:\\GEE_S2Cloud_Dataset_02\\2020-06-01_2020-09-30\\Real\\05729\\20200612T041601_20200612T042815_T46RGV.tif\n",
      "\n",
      "\n",
      "Exporting 3/18: 20200622T041601_20200622T041555_T46RGV.tif\n",
      "Generating URL ...\n",
      "Downloading data from https://earthengine.googleapis.com/v1alpha/projects/earthengine-legacy/thumbnails/8b5ea6006cfc362e498477411b1e3f51-6877ba011f9e7b418afd7ab436fe322a:getPixels\n",
      "Please wait ...\n",
      "Data downloaded to H:\\GEE_S2Cloud_Dataset_02\\2020-06-01_2020-09-30\\Real\\05729\\20200622T041601_20200622T041555_T46RGV.tif\n",
      "\n",
      "\n",
      "Exporting 4/18: 20200702T041551_20200702T041554_T46RGV.tif\n",
      "Generating URL ...\n",
      "Downloading data from https://earthengine.googleapis.com/v1alpha/projects/earthengine-legacy/thumbnails/d750351579aff1bb8d5d608ecb3dc1f8-798fdadb36cfee39272a243e63196b8b:getPixels\n",
      "Please wait ...\n",
      "An error occurred while downloading.\n",
      "local variable 'r' referenced before assignment\n",
      "collection save right\n",
      "第05729切块执行方案一，保存至H:\\GEE_S2Cloud_Dataset_02\\2020-06-01_2020-09-30\\Real\\05729\n",
      "H:\\GEE_S2Cloud_Dataset_02\\2020-06-01_2020-09-30\\Real\\05730 创建成功\n",
      "Generating URL ...\n",
      "Downloading data from https://earthengine.googleapis.com/v1alpha/projects/earthengine-legacy/thumbnails/a73471576d690ed00b95a947cb8b9912-fca24b37814e567c0d88efa110ac35d1:getPixels\n",
      "Please wait ...\n",
      "Data downloaded to H:\\GEE_S2Cloud_Dataset_02\\2020-06-01_2020-09-30\\Real\\05730\n",
      "image save right\n",
      "Total number of images: 9\n",
      "\n",
      "Exporting 1/9: 20200612T041601_20200612T042815_T46RGV.tif\n",
      "Generating URL ...\n",
      "Downloading data from https://earthengine.googleapis.com/v1alpha/projects/earthengine-legacy/thumbnails/b63f66088f8c5fd564093117a6f3b27e-a3595c4e8311b51824e826af5d279de6:getPixels\n",
      "Please wait ...\n",
      "Data downloaded to H:\\GEE_S2Cloud_Dataset_02\\2020-06-01_2020-09-30\\Real\\05730\\20200612T041601_20200612T042815_T46RGV.tif\n",
      "\n",
      "\n",
      "Exporting 2/9: 20200622T041601_20200622T041555_T46RGV.tif\n",
      "Generating URL ...\n",
      "Downloading data from https://earthengine.googleapis.com/v1alpha/projects/earthengine-legacy/thumbnails/cd21498611e48868fb9e39cf536aecc6-138e68bea243ce0870ab9de38f34a015:getPixels\n",
      "Please wait ...\n",
      "Data downloaded to H:\\GEE_S2Cloud_Dataset_02\\2020-06-01_2020-09-30\\Real\\05730\\20200622T041601_20200622T041555_T46RGV.tif\n",
      "\n",
      "\n",
      "Exporting 3/9: 20200702T041551_20200702T041554_T46RGV.tif\n",
      "Generating URL ...\n",
      "Downloading data from https://earthengine.googleapis.com/v1alpha/projects/earthengine-legacy/thumbnails/69a5d5de92a87bf5f64992a6d13dd1e9-cb2bd690698ed7388aa12a4cf1ec5019:getPixels\n",
      "Please wait ...\n",
      "Data downloaded to H:\\GEE_S2Cloud_Dataset_02\\2020-06-01_2020-09-30\\Real\\05730\\20200702T041551_20200702T041554_T46RGV.tif\n",
      "\n",
      "\n",
      "Exporting 4/9: 20200727T041549_20200727T042908_T46RGV.tif\n",
      "Generating URL ...\n",
      "Downloading data from https://earthengine.googleapis.com/v1alpha/projects/earthengine-legacy/thumbnails/cc8cb3b3c08ed1c7360100e93e45f69d-7bb32ad9d6c6c70bd2846e39b7922c6e:getPixels\n",
      "Please wait ...\n",
      "An error occurred while downloading.\n",
      "local variable 'r' referenced before assignment\n",
      "collection save right\n",
      "第05730切块执行方案一，保存至H:\\GEE_S2Cloud_Dataset_02\\2020-06-01_2020-09-30\\Real\\05730\n"
     ]
    },
    {
     "ename": "KeyboardInterrupt",
     "evalue": "",
     "output_type": "error",
     "traceback": [
      "\u001b[1;31m---------------------------------------------------------------------------\u001b[0m",
      "\u001b[1;31mKeyboardInterrupt\u001b[0m                         Traceback (most recent call last)",
      "\u001b[1;32mC:\\Users\\ADMINI~1\\AppData\\Local\\Temp/ipykernel_2944/2845744950.py\u001b[0m in \u001b[0;36m<module>\u001b[1;34m\u001b[0m\n\u001b[0;32m     21\u001b[0m     \u001b[0ms2_sr_cld_col_list\u001b[0m \u001b[1;33m=\u001b[0m \u001b[0ms2_sr_cld_col_disp\u001b[0m\u001b[1;33m.\u001b[0m\u001b[0mtoList\u001b[0m\u001b[1;33m(\u001b[0m\u001b[0ms2_sr_cld_col_disp\u001b[0m\u001b[1;33m.\u001b[0m\u001b[0msize\u001b[0m\u001b[1;33m(\u001b[0m\u001b[1;33m)\u001b[0m\u001b[1;33m)\u001b[0m\u001b[1;33m\u001b[0m\u001b[1;33m\u001b[0m\u001b[0m\n\u001b[0;32m     22\u001b[0m     \u001b[1;31m# 计算AOI区段的云量\u001b[0m\u001b[1;33m\u001b[0m\u001b[1;33m\u001b[0m\u001b[0m\n\u001b[1;32m---> 23\u001b[1;33m     \u001b[0mcloud_count_dict\u001b[0m \u001b[1;33m=\u001b[0m \u001b[0ms2_sr_cld_col_disp\u001b[0m\u001b[1;33m.\u001b[0m\u001b[0mmap\u001b[0m\u001b[1;33m(\u001b[0m\u001b[0mpartial\u001b[0m\u001b[1;33m(\u001b[0m\u001b[0mcloud_sum\u001b[0m\u001b[1;33m,\u001b[0m\u001b[0mAOI\u001b[0m\u001b[1;33m=\u001b[0m\u001b[0mAOI\u001b[0m\u001b[1;33m)\u001b[0m\u001b[1;33m)\u001b[0m\u001b[1;33m.\u001b[0m\u001b[0maggregate_array\u001b[0m\u001b[1;33m(\u001b[0m\u001b[1;34m'cloud_count'\u001b[0m\u001b[1;33m)\u001b[0m\u001b[1;33m.\u001b[0m\u001b[0mgetInfo\u001b[0m\u001b[1;33m(\u001b[0m\u001b[1;33m)\u001b[0m\u001b[1;33m\u001b[0m\u001b[1;33m\u001b[0m\u001b[0m\n\u001b[0m\u001b[0;32m     24\u001b[0m     \u001b[0mcloud_count_list\u001b[0m \u001b[1;33m=\u001b[0m \u001b[0mnp\u001b[0m\u001b[1;33m.\u001b[0m\u001b[0marray\u001b[0m\u001b[1;33m(\u001b[0m\u001b[1;33m[\u001b[0m\u001b[1;36m1\u001b[0m \u001b[1;32mif\u001b[0m \u001b[0mitem\u001b[0m\u001b[1;33m.\u001b[0m\u001b[0mget\u001b[0m\u001b[1;33m(\u001b[0m\u001b[1;34m'clouds'\u001b[0m\u001b[1;33m)\u001b[0m\u001b[1;33m>\u001b[0m\u001b[0mTolerance_cloudPix\u001b[0m \u001b[1;32melse\u001b[0m \u001b[1;36m0\u001b[0m \u001b[1;32mfor\u001b[0m \u001b[0mitem\u001b[0m \u001b[1;32min\u001b[0m \u001b[0mcloud_count_dict\u001b[0m\u001b[1;33m]\u001b[0m\u001b[1;33m)\u001b[0m\u001b[1;33m\u001b[0m\u001b[1;33m\u001b[0m\u001b[0m\n\u001b[0;32m     25\u001b[0m \u001b[1;33m\u001b[0m\u001b[0m\n",
      "\u001b[1;32mD:\\Wrz\\anaconda\\envs\\GEE\\lib\\site-packages\\ee\\computedobject.py\u001b[0m in \u001b[0;36mgetInfo\u001b[1;34m(self)\u001b[0m\n\u001b[0;32m     96\u001b[0m       \u001b[0mThe\u001b[0m \u001b[0mobject\u001b[0m \u001b[0mcan\u001b[0m \u001b[0mevaluate\u001b[0m \u001b[0mto\u001b[0m \u001b[0manything\u001b[0m\u001b[1;33m.\u001b[0m\u001b[1;33m\u001b[0m\u001b[1;33m\u001b[0m\u001b[0m\n\u001b[0;32m     97\u001b[0m     \"\"\"\n\u001b[1;32m---> 98\u001b[1;33m     \u001b[1;32mreturn\u001b[0m \u001b[0mdata\u001b[0m\u001b[1;33m.\u001b[0m\u001b[0mcomputeValue\u001b[0m\u001b[1;33m(\u001b[0m\u001b[0mself\u001b[0m\u001b[1;33m)\u001b[0m\u001b[1;33m\u001b[0m\u001b[1;33m\u001b[0m\u001b[0m\n\u001b[0m\u001b[0;32m     99\u001b[0m \u001b[1;33m\u001b[0m\u001b[0m\n\u001b[0;32m    100\u001b[0m   \u001b[1;32mdef\u001b[0m \u001b[0mencode\u001b[0m\u001b[1;33m(\u001b[0m\u001b[0mself\u001b[0m\u001b[1;33m,\u001b[0m \u001b[0mencoder\u001b[0m\u001b[1;33m)\u001b[0m\u001b[1;33m:\u001b[0m\u001b[1;33m\u001b[0m\u001b[1;33m\u001b[0m\u001b[0m\n",
      "\u001b[1;32mD:\\Wrz\\anaconda\\envs\\GEE\\lib\\site-packages\\ee\\data.py\u001b[0m in \u001b[0;36mcomputeValue\u001b[1;34m(obj)\u001b[0m\n\u001b[0;32m    736\u001b[0m     \u001b[0mbody\u001b[0m\u001b[1;33m[\u001b[0m\u001b[1;34m'workloadTag'\u001b[0m\u001b[1;33m]\u001b[0m \u001b[1;33m=\u001b[0m \u001b[0mworkload_tag\u001b[0m\u001b[1;33m\u001b[0m\u001b[1;33m\u001b[0m\u001b[0m\n\u001b[0;32m    737\u001b[0m \u001b[1;33m\u001b[0m\u001b[0m\n\u001b[1;32m--> 738\u001b[1;33m   return _execute_cloud_call(\n\u001b[0m\u001b[0;32m    739\u001b[0m       _get_cloud_api_resource().projects().value().compute(\n\u001b[0;32m    740\u001b[0m           \u001b[0mbody\u001b[0m\u001b[1;33m=\u001b[0m\u001b[0mbody\u001b[0m\u001b[1;33m,\u001b[0m\u001b[1;33m\u001b[0m\u001b[1;33m\u001b[0m\u001b[0m\n",
      "\u001b[1;32mD:\\Wrz\\anaconda\\envs\\GEE\\lib\\site-packages\\ee\\data.py\u001b[0m in \u001b[0;36m_execute_cloud_call\u001b[1;34m(call, num_retries)\u001b[0m\n\u001b[0;32m    326\u001b[0m   \"\"\"\n\u001b[0;32m    327\u001b[0m   \u001b[1;32mtry\u001b[0m\u001b[1;33m:\u001b[0m\u001b[1;33m\u001b[0m\u001b[1;33m\u001b[0m\u001b[0m\n\u001b[1;32m--> 328\u001b[1;33m     \u001b[1;32mreturn\u001b[0m \u001b[0mcall\u001b[0m\u001b[1;33m.\u001b[0m\u001b[0mexecute\u001b[0m\u001b[1;33m(\u001b[0m\u001b[0mnum_retries\u001b[0m\u001b[1;33m=\u001b[0m\u001b[0mnum_retries\u001b[0m\u001b[1;33m)\u001b[0m\u001b[1;33m\u001b[0m\u001b[1;33m\u001b[0m\u001b[0m\n\u001b[0m\u001b[0;32m    329\u001b[0m   \u001b[1;32mexcept\u001b[0m \u001b[0mgoogleapiclient\u001b[0m\u001b[1;33m.\u001b[0m\u001b[0merrors\u001b[0m\u001b[1;33m.\u001b[0m\u001b[0mHttpError\u001b[0m \u001b[1;32mas\u001b[0m \u001b[0me\u001b[0m\u001b[1;33m:\u001b[0m\u001b[1;33m\u001b[0m\u001b[1;33m\u001b[0m\u001b[0m\n\u001b[0;32m    330\u001b[0m     \u001b[1;32mraise\u001b[0m \u001b[0m_translate_cloud_exception\u001b[0m\u001b[1;33m(\u001b[0m\u001b[0me\u001b[0m\u001b[1;33m)\u001b[0m\u001b[1;33m\u001b[0m\u001b[1;33m\u001b[0m\u001b[0m\n",
      "\u001b[1;32mD:\\Wrz\\anaconda\\envs\\GEE\\lib\\site-packages\\googleapiclient\\_helpers.py\u001b[0m in \u001b[0;36mpositional_wrapper\u001b[1;34m(*args, **kwargs)\u001b[0m\n\u001b[0;32m    132\u001b[0m                 \u001b[1;32melif\u001b[0m \u001b[0mpositional_parameters_enforcement\u001b[0m \u001b[1;33m==\u001b[0m \u001b[0mPOSITIONAL_WARNING\u001b[0m\u001b[1;33m:\u001b[0m\u001b[1;33m\u001b[0m\u001b[1;33m\u001b[0m\u001b[0m\n\u001b[0;32m    133\u001b[0m                     \u001b[0mlogger\u001b[0m\u001b[1;33m.\u001b[0m\u001b[0mwarning\u001b[0m\u001b[1;33m(\u001b[0m\u001b[0mmessage\u001b[0m\u001b[1;33m)\u001b[0m\u001b[1;33m\u001b[0m\u001b[1;33m\u001b[0m\u001b[0m\n\u001b[1;32m--> 134\u001b[1;33m             \u001b[1;32mreturn\u001b[0m \u001b[0mwrapped\u001b[0m\u001b[1;33m(\u001b[0m\u001b[1;33m*\u001b[0m\u001b[0margs\u001b[0m\u001b[1;33m,\u001b[0m \u001b[1;33m**\u001b[0m\u001b[0mkwargs\u001b[0m\u001b[1;33m)\u001b[0m\u001b[1;33m\u001b[0m\u001b[1;33m\u001b[0m\u001b[0m\n\u001b[0m\u001b[0;32m    135\u001b[0m \u001b[1;33m\u001b[0m\u001b[0m\n\u001b[0;32m    136\u001b[0m         \u001b[1;32mreturn\u001b[0m \u001b[0mpositional_wrapper\u001b[0m\u001b[1;33m\u001b[0m\u001b[1;33m\u001b[0m\u001b[0m\n",
      "\u001b[1;32mD:\\Wrz\\anaconda\\envs\\GEE\\lib\\site-packages\\googleapiclient\\http.py\u001b[0m in \u001b[0;36mexecute\u001b[1;34m(self, http, num_retries)\u001b[0m\n\u001b[0;32m    898\u001b[0m \u001b[1;33m\u001b[0m\u001b[0m\n\u001b[0;32m    899\u001b[0m         \u001b[1;31m# Handle retries for server-side errors.\u001b[0m\u001b[1;33m\u001b[0m\u001b[1;33m\u001b[0m\u001b[0m\n\u001b[1;32m--> 900\u001b[1;33m         resp, content = _retry_request(\n\u001b[0m\u001b[0;32m    901\u001b[0m             \u001b[0mhttp\u001b[0m\u001b[1;33m,\u001b[0m\u001b[1;33m\u001b[0m\u001b[1;33m\u001b[0m\u001b[0m\n\u001b[0;32m    902\u001b[0m             \u001b[0mnum_retries\u001b[0m\u001b[1;33m,\u001b[0m\u001b[1;33m\u001b[0m\u001b[1;33m\u001b[0m\u001b[0m\n",
      "\u001b[1;32mD:\\Wrz\\anaconda\\envs\\GEE\\lib\\site-packages\\googleapiclient\\http.py\u001b[0m in \u001b[0;36m_retry_request\u001b[1;34m(http, num_retries, req_type, sleep, rand, uri, method, *args, **kwargs)\u001b[0m\n\u001b[0;32m    175\u001b[0m         \u001b[1;32mtry\u001b[0m\u001b[1;33m:\u001b[0m\u001b[1;33m\u001b[0m\u001b[1;33m\u001b[0m\u001b[0m\n\u001b[0;32m    176\u001b[0m             \u001b[0mexception\u001b[0m \u001b[1;33m=\u001b[0m \u001b[1;32mNone\u001b[0m\u001b[1;33m\u001b[0m\u001b[1;33m\u001b[0m\u001b[0m\n\u001b[1;32m--> 177\u001b[1;33m             \u001b[0mresp\u001b[0m\u001b[1;33m,\u001b[0m \u001b[0mcontent\u001b[0m \u001b[1;33m=\u001b[0m \u001b[0mhttp\u001b[0m\u001b[1;33m.\u001b[0m\u001b[0mrequest\u001b[0m\u001b[1;33m(\u001b[0m\u001b[0muri\u001b[0m\u001b[1;33m,\u001b[0m \u001b[0mmethod\u001b[0m\u001b[1;33m,\u001b[0m \u001b[1;33m*\u001b[0m\u001b[0margs\u001b[0m\u001b[1;33m,\u001b[0m \u001b[1;33m**\u001b[0m\u001b[0mkwargs\u001b[0m\u001b[1;33m)\u001b[0m\u001b[1;33m\u001b[0m\u001b[1;33m\u001b[0m\u001b[0m\n\u001b[0m\u001b[0;32m    178\u001b[0m         \u001b[1;31m# Retry on SSL errors and socket timeout errors.\u001b[0m\u001b[1;33m\u001b[0m\u001b[1;33m\u001b[0m\u001b[0m\n\u001b[0;32m    179\u001b[0m         \u001b[1;32mexcept\u001b[0m \u001b[0m_ssl_SSLError\u001b[0m \u001b[1;32mas\u001b[0m \u001b[0mssl_error\u001b[0m\u001b[1;33m:\u001b[0m\u001b[1;33m\u001b[0m\u001b[1;33m\u001b[0m\u001b[0m\n",
      "\u001b[1;32mD:\\Wrz\\anaconda\\envs\\GEE\\lib\\site-packages\\google_auth_httplib2.py\u001b[0m in \u001b[0;36mrequest\u001b[1;34m(self, uri, method, body, headers, redirections, connection_type, **kwargs)\u001b[0m\n\u001b[0;32m    216\u001b[0m \u001b[1;33m\u001b[0m\u001b[0m\n\u001b[0;32m    217\u001b[0m         \u001b[1;31m# Make the request.\u001b[0m\u001b[1;33m\u001b[0m\u001b[1;33m\u001b[0m\u001b[0m\n\u001b[1;32m--> 218\u001b[1;33m         response, content = self.http.request(\n\u001b[0m\u001b[0;32m    219\u001b[0m             \u001b[0muri\u001b[0m\u001b[1;33m,\u001b[0m\u001b[1;33m\u001b[0m\u001b[1;33m\u001b[0m\u001b[0m\n\u001b[0;32m    220\u001b[0m             \u001b[0mmethod\u001b[0m\u001b[1;33m,\u001b[0m\u001b[1;33m\u001b[0m\u001b[1;33m\u001b[0m\u001b[0m\n",
      "\u001b[1;32mD:\\Wrz\\anaconda\\envs\\GEE\\lib\\site-packages\\httplib2\\__init__.py\u001b[0m in \u001b[0;36mrequest\u001b[1;34m(self, uri, method, body, headers, redirections, connection_type)\u001b[0m\n\u001b[0;32m   1699\u001b[0m                     \u001b[0mcontent\u001b[0m \u001b[1;33m=\u001b[0m \u001b[1;34mb\"\"\u001b[0m\u001b[1;33m\u001b[0m\u001b[1;33m\u001b[0m\u001b[0m\n\u001b[0;32m   1700\u001b[0m                 \u001b[1;32melse\u001b[0m\u001b[1;33m:\u001b[0m\u001b[1;33m\u001b[0m\u001b[1;33m\u001b[0m\u001b[0m\n\u001b[1;32m-> 1701\u001b[1;33m                     (response, content) = self._request(\n\u001b[0m\u001b[0;32m   1702\u001b[0m                         \u001b[0mconn\u001b[0m\u001b[1;33m,\u001b[0m \u001b[0mauthority\u001b[0m\u001b[1;33m,\u001b[0m \u001b[0muri\u001b[0m\u001b[1;33m,\u001b[0m \u001b[0mrequest_uri\u001b[0m\u001b[1;33m,\u001b[0m \u001b[0mmethod\u001b[0m\u001b[1;33m,\u001b[0m \u001b[0mbody\u001b[0m\u001b[1;33m,\u001b[0m \u001b[0mheaders\u001b[0m\u001b[1;33m,\u001b[0m \u001b[0mredirections\u001b[0m\u001b[1;33m,\u001b[0m \u001b[0mcachekey\u001b[0m\u001b[1;33m,\u001b[0m\u001b[1;33m\u001b[0m\u001b[1;33m\u001b[0m\u001b[0m\n\u001b[0;32m   1703\u001b[0m                     )\n",
      "\u001b[1;32mD:\\Wrz\\anaconda\\envs\\GEE\\lib\\site-packages\\httplib2\\__init__.py\u001b[0m in \u001b[0;36m_request\u001b[1;34m(self, conn, host, absolute_uri, request_uri, method, body, headers, redirections, cachekey)\u001b[0m\n\u001b[0;32m   1419\u001b[0m             \u001b[0mauth\u001b[0m\u001b[1;33m.\u001b[0m\u001b[0mrequest\u001b[0m\u001b[1;33m(\u001b[0m\u001b[0mmethod\u001b[0m\u001b[1;33m,\u001b[0m \u001b[0mrequest_uri\u001b[0m\u001b[1;33m,\u001b[0m \u001b[0mheaders\u001b[0m\u001b[1;33m,\u001b[0m \u001b[0mbody\u001b[0m\u001b[1;33m)\u001b[0m\u001b[1;33m\u001b[0m\u001b[1;33m\u001b[0m\u001b[0m\n\u001b[0;32m   1420\u001b[0m \u001b[1;33m\u001b[0m\u001b[0m\n\u001b[1;32m-> 1421\u001b[1;33m         \u001b[1;33m(\u001b[0m\u001b[0mresponse\u001b[0m\u001b[1;33m,\u001b[0m \u001b[0mcontent\u001b[0m\u001b[1;33m)\u001b[0m \u001b[1;33m=\u001b[0m \u001b[0mself\u001b[0m\u001b[1;33m.\u001b[0m\u001b[0m_conn_request\u001b[0m\u001b[1;33m(\u001b[0m\u001b[0mconn\u001b[0m\u001b[1;33m,\u001b[0m \u001b[0mrequest_uri\u001b[0m\u001b[1;33m,\u001b[0m \u001b[0mmethod\u001b[0m\u001b[1;33m,\u001b[0m \u001b[0mbody\u001b[0m\u001b[1;33m,\u001b[0m \u001b[0mheaders\u001b[0m\u001b[1;33m)\u001b[0m\u001b[1;33m\u001b[0m\u001b[1;33m\u001b[0m\u001b[0m\n\u001b[0m\u001b[0;32m   1422\u001b[0m \u001b[1;33m\u001b[0m\u001b[0m\n\u001b[0;32m   1423\u001b[0m         \u001b[1;32mif\u001b[0m \u001b[0mauth\u001b[0m\u001b[1;33m:\u001b[0m\u001b[1;33m\u001b[0m\u001b[1;33m\u001b[0m\u001b[0m\n",
      "\u001b[1;32mD:\\Wrz\\anaconda\\envs\\GEE\\lib\\site-packages\\httplib2shim\\__init__.py\u001b[0m in \u001b[0;36m_conn_request\u001b[1;34m(self, conn, request_uri, method, body, headers)\u001b[0m\n\u001b[0;32m    138\u001b[0m \u001b[1;33m\u001b[0m\u001b[0m\n\u001b[0;32m    139\u001b[0m         \u001b[1;32mtry\u001b[0m\u001b[1;33m:\u001b[0m\u001b[1;33m\u001b[0m\u001b[1;33m\u001b[0m\u001b[0m\n\u001b[1;32m--> 140\u001b[1;33m             urllib3_response = self.pool.request(\n\u001b[0m\u001b[0;32m    141\u001b[0m                 \u001b[0mmethod\u001b[0m\u001b[1;33m,\u001b[0m\u001b[1;33m\u001b[0m\u001b[1;33m\u001b[0m\u001b[0m\n\u001b[0;32m    142\u001b[0m                 \u001b[0mfull_uri\u001b[0m\u001b[1;33m,\u001b[0m\u001b[1;33m\u001b[0m\u001b[1;33m\u001b[0m\u001b[0m\n",
      "\u001b[1;32mD:\\Wrz\\anaconda\\envs\\GEE\\lib\\site-packages\\urllib3\\request.py\u001b[0m in \u001b[0;36mrequest\u001b[1;34m(self, method, url, fields, headers, **urlopen_kw)\u001b[0m\n\u001b[0;32m     77\u001b[0m             )\n\u001b[0;32m     78\u001b[0m         \u001b[1;32melse\u001b[0m\u001b[1;33m:\u001b[0m\u001b[1;33m\u001b[0m\u001b[1;33m\u001b[0m\u001b[0m\n\u001b[1;32m---> 79\u001b[1;33m             return self.request_encode_body(\n\u001b[0m\u001b[0;32m     80\u001b[0m                 \u001b[0mmethod\u001b[0m\u001b[1;33m,\u001b[0m \u001b[0murl\u001b[0m\u001b[1;33m,\u001b[0m \u001b[0mfields\u001b[0m\u001b[1;33m=\u001b[0m\u001b[0mfields\u001b[0m\u001b[1;33m,\u001b[0m \u001b[0mheaders\u001b[0m\u001b[1;33m=\u001b[0m\u001b[0mheaders\u001b[0m\u001b[1;33m,\u001b[0m \u001b[1;33m**\u001b[0m\u001b[0murlopen_kw\u001b[0m\u001b[1;33m\u001b[0m\u001b[1;33m\u001b[0m\u001b[0m\n\u001b[0;32m     81\u001b[0m             )\n",
      "\u001b[1;32mD:\\Wrz\\anaconda\\envs\\GEE\\lib\\site-packages\\urllib3\\request.py\u001b[0m in \u001b[0;36mrequest_encode_body\u001b[1;34m(self, method, url, fields, headers, encode_multipart, multipart_boundary, **urlopen_kw)\u001b[0m\n\u001b[0;32m    169\u001b[0m         \u001b[0mextra_kw\u001b[0m\u001b[1;33m.\u001b[0m\u001b[0mupdate\u001b[0m\u001b[1;33m(\u001b[0m\u001b[0murlopen_kw\u001b[0m\u001b[1;33m)\u001b[0m\u001b[1;33m\u001b[0m\u001b[1;33m\u001b[0m\u001b[0m\n\u001b[0;32m    170\u001b[0m \u001b[1;33m\u001b[0m\u001b[0m\n\u001b[1;32m--> 171\u001b[1;33m         \u001b[1;32mreturn\u001b[0m \u001b[0mself\u001b[0m\u001b[1;33m.\u001b[0m\u001b[0murlopen\u001b[0m\u001b[1;33m(\u001b[0m\u001b[0mmethod\u001b[0m\u001b[1;33m,\u001b[0m \u001b[0murl\u001b[0m\u001b[1;33m,\u001b[0m \u001b[1;33m**\u001b[0m\u001b[0mextra_kw\u001b[0m\u001b[1;33m)\u001b[0m\u001b[1;33m\u001b[0m\u001b[1;33m\u001b[0m\u001b[0m\n\u001b[0m",
      "\u001b[1;32mD:\\Wrz\\anaconda\\envs\\GEE\\lib\\site-packages\\urllib3\\poolmanager.py\u001b[0m in \u001b[0;36murlopen\u001b[1;34m(self, method, url, redirect, **kw)\u001b[0m\n\u001b[0;32m    486\u001b[0m             \u001b[0mkw\u001b[0m\u001b[1;33m[\u001b[0m\u001b[1;34m\"headers\"\u001b[0m\u001b[1;33m]\u001b[0m \u001b[1;33m=\u001b[0m \u001b[0mself\u001b[0m\u001b[1;33m.\u001b[0m\u001b[0m_set_proxy_headers\u001b[0m\u001b[1;33m(\u001b[0m\u001b[0murl\u001b[0m\u001b[1;33m,\u001b[0m \u001b[0mheaders\u001b[0m\u001b[1;33m)\u001b[0m\u001b[1;33m\u001b[0m\u001b[1;33m\u001b[0m\u001b[0m\n\u001b[0;32m    487\u001b[0m \u001b[1;33m\u001b[0m\u001b[0m\n\u001b[1;32m--> 488\u001b[1;33m         \u001b[1;32mreturn\u001b[0m \u001b[0msuper\u001b[0m\u001b[1;33m(\u001b[0m\u001b[0mProxyManager\u001b[0m\u001b[1;33m,\u001b[0m \u001b[0mself\u001b[0m\u001b[1;33m)\u001b[0m\u001b[1;33m.\u001b[0m\u001b[0murlopen\u001b[0m\u001b[1;33m(\u001b[0m\u001b[0mmethod\u001b[0m\u001b[1;33m,\u001b[0m \u001b[0murl\u001b[0m\u001b[1;33m,\u001b[0m \u001b[0mredirect\u001b[0m\u001b[1;33m=\u001b[0m\u001b[0mredirect\u001b[0m\u001b[1;33m,\u001b[0m \u001b[1;33m**\u001b[0m\u001b[0mkw\u001b[0m\u001b[1;33m)\u001b[0m\u001b[1;33m\u001b[0m\u001b[1;33m\u001b[0m\u001b[0m\n\u001b[0m\u001b[0;32m    489\u001b[0m \u001b[1;33m\u001b[0m\u001b[0m\n\u001b[0;32m    490\u001b[0m \u001b[1;33m\u001b[0m\u001b[0m\n",
      "\u001b[1;32mD:\\Wrz\\anaconda\\envs\\GEE\\lib\\site-packages\\urllib3\\poolmanager.py\u001b[0m in \u001b[0;36murlopen\u001b[1;34m(self, method, url, redirect, **kw)\u001b[0m\n\u001b[0;32m    334\u001b[0m             \u001b[0mresponse\u001b[0m \u001b[1;33m=\u001b[0m \u001b[0mconn\u001b[0m\u001b[1;33m.\u001b[0m\u001b[0murlopen\u001b[0m\u001b[1;33m(\u001b[0m\u001b[0mmethod\u001b[0m\u001b[1;33m,\u001b[0m \u001b[0murl\u001b[0m\u001b[1;33m,\u001b[0m \u001b[1;33m**\u001b[0m\u001b[0mkw\u001b[0m\u001b[1;33m)\u001b[0m\u001b[1;33m\u001b[0m\u001b[1;33m\u001b[0m\u001b[0m\n\u001b[0;32m    335\u001b[0m         \u001b[1;32melse\u001b[0m\u001b[1;33m:\u001b[0m\u001b[1;33m\u001b[0m\u001b[1;33m\u001b[0m\u001b[0m\n\u001b[1;32m--> 336\u001b[1;33m             \u001b[0mresponse\u001b[0m \u001b[1;33m=\u001b[0m \u001b[0mconn\u001b[0m\u001b[1;33m.\u001b[0m\u001b[0murlopen\u001b[0m\u001b[1;33m(\u001b[0m\u001b[0mmethod\u001b[0m\u001b[1;33m,\u001b[0m \u001b[0mu\u001b[0m\u001b[1;33m.\u001b[0m\u001b[0mrequest_uri\u001b[0m\u001b[1;33m,\u001b[0m \u001b[1;33m**\u001b[0m\u001b[0mkw\u001b[0m\u001b[1;33m)\u001b[0m\u001b[1;33m\u001b[0m\u001b[1;33m\u001b[0m\u001b[0m\n\u001b[0m\u001b[0;32m    337\u001b[0m \u001b[1;33m\u001b[0m\u001b[0m\n\u001b[0;32m    338\u001b[0m         \u001b[0mredirect_location\u001b[0m \u001b[1;33m=\u001b[0m \u001b[0mredirect\u001b[0m \u001b[1;32mand\u001b[0m \u001b[0mresponse\u001b[0m\u001b[1;33m.\u001b[0m\u001b[0mget_redirect_location\u001b[0m\u001b[1;33m(\u001b[0m\u001b[1;33m)\u001b[0m\u001b[1;33m\u001b[0m\u001b[1;33m\u001b[0m\u001b[0m\n",
      "\u001b[1;32mD:\\Wrz\\anaconda\\envs\\GEE\\lib\\site-packages\\urllib3\\connectionpool.py\u001b[0m in \u001b[0;36murlopen\u001b[1;34m(self, method, url, body, headers, retries, redirect, assert_same_host, timeout, pool_timeout, release_conn, chunked, body_pos, **response_kw)\u001b[0m\n\u001b[0;32m    668\u001b[0m \u001b[1;33m\u001b[0m\u001b[0m\n\u001b[0;32m    669\u001b[0m             \u001b[1;31m# Make the request on the httplib connection object.\u001b[0m\u001b[1;33m\u001b[0m\u001b[1;33m\u001b[0m\u001b[0m\n\u001b[1;32m--> 670\u001b[1;33m             httplib_response = self._make_request(\n\u001b[0m\u001b[0;32m    671\u001b[0m                 \u001b[0mconn\u001b[0m\u001b[1;33m,\u001b[0m\u001b[1;33m\u001b[0m\u001b[1;33m\u001b[0m\u001b[0m\n\u001b[0;32m    672\u001b[0m                 \u001b[0mmethod\u001b[0m\u001b[1;33m,\u001b[0m\u001b[1;33m\u001b[0m\u001b[1;33m\u001b[0m\u001b[0m\n",
      "\u001b[1;32mD:\\Wrz\\anaconda\\envs\\GEE\\lib\\site-packages\\urllib3\\connectionpool.py\u001b[0m in \u001b[0;36m_make_request\u001b[1;34m(self, conn, method, url, timeout, chunked, **httplib_request_kw)\u001b[0m\n\u001b[0;32m    424\u001b[0m                     \u001b[1;31m# Python 3 (including for exceptions like SystemExit).\u001b[0m\u001b[1;33m\u001b[0m\u001b[1;33m\u001b[0m\u001b[0m\n\u001b[0;32m    425\u001b[0m                     \u001b[1;31m# Otherwise it looks like a bug in the code.\u001b[0m\u001b[1;33m\u001b[0m\u001b[1;33m\u001b[0m\u001b[0m\n\u001b[1;32m--> 426\u001b[1;33m                     \u001b[0msix\u001b[0m\u001b[1;33m.\u001b[0m\u001b[0mraise_from\u001b[0m\u001b[1;33m(\u001b[0m\u001b[0me\u001b[0m\u001b[1;33m,\u001b[0m \u001b[1;32mNone\u001b[0m\u001b[1;33m)\u001b[0m\u001b[1;33m\u001b[0m\u001b[1;33m\u001b[0m\u001b[0m\n\u001b[0m\u001b[0;32m    427\u001b[0m         \u001b[1;32mexcept\u001b[0m \u001b[1;33m(\u001b[0m\u001b[0mSocketTimeout\u001b[0m\u001b[1;33m,\u001b[0m \u001b[0mBaseSSLError\u001b[0m\u001b[1;33m,\u001b[0m \u001b[0mSocketError\u001b[0m\u001b[1;33m)\u001b[0m \u001b[1;32mas\u001b[0m \u001b[0me\u001b[0m\u001b[1;33m:\u001b[0m\u001b[1;33m\u001b[0m\u001b[1;33m\u001b[0m\u001b[0m\n\u001b[0;32m    428\u001b[0m             \u001b[0mself\u001b[0m\u001b[1;33m.\u001b[0m\u001b[0m_raise_timeout\u001b[0m\u001b[1;33m(\u001b[0m\u001b[0merr\u001b[0m\u001b[1;33m=\u001b[0m\u001b[0me\u001b[0m\u001b[1;33m,\u001b[0m \u001b[0murl\u001b[0m\u001b[1;33m=\u001b[0m\u001b[0murl\u001b[0m\u001b[1;33m,\u001b[0m \u001b[0mtimeout_value\u001b[0m\u001b[1;33m=\u001b[0m\u001b[0mread_timeout\u001b[0m\u001b[1;33m)\u001b[0m\u001b[1;33m\u001b[0m\u001b[1;33m\u001b[0m\u001b[0m\n",
      "\u001b[1;32mD:\\Wrz\\anaconda\\envs\\GEE\\lib\\site-packages\\urllib3\\packages\\six.py\u001b[0m in \u001b[0;36mraise_from\u001b[1;34m(value, from_value)\u001b[0m\n",
      "\u001b[1;32mD:\\Wrz\\anaconda\\envs\\GEE\\lib\\site-packages\\urllib3\\connectionpool.py\u001b[0m in \u001b[0;36m_make_request\u001b[1;34m(self, conn, method, url, timeout, chunked, **httplib_request_kw)\u001b[0m\n\u001b[0;32m    419\u001b[0m                 \u001b[1;31m# Python 3\u001b[0m\u001b[1;33m\u001b[0m\u001b[1;33m\u001b[0m\u001b[0m\n\u001b[0;32m    420\u001b[0m                 \u001b[1;32mtry\u001b[0m\u001b[1;33m:\u001b[0m\u001b[1;33m\u001b[0m\u001b[1;33m\u001b[0m\u001b[0m\n\u001b[1;32m--> 421\u001b[1;33m                     \u001b[0mhttplib_response\u001b[0m \u001b[1;33m=\u001b[0m \u001b[0mconn\u001b[0m\u001b[1;33m.\u001b[0m\u001b[0mgetresponse\u001b[0m\u001b[1;33m(\u001b[0m\u001b[1;33m)\u001b[0m\u001b[1;33m\u001b[0m\u001b[1;33m\u001b[0m\u001b[0m\n\u001b[0m\u001b[0;32m    422\u001b[0m                 \u001b[1;32mexcept\u001b[0m \u001b[0mBaseException\u001b[0m \u001b[1;32mas\u001b[0m \u001b[0me\u001b[0m\u001b[1;33m:\u001b[0m\u001b[1;33m\u001b[0m\u001b[1;33m\u001b[0m\u001b[0m\n\u001b[0;32m    423\u001b[0m                     \u001b[1;31m# Remove the TypeError from the exception chain in\u001b[0m\u001b[1;33m\u001b[0m\u001b[1;33m\u001b[0m\u001b[0m\n",
      "\u001b[1;32mD:\\Wrz\\anaconda\\envs\\GEE\\lib\\http\\client.py\u001b[0m in \u001b[0;36mgetresponse\u001b[1;34m(self)\u001b[0m\n\u001b[0;32m   1369\u001b[0m         \u001b[1;32mtry\u001b[0m\u001b[1;33m:\u001b[0m\u001b[1;33m\u001b[0m\u001b[1;33m\u001b[0m\u001b[0m\n\u001b[0;32m   1370\u001b[0m             \u001b[1;32mtry\u001b[0m\u001b[1;33m:\u001b[0m\u001b[1;33m\u001b[0m\u001b[1;33m\u001b[0m\u001b[0m\n\u001b[1;32m-> 1371\u001b[1;33m                 \u001b[0mresponse\u001b[0m\u001b[1;33m.\u001b[0m\u001b[0mbegin\u001b[0m\u001b[1;33m(\u001b[0m\u001b[1;33m)\u001b[0m\u001b[1;33m\u001b[0m\u001b[1;33m\u001b[0m\u001b[0m\n\u001b[0m\u001b[0;32m   1372\u001b[0m             \u001b[1;32mexcept\u001b[0m \u001b[0mConnectionError\u001b[0m\u001b[1;33m:\u001b[0m\u001b[1;33m\u001b[0m\u001b[1;33m\u001b[0m\u001b[0m\n\u001b[0;32m   1373\u001b[0m                 \u001b[0mself\u001b[0m\u001b[1;33m.\u001b[0m\u001b[0mclose\u001b[0m\u001b[1;33m(\u001b[0m\u001b[1;33m)\u001b[0m\u001b[1;33m\u001b[0m\u001b[1;33m\u001b[0m\u001b[0m\n",
      "\u001b[1;32mD:\\Wrz\\anaconda\\envs\\GEE\\lib\\http\\client.py\u001b[0m in \u001b[0;36mbegin\u001b[1;34m(self)\u001b[0m\n\u001b[0;32m    317\u001b[0m         \u001b[1;31m# read until we get a non-100 response\u001b[0m\u001b[1;33m\u001b[0m\u001b[1;33m\u001b[0m\u001b[0m\n\u001b[0;32m    318\u001b[0m         \u001b[1;32mwhile\u001b[0m \u001b[1;32mTrue\u001b[0m\u001b[1;33m:\u001b[0m\u001b[1;33m\u001b[0m\u001b[1;33m\u001b[0m\u001b[0m\n\u001b[1;32m--> 319\u001b[1;33m             \u001b[0mversion\u001b[0m\u001b[1;33m,\u001b[0m \u001b[0mstatus\u001b[0m\u001b[1;33m,\u001b[0m \u001b[0mreason\u001b[0m \u001b[1;33m=\u001b[0m \u001b[0mself\u001b[0m\u001b[1;33m.\u001b[0m\u001b[0m_read_status\u001b[0m\u001b[1;33m(\u001b[0m\u001b[1;33m)\u001b[0m\u001b[1;33m\u001b[0m\u001b[1;33m\u001b[0m\u001b[0m\n\u001b[0m\u001b[0;32m    320\u001b[0m             \u001b[1;32mif\u001b[0m \u001b[0mstatus\u001b[0m \u001b[1;33m!=\u001b[0m \u001b[0mCONTINUE\u001b[0m\u001b[1;33m:\u001b[0m\u001b[1;33m\u001b[0m\u001b[1;33m\u001b[0m\u001b[0m\n\u001b[0;32m    321\u001b[0m                 \u001b[1;32mbreak\u001b[0m\u001b[1;33m\u001b[0m\u001b[1;33m\u001b[0m\u001b[0m\n",
      "\u001b[1;32mD:\\Wrz\\anaconda\\envs\\GEE\\lib\\http\\client.py\u001b[0m in \u001b[0;36m_read_status\u001b[1;34m(self)\u001b[0m\n\u001b[0;32m    278\u001b[0m \u001b[1;33m\u001b[0m\u001b[0m\n\u001b[0;32m    279\u001b[0m     \u001b[1;32mdef\u001b[0m \u001b[0m_read_status\u001b[0m\u001b[1;33m(\u001b[0m\u001b[0mself\u001b[0m\u001b[1;33m)\u001b[0m\u001b[1;33m:\u001b[0m\u001b[1;33m\u001b[0m\u001b[1;33m\u001b[0m\u001b[0m\n\u001b[1;32m--> 280\u001b[1;33m         \u001b[0mline\u001b[0m \u001b[1;33m=\u001b[0m \u001b[0mstr\u001b[0m\u001b[1;33m(\u001b[0m\u001b[0mself\u001b[0m\u001b[1;33m.\u001b[0m\u001b[0mfp\u001b[0m\u001b[1;33m.\u001b[0m\u001b[0mreadline\u001b[0m\u001b[1;33m(\u001b[0m\u001b[0m_MAXLINE\u001b[0m \u001b[1;33m+\u001b[0m \u001b[1;36m1\u001b[0m\u001b[1;33m)\u001b[0m\u001b[1;33m,\u001b[0m \u001b[1;34m\"iso-8859-1\"\u001b[0m\u001b[1;33m)\u001b[0m\u001b[1;33m\u001b[0m\u001b[1;33m\u001b[0m\u001b[0m\n\u001b[0m\u001b[0;32m    281\u001b[0m         \u001b[1;32mif\u001b[0m \u001b[0mlen\u001b[0m\u001b[1;33m(\u001b[0m\u001b[0mline\u001b[0m\u001b[1;33m)\u001b[0m \u001b[1;33m>\u001b[0m \u001b[0m_MAXLINE\u001b[0m\u001b[1;33m:\u001b[0m\u001b[1;33m\u001b[0m\u001b[1;33m\u001b[0m\u001b[0m\n\u001b[0;32m    282\u001b[0m             \u001b[1;32mraise\u001b[0m \u001b[0mLineTooLong\u001b[0m\u001b[1;33m(\u001b[0m\u001b[1;34m\"status line\"\u001b[0m\u001b[1;33m)\u001b[0m\u001b[1;33m\u001b[0m\u001b[1;33m\u001b[0m\u001b[0m\n",
      "\u001b[1;32mD:\\Wrz\\anaconda\\envs\\GEE\\lib\\socket.py\u001b[0m in \u001b[0;36mreadinto\u001b[1;34m(self, b)\u001b[0m\n\u001b[0;32m    702\u001b[0m         \u001b[1;32mwhile\u001b[0m \u001b[1;32mTrue\u001b[0m\u001b[1;33m:\u001b[0m\u001b[1;33m\u001b[0m\u001b[1;33m\u001b[0m\u001b[0m\n\u001b[0;32m    703\u001b[0m             \u001b[1;32mtry\u001b[0m\u001b[1;33m:\u001b[0m\u001b[1;33m\u001b[0m\u001b[1;33m\u001b[0m\u001b[0m\n\u001b[1;32m--> 704\u001b[1;33m                 \u001b[1;32mreturn\u001b[0m \u001b[0mself\u001b[0m\u001b[1;33m.\u001b[0m\u001b[0m_sock\u001b[0m\u001b[1;33m.\u001b[0m\u001b[0mrecv_into\u001b[0m\u001b[1;33m(\u001b[0m\u001b[0mb\u001b[0m\u001b[1;33m)\u001b[0m\u001b[1;33m\u001b[0m\u001b[1;33m\u001b[0m\u001b[0m\n\u001b[0m\u001b[0;32m    705\u001b[0m             \u001b[1;32mexcept\u001b[0m \u001b[0mtimeout\u001b[0m\u001b[1;33m:\u001b[0m\u001b[1;33m\u001b[0m\u001b[1;33m\u001b[0m\u001b[0m\n\u001b[0;32m    706\u001b[0m                 \u001b[0mself\u001b[0m\u001b[1;33m.\u001b[0m\u001b[0m_timeout_occurred\u001b[0m \u001b[1;33m=\u001b[0m \u001b[1;32mTrue\u001b[0m\u001b[1;33m\u001b[0m\u001b[1;33m\u001b[0m\u001b[0m\n",
      "\u001b[1;32mD:\\Wrz\\anaconda\\envs\\GEE\\lib\\ssl.py\u001b[0m in \u001b[0;36mrecv_into\u001b[1;34m(self, buffer, nbytes, flags)\u001b[0m\n\u001b[0;32m   1239\u001b[0m                   \u001b[1;34m\"non-zero flags not allowed in calls to recv_into() on %s\"\u001b[0m \u001b[1;33m%\u001b[0m\u001b[1;33m\u001b[0m\u001b[1;33m\u001b[0m\u001b[0m\n\u001b[0;32m   1240\u001b[0m                   self.__class__)\n\u001b[1;32m-> 1241\u001b[1;33m             \u001b[1;32mreturn\u001b[0m \u001b[0mself\u001b[0m\u001b[1;33m.\u001b[0m\u001b[0mread\u001b[0m\u001b[1;33m(\u001b[0m\u001b[0mnbytes\u001b[0m\u001b[1;33m,\u001b[0m \u001b[0mbuffer\u001b[0m\u001b[1;33m)\u001b[0m\u001b[1;33m\u001b[0m\u001b[1;33m\u001b[0m\u001b[0m\n\u001b[0m\u001b[0;32m   1242\u001b[0m         \u001b[1;32melse\u001b[0m\u001b[1;33m:\u001b[0m\u001b[1;33m\u001b[0m\u001b[1;33m\u001b[0m\u001b[0m\n\u001b[0;32m   1243\u001b[0m             \u001b[1;32mreturn\u001b[0m \u001b[0msuper\u001b[0m\u001b[1;33m(\u001b[0m\u001b[1;33m)\u001b[0m\u001b[1;33m.\u001b[0m\u001b[0mrecv_into\u001b[0m\u001b[1;33m(\u001b[0m\u001b[0mbuffer\u001b[0m\u001b[1;33m,\u001b[0m \u001b[0mnbytes\u001b[0m\u001b[1;33m,\u001b[0m \u001b[0mflags\u001b[0m\u001b[1;33m)\u001b[0m\u001b[1;33m\u001b[0m\u001b[1;33m\u001b[0m\u001b[0m\n",
      "\u001b[1;32mD:\\Wrz\\anaconda\\envs\\GEE\\lib\\ssl.py\u001b[0m in \u001b[0;36mread\u001b[1;34m(self, len, buffer)\u001b[0m\n\u001b[0;32m   1097\u001b[0m         \u001b[1;32mtry\u001b[0m\u001b[1;33m:\u001b[0m\u001b[1;33m\u001b[0m\u001b[1;33m\u001b[0m\u001b[0m\n\u001b[0;32m   1098\u001b[0m             \u001b[1;32mif\u001b[0m \u001b[0mbuffer\u001b[0m \u001b[1;32mis\u001b[0m \u001b[1;32mnot\u001b[0m \u001b[1;32mNone\u001b[0m\u001b[1;33m:\u001b[0m\u001b[1;33m\u001b[0m\u001b[1;33m\u001b[0m\u001b[0m\n\u001b[1;32m-> 1099\u001b[1;33m                 \u001b[1;32mreturn\u001b[0m \u001b[0mself\u001b[0m\u001b[1;33m.\u001b[0m\u001b[0m_sslobj\u001b[0m\u001b[1;33m.\u001b[0m\u001b[0mread\u001b[0m\u001b[1;33m(\u001b[0m\u001b[0mlen\u001b[0m\u001b[1;33m,\u001b[0m \u001b[0mbuffer\u001b[0m\u001b[1;33m)\u001b[0m\u001b[1;33m\u001b[0m\u001b[1;33m\u001b[0m\u001b[0m\n\u001b[0m\u001b[0;32m   1100\u001b[0m             \u001b[1;32melse\u001b[0m\u001b[1;33m:\u001b[0m\u001b[1;33m\u001b[0m\u001b[1;33m\u001b[0m\u001b[0m\n\u001b[0;32m   1101\u001b[0m                 \u001b[1;32mreturn\u001b[0m \u001b[0mself\u001b[0m\u001b[1;33m.\u001b[0m\u001b[0m_sslobj\u001b[0m\u001b[1;33m.\u001b[0m\u001b[0mread\u001b[0m\u001b[1;33m(\u001b[0m\u001b[0mlen\u001b[0m\u001b[1;33m)\u001b[0m\u001b[1;33m\u001b[0m\u001b[1;33m\u001b[0m\u001b[0m\n",
      "\u001b[1;31mKeyboardInterrupt\u001b[0m: "
     ]
    }
   ],
   "source": [
    "\n",
    "\n",
    "for i in range(5702,Num_list):\n",
    "    path_real = os.path.join(out_dir,START_DATE+'_'+END_DATE,'Real',f'{i:05d}')\n",
    "    path_synth = os.path.join(out_dir,START_DATE+'_'+END_DATE,'Synth',f'{i:05d}')\n",
    "    if os.path.exists(path_synth) or os.path.exists(path_real):\n",
    "        print('第{}个切块已存在，跳过执行'.format(f'{i:05d}'))\n",
    "        continue\n",
    "    \n",
    "    AOI = ee.Feature.geometry(Southest_Tibetan_GeoList.get(i))\n",
    "    AOI_buffer = AOI.buffer(distance=300)  #用于图像clip，到处时候采用AOI不会出现黑边现象\n",
    "    \n",
    "    # 取数据\n",
    "    s2_sr_cld_col = get_s2_sr_cld_col(AOI_buffer, START_DATE, END_DATE).map(partial(write_dimensions,AOI=AOI))\n",
    "\n",
    "    # 根据Dimension大小删除不完整的数据\n",
    "\n",
    "    Max_all_NotNone = s2_sr_cld_col.aggregate_array('all_NotNone').reduce(ee.Reducer.max())\n",
    "    s2_sr_cld_col = s2_sr_cld_col.filter(ee.Filter.gte('all_NotNone', ee.Array(Max_all_NotNone).multiply(Tolerance).getInfo()))\n",
    "\n",
    "    # 将shadow和cloud图层加入波段\n",
    "    s2_sr_cld_col_disp = s2_sr_cld_col.map(add_cld_shdw_mask).select(['B.*','clouds','dark_pixels','shadows','cloudmask'])\n",
    "    s2_sr_cld_col_list = s2_sr_cld_col_disp.toList(s2_sr_cld_col_disp.size())\n",
    "    # 计算AOI区段的云量\n",
    "    cloud_count_dict = s2_sr_cld_col_disp.map(partial(cloud_sum,AOI=AOI)).aggregate_array('cloud_count').getInfo()\n",
    "    cloud_count_list = np.array([1 if item.get('clouds')>Tolerance_cloudPix else 0 for item in cloud_count_dict])\n",
    "    \n",
    "    # 存在有无云影像的时候\n",
    "    if np.min(cloud_count_list) == 0:\n",
    "        #    save_dir置前，先检查本地文件夹是否存在\n",
    "\n",
    "        '''执行方案一，直接获取对照组'''\n",
    "        Real_dir = make_dir(path_real)\n",
    "        Negtive_Indice = list(range(len(cloud_count_list)))\n",
    "        Positive_Indice = Negtive_Indice.pop(cloud_count_list.argmin())\n",
    "\n",
    "        # 选择正例\n",
    "        Positive_Exm = ee.Image(s2_sr_cld_col_list.get(Positive_Indice))\n",
    "        # 选择负例\n",
    "        Negtive_Exm =  ee.ImageCollection(s2_sr_cld_col_list.remove(Positive_Exm))\n",
    "        \n",
    "        # save\n",
    "        Geemap_export(Real_dir,collection=False,image=Positive_Exm,region=AOI,scale=10)\n",
    "        Geemap_export(Real_dir,collection=Negtive_Exm,image=False,region=AOI,scale=10)\n",
    "\n",
    "        print('第{}切块执行方案一，保存至{}'.format(f'{i:05d}',Real_dir))\n",
    "        \n",
    "    # 不存在无云影像的时候\n",
    "    else:\n",
    "\n",
    "        \"\"\"执行方案二，构造对照组\"\"\"\n",
    "\n",
    "        Synth_dir = make_dir(path_synth)\n",
    "        s2_sr_median = s2_sr_cld_col_disp.map(apply_cld_shdw_mask).median().select('B.*').int16()\n",
    "     \n",
    "        # 合成影像中的云量\n",
    "        cloudNUM = s2_sr_median.select('B1').unmask(0).lt(0.1).reduceRegion(\n",
    "                        **{\n",
    "                            'geometry': AOI,\n",
    "                            'reducer': ee.Reducer.sum(),\n",
    "                            'scale': 10,\n",
    "                            'maxPixels': 1e12,\n",
    "                            'bestEffort': True,\n",
    "                        }\n",
    "                    ).getInfo()['B1']\n",
    "\n",
    "        if cloudNUM<=Tolerance_cloudPix:\n",
    "            print('star')\n",
    "            Geemap_export(Synth_dir,collection=False,image=s2_sr_median,region=AOI,scale=10)\n",
    "            Geemap_export(Synth_dir,collection=s2_sr_cld_col_disp,image=False,region=AOI,scale=10)\n",
    "\n",
    "            print('第{}切块采用方案二,保存至{}'.format(f'{i:05d}',Synth_dir))\n",
    "            \n",
    "        else:\n",
    "            print('第{}切块采用方案二,结果cloudNUM={}不满足云去除要求'.format(f'{i:05d}',cloudNUM))\n",
    "            continue"
   ]
  },
  {
   "cell_type": "code",
   "execution_count": null,
   "id": "4fe4d1da",
   "metadata": {
    "ExecuteTime": {
     "end_time": "2023-02-27T14:53:49.254407Z",
     "start_time": "2023-02-27T14:53:49.254407Z"
    },
    "pycharm": {
     "name": "#%%\n"
    },
    "scrolled": true
   },
   "outputs": [],
   "source": [
    "for i in range(5702,Num_list):\n",
    "    path_real = os.path.join(out_dir,START_DATE+'_'+END_DATE,'Real',f'{i:05d}')\n",
    "    path_synth = os.path.join(out_dir,START_DATE+'_'+END_DATE,'Synth',f'{i:05d}')\n",
    "    if os.path.exists(path_synth) or os.path.exists(path_real):\n",
    "        print('第{}个切块已存在，跳过执行'.format(f'{i:05d}'))\n",
    "        continue\n",
    "    \n",
    "    AOI = ee.Feature.geometry(Southest_Tibetan_GeoList.get(i))\n",
    "    AOI_buffer = AOI.buffer(distance=300)  #用于图像clip，到处时候采用AOI不会出现黑边现象\n",
    "    \n",
    "    # 取数据\n",
    "\n",
    "    s2_sr_cld_col = get_s2_sr_cld_col(AOI_buffer, START_DATE, END_DATE).map(partial(write_dimensions,AOI=AOI))\n",
    "\n",
    "    # 根据Dimension大小删除不完整的数据\n",
    "    try:\n",
    "        Max_all_NotNone = s2_sr_cld_col.aggregate_array('all_NotNone').reduce(ee.Reducer.max())\n",
    "        s2_sr_cld_col = s2_sr_cld_col.filter(ee.Filter.gte('all_NotNone', ee.Array(Max_all_NotNone).multiply(Tolerance).getInfo()))\n",
    "    except:\n",
    "        continue\n",
    "#     Max_dimension = s2_sr_cld_col.aggregate_array('dimensions').reduce(ee.Reducer.max())\n",
    "#     s2_sr_cld_col = s2_sr_cld_col.filter(ee.Filter.gte('dimensions', Max_dimension))\n",
    "    \n",
    "    # 将shadow和cloud图层加入波段\n",
    "    s2_sr_cld_col_disp = s2_sr_cld_col.map(add_cld_shdw_mask).select(['B.*','clouds','dark_pixels','shadows','cloudmask'])\n",
    "    s2_sr_cld_col_list = s2_sr_cld_col_disp.toList(s2_sr_cld_col_disp.size())\n",
    "    # 计算AOI区段的云量\n",
    "    cloud_count_dict = s2_sr_cld_col_disp.map(partial(cloud_sum,AOI=AOI)).aggregate_array('cloud_count').getInfo()\n",
    "    cloud_count_list = np.array([1 if item.get('clouds')>Tolerance_cloudPix else 0 for item in cloud_count_dict])\n",
    "    \n",
    "    # 存在有无云影像的时候\n",
    "    if np.min(cloud_count_list) == 0:\n",
    "        #    save_dir置前，先检查本地文件夹是否存在\n",
    "\n",
    "        '''执行方案一，直接获取对照组'''\n",
    "        Real_dir = make_dir(path_real)\n",
    "        Negtive_Indice = list(range(len(cloud_count_list)))\n",
    "        Positive_Indice = Negtive_Indice.pop(cloud_count_list.argmin())\n",
    "\n",
    "        # 选择正例\n",
    "        Positive_Exm = ee.Image(s2_sr_cld_col_list.get(Positive_Indice))\n",
    "        # 选择负例\n",
    "        Negtive_Exm =  ee.ImageCollection(s2_sr_cld_col_list.remove(Positive_Exm))\n",
    "        \n",
    "        # save\n",
    "        Geemap_export(Real_dir,collection=False,image=Positive_Exm,region=AOI,scale=10)\n",
    "\n",
    "        Geemap_export(Real_dir,collection=Negtive_Exm,image=False,region=AOI,scale=10)\n",
    "        \n",
    "        print('第{}切块执行方案一，保存至{}'.format(f'{i:05d}',Real_dir))\n",
    "        \n",
    "    # 不存在无云影像的时候\n",
    "    else:\n",
    "        print('第{}切块执行方案二，跳出循环'.format(f'{i:05d}'))\n",
    "        continue\n",
    "#         \"\"\"执行方案二，构造对照组\"\"\"\n",
    "\n",
    "#         Synth_dir = make_dir(path_synth)\n",
    "#         s2_sr_median = s2_sr_cld_col_disp.map(apply_cld_shdw_mask).median().select('B.*').int16()\n",
    "     \n",
    "#         # 合成影像中的云量\n",
    "#         cloudNUM = s2_sr_median.select('B1').unmask(0).lt(0.1).reduceRegion(\n",
    "#                         **{\n",
    "#                             'geometry': AOI,\n",
    "#                             'reducer': ee.Reducer.sum(),\n",
    "#                             'scale': 10,\n",
    "#                             'maxPixels': 1e12,\n",
    "#                             'bestEffort': True,\n",
    "#                         }\n",
    "#                     ).getInfo()['B1']\n",
    "\n",
    "#         if cloudNUM<=Tolerance_cloudPix:\n",
    "#             print('star')\n",
    "#             Geemap_export(Synth_dir,collection=False,image=s2_sr_median,region=AOI,scale=10)\n",
    "\n",
    "#             Geemap_export(Synth_dir,collection=s2_sr_cld_col_disp,image=False,region=AOI,scale=10)\n",
    "#             print('第{}切块采用方案二,保存至{}'.format(f'{i:05d}',Synth_dir))\n",
    "            \n",
    "#         else:\n",
    "#             print('第{}切块采用方案二,结果cloudNUM={}不满足云去除要求'.format(f'{i:05d}',cloudNUM))\n",
    "#             continue"
   ]
  },
  {
   "cell_type": "code",
   "execution_count": null,
   "id": "cabf3684",
   "metadata": {
    "pycharm": {
     "name": "#%%\n"
    }
   },
   "outputs": [],
   "source": []
  },
  {
   "cell_type": "code",
   "execution_count": null,
   "id": "ffa92906",
   "metadata": {
    "pycharm": {
     "name": "#%%\n"
    }
   },
   "outputs": [],
   "source": []
  }
 ],
 "metadata": {
  "hide_input": false,
  "kernelspec": {
   "display_name": "Python 3 (ipykernel)",
   "language": "python",
   "name": "python3"
  },
  "language_info": {
   "codemirror_mode": {
    "name": "ipython",
    "version": 3
   },
   "file_extension": ".py",
   "mimetype": "text/x-python",
   "name": "python",
   "nbconvert_exporter": "python",
   "pygments_lexer": "ipython3",
   "version": "3.9.7"
  },
  "nbTranslate": {
   "displayLangs": [
    "zh-cn"
   ],
   "hotkey": "alt-t",
   "langInMainMenu": true,
   "sourceLang": "en",
   "targetLang": "zh-cn",
   "useGoogleTranslate": true
  },
  "toc": {
   "base_numbering": 1,
   "nav_menu": {},
   "number_sections": true,
   "sideBar": true,
   "skip_h1_title": false,
   "title_cell": "Table of Contents",
   "title_sidebar": "Contents",
   "toc_cell": false,
   "toc_position": {
    "height": "calc(100% - 180px)",
    "left": "10px",
    "top": "150px",
    "width": "384px"
   },
   "toc_section_display": true,
   "toc_window_display": false
  },
  "varInspector": {
   "cols": {
    "lenName": 16,
    "lenType": 16,
    "lenVar": 40
   },
   "kernels_config": {
    "python": {
     "delete_cmd_postfix": "",
     "delete_cmd_prefix": "del ",
     "library": "var_list.py",
     "varRefreshCmd": "print(var_dic_list())"
    },
    "r": {
     "delete_cmd_postfix": ") ",
     "delete_cmd_prefix": "rm(",
     "library": "var_list.r",
     "varRefreshCmd": "cat(var_dic_list()) "
    }
   },
   "types_to_exclude": [
    "module",
    "function",
    "builtin_function_or_method",
    "instance",
    "_Feature"
   ],
   "window_display": false
  }
 },
 "nbformat": 4,
 "nbformat_minor": 5
}
