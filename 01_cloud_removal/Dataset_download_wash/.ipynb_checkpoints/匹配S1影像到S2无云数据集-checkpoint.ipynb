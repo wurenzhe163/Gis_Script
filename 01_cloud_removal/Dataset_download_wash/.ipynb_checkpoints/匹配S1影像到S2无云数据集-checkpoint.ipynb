{
 "cells": [
  {
   "cell_type": "markdown",
   "id": "23c0da3e",
   "metadata": {
    "pycharm": {
     "name": "#%% md\n"
    }
   },
   "source": [
    "# 导入包"
   ]
  },
  {
   "cell_type": "code",
   "execution_count": 4,
   "id": "0041b5cf",
   "metadata": {
    "ExecuteTime": {
     "end_time": "2023-02-17T14:21:32.023824Z",
     "start_time": "2023-02-17T14:21:24.317108Z"
    },
    "pycharm": {
     "name": "#%%\n"
    }
   },
   "outputs": [],
   "source": [
    "import ee \n",
    "import geemap\n",
    "import numpy as np\n",
    "import pandas as pd\n",
    "import eerepr\n",
    "import folium\n",
    "import os\n",
    "from functools import partial\n",
    "geemap.set_proxy(port=10809)\n",
    "ee.Initialize()"
   ]
  },
  {
   "cell_type": "markdown",
   "id": "f3fa3148",
   "metadata": {
    "pycharm": {
     "name": "#%% md\n"
    }
   },
   "source": [
    "# 解析日期、序号以及shp数据"
   ]
  },
  {
   "cell_type": "code",
   "execution_count": 48,
   "id": "6247d9cb",
   "metadata": {
    "ExecuteTime": {
     "end_time": "2023-01-05T07:35:18.185972Z",
     "start_time": "2023-01-05T07:35:17.981384Z"
    },
    "pycharm": {
     "name": "#%%\n"
    }
   },
   "outputs": [],
   "source": [
    "DataFrame = pd.read_csv(r\"E:\\Datasets\\2020-06-01_2020-09-30_processed\\2020-06-01_2020-09-30.csv\")\n",
    "Positive = DataFrame[DataFrame['pos_neg']==1].reset_index(drop=False)\n",
    "# .dt.date去除分秒\n",
    "Positive.date = pd.to_datetime(Positive.date).dt.date\n",
    "Positive['start_date'] = Positive.date - pd.Timedelta(days=20)\n",
    "Positive['end_date'] =Positive.date + pd.Timedelta(days=20)\n",
    "# 解析长度\n",
    "Len_positive = Positive.__len__()"
   ]
  },
  {
   "cell_type": "markdown",
   "id": "71122cfa",
   "metadata": {
    "pycharm": {
     "name": "#%% md\n"
    }
   },
   "source": [
    "# 按照时间和序号筛选Sentinel-1的SAR数据，在构建的时候同步加载光学影像"
   ]
  },
  {
   "cell_type": "code",
   "execution_count": 49,
   "id": "742bca71",
   "metadata": {
    "ExecuteTime": {
     "end_time": "2023-01-05T07:35:46.542528Z",
     "start_time": "2023-01-05T07:35:43.498710Z"
    },
    "pycharm": {
     "name": "#%%\n"
    }
   },
   "outputs": [],
   "source": [
    "# 载入定位用的shp文件\n",
    "Southest_Tibetan_01 = ee.FeatureCollection('projects/ee-mrwurenzhe/assets/Southest')\n",
    "# 加入Geo属性信息\n",
    "Southest_Tibetan_Geo = Southest_Tibetan_01.map(lambda feature:feature.set({'Geo':feature.geometry()}))\n",
    "# 转为GeometryList\n",
    "Southest_Tibetan_GeoList = ee.List(Southest_Tibetan_Geo.reduceColumns(ee.Reducer.toList(),['Geo']).get('list'))\n",
    "Num_list = Southest_Tibetan_GeoList.size().getInfo()\n",
    "\n",
    "# 需要人工设定的参数,全局变量\n",
    "CLOUD_FILTER = 60                  # 过滤s2 大于指定云量的数据\n",
    "Parent_path = r'H:\\GEE_S2Cloud_Dataset_01' #如不为None，则表示相对路径"
   ]
  },
  {
   "cell_type": "code",
   "execution_count": 50,
   "id": "cb2d445e",
   "metadata": {
    "ExecuteTime": {
     "end_time": "2023-01-05T07:35:50.756579Z",
     "start_time": "2023-01-05T07:35:50.727576Z"
    },
    "pycharm": {
     "name": "#%%\n"
    }
   },
   "outputs": [],
   "source": [
    "# 预定义函数\n",
    "def make_dir(path):\n",
    "    isExists = os.path.exists(path)\n",
    "    # 判断结果\n",
    "    if not isExists:\n",
    "        os.makedirs(path)\n",
    "        print(path + ' 创建成功')\n",
    "    return path\n",
    "\n",
    "def clip_AOI(col,AOI):\n",
    "    return col.clip(AOI)\n",
    "\n",
    "def time_difference(col,s2_date=None):\n",
    "    time_difference = ee.Date(s2_date).difference(ee.Date(col.get('system:time_start')), 'days').abs()\n",
    "    return col.set({'time_difference': time_difference})\n",
    "\n",
    "def load_image_collection(aoi,start_date,end_date,s2_date):\n",
    "    # 导入数据，并分为升轨和降轨数据\n",
    "    s2_sr_col = (ee.ImageCollection(\"COPERNICUS/S2_SR_HARMONIZED\")\n",
    "        .filterBounds(aoi)\n",
    "        .filterDate(start_date, end_date)\n",
    "        .filter(ee.Filter.lte('CLOUDY_PIXEL_PERCENTAGE', CLOUD_FILTER)).map(partial(clip_AOI,AOI=aoi)))\n",
    "    s1_col = (ee.ImageCollection(\"COPERNICUS/S1_GRD\")\n",
    "        .filterBounds(aoi)\n",
    "        .filterDate(start_date, end_date).map(partial(clip_AOI,AOI=aoi)))\n",
    "    s1_col = s1_col.map(partial(time_difference,s2_date=s2_date))\n",
    "    s1_descending = s1_col.filter(ee.Filter.eq('orbitProperties_pass', 'DESCENDING'))\n",
    "    s1_ascending = s1_col.filter(ee.Filter.eq('orbitProperties_pass', 'ASCENDING'))\n",
    "    return s1_ascending,s1_descending\n",
    "\n",
    "def Geemap_export(outdir,image,region,scale=10):\n",
    "    # 判断升降轨道,s1与s2的数据存储位置相互对应，保存文件仍然是id本身\n",
    "    Parten = image.get('orbitProperties_pass').getInfo()\n",
    "    file_name = os.path.join(outdir,Parten+'_'+image.id().getInfo()+'.tif')\n",
    "    geemap.ee_export_image(image,\n",
    "                          filename=file_name,\n",
    "                          scale=scale,region=region,file_per_band=True,timeout=1500)"
   ]
  },
  {
   "cell_type": "markdown",
   "id": "f21f1fb0",
   "metadata": {
    "ExecuteTime": {
     "end_time": "2022-12-21T08:11:19.748922Z",
     "start_time": "2022-12-21T08:11:19.731142Z"
    },
    "pycharm": {
     "name": "#%% md\n"
    }
   },
   "source": [
    "# 选择最近的一景升轨/降轨SAR影像"
   ]
  },
  {
   "cell_type": "code",
   "execution_count": null,
   "id": "fb326e5e",
   "metadata": {
    "ExecuteTime": {
     "start_time": "2023-01-03T12:01:36.216Z"
    },
    "pycharm": {
     "name": "#%%\n"
    }
   },
   "outputs": [
    {
     "name": "stdout",
     "output_type": "stream",
     "text": [
      "Generating URL ...\n",
      "Downloading data from https://earthengine.googleapis.com/v1alpha/projects/earthengine-legacy/thumbnails/f1491cdd2fc059b0ddee11a841ed4422-a1ee00a63ae8a5b2ff1263bd3c9d1b55:getPixels\n",
      "Please wait ...\n",
      "Data downloaded to H:\\GEE_S2Cloud_Dataset_01\\2020-06-01_2020-09-30\\Synth\\07862\n",
      "Generating URL ...\n",
      "Downloading data from https://earthengine.googleapis.com/v1alpha/projects/earthengine-legacy/thumbnails/b4ae71b16abc0186a27352c951799417-7f231ff7c800b6ad491c0ba73aa36294:getPixels\n",
      "Please wait ...\n",
      "Data downloaded to H:\\GEE_S2Cloud_Dataset_01\\2020-06-01_2020-09-30\\Synth\\07862\n",
      "download i=4337\n",
      "Generating URL ...\n",
      "Downloading data from https://earthengine.googleapis.com/v1alpha/projects/earthengine-legacy/thumbnails/54d147897cd354a2d7196bbd01e51df3-5e1272ef99c40e3e9bdd7f3f8be14887:getPixels\n",
      "Please wait ...\n",
      "Data downloaded to H:\\GEE_S2Cloud_Dataset_01\\2020-06-01_2020-09-30\\Synth\\07871\n",
      "Generating URL ...\n",
      "Downloading data from https://earthengine.googleapis.com/v1alpha/projects/earthengine-legacy/thumbnails/5121ef573719abf67d4a890de220c638-43ba1495af62af5b69c6f6b4550a98d9:getPixels\n",
      "Please wait ...\n",
      "Data downloaded to H:\\GEE_S2Cloud_Dataset_01\\2020-06-01_2020-09-30\\Synth\\07871\n",
      "download i=4338\n",
      "Generating URL ...\n",
      "Downloading data from https://earthengine.googleapis.com/v1alpha/projects/earthengine-legacy/thumbnails/826fe7ab82b99c3bad4496d15eb55efd-7def7225cfd8b6d8ff61f8e96526eff9:getPixels\n",
      "Please wait ...\n",
      "Data downloaded to H:\\GEE_S2Cloud_Dataset_01\\2020-06-01_2020-09-30\\Synth\\07873\n",
      "Generating URL ...\n",
      "Downloading data from https://earthengine.googleapis.com/v1alpha/projects/earthengine-legacy/thumbnails/ec2f4de749950280ae4d93190063e015-0695de624adec564059b1c5728e06153:getPixels\n",
      "Please wait ...\n",
      "Data downloaded to H:\\GEE_S2Cloud_Dataset_01\\2020-06-01_2020-09-30\\Synth\\07873\n",
      "download i=4339\n",
      "Generating URL ...\n",
      "Downloading data from https://earthengine.googleapis.com/v1alpha/projects/earthengine-legacy/thumbnails/f6d2c4e493a935a57c33674a4748776e-8521a979e5d9f4ffda2b5d64323e4298:getPixels\n",
      "Please wait ...\n",
      "Data downloaded to H:\\GEE_S2Cloud_Dataset_01\\2020-06-01_2020-09-30\\Synth\\07875\n",
      "Generating URL ...\n",
      "Downloading data from https://earthengine.googleapis.com/v1alpha/projects/earthengine-legacy/thumbnails/9878aaedab52c534fe52472ebe72d9c0-9a2f5b6bbd8f22935917f51940bff80a:getPixels\n",
      "Please wait ...\n",
      "Data downloaded to H:\\GEE_S2Cloud_Dataset_01\\2020-06-01_2020-09-30\\Synth\\07875\n",
      "download i=4340\n",
      "Generating URL ...\n",
      "Downloading data from https://earthengine.googleapis.com/v1alpha/projects/earthengine-legacy/thumbnails/d39f2b6d362632e088f15e809025cf57-7bdc6de45deeac4001287436b6406eee:getPixels\n",
      "Please wait ...\n",
      "Data downloaded to H:\\GEE_S2Cloud_Dataset_01\\2020-06-01_2020-09-30\\Synth\\07880\n",
      "Generating URL ...\n",
      "Downloading data from https://earthengine.googleapis.com/v1alpha/projects/earthengine-legacy/thumbnails/f3e52ce8499f224848a05e11dcde585d-9e3419c2893500e8a6c73efbe29c3298:getPixels\n",
      "Please wait ...\n",
      "Data downloaded to H:\\GEE_S2Cloud_Dataset_01\\2020-06-01_2020-09-30\\Synth\\07880\n",
      "download i=4341\n",
      "Generating URL ...\n",
      "Downloading data from https://earthengine.googleapis.com/v1alpha/projects/earthengine-legacy/thumbnails/683c2020bc4f74d6c07f15ea69604d49-2b513ca619ebed552c3640ee4709e833:getPixels\n",
      "Please wait ...\n",
      "Data downloaded to H:\\GEE_S2Cloud_Dataset_01\\2020-06-01_2020-09-30\\Synth\\07881\n",
      "Generating URL ...\n",
      "Downloading data from https://earthengine.googleapis.com/v1alpha/projects/earthengine-legacy/thumbnails/a8c81b5221ceb652f407acc84ed331c5-0bebb9405a254f316c682c2753a45bf3:getPixels\n",
      "Please wait ...\n",
      "Data downloaded to H:\\GEE_S2Cloud_Dataset_01\\2020-06-01_2020-09-30\\Synth\\07881\n",
      "download i=4342\n",
      "Generating URL ...\n",
      "Downloading data from https://earthengine.googleapis.com/v1alpha/projects/earthengine-legacy/thumbnails/a180eda2f8b8279f9199cdc676190d03-48f3261ef46cd5495d47c8128761d20f:getPixels\n",
      "Please wait ...\n",
      "Data downloaded to H:\\GEE_S2Cloud_Dataset_01\\2020-06-01_2020-09-30\\Synth\\07882\n",
      "Generating URL ...\n",
      "Downloading data from https://earthengine.googleapis.com/v1alpha/projects/earthengine-legacy/thumbnails/9ec3c610dff153139af8ab0bf0f17c05-891ca2b9e3f6cd4be4b7d14cc5184f62:getPixels\n",
      "Please wait ...\n",
      "Data downloaded to H:\\GEE_S2Cloud_Dataset_01\\2020-06-01_2020-09-30\\Synth\\07882\n",
      "download i=4343\n",
      "Generating URL ...\n",
      "Downloading data from https://earthengine.googleapis.com/v1alpha/projects/earthengine-legacy/thumbnails/1d4b9d9f8e1a73b6b3255329c5b481b1-68302b11dab8ecff2362697b854882a3:getPixels\n",
      "Please wait ...\n",
      "Data downloaded to H:\\GEE_S2Cloud_Dataset_01\\2020-06-01_2020-09-30\\Synth\\07883\n",
      "Generating URL ...\n",
      "Downloading data from https://earthengine.googleapis.com/v1alpha/projects/earthengine-legacy/thumbnails/6f741df2d3b5d4bf067b57def1075b96-1815419e16423a81168ee163b630c0bc:getPixels\n",
      "Please wait ...\n",
      "Data downloaded to H:\\GEE_S2Cloud_Dataset_01\\2020-06-01_2020-09-30\\Synth\\07883\n",
      "download i=4344\n",
      "Generating URL ...\n",
      "Downloading data from https://earthengine.googleapis.com/v1alpha/projects/earthengine-legacy/thumbnails/15de946b85714ef455db18eef9fb89b6-fca001ce73e840c660e650fdc3793c80:getPixels\n",
      "Please wait ...\n",
      "Data downloaded to H:\\GEE_S2Cloud_Dataset_01\\2020-06-01_2020-09-30\\Synth\\07891\n",
      "Generating URL ...\n",
      "Downloading data from https://earthengine.googleapis.com/v1alpha/projects/earthengine-legacy/thumbnails/26f3095211cabfabe9ea02af0834acda-37d5511ea4efaf5cf8919a9d0d91d5fe:getPixels\n",
      "Please wait ...\n",
      "Data downloaded to H:\\GEE_S2Cloud_Dataset_01\\2020-06-01_2020-09-30\\Synth\\07891\n",
      "download i=4345\n",
      "Generating URL ...\n",
      "Downloading data from https://earthengine.googleapis.com/v1alpha/projects/earthengine-legacy/thumbnails/683051109d45d38376d41a6268654396-61c9818ae554cc666201751bddba6193:getPixels\n",
      "Please wait ...\n",
      "Data downloaded to H:\\GEE_S2Cloud_Dataset_01\\2020-06-01_2020-09-30\\Synth\\07894\n",
      "Generating URL ...\n",
      "Downloading data from https://earthengine.googleapis.com/v1alpha/projects/earthengine-legacy/thumbnails/3367e743c1637d13c9425b29f1d8d95d-80bb5d89b38f164eac369465e22a0be1:getPixels\n",
      "Please wait ...\n",
      "Data downloaded to H:\\GEE_S2Cloud_Dataset_01\\2020-06-01_2020-09-30\\Synth\\07894\n",
      "download i=4346\n",
      "Generating URL ...\n",
      "Downloading data from https://earthengine.googleapis.com/v1alpha/projects/earthengine-legacy/thumbnails/6263504d9529d3faf9a25a520d4b46a7-3124e3ea58417ad8d7a6e6ad37f5d875:getPixels\n",
      "Please wait ...\n",
      "Data downloaded to H:\\GEE_S2Cloud_Dataset_01\\2020-06-01_2020-09-30\\Synth\\07895\n",
      "Generating URL ...\n",
      "Downloading data from https://earthengine.googleapis.com/v1alpha/projects/earthengine-legacy/thumbnails/6f510a0e80d8aa24ad0bafd7d812ebe9-2627de6bd905b17dce38d0059e6bf987:getPixels\n",
      "Please wait ...\n",
      "Data downloaded to H:\\GEE_S2Cloud_Dataset_01\\2020-06-01_2020-09-30\\Synth\\07895\n",
      "download i=4347\n",
      "Generating URL ...\n",
      "Downloading data from https://earthengine.googleapis.com/v1alpha/projects/earthengine-legacy/thumbnails/a4e7318e0c408a00ddf70c177ab92a5c-67bac5a52e75dd42ef8dd9401bd21103:getPixels\n",
      "Please wait ...\n",
      "Data downloaded to H:\\GEE_S2Cloud_Dataset_01\\2020-06-01_2020-09-30\\Synth\\07897\n",
      "Generating URL ...\n",
      "Downloading data from https://earthengine.googleapis.com/v1alpha/projects/earthengine-legacy/thumbnails/6eaa3ebbfc78ec06b3aad9d0bcac1836-9b8195fdfda8918248b6953c914e6b58:getPixels\n",
      "Please wait ...\n",
      "Data downloaded to H:\\GEE_S2Cloud_Dataset_01\\2020-06-01_2020-09-30\\Synth\\07897\n",
      "download i=4348\n",
      "Generating URL ...\n",
      "Downloading data from https://earthengine.googleapis.com/v1alpha/projects/earthengine-legacy/thumbnails/560b90e25a12cd36ede64c6356975789-0a011cf73031263ccc908c7f9ca0c882:getPixels\n",
      "Please wait ...\n",
      "Data downloaded to H:\\GEE_S2Cloud_Dataset_01\\2020-06-01_2020-09-30\\Synth\\07899\n",
      "Generating URL ...\n",
      "Downloading data from https://earthengine.googleapis.com/v1alpha/projects/earthengine-legacy/thumbnails/e593d29a7fa67a6d712e0201421c5c7f-e84fae3f135cdeecad22b9238ca5c02b:getPixels\n",
      "Please wait ...\n",
      "Data downloaded to H:\\GEE_S2Cloud_Dataset_01\\2020-06-01_2020-09-30\\Synth\\07899\n",
      "download i=4349\n",
      "Generating URL ...\n",
      "Downloading data from https://earthengine.googleapis.com/v1alpha/projects/earthengine-legacy/thumbnails/5cec13f355c712f9975a8a6e64c3d7da-35d5c3712b22fb0610336e1169e9c506:getPixels\n",
      "Please wait ...\n",
      "Data downloaded to H:\\GEE_S2Cloud_Dataset_01\\2020-06-01_2020-09-30\\Synth\\07904\n",
      "Generating URL ...\n",
      "Downloading data from https://earthengine.googleapis.com/v1alpha/projects/earthengine-legacy/thumbnails/3a0b5533e36e19d714e03ee8832e7feb-affeec0e63e7b6e3e1f303fac0dc9072:getPixels\n",
      "Please wait ...\n"
     ]
    },
    {
     "name": "stdout",
     "output_type": "stream",
     "text": [
      "Data downloaded to H:\\GEE_S2Cloud_Dataset_01\\2020-06-01_2020-09-30\\Synth\\07904\n",
      "download i=4350\n",
      "Generating URL ...\n",
      "Downloading data from https://earthengine.googleapis.com/v1alpha/projects/earthengine-legacy/thumbnails/da037d9a74bc0f5f12212e68aeb49afd-eed28989fa21859dcf52cf10f0f136e2:getPixels\n",
      "Please wait ...\n",
      "Data downloaded to H:\\GEE_S2Cloud_Dataset_01\\2020-06-01_2020-09-30\\Synth\\07905\n",
      "Generating URL ...\n",
      "Downloading data from https://earthengine.googleapis.com/v1alpha/projects/earthengine-legacy/thumbnails/62b2c58fd087f6a29174cdfe4e3f5d21-2047207a8bd71311aef750d76a3e4deb:getPixels\n",
      "Please wait ...\n",
      "Data downloaded to H:\\GEE_S2Cloud_Dataset_01\\2020-06-01_2020-09-30\\Synth\\07905\n",
      "download i=4351\n",
      "Generating URL ...\n",
      "Downloading data from https://earthengine.googleapis.com/v1alpha/projects/earthengine-legacy/thumbnails/576704f87fba061d73683eae93ac0a46-cbf95453aca376d0ef143db1d669d97a:getPixels\n",
      "Please wait ...\n",
      "Data downloaded to H:\\GEE_S2Cloud_Dataset_01\\2020-06-01_2020-09-30\\Synth\\07907\n",
      "Generating URL ...\n",
      "Downloading data from https://earthengine.googleapis.com/v1alpha/projects/earthengine-legacy/thumbnails/21c130521996ae8fa694b663b02f9973-4aa766b522dea5ea47af9170ed250730:getPixels\n",
      "Please wait ...\n",
      "Data downloaded to H:\\GEE_S2Cloud_Dataset_01\\2020-06-01_2020-09-30\\Synth\\07907\n",
      "download i=4352\n",
      "Generating URL ...\n",
      "Downloading data from https://earthengine.googleapis.com/v1alpha/projects/earthengine-legacy/thumbnails/c25f152715145b00c6ea3516393152ef-e362d0659f6dc18bc3cf8963fd5595df:getPixels\n",
      "Please wait ...\n",
      "Data downloaded to H:\\GEE_S2Cloud_Dataset_01\\2020-06-01_2020-09-30\\Synth\\07909\n",
      "Generating URL ...\n",
      "Downloading data from https://earthengine.googleapis.com/v1alpha/projects/earthengine-legacy/thumbnails/bab6410fb086a57641bc391df69a4432-ca902d02059ea063a44cca43943da427:getPixels\n",
      "Please wait ...\n",
      "Data downloaded to H:\\GEE_S2Cloud_Dataset_01\\2020-06-01_2020-09-30\\Synth\\07909\n",
      "download i=4353\n",
      "Generating URL ...\n",
      "Downloading data from https://earthengine.googleapis.com/v1alpha/projects/earthengine-legacy/thumbnails/f70c0bf7e2fb18bdca45816b3452826b-20ac559d2fd378fd721547f97826670d:getPixels\n",
      "Please wait ...\n",
      "Data downloaded to H:\\GEE_S2Cloud_Dataset_01\\2020-06-01_2020-09-30\\Synth\\07912\n",
      "Generating URL ...\n",
      "Downloading data from https://earthengine.googleapis.com/v1alpha/projects/earthengine-legacy/thumbnails/7a6684abf196080c3d6a38a5466dd23f-5d6f640619e99a47b57aaaff8c678bb0:getPixels\n",
      "Please wait ...\n",
      "Data downloaded to H:\\GEE_S2Cloud_Dataset_01\\2020-06-01_2020-09-30\\Synth\\07912\n",
      "download i=4354\n",
      "Generating URL ...\n",
      "Downloading data from https://earthengine.googleapis.com/v1alpha/projects/earthengine-legacy/thumbnails/1ca08eecd312c89872b2cf89535af270-f8ef07186d84ef8e86dbfd5e906f4f1a:getPixels\n",
      "Please wait ...\n",
      "Data downloaded to H:\\GEE_S2Cloud_Dataset_01\\2020-06-01_2020-09-30\\Synth\\07918\n",
      "Generating URL ...\n",
      "Downloading data from https://earthengine.googleapis.com/v1alpha/projects/earthengine-legacy/thumbnails/2f4f2e47c4ff180c9cfd91240056c353-c6f2936628a0b1a3e9f8d4320d198ef5:getPixels\n",
      "Please wait ...\n",
      "Data downloaded to H:\\GEE_S2Cloud_Dataset_01\\2020-06-01_2020-09-30\\Synth\\07918\n",
      "download i=4355\n",
      "Generating URL ...\n",
      "Downloading data from https://earthengine.googleapis.com/v1alpha/projects/earthengine-legacy/thumbnails/a4909e93bd66ac29c6eeeee7b87f40af-2b019e9ae7e22a3c375d22a9b5fc7a41:getPixels\n",
      "Please wait ...\n",
      "Data downloaded to H:\\GEE_S2Cloud_Dataset_01\\2020-06-01_2020-09-30\\Synth\\07921\n",
      "Generating URL ...\n",
      "Downloading data from https://earthengine.googleapis.com/v1alpha/projects/earthengine-legacy/thumbnails/4015c5b37337bcb1dae6d98932d8155c-b02a9c1117aa6a00530218b37039104d:getPixels\n",
      "Please wait ...\n",
      "Data downloaded to H:\\GEE_S2Cloud_Dataset_01\\2020-06-01_2020-09-30\\Synth\\07921\n",
      "download i=4356\n",
      "Generating URL ...\n",
      "Downloading data from https://earthengine.googleapis.com/v1alpha/projects/earthengine-legacy/thumbnails/dc2911c3a6bb2566a0fade1da613e5a0-4ab6e9365a89c1fe7c283522556ae431:getPixels\n",
      "Please wait ...\n",
      "Data downloaded to H:\\GEE_S2Cloud_Dataset_01\\2020-06-01_2020-09-30\\Synth\\07925\n",
      "Generating URL ...\n",
      "Downloading data from https://earthengine.googleapis.com/v1alpha/projects/earthengine-legacy/thumbnails/5b77a54b1d167b6311b53cfb05e490a0-30be87a5a11f6bdca50737695d2f9fd8:getPixels\n",
      "Please wait ...\n",
      "Data downloaded to H:\\GEE_S2Cloud_Dataset_01\\2020-06-01_2020-09-30\\Synth\\07925\n",
      "download i=4357\n",
      "Generating URL ...\n",
      "Downloading data from https://earthengine.googleapis.com/v1alpha/projects/earthengine-legacy/thumbnails/2dfc604e86b96d53231f2e2f733440bd-aa3c93eee8662d4d301a69e74ebef14a:getPixels\n",
      "Please wait ...\n",
      "Data downloaded to H:\\GEE_S2Cloud_Dataset_01\\2020-06-01_2020-09-30\\Synth\\07927\n",
      "Generating URL ...\n",
      "Downloading data from https://earthengine.googleapis.com/v1alpha/projects/earthengine-legacy/thumbnails/754307e5cf2eebb3dd657e30c343cb82-24c7c208f5afcccc45371646fea392b8:getPixels\n",
      "Please wait ...\n",
      "Data downloaded to H:\\GEE_S2Cloud_Dataset_01\\2020-06-01_2020-09-30\\Synth\\07927\n",
      "download i=4358\n",
      "Generating URL ...\n",
      "Downloading data from https://earthengine.googleapis.com/v1alpha/projects/earthengine-legacy/thumbnails/907d31c135d7231b24caca653cb9b945-625f2d47aa0c1163a29fbb8def239eff:getPixels\n",
      "Please wait ...\n",
      "Data downloaded to H:\\GEE_S2Cloud_Dataset_01\\2020-06-01_2020-09-30\\Synth\\07929\n",
      "Generating URL ...\n",
      "Downloading data from https://earthengine.googleapis.com/v1alpha/projects/earthengine-legacy/thumbnails/30fdb6f9988c35d876da46137622ee02-be2168aba143a2b2bda1b6a6545b0535:getPixels\n",
      "Please wait ...\n",
      "Data downloaded to H:\\GEE_S2Cloud_Dataset_01\\2020-06-01_2020-09-30\\Synth\\07929\n",
      "download i=4359\n",
      "Generating URL ...\n",
      "Downloading data from https://earthengine.googleapis.com/v1alpha/projects/earthengine-legacy/thumbnails/f51ee4360cc2c1c473fe862022e2f504-5e2da3f9c604fd91c9e29a7a05dbaa93:getPixels\n",
      "Please wait ...\n",
      "Data downloaded to H:\\GEE_S2Cloud_Dataset_01\\2020-06-01_2020-09-30\\Synth\\07933\n",
      "Generating URL ...\n",
      "Downloading data from https://earthengine.googleapis.com/v1alpha/projects/earthengine-legacy/thumbnails/9c83811966eb49f62f751dc946872f52-0871d673fe322fc7ed08855c4326bd98:getPixels\n",
      "Please wait ...\n",
      "Data downloaded to H:\\GEE_S2Cloud_Dataset_01\\2020-06-01_2020-09-30\\Synth\\07933\n",
      "download i=4360\n",
      "Generating URL ...\n",
      "Downloading data from https://earthengine.googleapis.com/v1alpha/projects/earthengine-legacy/thumbnails/d79c321cf6725327634574e87c05b76f-8a185bb7a6c9271d604a405ec8a0dcff:getPixels\n",
      "Please wait ...\n",
      "Data downloaded to H:\\GEE_S2Cloud_Dataset_01\\2020-06-01_2020-09-30\\Synth\\07939\n",
      "Generating URL ...\n",
      "Downloading data from https://earthengine.googleapis.com/v1alpha/projects/earthengine-legacy/thumbnails/bf5f753933321fdd2e87ca909e38cdc1-c7b4902cd88135e65eafcfd7459e1338:getPixels\n",
      "Please wait ...\n",
      "Data downloaded to H:\\GEE_S2Cloud_Dataset_01\\2020-06-01_2020-09-30\\Synth\\07939\n",
      "download i=4361\n",
      "Generating URL ...\n",
      "Downloading data from https://earthengine.googleapis.com/v1alpha/projects/earthengine-legacy/thumbnails/2f51cd6379a7f5255527569fde03fdde-7c5f8cf6cf9a4ca1318ff2c909c68470:getPixels\n",
      "Please wait ...\n",
      "Data downloaded to H:\\GEE_S2Cloud_Dataset_01\\2020-06-01_2020-09-30\\Synth\\07947\n",
      "Generating URL ...\n",
      "Downloading data from https://earthengine.googleapis.com/v1alpha/projects/earthengine-legacy/thumbnails/524ec50c586f15bce3c4d8d9a25b9d8e-212c27991f1f25dac7b336fa1be0f435:getPixels\n",
      "Please wait ...\n",
      "Data downloaded to H:\\GEE_S2Cloud_Dataset_01\\2020-06-01_2020-09-30\\Synth\\07947\n",
      "download i=4362\n",
      "Generating URL ...\n",
      "Downloading data from https://earthengine.googleapis.com/v1alpha/projects/earthengine-legacy/thumbnails/abd4bc3b3e34aeb62b5cb38f6a42b2e6-285f84334dc610e378f7f3069aa88806:getPixels\n",
      "Please wait ...\n",
      "Data downloaded to H:\\GEE_S2Cloud_Dataset_01\\2020-06-01_2020-09-30\\Synth\\07950\n",
      "Generating URL ...\n",
      "Downloading data from https://earthengine.googleapis.com/v1alpha/projects/earthengine-legacy/thumbnails/6cd870beee885eaa11ef6c5163f2ae0a-eeeecb11460ad00aebf9459c297dd7ad:getPixels\n",
      "Please wait ...\n",
      "Data downloaded to H:\\GEE_S2Cloud_Dataset_01\\2020-06-01_2020-09-30\\Synth\\07950\n",
      "download i=4363\n",
      "Generating URL ...\n",
      "Downloading data from https://earthengine.googleapis.com/v1alpha/projects/earthengine-legacy/thumbnails/ddad32b2eee95925bb36aa10f3404b92-2dc28ed61ecc1ef0b901d069d8c0ea18:getPixels\n",
      "Please wait ...\n",
      "Data downloaded to H:\\GEE_S2Cloud_Dataset_01\\2020-06-01_2020-09-30\\Synth\\07962\n"
     ]
    },
    {
     "name": "stdout",
     "output_type": "stream",
     "text": [
      "Generating URL ...\n",
      "Downloading data from https://earthengine.googleapis.com/v1alpha/projects/earthengine-legacy/thumbnails/2298a2817a28cf463dd7a4db95927dd1-a17aeaa1debc5ec345e3dc746fa611bc:getPixels\n",
      "Please wait ...\n",
      "Data downloaded to H:\\GEE_S2Cloud_Dataset_01\\2020-06-01_2020-09-30\\Synth\\07962\n",
      "download i=4364\n",
      "Generating URL ...\n",
      "Downloading data from https://earthengine.googleapis.com/v1alpha/projects/earthengine-legacy/thumbnails/4be35192ec506bb8949bbb8584e23a72-2b4fbc57fba0a2f1ef728777f48f8357:getPixels\n",
      "Please wait ...\n",
      "Data downloaded to H:\\GEE_S2Cloud_Dataset_01\\2020-06-01_2020-09-30\\Synth\\07964\n",
      "Generating URL ...\n",
      "Downloading data from https://earthengine.googleapis.com/v1alpha/projects/earthengine-legacy/thumbnails/4d5186650e9dc0396721a16506001dcc-b0037ee5bbb3c88bb0e011b13919347f:getPixels\n",
      "Please wait ...\n",
      "Data downloaded to H:\\GEE_S2Cloud_Dataset_01\\2020-06-01_2020-09-30\\Synth\\07964\n",
      "download i=4365\n",
      "Generating URL ...\n",
      "Downloading data from https://earthengine.googleapis.com/v1alpha/projects/earthengine-legacy/thumbnails/2a8d210bb033ef519260b3efd10662b5-e52d65f9fa9f9912e5cbdcdc25dd2645:getPixels\n",
      "Please wait ...\n",
      "Data downloaded to H:\\GEE_S2Cloud_Dataset_01\\2020-06-01_2020-09-30\\Synth\\07965\n",
      "Generating URL ...\n",
      "Downloading data from https://earthengine.googleapis.com/v1alpha/projects/earthengine-legacy/thumbnails/221d34310b6ae7e852bc5394a489a832-5826e0bb4cdc9c2d1fc96e92dfeadc3b:getPixels\n",
      "Please wait ...\n",
      "Data downloaded to H:\\GEE_S2Cloud_Dataset_01\\2020-06-01_2020-09-30\\Synth\\07965\n",
      "download i=4366\n",
      "Generating URL ...\n",
      "Downloading data from https://earthengine.googleapis.com/v1alpha/projects/earthengine-legacy/thumbnails/9a295688cdad0f8cfc3db1325c4ef0fc-784ea0fc8d0f339ea0d5008231e74e75:getPixels\n",
      "Please wait ...\n",
      "Data downloaded to H:\\GEE_S2Cloud_Dataset_01\\2020-06-01_2020-09-30\\Synth\\07972\n",
      "Generating URL ...\n",
      "Downloading data from https://earthengine.googleapis.com/v1alpha/projects/earthengine-legacy/thumbnails/ae80a40f308e7f109bb592207e60aa31-beff018664b1b9b28b9776e261f0806e:getPixels\n",
      "Please wait ...\n",
      "Data downloaded to H:\\GEE_S2Cloud_Dataset_01\\2020-06-01_2020-09-30\\Synth\\07972\n",
      "download i=4367\n",
      "Generating URL ...\n",
      "Downloading data from https://earthengine.googleapis.com/v1alpha/projects/earthengine-legacy/thumbnails/31a4eb39da17b7f9ae2d14a5b42ff35e-a967ddbc88bd99cf658fd6a344fc8a72:getPixels\n",
      "Please wait ...\n",
      "Data downloaded to H:\\GEE_S2Cloud_Dataset_01\\2020-06-01_2020-09-30\\Synth\\07973\n",
      "Generating URL ...\n",
      "Downloading data from https://earthengine.googleapis.com/v1alpha/projects/earthengine-legacy/thumbnails/fbe6bb26edbf2bce4e7c4b727ccd06db-21919742cc12a74f42ba137847ca6091:getPixels\n",
      "Please wait ...\n",
      "Data downloaded to H:\\GEE_S2Cloud_Dataset_01\\2020-06-01_2020-09-30\\Synth\\07973\n",
      "download i=4368\n",
      "Generating URL ...\n",
      "Downloading data from https://earthengine.googleapis.com/v1alpha/projects/earthengine-legacy/thumbnails/fc08753f85ff8826e2e6b7a9d54427be-c15c46ea57739ecf1f1174e2c9ba4ce6:getPixels\n",
      "Please wait ...\n",
      "Data downloaded to H:\\GEE_S2Cloud_Dataset_01\\2020-06-01_2020-09-30\\Synth\\07975\n",
      "Generating URL ...\n",
      "Downloading data from https://earthengine.googleapis.com/v1alpha/projects/earthengine-legacy/thumbnails/3471d70d77fd357fac0da67b86d2ed67-5ab53f9ecc825840c449ba860298c832:getPixels\n",
      "Please wait ...\n",
      "Data downloaded to H:\\GEE_S2Cloud_Dataset_01\\2020-06-01_2020-09-30\\Synth\\07975\n",
      "download i=4369\n",
      "Generating URL ...\n",
      "Downloading data from https://earthengine.googleapis.com/v1alpha/projects/earthengine-legacy/thumbnails/a928a7caf80088a0973d5a8d2677473c-76877e1b671774847f4a4934d721f8f4:getPixels\n",
      "Please wait ...\n",
      "Data downloaded to H:\\GEE_S2Cloud_Dataset_01\\2020-06-01_2020-09-30\\Synth\\07976\n",
      "Generating URL ...\n",
      "Downloading data from https://earthengine.googleapis.com/v1alpha/projects/earthengine-legacy/thumbnails/cc7f792cb4b2c2ddf5a95db480aeb233-a6d0b1c889c8a0251d7a3d0ac9d43c7e:getPixels\n",
      "Please wait ...\n",
      "Data downloaded to H:\\GEE_S2Cloud_Dataset_01\\2020-06-01_2020-09-30\\Synth\\07976\n",
      "download i=4370\n",
      "Generating URL ...\n",
      "Downloading data from https://earthengine.googleapis.com/v1alpha/projects/earthengine-legacy/thumbnails/5657599f9827ae4b99ca63a2be624aa5-0ab5b9ac205b704eb0c84e5c5987c79a:getPixels\n",
      "Please wait ...\n",
      "Data downloaded to H:\\GEE_S2Cloud_Dataset_01\\2020-06-01_2020-09-30\\Synth\\07978\n",
      "Generating URL ...\n",
      "Downloading data from https://earthengine.googleapis.com/v1alpha/projects/earthengine-legacy/thumbnails/6909e532ed21f5195624d60597959944-b6817982b37c16b8979386a2409bc5d7:getPixels\n",
      "Please wait ...\n",
      "Data downloaded to H:\\GEE_S2Cloud_Dataset_01\\2020-06-01_2020-09-30\\Synth\\07978\n",
      "download i=4371\n",
      "Generating URL ...\n",
      "Downloading data from https://earthengine.googleapis.com/v1alpha/projects/earthengine-legacy/thumbnails/eb590d1cb9eaa3a0766252ff0ce3c779-3948b359878924ea89eefae76ce7442a:getPixels\n",
      "Please wait ...\n",
      "Data downloaded to H:\\GEE_S2Cloud_Dataset_01\\2020-06-01_2020-09-30\\Synth\\07979\n",
      "Generating URL ...\n",
      "Downloading data from https://earthengine.googleapis.com/v1alpha/projects/earthengine-legacy/thumbnails/618a4dd3024c2bd5aab2c7d453f01d49-c799038f3effdf09a9b96b51ed1e873d:getPixels\n",
      "Please wait ...\n",
      "Data downloaded to H:\\GEE_S2Cloud_Dataset_01\\2020-06-01_2020-09-30\\Synth\\07979\n",
      "download i=4372\n",
      "Generating URL ...\n",
      "Downloading data from https://earthengine.googleapis.com/v1alpha/projects/earthengine-legacy/thumbnails/b673a395534e434a2fc93074b947b34f-7d5759d27ea1a949d76de02cb09a861a:getPixels\n",
      "Please wait ...\n",
      "Data downloaded to H:\\GEE_S2Cloud_Dataset_01\\2020-06-01_2020-09-30\\Synth\\07980\n",
      "Generating URL ...\n",
      "Downloading data from https://earthengine.googleapis.com/v1alpha/projects/earthengine-legacy/thumbnails/e56bd071f5461c20bb42b4a3e5204a81-205086696fcf11625b180b9312aba287:getPixels\n",
      "Please wait ...\n",
      "Data downloaded to H:\\GEE_S2Cloud_Dataset_01\\2020-06-01_2020-09-30\\Synth\\07980\n",
      "download i=4373\n",
      "Generating URL ...\n",
      "Downloading data from https://earthengine.googleapis.com/v1alpha/projects/earthengine-legacy/thumbnails/b68e01fdd1c25f86839898cb05ffee8a-5f80ac5ae2897983a0742ab01017576c:getPixels\n",
      "Please wait ...\n"
     ]
    }
   ],
   "source": [
    "for i in range(4337,Len_positive):\n",
    "    # 获取时间区间以及存储路径\n",
    "    Obj = Positive.loc[i,['part','num','date','start_date','end_date']]\n",
    "    start_date = str(Obj.start_date)\n",
    "    end_date = str(Obj.end_date)\n",
    "    # 解析路径\n",
    "    Child_path = os.path.join(str(Positive.loc[i].TimeStart_End),str(Positive.loc[i].part),f'{Positive.loc[i].num:05d}')\n",
    "    out_dir = os.path.join(Parent_path,Child_path)\n",
    "    \n",
    "    # 根据AOI取对应位置和时间范围的S1_Collection\n",
    "    AOI = ee.Feature.geometry(Southest_Tibetan_GeoList.get(int(Positive.loc[i].num)))\n",
    "    AOI_buffer = AOI.buffer(distance=300)\n",
    "    s1_ascending,s1_descending = load_image_collection(AOI_buffer,start_date,end_date,s2_date=str(Obj.date))\n",
    "\n",
    "    # descending_image && ascending image ，通过将collection转化为list，并定位时间差绝对值最小值序号，获取图像\n",
    "    ascending_image  = ee.Image(s1_ascending.toList(10).get(int(np.argmin(s1_ascending.aggregate_array('time_difference').getInfo()))))\n",
    "    descending_image = ee.Image(s1_descending.toList(10).get(int(np.argmin(s1_descending.aggregate_array('time_difference').getInfo()))))\n",
    "    Geemap_export(out_dir,ascending_image,region=AOI)\n",
    "    Geemap_export(out_dir,descending_image,region=AOI)\n",
    "    print('download i={}'.format(i))"
   ]
  },
  {
   "cell_type": "code",
   "execution_count": 56,
   "id": "45336817",
   "metadata": {
    "ExecuteTime": {
     "end_time": "2023-01-05T07:38:19.608077Z",
     "start_time": "2023-01-05T07:37:13.697637Z"
    }
   },
   "outputs": [
    {
     "name": "stdout",
     "output_type": "stream",
     "text": [
      "Generating URL ...\n",
      "Downloading data from https://earthengine.googleapis.com/v1alpha/projects/earthengine-legacy/thumbnails/ff5138a85be959f7b1210ca7540ebf67-1055eae33090b0d35b85944eac2f2003:getPixels\n",
      "Please wait ...\n",
      "Data downloaded to H:\\GEE_S2Cloud_Dataset_01\\2020-06-01_2020-09-30\\Real\\10931\n",
      "Generating URL ...\n",
      "Downloading data from https://earthengine.googleapis.com/v1alpha/projects/earthengine-legacy/thumbnails/7878cffdea1b2f43a558b46f63752571-c5802a1dd0ed6b6897048da1a38b525d:getPixels\n",
      "Please wait ...\n",
      "Data downloaded to H:\\GEE_S2Cloud_Dataset_01\\2020-06-01_2020-09-30\\Real\\10931\n",
      "download i=2242\n",
      "Generating URL ...\n",
      "Downloading data from https://earthengine.googleapis.com/v1alpha/projects/earthengine-legacy/thumbnails/82dd0c59d7f9f52046e323ce514cc96e-943d6de91d29039bc7eb506a80ab5d4d:getPixels\n",
      "Please wait ...\n",
      "Data downloaded to H:\\GEE_S2Cloud_Dataset_01\\2020-06-01_2020-09-30\\Real\\05792\n"
     ]
    },
    {
     "ename": "KeyboardInterrupt",
     "evalue": "",
     "output_type": "error",
     "traceback": [
      "\u001b[1;31m---------------------------------------------------------------------------\u001b[0m",
      "\u001b[1;31mKeyboardInterrupt\u001b[0m                         Traceback (most recent call last)",
      "\u001b[1;32mC:\\Users\\ADMINI~1\\AppData\\Local\\Temp/ipykernel_10460/476499575.py\u001b[0m in \u001b[0;36m<module>\u001b[1;34m\u001b[0m\n\u001b[0;32m     17\u001b[0m     \u001b[0mdescending_image\u001b[0m \u001b[1;33m=\u001b[0m \u001b[0mee\u001b[0m\u001b[1;33m.\u001b[0m\u001b[0mImage\u001b[0m\u001b[1;33m(\u001b[0m\u001b[0ms1_descending\u001b[0m\u001b[1;33m.\u001b[0m\u001b[0mtoList\u001b[0m\u001b[1;33m(\u001b[0m\u001b[1;36m10\u001b[0m\u001b[1;33m)\u001b[0m\u001b[1;33m.\u001b[0m\u001b[0mget\u001b[0m\u001b[1;33m(\u001b[0m\u001b[0mint\u001b[0m\u001b[1;33m(\u001b[0m\u001b[0mnp\u001b[0m\u001b[1;33m.\u001b[0m\u001b[0margmin\u001b[0m\u001b[1;33m(\u001b[0m\u001b[0ms1_descending\u001b[0m\u001b[1;33m.\u001b[0m\u001b[0maggregate_array\u001b[0m\u001b[1;33m(\u001b[0m\u001b[1;34m'time_difference'\u001b[0m\u001b[1;33m)\u001b[0m\u001b[1;33m.\u001b[0m\u001b[0mgetInfo\u001b[0m\u001b[1;33m(\u001b[0m\u001b[1;33m)\u001b[0m\u001b[1;33m)\u001b[0m\u001b[1;33m)\u001b[0m\u001b[1;33m)\u001b[0m\u001b[1;33m)\u001b[0m\u001b[1;33m\u001b[0m\u001b[1;33m\u001b[0m\u001b[0m\n\u001b[0;32m     18\u001b[0m     \u001b[0mGeemap_export\u001b[0m\u001b[1;33m(\u001b[0m\u001b[0mout_dir\u001b[0m\u001b[1;33m,\u001b[0m\u001b[0mascending_image\u001b[0m\u001b[1;33m,\u001b[0m\u001b[0mregion\u001b[0m\u001b[1;33m=\u001b[0m\u001b[0mAOI\u001b[0m\u001b[1;33m)\u001b[0m\u001b[1;33m\u001b[0m\u001b[1;33m\u001b[0m\u001b[0m\n\u001b[1;32m---> 19\u001b[1;33m     \u001b[0mGeemap_export\u001b[0m\u001b[1;33m(\u001b[0m\u001b[0mout_dir\u001b[0m\u001b[1;33m,\u001b[0m\u001b[0mdescending_image\u001b[0m\u001b[1;33m,\u001b[0m\u001b[0mregion\u001b[0m\u001b[1;33m=\u001b[0m\u001b[0mAOI\u001b[0m\u001b[1;33m)\u001b[0m\u001b[1;33m\u001b[0m\u001b[1;33m\u001b[0m\u001b[0m\n\u001b[0m\u001b[0;32m     20\u001b[0m     \u001b[0mprint\u001b[0m\u001b[1;33m(\u001b[0m\u001b[1;34m'download i={}'\u001b[0m\u001b[1;33m.\u001b[0m\u001b[0mformat\u001b[0m\u001b[1;33m(\u001b[0m\u001b[0mi\u001b[0m\u001b[1;33m)\u001b[0m\u001b[1;33m)\u001b[0m\u001b[1;33m\u001b[0m\u001b[1;33m\u001b[0m\u001b[0m\n",
      "\u001b[1;32mC:\\Users\\ADMINI~1\\AppData\\Local\\Temp/ipykernel_10460/2348596544.py\u001b[0m in \u001b[0;36mGeemap_export\u001b[1;34m(outdir, image, region, scale)\u001b[0m\n\u001b[0;32m     31\u001b[0m \u001b[1;32mdef\u001b[0m \u001b[0mGeemap_export\u001b[0m\u001b[1;33m(\u001b[0m\u001b[0moutdir\u001b[0m\u001b[1;33m,\u001b[0m\u001b[0mimage\u001b[0m\u001b[1;33m,\u001b[0m\u001b[0mregion\u001b[0m\u001b[1;33m,\u001b[0m\u001b[0mscale\u001b[0m\u001b[1;33m=\u001b[0m\u001b[1;36m10\u001b[0m\u001b[1;33m)\u001b[0m\u001b[1;33m:\u001b[0m\u001b[1;33m\u001b[0m\u001b[1;33m\u001b[0m\u001b[0m\n\u001b[0;32m     32\u001b[0m     \u001b[1;31m# 判断升降轨道,s1与s2的数据存储位置相互对应，保存文件仍然是id本身\u001b[0m\u001b[1;33m\u001b[0m\u001b[1;33m\u001b[0m\u001b[0m\n\u001b[1;32m---> 33\u001b[1;33m     \u001b[0mParten\u001b[0m \u001b[1;33m=\u001b[0m \u001b[0mimage\u001b[0m\u001b[1;33m.\u001b[0m\u001b[0mget\u001b[0m\u001b[1;33m(\u001b[0m\u001b[1;34m'orbitProperties_pass'\u001b[0m\u001b[1;33m)\u001b[0m\u001b[1;33m.\u001b[0m\u001b[0mgetInfo\u001b[0m\u001b[1;33m(\u001b[0m\u001b[1;33m)\u001b[0m\u001b[1;33m\u001b[0m\u001b[1;33m\u001b[0m\u001b[0m\n\u001b[0m\u001b[0;32m     34\u001b[0m     \u001b[0mfile_name\u001b[0m \u001b[1;33m=\u001b[0m \u001b[0mos\u001b[0m\u001b[1;33m.\u001b[0m\u001b[0mpath\u001b[0m\u001b[1;33m.\u001b[0m\u001b[0mjoin\u001b[0m\u001b[1;33m(\u001b[0m\u001b[0moutdir\u001b[0m\u001b[1;33m,\u001b[0m\u001b[0mParten\u001b[0m\u001b[1;33m+\u001b[0m\u001b[1;34m'_'\u001b[0m\u001b[1;33m+\u001b[0m\u001b[0mimage\u001b[0m\u001b[1;33m.\u001b[0m\u001b[0mid\u001b[0m\u001b[1;33m(\u001b[0m\u001b[1;33m)\u001b[0m\u001b[1;33m.\u001b[0m\u001b[0mgetInfo\u001b[0m\u001b[1;33m(\u001b[0m\u001b[1;33m)\u001b[0m\u001b[1;33m+\u001b[0m\u001b[1;34m'.tif'\u001b[0m\u001b[1;33m)\u001b[0m\u001b[1;33m\u001b[0m\u001b[1;33m\u001b[0m\u001b[0m\n\u001b[0;32m     35\u001b[0m     geemap.ee_export_image(image,\n",
      "\u001b[1;32mD:\\Wrz\\anaconda\\envs\\GEE\\lib\\site-packages\\ee\\computedobject.py\u001b[0m in \u001b[0;36mgetInfo\u001b[1;34m(self)\u001b[0m\n\u001b[0;32m     96\u001b[0m       \u001b[0mThe\u001b[0m \u001b[0mobject\u001b[0m \u001b[0mcan\u001b[0m \u001b[0mevaluate\u001b[0m \u001b[0mto\u001b[0m \u001b[0manything\u001b[0m\u001b[1;33m.\u001b[0m\u001b[1;33m\u001b[0m\u001b[1;33m\u001b[0m\u001b[0m\n\u001b[0;32m     97\u001b[0m     \"\"\"\n\u001b[1;32m---> 98\u001b[1;33m     \u001b[1;32mreturn\u001b[0m \u001b[0mdata\u001b[0m\u001b[1;33m.\u001b[0m\u001b[0mcomputeValue\u001b[0m\u001b[1;33m(\u001b[0m\u001b[0mself\u001b[0m\u001b[1;33m)\u001b[0m\u001b[1;33m\u001b[0m\u001b[1;33m\u001b[0m\u001b[0m\n\u001b[0m\u001b[0;32m     99\u001b[0m \u001b[1;33m\u001b[0m\u001b[0m\n\u001b[0;32m    100\u001b[0m   \u001b[1;32mdef\u001b[0m \u001b[0mencode\u001b[0m\u001b[1;33m(\u001b[0m\u001b[0mself\u001b[0m\u001b[1;33m,\u001b[0m \u001b[0mencoder\u001b[0m\u001b[1;33m)\u001b[0m\u001b[1;33m:\u001b[0m\u001b[1;33m\u001b[0m\u001b[1;33m\u001b[0m\u001b[0m\n",
      "\u001b[1;32mD:\\Wrz\\anaconda\\envs\\GEE\\lib\\site-packages\\ee\\data.py\u001b[0m in \u001b[0;36mcomputeValue\u001b[1;34m(obj)\u001b[0m\n\u001b[0;32m    736\u001b[0m     \u001b[0mbody\u001b[0m\u001b[1;33m[\u001b[0m\u001b[1;34m'workloadTag'\u001b[0m\u001b[1;33m]\u001b[0m \u001b[1;33m=\u001b[0m \u001b[0mworkload_tag\u001b[0m\u001b[1;33m\u001b[0m\u001b[1;33m\u001b[0m\u001b[0m\n\u001b[0;32m    737\u001b[0m \u001b[1;33m\u001b[0m\u001b[0m\n\u001b[1;32m--> 738\u001b[1;33m   return _execute_cloud_call(\n\u001b[0m\u001b[0;32m    739\u001b[0m       _get_cloud_api_resource().projects().value().compute(\n\u001b[0;32m    740\u001b[0m           \u001b[0mbody\u001b[0m\u001b[1;33m=\u001b[0m\u001b[0mbody\u001b[0m\u001b[1;33m,\u001b[0m\u001b[1;33m\u001b[0m\u001b[1;33m\u001b[0m\u001b[0m\n",
      "\u001b[1;32mD:\\Wrz\\anaconda\\envs\\GEE\\lib\\site-packages\\ee\\data.py\u001b[0m in \u001b[0;36m_execute_cloud_call\u001b[1;34m(call, num_retries)\u001b[0m\n\u001b[0;32m    326\u001b[0m   \"\"\"\n\u001b[0;32m    327\u001b[0m   \u001b[1;32mtry\u001b[0m\u001b[1;33m:\u001b[0m\u001b[1;33m\u001b[0m\u001b[1;33m\u001b[0m\u001b[0m\n\u001b[1;32m--> 328\u001b[1;33m     \u001b[1;32mreturn\u001b[0m \u001b[0mcall\u001b[0m\u001b[1;33m.\u001b[0m\u001b[0mexecute\u001b[0m\u001b[1;33m(\u001b[0m\u001b[0mnum_retries\u001b[0m\u001b[1;33m=\u001b[0m\u001b[0mnum_retries\u001b[0m\u001b[1;33m)\u001b[0m\u001b[1;33m\u001b[0m\u001b[1;33m\u001b[0m\u001b[0m\n\u001b[0m\u001b[0;32m    329\u001b[0m   \u001b[1;32mexcept\u001b[0m \u001b[0mgoogleapiclient\u001b[0m\u001b[1;33m.\u001b[0m\u001b[0merrors\u001b[0m\u001b[1;33m.\u001b[0m\u001b[0mHttpError\u001b[0m \u001b[1;32mas\u001b[0m \u001b[0me\u001b[0m\u001b[1;33m:\u001b[0m\u001b[1;33m\u001b[0m\u001b[1;33m\u001b[0m\u001b[0m\n\u001b[0;32m    330\u001b[0m     \u001b[1;32mraise\u001b[0m \u001b[0m_translate_cloud_exception\u001b[0m\u001b[1;33m(\u001b[0m\u001b[0me\u001b[0m\u001b[1;33m)\u001b[0m\u001b[1;33m\u001b[0m\u001b[1;33m\u001b[0m\u001b[0m\n",
      "\u001b[1;32mD:\\Wrz\\anaconda\\envs\\GEE\\lib\\site-packages\\googleapiclient\\_helpers.py\u001b[0m in \u001b[0;36mpositional_wrapper\u001b[1;34m(*args, **kwargs)\u001b[0m\n\u001b[0;32m    132\u001b[0m                 \u001b[1;32melif\u001b[0m \u001b[0mpositional_parameters_enforcement\u001b[0m \u001b[1;33m==\u001b[0m \u001b[0mPOSITIONAL_WARNING\u001b[0m\u001b[1;33m:\u001b[0m\u001b[1;33m\u001b[0m\u001b[1;33m\u001b[0m\u001b[0m\n\u001b[0;32m    133\u001b[0m                     \u001b[0mlogger\u001b[0m\u001b[1;33m.\u001b[0m\u001b[0mwarning\u001b[0m\u001b[1;33m(\u001b[0m\u001b[0mmessage\u001b[0m\u001b[1;33m)\u001b[0m\u001b[1;33m\u001b[0m\u001b[1;33m\u001b[0m\u001b[0m\n\u001b[1;32m--> 134\u001b[1;33m             \u001b[1;32mreturn\u001b[0m \u001b[0mwrapped\u001b[0m\u001b[1;33m(\u001b[0m\u001b[1;33m*\u001b[0m\u001b[0margs\u001b[0m\u001b[1;33m,\u001b[0m \u001b[1;33m**\u001b[0m\u001b[0mkwargs\u001b[0m\u001b[1;33m)\u001b[0m\u001b[1;33m\u001b[0m\u001b[1;33m\u001b[0m\u001b[0m\n\u001b[0m\u001b[0;32m    135\u001b[0m \u001b[1;33m\u001b[0m\u001b[0m\n\u001b[0;32m    136\u001b[0m         \u001b[1;32mreturn\u001b[0m \u001b[0mpositional_wrapper\u001b[0m\u001b[1;33m\u001b[0m\u001b[1;33m\u001b[0m\u001b[0m\n",
      "\u001b[1;32mD:\\Wrz\\anaconda\\envs\\GEE\\lib\\site-packages\\googleapiclient\\http.py\u001b[0m in \u001b[0;36mexecute\u001b[1;34m(self, http, num_retries)\u001b[0m\n\u001b[0;32m    898\u001b[0m \u001b[1;33m\u001b[0m\u001b[0m\n\u001b[0;32m    899\u001b[0m         \u001b[1;31m# Handle retries for server-side errors.\u001b[0m\u001b[1;33m\u001b[0m\u001b[1;33m\u001b[0m\u001b[0m\n\u001b[1;32m--> 900\u001b[1;33m         resp, content = _retry_request(\n\u001b[0m\u001b[0;32m    901\u001b[0m             \u001b[0mhttp\u001b[0m\u001b[1;33m,\u001b[0m\u001b[1;33m\u001b[0m\u001b[1;33m\u001b[0m\u001b[0m\n\u001b[0;32m    902\u001b[0m             \u001b[0mnum_retries\u001b[0m\u001b[1;33m,\u001b[0m\u001b[1;33m\u001b[0m\u001b[1;33m\u001b[0m\u001b[0m\n",
      "\u001b[1;32mD:\\Wrz\\anaconda\\envs\\GEE\\lib\\site-packages\\googleapiclient\\http.py\u001b[0m in \u001b[0;36m_retry_request\u001b[1;34m(http, num_retries, req_type, sleep, rand, uri, method, *args, **kwargs)\u001b[0m\n\u001b[0;32m    175\u001b[0m         \u001b[1;32mtry\u001b[0m\u001b[1;33m:\u001b[0m\u001b[1;33m\u001b[0m\u001b[1;33m\u001b[0m\u001b[0m\n\u001b[0;32m    176\u001b[0m             \u001b[0mexception\u001b[0m \u001b[1;33m=\u001b[0m \u001b[1;32mNone\u001b[0m\u001b[1;33m\u001b[0m\u001b[1;33m\u001b[0m\u001b[0m\n\u001b[1;32m--> 177\u001b[1;33m             \u001b[0mresp\u001b[0m\u001b[1;33m,\u001b[0m \u001b[0mcontent\u001b[0m \u001b[1;33m=\u001b[0m \u001b[0mhttp\u001b[0m\u001b[1;33m.\u001b[0m\u001b[0mrequest\u001b[0m\u001b[1;33m(\u001b[0m\u001b[0muri\u001b[0m\u001b[1;33m,\u001b[0m \u001b[0mmethod\u001b[0m\u001b[1;33m,\u001b[0m \u001b[1;33m*\u001b[0m\u001b[0margs\u001b[0m\u001b[1;33m,\u001b[0m \u001b[1;33m**\u001b[0m\u001b[0mkwargs\u001b[0m\u001b[1;33m)\u001b[0m\u001b[1;33m\u001b[0m\u001b[1;33m\u001b[0m\u001b[0m\n\u001b[0m\u001b[0;32m    178\u001b[0m         \u001b[1;31m# Retry on SSL errors and socket timeout errors.\u001b[0m\u001b[1;33m\u001b[0m\u001b[1;33m\u001b[0m\u001b[0m\n\u001b[0;32m    179\u001b[0m         \u001b[1;32mexcept\u001b[0m \u001b[0m_ssl_SSLError\u001b[0m \u001b[1;32mas\u001b[0m \u001b[0mssl_error\u001b[0m\u001b[1;33m:\u001b[0m\u001b[1;33m\u001b[0m\u001b[1;33m\u001b[0m\u001b[0m\n",
      "\u001b[1;32mD:\\Wrz\\anaconda\\envs\\GEE\\lib\\site-packages\\google_auth_httplib2.py\u001b[0m in \u001b[0;36mrequest\u001b[1;34m(self, uri, method, body, headers, redirections, connection_type, **kwargs)\u001b[0m\n\u001b[0;32m    216\u001b[0m \u001b[1;33m\u001b[0m\u001b[0m\n\u001b[0;32m    217\u001b[0m         \u001b[1;31m# Make the request.\u001b[0m\u001b[1;33m\u001b[0m\u001b[1;33m\u001b[0m\u001b[0m\n\u001b[1;32m--> 218\u001b[1;33m         response, content = self.http.request(\n\u001b[0m\u001b[0;32m    219\u001b[0m             \u001b[0muri\u001b[0m\u001b[1;33m,\u001b[0m\u001b[1;33m\u001b[0m\u001b[1;33m\u001b[0m\u001b[0m\n\u001b[0;32m    220\u001b[0m             \u001b[0mmethod\u001b[0m\u001b[1;33m,\u001b[0m\u001b[1;33m\u001b[0m\u001b[1;33m\u001b[0m\u001b[0m\n",
      "\u001b[1;32mD:\\Wrz\\anaconda\\envs\\GEE\\lib\\site-packages\\httplib2\\__init__.py\u001b[0m in \u001b[0;36mrequest\u001b[1;34m(self, uri, method, body, headers, redirections, connection_type)\u001b[0m\n\u001b[0;32m   1699\u001b[0m                     \u001b[0mcontent\u001b[0m \u001b[1;33m=\u001b[0m \u001b[1;34mb\"\"\u001b[0m\u001b[1;33m\u001b[0m\u001b[1;33m\u001b[0m\u001b[0m\n\u001b[0;32m   1700\u001b[0m                 \u001b[1;32melse\u001b[0m\u001b[1;33m:\u001b[0m\u001b[1;33m\u001b[0m\u001b[1;33m\u001b[0m\u001b[0m\n\u001b[1;32m-> 1701\u001b[1;33m                     (response, content) = self._request(\n\u001b[0m\u001b[0;32m   1702\u001b[0m                         \u001b[0mconn\u001b[0m\u001b[1;33m,\u001b[0m \u001b[0mauthority\u001b[0m\u001b[1;33m,\u001b[0m \u001b[0muri\u001b[0m\u001b[1;33m,\u001b[0m \u001b[0mrequest_uri\u001b[0m\u001b[1;33m,\u001b[0m \u001b[0mmethod\u001b[0m\u001b[1;33m,\u001b[0m \u001b[0mbody\u001b[0m\u001b[1;33m,\u001b[0m \u001b[0mheaders\u001b[0m\u001b[1;33m,\u001b[0m \u001b[0mredirections\u001b[0m\u001b[1;33m,\u001b[0m \u001b[0mcachekey\u001b[0m\u001b[1;33m,\u001b[0m\u001b[1;33m\u001b[0m\u001b[1;33m\u001b[0m\u001b[0m\n\u001b[0;32m   1703\u001b[0m                     )\n",
      "\u001b[1;32mD:\\Wrz\\anaconda\\envs\\GEE\\lib\\site-packages\\httplib2\\__init__.py\u001b[0m in \u001b[0;36m_request\u001b[1;34m(self, conn, host, absolute_uri, request_uri, method, body, headers, redirections, cachekey)\u001b[0m\n\u001b[0;32m   1419\u001b[0m             \u001b[0mauth\u001b[0m\u001b[1;33m.\u001b[0m\u001b[0mrequest\u001b[0m\u001b[1;33m(\u001b[0m\u001b[0mmethod\u001b[0m\u001b[1;33m,\u001b[0m \u001b[0mrequest_uri\u001b[0m\u001b[1;33m,\u001b[0m \u001b[0mheaders\u001b[0m\u001b[1;33m,\u001b[0m \u001b[0mbody\u001b[0m\u001b[1;33m)\u001b[0m\u001b[1;33m\u001b[0m\u001b[1;33m\u001b[0m\u001b[0m\n\u001b[0;32m   1420\u001b[0m \u001b[1;33m\u001b[0m\u001b[0m\n\u001b[1;32m-> 1421\u001b[1;33m         \u001b[1;33m(\u001b[0m\u001b[0mresponse\u001b[0m\u001b[1;33m,\u001b[0m \u001b[0mcontent\u001b[0m\u001b[1;33m)\u001b[0m \u001b[1;33m=\u001b[0m \u001b[0mself\u001b[0m\u001b[1;33m.\u001b[0m\u001b[0m_conn_request\u001b[0m\u001b[1;33m(\u001b[0m\u001b[0mconn\u001b[0m\u001b[1;33m,\u001b[0m \u001b[0mrequest_uri\u001b[0m\u001b[1;33m,\u001b[0m \u001b[0mmethod\u001b[0m\u001b[1;33m,\u001b[0m \u001b[0mbody\u001b[0m\u001b[1;33m,\u001b[0m \u001b[0mheaders\u001b[0m\u001b[1;33m)\u001b[0m\u001b[1;33m\u001b[0m\u001b[1;33m\u001b[0m\u001b[0m\n\u001b[0m\u001b[0;32m   1422\u001b[0m \u001b[1;33m\u001b[0m\u001b[0m\n\u001b[0;32m   1423\u001b[0m         \u001b[1;32mif\u001b[0m \u001b[0mauth\u001b[0m\u001b[1;33m:\u001b[0m\u001b[1;33m\u001b[0m\u001b[1;33m\u001b[0m\u001b[0m\n",
      "\u001b[1;32mD:\\Wrz\\anaconda\\envs\\GEE\\lib\\site-packages\\httplib2shim\\__init__.py\u001b[0m in \u001b[0;36m_conn_request\u001b[1;34m(self, conn, request_uri, method, body, headers)\u001b[0m\n\u001b[0;32m    138\u001b[0m \u001b[1;33m\u001b[0m\u001b[0m\n\u001b[0;32m    139\u001b[0m         \u001b[1;32mtry\u001b[0m\u001b[1;33m:\u001b[0m\u001b[1;33m\u001b[0m\u001b[1;33m\u001b[0m\u001b[0m\n\u001b[1;32m--> 140\u001b[1;33m             urllib3_response = self.pool.request(\n\u001b[0m\u001b[0;32m    141\u001b[0m                 \u001b[0mmethod\u001b[0m\u001b[1;33m,\u001b[0m\u001b[1;33m\u001b[0m\u001b[1;33m\u001b[0m\u001b[0m\n\u001b[0;32m    142\u001b[0m                 \u001b[0mfull_uri\u001b[0m\u001b[1;33m,\u001b[0m\u001b[1;33m\u001b[0m\u001b[1;33m\u001b[0m\u001b[0m\n",
      "\u001b[1;32mD:\\Wrz\\anaconda\\envs\\GEE\\lib\\site-packages\\urllib3\\request.py\u001b[0m in \u001b[0;36mrequest\u001b[1;34m(self, method, url, fields, headers, **urlopen_kw)\u001b[0m\n\u001b[0;32m     77\u001b[0m             )\n\u001b[0;32m     78\u001b[0m         \u001b[1;32melse\u001b[0m\u001b[1;33m:\u001b[0m\u001b[1;33m\u001b[0m\u001b[1;33m\u001b[0m\u001b[0m\n\u001b[1;32m---> 79\u001b[1;33m             return self.request_encode_body(\n\u001b[0m\u001b[0;32m     80\u001b[0m                 \u001b[0mmethod\u001b[0m\u001b[1;33m,\u001b[0m \u001b[0murl\u001b[0m\u001b[1;33m,\u001b[0m \u001b[0mfields\u001b[0m\u001b[1;33m=\u001b[0m\u001b[0mfields\u001b[0m\u001b[1;33m,\u001b[0m \u001b[0mheaders\u001b[0m\u001b[1;33m=\u001b[0m\u001b[0mheaders\u001b[0m\u001b[1;33m,\u001b[0m \u001b[1;33m**\u001b[0m\u001b[0murlopen_kw\u001b[0m\u001b[1;33m\u001b[0m\u001b[1;33m\u001b[0m\u001b[0m\n\u001b[0;32m     81\u001b[0m             )\n",
      "\u001b[1;32mD:\\Wrz\\anaconda\\envs\\GEE\\lib\\site-packages\\urllib3\\request.py\u001b[0m in \u001b[0;36mrequest_encode_body\u001b[1;34m(self, method, url, fields, headers, encode_multipart, multipart_boundary, **urlopen_kw)\u001b[0m\n\u001b[0;32m    169\u001b[0m         \u001b[0mextra_kw\u001b[0m\u001b[1;33m.\u001b[0m\u001b[0mupdate\u001b[0m\u001b[1;33m(\u001b[0m\u001b[0murlopen_kw\u001b[0m\u001b[1;33m)\u001b[0m\u001b[1;33m\u001b[0m\u001b[1;33m\u001b[0m\u001b[0m\n\u001b[0;32m    170\u001b[0m \u001b[1;33m\u001b[0m\u001b[0m\n\u001b[1;32m--> 171\u001b[1;33m         \u001b[1;32mreturn\u001b[0m \u001b[0mself\u001b[0m\u001b[1;33m.\u001b[0m\u001b[0murlopen\u001b[0m\u001b[1;33m(\u001b[0m\u001b[0mmethod\u001b[0m\u001b[1;33m,\u001b[0m \u001b[0murl\u001b[0m\u001b[1;33m,\u001b[0m \u001b[1;33m**\u001b[0m\u001b[0mextra_kw\u001b[0m\u001b[1;33m)\u001b[0m\u001b[1;33m\u001b[0m\u001b[1;33m\u001b[0m\u001b[0m\n\u001b[0m",
      "\u001b[1;32mD:\\Wrz\\anaconda\\envs\\GEE\\lib\\site-packages\\urllib3\\poolmanager.py\u001b[0m in \u001b[0;36murlopen\u001b[1;34m(self, method, url, redirect, **kw)\u001b[0m\n\u001b[0;32m    486\u001b[0m             \u001b[0mkw\u001b[0m\u001b[1;33m[\u001b[0m\u001b[1;34m\"headers\"\u001b[0m\u001b[1;33m]\u001b[0m \u001b[1;33m=\u001b[0m \u001b[0mself\u001b[0m\u001b[1;33m.\u001b[0m\u001b[0m_set_proxy_headers\u001b[0m\u001b[1;33m(\u001b[0m\u001b[0murl\u001b[0m\u001b[1;33m,\u001b[0m \u001b[0mheaders\u001b[0m\u001b[1;33m)\u001b[0m\u001b[1;33m\u001b[0m\u001b[1;33m\u001b[0m\u001b[0m\n\u001b[0;32m    487\u001b[0m \u001b[1;33m\u001b[0m\u001b[0m\n\u001b[1;32m--> 488\u001b[1;33m         \u001b[1;32mreturn\u001b[0m \u001b[0msuper\u001b[0m\u001b[1;33m(\u001b[0m\u001b[0mProxyManager\u001b[0m\u001b[1;33m,\u001b[0m \u001b[0mself\u001b[0m\u001b[1;33m)\u001b[0m\u001b[1;33m.\u001b[0m\u001b[0murlopen\u001b[0m\u001b[1;33m(\u001b[0m\u001b[0mmethod\u001b[0m\u001b[1;33m,\u001b[0m \u001b[0murl\u001b[0m\u001b[1;33m,\u001b[0m \u001b[0mredirect\u001b[0m\u001b[1;33m=\u001b[0m\u001b[0mredirect\u001b[0m\u001b[1;33m,\u001b[0m \u001b[1;33m**\u001b[0m\u001b[0mkw\u001b[0m\u001b[1;33m)\u001b[0m\u001b[1;33m\u001b[0m\u001b[1;33m\u001b[0m\u001b[0m\n\u001b[0m\u001b[0;32m    489\u001b[0m \u001b[1;33m\u001b[0m\u001b[0m\n\u001b[0;32m    490\u001b[0m \u001b[1;33m\u001b[0m\u001b[0m\n",
      "\u001b[1;32mD:\\Wrz\\anaconda\\envs\\GEE\\lib\\site-packages\\urllib3\\poolmanager.py\u001b[0m in \u001b[0;36murlopen\u001b[1;34m(self, method, url, redirect, **kw)\u001b[0m\n\u001b[0;32m    334\u001b[0m             \u001b[0mresponse\u001b[0m \u001b[1;33m=\u001b[0m \u001b[0mconn\u001b[0m\u001b[1;33m.\u001b[0m\u001b[0murlopen\u001b[0m\u001b[1;33m(\u001b[0m\u001b[0mmethod\u001b[0m\u001b[1;33m,\u001b[0m \u001b[0murl\u001b[0m\u001b[1;33m,\u001b[0m \u001b[1;33m**\u001b[0m\u001b[0mkw\u001b[0m\u001b[1;33m)\u001b[0m\u001b[1;33m\u001b[0m\u001b[1;33m\u001b[0m\u001b[0m\n\u001b[0;32m    335\u001b[0m         \u001b[1;32melse\u001b[0m\u001b[1;33m:\u001b[0m\u001b[1;33m\u001b[0m\u001b[1;33m\u001b[0m\u001b[0m\n\u001b[1;32m--> 336\u001b[1;33m             \u001b[0mresponse\u001b[0m \u001b[1;33m=\u001b[0m \u001b[0mconn\u001b[0m\u001b[1;33m.\u001b[0m\u001b[0murlopen\u001b[0m\u001b[1;33m(\u001b[0m\u001b[0mmethod\u001b[0m\u001b[1;33m,\u001b[0m \u001b[0mu\u001b[0m\u001b[1;33m.\u001b[0m\u001b[0mrequest_uri\u001b[0m\u001b[1;33m,\u001b[0m \u001b[1;33m**\u001b[0m\u001b[0mkw\u001b[0m\u001b[1;33m)\u001b[0m\u001b[1;33m\u001b[0m\u001b[1;33m\u001b[0m\u001b[0m\n\u001b[0m\u001b[0;32m    337\u001b[0m \u001b[1;33m\u001b[0m\u001b[0m\n\u001b[0;32m    338\u001b[0m         \u001b[0mredirect_location\u001b[0m \u001b[1;33m=\u001b[0m \u001b[0mredirect\u001b[0m \u001b[1;32mand\u001b[0m \u001b[0mresponse\u001b[0m\u001b[1;33m.\u001b[0m\u001b[0mget_redirect_location\u001b[0m\u001b[1;33m(\u001b[0m\u001b[1;33m)\u001b[0m\u001b[1;33m\u001b[0m\u001b[1;33m\u001b[0m\u001b[0m\n",
      "\u001b[1;32mD:\\Wrz\\anaconda\\envs\\GEE\\lib\\site-packages\\urllib3\\connectionpool.py\u001b[0m in \u001b[0;36murlopen\u001b[1;34m(self, method, url, body, headers, retries, redirect, assert_same_host, timeout, pool_timeout, release_conn, chunked, body_pos, **response_kw)\u001b[0m\n\u001b[0;32m    668\u001b[0m \u001b[1;33m\u001b[0m\u001b[0m\n\u001b[0;32m    669\u001b[0m             \u001b[1;31m# Make the request on the httplib connection object.\u001b[0m\u001b[1;33m\u001b[0m\u001b[1;33m\u001b[0m\u001b[0m\n\u001b[1;32m--> 670\u001b[1;33m             httplib_response = self._make_request(\n\u001b[0m\u001b[0;32m    671\u001b[0m                 \u001b[0mconn\u001b[0m\u001b[1;33m,\u001b[0m\u001b[1;33m\u001b[0m\u001b[1;33m\u001b[0m\u001b[0m\n\u001b[0;32m    672\u001b[0m                 \u001b[0mmethod\u001b[0m\u001b[1;33m,\u001b[0m\u001b[1;33m\u001b[0m\u001b[1;33m\u001b[0m\u001b[0m\n",
      "\u001b[1;32mD:\\Wrz\\anaconda\\envs\\GEE\\lib\\site-packages\\urllib3\\connectionpool.py\u001b[0m in \u001b[0;36m_make_request\u001b[1;34m(self, conn, method, url, timeout, chunked, **httplib_request_kw)\u001b[0m\n\u001b[0;32m    424\u001b[0m                     \u001b[1;31m# Python 3 (including for exceptions like SystemExit).\u001b[0m\u001b[1;33m\u001b[0m\u001b[1;33m\u001b[0m\u001b[0m\n\u001b[0;32m    425\u001b[0m                     \u001b[1;31m# Otherwise it looks like a bug in the code.\u001b[0m\u001b[1;33m\u001b[0m\u001b[1;33m\u001b[0m\u001b[0m\n\u001b[1;32m--> 426\u001b[1;33m                     \u001b[0msix\u001b[0m\u001b[1;33m.\u001b[0m\u001b[0mraise_from\u001b[0m\u001b[1;33m(\u001b[0m\u001b[0me\u001b[0m\u001b[1;33m,\u001b[0m \u001b[1;32mNone\u001b[0m\u001b[1;33m)\u001b[0m\u001b[1;33m\u001b[0m\u001b[1;33m\u001b[0m\u001b[0m\n\u001b[0m\u001b[0;32m    427\u001b[0m         \u001b[1;32mexcept\u001b[0m \u001b[1;33m(\u001b[0m\u001b[0mSocketTimeout\u001b[0m\u001b[1;33m,\u001b[0m \u001b[0mBaseSSLError\u001b[0m\u001b[1;33m,\u001b[0m \u001b[0mSocketError\u001b[0m\u001b[1;33m)\u001b[0m \u001b[1;32mas\u001b[0m \u001b[0me\u001b[0m\u001b[1;33m:\u001b[0m\u001b[1;33m\u001b[0m\u001b[1;33m\u001b[0m\u001b[0m\n\u001b[0;32m    428\u001b[0m             \u001b[0mself\u001b[0m\u001b[1;33m.\u001b[0m\u001b[0m_raise_timeout\u001b[0m\u001b[1;33m(\u001b[0m\u001b[0merr\u001b[0m\u001b[1;33m=\u001b[0m\u001b[0me\u001b[0m\u001b[1;33m,\u001b[0m \u001b[0murl\u001b[0m\u001b[1;33m=\u001b[0m\u001b[0murl\u001b[0m\u001b[1;33m,\u001b[0m \u001b[0mtimeout_value\u001b[0m\u001b[1;33m=\u001b[0m\u001b[0mread_timeout\u001b[0m\u001b[1;33m)\u001b[0m\u001b[1;33m\u001b[0m\u001b[1;33m\u001b[0m\u001b[0m\n",
      "\u001b[1;32mD:\\Wrz\\anaconda\\envs\\GEE\\lib\\site-packages\\urllib3\\packages\\six.py\u001b[0m in \u001b[0;36mraise_from\u001b[1;34m(value, from_value)\u001b[0m\n",
      "\u001b[1;32mD:\\Wrz\\anaconda\\envs\\GEE\\lib\\site-packages\\urllib3\\connectionpool.py\u001b[0m in \u001b[0;36m_make_request\u001b[1;34m(self, conn, method, url, timeout, chunked, **httplib_request_kw)\u001b[0m\n\u001b[0;32m    419\u001b[0m                 \u001b[1;31m# Python 3\u001b[0m\u001b[1;33m\u001b[0m\u001b[1;33m\u001b[0m\u001b[0m\n\u001b[0;32m    420\u001b[0m                 \u001b[1;32mtry\u001b[0m\u001b[1;33m:\u001b[0m\u001b[1;33m\u001b[0m\u001b[1;33m\u001b[0m\u001b[0m\n\u001b[1;32m--> 421\u001b[1;33m                     \u001b[0mhttplib_response\u001b[0m \u001b[1;33m=\u001b[0m \u001b[0mconn\u001b[0m\u001b[1;33m.\u001b[0m\u001b[0mgetresponse\u001b[0m\u001b[1;33m(\u001b[0m\u001b[1;33m)\u001b[0m\u001b[1;33m\u001b[0m\u001b[1;33m\u001b[0m\u001b[0m\n\u001b[0m\u001b[0;32m    422\u001b[0m                 \u001b[1;32mexcept\u001b[0m \u001b[0mBaseException\u001b[0m \u001b[1;32mas\u001b[0m \u001b[0me\u001b[0m\u001b[1;33m:\u001b[0m\u001b[1;33m\u001b[0m\u001b[1;33m\u001b[0m\u001b[0m\n\u001b[0;32m    423\u001b[0m                     \u001b[1;31m# Remove the TypeError from the exception chain in\u001b[0m\u001b[1;33m\u001b[0m\u001b[1;33m\u001b[0m\u001b[0m\n",
      "\u001b[1;32mD:\\Wrz\\anaconda\\envs\\GEE\\lib\\http\\client.py\u001b[0m in \u001b[0;36mgetresponse\u001b[1;34m(self)\u001b[0m\n\u001b[0;32m   1369\u001b[0m         \u001b[1;32mtry\u001b[0m\u001b[1;33m:\u001b[0m\u001b[1;33m\u001b[0m\u001b[1;33m\u001b[0m\u001b[0m\n\u001b[0;32m   1370\u001b[0m             \u001b[1;32mtry\u001b[0m\u001b[1;33m:\u001b[0m\u001b[1;33m\u001b[0m\u001b[1;33m\u001b[0m\u001b[0m\n\u001b[1;32m-> 1371\u001b[1;33m                 \u001b[0mresponse\u001b[0m\u001b[1;33m.\u001b[0m\u001b[0mbegin\u001b[0m\u001b[1;33m(\u001b[0m\u001b[1;33m)\u001b[0m\u001b[1;33m\u001b[0m\u001b[1;33m\u001b[0m\u001b[0m\n\u001b[0m\u001b[0;32m   1372\u001b[0m             \u001b[1;32mexcept\u001b[0m \u001b[0mConnectionError\u001b[0m\u001b[1;33m:\u001b[0m\u001b[1;33m\u001b[0m\u001b[1;33m\u001b[0m\u001b[0m\n\u001b[0;32m   1373\u001b[0m                 \u001b[0mself\u001b[0m\u001b[1;33m.\u001b[0m\u001b[0mclose\u001b[0m\u001b[1;33m(\u001b[0m\u001b[1;33m)\u001b[0m\u001b[1;33m\u001b[0m\u001b[1;33m\u001b[0m\u001b[0m\n",
      "\u001b[1;32mD:\\Wrz\\anaconda\\envs\\GEE\\lib\\http\\client.py\u001b[0m in \u001b[0;36mbegin\u001b[1;34m(self)\u001b[0m\n\u001b[0;32m    317\u001b[0m         \u001b[1;31m# read until we get a non-100 response\u001b[0m\u001b[1;33m\u001b[0m\u001b[1;33m\u001b[0m\u001b[0m\n\u001b[0;32m    318\u001b[0m         \u001b[1;32mwhile\u001b[0m \u001b[1;32mTrue\u001b[0m\u001b[1;33m:\u001b[0m\u001b[1;33m\u001b[0m\u001b[1;33m\u001b[0m\u001b[0m\n\u001b[1;32m--> 319\u001b[1;33m             \u001b[0mversion\u001b[0m\u001b[1;33m,\u001b[0m \u001b[0mstatus\u001b[0m\u001b[1;33m,\u001b[0m \u001b[0mreason\u001b[0m \u001b[1;33m=\u001b[0m \u001b[0mself\u001b[0m\u001b[1;33m.\u001b[0m\u001b[0m_read_status\u001b[0m\u001b[1;33m(\u001b[0m\u001b[1;33m)\u001b[0m\u001b[1;33m\u001b[0m\u001b[1;33m\u001b[0m\u001b[0m\n\u001b[0m\u001b[0;32m    320\u001b[0m             \u001b[1;32mif\u001b[0m \u001b[0mstatus\u001b[0m \u001b[1;33m!=\u001b[0m \u001b[0mCONTINUE\u001b[0m\u001b[1;33m:\u001b[0m\u001b[1;33m\u001b[0m\u001b[1;33m\u001b[0m\u001b[0m\n\u001b[0;32m    321\u001b[0m                 \u001b[1;32mbreak\u001b[0m\u001b[1;33m\u001b[0m\u001b[1;33m\u001b[0m\u001b[0m\n",
      "\u001b[1;32mD:\\Wrz\\anaconda\\envs\\GEE\\lib\\http\\client.py\u001b[0m in \u001b[0;36m_read_status\u001b[1;34m(self)\u001b[0m\n\u001b[0;32m    278\u001b[0m \u001b[1;33m\u001b[0m\u001b[0m\n\u001b[0;32m    279\u001b[0m     \u001b[1;32mdef\u001b[0m \u001b[0m_read_status\u001b[0m\u001b[1;33m(\u001b[0m\u001b[0mself\u001b[0m\u001b[1;33m)\u001b[0m\u001b[1;33m:\u001b[0m\u001b[1;33m\u001b[0m\u001b[1;33m\u001b[0m\u001b[0m\n\u001b[1;32m--> 280\u001b[1;33m         \u001b[0mline\u001b[0m \u001b[1;33m=\u001b[0m \u001b[0mstr\u001b[0m\u001b[1;33m(\u001b[0m\u001b[0mself\u001b[0m\u001b[1;33m.\u001b[0m\u001b[0mfp\u001b[0m\u001b[1;33m.\u001b[0m\u001b[0mreadline\u001b[0m\u001b[1;33m(\u001b[0m\u001b[0m_MAXLINE\u001b[0m \u001b[1;33m+\u001b[0m \u001b[1;36m1\u001b[0m\u001b[1;33m)\u001b[0m\u001b[1;33m,\u001b[0m \u001b[1;34m\"iso-8859-1\"\u001b[0m\u001b[1;33m)\u001b[0m\u001b[1;33m\u001b[0m\u001b[1;33m\u001b[0m\u001b[0m\n\u001b[0m\u001b[0;32m    281\u001b[0m         \u001b[1;32mif\u001b[0m \u001b[0mlen\u001b[0m\u001b[1;33m(\u001b[0m\u001b[0mline\u001b[0m\u001b[1;33m)\u001b[0m \u001b[1;33m>\u001b[0m \u001b[0m_MAXLINE\u001b[0m\u001b[1;33m:\u001b[0m\u001b[1;33m\u001b[0m\u001b[1;33m\u001b[0m\u001b[0m\n\u001b[0;32m    282\u001b[0m             \u001b[1;32mraise\u001b[0m \u001b[0mLineTooLong\u001b[0m\u001b[1;33m(\u001b[0m\u001b[1;34m\"status line\"\u001b[0m\u001b[1;33m)\u001b[0m\u001b[1;33m\u001b[0m\u001b[1;33m\u001b[0m\u001b[0m\n",
      "\u001b[1;32mD:\\Wrz\\anaconda\\envs\\GEE\\lib\\socket.py\u001b[0m in \u001b[0;36mreadinto\u001b[1;34m(self, b)\u001b[0m\n\u001b[0;32m    702\u001b[0m         \u001b[1;32mwhile\u001b[0m \u001b[1;32mTrue\u001b[0m\u001b[1;33m:\u001b[0m\u001b[1;33m\u001b[0m\u001b[1;33m\u001b[0m\u001b[0m\n\u001b[0;32m    703\u001b[0m             \u001b[1;32mtry\u001b[0m\u001b[1;33m:\u001b[0m\u001b[1;33m\u001b[0m\u001b[1;33m\u001b[0m\u001b[0m\n\u001b[1;32m--> 704\u001b[1;33m                 \u001b[1;32mreturn\u001b[0m \u001b[0mself\u001b[0m\u001b[1;33m.\u001b[0m\u001b[0m_sock\u001b[0m\u001b[1;33m.\u001b[0m\u001b[0mrecv_into\u001b[0m\u001b[1;33m(\u001b[0m\u001b[0mb\u001b[0m\u001b[1;33m)\u001b[0m\u001b[1;33m\u001b[0m\u001b[1;33m\u001b[0m\u001b[0m\n\u001b[0m\u001b[0;32m    705\u001b[0m             \u001b[1;32mexcept\u001b[0m \u001b[0mtimeout\u001b[0m\u001b[1;33m:\u001b[0m\u001b[1;33m\u001b[0m\u001b[1;33m\u001b[0m\u001b[0m\n\u001b[0;32m    706\u001b[0m                 \u001b[0mself\u001b[0m\u001b[1;33m.\u001b[0m\u001b[0m_timeout_occurred\u001b[0m \u001b[1;33m=\u001b[0m \u001b[1;32mTrue\u001b[0m\u001b[1;33m\u001b[0m\u001b[1;33m\u001b[0m\u001b[0m\n",
      "\u001b[1;32mD:\\Wrz\\anaconda\\envs\\GEE\\lib\\ssl.py\u001b[0m in \u001b[0;36mrecv_into\u001b[1;34m(self, buffer, nbytes, flags)\u001b[0m\n\u001b[0;32m   1239\u001b[0m                   \u001b[1;34m\"non-zero flags not allowed in calls to recv_into() on %s\"\u001b[0m \u001b[1;33m%\u001b[0m\u001b[1;33m\u001b[0m\u001b[1;33m\u001b[0m\u001b[0m\n\u001b[0;32m   1240\u001b[0m                   self.__class__)\n\u001b[1;32m-> 1241\u001b[1;33m             \u001b[1;32mreturn\u001b[0m \u001b[0mself\u001b[0m\u001b[1;33m.\u001b[0m\u001b[0mread\u001b[0m\u001b[1;33m(\u001b[0m\u001b[0mnbytes\u001b[0m\u001b[1;33m,\u001b[0m \u001b[0mbuffer\u001b[0m\u001b[1;33m)\u001b[0m\u001b[1;33m\u001b[0m\u001b[1;33m\u001b[0m\u001b[0m\n\u001b[0m\u001b[0;32m   1242\u001b[0m         \u001b[1;32melse\u001b[0m\u001b[1;33m:\u001b[0m\u001b[1;33m\u001b[0m\u001b[1;33m\u001b[0m\u001b[0m\n\u001b[0;32m   1243\u001b[0m             \u001b[1;32mreturn\u001b[0m \u001b[0msuper\u001b[0m\u001b[1;33m(\u001b[0m\u001b[1;33m)\u001b[0m\u001b[1;33m.\u001b[0m\u001b[0mrecv_into\u001b[0m\u001b[1;33m(\u001b[0m\u001b[0mbuffer\u001b[0m\u001b[1;33m,\u001b[0m \u001b[0mnbytes\u001b[0m\u001b[1;33m,\u001b[0m \u001b[0mflags\u001b[0m\u001b[1;33m)\u001b[0m\u001b[1;33m\u001b[0m\u001b[1;33m\u001b[0m\u001b[0m\n",
      "\u001b[1;32mD:\\Wrz\\anaconda\\envs\\GEE\\lib\\ssl.py\u001b[0m in \u001b[0;36mread\u001b[1;34m(self, len, buffer)\u001b[0m\n\u001b[0;32m   1097\u001b[0m         \u001b[1;32mtry\u001b[0m\u001b[1;33m:\u001b[0m\u001b[1;33m\u001b[0m\u001b[1;33m\u001b[0m\u001b[0m\n\u001b[0;32m   1098\u001b[0m             \u001b[1;32mif\u001b[0m \u001b[0mbuffer\u001b[0m \u001b[1;32mis\u001b[0m \u001b[1;32mnot\u001b[0m \u001b[1;32mNone\u001b[0m\u001b[1;33m:\u001b[0m\u001b[1;33m\u001b[0m\u001b[1;33m\u001b[0m\u001b[0m\n\u001b[1;32m-> 1099\u001b[1;33m                 \u001b[1;32mreturn\u001b[0m \u001b[0mself\u001b[0m\u001b[1;33m.\u001b[0m\u001b[0m_sslobj\u001b[0m\u001b[1;33m.\u001b[0m\u001b[0mread\u001b[0m\u001b[1;33m(\u001b[0m\u001b[0mlen\u001b[0m\u001b[1;33m,\u001b[0m \u001b[0mbuffer\u001b[0m\u001b[1;33m)\u001b[0m\u001b[1;33m\u001b[0m\u001b[1;33m\u001b[0m\u001b[0m\n\u001b[0m\u001b[0;32m   1100\u001b[0m             \u001b[1;32melse\u001b[0m\u001b[1;33m:\u001b[0m\u001b[1;33m\u001b[0m\u001b[1;33m\u001b[0m\u001b[0m\n\u001b[0;32m   1101\u001b[0m                 \u001b[1;32mreturn\u001b[0m \u001b[0mself\u001b[0m\u001b[1;33m.\u001b[0m\u001b[0m_sslobj\u001b[0m\u001b[1;33m.\u001b[0m\u001b[0mread\u001b[0m\u001b[1;33m(\u001b[0m\u001b[0mlen\u001b[0m\u001b[1;33m)\u001b[0m\u001b[1;33m\u001b[0m\u001b[1;33m\u001b[0m\u001b[0m\n",
      "\u001b[1;31mKeyboardInterrupt\u001b[0m: "
     ]
    }
   ],
   "source": [
    "for i in A:\n",
    "    # 获取时间区间以及存储路径\n",
    "    Obj = Positive.loc[i,['part','num','date','start_date','end_date']]\n",
    "    start_date = str(Obj.start_date)\n",
    "    end_date = str(Obj.end_date)\n",
    "    # 解析路径\n",
    "    Child_path = os.path.join(str(Positive.loc[i].TimeStart_End),str(Positive.loc[i].part),f'{Positive.loc[i].num:05d}')\n",
    "    out_dir = os.path.join(Parent_path,Child_path)\n",
    "    \n",
    "    # 根据AOI取对应位置和时间范围的S1_Collection\n",
    "    AOI = ee.Feature.geometry(Southest_Tibetan_GeoList.get(int(Positive.loc[i].num)))\n",
    "    AOI_buffer = AOI.buffer(distance=300)\n",
    "    s1_ascending,s1_descending = load_image_collection(AOI_buffer,start_date,end_date,s2_date=str(Obj.date))\n",
    "\n",
    "    # descending_image && ascending image ，通过将collection转化为list，并定位时间差绝对值最小值序号，获取图像\n",
    "    ascending_image  = ee.Image(s1_ascending.toList(10).get(int(np.argmin(s1_ascending.aggregate_array('time_difference').getInfo()))))\n",
    "    descending_image = ee.Image(s1_descending.toList(10).get(int(np.argmin(s1_descending.aggregate_array('time_difference').getInfo()))))\n",
    "    Geemap_export(out_dir,ascending_image,region=AOI)\n",
    "    Geemap_export(out_dir,descending_image,region=AOI)\n",
    "    print('download i={}'.format(i))"
   ]
  },
  {
   "cell_type": "code",
   "execution_count": 36,
   "id": "199d7f0e",
   "metadata": {
    "ExecuteTime": {
     "end_time": "2023-01-04T10:46:08.981714Z",
     "start_time": "2023-01-04T10:46:08.952711Z"
    }
   },
   "outputs": [
    {
     "data": {
      "text/plain": [
       "686"
      ]
     },
     "execution_count": 36,
     "metadata": {},
     "output_type": "execute_result"
    }
   ],
   "source": [
    "Positive[(Positive.num == 5792) | (Positive.num ==2770)].index[0]"
   ]
  },
  {
   "cell_type": "code",
   "execution_count": 55,
   "id": "2ebc3042",
   "metadata": {
    "ExecuteTime": {
     "end_time": "2023-01-05T07:37:06.234313Z",
     "start_time": "2023-01-05T07:37:06.210313Z"
    }
   },
   "outputs": [],
   "source": [
    "A=[]\n",
    "for i in [10931,5792,2770,4354,4355,4353,4738,7984,4531]:\n",
    "    A.append(Positive[Positive.num == i].index[0])"
   ]
  },
  {
   "cell_type": "code",
   "execution_count": 54,
   "id": "021477f7",
   "metadata": {
    "ExecuteTime": {
     "end_time": "2023-01-05T07:36:45.275391Z",
     "start_time": "2023-01-05T07:36:45.253391Z"
    }
   },
   "outputs": [
    {
     "data": {
      "text/plain": [
       "2242"
      ]
     },
     "execution_count": 54,
     "metadata": {},
     "output_type": "execute_result"
    }
   ],
   "source": [
    "i = Positive[Positive.num == 10931].index[0]"
   ]
  },
  {
   "cell_type": "code",
   "execution_count": 39,
   "id": "751b2796",
   "metadata": {
    "ExecuteTime": {
     "end_time": "2023-01-05T04:16:43.610267Z",
     "start_time": "2023-01-05T04:16:43.593266Z"
    }
   },
   "outputs": [
    {
     "data": {
      "text/plain": [
       "[1541, 686, 1026, 1027, 1025, 3708, 4375, 1110]"
      ]
     },
     "execution_count": 39,
     "metadata": {},
     "output_type": "execute_result"
    }
   ],
   "source": [
    "A"
   ]
  },
  {
   "cell_type": "code",
   "execution_count": 21,
   "id": "ad5022ca",
   "metadata": {
    "ExecuteTime": {
     "end_time": "2023-01-04T10:37:28.663532Z",
     "start_time": "2023-01-04T10:37:28.634536Z"
    }
   },
   "outputs": [
    {
     "data": {
      "text/html": [
       "<div>\n",
       "<style scoped>\n",
       "    .dataframe tbody tr th:only-of-type {\n",
       "        vertical-align: middle;\n",
       "    }\n",
       "\n",
       "    .dataframe tbody tr th {\n",
       "        vertical-align: top;\n",
       "    }\n",
       "\n",
       "    .dataframe thead th {\n",
       "        text-align: right;\n",
       "    }\n",
       "</style>\n",
       "<table border=\"1\" class=\"dataframe\">\n",
       "  <thead>\n",
       "    <tr style=\"text-align: right;\">\n",
       "      <th></th>\n",
       "      <th>index</th>\n",
       "      <th>Unnamed: 0</th>\n",
       "      <th>parent</th>\n",
       "      <th>TimeStart_End</th>\n",
       "      <th>part</th>\n",
       "      <th>num</th>\n",
       "      <th>tif</th>\n",
       "      <th>pos_neg</th>\n",
       "      <th>date</th>\n",
       "      <th>start_date</th>\n",
       "      <th>end_date</th>\n",
       "    </tr>\n",
       "  </thead>\n",
       "  <tbody>\n",
       "  </tbody>\n",
       "</table>\n",
       "</div>"
      ],
      "text/plain": [
       "Empty DataFrame\n",
       "Columns: [index, Unnamed: 0, parent, TimeStart_End, part, num, tif, pos_neg, date, start_date, end_date]\n",
       "Index: []"
      ]
     },
     "execution_count": 21,
     "metadata": {},
     "output_type": "execute_result"
    }
   ],
   "source": [
    "Positive[Positive.num == 5792 | 2770 | 4354]"
   ]
  },
  {
   "cell_type": "code",
   "execution_count": null,
   "id": "0bd66252",
   "metadata": {
    "ExecuteTime": {
     "end_time": "2023-01-02T11:40:13.438530Z",
     "start_time": "2023-01-02T11:40:13.438530Z"
    },
    "pycharm": {
     "name": "#%%\n"
    }
   },
   "outputs": [],
   "source": [
    "# 展示以下"
   ]
  },
  {
   "cell_type": "code",
   "execution_count": null,
   "id": "117d8996",
   "metadata": {
    "ExecuteTime": {
     "end_time": "2023-01-02T11:40:13.444532Z",
     "start_time": "2023-01-02T11:40:13.444532Z"
    },
    "pycharm": {
     "name": "#%%\n"
    }
   },
   "outputs": [],
   "source": [
    "s1_col = (ee.ImageCollection(\"COPERNICUS/S1_GRD\")\n",
    "    .filterBounds(AOI_buffer)\n",
    "    .filterDate(start_date,end_date).map(partial(clip_AOI,AOI=AOI_buffer)))"
   ]
  },
  {
   "cell_type": "code",
   "execution_count": null,
   "id": "8a7a44f1",
   "metadata": {
    "ExecuteTime": {
     "end_time": "2023-01-02T11:40:13.448534Z",
     "start_time": "2023-01-02T11:40:13.448534Z"
    },
    "pycharm": {
     "name": "#%%\n"
    }
   },
   "outputs": [],
   "source": [
    "s1_ascending.aggregate_array('time_difference').getInfo()"
   ]
  },
  {
   "cell_type": "code",
   "execution_count": null,
   "id": "9e214843",
   "metadata": {
    "ExecuteTime": {
     "end_time": "2023-01-02T11:40:13.451535Z",
     "start_time": "2023-01-02T11:40:13.451535Z"
    },
    "pycharm": {
     "name": "#%%\n"
    }
   },
   "outputs": [],
   "source": [
    "s1_descending.aggregate_array('time_difference').getInfo()"
   ]
  }
 ],
 "metadata": {
  "hide_input": false,
  "kernelspec": {
   "display_name": "Python 3 (ipykernel)",
   "language": "python",
   "name": "python3"
  },
  "language_info": {
   "codemirror_mode": {
    "name": "ipython",
    "version": 3
   },
   "file_extension": ".py",
   "mimetype": "text/x-python",
   "name": "python",
   "nbconvert_exporter": "python",
   "pygments_lexer": "ipython3",
   "version": "3.9.13"
  },
  "nbTranslate": {
   "displayLangs": [
    "*"
   ],
   "hotkey": "alt-t",
   "langInMainMenu": true,
   "sourceLang": "en",
   "targetLang": "fr",
   "useGoogleTranslate": true
  },
  "toc": {
   "base_numbering": 1,
   "nav_menu": {},
   "number_sections": true,
   "sideBar": true,
   "skip_h1_title": false,
   "title_cell": "Table of Contents",
   "title_sidebar": "Contents",
   "toc_cell": false,
   "toc_position": {},
   "toc_section_display": true,
   "toc_window_display": false
  },
  "varInspector": {
   "cols": {
    "lenName": 16,
    "lenType": 16,
    "lenVar": 40
   },
   "kernels_config": {
    "python": {
     "delete_cmd_postfix": "",
     "delete_cmd_prefix": "del ",
     "library": "var_list.py",
     "varRefreshCmd": "print(var_dic_list())"
    },
    "r": {
     "delete_cmd_postfix": ") ",
     "delete_cmd_prefix": "rm(",
     "library": "var_list.r",
     "varRefreshCmd": "cat(var_dic_list()) "
    }
   },
   "types_to_exclude": [
    "module",
    "function",
    "builtin_function_or_method",
    "instance",
    "_Feature"
   ],
   "window_display": false
  }
 },
 "nbformat": 4,
 "nbformat_minor": 5
}
