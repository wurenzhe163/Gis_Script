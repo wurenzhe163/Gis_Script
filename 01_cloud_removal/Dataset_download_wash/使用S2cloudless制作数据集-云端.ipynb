{
 "cells": [
  {
   "cell_type": "markdown",
   "metadata": {
    "id": "cb5471b9"
   },
   "source": [
    "# 使用S2cloudless制作数据集"
   ],
   "id": "cb5471b9"
  },
  {
   "cell_type": "code",
   "execution_count": null,
   "metadata": {
    "colab": {
     "base_uri": "https://localhost:8080/"
    },
    "executionInfo": {
     "elapsed": 11588,
     "status": "ok",
     "timestamp": 1670600011208,
     "user": {
      "displayName": "Wurenzhe Wurenzhe",
      "userId": "08693536422526296573"
     },
     "user_tz": -480
    },
    "id": "BKzbarhqapB4",
    "outputId": "1860342e-add1-4e0f-aeb2-bff5f0a83ea2"
   },
   "outputs": [],
   "source": [
    "!pip install geemap\n",
    "!pip install eerepr"
   ],
   "id": "BKzbarhqapB4"
  },
  {
   "cell_type": "code",
   "execution_count": null,
   "metadata": {
    "colab": {
     "base_uri": "https://localhost:8080/"
    },
    "executionInfo": {
     "elapsed": 14210,
     "status": "ok",
     "timestamp": 1670600120794,
     "user": {
      "displayName": "Wurenzhe Wurenzhe",
      "userId": "08693536422526296573"
     },
     "user_tz": -480
    },
    "id": "96d6280b",
    "outputId": "a10a6728-2aa5-4a33-f328-b05d459100e6"
   },
   "outputs": [],
   "source": [
    "import ee \n",
    "import geemap\n",
    "import numpy as np\n",
    "import eerepr\n",
    "import folium\n",
    "import os\n",
    "from functools import partial\n",
    "ee.Authenticate()\n",
    "ee.Initialize()"
   ],
   "id": "96d6280b"
  },
  {
   "cell_type": "markdown",
   "metadata": {
    "id": "e8648ba9"
   },
   "source": [
    "## 载入原始数据，并定义过滤器"
   ],
   "id": "e8648ba9"
  },
  {
   "cell_type": "code",
   "execution_count": null,
   "metadata": {
    "colab": {
     "base_uri": "https://localhost:8080/",
     "height": 621,
     "referenced_widgets": [
      "b8f55cbeb2c445edb95439fb4a565a46",
      "9cf29461e0db4dca917b4f77f93958ba",
      "b2433a7680194a73a8fb4a7a82c82a28",
      "5fc78ee5bbad4b27bd8b6918db7f8662",
      "df81c30be8c547c888b4dd2fe9a4ad3a",
      "fd43d4176af24b03a5207c69ca2ee36f",
      "fb0402dd11dc4dc2bc720abbe6c1ab8c",
      "7090393b8dc445fb8e9d861baeb4c39e",
      "736968c3d83040cd8d9dcf87ebf9328a",
      "17eaccfbb7b84381ace54d84b679c840",
      "7e5db928835f4324905c42ca9d55e2f7",
      "333ec8b2b94c47cda98d137f83fc0142",
      "372a9cd93af0436c8b1a35a8423eed69",
      "e8584b9d389f4e489b8b870d7efa69a0",
      "540ea0d8c3bc4cab9d75e0a467929186",
      "19f51c5ca3ff463bb693e576d3277b34",
      "4c4f6941097c4b139a49e6a583b1c8ed",
      "3b5547dd13984714b4cbc483a53aaa60",
      "cae9dc77003240bbb05b4dbe57392794",
      "c80609e3fef149199c39dcdece83408f",
      "7276adb7e12a4c1a941b1332a32d24dc",
      "dcace06b82f74c8c904f07e8e28052c7",
      "9a7cac975a43469fa3e879e646101947",
      "2d1e7ce3137f4ba6889c6c1556d7a321",
      "cb63753bf755482cb9718b99744a2615",
      "6a9f6b7441314cdb8fb59307b9b1f1e6"
     ]
    },
    "executionInfo": {
     "elapsed": 3769,
     "status": "ok",
     "timestamp": 1670600137989,
     "user": {
      "displayName": "Wurenzhe Wurenzhe",
      "userId": "08693536422526296573"
     },
     "user_tz": -480
    },
    "id": "39f98c30",
    "outputId": "c1bb4466-8ec5-4497-cf08-f6221b3cad02"
   },
   "outputs": [],
   "source": [
    "Map = geemap.Map(center=[34, 99], zoom=4, add_google_map=True)\n",
    "Southest_Tibetan_01 = ee.FeatureCollection('projects/ee-mrwurenzhe/assets/Southest')\n",
    "Southest_Tibetan_02 = ee.FeatureCollection('projects/ee-mrwurenzhe/assets/Southest2')\n",
    "Map.addLayer(Southest_Tibetan_01, {}, 'Southest_Tibetan')\n",
    "Map"
   ],
   "id": "39f98c30"
  },
  {
   "cell_type": "code",
   "execution_count": null,
   "metadata": {
    "executionInfo": {
     "elapsed": 1518,
     "status": "ok",
     "timestamp": 1670600139505,
     "user": {
      "displayName": "Wurenzhe Wurenzhe",
      "userId": "08693536422526296573"
     },
     "user_tz": -480
    },
    "id": "394047f3"
   },
   "outputs": [],
   "source": [
    "Southest_Tibetan_Geo = Southest_Tibetan_01.map(lambda feature:feature.set({'Geo':feature.geometry()}))\n",
    "Southest_Tibetan_GeoList = ee.List(Southest_Tibetan_Geo.reduceColumns(ee.Reducer.toList(),['Geo']).get('list'))\n",
    "Num_list = Southest_Tibetan_GeoList.size().getInfo()"
   ],
   "id": "394047f3"
  },
  {
   "cell_type": "code",
   "execution_count": null,
   "metadata": {
    "executionInfo": {
     "elapsed": 4,
     "status": "ok",
     "timestamp": 1670600144785,
     "user": {
      "displayName": "Wurenzhe Wurenzhe",
      "userId": "08693536422526296573"
     },
     "user_tz": -480
    },
    "id": "00b0a057"
   },
   "outputs": [],
   "source": [
    "START_DATE = '2020-06-01'          # \n",
    "END_DATE = '2020-09-30'            # \n",
    "Tolerance = 0.9                    # 样本筛选宽容度\n",
    "Tolerance_cloudPix = 500          # 合成样本空洞容忍量\n",
    "CLOUD_FILTER = 60                  # 过滤s2 大于指定云量的数据\n",
    "CLD_PRB_THRESH = 15                # s2cloudless 概率值阈值[0-100],原实验是50\n",
    "NIR_DRK_THRESH = 0.15              # 非水暗像素判断阈值\n",
    "CLD_PRJ_DIST = 1                   # 根据 CLD_PRJ_DIST 输入指定的距离从云中投射阴影\n",
    "BUFFER = 50                        # Remove small cloud-shadow patches and dilate remaining pixels by BUFFER input"
   ],
   "id": "00b0a057"
  },
  {
   "cell_type": "markdown",
   "metadata": {
    "id": "e479a9db"
   },
   "source": [
    "## 定义函数：连接图像与云图，添加云和云阴影(计算)波段，采用folium进行可视化"
   ],
   "id": "e479a9db"
  },
  {
   "cell_type": "code",
   "execution_count": null,
   "metadata": {
    "executionInfo": {
     "elapsed": 2,
     "status": "ok",
     "timestamp": 1670600155975,
     "user": {
      "displayName": "Wurenzhe Wurenzhe",
      "userId": "08693536422526296573"
     },
     "user_tz": -480
    },
    "id": "3a0d9995"
   },
   "outputs": [],
   "source": [
    "def make_dir(path):\n",
    "    isExists = os.path.exists(path)\n",
    "    # 判断结果\n",
    "    if not isExists:\n",
    "        os.makedirs(path)\n",
    "        print(path + ' 创建成功')\n",
    "    return path\n",
    "##--------------------------------------- 云检测以及云阴影检测------------------------------------------------\n",
    "def get_s2_sr_cld_col(aoi, start_date, end_date):\n",
    "    \"\"\"筛选S2图像以及S2_cloud图像，并将两个collection连接\"\"\"\n",
    "    # Import and filter S2 SR.\n",
    "    s2_sr_col = (ee.ImageCollection(\"COPERNICUS/S2_SR_HARMONIZED\")\n",
    "        .filterBounds(aoi)\n",
    "        .filterDate(start_date, end_date)\n",
    "        .filter(ee.Filter.lte('CLOUDY_PIXEL_PERCENTAGE', CLOUD_FILTER)).map(partial(clip_AOI,AOI=aoi)))\n",
    "\n",
    "    # Import and filter s2cloudless.\n",
    "    s2_cloudless_col = (ee.ImageCollection('COPERNICUS/S2_CLOUD_PROBABILITY')\n",
    "        .filterBounds(aoi)\n",
    "        .filterDate(start_date, end_date).map(partial(clip_AOI,AOI=aoi)))\n",
    "\n",
    "    # Join the filtered s2cloudless collection to the SR collection by the 'system:index' property.\n",
    "    # 固定用法，将两个collection通过属性值连接起来，s2cloudless整体作为一个属性写入\n",
    "    return ee.ImageCollection(ee.Join.saveFirst('s2cloudless').apply(**{\n",
    "        'primary': s2_sr_col,\n",
    "        'secondary': s2_cloudless_col,\n",
    "        'condition': ee.Filter.equals(**{\n",
    "            'leftField': 'system:index',\n",
    "            'rightField': 'system:index'\n",
    "        })\n",
    "    }))\n",
    "\n",
    "def add_cloud_bands(img):\n",
    "    \"\"\"Define a function to add the s2cloudless probability layer\n",
    "    and derived cloud mask as bands to an S2 SR image input.\"\"\"\n",
    "    # Get s2cloudless image, subset the probability band.\n",
    "    cld_prb = ee.Image(img.get('s2cloudless')).select('probability')\n",
    "\n",
    "    # Condition s2cloudless by the probability threshold value.\n",
    "    is_cloud = cld_prb.gt(CLD_PRB_THRESH).rename('clouds')\n",
    "\n",
    "    # Add the cloud probability layer and cloud mask as image bands.\n",
    "    return img.addBands(ee.Image([cld_prb, is_cloud]))\n",
    "\n",
    "def add_shadow_bands(img):\n",
    "    \"\"\"Define a function to add dark pixels, \n",
    "    cloud projection, and identified shadows as bands to an S2 SR image input.\n",
    "    Note that the image input needs to be the result of the above add_cloud_bands function\n",
    "    because it relies on knowing which pixels are considered cloudy ('clouds' band).\"\"\"\n",
    "    # 从 SCL 波段识别水像素, 仅适用于L2A，采用L1C计算MNDWI\n",
    "    not_water = img.select('SCL').neq(6)\n",
    "\n",
    "    # 识别非水的暗 NIR 像素(潜在的云阴影像素)。.\n",
    "    SR_BAND_SCALE = 1e4\n",
    "    dark_pixels = img.select('B8').lt(NIR_DRK_THRESH*SR_BAND_SCALE).multiply(not_water).rename('dark_pixels')\n",
    "\n",
    "    # 确定云投射云影的方向(假设是 UTM 投影)。\n",
    "    shadow_azimuth = ee.Number(90).subtract(ee.Number(img.get('MEAN_SOLAR_AZIMUTH_ANGLE')));\n",
    "\n",
    "    # 根据 CLD_PRJ_DIST 输入指定的距离从云中投射阴影\n",
    "    cld_proj = (img.select('clouds').directionalDistanceTransform(shadow_azimuth, CLD_PRJ_DIST*10)\n",
    "        .reproject(**{'crs': img.select(0).projection(), 'scale': 100})\n",
    "        .select('distance')\n",
    "        .mask()\n",
    "        .rename('cloud_transform'))\n",
    "\n",
    "    # Identify the intersection of dark pixels with cloud shadow projection.\n",
    "    shadows = cld_proj.multiply(dark_pixels).rename('shadows')\n",
    "    # Add dark pixels, cloud projection, and identified shadows as image bands.\n",
    "    return img.addBands(ee.Image([dark_pixels, cld_proj, shadows]))\n",
    "\n",
    "def add_cld_shdw_mask(img):\n",
    "    \"\"\"Define a function to assemble all of the cloud and cloud shadow components and produce the final mask.\"\"\"\n",
    "    # Add cloud component bands.\n",
    "    img_cloud = add_cloud_bands(img)\n",
    "\n",
    "    # Add cloud shadow component bands.\n",
    "    img_cloud_shadow = add_shadow_bands(img_cloud)\n",
    "\n",
    "    # Combine cloud and shadow mask, set cloud and shadow as value 1, else 0.\n",
    "    is_cld_shdw = img_cloud_shadow.select('clouds').add(img_cloud_shadow.select('shadows')).gt(0)\n",
    "\n",
    "    # Remove small cloud-shadow patches and dilate remaining pixels by BUFFER input.\n",
    "    # 20 m scale is for speed, and assumes clouds don't require 10 m precision.\n",
    "    is_cld_shdw = (is_cld_shdw.focalMin(2).focalMax(BUFFER*2/20)\n",
    "        .reproject(**{'crs': img.select([0]).projection(), 'scale': 20})\n",
    "        .rename('cloudmask'))\n",
    "\n",
    "    # Add the final cloud-shadow mask to the image.\n",
    "    return img_cloud_shadow.addBands(is_cld_shdw)\n",
    "#     return img.addBands(is_cld_shdw)\n",
    "\n",
    "##--------------------------------------- 使用云图层更新-------------------------------------------------\n",
    "def apply_cld_shdw_mask(img):\n",
    "    # Subset the cloudmask band and invert it so clouds/shadow are 0, else 1.\n",
    "    not_cld_shdw = img.select('cloudmask').Not()\n",
    "    # Subset reflectance bands and update their masks, return the result.\n",
    "    return img.select(['B.*','clouds','dark_pixels','shadows','cloudmask']).updateMask(not_cld_shdw)\n",
    "\n",
    "##---------------------------------------- folium可视化-------------------------------------------------\n",
    "# Define a method for displaying Earth Engine image tiles to a folium map.\n",
    "def add_ee_layer(self, ee_image_object, vis_params, name, show=True, opacity=1, min_zoom=0):\n",
    "    map_id_dict = ee.Image(ee_image_object).getMapId(vis_params)\n",
    "    folium.raster_layers.TileLayer(\n",
    "        tiles=map_id_dict['tile_fetcher'].url_format,\n",
    "        attr='Map Data &copy; <a href=\"https://earthengine.google.com/\">Google Earth Engine</a>',\n",
    "        name=name,\n",
    "        show=show,\n",
    "        opacity=opacity,\n",
    "        min_zoom=min_zoom,\n",
    "        overlay=True,\n",
    "        control=True\n",
    "        ).add_to(self)\n",
    "folium.Map.add_ee_layer = add_ee_layer\n",
    "\n",
    "\n",
    "def display_cloud_layers(col,AOI):\n",
    "    # Mosaic the image collection.使用掩码合成集合中的所有图像。普通的mosaic，镶嵌过程中是取最新的影像值\n",
    "    img = col.mosaic().clip(AOI)\n",
    "\n",
    "    # Subset layers and prepare them for display.\n",
    "    clouds = img.select('clouds').selfMask()\n",
    "    shadows = img.select('shadows').selfMask()\n",
    "    dark_pixels = img.select('dark_pixels').selfMask()\n",
    "    probability = img.select('probability')\n",
    "    cloudmask = img.select('cloudmask').selfMask()\n",
    "    cloud_transform = img.select('cloud_transform')\n",
    "\n",
    "    # Create a folium map object.centroid求中心点\n",
    "    center = AOI.centroid(10).coordinates().reverse().getInfo()\n",
    "    m = folium.Map(location=center, zoom_start=12)\n",
    "\n",
    "    # Add layers to the folium map.\n",
    "    m.add_ee_layer(img,\n",
    "                   {'bands': ['B4', 'B3', 'B2'], 'min': 0, 'max': 2500, 'gamma': 1.1},\n",
    "                   'S2 image', True, 1, 9)\n",
    "    m.add_ee_layer(probability,\n",
    "                   {'min': 0, 'max': 100},\n",
    "                   'probability (cloud)', False, 1, 9)\n",
    "    m.add_ee_layer(clouds,\n",
    "                   {'palette': 'e056fd'},\n",
    "                   'clouds', False, 1, 9)\n",
    "#     m.add_ee_layer(cloud_transform,\n",
    "#                    {'min': 0, 'max': 1, 'palette': ['white', 'black']},\n",
    "#                    'cloud_transform', False, 1, 9)\n",
    "    m.add_ee_layer(dark_pixels,\n",
    "                   {'palette': 'orange'},\n",
    "                   'dark_pixels', False, 1, 9)\n",
    "    m.add_ee_layer(shadows, {'palette': 'yellow'},\n",
    "                   'shadows', False, 1, 9)\n",
    "    m.add_ee_layer(cloudmask, {'palette': 'orange'},\n",
    "                   'cloudmask', True, 0.5, 9)\n",
    "\n",
    "    # Add a layer control panel to the map.\n",
    "    m.add_child(folium.LayerControl())\n",
    "\n",
    "    # Display the map.\n",
    "    display(m)\n",
    "\n",
    "    \n",
    "def display_cloudfree_layers(s2_sr_median,AOI):\n",
    "    # Create a folium map object.\n",
    "    center = AOI.centroid(10).coordinates().reverse().getInfo()\n",
    "    m = folium.Map(location=center, zoom_start=12)\n",
    "\n",
    "    # Add layers to the folium map.\n",
    "    m.add_ee_layer(s2_sr_median.clip(AOI),\n",
    "                    {'bands': ['B4', 'B3', 'B2'], 'min': 0, 'max': 2500, 'gamma': 1.1},\n",
    "                    'S2 cloud-free mosaic', True, 1, 9)\n",
    "\n",
    "    # Add a layer control panel to the map.\n",
    "    m.add_child(folium.LayerControl())\n",
    "\n",
    "    # Display the map.\n",
    "    display(m)\n",
    "\n",
    "def clip_AOI(col,AOI):\n",
    "    return col.clip(AOI)\n",
    "\n",
    "# 提取dimensions等波段的参数\n",
    "# Image = ee.Image(s2_sr_cld_col.toList(5).get(1))\n",
    "# bandList = ee.Dictionary(ee.List(ee.Dictionary(ee.Algorithms.Describe(Image)).get('bands')).get(0)).get('dimensions')\n",
    "def write_dimensions(col,AOI):\n",
    "    dimensions = ee.Dictionary(ee.List(ee.Dictionary(ee.Algorithms.Describe(col)).get('bands')).get(0)).get('dimensions')\n",
    "    allNoneZeros = col.select('B1').unmask(0).reduceRegion( **{\n",
    "                        'reducer': ee.Reducer.allNonZero(),\n",
    "                        'scale': 10,\n",
    "                        'maxPixels': 1e12,\n",
    "                        'bestEffort': True,\n",
    "                    }).get('B1')\n",
    "    \n",
    "    all_NotNone = col.select('B1').unmask(0).reduceRegion(\n",
    "                        **{\n",
    "                            'geometry': AOI,\n",
    "                            'reducer': ee.Reducer.count(),\n",
    "                            'scale': 10,\n",
    "                            'maxPixels': 1e12,\n",
    "                            'bestEffort': True,\n",
    "                        }).get('B1')\n",
    "    \n",
    "    return col.set({'dimensions':ee.List(dimensions).reduce(ee.Reducer.sum()),\n",
    "                   'all_NotNone':all_NotNone})\n",
    "    \n",
    "def cloud_sum(col,AOI):\n",
    "\n",
    "    cloud_count = col.select('clouds').reduceRegion(\n",
    "                    **{\n",
    "                        'geometry': AOI,\n",
    "                        'reducer': ee.Reducer.sum(),\n",
    "                        'scale': 10,\n",
    "                        'maxPixels': 1e12,\n",
    "                        'bestEffort': True,\n",
    "                    }\n",
    "                )\n",
    "    return col.set({'cloud_count': cloud_count})"
   ],
   "id": "3a0d9995"
  },
  {
   "cell_type": "code",
   "execution_count": null,
   "metadata": {
    "executionInfo": {
     "elapsed": 637,
     "status": "ok",
     "timestamp": 1670600164309,
     "user": {
      "displayName": "Wurenzhe Wurenzhe",
      "userId": "08693536422526296573"
     },
     "user_tz": -480
    },
    "id": "6cfd5dc6"
   },
   "outputs": [],
   "source": [
    "# Diplay_test = s2_sr_cld_col_eval_disp.first()\n",
    "# Map.addLayer(Diplay_test.select('clouds'),{ 'min': 0, 'max': 1},'clouds')\n",
    "# Map.addLayer(Diplay_test.select(\"dark_pixels\"),{ 'mi.n': 0, 'max': 1},\"dark_pixels\")\n",
    "# Map.addLayer(Diplay_test.select(\"shadows\"),{ 'min': 0, 'max': 1},\"shadows\")\n",
    "# Map.addLayer(Diplay_test.select(\"cloudmask\"),{'min': 0, 'max': 1},\"cloudmask\")\n",
    "# Map.addLayer(Diplay_test,{ 'bands':[\"B4\",\"B3\",\"B2\"],'min': 0, 'max': 10000},'S2_image')\n",
    "# Map.addLayer(s2_sr_median,{ 'bands':[\"B4\",\"B3\",\"B2\"],'min': 0, 'max': 2500,'gamma': 1.1},'S2 cloud-free mosaic')\n",
    "# Map.addLayer(s2_sr_median,{ 'bands':[\"cloudmask\"],'min': 0, 'max': 1,'gamma': 1.1},'S2 cloud mosaic')"
   ],
   "id": "6cfd5dc6"
  },
  {
   "cell_type": "markdown",
   "metadata": {
    "id": "736dc8b3"
   },
   "source": [
    "## 生成无云的遥感影像，并采用folium进行可视化"
   ],
   "id": "736dc8b3"
  },
  {
   "cell_type": "raw",
   "metadata": {
    "id": "82a00ccf"
   },
   "source": [
    "AOI = ee.Feature.geometry(ee.List(testList).get(0))\n",
    "# AOI = Map.draw_features[1].geometry()         # \n",
    "# AOI = ee.Geometry.Point(-122.269, 45.701)\n",
    "\n",
    "s2_sr_cld_col_eval = get_s2_sr_cld_col(AOI, START_DATE, END_DATE)\n",
    "s2_sr_cld_col = get_s2_sr_cld_col(AOI, START_DATE, END_DATE)\n",
    "s2_sr_cld_col_eval_disp = s2_sr_cld_col_eval.map(add_cld_shdw_mask)\n",
    "s2_sr_median = s2_sr_cld_col_eval_disp.map(apply_cld_shdw_mask).median()#.clip(AOI)\n",
    "# 可视化基础mosaic影像,最后一个影像\n",
    "display_cloud_layers(s2_sr_cld_col_eval_disp,AOI)\n",
    "# 可视化去云影像\n",
    "display_cloudfree_layers(s2_sr_median,AOI)\n",
    "# ifleaflet可视化\n",
    "Map.addLayer(s2_sr_col.mosaic().clip(AOI),{ 'bands':[\"B4\",\"B3\",\"B2\"],'min': 0, 'max': 10000},'S2_image')\n",
    "Map.addLayer(s2_sr_median,{ 'bands':[\"B4\",\"B3\",\"B2\"],'min': 0, 'max': 2500,'gamma': 1.1},'S2 cloud-free mosaic')"
   ],
   "id": "82a00ccf"
  },
  {
   "cell_type": "markdown",
   "metadata": {
    "id": "f9ca1c76"
   },
   "source": [
    "## 判断采用的无云遥感影像，并导出数据"
   ],
   "id": "f9ca1c76"
  },
  {
   "cell_type": "code",
   "execution_count": null,
   "metadata": {
    "executionInfo": {
     "elapsed": 3,
     "status": "ok",
     "timestamp": 1670600165960,
     "user": {
      "displayName": "Wurenzhe Wurenzhe",
      "userId": "08693536422526296573"
     },
     "user_tz": -480
    },
    "id": "ecb76312"
   },
   "outputs": [],
   "source": [
    "out_dir = '/content/'\n",
    "def Geemap_export(out_dir,collection=False,image=False,region=None,scale=10):\n",
    "    if collection:\n",
    "        # 这里导出时候使用region设置AOI，否则可能因为坐标系问题(未确定)，出现黑边问题\n",
    "        geemap.ee_export_image_collection(collection,\n",
    "                                  out_dir=out_dir,\n",
    "                                  format = \"ZIPPED_GEO_TIFF\",region=region,scale=scale)\n",
    "        print('collection save right')\n",
    "    elif image:\n",
    "        try:\n",
    "            filename=os.path.join(out_dir,'Clear'+image.id().getInfo()+'.tif')\n",
    "        except:\n",
    "            filename=os.path.join(out_dir,'Cloud.tif')\n",
    "            \n",
    "        geemap.ee_export_image(image,\n",
    "                       filename=filename,\n",
    "                       scale=scale, region=region, file_per_band=True,timeout=1500)\n",
    "        print('image save right')\n",
    "    else:\n",
    "        print('Erro:collection && image must have one False')"
   ],
   "id": "ecb76312"
  },
  {
   "cell_type": "code",
   "execution_count": null,
   "metadata": {
    "colab": {
     "base_uri": "https://localhost:8080/"
    },
    "executionInfo": {
     "elapsed": 5170,
     "status": "ok",
     "timestamp": 1670600179102,
     "user": {
      "displayName": "Wurenzhe Wurenzhe",
      "userId": "08693536422526296573"
     },
     "user_tz": -480
    },
    "id": "V4JdTBTT1Emb",
    "outputId": "e66a2db6-65c8-48ea-8f3a-29ad60cab9ec"
   },
   "outputs": [],
   "source": [
    "import os,tarfile\n",
    "from google.colab import files,drive\n",
    "drive.mount('/content/drive')\n",
    "os.chdir('/content/drive/My Drive')\n",
    "# out_dir = 'D:/GEE_S2Cloud_Dataset'\n",
    "\n",
    "\n",
    "def make_targz_one_by_one(output_filename, source_dir):\n",
    "  tar = tarfile.open(output_filename,\"w\")\n",
    "  all_files = os.walk(source_dir)\n",
    "  for root,dir_name,files_list in all_files:\n",
    "    for file in files_list:\n",
    "      if file.endswith('.tif'):\n",
    "        pathfile = os.path.join(root, file)\n",
    "        tar.add(pathfile)\n",
    "  tar.close()\n",
    "  files.download(output_filename)\n",
    "\n",
    "\n",
    "def make_targz_all_path(output_filename,paths):\n",
    "  tar = tarfile.open(output_filename,\"w\")\n",
    "  for each in paths:\n",
    "    tar.add(each)\n",
    "  tar.close()"
   ],
   "id": "V4JdTBTT1Emb"
  },
  {
   "cell_type": "code",
   "execution_count": null,
   "metadata": {
    "colab": {
     "base_uri": "https://localhost:8080/",
     "height": 1000
    },
    "id": "5b458067",
    "outputId": "5e249461-ca63-4cee-8048-3dfc3c46cad6"
   },
   "outputs": [],
   "source": [
    "Paths = []; Num = 0;\n",
    "for i in range(518,Num_list):\n",
    "    path_real = os.path.join(out_dir,START_DATE+'_'+END_DATE,'Real',f'{i:05d}')\n",
    "    path_synth = os.path.join(out_dir,START_DATE+'_'+END_DATE,'Synth',f'{i:05d}')\n",
    "    if os.path.exists(path_synth) or os.path.exists(path_real):\n",
    "        print('第{}个切块已存在，跳过执行'.format(f'{i:05d}'))\n",
    "        continue\n",
    "\n",
    "    AOI = ee.Feature.geometry(Southest_Tibetan_GeoList.get(i))\n",
    "    AOI_buffer = AOI.buffer(distance=300)  #用于图像clip，到处时候采用AOI不会出现黑边现象\n",
    "    \n",
    "    # 取数据\n",
    "    s2_sr_cld_col = get_s2_sr_cld_col(AOI_buffer, START_DATE, END_DATE).map(partial(write_dimensions,AOI=AOI))\n",
    "    # 根据Dimension大小删除不完整的数据\n",
    "    try:\n",
    "      Max_all_NotNone = s2_sr_cld_col.aggregate_array('all_NotNone').reduce(ee.Reducer.max())\n",
    "      s2_sr_cld_col = s2_sr_cld_col.filter(ee.Filter.gte('all_NotNone', ee.Array(Max_all_NotNone).multiply(Tolerance).getInfo()))\n",
    "    except:\n",
    "      continue\n",
    "#     Max_dimension = s2_sr_cld_col.aggregate_array('dimensions').reduce(ee.Reducer.max())\n",
    "#     s2_sr_cld_col = s2_sr_cld_col.filter(ee.Filter.gte('dimensions', Max_dimension))\n",
    "    \n",
    "    # 将shadow和cloud图层加入波段\n",
    "    s2_sr_cld_col_disp = s2_sr_cld_col.map(add_cld_shdw_mask).select(['B.*','clouds','dark_pixels','shadows','cloudmask'])\n",
    "    s2_sr_cld_col_list = s2_sr_cld_col_disp.toList(s2_sr_cld_col_disp.size())\n",
    "    # 计算AOI区段的云量\n",
    "    cloud_count_dict = s2_sr_cld_col_disp.map(partial(cloud_sum,AOI=AOI)).aggregate_array('cloud_count').getInfo()\n",
    "    cloud_count_list = np.array([1 if item.get('clouds')>Tolerance_cloudPix else 0 for item in cloud_count_dict])\n",
    "    \n",
    "    # 存在有无云影像的时候\n",
    "    if np.min(cloud_count_list) == 0:\n",
    "        #    save_dir置前，先检查本地文件夹是否存在\n",
    "\n",
    "        '''执行方案一，直接获取对照组'''\n",
    "        Real_dir = make_dir(path_real)\n",
    "        Negtive_Indice = list(range(len(cloud_count_list)))\n",
    "        Positive_Indice = Negtive_Indice.pop(cloud_count_list.argmin())\n",
    "\n",
    "        # 选择正例\n",
    "        Positive_Exm = ee.Image(s2_sr_cld_col_list.get(Positive_Indice))\n",
    "        # 选择负例\n",
    "        Negtive_Exm = ee.ImageCollection(s2_sr_cld_col_list.remove(Positive_Exm))\n",
    "        \n",
    "        # save\n",
    "        Geemap_export(Real_dir,collection=False,image=Positive_Exm,region=AOI,scale=10)\n",
    "        \n",
    "        Geemap_export(Real_dir,collection=Negtive_Exm,image=False,region=AOI,scale=10)\n",
    "\n",
    "        Paths += [os.path.join(Real_dir,f) for f in os.listdir(Real_dir) if f.endswith('.tif') ]\n",
    "        \n",
    "        print('第{}切块执行方案一，保存至{},SaveNum={}'.format(f'{i:05d}',Real_dir,Num))\n",
    "    # 不存在无云影像的时候\n",
    "    else:\n",
    "        \"\"\"执行方案二，构造对照组\"\"\"\n",
    "\n",
    "        Synth_dir = make_dir(path_synth)\n",
    "        s2_sr_median = s2_sr_cld_col_disp.map(apply_cld_shdw_mask).median().select('B.*').int16()\n",
    "     \n",
    "        # 合成影像中的云量\n",
    "        cloudNUM = s2_sr_median.select('B1').unmask(0).lt(0.1).reduceRegion(\n",
    "                        **{\n",
    "                            'geometry': AOI,\n",
    "                            'reducer': ee.Reducer.sum(),\n",
    "                            'scale': 10,\n",
    "                            'maxPixels': 1e12,\n",
    "                            'bestEffort': True,\n",
    "                        }\n",
    "                    ).getInfo()['B1']\n",
    "\n",
    "        if cloudNUM<=Tolerance_cloudPix:\n",
    "\n",
    "            Geemap_export(Synth_dir,collection=False,image=s2_sr_median,region=AOI,scale=10)\n",
    "\n",
    "            Geemap_export(Synth_dir,collection=s2_sr_cld_col_disp,image=False,region=AOI,scale=10)\n",
    "\n",
    "            Paths += [os.path.join(Synth_dir,f) for f in os.listdir(Synth_dir) if f.endswith('.tif') ]\n",
    "            print('第{}切块采用方案二,保存至{},SaveNum={}'.format(f'{i:05d}',Synth_dir,Num))\n",
    "            \n",
    "        else:\n",
    "            print('第{}切块采用方案二,结果cloudNUM={}不满足云去除要求,SaveNum={}'.format(f'{i:05d}',cloudNUM,Num))\n",
    "            \n",
    "    Num += 1\n",
    "    if Num % 25 == 0:\n",
    "      print('当前Paths长度为{}保存数据并清空Paths'.format(len(Paths)))\n",
    "      make_targz_all_path(f'{i:05d}.tar',Paths)\n",
    "      files.download(f'{i:05d}.tar')\n",
    "      Paths = []"
   ],
   "id": "5b458067"
  },
  {
   "cell_type": "code",
   "execution_count": null,
   "metadata": {
    "colab": {
     "background_save": true
    },
    "id": "pjwdRF17idwU"
   },
   "outputs": [],
   "source": [
    "make_targz_all_path(f'{i:05d}.tar',Paths)\n",
    "files.download(f'{i:05d}.tar')"
   ],
   "id": "pjwdRF17idwU"
  }
 ],
 "metadata": {
  "colab": {
   "provenance": []
  },
  "hide_input": false,
  "kernelspec": {
   "display_name": "Python 3 (ipykernel)",
   "language": "python",
   "name": "python3"
  },
  "language_info": {
   "codemirror_mode": {
    "name": "ipython",
    "version": 3
   },
   "file_extension": ".py",
   "mimetype": "text/x-python",
   "name": "python",
   "nbconvert_exporter": "python",
   "pygments_lexer": "ipython3",
   "version": "3.8.15"
  },
  "nbTranslate": {
   "displayLangs": [
    "zh-cn"
   ],
   "hotkey": "alt-t",
   "langInMainMenu": true,
   "sourceLang": "en",
   "targetLang": "zh-cn",
   "useGoogleTranslate": true
  },
  "toc": {
   "base_numbering": 1,
   "nav_menu": {},
   "number_sections": true,
   "sideBar": true,
   "skip_h1_title": false,
   "title_cell": "Table of Contents",
   "title_sidebar": "Contents",
   "toc_cell": false,
   "toc_position": {
    "height": "calc(100% - 180px)",
    "left": "10px",
    "top": "150px",
    "width": "384px"
   },
   "toc_section_display": true,
   "toc_window_display": false
  },
  "varInspector": {
   "cols": {
    "lenName": 16,
    "lenType": 16,
    "lenVar": 40
   },
   "kernels_config": {
    "python": {
     "delete_cmd_postfix": "",
     "delete_cmd_prefix": "del ",
     "library": "var_list.py",
     "varRefreshCmd": "print(var_dic_list())"
    },
    "r": {
     "delete_cmd_postfix": ") ",
     "delete_cmd_prefix": "rm(",
     "library": "var_list.r",
     "varRefreshCmd": "cat(var_dic_list()) "
    }
   },
   "types_to_exclude": [
    "module",
    "function",
    "builtin_function_or_method",
    "instance",
    "_Feature"
   ],
   "window_display": false
  },
  "widgets": {
   "application/vnd.jupyter.widget-state+json": {
    "372a9cd93af0436c8b1a35a8423eed69": {
     "model_module": "jupyter-leaflet",
     "model_module_version": "^0.17",
     "model_name": "LeafletTileLayerModel",
     "state": {
      "_model_module": "jupyter-leaflet",
      "_model_module_version": "^0.17",
      "_model_name": "LeafletTileLayerModel",
      "_view_count": null,
      "_view_module": "jupyter-leaflet",
      "_view_module_version": "^0.17",
      "_view_name": "LeafletTileLayerView",
      "attribution": "Google",
      "base": false,
      "bottom": true,
      "bounds": null,
      "detect_retina": false,
      "loading": false,
      "max_native_zoom": null,
      "max_zoom": 22,
      "min_native_zoom": null,
      "min_zoom": 0,
      "name": "Google Maps",
      "no_wrap": false,
      "opacity": 1,
      "options": [
       "attribution",
       "bounds",
       "detect_retina",
       "max_native_zoom",
       "max_zoom",
       "min_native_zoom",
       "min_zoom",
       "no_wrap",
       "tile_size",
       "tms",
       "zoom_offset"
      ],
      "pane": "",
      "popup": null,
      "popup_max_height": null,
      "popup_max_width": 300,
      "popup_min_width": 50,
      "show_loading": false,
      "subitems": [],
      "tile_size": 256,
      "tms": false,
      "url": "https://mt1.google.com/vt/lyrs=m&x={x}&y={y}&z={z}",
      "visible": true,
      "zoom_offset": 0
     }
    },
    "b8f55cbeb2c445edb95439fb4a565a46": {
     "model_module": "jupyter-leaflet",
     "model_name": "LeafletMapModel",
     "model_module_version": "^0.17",
     "state": {
      "_dom_classes": [],
      "_model_module": "jupyter-leaflet",
      "_model_module_version": "^0.17",
      "_model_name": "LeafletMapModel",
      "_view_count": null,
      "_view_module": "jupyter-leaflet",
      "_view_module_version": "^0.17",
      "_view_name": "LeafletMapView",
      "bottom": 1936,
      "bounce_at_zoom_limits": true,
      "box_zoom": true,
      "center": [
       34,
       99
      ],
      "close_popup_on_click": true,
      "controls": [
       "IPY_MODEL_9cf29461e0db4dca917b4f77f93958ba",
       "IPY_MODEL_b2433a7680194a73a8fb4a7a82c82a28",
       "IPY_MODEL_5fc78ee5bbad4b27bd8b6918db7f8662",
       "IPY_MODEL_df81c30be8c547c888b4dd2fe9a4ad3a",
       "IPY_MODEL_fd43d4176af24b03a5207c69ca2ee36f",
       "IPY_MODEL_fb0402dd11dc4dc2bc720abbe6c1ab8c",
       "IPY_MODEL_7090393b8dc445fb8e9d861baeb4c39e",
       "IPY_MODEL_736968c3d83040cd8d9dcf87ebf9328a"
      ],
      "crs": {
       "name": "EPSG3857",
       "custom": false
      },
      "default_style": "IPY_MODEL_17eaccfbb7b84381ace54d84b679c840",
      "double_click_zoom": true,
      "dragging": true,
      "dragging_style": "IPY_MODEL_7e5db928835f4324905c42ca9d55e2f7",
      "east": 168.48632812500003,
      "fullscreen": false,
      "inertia": true,
      "inertia_deceleration": 3000,
      "inertia_max_speed": 1500,
      "interpolation": "bilinear",
      "keyboard": true,
      "keyboard_pan_offset": 80,
      "keyboard_zoom_offset": 1,
      "layers": [
       "IPY_MODEL_333ec8b2b94c47cda98d137f83fc0142",
       "IPY_MODEL_372a9cd93af0436c8b1a35a8423eed69",
       "IPY_MODEL_e8584b9d389f4e489b8b870d7efa69a0"
      ],
      "layout": "IPY_MODEL_540ea0d8c3bc4cab9d75e0a467929186",
      "left": 2383,
      "max_zoom": 24,
      "min_zoom": null,
      "modisdate": "2022-12-08",
      "north": 52.908902047770255,
      "options": [
       "bounce_at_zoom_limits",
       "box_zoom",
       "center",
       "close_popup_on_click",
       "double_click_zoom",
       "dragging",
       "fullscreen",
       "inertia",
       "inertia_deceleration",
       "inertia_max_speed",
       "interpolation",
       "keyboard",
       "keyboard_pan_offset",
       "keyboard_zoom_offset",
       "max_zoom",
       "min_zoom",
       "prefer_canvas",
       "scroll_wheel_zoom",
       "tap",
       "tap_tolerance",
       "touch_zoom",
       "world_copy_jump",
       "zoom",
       "zoom_animation_threshold",
       "zoom_delta",
       "zoom_snap"
      ],
      "panes": {},
      "prefer_canvas": false,
      "right": 3965,
      "scroll_wheel_zoom": true,
      "south": 9.795677582829743,
      "style": "IPY_MODEL_19f51c5ca3ff463bb693e576d3277b34",
      "tap": true,
      "tap_tolerance": 15,
      "top": 1336,
      "touch_zoom": true,
      "west": 29.443359375000004,
      "window_url": "https://14mrf3or0ug-496ff2e9c6d22116-0-colab.googleusercontent.com/outputframe.html?vrz=colab-20221207-060046-RC00_493547295",
      "world_copy_jump": false,
      "zoom": 4,
      "zoom_animation_threshold": 4,
      "zoom_delta": 1,
      "zoom_snap": 1
     }
    },
    "9cf29461e0db4dca917b4f77f93958ba": {
     "model_module": "jupyter-leaflet",
     "model_name": "LeafletWidgetControlModel",
     "model_module_version": "^0.17",
     "state": {
      "_model_module": "jupyter-leaflet",
      "_model_module_version": "^0.17",
      "_model_name": "LeafletWidgetControlModel",
      "_view_count": null,
      "_view_module": "jupyter-leaflet",
      "_view_module_version": "^0.17",
      "_view_name": "LeafletWidgetControlView",
      "max_height": null,
      "max_width": null,
      "min_height": null,
      "min_width": null,
      "options": [
       "position",
       "transparent_bg"
      ],
      "position": "topleft",
      "transparent_bg": false,
      "widget": "IPY_MODEL_4c4f6941097c4b139a49e6a583b1c8ed"
     }
    },
    "b2433a7680194a73a8fb4a7a82c82a28": {
     "model_module": "jupyter-leaflet",
     "model_name": "LeafletZoomControlModel",
     "model_module_version": "^0.17",
     "state": {
      "_model_module": "jupyter-leaflet",
      "_model_module_version": "^0.17",
      "_model_name": "LeafletZoomControlModel",
      "_view_count": null,
      "_view_module": "jupyter-leaflet",
      "_view_module_version": "^0.17",
      "_view_name": "LeafletZoomControlView",
      "options": [
       "position",
       "zoom_in_text",
       "zoom_in_title",
       "zoom_out_text",
       "zoom_out_title"
      ],
      "position": "topleft",
      "zoom_in_text": "+",
      "zoom_in_title": "Zoom in",
      "zoom_out_text": "-",
      "zoom_out_title": "Zoom out"
     }
    },
    "5fc78ee5bbad4b27bd8b6918db7f8662": {
     "model_module": "jupyter-leaflet",
     "model_name": "LeafletScaleControlModel",
     "model_module_version": "^0.17",
     "state": {
      "_model_module": "jupyter-leaflet",
      "_model_module_version": "^0.17",
      "_model_name": "LeafletScaleControlModel",
      "_view_count": null,
      "_view_module": "jupyter-leaflet",
      "_view_module_version": "^0.17",
      "_view_name": "LeafletScaleControlView",
      "imperial": true,
      "max_width": 100,
      "metric": true,
      "options": [
       "imperial",
       "max_width",
       "metric",
       "position",
       "update_when_idle"
      ],
      "position": "bottomleft",
      "update_when_idle": false
     }
    },
    "df81c30be8c547c888b4dd2fe9a4ad3a": {
     "model_module": "jupyter-leaflet",
     "model_name": "LeafletFullScreenControlModel",
     "model_module_version": "^0.17",
     "state": {
      "_model_module": "jupyter-leaflet",
      "_model_module_version": "^0.17",
      "_model_name": "LeafletFullScreenControlModel",
      "_view_count": null,
      "_view_module": "jupyter-leaflet",
      "_view_module_version": "^0.17",
      "_view_name": "LeafletFullScreenControlView",
      "options": [
       "position"
      ],
      "position": "topleft"
     }
    },
    "fd43d4176af24b03a5207c69ca2ee36f": {
     "model_module": "jupyter-leaflet",
     "model_name": "LeafletMeasureControlModel",
     "model_module_version": "^0.17",
     "state": {
      "_custom_units": {},
      "_model_module": "jupyter-leaflet",
      "_model_module_version": "^0.17",
      "_model_name": "LeafletMeasureControlModel",
      "_view_count": null,
      "_view_module": "jupyter-leaflet",
      "_view_module_version": "^0.17",
      "_view_name": "LeafletMeasureControlView",
      "active_color": "orange",
      "capture_z_index": 10000,
      "completed_color": "#C8F2BE",
      "options": [
       "active_color",
       "capture_z_index",
       "completed_color",
       "popup_options",
       "position",
       "primary_area_unit",
       "primary_length_unit",
       "secondary_area_unit",
       "secondary_length_unit"
      ],
      "popup_options": {
       "className": "leaflet-measure-resultpopup",
       "autoPanPadding": [
        10,
        10
       ]
      },
      "position": "bottomleft",
      "primary_area_unit": "acres",
      "primary_length_unit": "kilometers",
      "secondary_area_unit": null,
      "secondary_length_unit": null
     }
    },
    "fb0402dd11dc4dc2bc720abbe6c1ab8c": {
     "model_module": "jupyter-leaflet",
     "model_name": "LeafletAttributionControlModel",
     "model_module_version": "^0.17",
     "state": {
      "_model_module": "jupyter-leaflet",
      "_model_module_version": "^0.17",
      "_model_name": "LeafletAttributionControlModel",
      "_view_count": null,
      "_view_module": "jupyter-leaflet",
      "_view_module_version": "^0.17",
      "_view_name": "LeafletAttributionControlView",
      "options": [
       "position",
       "prefix"
      ],
      "position": "bottomright",
      "prefix": "ipyleaflet"
     }
    },
    "7090393b8dc445fb8e9d861baeb4c39e": {
     "model_module": "jupyter-leaflet",
     "model_name": "LeafletDrawControlModel",
     "model_module_version": "^0.17",
     "state": {
      "_model_module": "jupyter-leaflet",
      "_model_module_version": "^0.17",
      "_model_name": "LeafletDrawControlModel",
      "_view_count": null,
      "_view_module": "jupyter-leaflet",
      "_view_module_version": "^0.17",
      "_view_name": "LeafletDrawControlView",
      "circle": {
       "shapeOptions": {
        "color": "#3388ff"
       }
      },
      "circlemarker": {},
      "data": [],
      "edit": true,
      "marker": {
       "shapeOptions": {
        "color": "#3388ff"
       }
      },
      "options": [
       "position"
      ],
      "polygon": {
       "shapeOptions": {}
      },
      "polyline": {
       "shapeOptions": {}
      },
      "position": "topleft",
      "rectangle": {
       "shapeOptions": {
        "color": "#3388ff"
       }
      },
      "remove": true
     }
    },
    "736968c3d83040cd8d9dcf87ebf9328a": {
     "model_module": "jupyter-leaflet",
     "model_name": "LeafletWidgetControlModel",
     "model_module_version": "^0.17",
     "state": {
      "_model_module": "jupyter-leaflet",
      "_model_module_version": "^0.17",
      "_model_name": "LeafletWidgetControlModel",
      "_view_count": null,
      "_view_module": "jupyter-leaflet",
      "_view_module_version": "^0.17",
      "_view_name": "LeafletWidgetControlView",
      "max_height": null,
      "max_width": null,
      "min_height": null,
      "min_width": null,
      "options": [
       "position",
       "transparent_bg"
      ],
      "position": "topright",
      "transparent_bg": false,
      "widget": "IPY_MODEL_3b5547dd13984714b4cbc483a53aaa60"
     }
    },
    "17eaccfbb7b84381ace54d84b679c840": {
     "model_module": "jupyter-leaflet",
     "model_name": "LeafletMapStyleModel",
     "model_module_version": "^0.17",
     "state": {
      "_model_module": "jupyter-leaflet",
      "_model_module_version": "^0.17",
      "_model_name": "LeafletMapStyleModel",
      "_view_count": null,
      "_view_module": "@jupyter-widgets/base",
      "_view_module_version": "1.2.0",
      "_view_name": "StyleView",
      "cursor": "grab"
     }
    },
    "7e5db928835f4324905c42ca9d55e2f7": {
     "model_module": "jupyter-leaflet",
     "model_name": "LeafletMapStyleModel",
     "model_module_version": "^0.17",
     "state": {
      "_model_module": "jupyter-leaflet",
      "_model_module_version": "^0.17",
      "_model_name": "LeafletMapStyleModel",
      "_view_count": null,
      "_view_module": "@jupyter-widgets/base",
      "_view_module_version": "1.2.0",
      "_view_name": "StyleView",
      "cursor": "move"
     }
    },
    "333ec8b2b94c47cda98d137f83fc0142": {
     "model_module": "jupyter-leaflet",
     "model_name": "LeafletTileLayerModel",
     "model_module_version": "^0.17",
     "state": {
      "_model_module": "jupyter-leaflet",
      "_model_module_version": "^0.17",
      "_model_name": "LeafletTileLayerModel",
      "_view_count": null,
      "_view_module": "jupyter-leaflet",
      "_view_module_version": "^0.17",
      "_view_name": "LeafletTileLayerView",
      "attribution": "&copy; <a href=\"https://www.openstreetmap.org/copyright\">OpenStreetMap</a> contributors",
      "base": true,
      "bottom": true,
      "bounds": null,
      "detect_retina": false,
      "loading": false,
      "max_native_zoom": null,
      "max_zoom": 19,
      "min_native_zoom": null,
      "min_zoom": 1,
      "name": "OpenStreetMap.Mapnik",
      "no_wrap": false,
      "opacity": 1,
      "options": [
       "attribution",
       "bounds",
       "detect_retina",
       "max_native_zoom",
       "max_zoom",
       "min_native_zoom",
       "min_zoom",
       "no_wrap",
       "tile_size",
       "tms",
       "zoom_offset"
      ],
      "pane": "",
      "popup": null,
      "popup_max_height": null,
      "popup_max_width": 300,
      "popup_min_width": 50,
      "show_loading": false,
      "subitems": [],
      "tile_size": 256,
      "tms": false,
      "url": "https://tile.openstreetmap.org/{z}/{x}/{y}.png",
      "visible": true,
      "zoom_offset": 0
     }
    },
    "e8584b9d389f4e489b8b870d7efa69a0": {
     "model_module": "jupyter-leaflet",
     "model_name": "LeafletTileLayerModel",
     "model_module_version": "^0.17",
     "state": {
      "_model_module": "jupyter-leaflet",
      "_model_module_version": "^0.17",
      "_model_name": "LeafletTileLayerModel",
      "_view_count": null,
      "_view_module": "jupyter-leaflet",
      "_view_module_version": "^0.17",
      "_view_name": "LeafletTileLayerView",
      "attribution": "Google Earth Engine",
      "base": false,
      "bottom": true,
      "bounds": null,
      "detect_retina": false,
      "loading": false,
      "max_native_zoom": null,
      "max_zoom": 24,
      "min_native_zoom": null,
      "min_zoom": 0,
      "name": "Southest_Tibetan",
      "no_wrap": false,
      "opacity": 1,
      "options": [
       "attribution",
       "bounds",
       "detect_retina",
       "max_native_zoom",
       "max_zoom",
       "min_native_zoom",
       "min_zoom",
       "no_wrap",
       "tile_size",
       "tms",
       "zoom_offset"
      ],
      "pane": "",
      "popup": null,
      "popup_max_height": null,
      "popup_max_width": 300,
      "popup_min_width": 50,
      "show_loading": false,
      "subitems": [],
      "tile_size": 256,
      "tms": false,
      "url": "https://earthengine.googleapis.com/v1alpha/projects/earthengine-legacy/maps/7b626c6a28d44877225a8bc2b5cb9678-937cd6af65d06b0d3d96f2df221e11ea/tiles/{z}/{x}/{y}",
      "visible": true,
      "zoom_offset": 0
     }
    },
    "540ea0d8c3bc4cab9d75e0a467929186": {
     "model_module": "@jupyter-widgets/base",
     "model_name": "LayoutModel",
     "model_module_version": "1.2.0",
     "state": {
      "_model_module": "@jupyter-widgets/base",
      "_model_module_version": "1.2.0",
      "_model_name": "LayoutModel",
      "_view_count": null,
      "_view_module": "@jupyter-widgets/base",
      "_view_module_version": "1.2.0",
      "_view_name": "LayoutView",
      "align_content": null,
      "align_items": null,
      "align_self": null,
      "border": null,
      "bottom": null,
      "display": null,
      "flex": null,
      "flex_flow": null,
      "grid_area": null,
      "grid_auto_columns": null,
      "grid_auto_flow": null,
      "grid_auto_rows": null,
      "grid_column": null,
      "grid_gap": null,
      "grid_row": null,
      "grid_template_areas": null,
      "grid_template_columns": null,
      "grid_template_rows": null,
      "height": "600px",
      "justify_content": null,
      "justify_items": null,
      "left": null,
      "margin": null,
      "max_height": null,
      "max_width": null,
      "min_height": null,
      "min_width": null,
      "object_fit": null,
      "object_position": null,
      "order": null,
      "overflow": null,
      "overflow_x": null,
      "overflow_y": null,
      "padding": null,
      "right": null,
      "top": null,
      "visibility": null,
      "width": null
     }
    },
    "19f51c5ca3ff463bb693e576d3277b34": {
     "model_module": "jupyter-leaflet",
     "model_name": "LeafletMapStyleModel",
     "model_module_version": "^0.17",
     "state": {
      "_model_module": "jupyter-leaflet",
      "_model_module_version": "^0.17",
      "_model_name": "LeafletMapStyleModel",
      "_view_count": null,
      "_view_module": "@jupyter-widgets/base",
      "_view_module_version": "1.2.0",
      "_view_name": "StyleView",
      "cursor": "grab"
     }
    },
    "4c4f6941097c4b139a49e6a583b1c8ed": {
     "model_module": "@jupyter-widgets/controls",
     "model_name": "HBoxModel",
     "model_module_version": "1.5.0",
     "state": {
      "_dom_classes": [],
      "_model_module": "@jupyter-widgets/controls",
      "_model_module_version": "1.5.0",
      "_model_name": "HBoxModel",
      "_view_count": null,
      "_view_module": "@jupyter-widgets/controls",
      "_view_module_version": "1.5.0",
      "_view_name": "HBoxView",
      "box_style": "",
      "children": [
       "IPY_MODEL_cae9dc77003240bbb05b4dbe57392794"
      ],
      "layout": "IPY_MODEL_c80609e3fef149199c39dcdece83408f"
     }
    },
    "3b5547dd13984714b4cbc483a53aaa60": {
     "model_module": "@jupyter-widgets/controls",
     "model_name": "VBoxModel",
     "model_module_version": "1.5.0",
     "state": {
      "_dom_classes": [],
      "_model_module": "@jupyter-widgets/controls",
      "_model_module_version": "1.5.0",
      "_model_name": "VBoxModel",
      "_view_count": null,
      "_view_module": "@jupyter-widgets/controls",
      "_view_module_version": "1.5.0",
      "_view_name": "VBoxView",
      "box_style": "",
      "children": [
       "IPY_MODEL_7276adb7e12a4c1a941b1332a32d24dc"
      ],
      "layout": "IPY_MODEL_dcace06b82f74c8c904f07e8e28052c7"
     }
    },
    "cae9dc77003240bbb05b4dbe57392794": {
     "model_module": "@jupyter-widgets/controls",
     "model_name": "ToggleButtonModel",
     "model_module_version": "1.5.0",
     "state": {
      "_dom_classes": [],
      "_model_module": "@jupyter-widgets/controls",
      "_model_module_version": "1.5.0",
      "_model_name": "ToggleButtonModel",
      "_view_count": null,
      "_view_module": "@jupyter-widgets/controls",
      "_view_module_version": "1.5.0",
      "_view_name": "ToggleButtonView",
      "button_style": "",
      "description": "",
      "description_tooltip": null,
      "disabled": false,
      "icon": "globe",
      "layout": "IPY_MODEL_9a7cac975a43469fa3e879e646101947",
      "style": "IPY_MODEL_2d1e7ce3137f4ba6889c6c1556d7a321",
      "tooltip": "Search location/data",
      "value": false
     }
    },
    "c80609e3fef149199c39dcdece83408f": {
     "model_module": "@jupyter-widgets/base",
     "model_name": "LayoutModel",
     "model_module_version": "1.2.0",
     "state": {
      "_model_module": "@jupyter-widgets/base",
      "_model_module_version": "1.2.0",
      "_model_name": "LayoutModel",
      "_view_count": null,
      "_view_module": "@jupyter-widgets/base",
      "_view_module_version": "1.2.0",
      "_view_name": "LayoutView",
      "align_content": null,
      "align_items": null,
      "align_self": null,
      "border": null,
      "bottom": null,
      "display": null,
      "flex": null,
      "flex_flow": null,
      "grid_area": null,
      "grid_auto_columns": null,
      "grid_auto_flow": null,
      "grid_auto_rows": null,
      "grid_column": null,
      "grid_gap": null,
      "grid_row": null,
      "grid_template_areas": null,
      "grid_template_columns": null,
      "grid_template_rows": null,
      "height": null,
      "justify_content": null,
      "justify_items": null,
      "left": null,
      "margin": null,
      "max_height": null,
      "max_width": null,
      "min_height": null,
      "min_width": null,
      "object_fit": null,
      "object_position": null,
      "order": null,
      "overflow": null,
      "overflow_x": null,
      "overflow_y": null,
      "padding": null,
      "right": null,
      "top": null,
      "visibility": null,
      "width": null
     }
    },
    "7276adb7e12a4c1a941b1332a32d24dc": {
     "model_module": "@jupyter-widgets/controls",
     "model_name": "ToggleButtonModel",
     "model_module_version": "1.5.0",
     "state": {
      "_dom_classes": [],
      "_model_module": "@jupyter-widgets/controls",
      "_model_module_version": "1.5.0",
      "_model_name": "ToggleButtonModel",
      "_view_count": null,
      "_view_module": "@jupyter-widgets/controls",
      "_view_module_version": "1.5.0",
      "_view_name": "ToggleButtonView",
      "button_style": "",
      "description": "",
      "description_tooltip": null,
      "disabled": false,
      "icon": "wrench",
      "layout": "IPY_MODEL_cb63753bf755482cb9718b99744a2615",
      "style": "IPY_MODEL_6a9f6b7441314cdb8fb59307b9b1f1e6",
      "tooltip": "Toolbar",
      "value": false
     }
    },
    "dcace06b82f74c8c904f07e8e28052c7": {
     "model_module": "@jupyter-widgets/base",
     "model_name": "LayoutModel",
     "model_module_version": "1.2.0",
     "state": {
      "_model_module": "@jupyter-widgets/base",
      "_model_module_version": "1.2.0",
      "_model_name": "LayoutModel",
      "_view_count": null,
      "_view_module": "@jupyter-widgets/base",
      "_view_module_version": "1.2.0",
      "_view_name": "LayoutView",
      "align_content": null,
      "align_items": null,
      "align_self": null,
      "border": null,
      "bottom": null,
      "display": null,
      "flex": null,
      "flex_flow": null,
      "grid_area": null,
      "grid_auto_columns": null,
      "grid_auto_flow": null,
      "grid_auto_rows": null,
      "grid_column": null,
      "grid_gap": null,
      "grid_row": null,
      "grid_template_areas": null,
      "grid_template_columns": null,
      "grid_template_rows": null,
      "height": null,
      "justify_content": null,
      "justify_items": null,
      "left": null,
      "margin": null,
      "max_height": null,
      "max_width": null,
      "min_height": null,
      "min_width": null,
      "object_fit": null,
      "object_position": null,
      "order": null,
      "overflow": null,
      "overflow_x": null,
      "overflow_y": null,
      "padding": null,
      "right": null,
      "top": null,
      "visibility": null,
      "width": null
     }
    },
    "9a7cac975a43469fa3e879e646101947": {
     "model_module": "@jupyter-widgets/base",
     "model_name": "LayoutModel",
     "model_module_version": "1.2.0",
     "state": {
      "_model_module": "@jupyter-widgets/base",
      "_model_module_version": "1.2.0",
      "_model_name": "LayoutModel",
      "_view_count": null,
      "_view_module": "@jupyter-widgets/base",
      "_view_module_version": "1.2.0",
      "_view_name": "LayoutView",
      "align_content": null,
      "align_items": null,
      "align_self": null,
      "border": null,
      "bottom": null,
      "display": null,
      "flex": null,
      "flex_flow": null,
      "grid_area": null,
      "grid_auto_columns": null,
      "grid_auto_flow": null,
      "grid_auto_rows": null,
      "grid_column": null,
      "grid_gap": null,
      "grid_row": null,
      "grid_template_areas": null,
      "grid_template_columns": null,
      "grid_template_rows": null,
      "height": "28px",
      "justify_content": null,
      "justify_items": null,
      "left": null,
      "margin": null,
      "max_height": null,
      "max_width": null,
      "min_height": null,
      "min_width": null,
      "object_fit": null,
      "object_position": null,
      "order": null,
      "overflow": null,
      "overflow_x": null,
      "overflow_y": null,
      "padding": "0px 0px 0px 4px",
      "right": null,
      "top": null,
      "visibility": null,
      "width": "28px"
     }
    },
    "2d1e7ce3137f4ba6889c6c1556d7a321": {
     "model_module": "@jupyter-widgets/controls",
     "model_name": "DescriptionStyleModel",
     "model_module_version": "1.5.0",
     "state": {
      "_model_module": "@jupyter-widgets/controls",
      "_model_module_version": "1.5.0",
      "_model_name": "DescriptionStyleModel",
      "_view_count": null,
      "_view_module": "@jupyter-widgets/base",
      "_view_module_version": "1.2.0",
      "_view_name": "StyleView",
      "description_width": ""
     }
    },
    "cb63753bf755482cb9718b99744a2615": {
     "model_module": "@jupyter-widgets/base",
     "model_name": "LayoutModel",
     "model_module_version": "1.2.0",
     "state": {
      "_model_module": "@jupyter-widgets/base",
      "_model_module_version": "1.2.0",
      "_model_name": "LayoutModel",
      "_view_count": null,
      "_view_module": "@jupyter-widgets/base",
      "_view_module_version": "1.2.0",
      "_view_name": "LayoutView",
      "align_content": null,
      "align_items": null,
      "align_self": null,
      "border": null,
      "bottom": null,
      "display": null,
      "flex": null,
      "flex_flow": null,
      "grid_area": null,
      "grid_auto_columns": null,
      "grid_auto_flow": null,
      "grid_auto_rows": null,
      "grid_column": null,
      "grid_gap": null,
      "grid_row": null,
      "grid_template_areas": null,
      "grid_template_columns": null,
      "grid_template_rows": null,
      "height": "28px",
      "justify_content": null,
      "justify_items": null,
      "left": null,
      "margin": null,
      "max_height": null,
      "max_width": null,
      "min_height": null,
      "min_width": null,
      "object_fit": null,
      "object_position": null,
      "order": null,
      "overflow": null,
      "overflow_x": null,
      "overflow_y": null,
      "padding": "0px 0px 0px 4px",
      "right": null,
      "top": null,
      "visibility": null,
      "width": "28px"
     }
    },
    "6a9f6b7441314cdb8fb59307b9b1f1e6": {
     "model_module": "@jupyter-widgets/controls",
     "model_name": "DescriptionStyleModel",
     "model_module_version": "1.5.0",
     "state": {
      "_model_module": "@jupyter-widgets/controls",
      "_model_module_version": "1.5.0",
      "_model_name": "DescriptionStyleModel",
      "_view_count": null,
      "_view_module": "@jupyter-widgets/base",
      "_view_module_version": "1.2.0",
      "_view_name": "StyleView",
      "description_width": ""
     }
    }
   }
  }
 },
 "nbformat": 4,
 "nbformat_minor": 5
}
