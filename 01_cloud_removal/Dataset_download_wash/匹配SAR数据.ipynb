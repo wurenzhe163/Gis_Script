{
 "cells": [
  {
   "cell_type": "markdown",
   "id": "797dc5a8",
   "metadata": {},
   "source": [
    "# 算法收集"
   ]
  },
  {
   "cell_type": "markdown",
   "id": "cf37c831",
   "metadata": {},
   "source": [
    "## "
   ]
  },
  {
   "cell_type": "code",
   "execution_count": null,
   "id": "d6fdcb40",
   "metadata": {
    "ExecuteTime": {
     "end_time": "2022-12-01T04:11:39.350843Z",
     "start_time": "2022-12-01T04:11:32.698783Z"
    }
   },
   "outputs": [],
   "source": [
    "import ee \n",
    "# import geemap \n",
    "import geemap\n",
    "import eerepr\n",
    "geemap.set_proxy(port=10809)\n",
    "ee.Initialize()"
   ]
  },
  {
   "cell_type": "code",
   "execution_count": null,
   "id": "5c81a355",
   "metadata": {
    "ExecuteTime": {
     "end_time": "2022-12-01T04:11:42.873106Z",
     "start_time": "2022-12-01T04:11:42.864107Z"
    }
   },
   "outputs": [],
   "source": [
    "geemap.__version__"
   ]
  },
  {
   "cell_type": "code",
   "execution_count": null,
   "id": "3f9e76b0",
   "metadata": {
    "ExecuteTime": {
     "end_time": "2022-11-30T15:38:14.431829Z",
     "start_time": "2022-11-30T15:38:14.418935Z"
    }
   },
   "outputs": [],
   "source": [
    "objects = [\n",
    "    {'name': 'ee.Feature', 'object': ee.Feature(ee.Geometry.Point([-125, 45]))},\n",
    "    {'name': 'ee.Image', 'object': ee.Image.constant(1)},\n",
    "    {'name': 'ee.FeatureCollection', 'object': ee.FeatureCollection('...')},\n",
    "    {'name': 'ee.ImageCollection', 'object': ee.ImageCollection('...')},\n",
    "    {'name': 'ee.Filter', 'object': ee.Filter(ee.Filter.eq('',''))},\n",
    "    {'name': 'ee.Reducer', 'object': ee.Reducer.mean()},\n",
    "]"
   ]
  },
  {
   "cell_type": "code",
   "execution_count": null,
   "id": "c3e9bf77",
   "metadata": {
    "ExecuteTime": {
     "end_time": "2022-11-30T15:38:16.561832Z",
     "start_time": "2022-11-30T15:38:16.552631Z"
    }
   },
   "outputs": [],
   "source": [
    "for obj in objects:\n",
    "    print(obj['name'])\n",
    "    methods = dir(obj['object'])\n",
    "    for thing in methods.copy():\n",
    "        if thing[0] is '_':\n",
    "            methods.remove(thing)\n",
    "\n",
    "    print(methods)"
   ]
  },
  {
   "cell_type": "code",
   "execution_count": null,
   "id": "2f535e13",
   "metadata": {
    "ExecuteTime": {
     "end_time": "2022-12-01T04:11:46.806113Z",
     "start_time": "2022-12-01T04:11:46.604112Z"
    },
    "scrolled": true
   },
   "outputs": [],
   "source": [
    "Map = geemap.Map(center=[34, 99], zoom=4, add_google_map=True)\n",
    "Map"
   ]
  },
  {
   "cell_type": "code",
   "execution_count": null,
   "id": "7632ff3c",
   "metadata": {
    "ExecuteTime": {
     "end_time": "2022-12-01T04:11:55.451410Z",
     "start_time": "2022-12-01T04:11:55.439416Z"
    }
   },
   "outputs": [],
   "source": [
    "roi = Map.draw_features[0]"
   ]
  },
  {
   "cell_type": "code",
   "execution_count": null,
   "id": "d1a9dbe0",
   "metadata": {
    "ExecuteTime": {
     "end_time": "2022-12-01T04:12:01.837924Z",
     "start_time": "2022-12-01T04:12:01.830925Z"
    }
   },
   "outputs": [],
   "source": [
    "start_year=2018;end_year=2019;start_date=\"01-01\";end_date=\"12-31\"\n",
    "start = f\"{start_year}-{start_date}\"\n",
    "end = f\"{end_year}-{end_date}\"\n",
    "collection = ee.ImageCollection(\"COPERNICUS/S2_SR_HARMONIZED\").filterDate(start, end)\\\n",
    "        .filterBounds(roi.geometry()).filter(ee.Filter.lt(\"CLOUDY_PIXEL_PERCENTAGE\", 30))"
   ]
  },
  {
   "cell_type": "code",
   "execution_count": null,
   "id": "9af5461e",
   "metadata": {
    "ExecuteTime": {
     "end_time": "2022-12-01T07:28:00.568164Z",
     "start_time": "2022-12-01T07:27:57.201574Z"
    }
   },
   "outputs": [],
   "source": [
    "collection"
   ]
  },
  {
   "cell_type": "code",
   "execution_count": null,
   "id": "672cb9ed",
   "metadata": {
    "ExecuteTime": {
     "end_time": "2022-12-01T01:23:50.248564Z",
     "start_time": "2022-12-01T01:23:50.239807Z"
    }
   },
   "outputs": [],
   "source": [
    "selected_image = ee.Image(\n",
    "    collection.toList(collection.size()).get(2020 - 1984)\n",
    ")"
   ]
  },
  {
   "cell_type": "code",
   "execution_count": null,
   "id": "bfda220f",
   "metadata": {
    "ExecuteTime": {
     "end_time": "2022-12-01T07:12:14.145968Z",
     "start_time": "2022-12-01T07:11:59.192351Z"
    }
   },
   "outputs": [],
   "source": [
    "geemap.create_timeseries(collection, start,end, \n",
    "                  region=roi.geometry(), bands=None, \n",
    "                  frequency='day', reducer='median', \n",
    "                  drop_empty=True, date_format=None)"
   ]
  }
 ],
 "metadata": {
  "hide_input": false,
  "kernelspec": {
   "display_name": "Python 3 (ipykernel)",
   "language": "python",
   "name": "python3"
  },
  "language_info": {
   "codemirror_mode": {
    "name": "ipython",
    "version": 3
   },
   "file_extension": ".py",
   "mimetype": "text/x-python",
   "name": "python",
   "nbconvert_exporter": "python",
   "pygments_lexer": "ipython3",
   "version": "3.9.7"
  },
  "nbTranslate": {
   "displayLangs": [
    "*"
   ],
   "hotkey": "alt-t",
   "langInMainMenu": true,
   "sourceLang": "en",
   "targetLang": "fr",
   "useGoogleTranslate": true
  },
  "toc": {
   "base_numbering": 1,
   "nav_menu": {},
   "number_sections": true,
   "sideBar": true,
   "skip_h1_title": false,
   "title_cell": "Table of Contents",
   "title_sidebar": "Contents",
   "toc_cell": false,
   "toc_position": {},
   "toc_section_display": true,
   "toc_window_display": true
  },
  "varInspector": {
   "cols": {
    "lenName": 16,
    "lenType": 16,
    "lenVar": 40
   },
   "kernels_config": {
    "python": {
     "delete_cmd_postfix": "",
     "delete_cmd_prefix": "del ",
     "library": "var_list.py",
     "varRefreshCmd": "print(var_dic_list())"
    },
    "r": {
     "delete_cmd_postfix": ") ",
     "delete_cmd_prefix": "rm(",
     "library": "var_list.r",
     "varRefreshCmd": "cat(var_dic_list()) "
    }
   },
   "types_to_exclude": [
    "module",
    "function",
    "builtin_function_or_method",
    "instance",
    "_Feature"
   ],
   "window_display": false
  }
 },
 "nbformat": 4,
 "nbformat_minor": 5
}
