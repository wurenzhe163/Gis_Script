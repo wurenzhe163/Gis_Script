{
 "cells": [
  {
   "cell_type": "markdown",
   "id": "23c0da3e",
   "metadata": {},
   "source": [
    "# 导入包"
   ]
  },
  {
   "cell_type": "code",
   "execution_count": 16,
   "id": "0041b5cf",
   "metadata": {
    "ExecuteTime": {
     "end_time": "2023-02-17T14:26:01.198818Z",
     "start_time": "2023-02-17T14:25:54.348825Z"
    }
   },
   "outputs": [],
   "source": [
    "import ee \n",
    "import geemap\n",
    "import numpy as np\n",
    "import pandas as pd\n",
    "import eerepr\n",
    "import folium\n",
    "import os\n",
    "from functools import partial\n",
    "geemap.set_proxy(port=10809)\n",
    "ee.Initialize()"
   ]
  },
  {
   "cell_type": "markdown",
   "id": "f3fa3148",
   "metadata": {},
   "source": [
    "# 解析日期、序号以及shp数据"
   ]
  },
  {
   "cell_type": "code",
   "execution_count": 17,
   "id": "6247d9cb",
   "metadata": {
    "ExecuteTime": {
     "end_time": "2023-02-17T14:27:37.281757Z",
     "start_time": "2023-02-17T14:27:37.199625Z"
    }
   },
   "outputs": [],
   "source": [
    "DataFrame = pd.read_csv(r\"E:\\Datasets\\2020-06-01_2020-09-30_processed\\2020-06-01_2020-09-30.csv\")\n",
    "Positive = DataFrame[DataFrame['pos_neg']==1].reset_index(drop=False)\n",
    "# .dt.date去除分秒\n",
    "Positive.date = pd.to_datetime(Positive.date).dt.date\n",
    "Positive['start_date'] = Positive.date - pd.Timedelta(days=20)\n",
    "Positive['end_date'] =Positive.date + pd.Timedelta(days=20)\n",
    "# 解析长度\n",
    "Len_positive = Positive.__len__()"
   ]
  },
  {
   "cell_type": "markdown",
   "id": "71122cfa",
   "metadata": {},
   "source": [
    "# 按照时间和序号筛选Sentinel-1的SAR数据，在构建的时候同步加载光学影像"
   ]
  },
  {
   "cell_type": "code",
   "execution_count": 18,
   "id": "742bca71",
   "metadata": {
    "ExecuteTime": {
     "end_time": "2023-02-17T14:34:52.741080Z",
     "start_time": "2023-02-17T14:34:48.162874Z"
    }
   },
   "outputs": [],
   "source": [
    "# 载入定位用的shp文件\n",
    "Southest_Tibetan_01 = ee.FeatureCollection('projects/ee-mrwurenzhe/assets/Southest')\n",
    "# 加入Geo属性信息\n",
    "Southest_Tibetan_Geo = Southest_Tibetan_01.map(lambda feature:feature.set({'Geo':feature.geometry()}))\n",
    "# 转为GeometryList\n",
    "Southest_Tibetan_GeoList = ee.List(Southest_Tibetan_Geo.reduceColumns(ee.Reducer.toList(),['Geo']).get('list'))\n",
    "Num_list = Southest_Tibetan_GeoList.size().getInfo()\n",
    "\n",
    "# 需要人工设定的参数,全局变量\n",
    "CLOUD_FILTER = 60                  # 过滤s2 大于指定云量的数据\n",
    "Parent_path = r'E:\\Datasets' #如不为None，则表示相对路径"
   ]
  },
  {
   "cell_type": "code",
   "execution_count": 19,
   "id": "cb2d445e",
   "metadata": {
    "ExecuteTime": {
     "end_time": "2023-02-17T14:27:42.694948Z",
     "start_time": "2023-02-17T14:27:42.694948Z"
    }
   },
   "outputs": [],
   "source": [
    "# 预定义函数\n",
    "def make_dir(path):\n",
    "    isExists = os.path.exists(path)\n",
    "    # 判断结果\n",
    "    if not isExists:\n",
    "        os.makedirs(path)\n",
    "        print(path + ' 创建成功')\n",
    "    return path\n",
    "\n",
    "def clip_AOI(col,AOI):\n",
    "    return col.clip(AOI)\n",
    "\n",
    "def time_difference(col,s2_date=None):\n",
    "    time_difference = ee.Date(s2_date).difference(ee.Date(col.get('system:time_start')), 'days').abs()\n",
    "    return col.set({'time_difference': time_difference})\n",
    "\n",
    "def load_image_collection(aoi,start_date,end_date,s2_date):\n",
    "    # 导入数据，并分为升轨和降轨数据\n",
    "    s2_sr_col = (ee.ImageCollection(\"COPERNICUS/S2_SR_HARMONIZED\")\n",
    "        .filterBounds(aoi)\n",
    "        .filterDate(start_date, end_date)\n",
    "        .filter(ee.Filter.lte('CLOUDY_PIXEL_PERCENTAGE', CLOUD_FILTER)).map(partial(clip_AOI,AOI=aoi)))\n",
    "    s1_col = (ee.ImageCollection(\"COPERNICUS/S1_GRD\")\n",
    "        .filterBounds(aoi)\n",
    "        .filterDate(start_date, end_date).map(partial(clip_AOI,AOI=aoi)))\n",
    "    s1_col = s1_col.map(partial(time_difference,s2_date=s2_date))\n",
    "    s1_descending = s1_col.filter(ee.Filter.eq('orbitProperties_pass', 'DESCENDING'))\n",
    "    s1_ascending = s1_col.filter(ee.Filter.eq('orbitProperties_pass', 'ASCENDING'))\n",
    "    return s1_ascending,s1_descending\n",
    "\n",
    "def Geemap_export(outdir,image,region,scale=10):\n",
    "    # 判断升降轨道,s1与s2的数据存储位置相互对应，保存文件仍然是id本身\n",
    "    Parten = image.get('orbitProperties_pass').getInfo()\n",
    "    file_name = os.path.join(outdir,Parten+'_'+image.id().getInfo()+'.tif')\n",
    "    geemap.ee_export_image(image,\n",
    "                          filename=file_name,\n",
    "                          scale=scale,region=region,file_per_band=True,timeout=1500)"
   ]
  },
  {
   "cell_type": "markdown",
   "id": "f21f1fb0",
   "metadata": {
    "ExecuteTime": {
     "end_time": "2022-12-21T08:11:19.748922Z",
     "start_time": "2022-12-21T08:11:19.731142Z"
    }
   },
   "source": [
    "# 选择最近的一景升轨/降轨SAR影像"
   ]
  },
  {
   "cell_type": "code",
   "execution_count": 51,
   "id": "fb326e5e",
   "metadata": {
    "ExecuteTime": {
     "start_time": "2023-01-03T12:01:36.216Z"
    },
    "scrolled": true
   },
   "outputs": [
    {
     "name": "stdout",
     "output_type": "stream",
     "text": [
      "Generating URL ...\n",
      "Downloading data from https://earthengine.googleapis.com/v1alpha/projects/earthengine-legacy/thumbnails/18661f8d13c531178b8df290dbf51dcb-a751bbf7f87b7134e30caba2d9177784:getPixels\n",
      "Please wait ...\n",
      "Data downloaded to H:\\GEE_S2Cloud_Dataset_02\\2020-06-01_2020-09-30\\Real\\03488\n",
      "Generating URL ...\n",
      "Downloading data from https://earthengine.googleapis.com/v1alpha/projects/earthengine-legacy/thumbnails/480d0611aeedee9992b3dc7160110c6c-8cf14969dc09e5d29533b8b146ef0076:getPixels\n",
      "Please wait ...\n",
      "Data downloaded to H:\\GEE_S2Cloud_Dataset_02\\2020-06-01_2020-09-30\\Real\\03488\n",
      "download i=839\n",
      "Generating URL ...\n",
      "Downloading data from https://earthengine.googleapis.com/v1alpha/projects/earthengine-legacy/thumbnails/8d6f33a39c498db8e6a16f5f41134e73-a2c6572fec0751dc8bf7e8d42d22a833:getPixels\n",
      "Please wait ...\n",
      "Data downloaded to H:\\GEE_S2Cloud_Dataset_02\\2020-06-01_2020-09-30\\Real\\03490\n",
      "Generating URL ...\n",
      "Downloading data from https://earthengine.googleapis.com/v1alpha/projects/earthengine-legacy/thumbnails/8ec2a6ff545d83013c9c421d449632d5-bae907145d4b88589b071eb270dd3e83:getPixels\n",
      "Please wait ...\n",
      "Data downloaded to H:\\GEE_S2Cloud_Dataset_02\\2020-06-01_2020-09-30\\Real\\03490\n",
      "download i=840\n",
      "Generating URL ...\n",
      "Downloading data from https://earthengine.googleapis.com/v1alpha/projects/earthengine-legacy/thumbnails/48d59754731f29fc09bcdfbdbddff0ec-f97c219f6bb113194db1cbe9899b96f1:getPixels\n",
      "Please wait ...\n",
      "Data downloaded to H:\\GEE_S2Cloud_Dataset_02\\2020-06-01_2020-09-30\\Real\\03491\n",
      "Generating URL ...\n",
      "Downloading data from https://earthengine.googleapis.com/v1alpha/projects/earthengine-legacy/thumbnails/fc63b91a05947c1dbcfc68699007281b-9be89b406a6db5e07fc6e281a6628e69:getPixels\n",
      "Please wait ...\n",
      "Data downloaded to H:\\GEE_S2Cloud_Dataset_02\\2020-06-01_2020-09-30\\Real\\03491\n",
      "download i=841\n",
      "Generating URL ...\n",
      "Downloading data from https://earthengine.googleapis.com/v1alpha/projects/earthengine-legacy/thumbnails/f1b8b6c63a5c8ff4f84623135f6b44e8-2730e83dea75b29a9d8349cd3407fc33:getPixels\n",
      "Please wait ...\n",
      "Data downloaded to H:\\GEE_S2Cloud_Dataset_02\\2020-06-01_2020-09-30\\Real\\03492\n",
      "Generating URL ...\n",
      "Downloading data from https://earthengine.googleapis.com/v1alpha/projects/earthengine-legacy/thumbnails/23691ec15f9996cba8062c306fc00b00-a4bf16d6e50eb49c4efbc29993ba7931:getPixels\n",
      "Please wait ...\n",
      "Data downloaded to H:\\GEE_S2Cloud_Dataset_02\\2020-06-01_2020-09-30\\Real\\03492\n",
      "download i=842\n",
      "Generating URL ...\n",
      "Downloading data from https://earthengine.googleapis.com/v1alpha/projects/earthengine-legacy/thumbnails/e867b22e59c1753634c8a001424a04c7-75ba2ae0f27a86e34622e68d460c41cd:getPixels\n",
      "Please wait ...\n",
      "Data downloaded to H:\\GEE_S2Cloud_Dataset_02\\2020-06-01_2020-09-30\\Real\\03493\n",
      "Generating URL ...\n",
      "Downloading data from https://earthengine.googleapis.com/v1alpha/projects/earthengine-legacy/thumbnails/7f44a1b6af06049b4bcb563597e9be2c-c7bfacd39e2ab17acfa1c1c9cc073f85:getPixels\n",
      "Please wait ...\n",
      "Data downloaded to H:\\GEE_S2Cloud_Dataset_02\\2020-06-01_2020-09-30\\Real\\03493\n",
      "download i=843\n",
      "Generating URL ...\n",
      "Downloading data from https://earthengine.googleapis.com/v1alpha/projects/earthengine-legacy/thumbnails/ef62ea71f1ce21fa07e072ecf3255d56-cae8687d26404da590b05eb6443bdc11:getPixels\n",
      "Please wait ...\n",
      "Data downloaded to H:\\GEE_S2Cloud_Dataset_02\\2020-06-01_2020-09-30\\Real\\03494\n",
      "Generating URL ...\n",
      "Downloading data from https://earthengine.googleapis.com/v1alpha/projects/earthengine-legacy/thumbnails/14c809192db20b121e68b9598fbed7e6-6f251624917f541eb9b9291a9e9d0b06:getPixels\n",
      "Please wait ...\n",
      "Data downloaded to H:\\GEE_S2Cloud_Dataset_02\\2020-06-01_2020-09-30\\Real\\03494\n",
      "download i=844\n",
      "Generating URL ...\n",
      "Downloading data from https://earthengine.googleapis.com/v1alpha/projects/earthengine-legacy/thumbnails/620dbf62e384e5280ce495a382475ed4-8973f566daf8a6c415b544eb17249961:getPixels\n",
      "Please wait ...\n",
      "Data downloaded to H:\\GEE_S2Cloud_Dataset_02\\2020-06-01_2020-09-30\\Real\\03495\n",
      "Generating URL ...\n",
      "Downloading data from https://earthengine.googleapis.com/v1alpha/projects/earthengine-legacy/thumbnails/c40e3e168b8578ad9b1fae3ab7a9b408-4b6edff6f49c311ccc8ae2650a30a6d0:getPixels\n",
      "Please wait ...\n",
      "Data downloaded to H:\\GEE_S2Cloud_Dataset_02\\2020-06-01_2020-09-30\\Real\\03495\n",
      "download i=845\n",
      "Generating URL ...\n",
      "Downloading data from https://earthengine.googleapis.com/v1alpha/projects/earthengine-legacy/thumbnails/67723527c6428db6364e29732cae52ed-82fdb6bd6755d5198273578f3acad952:getPixels\n",
      "Please wait ...\n",
      "Data downloaded to H:\\GEE_S2Cloud_Dataset_02\\2020-06-01_2020-09-30\\Real\\03496\n",
      "Generating URL ...\n",
      "Downloading data from https://earthengine.googleapis.com/v1alpha/projects/earthengine-legacy/thumbnails/fb664b42fdfe2bb85064c34452d7bfb4-9ef6af5d19c8dab847a8effaa3165fc5:getPixels\n",
      "Please wait ...\n",
      "Data downloaded to H:\\GEE_S2Cloud_Dataset_02\\2020-06-01_2020-09-30\\Real\\03496\n",
      "download i=846\n",
      "Generating URL ...\n",
      "Downloading data from https://earthengine.googleapis.com/v1alpha/projects/earthengine-legacy/thumbnails/398b1e1b5687e100df2e1892e1d29ca4-72f83578c771a4a2dc7f839cade29932:getPixels\n",
      "Please wait ...\n",
      "Data downloaded to H:\\GEE_S2Cloud_Dataset_02\\2020-06-01_2020-09-30\\Real\\03497\n",
      "Generating URL ...\n",
      "Downloading data from https://earthengine.googleapis.com/v1alpha/projects/earthengine-legacy/thumbnails/7f48fbe5b47c44792dfc6e8a94cdf29d-5ba7dab5c6cc81e6d1eebd19cb139cba:getPixels\n",
      "Please wait ...\n",
      "Data downloaded to H:\\GEE_S2Cloud_Dataset_02\\2020-06-01_2020-09-30\\Real\\03497\n",
      "download i=847\n",
      "Generating URL ...\n",
      "Downloading data from https://earthengine.googleapis.com/v1alpha/projects/earthengine-legacy/thumbnails/fe470c5cfe2dfaa9280e11edcb5525a3-6c5d8caf459bd1d47dc2170f4494de14:getPixels\n",
      "Please wait ...\n",
      "Data downloaded to H:\\GEE_S2Cloud_Dataset_02\\2020-06-01_2020-09-30\\Real\\03498\n",
      "Generating URL ...\n",
      "Downloading data from https://earthengine.googleapis.com/v1alpha/projects/earthengine-legacy/thumbnails/03d1e08289ab78ffc3b0b98f2a54b132-dde5ed15f87880245f3abc75be478fca:getPixels\n",
      "Please wait ...\n",
      "Data downloaded to H:\\GEE_S2Cloud_Dataset_02\\2020-06-01_2020-09-30\\Real\\03498\n",
      "download i=848\n",
      "Generating URL ...\n",
      "Downloading data from https://earthengine.googleapis.com/v1alpha/projects/earthengine-legacy/thumbnails/83821ea7c4d0595c0cc4f081a541f1e4-8f23e38aa5199406e0d8c5a53d247569:getPixels\n",
      "Please wait ...\n",
      "Data downloaded to H:\\GEE_S2Cloud_Dataset_02\\2020-06-01_2020-09-30\\Real\\03499\n",
      "Generating URL ...\n",
      "Downloading data from https://earthengine.googleapis.com/v1alpha/projects/earthengine-legacy/thumbnails/6ca04660ec2cc12c356e7e3b8732f370-1484b91f1680106e41917ef58e05d46d:getPixels\n",
      "Please wait ...\n",
      "Data downloaded to H:\\GEE_S2Cloud_Dataset_02\\2020-06-01_2020-09-30\\Real\\03499\n",
      "download i=849\n",
      "Generating URL ...\n",
      "Downloading data from https://earthengine.googleapis.com/v1alpha/projects/earthengine-legacy/thumbnails/877de7e8bbc5b048d2b6d13adbf0d0e4-dadb76239c728acb3e65ed3025a5bc93:getPixels\n",
      "Please wait ...\n",
      "Data downloaded to H:\\GEE_S2Cloud_Dataset_02\\2020-06-01_2020-09-30\\Real\\03500\n",
      "Generating URL ...\n",
      "Downloading data from https://earthengine.googleapis.com/v1alpha/projects/earthengine-legacy/thumbnails/a94da18fff19b3ec8b5337f298018ee3-7514db1b8db3b78742d8e737191f8930:getPixels\n",
      "Please wait ...\n",
      "Data downloaded to H:\\GEE_S2Cloud_Dataset_02\\2020-06-01_2020-09-30\\Real\\03500\n",
      "download i=850\n",
      "Generating URL ...\n",
      "Downloading data from https://earthengine.googleapis.com/v1alpha/projects/earthengine-legacy/thumbnails/ac87740f5223593c1cb9b91f08275fbc-35d9a5914a0fe3d58128f80d00429543:getPixels\n",
      "Please wait ...\n",
      "Data downloaded to H:\\GEE_S2Cloud_Dataset_02\\2020-06-01_2020-09-30\\Real\\03501\n",
      "Generating URL ...\n",
      "Downloading data from https://earthengine.googleapis.com/v1alpha/projects/earthengine-legacy/thumbnails/d4c7411753a14da9751fc2058cd9efd3-13088aaf76cb9e01ecdd5d2964cd1d31:getPixels\n",
      "Please wait ...\n",
      "Data downloaded to H:\\GEE_S2Cloud_Dataset_02\\2020-06-01_2020-09-30\\Real\\03501\n",
      "download i=851\n",
      "Generating URL ...\n",
      "Downloading data from https://earthengine.googleapis.com/v1alpha/projects/earthengine-legacy/thumbnails/859a09110657da61961b9add9d280f0b-09ec45660d42dfd2a05dc3f7d79456f2:getPixels\n",
      "Please wait ...\n",
      "Data downloaded to H:\\GEE_S2Cloud_Dataset_02\\2020-06-01_2020-09-30\\Real\\03502\n",
      "Generating URL ...\n",
      "Downloading data from https://earthengine.googleapis.com/v1alpha/projects/earthengine-legacy/thumbnails/c77f83004499b479f6a888b64d8bdff3-a8d6136e57489ee937f2ba040899d845:getPixels\n",
      "Please wait ...\n",
      "Data downloaded to H:\\GEE_S2Cloud_Dataset_02\\2020-06-01_2020-09-30\\Real\\03502\n",
      "download i=852\n",
      "Generating URL ...\n",
      "Downloading data from https://earthengine.googleapis.com/v1alpha/projects/earthengine-legacy/thumbnails/c49e27b848e86c224de17e96eb0cd81f-911eebde4410bcd2fda5bf8147696087:getPixels\n",
      "Please wait ...\n",
      "Data downloaded to H:\\GEE_S2Cloud_Dataset_02\\2020-06-01_2020-09-30\\Real\\03503\n",
      "Generating URL ...\n",
      "Downloading data from https://earthengine.googleapis.com/v1alpha/projects/earthengine-legacy/thumbnails/f40e5baefe9d40f6246f4a57df230a18-6919908f6e2da7bcc10ba2e3948845b1:getPixels\n",
      "Please wait ...\n",
      "An error occurred while downloading.\n"
     ]
    },
    {
     "ename": "UnboundLocalError",
     "evalue": "local variable 'r' referenced before assignment",
     "output_type": "error",
     "traceback": [
      "\u001B[1;31m---------------------------------------------------------------------------\u001B[0m",
      "\u001B[1;31mSSLEOFError\u001B[0m                               Traceback (most recent call last)",
      "\u001B[1;32mD:\\Wrz\\anaconda\\envs\\GEE\\lib\\site-packages\\urllib3\\connectionpool.py\u001B[0m in \u001B[0;36murlopen\u001B[1;34m(self, method, url, body, headers, retries, redirect, assert_same_host, timeout, pool_timeout, release_conn, chunked, body_pos, **response_kw)\u001B[0m\n\u001B[0;32m    666\u001B[0m             \u001B[1;32mif\u001B[0m \u001B[0mis_new_proxy_conn\u001B[0m\u001B[1;33m:\u001B[0m\u001B[1;33m\u001B[0m\u001B[1;33m\u001B[0m\u001B[0m\n\u001B[1;32m--> 667\u001B[1;33m                 \u001B[0mself\u001B[0m\u001B[1;33m.\u001B[0m\u001B[0m_prepare_proxy\u001B[0m\u001B[1;33m(\u001B[0m\u001B[0mconn\u001B[0m\u001B[1;33m)\u001B[0m\u001B[1;33m\u001B[0m\u001B[1;33m\u001B[0m\u001B[0m\n\u001B[0m\u001B[0;32m    668\u001B[0m \u001B[1;33m\u001B[0m\u001B[0m\n",
      "\u001B[1;32mD:\\Wrz\\anaconda\\envs\\GEE\\lib\\site-packages\\urllib3\\connectionpool.py\u001B[0m in \u001B[0;36m_prepare_proxy\u001B[1;34m(self, conn)\u001B[0m\n\u001B[0;32m    931\u001B[0m         \u001B[0mconn\u001B[0m\u001B[1;33m.\u001B[0m\u001B[0mset_tunnel\u001B[0m\u001B[1;33m(\u001B[0m\u001B[0mself\u001B[0m\u001B[1;33m.\u001B[0m\u001B[0m_proxy_host\u001B[0m\u001B[1;33m,\u001B[0m \u001B[0mself\u001B[0m\u001B[1;33m.\u001B[0m\u001B[0mport\u001B[0m\u001B[1;33m,\u001B[0m \u001B[0mself\u001B[0m\u001B[1;33m.\u001B[0m\u001B[0mproxy_headers\u001B[0m\u001B[1;33m)\u001B[0m\u001B[1;33m\u001B[0m\u001B[1;33m\u001B[0m\u001B[0m\n\u001B[1;32m--> 932\u001B[1;33m         \u001B[0mconn\u001B[0m\u001B[1;33m.\u001B[0m\u001B[0mconnect\u001B[0m\u001B[1;33m(\u001B[0m\u001B[1;33m)\u001B[0m\u001B[1;33m\u001B[0m\u001B[1;33m\u001B[0m\u001B[0m\n\u001B[0m\u001B[0;32m    933\u001B[0m \u001B[1;33m\u001B[0m\u001B[0m\n",
      "\u001B[1;32mD:\\Wrz\\anaconda\\envs\\GEE\\lib\\site-packages\\urllib3\\connection.py\u001B[0m in \u001B[0;36mconnect\u001B[1;34m(self)\u001B[0m\n\u001B[0;32m    361\u001B[0m \u001B[1;33m\u001B[0m\u001B[0m\n\u001B[1;32m--> 362\u001B[1;33m         self.sock = ssl_wrap_socket(\n\u001B[0m\u001B[0;32m    363\u001B[0m             \u001B[0msock\u001B[0m\u001B[1;33m=\u001B[0m\u001B[0mconn\u001B[0m\u001B[1;33m,\u001B[0m\u001B[1;33m\u001B[0m\u001B[1;33m\u001B[0m\u001B[0m\n",
      "\u001B[1;32mD:\\Wrz\\anaconda\\envs\\GEE\\lib\\site-packages\\urllib3\\util\\ssl_.py\u001B[0m in \u001B[0;36mssl_wrap_socket\u001B[1;34m(sock, keyfile, certfile, cert_reqs, ca_certs, server_hostname, ssl_version, ciphers, ssl_context, ca_cert_dir, key_password, ca_cert_data)\u001B[0m\n\u001B[0;32m    385\u001B[0m         \u001B[1;32mif\u001B[0m \u001B[0mHAS_SNI\u001B[0m \u001B[1;32mand\u001B[0m \u001B[0mserver_hostname\u001B[0m \u001B[1;32mis\u001B[0m \u001B[1;32mnot\u001B[0m \u001B[1;32mNone\u001B[0m\u001B[1;33m:\u001B[0m\u001B[1;33m\u001B[0m\u001B[1;33m\u001B[0m\u001B[0m\n\u001B[1;32m--> 386\u001B[1;33m             \u001B[1;32mreturn\u001B[0m \u001B[0mcontext\u001B[0m\u001B[1;33m.\u001B[0m\u001B[0mwrap_socket\u001B[0m\u001B[1;33m(\u001B[0m\u001B[0msock\u001B[0m\u001B[1;33m,\u001B[0m \u001B[0mserver_hostname\u001B[0m\u001B[1;33m=\u001B[0m\u001B[0mserver_hostname\u001B[0m\u001B[1;33m)\u001B[0m\u001B[1;33m\u001B[0m\u001B[1;33m\u001B[0m\u001B[0m\n\u001B[0m\u001B[0;32m    387\u001B[0m \u001B[1;33m\u001B[0m\u001B[0m\n",
      "\u001B[1;32mD:\\Wrz\\anaconda\\envs\\GEE\\lib\\ssl.py\u001B[0m in \u001B[0;36mwrap_socket\u001B[1;34m(self, sock, server_side, do_handshake_on_connect, suppress_ragged_eofs, server_hostname, session)\u001B[0m\n\u001B[0;32m    499\u001B[0m         \u001B[1;31m# ctx._wrap_socket()\u001B[0m\u001B[1;33m\u001B[0m\u001B[1;33m\u001B[0m\u001B[0m\n\u001B[1;32m--> 500\u001B[1;33m         return self.sslsocket_class._create(\n\u001B[0m\u001B[0;32m    501\u001B[0m             \u001B[0msock\u001B[0m\u001B[1;33m=\u001B[0m\u001B[0msock\u001B[0m\u001B[1;33m,\u001B[0m\u001B[1;33m\u001B[0m\u001B[1;33m\u001B[0m\u001B[0m\n",
      "\u001B[1;32mD:\\Wrz\\anaconda\\envs\\GEE\\lib\\ssl.py\u001B[0m in \u001B[0;36m_create\u001B[1;34m(cls, sock, server_side, do_handshake_on_connect, suppress_ragged_eofs, server_hostname, context, session)\u001B[0m\n\u001B[0;32m   1039\u001B[0m                         \u001B[1;32mraise\u001B[0m \u001B[0mValueError\u001B[0m\u001B[1;33m(\u001B[0m\u001B[1;34m\"do_handshake_on_connect should not be specified for non-blocking sockets\"\u001B[0m\u001B[1;33m)\u001B[0m\u001B[1;33m\u001B[0m\u001B[1;33m\u001B[0m\u001B[0m\n\u001B[1;32m-> 1040\u001B[1;33m                     \u001B[0mself\u001B[0m\u001B[1;33m.\u001B[0m\u001B[0mdo_handshake\u001B[0m\u001B[1;33m(\u001B[0m\u001B[1;33m)\u001B[0m\u001B[1;33m\u001B[0m\u001B[1;33m\u001B[0m\u001B[0m\n\u001B[0m\u001B[0;32m   1041\u001B[0m             \u001B[1;32mexcept\u001B[0m \u001B[1;33m(\u001B[0m\u001B[0mOSError\u001B[0m\u001B[1;33m,\u001B[0m \u001B[0mValueError\u001B[0m\u001B[1;33m)\u001B[0m\u001B[1;33m:\u001B[0m\u001B[1;33m\u001B[0m\u001B[1;33m\u001B[0m\u001B[0m\n",
      "\u001B[1;32mD:\\Wrz\\anaconda\\envs\\GEE\\lib\\ssl.py\u001B[0m in \u001B[0;36mdo_handshake\u001B[1;34m(self, block)\u001B[0m\n\u001B[0;32m   1308\u001B[0m                 \u001B[0mself\u001B[0m\u001B[1;33m.\u001B[0m\u001B[0msettimeout\u001B[0m\u001B[1;33m(\u001B[0m\u001B[1;32mNone\u001B[0m\u001B[1;33m)\u001B[0m\u001B[1;33m\u001B[0m\u001B[1;33m\u001B[0m\u001B[0m\n\u001B[1;32m-> 1309\u001B[1;33m             \u001B[0mself\u001B[0m\u001B[1;33m.\u001B[0m\u001B[0m_sslobj\u001B[0m\u001B[1;33m.\u001B[0m\u001B[0mdo_handshake\u001B[0m\u001B[1;33m(\u001B[0m\u001B[1;33m)\u001B[0m\u001B[1;33m\u001B[0m\u001B[1;33m\u001B[0m\u001B[0m\n\u001B[0m\u001B[0;32m   1310\u001B[0m         \u001B[1;32mfinally\u001B[0m\u001B[1;33m:\u001B[0m\u001B[1;33m\u001B[0m\u001B[1;33m\u001B[0m\u001B[0m\n",
      "\u001B[1;31mSSLEOFError\u001B[0m: EOF occurred in violation of protocol (_ssl.c:1129)",
      "\nDuring handling of the above exception, another exception occurred:\n",
      "\u001B[1;31mMaxRetryError\u001B[0m                             Traceback (most recent call last)",
      "\u001B[1;32mD:\\Wrz\\anaconda\\envs\\GEE\\lib\\site-packages\\requests\\adapters.py\u001B[0m in \u001B[0;36msend\u001B[1;34m(self, request, stream, timeout, verify, cert, proxies)\u001B[0m\n\u001B[0;32m    438\u001B[0m             \u001B[1;32mif\u001B[0m \u001B[1;32mnot\u001B[0m \u001B[0mchunked\u001B[0m\u001B[1;33m:\u001B[0m\u001B[1;33m\u001B[0m\u001B[1;33m\u001B[0m\u001B[0m\n\u001B[1;32m--> 439\u001B[1;33m                 resp = conn.urlopen(\n\u001B[0m\u001B[0;32m    440\u001B[0m                     \u001B[0mmethod\u001B[0m\u001B[1;33m=\u001B[0m\u001B[0mrequest\u001B[0m\u001B[1;33m.\u001B[0m\u001B[0mmethod\u001B[0m\u001B[1;33m,\u001B[0m\u001B[1;33m\u001B[0m\u001B[1;33m\u001B[0m\u001B[0m\n",
      "\u001B[1;32mD:\\Wrz\\anaconda\\envs\\GEE\\lib\\site-packages\\urllib3\\connectionpool.py\u001B[0m in \u001B[0;36murlopen\u001B[1;34m(self, method, url, body, headers, retries, redirect, assert_same_host, timeout, pool_timeout, release_conn, chunked, body_pos, **response_kw)\u001B[0m\n\u001B[0;32m    725\u001B[0m \u001B[1;33m\u001B[0m\u001B[0m\n\u001B[1;32m--> 726\u001B[1;33m             retries = retries.increment(\n\u001B[0m\u001B[0;32m    727\u001B[0m                 \u001B[0mmethod\u001B[0m\u001B[1;33m,\u001B[0m \u001B[0murl\u001B[0m\u001B[1;33m,\u001B[0m \u001B[0merror\u001B[0m\u001B[1;33m=\u001B[0m\u001B[0me\u001B[0m\u001B[1;33m,\u001B[0m \u001B[0m_pool\u001B[0m\u001B[1;33m=\u001B[0m\u001B[0mself\u001B[0m\u001B[1;33m,\u001B[0m \u001B[0m_stacktrace\u001B[0m\u001B[1;33m=\u001B[0m\u001B[0msys\u001B[0m\u001B[1;33m.\u001B[0m\u001B[0mexc_info\u001B[0m\u001B[1;33m(\u001B[0m\u001B[1;33m)\u001B[0m\u001B[1;33m[\u001B[0m\u001B[1;36m2\u001B[0m\u001B[1;33m]\u001B[0m\u001B[1;33m\u001B[0m\u001B[1;33m\u001B[0m\u001B[0m\n",
      "\u001B[1;32mD:\\Wrz\\anaconda\\envs\\GEE\\lib\\site-packages\\urllib3\\util\\retry.py\u001B[0m in \u001B[0;36mincrement\u001B[1;34m(self, method, url, response, error, _pool, _stacktrace)\u001B[0m\n\u001B[0;32m    445\u001B[0m         \u001B[1;32mif\u001B[0m \u001B[0mnew_retry\u001B[0m\u001B[1;33m.\u001B[0m\u001B[0mis_exhausted\u001B[0m\u001B[1;33m(\u001B[0m\u001B[1;33m)\u001B[0m\u001B[1;33m:\u001B[0m\u001B[1;33m\u001B[0m\u001B[1;33m\u001B[0m\u001B[0m\n\u001B[1;32m--> 446\u001B[1;33m             \u001B[1;32mraise\u001B[0m \u001B[0mMaxRetryError\u001B[0m\u001B[1;33m(\u001B[0m\u001B[0m_pool\u001B[0m\u001B[1;33m,\u001B[0m \u001B[0murl\u001B[0m\u001B[1;33m,\u001B[0m \u001B[0merror\u001B[0m \u001B[1;32mor\u001B[0m \u001B[0mResponseError\u001B[0m\u001B[1;33m(\u001B[0m\u001B[0mcause\u001B[0m\u001B[1;33m)\u001B[0m\u001B[1;33m)\u001B[0m\u001B[1;33m\u001B[0m\u001B[1;33m\u001B[0m\u001B[0m\n\u001B[0m\u001B[0;32m    447\u001B[0m \u001B[1;33m\u001B[0m\u001B[0m\n",
      "\u001B[1;31mMaxRetryError\u001B[0m: HTTPSConnectionPool(host='earthengine.googleapis.com', port=443): Max retries exceeded with url: /v1alpha/projects/earthengine-legacy/thumbnails/f40e5baefe9d40f6246f4a57df230a18-6919908f6e2da7bcc10ba2e3948845b1:getPixels (Caused by SSLError(SSLEOFError(8, 'EOF occurred in violation of protocol (_ssl.c:1129)')))",
      "\nDuring handling of the above exception, another exception occurred:\n",
      "\u001B[1;31mSSLError\u001B[0m                                  Traceback (most recent call last)",
      "\u001B[1;32mD:\\Wrz\\anaconda\\envs\\GEE\\lib\\site-packages\\geemap\\common.py\u001B[0m in \u001B[0;36mee_export_image\u001B[1;34m(ee_object, filename, scale, crs, crs_transform, region, dimensions, file_per_band, format, unmask_value, timeout, proxies)\u001B[0m\n\u001B[0;32m   2302\u001B[0m         \u001B[0mprint\u001B[0m\u001B[1;33m(\u001B[0m\u001B[1;34mf\"Downloading data from {url}\\nPlease wait ...\"\u001B[0m\u001B[1;33m)\u001B[0m\u001B[1;33m\u001B[0m\u001B[1;33m\u001B[0m\u001B[0m\n\u001B[1;32m-> 2303\u001B[1;33m         \u001B[0mr\u001B[0m \u001B[1;33m=\u001B[0m \u001B[0mrequests\u001B[0m\u001B[1;33m.\u001B[0m\u001B[0mget\u001B[0m\u001B[1;33m(\u001B[0m\u001B[0murl\u001B[0m\u001B[1;33m,\u001B[0m \u001B[0mstream\u001B[0m\u001B[1;33m=\u001B[0m\u001B[1;32mTrue\u001B[0m\u001B[1;33m,\u001B[0m \u001B[0mtimeout\u001B[0m\u001B[1;33m=\u001B[0m\u001B[0mtimeout\u001B[0m\u001B[1;33m,\u001B[0m \u001B[0mproxies\u001B[0m\u001B[1;33m=\u001B[0m\u001B[0mproxies\u001B[0m\u001B[1;33m)\u001B[0m\u001B[1;33m\u001B[0m\u001B[1;33m\u001B[0m\u001B[0m\n\u001B[0m\u001B[0;32m   2304\u001B[0m \u001B[1;33m\u001B[0m\u001B[0m\n",
      "\u001B[1;32mD:\\Wrz\\anaconda\\envs\\GEE\\lib\\site-packages\\requests\\api.py\u001B[0m in \u001B[0;36mget\u001B[1;34m(url, params, **kwargs)\u001B[0m\n\u001B[0;32m     74\u001B[0m \u001B[1;33m\u001B[0m\u001B[0m\n\u001B[1;32m---> 75\u001B[1;33m     \u001B[1;32mreturn\u001B[0m \u001B[0mrequest\u001B[0m\u001B[1;33m(\u001B[0m\u001B[1;34m'get'\u001B[0m\u001B[1;33m,\u001B[0m \u001B[0murl\u001B[0m\u001B[1;33m,\u001B[0m \u001B[0mparams\u001B[0m\u001B[1;33m=\u001B[0m\u001B[0mparams\u001B[0m\u001B[1;33m,\u001B[0m \u001B[1;33m**\u001B[0m\u001B[0mkwargs\u001B[0m\u001B[1;33m)\u001B[0m\u001B[1;33m\u001B[0m\u001B[1;33m\u001B[0m\u001B[0m\n\u001B[0m\u001B[0;32m     76\u001B[0m \u001B[1;33m\u001B[0m\u001B[0m\n",
      "\u001B[1;32mD:\\Wrz\\anaconda\\envs\\GEE\\lib\\site-packages\\requests\\api.py\u001B[0m in \u001B[0;36mrequest\u001B[1;34m(method, url, **kwargs)\u001B[0m\n\u001B[0;32m     60\u001B[0m     \u001B[1;32mwith\u001B[0m \u001B[0msessions\u001B[0m\u001B[1;33m.\u001B[0m\u001B[0mSession\u001B[0m\u001B[1;33m(\u001B[0m\u001B[1;33m)\u001B[0m \u001B[1;32mas\u001B[0m \u001B[0msession\u001B[0m\u001B[1;33m:\u001B[0m\u001B[1;33m\u001B[0m\u001B[1;33m\u001B[0m\u001B[0m\n\u001B[1;32m---> 61\u001B[1;33m         \u001B[1;32mreturn\u001B[0m \u001B[0msession\u001B[0m\u001B[1;33m.\u001B[0m\u001B[0mrequest\u001B[0m\u001B[1;33m(\u001B[0m\u001B[0mmethod\u001B[0m\u001B[1;33m=\u001B[0m\u001B[0mmethod\u001B[0m\u001B[1;33m,\u001B[0m \u001B[0murl\u001B[0m\u001B[1;33m=\u001B[0m\u001B[0murl\u001B[0m\u001B[1;33m,\u001B[0m \u001B[1;33m**\u001B[0m\u001B[0mkwargs\u001B[0m\u001B[1;33m)\u001B[0m\u001B[1;33m\u001B[0m\u001B[1;33m\u001B[0m\u001B[0m\n\u001B[0m\u001B[0;32m     62\u001B[0m \u001B[1;33m\u001B[0m\u001B[0m\n",
      "\u001B[1;32mD:\\Wrz\\anaconda\\envs\\GEE\\lib\\site-packages\\requests\\sessions.py\u001B[0m in \u001B[0;36mrequest\u001B[1;34m(self, method, url, params, data, headers, cookies, files, auth, timeout, allow_redirects, proxies, hooks, stream, verify, cert, json)\u001B[0m\n\u001B[0;32m    541\u001B[0m         \u001B[0msend_kwargs\u001B[0m\u001B[1;33m.\u001B[0m\u001B[0mupdate\u001B[0m\u001B[1;33m(\u001B[0m\u001B[0msettings\u001B[0m\u001B[1;33m)\u001B[0m\u001B[1;33m\u001B[0m\u001B[1;33m\u001B[0m\u001B[0m\n\u001B[1;32m--> 542\u001B[1;33m         \u001B[0mresp\u001B[0m \u001B[1;33m=\u001B[0m \u001B[0mself\u001B[0m\u001B[1;33m.\u001B[0m\u001B[0msend\u001B[0m\u001B[1;33m(\u001B[0m\u001B[0mprep\u001B[0m\u001B[1;33m,\u001B[0m \u001B[1;33m**\u001B[0m\u001B[0msend_kwargs\u001B[0m\u001B[1;33m)\u001B[0m\u001B[1;33m\u001B[0m\u001B[1;33m\u001B[0m\u001B[0m\n\u001B[0m\u001B[0;32m    543\u001B[0m \u001B[1;33m\u001B[0m\u001B[0m\n",
      "\u001B[1;32mD:\\Wrz\\anaconda\\envs\\GEE\\lib\\site-packages\\requests\\sessions.py\u001B[0m in \u001B[0;36msend\u001B[1;34m(self, request, **kwargs)\u001B[0m\n\u001B[0;32m    654\u001B[0m         \u001B[1;31m# Send the request\u001B[0m\u001B[1;33m\u001B[0m\u001B[1;33m\u001B[0m\u001B[0m\n\u001B[1;32m--> 655\u001B[1;33m         \u001B[0mr\u001B[0m \u001B[1;33m=\u001B[0m \u001B[0madapter\u001B[0m\u001B[1;33m.\u001B[0m\u001B[0msend\u001B[0m\u001B[1;33m(\u001B[0m\u001B[0mrequest\u001B[0m\u001B[1;33m,\u001B[0m \u001B[1;33m**\u001B[0m\u001B[0mkwargs\u001B[0m\u001B[1;33m)\u001B[0m\u001B[1;33m\u001B[0m\u001B[1;33m\u001B[0m\u001B[0m\n\u001B[0m\u001B[0;32m    656\u001B[0m \u001B[1;33m\u001B[0m\u001B[0m\n",
      "\u001B[1;32mD:\\Wrz\\anaconda\\envs\\GEE\\lib\\site-packages\\requests\\adapters.py\u001B[0m in \u001B[0;36msend\u001B[1;34m(self, request, stream, timeout, verify, cert, proxies)\u001B[0m\n\u001B[0;32m    513\u001B[0m                 \u001B[1;31m# This branch is for urllib3 v1.22 and later.\u001B[0m\u001B[1;33m\u001B[0m\u001B[1;33m\u001B[0m\u001B[0m\n\u001B[1;32m--> 514\u001B[1;33m                 \u001B[1;32mraise\u001B[0m \u001B[0mSSLError\u001B[0m\u001B[1;33m(\u001B[0m\u001B[0me\u001B[0m\u001B[1;33m,\u001B[0m \u001B[0mrequest\u001B[0m\u001B[1;33m=\u001B[0m\u001B[0mrequest\u001B[0m\u001B[1;33m)\u001B[0m\u001B[1;33m\u001B[0m\u001B[1;33m\u001B[0m\u001B[0m\n\u001B[0m\u001B[0;32m    515\u001B[0m \u001B[1;33m\u001B[0m\u001B[0m\n",
      "\u001B[1;31mSSLError\u001B[0m: HTTPSConnectionPool(host='earthengine.googleapis.com', port=443): Max retries exceeded with url: /v1alpha/projects/earthengine-legacy/thumbnails/f40e5baefe9d40f6246f4a57df230a18-6919908f6e2da7bcc10ba2e3948845b1:getPixels (Caused by SSLError(SSLEOFError(8, 'EOF occurred in violation of protocol (_ssl.c:1129)')))",
      "\nDuring handling of the above exception, another exception occurred:\n",
      "\u001B[1;31mUnboundLocalError\u001B[0m                         Traceback (most recent call last)",
      "\u001B[1;32mC:\\Users\\ADMINI~1\\AppData\\Local\\Temp/ipykernel_15804/2468669187.py\u001B[0m in \u001B[0;36m<module>\u001B[1;34m\u001B[0m\n\u001B[0;32m     17\u001B[0m     \u001B[0mdescending_image\u001B[0m \u001B[1;33m=\u001B[0m \u001B[0mee\u001B[0m\u001B[1;33m.\u001B[0m\u001B[0mImage\u001B[0m\u001B[1;33m(\u001B[0m\u001B[0ms1_descending\u001B[0m\u001B[1;33m.\u001B[0m\u001B[0mtoList\u001B[0m\u001B[1;33m(\u001B[0m\u001B[1;36m10\u001B[0m\u001B[1;33m)\u001B[0m\u001B[1;33m.\u001B[0m\u001B[0mget\u001B[0m\u001B[1;33m(\u001B[0m\u001B[0mint\u001B[0m\u001B[1;33m(\u001B[0m\u001B[0mnp\u001B[0m\u001B[1;33m.\u001B[0m\u001B[0margmin\u001B[0m\u001B[1;33m(\u001B[0m\u001B[0ms1_descending\u001B[0m\u001B[1;33m.\u001B[0m\u001B[0maggregate_array\u001B[0m\u001B[1;33m(\u001B[0m\u001B[1;34m'time_difference'\u001B[0m\u001B[1;33m)\u001B[0m\u001B[1;33m.\u001B[0m\u001B[0mgetInfo\u001B[0m\u001B[1;33m(\u001B[0m\u001B[1;33m)\u001B[0m\u001B[1;33m)\u001B[0m\u001B[1;33m)\u001B[0m\u001B[1;33m)\u001B[0m\u001B[1;33m)\u001B[0m\u001B[1;33m\u001B[0m\u001B[1;33m\u001B[0m\u001B[0m\n\u001B[0;32m     18\u001B[0m     \u001B[0mGeemap_export\u001B[0m\u001B[1;33m(\u001B[0m\u001B[0mout_dir\u001B[0m\u001B[1;33m,\u001B[0m\u001B[0mascending_image\u001B[0m\u001B[1;33m,\u001B[0m\u001B[0mregion\u001B[0m\u001B[1;33m=\u001B[0m\u001B[0mAOI\u001B[0m\u001B[1;33m)\u001B[0m\u001B[1;33m\u001B[0m\u001B[1;33m\u001B[0m\u001B[0m\n\u001B[1;32m---> 19\u001B[1;33m     \u001B[0mGeemap_export\u001B[0m\u001B[1;33m(\u001B[0m\u001B[0mout_dir\u001B[0m\u001B[1;33m,\u001B[0m\u001B[0mdescending_image\u001B[0m\u001B[1;33m,\u001B[0m\u001B[0mregion\u001B[0m\u001B[1;33m=\u001B[0m\u001B[0mAOI\u001B[0m\u001B[1;33m)\u001B[0m\u001B[1;33m\u001B[0m\u001B[1;33m\u001B[0m\u001B[0m\n\u001B[0m\u001B[0;32m     20\u001B[0m     \u001B[0mprint\u001B[0m\u001B[1;33m(\u001B[0m\u001B[1;34m'download i={}'\u001B[0m\u001B[1;33m.\u001B[0m\u001B[0mformat\u001B[0m\u001B[1;33m(\u001B[0m\u001B[0mi\u001B[0m\u001B[1;33m)\u001B[0m\u001B[1;33m)\u001B[0m\u001B[1;33m\u001B[0m\u001B[1;33m\u001B[0m\u001B[0m\n",
      "\u001B[1;32mC:\\Users\\ADMINI~1\\AppData\\Local\\Temp/ipykernel_15804/3402602915.py\u001B[0m in \u001B[0;36mGeemap_export\u001B[1;34m(outdir, image, region, scale)\u001B[0m\n\u001B[0;32m     33\u001B[0m     \u001B[0mParten\u001B[0m \u001B[1;33m=\u001B[0m \u001B[0mimage\u001B[0m\u001B[1;33m.\u001B[0m\u001B[0mget\u001B[0m\u001B[1;33m(\u001B[0m\u001B[1;34m'orbitProperties_pass'\u001B[0m\u001B[1;33m)\u001B[0m\u001B[1;33m.\u001B[0m\u001B[0mgetInfo\u001B[0m\u001B[1;33m(\u001B[0m\u001B[1;33m)\u001B[0m\u001B[1;33m\u001B[0m\u001B[1;33m\u001B[0m\u001B[0m\n\u001B[0;32m     34\u001B[0m     \u001B[0mfile_name\u001B[0m \u001B[1;33m=\u001B[0m \u001B[0mos\u001B[0m\u001B[1;33m.\u001B[0m\u001B[0mpath\u001B[0m\u001B[1;33m.\u001B[0m\u001B[0mjoin\u001B[0m\u001B[1;33m(\u001B[0m\u001B[0moutdir\u001B[0m\u001B[1;33m,\u001B[0m\u001B[0mParten\u001B[0m\u001B[1;33m+\u001B[0m\u001B[1;34m'_'\u001B[0m\u001B[1;33m+\u001B[0m\u001B[0mimage\u001B[0m\u001B[1;33m.\u001B[0m\u001B[0mid\u001B[0m\u001B[1;33m(\u001B[0m\u001B[1;33m)\u001B[0m\u001B[1;33m.\u001B[0m\u001B[0mgetInfo\u001B[0m\u001B[1;33m(\u001B[0m\u001B[1;33m)\u001B[0m\u001B[1;33m+\u001B[0m\u001B[1;34m'.tif'\u001B[0m\u001B[1;33m)\u001B[0m\u001B[1;33m\u001B[0m\u001B[1;33m\u001B[0m\u001B[0m\n\u001B[1;32m---> 35\u001B[1;33m     geemap.ee_export_image(image,\n\u001B[0m\u001B[0;32m     36\u001B[0m                           \u001B[0mfilename\u001B[0m\u001B[1;33m=\u001B[0m\u001B[0mfile_name\u001B[0m\u001B[1;33m,\u001B[0m\u001B[1;33m\u001B[0m\u001B[1;33m\u001B[0m\u001B[0m\n\u001B[0;32m     37\u001B[0m                           scale=scale,region=region,file_per_band=True,timeout=1500)\n",
      "\u001B[1;32mD:\\Wrz\\anaconda\\envs\\GEE\\lib\\site-packages\\geemap\\common.py\u001B[0m in \u001B[0;36mee_export_image\u001B[1;34m(ee_object, filename, scale, crs, crs_transform, region, dimensions, file_per_band, format, unmask_value, timeout, proxies)\u001B[0m\n\u001B[0;32m   2313\u001B[0m     \u001B[1;32mexcept\u001B[0m \u001B[0mException\u001B[0m \u001B[1;32mas\u001B[0m \u001B[0me\u001B[0m\u001B[1;33m:\u001B[0m\u001B[1;33m\u001B[0m\u001B[1;33m\u001B[0m\u001B[0m\n\u001B[0;32m   2314\u001B[0m         \u001B[0mprint\u001B[0m\u001B[1;33m(\u001B[0m\u001B[1;34m\"An error occurred while downloading.\"\u001B[0m\u001B[1;33m)\u001B[0m\u001B[1;33m\u001B[0m\u001B[1;33m\u001B[0m\u001B[0m\n\u001B[1;32m-> 2315\u001B[1;33m         \u001B[0mprint\u001B[0m\u001B[1;33m(\u001B[0m\u001B[0mr\u001B[0m\u001B[1;33m.\u001B[0m\u001B[0mjson\u001B[0m\u001B[1;33m(\u001B[0m\u001B[1;33m)\u001B[0m\u001B[1;33m[\u001B[0m\u001B[1;34m\"error\"\u001B[0m\u001B[1;33m]\u001B[0m\u001B[1;33m[\u001B[0m\u001B[1;34m\"message\"\u001B[0m\u001B[1;33m]\u001B[0m\u001B[1;33m)\u001B[0m\u001B[1;33m\u001B[0m\u001B[1;33m\u001B[0m\u001B[0m\n\u001B[0m\u001B[0;32m   2316\u001B[0m         \u001B[1;32mreturn\u001B[0m\u001B[1;33m\u001B[0m\u001B[1;33m\u001B[0m\u001B[0m\n\u001B[0;32m   2317\u001B[0m \u001B[1;33m\u001B[0m\u001B[0m\n",
      "\u001B[1;31mUnboundLocalError\u001B[0m: local variable 'r' referenced before assignment"
     ]
    }
   ],
   "source": [
    "for i in range(4337,Len_positive):\n",
    "    # 获取时间区间以及存储路径\n",
    "    Obj = Positive.loc[i,['part','num','date','start_date','end_date']]\n",
    "    start_date = str(Obj.start_date)\n",
    "    end_date = str(Obj.end_date)\n",
    "    # 解析路径\n",
    "    Child_path = os.path.join(str(Positive.loc[i].TimeStart_End),str(Positive.loc[i].part),f'{Positive.loc[i].num:05d}')\n",
    "    out_dir = os.path.join(Parent_path,Child_path)\n",
    "    \n",
    "    # 根据AOI取对应位置和时间范围的S1_Collection\n",
    "    AOI = ee.Feature.geometry(Southest_Tibetan_GeoList.get(int(Positive.loc[i].num)))\n",
    "    AOI_buffer = AOI.buffer(distance=300)\n",
    "    s1_ascending,s1_descending = load_image_collection(AOI_buffer,start_date,end_date,s2_date=str(Obj.date))\n",
    "\n",
    "    # descending_image && ascending image ，通过将collection转化为list，并定位时间差绝对值最小值序号，获取图像\n",
    "    ascending_image  = ee.Image(s1_ascending.toList(10).get(int(np.argmin(s1_ascending.aggregate_array('time_difference').getInfo()))))\n",
    "    descending_image = ee.Image(s1_descending.toList(10).get(int(np.argmin(s1_descending.aggregate_array('time_difference').getInfo()))))\n",
    "    Geemap_export(out_dir,ascending_image,region=AOI)\n",
    "    Geemap_export(out_dir,descending_image,region=AOI)\n",
    "    print('download i={}'.format(i))"
   ]
  },
  {
   "cell_type": "markdown",
   "id": "9b9f9ac9",
   "metadata": {},
   "source": [
    "# 追加"
   ]
  },
  {
   "cell_type": "code",
   "execution_count": 25,
   "id": "45336817",
   "metadata": {
    "ExecuteTime": {
     "end_time": "2023-02-17T14:38:30.577109Z",
     "start_time": "2023-02-17T14:34:54.525229Z"
    }
   },
   "outputs": [
    {
     "name": "stdout",
     "output_type": "stream",
     "text": [
      "Generating URL ...\n",
      "Downloading data from https://earthengine.googleapis.com/v1alpha/projects/earthengine-legacy/thumbnails/1c03fad82ea2b803f78f5b443278bae7-1baa74928fb76e142d3da03c630e57b2:getPixels\n",
      "Please wait ...\n",
      "Data downloaded to E:\\Datasets\\2020-06-01_2020-09-30_processed\\Real\\02484\n",
      "Generating URL ...\n",
      "Downloading data from https://earthengine.googleapis.com/v1alpha/projects/earthengine-legacy/thumbnails/22b2b261b8fc69e55d3d1f7f65d665b6-47f06ed748546ebb07820ca794aa1ab3:getPixels\n",
      "Please wait ...\n",
      "Data downloaded to E:\\Datasets\\2020-06-01_2020-09-30_processed\\Real\\02484\n",
      "download i=622\n",
      "Generating URL ...\n",
      "Downloading data from https://earthengine.googleapis.com/v1alpha/projects/earthengine-legacy/thumbnails/2b698126164a398cccf602980dc51d02-d8563ba6b88cc36b8e22f40a6e35ad7d:getPixels\n",
      "Please wait ...\n",
      "Data downloaded to E:\\Datasets\\2020-06-01_2020-09-30_processed\\Real\\06545\n",
      "Generating URL ...\n",
      "Downloading data from https://earthengine.googleapis.com/v1alpha/projects/earthengine-legacy/thumbnails/3f2bbdced482b6c1882bdbdcfa83706b-740f67a5394ea7f074d6865a0a653d73:getPixels\n",
      "Please wait ...\n",
      "Data downloaded to E:\\Datasets\\2020-06-01_2020-09-30_processed\\Real\\06545\n",
      "download i=1756\n",
      "Generating URL ...\n",
      "Downloading data from https://earthengine.googleapis.com/v1alpha/projects/earthengine-legacy/thumbnails/a1e286e744766e81020d5b2a6e73db37-89d18d1be326e29e37ac2a5a9262cc63:getPixels\n",
      "Please wait ...\n",
      "Data downloaded to E:\\Datasets\\2020-06-01_2020-09-30_processed\\Synth\\01776\n",
      "Generating URL ...\n",
      "Downloading data from https://earthengine.googleapis.com/v1alpha/projects/earthengine-legacy/thumbnails/91598cf8fb63867a44c53222240f322f-e311f569cc2c0149a91f6eddc90df86d:getPixels\n",
      "Please wait ...\n",
      "Data downloaded to E:\\Datasets\\2020-06-01_2020-09-30_processed\\Synth\\01776\n",
      "download i=3049\n",
      "Generating URL ...\n",
      "Downloading data from https://earthengine.googleapis.com/v1alpha/projects/earthengine-legacy/thumbnails/f42a193722d67f56431b3072c4bb0f52-6687771bcb216477c730ac3b3f50ce3e:getPixels\n",
      "Please wait ...\n",
      "Data downloaded to E:\\Datasets\\2020-06-01_2020-09-30_processed\\Synth\\07783\n",
      "Generating URL ...\n",
      "Downloading data from https://earthengine.googleapis.com/v1alpha/projects/earthengine-legacy/thumbnails/ab42cff7b496b37aefb52db87763a773-7b39932607c4eeeb9d744db2f07eae42:getPixels\n",
      "Please wait ...\n",
      "Data downloaded to E:\\Datasets\\2020-06-01_2020-09-30_processed\\Synth\\07783\n",
      "download i=4305\n"
     ]
    }
   ],
   "source": [
    "index = [2484,6545,1776,7783]\n",
    "A=[]\n",
    "for i in index:\n",
    "    A.append(Positive[Positive.num == i].index[0])\n",
    "for i in A:\n",
    "    # 获取时间区间以及存储路径\n",
    "    Obj = Positive.loc[i,['part','num','date','start_date','end_date']]\n",
    "    start_date = str(Obj.start_date)\n",
    "    end_date = str(Obj.end_date)\n",
    "    # 解析路径\n",
    "    Child_path = os.path.join(str(Positive.loc[i].TimeStart_End),str(Positive.loc[i].part),f'{Positive.loc[i].num:05d}')\n",
    "    out_dir = os.path.join(Parent_path,Child_path)\n",
    "    \n",
    "    # 根据AOI取对应位置和时间范围的S1_Collection\n",
    "    AOI = ee.Feature.geometry(Southest_Tibetan_GeoList.get(int(Positive.loc[i].num)))\n",
    "    AOI_buffer = AOI.buffer(distance=300)\n",
    "    s1_ascending,s1_descending = load_image_collection(AOI_buffer,start_date,end_date,s2_date=str(Obj.date))\n",
    "\n",
    "    # descending_image && ascending image ，通过将collection转化为list，并定位时间差绝对值最小值序号，获取图像\n",
    "    ascending_image  = ee.Image(s1_ascending.toList(10).get(int(np.argmin(s1_ascending.aggregate_array('time_difference').getInfo()))))\n",
    "    descending_image = ee.Image(s1_descending.toList(10).get(int(np.argmin(s1_descending.aggregate_array('time_difference').getInfo()))))\n",
    "    Geemap_export(out_dir,ascending_image,region=AOI)\n",
    "    Geemap_export(out_dir,descending_image,region=AOI)\n",
    "    print('download i={}'.format(i))"
   ]
  },
  {
   "cell_type": "code",
   "execution_count": 36,
   "id": "199d7f0e",
   "metadata": {
    "ExecuteTime": {
     "end_time": "2023-01-04T10:46:08.981714Z",
     "start_time": "2023-01-04T10:46:08.952711Z"
    }
   },
   "outputs": [
    {
     "data": {
      "text/plain": [
       "686"
      ]
     },
     "execution_count": 36,
     "metadata": {},
     "output_type": "execute_result"
    }
   ],
   "source": [
    "Positive[(Positive.num == 5792) | (Positive.num ==2770)].index[0]"
   ]
  },
  {
   "cell_type": "code",
   "execution_count": 15,
   "id": "2ebc3042",
   "metadata": {
    "ExecuteTime": {
     "end_time": "2023-02-17T14:26:18.108195Z",
     "start_time": "2023-02-17T14:26:18.091036Z"
    }
   },
   "outputs": [],
   "source": []
  },
  {
   "cell_type": "code",
   "execution_count": 10,
   "id": "f42dde13",
   "metadata": {
    "ExecuteTime": {
     "end_time": "2023-02-17T14:25:17.074590Z",
     "start_time": "2023-02-17T14:25:17.055665Z"
    }
   },
   "outputs": [
    {
     "data": {
      "text/plain": [
       "[2242, 1541, 686, 1026, 1027, 1025, 3709, 4376, 1110]"
      ]
     },
     "execution_count": 10,
     "metadata": {},
     "output_type": "execute_result"
    }
   ],
   "source": [
    "A"
   ]
  },
  {
   "cell_type": "code",
   "execution_count": 12,
   "id": "021477f7",
   "metadata": {
    "ExecuteTime": {
     "end_time": "2023-02-17T14:25:34.121804Z",
     "start_time": "2023-02-17T14:25:34.111484Z"
    }
   },
   "outputs": [
    {
     "data": {
      "text/plain": [
       "2242"
      ]
     },
     "execution_count": 12,
     "metadata": {},
     "output_type": "execute_result"
    }
   ],
   "source": [
    "Positive[Positive.num == 10931].index[0]"
   ]
  },
  {
   "cell_type": "code",
   "execution_count": 39,
   "id": "751b2796",
   "metadata": {
    "ExecuteTime": {
     "end_time": "2023-01-05T04:16:43.610267Z",
     "start_time": "2023-01-05T04:16:43.593266Z"
    }
   },
   "outputs": [
    {
     "data": {
      "text/plain": [
       "[1541, 686, 1026, 1027, 1025, 3708, 4375, 1110]"
      ]
     },
     "execution_count": 39,
     "metadata": {},
     "output_type": "execute_result"
    }
   ],
   "source": [
    "A"
   ]
  },
  {
   "cell_type": "code",
   "execution_count": 21,
   "id": "ad5022ca",
   "metadata": {
    "ExecuteTime": {
     "end_time": "2023-01-04T10:37:28.663532Z",
     "start_time": "2023-01-04T10:37:28.634536Z"
    }
   },
   "outputs": [
    {
     "data": {
      "text/html": [
       "<div>\n",
       "<style scoped>\n",
       "    .dataframe tbody tr th:only-of-type {\n",
       "        vertical-align: middle;\n",
       "    }\n",
       "\n",
       "    .dataframe tbody tr th {\n",
       "        vertical-align: top;\n",
       "    }\n",
       "\n",
       "    .dataframe thead th {\n",
       "        text-align: right;\n",
       "    }\n",
       "</style>\n",
       "<table border=\"1\" class=\"dataframe\">\n",
       "  <thead>\n",
       "    <tr style=\"text-align: right;\">\n",
       "      <th></th>\n",
       "      <th>index</th>\n",
       "      <th>Unnamed: 0</th>\n",
       "      <th>parent</th>\n",
       "      <th>TimeStart_End</th>\n",
       "      <th>part</th>\n",
       "      <th>num</th>\n",
       "      <th>tif</th>\n",
       "      <th>pos_neg</th>\n",
       "      <th>date</th>\n",
       "      <th>start_date</th>\n",
       "      <th>end_date</th>\n",
       "    </tr>\n",
       "  </thead>\n",
       "  <tbody>\n",
       "  </tbody>\n",
       "</table>\n",
       "</div>"
      ],
      "text/plain": [
       "Empty DataFrame\n",
       "Columns: [index, Unnamed: 0, parent, TimeStart_End, part, num, tif, pos_neg, date, start_date, end_date]\n",
       "Index: []"
      ]
     },
     "execution_count": 21,
     "metadata": {},
     "output_type": "execute_result"
    }
   ],
   "source": [
    "Positive[Positive.num == 5792 | 2770 | 4354]"
   ]
  },
  {
   "cell_type": "code",
   "execution_count": null,
   "id": "0bd66252",
   "metadata": {
    "ExecuteTime": {
     "end_time": "2023-01-02T11:40:13.438530Z",
     "start_time": "2023-01-02T11:40:13.438530Z"
    }
   },
   "outputs": [],
   "source": [
    "# 展示以下"
   ]
  },
  {
   "cell_type": "code",
   "execution_count": null,
   "id": "117d8996",
   "metadata": {
    "ExecuteTime": {
     "end_time": "2023-01-02T11:40:13.444532Z",
     "start_time": "2023-01-02T11:40:13.444532Z"
    }
   },
   "outputs": [],
   "source": [
    "s1_col = (ee.ImageCollection(\"COPERNICUS/S1_GRD\")\n",
    "    .filterBounds(AOI_buffer)\n",
    "    .filterDate(start_date,end_date).map(partial(clip_AOI,AOI=AOI_buffer)))"
   ]
  },
  {
   "cell_type": "code",
   "execution_count": null,
   "id": "8a7a44f1",
   "metadata": {
    "ExecuteTime": {
     "end_time": "2023-01-02T11:40:13.448534Z",
     "start_time": "2023-01-02T11:40:13.448534Z"
    }
   },
   "outputs": [],
   "source": [
    "s1_ascending.aggregate_array('time_difference').getInfo()"
   ]
  },
  {
   "cell_type": "code",
   "execution_count": null,
   "id": "9e214843",
   "metadata": {
    "ExecuteTime": {
     "end_time": "2023-01-02T11:40:13.451535Z",
     "start_time": "2023-01-02T11:40:13.451535Z"
    }
   },
   "outputs": [],
   "source": [
    "s1_descending.aggregate_array('time_difference').getInfo()"
   ]
  }
 ],
 "metadata": {
  "hide_input": false,
  "kernelspec": {
   "display_name": "Python 3 (ipykernel)",
   "language": "python",
   "name": "python3"
  },
  "language_info": {
   "codemirror_mode": {
    "name": "ipython",
    "version": 3
   },
   "file_extension": ".py",
   "mimetype": "text/x-python",
   "name": "python",
   "nbconvert_exporter": "python",
   "pygments_lexer": "ipython3",
   "version": "3.9.13"
  },
  "nbTranslate": {
   "displayLangs": [
    "*"
   ],
   "hotkey": "alt-t",
   "langInMainMenu": true,
   "sourceLang": "en",
   "targetLang": "fr",
   "useGoogleTranslate": true
  },
  "toc": {
   "base_numbering": 1,
   "nav_menu": {},
   "number_sections": true,
   "sideBar": true,
   "skip_h1_title": false,
   "title_cell": "Table of Contents",
   "title_sidebar": "Contents",
   "toc_cell": false,
   "toc_position": {},
   "toc_section_display": true,
   "toc_window_display": false
  },
  "varInspector": {
   "cols": {
    "lenName": 16,
    "lenType": 16,
    "lenVar": 40
   },
   "kernels_config": {
    "python": {
     "delete_cmd_postfix": "",
     "delete_cmd_prefix": "del ",
     "library": "var_list.py",
     "varRefreshCmd": "print(var_dic_list())"
    },
    "r": {
     "delete_cmd_postfix": ") ",
     "delete_cmd_prefix": "rm(",
     "library": "var_list.r",
     "varRefreshCmd": "cat(var_dic_list()) "
    }
   },
   "types_to_exclude": [
    "module",
    "function",
    "builtin_function_or_method",
    "instance",
    "_Feature"
   ],
   "window_display": false
  }
 },
 "nbformat": 4,
 "nbformat_minor": 5
}
