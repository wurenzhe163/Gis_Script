{
 "cells": [
  {
   "cell_type": "markdown",
   "id": "1d8354ab",
   "metadata": {
    "ExecuteTime": {
     "end_time": "2022-11-28T01:24:13.002605Z",
     "start_time": "2022-11-28T01:24:12.983923Z"
    },
    "pycharm": {
     "name": "#%% md\n"
    }
   },
   "source": [
    "# Cloud Statistics"
   ]
  },
  {
   "cell_type": "code",
   "execution_count": 1,
   "id": "1e2fc9c3",
   "metadata": {
    "ExecuteTime": {
     "end_time": "2022-12-06T14:24:06.256011Z",
     "start_time": "2022-12-06T14:23:24.171021Z"
    },
    "pycharm": {
     "name": "#%%\n"
    },
    "scrolled": false
   },
   "outputs": [],
   "source": [
    "import geemap\n",
    "import subprocess\n",
    "import ee\n",
    "import os\n",
    "import pandas as pd\n",
    "import ipywidgets as widgets\n",
    "from bqplot import pyplot as plt\n",
    "from ipyleaflet import WidgetControl\n",
    "geemap.set_proxy(port=10809)\n",
    "ee.Initialize()"
   ]
  },
  {
   "cell_type": "code",
   "execution_count": 2,
   "id": "a2556b42",
   "metadata": {
    "ExecuteTime": {
     "end_time": "2022-11-29T12:17:23.045209Z",
     "start_time": "2022-11-29T12:17:18.132199Z"
    },
    "pycharm": {
     "name": "#%%\n"
    },
    "scrolled": false
   },
   "outputs": [
    {
     "data": {
      "text/html": [
       "\n",
       "            <style>\n",
       "                .geemap-dark {\n",
       "                    --jp-widgets-color: white;\n",
       "                    --jp-widgets-label-color: white;\n",
       "                    --jp-ui-font-color1: white;\n",
       "                    --jp-layout-color2: #454545;\n",
       "                    background-color: #383838;\n",
       "                }\n",
       "\n",
       "                .geemap-dark .jupyter-button {\n",
       "                    --jp-layout-color3: #383838;\n",
       "                }\n",
       "\n",
       "                .geemap-colab {\n",
       "                    background-color: var(--colab-primary-surface-color, white);\n",
       "                }\n",
       "\n",
       "                .geemap-colab .jupyter-button {\n",
       "                    --jp-layout-color3: var(--colab-primary-surface-color, white);\n",
       "                }\n",
       "            </style>\n",
       "            "
      ],
      "text/plain": [
       "<IPython.core.display.HTML object>"
      ]
     },
     "metadata": {},
     "output_type": "display_data"
    },
    {
     "data": {
      "application/vnd.jupyter.widget-view+json": {
       "model_id": "61dbcc46da3f4410b249d568b9cae795",
       "version_major": 2,
       "version_minor": 0
      },
      "text/plain": [
       "Map(center=[34, 99], controls=(WidgetControl(options=['position', 'transparent_bg'], widget=SearchDataGUI(chil…"
      ]
     },
     "metadata": {},
     "output_type": "display_data"
    }
   ],
   "source": [
    "Map = geemap.Map(center=[34, 99], zoom=4, add_google_map=True)\n",
    "China_city = ee.FeatureCollection('projects/ee-mrwurenzhe/assets/ChinaShp/China_city_utf8')\n",
    "vis_params = {\n",
    "    'color': '000000',\n",
    "    'colorOpacity': 1,\n",
    "    'pointSize': 3,\n",
    "    'pointShape': 'circle',\n",
    "    'width': 2,\n",
    "    'lineType': 'solid',\n",
    "    'fillColorOpacity': 0.66,\n",
    "}\n",
    "palette = ['006633', 'E5FFCC', '662A00', 'D8D8D8', 'F5F5F5']\n",
    "Map.add_styled_vector(\n",
    "    China_city, column=\"FIRST_省�\", palette=palette, layer_name=\"China Counties\", **vis_params) # column=\"地市\"\n",
    "Southest_Tibetan = ee.FeatureCollection(China_city.filter(ee.Filter.inList('地市',ee.List([\"林芝市\", \"昌都市\",\"山南市\",\"拉萨市\"]))))\n",
    "Map.addLayer(Southest_Tibetan, {}, 'Southest_Tibetan')\n",
    "Map"
   ]
  },
  {
   "cell_type": "code",
   "execution_count": 16,
   "id": "7457fbe8",
   "metadata": {},
   "outputs": [
    {
     "data": {
      "text/html": [
       "\n",
       "            <style>\n",
       "                .geemap-dark {\n",
       "                    --jp-widgets-color: white;\n",
       "                    --jp-widgets-label-color: white;\n",
       "                    --jp-ui-font-color1: white;\n",
       "                    --jp-layout-color2: #454545;\n",
       "                    background-color: #383838;\n",
       "                }\n",
       "\n",
       "                .geemap-dark .jupyter-button {\n",
       "                    --jp-layout-color3: #383838;\n",
       "                }\n",
       "\n",
       "                .geemap-colab {\n",
       "                    background-color: var(--colab-primary-surface-color, white);\n",
       "                }\n",
       "\n",
       "                .geemap-colab .jupyter-button {\n",
       "                    --jp-layout-color3: var(--colab-primary-surface-color, white);\n",
       "                }\n",
       "            </style>\n",
       "            "
      ],
      "text/plain": [
       "<IPython.core.display.HTML object>"
      ]
     },
     "metadata": {},
     "output_type": "display_data"
    }
   ],
   "source": [
    "#China_city.reduceColumns(ee.Reducer.toList(),[\"地市\"])\n",
    "try :\n",
    "    roi = Map.draw_features[0]\n",
    "except:\n",
    "    roi = Southest_Tibetan.union()"
   ]
  },
  {
   "cell_type": "markdown",
   "id": "efd582fc",
   "metadata": {
    "pycharm": {
     "name": "#%% md\n"
    }
   },
   "source": [
    "## Landsat"
   ]
  },
  {
   "cell_type": "code",
   "execution_count": 22,
   "id": "2b319d41",
   "metadata": {
    "ExecuteTime": {
     "end_time": "2022-11-29T03:08:03.061345Z",
     "start_time": "2022-11-29T03:08:03.038568Z"
    },
    "pycharm": {
     "name": "#%%\n"
    }
   },
   "outputs": [
    {
     "data": {
      "text/html": [
       "\n",
       "            <style>\n",
       "                .geemap-dark {\n",
       "                    --jp-widgets-color: white;\n",
       "                    --jp-widgets-label-color: white;\n",
       "                    --jp-ui-font-color1: white;\n",
       "                    --jp-layout-color2: #454545;\n",
       "                    background-color: #383838;\n",
       "                }\n",
       "\n",
       "                .geemap-dark .jupyter-button {\n",
       "                    --jp-layout-color3: #383838;\n",
       "                }\n",
       "\n",
       "                .geemap-colab {\n",
       "                    background-color: var(--colab-primary-surface-color, white);\n",
       "                }\n",
       "\n",
       "                .geemap-colab .jupyter-button {\n",
       "                    --jp-layout-color3: var(--colab-primary-surface-color, white);\n",
       "                }\n",
       "            </style>\n",
       "            "
      ],
      "text/plain": [
       "<IPython.core.display.HTML object>"
      ]
     },
     "metadata": {},
     "output_type": "display_data"
    }
   ],
   "source": [
    "L8_T1_TOA = ee.ImageCollection(\"LANDSAT/LC08/C02/T1_L2\").filterBounds(roi.geometry())\n",
    "\n",
    "# L8_T1_TOA.first().propertyNames()  \n",
    "CLOUD_COVER = L8_T1_TOA.reduceColumns(ee.Reducer.toList(),[\"CLOUD_COVER\"]).get(\"list\").getInfo()\n",
    "CLOUD_COVER_LAND = L8_T1_TOA.reduceColumns(ee.Reducer.toList(),[\"CLOUD_COVER_LAND\"]).get(\"list\").getInfo()\n",
    "DATE_ACQUIRED =  L8_T1_TOA.reduceColumns(ee.Reducer.toList(),[\"DATE_ACQUIRED\"]).get(\"list\").getInfo()\n",
    "UTM_ZONE = L8_T1_TOA.reduceColumns(ee.Reducer.toList(),[\"UTM_ZONE\"]).get(\"list\").getInfo()\n",
    "WRS_PATH = L8_T1_TOA.reduceColumns(ee.Reducer.toList(),[\"WRS_PATH\"]).get(\"list\").getInfo()\n",
    "WRS_ROW = L8_T1_TOA.reduceColumns(ee.Reducer.toList(),[\"WRS_ROW\"]).get(\"list\").getInfo()\n",
    "Systemindex = L8_T1_TOA.reduceColumns(ee.Reducer.toList(),[\"system:index\"]).get(\"list\").getInfo()\n",
    "DATE_PRODUCT_GENERATED = L8_T1_TOA.reduceColumns(ee.Reducer.toList(),[\"DATE_PRODUCT_GENERATED\"]).get(\"list\").getInfo()\n",
    "DATE_PRODUCT_GENERATED = [ee.Date(each).format(\"YYYY-MM-dd\").getInfo() for each in DATE_PRODUCT_GENERATED]\n",
    "\n",
    "def Create_Pandas(**args):\n",
    "    return pd.DataFrame(args)\n",
    "Pd_DataFrame = Create_Pandas(CLOUD_COVER =CLOUD_COVER,\n",
    "              CLOUD_COVER_LAND=CLOUD_COVER_LAND,DATE_ACQUIRED=DATE_ACQUIRED,\n",
    "             UTM_ZONE=UTM_ZONE,WRS_PATH=WRS_PATH,WRS_ROW=WRS_ROW,Systemindex=Systemindex,DATE_PRODUCT_GENERATED=DATE_PRODUCT_GENERATED)\n",
    "\n",
    "# Pd_DataFrame.to_csv(r'C:\\Users\\A\\Desktop\\2024铁道学会报奖\\L01MSS_C2T1L2_SR.csv')"
   ]
  },
  {
   "cell_type": "raw",
   "id": "cec7561e",
   "metadata": {
    "ExecuteTime": {
     "end_time": "2022-11-28T10:28:56.462972Z",
     "start_time": "2022-11-28T10:28:52.598349Z"
    },
    "pycharm": {
     "name": "#%% raw\n"
    }
   },
   "source": [
    "# 使用getInfo的方式获取属性信息，这种方式操作方便但是运算慢\n",
    "Collection_PropertiesInfo = L8_T1_TOA.toList(L8_T1_TOA.size()).getInfo()\n",
    "for i,each in enumerate(Collection_PropertiesInfo):\n",
    "    if i == 0 :\n",
    "        Cloud_Statistics= {\n",
    "            'CLOUD_COVER':[],\n",
    "            'CLOUD_COVER_LAND':[],\n",
    "            'DATE_ACQUIRED':[],\n",
    "            'id':[]\n",
    "#             'DATE_PRODUCT_GENERATED':[],\n",
    "        }\n",
    "    else:\n",
    "        Cloud_Statistics['CLOUD_COVER'].append(each['properties']['CLOUD_COVER'])\n",
    "        Cloud_Statistics['CLOUD_COVER_LAND'].append(each['properties']['CLOUD_COVER_LAND'])\n",
    "        Cloud_Statistics['DATE_ACQUIRED'].append(each['properties']['DATE_ACQUIRED'])\n",
    "        Cloud_Statistics['id'].append(each['id'])\n",
    "#         Date_generated = ee.Date(each['properties']['DATE_PRODUCT_GENERATED']).format(\"YYYY-MM-dd\").getInfo()\n",
    "#         Cloud_Statistics['DATE_PRODUCT_GENERATED'].append(Date_generated)\n",
    "pd.DataFrame(Cloud_Statistics)"
   ]
  },
  {
   "cell_type": "markdown",
   "id": "a55ae442",
   "metadata": {
    "pycharm": {
     "name": "#%% md\n"
    }
   },
   "source": [
    "## Sentinel-SR"
   ]
  },
  {
   "cell_type": "code",
   "execution_count": null,
   "id": "5df08ec8",
   "metadata": {
    "ExecuteTime": {
     "end_time": "2022-11-29T09:00:32.565033Z",
     "start_time": "2022-11-29T09:00:32.555644Z"
    },
    "pycharm": {
     "name": "#%%\n"
    }
   },
   "outputs": [],
   "source": [
    "Sentinel2_T1_SR = ee.ImageCollection(\"COPERNICUS/S2_SR_HARMONIZED\").filterBounds(roi.geometry()).filterDate('2022-01-01', '2023-01-01')"
   ]
  },
  {
   "cell_type": "code",
   "execution_count": null,
   "id": "60266de6",
   "metadata": {
    "ExecuteTime": {
     "end_time": "2022-11-29T09:02:27.311167Z",
     "start_time": "2022-11-29T09:00:38.356820Z"
    }
   },
   "outputs": [],
   "source": [
    "CLOUDY_PIXEL_PERCENTAGE = Sentinel2_T1_SR.reduceColumns(ee.Reducer.toList(),[\"CLOUDY_PIXEL_PERCENTAGE\"]).get(\"list\").getInfo()\n",
    "CLOUD_COVERAGE_ASSESSMENT = Sentinel2_T1_SR.reduceColumns(ee.Reducer.toList(),[\"CLOUD_COVERAGE_ASSESSMENT\"]).get(\"list\").getInfo()\n",
    "CLOUD_SHADOW_PERCENTAGE = Sentinel2_T1_SR.reduceColumns(ee.Reducer.toList(),[\"CLOUD_SHADOW_PERCENTAGE\"]).get(\"list\").getInfo()\n",
    "MEAN_SOLAR_AZIMUTH_ANGLE = Sentinel2_T1_SR.reduceColumns(ee.Reducer.toList(),[\"MEAN_SOLAR_AZIMUTH_ANGLE\"]).get(\"list\").getInfo()\n",
    "MEAN_SOLAR_ZENITH_ANGLE = Sentinel2_T1_SR.reduceColumns(ee.Reducer.toList(),[\"MEAN_SOLAR_ZENITH_ANGLE\"]).get(\"list\").getInfo()\n",
    "# MEDIUM_PROBA_CLOUDS_PERCENTAGE = Sentinel2_T1_SR.reduceColumns(ee.Reducer.toList(),[\"MEDIUM_PROBA_CLOUDS_PERCENTAGE\"]).get(\"list\").getInfo()\n",
    "# NODATA_PIXEL_PERCENTAGE = Sentinel2_T1_SR.reduceColumns(ee.Reducer.toList(),[\"NODATA_PIXEL_PERCENTAGE\"]).get(\"list\").getInfo()\n",
    "# NOT_VEGETATED_PERCENTAGE = Sentinel2_T1_SR.reduceColumns(ee.Reducer.toList(),[\"NOT_VEGETATED_PERCENTAGE\"]).get(\"list\").getInfo()\n",
    "# SNOW_ICE_PERCENTAGE = Sentinel2_T1_SR.reduceColumns(ee.Reducer.toList(),[\"SNOW_ICE_PERCENTAGE\"]).get(\"list\").getInfo()\n",
    "# THIN_CIRRUS_PERCENTAGE = Sentinel2_T1_SR.reduceColumns(ee.Reducer.toList(),[\"THIN_CIRRUS_PERCENTAGE\"]).get(\"list\").getInfo()\n",
    "# VEGETATION_PERCENTAGE = Sentinel2_T1_SR.reduceColumns(ee.Reducer.toList(),[\"VEGETATION_PERCENTAGE\"]).get(\"list\").getInfo()\n",
    "# WATER_PERCENTAGE = Sentinel2_T1_SR.reduceColumns(ee.Reducer.toList(),[\"WATER_PERCENTAGE\"]).get(\"list\").getInfo()\n",
    "Systemindex = Sentinel2_T1_SR.reduceColumns(ee.Reducer.toList(),[\"system:index\"]).get(\"list\").getInfo()"
   ]
  },
  {
   "cell_type": "code",
   "execution_count": null,
   "id": "907f0283",
   "metadata": {
    "ExecuteTime": {
     "end_time": "2022-11-29T09:14:57.136656Z",
     "start_time": "2022-11-29T09:14:56.993132Z"
    }
   },
   "outputs": [],
   "source": [
    "def Create_Pandas(**args):\n",
    "    return pd.DataFrame(args)\n",
    "Pd_DataFrame = Create_Pandas(CLOUDY_PIXEL_PERCENTAGE=CLOUDY_PIXEL_PERCENTAGE,\n",
    "                                CLOUD_COVERAGE_ASSESSMENT=CLOUD_COVERAGE_ASSESSMENT,CLOUD_SHADOW_PERCENTAGE=CLOUD_SHADOW_PERCENTAGE,\n",
    "                                MEAN_SOLAR_AZIMUTH_ANGLE=MEAN_SOLAR_AZIMUTH_ANGLE,\n",
    "                                MEAN_SOLAR_ZENITH_ANGLE=MEAN_SOLAR_ZENITH_ANGLE,Systemindex=Systemindex)"
   ]
  },
  {
   "cell_type": "code",
   "execution_count": null,
   "id": "45de5e25",
   "metadata": {
    "ExecuteTime": {
     "end_time": "2022-11-29T08:59:05.834047Z",
     "start_time": "2022-11-29T08:59:05.674951Z"
    }
   },
   "outputs": [],
   "source": [
    "Pd_DataFrame.to_csv(r'E:\\Desktop\\Rs_journal\\S2_L2A_SR_22.csv')"
   ]
  },
  {
   "cell_type": "markdown",
   "id": "4403a0ce",
   "metadata": {},
   "source": [
    "## Sentinel-TOA"
   ]
  },
  {
   "cell_type": "code",
   "execution_count": 12,
   "id": "14697afc",
   "metadata": {
    "ExecuteTime": {
     "end_time": "2022-11-29T12:39:03.884910Z",
     "start_time": "2022-11-29T12:39:03.870653Z"
    }
   },
   "outputs": [],
   "source": [
    "Sentinel2_T1_TOA = ee.ImageCollection(\"COPERNICUS/S2_HARMONIZED\").filterBounds(roi.geometry()).filterDate('2022-01-01', '2023-01-01')"
   ]
  },
  {
   "cell_type": "code",
   "execution_count": 13,
   "id": "c118c0b3",
   "metadata": {
    "ExecuteTime": {
     "end_time": "2022-11-29T12:48:42.243660Z",
     "start_time": "2022-11-29T12:39:04.214670Z"
    }
   },
   "outputs": [],
   "source": [
    "CLOUDY_PIXEL_PERCENTAGE = Sentinel2_T1_TOA.reduceColumns(ee.Reducer.toList(),[\"CLOUDY_PIXEL_PERCENTAGE\"]).get(\"list\").getInfo()\n",
    "CLOUD_COVERAGE_ASSESSMENT = Sentinel2_T1_TOA.reduceColumns(ee.Reducer.toList(),[\"CLOUD_COVERAGE_ASSESSMENT\"]).get(\"list\").getInfo()\n",
    "MEAN_SOLAR_AZIMUTH_ANGLE = Sentinel2_T1_TOA.reduceColumns(ee.Reducer.toList(),[\"MEAN_SOLAR_AZIMUTH_ANGLE\"]).get(\"list\").getInfo()\n",
    "MEAN_SOLAR_ZENITH_ANGLE = Sentinel2_T1_TOA.reduceColumns(ee.Reducer.toList(),[\"MEAN_SOLAR_ZENITH_ANGLE\"]).get(\"list\").getInfo()\n",
    "Systemindex = Sentinel2_T1_TOA.reduceColumns(ee.Reducer.toList(),[\"system:index\"]).get(\"list\").getInfo()"
   ]
  },
  {
   "cell_type": "code",
   "execution_count": 14,
   "id": "154a7b02",
   "metadata": {
    "ExecuteTime": {
     "end_time": "2022-11-29T12:49:57.994765Z",
     "start_time": "2022-11-29T12:49:57.977718Z"
    }
   },
   "outputs": [],
   "source": [
    "def Create_Pandas(**args):\n",
    "    return pd.DataFrame(args)\n",
    "Pd_DataFrame = Create_Pandas(CLOUDY_PIXEL_PERCENTAGE=CLOUDY_PIXEL_PERCENTAGE,\n",
    "              CLOUD_COVERAGE_ASSESSMENT=CLOUD_COVERAGE_ASSESSMENT,MEAN_SOLAR_AZIMUTH_ANGLE=MEAN_SOLAR_AZIMUTH_ANGLE,\n",
    "            MEAN_SOLAR_ZENITH_ANGLE=MEAN_SOLAR_ZENITH_ANGLE,Systemindex=Systemindex)"
   ]
  },
  {
   "cell_type": "code",
   "execution_count": 15,
   "id": "7664fed2",
   "metadata": {
    "ExecuteTime": {
     "end_time": "2022-11-29T12:49:58.456238Z",
     "start_time": "2022-11-29T12:49:58.332532Z"
    }
   },
   "outputs": [],
   "source": [
    "Pd_DataFrame.to_csv(r'E:\\Desktop\\Rs_journal\\S2_L1C_TOA_22.csv')"
   ]
  },
  {
   "cell_type": "markdown",
   "id": "c8390be7",
   "metadata": {
    "ExecuteTime": {
     "end_time": "2022-11-28T01:25:14.958380Z",
     "start_time": "2022-11-28T01:25:14.950413Z"
    },
    "pycharm": {
     "name": "#%% md\n"
    }
   },
   "source": [
    "# CSV合并\n",
    "按顺序合并一个文件夹中的所有CSV文件"
   ]
  },
  {
   "cell_type": "code",
   "execution_count": 42,
   "id": "dc392235",
   "metadata": {
    "ExecuteTime": {
     "end_time": "2022-11-29T13:12:24.567155Z",
     "start_time": "2022-11-29T13:12:23.894849Z"
    }
   },
   "outputs": [],
   "source": [
    "Dir = r'E:\\Desktop\\Rs_journal\\S2_L2A_SR'\n",
    "CSV_Paths = sorted([os.path.join(Dir,f) for f in os.listdir(Dir) if f.endswith('.csv')],key=lambda info: int(info.split('_')[-1].split('.')[0]))\n",
    "for i,each in enumerate(CSV_Paths):\n",
    "    if i == 0:\n",
    "        DataFrame = pd.read_csv(each)\n",
    "    else:\n",
    "        DataFrame = pd.concat([DataFrame, pd.read_csv(each)], axis=0, ignore_index=True)\n",
    "DataFrame.to_csv(os.path.join(Dir,os.path.basename(Dir)+'_ALL.csv'))\n",
    "print('=={}== is saved'.format(os.path.join(Dir,os.path.basename(Dir)+'_ALL.csv')))"
   ]
  }
 ],
 "metadata": {
  "hide_input": false,
  "kernelspec": {
   "display_name": "GEE",
   "language": "python",
   "name": "python3"
  },
  "language_info": {
   "codemirror_mode": {
    "name": "ipython",
    "version": 3
   },
   "file_extension": ".py",
   "mimetype": "text/x-python",
   "name": "python",
   "nbconvert_exporter": "python",
   "pygments_lexer": "ipython3",
   "version": "3.11.7"
  },
  "nbTranslate": {
   "displayLangs": [
    "*"
   ],
   "hotkey": "alt-t",
   "langInMainMenu": true,
   "sourceLang": "en",
   "targetLang": "fr",
   "useGoogleTranslate": true
  },
  "toc": {
   "base_numbering": 1,
   "nav_menu": {},
   "number_sections": true,
   "sideBar": true,
   "skip_h1_title": false,
   "title_cell": "Table of Contents",
   "title_sidebar": "Contents",
   "toc_cell": false,
   "toc_position": {},
   "toc_section_display": true,
   "toc_window_display": false
  },
  "varInspector": {
   "cols": {
    "lenName": 16,
    "lenType": 16,
    "lenVar": 40
   },
   "kernels_config": {
    "python": {
     "delete_cmd_postfix": "",
     "delete_cmd_prefix": "del ",
     "library": "var_list.py",
     "varRefreshCmd": "print(var_dic_list())"
    },
    "r": {
     "delete_cmd_postfix": ") ",
     "delete_cmd_prefix": "rm(",
     "library": "var_list.r",
     "varRefreshCmd": "cat(var_dic_list()) "
    }
   },
   "types_to_exclude": [
    "module",
    "function",
    "builtin_function_or_method",
    "instance",
    "_Feature"
   ],
   "window_display": false
  }
 },
 "nbformat": 4,
 "nbformat_minor": 5
}
