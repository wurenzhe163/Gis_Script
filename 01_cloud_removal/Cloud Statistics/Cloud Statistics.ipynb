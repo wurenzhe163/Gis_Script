{
 "cells": [
  {
   "cell_type": "markdown",
   "id": "1d8354ab",
   "metadata": {
    "ExecuteTime": {
     "end_time": "2022-11-28T01:24:13.002605Z",
     "start_time": "2022-11-28T01:24:12.983923Z"
    },
    "pycharm": {
     "name": "#%% md\n"
    }
   },
   "source": [
    "# Cloud Statistics"
   ]
  },
  {
   "cell_type": "code",
   "execution_count": 1,
   "id": "1e2fc9c3",
   "metadata": {
    "ExecuteTime": {
     "end_time": "2022-12-06T14:24:06.256011Z",
     "start_time": "2022-12-06T14:23:24.171021Z"
    },
    "pycharm": {
     "name": "#%%\n"
    },
    "scrolled": false
   },
   "outputs": [
    {
     "name": "stderr",
     "output_type": "stream",
     "text": [
      "D:\\Wrz\\anaconda\\envs\\GEE\\lib\\site-packages\\scipy\\__init__.py:146: UserWarning: A NumPy version >=1.16.5 and <1.23.0 is required for this version of SciPy (detected version 1.23.0\n",
      "  warnings.warn(f\"A NumPy version >={np_minversion} and <{np_maxversion}\"\n"
     ]
    }
   ],
   "source": [
    "import geemap\n",
    "import subprocess\n",
    "import ee\n",
    "import eerepr\n",
    "import os\n",
    "import pandas as pd\n",
    "import ipywidgets as widgets\n",
    "from bqplot import pyplot as plt\n",
    "from ipyleaflet import WidgetControl\n",
    "geemap.set_proxy(port=10809)\n",
    "ee.Initialize()"
   ]
  },
  {
   "cell_type": "code",
   "execution_count": 2,
   "id": "a2556b42",
   "metadata": {
    "ExecuteTime": {
     "end_time": "2022-11-29T12:17:23.045209Z",
     "start_time": "2022-11-29T12:17:18.132199Z"
    },
    "pycharm": {
     "name": "#%%\n"
    },
    "scrolled": false
   },
   "outputs": [
    {
     "data": {
      "application/vnd.jupyter.widget-view+json": {
       "model_id": "8f04f1f3583e4c9fa8662f69ac0a6b0c",
       "version_major": 2,
       "version_minor": 0
      },
      "text/plain": [
       "Map(center=[34, 99], controls=(WidgetControl(options=['position', 'transparent_bg'], widget=HBox(children=(Tog…"
      ]
     },
     "metadata": {},
     "output_type": "display_data"
    }
   ],
   "source": [
    "Map = geemap.Map(center=[34, 99], zoom=4, add_google_map=True)\n",
    "China_city = ee.FeatureCollection('projects/ee-mrwurenzhe/assets/China_city_utf8')\n",
    "vis_params = {\n",
    "    'color': '000000',\n",
    "    'colorOpacity': 1,\n",
    "    'pointSize': 3,\n",
    "    'pointShape': 'circle',\n",
    "    'width': 2,\n",
    "    'lineType': 'solid',\n",
    "    'fillColorOpacity': 0.66,\n",
    "}\n",
    "palette = ['006633', 'E5FFCC', '662A00', 'D8D8D8', 'F5F5F5']\n",
    "Map.add_styled_vector(\n",
    "    China_city, column=\"FIRST_省�\", palette=palette, layer_name=\"China Counties\", **vis_params) # column=\"地市\"\n",
    "# Map.addLayer(China_city, {}, 'China Counties')\n",
    "\n",
    "# 藏东南四市，注意这样获得的feature不能够进行可视化，因为仍然是featture类型却拥有feature_collection的特征\n",
    "# 故更改Feature-->FeatureCollection\n",
    "# Southest_Tibetan = ee.Feature(\n",
    "#     China_city.filter(ee.Filter.Or(ee.Filter.eq('地市', \"林芝市\"),ee.Filter.eq('地市', \"山南市\"),\n",
    "#                                   ee.Filter.eq('地市', \"昌都市\"),ee.Filter.eq('地市', \"拉萨市\"))))\n",
    "# Southest_Tibetan = ee.Feature(China_city.filter(ee.Filter.inList('地市',ee.List([\"林芝市\", \"昌都市\",\"山南市\",\"拉萨市\"]))))\n",
    "\n",
    "Southest_Tibetan = ee.FeatureCollection(China_city.filter(ee.Filter.inList('地市',ee.List([\"林芝市\", \"昌都市\",\"山南市\",\"拉萨市\"]))))\n",
    "Map.addLayer(Southest_Tibetan, {}, 'Southest_Tibetan')\n",
    "Map"
   ]
  },
  {
   "cell_type": "markdown",
   "id": "c25dc6ab",
   "metadata": {},
   "source": [
    "## 查看FeatureCollection中所有地市名称"
   ]
  },
  {
   "cell_type": "code",
   "execution_count": null,
   "id": "55d156e7",
   "metadata": {
    "ExecuteTime": {
     "end_time": "2022-11-28T12:29:30.547982Z",
     "start_time": "2022-11-28T12:29:29.078914Z"
    },
    "pycharm": {
     "is_executing": true,
     "name": "#%%\n"
    }
   },
   "outputs": [],
   "source": [
    "China_city.reduceColumns(ee.Reducer.toList(),[\"地市\"])"
   ]
  },
  {
   "cell_type": "code",
   "execution_count": null,
   "id": "eb1acf5b",
   "metadata": {
    "ExecuteTime": {
     "end_time": "2022-11-29T01:33:29.136534Z",
     "start_time": "2022-11-29T01:33:29.132781Z"
    }
   },
   "outputs": [],
   "source": [
    "try :\n",
    "    roi = Map.draw_features[0]\n",
    "except:\n",
    "    roi = Southest_Tibetan.union()"
   ]
  },
  {
   "cell_type": "code",
   "execution_count": 3,
   "id": "b7fe14c0",
   "metadata": {
    "ExecuteTime": {
     "end_time": "2022-11-29T12:17:32.902293Z",
     "start_time": "2022-11-29T12:17:32.893588Z"
    }
   },
   "outputs": [],
   "source": [
    "roi = Southest_Tibetan.union()"
   ]
  },
  {
   "cell_type": "markdown",
   "id": "efd582fc",
   "metadata": {
    "pycharm": {
     "name": "#%% md\n"
    }
   },
   "source": [
    "## Landsat"
   ]
  },
  {
   "cell_type": "code",
   "execution_count": null,
   "id": "2b319d41",
   "metadata": {
    "ExecuteTime": {
     "end_time": "2022-11-29T03:08:03.061345Z",
     "start_time": "2022-11-29T03:08:03.038568Z"
    },
    "pycharm": {
     "name": "#%%\n"
    }
   },
   "outputs": [],
   "source": [
    "L8_T1_TOA = ee.ImageCollection(\"LANDSAT/LM01/C02/T1\").filterBounds(roi.geometry())"
   ]
  },
  {
   "cell_type": "code",
   "execution_count": null,
   "id": "682fcd67",
   "metadata": {
    "ExecuteTime": {
     "end_time": "2022-11-28T17:07:36.648552Z",
     "start_time": "2022-11-28T17:07:17.157787Z"
    }
   },
   "outputs": [],
   "source": [
    "# L8_T1_TOA.first().propertyNames()  \n",
    "CLOUD_COVER = L8_T1_TOA.reduceColumns(ee.Reducer.toList(),[\"CLOUD_COVER\"]).get(\"list\").getInfo()\n",
    "CLOUD_COVER_LAND = L8_T1_TOA.reduceColumns(ee.Reducer.toList(),[\"CLOUD_COVER_LAND\"]).get(\"list\").getInfo()\n",
    "DATE_ACQUIRED =  L8_T1_TOA.reduceColumns(ee.Reducer.toList(),[\"DATE_ACQUIRED\"]).get(\"list\").getInfo()\n",
    "UTM_ZONE = L8_T1_TOA.reduceColumns(ee.Reducer.toList(),[\"UTM_ZONE\"]).get(\"list\").getInfo()\n",
    "WRS_PATH = L8_T1_TOA.reduceColumns(ee.Reducer.toList(),[\"WRS_PATH\"]).get(\"list\").getInfo()\n",
    "WRS_ROW = L8_T1_TOA.reduceColumns(ee.Reducer.toList(),[\"WRS_ROW\"]).get(\"list\").getInfo()\n",
    "Systemindex = L8_T1_TOA.reduceColumns(ee.Reducer.toList(),[\"system:index\"]).get(\"list\").getInfo()\n",
    "# DATE_PRODUCT_GENERATED = L8_T1_TOA.reduceColumns(ee.Reducer.toList(),[\"DATE_PRODUCT_GENERATED\"]).get(\"list\").getInfo()\n",
    "# DATE_PRODUCT_GENERATED = [ee.Date(each).format(\"YYYY-MM-dd\").getInfo() for each in DATE_PRODUCT_GENERATED]"
   ]
  },
  {
   "cell_type": "code",
   "execution_count": null,
   "id": "65b862c2",
   "metadata": {
    "ExecuteTime": {
     "end_time": "2022-11-28T17:07:40.295052Z",
     "start_time": "2022-11-28T17:07:40.273919Z"
    },
    "pycharm": {
     "is_executing": true,
     "name": "#%%\n"
    },
    "scrolled": true
   },
   "outputs": [],
   "source": [
    "def Create_Pandas(**args):\n",
    "    return pd.DataFrame(args)\n",
    "Pd_DataFrame = Create_Pandas(CLOUD_COVER =CLOUD_COVER,\n",
    "              CLOUD_COVER_LAND=CLOUD_COVER_LAND,DATE_ACQUIRED=DATE_ACQUIRED,\n",
    "             UTM_ZONE=UTM_ZONE,WRS_PATH=WRS_PATH,WRS_ROW=WRS_ROW,Systemindex=Systemindex)#,D,DATE_PRODUCT_GENERATED=DATE_PRODUCT_GENERATED"
   ]
  },
  {
   "cell_type": "code",
   "execution_count": null,
   "id": "4a8e20f3",
   "metadata": {
    "ExecuteTime": {
     "end_time": "2022-11-28T17:07:40.893642Z",
     "start_time": "2022-11-28T17:07:40.883132Z"
    }
   },
   "outputs": [],
   "source": [
    "Pd_DataFrame.to_csv(r'E:\\Desktop\\Rs_journal\\L01MSS_C2T1L2_SR.csv')"
   ]
  },
  {
   "cell_type": "raw",
   "id": "cec7561e",
   "metadata": {
    "ExecuteTime": {
     "end_time": "2022-11-28T10:28:56.462972Z",
     "start_time": "2022-11-28T10:28:52.598349Z"
    },
    "pycharm": {
     "name": "#%% raw\n"
    }
   },
   "source": [
    "# 使用getInfo的方式获取属性信息，这种方式操作方便但是运算慢\n",
    "Collection_PropertiesInfo = L8_T1_TOA.toList(L8_T1_TOA.size()).getInfo()\n",
    "for i,each in enumerate(Collection_PropertiesInfo):\n",
    "    if i == 0 :\n",
    "        Cloud_Statistics= {\n",
    "            'CLOUD_COVER':[],\n",
    "            'CLOUD_COVER_LAND':[],\n",
    "            'DATE_ACQUIRED':[],\n",
    "            'id':[]\n",
    "#             'DATE_PRODUCT_GENERATED':[],\n",
    "        }\n",
    "    else:\n",
    "        Cloud_Statistics['CLOUD_COVER'].append(each['properties']['CLOUD_COVER'])\n",
    "        Cloud_Statistics['CLOUD_COVER_LAND'].append(each['properties']['CLOUD_COVER_LAND'])\n",
    "        Cloud_Statistics['DATE_ACQUIRED'].append(each['properties']['DATE_ACQUIRED'])\n",
    "        Cloud_Statistics['id'].append(each['id'])\n",
    "#         Date_generated = ee.Date(each['properties']['DATE_PRODUCT_GENERATED']).format(\"YYYY-MM-dd\").getInfo()\n",
    "#         Cloud_Statistics['DATE_PRODUCT_GENERATED'].append(Date_generated)\n",
    "pd.DataFrame(Cloud_Statistics)"
   ]
  },
  {
   "cell_type": "markdown",
   "id": "a55ae442",
   "metadata": {
    "pycharm": {
     "name": "#%% md\n"
    }
   },
   "source": [
    "## Sentinel-SR"
   ]
  },
  {
   "cell_type": "code",
   "execution_count": null,
   "id": "5df08ec8",
   "metadata": {
    "ExecuteTime": {
     "end_time": "2022-11-29T09:00:32.565033Z",
     "start_time": "2022-11-29T09:00:32.555644Z"
    },
    "pycharm": {
     "name": "#%%\n"
    }
   },
   "outputs": [],
   "source": [
    "Sentinel2_T1_SR = ee.ImageCollection(\"COPERNICUS/S2_SR_HARMONIZED\").filterBounds(roi.geometry()).filterDate('2022-01-01', '2023-01-01')"
   ]
  },
  {
   "cell_type": "code",
   "execution_count": null,
   "id": "60266de6",
   "metadata": {
    "ExecuteTime": {
     "end_time": "2022-11-29T09:02:27.311167Z",
     "start_time": "2022-11-29T09:00:38.356820Z"
    }
   },
   "outputs": [],
   "source": [
    "CLOUDY_PIXEL_PERCENTAGE = Sentinel2_T1_SR.reduceColumns(ee.Reducer.toList(),[\"CLOUDY_PIXEL_PERCENTAGE\"]).get(\"list\").getInfo()\n",
    "CLOUD_COVERAGE_ASSESSMENT = Sentinel2_T1_SR.reduceColumns(ee.Reducer.toList(),[\"CLOUD_COVERAGE_ASSESSMENT\"]).get(\"list\").getInfo()\n",
    "# CLOUD_SHADOW_PERCENTAGE = Sentinel2_T1_SR.reduceColumns(ee.Reducer.toList(),[\"CLOUD_SHADOW_PERCENTAGE\"]).get(\"list\").getInfo()\n",
    "# HIGH_PROBA_CLOUDS_PERCENTAGE = Sentinel2_T1_SR.reduceColumns(ee.Reducer.toList(),[\"HIGH_PROBA_CLOUDS_PERCENTAGE\"]).get(\"list\").getInfo()\n",
    "MEAN_SOLAR_AZIMUTH_ANGLE = Sentinel2_T1_SR.reduceColumns(ee.Reducer.toList(),[\"MEAN_SOLAR_AZIMUTH_ANGLE\"]).get(\"list\").getInfo()\n",
    "MEAN_SOLAR_ZENITH_ANGLE = Sentinel2_T1_SR.reduceColumns(ee.Reducer.toList(),[\"MEAN_SOLAR_ZENITH_ANGLE\"]).get(\"list\").getInfo()\n",
    "# MEDIUM_PROBA_CLOUDS_PERCENTAGE = Sentinel2_T1_SR.reduceColumns(ee.Reducer.toList(),[\"MEDIUM_PROBA_CLOUDS_PERCENTAGE\"]).get(\"list\").getInfo()\n",
    "# NODATA_PIXEL_PERCENTAGE = Sentinel2_T1_SR.reduceColumns(ee.Reducer.toList(),[\"NODATA_PIXEL_PERCENTAGE\"]).get(\"list\").getInfo()\n",
    "# NOT_VEGETATED_PERCENTAGE = Sentinel2_T1_SR.reduceColumns(ee.Reducer.toList(),[\"NOT_VEGETATED_PERCENTAGE\"]).get(\"list\").getInfo()\n",
    "# SNOW_ICE_PERCENTAGE = Sentinel2_T1_SR.reduceColumns(ee.Reducer.toList(),[\"SNOW_ICE_PERCENTAGE\"]).get(\"list\").getInfo()\n",
    "# THIN_CIRRUS_PERCENTAGE = Sentinel2_T1_SR.reduceColumns(ee.Reducer.toList(),[\"THIN_CIRRUS_PERCENTAGE\"]).get(\"list\").getInfo()\n",
    "# VEGETATION_PERCENTAGE = Sentinel2_T1_SR.reduceColumns(ee.Reducer.toList(),[\"VEGETATION_PERCENTAGE\"]).get(\"list\").getInfo()\n",
    "# WATER_PERCENTAGE = Sentinel2_T1_SR.reduceColumns(ee.Reducer.toList(),[\"WATER_PERCENTAGE\"]).get(\"list\").getInfo()\n",
    "Systemindex = Sentinel2_T1_SR.reduceColumns(ee.Reducer.toList(),[\"system:index\"]).get(\"list\").getInfo()"
   ]
  },
  {
   "cell_type": "raw",
   "id": "15cbbaf5",
   "metadata": {
    "ExecuteTime": {
     "end_time": "2022-11-29T09:15:07.586366Z",
     "start_time": "2022-11-29T09:15:07.572349Z"
    }
   },
   "source": [
    "def _len(*args):\n",
    "    s = []\n",
    "    for each in args:\n",
    "        s.append(each.__len__())\n",
    "    return s\n",
    "_len(CLOUDY_PIXEL_PERCENTAGE,CLOUD_COVERAGE_ASSESSMENT,CLOUD_SHADOW_PERCENTAGE,HIGH_PROBA_CLOUDS_PERCENTAGE,\n",
    "    MEAN_SOLAR_AZIMUTH_ANGLE,MEAN_SOLAR_ZENITH_ANGLE,MEDIUM_PROBA_CLOUDS_PERCENTAGE,NODATA_PIXEL_PERCENTAGE,\n",
    "    NOT_VEGETATED_PERCENTAGE,SNOW_ICE_PERCENTAGE,THIN_CIRRUS_PERCENTAGE,VEGETATION_PERCENTAGE,WATER_PERCENTAGE,Systemindex)"
   ]
  },
  {
   "cell_type": "code",
   "execution_count": null,
   "id": "907f0283",
   "metadata": {
    "ExecuteTime": {
     "end_time": "2022-11-29T09:14:57.136656Z",
     "start_time": "2022-11-29T09:14:56.993132Z"
    }
   },
   "outputs": [],
   "source": [
    "def Create_Pandas(**args):\n",
    "    return pd.DataFrame(args)\n",
    "Pd_DataFrame = Create_Pandas(CLOUDY_PIXEL_PERCENTAGE=CLOUDY_PIXEL_PERCENTAGE,\n",
    "              CLOUD_COVERAGE_ASSESSMENT=CLOUD_COVERAGE_ASSESSMENT,CLOUD_SHADOW_PERCENTAGE=CLOUD_SHADOW_PERCENTAGE,\n",
    "             HIGH_PROBA_CLOUDS_PERCENTAGE=HIGH_PROBA_CLOUDS_PERCENTAGE,MEAN_SOLAR_AZIMUTH_ANGLE=MEAN_SOLAR_AZIMUTH_ANGLE,\n",
    "            MEAN_SOLAR_ZENITH_ANGLE=MEAN_SOLAR_ZENITH_ANGLE,MEDIUM_PROBA_CLOUDS_PERCENTAGE=MEDIUM_PROBA_CLOUDS_PERCENTAGE,\n",
    "                            NODATA_PIXEL_PERCENTAGE=NODATA_PIXEL_PERCENTAGE,NOT_VEGETATED_PERCENTAGE=NOT_VEGETATED_PERCENTAGE,\n",
    "                            SNOW_ICE_PERCENTAGE=SNOW_ICE_PERCENTAGE,THIN_CIRRUS_PERCENTAGE=THIN_CIRRUS_PERCENTAGE,\n",
    "                            VEGETATION_PERCENTAGE=VEGETATION_PERCENTAGE,WATER_PERCENTAGE=WATER_PERCENTAGE,\n",
    "                            Systemindex=Systemindex)"
   ]
  },
  {
   "cell_type": "code",
   "execution_count": null,
   "id": "45de5e25",
   "metadata": {
    "ExecuteTime": {
     "end_time": "2022-11-29T08:59:05.834047Z",
     "start_time": "2022-11-29T08:59:05.674951Z"
    }
   },
   "outputs": [],
   "source": [
    "Pd_DataFrame.to_csv(r'E:\\Desktop\\Rs_journal\\S2_L2A_SR_22.csv')"
   ]
  },
  {
   "cell_type": "markdown",
   "id": "4403a0ce",
   "metadata": {},
   "source": [
    "## Sentinel-TOA"
   ]
  },
  {
   "cell_type": "code",
   "execution_count": 12,
   "id": "14697afc",
   "metadata": {
    "ExecuteTime": {
     "end_time": "2022-11-29T12:39:03.884910Z",
     "start_time": "2022-11-29T12:39:03.870653Z"
    }
   },
   "outputs": [],
   "source": [
    "Sentinel2_T1_TOA = ee.ImageCollection(\"COPERNICUS/S2_HARMONIZED\").filterBounds(roi.geometry()).filterDate('2022-01-01', '2023-01-01')"
   ]
  },
  {
   "cell_type": "code",
   "execution_count": 13,
   "id": "c118c0b3",
   "metadata": {
    "ExecuteTime": {
     "end_time": "2022-11-29T12:48:42.243660Z",
     "start_time": "2022-11-29T12:39:04.214670Z"
    }
   },
   "outputs": [],
   "source": [
    "CLOUDY_PIXEL_PERCENTAGE = Sentinel2_T1_TOA.reduceColumns(ee.Reducer.toList(),[\"CLOUDY_PIXEL_PERCENTAGE\"]).get(\"list\").getInfo()\n",
    "CLOUD_COVERAGE_ASSESSMENT = Sentinel2_T1_TOA.reduceColumns(ee.Reducer.toList(),[\"CLOUD_COVERAGE_ASSESSMENT\"]).get(\"list\").getInfo()\n",
    "MEAN_SOLAR_AZIMUTH_ANGLE = Sentinel2_T1_TOA.reduceColumns(ee.Reducer.toList(),[\"MEAN_SOLAR_AZIMUTH_ANGLE\"]).get(\"list\").getInfo()\n",
    "MEAN_SOLAR_ZENITH_ANGLE = Sentinel2_T1_TOA.reduceColumns(ee.Reducer.toList(),[\"MEAN_SOLAR_ZENITH_ANGLE\"]).get(\"list\").getInfo()\n",
    "Systemindex = Sentinel2_T1_TOA.reduceColumns(ee.Reducer.toList(),[\"system:index\"]).get(\"list\").getInfo()"
   ]
  },
  {
   "cell_type": "code",
   "execution_count": 14,
   "id": "154a7b02",
   "metadata": {
    "ExecuteTime": {
     "end_time": "2022-11-29T12:49:57.994765Z",
     "start_time": "2022-11-29T12:49:57.977718Z"
    }
   },
   "outputs": [],
   "source": [
    "def Create_Pandas(**args):\n",
    "    return pd.DataFrame(args)\n",
    "Pd_DataFrame = Create_Pandas(CLOUDY_PIXEL_PERCENTAGE=CLOUDY_PIXEL_PERCENTAGE,\n",
    "              CLOUD_COVERAGE_ASSESSMENT=CLOUD_COVERAGE_ASSESSMENT,MEAN_SOLAR_AZIMUTH_ANGLE=MEAN_SOLAR_AZIMUTH_ANGLE,\n",
    "            MEAN_SOLAR_ZENITH_ANGLE=MEAN_SOLAR_ZENITH_ANGLE,Systemindex=Systemindex)"
   ]
  },
  {
   "cell_type": "code",
   "execution_count": 15,
   "id": "7664fed2",
   "metadata": {
    "ExecuteTime": {
     "end_time": "2022-11-29T12:49:58.456238Z",
     "start_time": "2022-11-29T12:49:58.332532Z"
    }
   },
   "outputs": [],
   "source": [
    "Pd_DataFrame.to_csv(r'E:\\Desktop\\Rs_journal\\S2_L1C_TOA_22.csv')"
   ]
  },
  {
   "cell_type": "markdown",
   "id": "c8390be7",
   "metadata": {
    "ExecuteTime": {
     "end_time": "2022-11-28T01:25:14.958380Z",
     "start_time": "2022-11-28T01:25:14.950413Z"
    },
    "pycharm": {
     "name": "#%% md\n"
    }
   },
   "source": [
    "# CSV合并\n",
    "按顺序合并一个文件夹中的所有CSV文件"
   ]
  },
  {
   "cell_type": "code",
   "execution_count": 42,
   "id": "dc392235",
   "metadata": {
    "ExecuteTime": {
     "end_time": "2022-11-29T13:12:24.567155Z",
     "start_time": "2022-11-29T13:12:23.894849Z"
    }
   },
   "outputs": [],
   "source": [
    "Dir = r'E:\\Desktop\\Rs_journal\\S2_L2A_SR'\n",
    "CSV_Paths = sorted([os.path.join(Dir,f) for f in os.listdir(Dir) if f.endswith('.csv')],key=lambda info: int(info.split('_')[-1].split('.')[0]))\n",
    "for i,each in enumerate(CSV_Paths):\n",
    "    if i == 0:\n",
    "        DataFrame = pd.read_csv(each)\n",
    "    else:\n",
    "        DataFrame = pd.concat([DataFrame, pd.read_csv(each)], axis=0, ignore_index=True)\n",
    "DataFrame.to_csv(os.path.join(Dir,os.path.basename(Dir)+'_ALL.csv'))\n",
    "print('=={}== is saved'.format(os.path.join(Dir,os.path.basename(Dir)+'_ALL.csv')))"
   ]
  },
  {
   "cell_type": "code",
   "execution_count": 48,
   "id": "743ac939",
   "metadata": {
    "ExecuteTime": {
     "end_time": "2022-11-29T13:17:17.506231Z",
     "start_time": "2022-11-29T13:17:17.470141Z"
    }
   },
   "outputs": [
    {
     "data": {
      "text/html": [
       "<div>\n",
       "<style scoped>\n",
       "    .dataframe tbody tr th:only-of-type {\n",
       "        vertical-align: middle;\n",
       "    }\n",
       "\n",
       "    .dataframe tbody tr th {\n",
       "        vertical-align: top;\n",
       "    }\n",
       "\n",
       "    .dataframe thead th {\n",
       "        text-align: right;\n",
       "    }\n",
       "</style>\n",
       "<table border=\"1\" class=\"dataframe\">\n",
       "  <thead>\n",
       "    <tr style=\"text-align: right;\">\n",
       "      <th></th>\n",
       "      <th>Unnamed: 0</th>\n",
       "      <th>CLOUDY_PIXEL_PERCENTAGE</th>\n",
       "      <th>CLOUD_COVERAGE_ASSESSMENT</th>\n",
       "      <th>CLOUD_SHADOW_PERCENTAGE</th>\n",
       "      <th>HIGH_PROBA_CLOUDS_PERCENTAGE</th>\n",
       "      <th>MEAN_SOLAR_AZIMUTH_ANGLE</th>\n",
       "      <th>MEAN_SOLAR_ZENITH_ANGLE</th>\n",
       "      <th>MEDIUM_PROBA_CLOUDS_PERCENTAGE</th>\n",
       "      <th>NODATA_PIXEL_PERCENTAGE</th>\n",
       "      <th>NOT_VEGETATED_PERCENTAGE</th>\n",
       "      <th>SNOW_ICE_PERCENTAGE</th>\n",
       "      <th>THIN_CIRRUS_PERCENTAGE</th>\n",
       "      <th>VEGETATION_PERCENTAGE</th>\n",
       "      <th>WATER_PERCENTAGE</th>\n",
       "      <th>Systemindex</th>\n",
       "    </tr>\n",
       "  </thead>\n",
       "  <tbody>\n",
       "    <tr>\n",
       "      <th>0</th>\n",
       "      <td>0</td>\n",
       "      <td>86.579939</td>\n",
       "      <td>86.579939</td>\n",
       "      <td>0.422118</td>\n",
       "      <td>80.556136</td>\n",
       "      <td>159.045797</td>\n",
       "      <td>54.617464</td>\n",
       "      <td>6.023803</td>\n",
       "      <td>94.515306</td>\n",
       "      <td>0.360174</td>\n",
       "      <td>6.818132</td>\n",
       "      <td>0.000000</td>\n",
       "      <td>0.346926</td>\n",
       "      <td>0.011312</td>\n",
       "      <td>20181214T040141_20181214T040614_T47RLM</td>\n",
       "    </tr>\n",
       "    <tr>\n",
       "      <th>1</th>\n",
       "      <td>1</td>\n",
       "      <td>46.629231</td>\n",
       "      <td>46.629231</td>\n",
       "      <td>3.444717</td>\n",
       "      <td>37.698048</td>\n",
       "      <td>160.122222</td>\n",
       "      <td>54.314654</td>\n",
       "      <td>8.931182</td>\n",
       "      <td>5.643979</td>\n",
       "      <td>13.320494</td>\n",
       "      <td>5.318099</td>\n",
       "      <td>0.000000</td>\n",
       "      <td>12.208481</td>\n",
       "      <td>0.220743</td>\n",
       "      <td>20181214T040141_20181214T040614_T47RMM</td>\n",
       "    </tr>\n",
       "    <tr>\n",
       "      <th>2</th>\n",
       "      <td>2</td>\n",
       "      <td>9.505359</td>\n",
       "      <td>9.505359</td>\n",
       "      <td>1.235486</td>\n",
       "      <td>0.406014</td>\n",
       "      <td>160.268900</td>\n",
       "      <td>55.182833</td>\n",
       "      <td>9.099346</td>\n",
       "      <td>25.427961</td>\n",
       "      <td>38.301545</td>\n",
       "      <td>2.924032</td>\n",
       "      <td>0.000000</td>\n",
       "      <td>27.085665</td>\n",
       "      <td>0.521541</td>\n",
       "      <td>20181214T040141_20181214T040614_T47RMN</td>\n",
       "    </tr>\n",
       "    <tr>\n",
       "      <th>3</th>\n",
       "      <td>3</td>\n",
       "      <td>27.596579</td>\n",
       "      <td>27.596579</td>\n",
       "      <td>1.313108</td>\n",
       "      <td>0.468651</td>\n",
       "      <td>160.407713</td>\n",
       "      <td>56.051929</td>\n",
       "      <td>27.127928</td>\n",
       "      <td>46.247086</td>\n",
       "      <td>32.639039</td>\n",
       "      <td>2.265304</td>\n",
       "      <td>0.000000</td>\n",
       "      <td>20.091064</td>\n",
       "      <td>0.316699</td>\n",
       "      <td>20181214T040141_20181214T040614_T47RMP</td>\n",
       "    </tr>\n",
       "    <tr>\n",
       "      <th>4</th>\n",
       "      <td>4</td>\n",
       "      <td>21.791597</td>\n",
       "      <td>21.791597</td>\n",
       "      <td>6.693710</td>\n",
       "      <td>0.610146</td>\n",
       "      <td>160.538775</td>\n",
       "      <td>56.921399</td>\n",
       "      <td>21.181451</td>\n",
       "      <td>66.780072</td>\n",
       "      <td>19.908156</td>\n",
       "      <td>5.812453</td>\n",
       "      <td>0.000000</td>\n",
       "      <td>21.039028</td>\n",
       "      <td>0.339455</td>\n",
       "      <td>20181214T040141_20181214T040614_T47RMQ</td>\n",
       "    </tr>\n",
       "    <tr>\n",
       "      <th>5</th>\n",
       "      <td>5</td>\n",
       "      <td>18.903568</td>\n",
       "      <td>18.903568</td>\n",
       "      <td>0.379157</td>\n",
       "      <td>0.053049</td>\n",
       "      <td>161.354782</td>\n",
       "      <td>54.890466</td>\n",
       "      <td>18.850519</td>\n",
       "      <td>0.000265</td>\n",
       "      <td>34.583881</td>\n",
       "      <td>0.091254</td>\n",
       "      <td>0.000000</td>\n",
       "      <td>31.012574</td>\n",
       "      <td>0.322896</td>\n",
       "      <td>20181214T040141_20181214T040614_T47RNN</td>\n",
       "    </tr>\n",
       "    <tr>\n",
       "      <th>6</th>\n",
       "      <td>6</td>\n",
       "      <td>53.787834</td>\n",
       "      <td>53.787834</td>\n",
       "      <td>2.458905</td>\n",
       "      <td>1.328964</td>\n",
       "      <td>161.494010</td>\n",
       "      <td>55.761550</td>\n",
       "      <td>52.458870</td>\n",
       "      <td>0.000999</td>\n",
       "      <td>13.686405</td>\n",
       "      <td>4.502356</td>\n",
       "      <td>0.000000</td>\n",
       "      <td>10.151763</td>\n",
       "      <td>0.367179</td>\n",
       "      <td>20181214T040141_20181214T040614_T47RNP</td>\n",
       "    </tr>\n",
       "    <tr>\n",
       "      <th>7</th>\n",
       "      <td>7</td>\n",
       "      <td>0.260257</td>\n",
       "      <td>0.260257</td>\n",
       "      <td>0.003981</td>\n",
       "      <td>0.001136</td>\n",
       "      <td>158.673625</td>\n",
       "      <td>52.970247</td>\n",
       "      <td>0.117641</td>\n",
       "      <td>49.491143</td>\n",
       "      <td>31.571388</td>\n",
       "      <td>0.000000</td>\n",
       "      <td>0.141479</td>\n",
       "      <td>52.108848</td>\n",
       "      <td>3.381146</td>\n",
       "      <td>20181215T042149_20181215T042612_T46RDQ</td>\n",
       "    </tr>\n",
       "    <tr>\n",
       "      <th>8</th>\n",
       "      <td>8</td>\n",
       "      <td>7.194223</td>\n",
       "      <td>7.194223</td>\n",
       "      <td>4.872518</td>\n",
       "      <td>5.612803</td>\n",
       "      <td>158.847031</td>\n",
       "      <td>53.832846</td>\n",
       "      <td>1.545657</td>\n",
       "      <td>70.210105</td>\n",
       "      <td>0.860547</td>\n",
       "      <td>0.637353</td>\n",
       "      <td>0.035762</td>\n",
       "      <td>76.332462</td>\n",
       "      <td>0.117634</td>\n",
       "      <td>20181215T042149_20181215T042612_T46RDR</td>\n",
       "    </tr>\n",
       "    <tr>\n",
       "      <th>9</th>\n",
       "      <td>9</td>\n",
       "      <td>53.825006</td>\n",
       "      <td>53.825006</td>\n",
       "      <td>6.225794</td>\n",
       "      <td>35.839781</td>\n",
       "      <td>159.011445</td>\n",
       "      <td>54.696035</td>\n",
       "      <td>17.985225</td>\n",
       "      <td>90.828639</td>\n",
       "      <td>1.832282</td>\n",
       "      <td>10.295168</td>\n",
       "      <td>0.000000</td>\n",
       "      <td>10.135921</td>\n",
       "      <td>0.200705</td>\n",
       "      <td>20181215T042149_20181215T042612_T46RDS</td>\n",
       "    </tr>\n",
       "  </tbody>\n",
       "</table>\n",
       "</div>"
      ],
      "text/plain": [
       "  Unnamed: 0  CLOUDY_PIXEL_PERCENTAGE  CLOUD_COVERAGE_ASSESSMENT  \\\n",
       "0          0                86.579939                  86.579939   \n",
       "1          1                46.629231                  46.629231   \n",
       "2          2                 9.505359                   9.505359   \n",
       "3          3                27.596579                  27.596579   \n",
       "4          4                21.791597                  21.791597   \n",
       "5          5                18.903568                  18.903568   \n",
       "6          6                53.787834                  53.787834   \n",
       "7          7                 0.260257                   0.260257   \n",
       "8          8                 7.194223                   7.194223   \n",
       "9          9                53.825006                  53.825006   \n",
       "\n",
       "   CLOUD_SHADOW_PERCENTAGE  HIGH_PROBA_CLOUDS_PERCENTAGE  \\\n",
       "0                 0.422118                     80.556136   \n",
       "1                 3.444717                     37.698048   \n",
       "2                 1.235486                      0.406014   \n",
       "3                 1.313108                      0.468651   \n",
       "4                 6.693710                      0.610146   \n",
       "5                 0.379157                      0.053049   \n",
       "6                 2.458905                      1.328964   \n",
       "7                 0.003981                      0.001136   \n",
       "8                 4.872518                      5.612803   \n",
       "9                 6.225794                     35.839781   \n",
       "\n",
       "   MEAN_SOLAR_AZIMUTH_ANGLE  MEAN_SOLAR_ZENITH_ANGLE  \\\n",
       "0                159.045797                54.617464   \n",
       "1                160.122222                54.314654   \n",
       "2                160.268900                55.182833   \n",
       "3                160.407713                56.051929   \n",
       "4                160.538775                56.921399   \n",
       "5                161.354782                54.890466   \n",
       "6                161.494010                55.761550   \n",
       "7                158.673625                52.970247   \n",
       "8                158.847031                53.832846   \n",
       "9                159.011445                54.696035   \n",
       "\n",
       "   MEDIUM_PROBA_CLOUDS_PERCENTAGE  NODATA_PIXEL_PERCENTAGE  \\\n",
       "0                        6.023803                94.515306   \n",
       "1                        8.931182                 5.643979   \n",
       "2                        9.099346                25.427961   \n",
       "3                       27.127928                46.247086   \n",
       "4                       21.181451                66.780072   \n",
       "5                       18.850519                 0.000265   \n",
       "6                       52.458870                 0.000999   \n",
       "7                        0.117641                49.491143   \n",
       "8                        1.545657                70.210105   \n",
       "9                       17.985225                90.828639   \n",
       "\n",
       "   NOT_VEGETATED_PERCENTAGE  SNOW_ICE_PERCENTAGE  THIN_CIRRUS_PERCENTAGE  \\\n",
       "0                  0.360174             6.818132                0.000000   \n",
       "1                 13.320494             5.318099                0.000000   \n",
       "2                 38.301545             2.924032                0.000000   \n",
       "3                 32.639039             2.265304                0.000000   \n",
       "4                 19.908156             5.812453                0.000000   \n",
       "5                 34.583881             0.091254                0.000000   \n",
       "6                 13.686405             4.502356                0.000000   \n",
       "7                 31.571388             0.000000                0.141479   \n",
       "8                  0.860547             0.637353                0.035762   \n",
       "9                  1.832282            10.295168                0.000000   \n",
       "\n",
       "   VEGETATION_PERCENTAGE  WATER_PERCENTAGE  \\\n",
       "0               0.346926          0.011312   \n",
       "1              12.208481          0.220743   \n",
       "2              27.085665          0.521541   \n",
       "3              20.091064          0.316699   \n",
       "4              21.039028          0.339455   \n",
       "5              31.012574          0.322896   \n",
       "6              10.151763          0.367179   \n",
       "7              52.108848          3.381146   \n",
       "8              76.332462          0.117634   \n",
       "9              10.135921          0.200705   \n",
       "\n",
       "                              Systemindex  \n",
       "0  20181214T040141_20181214T040614_T47RLM  \n",
       "1  20181214T040141_20181214T040614_T47RMM  \n",
       "2  20181214T040141_20181214T040614_T47RMN  \n",
       "3  20181214T040141_20181214T040614_T47RMP  \n",
       "4  20181214T040141_20181214T040614_T47RMQ  \n",
       "5  20181214T040141_20181214T040614_T47RNN  \n",
       "6  20181214T040141_20181214T040614_T47RNP  \n",
       "7  20181215T042149_20181215T042612_T46RDQ  \n",
       "8  20181215T042149_20181215T042612_T46RDR  \n",
       "9  20181215T042149_20181215T042612_T46RDS  "
      ]
     },
     "execution_count": 48,
     "metadata": {},
     "output_type": "execute_result"
    }
   ],
   "source": [
    "DataFrame.head(10)"
   ]
  },
  {
   "cell_type": "code",
   "execution_count": 50,
   "id": "810d99e5",
   "metadata": {
    "ExecuteTime": {
     "end_time": "2022-11-29T13:19:36.425976Z",
     "start_time": "2022-11-29T13:19:35.174037Z"
    }
   },
   "outputs": [
    {
     "data": {
      "text/plain": [
       "(array([2906., 1797., 1836., 1934., 2148., 2329., 2662., 3144., 3841.,\n",
       "        5711.]),\n",
       " array([  0.,  10.,  20.,  30.,  40.,  50.,  60.,  70.,  80.,  90., 100.]),\n",
       " <BarContainer object of 10 artists>)"
      ]
     },
     "execution_count": 50,
     "metadata": {},
     "output_type": "execute_result"
    },
    {
     "data": {
      "image/png": "[encoded data removed]",
      "text/plain": [
       "<Figure size 640x480 with 1 Axes>"
      ]
     },
     "metadata": {},
     "output_type": "display_data"
    }
   ],
   "source": [
    "import matplotlib.pyplot as plt \n",
    "plt.hist(DataFrame['CLOUDY_PIXEL_PERCENTAGE'])"
   ]
  }
 ],
 "metadata": {
  "hide_input": false,
  "kernelspec": {
   "display_name": "Python 3 (ipykernel)",
   "language": "python",
   "name": "python3"
  },
  "language_info": {
   "codemirror_mode": {
    "name": "ipython",
    "version": 3
   },
   "file_extension": ".py",
   "mimetype": "text/x-python",
   "name": "python",
   "nbconvert_exporter": "python",
   "pygments_lexer": "ipython3",
   "version": "3.8.15"
  },
  "nbTranslate": {
   "displayLangs": [
    "*"
   ],
   "hotkey": "alt-t",
   "langInMainMenu": true,
   "sourceLang": "en",
   "targetLang": "fr",
   "useGoogleTranslate": true
  },
  "toc": {
   "base_numbering": 1,
   "nav_menu": {},
   "number_sections": true,
   "sideBar": true,
   "skip_h1_title": false,
   "title_cell": "Table of Contents",
   "title_sidebar": "Contents",
   "toc_cell": false,
   "toc_position": {},
   "toc_section_display": true,
   "toc_window_display": false
  },
  "varInspector": {
   "cols": {
    "lenName": 16,
    "lenType": 16,
    "lenVar": 40
   },
   "kernels_config": {
    "python": {
     "delete_cmd_postfix": "",
     "delete_cmd_prefix": "del ",
     "library": "var_list.py",
     "varRefreshCmd": "print(var_dic_list())"
    },
    "r": {
     "delete_cmd_postfix": ") ",
     "delete_cmd_prefix": "rm(",
     "library": "var_list.r",
     "varRefreshCmd": "cat(var_dic_list()) "
    }
   },
   "types_to_exclude": [
    "module",
    "function",
    "builtin_function_or_method",
    "instance",
    "_Feature"
   ],
   "window_display": false
  }
 },
 "nbformat": 4,
 "nbformat_minor": 5
}
