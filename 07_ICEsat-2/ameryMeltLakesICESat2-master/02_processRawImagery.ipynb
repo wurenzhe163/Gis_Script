{
 "cells": [
  {
   "cell_type": "markdown",
   "metadata": {},
   "source": [
    "# Process Sentinel-2 imagery for plotting\n",
    "This script makes RGB true-color images from Sentinel-2 data from Jan 2 2019 for the area of this study, and creates smaller images for each of the 4 melt ponds. "
   ]
  },
  {
   "cell_type": "code",
   "execution_count": 1,
   "metadata": {},
   "outputs": [],
   "source": [
    "%matplotlib notebook\n",
    "import pandas as pd\n",
    "import geopandas as gpd\n",
    "import os\n",
    "import matplotlib.pyplot as plt\n",
    "import numpy as np\n",
    "import rasterio as rio\n",
    "from rasterio import plot\n",
    "from rasterio import warp\n",
    "from rasterio.warp import reproject, Resampling, calculate_default_transform\n",
    "from rasterio.enums import ColorInterp\n",
    "from rasterio.windows import Window\n",
    "from rasterio.transform import TransformMethodsMixin\n",
    "from scipy import interpolate\n",
    "from os import listdir, makedirs\n",
    "from os.path import isfile, join, exists\n",
    "import matplotlib\n",
    "import matplotlib.pyplot as plt\n",
    "import matplotlib.gridspec as gridspec\n",
    "import pickle as pkl"
   ]
  },
  {
   "cell_type": "markdown",
   "metadata": {},
   "source": [
    "## To get the imagery, copy from S3 \n",
    "...because it's in the Long Term Archive at ESA\n",
    "\n",
    "The S3 locations can be found through this tool: https://apps.sentinel-hub.com/eo-browser/?zoom=5&lat=-71.62214&lng=62.24639&themeId=DEFAULT-THEME\n",
    "\n",
    "(need AWS account because it's in a requester pays bucket)"
   ]
  },
  {
   "cell_type": "code",
   "execution_count": 7,
   "metadata": {},
   "outputs": [],
   "source": [
    "s2dat = 'data/sentinel2/'\n",
    "if not exists(s2dat):\n",
    "    makedirs(s2dat)\n",
    "for tilenum in np.arange(8,14):\n",
    "    thisdir = s2dat + 'raw/%d/' % tilenum\n",
    "    if not exists(thisdir):\n",
    "        makedirs(thisdir)\n",
    "        \n",
    "# # these are the commands for downloading S2 tiles from AWS S3 using AWS CLI\n",
    "# !aws s3 cp s3://sentinel-s2-l2a/tiles/41/C/NU/2019/1/2/0/R10m/ /mnt/c/Users/phili/Google\\ Drive/Documents/SIO/PycharmProjects/ameryMeltICESat2/data/sentinel2/raw/8/ --recursive --request-payer\n",
    "# !aws s3 cp s3://sentinel-s2-l2a/tiles/42/C/VD/2019/1/2/0/R10m/ /mnt/c/Users/phili/Google\\ Drive/Documents/SIO/PycharmProjects/ameryMeltICESat2/data/sentinel2/raw/9/ --recursive --request-payer\n",
    "# !aws s3 cp s3://sentinel-s2-l2a/tiles/41/D/NA/2019/1/2/0/R10m/ /mnt/c/Users/phili/Google\\ Drive/Documents/SIO/PycharmProjects/ameryMeltICESat2/data/sentinel2/raw/10/ --recursive --request-payer\n",
    "# !aws s3 cp s3://sentinel-s2-l2a/tiles/41/C/NV/2019/1/2/0/R10m/ /mnt/c/Users/phili/Google\\ Drive/Documents/SIO/PycharmProjects/ameryMeltICESat2/data/sentinel2/raw/11/ --recursive --request-payer\n",
    "# !aws s3 cp s3://sentinel-s2-l2a/tiles/41/D/PA/2019/1/2/0/R10m/ /mnt/c/Users/phili/Google\\ Drive/Documents/SIO/PycharmProjects/ameryMeltICESat2/data/sentinel2/raw/12/ --recursive --request-payer\n",
    "# !aws s3 cp s3://sentinel-s2-l2a/tiles/41/C/PV/2019/1/2/0/R10m/ /mnt/c/Users/phili/Google\\ Drive/Documents/SIO/PycharmProjects/ameryMeltICESat2/data/sentinel2/raw/13/ --recursive --request-payer"
   ]
  },
  {
   "cell_type": "markdown",
   "metadata": {},
   "source": [
    "## make 8-bit RGB true color images"
   ]
  },
  {
   "cell_type": "code",
   "execution_count": 3,
   "metadata": {},
   "outputs": [
    {
     "name": "stdout",
     "output_type": "stream",
     "text": [
      "CPU times: user 15min 15s, sys: 1min, total: 16min 16s\n",
      "Wall time: 3min 17s\n"
     ]
    }
   ],
   "source": [
    "%%time\n",
    "tc = s2dat + 'truecolor/'\n",
    "if not exists(tc):\n",
    "    makedirs(tc)\n",
    "    \n",
    "for tilenum in np.arange(8,14):\n",
    "    imgdat = s2dat + 'raw/%d/' % tilenum\n",
    "    r = rio.open(imgdat+'B04.jp2', driver='JP2OpenJPEG')\n",
    "    g = rio.open(imgdat+'B03.jp2', driver='JP2OpenJPEG')\n",
    "    b = rio.open(imgdat+'B02.jp2', driver='JP2OpenJPEG')\n",
    "\n",
    "    #export true color image\n",
    "    outname = tc + 'SentinelTrueColor%d.tiff' % tilenum\n",
    "    if tilenum == 9:  # this image is a different CRS so save as different filename\n",
    "        outname = tc + 'SentinelTrueColor9_alt.tiff'\n",
    "    trueColor = rio.open(outname, 'w', driver='Gtiff',\n",
    "                         width=r.width, height=r.height,\n",
    "                         count=3,\n",
    "                         crs=r.crs,\n",
    "                         transform=r.transform,\n",
    "                         dtype='uint8')\n",
    "    trueColor.profile['photometric'] = \"RGB\"\n",
    "    trueColor.colorinterp = [ColorInterp.red, ColorInterp.green, ColorInterp.blue]\n",
    "    \n",
    "    factor = 0.02\n",
    "    rband = r.read(1)*factor\n",
    "    gband = g.read(1)*factor\n",
    "    bband = b.read(1)*factor\n",
    "    rband[rband>255] = 255\n",
    "    gband[gband>255] = 255\n",
    "    bband[bband>255] = 255\n",
    "    \n",
    "    # write to file (need to multiply by a factor to go from uint16 to uint8)\n",
    "    trueColor.write(rband.astype(np.uint8), 1)\n",
    "    trueColor.write(gband.astype(np.uint8), 2)\n",
    "    trueColor.write(bband.astype(np.uint8), 3)\n",
    "    trueColor.close()"
   ]
  },
  {
   "cell_type": "markdown",
   "metadata": {},
   "source": [
    "## write smaller, windowed files for individual ponds \n",
    "(these are used for the inset axes where the ponds are shown magnified)"
   ]
  },
  {
   "cell_type": "code",
   "execution_count": 4,
   "metadata": {},
   "outputs": [],
   "source": [
    "%%time\n",
    "ponddir = s2dat + 'ponds/'\n",
    "if not exists(ponddir):\n",
    "    makedirs(ponddir)\n",
    "\n",
    "# limits for images in CRS\n",
    "xls = [(634423.1752651753, 643701.4824069294),\n",
    "       (635265.0812945361, 648049.5670659576),\n",
    "       (659819.6180634786, 669507.1880767047),\n",
    "       (665429.7291041224, 675379.7684254167)]\n",
    "yls = [(1891121.2487189926, 1900283.3348944616),\n",
    "       (1900696.8178272631, 1913898.1890042746),\n",
    "       (2014352.220285779, 2024130.328336512),\n",
    "       (2039552.1048050749, 2049167.6890231324)]\n",
    "\n",
    "tiles = [13,13,12,12]\n",
    "for pid, tilenum in enumerate(tiles):\n",
    "    pond = 'pond%d' % (pid+1)\n",
    "    imgdat = s2dat + 'raw/%d/' % tilenum\n",
    "    \n",
    "    # make window\n",
    "    bd = rio.open(imgdat+'B04.jp2', driver='JP2OpenJPEG')\n",
    "    ll = TransformMethodsMixin.index(bd,xls[pid][0],yls[pid][0])\n",
    "    ur = TransformMethodsMixin.index(bd,xls[pid][1],yls[pid][1])\n",
    "    col_off = np.min((ll[1],ur[1]))\n",
    "    row_off = np.min((ll[0],ur[0]))\n",
    "    width = np.abs(ll[1]-ur[1])\n",
    "    height = np.abs(ll[0]-ur[0])\n",
    "    wd = Window(col_off=col_off, row_off=row_off, width=width, height=width)\n",
    "\n",
    "    # set up true color image for export\n",
    "    outname = ponddir + '%s_alt.tiff' % pond\n",
    "    trueColor = rio.open(outname, 'w', driver='Gtiff',\n",
    "                         width=width, height=width,\n",
    "                         count=3,\n",
    "                         crs=bd.crs,\n",
    "                         #transform=bd.transform,\n",
    "                         transform = bd.window_transform(wd),\n",
    "                         dtype='uint8')\n",
    "    trueColor.profile['photometric'] = \"RGB\"\n",
    "    trueColor.colorinterp = [ColorInterp.red, ColorInterp.green, ColorInterp.blue]\n",
    "    \n",
    "    # read in windowed bands\n",
    "    r = rio.open(imgdat+'B04.jp2', driver='JP2OpenJPEG')\n",
    "    g = rio.open(imgdat+'B03.jp2', driver='JP2OpenJPEG')\n",
    "    b = rio.open(imgdat+'B02.jp2', driver='JP2OpenJPEG')\n",
    "    factor = 0.025\n",
    "    rband = r.read(1,window=wd)*factor\n",
    "    gband = g.read(1,window=wd)*factor\n",
    "    bband = b.read(1,window=wd)*factor\n",
    "    rband[rband>255] = 255\n",
    "    gband[gband>255] = 255\n",
    "    bband[bband>255] = 255\n",
    "    \n",
    "    # write to file (need to multiply by a factor to go from uint16 to uint8)\n",
    "    trueColor.write(rband.astype(np.uint8), 1)\n",
    "    trueColor.write(gband.astype(np.uint8), 2)\n",
    "    trueColor.write(bband.astype(np.uint8), 3)\n",
    "    trueColor.close()"
   ]
  },
  {
   "cell_type": "markdown",
   "metadata": {},
   "source": [
    "## reproject lower right image\n",
    "it's in a different CRS, so need to reproject to plot together with the others on the map"
   ]
  },
  {
   "cell_type": "code",
   "execution_count": 5,
   "metadata": {},
   "outputs": [],
   "source": [
    "%%time\n",
    "fnsrc = tc + 'SentinelTrueColor9_alt.tiff'\n",
    "fndst = tc + 'SentinelTrueColor9.tiff'\n",
    "\n",
    "refImg = rio.open('data/sentinel2/truecolor/SentinelTrueColor13.tiff')\n",
    "dst_crs = refImg.crs\n",
    "\n",
    "with rio.open(fnsrc) as src:\n",
    "    transform, width, height = calculate_default_transform(\n",
    "        src.crs, dst_crs, src.width, src.height, *src.bounds)\n",
    "    kwargs = src.meta.copy()\n",
    "    kwargs.update({\n",
    "        'crs': dst_crs,\n",
    "        'transform': transform,\n",
    "        'width': width,\n",
    "        'height': height\n",
    "    })\n",
    "\n",
    "    with rio.open(fndst, 'w', **kwargs) as dst:\n",
    "        for i in range(1, src.count + 1):\n",
    "            reproject(\n",
    "                source=rio.band(src, i),\n",
    "                destination=rio.band(dst, i),\n",
    "                src_transform=src.transform,\n",
    "                src_crs=src.crs,\n",
    "                dst_transform=transform,\n",
    "                dst_crs=dst_crs,\n",
    "                resampling=Resampling.nearest)"
   ]
  },
  {
   "cell_type": "markdown",
   "metadata": {},
   "source": [
    "## scaled down true color images\n",
    "(for figure 1, where the whole scene is shown)"
   ]
  },
  {
   "cell_type": "code",
   "execution_count": 6,
   "metadata": {},
   "outputs": [],
   "source": [
    "%%time\n",
    "for tilenum in np.arange(8,14):\n",
    "    imgdat = tc + 'SentinelTrueColor%d.tiff' % tilenum\n",
    "    outname = tc + 'SentinelTrueColor%d_small.tiff' % tilenum\n",
    "    \n",
    "    upscale_factor = 0.2\n",
    "    refImg = rio.open(imgdat)\n",
    "    h = int(refImg.height * upscale_factor)\n",
    "    w = int(refImg.width * upscale_factor)\n",
    "    data = refImg.read(out_shape=(3,h,w),resampling=Resampling.average)\n",
    "\n",
    "    # scale image transform\n",
    "    transform = refImg.transform * refImg.transform.scale((refImg.width / data.shape[-1]),(refImg.height / data.shape[-2]))\n",
    "    trueColor = rio.open(outname, 'w', driver='Gtiff',\n",
    "                         width=w, height=h,\n",
    "                         count=3,\n",
    "                         crs=refImg.crs,\n",
    "                         transform=transform,\n",
    "                         dtype='uint8')\n",
    "    trueColor.profile['photometric'] = \"RGB\"\n",
    "    trueColor.colorinterp = [ColorInterp.red, ColorInterp.green, ColorInterp.blue]\n",
    "    \n",
    "    # write to file (need to multiply by a factor to go from uint16 to uint8)\n",
    "    trueColor.write(data.astype(np.uint8), [1,2,3])\n",
    "    trueColor.close()"
   ]
  }
 ],
 "metadata": {
  "kernelspec": {
   "display_name": "geo_py37",
   "language": "python",
   "name": "geo_py37"
  },
  "language_info": {
   "codemirror_mode": {
    "name": "ipython",
    "version": 3
   },
   "file_extension": ".py",
   "mimetype": "text/x-python",
   "name": "python",
   "nbconvert_exporter": "python",
   "pygments_lexer": "ipython3",
   "version": "3.7.6"
  }
 },
 "nbformat": 4,
 "nbformat_minor": 4
}
